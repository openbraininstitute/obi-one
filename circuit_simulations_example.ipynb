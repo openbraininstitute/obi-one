{
 "cells": [
  {
   "cell_type": "code",
   "execution_count": 1,
   "metadata": {},
   "outputs": [
    {
     "name": "stdout",
     "output_type": "stream",
     "text": [
      "\n",
      "Multiple Value Parameters\n",
      "timestamps.timestamps_1.interval: [1.0, 5.0]\n",
      "stimuli.stimulus_1.spike_probability: [0.5, 0.8]\n",
      "initialize.simulation_length: [100.0, 500.0]\n",
      "[((['timestamps', 'timestamps_1', 'interval'], 1.0), (['stimuli', 'stimulus_1', 'spike_probability'], 0.5), (['initialize', 'simulation_length'], 100.0)), ((['timestamps', 'timestamps_1', 'interval'], 1.0), (['stimuli', 'stimulus_1', 'spike_probability'], 0.5), (['initialize', 'simulation_length'], 500.0)), ((['timestamps', 'timestamps_1', 'interval'], 1.0), (['stimuli', 'stimulus_1', 'spike_probability'], 0.8), (['initialize', 'simulation_length'], 100.0)), ((['timestamps', 'timestamps_1', 'interval'], 1.0), (['stimuli', 'stimulus_1', 'spike_probability'], 0.8), (['initialize', 'simulation_length'], 500.0)), ((['timestamps', 'timestamps_1', 'interval'], 5.0), (['stimuli', 'stimulus_1', 'spike_probability'], 0.5), (['initialize', 'simulation_length'], 100.0)), ((['timestamps', 'timestamps_1', 'interval'], 5.0), (['stimuli', 'stimulus_1', 'spike_probability'], 0.5), (['initialize', 'simulation_length'], 500.0)), ((['timestamps', 'timestamps_1', 'interval'], 5.0), (['stimuli', 'stimulus_1', 'spike_probability'], 0.8), (['initialize', 'simulation_length'], 100.0)), ((['timestamps', 'timestamps_1', 'interval'], 5.0), (['stimuli', 'stimulus_1', 'spike_probability'], 0.8), (['initialize', 'simulation_length'], 500.0))]\n",
      "[Simulation(timestamps={'timestamps_1': RegularTimestamps(start_time=0.0, number_of_repetitions=1, interval=1.0)}, stimuli={'stimulus_1': SynchronousSingleSpikeStimulus(synapse_set=IDSynapseSet(circuit=Circuit(circuit_path='circuit_1', node_set='hex0'), synapse_ids=(1, 2, 3)), timestamps=RegularTimestamps(start_time=0.0, number_of_repetitions=1, interval=1.0), spike_probability=0.5)}, recordings={'recording_1': IntracellularLocationSetVoltageRecording(start_time=0.0, end_time=1.0, recording_type='voltage', dt=0.1, intracellular_location_set=IntracellularLocationSet(neuron_ids=(1, 2, 3), section='soma'))}, neuron_sets={'id_neuron_set_1': IDNeuronSet(circuit=Circuit(circuit_path='circuit_1', node_set='hex0'), neuron_ids=(1, 2, 3))}, synapse_sets={'id_synapse_set_1': IDSynapseSet(circuit=Circuit(circuit_path='circuit_1', node_set='hex0'), synapse_ids=(1, 2, 3))}, intracellular_location_sets={'id_intracellular_location_set_1': IntracellularLocationSet(neuron_ids=(1, 2, 3), section='soma')}, extracellular_location_sets={'xyz_extracellular_location_set_1': XYZExtracellularLocationSet(xyz_locations=((0.9, 0.2, 0.3), (0.1, 0.1, 0.3)))}, initialize=Initialize(circuit=Circuit(circuit_path='circuit_1', node_set='hex0'), simulation_length=100.0, random_seed=1, extracellular_calcium_concentration=1.1, v_init=-80.0, sonata_version=1, target_simulator='CORENEURON', timestep=0.025)), Simulation(timestamps={'timestamps_1': RegularTimestamps(start_time=0.0, number_of_repetitions=1, interval=1.0)}, stimuli={'stimulus_1': SynchronousSingleSpikeStimulus(synapse_set=IDSynapseSet(circuit=Circuit(circuit_path='circuit_1', node_set='hex0'), synapse_ids=(1, 2, 3)), timestamps=RegularTimestamps(start_time=0.0, number_of_repetitions=1, interval=1.0), spike_probability=0.5)}, recordings={'recording_1': IntracellularLocationSetVoltageRecording(start_time=0.0, end_time=1.0, recording_type='voltage', dt=0.1, intracellular_location_set=IntracellularLocationSet(neuron_ids=(1, 2, 3), section='soma'))}, neuron_sets={'id_neuron_set_1': IDNeuronSet(circuit=Circuit(circuit_path='circuit_1', node_set='hex0'), neuron_ids=(1, 2, 3))}, synapse_sets={'id_synapse_set_1': IDSynapseSet(circuit=Circuit(circuit_path='circuit_1', node_set='hex0'), synapse_ids=(1, 2, 3))}, intracellular_location_sets={'id_intracellular_location_set_1': IntracellularLocationSet(neuron_ids=(1, 2, 3), section='soma')}, extracellular_location_sets={'xyz_extracellular_location_set_1': XYZExtracellularLocationSet(xyz_locations=((0.9, 0.2, 0.3), (0.1, 0.1, 0.3)))}, initialize=Initialize(circuit=Circuit(circuit_path='circuit_1', node_set='hex0'), simulation_length=500.0, random_seed=1, extracellular_calcium_concentration=1.1, v_init=-80.0, sonata_version=1, target_simulator='CORENEURON', timestep=0.025)), Simulation(timestamps={'timestamps_1': RegularTimestamps(start_time=0.0, number_of_repetitions=1, interval=1.0)}, stimuli={'stimulus_1': SynchronousSingleSpikeStimulus(synapse_set=IDSynapseSet(circuit=Circuit(circuit_path='circuit_1', node_set='hex0'), synapse_ids=(1, 2, 3)), timestamps=RegularTimestamps(start_time=0.0, number_of_repetitions=1, interval=1.0), spike_probability=0.8)}, recordings={'recording_1': IntracellularLocationSetVoltageRecording(start_time=0.0, end_time=1.0, recording_type='voltage', dt=0.1, intracellular_location_set=IntracellularLocationSet(neuron_ids=(1, 2, 3), section='soma'))}, neuron_sets={'id_neuron_set_1': IDNeuronSet(circuit=Circuit(circuit_path='circuit_1', node_set='hex0'), neuron_ids=(1, 2, 3))}, synapse_sets={'id_synapse_set_1': IDSynapseSet(circuit=Circuit(circuit_path='circuit_1', node_set='hex0'), synapse_ids=(1, 2, 3))}, intracellular_location_sets={'id_intracellular_location_set_1': IntracellularLocationSet(neuron_ids=(1, 2, 3), section='soma')}, extracellular_location_sets={'xyz_extracellular_location_set_1': XYZExtracellularLocationSet(xyz_locations=((0.9, 0.2, 0.3), (0.1, 0.1, 0.3)))}, initialize=Initialize(circuit=Circuit(circuit_path='circuit_1', node_set='hex0'), simulation_length=100.0, random_seed=1, extracellular_calcium_concentration=1.1, v_init=-80.0, sonata_version=1, target_simulator='CORENEURON', timestep=0.025)), Simulation(timestamps={'timestamps_1': RegularTimestamps(start_time=0.0, number_of_repetitions=1, interval=1.0)}, stimuli={'stimulus_1': SynchronousSingleSpikeStimulus(synapse_set=IDSynapseSet(circuit=Circuit(circuit_path='circuit_1', node_set='hex0'), synapse_ids=(1, 2, 3)), timestamps=RegularTimestamps(start_time=0.0, number_of_repetitions=1, interval=1.0), spike_probability=0.8)}, recordings={'recording_1': IntracellularLocationSetVoltageRecording(start_time=0.0, end_time=1.0, recording_type='voltage', dt=0.1, intracellular_location_set=IntracellularLocationSet(neuron_ids=(1, 2, 3), section='soma'))}, neuron_sets={'id_neuron_set_1': IDNeuronSet(circuit=Circuit(circuit_path='circuit_1', node_set='hex0'), neuron_ids=(1, 2, 3))}, synapse_sets={'id_synapse_set_1': IDSynapseSet(circuit=Circuit(circuit_path='circuit_1', node_set='hex0'), synapse_ids=(1, 2, 3))}, intracellular_location_sets={'id_intracellular_location_set_1': IntracellularLocationSet(neuron_ids=(1, 2, 3), section='soma')}, extracellular_location_sets={'xyz_extracellular_location_set_1': XYZExtracellularLocationSet(xyz_locations=((0.9, 0.2, 0.3), (0.1, 0.1, 0.3)))}, initialize=Initialize(circuit=Circuit(circuit_path='circuit_1', node_set='hex0'), simulation_length=500.0, random_seed=1, extracellular_calcium_concentration=1.1, v_init=-80.0, sonata_version=1, target_simulator='CORENEURON', timestep=0.025)), Simulation(timestamps={'timestamps_1': RegularTimestamps(start_time=0.0, number_of_repetitions=1, interval=5.0)}, stimuli={'stimulus_1': SynchronousSingleSpikeStimulus(synapse_set=IDSynapseSet(circuit=Circuit(circuit_path='circuit_1', node_set='hex0'), synapse_ids=(1, 2, 3)), timestamps=RegularTimestamps(start_time=0.0, number_of_repetitions=1, interval=5.0), spike_probability=0.5)}, recordings={'recording_1': IntracellularLocationSetVoltageRecording(start_time=0.0, end_time=1.0, recording_type='voltage', dt=0.1, intracellular_location_set=IntracellularLocationSet(neuron_ids=(1, 2, 3), section='soma'))}, neuron_sets={'id_neuron_set_1': IDNeuronSet(circuit=Circuit(circuit_path='circuit_1', node_set='hex0'), neuron_ids=(1, 2, 3))}, synapse_sets={'id_synapse_set_1': IDSynapseSet(circuit=Circuit(circuit_path='circuit_1', node_set='hex0'), synapse_ids=(1, 2, 3))}, intracellular_location_sets={'id_intracellular_location_set_1': IntracellularLocationSet(neuron_ids=(1, 2, 3), section='soma')}, extracellular_location_sets={'xyz_extracellular_location_set_1': XYZExtracellularLocationSet(xyz_locations=((0.9, 0.2, 0.3), (0.1, 0.1, 0.3)))}, initialize=Initialize(circuit=Circuit(circuit_path='circuit_1', node_set='hex0'), simulation_length=100.0, random_seed=1, extracellular_calcium_concentration=1.1, v_init=-80.0, sonata_version=1, target_simulator='CORENEURON', timestep=0.025)), Simulation(timestamps={'timestamps_1': RegularTimestamps(start_time=0.0, number_of_repetitions=1, interval=5.0)}, stimuli={'stimulus_1': SynchronousSingleSpikeStimulus(synapse_set=IDSynapseSet(circuit=Circuit(circuit_path='circuit_1', node_set='hex0'), synapse_ids=(1, 2, 3)), timestamps=RegularTimestamps(start_time=0.0, number_of_repetitions=1, interval=5.0), spike_probability=0.5)}, recordings={'recording_1': IntracellularLocationSetVoltageRecording(start_time=0.0, end_time=1.0, recording_type='voltage', dt=0.1, intracellular_location_set=IntracellularLocationSet(neuron_ids=(1, 2, 3), section='soma'))}, neuron_sets={'id_neuron_set_1': IDNeuronSet(circuit=Circuit(circuit_path='circuit_1', node_set='hex0'), neuron_ids=(1, 2, 3))}, synapse_sets={'id_synapse_set_1': IDSynapseSet(circuit=Circuit(circuit_path='circuit_1', node_set='hex0'), synapse_ids=(1, 2, 3))}, intracellular_location_sets={'id_intracellular_location_set_1': IntracellularLocationSet(neuron_ids=(1, 2, 3), section='soma')}, extracellular_location_sets={'xyz_extracellular_location_set_1': XYZExtracellularLocationSet(xyz_locations=((0.9, 0.2, 0.3), (0.1, 0.1, 0.3)))}, initialize=Initialize(circuit=Circuit(circuit_path='circuit_1', node_set='hex0'), simulation_length=500.0, random_seed=1, extracellular_calcium_concentration=1.1, v_init=-80.0, sonata_version=1, target_simulator='CORENEURON', timestep=0.025)), Simulation(timestamps={'timestamps_1': RegularTimestamps(start_time=0.0, number_of_repetitions=1, interval=5.0)}, stimuli={'stimulus_1': SynchronousSingleSpikeStimulus(synapse_set=IDSynapseSet(circuit=Circuit(circuit_path='circuit_1', node_set='hex0'), synapse_ids=(1, 2, 3)), timestamps=RegularTimestamps(start_time=0.0, number_of_repetitions=1, interval=5.0), spike_probability=0.8)}, recordings={'recording_1': IntracellularLocationSetVoltageRecording(start_time=0.0, end_time=1.0, recording_type='voltage', dt=0.1, intracellular_location_set=IntracellularLocationSet(neuron_ids=(1, 2, 3), section='soma'))}, neuron_sets={'id_neuron_set_1': IDNeuronSet(circuit=Circuit(circuit_path='circuit_1', node_set='hex0'), neuron_ids=(1, 2, 3))}, synapse_sets={'id_synapse_set_1': IDSynapseSet(circuit=Circuit(circuit_path='circuit_1', node_set='hex0'), synapse_ids=(1, 2, 3))}, intracellular_location_sets={'id_intracellular_location_set_1': IntracellularLocationSet(neuron_ids=(1, 2, 3), section='soma')}, extracellular_location_sets={'xyz_extracellular_location_set_1': XYZExtracellularLocationSet(xyz_locations=((0.9, 0.2, 0.3), (0.1, 0.1, 0.3)))}, initialize=Initialize(circuit=Circuit(circuit_path='circuit_1', node_set='hex0'), simulation_length=100.0, random_seed=1, extracellular_calcium_concentration=1.1, v_init=-80.0, sonata_version=1, target_simulator='CORENEURON', timestep=0.025)), Simulation(timestamps={'timestamps_1': RegularTimestamps(start_time=0.0, number_of_repetitions=1, interval=5.0)}, stimuli={'stimulus_1': SynchronousSingleSpikeStimulus(synapse_set=IDSynapseSet(circuit=Circuit(circuit_path='circuit_1', node_set='hex0'), synapse_ids=(1, 2, 3)), timestamps=RegularTimestamps(start_time=0.0, number_of_repetitions=1, interval=5.0), spike_probability=0.8)}, recordings={'recording_1': IntracellularLocationSetVoltageRecording(start_time=0.0, end_time=1.0, recording_type='voltage', dt=0.1, intracellular_location_set=IntracellularLocationSet(neuron_ids=(1, 2, 3), section='soma'))}, neuron_sets={'id_neuron_set_1': IDNeuronSet(circuit=Circuit(circuit_path='circuit_1', node_set='hex0'), neuron_ids=(1, 2, 3))}, synapse_sets={'id_synapse_set_1': IDSynapseSet(circuit=Circuit(circuit_path='circuit_1', node_set='hex0'), synapse_ids=(1, 2, 3))}, intracellular_location_sets={'id_intracellular_location_set_1': IntracellularLocationSet(neuron_ids=(1, 2, 3), section='soma')}, extracellular_location_sets={'xyz_extracellular_location_set_1': XYZExtracellularLocationSet(xyz_locations=((0.9, 0.2, 0.3), (0.1, 0.1, 0.3)))}, initialize=Initialize(circuit=Circuit(circuit_path='circuit_1', node_set='hex0'), simulation_length=500.0, random_seed=1, extracellular_calcium_concentration=1.1, v_init=-80.0, sonata_version=1, target_simulator='CORENEURON', timestep=0.025))]\n"
     ]
    }
   ],
   "source": [
    "import obi\n",
    "\n",
    "\"\"\"\n",
    "Define Blocks\n",
    "\"\"\"\n",
    "simulations_initialize = obi.SimulationsForm.Initialize(\n",
    "    circuit=obi.Circuit(circuit_path=\"circuit_1\", node_set='hex0'),\n",
    "    simulation_length=[100, 500]\n",
    ")\n",
    "intracellular_location_set_1 = obi.IntracellularLocationSet(circuit=simulations_initialize.circuit, neuron_ids=(1, 2, 3), section='soma')\n",
    "xyz_extracellular_location_set_1 = obi.XYZExtracellularLocationSet(circuit=simulations_initialize.circuit, xyz_locations=((0.9, 0.2, 0.3), (0.1, 0.1, 0.3)))\n",
    "\n",
    "id_neuron_set_1 = obi.IDNeuronSet(circuit=simulations_initialize.circuit, neuron_ids=(1, 2, 3))\n",
    "id_synapse_set_1 = obi.IDSynapseSet(circuit=simulations_initialize.circuit, synapse_ids=(1, 2, 3))\n",
    "\n",
    "timestamps_1 = obi.RegularTimestamps(start_time=0.0, number_of_repetitions=1, interval=[1.0, 5.0])\n",
    "stimulus_1 = obi.SynchronousSingleSpikeStimulus(spike_probability=[0.5, 0.8], timestamps=timestamps_1, synapse_set=id_synapse_set_1)\n",
    "recording_1 = obi.IntracellularLocationSetVoltageRecording(start_time=0.0, end_time=1.0, intracellular_location_set=intracellular_location_set_1)\n",
    "\n",
    "\"\"\"\n",
    "Fill form with Blocks\n",
    "\"\"\"\n",
    "simulations_form = obi.SimulationsForm(\n",
    "                                    initialize=simulations_initialize,\n",
    "\n",
    "                                    intracellular_location_sets={\"id_intracellular_location_set_1\": intracellular_location_set_1},\n",
    "                                    extracellular_location_sets={\"xyz_extracellular_location_set_1\": xyz_extracellular_location_set_1},\n",
    "\n",
    "                                    neuron_sets={\"id_neuron_set_1\": id_neuron_set_1},\n",
    "                                    synapse_sets={\"id_synapse_set_1\": id_synapse_set_1},\n",
    "\n",
    "                                    timestamps={\"timestamps_1\": timestamps_1}, \n",
    "                                    stimuli={\"stimulus_1\": stimulus_1}, \n",
    "                                    recordings={\"recording_1\": recording_1},\n",
    "                                    )\n",
    "\n",
    "\"\"\"\n",
    "Create Scans\n",
    "\"\"\"\n",
    "grid_scan = obi.GridScan(form=simulations_form)\n",
    "grid_scan.display_multiple_value_parameters()\n",
    "print(grid_scan.coordinate_parameters)\n",
    "print(grid_scan.coordinate_instances)\n",
    "\n",
    "# coupled_scan = obi.CoupledScan(form=simulations_form)\n",
    "# grid_scan.multiple_value_parameters\n",
    "# coupled_scan.coordinate_instances\n"
   ]
  },
  {
   "cell_type": "code",
   "execution_count": null,
   "metadata": {},
   "outputs": [],
   "source": [
    "\"\"\"\n",
    "Write Configs\n",
    "\"\"\"\n",
    "grid_scan.write_configs('../simulation_configs_GRID')\n",
    "coupled_scan.write_configs('../simulation_configs_COUPLED_COORDS')\n",
    "\n",
    "\n",
    "\"\"\"\n",
    "Misc\n",
    "\"\"\"\n",
    "# print(grid_scan.coordinate_instances[0].recordings)\n",
    "# print(simulation_scan_Form.multiple_value_parameters)\n",
    "# print(simulation_scan_Form.generate_coupled_scan_coords())\n",
    "# print(simulation_scan_Form.coordinate_parameters())\n"
   ]
  }
 ],
 "metadata": {
  "kernelspec": {
   "display_name": ".venv",
   "language": "python",
   "name": "python3"
  },
  "language_info": {
   "codemirror_mode": {
    "name": "ipython",
    "version": 3
   },
   "file_extension": ".py",
   "mimetype": "text/x-python",
   "name": "python",
   "nbconvert_exporter": "python",
   "pygments_lexer": "ipython3",
   "version": "3.11.11"
  }
 },
 "nbformat": 4,
 "nbformat_minor": 2
}
