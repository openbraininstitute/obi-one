{
 "cells": [
  {
   "cell_type": "code",
   "execution_count": 1,
   "metadata": {},
   "outputs": [],
   "source": [
    "import obi\n",
    "\n",
    "circuit_extractions_form = obi.CircuitExtractions(\n",
    "                    initialize=obi.CircuitExtractions.Initialize(\n",
    "                        circuit_path=\"/Users/james/Documents/obi/additional_data/ToyCircuit-S1-6k/circuit_config.json\",\n",
    "                        output_root=\"../derivative_subcircuits/ToyCircuit-S1-6k/\",\n",
    "                        node_set=[\"Excitatory\", \"Inhibitory\", \"Layer5Excitatory\", \"Layer5Inhibitory\"],\n",
    "                    )\n",
    ")\n",
    "\n",
    "grid_scan = obi.GridScan(form=circuit_extractions_form)"
   ]
  },
  {
   "cell_type": "code",
   "execution_count": null,
   "metadata": {},
   "outputs": [
    {
     "name": "stdout",
     "output_type": "stream",
     "text": [
      "\n",
      "MULTIPLE VALUE PARAMETERS\n",
      "initialize.node_set: ['Excitatory', 'Inhibitory', 'Layer5Excitatory', 'Layer5Inhibitory']\n",
      "\n",
      "COORDINATE PARAMETERS\n",
      "initialize.node_set: Excitatory\n",
      "initialize.node_set: Inhibitory\n",
      "initialize.node_set: Layer5Excitatory\n",
      "initialize.node_set: Layer5Inhibitory\n",
      "\n",
      "COORDINATE INSTANCES\n",
      "CircuitExtraction(initialize=Initialize(circuit_path='/Users/james/Documents/obi/additional_data/ToyCircuit-S1-6k/circuit_config.json', output_root='../derivative_subcircuits/ToyCircuit-S1-6k/', node_set='Excitatory'))\n",
      "CircuitExtraction(initialize=Initialize(circuit_path='/Users/james/Documents/obi/additional_data/ToyCircuit-S1-6k/circuit_config.json', output_root='../derivative_subcircuits/ToyCircuit-S1-6k/', node_set='Inhibitory'))\n",
      "CircuitExtraction(initialize=Initialize(circuit_path='/Users/james/Documents/obi/additional_data/ToyCircuit-S1-6k/circuit_config.json', output_root='../derivative_subcircuits/ToyCircuit-S1-6k/', node_set='Layer5Excitatory'))\n",
      "CircuitExtraction(initialize=Initialize(circuit_path='/Users/james/Documents/obi/additional_data/ToyCircuit-S1-6k/circuit_config.json', output_root='../derivative_subcircuits/ToyCircuit-S1-6k/', node_set='Layer5Inhibitory'))\n",
      "Error: Subcircuit Excitatory already exists. Subcircuit must be deleted before running the extraction.\n",
      "Error: Subcircuit Inhibitory already exists. Subcircuit must be deleted before running the extraction.\n",
      "Error: Subcircuit Layer5Excitatory already exists. Subcircuit must be deleted before running the extraction.\n",
      "Error: Subcircuit Layer5Inhibitory already exists. Subcircuit must be deleted before running the extraction.\n",
      "Error: Subcircuit Excitatory already exists. Subcircuit must be deleted before running the extraction.\n",
      "Error: Subcircuit Inhibitory already exists. Subcircuit must be deleted before running the extraction.\n",
      "Error: Subcircuit Layer5Excitatory already exists. Subcircuit must be deleted before running the extraction.\n",
      "Error: Subcircuit Layer5Inhibitory already exists. Subcircuit must be deleted before running the extraction.\n"
     ]
    }
   ],
   "source": [
    "grid_scan.multiple_value_parameters(display=True)\n",
    "grid_scan.coordinate_parameters(display=True)\n",
    "grid_scan.coordinate_instances(display=True)\n",
    "\n"
   ]
  },
  {
   "cell_type": "code",
   "execution_count": null,
   "metadata": {},
   "outputs": [],
   "source": []
  }
 ],
 "metadata": {
  "kernelspec": {
   "display_name": ".venv",
   "language": "python",
   "name": "python3"
  },
  "language_info": {
   "codemirror_mode": {
    "name": "ipython",
    "version": 3
   },
   "file_extension": ".py",
   "mimetype": "text/x-python",
   "name": "python",
   "nbconvert_exporter": "python",
   "pygments_lexer": "ipython3",
   "version": "3.11.11"
  }
 },
 "nbformat": 4,
 "nbformat_minor": 2
}
