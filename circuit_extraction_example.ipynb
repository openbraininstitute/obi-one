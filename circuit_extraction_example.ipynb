{
 "cells": [
  {
   "cell_type": "code",
   "execution_count": 1,
   "metadata": {},
   "outputs": [],
   "source": [
    "import obi\n",
    "\n",
    "circuit_extraction_parameter_scan_template = obi.CircuitExtractionParameterScanTemplate(\n",
    "                    initialize=obi.CircuitExtractionParameterScanTemplate.Initialization(\n",
    "                                                                                        circuit_path=\"/Users/james/Documents/obi/additional_data/ToyCircuit-S1-6k/circuit_config.json\",\n",
    "                                                                                        output_root=\"../derivative_subcircuits/ToyCircuit-S1-6k/\",\n",
    "                                                                                        node_set=[\"Excitatory\", \"Inhibitory\", \"Layer5Excitatory\", \"Layer5Inhibitory\"],\n",
    "                                                                                        )\n",
    "                                            )\n",
    "\n",
    "\n"
   ]
  },
  {
   "cell_type": "code",
   "execution_count": 2,
   "metadata": {},
   "outputs": [],
   "source": [
    "grid_parameter_scan = obi.GridParameterScan(template_instance=circuit_extraction_parameter_scan_template)\n",
    "\n",
    "for coord_instance in grid_parameter_scan.coord_instances: coord_instance.run_extraction()"
   ]
  },
  {
   "cell_type": "code",
   "execution_count": 3,
   "metadata": {},
   "outputs": [
    {
     "name": "stdout",
     "output_type": "stream",
     "text": [
      "annotated-types==0.7.0\n",
      "anyio==4.8.0\n",
      "appnope==0.1.4\n",
      "asttokens==3.0.0\n",
      "attrs==25.1.0\n",
      "bluepysnap==3.0.1\n",
      "brainbuilder==0.20.1\n",
      "cached-property==2.0.1\n",
      "certifi==2025.1.31\n",
      "charset-normalizer==3.4.1\n",
      "click==8.1.8\n",
      "comm==0.2.2\n",
      "contourpy==1.3.1\n",
      "cycler==0.12.1\n",
      "debugpy==1.8.12\n",
      "decorator==5.1.1\n",
      "deprecation==2.1.0\n",
      "exceptiongroup==1.2.2\n",
      "executing==2.2.0\n",
      "fastapi==0.115.8\n",
      "Flask==2.0.3\n",
      "Flask-WTF==1.0.0\n",
      "fonttools==4.56.0\n",
      "h11==0.14.0\n",
      "h5py==3.13.0\n",
      "idna==3.10\n",
      "importlib_resources==6.5.2\n",
      "ipykernel==6.29.5\n",
      "ipython==8.32.0\n",
      "itsdangerous==2.2.0\n",
      "jedi==0.19.2\n",
      "Jinja2==3.1.5\n",
      "joblib==1.4.2\n",
      "jsonpickle==4.0.1\n",
      "jsonschema==4.23.0\n",
      "jsonschema-specifications==2024.10.1\n",
      "jupyter_client==8.6.3\n",
      "jupyter_core==5.7.2\n",
      "kiwisolver==1.4.8\n",
      "libsonata==0.1.29\n",
      "lxml==5.3.1\n",
      "MarkupSafe==3.0.2\n",
      "matplotlib==3.10.0\n",
      "matplotlib-inline==0.1.7\n",
      "more-itertools==10.6.0\n",
      "morph-tool==2.11.2\n",
      "morphio==3.4.0\n",
      "nest-asyncio==1.6.0\n",
      "neurom==4.0.4\n",
      "numpy==2.2.3\n",
      "packaging==24.2\n",
      "pandas==2.2.3\n",
      "parso==0.8.4\n",
      "pexpect==4.9.0\n",
      "pillow==11.1.0\n",
      "platformdirs==4.3.6\n",
      "prompt_toolkit==3.0.50\n",
      "psutil==7.0.0\n",
      "ptyprocess==0.7.0\n",
      "pure_eval==0.2.3\n",
      "pydantic==2.10.6\n",
      "pydantic_core==2.27.2\n",
      "Pygments==2.19.1\n",
      "pynrrd==1.1.3\n",
      "pyparsing==3.2.1\n",
      "python-dateutil==2.9.0.post0\n",
      "python-multipart==0.0.20\n",
      "pytz==2025.1\n",
      "PyYAML==6.0.2\n",
      "pyzmq==26.2.1\n",
      "referencing==0.36.2\n",
      "requests==2.32.3\n",
      "rpds-py==0.23.0\n",
      "scipy==1.15.2\n",
      "six==1.17.0\n",
      "sniffio==1.3.1\n",
      "stack-data==0.6.3\n",
      "starlette==0.45.3\n",
      "tornado==6.4.2\n",
      "tqdm==4.67.1\n",
      "traitlets==5.14.3\n",
      "typing_extensions==4.12.2\n",
      "tzdata==2025.1\n",
      "urllib3==2.3.0\n",
      "uvicorn==0.34.0\n",
      "voxcell==3.1.9\n",
      "wcwidth==0.2.13\n",
      "Werkzeug==2.2.2\n",
      "WTForms==2.3.3\n",
      "xmltodict==0.14.2\n"
     ]
    }
   ],
   "source": [
    "!pip freeze"
   ]
  },
  {
   "cell_type": "code",
   "execution_count": null,
   "metadata": {},
   "outputs": [],
   "source": []
  },
  {
   "cell_type": "code",
   "execution_count": 4,
   "metadata": {},
   "outputs": [
    {
     "name": "stdout",
     "output_type": "stream",
     "text": [
      "bluepysnap version: 3.0.1\n"
     ]
    },
    {
     "name": "stderr",
     "output_type": "stream",
     "text": [
      "/var/folders/pp/r2gyck8j4n9dfb_x9vjslq740000gn/T/ipykernel_26194/2250701728.py:1: DeprecationWarning: pkg_resources is deprecated as an API. See https://setuptools.pypa.io/en/latest/pkg_resources.html\n",
      "  import pkg_resources\n"
     ]
    }
   ],
   "source": [
    "import pkg_resources\n",
    "\n",
    "bluepysnap_version = pkg_resources.get_distribution(\"bluepysnap\").version\n",
    "print(f\"bluepysnap version: {bluepysnap_version}\")"
   ]
  },
  {
   "cell_type": "code",
   "execution_count": null,
   "metadata": {},
   "outputs": [],
   "source": []
  }
 ],
 "metadata": {
  "kernelspec": {
   "display_name": ".venv",
   "language": "python",
   "name": "python3"
  },
  "language_info": {
   "codemirror_mode": {
    "name": "ipython",
    "version": 3
   },
   "file_extension": ".py",
   "mimetype": "text/x-python",
   "name": "python",
   "nbconvert_exporter": "python",
   "pygments_lexer": "ipython3",
   "version": "3.11.11"
  }
 },
 "nbformat": 4,
 "nbformat_minor": 2
}
