{
 "cells": [
  {
   "cell_type": "code",
   "execution_count": null,
   "metadata": {},
   "outputs": [],
   "source": [
    "import obi\n",
    "\n",
    "circuit_extractions_form = obi.CircuitExtractions(\n",
    "                    initialize=obi.CircuitExtractions.Initialize(\n",
    "                        circuit_path=\"/Users/james/Documents/obi/additional_data/ToyCircuit-S1-6k/circuit_config.json\",\n",
    "                        output_root=\"../derivative_subcircuits/ToyCircuit-S1-6k/\",\n",
    "                        node_set=[\"Excitatory\", \"Inhibitory\", \"Layer5Excitatory\", \"Layer5Inhibitory\"],\n",
    "                    )\n",
    ")\n",
    "\n",
    "grid_scan = obi.GridScan(form=circuit_extractions_form)"
   ]
  },
  {
   "cell_type": "code",
   "execution_count": null,
   "metadata": {},
   "outputs": [],
   "source": [
    "print(grid_scan.multiple_value_parameters)\n",
    "print(grid_scan.coordinate_parameters)\n",
    "print(grid_scan.coordinate_instances)\n",
    "\n",
    "for coord_instance in grid_scan.coordinate_instances: \n",
    "    coord_instance.run_extraction()"
   ]
  },
  {
   "cell_type": "code",
   "execution_count": null,
   "metadata": {},
   "outputs": [],
   "source": []
  }
 ],
 "metadata": {
  "kernelspec": {
   "display_name": ".venv",
   "language": "python",
   "name": "python3"
  },
  "language_info": {
   "codemirror_mode": {
    "name": "ipython",
    "version": 3
   },
   "file_extension": ".py",
   "mimetype": "text/x-python",
   "name": "python",
   "nbconvert_exporter": "python",
   "pygments_lexer": "ipython3",
   "version": "3.11.11"
  }
 },
 "nbformat": 4,
 "nbformat_minor": 2
}
