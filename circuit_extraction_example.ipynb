{
 "cells": [
  {
   "cell_type": "markdown",
   "metadata": {},
   "source": []
  },
  {
   "cell_type": "code",
   "execution_count": 2,
   "metadata": {},
   "outputs": [],
   "source": [
    "import obi\n",
    "\n",
    "circuit_extraction_parameter_scan_template = obi.CircuitExtractionParameterScanTemplate(\n",
    "                    initialize=obi.CircuitExtractionParameterScanTemplate.Initialization(\n",
    "                                                                                        circuit_path=\"/Users/james/Documents/obi/additional_data/ToyCircuit-S1-6k/circuit_config.json\",\n",
    "                                                                                        output_root=\"../derivative_subcircuits/ToyCircuit-S1-6k/\",\n",
    "                                                                                        node_set=[\"Excitatory\", \"Inhibitory\", \"Layer5Excitatory\", \"Layer5Inhibitory\"],\n",
    "                                                                                        )\n",
    "                                            )"
   ]
  },
  {
   "cell_type": "code",
   "execution_count": 3,
   "metadata": {},
   "outputs": [
    {
     "name": "stdout",
     "output_type": "stream",
     "text": [
      "{'initialize': {'circuit_path': '/Users/james/Documents/obi/additional_data/ToyCircuit-S1-6k/circuit_config.json', 'output_root': '../derivative_subcircuits/ToyCircuit-S1-6k/', 'node_set': 'Excitatory'}, 'obi_version': '0.1.0'}\n",
      "{'initialize': {'circuit_path': '/Users/james/Documents/obi/additional_data/ToyCircuit-S1-6k/circuit_config.json', 'output_root': '../derivative_subcircuits/ToyCircuit-S1-6k/', 'node_set': 'Inhibitory'}, 'obi_version': '0.1.0'}\n",
      "{'initialize': {'circuit_path': '/Users/james/Documents/obi/additional_data/ToyCircuit-S1-6k/circuit_config.json', 'output_root': '../derivative_subcircuits/ToyCircuit-S1-6k/', 'node_set': 'Layer5Excitatory'}, 'obi_version': '0.1.0'}\n",
      "{'initialize': {'circuit_path': '/Users/james/Documents/obi/additional_data/ToyCircuit-S1-6k/circuit_config.json', 'output_root': '../derivative_subcircuits/ToyCircuit-S1-6k/', 'node_set': 'Layer5Inhibitory'}, 'obi_version': '0.1.0'}\n"
     ]
    }
   ],
   "source": [
    "grid_parameter_scan = obi.GridParameterScan(template_instance=circuit_extraction_parameter_scan_template)\n",
    "\n",
    "for coord_instance in grid_parameter_scan.coord_instances: coord_instance.run_extraction()"
   ]
  },
  {
   "cell_type": "code",
   "execution_count": null,
   "metadata": {},
   "outputs": [],
   "source": []
  }
 ],
 "metadata": {
  "kernelspec": {
   "display_name": ".venv",
   "language": "python",
   "name": "python3"
  },
  "language_info": {
   "codemirror_mode": {
    "name": "ipython",
    "version": 3
   },
   "file_extension": ".py",
   "mimetype": "text/x-python",
   "name": "python",
   "nbconvert_exporter": "python",
   "pygments_lexer": "ipython3",
   "version": "3.11.11"
  }
 },
 "nbformat": 4,
 "nbformat_minor": 2
}
