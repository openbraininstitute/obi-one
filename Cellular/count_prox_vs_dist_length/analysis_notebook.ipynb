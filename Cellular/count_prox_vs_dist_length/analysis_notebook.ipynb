{
 "cells": [
  {
   "cell_type": "markdown",
   "metadata": {},
   "source": [
    "## Get the data\n",
    "\n",
    "We can get the data using the entitysdk package. You will have to inform the id of the morphology you want to analyse.\n",
    "\n",
    "To download the files, execute the following cell, and click on the link to set up authentication with the platform. If the code does not work, you might have to update the morphology_id, since it can change after a new deployment of the database.\n"
   ]
  },
  {
   "cell_type": "code",
   "execution_count": 4,
   "metadata": {},
   "outputs": [
    {
     "data": {
      "application/vnd.jupyter.widget-view+json": {
       "model_id": "aba8c0c39b31489ca1539507ad9ebfd7",
       "version_major": 2,
       "version_minor": 0
      },
      "text/plain": [
       "Dropdown(description='Choose format to load', options=('asc', 'swc'), value='asc')"
      ]
     },
     "metadata": {},
     "output_type": "display_data"
    }
   ],
   "source": [
    "import pandas\n",
    "import neurom\n",
    "import os\n",
    "import numpy\n",
    "from pathlib import Path\n",
    "\n",
    "from ipywidgets import widgets, interact\n",
    "\n",
    "import neurom.features\n",
    "\n",
    "from obi_auth import get_token\n",
    "from entitysdk.client import Client\n",
    "from entitysdk.downloaders.morphology import download_morphology\n",
    "from entitysdk.models.morphology import ReconstructionMorphology\n",
    "\n",
    "\n",
    "token = get_token(environment=\"production\", auth_mode=\"daf\")\n",
    "client = Client(environment=\"production\", token_manager=token)\n",
    "\n",
    "# morphology_id = \"4ffcdcd4-f128-43c7-a657-4a925e18d9d8\"  # Put your morphology id here\n",
    "morphology_id = \"1b8bd5ad-d5a7-43a7-9f75-92b971c4d8d4\"\n",
    "\n",
    "# morph_tmp = client.search_entity(\n",
    "#     entity_type=ReconstructionMorphology, query={\"name\": \"rp190117_B_idB\"}, limit=1\n",
    "# ).one()\n",
    "# print(morph_tmp.id)\n",
    "\n",
    "morphology_entity = client.get_entity(entity_id=morphology_id, entity_type=ReconstructionMorphology)\n",
    "\n",
    "def load_morphology(morph_path):\n",
    "    try:\n",
    "        m = neurom.load_morphology(morph_path)\n",
    "    except Exception as e:\n",
    "        print(\"Trouble with \" + morph_path + \": \" + str(e))\n",
    "        return None\n",
    "    return m\n",
    "\n",
    "\n",
    "extension_wdgt = widgets.Dropdown(options=[\"asc\", \"swc\"], description=\"Choose format to load\")\n",
    "display(extension_wdgt)\n"
   ]
  },
  {
   "cell_type": "code",
   "execution_count": 5,
   "metadata": {},
   "outputs": [
    {
     "name": "stdout",
     "output_type": "stream",
     "text": [
      "morphologies/rp190117_B_idB.asc\n"
     ]
    },
    {
     "data": {
      "text/plain": [
       "'Loaded morphology with 6 neurites of a total length of 9627.362160682678 um.'"
      ]
     },
     "metadata": {},
     "output_type": "display_data"
    }
   ],
   "source": [
    "output_dir = \"./morphologies\"\n",
    "Path(output_dir).mkdir(parents=True, exist_ok=True)\n",
    "\n",
    "morph_path = download_morphology(\n",
    "    client,\n",
    "    morphology_entity,\n",
    "    output_dir = output_dir,\n",
    "    file_type=extension_wdgt.value,\n",
    ")\n",
    "print(morph_path)\n",
    "morph = load_morphology(str(morph_path))\n",
    "_str = \"\"\"Loaded morphology with {0} neurites of a total length of {1} um.\"\"\"\n",
    "display(_str.format(\n",
    "    neurom.features.get(\"number_of_neurites\", morph),\n",
    "    numpy.sum(neurom.features.get(\"total_length_per_neurite\", morph))\n",
    "))"
   ]
  },
  {
   "cell_type": "markdown",
   "metadata": {},
   "source": [
    "We calculate for each segment of each neurite its path distance from the soma and its length.\n",
    "\n",
    "The result is put into a handy DataFrame. For the calculations we use the neurom package."
   ]
  },
  {
   "cell_type": "code",
   "execution_count": 6,
   "metadata": {},
   "outputs": [
    {
     "data": {
      "text/html": [
       "<div>\n",
       "<style scoped>\n",
       "    .dataframe tbody tr th:only-of-type {\n",
       "        vertical-align: middle;\n",
       "    }\n",
       "\n",
       "    .dataframe tbody tr th {\n",
       "        vertical-align: top;\n",
       "    }\n",
       "\n",
       "    .dataframe thead th {\n",
       "        text-align: right;\n",
       "    }\n",
       "</style>\n",
       "<table border=\"1\" class=\"dataframe\">\n",
       "  <thead>\n",
       "    <tr style=\"text-align: right;\">\n",
       "      <th></th>\n",
       "      <th>lengths</th>\n",
       "      <th>pd</th>\n",
       "      <th>index</th>\n",
       "      <th>type</th>\n",
       "    </tr>\n",
       "  </thead>\n",
       "  <tbody>\n",
       "    <tr>\n",
       "      <th>0</th>\n",
       "      <td>1.014475</td>\n",
       "      <td>1.014475</td>\n",
       "      <td>0</td>\n",
       "      <td>NeuriteType.axon</td>\n",
       "    </tr>\n",
       "    <tr>\n",
       "      <th>1</th>\n",
       "      <td>1.011470</td>\n",
       "      <td>2.025945</td>\n",
       "      <td>0</td>\n",
       "      <td>NeuriteType.axon</td>\n",
       "    </tr>\n",
       "    <tr>\n",
       "      <th>2</th>\n",
       "      <td>0.973972</td>\n",
       "      <td>2.999917</td>\n",
       "      <td>0</td>\n",
       "      <td>NeuriteType.axon</td>\n",
       "    </tr>\n",
       "    <tr>\n",
       "      <th>3</th>\n",
       "      <td>0.993334</td>\n",
       "      <td>3.993251</td>\n",
       "      <td>0</td>\n",
       "      <td>NeuriteType.axon</td>\n",
       "    </tr>\n",
       "    <tr>\n",
       "      <th>4</th>\n",
       "      <td>1.014475</td>\n",
       "      <td>5.007726</td>\n",
       "      <td>0</td>\n",
       "      <td>NeuriteType.axon</td>\n",
       "    </tr>\n",
       "  </tbody>\n",
       "</table>\n",
       "</div>"
      ],
      "text/plain": [
       "    lengths        pd  index              type\n",
       "0  1.014475  1.014475      0  NeuriteType.axon\n",
       "1  1.011470  2.025945      0  NeuriteType.axon\n",
       "2  0.973972  2.999917      0  NeuriteType.axon\n",
       "3  0.993334  3.993251      0  NeuriteType.axon\n",
       "4  1.014475  5.007726      0  NeuriteType.axon"
      ]
     },
     "metadata": {},
     "output_type": "display_data"
    }
   ],
   "source": [
    "res = pandas.concat([\n",
    "    pandas.DataFrame({\"lengths\": neurom.features.neurite.segment_lengths(_nrt),\n",
    "                    \"pd\": neurom.features.neurite.segment_path_lengths(_nrt),\n",
    "                    \"index\": i, \"type\": _nrt.type\n",
    "                    })\n",
    "    for i, _nrt in enumerate(morph.neurites)\n",
    "], axis=0)\n",
    "\n",
    "display(res.head())"
   ]
  },
  {
   "cell_type": "code",
   "execution_count": 7,
   "metadata": {},
   "outputs": [
    {
     "data": {
      "application/vnd.jupyter.widget-view+json": {
       "model_id": "d4db15ca206b413b85ac980e55d94a0f",
       "version_major": 2,
       "version_minor": 0
      },
      "text/plain": [
       "interactive(children=(SelectMultiple(description='Neurite types', options=(<NeuriteType.axon: 2>, <NeuriteType…"
      ]
     },
     "metadata": {},
     "output_type": "display_data"
    },
    {
     "data": {
      "text/plain": [
       "<function __main__.calculate_results(vld_types, vld_range, show=True)>"
      ]
     },
     "execution_count": 7,
     "metadata": {},
     "output_type": "execute_result"
    }
   ],
   "source": [
    "def calculate_results(vld_types, vld_range, show=True):\n",
    "    msg = \"You selected to measure the length of {0}\\nbetween {1} and {2} um from the soma.\"\n",
    "    if show:\n",
    "        print(msg.format(vld_types, vld_range[0], vld_range[1]))\n",
    "\n",
    "    fltr = (res[\"type\"].isin(list(vld_types))) &\\\n",
    "    (res[\"pd\"] >= vld_range[0]) & (res[\"pd\"] < vld_range[1])\n",
    "    ttl_len = res.loc[fltr][\"lengths\"].sum()\n",
    "    if show:\n",
    "        print(\"\\nThe result in um is shown below:\")\n",
    "    return ttl_len\n",
    "\n",
    "\n",
    "sel_types = widgets.SelectMultiple(options=res[\"type\"].drop_duplicates(),\n",
    "                                    index=[],\n",
    "                                    description=\"Neurite types\")\n",
    "sel_range = widgets.IntRangeSlider(min=0, max=2000, step=1, description=\"Select range\")\n",
    "interact(calculate_results, vld_types=sel_types, vld_range=sel_range)"
   ]
  },
  {
   "cell_type": "markdown",
   "metadata": {},
   "source": [
    "While the above is nice for interactive exploration, the below assigns results to variables that can be used for further analyses."
   ]
  },
  {
   "cell_type": "code",
   "execution_count": 8,
   "metadata": {},
   "outputs": [
    {
     "name": "stdout",
     "output_type": "stream",
     "text": [
      "The ratio of proximal over distal dendrite length is 1.153239259623823\n",
      "\n",
      "200 synapses require a mean length density of 0.19591642142643384 on proximal dendrites.\n",
      "200 synapses require a mean length density of 0.22593850879396946 on distal dendrites.\n",
      "\n"
     ]
    }
   ],
   "source": [
    "cutoff_proximal = (0, 100)\n",
    "cutoff_distal = (100, 200)\n",
    "used_neurite_types = [neurom.NeuriteType.basal_dendrite, neurom.NeuriteType.apical_dendrite]\n",
    "tgt_total_count = 200\n",
    "\n",
    "len_proximal = calculate_results(used_neurite_types, cutoff_proximal, show=False)\n",
    "len_distal = calculate_results(used_neurite_types, cutoff_distal, show=False)\n",
    "\n",
    "print(\"The ratio of proximal over distal dendrite length is {0}\".format(\n",
    "    len_proximal / len_distal\n",
    "))\n",
    "\n",
    "req_for_tgt_prox = tgt_total_count / len_proximal\n",
    "req_for_tgt_dist = tgt_total_count / len_distal\n",
    "\n",
    "print(\"\"\"\n",
    "{0} synapses require a mean length density of {1} on proximal dendrites.\n",
    "{0} synapses require a mean length density of {2} on distal dendrites.\n",
    "\"\"\".format(tgt_total_count, req_for_tgt_prox, req_for_tgt_dist))\n"
   ]
  },
  {
   "cell_type": "code",
   "execution_count": null,
   "metadata": {},
   "outputs": [],
   "source": []
  }
 ],
 "metadata": {
  "kernelspec": {
   "display_name": "venv-py312",
   "language": "python",
   "name": "python3"
  },
  "language_info": {
   "codemirror_mode": {
    "name": "ipython",
    "version": 3
   },
   "file_extension": ".py",
   "mimetype": "text/x-python",
   "name": "python",
   "nbconvert_exporter": "python",
   "pygments_lexer": "ipython3",
   "version": "3.12.8"
  }
 },
 "nbformat": 4,
 "nbformat_minor": 2
}
