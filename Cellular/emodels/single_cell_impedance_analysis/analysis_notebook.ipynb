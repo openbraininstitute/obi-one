{
 "cells": [
  {
   "cell_type": "markdown",
   "metadata": {},
   "source": [
    "# Single cell impedance analysis\n",
    "\n",
    "Copyright (c) 2025 Open Brain Institute\n",
    "\n",
    "Authors: Aurélien Jaquier and Darshan Mandge\n",
    "\n",
    "last modified: 02.2025\n",
    "\n",
    "## Description\n",
    "\n",
    "This notebook runs a single cell with a ZAP stimulus, records its current input and voltage output, uses them to compute the cell's impedance and plots the impedance vs frequency graph."
   ]
  },
  {
   "cell_type": "markdown",
   "metadata": {},
   "source": [
    "## Get the data\n",
    "The emodel data required to run this notebook (hoc file, morphology file, mechanisms and EModel resource metadata json) can be downloaded from the [Blue Brain Open Data](https://registry.opendata.aws/bluebrain_opendata/). In future, you will be able to download the emodel data for different e-models directly from the Open Brain Platform.\n",
    "\n",
    "**Steps to Get the data**\n",
    "1. Install [AWS CLI](https://docs.aws.amazon.com/cli/latest/userguide/cli-chap-welcome.html) based on [instructions](https://docs.aws.amazon.com/cli/latest/userguide/getting-started-install.html) for your operating system if you are running locally on your PC.\n",
    "1. Run the following commands:"
   ]
  },
  {
   "cell_type": "code",
   "execution_count": null,
   "metadata": {},
   "outputs": [],
   "source": [
    "# check if the directory exists\n",
    "!if [ ! -d \"cadpyr_emodel\" ]; then mkdir cadpyr_emodel; fi \n",
    "\n",
    "#download cADpyr e-model files\n",
    "# mechanisms\n",
    "!aws s3 sync --no-sign-request s3://openbluebrain/Model_Data/Electrophysiological_models/SSCx/OBP_SSCx/emodels/detailed/cADpyr/mechanisms ./cadpyr_emodel/mechanisms \n",
    "# hoc and morphology file \n",
    "!aws s3 cp --no-sign-request s3://openbluebrain/Model_Data/Electrophysiological_models/SSCx/OBP_SSCx/emodels/detailed/cADpyr/model.hoc ./cadpyr_emodel/model.hoc\n",
    "!aws s3 cp --no-sign-request s3://openbluebrain/Model_Data/Electrophysiological_models/SSCx/OBP_SSCx/emodels/detailed/cADpyr/C060114A5.asc ./cadpyr_emodel/C060114A5.asc\n",
    "#Emodel json \n",
    "!aws s3 cp --no-sign-request s3://openbluebrain/Model_Data/Electrophysiological_models/SSCx/OBP_SSCx/emodels/detailed/cADpyr/EM__emodel=cADpyr__etype=cADpyr__mtype=L5_TPC_A__species=mouse__brain_region=grey__iteration=1372346__13.json ./cadpyr_emodel/metadata.json"
   ]
  },
  {
   "cell_type": "markdown",
   "metadata": {},
   "source": [
    "The emodel files will be downloaded `cadpyr_emodel` folder. Next, you will need to compile the mechanisms located in the emodel folder:"
   ]
  },
  {
   "cell_type": "code",
   "execution_count": null,
   "metadata": {},
   "outputs": [],
   "source": [
    "!nrnivmodl cadpyr_emodel/mechanisms"
   ]
  },
  {
   "cell_type": "markdown",
   "metadata": {},
   "source": [
    "You will also need to have Neuron, BlueCelluLab, BluePyEModel and matplotlib installed. Now, we'll have to load every module that are needed in this notebook:"
   ]
  },
  {
   "cell_type": "code",
   "execution_count": null,
   "metadata": {},
   "outputs": [],
   "source": [
    "import json\n",
    "import matplotlib.pyplot as plt\n",
    "import numpy as np\n",
    "from pathlib import Path\n",
    "import zipfile\n",
    "\n",
    "from bluecellulab import Cell\n",
    "from bluecellulab.circuit.circuit_access import EmodelProperties\n",
    "from bluecellulab.simulation import Simulation\n",
    "from bluecellulab.stimulus import StimulusFactory\n",
    "from bluecellulab.tools import calculate_rheobase\n",
    "from bluepyemodel.emodel_pipeline.plotting_utils import get_impedance\n"
   ]
  },
  {
   "cell_type": "code",
   "execution_count": 2,
   "metadata": {},
   "outputs": [],
   "source": [
    "emodel_folder = Path(\"cadpyr_emodel\")\n",
    "# Load the metadata json\n",
    "with open(emodel_folder / \"metadata.json\") as f:\n",
    "    metadata = json.load(f)\n",
    "\n",
    "hoc_file = emodel_folder / \"model.hoc\"\n",
    "morph_file = emodel_folder / \"C060114A5.asc\"\n",
    "mechanisms_folder = emodel_folder / \"mechanisms\"\n",
    "emodel_name = \"cADpyr\""
   ]
  },
  {
   "cell_type": "markdown",
   "metadata": {},
   "source": [
    "Now we want to get the threshold and holding current of the emodel. Let get them from the `metadata` dictionary. The dictionary was created using the EModel json resource and has the final optimised parameters, efeatures scores, efeatures values and other emodel data (See parameters_plot notebook and README for more details):"
   ]
  },
  {
   "cell_type": "code",
   "execution_count": 3,
   "metadata": {},
   "outputs": [
    {
     "data": {
      "text/plain": [
       "dict_keys(['fitness', 'parameter', 'score', 'features', 'scoreValidation', 'passedValidation', 'seed'])"
      ]
     },
     "execution_count": 3,
     "metadata": {},
     "output_type": "execute_result"
    }
   ],
   "source": [
    "metadata.keys()"
   ]
  },
  {
   "cell_type": "markdown",
   "metadata": {},
   "source": [
    "The threshold and holding currents are stored in within `metadata` under the `features` list of dictionaries. Here is how one of `features` dictionationary looks like:"
   ]
  },
  {
   "cell_type": "code",
   "execution_count": 4,
   "metadata": {},
   "outputs": [
    {
     "data": {
      "text/plain": [
       "{'name': 'IDrest_130.soma.v.Spikecount', 'value': 17.0, 'unitCode': ''}"
      ]
     },
     "execution_count": 4,
     "metadata": {},
     "output_type": "execute_result"
    }
   ],
   "source": [
    "metadata[\"features\"][0]"
   ]
  },
  {
   "cell_type": "markdown",
   "metadata": {},
   "source": [
    "The dictionaies with key `name` as `SearchThresholdCurrent.soma.v.bpo_threshold_current` and `SearchHoldingCurrent.soma.v.bpo_holding_current` contain the thrshold and holding current of the emodel. Let's get these values"
   ]
  },
  {
   "cell_type": "code",
   "execution_count": 5,
   "metadata": {},
   "outputs": [
    {
     "name": "stdout",
     "output_type": "stream",
     "text": [
      "Threshold Current = 0.1624028733588378 nA\n",
      "Holding Current = -0.08750000000000001 nA\n"
     ]
    }
   ],
   "source": [
    "# assigning variables for the keys search in metadata\n",
    "hc_key = \"SearchHoldingCurrent.soma.v.bpo_holding_current\"\n",
    "tc_key = \"SearchThresholdCurrent.soma.v.bpo_threshold_current\"\n",
    "\n",
    "def get_feature_value(features, key):\n",
    "\tfor feature_dict in features:\n",
    "\t\tif key in feature_dict[\"name\"]:\n",
    "\t\t\treturn feature_dict[\"value\"]\n",
    "\treturn None\n",
    "\n",
    "holding_current = get_feature_value(metadata[\"features\"], hc_key)\n",
    "threshold_current = get_feature_value(metadata[\"features\"], tc_key)\n",
    "\n",
    "print(f\"Threshold Current = {threshold_current} nA\")\n",
    "print(f\"Holding Current = {holding_current} nA\")"
   ]
  },
  {
   "cell_type": "markdown",
   "metadata": {},
   "source": [
    "If the holding current and the threshold current are not available, we will use default values of 0 for both for now, and compute the threshold current later on."
   ]
  },
  {
   "cell_type": "code",
   "execution_count": 6,
   "metadata": {},
   "outputs": [],
   "source": [
    "if holding_current is None:\n",
    "    print(\"No holding current provided, will set it to 0.\")\n",
    "    holding_current = 0\n",
    "compute_threshold = False\n",
    "if threshold_current is None:\n",
    "    compute_threshold = True\n",
    "    threshold_current = 0\n",
    "emodel_properties = EmodelProperties(\n",
    "    threshold_current=threshold_current,\n",
    "    holding_current=holding_current,\n",
    ")"
   ]
  },
  {
   "cell_type": "markdown",
   "metadata": {},
   "source": [
    "Now that we have the holding and threshold current (or placeholder values if they were not in the metadata), we can create our cell using BlueCelluLab:"
   ]
  },
  {
   "cell_type": "code",
   "execution_count": 7,
   "metadata": {},
   "outputs": [],
   "source": [
    "cell = Cell(hoc_file, morph_file, template_format=\"v6\", emodel_properties=emodel_properties)"
   ]
  },
  {
   "cell_type": "markdown",
   "metadata": {},
   "source": [
    "Now that we have a cell, we can compute its threshold current if it was not provided in the metadata. First, we compute its RMP (resting membrane potential) and Rin (internal resistance) to get a maximum bound for threshold current, and use a bisection search algorithm. BlueCelluLab can handle all of that:"
   ]
  },
  {
   "cell_type": "code",
   "execution_count": 8,
   "metadata": {},
   "outputs": [],
   "source": [
    "if compute_threshold:\n",
    "    print(\"No threshold current provided, will attempt to compute it. This will take a few seconds...\")\n",
    "    emodel_properties.threshold_current = calculate_rheobase(cell)"
   ]
  },
  {
   "cell_type": "markdown",
   "metadata": {},
   "source": [
    "And we can print the holding and threshold currents:"
   ]
  },
  {
   "cell_type": "code",
   "execution_count": 10,
   "metadata": {},
   "outputs": [
    {
     "name": "stdout",
     "output_type": "stream",
     "text": [
      "threshold current is 0.1624028733588378 nA.\n",
      "holding current is -0.08750000000000001 nA.\n"
     ]
    }
   ],
   "source": [
    "print(f\"threshold current is {emodel_properties.threshold_current} nA.\")\n",
    "print(f\"holding current is {emodel_properties.holding_current} nA.\")"
   ]
  },
  {
   "cell_type": "markdown",
   "metadata": {},
   "source": [
    "We will now create a sinespec protocol with a ZAP stimulus. We will provide a small delay of 300 ms in order to let the cell settle to its resting state before stimulating it. We can also set the time step. Here, we will set to 0.1 ms. Once again, BlueCelluLab takes care of creating the stimulus for us:"
   ]
  },
  {
   "cell_type": "code",
   "execution_count": 11,
   "metadata": {},
   "outputs": [],
   "source": [
    "stim_factory = StimulusFactory(dt=0.1)\n",
    "sinespec = stim_factory.sinespec(threshold_current=emodel_properties.threshold_current, pre_delay=300)"
   ]
  },
  {
   "cell_type": "markdown",
   "metadata": {},
   "source": [
    "Now, we can inject the stimulus into the cell, run it, and get its recorded time, current input, and voltage output. The voltage recording is already defined in BlueCelluLab, but not the injected current, so we have to add it as a recording by hand. Note that this can take a few seconds to run."
   ]
  },
  {
   "cell_type": "code",
   "execution_count": 12,
   "metadata": {},
   "outputs": [
    {
     "name": "stdout",
     "output_type": "stream",
     "text": [
      "Running the simulation...\n",
      "Done.\n"
     ]
    }
   ],
   "source": [
    "cell.inject_current_waveform(t_content=sinespec.time, i_content=sinespec.current)\n",
    "current_rec = \"neuron.h.IClamp[0]._ref_i\"\n",
    "cell.add_recording(current_rec)\n",
    "sim = Simulation(cell)\n",
    "print(\"Running the simulation...\")\n",
    "sim.run(sinespec.stimulus_time, dt=0.1)\n",
    "print(\"Done.\")\n",
    "time, voltage, current = cell.get_time(), cell.get_soma_voltage(), cell.get_recording(current_rec)"
   ]
  },
  {
   "cell_type": "markdown",
   "metadata": {},
   "source": [
    "Now, we can compute the impedance at all frequencies up to 50 Hz, and extract the frequency at which the impedance is maximal, using the BluePyEModel get_impedance function:"
   ]
  },
  {
   "cell_type": "code",
   "execution_count": 13,
   "metadata": {},
   "outputs": [
    {
     "name": "stdout",
     "output_type": "stream",
     "text": [
      "Impedance is maximal at 3.012747177585161 Hz.\n"
     ]
    }
   ],
   "source": [
    "freq, smooth_Z = get_impedance(\n",
    "    time,\n",
    "    voltage,\n",
    "    current,\n",
    "    300.0,\n",
    "    5300.0,\n",
    "    efel_settings={},\n",
    ")\n",
    "if freq is None or smooth_Z is None:\n",
    "    raise TypeError(\"Could not compute the impedance.\")\n",
    "imp_arg = np.argmax(smooth_Z)\n",
    "imp_freq = freq[imp_arg]\n",
    "print(f\"Impedance is maximal at {imp_freq} Hz.\")"
   ]
  },
  {
   "cell_type": "markdown",
   "metadata": {},
   "source": [
    "Finally, we can plot our input current trace, output voltage trace, and impedance vs frequency plot, and save it as a pdf in the figures folder:"
   ]
  },
  {
   "cell_type": "code",
   "execution_count": 14,
   "metadata": {},
   "outputs": [
    {
     "data": {
      "image/png": "[encoded data removed]",
      "text/plain": [
       "<Figure size 600x1200 with 3 Axes>"
      ]
     },
     "metadata": {},
     "output_type": "display_data"
    }
   ],
   "source": [
    "fig, axs = plt.subplots(3, figsize=(6, 12))\n",
    "axs[0].plot(time, current)\n",
    "axs[0].set_xlabel(\"Time (ms)\")\n",
    "axs[0].set_ylabel(\"Injected current (nA)\")\n",
    "\n",
    "# voltage trace\n",
    "axs[1].plot(time, voltage)\n",
    "axs[1].set_xlabel(\"Time (ms)\")\n",
    "axs[1].set_ylabel(\"Voltage (mV)\")\n",
    "\n",
    "# impedance trace\n",
    "axs[2].plot(freq, smooth_Z)\n",
    "axs[2].axvline(imp_freq, ls=\"--\", c=\"red\")\n",
    "xlim = axs[2].get_xlim()\n",
    "new_xticks = list(axs[2].get_xticks()) + [imp_freq]\n",
    "axs[2].set_xticks(new_xticks)\n",
    "axs[2].xaxis.get_ticklabels()[-1].set_color(\"red\")\n",
    "# we have to re-set xlim after adding an xtick\n",
    "axs[2].set_xlim(xlim)\n",
    "axs[2].set_xlabel(\"Frequency (Hz)\")\n",
    "axs[2].set_ylabel(\"normalized Z\")\n",
    "\n",
    "fig.suptitle(f\"Impedance of {emodel_name}\")\n",
    "\n",
    "output_path = Path(\"figures\")\n",
    "output_path.mkdir(exist_ok=True)\n",
    "plt.savefig(output_path / \"impedance_analysis.pdf\")\n",
    "plt.show()"
   ]
  }
 ],
 "metadata": {
  "kernelspec": {
   "display_name": ".venv",
   "language": "python",
   "name": "python3"
  },
  "language_info": {
   "codemirror_mode": {
    "name": "ipython",
    "version": 3
   },
   "file_extension": ".py",
   "mimetype": "text/x-python",
   "name": "python",
   "nbconvert_exporter": "python",
   "pygments_lexer": "ipython3",
   "version": "3.12.8"
  }
 },
 "nbformat": 4,
 "nbformat_minor": 2
}
