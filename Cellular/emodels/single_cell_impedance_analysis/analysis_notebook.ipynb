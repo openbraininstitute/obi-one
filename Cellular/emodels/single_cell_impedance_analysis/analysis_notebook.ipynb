{
 "cells": [
  {
   "cell_type": "markdown",
   "metadata": {},
   "source": [
    "# Single cell impedance analysis\n",
    "\n",
    "Copyright (c) 2025 Open Brain Institute\n",
    "\n",
    "Authors: Aurélien Jaquier and Darshan Mandge\n",
    "\n",
    "last modified: 02.2025\n",
    "\n",
    "## Description\n",
    "\n",
    "This notebook runs a single cell with a ZAP stimulus, records its current input and voltage output, uses them to compute the cell's impedance and plots the impedance vs frequency graph."
   ]
  },
  {
   "cell_type": "markdown",
   "metadata": {},
   "source": [
    "## Get the data\n",
    "We can get the data using the entitysdk package. It has a function dedicated to download a SimulatableNeuron (also called MEModel). It will download a hoc file, a morphology and mechanisms (ion channel models).\n",
    "\n",
    "To download the files, execute the following cell, and click on the link to set up authentication with the platform. If the code does not work, you might have to update the memodel_id, since it can change after a new deployment of the database."
   ]
  },
  {
   "cell_type": "code",
   "execution_count": 1,
   "metadata": {},
   "outputs": [],
   "source": [
    "from obi_auth import get_token\n",
    "from entitysdk.client import Client\n",
    "from entitysdk.downloaders.memodel import download_memodel\n",
    "from entitysdk.models import MEModel\n",
    "\n",
    "\n",
    "memodel_id = \"9d4f3e32-1672-4265-bd6a-79067b52cab6\"\n",
    "\n",
    "token = get_token(environment=\"staging\", auth_mode=\"daf\")\n",
    "client = Client(environment=\"staging\", token_manager=token)\n",
    "\n",
    "memodel = client.get_entity(\n",
    "    entity_type=MEModel,\n",
    "    entity_id=memodel_id,\n",
    ")\n",
    "downloaded_memodel = download_memodel(\n",
    "    client, memodel=memodel\n",
    ")\n",
    "\n",
    "hoc_file = downloaded_memodel.hoc_path\n",
    "morph_file = downloaded_memodel.morphology_path\n",
    "mechanisms_folder = downloaded_memodel.mechanisms_dir"
   ]
  },
  {
   "cell_type": "markdown",
   "metadata": {},
   "source": [
    "Next you will have to compile the mechanisms."
   ]
  },
  {
   "cell_type": "code",
   "execution_count": 2,
   "metadata": {},
   "outputs": [
    {
     "name": "stdout",
     "output_type": "stream",
     "text": [
      "/Users/aurelien/venvs/venv-py312/bin/nrnivmodl:10: DeprecationWarning: pkg_resources is deprecated as an API. See https://setuptools.pypa.io/en/latest/pkg_resources.html\n",
      "  from pkg_resources import working_set\n",
      "/usr/bin/xcrun\n",
      "/Users/aurelien/repos/obi_platform_analysis_notebooks/Cellular/emodels/single_cell_impedance_analysis\n",
      "Mod files: \"mechanisms/mechanisms/CaDynamics_DC0.mod\" \"mechanisms/mechanisms/Ca_HVA2.mod\" \"mechanisms/mechanisms/Ca_LVAst.mod\" \"mechanisms/mechanisms/Ih.mod\" \"mechanisms/mechanisms/K_Pst.mod\" \"mechanisms/mechanisms/K_Tst.mod\" \"mechanisms/mechanisms/NaTg.mod\" \"mechanisms/mechanisms/Nap_Et2.mod\" \"mechanisms/mechanisms/SK_E2.mod\" \"mechanisms/mechanisms/SKv3_1.mod\"\n",
      "\n",
      " -> \u001b[32mCompiling\u001b[0m mod_func.cpp\n",
      " -> \u001b[32mNMODL\u001b[0m ../mechanisms/Ca_HVA2.mod\n",
      " -> \u001b[32mNMODL\u001b[0m ../mechanisms/CaDynamics_DC0.mod\n",
      " -> \u001b[32mNMODL\u001b[0m ../mechanisms/Ca_LVAst.mod\n",
      "Translating CaDynamics_DC0.mod into /Users/aurelien/repos/obi_platform_analysis_notebooks/Cellular/emodels/single_cell_impedance_analysis/arm64/CaDynamics_DC0.c\n",
      "Translating Ca_HVA2.mod into /Users/aurelien/repos/obi_platform_analysis_notebooks/Cellular/emodels/single_cell_impedance_analysis/arm64/Ca_HVA2.c\n",
      "Translating Ca_LVAst.mod into /Users/aurelien/repos/obi_platform_analysis_notebooks/Cellular/emodels/single_cell_impedance_analysis/arm64/Ca_LVAst.c\n",
      "Thread Safe\n",
      "Thread Safe\n",
      "Thread Safe\n",
      " -> \u001b[32mNMODL\u001b[0m ../mechanisms/Ih.mod\n",
      " -> \u001b[32mNMODL\u001b[0m ../mechanisms/K_Pst.mod\n",
      " -> \u001b[32mNMODL\u001b[0m ../mechanisms/K_Tst.mod\n",
      "Translating K_Pst.mod into /Users/aurelien/repos/obi_platform_analysis_notebooks/Cellular/emodels/single_cell_impedance_analysis/arm64/K_Pst.c\n",
      "Translating Ih.mod into /Users/aurelien/repos/obi_platform_analysis_notebooks/Cellular/emodels/single_cell_impedance_analysis/arm64/Ih.c\n",
      "Translating K_Tst.mod into /Users/aurelien/repos/obi_platform_analysis_notebooks/Cellular/emodels/single_cell_impedance_analysis/arm64/K_Tst.c\n",
      "Thread Safe\n",
      "Thread Safe\n",
      "Thread Safe\n",
      " -> \u001b[32mNMODL\u001b[0m ../mechanisms/Nap_Et2.mod\n",
      " -> \u001b[32mNMODL\u001b[0m ../mechanisms/NaTg.mod\n",
      " -> \u001b[32mNMODL\u001b[0m ../mechanisms/SK_E2.mod\n",
      "Translating SK_E2.mod into /Users/aurelien/repos/obi_platform_analysis_notebooks/Cellular/emodels/single_cell_impedance_analysis/arm64/SK_E2.c\n",
      "Translating NaTg.mod into /Users/aurelien/repos/obi_platform_analysis_notebooks/Cellular/emodels/single_cell_impedance_analysis/arm64/NaTg.c\n",
      "Translating Nap_Et2.mod into /Users/aurelien/repos/obi_platform_analysis_notebooks/Cellular/emodels/single_cell_impedance_analysis/arm64/Nap_Et2.c\n",
      "Thread Safe\n",
      "Thread Safe\n",
      "Thread Safe\n",
      " -> \u001b[32mNMODL\u001b[0m ../mechanisms/SKv3_1.mod\n",
      " -> \u001b[32mCompiling\u001b[0m Ca_HVA2.c\n",
      " -> \u001b[32mCompiling\u001b[0m CaDynamics_DC0.c\n",
      "Translating SKv3_1.mod into /Users/aurelien/repos/obi_platform_analysis_notebooks/Cellular/emodels/single_cell_impedance_analysis/arm64/SKv3_1.c\n",
      "Thread Safe\n",
      " -> \u001b[32mCompiling\u001b[0m Ca_LVAst.c\n",
      "\u001b[1m\u001b[1m\u001b[1mCa_HVA2.cCa_LVAst.cCaDynamics_DC0.c:::4342::1818: \u001b[0m\u001b[0;1;35mwarning: \u001b[0m\u001b[1ma function declaration without a prototype is deprecated in all versions of C and is treated as a zero-parameter prototype in C2x, conflicting with a previous declaration [-Wdeprecated-non-prototype]\u001b[0m\n",
      ": \u001b[0m43\u001b[0;1;35m   :warning: 4318\u001b[0m | :\u001b[1m          \u001b[0m\u001b[0;1;35mwarning: \u001b[0m\u001b[1ma function declaration without a prototype is deprecated in all versions of C and is treated as a zero-parameter prototype in C2x, conflicting with a previous declaration [-Wdeprecated-non-prototype]a function declaration without a prototype is deprecated in all versions of C and is treated as a zero-parameter prototype in C2x, conflicting with a previous declaration [-Wdeprecated-non-prototype]\u001b[0m\u001b[0me\n",
      "xte\n",
      "r   n42    d43o | u |          exte         externr nb lde *getdaorugb(loeu b)*l;ge\u001b[0me \n",
      "t*      ag| re\u001b[0;1;32mgt                        ^(a)r\n",
      "g\u001b[0m(;)\u001b[0m\n",
      "      | \u001b[0;1;32m                        ^;\u001b[0m\n",
      "      | \u001b[0;1;32m\n",
      "                        ^\u001b[0m\n",
      "\u001b[0m\u001b[1m/Users/aurelien/venvs/venv-py312/lib/python3.12/site-packages/neuron/.data/include/hocdec.h:15:17: \u001b[0m\u001b[0;1;30mnote: \u001b[1m/Users/aurelien/venvs/venv-py312/lib/python3.12/site-packages/neuron/.data/include/hocdec.h:15:17: \u001b[1m\u001b[0m/Users/aurelien/venvs/venv-py312/lib/python3.12/site-packages/neuron/.data/include/hocdec.h\u001b[0m:15:17expanded from macro 'getarg':\u001b[0m\n",
      "\u001b[0;1;30m   15 | #define genote: ta\u001b[0mrexpanded from macro 'getarg'\u001b[0m\n",
      "g     15 | #define getar hoc_getgar g\u001b[0m\u001b[0m\n",
      "      | \u001b[0;1;30m\u001b[0;1;32m                 ^hoc_get\n",
      "argnote: \u001b[0m\n",
      "\u001b[0m      | \u001b[0;1;32m\u001b[0m                ^expanded from macro 'getarg'\n",
      "\u001b[0m\u001b[0m\n",
      "   15 | #define getarg  hoc_getarg\u001b[0m\n",
      "      | \u001b[0;1;32m                ^\n",
      "\u001b[0m\u001b[1m/Users/aurelien/venvs/venv-py312/lib/python3.12/site-packages/neuron/.data/include/oc_ansi.h:49:16:\u001b[1m /Users/aurelien/venvs/venv-py312/lib/python3.12/site-packages/neuron/.data/include/oc_ansi.h:\u001b[0m49\u001b[0;1;30mnote: \u001b[0mconflicting prototype is here\u001b[0m\u001b[1m\n",
      "/Users/aurelien/venvs/venv-py312/lib/python3.12/site-packages/neuron/.data/include/oc_ansi.h:   49: | 16ex49t:e16rn d:o: u \u001b[0mb\u001b[0m\u001b[0;1;30ml\u001b[0;1;30menote: \u001b[0mconflicting prototype is here\u001b[0m\n",
      "note: \u001b[0m   conflicting prototype is here49\u001b[0m\n",
      "* g   e49targ |  | extexte(rnint);\u001b[0m\n",
      " doubleern doub*l       g| e\u001b[0;1;32mt               ^ae\n",
      "r*\u001b[0mg (gie\u001b[1mt/Users/aurelien/venvs/venv-py312/lib/python3.12/site-packages/neuron/.data/include/hocdec.ha:rngt);\u001b[0m15\n",
      "      (| i\u001b[0;1;32mn               ^t:\n",
      ")17\u001b[0m;:\u001b[0m\n",
      "\u001b[1m      /Users/aurelien/venvs/venv-py312/lib/python3.12/site-packages/neuron/.data/include/hocdec.h:15: | \u001b[0m\u001b[0;1;32m               ^\n",
      "17\u001b[0m\u001b[0;1;30mnote: \u001b[0m\u001b[1mexpanded from macro 'getarg'/Users/aurelien/venvs/venv-py312/lib/python3.12/site-packages/neuron/.data/include/hocdec.h\u001b[0m:\n",
      "15:    \u001b[0m\u001b[0;1;30mnote: :1715:\u001b[0m expanded from macro 'getarg'\u001b[0m\u001b[0m\u001b[0;1;30m | \n",
      "note: #\u001b[0md   e15f | expanded from macro 'getarg'#\u001b[0md\n",
      "iefi   n15e | n #egd eegtfeaitrnager gg e t hoc _haocr_gg e thaogce_tgarg\u001b[0mr\n",
      "      g| \u001b[0m\u001b[0;1;32m\n",
      "                ^\n",
      "e\u001b[0mta      r| g\u001b[0;1;32m\u001b[0m                ^\n",
      "\n",
      "      \u001b[0m| \u001b[0;1;32m                ^\n",
      "\u001b[0m\u001b[1mCa_HVA2.c:282:15: \u001b[0m\u001b[0;1;35mwarning: \u001b[0m\u001b[1mequality comparison with extraneous parentheses [-Wparentheses-equality]\u001b[0m\n",
      "  282 |     if ( ( v  == - 27.0 ) ) {\u001b[0m\n",
      "      | \u001b[0;1;32m           ~~~^~~~~~~~~\n",
      "\u001b[0m\u001b[1mCa_HVA2.c:282:15: \u001b[0m\u001b[0;1;30mnote: \u001b[0mremove extraneous parentheses around the comparison to silence this warning\u001b[0m\n",
      "  282 |     if ( ( v  == - 27.0 ) ) {\u001b[0m\n",
      "      | \u001b[0;1;32m         ~    ^         ~\n",
      "\u001b[0m\u001b[1mCa_HVA2.c:282:15: \u001b[0m\u001b[0;1;30mnote: \u001b[0muse '=' to turn this equality comparison into an assignment\u001b[0m\n",
      "  282 |     if ( ( v  == - 27.0 ) ) {\u001b[0m\n",
      "      | \u001b[0;1;32m              ^~\n",
      "\u001b[0m      | \u001b[0;32m              =\n",
      "\u001b[0m1 warning generated.\n",
      "2 warnings generated.\n",
      "1 warning generated.\n",
      " -> \u001b[32mCompiling\u001b[0m Ih.c\n",
      " -> \u001b[32mCompiling\u001b[0m K_Pst.c\n",
      " -> \u001b[32mCompiling\u001b[0m K_Tst.c\n",
      " -> \u001b[32mCompiling\u001b[0m NaTg.c\n",
      "\u001b[1mIh.c:43:18: \u001b[0m\u001b[0;1;35mwarning: \u001b[0m\u001b[1ma function declaration without a prototype is deprecated in all versions of C and is treated as a zero-parameter prototype in C2x, conflicting with a previous declaration [-Wdeprecated-non-prototype]\u001b[0m\n",
      "   43 |          extern double *getarg();\u001b[0m\n",
      "      | \u001b[0;1;32m                        ^\n",
      "\u001b[0m\u001b[1m/Users/aurelien/venvs/venv-py312/lib/python3.12/site-packages/neuron/.data/include/hocdec.h:15:17: \u001b[0m\u001b[0;1;30mnote: \u001b[0mexpanded from macro 'getarg'\u001b[0m\n",
      "   15 | #define getarg  hoc_getarg\u001b[0m\n",
      "      | \u001b[0;1;32m                ^\n",
      "\u001b[0m\u001b[1m/Users/aurelien/venvs/venv-py312/lib/python3.12/site-packages/neuron/.data/include/oc_ansi.h:49:16: \u001b[0m\u001b[0;1;30mnote: \u001b[0mconflicting prototype is here\u001b[0m\n",
      "   49 | extern double* getarg(int);\u001b[0m\n",
      "      | \u001b[0;1;32m               ^\n",
      "\u001b[0m\u001b[1m/Users/aurelien/venvs/venv-py312/lib/python3.12/site-packages/neuron/.data/include/hocdec.h:15:17: \u001b[0m\u001b[0;1;30mnote: \u001b[0mexpanded from macro 'getarg'\u001b[0m\n",
      "   15 | #define getarg  hoc_getarg\u001b[0m\n",
      "      | \u001b[0;1;32m                ^\n",
      "\u001b[0m\u001b[1mK_Pst.c:43:18: \u001b[0m\u001b[0;1;35mwarning: \u001b[0m\u001b[1ma function declaration without a prototype is deprecated in all versions of C and is treated as a zero-parameter prototype in C2x, conflicting with a previous declaration [-Wdeprecated-non-prototype]\u001b[0m\n",
      "   43 |          extern double *getarg();\u001b[0m\n",
      "      | \u001b[0;1;32m                        ^\n",
      "\u001b[0m\u001b[1m/Users/aurelien/venvs/venv-py312/lib/python3.12/site-packages/neuron/.data/include/hocdec.h:15:17: \u001b[0m\u001b[0;1;30mnote: \u001b[\u001b[1mK_Tst.c0m:43:18: expanded from macro 'getarg'\u001b[0m\u001b[0m\n",
      "\u001b[0;1;35m   warning: 15\u001b[0m\u001b[1ma function declaration without a prototype is deprecated in all versions of C and is treated as a zero-parameter prototype in C2x, conflicting with a previous declaration [-Wdeprecated-non-prototype] | \u001b[0m#\n",
      "def   i43n | e          geextern double *targ  hoc_getarg\u001b[0m\n",
      "      | get\u001b[0;1;32m                ^\n",
      "\u001b[0marg();\u001b[0m\n",
      "      | \u001b[0;1;32m                        ^\n",
      "\u001b[0m\u001b[1m/Users/aurelien/venvs/venv-py312/lib/python3.12/site-packages/neuron/.data/include/oc_ansi.h:49:16: \u001b[0m\u001b[0;1;30mnote: \u001b[0mconflicting prototype is here\u001b[1m\u001b[0m/Users/aurelien/venvs/venv-py312/lib/python3.12/site-packages/neuron/.data/include/hocdec.h\n",
      ":15:17   :49  | \u001b[0me\u001b[0;1;30mxtern double*note:  \u001b[0mgexpanded from macro 'getarg'e\u001b[0mt\n",
      "arg   15 | #defin(ei ngte)t;a\u001b[0mr\n",
      "g       |  \u001b[0;1;32mh               ^o\n",
      "c\u001b[0m_geta\u001b[1mr/Users/aurelien/venvs/venv-py312/lib/python3.12/site-packages/neuron/.data/include/hocdec.hg:\u001b[0m15\n",
      ":      17| :\u001b[0;1;32m                 ^\u001b[0m\n",
      "\u001b[0;1;30m\u001b[0mnote: \u001b[0mexpanded from macro 'getarg'\u001b[1m\u001b[0m/Users/aurelien/venvs/venv-py312/lib/python3.12/site-packages/neuron/.data/include/oc_ansi.h\n",
      ":49:16:   15 | #de f\u001b[0m\u001b[0;1;30mnote: \u001b[0mconflicting prototype is here\u001b[0mine ge\n",
      "targ    49 | exte rhno cd_ogetarg\u001b[0mu\n",
      "b      l| e\u001b[0;1;32m*                ^ \n",
      "g\u001b[0metarg(int);\u001b[0m\n",
      "      | \u001b[0;1;32m               ^\n",
      "\u001b[0m\u001b[1m/Users/aurelien/venvs/venv-py312/lib/python3.12/site-packages/neuron/.data/include/hocdec.h:15:17: \u001b[0m\u001b[0;1;30mnote: \u001b[0mexpanded from macro 'getarg'\u001b[0m\n",
      "   15 | #define getarg  hoc_getarg\u001b[0m\n",
      "      | \u001b[0;1;32m                ^\n",
      "\u001b[0m\u001b[1mNaTg.c:43:18: \u001b[0m\u001b[0;1;35mwarning: \u001b[0m\u001b[1ma function declaration without a prototype is deprecated in all versions of C and is treated as a zero-parameter prototype in C2x, conflicting with a previous declaration [-Wdeprecated-non-prototype]\u001b[0m\n",
      "   43 |          extern double *getarg();\u001b[0m\n",
      "      | \u001b[0;1;32m                        ^\n",
      "\u001b[0m\u001b[1m/Users/aurelien/venvs/venv-py312/lib/python3.12/site-packages/neuron/.data/include/hocdec.h:15:17: \u001b[0m\u001b[0;1;30mnote: \u001b[0mexpanded from macro 'getarg'\u001b[0m\n",
      "   15 | #define getarg  hoc_getarg\u001b[0m\n",
      "      | \u001b[0;1;32m                ^\n",
      "\u001b[0m\u001b[1m/Users/aurelien/venvs/venv-py312/lib/python3.12/site-packages/neuron/.data/include/oc_ansi.h:49:16: \u001b[0m\u001b[0;1;30mnote: \u001b[0mconflicting prototype is here\u001b[0m\n",
      "   49 | extern double* getarg(int);\u001b[0m\n",
      "      | \u001b[0;1;32m               ^\n",
      "\u001b[0m\u001b[1m/Users/aurelien/venvs/venv-py312/lib/python3.12/site-packages/neuron/.data/include/hocdec.h:15:17: \u001b[0m\u001b[0;1;30mnote: \u001b[0mexpanded from macro 'getarg'\u001b[0m\n",
      "   15 | #define getarg  hoc_getarg\u001b[0m\n",
      "      | \u001b[0;1;32m                ^\n",
      "\u001b[0m1 warning generated.\n",
      "1 warning generated.\n",
      "1 warning generated.\n",
      "1 warning generated.\n",
      " -> \u001b[32mCompiling\u001b[0m SK_E2.c\n",
      " -> \u001b[32mCompiling\u001b[0m Nap_Et2.c\n",
      " -> \u001b[32mCompiling\u001b[0m SKv3_1.c\n",
      "\u001b[1mSKv3_1.c:43:18: \u001b[0m\u001b[0;1;35mwarning: \u001b[0m\u001b[1ma function declaration without a prototype is deprecated in all versions of C and is treated as a zero-parameter prototype in C2x, conflicting with a previous declaration [-Wdeprecated-non-prototype]\u001b[0m\n",
      "   43 |          extern double *getarg();\u001b[0m\n",
      "      | \u001b[0;1;32m                        ^\n",
      "\u001b[0m\u001b[1m/Users/aurelien/venvs/venv-py312/lib/python3.12/site-packages/neuron/.data/include/hocdec.h:15:17: \u001b[0m\u001b[0;1;30mnote: \u001b[0mexpanded from macro 'getarg'\u001b[0m\n",
      "   15 | #define getarg  hoc_getarg\u001b[0m\n",
      "      | \u001b[0;1;32m                ^\n",
      "\u001b[0m\u001b[1m/Users/aurelien/venvs/venv-py312/lib/python3.12/site-packages/neuron/.data/include/oc_ansi.h:49:16: \u001b[0m\u001b[0;1;30mnote: \u001b[0mconflicting prototype is here\u001b[0m\n",
      "   49 | extern double* getarg(int);\u001b[0m\n",
      "      | \u001b[0;1;32m               ^\n",
      "\u001b[0m\u001b[1m/Users/aurelien/venvs/venv-py312/lib/python3.12/site-packages/neuron/.data/include/hocdec.h:15:17: \u001b[0m\u001b[0;1;30mnote: \u001b[0mexpanded from macro 'getarg'\u001b[0m\n",
      "   15 | #define getarg  hoc_getarg\u001b[0m\n",
      "      | \u001b[0;1;32m                ^\n",
      "\u001b[0m\u001b[1mNap_Et2.c:43:18: \u001b[0m\u001b[0;1;35mwarning: \u001b[0m\u001b[1ma function declaration without a prototype is deprecated in all versions of C and is treated as a zero-parameter prototype in C2x, conflicting with a previous declaration [-Wdeprecated-non-prototype]\u001b[\u001b[1mSK_E2.c:43:0m18: \u001b[0m\u001b[0;1;35mwarning: \n",
      "\u001b[0m\u001b[1ma function declaration without a prototype is deprecated in all versions of C and is treated as a zero-parameter prototype in C2x, conflicting with a previous declaration [-Wdeprecated-non-prototype]\u001b[0m\n",
      "   43 |          extern do   43 |          exutble *gern doubletarg();\u001b[0m\n",
      "      e *ge| \u001b[0;1;32m                        ^\n",
      "\u001b[0mtarg();\u001b[0m\n",
      "      | \u001b[0;1;32m                        ^\n",
      "\u001b[0m\u001b[1m/Users/aurelien/venvs/venv-py312/lib/python3.12/site-packages/neuron/.data/include/hocdec.h:15:17: \u001b[0m\u001b[0;1;30mnote: \u001b[0mexpanded from macro 'getarg'\u001b[1m/Users/aurelien/venvs/venv-py312/lib/python3.12/site-packages/neuron/.data/include/hocdec.h:15:17\u001b[0m:\n",
      " \u001b[0m\u001b[0;1;30m   note: 15\u001b[0m | expanded from macro 'getarg'#\u001b[0md\n",
      "ef   15 | #dine geteafine gertga r gh o ch_ogce_tgaertga\u001b[0mr\n",
      "g      \u001b[0m| \n",
      "\u001b[0;1;32m                      ^| \n",
      "\u001b[0;1;32m\u001b[0m                ^\n",
      "\u001b[0m\u001b[1m/Users/aurelien/venvs/venv-py312/lib/python3.12/site-packages/neuron/.data/include/oc_ansi.h:\u001b[1m49/Users/aurelien/venvs/venv-py312/lib/python3.12/site-packages/neuron/.data/include/oc_ansi.h::1649:: 16\u001b[0m:\u001b[0;1;30m note: \u001b[0m\u001b[0m\u001b[0;1;30mconflicting prototype is herenote: \u001b[0m\u001b[0m\n",
      "conflicting prototype is here\u001b[0m\n",
      "   49 | exte   r49n |  edxotuebrlne *d ogetarg(uibnlte)*; \u001b[0mg\n",
      "etarg(int);\u001b[0m\n",
      "            | \u001b[0;1;32m               ^\n",
      "\u001b[0m| \u001b[0;1;32m               ^\n",
      "\u001b[1m/Users/aurelien/venvs/venv-py312/lib/python3.12/site-packages/neuron/.data/include/hocdec.h:15:17:\u001b[0m\u001b[1m/Users/aurelien/venvs/venv-py312/lib/python3.12/site-packages/neuron/.data/include/hocdec.h :\u001b[0m\u001b[0;1;30mnote: \u001b[0mexpanded from macro 'getarg'\u001b[0m\n",
      "   15 | #d15:17: \u001b[0m\u001b[0;1;30menote: fine ge\u001b[0mtexpanded from macro 'getarg'a\u001b[0mr\n",
      "g     15h | o#cd_efineg egteatragr\u001b[0mg  ho\n",
      "c      | \u001b[0;1;32m                ^\n",
      "_\u001b[0mgetarg\u001b[0m\n",
      "      | \u001b[0;1;32m                ^\n",
      "\u001b[0m1 warning generated.\n",
      "1 warning generated.\n",
      "1 warning generated.\n",
      " => \u001b[32mLINKING\u001b[0m shared library ./libnrnmech.dylib\n",
      "Successfully created arm64/special\n"
     ]
    }
   ],
   "source": [
    "# compile mechanisms \n",
    "!nrnivmodl mechanisms\n",
    "\n",
    "# Alternatively \n",
    "# import os\n",
    "# os.system(f\"{venv_path}/bin/nrnivmodl mechanisms\")"
   ]
  },
  {
   "cell_type": "markdown",
   "metadata": {},
   "source": [
    "You will also need to have Neuron, BlueCelluLab, BluePyEModel and matplotlib installed. Now, we'll have to load every module that are needed in this notebook:"
   ]
  },
  {
   "cell_type": "code",
   "execution_count": 3,
   "metadata": {},
   "outputs": [
    {
     "name": "stderr",
     "output_type": "stream",
     "text": [
      "Warning: no DISPLAY environment variable.\n",
      "--No graphics will be displayed.\n"
     ]
    }
   ],
   "source": [
    "import json\n",
    "import matplotlib.pyplot as plt\n",
    "import numpy as np\n",
    "from pathlib import Path\n",
    "\n",
    "from bluecellulab import Cell\n",
    "from bluecellulab.circuit.circuit_access import EmodelProperties\n",
    "from bluecellulab.simulation import Simulation\n",
    "from bluecellulab.stimulus import StimulusFactory\n",
    "from bluecellulab.tools import calculate_rheobase\n",
    "from bluepyemodel.emodel_pipeline.plotting_utils import get_impedance\n"
   ]
  },
  {
   "cell_type": "markdown",
   "metadata": {},
   "source": [
    "Let's get the holding and threshold current from the data."
   ]
  },
  {
   "cell_type": "code",
   "execution_count": 4,
   "metadata": {},
   "outputs": [
    {
     "name": "stdout",
     "output_type": "stream",
     "text": [
      "Threshold Current = 0.0 nA\n",
      "Holding Current = 0.0 nA\n"
     ]
    }
   ],
   "source": [
    "holding_current = memodel.calibration_result.holding_current if memodel.calibration_result else None\n",
    "threshold_current = memodel.calibration_result.threshold_current if memodel.calibration_result else None\n",
    "\n",
    "print(f\"Threshold Current = {threshold_current} nA\")\n",
    "print(f\"Holding Current = {holding_current} nA\")"
   ]
  },
  {
   "cell_type": "markdown",
   "metadata": {},
   "source": [
    "If the holding current and the threshold current are not available, we will use default values of 0 for both for now, and compute the threshold current later on."
   ]
  },
  {
   "cell_type": "code",
   "execution_count": 5,
   "metadata": {},
   "outputs": [],
   "source": [
    "if holding_current is None:\n",
    "    print(\"No holding current provided, will set it to 0.\")\n",
    "    holding_current = 0\n",
    "compute_threshold = False\n",
    "if threshold_current is None or threshold_current == 0:\n",
    "    compute_threshold = True\n",
    "    threshold_current = 0\n",
    "emodel_properties = EmodelProperties(\n",
    "    threshold_current=threshold_current,\n",
    "    holding_current=holding_current,\n",
    ")"
   ]
  },
  {
   "cell_type": "markdown",
   "metadata": {},
   "source": [
    "Now that we have the holding and threshold current (or placeholder values if they were not in the metadata), we can create our cell using BlueCelluLab:"
   ]
  },
  {
   "cell_type": "code",
   "execution_count": 6,
   "metadata": {},
   "outputs": [],
   "source": [
    "cell = Cell(hoc_file, morph_file, template_format=\"v6\", emodel_properties=emodel_properties)"
   ]
  },
  {
   "cell_type": "markdown",
   "metadata": {},
   "source": [
    "Now that we have a cell, we can compute its threshold current if it was not provided in the metadata. First, we compute its RMP (resting membrane potential) and Rin (internal resistance) to get a maximum bound for threshold current, and use a bisection search algorithm. BlueCelluLab can handle all of that:"
   ]
  },
  {
   "cell_type": "code",
   "execution_count": 7,
   "metadata": {},
   "outputs": [
    {
     "name": "stdout",
     "output_type": "stream",
     "text": [
      "No threshold current provided, will attempt to compute it. This will take a few seconds...\n"
     ]
    }
   ],
   "source": [
    "if compute_threshold:\n",
    "    print(\"No threshold current provided, will attempt to compute it. This will take a few seconds...\")\n",
    "    emodel_properties.threshold_current = calculate_rheobase(cell)"
   ]
  },
  {
   "cell_type": "markdown",
   "metadata": {},
   "source": [
    "And we can print the holding and threshold currents:"
   ]
  },
  {
   "cell_type": "code",
   "execution_count": 8,
   "metadata": {},
   "outputs": [
    {
     "name": "stdout",
     "output_type": "stream",
     "text": [
      "threshold current is 0.06633294401724403 nA.\n",
      "holding current is 0.0 nA.\n"
     ]
    }
   ],
   "source": [
    "print(f\"threshold current is {emodel_properties.threshold_current} nA.\")\n",
    "print(f\"holding current is {emodel_properties.holding_current} nA.\")"
   ]
  },
  {
   "cell_type": "markdown",
   "metadata": {},
   "source": [
    "We will now create a sinespec protocol with a ZAP stimulus. We will provide a small delay of 300 ms in order to let the cell settle to its resting state before stimulating it. We can also set the time step. Here, we will set to 0.1 ms. Once again, BlueCelluLab takes care of creating the stimulus for us:"
   ]
  },
  {
   "cell_type": "code",
   "execution_count": 9,
   "metadata": {},
   "outputs": [],
   "source": [
    "stim_factory = StimulusFactory(dt=0.1)\n",
    "sinespec = stim_factory.sinespec(threshold_current=emodel_properties.threshold_current, pre_delay=300)"
   ]
  },
  {
   "cell_type": "markdown",
   "metadata": {},
   "source": [
    "Now, we can inject the stimulus into the cell, run it, and get its recorded time, current input, and voltage output. The voltage recording is already defined in BlueCelluLab, but not the injected current, so we have to add it as a recording by hand. Note that this can take a few seconds to run."
   ]
  },
  {
   "cell_type": "code",
   "execution_count": 10,
   "metadata": {},
   "outputs": [
    {
     "name": "stdout",
     "output_type": "stream",
     "text": [
      "Running the simulation...\n",
      "Done.\n"
     ]
    }
   ],
   "source": [
    "cell.inject_current_waveform(t_content=sinespec.time, i_content=sinespec.current)\n",
    "current_rec = \"neuron.h.IClamp[0]._ref_i\"\n",
    "cell.add_recording(current_rec)\n",
    "sim = Simulation(cell)\n",
    "print(\"Running the simulation...\")\n",
    "sim.run(sinespec.stimulus_time, dt=0.1)\n",
    "print(\"Done.\")\n",
    "time, voltage, current = cell.get_time(), cell.get_soma_voltage(), cell.get_recording(current_rec)"
   ]
  },
  {
   "cell_type": "markdown",
   "metadata": {},
   "source": [
    "Now, we can compute the impedance at all frequencies up to 50 Hz, and extract the frequency at which the impedance is maximal, using the BluePyEModel get_impedance function:"
   ]
  },
  {
   "cell_type": "code",
   "execution_count": 11,
   "metadata": {},
   "outputs": [
    {
     "name": "stdout",
     "output_type": "stream",
     "text": [
      "Impedance is maximal at 1.4709712268382318 Hz.\n"
     ]
    }
   ],
   "source": [
    "freq, smooth_Z = get_impedance(\n",
    "    time,\n",
    "    voltage,\n",
    "    current,\n",
    "    300.0,\n",
    "    5300.0,\n",
    "    efel_settings={},\n",
    ")\n",
    "if freq is None or smooth_Z is None:\n",
    "    raise TypeError(\"Could not compute the impedance.\")\n",
    "imp_arg = np.argmax(smooth_Z)\n",
    "imp_freq = freq[imp_arg]\n",
    "print(f\"Impedance is maximal at {imp_freq} Hz.\")"
   ]
  },
  {
   "cell_type": "markdown",
   "metadata": {},
   "source": [
    "Finally, we can plot our input current trace, output voltage trace, and impedance vs frequency plot, and save it as a pdf in the figures folder:"
   ]
  },
  {
   "cell_type": "code",
   "execution_count": 13,
   "metadata": {},
   "outputs": [
    {
     "data": {
      "image/png": "[encoded data removed]",
      "text/plain": [
       "<Figure size 600x1200 with 3 Axes>"
      ]
     },
     "metadata": {},
     "output_type": "display_data"
    }
   ],
   "source": [
    "fig, axs = plt.subplots(3, figsize=(6, 12))\n",
    "axs[0].plot(time, current)\n",
    "axs[0].set_xlabel(\"Time (ms)\")\n",
    "axs[0].set_ylabel(\"Injected current (nA)\")\n",
    "\n",
    "# voltage trace\n",
    "axs[1].plot(time, voltage)\n",
    "axs[1].set_xlabel(\"Time (ms)\")\n",
    "axs[1].set_ylabel(\"Voltage (mV)\")\n",
    "\n",
    "# impedance trace\n",
    "axs[2].plot(freq, smooth_Z)\n",
    "axs[2].axvline(imp_freq, ls=\"--\", c=\"red\")\n",
    "xlim = axs[2].get_xlim()\n",
    "new_xticks = list(axs[2].get_xticks()) + [imp_freq]\n",
    "axs[2].set_xticks(new_xticks)\n",
    "axs[2].xaxis.get_ticklabels()[-1].set_color(\"red\")\n",
    "# we have to re-set xlim after adding an xtick\n",
    "axs[2].set_xlim(xlim)\n",
    "axs[2].set_xlabel(\"Frequency (Hz)\")\n",
    "axs[2].set_ylabel(\"normalized Z\")\n",
    "\n",
    "fig.suptitle(f\"Impedance of {memodel.name}\")\n",
    "\n",
    "output_path = Path(\"figures\")\n",
    "output_path.mkdir(exist_ok=True)\n",
    "plt.savefig(output_path / \"impedance_analysis.pdf\")\n",
    "plt.show()"
   ]
  },
  {
   "cell_type": "code",
   "execution_count": null,
   "metadata": {},
   "outputs": [],
   "source": []
  }
 ],
 "metadata": {
  "kernelspec": {
   "display_name": "venv-py312",
   "language": "python",
   "name": "python3"
  },
  "language_info": {
   "codemirror_mode": {
    "name": "ipython",
    "version": 3
   },
   "file_extension": ".py",
   "mimetype": "text/x-python",
   "name": "python",
   "nbconvert_exporter": "python",
   "pygments_lexer": "ipython3",
   "version": "3.12.8"
  }
 },
 "nbformat": 4,
 "nbformat_minor": 2
}
