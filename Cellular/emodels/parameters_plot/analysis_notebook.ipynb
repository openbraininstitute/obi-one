{
 "cells": [
  {
   "cell_type": "markdown",
   "metadata": {},
   "source": [
    "## Model Parameter Comparison Plot\n",
    "\n",
    "Author: Darshan Mandge, Open Brain Institute\n",
    "\n",
    "Copyright (c) 2025 Open Brain Institute\n",
    "\n",
    "This notebook creates a log scatter plot and a heatmap of final parameters of an e-model.\n",
    "For each paramter, scatter plot for sectionlist (somatic, axonal, apical and basal) are plotted.\n",
    "\n"
   ]
  },
  {
   "cell_type": "markdown",
   "metadata": {},
   "source": [
    "The goal of this notebook is to compare and understand the relation between different paramteres in an e-model\n",
    "\n",
    "Before we begin, here is a brief introduction on e-models and model building pipeline.\n",
    "\n",
    "- An e-model is usually constructed from intracellular patch clamp data using multi-objective optimisation\n",
    "- We use the Open Brain Institute (OBI) Platform and our single cell modelling pipeline: [BluePyEModel](https://github.com/openbraininstitute/BluePyEModel)\n",
    "- The pipeline performs the following steps:\n",
    "    - extraction of electrical features (e-features) from the electrophysiology data\n",
    "    - optimisation of the e-features to minimise the z-score of each feature and reduce the overall\n",
    "    e-model score (sum of e-feature z-scores) \n",
    "    - validate the model\n",
    "\n",
    "\n",
    "- The pipeline store the final e-model details in a json file (EM__*.json) containing details such as\n",
    "- `fitness`  : the e-model score (sum of e-feature z-scores)\n",
    "- `parameter`: the hall of fame (best) parameters values which are were selected for different sections of the detailed morphology.  \n",
    "- `score`    : individual e-feature z-scores\n",
    "- `features` : individual e-feature absolute values\n",
    "- `scoreValidation` : validation score\n",
    "- `passedValidation`(bool) : passed or failed validation\n",
    "- `seed` : selected seed value from the multiple optimisation runs\n",
    "\n",
    "\n",
    "In this example, we will use the parameters stored in the EM__*.json to study any relations between parameters of different sections of the neuron e-model.\n",
    "\n",
    "\n",
    "To learn more about the model building process using BluePyEModel, see the following examples: \n",
    "\n",
    "- Local PC [example](https://github.com/openbraininstitute/BluePyEModel/tree/main/examples/L5PC) for  Somatosensory Cortex Layer 5 pyramidal neuron model \n",
    "- Using Nexus and OBI Platform [example](https://github.com/openbraininstitute/BluePyEModel/blob/main/examples/nexus/README.md)\n"
   ]
  },
  {
   "cell_type": "markdown",
   "metadata": {},
   "source": [
    "## Get the data\n",
    "\n",
    "If you have the e-model id, you can use the following cell to download the emodel json file. Alternatively, you can get it on the Open Brain Institute platform, on the e-model page you want to get, and click download. It will download a download.zip file. Unzip the file to find the `EM__*.json` file."
   ]
  },
  {
   "cell_type": "code",
   "execution_count": 1,
   "metadata": {},
   "outputs": [],
   "source": [
    "from pathlib import Path\n",
    "from obi_auth import get_token\n",
    "from entitysdk.client import Client\n",
    "from entitysdk.models import EModel\n",
    "\n",
    "\n",
    "emodel_id = \"bf48d4b6-ec99-4c3b-9192-ae8a7250bef8\"\n",
    "\n",
    "token = get_token(environment=\"staging\", auth_mode=\"daf\")\n",
    "client = Client(environment=\"staging\", token_manager=token)\n",
    "\n",
    "output_dir = \"./emodel_json\"\n",
    "Path(output_dir).mkdir(parents=True, exist_ok=True)\n",
    "\n",
    "emodel = client.get_entity(\n",
    "    entity_type=EModel,\n",
    "    entity_id=emodel_id,\n",
    ")\n",
    "assets = client.download_assets(\n",
    "        emodel,\n",
    "        selection={\"content_type\": \"application/json\"},\n",
    "        output_path=output_dir,\n",
    "    )\n",
    "# select the asset relative to the emodel (EM__), and not to the EModelScript (EMS__)\n",
    "emodel_json_path = None\n",
    "for asset in assets:\n",
    "    if asset.output_path.stem[:3] == \"EM_\":\n",
    "        emodel_json_path = asset.output_path\n",
    "        break\n",
    "assert emodel_json_path is not None"
   ]
  },
  {
   "cell_type": "code",
   "execution_count": 2,
   "metadata": {},
   "outputs": [],
   "source": [
    "import matplotlib.pyplot as plt\n",
    "from matplotlib.lines import Line2D\n",
    "import plotly.graph_objects as go\n",
    "import seaborn as sns\n",
    "import pandas as pd\n",
    "import json\n",
    "import copy"
   ]
  },
  {
   "cell_type": "code",
   "execution_count": 3,
   "metadata": {},
   "outputs": [
    {
     "data": {
      "text/plain": [
       "dict_keys(['fitness', 'parameter', 'score', 'features', 'scoreValidation', 'passedValidation', 'seed'])"
      ]
     },
     "execution_count": 3,
     "metadata": {},
     "output_type": "execute_result"
    }
   ],
   "source": [
    "# emodel_json_path = ...  # put here the path if you have downloaded it on your side\n",
    "with open(emodel_json_path, \"r\") as f:\n",
    "    em = json.load(f)\n",
    "em.keys()"
   ]
  },
  {
   "cell_type": "markdown",
   "metadata": {},
   "source": [
    "Now, we create lists for parameters in the 4 NEURON sectionlists: apical, basal, somatic and axonal. If the e-model you selected/donwloaded has other sectionlsist, the notebook cell below will need appropriate modification"
   ]
  },
  {
   "cell_type": "code",
   "execution_count": 4,
   "metadata": {},
   "outputs": [
    {
     "name": "stdout",
     "output_type": "stream",
     "text": [
      "somatic list length = 12\n",
      "axonal list length = 12\n",
      "basal list length = 6\n",
      "apical list length = 10\n",
      "param_names_unique list length = 13\n",
      "['decay_CaDynamics_DC0', 'gSKv3_1bar_SKv3_1', 'g_pas', 'gamma_CaDynamics_DC0', 'e_pas', 'gNaTgbar_NaTg', 'gK_Tstbar_K_Tst', 'gNap_Et2bar_Nap_Et2', 'gCa_HVAbar_Ca_HVA2', 'gCa_LVAstbar_Ca_LVAst', 'gK_Pstbar_K_Pst', 'gIhbar_Ih', 'gSK_E2bar_SK_E2']\n"
     ]
    }
   ],
   "source": [
    "somatic=[]\n",
    "axonal=[]\n",
    "basal=[]\n",
    "apical=[]\n",
    "\n",
    "param_names_unique = set()\n",
    "\n",
    "for param_dict in em['parameter']:\n",
    "    # print(param_dict['name'])\n",
    "    if 'somatic' in param_dict['name']:\n",
    "        somatic.append(copy.deepcopy(param_dict))\n",
    "    if 'axonal' in param_dict['name']:\n",
    "        axonal.append(copy.deepcopy(param_dict))\n",
    "    if 'basal' in param_dict['name']:\n",
    "        basal.append(copy.deepcopy(param_dict))\n",
    "    if 'apical' in param_dict['name']:\n",
    "        apical.append(copy.deepcopy(param_dict))\n",
    "    if '.all' in param_dict['name']:\n",
    "        somatic.append(copy.deepcopy(param_dict))\n",
    "        axonal.append(copy.deepcopy(param_dict))\n",
    "        basal.append(copy.deepcopy(param_dict))\n",
    "        apical.append(copy.deepcopy(param_dict))\n",
    "    if '.somadend' in param_dict['name']:\n",
    "        somatic.append(copy.deepcopy(param_dict))\n",
    "        basal.append(copy.deepcopy(param_dict))\n",
    "        apical.append(copy.deepcopy(param_dict))\n",
    "\n",
    "    param_names_unique.add(param_dict['name'].split('.')[0])\n",
    "\n",
    "# print the len of each list\n",
    "print(f\"somatic list length = {len(somatic)}\")\n",
    "print(f\"axonal list length = {len(axonal)}\")\n",
    "print(f\"basal list length = {len(basal)}\")\n",
    "print(f\"apical list length = {len(apical)}\")\n",
    "# q. can I convert the set to a list with the same name?\n",
    "# a. yes, but the order will be different\n",
    "param_names_unique = list(param_names_unique)\n",
    "print(f\"param_names_unique list length = {len(param_names_unique)}\")\n",
    "print(param_names_unique)"
   ]
  },
  {
   "cell_type": "code",
   "execution_count": 5,
   "metadata": {},
   "outputs": [],
   "source": [
    "# group the data by the parameter name and plot a box plot for each parameter\n",
    "# create a dictionary to hold the data\n",
    "data_dict = {}\n",
    "for param_name in param_names_unique:\n",
    "    data_dict[param_name] = {}\n",
    "    for temp_dict in somatic:\n",
    "        if param_name in temp_dict['name']:\n",
    "            data_dict[param_name]['somatic'] = copy.deepcopy(temp_dict['value'])\n",
    "    for temp_dict in axonal:\n",
    "        if param_name in temp_dict['name']:\n",
    "            data_dict[param_name]['axonal'] = copy.deepcopy(temp_dict['value'])\n",
    "    for temp_dict in basal:\n",
    "        if param_name in temp_dict['name']:\n",
    "            data_dict[param_name]['basal'] = copy.deepcopy(temp_dict['value'])\n",
    "    for temp_dict in apical:\n",
    "        if param_name in temp_dict['name']:\n",
    "            data_dict[param_name]['apical'] = copy.deepcopy(temp_dict['value'])\n"
   ]
  },
  {
   "cell_type": "markdown",
   "metadata": {},
   "source": [
    "The dictionary data_dict has all the parameters of the model with the values for 4 sectionlstits."
   ]
  },
  {
   "cell_type": "code",
   "execution_count": 6,
   "metadata": {},
   "outputs": [
    {
     "data": {
      "text/plain": [
       "{'decay_CaDynamics_DC0': {'somatic': 262.2336124221823,\n",
       "  'axonal': 154.27480997393874,\n",
       "  'apical': 30.66685006306855},\n",
       " 'gSKv3_1bar_SKv3_1': {'somatic': 0.9153961831919066,\n",
       "  'axonal': 0.5560377732365568,\n",
       "  'apical': 0.0008239678108858547},\n",
       " 'g_pas': {'somatic': 1.950024900179962e-05,\n",
       "  'axonal': 1.950024900179962e-05,\n",
       "  'basal': 1.950024900179962e-05,\n",
       "  'apical': 1.950024900179962e-05},\n",
       " 'gamma_CaDynamics_DC0': {'somatic': 0.014308708963482053,\n",
       "  'axonal': 0.010892943161365895,\n",
       "  'basal': 0.023817835474555023,\n",
       "  'apical': 0.0008808813438725832},\n",
       " 'e_pas': {'somatic': -90.99114013716066,\n",
       "  'axonal': -90.99114013716066,\n",
       "  'basal': -90.99114013716066,\n",
       "  'apical': -90.99114013716066},\n",
       " 'gNaTgbar_NaTg': {'somatic': 0.07645687931426047,\n",
       "  'axonal': 1.1198683974923498,\n",
       "  'apical': 0.019917330119200022},\n",
       " 'gK_Tstbar_K_Tst': {'somatic': 0.09859584059471482,\n",
       "  'axonal': 0.027076720343931257},\n",
       " 'gNap_Et2bar_Nap_Et2': {'axonal': 0.003145142219854339},\n",
       " 'gCa_HVAbar_Ca_HVA2': {'somatic': 0.0005591832443343277,\n",
       "  'axonal': 0.0005547192173841883,\n",
       "  'basal': 5.46407794672587e-05,\n",
       "  'apical': 0.0004404163500059719},\n",
       " 'gCa_LVAstbar_Ca_LVAst': {'somatic': 0.0006622930104584055,\n",
       "  'axonal': 0.0018029065747980576,\n",
       "  'basal': 1.1077694769036426e-05,\n",
       "  'apical': 0.003978825713989373},\n",
       " 'gK_Pstbar_K_Pst': {'somatic': 0.09036298886686944,\n",
       "  'axonal': 0.4895706525753729},\n",
       " 'gIhbar_Ih': {'somatic': 0.00012632529009518365,\n",
       "  'basal': 0.00012632529009518365,\n",
       "  'apical': 0.00012632529009518365},\n",
       " 'gSK_E2bar_SK_E2': {'somatic': 4.9999997198124646e-11,\n",
       "  'axonal': 0.04555210215064623,\n",
       "  'apical': 0.05273696299968331}}"
      ]
     },
     "execution_count": 6,
     "metadata": {},
     "output_type": "execute_result"
    }
   ],
   "source": [
    "data_dict"
   ]
  },
  {
   "cell_type": "code",
   "execution_count": 7,
   "metadata": {},
   "outputs": [
    {
     "data": {
      "application/vnd.plotly.v1+json": {
       "config": {
        "plotlyServerURL": "https://plot.ly"
       },
       "data": [
        {
         "marker": {
          "color": "red"
         },
         "mode": "markers",
         "name": "somatic",
         "type": "scatter",
         "x": [
          "decay_CaDynamics_DC0",
          "gSKv3_1bar_SKv3_1",
          "g_pas",
          "gamma_CaDynamics_DC0",
          "e_pas",
          "gNaTgbar_NaTg",
          "gK_Tstbar_K_Tst",
          "gCa_HVAbar_Ca_HVA2",
          "gCa_LVAstbar_Ca_LVAst",
          "gK_Pstbar_K_Pst",
          "gIhbar_Ih",
          "gSK_E2bar_SK_E2"
         ],
         "y": [
          262.2336124221823,
          0.9153961831919066,
          0.00001950024900179962,
          0.014308708963482053,
          -90.99114013716066,
          0.07645687931426047,
          0.09859584059471482,
          0.0005591832443343277,
          0.0006622930104584055,
          0.09036298886686944,
          0.00012632529009518365,
          4.9999997198124646e-11
         ]
        },
        {
         "marker": {
          "color": "green"
         },
         "mode": "markers",
         "name": "axonal",
         "type": "scatter",
         "x": [
          "decay_CaDynamics_DC0",
          "gSKv3_1bar_SKv3_1",
          "g_pas",
          "gamma_CaDynamics_DC0",
          "e_pas",
          "gNaTgbar_NaTg",
          "gK_Tstbar_K_Tst",
          "gNap_Et2bar_Nap_Et2",
          "gCa_HVAbar_Ca_HVA2",
          "gCa_LVAstbar_Ca_LVAst",
          "gK_Pstbar_K_Pst",
          "gSK_E2bar_SK_E2"
         ],
         "y": [
          154.27480997393874,
          0.5560377732365568,
          0.00001950024900179962,
          0.010892943161365895,
          -90.99114013716066,
          1.1198683974923498,
          0.027076720343931257,
          0.003145142219854339,
          0.0005547192173841883,
          0.0018029065747980576,
          0.4895706525753729,
          0.04555210215064623
         ]
        },
        {
         "marker": {
          "color": "blue"
         },
         "mode": "markers",
         "name": "basal",
         "type": "scatter",
         "x": [
          "g_pas",
          "gamma_CaDynamics_DC0",
          "e_pas",
          "gCa_HVAbar_Ca_HVA2",
          "gCa_LVAstbar_Ca_LVAst",
          "gIhbar_Ih"
         ],
         "y": [
          0.00001950024900179962,
          0.023817835474555023,
          -90.99114013716066,
          0.0000546407794672587,
          0.000011077694769036426,
          0.00012632529009518365
         ]
        },
        {
         "marker": {
          "color": "orange"
         },
         "mode": "markers",
         "name": "apical",
         "type": "scatter",
         "x": [
          "decay_CaDynamics_DC0",
          "gSKv3_1bar_SKv3_1",
          "g_pas",
          "gamma_CaDynamics_DC0",
          "e_pas",
          "gNaTgbar_NaTg",
          "gCa_HVAbar_Ca_HVA2",
          "gCa_LVAstbar_Ca_LVAst",
          "gIhbar_Ih",
          "gSK_E2bar_SK_E2"
         ],
         "y": [
          30.66685006306855,
          0.0008239678108858547,
          0.00001950024900179962,
          0.0008808813438725832,
          -90.99114013716066,
          0.019917330119200022,
          0.0004404163500059719,
          0.003978825713989373,
          0.00012632529009518365,
          0.05273696299968331
         ]
        }
       ],
       "layout": {
        "height": 400,
        "legend": {
         "title": {
          "text": "Compartment"
         }
        },
        "template": {
         "data": {
          "bar": [
           {
            "error_x": {
             "color": "#2a3f5f"
            },
            "error_y": {
             "color": "#2a3f5f"
            },
            "marker": {
             "line": {
              "color": "#E5ECF6",
              "width": 0.5
             },
             "pattern": {
              "fillmode": "overlay",
              "size": 10,
              "solidity": 0.2
             }
            },
            "type": "bar"
           }
          ],
          "barpolar": [
           {
            "marker": {
             "line": {
              "color": "#E5ECF6",
              "width": 0.5
             },
             "pattern": {
              "fillmode": "overlay",
              "size": 10,
              "solidity": 0.2
             }
            },
            "type": "barpolar"
           }
          ],
          "carpet": [
           {
            "aaxis": {
             "endlinecolor": "#2a3f5f",
             "gridcolor": "white",
             "linecolor": "white",
             "minorgridcolor": "white",
             "startlinecolor": "#2a3f5f"
            },
            "baxis": {
             "endlinecolor": "#2a3f5f",
             "gridcolor": "white",
             "linecolor": "white",
             "minorgridcolor": "white",
             "startlinecolor": "#2a3f5f"
            },
            "type": "carpet"
           }
          ],
          "choropleth": [
           {
            "colorbar": {
             "outlinewidth": 0,
             "ticks": ""
            },
            "type": "choropleth"
           }
          ],
          "contour": [
           {
            "colorbar": {
             "outlinewidth": 0,
             "ticks": ""
            },
            "colorscale": [
             [
              0,
              "#0d0887"
             ],
             [
              0.1111111111111111,
              "#46039f"
             ],
             [
              0.2222222222222222,
              "#7201a8"
             ],
             [
              0.3333333333333333,
              "#9c179e"
             ],
             [
              0.4444444444444444,
              "#bd3786"
             ],
             [
              0.5555555555555556,
              "#d8576b"
             ],
             [
              0.6666666666666666,
              "#ed7953"
             ],
             [
              0.7777777777777778,
              "#fb9f3a"
             ],
             [
              0.8888888888888888,
              "#fdca26"
             ],
             [
              1,
              "#f0f921"
             ]
            ],
            "type": "contour"
           }
          ],
          "contourcarpet": [
           {
            "colorbar": {
             "outlinewidth": 0,
             "ticks": ""
            },
            "type": "contourcarpet"
           }
          ],
          "heatmap": [
           {
            "colorbar": {
             "outlinewidth": 0,
             "ticks": ""
            },
            "colorscale": [
             [
              0,
              "#0d0887"
             ],
             [
              0.1111111111111111,
              "#46039f"
             ],
             [
              0.2222222222222222,
              "#7201a8"
             ],
             [
              0.3333333333333333,
              "#9c179e"
             ],
             [
              0.4444444444444444,
              "#bd3786"
             ],
             [
              0.5555555555555556,
              "#d8576b"
             ],
             [
              0.6666666666666666,
              "#ed7953"
             ],
             [
              0.7777777777777778,
              "#fb9f3a"
             ],
             [
              0.8888888888888888,
              "#fdca26"
             ],
             [
              1,
              "#f0f921"
             ]
            ],
            "type": "heatmap"
           }
          ],
          "histogram": [
           {
            "marker": {
             "pattern": {
              "fillmode": "overlay",
              "size": 10,
              "solidity": 0.2
             }
            },
            "type": "histogram"
           }
          ],
          "histogram2d": [
           {
            "colorbar": {
             "outlinewidth": 0,
             "ticks": ""
            },
            "colorscale": [
             [
              0,
              "#0d0887"
             ],
             [
              0.1111111111111111,
              "#46039f"
             ],
             [
              0.2222222222222222,
              "#7201a8"
             ],
             [
              0.3333333333333333,
              "#9c179e"
             ],
             [
              0.4444444444444444,
              "#bd3786"
             ],
             [
              0.5555555555555556,
              "#d8576b"
             ],
             [
              0.6666666666666666,
              "#ed7953"
             ],
             [
              0.7777777777777778,
              "#fb9f3a"
             ],
             [
              0.8888888888888888,
              "#fdca26"
             ],
             [
              1,
              "#f0f921"
             ]
            ],
            "type": "histogram2d"
           }
          ],
          "histogram2dcontour": [
           {
            "colorbar": {
             "outlinewidth": 0,
             "ticks": ""
            },
            "colorscale": [
             [
              0,
              "#0d0887"
             ],
             [
              0.1111111111111111,
              "#46039f"
             ],
             [
              0.2222222222222222,
              "#7201a8"
             ],
             [
              0.3333333333333333,
              "#9c179e"
             ],
             [
              0.4444444444444444,
              "#bd3786"
             ],
             [
              0.5555555555555556,
              "#d8576b"
             ],
             [
              0.6666666666666666,
              "#ed7953"
             ],
             [
              0.7777777777777778,
              "#fb9f3a"
             ],
             [
              0.8888888888888888,
              "#fdca26"
             ],
             [
              1,
              "#f0f921"
             ]
            ],
            "type": "histogram2dcontour"
           }
          ],
          "mesh3d": [
           {
            "colorbar": {
             "outlinewidth": 0,
             "ticks": ""
            },
            "type": "mesh3d"
           }
          ],
          "parcoords": [
           {
            "line": {
             "colorbar": {
              "outlinewidth": 0,
              "ticks": ""
             }
            },
            "type": "parcoords"
           }
          ],
          "pie": [
           {
            "automargin": true,
            "type": "pie"
           }
          ],
          "scatter": [
           {
            "fillpattern": {
             "fillmode": "overlay",
             "size": 10,
             "solidity": 0.2
            },
            "type": "scatter"
           }
          ],
          "scatter3d": [
           {
            "line": {
             "colorbar": {
              "outlinewidth": 0,
              "ticks": ""
             }
            },
            "marker": {
             "colorbar": {
              "outlinewidth": 0,
              "ticks": ""
             }
            },
            "type": "scatter3d"
           }
          ],
          "scattercarpet": [
           {
            "marker": {
             "colorbar": {
              "outlinewidth": 0,
              "ticks": ""
             }
            },
            "type": "scattercarpet"
           }
          ],
          "scattergeo": [
           {
            "marker": {
             "colorbar": {
              "outlinewidth": 0,
              "ticks": ""
             }
            },
            "type": "scattergeo"
           }
          ],
          "scattergl": [
           {
            "marker": {
             "colorbar": {
              "outlinewidth": 0,
              "ticks": ""
             }
            },
            "type": "scattergl"
           }
          ],
          "scattermap": [
           {
            "marker": {
             "colorbar": {
              "outlinewidth": 0,
              "ticks": ""
             }
            },
            "type": "scattermap"
           }
          ],
          "scattermapbox": [
           {
            "marker": {
             "colorbar": {
              "outlinewidth": 0,
              "ticks": ""
             }
            },
            "type": "scattermapbox"
           }
          ],
          "scatterpolar": [
           {
            "marker": {
             "colorbar": {
              "outlinewidth": 0,
              "ticks": ""
             }
            },
            "type": "scatterpolar"
           }
          ],
          "scatterpolargl": [
           {
            "marker": {
             "colorbar": {
              "outlinewidth": 0,
              "ticks": ""
             }
            },
            "type": "scatterpolargl"
           }
          ],
          "scatterternary": [
           {
            "marker": {
             "colorbar": {
              "outlinewidth": 0,
              "ticks": ""
             }
            },
            "type": "scatterternary"
           }
          ],
          "surface": [
           {
            "colorbar": {
             "outlinewidth": 0,
             "ticks": ""
            },
            "colorscale": [
             [
              0,
              "#0d0887"
             ],
             [
              0.1111111111111111,
              "#46039f"
             ],
             [
              0.2222222222222222,
              "#7201a8"
             ],
             [
              0.3333333333333333,
              "#9c179e"
             ],
             [
              0.4444444444444444,
              "#bd3786"
             ],
             [
              0.5555555555555556,
              "#d8576b"
             ],
             [
              0.6666666666666666,
              "#ed7953"
             ],
             [
              0.7777777777777778,
              "#fb9f3a"
             ],
             [
              0.8888888888888888,
              "#fdca26"
             ],
             [
              1,
              "#f0f921"
             ]
            ],
            "type": "surface"
           }
          ],
          "table": [
           {
            "cells": {
             "fill": {
              "color": "#EBF0F8"
             },
             "line": {
              "color": "white"
             }
            },
            "header": {
             "fill": {
              "color": "#C8D4E3"
             },
             "line": {
              "color": "white"
             }
            },
            "type": "table"
           }
          ]
         },
         "layout": {
          "annotationdefaults": {
           "arrowcolor": "#2a3f5f",
           "arrowhead": 0,
           "arrowwidth": 1
          },
          "autotypenumbers": "strict",
          "coloraxis": {
           "colorbar": {
            "outlinewidth": 0,
            "ticks": ""
           }
          },
          "colorscale": {
           "diverging": [
            [
             0,
             "#8e0152"
            ],
            [
             0.1,
             "#c51b7d"
            ],
            [
             0.2,
             "#de77ae"
            ],
            [
             0.3,
             "#f1b6da"
            ],
            [
             0.4,
             "#fde0ef"
            ],
            [
             0.5,
             "#f7f7f7"
            ],
            [
             0.6,
             "#e6f5d0"
            ],
            [
             0.7,
             "#b8e186"
            ],
            [
             0.8,
             "#7fbc41"
            ],
            [
             0.9,
             "#4d9221"
            ],
            [
             1,
             "#276419"
            ]
           ],
           "sequential": [
            [
             0,
             "#0d0887"
            ],
            [
             0.1111111111111111,
             "#46039f"
            ],
            [
             0.2222222222222222,
             "#7201a8"
            ],
            [
             0.3333333333333333,
             "#9c179e"
            ],
            [
             0.4444444444444444,
             "#bd3786"
            ],
            [
             0.5555555555555556,
             "#d8576b"
            ],
            [
             0.6666666666666666,
             "#ed7953"
            ],
            [
             0.7777777777777778,
             "#fb9f3a"
            ],
            [
             0.8888888888888888,
             "#fdca26"
            ],
            [
             1,
             "#f0f921"
            ]
           ],
           "sequentialminus": [
            [
             0,
             "#0d0887"
            ],
            [
             0.1111111111111111,
             "#46039f"
            ],
            [
             0.2222222222222222,
             "#7201a8"
            ],
            [
             0.3333333333333333,
             "#9c179e"
            ],
            [
             0.4444444444444444,
             "#bd3786"
            ],
            [
             0.5555555555555556,
             "#d8576b"
            ],
            [
             0.6666666666666666,
             "#ed7953"
            ],
            [
             0.7777777777777778,
             "#fb9f3a"
            ],
            [
             0.8888888888888888,
             "#fdca26"
            ],
            [
             1,
             "#f0f921"
            ]
           ]
          },
          "colorway": [
           "#636efa",
           "#EF553B",
           "#00cc96",
           "#ab63fa",
           "#FFA15A",
           "#19d3f3",
           "#FF6692",
           "#B6E880",
           "#FF97FF",
           "#FECB52"
          ],
          "font": {
           "color": "#2a3f5f"
          },
          "geo": {
           "bgcolor": "white",
           "lakecolor": "white",
           "landcolor": "#E5ECF6",
           "showlakes": true,
           "showland": true,
           "subunitcolor": "white"
          },
          "hoverlabel": {
           "align": "left"
          },
          "hovermode": "closest",
          "mapbox": {
           "style": "light"
          },
          "paper_bgcolor": "white",
          "plot_bgcolor": "#E5ECF6",
          "polar": {
           "angularaxis": {
            "gridcolor": "white",
            "linecolor": "white",
            "ticks": ""
           },
           "bgcolor": "#E5ECF6",
           "radialaxis": {
            "gridcolor": "white",
            "linecolor": "white",
            "ticks": ""
           }
          },
          "scene": {
           "xaxis": {
            "backgroundcolor": "#E5ECF6",
            "gridcolor": "white",
            "gridwidth": 2,
            "linecolor": "white",
            "showbackground": true,
            "ticks": "",
            "zerolinecolor": "white"
           },
           "yaxis": {
            "backgroundcolor": "#E5ECF6",
            "gridcolor": "white",
            "gridwidth": 2,
            "linecolor": "white",
            "showbackground": true,
            "ticks": "",
            "zerolinecolor": "white"
           },
           "zaxis": {
            "backgroundcolor": "#E5ECF6",
            "gridcolor": "white",
            "gridwidth": 2,
            "linecolor": "white",
            "showbackground": true,
            "ticks": "",
            "zerolinecolor": "white"
           }
          },
          "shapedefaults": {
           "line": {
            "color": "#2a3f5f"
           }
          },
          "ternary": {
           "aaxis": {
            "gridcolor": "white",
            "linecolor": "white",
            "ticks": ""
           },
           "baxis": {
            "gridcolor": "white",
            "linecolor": "white",
            "ticks": ""
           },
           "bgcolor": "#E5ECF6",
           "caxis": {
            "gridcolor": "white",
            "linecolor": "white",
            "ticks": ""
           }
          },
          "title": {
           "x": 0.05
          },
          "xaxis": {
           "automargin": true,
           "gridcolor": "white",
           "linecolor": "white",
           "ticks": "",
           "title": {
            "standoff": 15
           },
           "zerolinecolor": "white",
           "zerolinewidth": 2
          },
          "yaxis": {
           "automargin": true,
           "gridcolor": "white",
           "linecolor": "white",
           "ticks": "",
           "title": {
            "standoff": 15
           },
           "zerolinecolor": "white",
           "zerolinewidth": 2
          }
         }
        },
        "title": {
         "text": "Parameter values for different compartments",
         "x": 0.5
        },
        "width": 800,
        "xaxis": {
         "title": {
          "text": "Parameter"
         }
        },
        "yaxis": {
         "title": {
          "text": "Parameter Value"
         },
         "type": "log"
        }
       }
      }
     },
     "metadata": {},
     "output_type": "display_data"
    }
   ],
   "source": [
    "# Create a scatter plot using Plotly\n",
    "fig = go.Figure(layout=go.Layout(width=800, height=400))\n",
    "colors = ['red', 'green', 'blue', 'orange']\n",
    "# Add scatter traces for each compartment\n",
    "for compartment, color in zip(['somatic', 'axonal', 'basal', 'apical'], colors):\n",
    "    x = []\n",
    "    y = []\n",
    "    for param_name in param_names_unique:\n",
    "        if compartment in data_dict[param_name]:\n",
    "            x.append(param_name)\n",
    "            y.append(data_dict[param_name][compartment])\n",
    "    fig.add_trace(go.Scatter(\n",
    "        x=x,\n",
    "        y=y,\n",
    "        mode='markers',\n",
    "        name=compartment,\n",
    "        marker=dict(color=color)\n",
    "    ))\n",
    "\n",
    "# Update layout\n",
    "fig.update_layout(\n",
    "    title={'text': 'Parameter values for different compartments', 'x': 0.5},\n",
    "    xaxis_title='Parameter',\n",
    "    yaxis_title='Parameter Value',\n",
    "    yaxis_type='log',\n",
    "    legend_title='Compartment'\n",
    ")\n",
    "\n",
    "fig.show()"
   ]
  },
  {
   "cell_type": "code",
   "execution_count": 8,
   "metadata": {},
   "outputs": [
    {
     "data": {
      "image/png": "[encoded data removed]",
      "text/plain": [
       "<Figure size 1500x300 with 1 Axes>"
      ]
     },
     "metadata": {},
     "output_type": "display_data"
    }
   ],
   "source": [
    "#Same plot using matplotlib: simpler but less interactive\n",
    "\n",
    "fig, ax = plt.subplots(nrows=1,ncols=1, figsize=(15, 3))\n",
    "# use distinct colors for better differentiation\n",
    "colors = ['red', 'green', 'blue', 'orange']\n",
    "\n",
    "for i,key in enumerate(sorted(data_dict)):\n",
    "    # plot the data for each parameter with a different color for each compartment\n",
    "    for compartment, color in zip(['somatic', 'axonal', 'basal', 'apical'], colors):\n",
    "        if compartment in data_dict[key]:\n",
    "            ax.scatter(i, data_dict[key][compartment], color=color, label=compartment)\n",
    "\n",
    "# set the xticks to the parameter names\n",
    "ax.set_xticks(range(len(data_dict)))\n",
    "ax.set_xticklabels(data_dict.keys(), rotation=90)\n",
    "ax.set_ylabel('Parameter Value')\n",
    "# log scale for the y-axis\n",
    "ax.set_yscale('log')\n",
    "ax.set_title('Parameter values for different compartments')\n",
    "\n",
    "# Create custom legend handles with the new colors\n",
    "legend_elements = [Line2D([0], [0], marker='o', color='w', markerfacecolor=c, \n",
    "                         label=l, markersize=10) \n",
    "                  for l, c in zip(['somatic', 'axonal', 'basal', 'apical'], colors)]\n",
    "ax.legend(handles=legend_elements, bbox_to_anchor=(1, 1), loc='upper left')\n",
    "plt.show()\n",
    "\n"
   ]
  },
  {
   "cell_type": "code",
   "execution_count": 13,
   "metadata": {},
   "outputs": [
    {
     "data": {
      "image/png": "[encoded data removed]",
      "text/plain": [
       "<Figure size 1200x800 with 2 Axes>"
      ]
     },
     "metadata": {},
     "output_type": "display_data"
    }
   ],
   "source": [
    "# Convert the data_dict to a DataFrame\n",
    "df_heatmap = pd.DataFrame(data_dict).T\n",
    "\n",
    "# Create a heatmap\n",
    "plt.figure(figsize=(12, 8))\n",
    "sns.heatmap(df_heatmap, annot=True, cmap='viridis', cbar_kws={'label': 'Parameter Value'}, linewidths=.5)\n",
    "plt.title('Heatmap of Parameter Values for Different Compartments')\n",
    "plt.xlabel('Compartment')\n",
    "plt.ylabel('Parameter')\n",
    "plt.show()"
   ]
  }
 ],
 "metadata": {
  "kernelspec": {
   "display_name": "venv-py312",
   "language": "python",
   "name": "python3"
  },
  "language_info": {
   "codemirror_mode": {
    "name": "ipython",
    "version": 3
   },
   "file_extension": ".py",
   "mimetype": "text/x-python",
   "name": "python",
   "nbconvert_exporter": "python",
   "pygments_lexer": "ipython3",
   "version": "3.12.8"
  }
 },
 "nbformat": 4,
 "nbformat_minor": 4
}
