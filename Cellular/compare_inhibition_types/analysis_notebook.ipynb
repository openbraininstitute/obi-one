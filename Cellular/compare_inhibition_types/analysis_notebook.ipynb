{
 "cells": [
  {
   "cell_type": "markdown",
   "metadata": {},
   "source": [
    "# Compare synapses inhibition types using synaptome simulations\n",
    "\n",
    "Copyright (c) 2025 Open Brain Institute\n",
    "\n",
    "Authors: Michael W. Reimann, Aurélien Jaquier\n",
    "\n",
    "last modified: 08.2025"
   ]
  },
  {
   "cell_type": "markdown",
   "metadata": {},
   "source": [
    "## Summary\n",
    "\n",
    "The purpose of this notebook is to display the capability of inhibitory synapses to prevent the neuron from spiking depending on their location.\n",
    "\n",
    "To do so, this notebook analyses three single neuron synaptome simulation output files.\n",
    "\n",
    "The first one contains only excitatory synapses activated with a range of frequencies.\n",
    "The second one contains the same excitatory synapses activated at a fixed frequency, and contains proximal inhibitory synapses activated with a range of frequencies.\n",
    "The last one contains the same excitatory synapses activated at a fixed frequency, and contains distal inhibitory synapses activated with a range of frequencies."
   ]
  },
  {
   "cell_type": "code",
   "execution_count": null,
   "metadata": {},
   "outputs": [],
   "source": [
    "import pandas\n",
    "import json\n",
    "import numpy\n",
    "\n",
    "from scipy.optimize import minimize\n",
    "from matplotlib import pyplot as plt\n",
    "\n",
    "from obi_auth import get_token\n",
    "from entitysdk.client import Client\n",
    "from entitysdk.models import SingleNeuronSynaptomeSimulation\n",
    "from obi_notebook import get_projects\n",
    "from obi_notebook import get_entities\n"
   ]
  },
  {
   "cell_type": "markdown",
   "metadata": {},
   "source": [
    "You will first have to authenticate to the platform. To do that, just click on the link after running the python cell below and follow instructions. Then, you will have to select in the drop-dow menu the project that was used to produce the synaptome simulations."
   ]
  },
  {
   "cell_type": "code",
   "execution_count": 4,
   "metadata": {},
   "outputs": [
    {
     "data": {
      "application/vnd.jupyter.widget-view+json": {
       "model_id": "77b9c1c066b7471b975e3e2d450daa55",
       "version_major": 2,
       "version_minor": 0
      },
      "text/plain": [
       "Dropdown(description='Select:', options=(('Single Cell Project', {'id': '50280a36-44b9-45e7-8b7d-db220a203ce5'…"
      ]
     },
     "metadata": {},
     "output_type": "display_data"
    }
   ],
   "source": [
    "token = get_token(environment=\"production\", auth_mode=\"daf\")\n",
    "project_context = get_projects.get_projects(token)"
   ]
  },
  {
   "cell_type": "code",
   "execution_count": 13,
   "metadata": {},
   "outputs": [],
   "source": [
    "client = Client(environment=\"production\", project_context=project_context, token_manager=token)"
   ]
  },
  {
   "cell_type": "markdown",
   "metadata": {},
   "source": [
    "Here, put the id of the synaptome simulation you performed with only excitatory synapses, or alternitavely, select one form the drop-down menu after running the cell."
   ]
  },
  {
   "cell_type": "code",
   "execution_count": 14,
   "metadata": {},
   "outputs": [
    {
     "data": {
      "application/vnd.jupyter.widget-view+json": {
       "model_id": "81a501f5dd6542888ce571e61ed1417f",
       "version_major": 2,
       "version_minor": 0
      },
      "text/plain": [
       "HBox(children=(Text(value='', description='Name:'), Dropdown(description='Results page:', layout=Layout(width=…"
      ]
     },
     "metadata": {},
     "output_type": "display_data"
    },
    {
     "data": {
      "application/vnd.jupyter.widget-view+json": {
       "model_id": "46bd169b713145bc98b674f3b64418af",
       "version_major": 2,
       "version_minor": 0
      },
      "text/plain": [
       "Output()"
      ]
     },
     "metadata": {},
     "output_type": "display_data"
    }
   ],
   "source": [
    "exc_only_id = \"\"\n",
    "if not exc_only_id:\n",
    "    exc_only_id_list = []\n",
    "    exc_only_id_list = get_entities.get_entities(\"single-neuron-synaptome-simulation\", token, exc_only_id_list,\n",
    "                                            project_context=project_context,\n",
    "                                            multi_select=False,\n",
    "                                            page_size=100)"
   ]
  },
  {
   "cell_type": "markdown",
   "metadata": {},
   "source": [
    "Here, put the id of the synaptome simulation you performed with only proximal inhibitory synapses, or alternitavely, select one form the drop-down menu after running the cell."
   ]
  },
  {
   "cell_type": "code",
   "execution_count": 15,
   "metadata": {},
   "outputs": [
    {
     "data": {
      "application/vnd.jupyter.widget-view+json": {
       "model_id": "a5f74a0dffd0404084ae2d7831fb9c39",
       "version_major": 2,
       "version_minor": 0
      },
      "text/plain": [
       "HBox(children=(Text(value='', description='Name:'), Dropdown(description='Results page:', layout=Layout(width=…"
      ]
     },
     "metadata": {},
     "output_type": "display_data"
    },
    {
     "data": {
      "application/vnd.jupyter.widget-view+json": {
       "model_id": "a361903fd9f141ada71f1660e5625321",
       "version_major": 2,
       "version_minor": 0
      },
      "text/plain": [
       "Output()"
      ]
     },
     "metadata": {},
     "output_type": "display_data"
    }
   ],
   "source": [
    "inh_prox_id = \"\"\n",
    "if not inh_prox_id:\n",
    "    inh_prox_id_list = []\n",
    "    inh_prox_id_list = get_entities.get_entities(\"single-neuron-synaptome-simulation\", token, inh_prox_id_list,\n",
    "                                            project_context=project_context,\n",
    "                                            multi_select=False,\n",
    "                                            page_size=100)"
   ]
  },
  {
   "cell_type": "markdown",
   "metadata": {},
   "source": [
    "Here, put the id of the synaptome simulation you performed with only distal inhibitory synapses, or alternitavely, select one form the drop-down menu after running the cell."
   ]
  },
  {
   "cell_type": "code",
   "execution_count": 17,
   "metadata": {},
   "outputs": [
    {
     "data": {
      "application/vnd.jupyter.widget-view+json": {
       "model_id": "8d1b652091b04ee39cbfc33520fcf465",
       "version_major": 2,
       "version_minor": 0
      },
      "text/plain": [
       "HBox(children=(Text(value='', description='Name:'), Dropdown(description='Results page:', layout=Layout(width=…"
      ]
     },
     "metadata": {},
     "output_type": "display_data"
    },
    {
     "data": {
      "application/vnd.jupyter.widget-view+json": {
       "model_id": "73818c19cb324aa789f6a8501d8177ea",
       "version_major": 2,
       "version_minor": 0
      },
      "text/plain": [
       "Output()"
      ]
     },
     "metadata": {},
     "output_type": "display_data"
    }
   ],
   "source": [
    "inh_dist_id = \"\"\n",
    "if not inh_dist_id:\n",
    "    inh_dist_id_list = []\n",
    "    inh_dist_id_list = get_entities.get_entities(\"single-neuron-synaptome-simulation\", token, inh_dist_id_list,\n",
    "                                            project_context=project_context,\n",
    "                                            multi_select=False,\n",
    "                                            page_size=100)"
   ]
  },
  {
   "cell_type": "markdown",
   "metadata": {},
   "source": [
    "Finally, input below the frequency used for the excitatory synapses. Once this is down, run the cell below to download the data"
   ]
  },
  {
   "cell_type": "code",
   "execution_count": 18,
   "metadata": {},
   "outputs": [],
   "source": [
    "freq_e_used = 5 # Frequency of the excitatory synapses used in the simulations\n",
    "\n",
    "ids = {\n",
    "    \"exc-only\": exc_only_id if exc_only_id else exc_only_id_list[0],\n",
    "    \"inh-prox\": inh_prox_id if inh_prox_id else inh_prox_id_list[0],\n",
    "    \"inh-dist\": inh_dist_id if inh_dist_id else inh_dist_id_list[0],\n",
    "}\n",
    "\n",
    "# download the data\n",
    "simulation_paths = {}\n",
    "for key, sim_id in ids.items():\n",
    "    simulation = client.get_entity(\n",
    "        entity_type=SingleNeuronSynaptomeSimulation,\n",
    "        entity_id=sim_id,\n",
    "    )\n",
    "    asset = client.download_assets(\n",
    "        simulation,\n",
    "        output_path=\"./\",  # here you can put a repo for downloading the simulation\n",
    "    ).one()\n",
    "    simulation_paths[key] = asset.path"
   ]
  },
  {
   "cell_type": "markdown",
   "metadata": {},
   "source": [
    "## Read in data"
   ]
  },
  {
   "cell_type": "code",
   "execution_count": 19,
   "metadata": {},
   "outputs": [],
   "source": [
    "data_keys = [\"x\", \"y\"]\n",
    "\n",
    "def entries_to_df(entries):\n",
    "    data = []    \n",
    "    for entry in entries:\n",
    "        df = pandas.DataFrame(dict([(k, entry.pop(k)) for k in data_keys]))\n",
    "        for k, v in entry.items():\n",
    "            df[k] = v\n",
    "        data.append(df)\n",
    "    ret = pandas.concat(data, axis=0)\n",
    "    cols = [_c for _c in ret.columns if _c not in data_keys]\n",
    "    ret = ret.fillna(\"_NONE\").set_index(cols)\n",
    "    return ret\n",
    "\n",
    "def read_list_of_entries(lst):\n",
    "    data = pandas.concat([entries_to_df(_v) for _v in lst.values()], axis=0)\n",
    "    return data\n",
    "\n",
    "def read_sim_config_data(fid):\n",
    "    cfg = json.load(fid)\n",
    "    data_out = read_list_of_entries(cfg[\"simulation\"])\n",
    "    stim_out = entries_to_df(cfg[\"stimulus\"])\n",
    "    return data_out, stim_out\n",
    "\n",
    "def read_all_contents(sim_path):\n",
    "    all_data = []; all_stim = []\n",
    "    with open(sim_path) as fid:\n",
    "        data, stim = read_sim_config_data(fid)\n",
    "        all_data.append(data); all_stim.append(stim)\n",
    "    all_stim = pandas.concat(all_stim, axis=0, keys=range(len(all_stim)), names=[\"repetition\"])\n",
    "    all_data = pandas.concat(all_data, axis=0, keys=range(len(all_data)), names=[\"repetition\"])\n",
    "    return (all_stim, all_data)\n",
    "\n",
    "contents = dict([\n",
    "    (k, read_all_contents(sim_path))\n",
    "    for k, sim_path in simulation_paths.items()\n",
    "])"
   ]
  },
  {
   "cell_type": "markdown",
   "metadata": {},
   "source": [
    "## Perform simple spike counting"
   ]
  },
  {
   "cell_type": "code",
   "execution_count": 20,
   "metadata": {},
   "outputs": [],
   "source": [
    "def simple_spike_counter(stim_rec_tuple):\n",
    "    _, rec_df = stim_rec_tuple\n",
    "    # This simple spike counter simply detects crossing 0 mV.\n",
    "    zero_crossings = (rec_df[\"y\"].values[:-1] < 0) & (rec_df[\"y\"].values[1:] >= 0)\n",
    "    t_spikes = rec_df[\"x\"].iloc[1:][zero_crossings]\n",
    "    t_spikes.name = \"spike-count\"\n",
    "\n",
    "    return t_spikes.groupby(t_spikes.index.names).count()\n",
    "\n",
    "spike_counts = dict([\n",
    "    (k, simple_spike_counter(v))\n",
    "    for k, v in contents.items()\n",
    "])"
   ]
  },
  {
   "cell_type": "markdown",
   "metadata": {},
   "source": [
    "## Focus on conditions of interest and reformat data representation"
   ]
  },
  {
   "cell_type": "code",
   "execution_count": 21,
   "metadata": {},
   "outputs": [],
   "source": [
    "cols_to_drop = [\"type\", \"name\", \"recording\", \"varying_key\"]\n",
    "# cols_to_drop = [\"type\", \"name\"]\n",
    "cols_of_interest = [\"amplitude\", \"freq-e\", \"freq-i-prox\", \"freq-i-dist\"]\n",
    "\n",
    "df = spike_counts[\"exc-only\"].reset_index()\n",
    "df = df.drop(columns=cols_to_drop).rename(columns={\"frequency\": \"freq-e\"})\n",
    "# df = df.drop(columns=cols_to_drop)\n",
    "df[\"freq-i-prox\"] = 0\n",
    "df[\"freq-i-dist\"] = 0\n",
    "spike_counts[\"exc-only\"] = df\n",
    "\n",
    "df = spike_counts[\"inh-prox\"].reset_index()\n",
    "df = df.drop(columns=cols_to_drop).rename(columns={\"frequency\": \"freq-i-prox\"})\n",
    "df[\"freq-e\"] = freq_e_used\n",
    "df[\"freq-i-dist\"] = 0\n",
    "spike_counts[\"inh-prox\"] = df\n",
    "\n",
    "df = spike_counts[\"inh-dist\"].reset_index()\n",
    "df = df.drop(columns=cols_to_drop).rename(columns={\"frequency\": \"freq-i-dist\"})\n",
    "df[\"freq-e\"] = freq_e_used\n",
    "df[\"freq-i-prox\"] = 0\n",
    "spike_counts[\"inh-dist\"] = df"
   ]
  },
  {
   "cell_type": "markdown",
   "metadata": {},
   "source": [
    "## Plot the number of spikes in function of the frequency"
   ]
  },
  {
   "cell_type": "code",
   "execution_count": 22,
   "metadata": {},
   "outputs": [
    {
     "name": "stderr",
     "output_type": "stream",
     "text": [
      "/var/folders/h5/d6s2xj7533n0n5t1py878_040000gn/T/ipykernel_76788/3358423807.py:7: PerformanceWarning: indexing past lexsort depth may impact performance.\n",
      "  plt.plot(spike_count_df_ro[(0, 0, 0)], marker='o', label=\"Excitation only\")\n"
     ]
    },
    {
     "data": {
      "text/plain": [
       "'The black arrow indicates the excitatory frequency used for the second plot.'"
      ]
     },
     "metadata": {},
     "output_type": "display_data"
    },
    {
     "data": {
      "image/png": "[encoded data removed]",
      "text/plain": [
       "<Figure size 350x300 with 1 Axes>"
      ]
     },
     "metadata": {},
     "output_type": "display_data"
    },
    {
     "data": {
      "image/png": "[encoded data removed]",
      "text/plain": [
       "<Figure size 350x300 with 1 Axes>"
      ]
     },
     "metadata": {},
     "output_type": "display_data"
    }
   ],
   "source": [
    "spike_count_df = pandas.concat(list(spike_counts.values()), axis=0)\n",
    "\n",
    "spike_count_df = spike_count_df.groupby(cols_of_interest)[\"spike-count\"].mean()\n",
    "spike_count_df_ro = spike_count_df.reorder_levels([\"amplitude\", \"freq-i-prox\", \"freq-i-dist\", \"freq-e\"])\n",
    "\n",
    "plt.figure(figsize=(3.5, 3.))\n",
    "plt.plot(spike_count_df_ro[(0, 0, 0)], marker='o', label=\"Excitation only\")\n",
    "plt.arrow(freq_e_used, 4, 0, -4, head_width=0.2)\n",
    "plt.legend()\n",
    "plt.gca().set_xlabel(\"Exc. frequency\")\n",
    "plt.gca().set_ylabel(\"Spike count\")\n",
    "plt.gca().set_frame_on(False)\n",
    "\n",
    "plt.figure(figsize=(3.5, 3.))\n",
    "\n",
    "data = spike_count_df[(0, freq_e_used)].unstack(\"freq-i-dist\")[0]\n",
    "x = data.index.values; y = data.values\n",
    "plt.plot(x, y, marker='o', label=\"Proximal inhibition\", color=\"blue\")\n",
    "fit_fun = lambda _param: (y[0] - _param[1]) * numpy.exp(-x / _param[0]) + _param[1]\n",
    "opt_fun = lambda _param: numpy.sum(numpy.abs(fit_fun(_param) - y))\n",
    "opt_res = minimize(opt_fun, [10.0, 1.0]).x\n",
    "plt.plot(x, fit_fun(opt_res), color=\"blue\", ls=\"--\", lw=0.5, label=\"Proximal: fit\")\n",
    "\n",
    "data = spike_count_df[(0, freq_e_used)].unstack(\"freq-i-prox\")[0]\n",
    "x = data.index.values; y = data.values\n",
    "plt.plot(x, y, marker='o', label=\"Distal inhibition\", color=\"orange\")\n",
    "fit_fun = lambda _param: (y[0] - _param[1]) * numpy.exp(-x / _param[0]) + _param[1]\n",
    "opt_fun = lambda _param: numpy.sum(numpy.abs(fit_fun(_param) - y))\n",
    "opt_res = minimize(opt_fun, [10.0, 1.0]).x\n",
    "plt.plot(x, fit_fun(opt_res), color=\"orange\", ls=\"--\", lw=0.5, label=\"Distal: fit\")\n",
    "\n",
    "plt.legend()\n",
    "plt.gca().set_xlabel(\"Inh. frequency\")\n",
    "plt.gca().set_ylabel(\"Spike count\")\n",
    "plt.gca().set_frame_on(False)\n",
    "\n",
    "display(\"The black arrow indicates the excitatory frequency used for the second plot.\")"
   ]
  },
  {
   "cell_type": "code",
   "execution_count": 23,
   "metadata": {},
   "outputs": [],
   "source": [
    "data = spike_count_df[(0, freq_e_used)].unstack(\"freq-i-dist\")[0]"
   ]
  },
  {
   "cell_type": "markdown",
   "metadata": {},
   "source": [
    "## Fit to the inhibitory proximal simulation plot"
   ]
  },
  {
   "cell_type": "code",
   "execution_count": 24,
   "metadata": {},
   "outputs": [
    {
     "data": {
      "text/plain": [
       "[<matplotlib.lines.Line2D at 0x33bbe81d0>]"
      ]
     },
     "execution_count": 24,
     "metadata": {},
     "output_type": "execute_result"
    },
    {
     "data": {
      "image/png": "[encoded data removed]",
      "text/plain": [
       "<Figure size 640x480 with 1 Axes>"
      ]
     },
     "metadata": {},
     "output_type": "display_data"
    }
   ],
   "source": [
    "x = data.index.values; y = data.values\n",
    "fit_fun = lambda _param: y[0] * numpy.exp(-x / _param[0]) + _param[1]\n",
    "opt_fun = lambda _param: numpy.sum(numpy.abs(fit_fun(_param) - y))\n",
    "opt_res = minimize(opt_fun, [10.0, 1.0]).x\n",
    "plt.plot(x, fit_fun(opt_res))\n"
   ]
  },
  {
   "cell_type": "code",
   "execution_count": null,
   "metadata": {},
   "outputs": [],
   "source": []
  }
 ],
 "metadata": {
  "kernelspec": {
   "display_name": "venv-py312",
   "language": "python",
   "name": "python3"
  },
  "language_info": {
   "codemirror_mode": {
    "name": "ipython",
    "version": 3
   },
   "file_extension": ".py",
   "mimetype": "text/x-python",
   "name": "python",
   "nbconvert_exporter": "python",
   "pygments_lexer": "ipython3",
   "version": "3.12.8"
  }
 },
 "nbformat": 4,
 "nbformat_minor": 2
}
