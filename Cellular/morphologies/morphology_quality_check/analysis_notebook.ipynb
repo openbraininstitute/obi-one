{
 "cells": [
  {
   "cell_type": "markdown",
   "id": "70aa7b6e",
   "metadata": {},
   "source": [
    "## Imports and setting up platform authentication\n",
    "\n",
    "Please follow the displayed instructions to authenticate."
   ]
  },
  {
   "cell_type": "code",
   "execution_count": 1,
   "id": "7f19c615",
   "metadata": {},
   "outputs": [],
   "source": [
    "from obi_auth import get_token\n",
    "from entitysdk.client import Client\n",
    "from entitysdk.models import ReconstructionMorphology\n",
    "import pandas as pd\n",
    "\n",
    "import neurom\n",
    "import os\n",
    "\n",
    "from ipywidgets import widgets\n",
    "from neurom.check.runner import CheckRunner\n",
    "from matplotlib import pyplot as plt\n",
    "\n",
    "client = Client(environment=\"staging\")\n",
    "token = get_token(environment=\"staging\", auth_mode=\"daf\")"
   ]
  },
  {
   "cell_type": "markdown",
   "id": "f70f06e7",
   "metadata": {},
   "source": [
    "## Define functions for accessing the data\n",
    "Here, we define helper functions for downloading selected assets from the platform."
   ]
  },
  {
   "cell_type": "code",
   "execution_count": 2,
   "id": "fd5774e7",
   "metadata": {},
   "outputs": [],
   "source": [
    "def dataframe_from_entity_ids(entity_ids):\n",
    "    client = Client(environment=\"staging\")\n",
    "    def pretty(m):\n",
    "        def pretty_value(v):\n",
    "            if isinstance(v, dict):\n",
    "                if 'name' in v:\n",
    "                    return v['name']\n",
    "            return v\n",
    "        ret = { p:pretty_value(v) for p,v in m.model_dump().items()}\n",
    "        ret[\"entity_type\"] = type(m)\n",
    "        return ret\n",
    "\n",
    "    entities = pd.DataFrame([\n",
    "        pretty(client.get_entity(entity_id=entity_id,\\\n",
    "                                entity_type=ReconstructionMorphology,\n",
    "                                token=token))\n",
    "        for entity_id in entity_ids\n",
    "    ])\n",
    "    return entities\n",
    "\n",
    "def get_matching_asset_types(df_in, match=\"all\"):\n",
    "    assert len(df_in) >= 1, \"At least one entity required!\"\n",
    "    per_entity_all_types = df_in[\"assets\"].apply(lambda _x: {__x[\"content_type\"] for __x in _x})\n",
    "    extensions = per_entity_all_types.iloc[0]\n",
    "    for row in per_entity_all_types.iloc[1:]:\n",
    "        if match == \"all\":\n",
    "            extensions = extensions.intersection(row)\n",
    "        elif match == \"any\":\n",
    "            extensions.update(row)\n",
    "        else:\n",
    "            raise ValueError(f\"Unknown value for {match}\")\n",
    "    if \"application/h5\" in extensions:\n",
    "        extensions.remove(\"application/h5\")\n",
    "    return list(extensions)\n",
    "\n",
    "def filter_to_asset_type(df_in, target_type):\n",
    "    def per_row(row):\n",
    "        matches = [\n",
    "            _asset for _asset in row[\"assets\"]\n",
    "            if _asset[\"content_type\"] == target_type\n",
    "            ]\n",
    "        if len(matches) == 0:\n",
    "            return pd.Series({\"has_asset\": False,\n",
    "                              \"load_asset_id\": -1,\n",
    "                              \"load_asset_extension\": os.path.split(target_type)[1]})\n",
    "        return pd.Series({\"has_asset\": True,\n",
    "                              \"load_asset_id\": matches[0][\"id\"],\n",
    "                              \"load_asset_extension\": os.path.split(target_type)[1]})\n",
    "    df_in = pd.concat([df_in, df_in.apply(per_row, axis=1)], axis=1)\n",
    "    return df_in.loc[df_in[\"has_asset\"]]\n",
    "\n",
    "def load_morphology_assets_from_df(df_in, client, token):\n",
    "    def per_row(row):\n",
    "        m = neurom.load_morphology(\n",
    "            client.download_content(\n",
    "                entity_id=row[\"id\"],\n",
    "                entity_type=row[\"entity_type\"],\n",
    "                asset_id=row[\"load_asset_id\"],\n",
    "                token=token\n",
    "            ).decode(\"UTF-8\"),\n",
    "            reader=row[\"load_asset_extension\"]\n",
    "        )\n",
    "        return m\n",
    "    df_in[\"_morphology\"] = df_in.apply(per_row, axis=1)\n",
    "    return df_in\n"
   ]
  },
  {
   "cell_type": "markdown",
   "id": "c24f7fd1",
   "metadata": {},
   "source": [
    "## Select entities to analyze\n",
    "\n",
    "Here, we define which morphology entities to load and analyze.\n",
    "\n",
    "Please fill in the unique IDs of the selected entities into the empty list below!"
   ]
  },
  {
   "cell_type": "code",
   "execution_count": null,
   "id": "823ae02d",
   "metadata": {},
   "outputs": [],
   "source": [
    "entity_ids = [\n",
    "    # FILL IN THE IDs OF THE SELECTED MORPHOLOGY ENTITIES HERE!\n",
    "]\n",
    "\n",
    "entities = dataframe_from_entity_ids(entity_ids)\n",
    "extension_wdgt = widgets.Dropdown(options=get_matching_asset_types(entities),\n",
    "                                  description=\"Load extension\")"
   ]
  },
  {
   "cell_type": "code",
   "execution_count": 4,
   "id": "376e2666-adfa-42e6-84d5-b8a63f9b83e4",
   "metadata": {},
   "outputs": [
    {
     "data": {
      "application/vnd.jupyter.widget-view+json": {
       "model_id": "3d9a131710654064a55c5a7e593964ab",
       "version_major": 2,
       "version_minor": 0
      },
      "text/plain": [
       "Dropdown(description='Load extension', options=('application/swc', 'application/asc'), value='application/swc'…"
      ]
     },
     "metadata": {},
     "output_type": "display_data"
    }
   ],
   "source": [
    "# morphology_checks: concern the valid structure of a morphology\n",
    "# options: set the tolerance parameters for the checks\n",
    "\n",
    "config = {\n",
    "    \"checks\": {\n",
    "        \"morphology_checks\": [\n",
    "            \"has_axon\",\n",
    "            \"has_basal_dendrite\",\n",
    "            \"has_apical_dendrite\",\n",
    "            \"has_no_jumps\",\n",
    "            \"has_no_fat_ends\",\n",
    "            \"has_nonzero_soma_radius\",\n",
    "            \"has_all_nonzero_neurite_radii\",\n",
    "            \"has_all_nonzero_section_lengths\",\n",
    "            \"has_all_nonzero_segment_lengths\",\n",
    "            \"has_no_flat_neurites\",\n",
    "            \"has_nonzero_soma_radius\",\n",
    "            \"has_no_narrow_start\",\n",
    "            \"has_no_dangling_branch\",\n",
    "        ]\n",
    "    },\n",
    "    \"options\": {\n",
    "        \"has_nonzero_soma_radius\": 0.0,\n",
    "        \"has_all_nonzero_neurite_radii\": 0.007,\n",
    "        \"has_all_nonzero_segment_lengths\": 0.01,\n",
    "        \"has_all_nonzero_section_lengths\": 0.01,\n",
    "    },\n",
    "}\n",
    "# create a CheckRunner object by providing the configuration dict\n",
    "check_runner = CheckRunner(config)\n",
    "\n",
    "display(extension_wdgt)"
   ]
  },
  {
   "cell_type": "code",
   "execution_count": 5,
   "id": "45aae1ba",
   "metadata": {},
   "outputs": [
    {
     "name": "stderr",
     "output_type": "stream",
     "text": [
      "/Users/mwr/venvs/entitysdk_notebook/lib/python3.13/site-packages/neurom/morphmath.py:490: RuntimeWarning: divide by zero encountered in dot\n",
      "  scalar_projections = points.dot(eigenvectors)\n",
      "/Users/mwr/venvs/entitysdk_notebook/lib/python3.13/site-packages/neurom/morphmath.py:490: RuntimeWarning: overflow encountered in dot\n",
      "  scalar_projections = points.dot(eigenvectors)\n",
      "/Users/mwr/venvs/entitysdk_notebook/lib/python3.13/site-packages/neurom/morphmath.py:490: RuntimeWarning: invalid value encountered in dot\n",
      "  scalar_projections = points.dot(eigenvectors)\n",
      "/Users/mwr/venvs/entitysdk_notebook/lib/python3.13/site-packages/neurom/morphmath.py:490: RuntimeWarning: divide by zero encountered in dot\n",
      "  scalar_projections = points.dot(eigenvectors)\n",
      "/Users/mwr/venvs/entitysdk_notebook/lib/python3.13/site-packages/neurom/morphmath.py:490: RuntimeWarning: overflow encountered in dot\n",
      "  scalar_projections = points.dot(eigenvectors)\n",
      "/Users/mwr/venvs/entitysdk_notebook/lib/python3.13/site-packages/neurom/morphmath.py:490: RuntimeWarning: invalid value encountered in dot\n",
      "  scalar_projections = points.dot(eigenvectors)\n",
      "/var/folders/py/wqmt8l2s5zb8fhrxbd_b258w0000gn/T/ipykernel_34388/906899555.py:13: FutureWarning: Downcasting object dtype arrays on .fillna, .ffill, .bfill is deprecated and will change in a future version. Call result.infer_objects(copy=False) instead. To opt-in to the future behavior, set `pd.set_option('future.no_silent_downcasting', True)`\n",
      "  res = contents[\"_morphology\"].apply(run_wrapper).fillna(False)\n"
     ]
    }
   ],
   "source": [
    "contents = filter_to_asset_type(entities, target_type=\"application/swc\")\n",
    "contents = load_morphology_assets_from_df(contents, client, token)\n",
    "\n",
    "def run_wrapper(_morph):\n",
    "    try:\n",
    "        res = check_runner._check_loop(_morph, \"morphology_checks\")\n",
    "        res = pd.Series(res[1])\n",
    "        res[\"Test ran to completion\"] = True\n",
    "    except:\n",
    "        res = pd.Series({\"Test ran to completion\": False})\n",
    "    return res\n",
    "\n",
    "res = contents[\"_morphology\"].apply(run_wrapper).fillna(False)"
   ]
  },
  {
   "cell_type": "code",
   "execution_count": 6,
   "id": "cdc52e1a",
   "metadata": {},
   "outputs": [
    {
     "data": {
      "image/png": "[encoded data removed]",
      "text/plain": [
       "<Figure size 500x300 with 1 Axes>"
      ]
     },
     "metadata": {},
     "output_type": "display_data"
    },
    {
     "data": {
      "application/vnd.jupyter.widget-view+json": {
       "model_id": "02e35ea8c07c4106bc9be54cdbcf7d53",
       "version_major": 2,
       "version_minor": 0
      },
      "text/plain": [
       "HTML(value='<b>Pick a test to list morphologies failing it</b>')"
      ]
     },
     "metadata": {},
     "output_type": "display_data"
    },
    {
     "data": {
      "application/vnd.jupyter.widget-view+json": {
       "model_id": "6ad33d384c2243ada17bb14319d9676f",
       "version_major": 2,
       "version_minor": 0
      },
      "text/plain": [
       "Dropdown(options=('Has axon', 'Has basal dendrite', 'Has apical dendrite', 'Has no jumps', 'Has no fat ends', …"
      ]
     },
     "metadata": {},
     "output_type": "display_data"
    },
    {
     "data": {
      "application/vnd.jupyter.widget-view+json": {
       "model_id": "05fff3c6f13d463baefca48b0476ca9a",
       "version_major": 2,
       "version_minor": 0
      },
      "text/plain": [
       "HTML(value='')"
      ]
     },
     "metadata": {},
     "output_type": "display_data"
    }
   ],
   "source": [
    "fig = plt.figure(figsize=(5, 3))\n",
    "ax = fig.add_axes([0.3, 0.1, 0.65, 0.9])\n",
    "ttl = len(res) - res.isna().sum(axis=0)\n",
    "passed = res.astype(int).sum(axis=0)\n",
    "ax.barh(range(len(ttl)), ttl, height=0.9, color=[0.8, 0.8, 0.8], label=\"Run\")\n",
    "ax.barh(range(len(passed)), passed, height=0.5, color=[0.1, 0.6, 0.1], label=\"Passed\")\n",
    "ax.barh(range(len(passed)), ttl - passed, height=0.5, left=passed, color=[0.8, 0.3, 0.3], label=\"Failed\")\n",
    "ax.set_yticks(range(len(passed)))\n",
    "ax.set_yticklabels(passed.index)\n",
    "ax.set_xlabel(\"# Morphologies\")\n",
    "ax.set_frame_on(False)\n",
    "plt.legend()\n",
    "plt.show()\n",
    "\n",
    "pick_test_wdgt = widgets.Dropdown(options=res.columns)\n",
    "output = widgets.HTML()\n",
    "display(widgets.HTML(\n",
    "    value=\"<b>Pick a test to list morphologies failing it</b>\"\n",
    "))\n",
    "display(pick_test_wdgt)\n",
    "display(output)\n",
    "\n",
    "def display_func(sel_test_name):\n",
    "    col = res[sel_test_name]\n",
    "    morphs = contents.name[col == False].values\n",
    "    output.value=\", \".join(list(morphs))\n",
    "_ = widgets.interactive(display_func, sel_test_name=pick_test_wdgt)\n",
    "\n"
   ]
  }
 ],
 "metadata": {
  "kernelspec": {
   "display_name": "entitysdk_notebook",
   "language": "python",
   "name": "python3"
  },
  "language_info": {
   "codemirror_mode": {
    "name": "ipython",
    "version": 3
   },
   "file_extension": ".py",
   "mimetype": "text/x-python",
   "name": "python",
   "nbconvert_exporter": "python",
   "pygments_lexer": "ipython3",
   "version": "3.13.1"
  }
 },
 "nbformat": 4,
 "nbformat_minor": 5
}
