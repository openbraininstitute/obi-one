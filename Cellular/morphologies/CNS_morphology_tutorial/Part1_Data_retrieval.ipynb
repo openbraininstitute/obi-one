{
 "cells": [
  {
   "cell_type": "markdown",
   "id": "8f5ad626-90bc-4022-83d8-ccf526c64cf9",
   "metadata": {},
   "source": [
    "# Morphology Module: Part 1 for CNS tutorial\n",
    "-----\n",
    "\n",
    "*Authenticate, find morphologies and download them locally*\n",
    "\n",
    "The user needs to first create a *virtual lab* and save the URL of the lab. This will be used to authenticate the access of the user and allow access to the data. Once authentication is verified, the user will be able to access the data and search through them. We will select data by their species. We will download XXX mouse morphologies from temporal association cortex, and XXX human morpohlogies from temporal cortex. We will save these neurons locally in two different folders. The data will be used in the subsequent tutorial for the analysis between the two species. "
   ]
  },
  {
   "cell_type": "markdown",
   "id": "84f01d26-2793-41bb-8740-90762ecf4437",
   "metadata": {},
   "source": [
    "## 1.1 Authentication process"
   ]
  },
  {
   "cell_type": "code",
   "execution_count": 1,
   "id": "a2e251ed-6ca9-41e1-b1f6-ec6fe25cbcb1",
   "metadata": {},
   "outputs": [],
   "source": [
    "from obi_auth import get_token\n",
    "\n",
    "access_token = get_token(environment=\"staging\", auth_mode=\"daf\")"
   ]
  },
  {
   "cell_type": "code",
   "execution_count": 2,
   "id": "1b091eee-cf73-46bb-94ca-3012c8dcad64",
   "metadata": {},
   "outputs": [],
   "source": [
    "from uuid import UUID\n",
    "from entitysdk.client import Client\n",
    "from entitysdk.common import ProjectContext\n",
    "from entitysdk.models import (\n",
    "    BrainLocation,\n",
    "    BrainRegion,\n",
    "    ReconstructionMorphology,\n",
    "    Species,\n",
    "    Strain,\n",
    "    MTypeClass,\n",
    ")\n",
    "\n",
    "from rich import print as rprint"
   ]
  },
  {
   "cell_type": "code",
   "execution_count": 3,
   "id": "a7e8e370-7459-4d27-b16d-62fca0dc9efa",
   "metadata": {},
   "outputs": [],
   "source": [
    "# Initialize client - Save the link from your lab / project in URL variable\n",
    "\n",
    "URL = \"https://staging.openbraininstitute.org/app/virtual-lab/lab/ae0405ce-821b-4fd1-8306-e7526deb184d/project/e1e7cdb4-add4-4855-ac30-09d2e54c7dc9/home\"\n",
    "\n",
    "client = Client(project_context=ProjectContext.from_vlab_url(URL),\n",
    "    environment=\"staging\", token_manager=access_token\n",
    ")"
   ]
  },
  {
   "cell_type": "markdown",
   "id": "5f044e73-c039-464e-8dbd-c54116a351f3",
   "metadata": {},
   "source": [
    "## 1.2 Explore all species, brain regions and mtypes"
   ]
  },
  {
   "cell_type": "markdown",
   "id": "7ae438ac-97a5-46a9-bda2-418d88542b7f",
   "metadata": {},
   "source": [
    "**Species**"
   ]
  },
  {
   "cell_type": "code",
   "execution_count": 4,
   "id": "9bba707d-bb76-4d12-8aa4-95dc44cea5bc",
   "metadata": {
    "scrolled": true
   },
   "outputs": [
    {
     "data": {
      "text/html": [
       "<pre style=\"white-space:pre;overflow-x:auto;line-height:normal;font-family:Menlo,'DejaVu Sans Mono',consolas,'Courier New',monospace\"><span style=\"font-weight: bold\">[</span>\n",
       "    <span style=\"color: #800080; text-decoration-color: #800080; font-weight: bold\">Species</span><span style=\"font-weight: bold\">(</span>\n",
       "        <span style=\"color: #808000; text-decoration-color: #808000\">id</span>=<span style=\"color: #800080; text-decoration-color: #800080; font-weight: bold\">UUID</span><span style=\"font-weight: bold\">(</span><span style=\"color: #008000; text-decoration-color: #008000\">'e06f291b-2a83-4af8-95c4-4a4eb3172062'</span><span style=\"font-weight: bold\">)</span>,\n",
       "        <span style=\"color: #808000; text-decoration-color: #808000\">update_date</span>=<span style=\"color: #800080; text-decoration-color: #800080; font-weight: bold\">datetime</span><span style=\"color: #800080; text-decoration-color: #800080; font-weight: bold\">.datetime</span><span style=\"font-weight: bold\">(</span><span style=\"color: #008080; text-decoration-color: #008080; font-weight: bold\">2025</span>, <span style=\"color: #008080; text-decoration-color: #008080; font-weight: bold\">6</span>, <span style=\"color: #008080; text-decoration-color: #008080; font-weight: bold\">26</span>, <span style=\"color: #008080; text-decoration-color: #008080; font-weight: bold\">8</span>, <span style=\"color: #008080; text-decoration-color: #008080; font-weight: bold\">59</span>, <span style=\"color: #008080; text-decoration-color: #008080; font-weight: bold\">15</span>, <span style=\"color: #008080; text-decoration-color: #008080; font-weight: bold\">558752</span>, <span style=\"color: #808000; text-decoration-color: #808000\">tzinfo</span>=<span style=\"color: #800080; text-decoration-color: #800080; font-weight: bold\">TzInfo</span><span style=\"font-weight: bold\">(</span>UTC<span style=\"font-weight: bold\">))</span>,\n",
       "        <span style=\"color: #808000; text-decoration-color: #808000\">creation_date</span>=<span style=\"color: #800080; text-decoration-color: #800080; font-weight: bold\">datetime</span><span style=\"color: #800080; text-decoration-color: #800080; font-weight: bold\">.datetime</span><span style=\"font-weight: bold\">(</span><span style=\"color: #008080; text-decoration-color: #008080; font-weight: bold\">2025</span>, <span style=\"color: #008080; text-decoration-color: #008080; font-weight: bold\">6</span>, <span style=\"color: #008080; text-decoration-color: #008080; font-weight: bold\">26</span>, <span style=\"color: #008080; text-decoration-color: #008080; font-weight: bold\">8</span>, <span style=\"color: #008080; text-decoration-color: #008080; font-weight: bold\">59</span>, <span style=\"color: #008080; text-decoration-color: #008080; font-weight: bold\">15</span>, <span style=\"color: #008080; text-decoration-color: #008080; font-weight: bold\">558751</span>, <span style=\"color: #808000; text-decoration-color: #808000\">tzinfo</span>=<span style=\"color: #800080; text-decoration-color: #800080; font-weight: bold\">TzInfo</span><span style=\"font-weight: bold\">(</span>UTC<span style=\"font-weight: bold\">))</span>,\n",
       "        <span style=\"color: #808000; text-decoration-color: #808000\">name</span>=<span style=\"color: #008000; text-decoration-color: #008000\">'Aquarana catesbeiana'</span>,\n",
       "        <span style=\"color: #808000; text-decoration-color: #808000\">taxonomy_id</span>=<span style=\"color: #008000; text-decoration-color: #008000\">'NCBITaxon:8400'</span>\n",
       "    <span style=\"font-weight: bold\">)</span>,\n",
       "    <span style=\"color: #800080; text-decoration-color: #800080; font-weight: bold\">Species</span><span style=\"font-weight: bold\">(</span>\n",
       "        <span style=\"color: #808000; text-decoration-color: #808000\">id</span>=<span style=\"color: #800080; text-decoration-color: #800080; font-weight: bold\">UUID</span><span style=\"font-weight: bold\">(</span><span style=\"color: #008000; text-decoration-color: #008000\">'8ebdbfe3-eb9a-4688-b9d3-9cca91551e82'</span><span style=\"font-weight: bold\">)</span>,\n",
       "        <span style=\"color: #808000; text-decoration-color: #808000\">update_date</span>=<span style=\"color: #800080; text-decoration-color: #800080; font-weight: bold\">datetime</span><span style=\"color: #800080; text-decoration-color: #800080; font-weight: bold\">.datetime</span><span style=\"font-weight: bold\">(</span><span style=\"color: #008080; text-decoration-color: #008080; font-weight: bold\">2025</span>, <span style=\"color: #008080; text-decoration-color: #008080; font-weight: bold\">6</span>, <span style=\"color: #008080; text-decoration-color: #008080; font-weight: bold\">26</span>, <span style=\"color: #008080; text-decoration-color: #008080; font-weight: bold\">8</span>, <span style=\"color: #008080; text-decoration-color: #008080; font-weight: bold\">59</span>, <span style=\"color: #008080; text-decoration-color: #008080; font-weight: bold\">15</span>, <span style=\"color: #008080; text-decoration-color: #008080; font-weight: bold\">558748</span>, <span style=\"color: #808000; text-decoration-color: #808000\">tzinfo</span>=<span style=\"color: #800080; text-decoration-color: #800080; font-weight: bold\">TzInfo</span><span style=\"font-weight: bold\">(</span>UTC<span style=\"font-weight: bold\">))</span>,\n",
       "        <span style=\"color: #808000; text-decoration-color: #808000\">creation_date</span>=<span style=\"color: #800080; text-decoration-color: #800080; font-weight: bold\">datetime</span><span style=\"color: #800080; text-decoration-color: #800080; font-weight: bold\">.datetime</span><span style=\"font-weight: bold\">(</span><span style=\"color: #008080; text-decoration-color: #008080; font-weight: bold\">2025</span>, <span style=\"color: #008080; text-decoration-color: #008080; font-weight: bold\">6</span>, <span style=\"color: #008080; text-decoration-color: #008080; font-weight: bold\">26</span>, <span style=\"color: #008080; text-decoration-color: #008080; font-weight: bold\">8</span>, <span style=\"color: #008080; text-decoration-color: #008080; font-weight: bold\">59</span>, <span style=\"color: #008080; text-decoration-color: #008080; font-weight: bold\">15</span>, <span style=\"color: #008080; text-decoration-color: #008080; font-weight: bold\">558747</span>, <span style=\"color: #808000; text-decoration-color: #808000\">tzinfo</span>=<span style=\"color: #800080; text-decoration-color: #800080; font-weight: bold\">TzInfo</span><span style=\"font-weight: bold\">(</span>UTC<span style=\"font-weight: bold\">))</span>,\n",
       "        <span style=\"color: #808000; text-decoration-color: #808000\">name</span>=<span style=\"color: #008000; text-decoration-color: #008000\">'Cricetulus griseus'</span>,\n",
       "        <span style=\"color: #808000; text-decoration-color: #808000\">taxonomy_id</span>=<span style=\"color: #008000; text-decoration-color: #008000\">'NCBITaxon:10029'</span>\n",
       "    <span style=\"font-weight: bold\">)</span>,\n",
       "    <span style=\"color: #800080; text-decoration-color: #800080; font-weight: bold\">Species</span><span style=\"font-weight: bold\">(</span>\n",
       "        <span style=\"color: #808000; text-decoration-color: #808000\">id</span>=<span style=\"color: #800080; text-decoration-color: #800080; font-weight: bold\">UUID</span><span style=\"font-weight: bold\">(</span><span style=\"color: #008000; text-decoration-color: #008000\">'a8acb513-7c92-40dc-b4e0-88a9b9492f25'</span><span style=\"font-weight: bold\">)</span>,\n",
       "        <span style=\"color: #808000; text-decoration-color: #808000\">update_date</span>=<span style=\"color: #800080; text-decoration-color: #800080; font-weight: bold\">datetime</span><span style=\"color: #800080; text-decoration-color: #800080; font-weight: bold\">.datetime</span><span style=\"font-weight: bold\">(</span><span style=\"color: #008080; text-decoration-color: #008080; font-weight: bold\">2025</span>, <span style=\"color: #008080; text-decoration-color: #008080; font-weight: bold\">6</span>, <span style=\"color: #008080; text-decoration-color: #008080; font-weight: bold\">26</span>, <span style=\"color: #008080; text-decoration-color: #008080; font-weight: bold\">8</span>, <span style=\"color: #008080; text-decoration-color: #008080; font-weight: bold\">59</span>, <span style=\"color: #008080; text-decoration-color: #008080; font-weight: bold\">15</span>, <span style=\"color: #008080; text-decoration-color: #008080; font-weight: bold\">558749</span>, <span style=\"color: #808000; text-decoration-color: #808000\">tzinfo</span>=<span style=\"color: #800080; text-decoration-color: #800080; font-weight: bold\">TzInfo</span><span style=\"font-weight: bold\">(</span>UTC<span style=\"font-weight: bold\">))</span>,\n",
       "        <span style=\"color: #808000; text-decoration-color: #808000\">creation_date</span>=<span style=\"color: #800080; text-decoration-color: #800080; font-weight: bold\">datetime</span><span style=\"color: #800080; text-decoration-color: #800080; font-weight: bold\">.datetime</span><span style=\"font-weight: bold\">(</span><span style=\"color: #008080; text-decoration-color: #008080; font-weight: bold\">2025</span>, <span style=\"color: #008080; text-decoration-color: #008080; font-weight: bold\">6</span>, <span style=\"color: #008080; text-decoration-color: #008080; font-weight: bold\">26</span>, <span style=\"color: #008080; text-decoration-color: #008080; font-weight: bold\">8</span>, <span style=\"color: #008080; text-decoration-color: #008080; font-weight: bold\">59</span>, <span style=\"color: #008080; text-decoration-color: #008080; font-weight: bold\">15</span>, <span style=\"color: #008080; text-decoration-color: #008080; font-weight: bold\">558749</span>, <span style=\"color: #808000; text-decoration-color: #808000\">tzinfo</span>=<span style=\"color: #800080; text-decoration-color: #800080; font-weight: bold\">TzInfo</span><span style=\"font-weight: bold\">(</span>UTC<span style=\"font-weight: bold\">))</span>,\n",
       "        <span style=\"color: #808000; text-decoration-color: #808000\">name</span>=<span style=\"color: #008000; text-decoration-color: #008000\">'Felis catus'</span>,\n",
       "        <span style=\"color: #808000; text-decoration-color: #808000\">taxonomy_id</span>=<span style=\"color: #008000; text-decoration-color: #008000\">'NCBITaxon:9685'</span>\n",
       "    <span style=\"font-weight: bold\">)</span>,\n",
       "    <span style=\"color: #800080; text-decoration-color: #800080; font-weight: bold\">Species</span><span style=\"font-weight: bold\">(</span>\n",
       "        <span style=\"color: #808000; text-decoration-color: #808000\">id</span>=<span style=\"color: #800080; text-decoration-color: #800080; font-weight: bold\">UUID</span><span style=\"font-weight: bold\">(</span><span style=\"color: #008000; text-decoration-color: #008000\">'74667bff-e202-449d-a964-3a295a9ac6de'</span><span style=\"font-weight: bold\">)</span>,\n",
       "        <span style=\"color: #808000; text-decoration-color: #808000\">update_date</span>=<span style=\"color: #800080; text-decoration-color: #800080; font-weight: bold\">datetime</span><span style=\"color: #800080; text-decoration-color: #800080; font-weight: bold\">.datetime</span><span style=\"font-weight: bold\">(</span><span style=\"color: #008080; text-decoration-color: #008080; font-weight: bold\">2025</span>, <span style=\"color: #008080; text-decoration-color: #008080; font-weight: bold\">6</span>, <span style=\"color: #008080; text-decoration-color: #008080; font-weight: bold\">26</span>, <span style=\"color: #008080; text-decoration-color: #008080; font-weight: bold\">8</span>, <span style=\"color: #008080; text-decoration-color: #008080; font-weight: bold\">59</span>, <span style=\"color: #008080; text-decoration-color: #008080; font-weight: bold\">15</span>, <span style=\"color: #008080; text-decoration-color: #008080; font-weight: bold\">558745</span>, <span style=\"color: #808000; text-decoration-color: #808000\">tzinfo</span>=<span style=\"color: #800080; text-decoration-color: #800080; font-weight: bold\">TzInfo</span><span style=\"font-weight: bold\">(</span>UTC<span style=\"font-weight: bold\">))</span>,\n",
       "        <span style=\"color: #808000; text-decoration-color: #808000\">creation_date</span>=<span style=\"color: #800080; text-decoration-color: #800080; font-weight: bold\">datetime</span><span style=\"color: #800080; text-decoration-color: #800080; font-weight: bold\">.datetime</span><span style=\"font-weight: bold\">(</span><span style=\"color: #008080; text-decoration-color: #008080; font-weight: bold\">2025</span>, <span style=\"color: #008080; text-decoration-color: #008080; font-weight: bold\">6</span>, <span style=\"color: #008080; text-decoration-color: #008080; font-weight: bold\">26</span>, <span style=\"color: #008080; text-decoration-color: #008080; font-weight: bold\">8</span>, <span style=\"color: #008080; text-decoration-color: #008080; font-weight: bold\">59</span>, <span style=\"color: #008080; text-decoration-color: #008080; font-weight: bold\">15</span>, <span style=\"color: #008080; text-decoration-color: #008080; font-weight: bold\">558744</span>, <span style=\"color: #808000; text-decoration-color: #808000\">tzinfo</span>=<span style=\"color: #800080; text-decoration-color: #800080; font-weight: bold\">TzInfo</span><span style=\"font-weight: bold\">(</span>UTC<span style=\"font-weight: bold\">))</span>,\n",
       "        <span style=\"color: #808000; text-decoration-color: #808000\">name</span>=<span style=\"color: #008000; text-decoration-color: #008000\">'Homo sapiens'</span>,\n",
       "        <span style=\"color: #808000; text-decoration-color: #808000\">taxonomy_id</span>=<span style=\"color: #008000; text-decoration-color: #008000\">'NCBITaxon:9606'</span>\n",
       "    <span style=\"font-weight: bold\">)</span>,\n",
       "    <span style=\"color: #800080; text-decoration-color: #800080; font-weight: bold\">Species</span><span style=\"font-weight: bold\">(</span>\n",
       "        <span style=\"color: #808000; text-decoration-color: #808000\">id</span>=<span style=\"color: #800080; text-decoration-color: #800080; font-weight: bold\">UUID</span><span style=\"font-weight: bold\">(</span><span style=\"color: #008000; text-decoration-color: #008000\">'c5e2486c-44a4-48f6-9dc8-db48e86ec9c6'</span><span style=\"font-weight: bold\">)</span>,\n",
       "        <span style=\"color: #808000; text-decoration-color: #808000\">update_date</span>=<span style=\"color: #800080; text-decoration-color: #800080; font-weight: bold\">datetime</span><span style=\"color: #800080; text-decoration-color: #800080; font-weight: bold\">.datetime</span><span style=\"font-weight: bold\">(</span><span style=\"color: #008080; text-decoration-color: #008080; font-weight: bold\">2025</span>, <span style=\"color: #008080; text-decoration-color: #008080; font-weight: bold\">6</span>, <span style=\"color: #008080; text-decoration-color: #008080; font-weight: bold\">26</span>, <span style=\"color: #008080; text-decoration-color: #008080; font-weight: bold\">8</span>, <span style=\"color: #008080; text-decoration-color: #008080; font-weight: bold\">59</span>, <span style=\"color: #008080; text-decoration-color: #008080; font-weight: bold\">15</span>, <span style=\"color: #008080; text-decoration-color: #008080; font-weight: bold\">558753</span>, <span style=\"color: #808000; text-decoration-color: #808000\">tzinfo</span>=<span style=\"color: #800080; text-decoration-color: #800080; font-weight: bold\">TzInfo</span><span style=\"font-weight: bold\">(</span>UTC<span style=\"font-weight: bold\">))</span>,\n",
       "        <span style=\"color: #808000; text-decoration-color: #808000\">creation_date</span>=<span style=\"color: #800080; text-decoration-color: #800080; font-weight: bold\">datetime</span><span style=\"color: #800080; text-decoration-color: #800080; font-weight: bold\">.datetime</span><span style=\"font-weight: bold\">(</span><span style=\"color: #008080; text-decoration-color: #008080; font-weight: bold\">2025</span>, <span style=\"color: #008080; text-decoration-color: #008080; font-weight: bold\">6</span>, <span style=\"color: #008080; text-decoration-color: #008080; font-weight: bold\">26</span>, <span style=\"color: #008080; text-decoration-color: #008080; font-weight: bold\">8</span>, <span style=\"color: #008080; text-decoration-color: #008080; font-weight: bold\">59</span>, <span style=\"color: #008080; text-decoration-color: #008080; font-weight: bold\">15</span>, <span style=\"color: #008080; text-decoration-color: #008080; font-weight: bold\">558753</span>, <span style=\"color: #808000; text-decoration-color: #808000\">tzinfo</span>=<span style=\"color: #800080; text-decoration-color: #800080; font-weight: bold\">TzInfo</span><span style=\"font-weight: bold\">(</span>UTC<span style=\"font-weight: bold\">))</span>,\n",
       "        <span style=\"color: #808000; text-decoration-color: #808000\">name</span>=<span style=\"color: #008000; text-decoration-color: #008000\">'Hybrid human-mouse'</span>,\n",
       "        <span style=\"color: #808000; text-decoration-color: #808000\">taxonomy_id</span>=<span style=\"color: #008000; text-decoration-color: #008000\">'NA'</span>\n",
       "    <span style=\"font-weight: bold\">)</span>,\n",
       "    <span style=\"color: #800080; text-decoration-color: #800080; font-weight: bold\">Species</span><span style=\"font-weight: bold\">(</span>\n",
       "        <span style=\"color: #808000; text-decoration-color: #808000\">id</span>=<span style=\"color: #800080; text-decoration-color: #800080; font-weight: bold\">UUID</span><span style=\"font-weight: bold\">(</span><span style=\"color: #008000; text-decoration-color: #008000\">'d08f1bb2-531d-4460-b0ca-eef038c89b38'</span><span style=\"font-weight: bold\">)</span>,\n",
       "        <span style=\"color: #808000; text-decoration-color: #808000\">update_date</span>=<span style=\"color: #800080; text-decoration-color: #800080; font-weight: bold\">datetime</span><span style=\"color: #800080; text-decoration-color: #800080; font-weight: bold\">.datetime</span><span style=\"font-weight: bold\">(</span><span style=\"color: #008080; text-decoration-color: #008080; font-weight: bold\">2025</span>, <span style=\"color: #008080; text-decoration-color: #008080; font-weight: bold\">6</span>, <span style=\"color: #008080; text-decoration-color: #008080; font-weight: bold\">26</span>, <span style=\"color: #008080; text-decoration-color: #008080; font-weight: bold\">8</span>, <span style=\"color: #008080; text-decoration-color: #008080; font-weight: bold\">59</span>, <span style=\"color: #008080; text-decoration-color: #008080; font-weight: bold\">15</span>, <span style=\"color: #008080; text-decoration-color: #008080; font-weight: bold\">558751</span>, <span style=\"color: #808000; text-decoration-color: #808000\">tzinfo</span>=<span style=\"color: #800080; text-decoration-color: #800080; font-weight: bold\">TzInfo</span><span style=\"font-weight: bold\">(</span>UTC<span style=\"font-weight: bold\">))</span>,\n",
       "        <span style=\"color: #808000; text-decoration-color: #808000\">creation_date</span>=<span style=\"color: #800080; text-decoration-color: #800080; font-weight: bold\">datetime</span><span style=\"color: #800080; text-decoration-color: #800080; font-weight: bold\">.datetime</span><span style=\"font-weight: bold\">(</span><span style=\"color: #008080; text-decoration-color: #008080; font-weight: bold\">2025</span>, <span style=\"color: #008080; text-decoration-color: #008080; font-weight: bold\">6</span>, <span style=\"color: #008080; text-decoration-color: #008080; font-weight: bold\">26</span>, <span style=\"color: #008080; text-decoration-color: #008080; font-weight: bold\">8</span>, <span style=\"color: #008080; text-decoration-color: #008080; font-weight: bold\">59</span>, <span style=\"color: #008080; text-decoration-color: #008080; font-weight: bold\">15</span>, <span style=\"color: #008080; text-decoration-color: #008080; font-weight: bold\">558750</span>, <span style=\"color: #808000; text-decoration-color: #808000\">tzinfo</span>=<span style=\"color: #800080; text-decoration-color: #800080; font-weight: bold\">TzInfo</span><span style=\"font-weight: bold\">(</span>UTC<span style=\"font-weight: bold\">))</span>,\n",
       "        <span style=\"color: #808000; text-decoration-color: #808000\">name</span>=<span style=\"color: #008000; text-decoration-color: #008000\">'Loligo pealeii'</span>,\n",
       "        <span style=\"color: #808000; text-decoration-color: #808000\">taxonomy_id</span>=<span style=\"color: #008000; text-decoration-color: #008000\">'NCBITaxon:6619'</span>\n",
       "    <span style=\"font-weight: bold\">)</span>,\n",
       "    <span style=\"color: #800080; text-decoration-color: #800080; font-weight: bold\">Species</span><span style=\"font-weight: bold\">(</span>\n",
       "        <span style=\"color: #808000; text-decoration-color: #808000\">id</span>=<span style=\"color: #800080; text-decoration-color: #800080; font-weight: bold\">UUID</span><span style=\"font-weight: bold\">(</span><span style=\"color: #008000; text-decoration-color: #008000\">'5d67fde6-51a4-4c04-a0e9-3e953bb584e3'</span><span style=\"font-weight: bold\">)</span>,\n",
       "        <span style=\"color: #808000; text-decoration-color: #808000\">update_date</span>=<span style=\"color: #800080; text-decoration-color: #800080; font-weight: bold\">datetime</span><span style=\"color: #800080; text-decoration-color: #800080; font-weight: bold\">.datetime</span><span style=\"font-weight: bold\">(</span><span style=\"color: #008080; text-decoration-color: #008080; font-weight: bold\">2025</span>, <span style=\"color: #008080; text-decoration-color: #008080; font-weight: bold\">6</span>, <span style=\"color: #008080; text-decoration-color: #008080; font-weight: bold\">26</span>, <span style=\"color: #008080; text-decoration-color: #008080; font-weight: bold\">8</span>, <span style=\"color: #008080; text-decoration-color: #008080; font-weight: bold\">59</span>, <span style=\"color: #008080; text-decoration-color: #008080; font-weight: bold\">40</span>, <span style=\"color: #008080; text-decoration-color: #008080; font-weight: bold\">977211</span>, <span style=\"color: #808000; text-decoration-color: #808000\">tzinfo</span>=<span style=\"color: #800080; text-decoration-color: #800080; font-weight: bold\">TzInfo</span><span style=\"font-weight: bold\">(</span>UTC<span style=\"font-weight: bold\">))</span>,\n",
       "        <span style=\"color: #808000; text-decoration-color: #808000\">creation_date</span>=<span style=\"color: #800080; text-decoration-color: #800080; font-weight: bold\">datetime</span><span style=\"color: #800080; text-decoration-color: #800080; font-weight: bold\">.datetime</span><span style=\"font-weight: bold\">(</span><span style=\"color: #008080; text-decoration-color: #008080; font-weight: bold\">2025</span>, <span style=\"color: #008080; text-decoration-color: #008080; font-weight: bold\">6</span>, <span style=\"color: #008080; text-decoration-color: #008080; font-weight: bold\">26</span>, <span style=\"color: #008080; text-decoration-color: #008080; font-weight: bold\">8</span>, <span style=\"color: #008080; text-decoration-color: #008080; font-weight: bold\">59</span>, <span style=\"color: #008080; text-decoration-color: #008080; font-weight: bold\">40</span>, <span style=\"color: #008080; text-decoration-color: #008080; font-weight: bold\">977211</span>, <span style=\"color: #808000; text-decoration-color: #808000\">tzinfo</span>=<span style=\"color: #800080; text-decoration-color: #800080; font-weight: bold\">TzInfo</span><span style=\"font-weight: bold\">(</span>UTC<span style=\"font-weight: bold\">))</span>,\n",
       "        <span style=\"color: #808000; text-decoration-color: #808000\">name</span>=<span style=\"color: #008000; text-decoration-color: #008000\">'Mus musculus'</span>,\n",
       "        <span style=\"color: #808000; text-decoration-color: #808000\">taxonomy_id</span>=<span style=\"color: #008000; text-decoration-color: #008000\">'NCBITaxon:10090'</span>\n",
       "    <span style=\"font-weight: bold\">)</span>,\n",
       "    <span style=\"color: #800080; text-decoration-color: #800080; font-weight: bold\">Species</span><span style=\"font-weight: bold\">(</span>\n",
       "        <span style=\"color: #808000; text-decoration-color: #808000\">id</span>=<span style=\"color: #800080; text-decoration-color: #800080; font-weight: bold\">UUID</span><span style=\"font-weight: bold\">(</span><span style=\"color: #008000; text-decoration-color: #008000\">'803d002f-155e-4b43-b73a-b14648afad6b'</span><span style=\"font-weight: bold\">)</span>,\n",
       "        <span style=\"color: #808000; text-decoration-color: #808000\">update_date</span>=<span style=\"color: #800080; text-decoration-color: #800080; font-weight: bold\">datetime</span><span style=\"color: #800080; text-decoration-color: #800080; font-weight: bold\">.datetime</span><span style=\"font-weight: bold\">(</span><span style=\"color: #008080; text-decoration-color: #008080; font-weight: bold\">2025</span>, <span style=\"color: #008080; text-decoration-color: #008080; font-weight: bold\">6</span>, <span style=\"color: #008080; text-decoration-color: #008080; font-weight: bold\">26</span>, <span style=\"color: #008080; text-decoration-color: #008080; font-weight: bold\">9</span>, <span style=\"color: #008080; text-decoration-color: #008080; font-weight: bold\">0</span>, <span style=\"color: #008080; text-decoration-color: #008080; font-weight: bold\">44</span>, <span style=\"color: #008080; text-decoration-color: #008080; font-weight: bold\">505961</span>, <span style=\"color: #808000; text-decoration-color: #808000\">tzinfo</span>=<span style=\"color: #800080; text-decoration-color: #800080; font-weight: bold\">TzInfo</span><span style=\"font-weight: bold\">(</span>UTC<span style=\"font-weight: bold\">))</span>,\n",
       "        <span style=\"color: #808000; text-decoration-color: #808000\">creation_date</span>=<span style=\"color: #800080; text-decoration-color: #800080; font-weight: bold\">datetime</span><span style=\"color: #800080; text-decoration-color: #800080; font-weight: bold\">.datetime</span><span style=\"font-weight: bold\">(</span><span style=\"color: #008080; text-decoration-color: #008080; font-weight: bold\">2025</span>, <span style=\"color: #008080; text-decoration-color: #008080; font-weight: bold\">6</span>, <span style=\"color: #008080; text-decoration-color: #008080; font-weight: bold\">26</span>, <span style=\"color: #008080; text-decoration-color: #008080; font-weight: bold\">9</span>, <span style=\"color: #008080; text-decoration-color: #008080; font-weight: bold\">0</span>, <span style=\"color: #008080; text-decoration-color: #008080; font-weight: bold\">44</span>, <span style=\"color: #008080; text-decoration-color: #008080; font-weight: bold\">505961</span>, <span style=\"color: #808000; text-decoration-color: #808000\">tzinfo</span>=<span style=\"color: #800080; text-decoration-color: #800080; font-weight: bold\">TzInfo</span><span style=\"font-weight: bold\">(</span>UTC<span style=\"font-weight: bold\">))</span>,\n",
       "        <span style=\"color: #808000; text-decoration-color: #808000\">name</span>=<span style=\"color: #008000; text-decoration-color: #008000\">'Rattus norvegicus'</span>,\n",
       "        <span style=\"color: #808000; text-decoration-color: #808000\">taxonomy_id</span>=<span style=\"color: #008000; text-decoration-color: #008000\">'NCBITaxon:10116'</span>\n",
       "    <span style=\"font-weight: bold\">)</span>,\n",
       "    <span style=\"color: #800080; text-decoration-color: #800080; font-weight: bold\">Species</span><span style=\"font-weight: bold\">(</span>\n",
       "        <span style=\"color: #808000; text-decoration-color: #808000\">id</span>=<span style=\"color: #800080; text-decoration-color: #800080; font-weight: bold\">UUID</span><span style=\"font-weight: bold\">(</span><span style=\"color: #008000; text-decoration-color: #008000\">'59cc60b1-7604-44b4-a736-95c3e652c71a'</span><span style=\"font-weight: bold\">)</span>,\n",
       "        <span style=\"color: #808000; text-decoration-color: #808000\">update_date</span>=<span style=\"color: #800080; text-decoration-color: #800080; font-weight: bold\">datetime</span><span style=\"color: #800080; text-decoration-color: #800080; font-weight: bold\">.datetime</span><span style=\"font-weight: bold\">(</span><span style=\"color: #008080; text-decoration-color: #008080; font-weight: bold\">2025</span>, <span style=\"color: #008080; text-decoration-color: #008080; font-weight: bold\">6</span>, <span style=\"color: #008080; text-decoration-color: #008080; font-weight: bold\">26</span>, <span style=\"color: #008080; text-decoration-color: #008080; font-weight: bold\">8</span>, <span style=\"color: #008080; text-decoration-color: #008080; font-weight: bold\">59</span>, <span style=\"color: #008080; text-decoration-color: #008080; font-weight: bold\">15</span>, <span style=\"color: #008080; text-decoration-color: #008080; font-weight: bold\">558747</span>, <span style=\"color: #808000; text-decoration-color: #808000\">tzinfo</span>=<span style=\"color: #800080; text-decoration-color: #800080; font-weight: bold\">TzInfo</span><span style=\"font-weight: bold\">(</span>UTC<span style=\"font-weight: bold\">))</span>,\n",
       "        <span style=\"color: #808000; text-decoration-color: #808000\">creation_date</span>=<span style=\"color: #800080; text-decoration-color: #800080; font-weight: bold\">datetime</span><span style=\"color: #800080; text-decoration-color: #800080; font-weight: bold\">.datetime</span><span style=\"font-weight: bold\">(</span><span style=\"color: #008080; text-decoration-color: #008080; font-weight: bold\">2025</span>, <span style=\"color: #008080; text-decoration-color: #008080; font-weight: bold\">6</span>, <span style=\"color: #008080; text-decoration-color: #008080; font-weight: bold\">26</span>, <span style=\"color: #008080; text-decoration-color: #008080; font-weight: bold\">8</span>, <span style=\"color: #008080; text-decoration-color: #008080; font-weight: bold\">59</span>, <span style=\"color: #008080; text-decoration-color: #008080; font-weight: bold\">15</span>, <span style=\"color: #008080; text-decoration-color: #008080; font-weight: bold\">558746</span>, <span style=\"color: #808000; text-decoration-color: #808000\">tzinfo</span>=<span style=\"color: #800080; text-decoration-color: #800080; font-weight: bold\">TzInfo</span><span style=\"font-weight: bold\">(</span>UTC<span style=\"font-weight: bold\">))</span>,\n",
       "        <span style=\"color: #808000; text-decoration-color: #808000\">name</span>=<span style=\"color: #008000; text-decoration-color: #008000\">'Xenopus laevis'</span>,\n",
       "        <span style=\"color: #808000; text-decoration-color: #808000\">taxonomy_id</span>=<span style=\"color: #008000; text-decoration-color: #008000\">'NCBITaxon:8355'</span>\n",
       "    <span style=\"font-weight: bold\">)</span>\n",
       "<span style=\"font-weight: bold\">]</span>\n",
       "</pre>\n"
      ],
      "text/plain": [
       "\u001b[1m[\u001b[0m\n",
       "    \u001b[1;35mSpecies\u001b[0m\u001b[1m(\u001b[0m\n",
       "        \u001b[33mid\u001b[0m=\u001b[1;35mUUID\u001b[0m\u001b[1m(\u001b[0m\u001b[32m'e06f291b-2a83-4af8-95c4-4a4eb3172062'\u001b[0m\u001b[1m)\u001b[0m,\n",
       "        \u001b[33mupdate_date\u001b[0m=\u001b[1;35mdatetime\u001b[0m\u001b[1;35m.datetime\u001b[0m\u001b[1m(\u001b[0m\u001b[1;36m2025\u001b[0m, \u001b[1;36m6\u001b[0m, \u001b[1;36m26\u001b[0m, \u001b[1;36m8\u001b[0m, \u001b[1;36m59\u001b[0m, \u001b[1;36m15\u001b[0m, \u001b[1;36m558752\u001b[0m, \u001b[33mtzinfo\u001b[0m=\u001b[1;35mTzInfo\u001b[0m\u001b[1m(\u001b[0mUTC\u001b[1m)\u001b[0m\u001b[1m)\u001b[0m,\n",
       "        \u001b[33mcreation_date\u001b[0m=\u001b[1;35mdatetime\u001b[0m\u001b[1;35m.datetime\u001b[0m\u001b[1m(\u001b[0m\u001b[1;36m2025\u001b[0m, \u001b[1;36m6\u001b[0m, \u001b[1;36m26\u001b[0m, \u001b[1;36m8\u001b[0m, \u001b[1;36m59\u001b[0m, \u001b[1;36m15\u001b[0m, \u001b[1;36m558751\u001b[0m, \u001b[33mtzinfo\u001b[0m=\u001b[1;35mTzInfo\u001b[0m\u001b[1m(\u001b[0mUTC\u001b[1m)\u001b[0m\u001b[1m)\u001b[0m,\n",
       "        \u001b[33mname\u001b[0m=\u001b[32m'Aquarana catesbeiana'\u001b[0m,\n",
       "        \u001b[33mtaxonomy_id\u001b[0m=\u001b[32m'NCBITaxon:8400'\u001b[0m\n",
       "    \u001b[1m)\u001b[0m,\n",
       "    \u001b[1;35mSpecies\u001b[0m\u001b[1m(\u001b[0m\n",
       "        \u001b[33mid\u001b[0m=\u001b[1;35mUUID\u001b[0m\u001b[1m(\u001b[0m\u001b[32m'8ebdbfe3-eb9a-4688-b9d3-9cca91551e82'\u001b[0m\u001b[1m)\u001b[0m,\n",
       "        \u001b[33mupdate_date\u001b[0m=\u001b[1;35mdatetime\u001b[0m\u001b[1;35m.datetime\u001b[0m\u001b[1m(\u001b[0m\u001b[1;36m2025\u001b[0m, \u001b[1;36m6\u001b[0m, \u001b[1;36m26\u001b[0m, \u001b[1;36m8\u001b[0m, \u001b[1;36m59\u001b[0m, \u001b[1;36m15\u001b[0m, \u001b[1;36m558748\u001b[0m, \u001b[33mtzinfo\u001b[0m=\u001b[1;35mTzInfo\u001b[0m\u001b[1m(\u001b[0mUTC\u001b[1m)\u001b[0m\u001b[1m)\u001b[0m,\n",
       "        \u001b[33mcreation_date\u001b[0m=\u001b[1;35mdatetime\u001b[0m\u001b[1;35m.datetime\u001b[0m\u001b[1m(\u001b[0m\u001b[1;36m2025\u001b[0m, \u001b[1;36m6\u001b[0m, \u001b[1;36m26\u001b[0m, \u001b[1;36m8\u001b[0m, \u001b[1;36m59\u001b[0m, \u001b[1;36m15\u001b[0m, \u001b[1;36m558747\u001b[0m, \u001b[33mtzinfo\u001b[0m=\u001b[1;35mTzInfo\u001b[0m\u001b[1m(\u001b[0mUTC\u001b[1m)\u001b[0m\u001b[1m)\u001b[0m,\n",
       "        \u001b[33mname\u001b[0m=\u001b[32m'Cricetulus griseus'\u001b[0m,\n",
       "        \u001b[33mtaxonomy_id\u001b[0m=\u001b[32m'NCBITaxon:10029'\u001b[0m\n",
       "    \u001b[1m)\u001b[0m,\n",
       "    \u001b[1;35mSpecies\u001b[0m\u001b[1m(\u001b[0m\n",
       "        \u001b[33mid\u001b[0m=\u001b[1;35mUUID\u001b[0m\u001b[1m(\u001b[0m\u001b[32m'a8acb513-7c92-40dc-b4e0-88a9b9492f25'\u001b[0m\u001b[1m)\u001b[0m,\n",
       "        \u001b[33mupdate_date\u001b[0m=\u001b[1;35mdatetime\u001b[0m\u001b[1;35m.datetime\u001b[0m\u001b[1m(\u001b[0m\u001b[1;36m2025\u001b[0m, \u001b[1;36m6\u001b[0m, \u001b[1;36m26\u001b[0m, \u001b[1;36m8\u001b[0m, \u001b[1;36m59\u001b[0m, \u001b[1;36m15\u001b[0m, \u001b[1;36m558749\u001b[0m, \u001b[33mtzinfo\u001b[0m=\u001b[1;35mTzInfo\u001b[0m\u001b[1m(\u001b[0mUTC\u001b[1m)\u001b[0m\u001b[1m)\u001b[0m,\n",
       "        \u001b[33mcreation_date\u001b[0m=\u001b[1;35mdatetime\u001b[0m\u001b[1;35m.datetime\u001b[0m\u001b[1m(\u001b[0m\u001b[1;36m2025\u001b[0m, \u001b[1;36m6\u001b[0m, \u001b[1;36m26\u001b[0m, \u001b[1;36m8\u001b[0m, \u001b[1;36m59\u001b[0m, \u001b[1;36m15\u001b[0m, \u001b[1;36m558749\u001b[0m, \u001b[33mtzinfo\u001b[0m=\u001b[1;35mTzInfo\u001b[0m\u001b[1m(\u001b[0mUTC\u001b[1m)\u001b[0m\u001b[1m)\u001b[0m,\n",
       "        \u001b[33mname\u001b[0m=\u001b[32m'Felis catus'\u001b[0m,\n",
       "        \u001b[33mtaxonomy_id\u001b[0m=\u001b[32m'NCBITaxon:9685'\u001b[0m\n",
       "    \u001b[1m)\u001b[0m,\n",
       "    \u001b[1;35mSpecies\u001b[0m\u001b[1m(\u001b[0m\n",
       "        \u001b[33mid\u001b[0m=\u001b[1;35mUUID\u001b[0m\u001b[1m(\u001b[0m\u001b[32m'74667bff-e202-449d-a964-3a295a9ac6de'\u001b[0m\u001b[1m)\u001b[0m,\n",
       "        \u001b[33mupdate_date\u001b[0m=\u001b[1;35mdatetime\u001b[0m\u001b[1;35m.datetime\u001b[0m\u001b[1m(\u001b[0m\u001b[1;36m2025\u001b[0m, \u001b[1;36m6\u001b[0m, \u001b[1;36m26\u001b[0m, \u001b[1;36m8\u001b[0m, \u001b[1;36m59\u001b[0m, \u001b[1;36m15\u001b[0m, \u001b[1;36m558745\u001b[0m, \u001b[33mtzinfo\u001b[0m=\u001b[1;35mTzInfo\u001b[0m\u001b[1m(\u001b[0mUTC\u001b[1m)\u001b[0m\u001b[1m)\u001b[0m,\n",
       "        \u001b[33mcreation_date\u001b[0m=\u001b[1;35mdatetime\u001b[0m\u001b[1;35m.datetime\u001b[0m\u001b[1m(\u001b[0m\u001b[1;36m2025\u001b[0m, \u001b[1;36m6\u001b[0m, \u001b[1;36m26\u001b[0m, \u001b[1;36m8\u001b[0m, \u001b[1;36m59\u001b[0m, \u001b[1;36m15\u001b[0m, \u001b[1;36m558744\u001b[0m, \u001b[33mtzinfo\u001b[0m=\u001b[1;35mTzInfo\u001b[0m\u001b[1m(\u001b[0mUTC\u001b[1m)\u001b[0m\u001b[1m)\u001b[0m,\n",
       "        \u001b[33mname\u001b[0m=\u001b[32m'Homo sapiens'\u001b[0m,\n",
       "        \u001b[33mtaxonomy_id\u001b[0m=\u001b[32m'NCBITaxon:9606'\u001b[0m\n",
       "    \u001b[1m)\u001b[0m,\n",
       "    \u001b[1;35mSpecies\u001b[0m\u001b[1m(\u001b[0m\n",
       "        \u001b[33mid\u001b[0m=\u001b[1;35mUUID\u001b[0m\u001b[1m(\u001b[0m\u001b[32m'c5e2486c-44a4-48f6-9dc8-db48e86ec9c6'\u001b[0m\u001b[1m)\u001b[0m,\n",
       "        \u001b[33mupdate_date\u001b[0m=\u001b[1;35mdatetime\u001b[0m\u001b[1;35m.datetime\u001b[0m\u001b[1m(\u001b[0m\u001b[1;36m2025\u001b[0m, \u001b[1;36m6\u001b[0m, \u001b[1;36m26\u001b[0m, \u001b[1;36m8\u001b[0m, \u001b[1;36m59\u001b[0m, \u001b[1;36m15\u001b[0m, \u001b[1;36m558753\u001b[0m, \u001b[33mtzinfo\u001b[0m=\u001b[1;35mTzInfo\u001b[0m\u001b[1m(\u001b[0mUTC\u001b[1m)\u001b[0m\u001b[1m)\u001b[0m,\n",
       "        \u001b[33mcreation_date\u001b[0m=\u001b[1;35mdatetime\u001b[0m\u001b[1;35m.datetime\u001b[0m\u001b[1m(\u001b[0m\u001b[1;36m2025\u001b[0m, \u001b[1;36m6\u001b[0m, \u001b[1;36m26\u001b[0m, \u001b[1;36m8\u001b[0m, \u001b[1;36m59\u001b[0m, \u001b[1;36m15\u001b[0m, \u001b[1;36m558753\u001b[0m, \u001b[33mtzinfo\u001b[0m=\u001b[1;35mTzInfo\u001b[0m\u001b[1m(\u001b[0mUTC\u001b[1m)\u001b[0m\u001b[1m)\u001b[0m,\n",
       "        \u001b[33mname\u001b[0m=\u001b[32m'Hybrid human-mouse'\u001b[0m,\n",
       "        \u001b[33mtaxonomy_id\u001b[0m=\u001b[32m'NA'\u001b[0m\n",
       "    \u001b[1m)\u001b[0m,\n",
       "    \u001b[1;35mSpecies\u001b[0m\u001b[1m(\u001b[0m\n",
       "        \u001b[33mid\u001b[0m=\u001b[1;35mUUID\u001b[0m\u001b[1m(\u001b[0m\u001b[32m'd08f1bb2-531d-4460-b0ca-eef038c89b38'\u001b[0m\u001b[1m)\u001b[0m,\n",
       "        \u001b[33mupdate_date\u001b[0m=\u001b[1;35mdatetime\u001b[0m\u001b[1;35m.datetime\u001b[0m\u001b[1m(\u001b[0m\u001b[1;36m2025\u001b[0m, \u001b[1;36m6\u001b[0m, \u001b[1;36m26\u001b[0m, \u001b[1;36m8\u001b[0m, \u001b[1;36m59\u001b[0m, \u001b[1;36m15\u001b[0m, \u001b[1;36m558751\u001b[0m, \u001b[33mtzinfo\u001b[0m=\u001b[1;35mTzInfo\u001b[0m\u001b[1m(\u001b[0mUTC\u001b[1m)\u001b[0m\u001b[1m)\u001b[0m,\n",
       "        \u001b[33mcreation_date\u001b[0m=\u001b[1;35mdatetime\u001b[0m\u001b[1;35m.datetime\u001b[0m\u001b[1m(\u001b[0m\u001b[1;36m2025\u001b[0m, \u001b[1;36m6\u001b[0m, \u001b[1;36m26\u001b[0m, \u001b[1;36m8\u001b[0m, \u001b[1;36m59\u001b[0m, \u001b[1;36m15\u001b[0m, \u001b[1;36m558750\u001b[0m, \u001b[33mtzinfo\u001b[0m=\u001b[1;35mTzInfo\u001b[0m\u001b[1m(\u001b[0mUTC\u001b[1m)\u001b[0m\u001b[1m)\u001b[0m,\n",
       "        \u001b[33mname\u001b[0m=\u001b[32m'Loligo pealeii'\u001b[0m,\n",
       "        \u001b[33mtaxonomy_id\u001b[0m=\u001b[32m'NCBITaxon:6619'\u001b[0m\n",
       "    \u001b[1m)\u001b[0m,\n",
       "    \u001b[1;35mSpecies\u001b[0m\u001b[1m(\u001b[0m\n",
       "        \u001b[33mid\u001b[0m=\u001b[1;35mUUID\u001b[0m\u001b[1m(\u001b[0m\u001b[32m'5d67fde6-51a4-4c04-a0e9-3e953bb584e3'\u001b[0m\u001b[1m)\u001b[0m,\n",
       "        \u001b[33mupdate_date\u001b[0m=\u001b[1;35mdatetime\u001b[0m\u001b[1;35m.datetime\u001b[0m\u001b[1m(\u001b[0m\u001b[1;36m2025\u001b[0m, \u001b[1;36m6\u001b[0m, \u001b[1;36m26\u001b[0m, \u001b[1;36m8\u001b[0m, \u001b[1;36m59\u001b[0m, \u001b[1;36m40\u001b[0m, \u001b[1;36m977211\u001b[0m, \u001b[33mtzinfo\u001b[0m=\u001b[1;35mTzInfo\u001b[0m\u001b[1m(\u001b[0mUTC\u001b[1m)\u001b[0m\u001b[1m)\u001b[0m,\n",
       "        \u001b[33mcreation_date\u001b[0m=\u001b[1;35mdatetime\u001b[0m\u001b[1;35m.datetime\u001b[0m\u001b[1m(\u001b[0m\u001b[1;36m2025\u001b[0m, \u001b[1;36m6\u001b[0m, \u001b[1;36m26\u001b[0m, \u001b[1;36m8\u001b[0m, \u001b[1;36m59\u001b[0m, \u001b[1;36m40\u001b[0m, \u001b[1;36m977211\u001b[0m, \u001b[33mtzinfo\u001b[0m=\u001b[1;35mTzInfo\u001b[0m\u001b[1m(\u001b[0mUTC\u001b[1m)\u001b[0m\u001b[1m)\u001b[0m,\n",
       "        \u001b[33mname\u001b[0m=\u001b[32m'Mus musculus'\u001b[0m,\n",
       "        \u001b[33mtaxonomy_id\u001b[0m=\u001b[32m'NCBITaxon:10090'\u001b[0m\n",
       "    \u001b[1m)\u001b[0m,\n",
       "    \u001b[1;35mSpecies\u001b[0m\u001b[1m(\u001b[0m\n",
       "        \u001b[33mid\u001b[0m=\u001b[1;35mUUID\u001b[0m\u001b[1m(\u001b[0m\u001b[32m'803d002f-155e-4b43-b73a-b14648afad6b'\u001b[0m\u001b[1m)\u001b[0m,\n",
       "        \u001b[33mupdate_date\u001b[0m=\u001b[1;35mdatetime\u001b[0m\u001b[1;35m.datetime\u001b[0m\u001b[1m(\u001b[0m\u001b[1;36m2025\u001b[0m, \u001b[1;36m6\u001b[0m, \u001b[1;36m26\u001b[0m, \u001b[1;36m9\u001b[0m, \u001b[1;36m0\u001b[0m, \u001b[1;36m44\u001b[0m, \u001b[1;36m505961\u001b[0m, \u001b[33mtzinfo\u001b[0m=\u001b[1;35mTzInfo\u001b[0m\u001b[1m(\u001b[0mUTC\u001b[1m)\u001b[0m\u001b[1m)\u001b[0m,\n",
       "        \u001b[33mcreation_date\u001b[0m=\u001b[1;35mdatetime\u001b[0m\u001b[1;35m.datetime\u001b[0m\u001b[1m(\u001b[0m\u001b[1;36m2025\u001b[0m, \u001b[1;36m6\u001b[0m, \u001b[1;36m26\u001b[0m, \u001b[1;36m9\u001b[0m, \u001b[1;36m0\u001b[0m, \u001b[1;36m44\u001b[0m, \u001b[1;36m505961\u001b[0m, \u001b[33mtzinfo\u001b[0m=\u001b[1;35mTzInfo\u001b[0m\u001b[1m(\u001b[0mUTC\u001b[1m)\u001b[0m\u001b[1m)\u001b[0m,\n",
       "        \u001b[33mname\u001b[0m=\u001b[32m'Rattus norvegicus'\u001b[0m,\n",
       "        \u001b[33mtaxonomy_id\u001b[0m=\u001b[32m'NCBITaxon:10116'\u001b[0m\n",
       "    \u001b[1m)\u001b[0m,\n",
       "    \u001b[1;35mSpecies\u001b[0m\u001b[1m(\u001b[0m\n",
       "        \u001b[33mid\u001b[0m=\u001b[1;35mUUID\u001b[0m\u001b[1m(\u001b[0m\u001b[32m'59cc60b1-7604-44b4-a736-95c3e652c71a'\u001b[0m\u001b[1m)\u001b[0m,\n",
       "        \u001b[33mupdate_date\u001b[0m=\u001b[1;35mdatetime\u001b[0m\u001b[1;35m.datetime\u001b[0m\u001b[1m(\u001b[0m\u001b[1;36m2025\u001b[0m, \u001b[1;36m6\u001b[0m, \u001b[1;36m26\u001b[0m, \u001b[1;36m8\u001b[0m, \u001b[1;36m59\u001b[0m, \u001b[1;36m15\u001b[0m, \u001b[1;36m558747\u001b[0m, \u001b[33mtzinfo\u001b[0m=\u001b[1;35mTzInfo\u001b[0m\u001b[1m(\u001b[0mUTC\u001b[1m)\u001b[0m\u001b[1m)\u001b[0m,\n",
       "        \u001b[33mcreation_date\u001b[0m=\u001b[1;35mdatetime\u001b[0m\u001b[1;35m.datetime\u001b[0m\u001b[1m(\u001b[0m\u001b[1;36m2025\u001b[0m, \u001b[1;36m6\u001b[0m, \u001b[1;36m26\u001b[0m, \u001b[1;36m8\u001b[0m, \u001b[1;36m59\u001b[0m, \u001b[1;36m15\u001b[0m, \u001b[1;36m558746\u001b[0m, \u001b[33mtzinfo\u001b[0m=\u001b[1;35mTzInfo\u001b[0m\u001b[1m(\u001b[0mUTC\u001b[1m)\u001b[0m\u001b[1m)\u001b[0m,\n",
       "        \u001b[33mname\u001b[0m=\u001b[32m'Xenopus laevis'\u001b[0m,\n",
       "        \u001b[33mtaxonomy_id\u001b[0m=\u001b[32m'NCBITaxon:8355'\u001b[0m\n",
       "    \u001b[1m)\u001b[0m\n",
       "\u001b[1m]\u001b[0m\n"
      ]
     },
     "metadata": {},
     "output_type": "display_data"
    }
   ],
   "source": [
    "all_species = client.search_entity(entity_type=Species).all()\n",
    "rprint(all_species)"
   ]
  },
  {
   "cell_type": "markdown",
   "id": "f60d7775-c12b-47fc-bb14-da80f08bfbfd",
   "metadata": {},
   "source": [
    "**Brain regions**"
   ]
  },
  {
   "cell_type": "code",
   "execution_count": 5,
   "id": "caeb6e4d-143d-40f2-8f3c-f79e0e76fc93",
   "metadata": {},
   "outputs": [
    {
     "data": {
      "text/html": [
       "<pre style=\"white-space:pre;overflow-x:auto;line-height:normal;font-family:Menlo,'DejaVu Sans Mono',consolas,'Courier New',monospace\"><span style=\"font-weight: bold\">[</span>\n",
       "    <span style=\"color: #800080; text-decoration-color: #800080; font-weight: bold\">BrainRegion</span><span style=\"font-weight: bold\">(</span>\n",
       "        <span style=\"color: #808000; text-decoration-color: #808000\">id</span>=<span style=\"color: #800080; text-decoration-color: #800080; font-weight: bold\">UUID</span><span style=\"font-weight: bold\">(</span><span style=\"color: #008000; text-decoration-color: #008000\">'156eab79-e9b1-41f4-bca5-f87b447c999d'</span><span style=\"font-weight: bold\">)</span>,\n",
       "        <span style=\"color: #808000; text-decoration-color: #808000\">update_date</span>=<span style=\"color: #800080; text-decoration-color: #800080; font-weight: bold\">datetime</span><span style=\"color: #800080; text-decoration-color: #800080; font-weight: bold\">.datetime</span><span style=\"font-weight: bold\">(</span><span style=\"color: #008080; text-decoration-color: #008080; font-weight: bold\">2025</span>, <span style=\"color: #008080; text-decoration-color: #008080; font-weight: bold\">6</span>, <span style=\"color: #008080; text-decoration-color: #008080; font-weight: bold\">26</span>, <span style=\"color: #008080; text-decoration-color: #008080; font-weight: bold\">8</span>, <span style=\"color: #008080; text-decoration-color: #008080; font-weight: bold\">59</span>, <span style=\"color: #008080; text-decoration-color: #008080; font-weight: bold\">14</span>, <span style=\"color: #008080; text-decoration-color: #008080; font-weight: bold\">94927</span>, <span style=\"color: #808000; text-decoration-color: #808000\">tzinfo</span>=<span style=\"color: #800080; text-decoration-color: #800080; font-weight: bold\">TzInfo</span><span style=\"font-weight: bold\">(</span>UTC<span style=\"font-weight: bold\">))</span>,\n",
       "        <span style=\"color: #808000; text-decoration-color: #808000\">creation_date</span>=<span style=\"color: #800080; text-decoration-color: #800080; font-weight: bold\">datetime</span><span style=\"color: #800080; text-decoration-color: #800080; font-weight: bold\">.datetime</span><span style=\"font-weight: bold\">(</span><span style=\"color: #008080; text-decoration-color: #008080; font-weight: bold\">2025</span>, <span style=\"color: #008080; text-decoration-color: #008080; font-weight: bold\">6</span>, <span style=\"color: #008080; text-decoration-color: #008080; font-weight: bold\">26</span>, <span style=\"color: #008080; text-decoration-color: #008080; font-weight: bold\">8</span>, <span style=\"color: #008080; text-decoration-color: #008080; font-weight: bold\">59</span>, <span style=\"color: #008080; text-decoration-color: #008080; font-weight: bold\">14</span>, <span style=\"color: #008080; text-decoration-color: #008080; font-weight: bold\">94927</span>, <span style=\"color: #808000; text-decoration-color: #808000\">tzinfo</span>=<span style=\"color: #800080; text-decoration-color: #800080; font-weight: bold\">TzInfo</span><span style=\"font-weight: bold\">(</span>UTC<span style=\"font-weight: bold\">))</span>,\n",
       "        <span style=\"color: #808000; text-decoration-color: #808000\">name</span>=<span style=\"color: #008000; text-decoration-color: #008000\">'abducens nerve'</span>,\n",
       "        <span style=\"color: #808000; text-decoration-color: #808000\">annotation_value</span>=<span style=\"color: #008080; text-decoration-color: #008080; font-weight: bold\">710</span>,\n",
       "        <span style=\"color: #808000; text-decoration-color: #808000\">acronym</span>=<span style=\"color: #008000; text-decoration-color: #008000\">'VIn'</span>,\n",
       "        <span style=\"color: #808000; text-decoration-color: #808000\">parent_structure_id</span>=<span style=\"color: #800080; text-decoration-color: #800080; font-weight: bold\">UUID</span><span style=\"font-weight: bold\">(</span><span style=\"color: #008000; text-decoration-color: #008000\">'4e3d4d0f-51dd-4d5c-9d94-6658d2511c38'</span><span style=\"font-weight: bold\">)</span>,\n",
       "        <span style=\"color: #808000; text-decoration-color: #808000\">hierarchy_id</span>=<span style=\"color: #800080; text-decoration-color: #800080; font-weight: bold\">UUID</span><span style=\"font-weight: bold\">(</span><span style=\"color: #008000; text-decoration-color: #008000\">'e3e70682-c209-4cac-a29f-6fbed82c07cd'</span><span style=\"font-weight: bold\">)</span>,\n",
       "        <span style=\"color: #808000; text-decoration-color: #808000\">color_hex_triplet</span>=<span style=\"color: #008000; text-decoration-color: #008000\">'CCCCCC'</span>\n",
       "    <span style=\"font-weight: bold\">)</span>,\n",
       "    <span style=\"color: #800080; text-decoration-color: #800080; font-weight: bold\">BrainRegion</span><span style=\"font-weight: bold\">(</span>\n",
       "        <span style=\"color: #808000; text-decoration-color: #808000\">id</span>=<span style=\"color: #800080; text-decoration-color: #800080; font-weight: bold\">UUID</span><span style=\"font-weight: bold\">(</span><span style=\"color: #008000; text-decoration-color: #008000\">'68d52eb6-18ed-46c3-9300-1b63856558b2'</span><span style=\"font-weight: bold\">)</span>,\n",
       "        <span style=\"color: #808000; text-decoration-color: #808000\">update_date</span>=<span style=\"color: #800080; text-decoration-color: #800080; font-weight: bold\">datetime</span><span style=\"color: #800080; text-decoration-color: #800080; font-weight: bold\">.datetime</span><span style=\"font-weight: bold\">(</span><span style=\"color: #008080; text-decoration-color: #008080; font-weight: bold\">2025</span>, <span style=\"color: #008080; text-decoration-color: #008080; font-weight: bold\">6</span>, <span style=\"color: #008080; text-decoration-color: #008080; font-weight: bold\">26</span>, <span style=\"color: #008080; text-decoration-color: #008080; font-weight: bold\">8</span>, <span style=\"color: #008080; text-decoration-color: #008080; font-weight: bold\">59</span>, <span style=\"color: #008080; text-decoration-color: #008080; font-weight: bold\">14</span>, <span style=\"color: #008080; text-decoration-color: #008080; font-weight: bold\">94927</span>, <span style=\"color: #808000; text-decoration-color: #808000\">tzinfo</span>=<span style=\"color: #800080; text-decoration-color: #800080; font-weight: bold\">TzInfo</span><span style=\"font-weight: bold\">(</span>UTC<span style=\"font-weight: bold\">))</span>,\n",
       "        <span style=\"color: #808000; text-decoration-color: #808000\">creation_date</span>=<span style=\"color: #800080; text-decoration-color: #800080; font-weight: bold\">datetime</span><span style=\"color: #800080; text-decoration-color: #800080; font-weight: bold\">.datetime</span><span style=\"font-weight: bold\">(</span><span style=\"color: #008080; text-decoration-color: #008080; font-weight: bold\">2025</span>, <span style=\"color: #008080; text-decoration-color: #008080; font-weight: bold\">6</span>, <span style=\"color: #008080; text-decoration-color: #008080; font-weight: bold\">26</span>, <span style=\"color: #008080; text-decoration-color: #008080; font-weight: bold\">8</span>, <span style=\"color: #008080; text-decoration-color: #008080; font-weight: bold\">59</span>, <span style=\"color: #008080; text-decoration-color: #008080; font-weight: bold\">14</span>, <span style=\"color: #008080; text-decoration-color: #008080; font-weight: bold\">94927</span>, <span style=\"color: #808000; text-decoration-color: #808000\">tzinfo</span>=<span style=\"color: #800080; text-decoration-color: #800080; font-weight: bold\">TzInfo</span><span style=\"font-weight: bold\">(</span>UTC<span style=\"font-weight: bold\">))</span>,\n",
       "        <span style=\"color: #808000; text-decoration-color: #808000\">name</span>=<span style=\"color: #008000; text-decoration-color: #008000\">'Abducens nucleus'</span>,\n",
       "        <span style=\"color: #808000; text-decoration-color: #808000\">annotation_value</span>=<span style=\"color: #008080; text-decoration-color: #008080; font-weight: bold\">653</span>,\n",
       "        <span style=\"color: #808000; text-decoration-color: #808000\">acronym</span>=<span style=\"color: #008000; text-decoration-color: #008000\">'VI'</span>,\n",
       "        <span style=\"color: #808000; text-decoration-color: #808000\">parent_structure_id</span>=<span style=\"color: #800080; text-decoration-color: #800080; font-weight: bold\">UUID</span><span style=\"font-weight: bold\">(</span><span style=\"color: #008000; text-decoration-color: #008000\">'03b27030-e7f5-44f3-8dab-b96dd708f3a0'</span><span style=\"font-weight: bold\">)</span>,\n",
       "        <span style=\"color: #808000; text-decoration-color: #808000\">hierarchy_id</span>=<span style=\"color: #800080; text-decoration-color: #800080; font-weight: bold\">UUID</span><span style=\"font-weight: bold\">(</span><span style=\"color: #008000; text-decoration-color: #008000\">'e3e70682-c209-4cac-a29f-6fbed82c07cd'</span><span style=\"font-weight: bold\">)</span>,\n",
       "        <span style=\"color: #808000; text-decoration-color: #808000\">color_hex_triplet</span>=<span style=\"color: #008000; text-decoration-color: #008000\">'FFB3D9'</span>\n",
       "    <span style=\"font-weight: bold\">)</span>\n",
       "<span style=\"font-weight: bold\">]</span>\n",
       "</pre>\n"
      ],
      "text/plain": [
       "\u001b[1m[\u001b[0m\n",
       "    \u001b[1;35mBrainRegion\u001b[0m\u001b[1m(\u001b[0m\n",
       "        \u001b[33mid\u001b[0m=\u001b[1;35mUUID\u001b[0m\u001b[1m(\u001b[0m\u001b[32m'156eab79-e9b1-41f4-bca5-f87b447c999d'\u001b[0m\u001b[1m)\u001b[0m,\n",
       "        \u001b[33mupdate_date\u001b[0m=\u001b[1;35mdatetime\u001b[0m\u001b[1;35m.datetime\u001b[0m\u001b[1m(\u001b[0m\u001b[1;36m2025\u001b[0m, \u001b[1;36m6\u001b[0m, \u001b[1;36m26\u001b[0m, \u001b[1;36m8\u001b[0m, \u001b[1;36m59\u001b[0m, \u001b[1;36m14\u001b[0m, \u001b[1;36m94927\u001b[0m, \u001b[33mtzinfo\u001b[0m=\u001b[1;35mTzInfo\u001b[0m\u001b[1m(\u001b[0mUTC\u001b[1m)\u001b[0m\u001b[1m)\u001b[0m,\n",
       "        \u001b[33mcreation_date\u001b[0m=\u001b[1;35mdatetime\u001b[0m\u001b[1;35m.datetime\u001b[0m\u001b[1m(\u001b[0m\u001b[1;36m2025\u001b[0m, \u001b[1;36m6\u001b[0m, \u001b[1;36m26\u001b[0m, \u001b[1;36m8\u001b[0m, \u001b[1;36m59\u001b[0m, \u001b[1;36m14\u001b[0m, \u001b[1;36m94927\u001b[0m, \u001b[33mtzinfo\u001b[0m=\u001b[1;35mTzInfo\u001b[0m\u001b[1m(\u001b[0mUTC\u001b[1m)\u001b[0m\u001b[1m)\u001b[0m,\n",
       "        \u001b[33mname\u001b[0m=\u001b[32m'abducens nerve'\u001b[0m,\n",
       "        \u001b[33mannotation_value\u001b[0m=\u001b[1;36m710\u001b[0m,\n",
       "        \u001b[33macronym\u001b[0m=\u001b[32m'VIn'\u001b[0m,\n",
       "        \u001b[33mparent_structure_id\u001b[0m=\u001b[1;35mUUID\u001b[0m\u001b[1m(\u001b[0m\u001b[32m'4e3d4d0f-51dd-4d5c-9d94-6658d2511c38'\u001b[0m\u001b[1m)\u001b[0m,\n",
       "        \u001b[33mhierarchy_id\u001b[0m=\u001b[1;35mUUID\u001b[0m\u001b[1m(\u001b[0m\u001b[32m'e3e70682-c209-4cac-a29f-6fbed82c07cd'\u001b[0m\u001b[1m)\u001b[0m,\n",
       "        \u001b[33mcolor_hex_triplet\u001b[0m=\u001b[32m'CCCCCC'\u001b[0m\n",
       "    \u001b[1m)\u001b[0m,\n",
       "    \u001b[1;35mBrainRegion\u001b[0m\u001b[1m(\u001b[0m\n",
       "        \u001b[33mid\u001b[0m=\u001b[1;35mUUID\u001b[0m\u001b[1m(\u001b[0m\u001b[32m'68d52eb6-18ed-46c3-9300-1b63856558b2'\u001b[0m\u001b[1m)\u001b[0m,\n",
       "        \u001b[33mupdate_date\u001b[0m=\u001b[1;35mdatetime\u001b[0m\u001b[1;35m.datetime\u001b[0m\u001b[1m(\u001b[0m\u001b[1;36m2025\u001b[0m, \u001b[1;36m6\u001b[0m, \u001b[1;36m26\u001b[0m, \u001b[1;36m8\u001b[0m, \u001b[1;36m59\u001b[0m, \u001b[1;36m14\u001b[0m, \u001b[1;36m94927\u001b[0m, \u001b[33mtzinfo\u001b[0m=\u001b[1;35mTzInfo\u001b[0m\u001b[1m(\u001b[0mUTC\u001b[1m)\u001b[0m\u001b[1m)\u001b[0m,\n",
       "        \u001b[33mcreation_date\u001b[0m=\u001b[1;35mdatetime\u001b[0m\u001b[1;35m.datetime\u001b[0m\u001b[1m(\u001b[0m\u001b[1;36m2025\u001b[0m, \u001b[1;36m6\u001b[0m, \u001b[1;36m26\u001b[0m, \u001b[1;36m8\u001b[0m, \u001b[1;36m59\u001b[0m, \u001b[1;36m14\u001b[0m, \u001b[1;36m94927\u001b[0m, \u001b[33mtzinfo\u001b[0m=\u001b[1;35mTzInfo\u001b[0m\u001b[1m(\u001b[0mUTC\u001b[1m)\u001b[0m\u001b[1m)\u001b[0m,\n",
       "        \u001b[33mname\u001b[0m=\u001b[32m'Abducens nucleus'\u001b[0m,\n",
       "        \u001b[33mannotation_value\u001b[0m=\u001b[1;36m653\u001b[0m,\n",
       "        \u001b[33macronym\u001b[0m=\u001b[32m'VI'\u001b[0m,\n",
       "        \u001b[33mparent_structure_id\u001b[0m=\u001b[1;35mUUID\u001b[0m\u001b[1m(\u001b[0m\u001b[32m'03b27030-e7f5-44f3-8dab-b96dd708f3a0'\u001b[0m\u001b[1m)\u001b[0m,\n",
       "        \u001b[33mhierarchy_id\u001b[0m=\u001b[1;35mUUID\u001b[0m\u001b[1m(\u001b[0m\u001b[32m'e3e70682-c209-4cac-a29f-6fbed82c07cd'\u001b[0m\u001b[1m)\u001b[0m,\n",
       "        \u001b[33mcolor_hex_triplet\u001b[0m=\u001b[32m'FFB3D9'\u001b[0m\n",
       "    \u001b[1m)\u001b[0m\n",
       "\u001b[1m]\u001b[0m\n"
      ]
     },
     "metadata": {},
     "output_type": "display_data"
    }
   ],
   "source": [
    "all_regions = client.search_entity(entity_type=BrainRegion).all()\n",
    "rprint(all_regions[:2])"
   ]
  },
  {
   "cell_type": "markdown",
   "id": "7d724ed3-8a3c-46cd-bbaf-c0d52a6789e1",
   "metadata": {},
   "source": [
    "**Find regions for temporal cortex for example**"
   ]
  },
  {
   "cell_type": "code",
   "execution_count": 6,
   "id": "9598abb3-849a-413b-a1e7-b8f46a88d510",
   "metadata": {
    "scrolled": true
   },
   "outputs": [
    {
     "data": {
      "text/html": [
       "<pre style=\"white-space:pre;overflow-x:auto;line-height:normal;font-family:Menlo,'DejaVu Sans Mono',consolas,'Courier New',monospace\"><span style=\"font-weight: bold\">[</span>\n",
       "    <span style=\"color: #008000; text-decoration-color: #008000\">'Temporal association areas'</span>,\n",
       "    <span style=\"color: #008000; text-decoration-color: #008000\">'Temporal association areas, layer 1'</span>,\n",
       "    <span style=\"color: #008000; text-decoration-color: #008000\">'Temporal association areas, layer 2'</span>,\n",
       "    <span style=\"color: #008000; text-decoration-color: #008000\">'Temporal association areas, layer 2/3'</span>,\n",
       "    <span style=\"color: #008000; text-decoration-color: #008000\">'Temporal association areas, layer 3'</span>,\n",
       "    <span style=\"color: #008000; text-decoration-color: #008000\">'Temporal association areas, layer 4'</span>,\n",
       "    <span style=\"color: #008000; text-decoration-color: #008000\">'Temporal association areas, layer 5'</span>,\n",
       "    <span style=\"color: #008000; text-decoration-color: #008000\">'Temporal association areas, layer 6a'</span>,\n",
       "    <span style=\"color: #008000; text-decoration-color: #008000\">'Temporal association areas, layer 6b'</span>\n",
       "<span style=\"font-weight: bold\">]</span>\n",
       "</pre>\n"
      ],
      "text/plain": [
       "\u001b[1m[\u001b[0m\n",
       "    \u001b[32m'Temporal association areas'\u001b[0m,\n",
       "    \u001b[32m'Temporal association areas, layer 1'\u001b[0m,\n",
       "    \u001b[32m'Temporal association areas, layer 2'\u001b[0m,\n",
       "    \u001b[32m'Temporal association areas, layer 2/3'\u001b[0m,\n",
       "    \u001b[32m'Temporal association areas, layer 3'\u001b[0m,\n",
       "    \u001b[32m'Temporal association areas, layer 4'\u001b[0m,\n",
       "    \u001b[32m'Temporal association areas, layer 5'\u001b[0m,\n",
       "    \u001b[32m'Temporal association areas, layer 6a'\u001b[0m,\n",
       "    \u001b[32m'Temporal association areas, layer 6b'\u001b[0m\n",
       "\u001b[1m]\u001b[0m\n"
      ]
     },
     "metadata": {},
     "output_type": "display_data"
    }
   ],
   "source": [
    "rprint([i.name for i in all_regions if \"Temporal\" in i.name ])"
   ]
  },
  {
   "cell_type": "markdown",
   "id": "8ac85a4e-d4bd-4cee-acce-ee68b54cdb9f",
   "metadata": {},
   "source": [
    "**Mtypes**"
   ]
  },
  {
   "cell_type": "code",
   "execution_count": 7,
   "id": "164e8b52-49cc-4a08-bafa-41020ef7a5e7",
   "metadata": {},
   "outputs": [
    {
     "data": {
      "text/html": [
       "<pre style=\"white-space:pre;overflow-x:auto;line-height:normal;font-family:Menlo,'DejaVu Sans Mono',consolas,'Courier New',monospace\"><span style=\"font-weight: bold\">[</span>\n",
       "    <span style=\"color: #008000; text-decoration-color: #008000\">'A_BC'</span>,\n",
       "    <span style=\"color: #008000; text-decoration-color: #008000\">'A_BFP'</span>,\n",
       "    <span style=\"color: #008000; text-decoration-color: #008000\">'ACB_CTAN'</span>,\n",
       "    <span style=\"color: #008000; text-decoration-color: #008000\">'ACB_FS'</span>,\n",
       "    <span style=\"color: #008000; text-decoration-color: #008000\">'ACB_HFN_mtype'</span>,\n",
       "    <span style=\"color: #008000; text-decoration-color: #008000\">'ACB_LTS'</span>,\n",
       "    <span style=\"color: #008000; text-decoration-color: #008000\">'ACB_MSN1'</span>,\n",
       "    <span style=\"color: #008000; text-decoration-color: #008000\">'ACB_MSN2'</span>,\n",
       "    <span style=\"color: #008000; text-decoration-color: #008000\">'ACB_MSN3'</span>,\n",
       "    <span style=\"color: #008000; text-decoration-color: #008000\">'ACB_PN_mtype'</span>\n",
       "<span style=\"font-weight: bold\">]</span>\n",
       "</pre>\n"
      ],
      "text/plain": [
       "\u001b[1m[\u001b[0m\n",
       "    \u001b[32m'A_BC'\u001b[0m,\n",
       "    \u001b[32m'A_BFP'\u001b[0m,\n",
       "    \u001b[32m'ACB_CTAN'\u001b[0m,\n",
       "    \u001b[32m'ACB_FS'\u001b[0m,\n",
       "    \u001b[32m'ACB_HFN_mtype'\u001b[0m,\n",
       "    \u001b[32m'ACB_LTS'\u001b[0m,\n",
       "    \u001b[32m'ACB_MSN1'\u001b[0m,\n",
       "    \u001b[32m'ACB_MSN2'\u001b[0m,\n",
       "    \u001b[32m'ACB_MSN3'\u001b[0m,\n",
       "    \u001b[32m'ACB_PN_mtype'\u001b[0m\n",
       "\u001b[1m]\u001b[0m\n"
      ]
     },
     "metadata": {},
     "output_type": "display_data"
    }
   ],
   "source": [
    "all_mtypes = client.search_entity(entity_type=MTypeClass).all()\n",
    "rprint([i.pref_label for i in all_mtypes[:10]])"
   ]
  },
  {
   "cell_type": "markdown",
   "id": "6d43eafe-3a4c-441c-9ab1-2071fa607b5c",
   "metadata": {},
   "source": [
    "## 1.3 Find morphologies of a specific mtype: L3_TPC:A"
   ]
  },
  {
   "cell_type": "code",
   "execution_count": 8,
   "id": "194ed65a-ac86-4e23-a9cc-511f66871683",
   "metadata": {},
   "outputs": [],
   "source": [
    "iterator = client.search_entity(\n",
    "    entity_type=ReconstructionMorphology,\n",
    "    query={\"mtype__pref_label\": \"L3_TPC:A\"},\n",
    "    limit=1,\n",
    ")"
   ]
  },
  {
   "cell_type": "markdown",
   "id": "75c2a264-f442-4250-a0e0-04ec9587468c",
   "metadata": {},
   "source": [
    "Check the properties of a selected morphology (we selected only one example here)"
   ]
  },
  {
   "cell_type": "code",
   "execution_count": 9,
   "id": "4efccfda-2b4f-42fd-9a9c-10bf102dc500",
   "metadata": {},
   "outputs": [],
   "source": [
    "morphology = next(iterator)"
   ]
  },
  {
   "cell_type": "markdown",
   "id": "38517205-b333-4de2-835a-1ab12ca687e3",
   "metadata": {},
   "source": [
    "Mtype of the moprphology is the morphological cell type assigned by a classification scheme"
   ]
  },
  {
   "cell_type": "code",
   "execution_count": 10,
   "id": "d99f5052-12aa-4fcd-8637-e8bfe72d481a",
   "metadata": {},
   "outputs": [
    {
     "data": {
      "text/html": [
       "<pre style=\"white-space:pre;overflow-x:auto;line-height:normal;font-family:Menlo,'DejaVu Sans Mono',consolas,'Courier New',monospace\"><span style=\"color: #800080; text-decoration-color: #800080; font-weight: bold\">ReconstructionMorphology</span><span style=\"font-weight: bold\">(</span>\n",
       "    <span style=\"color: #808000; text-decoration-color: #808000\">assets</span>=<span style=\"font-weight: bold\">[</span>\n",
       "        <span style=\"color: #800080; text-decoration-color: #800080; font-weight: bold\">Asset</span><span style=\"font-weight: bold\">(</span>\n",
       "            <span style=\"color: #808000; text-decoration-color: #808000\">id</span>=<span style=\"color: #800080; text-decoration-color: #800080; font-weight: bold\">UUID</span><span style=\"font-weight: bold\">(</span><span style=\"color: #008000; text-decoration-color: #008000\">'9b80d354-7e38-4688-bcb6-165355b4d4b4'</span><span style=\"font-weight: bold\">)</span>,\n",
       "            <span style=\"color: #808000; text-decoration-color: #808000\">update_date</span>=<span style=\"color: #800080; text-decoration-color: #800080; font-style: italic\">None</span>,\n",
       "            <span style=\"color: #808000; text-decoration-color: #808000\">creation_date</span>=<span style=\"color: #800080; text-decoration-color: #800080; font-style: italic\">None</span>,\n",
       "            <span style=\"color: #808000; text-decoration-color: #808000\">path</span>=<span style=\"color: #008000; text-decoration-color: #008000\">'rat_20150131_LH2_cell3.h5'</span>,\n",
       "            <span style=\"color: #808000; text-decoration-color: #808000\">full_path</span>=<span style=\"color: #008000; text-decoration-color: #008000\">'public/a98b7abc-fc46-4700-9e3d-37137812c730/0dbced5f-cc3d-488a-8c7f-cfb8ea039dc6/assets/reco</span>\n",
       "<span style=\"color: #008000; text-decoration-color: #008000\">nstruction_morphology/06cfa2e4-df21-40a0-aa58-7be11091aeba/rat_20150131_LH2_cell3.h5'</span>,\n",
       "            <span style=\"color: #808000; text-decoration-color: #808000\">is_directory</span>=<span style=\"color: #ff0000; text-decoration-color: #ff0000; font-style: italic\">False</span>,\n",
       "            <span style=\"color: #808000; text-decoration-color: #808000\">content_type</span>=<span style=\"color: #008000; text-decoration-color: #008000\">'application/x-hdf5'</span>,\n",
       "            <span style=\"color: #808000; text-decoration-color: #808000\">size</span>=<span style=\"color: #008080; text-decoration-color: #008080; font-weight: bold\">1758300</span>,\n",
       "            <span style=\"color: #808000; text-decoration-color: #808000\">sha256_digest</span>=<span style=\"color: #008000; text-decoration-color: #008000\">'af476bec524d210dbeda930f8474dc8344e4525d162808f0aad4f422c1dc2490'</span>,\n",
       "            <span style=\"color: #808000; text-decoration-color: #808000\">status</span>=<span style=\"color: #008000; text-decoration-color: #008000\">'created'</span>,\n",
       "            <span style=\"color: #808000; text-decoration-color: #808000\">meta</span>=<span style=\"font-weight: bold\">{}</span>,\n",
       "            <span style=\"color: #808000; text-decoration-color: #808000\">label</span>=<span style=\"color: #800080; text-decoration-color: #800080; font-style: italic\">None</span>\n",
       "        <span style=\"font-weight: bold\">)</span>,\n",
       "        <span style=\"color: #800080; text-decoration-color: #800080; font-weight: bold\">Asset</span><span style=\"font-weight: bold\">(</span>\n",
       "            <span style=\"color: #808000; text-decoration-color: #808000\">id</span>=<span style=\"color: #800080; text-decoration-color: #800080; font-weight: bold\">UUID</span><span style=\"font-weight: bold\">(</span><span style=\"color: #008000; text-decoration-color: #008000\">'7eeb6fbe-443b-4cc5-b2db-6696f6a5f7e3'</span><span style=\"font-weight: bold\">)</span>,\n",
       "            <span style=\"color: #808000; text-decoration-color: #808000\">update_date</span>=<span style=\"color: #800080; text-decoration-color: #800080; font-style: italic\">None</span>,\n",
       "            <span style=\"color: #808000; text-decoration-color: #808000\">creation_date</span>=<span style=\"color: #800080; text-decoration-color: #800080; font-style: italic\">None</span>,\n",
       "            <span style=\"color: #808000; text-decoration-color: #808000\">path</span>=<span style=\"color: #008000; text-decoration-color: #008000\">'rat_20150131_LH2_cell3.asc'</span>,\n",
       "            <span style=\"color: #808000; text-decoration-color: #808000\">full_path</span>=<span style=\"color: #008000; text-decoration-color: #008000\">'public/a98b7abc-fc46-4700-9e3d-37137812c730/0dbced5f-cc3d-488a-8c7f-cfb8ea039dc6/assets/reco</span>\n",
       "<span style=\"color: #008000; text-decoration-color: #008000\">nstruction_morphology/06cfa2e4-df21-40a0-aa58-7be11091aeba/rat_20150131_LH2_cell3.asc'</span>,\n",
       "            <span style=\"color: #808000; text-decoration-color: #808000\">is_directory</span>=<span style=\"color: #ff0000; text-decoration-color: #ff0000; font-style: italic\">False</span>,\n",
       "            <span style=\"color: #808000; text-decoration-color: #808000\">content_type</span>=<span style=\"color: #008000; text-decoration-color: #008000\">'application/asc'</span>,\n",
       "            <span style=\"color: #808000; text-decoration-color: #808000\">size</span>=<span style=\"color: #008080; text-decoration-color: #008080; font-weight: bold\">4198676</span>,\n",
       "            <span style=\"color: #808000; text-decoration-color: #808000\">sha256_digest</span>=<span style=\"color: #008000; text-decoration-color: #008000\">'f93c4b40712f007bc07e8646e16c4a4d7efe91b4ad0030c1fd2fbea03c940a74'</span>,\n",
       "            <span style=\"color: #808000; text-decoration-color: #808000\">status</span>=<span style=\"color: #008000; text-decoration-color: #008000\">'created'</span>,\n",
       "            <span style=\"color: #808000; text-decoration-color: #808000\">meta</span>=<span style=\"font-weight: bold\">{}</span>,\n",
       "            <span style=\"color: #808000; text-decoration-color: #808000\">label</span>=<span style=\"color: #800080; text-decoration-color: #800080; font-style: italic\">None</span>\n",
       "        <span style=\"font-weight: bold\">)</span>,\n",
       "        <span style=\"color: #800080; text-decoration-color: #800080; font-weight: bold\">Asset</span><span style=\"font-weight: bold\">(</span>\n",
       "            <span style=\"color: #808000; text-decoration-color: #808000\">id</span>=<span style=\"color: #800080; text-decoration-color: #800080; font-weight: bold\">UUID</span><span style=\"font-weight: bold\">(</span><span style=\"color: #008000; text-decoration-color: #008000\">'1dbd25b6-c6a1-43ba-a2a2-85e3cfd2b806'</span><span style=\"font-weight: bold\">)</span>,\n",
       "            <span style=\"color: #808000; text-decoration-color: #808000\">update_date</span>=<span style=\"color: #800080; text-decoration-color: #800080; font-style: italic\">None</span>,\n",
       "            <span style=\"color: #808000; text-decoration-color: #808000\">creation_date</span>=<span style=\"color: #800080; text-decoration-color: #800080; font-style: italic\">None</span>,\n",
       "            <span style=\"color: #808000; text-decoration-color: #808000\">path</span>=<span style=\"color: #008000; text-decoration-color: #008000\">'rat_20150131_LH2_cell3.swc'</span>,\n",
       "            <span style=\"color: #808000; text-decoration-color: #808000\">full_path</span>=<span style=\"color: #008000; text-decoration-color: #008000\">'public/a98b7abc-fc46-4700-9e3d-37137812c730/0dbced5f-cc3d-488a-8c7f-cfb8ea039dc6/assets/reco</span>\n",
       "<span style=\"color: #008000; text-decoration-color: #008000\">nstruction_morphology/06cfa2e4-df21-40a0-aa58-7be11091aeba/rat_20150131_LH2_cell3.swc'</span>,\n",
       "            <span style=\"color: #808000; text-decoration-color: #808000\">is_directory</span>=<span style=\"color: #ff0000; text-decoration-color: #ff0000; font-style: italic\">False</span>,\n",
       "            <span style=\"color: #808000; text-decoration-color: #808000\">content_type</span>=<span style=\"color: #008000; text-decoration-color: #008000\">'application/swc'</span>,\n",
       "            <span style=\"color: #808000; text-decoration-color: #808000\">size</span>=<span style=\"color: #008080; text-decoration-color: #008080; font-weight: bold\">4632627</span>,\n",
       "            <span style=\"color: #808000; text-decoration-color: #808000\">sha256_digest</span>=<span style=\"color: #008000; text-decoration-color: #008000\">'9e6ba198763b251f00f678db47a085f011fdeeafbc21b773232edf9b3b72eba2'</span>,\n",
       "            <span style=\"color: #808000; text-decoration-color: #808000\">status</span>=<span style=\"color: #008000; text-decoration-color: #008000\">'created'</span>,\n",
       "            <span style=\"color: #808000; text-decoration-color: #808000\">meta</span>=<span style=\"font-weight: bold\">{}</span>,\n",
       "            <span style=\"color: #808000; text-decoration-color: #808000\">label</span>=<span style=\"color: #800080; text-decoration-color: #800080; font-style: italic\">None</span>\n",
       "        <span style=\"font-weight: bold\">)</span>\n",
       "    <span style=\"font-weight: bold\">]</span>,\n",
       "    <span style=\"color: #808000; text-decoration-color: #808000\">id</span>=<span style=\"color: #800080; text-decoration-color: #800080; font-weight: bold\">UUID</span><span style=\"font-weight: bold\">(</span><span style=\"color: #008000; text-decoration-color: #008000\">'06cfa2e4-df21-40a0-aa58-7be11091aeba'</span><span style=\"font-weight: bold\">)</span>,\n",
       "    <span style=\"color: #808000; text-decoration-color: #808000\">update_date</span>=<span style=\"color: #800080; text-decoration-color: #800080; font-weight: bold\">datetime</span><span style=\"color: #800080; text-decoration-color: #800080; font-weight: bold\">.datetime</span><span style=\"font-weight: bold\">(</span><span style=\"color: #008080; text-decoration-color: #008080; font-weight: bold\">2025</span>, <span style=\"color: #008080; text-decoration-color: #008080; font-weight: bold\">4</span>, <span style=\"color: #008080; text-decoration-color: #008080; font-weight: bold\">25</span>, <span style=\"color: #008080; text-decoration-color: #008080; font-weight: bold\">7</span>, <span style=\"color: #008080; text-decoration-color: #008080; font-weight: bold\">54</span>, <span style=\"color: #008080; text-decoration-color: #008080; font-weight: bold\">47</span>, <span style=\"color: #008080; text-decoration-color: #008080; font-weight: bold\">36229</span>, <span style=\"color: #808000; text-decoration-color: #808000\">tzinfo</span>=<span style=\"color: #800080; text-decoration-color: #800080; font-weight: bold\">TzInfo</span><span style=\"font-weight: bold\">(</span>UTC<span style=\"font-weight: bold\">))</span>,\n",
       "    <span style=\"color: #808000; text-decoration-color: #808000\">creation_date</span>=<span style=\"color: #800080; text-decoration-color: #800080; font-weight: bold\">datetime</span><span style=\"color: #800080; text-decoration-color: #800080; font-weight: bold\">.datetime</span><span style=\"font-weight: bold\">(</span><span style=\"color: #008080; text-decoration-color: #008080; font-weight: bold\">2024</span>, <span style=\"color: #008080; text-decoration-color: #008080; font-weight: bold\">3</span>, <span style=\"color: #008080; text-decoration-color: #008080; font-weight: bold\">13</span>, <span style=\"color: #008080; text-decoration-color: #008080; font-weight: bold\">10</span>, <span style=\"color: #008080; text-decoration-color: #008080; font-weight: bold\">42</span>, <span style=\"color: #008080; text-decoration-color: #008080; font-weight: bold\">0</span>, <span style=\"color: #008080; text-decoration-color: #008080; font-weight: bold\">371143</span>, <span style=\"color: #808000; text-decoration-color: #808000\">tzinfo</span>=<span style=\"color: #800080; text-decoration-color: #800080; font-weight: bold\">TzInfo</span><span style=\"font-weight: bold\">(</span>UTC<span style=\"font-weight: bold\">))</span>,\n",
       "    <span style=\"color: #808000; text-decoration-color: #808000\">name</span>=<span style=\"color: #008000; text-decoration-color: #008000\">'rat_20150131_LH2_cell3'</span>,\n",
       "    <span style=\"color: #808000; text-decoration-color: #808000\">description</span>=<span style=\"color: #008000; text-decoration-color: #008000\">'Translated to mouse from rat data. This dataset is about an in vivo-filled neuron morphology from </span>\n",
       "<span style=\"color: #008000; text-decoration-color: #008000\">layer 3 with m-type L3_TPC:A. The distribution contains the neuron morphology in ASC, h5, and SWC file format.'</span>,\n",
       "    <span style=\"color: #808000; text-decoration-color: #808000\">type</span>=<span style=\"color: #008000; text-decoration-color: #008000\">'reconstruction_morphology'</span>,\n",
       "    <span style=\"color: #808000; text-decoration-color: #808000\">created_by</span>=<span style=\"color: #800080; text-decoration-color: #800080; font-weight: bold\">Person</span><span style=\"font-weight: bold\">(</span>\n",
       "        <span style=\"color: #808000; text-decoration-color: #808000\">id</span>=<span style=\"color: #800080; text-decoration-color: #800080; font-weight: bold\">UUID</span><span style=\"font-weight: bold\">(</span><span style=\"color: #008000; text-decoration-color: #008000\">'cd613e30-d8f1-4adf-91b7-584a2265b1f5'</span><span style=\"font-weight: bold\">)</span>,\n",
       "        <span style=\"color: #808000; text-decoration-color: #808000\">update_date</span>=<span style=\"color: #800080; text-decoration-color: #800080; font-style: italic\">None</span>,\n",
       "        <span style=\"color: #808000; text-decoration-color: #808000\">creation_date</span>=<span style=\"color: #800080; text-decoration-color: #800080; font-style: italic\">None</span>,\n",
       "        <span style=\"color: #808000; text-decoration-color: #808000\">type</span>=<span style=\"color: #008000; text-decoration-color: #008000\">'person'</span>,\n",
       "        <span style=\"color: #808000; text-decoration-color: #808000\">pref_label</span>=<span style=\"color: #008000; text-decoration-color: #008000\">'Admin'</span>,\n",
       "        <span style=\"color: #808000; text-decoration-color: #808000\">given_name</span>=<span style=\"color: #800080; text-decoration-color: #800080; font-style: italic\">None</span>,\n",
       "        <span style=\"color: #808000; text-decoration-color: #808000\">family_name</span>=<span style=\"color: #800080; text-decoration-color: #800080; font-style: italic\">None</span>\n",
       "    <span style=\"font-weight: bold\">)</span>,\n",
       "    <span style=\"color: #808000; text-decoration-color: #808000\">updated_by</span>=<span style=\"color: #800080; text-decoration-color: #800080; font-weight: bold\">Person</span><span style=\"font-weight: bold\">(</span>\n",
       "        <span style=\"color: #808000; text-decoration-color: #808000\">id</span>=<span style=\"color: #800080; text-decoration-color: #800080; font-weight: bold\">UUID</span><span style=\"font-weight: bold\">(</span><span style=\"color: #008000; text-decoration-color: #008000\">'cd613e30-d8f1-4adf-91b7-584a2265b1f5'</span><span style=\"font-weight: bold\">)</span>,\n",
       "        <span style=\"color: #808000; text-decoration-color: #808000\">update_date</span>=<span style=\"color: #800080; text-decoration-color: #800080; font-style: italic\">None</span>,\n",
       "        <span style=\"color: #808000; text-decoration-color: #808000\">creation_date</span>=<span style=\"color: #800080; text-decoration-color: #800080; font-style: italic\">None</span>,\n",
       "        <span style=\"color: #808000; text-decoration-color: #808000\">type</span>=<span style=\"color: #008000; text-decoration-color: #008000\">'person'</span>,\n",
       "        <span style=\"color: #808000; text-decoration-color: #808000\">pref_label</span>=<span style=\"color: #008000; text-decoration-color: #008000\">'Admin'</span>,\n",
       "        <span style=\"color: #808000; text-decoration-color: #808000\">given_name</span>=<span style=\"color: #800080; text-decoration-color: #800080; font-style: italic\">None</span>,\n",
       "        <span style=\"color: #808000; text-decoration-color: #808000\">family_name</span>=<span style=\"color: #800080; text-decoration-color: #800080; font-style: italic\">None</span>\n",
       "    <span style=\"font-weight: bold\">)</span>,\n",
       "    <span style=\"color: #808000; text-decoration-color: #808000\">authorized_public</span>=<span style=\"color: #00ff00; text-decoration-color: #00ff00; font-style: italic\">True</span>,\n",
       "    <span style=\"color: #808000; text-decoration-color: #808000\">authorized_project_id</span>=<span style=\"color: #800080; text-decoration-color: #800080; font-weight: bold\">UUID</span><span style=\"font-weight: bold\">(</span><span style=\"color: #008000; text-decoration-color: #008000\">'0dbced5f-cc3d-488a-8c7f-cfb8ea039dc6'</span><span style=\"font-weight: bold\">)</span>,\n",
       "    <span style=\"color: #808000; text-decoration-color: #808000\">contributions</span>=<span style=\"font-weight: bold\">[</span>\n",
       "        <span style=\"color: #800080; text-decoration-color: #800080; font-weight: bold\">Contribution</span><span style=\"font-weight: bold\">(</span>\n",
       "            <span style=\"color: #808000; text-decoration-color: #808000\">id</span>=<span style=\"color: #800080; text-decoration-color: #800080; font-weight: bold\">UUID</span><span style=\"font-weight: bold\">(</span><span style=\"color: #008000; text-decoration-color: #008000\">'98257066-8f4d-4cbc-9466-a77165b5dcac'</span><span style=\"font-weight: bold\">)</span>,\n",
       "            <span style=\"color: #808000; text-decoration-color: #808000\">update_date</span>=<span style=\"color: #800080; text-decoration-color: #800080; font-style: italic\">None</span>,\n",
       "            <span style=\"color: #808000; text-decoration-color: #808000\">creation_date</span>=<span style=\"color: #800080; text-decoration-color: #800080; font-style: italic\">None</span>,\n",
       "            <span style=\"color: #808000; text-decoration-color: #808000\">agent</span>=<span style=\"color: #800080; text-decoration-color: #800080; font-weight: bold\">Organization</span><span style=\"font-weight: bold\">(</span>\n",
       "                <span style=\"color: #808000; text-decoration-color: #808000\">id</span>=<span style=\"color: #800080; text-decoration-color: #800080; font-weight: bold\">UUID</span><span style=\"font-weight: bold\">(</span><span style=\"color: #008000; text-decoration-color: #008000\">'9779ac1f-45e9-4d32-8c85-5fdfa7251af0'</span><span style=\"font-weight: bold\">)</span>,\n",
       "                <span style=\"color: #808000; text-decoration-color: #808000\">update_date</span>=<span style=\"color: #800080; text-decoration-color: #800080; font-style: italic\">None</span>,\n",
       "                <span style=\"color: #808000; text-decoration-color: #808000\">creation_date</span>=<span style=\"color: #800080; text-decoration-color: #800080; font-style: italic\">None</span>,\n",
       "                <span style=\"color: #808000; text-decoration-color: #808000\">type</span>=<span style=\"color: #008000; text-decoration-color: #008000\">'organization'</span>,\n",
       "                <span style=\"color: #808000; text-decoration-color: #808000\">pref_label</span>=<span style=\"color: #008000; text-decoration-color: #008000\">'University of Debrecen'</span>,\n",
       "                <span style=\"color: #808000; text-decoration-color: #808000\">alternative_name</span>=<span style=\"color: #008000; text-decoration-color: #008000\">''</span>\n",
       "            <span style=\"font-weight: bold\">)</span>,\n",
       "            <span style=\"color: #808000; text-decoration-color: #808000\">role</span>=<span style=\"color: #800080; text-decoration-color: #800080; font-weight: bold\">Role</span><span style=\"font-weight: bold\">(</span>\n",
       "                <span style=\"color: #808000; text-decoration-color: #808000\">id</span>=<span style=\"color: #800080; text-decoration-color: #800080; font-weight: bold\">UUID</span><span style=\"font-weight: bold\">(</span><span style=\"color: #008000; text-decoration-color: #008000\">'334a96c2-b866-4e3c-97b0-799b1766f835'</span><span style=\"font-weight: bold\">)</span>,\n",
       "                <span style=\"color: #808000; text-decoration-color: #808000\">update_date</span>=<span style=\"color: #800080; text-decoration-color: #800080; font-weight: bold\">datetime</span><span style=\"color: #800080; text-decoration-color: #800080; font-weight: bold\">.datetime</span><span style=\"font-weight: bold\">(</span><span style=\"color: #008080; text-decoration-color: #008080; font-weight: bold\">2025</span>, <span style=\"color: #008080; text-decoration-color: #008080; font-weight: bold\">6</span>, <span style=\"color: #008080; text-decoration-color: #008080; font-weight: bold\">26</span>, <span style=\"color: #008080; text-decoration-color: #008080; font-weight: bold\">8</span>, <span style=\"color: #008080; text-decoration-color: #008080; font-weight: bold\">59</span>, <span style=\"color: #008080; text-decoration-color: #008080; font-weight: bold\">41</span>, <span style=\"color: #008080; text-decoration-color: #008080; font-weight: bold\">5794</span>, <span style=\"color: #808000; text-decoration-color: #808000\">tzinfo</span>=<span style=\"color: #800080; text-decoration-color: #800080; font-weight: bold\">TzInfo</span><span style=\"font-weight: bold\">(</span>UTC<span style=\"font-weight: bold\">))</span>,\n",
       "                <span style=\"color: #808000; text-decoration-color: #808000\">creation_date</span>=<span style=\"color: #800080; text-decoration-color: #800080; font-weight: bold\">datetime</span><span style=\"color: #800080; text-decoration-color: #800080; font-weight: bold\">.datetime</span><span style=\"font-weight: bold\">(</span><span style=\"color: #008080; text-decoration-color: #008080; font-weight: bold\">2025</span>, <span style=\"color: #008080; text-decoration-color: #008080; font-weight: bold\">6</span>, <span style=\"color: #008080; text-decoration-color: #008080; font-weight: bold\">26</span>, <span style=\"color: #008080; text-decoration-color: #008080; font-weight: bold\">8</span>, <span style=\"color: #008080; text-decoration-color: #008080; font-weight: bold\">59</span>, <span style=\"color: #008080; text-decoration-color: #008080; font-weight: bold\">41</span>, <span style=\"color: #008080; text-decoration-color: #008080; font-weight: bold\">5794</span>, <span style=\"color: #808000; text-decoration-color: #808000\">tzinfo</span>=<span style=\"color: #800080; text-decoration-color: #800080; font-weight: bold\">TzInfo</span><span style=\"font-weight: bold\">(</span>UTC<span style=\"font-weight: bold\">))</span>,\n",
       "                <span style=\"color: #808000; text-decoration-color: #808000\">name</span>=<span style=\"color: #008000; text-decoration-color: #008000\">'unspecified'</span>,\n",
       "                <span style=\"color: #808000; text-decoration-color: #808000\">role_id</span>=<span style=\"color: #008000; text-decoration-color: #008000\">'unspecified'</span>\n",
       "            <span style=\"font-weight: bold\">)</span>,\n",
       "            <span style=\"color: #808000; text-decoration-color: #808000\">entity</span>=<span style=\"color: #800080; text-decoration-color: #800080; font-style: italic\">None</span>\n",
       "        <span style=\"font-weight: bold\">)</span>,\n",
       "        <span style=\"color: #800080; text-decoration-color: #800080; font-weight: bold\">Contribution</span><span style=\"font-weight: bold\">(</span>\n",
       "            <span style=\"color: #808000; text-decoration-color: #808000\">id</span>=<span style=\"color: #800080; text-decoration-color: #800080; font-weight: bold\">UUID</span><span style=\"font-weight: bold\">(</span><span style=\"color: #008000; text-decoration-color: #008000\">'b7e91fb3-7987-4b11-aa96-c0f392b0c3e3'</span><span style=\"font-weight: bold\">)</span>,\n",
       "            <span style=\"color: #808000; text-decoration-color: #808000\">update_date</span>=<span style=\"color: #800080; text-decoration-color: #800080; font-style: italic\">None</span>,\n",
       "            <span style=\"color: #808000; text-decoration-color: #808000\">creation_date</span>=<span style=\"color: #800080; text-decoration-color: #800080; font-style: italic\">None</span>,\n",
       "            <span style=\"color: #808000; text-decoration-color: #808000\">agent</span>=<span style=\"color: #800080; text-decoration-color: #800080; font-weight: bold\">Person</span><span style=\"font-weight: bold\">(</span>\n",
       "                <span style=\"color: #808000; text-decoration-color: #808000\">id</span>=<span style=\"color: #800080; text-decoration-color: #800080; font-weight: bold\">UUID</span><span style=\"font-weight: bold\">(</span><span style=\"color: #008000; text-decoration-color: #008000\">'1a16daff-3da9-4cd2-967b-75dfb948f82a'</span><span style=\"font-weight: bold\">)</span>,\n",
       "                <span style=\"color: #808000; text-decoration-color: #808000\">update_date</span>=<span style=\"color: #800080; text-decoration-color: #800080; font-style: italic\">None</span>,\n",
       "                <span style=\"color: #808000; text-decoration-color: #808000\">creation_date</span>=<span style=\"color: #800080; text-decoration-color: #800080; font-style: italic\">None</span>,\n",
       "                <span style=\"color: #808000; text-decoration-color: #808000\">type</span>=<span style=\"color: #008000; text-decoration-color: #008000\">'person'</span>,\n",
       "                <span style=\"color: #808000; text-decoration-color: #808000\">pref_label</span>=<span style=\"color: #008000; text-decoration-color: #008000\">'Zoltan Kisvarday'</span>,\n",
       "                <span style=\"color: #808000; text-decoration-color: #808000\">given_name</span>=<span style=\"color: #008000; text-decoration-color: #008000\">'Zoltan'</span>,\n",
       "                <span style=\"color: #808000; text-decoration-color: #808000\">family_name</span>=<span style=\"color: #008000; text-decoration-color: #008000\">'Kisvarday'</span>\n",
       "            <span style=\"font-weight: bold\">)</span>,\n",
       "            <span style=\"color: #808000; text-decoration-color: #808000\">role</span>=<span style=\"color: #800080; text-decoration-color: #800080; font-weight: bold\">Role</span><span style=\"font-weight: bold\">(</span>\n",
       "                <span style=\"color: #808000; text-decoration-color: #808000\">id</span>=<span style=\"color: #800080; text-decoration-color: #800080; font-weight: bold\">UUID</span><span style=\"font-weight: bold\">(</span><span style=\"color: #008000; text-decoration-color: #008000\">'15fdf2be-ac61-43d8-9243-095d24f9679f'</span><span style=\"font-weight: bold\">)</span>,\n",
       "                <span style=\"color: #808000; text-decoration-color: #808000\">update_date</span>=<span style=\"color: #800080; text-decoration-color: #800080; font-weight: bold\">datetime</span><span style=\"color: #800080; text-decoration-color: #800080; font-weight: bold\">.datetime</span><span style=\"font-weight: bold\">(</span><span style=\"color: #008080; text-decoration-color: #008080; font-weight: bold\">2025</span>, <span style=\"color: #008080; text-decoration-color: #008080; font-weight: bold\">6</span>, <span style=\"color: #008080; text-decoration-color: #008080; font-weight: bold\">26</span>, <span style=\"color: #008080; text-decoration-color: #008080; font-weight: bold\">8</span>, <span style=\"color: #008080; text-decoration-color: #008080; font-weight: bold\">59</span>, <span style=\"color: #008080; text-decoration-color: #008080; font-weight: bold\">52</span>, <span style=\"color: #008080; text-decoration-color: #008080; font-weight: bold\">685525</span>, <span style=\"color: #808000; text-decoration-color: #808000\">tzinfo</span>=<span style=\"color: #800080; text-decoration-color: #800080; font-weight: bold\">TzInfo</span><span style=\"font-weight: bold\">(</span>UTC<span style=\"font-weight: bold\">))</span>,\n",
       "                <span style=\"color: #808000; text-decoration-color: #808000\">creation_date</span>=<span style=\"color: #800080; text-decoration-color: #800080; font-weight: bold\">datetime</span><span style=\"color: #800080; text-decoration-color: #800080; font-weight: bold\">.datetime</span><span style=\"font-weight: bold\">(</span><span style=\"color: #008080; text-decoration-color: #008080; font-weight: bold\">2025</span>, <span style=\"color: #008080; text-decoration-color: #008080; font-weight: bold\">6</span>, <span style=\"color: #008080; text-decoration-color: #008080; font-weight: bold\">26</span>, <span style=\"color: #008080; text-decoration-color: #008080; font-weight: bold\">8</span>, <span style=\"color: #008080; text-decoration-color: #008080; font-weight: bold\">59</span>, <span style=\"color: #008080; text-decoration-color: #008080; font-weight: bold\">52</span>, <span style=\"color: #008080; text-decoration-color: #008080; font-weight: bold\">685525</span>, <span style=\"color: #808000; text-decoration-color: #808000\">tzinfo</span>=<span style=\"color: #800080; text-decoration-color: #800080; font-weight: bold\">TzInfo</span><span style=\"font-weight: bold\">(</span>UTC<span style=\"font-weight: bold\">))</span>,\n",
       "                <span style=\"color: #808000; text-decoration-color: #808000\">name</span>=<span style=\"color: #008000; text-decoration-color: #008000\">'neuron morphology reconstruction role'</span>,\n",
       "                <span style=\"color: #808000; text-decoration-color: #808000\">role_id</span>=<span style=\"color: #008000; text-decoration-color: #008000\">'Neuron:MorphologyReconstructionRole'</span>\n",
       "            <span style=\"font-weight: bold\">)</span>,\n",
       "            <span style=\"color: #808000; text-decoration-color: #808000\">entity</span>=<span style=\"color: #800080; text-decoration-color: #800080; font-style: italic\">None</span>\n",
       "        <span style=\"font-weight: bold\">)</span>,\n",
       "        <span style=\"color: #800080; text-decoration-color: #800080; font-weight: bold\">Contribution</span><span style=\"font-weight: bold\">(</span>\n",
       "            <span style=\"color: #808000; text-decoration-color: #808000\">id</span>=<span style=\"color: #800080; text-decoration-color: #800080; font-weight: bold\">UUID</span><span style=\"font-weight: bold\">(</span><span style=\"color: #008000; text-decoration-color: #008000\">'b881b0c4-c4e4-4960-9604-65855463064a'</span><span style=\"font-weight: bold\">)</span>,\n",
       "            <span style=\"color: #808000; text-decoration-color: #808000\">update_date</span>=<span style=\"color: #800080; text-decoration-color: #800080; font-style: italic\">None</span>,\n",
       "            <span style=\"color: #808000; text-decoration-color: #808000\">creation_date</span>=<span style=\"color: #800080; text-decoration-color: #800080; font-style: italic\">None</span>,\n",
       "            <span style=\"color: #808000; text-decoration-color: #808000\">agent</span>=<span style=\"color: #800080; text-decoration-color: #800080; font-weight: bold\">Person</span><span style=\"font-weight: bold\">(</span>\n",
       "                <span style=\"color: #808000; text-decoration-color: #808000\">id</span>=<span style=\"color: #800080; text-decoration-color: #800080; font-weight: bold\">UUID</span><span style=\"font-weight: bold\">(</span><span style=\"color: #008000; text-decoration-color: #008000\">'e94f499e-160d-4247-8c6f-1e06111c62e0'</span><span style=\"font-weight: bold\">)</span>,\n",
       "                <span style=\"color: #808000; text-decoration-color: #808000\">update_date</span>=<span style=\"color: #800080; text-decoration-color: #800080; font-style: italic\">None</span>,\n",
       "                <span style=\"color: #808000; text-decoration-color: #808000\">creation_date</span>=<span style=\"color: #800080; text-decoration-color: #800080; font-style: italic\">None</span>,\n",
       "                <span style=\"color: #808000; text-decoration-color: #808000\">type</span>=<span style=\"color: #008000; text-decoration-color: #008000\">'person'</span>,\n",
       "                <span style=\"color: #808000; text-decoration-color: #808000\">pref_label</span>=<span style=\"color: #008000; text-decoration-color: #008000\">'Michael Gevaert'</span>,\n",
       "                <span style=\"color: #808000; text-decoration-color: #808000\">given_name</span>=<span style=\"color: #008000; text-decoration-color: #008000\">'Michael'</span>,\n",
       "                <span style=\"color: #808000; text-decoration-color: #808000\">family_name</span>=<span style=\"color: #008000; text-decoration-color: #008000\">'Gevaert'</span>\n",
       "            <span style=\"font-weight: bold\">)</span>,\n",
       "            <span style=\"color: #808000; text-decoration-color: #808000\">role</span>=<span style=\"color: #800080; text-decoration-color: #800080; font-weight: bold\">Role</span><span style=\"font-weight: bold\">(</span>\n",
       "                <span style=\"color: #808000; text-decoration-color: #808000\">id</span>=<span style=\"color: #800080; text-decoration-color: #800080; font-weight: bold\">UUID</span><span style=\"font-weight: bold\">(</span><span style=\"color: #008000; text-decoration-color: #008000\">'37f429b0-52d4-4cc3-9e56-b8639884983f'</span><span style=\"font-weight: bold\">)</span>,\n",
       "                <span style=\"color: #808000; text-decoration-color: #808000\">update_date</span>=<span style=\"color: #800080; text-decoration-color: #800080; font-weight: bold\">datetime</span><span style=\"color: #800080; text-decoration-color: #800080; font-weight: bold\">.datetime</span><span style=\"font-weight: bold\">(</span><span style=\"color: #008080; text-decoration-color: #008080; font-weight: bold\">2025</span>, <span style=\"color: #008080; text-decoration-color: #008080; font-weight: bold\">6</span>, <span style=\"color: #008080; text-decoration-color: #008080; font-weight: bold\">26</span>, <span style=\"color: #008080; text-decoration-color: #008080; font-weight: bold\">8</span>, <span style=\"color: #008080; text-decoration-color: #008080; font-weight: bold\">59</span>, <span style=\"color: #008080; text-decoration-color: #008080; font-weight: bold\">52</span>, <span style=\"color: #008080; text-decoration-color: #008080; font-weight: bold\">658494</span>, <span style=\"color: #808000; text-decoration-color: #808000\">tzinfo</span>=<span style=\"color: #800080; text-decoration-color: #800080; font-weight: bold\">TzInfo</span><span style=\"font-weight: bold\">(</span>UTC<span style=\"font-weight: bold\">))</span>,\n",
       "                <span style=\"color: #808000; text-decoration-color: #808000\">creation_date</span>=<span style=\"color: #800080; text-decoration-color: #800080; font-weight: bold\">datetime</span><span style=\"color: #800080; text-decoration-color: #800080; font-weight: bold\">.datetime</span><span style=\"font-weight: bold\">(</span><span style=\"color: #008080; text-decoration-color: #008080; font-weight: bold\">2025</span>, <span style=\"color: #008080; text-decoration-color: #008080; font-weight: bold\">6</span>, <span style=\"color: #008080; text-decoration-color: #008080; font-weight: bold\">26</span>, <span style=\"color: #008080; text-decoration-color: #008080; font-weight: bold\">8</span>, <span style=\"color: #008080; text-decoration-color: #008080; font-weight: bold\">59</span>, <span style=\"color: #008080; text-decoration-color: #008080; font-weight: bold\">52</span>, <span style=\"color: #008080; text-decoration-color: #008080; font-weight: bold\">658494</span>, <span style=\"color: #808000; text-decoration-color: #808000\">tzinfo</span>=<span style=\"color: #800080; text-decoration-color: #800080; font-weight: bold\">TzInfo</span><span style=\"font-weight: bold\">(</span>UTC<span style=\"font-weight: bold\">))</span>,\n",
       "                <span style=\"color: #808000; text-decoration-color: #808000\">name</span>=<span style=\"color: #008000; text-decoration-color: #008000\">'data transformation role'</span>,\n",
       "                <span style=\"color: #808000; text-decoration-color: #808000\">role_id</span>=<span style=\"color: #008000; text-decoration-color: #008000\">'obo:CRO_0000072'</span>\n",
       "            <span style=\"font-weight: bold\">)</span>,\n",
       "            <span style=\"color: #808000; text-decoration-color: #808000\">entity</span>=<span style=\"color: #800080; text-decoration-color: #800080; font-style: italic\">None</span>\n",
       "        <span style=\"font-weight: bold\">)</span>,\n",
       "        <span style=\"color: #800080; text-decoration-color: #800080; font-weight: bold\">Contribution</span><span style=\"font-weight: bold\">(</span>\n",
       "            <span style=\"color: #808000; text-decoration-color: #808000\">id</span>=<span style=\"color: #800080; text-decoration-color: #800080; font-weight: bold\">UUID</span><span style=\"font-weight: bold\">(</span><span style=\"color: #008000; text-decoration-color: #008000\">'a90a5575-2cf0-42d3-acb1-8cc9ebaa7103'</span><span style=\"font-weight: bold\">)</span>,\n",
       "            <span style=\"color: #808000; text-decoration-color: #808000\">update_date</span>=<span style=\"color: #800080; text-decoration-color: #800080; font-style: italic\">None</span>,\n",
       "            <span style=\"color: #808000; text-decoration-color: #808000\">creation_date</span>=<span style=\"color: #800080; text-decoration-color: #800080; font-style: italic\">None</span>,\n",
       "            <span style=\"color: #808000; text-decoration-color: #808000\">agent</span>=<span style=\"color: #800080; text-decoration-color: #800080; font-weight: bold\">Person</span><span style=\"font-weight: bold\">(</span>\n",
       "                <span style=\"color: #808000; text-decoration-color: #808000\">id</span>=<span style=\"color: #800080; text-decoration-color: #800080; font-weight: bold\">UUID</span><span style=\"font-weight: bold\">(</span><span style=\"color: #008000; text-decoration-color: #008000\">'545484cf-ae5c-412f-a299-9fc1abb51d18'</span><span style=\"font-weight: bold\">)</span>,\n",
       "                <span style=\"color: #808000; text-decoration-color: #808000\">update_date</span>=<span style=\"color: #800080; text-decoration-color: #800080; font-style: italic\">None</span>,\n",
       "                <span style=\"color: #808000; text-decoration-color: #808000\">creation_date</span>=<span style=\"color: #800080; text-decoration-color: #800080; font-style: italic\">None</span>,\n",
       "                <span style=\"color: #808000; text-decoration-color: #808000\">type</span>=<span style=\"color: #008000; text-decoration-color: #008000\">'person'</span>,\n",
       "                <span style=\"color: #808000; text-decoration-color: #808000\">pref_label</span>=<span style=\"color: #008000; text-decoration-color: #008000\">'Lida Kanari'</span>,\n",
       "                <span style=\"color: #808000; text-decoration-color: #808000\">given_name</span>=<span style=\"color: #008000; text-decoration-color: #008000\">'Lida'</span>,\n",
       "                <span style=\"color: #808000; text-decoration-color: #808000\">family_name</span>=<span style=\"color: #008000; text-decoration-color: #008000\">'Kanari'</span>\n",
       "            <span style=\"font-weight: bold\">)</span>,\n",
       "            <span style=\"color: #808000; text-decoration-color: #808000\">role</span>=<span style=\"color: #800080; text-decoration-color: #800080; font-weight: bold\">Role</span><span style=\"font-weight: bold\">(</span>\n",
       "                <span style=\"color: #808000; text-decoration-color: #808000\">id</span>=<span style=\"color: #800080; text-decoration-color: #800080; font-weight: bold\">UUID</span><span style=\"font-weight: bold\">(</span><span style=\"color: #008000; text-decoration-color: #008000\">'1a7d26ff-875c-4645-a45a-871b8591e46a'</span><span style=\"font-weight: bold\">)</span>,\n",
       "                <span style=\"color: #808000; text-decoration-color: #808000\">update_date</span>=<span style=\"color: #800080; text-decoration-color: #800080; font-weight: bold\">datetime</span><span style=\"color: #800080; text-decoration-color: #800080; font-weight: bold\">.datetime</span><span style=\"font-weight: bold\">(</span><span style=\"color: #008080; text-decoration-color: #008080; font-weight: bold\">2025</span>, <span style=\"color: #008080; text-decoration-color: #008080; font-weight: bold\">6</span>, <span style=\"color: #008080; text-decoration-color: #008080; font-weight: bold\">26</span>, <span style=\"color: #008080; text-decoration-color: #008080; font-weight: bold\">8</span>, <span style=\"color: #008080; text-decoration-color: #008080; font-weight: bold\">59</span>, <span style=\"color: #008080; text-decoration-color: #008080; font-weight: bold\">52</span>, <span style=\"color: #008080; text-decoration-color: #008080; font-weight: bold\">691908</span>, <span style=\"color: #808000; text-decoration-color: #808000\">tzinfo</span>=<span style=\"color: #800080; text-decoration-color: #800080; font-weight: bold\">TzInfo</span><span style=\"font-weight: bold\">(</span>UTC<span style=\"font-weight: bold\">))</span>,\n",
       "                <span style=\"color: #808000; text-decoration-color: #808000\">creation_date</span>=<span style=\"color: #800080; text-decoration-color: #800080; font-weight: bold\">datetime</span><span style=\"color: #800080; text-decoration-color: #800080; font-weight: bold\">.datetime</span><span style=\"font-weight: bold\">(</span><span style=\"color: #008080; text-decoration-color: #008080; font-weight: bold\">2025</span>, <span style=\"color: #008080; text-decoration-color: #008080; font-weight: bold\">6</span>, <span style=\"color: #008080; text-decoration-color: #008080; font-weight: bold\">26</span>, <span style=\"color: #008080; text-decoration-color: #008080; font-weight: bold\">8</span>, <span style=\"color: #008080; text-decoration-color: #008080; font-weight: bold\">59</span>, <span style=\"color: #008080; text-decoration-color: #008080; font-weight: bold\">52</span>, <span style=\"color: #008080; text-decoration-color: #008080; font-weight: bold\">691908</span>, <span style=\"color: #808000; text-decoration-color: #808000\">tzinfo</span>=<span style=\"color: #800080; text-decoration-color: #800080; font-weight: bold\">TzInfo</span><span style=\"font-weight: bold\">(</span>UTC<span style=\"font-weight: bold\">))</span>,\n",
       "                <span style=\"color: #808000; text-decoration-color: #808000\">name</span>=<span style=\"color: #008000; text-decoration-color: #008000\">'data curation role'</span>,\n",
       "                <span style=\"color: #808000; text-decoration-color: #808000\">role_id</span>=<span style=\"color: #008000; text-decoration-color: #008000\">'http://purl.org/credit/ontology#CREDIT_00000002'</span>\n",
       "            <span style=\"font-weight: bold\">)</span>,\n",
       "            <span style=\"color: #808000; text-decoration-color: #808000\">entity</span>=<span style=\"color: #800080; text-decoration-color: #800080; font-style: italic\">None</span>\n",
       "        <span style=\"font-weight: bold\">)</span>,\n",
       "        <span style=\"color: #800080; text-decoration-color: #800080; font-weight: bold\">Contribution</span><span style=\"font-weight: bold\">(</span>\n",
       "            <span style=\"color: #808000; text-decoration-color: #808000\">id</span>=<span style=\"color: #800080; text-decoration-color: #800080; font-weight: bold\">UUID</span><span style=\"font-weight: bold\">(</span><span style=\"color: #008000; text-decoration-color: #008000\">'6a611cd2-6867-4a85-bb87-44297ddbe44d'</span><span style=\"font-weight: bold\">)</span>,\n",
       "            <span style=\"color: #808000; text-decoration-color: #808000\">update_date</span>=<span style=\"color: #800080; text-decoration-color: #800080; font-style: italic\">None</span>,\n",
       "            <span style=\"color: #808000; text-decoration-color: #808000\">creation_date</span>=<span style=\"color: #800080; text-decoration-color: #800080; font-style: italic\">None</span>,\n",
       "            <span style=\"color: #808000; text-decoration-color: #808000\">agent</span>=<span style=\"color: #800080; text-decoration-color: #800080; font-weight: bold\">Person</span><span style=\"font-weight: bold\">(</span>\n",
       "                <span style=\"color: #808000; text-decoration-color: #808000\">id</span>=<span style=\"color: #800080; text-decoration-color: #800080; font-weight: bold\">UUID</span><span style=\"font-weight: bold\">(</span><span style=\"color: #008000; text-decoration-color: #008000\">'40f3e49e-67a8-4d17-8621-98bf7b826399'</span><span style=\"font-weight: bold\">)</span>,\n",
       "                <span style=\"color: #808000; text-decoration-color: #808000\">update_date</span>=<span style=\"color: #800080; text-decoration-color: #800080; font-style: italic\">None</span>,\n",
       "                <span style=\"color: #808000; text-decoration-color: #808000\">creation_date</span>=<span style=\"color: #800080; text-decoration-color: #800080; font-style: italic\">None</span>,\n",
       "                <span style=\"color: #808000; text-decoration-color: #808000\">type</span>=<span style=\"color: #008000; text-decoration-color: #008000\">'person'</span>,\n",
       "                <span style=\"color: #808000; text-decoration-color: #808000\">pref_label</span>=<span style=\"color: #008000; text-decoration-color: #008000\">'Ying Shi'</span>,\n",
       "                <span style=\"color: #808000; text-decoration-color: #808000\">given_name</span>=<span style=\"color: #008000; text-decoration-color: #008000\">'Ying'</span>,\n",
       "                <span style=\"color: #808000; text-decoration-color: #808000\">family_name</span>=<span style=\"color: #008000; text-decoration-color: #008000\">'Shi'</span>\n",
       "            <span style=\"font-weight: bold\">)</span>,\n",
       "            <span style=\"color: #808000; text-decoration-color: #808000\">role</span>=<span style=\"color: #800080; text-decoration-color: #800080; font-weight: bold\">Role</span><span style=\"font-weight: bold\">(</span>\n",
       "                <span style=\"color: #808000; text-decoration-color: #808000\">id</span>=<span style=\"color: #800080; text-decoration-color: #800080; font-weight: bold\">UUID</span><span style=\"font-weight: bold\">(</span><span style=\"color: #008000; text-decoration-color: #008000\">'334a96c2-b866-4e3c-97b0-799b1766f835'</span><span style=\"font-weight: bold\">)</span>,\n",
       "                <span style=\"color: #808000; text-decoration-color: #808000\">update_date</span>=<span style=\"color: #800080; text-decoration-color: #800080; font-weight: bold\">datetime</span><span style=\"color: #800080; text-decoration-color: #800080; font-weight: bold\">.datetime</span><span style=\"font-weight: bold\">(</span><span style=\"color: #008080; text-decoration-color: #008080; font-weight: bold\">2025</span>, <span style=\"color: #008080; text-decoration-color: #008080; font-weight: bold\">6</span>, <span style=\"color: #008080; text-decoration-color: #008080; font-weight: bold\">26</span>, <span style=\"color: #008080; text-decoration-color: #008080; font-weight: bold\">8</span>, <span style=\"color: #008080; text-decoration-color: #008080; font-weight: bold\">59</span>, <span style=\"color: #008080; text-decoration-color: #008080; font-weight: bold\">41</span>, <span style=\"color: #008080; text-decoration-color: #008080; font-weight: bold\">5794</span>, <span style=\"color: #808000; text-decoration-color: #808000\">tzinfo</span>=<span style=\"color: #800080; text-decoration-color: #800080; font-weight: bold\">TzInfo</span><span style=\"font-weight: bold\">(</span>UTC<span style=\"font-weight: bold\">))</span>,\n",
       "                <span style=\"color: #808000; text-decoration-color: #808000\">creation_date</span>=<span style=\"color: #800080; text-decoration-color: #800080; font-weight: bold\">datetime</span><span style=\"color: #800080; text-decoration-color: #800080; font-weight: bold\">.datetime</span><span style=\"font-weight: bold\">(</span><span style=\"color: #008080; text-decoration-color: #008080; font-weight: bold\">2025</span>, <span style=\"color: #008080; text-decoration-color: #008080; font-weight: bold\">6</span>, <span style=\"color: #008080; text-decoration-color: #008080; font-weight: bold\">26</span>, <span style=\"color: #008080; text-decoration-color: #008080; font-weight: bold\">8</span>, <span style=\"color: #008080; text-decoration-color: #008080; font-weight: bold\">59</span>, <span style=\"color: #008080; text-decoration-color: #008080; font-weight: bold\">41</span>, <span style=\"color: #008080; text-decoration-color: #008080; font-weight: bold\">5794</span>, <span style=\"color: #808000; text-decoration-color: #808000\">tzinfo</span>=<span style=\"color: #800080; text-decoration-color: #800080; font-weight: bold\">TzInfo</span><span style=\"font-weight: bold\">(</span>UTC<span style=\"font-weight: bold\">))</span>,\n",
       "                <span style=\"color: #808000; text-decoration-color: #808000\">name</span>=<span style=\"color: #008000; text-decoration-color: #008000\">'unspecified'</span>,\n",
       "                <span style=\"color: #808000; text-decoration-color: #808000\">role_id</span>=<span style=\"color: #008000; text-decoration-color: #008000\">'unspecified'</span>\n",
       "            <span style=\"font-weight: bold\">)</span>,\n",
       "            <span style=\"color: #808000; text-decoration-color: #808000\">entity</span>=<span style=\"color: #800080; text-decoration-color: #800080; font-style: italic\">None</span>\n",
       "        <span style=\"font-weight: bold\">)</span>,\n",
       "        <span style=\"color: #800080; text-decoration-color: #800080; font-weight: bold\">Contribution</span><span style=\"font-weight: bold\">(</span>\n",
       "            <span style=\"color: #808000; text-decoration-color: #808000\">id</span>=<span style=\"color: #800080; text-decoration-color: #800080; font-weight: bold\">UUID</span><span style=\"font-weight: bold\">(</span><span style=\"color: #008000; text-decoration-color: #008000\">'9273f4df-fb52-49d1-94a9-15b56305c5ba'</span><span style=\"font-weight: bold\">)</span>,\n",
       "            <span style=\"color: #808000; text-decoration-color: #808000\">update_date</span>=<span style=\"color: #800080; text-decoration-color: #800080; font-style: italic\">None</span>,\n",
       "            <span style=\"color: #808000; text-decoration-color: #808000\">creation_date</span>=<span style=\"color: #800080; text-decoration-color: #800080; font-style: italic\">None</span>,\n",
       "            <span style=\"color: #808000; text-decoration-color: #808000\">agent</span>=<span style=\"color: #800080; text-decoration-color: #800080; font-weight: bold\">Organization</span><span style=\"font-weight: bold\">(</span>\n",
       "                <span style=\"color: #808000; text-decoration-color: #808000\">id</span>=<span style=\"color: #800080; text-decoration-color: #800080; font-weight: bold\">UUID</span><span style=\"font-weight: bold\">(</span><span style=\"color: #008000; text-decoration-color: #008000\">'4fea8e6f-cbbc-4c1a-b2ca-74e1a5747574'</span><span style=\"font-weight: bold\">)</span>,\n",
       "                <span style=\"color: #808000; text-decoration-color: #808000\">update_date</span>=<span style=\"color: #800080; text-decoration-color: #800080; font-style: italic\">None</span>,\n",
       "                <span style=\"color: #808000; text-decoration-color: #808000\">creation_date</span>=<span style=\"color: #800080; text-decoration-color: #800080; font-style: italic\">None</span>,\n",
       "                <span style=\"color: #808000; text-decoration-color: #808000\">type</span>=<span style=\"color: #008000; text-decoration-color: #008000\">'organization'</span>,\n",
       "                <span style=\"color: #808000; text-decoration-color: #808000\">pref_label</span>=<span style=\"color: #008000; text-decoration-color: #008000\">'École Polytechnique Fédérale de Lausanne'</span>,\n",
       "                <span style=\"color: #808000; text-decoration-color: #808000\">alternative_name</span>=<span style=\"color: #008000; text-decoration-color: #008000\">''</span>\n",
       "            <span style=\"font-weight: bold\">)</span>,\n",
       "            <span style=\"color: #808000; text-decoration-color: #808000\">role</span>=<span style=\"color: #800080; text-decoration-color: #800080; font-weight: bold\">Role</span><span style=\"font-weight: bold\">(</span>\n",
       "                <span style=\"color: #808000; text-decoration-color: #808000\">id</span>=<span style=\"color: #800080; text-decoration-color: #800080; font-weight: bold\">UUID</span><span style=\"font-weight: bold\">(</span><span style=\"color: #008000; text-decoration-color: #008000\">'334a96c2-b866-4e3c-97b0-799b1766f835'</span><span style=\"font-weight: bold\">)</span>,\n",
       "                <span style=\"color: #808000; text-decoration-color: #808000\">update_date</span>=<span style=\"color: #800080; text-decoration-color: #800080; font-weight: bold\">datetime</span><span style=\"color: #800080; text-decoration-color: #800080; font-weight: bold\">.datetime</span><span style=\"font-weight: bold\">(</span><span style=\"color: #008080; text-decoration-color: #008080; font-weight: bold\">2025</span>, <span style=\"color: #008080; text-decoration-color: #008080; font-weight: bold\">6</span>, <span style=\"color: #008080; text-decoration-color: #008080; font-weight: bold\">26</span>, <span style=\"color: #008080; text-decoration-color: #008080; font-weight: bold\">8</span>, <span style=\"color: #008080; text-decoration-color: #008080; font-weight: bold\">59</span>, <span style=\"color: #008080; text-decoration-color: #008080; font-weight: bold\">41</span>, <span style=\"color: #008080; text-decoration-color: #008080; font-weight: bold\">5794</span>, <span style=\"color: #808000; text-decoration-color: #808000\">tzinfo</span>=<span style=\"color: #800080; text-decoration-color: #800080; font-weight: bold\">TzInfo</span><span style=\"font-weight: bold\">(</span>UTC<span style=\"font-weight: bold\">))</span>,\n",
       "                <span style=\"color: #808000; text-decoration-color: #808000\">creation_date</span>=<span style=\"color: #800080; text-decoration-color: #800080; font-weight: bold\">datetime</span><span style=\"color: #800080; text-decoration-color: #800080; font-weight: bold\">.datetime</span><span style=\"font-weight: bold\">(</span><span style=\"color: #008080; text-decoration-color: #008080; font-weight: bold\">2025</span>, <span style=\"color: #008080; text-decoration-color: #008080; font-weight: bold\">6</span>, <span style=\"color: #008080; text-decoration-color: #008080; font-weight: bold\">26</span>, <span style=\"color: #008080; text-decoration-color: #008080; font-weight: bold\">8</span>, <span style=\"color: #008080; text-decoration-color: #008080; font-weight: bold\">59</span>, <span style=\"color: #008080; text-decoration-color: #008080; font-weight: bold\">41</span>, <span style=\"color: #008080; text-decoration-color: #008080; font-weight: bold\">5794</span>, <span style=\"color: #808000; text-decoration-color: #808000\">tzinfo</span>=<span style=\"color: #800080; text-decoration-color: #800080; font-weight: bold\">TzInfo</span><span style=\"font-weight: bold\">(</span>UTC<span style=\"font-weight: bold\">))</span>,\n",
       "                <span style=\"color: #808000; text-decoration-color: #808000\">name</span>=<span style=\"color: #008000; text-decoration-color: #008000\">'unspecified'</span>,\n",
       "                <span style=\"color: #808000; text-decoration-color: #808000\">role_id</span>=<span style=\"color: #008000; text-decoration-color: #008000\">'unspecified'</span>\n",
       "            <span style=\"font-weight: bold\">)</span>,\n",
       "            <span style=\"color: #808000; text-decoration-color: #808000\">entity</span>=<span style=\"color: #800080; text-decoration-color: #800080; font-style: italic\">None</span>\n",
       "        <span style=\"font-weight: bold\">)</span>\n",
       "    <span style=\"font-weight: bold\">]</span>,\n",
       "    <span style=\"color: #808000; text-decoration-color: #808000\">legacy_id</span>=<span style=\"font-weight: bold\">[</span>\n",
       "        <span style=\"color: #008000; text-decoration-color: #008000\">'https://bbp.epfl.ch/data/bbp/mmb-point-neuron-framework-model/6cd7325b-3f45-48e7-8eee-f88c75ca99a7'</span>\n",
       "    <span style=\"font-weight: bold\">]</span>,\n",
       "    <span style=\"color: #808000; text-decoration-color: #808000\">location</span>=<span style=\"color: #800080; text-decoration-color: #800080; font-style: italic\">None</span>,\n",
       "    <span style=\"color: #808000; text-decoration-color: #808000\">brain_region</span>=<span style=\"color: #800080; text-decoration-color: #800080; font-weight: bold\">BrainRegion</span><span style=\"font-weight: bold\">(</span>\n",
       "        <span style=\"color: #808000; text-decoration-color: #808000\">id</span>=<span style=\"color: #800080; text-decoration-color: #800080; font-weight: bold\">UUID</span><span style=\"font-weight: bold\">(</span><span style=\"color: #008000; text-decoration-color: #008000\">'61d89b07-dfa0-439a-9187-7ebfe60e212b'</span><span style=\"font-weight: bold\">)</span>,\n",
       "        <span style=\"color: #808000; text-decoration-color: #808000\">update_date</span>=<span style=\"color: #800080; text-decoration-color: #800080; font-weight: bold\">datetime</span><span style=\"color: #800080; text-decoration-color: #800080; font-weight: bold\">.datetime</span><span style=\"font-weight: bold\">(</span><span style=\"color: #008080; text-decoration-color: #008080; font-weight: bold\">2025</span>, <span style=\"color: #008080; text-decoration-color: #008080; font-weight: bold\">6</span>, <span style=\"color: #008080; text-decoration-color: #008080; font-weight: bold\">26</span>, <span style=\"color: #008080; text-decoration-color: #008080; font-weight: bold\">8</span>, <span style=\"color: #008080; text-decoration-color: #008080; font-weight: bold\">59</span>, <span style=\"color: #008080; text-decoration-color: #008080; font-weight: bold\">14</span>, <span style=\"color: #008080; text-decoration-color: #008080; font-weight: bold\">94927</span>, <span style=\"color: #808000; text-decoration-color: #808000\">tzinfo</span>=<span style=\"color: #800080; text-decoration-color: #800080; font-weight: bold\">TzInfo</span><span style=\"font-weight: bold\">(</span>UTC<span style=\"font-weight: bold\">))</span>,\n",
       "        <span style=\"color: #808000; text-decoration-color: #808000\">creation_date</span>=<span style=\"color: #800080; text-decoration-color: #800080; font-weight: bold\">datetime</span><span style=\"color: #800080; text-decoration-color: #800080; font-weight: bold\">.datetime</span><span style=\"font-weight: bold\">(</span><span style=\"color: #008080; text-decoration-color: #008080; font-weight: bold\">2025</span>, <span style=\"color: #008080; text-decoration-color: #008080; font-weight: bold\">6</span>, <span style=\"color: #008080; text-decoration-color: #008080; font-weight: bold\">26</span>, <span style=\"color: #008080; text-decoration-color: #008080; font-weight: bold\">8</span>, <span style=\"color: #008080; text-decoration-color: #008080; font-weight: bold\">59</span>, <span style=\"color: #008080; text-decoration-color: #008080; font-weight: bold\">14</span>, <span style=\"color: #008080; text-decoration-color: #008080; font-weight: bold\">94927</span>, <span style=\"color: #808000; text-decoration-color: #808000\">tzinfo</span>=<span style=\"color: #800080; text-decoration-color: #800080; font-weight: bold\">TzInfo</span><span style=\"font-weight: bold\">(</span>UTC<span style=\"font-weight: bold\">))</span>,\n",
       "        <span style=\"color: #808000; text-decoration-color: #808000\">name</span>=<span style=\"color: #008000; text-decoration-color: #008000\">'Primary somatosensory area'</span>,\n",
       "        <span style=\"color: #808000; text-decoration-color: #808000\">annotation_value</span>=<span style=\"color: #008080; text-decoration-color: #008080; font-weight: bold\">322</span>,\n",
       "        <span style=\"color: #808000; text-decoration-color: #808000\">acronym</span>=<span style=\"color: #008000; text-decoration-color: #008000\">'SSp'</span>,\n",
       "        <span style=\"color: #808000; text-decoration-color: #808000\">parent_structure_id</span>=<span style=\"color: #800080; text-decoration-color: #800080; font-weight: bold\">UUID</span><span style=\"font-weight: bold\">(</span><span style=\"color: #008000; text-decoration-color: #008000\">'9680c40f-ccfe-4804-851f-1024ff0d6409'</span><span style=\"font-weight: bold\">)</span>,\n",
       "        <span style=\"color: #808000; text-decoration-color: #808000\">hierarchy_id</span>=<span style=\"color: #800080; text-decoration-color: #800080; font-weight: bold\">UUID</span><span style=\"font-weight: bold\">(</span><span style=\"color: #008000; text-decoration-color: #008000\">'e3e70682-c209-4cac-a29f-6fbed82c07cd'</span><span style=\"font-weight: bold\">)</span>,\n",
       "        <span style=\"color: #808000; text-decoration-color: #808000\">color_hex_triplet</span>=<span style=\"color: #008000; text-decoration-color: #008000\">'188064'</span>\n",
       "    <span style=\"font-weight: bold\">)</span>,\n",
       "    <span style=\"color: #808000; text-decoration-color: #808000\">species</span>=<span style=\"color: #800080; text-decoration-color: #800080; font-weight: bold\">Species</span><span style=\"font-weight: bold\">(</span>\n",
       "        <span style=\"color: #808000; text-decoration-color: #808000\">id</span>=<span style=\"color: #800080; text-decoration-color: #800080; font-weight: bold\">UUID</span><span style=\"font-weight: bold\">(</span><span style=\"color: #008000; text-decoration-color: #008000\">'5d67fde6-51a4-4c04-a0e9-3e953bb584e3'</span><span style=\"font-weight: bold\">)</span>,\n",
       "        <span style=\"color: #808000; text-decoration-color: #808000\">update_date</span>=<span style=\"color: #800080; text-decoration-color: #800080; font-style: italic\">None</span>,\n",
       "        <span style=\"color: #808000; text-decoration-color: #808000\">creation_date</span>=<span style=\"color: #800080; text-decoration-color: #800080; font-style: italic\">None</span>,\n",
       "        <span style=\"color: #808000; text-decoration-color: #808000\">name</span>=<span style=\"color: #008000; text-decoration-color: #008000\">'Mus musculus'</span>,\n",
       "        <span style=\"color: #808000; text-decoration-color: #808000\">taxonomy_id</span>=<span style=\"color: #008000; text-decoration-color: #008000\">'NCBITaxon:10090'</span>\n",
       "    <span style=\"font-weight: bold\">)</span>,\n",
       "    <span style=\"color: #808000; text-decoration-color: #808000\">strain</span>=<span style=\"color: #800080; text-decoration-color: #800080; font-style: italic\">None</span>,\n",
       "    <span style=\"color: #808000; text-decoration-color: #808000\">license</span>=<span style=\"color: #800080; text-decoration-color: #800080; font-weight: bold\">License</span><span style=\"font-weight: bold\">(</span>\n",
       "        <span style=\"color: #808000; text-decoration-color: #808000\">id</span>=<span style=\"color: #800080; text-decoration-color: #800080; font-weight: bold\">UUID</span><span style=\"font-weight: bold\">(</span><span style=\"color: #008000; text-decoration-color: #008000\">'dce17831-a822-40f6-9e1a-2e93f4bca0cf'</span><span style=\"font-weight: bold\">)</span>,\n",
       "        <span style=\"color: #808000; text-decoration-color: #808000\">update_date</span>=<span style=\"color: #800080; text-decoration-color: #800080; font-weight: bold\">datetime</span><span style=\"color: #800080; text-decoration-color: #800080; font-weight: bold\">.datetime</span><span style=\"font-weight: bold\">(</span><span style=\"color: #008080; text-decoration-color: #008080; font-weight: bold\">2024</span>, <span style=\"color: #008080; text-decoration-color: #008080; font-weight: bold\">1</span>, <span style=\"color: #008080; text-decoration-color: #008080; font-weight: bold\">16</span>, <span style=\"color: #008080; text-decoration-color: #008080; font-weight: bold\">14</span>, <span style=\"color: #008080; text-decoration-color: #008080; font-weight: bold\">51</span>, <span style=\"color: #008080; text-decoration-color: #008080; font-weight: bold\">5</span>, <span style=\"color: #008080; text-decoration-color: #008080; font-weight: bold\">847971</span>, <span style=\"color: #808000; text-decoration-color: #808000\">tzinfo</span>=<span style=\"color: #800080; text-decoration-color: #800080; font-weight: bold\">TzInfo</span><span style=\"font-weight: bold\">(</span>UTC<span style=\"font-weight: bold\">))</span>,\n",
       "        <span style=\"color: #808000; text-decoration-color: #808000\">creation_date</span>=<span style=\"color: #800080; text-decoration-color: #800080; font-weight: bold\">datetime</span><span style=\"color: #800080; text-decoration-color: #800080; font-weight: bold\">.datetime</span><span style=\"font-weight: bold\">(</span><span style=\"color: #008080; text-decoration-color: #008080; font-weight: bold\">2024</span>, <span style=\"color: #008080; text-decoration-color: #008080; font-weight: bold\">1</span>, <span style=\"color: #008080; text-decoration-color: #008080; font-weight: bold\">10</span>, <span style=\"color: #008080; text-decoration-color: #008080; font-weight: bold\">15</span>, <span style=\"color: #008080; text-decoration-color: #008080; font-weight: bold\">58</span>, <span style=\"color: #008080; text-decoration-color: #008080; font-weight: bold\">46</span>, <span style=\"color: #008080; text-decoration-color: #008080; font-weight: bold\">7611</span>, <span style=\"color: #808000; text-decoration-color: #808000\">tzinfo</span>=<span style=\"color: #800080; text-decoration-color: #800080; font-weight: bold\">TzInfo</span><span style=\"font-weight: bold\">(</span>UTC<span style=\"font-weight: bold\">))</span>,\n",
       "        <span style=\"color: #808000; text-decoration-color: #808000\">name</span>=<span style=\"color: #008000; text-decoration-color: #008000\">'https://creativecommons.org/licenses/by/4.0/'</span>,\n",
       "        <span style=\"color: #808000; text-decoration-color: #808000\">description</span>=<span style=\"color: #008000; text-decoration-color: #008000\">'Creative Commons Corporation (\"Creative Commons\") is not a law firm and does not provide legal</span>\n",
       "<span style=\"color: #008000; text-decoration-color: #008000\">services or legal advice. Distribution of Creative Commons public licenses does not create a lawyer-client or other</span>\n",
       "<span style=\"color: #008000; text-decoration-color: #008000\">relationship. Creative Commons makes its licenses and related information available on an \"as-is\" basis. Creative </span>\n",
       "<span style=\"color: #008000; text-decoration-color: #008000\">Commons gives no warranties regarding its licenses, any material licensed under their terms and conditions, or any </span>\n",
       "<span style=\"color: #008000; text-decoration-color: #008000\">related information. Creative Commons disclaims all liability for damages resulting from their use to the fullest </span>\n",
       "<span style=\"color: #008000; text-decoration-color: #008000\">extent possible.'</span>,\n",
       "        <span style=\"color: #808000; text-decoration-color: #808000\">label</span>=<span style=\"color: #008000; text-decoration-color: #008000\">'CC BY 4.0 Deed'</span>\n",
       "    <span style=\"font-weight: bold\">)</span>,\n",
       "    <span style=\"color: #808000; text-decoration-color: #808000\">mtypes</span>=<span style=\"font-weight: bold\">[</span>\n",
       "        <span style=\"color: #800080; text-decoration-color: #800080; font-weight: bold\">MTypeClass</span><span style=\"font-weight: bold\">(</span>\n",
       "            <span style=\"color: #808000; text-decoration-color: #808000\">id</span>=<span style=\"color: #800080; text-decoration-color: #800080; font-weight: bold\">UUID</span><span style=\"font-weight: bold\">(</span><span style=\"color: #008000; text-decoration-color: #008000\">'c38dca49-4ceb-4d22-a518-5dff1ab59e90'</span><span style=\"font-weight: bold\">)</span>,\n",
       "            <span style=\"color: #808000; text-decoration-color: #808000\">update_date</span>=<span style=\"color: #800080; text-decoration-color: #800080; font-weight: bold\">datetime</span><span style=\"color: #800080; text-decoration-color: #800080; font-weight: bold\">.datetime</span><span style=\"font-weight: bold\">(</span><span style=\"color: #008080; text-decoration-color: #008080; font-weight: bold\">2024</span>, <span style=\"color: #008080; text-decoration-color: #008080; font-weight: bold\">11</span>, <span style=\"color: #008080; text-decoration-color: #008080; font-weight: bold\">22</span>, <span style=\"color: #008080; text-decoration-color: #008080; font-weight: bold\">11</span>, <span style=\"color: #008080; text-decoration-color: #008080; font-weight: bold\">17</span>, <span style=\"color: #008080; text-decoration-color: #008080; font-weight: bold\">54</span>, <span style=\"color: #008080; text-decoration-color: #008080; font-weight: bold\">582443</span>, <span style=\"color: #808000; text-decoration-color: #808000\">tzinfo</span>=<span style=\"color: #800080; text-decoration-color: #800080; font-weight: bold\">TzInfo</span><span style=\"font-weight: bold\">(</span>UTC<span style=\"font-weight: bold\">))</span>,\n",
       "            <span style=\"color: #808000; text-decoration-color: #808000\">creation_date</span>=<span style=\"color: #800080; text-decoration-color: #800080; font-weight: bold\">datetime</span><span style=\"color: #800080; text-decoration-color: #800080; font-weight: bold\">.datetime</span><span style=\"font-weight: bold\">(</span><span style=\"color: #008080; text-decoration-color: #008080; font-weight: bold\">2020</span>, <span style=\"color: #008080; text-decoration-color: #008080; font-weight: bold\">3</span>, <span style=\"color: #008080; text-decoration-color: #008080; font-weight: bold\">16</span>, <span style=\"color: #008080; text-decoration-color: #008080; font-weight: bold\">10</span>, <span style=\"color: #008080; text-decoration-color: #008080; font-weight: bold\">34</span>, <span style=\"color: #008080; text-decoration-color: #008080; font-weight: bold\">23</span>, <span style=\"color: #008080; text-decoration-color: #008080; font-weight: bold\">469000</span>, <span style=\"color: #808000; text-decoration-color: #808000\">tzinfo</span>=<span style=\"color: #800080; text-decoration-color: #800080; font-weight: bold\">TzInfo</span><span style=\"font-weight: bold\">(</span>UTC<span style=\"font-weight: bold\">))</span>,\n",
       "            <span style=\"color: #808000; text-decoration-color: #808000\">pref_label</span>=<span style=\"color: #008000; text-decoration-color: #008000\">'L3_TPC:A'</span>,\n",
       "            <span style=\"color: #808000; text-decoration-color: #808000\">definition</span>=<span style=\"color: #008000; text-decoration-color: #008000\">'L3_TPC_A have a vertically projecting apical dendrite, with an often distal (occasionally </span>\n",
       "<span style=\"color: #008000; text-decoration-color: #008000\">proximal) onset of tuft formation, which forms a small tuft (occasionally extensive) and multiple oblique dendrites</span>\n",
       "<span style=\"color: #008000; text-decoration-color: #008000\">before tuft formation'</span>,\n",
       "            <span style=\"color: #808000; text-decoration-color: #808000\">alt_label</span>=<span style=\"color: #008000; text-decoration-color: #008000\">'Layer 3 Late Bifurcating Tufted Pyramidal Cell'</span>\n",
       "        <span style=\"font-weight: bold\">)</span>\n",
       "    <span style=\"font-weight: bold\">]</span>\n",
       "<span style=\"font-weight: bold\">)</span>\n",
       "</pre>\n"
      ],
      "text/plain": [
       "\u001b[1;35mReconstructionMorphology\u001b[0m\u001b[1m(\u001b[0m\n",
       "    \u001b[33massets\u001b[0m=\u001b[1m[\u001b[0m\n",
       "        \u001b[1;35mAsset\u001b[0m\u001b[1m(\u001b[0m\n",
       "            \u001b[33mid\u001b[0m=\u001b[1;35mUUID\u001b[0m\u001b[1m(\u001b[0m\u001b[32m'9b80d354-7e38-4688-bcb6-165355b4d4b4'\u001b[0m\u001b[1m)\u001b[0m,\n",
       "            \u001b[33mupdate_date\u001b[0m=\u001b[3;35mNone\u001b[0m,\n",
       "            \u001b[33mcreation_date\u001b[0m=\u001b[3;35mNone\u001b[0m,\n",
       "            \u001b[33mpath\u001b[0m=\u001b[32m'rat_20150131_LH2_cell3.h5'\u001b[0m,\n",
       "            \u001b[33mfull_path\u001b[0m=\u001b[32m'public/a98b7abc-fc46-4700-9e3d-37137812c730/0dbced5f-cc3d-488a-8c7f-cfb8ea039dc6/assets/reco\u001b[0m\n",
       "\u001b[32mnstruction_morphology/06cfa2e4-df21-40a0-aa58-7be11091aeba/rat_20150131_LH2_cell3.h5'\u001b[0m,\n",
       "            \u001b[33mis_directory\u001b[0m=\u001b[3;91mFalse\u001b[0m,\n",
       "            \u001b[33mcontent_type\u001b[0m=\u001b[32m'application/x-hdf5'\u001b[0m,\n",
       "            \u001b[33msize\u001b[0m=\u001b[1;36m1758300\u001b[0m,\n",
       "            \u001b[33msha256_digest\u001b[0m=\u001b[32m'af476bec524d210dbeda930f8474dc8344e4525d162808f0aad4f422c1dc2490'\u001b[0m,\n",
       "            \u001b[33mstatus\u001b[0m=\u001b[32m'created'\u001b[0m,\n",
       "            \u001b[33mmeta\u001b[0m=\u001b[1m{\u001b[0m\u001b[1m}\u001b[0m,\n",
       "            \u001b[33mlabel\u001b[0m=\u001b[3;35mNone\u001b[0m\n",
       "        \u001b[1m)\u001b[0m,\n",
       "        \u001b[1;35mAsset\u001b[0m\u001b[1m(\u001b[0m\n",
       "            \u001b[33mid\u001b[0m=\u001b[1;35mUUID\u001b[0m\u001b[1m(\u001b[0m\u001b[32m'7eeb6fbe-443b-4cc5-b2db-6696f6a5f7e3'\u001b[0m\u001b[1m)\u001b[0m,\n",
       "            \u001b[33mupdate_date\u001b[0m=\u001b[3;35mNone\u001b[0m,\n",
       "            \u001b[33mcreation_date\u001b[0m=\u001b[3;35mNone\u001b[0m,\n",
       "            \u001b[33mpath\u001b[0m=\u001b[32m'rat_20150131_LH2_cell3.asc'\u001b[0m,\n",
       "            \u001b[33mfull_path\u001b[0m=\u001b[32m'public/a98b7abc-fc46-4700-9e3d-37137812c730/0dbced5f-cc3d-488a-8c7f-cfb8ea039dc6/assets/reco\u001b[0m\n",
       "\u001b[32mnstruction_morphology/06cfa2e4-df21-40a0-aa58-7be11091aeba/rat_20150131_LH2_cell3.asc'\u001b[0m,\n",
       "            \u001b[33mis_directory\u001b[0m=\u001b[3;91mFalse\u001b[0m,\n",
       "            \u001b[33mcontent_type\u001b[0m=\u001b[32m'application/asc'\u001b[0m,\n",
       "            \u001b[33msize\u001b[0m=\u001b[1;36m4198676\u001b[0m,\n",
       "            \u001b[33msha256_digest\u001b[0m=\u001b[32m'f93c4b40712f007bc07e8646e16c4a4d7efe91b4ad0030c1fd2fbea03c940a74'\u001b[0m,\n",
       "            \u001b[33mstatus\u001b[0m=\u001b[32m'created'\u001b[0m,\n",
       "            \u001b[33mmeta\u001b[0m=\u001b[1m{\u001b[0m\u001b[1m}\u001b[0m,\n",
       "            \u001b[33mlabel\u001b[0m=\u001b[3;35mNone\u001b[0m\n",
       "        \u001b[1m)\u001b[0m,\n",
       "        \u001b[1;35mAsset\u001b[0m\u001b[1m(\u001b[0m\n",
       "            \u001b[33mid\u001b[0m=\u001b[1;35mUUID\u001b[0m\u001b[1m(\u001b[0m\u001b[32m'1dbd25b6-c6a1-43ba-a2a2-85e3cfd2b806'\u001b[0m\u001b[1m)\u001b[0m,\n",
       "            \u001b[33mupdate_date\u001b[0m=\u001b[3;35mNone\u001b[0m,\n",
       "            \u001b[33mcreation_date\u001b[0m=\u001b[3;35mNone\u001b[0m,\n",
       "            \u001b[33mpath\u001b[0m=\u001b[32m'rat_20150131_LH2_cell3.swc'\u001b[0m,\n",
       "            \u001b[33mfull_path\u001b[0m=\u001b[32m'public/a98b7abc-fc46-4700-9e3d-37137812c730/0dbced5f-cc3d-488a-8c7f-cfb8ea039dc6/assets/reco\u001b[0m\n",
       "\u001b[32mnstruction_morphology/06cfa2e4-df21-40a0-aa58-7be11091aeba/rat_20150131_LH2_cell3.swc'\u001b[0m,\n",
       "            \u001b[33mis_directory\u001b[0m=\u001b[3;91mFalse\u001b[0m,\n",
       "            \u001b[33mcontent_type\u001b[0m=\u001b[32m'application/swc'\u001b[0m,\n",
       "            \u001b[33msize\u001b[0m=\u001b[1;36m4632627\u001b[0m,\n",
       "            \u001b[33msha256_digest\u001b[0m=\u001b[32m'9e6ba198763b251f00f678db47a085f011fdeeafbc21b773232edf9b3b72eba2'\u001b[0m,\n",
       "            \u001b[33mstatus\u001b[0m=\u001b[32m'created'\u001b[0m,\n",
       "            \u001b[33mmeta\u001b[0m=\u001b[1m{\u001b[0m\u001b[1m}\u001b[0m,\n",
       "            \u001b[33mlabel\u001b[0m=\u001b[3;35mNone\u001b[0m\n",
       "        \u001b[1m)\u001b[0m\n",
       "    \u001b[1m]\u001b[0m,\n",
       "    \u001b[33mid\u001b[0m=\u001b[1;35mUUID\u001b[0m\u001b[1m(\u001b[0m\u001b[32m'06cfa2e4-df21-40a0-aa58-7be11091aeba'\u001b[0m\u001b[1m)\u001b[0m,\n",
       "    \u001b[33mupdate_date\u001b[0m=\u001b[1;35mdatetime\u001b[0m\u001b[1;35m.datetime\u001b[0m\u001b[1m(\u001b[0m\u001b[1;36m2025\u001b[0m, \u001b[1;36m4\u001b[0m, \u001b[1;36m25\u001b[0m, \u001b[1;36m7\u001b[0m, \u001b[1;36m54\u001b[0m, \u001b[1;36m47\u001b[0m, \u001b[1;36m36229\u001b[0m, \u001b[33mtzinfo\u001b[0m=\u001b[1;35mTzInfo\u001b[0m\u001b[1m(\u001b[0mUTC\u001b[1m)\u001b[0m\u001b[1m)\u001b[0m,\n",
       "    \u001b[33mcreation_date\u001b[0m=\u001b[1;35mdatetime\u001b[0m\u001b[1;35m.datetime\u001b[0m\u001b[1m(\u001b[0m\u001b[1;36m2024\u001b[0m, \u001b[1;36m3\u001b[0m, \u001b[1;36m13\u001b[0m, \u001b[1;36m10\u001b[0m, \u001b[1;36m42\u001b[0m, \u001b[1;36m0\u001b[0m, \u001b[1;36m371143\u001b[0m, \u001b[33mtzinfo\u001b[0m=\u001b[1;35mTzInfo\u001b[0m\u001b[1m(\u001b[0mUTC\u001b[1m)\u001b[0m\u001b[1m)\u001b[0m,\n",
       "    \u001b[33mname\u001b[0m=\u001b[32m'rat_20150131_LH2_cell3'\u001b[0m,\n",
       "    \u001b[33mdescription\u001b[0m=\u001b[32m'Translated to mouse from rat data. This dataset is about an in vivo-filled neuron morphology from \u001b[0m\n",
       "\u001b[32mlayer 3 with m-type L3_TPC:A. The distribution contains the neuron morphology in ASC, h5, and SWC file format.'\u001b[0m,\n",
       "    \u001b[33mtype\u001b[0m=\u001b[32m'reconstruction_morphology'\u001b[0m,\n",
       "    \u001b[33mcreated_by\u001b[0m=\u001b[1;35mPerson\u001b[0m\u001b[1m(\u001b[0m\n",
       "        \u001b[33mid\u001b[0m=\u001b[1;35mUUID\u001b[0m\u001b[1m(\u001b[0m\u001b[32m'cd613e30-d8f1-4adf-91b7-584a2265b1f5'\u001b[0m\u001b[1m)\u001b[0m,\n",
       "        \u001b[33mupdate_date\u001b[0m=\u001b[3;35mNone\u001b[0m,\n",
       "        \u001b[33mcreation_date\u001b[0m=\u001b[3;35mNone\u001b[0m,\n",
       "        \u001b[33mtype\u001b[0m=\u001b[32m'person'\u001b[0m,\n",
       "        \u001b[33mpref_label\u001b[0m=\u001b[32m'Admin'\u001b[0m,\n",
       "        \u001b[33mgiven_name\u001b[0m=\u001b[3;35mNone\u001b[0m,\n",
       "        \u001b[33mfamily_name\u001b[0m=\u001b[3;35mNone\u001b[0m\n",
       "    \u001b[1m)\u001b[0m,\n",
       "    \u001b[33mupdated_by\u001b[0m=\u001b[1;35mPerson\u001b[0m\u001b[1m(\u001b[0m\n",
       "        \u001b[33mid\u001b[0m=\u001b[1;35mUUID\u001b[0m\u001b[1m(\u001b[0m\u001b[32m'cd613e30-d8f1-4adf-91b7-584a2265b1f5'\u001b[0m\u001b[1m)\u001b[0m,\n",
       "        \u001b[33mupdate_date\u001b[0m=\u001b[3;35mNone\u001b[0m,\n",
       "        \u001b[33mcreation_date\u001b[0m=\u001b[3;35mNone\u001b[0m,\n",
       "        \u001b[33mtype\u001b[0m=\u001b[32m'person'\u001b[0m,\n",
       "        \u001b[33mpref_label\u001b[0m=\u001b[32m'Admin'\u001b[0m,\n",
       "        \u001b[33mgiven_name\u001b[0m=\u001b[3;35mNone\u001b[0m,\n",
       "        \u001b[33mfamily_name\u001b[0m=\u001b[3;35mNone\u001b[0m\n",
       "    \u001b[1m)\u001b[0m,\n",
       "    \u001b[33mauthorized_public\u001b[0m=\u001b[3;92mTrue\u001b[0m,\n",
       "    \u001b[33mauthorized_project_id\u001b[0m=\u001b[1;35mUUID\u001b[0m\u001b[1m(\u001b[0m\u001b[32m'0dbced5f-cc3d-488a-8c7f-cfb8ea039dc6'\u001b[0m\u001b[1m)\u001b[0m,\n",
       "    \u001b[33mcontributions\u001b[0m=\u001b[1m[\u001b[0m\n",
       "        \u001b[1;35mContribution\u001b[0m\u001b[1m(\u001b[0m\n",
       "            \u001b[33mid\u001b[0m=\u001b[1;35mUUID\u001b[0m\u001b[1m(\u001b[0m\u001b[32m'98257066-8f4d-4cbc-9466-a77165b5dcac'\u001b[0m\u001b[1m)\u001b[0m,\n",
       "            \u001b[33mupdate_date\u001b[0m=\u001b[3;35mNone\u001b[0m,\n",
       "            \u001b[33mcreation_date\u001b[0m=\u001b[3;35mNone\u001b[0m,\n",
       "            \u001b[33magent\u001b[0m=\u001b[1;35mOrganization\u001b[0m\u001b[1m(\u001b[0m\n",
       "                \u001b[33mid\u001b[0m=\u001b[1;35mUUID\u001b[0m\u001b[1m(\u001b[0m\u001b[32m'9779ac1f-45e9-4d32-8c85-5fdfa7251af0'\u001b[0m\u001b[1m)\u001b[0m,\n",
       "                \u001b[33mupdate_date\u001b[0m=\u001b[3;35mNone\u001b[0m,\n",
       "                \u001b[33mcreation_date\u001b[0m=\u001b[3;35mNone\u001b[0m,\n",
       "                \u001b[33mtype\u001b[0m=\u001b[32m'organization'\u001b[0m,\n",
       "                \u001b[33mpref_label\u001b[0m=\u001b[32m'University of Debrecen'\u001b[0m,\n",
       "                \u001b[33malternative_name\u001b[0m=\u001b[32m''\u001b[0m\n",
       "            \u001b[1m)\u001b[0m,\n",
       "            \u001b[33mrole\u001b[0m=\u001b[1;35mRole\u001b[0m\u001b[1m(\u001b[0m\n",
       "                \u001b[33mid\u001b[0m=\u001b[1;35mUUID\u001b[0m\u001b[1m(\u001b[0m\u001b[32m'334a96c2-b866-4e3c-97b0-799b1766f835'\u001b[0m\u001b[1m)\u001b[0m,\n",
       "                \u001b[33mupdate_date\u001b[0m=\u001b[1;35mdatetime\u001b[0m\u001b[1;35m.datetime\u001b[0m\u001b[1m(\u001b[0m\u001b[1;36m2025\u001b[0m, \u001b[1;36m6\u001b[0m, \u001b[1;36m26\u001b[0m, \u001b[1;36m8\u001b[0m, \u001b[1;36m59\u001b[0m, \u001b[1;36m41\u001b[0m, \u001b[1;36m5794\u001b[0m, \u001b[33mtzinfo\u001b[0m=\u001b[1;35mTzInfo\u001b[0m\u001b[1m(\u001b[0mUTC\u001b[1m)\u001b[0m\u001b[1m)\u001b[0m,\n",
       "                \u001b[33mcreation_date\u001b[0m=\u001b[1;35mdatetime\u001b[0m\u001b[1;35m.datetime\u001b[0m\u001b[1m(\u001b[0m\u001b[1;36m2025\u001b[0m, \u001b[1;36m6\u001b[0m, \u001b[1;36m26\u001b[0m, \u001b[1;36m8\u001b[0m, \u001b[1;36m59\u001b[0m, \u001b[1;36m41\u001b[0m, \u001b[1;36m5794\u001b[0m, \u001b[33mtzinfo\u001b[0m=\u001b[1;35mTzInfo\u001b[0m\u001b[1m(\u001b[0mUTC\u001b[1m)\u001b[0m\u001b[1m)\u001b[0m,\n",
       "                \u001b[33mname\u001b[0m=\u001b[32m'unspecified'\u001b[0m,\n",
       "                \u001b[33mrole_id\u001b[0m=\u001b[32m'unspecified'\u001b[0m\n",
       "            \u001b[1m)\u001b[0m,\n",
       "            \u001b[33mentity\u001b[0m=\u001b[3;35mNone\u001b[0m\n",
       "        \u001b[1m)\u001b[0m,\n",
       "        \u001b[1;35mContribution\u001b[0m\u001b[1m(\u001b[0m\n",
       "            \u001b[33mid\u001b[0m=\u001b[1;35mUUID\u001b[0m\u001b[1m(\u001b[0m\u001b[32m'b7e91fb3-7987-4b11-aa96-c0f392b0c3e3'\u001b[0m\u001b[1m)\u001b[0m,\n",
       "            \u001b[33mupdate_date\u001b[0m=\u001b[3;35mNone\u001b[0m,\n",
       "            \u001b[33mcreation_date\u001b[0m=\u001b[3;35mNone\u001b[0m,\n",
       "            \u001b[33magent\u001b[0m=\u001b[1;35mPerson\u001b[0m\u001b[1m(\u001b[0m\n",
       "                \u001b[33mid\u001b[0m=\u001b[1;35mUUID\u001b[0m\u001b[1m(\u001b[0m\u001b[32m'1a16daff-3da9-4cd2-967b-75dfb948f82a'\u001b[0m\u001b[1m)\u001b[0m,\n",
       "                \u001b[33mupdate_date\u001b[0m=\u001b[3;35mNone\u001b[0m,\n",
       "                \u001b[33mcreation_date\u001b[0m=\u001b[3;35mNone\u001b[0m,\n",
       "                \u001b[33mtype\u001b[0m=\u001b[32m'person'\u001b[0m,\n",
       "                \u001b[33mpref_label\u001b[0m=\u001b[32m'Zoltan Kisvarday'\u001b[0m,\n",
       "                \u001b[33mgiven_name\u001b[0m=\u001b[32m'Zoltan'\u001b[0m,\n",
       "                \u001b[33mfamily_name\u001b[0m=\u001b[32m'Kisvarday'\u001b[0m\n",
       "            \u001b[1m)\u001b[0m,\n",
       "            \u001b[33mrole\u001b[0m=\u001b[1;35mRole\u001b[0m\u001b[1m(\u001b[0m\n",
       "                \u001b[33mid\u001b[0m=\u001b[1;35mUUID\u001b[0m\u001b[1m(\u001b[0m\u001b[32m'15fdf2be-ac61-43d8-9243-095d24f9679f'\u001b[0m\u001b[1m)\u001b[0m,\n",
       "                \u001b[33mupdate_date\u001b[0m=\u001b[1;35mdatetime\u001b[0m\u001b[1;35m.datetime\u001b[0m\u001b[1m(\u001b[0m\u001b[1;36m2025\u001b[0m, \u001b[1;36m6\u001b[0m, \u001b[1;36m26\u001b[0m, \u001b[1;36m8\u001b[0m, \u001b[1;36m59\u001b[0m, \u001b[1;36m52\u001b[0m, \u001b[1;36m685525\u001b[0m, \u001b[33mtzinfo\u001b[0m=\u001b[1;35mTzInfo\u001b[0m\u001b[1m(\u001b[0mUTC\u001b[1m)\u001b[0m\u001b[1m)\u001b[0m,\n",
       "                \u001b[33mcreation_date\u001b[0m=\u001b[1;35mdatetime\u001b[0m\u001b[1;35m.datetime\u001b[0m\u001b[1m(\u001b[0m\u001b[1;36m2025\u001b[0m, \u001b[1;36m6\u001b[0m, \u001b[1;36m26\u001b[0m, \u001b[1;36m8\u001b[0m, \u001b[1;36m59\u001b[0m, \u001b[1;36m52\u001b[0m, \u001b[1;36m685525\u001b[0m, \u001b[33mtzinfo\u001b[0m=\u001b[1;35mTzInfo\u001b[0m\u001b[1m(\u001b[0mUTC\u001b[1m)\u001b[0m\u001b[1m)\u001b[0m,\n",
       "                \u001b[33mname\u001b[0m=\u001b[32m'neuron morphology reconstruction role'\u001b[0m,\n",
       "                \u001b[33mrole_id\u001b[0m=\u001b[32m'Neuron:MorphologyReconstructionRole'\u001b[0m\n",
       "            \u001b[1m)\u001b[0m,\n",
       "            \u001b[33mentity\u001b[0m=\u001b[3;35mNone\u001b[0m\n",
       "        \u001b[1m)\u001b[0m,\n",
       "        \u001b[1;35mContribution\u001b[0m\u001b[1m(\u001b[0m\n",
       "            \u001b[33mid\u001b[0m=\u001b[1;35mUUID\u001b[0m\u001b[1m(\u001b[0m\u001b[32m'b881b0c4-c4e4-4960-9604-65855463064a'\u001b[0m\u001b[1m)\u001b[0m,\n",
       "            \u001b[33mupdate_date\u001b[0m=\u001b[3;35mNone\u001b[0m,\n",
       "            \u001b[33mcreation_date\u001b[0m=\u001b[3;35mNone\u001b[0m,\n",
       "            \u001b[33magent\u001b[0m=\u001b[1;35mPerson\u001b[0m\u001b[1m(\u001b[0m\n",
       "                \u001b[33mid\u001b[0m=\u001b[1;35mUUID\u001b[0m\u001b[1m(\u001b[0m\u001b[32m'e94f499e-160d-4247-8c6f-1e06111c62e0'\u001b[0m\u001b[1m)\u001b[0m,\n",
       "                \u001b[33mupdate_date\u001b[0m=\u001b[3;35mNone\u001b[0m,\n",
       "                \u001b[33mcreation_date\u001b[0m=\u001b[3;35mNone\u001b[0m,\n",
       "                \u001b[33mtype\u001b[0m=\u001b[32m'person'\u001b[0m,\n",
       "                \u001b[33mpref_label\u001b[0m=\u001b[32m'Michael Gevaert'\u001b[0m,\n",
       "                \u001b[33mgiven_name\u001b[0m=\u001b[32m'Michael'\u001b[0m,\n",
       "                \u001b[33mfamily_name\u001b[0m=\u001b[32m'Gevaert'\u001b[0m\n",
       "            \u001b[1m)\u001b[0m,\n",
       "            \u001b[33mrole\u001b[0m=\u001b[1;35mRole\u001b[0m\u001b[1m(\u001b[0m\n",
       "                \u001b[33mid\u001b[0m=\u001b[1;35mUUID\u001b[0m\u001b[1m(\u001b[0m\u001b[32m'37f429b0-52d4-4cc3-9e56-b8639884983f'\u001b[0m\u001b[1m)\u001b[0m,\n",
       "                \u001b[33mupdate_date\u001b[0m=\u001b[1;35mdatetime\u001b[0m\u001b[1;35m.datetime\u001b[0m\u001b[1m(\u001b[0m\u001b[1;36m2025\u001b[0m, \u001b[1;36m6\u001b[0m, \u001b[1;36m26\u001b[0m, \u001b[1;36m8\u001b[0m, \u001b[1;36m59\u001b[0m, \u001b[1;36m52\u001b[0m, \u001b[1;36m658494\u001b[0m, \u001b[33mtzinfo\u001b[0m=\u001b[1;35mTzInfo\u001b[0m\u001b[1m(\u001b[0mUTC\u001b[1m)\u001b[0m\u001b[1m)\u001b[0m,\n",
       "                \u001b[33mcreation_date\u001b[0m=\u001b[1;35mdatetime\u001b[0m\u001b[1;35m.datetime\u001b[0m\u001b[1m(\u001b[0m\u001b[1;36m2025\u001b[0m, \u001b[1;36m6\u001b[0m, \u001b[1;36m26\u001b[0m, \u001b[1;36m8\u001b[0m, \u001b[1;36m59\u001b[0m, \u001b[1;36m52\u001b[0m, \u001b[1;36m658494\u001b[0m, \u001b[33mtzinfo\u001b[0m=\u001b[1;35mTzInfo\u001b[0m\u001b[1m(\u001b[0mUTC\u001b[1m)\u001b[0m\u001b[1m)\u001b[0m,\n",
       "                \u001b[33mname\u001b[0m=\u001b[32m'data transformation role'\u001b[0m,\n",
       "                \u001b[33mrole_id\u001b[0m=\u001b[32m'obo:CRO_0000072'\u001b[0m\n",
       "            \u001b[1m)\u001b[0m,\n",
       "            \u001b[33mentity\u001b[0m=\u001b[3;35mNone\u001b[0m\n",
       "        \u001b[1m)\u001b[0m,\n",
       "        \u001b[1;35mContribution\u001b[0m\u001b[1m(\u001b[0m\n",
       "            \u001b[33mid\u001b[0m=\u001b[1;35mUUID\u001b[0m\u001b[1m(\u001b[0m\u001b[32m'a90a5575-2cf0-42d3-acb1-8cc9ebaa7103'\u001b[0m\u001b[1m)\u001b[0m,\n",
       "            \u001b[33mupdate_date\u001b[0m=\u001b[3;35mNone\u001b[0m,\n",
       "            \u001b[33mcreation_date\u001b[0m=\u001b[3;35mNone\u001b[0m,\n",
       "            \u001b[33magent\u001b[0m=\u001b[1;35mPerson\u001b[0m\u001b[1m(\u001b[0m\n",
       "                \u001b[33mid\u001b[0m=\u001b[1;35mUUID\u001b[0m\u001b[1m(\u001b[0m\u001b[32m'545484cf-ae5c-412f-a299-9fc1abb51d18'\u001b[0m\u001b[1m)\u001b[0m,\n",
       "                \u001b[33mupdate_date\u001b[0m=\u001b[3;35mNone\u001b[0m,\n",
       "                \u001b[33mcreation_date\u001b[0m=\u001b[3;35mNone\u001b[0m,\n",
       "                \u001b[33mtype\u001b[0m=\u001b[32m'person'\u001b[0m,\n",
       "                \u001b[33mpref_label\u001b[0m=\u001b[32m'Lida Kanari'\u001b[0m,\n",
       "                \u001b[33mgiven_name\u001b[0m=\u001b[32m'Lida'\u001b[0m,\n",
       "                \u001b[33mfamily_name\u001b[0m=\u001b[32m'Kanari'\u001b[0m\n",
       "            \u001b[1m)\u001b[0m,\n",
       "            \u001b[33mrole\u001b[0m=\u001b[1;35mRole\u001b[0m\u001b[1m(\u001b[0m\n",
       "                \u001b[33mid\u001b[0m=\u001b[1;35mUUID\u001b[0m\u001b[1m(\u001b[0m\u001b[32m'1a7d26ff-875c-4645-a45a-871b8591e46a'\u001b[0m\u001b[1m)\u001b[0m,\n",
       "                \u001b[33mupdate_date\u001b[0m=\u001b[1;35mdatetime\u001b[0m\u001b[1;35m.datetime\u001b[0m\u001b[1m(\u001b[0m\u001b[1;36m2025\u001b[0m, \u001b[1;36m6\u001b[0m, \u001b[1;36m26\u001b[0m, \u001b[1;36m8\u001b[0m, \u001b[1;36m59\u001b[0m, \u001b[1;36m52\u001b[0m, \u001b[1;36m691908\u001b[0m, \u001b[33mtzinfo\u001b[0m=\u001b[1;35mTzInfo\u001b[0m\u001b[1m(\u001b[0mUTC\u001b[1m)\u001b[0m\u001b[1m)\u001b[0m,\n",
       "                \u001b[33mcreation_date\u001b[0m=\u001b[1;35mdatetime\u001b[0m\u001b[1;35m.datetime\u001b[0m\u001b[1m(\u001b[0m\u001b[1;36m2025\u001b[0m, \u001b[1;36m6\u001b[0m, \u001b[1;36m26\u001b[0m, \u001b[1;36m8\u001b[0m, \u001b[1;36m59\u001b[0m, \u001b[1;36m52\u001b[0m, \u001b[1;36m691908\u001b[0m, \u001b[33mtzinfo\u001b[0m=\u001b[1;35mTzInfo\u001b[0m\u001b[1m(\u001b[0mUTC\u001b[1m)\u001b[0m\u001b[1m)\u001b[0m,\n",
       "                \u001b[33mname\u001b[0m=\u001b[32m'data curation role'\u001b[0m,\n",
       "                \u001b[33mrole_id\u001b[0m=\u001b[32m'http://purl.org/credit/ontology#CREDIT_00000002'\u001b[0m\n",
       "            \u001b[1m)\u001b[0m,\n",
       "            \u001b[33mentity\u001b[0m=\u001b[3;35mNone\u001b[0m\n",
       "        \u001b[1m)\u001b[0m,\n",
       "        \u001b[1;35mContribution\u001b[0m\u001b[1m(\u001b[0m\n",
       "            \u001b[33mid\u001b[0m=\u001b[1;35mUUID\u001b[0m\u001b[1m(\u001b[0m\u001b[32m'6a611cd2-6867-4a85-bb87-44297ddbe44d'\u001b[0m\u001b[1m)\u001b[0m,\n",
       "            \u001b[33mupdate_date\u001b[0m=\u001b[3;35mNone\u001b[0m,\n",
       "            \u001b[33mcreation_date\u001b[0m=\u001b[3;35mNone\u001b[0m,\n",
       "            \u001b[33magent\u001b[0m=\u001b[1;35mPerson\u001b[0m\u001b[1m(\u001b[0m\n",
       "                \u001b[33mid\u001b[0m=\u001b[1;35mUUID\u001b[0m\u001b[1m(\u001b[0m\u001b[32m'40f3e49e-67a8-4d17-8621-98bf7b826399'\u001b[0m\u001b[1m)\u001b[0m,\n",
       "                \u001b[33mupdate_date\u001b[0m=\u001b[3;35mNone\u001b[0m,\n",
       "                \u001b[33mcreation_date\u001b[0m=\u001b[3;35mNone\u001b[0m,\n",
       "                \u001b[33mtype\u001b[0m=\u001b[32m'person'\u001b[0m,\n",
       "                \u001b[33mpref_label\u001b[0m=\u001b[32m'Ying Shi'\u001b[0m,\n",
       "                \u001b[33mgiven_name\u001b[0m=\u001b[32m'Ying'\u001b[0m,\n",
       "                \u001b[33mfamily_name\u001b[0m=\u001b[32m'Shi'\u001b[0m\n",
       "            \u001b[1m)\u001b[0m,\n",
       "            \u001b[33mrole\u001b[0m=\u001b[1;35mRole\u001b[0m\u001b[1m(\u001b[0m\n",
       "                \u001b[33mid\u001b[0m=\u001b[1;35mUUID\u001b[0m\u001b[1m(\u001b[0m\u001b[32m'334a96c2-b866-4e3c-97b0-799b1766f835'\u001b[0m\u001b[1m)\u001b[0m,\n",
       "                \u001b[33mupdate_date\u001b[0m=\u001b[1;35mdatetime\u001b[0m\u001b[1;35m.datetime\u001b[0m\u001b[1m(\u001b[0m\u001b[1;36m2025\u001b[0m, \u001b[1;36m6\u001b[0m, \u001b[1;36m26\u001b[0m, \u001b[1;36m8\u001b[0m, \u001b[1;36m59\u001b[0m, \u001b[1;36m41\u001b[0m, \u001b[1;36m5794\u001b[0m, \u001b[33mtzinfo\u001b[0m=\u001b[1;35mTzInfo\u001b[0m\u001b[1m(\u001b[0mUTC\u001b[1m)\u001b[0m\u001b[1m)\u001b[0m,\n",
       "                \u001b[33mcreation_date\u001b[0m=\u001b[1;35mdatetime\u001b[0m\u001b[1;35m.datetime\u001b[0m\u001b[1m(\u001b[0m\u001b[1;36m2025\u001b[0m, \u001b[1;36m6\u001b[0m, \u001b[1;36m26\u001b[0m, \u001b[1;36m8\u001b[0m, \u001b[1;36m59\u001b[0m, \u001b[1;36m41\u001b[0m, \u001b[1;36m5794\u001b[0m, \u001b[33mtzinfo\u001b[0m=\u001b[1;35mTzInfo\u001b[0m\u001b[1m(\u001b[0mUTC\u001b[1m)\u001b[0m\u001b[1m)\u001b[0m,\n",
       "                \u001b[33mname\u001b[0m=\u001b[32m'unspecified'\u001b[0m,\n",
       "                \u001b[33mrole_id\u001b[0m=\u001b[32m'unspecified'\u001b[0m\n",
       "            \u001b[1m)\u001b[0m,\n",
       "            \u001b[33mentity\u001b[0m=\u001b[3;35mNone\u001b[0m\n",
       "        \u001b[1m)\u001b[0m,\n",
       "        \u001b[1;35mContribution\u001b[0m\u001b[1m(\u001b[0m\n",
       "            \u001b[33mid\u001b[0m=\u001b[1;35mUUID\u001b[0m\u001b[1m(\u001b[0m\u001b[32m'9273f4df-fb52-49d1-94a9-15b56305c5ba'\u001b[0m\u001b[1m)\u001b[0m,\n",
       "            \u001b[33mupdate_date\u001b[0m=\u001b[3;35mNone\u001b[0m,\n",
       "            \u001b[33mcreation_date\u001b[0m=\u001b[3;35mNone\u001b[0m,\n",
       "            \u001b[33magent\u001b[0m=\u001b[1;35mOrganization\u001b[0m\u001b[1m(\u001b[0m\n",
       "                \u001b[33mid\u001b[0m=\u001b[1;35mUUID\u001b[0m\u001b[1m(\u001b[0m\u001b[32m'4fea8e6f-cbbc-4c1a-b2ca-74e1a5747574'\u001b[0m\u001b[1m)\u001b[0m,\n",
       "                \u001b[33mupdate_date\u001b[0m=\u001b[3;35mNone\u001b[0m,\n",
       "                \u001b[33mcreation_date\u001b[0m=\u001b[3;35mNone\u001b[0m,\n",
       "                \u001b[33mtype\u001b[0m=\u001b[32m'organization'\u001b[0m,\n",
       "                \u001b[33mpref_label\u001b[0m=\u001b[32m'École Polytechnique Fédérale de Lausanne'\u001b[0m,\n",
       "                \u001b[33malternative_name\u001b[0m=\u001b[32m''\u001b[0m\n",
       "            \u001b[1m)\u001b[0m,\n",
       "            \u001b[33mrole\u001b[0m=\u001b[1;35mRole\u001b[0m\u001b[1m(\u001b[0m\n",
       "                \u001b[33mid\u001b[0m=\u001b[1;35mUUID\u001b[0m\u001b[1m(\u001b[0m\u001b[32m'334a96c2-b866-4e3c-97b0-799b1766f835'\u001b[0m\u001b[1m)\u001b[0m,\n",
       "                \u001b[33mupdate_date\u001b[0m=\u001b[1;35mdatetime\u001b[0m\u001b[1;35m.datetime\u001b[0m\u001b[1m(\u001b[0m\u001b[1;36m2025\u001b[0m, \u001b[1;36m6\u001b[0m, \u001b[1;36m26\u001b[0m, \u001b[1;36m8\u001b[0m, \u001b[1;36m59\u001b[0m, \u001b[1;36m41\u001b[0m, \u001b[1;36m5794\u001b[0m, \u001b[33mtzinfo\u001b[0m=\u001b[1;35mTzInfo\u001b[0m\u001b[1m(\u001b[0mUTC\u001b[1m)\u001b[0m\u001b[1m)\u001b[0m,\n",
       "                \u001b[33mcreation_date\u001b[0m=\u001b[1;35mdatetime\u001b[0m\u001b[1;35m.datetime\u001b[0m\u001b[1m(\u001b[0m\u001b[1;36m2025\u001b[0m, \u001b[1;36m6\u001b[0m, \u001b[1;36m26\u001b[0m, \u001b[1;36m8\u001b[0m, \u001b[1;36m59\u001b[0m, \u001b[1;36m41\u001b[0m, \u001b[1;36m5794\u001b[0m, \u001b[33mtzinfo\u001b[0m=\u001b[1;35mTzInfo\u001b[0m\u001b[1m(\u001b[0mUTC\u001b[1m)\u001b[0m\u001b[1m)\u001b[0m,\n",
       "                \u001b[33mname\u001b[0m=\u001b[32m'unspecified'\u001b[0m,\n",
       "                \u001b[33mrole_id\u001b[0m=\u001b[32m'unspecified'\u001b[0m\n",
       "            \u001b[1m)\u001b[0m,\n",
       "            \u001b[33mentity\u001b[0m=\u001b[3;35mNone\u001b[0m\n",
       "        \u001b[1m)\u001b[0m\n",
       "    \u001b[1m]\u001b[0m,\n",
       "    \u001b[33mlegacy_id\u001b[0m=\u001b[1m[\u001b[0m\n",
       "        \u001b[32m'https://bbp.epfl.ch/data/bbp/mmb-point-neuron-framework-model/6cd7325b-3f45-48e7-8eee-f88c75ca99a7'\u001b[0m\n",
       "    \u001b[1m]\u001b[0m,\n",
       "    \u001b[33mlocation\u001b[0m=\u001b[3;35mNone\u001b[0m,\n",
       "    \u001b[33mbrain_region\u001b[0m=\u001b[1;35mBrainRegion\u001b[0m\u001b[1m(\u001b[0m\n",
       "        \u001b[33mid\u001b[0m=\u001b[1;35mUUID\u001b[0m\u001b[1m(\u001b[0m\u001b[32m'61d89b07-dfa0-439a-9187-7ebfe60e212b'\u001b[0m\u001b[1m)\u001b[0m,\n",
       "        \u001b[33mupdate_date\u001b[0m=\u001b[1;35mdatetime\u001b[0m\u001b[1;35m.datetime\u001b[0m\u001b[1m(\u001b[0m\u001b[1;36m2025\u001b[0m, \u001b[1;36m6\u001b[0m, \u001b[1;36m26\u001b[0m, \u001b[1;36m8\u001b[0m, \u001b[1;36m59\u001b[0m, \u001b[1;36m14\u001b[0m, \u001b[1;36m94927\u001b[0m, \u001b[33mtzinfo\u001b[0m=\u001b[1;35mTzInfo\u001b[0m\u001b[1m(\u001b[0mUTC\u001b[1m)\u001b[0m\u001b[1m)\u001b[0m,\n",
       "        \u001b[33mcreation_date\u001b[0m=\u001b[1;35mdatetime\u001b[0m\u001b[1;35m.datetime\u001b[0m\u001b[1m(\u001b[0m\u001b[1;36m2025\u001b[0m, \u001b[1;36m6\u001b[0m, \u001b[1;36m26\u001b[0m, \u001b[1;36m8\u001b[0m, \u001b[1;36m59\u001b[0m, \u001b[1;36m14\u001b[0m, \u001b[1;36m94927\u001b[0m, \u001b[33mtzinfo\u001b[0m=\u001b[1;35mTzInfo\u001b[0m\u001b[1m(\u001b[0mUTC\u001b[1m)\u001b[0m\u001b[1m)\u001b[0m,\n",
       "        \u001b[33mname\u001b[0m=\u001b[32m'Primary somatosensory area'\u001b[0m,\n",
       "        \u001b[33mannotation_value\u001b[0m=\u001b[1;36m322\u001b[0m,\n",
       "        \u001b[33macronym\u001b[0m=\u001b[32m'SSp'\u001b[0m,\n",
       "        \u001b[33mparent_structure_id\u001b[0m=\u001b[1;35mUUID\u001b[0m\u001b[1m(\u001b[0m\u001b[32m'9680c40f-ccfe-4804-851f-1024ff0d6409'\u001b[0m\u001b[1m)\u001b[0m,\n",
       "        \u001b[33mhierarchy_id\u001b[0m=\u001b[1;35mUUID\u001b[0m\u001b[1m(\u001b[0m\u001b[32m'e3e70682-c209-4cac-a29f-6fbed82c07cd'\u001b[0m\u001b[1m)\u001b[0m,\n",
       "        \u001b[33mcolor_hex_triplet\u001b[0m=\u001b[32m'188064'\u001b[0m\n",
       "    \u001b[1m)\u001b[0m,\n",
       "    \u001b[33mspecies\u001b[0m=\u001b[1;35mSpecies\u001b[0m\u001b[1m(\u001b[0m\n",
       "        \u001b[33mid\u001b[0m=\u001b[1;35mUUID\u001b[0m\u001b[1m(\u001b[0m\u001b[32m'5d67fde6-51a4-4c04-a0e9-3e953bb584e3'\u001b[0m\u001b[1m)\u001b[0m,\n",
       "        \u001b[33mupdate_date\u001b[0m=\u001b[3;35mNone\u001b[0m,\n",
       "        \u001b[33mcreation_date\u001b[0m=\u001b[3;35mNone\u001b[0m,\n",
       "        \u001b[33mname\u001b[0m=\u001b[32m'Mus musculus'\u001b[0m,\n",
       "        \u001b[33mtaxonomy_id\u001b[0m=\u001b[32m'NCBITaxon:10090'\u001b[0m\n",
       "    \u001b[1m)\u001b[0m,\n",
       "    \u001b[33mstrain\u001b[0m=\u001b[3;35mNone\u001b[0m,\n",
       "    \u001b[33mlicense\u001b[0m=\u001b[1;35mLicense\u001b[0m\u001b[1m(\u001b[0m\n",
       "        \u001b[33mid\u001b[0m=\u001b[1;35mUUID\u001b[0m\u001b[1m(\u001b[0m\u001b[32m'dce17831-a822-40f6-9e1a-2e93f4bca0cf'\u001b[0m\u001b[1m)\u001b[0m,\n",
       "        \u001b[33mupdate_date\u001b[0m=\u001b[1;35mdatetime\u001b[0m\u001b[1;35m.datetime\u001b[0m\u001b[1m(\u001b[0m\u001b[1;36m2024\u001b[0m, \u001b[1;36m1\u001b[0m, \u001b[1;36m16\u001b[0m, \u001b[1;36m14\u001b[0m, \u001b[1;36m51\u001b[0m, \u001b[1;36m5\u001b[0m, \u001b[1;36m847971\u001b[0m, \u001b[33mtzinfo\u001b[0m=\u001b[1;35mTzInfo\u001b[0m\u001b[1m(\u001b[0mUTC\u001b[1m)\u001b[0m\u001b[1m)\u001b[0m,\n",
       "        \u001b[33mcreation_date\u001b[0m=\u001b[1;35mdatetime\u001b[0m\u001b[1;35m.datetime\u001b[0m\u001b[1m(\u001b[0m\u001b[1;36m2024\u001b[0m, \u001b[1;36m1\u001b[0m, \u001b[1;36m10\u001b[0m, \u001b[1;36m15\u001b[0m, \u001b[1;36m58\u001b[0m, \u001b[1;36m46\u001b[0m, \u001b[1;36m7611\u001b[0m, \u001b[33mtzinfo\u001b[0m=\u001b[1;35mTzInfo\u001b[0m\u001b[1m(\u001b[0mUTC\u001b[1m)\u001b[0m\u001b[1m)\u001b[0m,\n",
       "        \u001b[33mname\u001b[0m=\u001b[32m'https://creativecommons.org/licenses/by/4.0/'\u001b[0m,\n",
       "        \u001b[33mdescription\u001b[0m=\u001b[32m'Creative Commons Corporation \u001b[0m\u001b[32m(\u001b[0m\u001b[32m\"Creative Commons\"\u001b[0m\u001b[32m)\u001b[0m\u001b[32m is not a law firm and does not provide legal\u001b[0m\n",
       "\u001b[32mservices or legal advice. Distribution of Creative Commons public licenses does not create a lawyer-client or other\u001b[0m\n",
       "\u001b[32mrelationship. Creative Commons makes its licenses and related information available on an \"as-is\" basis. Creative \u001b[0m\n",
       "\u001b[32mCommons gives no warranties regarding its licenses, any material licensed under their terms and conditions, or any \u001b[0m\n",
       "\u001b[32mrelated information. Creative Commons disclaims all liability for damages resulting from their use to the fullest \u001b[0m\n",
       "\u001b[32mextent possible.'\u001b[0m,\n",
       "        \u001b[33mlabel\u001b[0m=\u001b[32m'CC BY 4.0 Deed'\u001b[0m\n",
       "    \u001b[1m)\u001b[0m,\n",
       "    \u001b[33mmtypes\u001b[0m=\u001b[1m[\u001b[0m\n",
       "        \u001b[1;35mMTypeClass\u001b[0m\u001b[1m(\u001b[0m\n",
       "            \u001b[33mid\u001b[0m=\u001b[1;35mUUID\u001b[0m\u001b[1m(\u001b[0m\u001b[32m'c38dca49-4ceb-4d22-a518-5dff1ab59e90'\u001b[0m\u001b[1m)\u001b[0m,\n",
       "            \u001b[33mupdate_date\u001b[0m=\u001b[1;35mdatetime\u001b[0m\u001b[1;35m.datetime\u001b[0m\u001b[1m(\u001b[0m\u001b[1;36m2024\u001b[0m, \u001b[1;36m11\u001b[0m, \u001b[1;36m22\u001b[0m, \u001b[1;36m11\u001b[0m, \u001b[1;36m17\u001b[0m, \u001b[1;36m54\u001b[0m, \u001b[1;36m582443\u001b[0m, \u001b[33mtzinfo\u001b[0m=\u001b[1;35mTzInfo\u001b[0m\u001b[1m(\u001b[0mUTC\u001b[1m)\u001b[0m\u001b[1m)\u001b[0m,\n",
       "            \u001b[33mcreation_date\u001b[0m=\u001b[1;35mdatetime\u001b[0m\u001b[1;35m.datetime\u001b[0m\u001b[1m(\u001b[0m\u001b[1;36m2020\u001b[0m, \u001b[1;36m3\u001b[0m, \u001b[1;36m16\u001b[0m, \u001b[1;36m10\u001b[0m, \u001b[1;36m34\u001b[0m, \u001b[1;36m23\u001b[0m, \u001b[1;36m469000\u001b[0m, \u001b[33mtzinfo\u001b[0m=\u001b[1;35mTzInfo\u001b[0m\u001b[1m(\u001b[0mUTC\u001b[1m)\u001b[0m\u001b[1m)\u001b[0m,\n",
       "            \u001b[33mpref_label\u001b[0m=\u001b[32m'L3_TPC:A'\u001b[0m,\n",
       "            \u001b[33mdefinition\u001b[0m=\u001b[32m'L3_TPC_A have a vertically projecting apical dendrite, with an often distal \u001b[0m\u001b[32m(\u001b[0m\u001b[32moccasionally \u001b[0m\n",
       "\u001b[32mproximal\u001b[0m\u001b[32m)\u001b[0m\u001b[32m onset of tuft formation, which forms a small tuft \u001b[0m\u001b[32m(\u001b[0m\u001b[32moccasionally extensive\u001b[0m\u001b[32m)\u001b[0m\u001b[32m and multiple oblique dendrites\u001b[0m\n",
       "\u001b[32mbefore tuft formation'\u001b[0m,\n",
       "            \u001b[33malt_label\u001b[0m=\u001b[32m'Layer 3 Late Bifurcating Tufted Pyramidal Cell'\u001b[0m\n",
       "        \u001b[1m)\u001b[0m\n",
       "    \u001b[1m]\u001b[0m\n",
       "\u001b[1m)\u001b[0m\n"
      ]
     },
     "metadata": {},
     "output_type": "display_data"
    }
   ],
   "source": [
    "rprint(morphology)"
   ]
  },
  {
   "cell_type": "markdown",
   "id": "6b39f843-13dd-4988-90a2-5bc49af27cc4",
   "metadata": {},
   "source": [
    "## 1.4 Find 10 morphologies of specific mtype, species and region"
   ]
  },
  {
   "cell_type": "code",
   "execution_count": 11,
   "id": "b6e5f2f6-0e88-4fe7-9cf1-874379de5cad",
   "metadata": {},
   "outputs": [],
   "source": [
    "iterator = client.search_entity(\n",
    "    entity_type=ReconstructionMorphology,\n",
    "    query={\"mtype__pref_label\": \"L3_TPC:A\", \"species__name\":\"Mus musculus\", \"brain_region__name\":\"Primary somatosensory area\"},\n",
    "    limit=10,\n",
    ")"
   ]
  },
  {
   "cell_type": "code",
   "execution_count": 12,
   "id": "c6680f35-b164-4144-94c8-c176a9cd802a",
   "metadata": {},
   "outputs": [],
   "source": [
    "morphology = next(iterator)"
   ]
  },
  {
   "cell_type": "markdown",
   "id": "ac6181c9-1a95-4184-995f-353cbc7cd86b",
   "metadata": {},
   "source": [
    "## 1.5 Explore the metadata of a morphology"
   ]
  },
  {
   "cell_type": "code",
   "execution_count": 13,
   "id": "5d7a2571-e19d-4682-a478-78a07d0f59ea",
   "metadata": {},
   "outputs": [
    {
     "data": {
      "text/plain": [
       "'Mus musculus'"
      ]
     },
     "execution_count": 13,
     "metadata": {},
     "output_type": "execute_result"
    }
   ],
   "source": [
    "morphology.species.name"
   ]
  },
  {
   "cell_type": "code",
   "execution_count": 14,
   "id": "f1c6f2ff-f872-4156-821d-d52f4b4871b7",
   "metadata": {},
   "outputs": [
    {
     "data": {
      "text/plain": [
       "'Primary somatosensory area'"
      ]
     },
     "execution_count": 14,
     "metadata": {},
     "output_type": "execute_result"
    }
   ],
   "source": [
    "morphology.brain_region.name"
   ]
  },
  {
   "cell_type": "code",
   "execution_count": 15,
   "id": "d26de546-ff83-44a5-89c7-f9f12ee9ef03",
   "metadata": {},
   "outputs": [
    {
     "data": {
      "text/plain": [
       "UUID('06cfa2e4-df21-40a0-aa58-7be11091aeba')"
      ]
     },
     "execution_count": 15,
     "metadata": {},
     "output_type": "execute_result"
    }
   ],
   "source": [
    "morphology.id"
   ]
  },
  {
   "cell_type": "code",
   "execution_count": 16,
   "id": "6b8df6ba-98e7-43ef-8729-96f530cb4235",
   "metadata": {},
   "outputs": [
    {
     "data": {
      "text/plain": [
       "'L3_TPC:A'"
      ]
     },
     "execution_count": 16,
     "metadata": {},
     "output_type": "execute_result"
    }
   ],
   "source": [
    "morphology.mtypes[0].pref_label"
   ]
  },
  {
   "cell_type": "markdown",
   "id": "7b3d293f-e7fe-43a6-84c7-89cf668dedb2",
   "metadata": {},
   "source": [
    "## 1.6 Download a morphology file"
   ]
  },
  {
   "cell_type": "code",
   "execution_count": 17,
   "id": "b977030f-c7da-47f1-b137-3b331e46579d",
   "metadata": {},
   "outputs": [],
   "source": [
    "fetched = client.get_entity(\n",
    "    entity_id=morphology.id, entity_type=ReconstructionMorphology\n",
    ")"
   ]
  },
  {
   "cell_type": "code",
   "execution_count": 18,
   "id": "94962520-8e90-41ba-be75-94e7c400238c",
   "metadata": {},
   "outputs": [],
   "source": [
    "for asset in fetched.assets:\n",
    "    if asset.content_type == \"application/h5\":\n",
    "        client.download_file(\n",
    "            entity_id=fetched.id,\n",
    "            entity_type=type(fetched),\n",
    "            asset_id=asset.id,\n",
    "            output_path=\"test_data\",\n",
    "        )\n",
    "        content = client.download_content(\n",
    "            entity_id=fetched.id, entity_type=type(fetched), asset_id=asset.id, token=access_token\n",
    "        )\n",
    "        break"
   ]
  },
  {
   "cell_type": "code",
   "execution_count": 19,
   "id": "81114d44-4155-4857-bf54-d88a24c9b4dc",
   "metadata": {},
   "outputs": [
    {
     "name": "stdout",
     "output_type": "stream",
     "text": [
      "1137_H23.29.235.11.02.03.swc\n",
      "181002_01.CNG.swc\n",
      "2012-5-10s1c1x1_25.CNG.swc\n",
      "337_180226S1C1N1_with_contour.swc\n",
      "362_170512S2C1N2_with_contour.swc\n",
      "364_M10_01_thickness_corrected.swc\n",
      "366_170512S2C1N1_with_contour.swc\n",
      "375_171207S2C1N2_with_contour.swc\n",
      "377_171207S2C1N1_with_contour.swc\n",
      "387_180501S1C1N1_with_contour.swc\n",
      "394_180508S1C1N1_with_contour.swc\n",
      "397_170512S2C1N3_with_contour.swc\n",
      "399_M29_thickness_corrected.swc\n",
      "425_171204S1C1N2_with_contour.swc\n",
      "441_M11_CORRECTED_thickness_corrected.swc\n",
      "445_M1_thickness_corrected.swc\n",
      "455_171204S1C1N1_with_contour.swc\n",
      "461_171205S1C1N1_with_contour.swc\n",
      "470_171205S1C1N2_with_contour.swc\n",
      "481_171205S1C1N3_with_contour.swc\n",
      "490_M33_corrected_thickness_corrected.swc\n",
      "493_M34rev_thickness_corrected.swc\n",
      "518_180228S1C1N1_with_contour.swc\n",
      "Fig1b_140312-1rm6_int.CNG.swc\n",
      "Fig2b_cell1_0904091kg.CNG.swc\n",
      "Fig2b_cell2_0706084kg.CNG.swc\n",
      "H15-06-016-01-03-02_549378277_m.CNG.swc\n",
      "H15-06-016-01-12-01_623320232_m.CNG.swc\n",
      "H15-06-017-03-03-01_623320281_m.CNG.swc\n",
      "H16-03-005-01-04-04_614429598_m.CNG.swc\n",
      "H16-06-007-01-05-03_571972079_m.CNG.swc\n",
      "H16-06-009-01-01-18-03_569861856_m.CNG.swc\n",
      "H16-06-010-01-03-04-01_566350716_m.CNG.swc\n",
      "H16-06-011-01-01-05-01_563181391_m.CNG.swc\n",
      "H17-03-002-11-06-04_604147043_m.CNG.swc\n",
      "H17-06-007-11-05-04_603515592_m.CNG.swc\n",
      "H17-06-007-11-06-01_605871878_m.CNG.swc\n",
      "H17-06-007-11-08-01_610882075_m.CNG.swc\n",
      "rat_20150131_LH2_cell3.swc\n",
      "rp190117_C_idC.swc\n",
      "rp190117_C_idD.swc\n"
     ]
    }
   ],
   "source": [
    "ls test_data/"
   ]
  },
  {
   "cell_type": "markdown",
   "id": "763645d4-8aea-4bda-883b-526e87669b49",
   "metadata": {},
   "source": [
    "## 1.7 Download 20 morphologies for each species\n",
    "\n",
    "For now we perform comparison of mouse / rat from Primary somatosensory area, due to lack of appropriate data in entitycore. \n",
    "This will change to mouse / human from temporal association areas."
   ]
  },
  {
   "cell_type": "markdown",
   "id": "0d8d8b89-aea3-48e7-933d-8ae0a08b8bff",
   "metadata": {},
   "source": [
    "**Mouse**"
   ]
  },
  {
   "cell_type": "code",
   "execution_count": 20,
   "id": "384081bb-643e-4431-a6d3-04a2981884d9",
   "metadata": {},
   "outputs": [],
   "source": [
    "iterator = client.search_entity(\n",
    "    entity_type=ReconstructionMorphology,\n",
    "    query={\"mtype__pref_label\": \"L23_PC\", \"species__name\":\"Mus musculus\", \"brain_region__name\":\"Temporal association areas\"},\n",
    "    limit=20,\n",
    ")"
   ]
  },
  {
   "cell_type": "code",
   "execution_count": 21,
   "id": "8b9200e8-317e-44aa-bd89-3a8f6709c609",
   "metadata": {},
   "outputs": [],
   "source": [
    "rm -r Mouse"
   ]
  },
  {
   "cell_type": "code",
   "execution_count": 22,
   "id": "d59cb9c6-8750-4855-8030-7f2be9d06d00",
   "metadata": {},
   "outputs": [],
   "source": [
    "mkdir Mouse"
   ]
  },
  {
   "cell_type": "code",
   "execution_count": 23,
   "id": "644e5a98-aa71-4b59-aef6-016b80c77170",
   "metadata": {},
   "outputs": [],
   "source": [
    "for morphology in iterator:\n",
    "    fetched = client.get_entity(\n",
    "        entity_id=morphology.id, entity_type=ReconstructionMorphology\n",
    "        )\n",
    "    for asset in fetched.assets:\n",
    "        if asset.content_type == \"application/swc\":\n",
    "            client.download_file(\n",
    "                entity_id=fetched.id,\n",
    "                entity_type=type(fetched),\n",
    "                asset_id=asset.id,\n",
    "                output_path=\"Mouse/\",\n",
    "            )\n",
    "            content = client.download_content(\n",
    "                entity_id=fetched.id, entity_type=type(fetched), asset_id=asset.id\n",
    "            )\n",
    "            break"
   ]
  },
  {
   "cell_type": "code",
   "execution_count": 24,
   "id": "14ef5917-ea2e-4191-a4b2-7dd8b4fb045c",
   "metadata": {},
   "outputs": [
    {
     "name": "stdout",
     "output_type": "stream",
     "text": [
      "337_180226S1C1N1_with_contour.swc   425_171204S1C1N2_with_contour.swc\n",
      "362_170512S2C1N2_with_contour.swc   441_M11_CORRECTED_thickness_corrected.swc\n",
      "364_M10_01_thickness_corrected.swc  445_M1_thickness_corrected.swc\n",
      "366_170512S2C1N1_with_contour.swc   455_171204S1C1N1_with_contour.swc\n",
      "375_171207S2C1N2_with_contour.swc   461_171205S1C1N1_with_contour.swc\n",
      "377_171207S2C1N1_with_contour.swc   470_171205S1C1N2_with_contour.swc\n",
      "387_180501S1C1N1_with_contour.swc   481_171205S1C1N3_with_contour.swc\n",
      "394_180508S1C1N1_with_contour.swc   490_M33_corrected_thickness_corrected.swc\n",
      "397_170512S2C1N3_with_contour.swc   493_M34rev_thickness_corrected.swc\n",
      "399_M29_thickness_corrected.swc     518_180228S1C1N1_with_contour.swc\n"
     ]
    }
   ],
   "source": [
    "ls Mouse"
   ]
  },
  {
   "cell_type": "markdown",
   "id": "651846e3-1827-4714-8600-c06f6074fc47",
   "metadata": {},
   "source": [
    "**Rat**"
   ]
  },
  {
   "cell_type": "code",
   "execution_count": 25,
   "id": "60b30d66-513f-41fa-a70d-e6c9f79728e7",
   "metadata": {},
   "outputs": [],
   "source": [
    "iterator = client.search_entity(\n",
    "    entity_type=ReconstructionMorphology,\n",
    "    query={\"mtype__pref_label\": \"L3_TPC:A\", \"species__name\":\"Rattus norvegicus\"},# \"brain_region__name\":\"Primary somatosensory area\"},\n",
    "    limit=20,\n",
    ")"
   ]
  },
  {
   "cell_type": "code",
   "execution_count": 26,
   "id": "c220a885-30d9-442a-a112-c400d5c803f6",
   "metadata": {},
   "outputs": [],
   "source": [
    "rm -r Rat"
   ]
  },
  {
   "cell_type": "code",
   "execution_count": 27,
   "id": "862fc983-0786-4a3e-8875-d69262bd817e",
   "metadata": {},
   "outputs": [],
   "source": [
    "mkdir Rat"
   ]
  },
  {
   "cell_type": "code",
   "execution_count": 28,
   "id": "26d1867a-0d18-417d-9e77-d48084e70bde",
   "metadata": {},
   "outputs": [],
   "source": [
    "for morphology in iterator:\n",
    "    fetched = client.get_entity(\n",
    "        entity_id=morphology.id, entity_type=ReconstructionMorphology\n",
    "        )\n",
    "    for asset in fetched.assets:\n",
    "        if asset.content_type == \"application/swc\":\n",
    "            client.download_file(\n",
    "                entity_id=fetched.id,\n",
    "                entity_type=type(fetched),\n",
    "                asset_id=asset.id,\n",
    "                output_path=\"Rat/\",\n",
    "            )\n",
    "            content = client.download_content(\n",
    "                entity_id=fetched.id, entity_type=type(fetched), asset_id=asset.id\n",
    "            )\n",
    "            break"
   ]
  },
  {
   "cell_type": "code",
   "execution_count": 29,
   "id": "519ab74c-aad7-468e-bd91-d845c648c004",
   "metadata": {},
   "outputs": [
    {
     "name": "stdout",
     "output_type": "stream",
     "text": [
      "C031000B-P3.swc  rat_20082013.swc               rp100426-2_idC.swc\n",
      "C170897A-P2.swc  rat_20141016_LH3_cell2.swc     rp120430_P-2_idC.swc\n",
      "C170897A-P3.swc  rat_20150120_LH1_cell3.swc     rp120510_P-2_idA.swc\n",
      "C180298A-P2.swc  rat_20150131_LH2_cell2.swc     sm110120c1-2_INT_idD.swc\n",
      "C190898A-P2.swc  rat_20150217_LH3_cell1.swc     sm110127b1-3_INT_idA.swc\n",
      "C240797B-P1.swc  rat_20150323_E1_LH4_cell1.swc  sm110131a1-3_INT_idA.swc\n",
      "C260897C-P4.swc  rat_20151211_E2_LH3_cell1.swc\n"
     ]
    }
   ],
   "source": [
    "ls Rat"
   ]
  },
  {
   "cell_type": "markdown",
   "id": "d23265cf-76b7-48cc-b7dc-3fe2e686cb2a",
   "metadata": {},
   "source": [
    "**Human**"
   ]
  },
  {
   "cell_type": "code",
   "execution_count": 30,
   "id": "ffe0a250-0d68-43b6-b480-fab65adc8876",
   "metadata": {},
   "outputs": [],
   "source": [
    "iterator = client.search_entity(\n",
    "    entity_type=ReconstructionMorphology,\n",
    "    query={\"contribution__pref_label\": \"Christiaan de Kock\", \"mtype__pref_label\": \"L23_PC\", \"species__name\":\"Homo sapiens\", \"brain_region__name\":\"Temporal association areas, layer 2/3\"},    \n",
    "    limit=20,\n",
    ")"
   ]
  },
  {
   "cell_type": "code",
   "execution_count": 31,
   "id": "42c13acf-ccdd-4484-a6e3-514bb0f2613f",
   "metadata": {},
   "outputs": [],
   "source": [
    "rm -r Human"
   ]
  },
  {
   "cell_type": "code",
   "execution_count": 32,
   "id": "b9502023-b5d9-4523-aac3-cf4a2c740545",
   "metadata": {},
   "outputs": [],
   "source": [
    "mkdir Human"
   ]
  },
  {
   "cell_type": "code",
   "execution_count": 33,
   "id": "9ae00441-a8ae-48e4-9a3d-49ec2423012c",
   "metadata": {},
   "outputs": [],
   "source": [
    "for morphology in iterator:\n",
    "    fetched = client.get_entity(\n",
    "        entity_id=morphology.id, entity_type=ReconstructionMorphology\n",
    "        )\n",
    "    for asset in fetched.assets:\n",
    "        if asset.content_type == \"application/swc\":\n",
    "            client.download_file(\n",
    "                entity_id=fetched.id,\n",
    "                entity_type=type(fetched),\n",
    "                asset_id=asset.id,\n",
    "                output_path=\"Human/\",\n",
    "            )\n",
    "            content = client.download_content(\n",
    "                entity_id=fetched.id, entity_type=type(fetched), asset_id=asset.id\n",
    "            )\n",
    "            break"
   ]
  },
  {
   "cell_type": "code",
   "execution_count": 34,
   "id": "9601b291-f472-4759-8952-f1967ba4c1e4",
   "metadata": {},
   "outputs": [
    {
     "name": "stdout",
     "output_type": "stream",
     "text": [
      "0522_H21.29.187.11.44.02.swc  0687_H21.29.187.11.46.02.swc\n",
      "0550_H13.059.tv.06.Cel09.swc  0712_H20.29.183.11.91.03.swc\n",
      "0560_SH_2018_02_07_S4.swc     0746_H19.29.161.11.81.swc\n",
      "0566_H21.29.187.11.41.01.swc  0748_H19.29.161.11.42.2.swc\n",
      "0576_H14.071.tv.03.Cel03.swc  0756_H20.29.183.11.91.02.swc\n",
      "0602_H13.058.tv.03.Cel03.swc  0777_H21.29.187.11.46.01.swc\n",
      "0618_H21.29.187.11.42.02.swc  0801_H20.29.174.11.42.06.swc\n",
      "0640_H19.29.161.11.42.4.swc   0856_H19.29.161.11.42.3.swc\n",
      "0654_H13.058.tv.06.Cel07.swc  0933_RW_20_03_18_S1.swc\n",
      "0669_H19.29.164.11.22.swc     0957_H13048TV06.swc\n"
     ]
    }
   ],
   "source": [
    "ls Human"
   ]
  }
 ],
 "metadata": {
  "kernelspec": {
   "display_name": "Python 3 (ipykernel)",
   "language": "python",
   "name": "python3"
  },
  "language_info": {
   "codemirror_mode": {
    "name": "ipython",
    "version": 3
   },
   "file_extension": ".py",
   "mimetype": "text/x-python",
   "name": "python",
   "nbconvert_exporter": "python",
   "pygments_lexer": "ipython3",
   "version": "3.12.6"
  }
 },
 "nbformat": 4,
 "nbformat_minor": 5
}
