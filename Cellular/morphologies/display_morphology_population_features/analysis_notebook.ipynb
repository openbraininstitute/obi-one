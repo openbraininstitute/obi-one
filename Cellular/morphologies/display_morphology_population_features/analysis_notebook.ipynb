{
 "cells": [
  {
   "cell_type": "markdown",
   "id": "5ae32a50",
   "metadata": {},
   "source": [
    "# Display morphology population features\n",
    "\n",
    "Copyright (c) 2025 Open Brain Institute\n",
    "\n",
    "Authors: Michael W. Reimann\n",
    "\n",
    "last modified: 08.2025\n",
    "\n",
    "## Summary\n",
    "This notebook analyzes a list of neuron morphology files. It extracts neurite or morphology features from them and displays the distribution of their values as a histogram. \n",
    "For details, see the [README](README.md)."
   ]
  },
  {
   "cell_type": "markdown",
   "id": "583c41ec",
   "metadata": {},
   "source": [
    "## Imports and setting up platform authentication\n",
    "\n",
    "Please follow the displayed instructions to authenticate."
   ]
  },
  {
   "cell_type": "code",
   "execution_count": null,
   "id": "66eae992",
   "metadata": {},
   "outputs": [],
   "source": [
    "from obi_auth import get_token\n",
    "from entitysdk.client import Client\n",
    "from entitysdk.models import ReconstructionMorphology\n",
    "import pandas as pd\n",
    "\n",
    "import neurom\n",
    "import os\n",
    "import tqdm\n",
    "\n",
    "from ipywidgets import widgets\n",
    "from neurom.check.runner import CheckRunner\n",
    "from matplotlib import pyplot as plt\n",
    "from obi_notebook import get_projects\n",
    "from obi_notebook import get_entities\n"
   ]
  },
  {
   "cell_type": "markdown",
   "id": "861db939",
   "metadata": {},
   "source": [
    "## Selection of morphologies and download\n",
    "\n",
    "Morphologies will be downloaded to `analysis_morphologies`, then loaded and analyzed\n",
    "\n",
    "#### Project selection\n",
    "As a first step we select one of the projects we have access to that the morphologies are associated with. If the morphologies of interest are part of the public OBI assets, any project can be selected."
   ]
  },
  {
   "cell_type": "code",
   "execution_count": null,
   "id": "be25319e",
   "metadata": {},
   "outputs": [],
   "source": [
    "token = get_token(environment=\"production\", auth_mode=\"daf\")\n",
    "project_context = get_projects.get_projects(token)"
   ]
  },
  {
   "cell_type": "markdown",
   "id": "d93bb49e",
   "metadata": {},
   "source": [
    "#### Morphology selection\n",
    "\n",
    "Next, we select the morphologies. If you already know the unique identifiers of the morphologies of interest, paste them below as a list (!) into line 4 of the next cell.\n",
    "\n",
    "Otherwise, a widget for morphology selection will be created that allows you to filter and select multipe morphologies."
   ]
  },
  {
   "cell_type": "code",
   "execution_count": null,
   "id": "2e406c0a",
   "metadata": {},
   "outputs": [],
   "source": [
    "client = Client(environment=\"production\", project_context=project_context, token_manager=token)\n",
    "\n",
    "# Optional: Download using unique ID\n",
    "entity_IDs = \"<MORPHOLOGY-IDs>\"  # <<< FILL IN A LIST OF UNIQUE MORPHOLOGY IDENTIFIERS HERE\n",
    "\n",
    "\n",
    "if entity_IDs != \"<MORPHOLOGY-IDs>\":\n",
    "    morph_ids = [entity_IDs]\n",
    "else:\n",
    "# Alternative: Select from a table of entities\n",
    "    morph_ids = []\n",
    "    morph_ids = get_entities.get_entities(\"reconstruction-morphology\", token, morph_ids,\n",
    "                                            project_context=project_context,\n",
    "                                            multi_select=True,\n",
    "                                            page_size=100)"
   ]
  },
  {
   "cell_type": "markdown",
   "id": "00220329",
   "metadata": {},
   "source": [
    "#### Selection of morphology file type\n",
    "\n",
    "Moprphologies can be stored in different file formats. While in principle conversion between the formats can be done with no (or minimal) loss, in some cases differences can still occur. Therefore, we have to explicitly select which of the available formats to use in the widget below.\n",
    "\n",
    "The numbers after the file format indicate how many of the selected neuron morphologies are available in each format. If a format is not available for a selected morphology, it will be skipped."
   ]
  },
  {
   "cell_type": "code",
   "execution_count": null,
   "id": "05f67386",
   "metadata": {},
   "outputs": [],
   "source": [
    "fetched = [client.get_entity(entity_id=morph_id_, entity_type=ReconstructionMorphology) for morph_id_ in morph_ids]\n",
    "\n",
    "asset_types = {}\n",
    "for fetched_ in fetched:\n",
    "    for asset in fetched_.assets:\n",
    "        tp_name = str(asset.content_type)\n",
    "        asset_types[tp_name] = asset_types.setdefault(tp_name, 0) + 1\n",
    "\n",
    "asset_type_str = [(f\"{k}: {v} / {len(fetched)}\", k) for k, v, in asset_types.items()]\n",
    "\n",
    "asset_type_sel = widgets.Dropdown(options=asset_type_str)\n",
    "display(asset_type_sel)"
   ]
  },
  {
   "cell_type": "markdown",
   "id": "0b72d909",
   "metadata": {},
   "source": [
    "#### Fetch morphologies\n",
    "The selected morphology files are copied to the local system and loaded."
   ]
  },
  {
   "cell_type": "code",
   "execution_count": null,
   "id": "61f77f62",
   "metadata": {},
   "outputs": [],
   "source": [
    "all_assets = [[asset for asset in fetched_.assets if str(asset.content_type)==asset_type_sel.value]\n",
    "              for fetched_ in fetched]\n",
    "\n",
    "morphologies_root = \"analysis_morphologies\"\n",
    "if not os.path.exists(morphologies_root):\n",
    "    os.makedirs(morphologies_root)\n",
    "\n",
    "nm_morphs = {}\n",
    "for asset_, morph_id_, fetched_ in tqdm.tqdm(list(zip(all_assets, morph_ids, fetched))):\n",
    "    if len(asset_) >= 1:\n",
    "        out_fn = client.download_file(\n",
    "            entity_id=morph_id_,\n",
    "            entity_type=ReconstructionMorphology,\n",
    "            asset_id=asset_[0],\n",
    "            output_path=morphologies_root,\n",
    "            project_context=project_context\n",
    "        )\n",
    "        nm_morphs.setdefault(\"_morphology\", []).append(neurom.load_morphology(out_fn))\n",
    "        nm_morphs.setdefault(\"Region\", []).append(fetched_.brain_region.acronym)\n",
    "        nm_morphs.setdefault(\"Morphology type\", []).append(fetched_.mtypes[0].pref_label)\n",
    "        nm_morphs.setdefault(\"Created by\", []).append(fetched_.created_by.pref_label)\n",
    "nm_morphs = pd.DataFrame(nm_morphs)\n"
   ]
  },
  {
   "cell_type": "markdown",
   "id": "39e8ba2d-7202-42dc-ba95-0326a8eae4b0",
   "metadata": {},
   "source": [
    "Helper functions for analysis and plotting"
   ]
  },
  {
   "cell_type": "code",
   "execution_count": null,
   "id": "9438de88-a0f9-4061-9b0d-29684cc86f60",
   "metadata": {},
   "outputs": [],
   "source": [
    "import pandas, numpy\n",
    "\n",
    "def lookup(tp_feature, str_feature):\n",
    "    def inner_func(obj, row, **kwargs):\n",
    "        vals = neurom.features.get(str_feature, obj)\n",
    "        if not hasattr(vals, \"__iter__\"):\n",
    "                vals = [vals]\n",
    "        ret = pandas.DataFrame({\"value\": vals})\n",
    "        for idx in row.index:\n",
    "            if not idx.startswith(\"_\"): ret[idx] = row[idx]\n",
    "        for k, v in kwargs.items(): ret[k] = v\n",
    "        return ret\n",
    "    \n",
    "    def func(row):\n",
    "        m = row[\"_morphology\"]\n",
    "        if tp_feature == 1:\n",
    "            return inner_func(m, row)\n",
    "        out = []\n",
    "        for _nrt in m.neurites:\n",
    "            out.append(inner_func(_nrt, row, neurite_type=str(_nrt.type)))\n",
    "        return pandas.concat(out, axis=0)\n",
    "    return func\n",
    "\n",
    "def histogram_series(data, **kwargs):\n",
    "    vals, bin_c = numpy.histogram(data, **kwargs)\n",
    "    return pandas.Series(vals, index=0.5 * (bin_c[:-1] + bin_c[1:]))"
   ]
  },
  {
   "cell_type": "markdown",
   "id": "6a9a5235-b610-432e-aef8-2aac8d899148",
   "metadata": {},
   "source": [
    "Select the morphology feature to display from the dropdown menu."
   ]
  },
  {
   "cell_type": "code",
   "execution_count": null,
   "id": "a99d5959-7ff4-4d98-a422-e80d28810ab0",
   "metadata": {},
   "outputs": [],
   "source": [
    "function = widgets.Dropdown(\n",
    "    options=\n",
    "    [(k, (0, k)) for k, v in neurom.features._NEURITE_FEATURES.items()] +\n",
    "    [(k, (1, k)) for k, v in neurom.features._MORPHOLOGY_FEATURES.items()], \n",
    "    description='Feature')\n",
    "display(function)"
   ]
  },
  {
   "cell_type": "markdown",
   "id": "74b8d71d-8059-412c-a47c-e5c0d541eb52",
   "metadata": {},
   "source": [
    "Select from the dropdown menus by which parameter to group the data (or \"None\" for no grouping).\n",
    "\n",
    "Select with the slider the number of bins to show."
   ]
  },
  {
   "cell_type": "code",
   "execution_count": null,
   "id": "a62f2804-06f3-48b1-aebb-8d74db7d7d72",
   "metadata": {},
   "outputs": [],
   "source": [
    "data_df = pandas.concat(nm_morphs.apply(lookup(*function.value), axis=1).values, axis=0)\n",
    "data_df[\"None\"] = \"None\"\n",
    "grouper = widgets.Dropdown(\n",
    "    options=[_col for _col in data_df.columns if _col != \"value\"],\n",
    "    description=\"Grouped by\"\n",
    ")\n",
    "nbins = widgets.IntSlider(10, 5, 100, 1)\n",
    "display(grouper)\n",
    "display(nbins)"
   ]
  },
  {
   "cell_type": "code",
   "execution_count": null,
   "id": "cae52db3-cb14-431f-9ae4-c6d5a63174b4",
   "metadata": {},
   "outputs": [],
   "source": [
    "span = data_df[\"value\"].max() - data_df[\"value\"].min()\n",
    "bins = numpy.linspace(data_df[\"value\"].min(), data_df[\"value\"].max() + 1E-9 * span, nbins.value + 1)\n",
    "w = numpy.mean(numpy.diff(bins)) * 0.8\n",
    "hist_df = data_df.groupby(grouper.value)[\"value\"].apply(histogram_series, bins=bins).unstack(grouper.value)\n",
    "\n",
    "fig = plt.figure(figsize=(6, 3))\n",
    "ax = fig.gca()\n",
    "ax.set_frame_on(False)\n",
    "\n",
    "bot = numpy.zeros(len(hist_df))\n",
    "for col in hist_df.columns:\n",
    "    ax.bar(hist_df.index, hist_df[col].values, bottom=bot, label=col, width=w)\n",
    "    bot += hist_df[col].values\n",
    "ax.set_xlabel(function.value[1])\n",
    "ax.set_ylabel(\"Count\")\n",
    "if len(hist_df.columns) < 10:\n",
    "    plt.legend()"
   ]
  }
 ],
 "metadata": {
  "kernelspec": {
   "display_name": "Python 3 (ipykernel)",
   "language": "python",
   "name": "python3"
  },
  "language_info": {
   "codemirror_mode": {
    "name": "ipython",
    "version": 3
   },
   "file_extension": ".py",
   "mimetype": "text/x-python",
   "name": "python",
   "nbconvert_exporter": "python",
   "pygments_lexer": "ipython3",
   "version": "3.13.1"
  }
 },
 "nbformat": 4,
 "nbformat_minor": 5
}
