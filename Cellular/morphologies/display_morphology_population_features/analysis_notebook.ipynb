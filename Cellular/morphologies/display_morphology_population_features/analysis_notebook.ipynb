{
 "cells": [
  {
   "cell_type": "markdown",
   "id": "5ae32a50",
   "metadata": {},
   "source": [
    "# Display morphology population features\n",
    "\n",
    "Copyright (c) 2025 Open Brain Institute\n",
    "\n",
    "Authors: Michael W. Reimann\n",
    "\n",
    "last modified: 01.2025\n",
    "\n",
    "## Summary\n",
    "This notebook analyzes a list of neuron morphology files. It extracts neurite or morphology features from them and displays the distribution of their values as a histogram. \n",
    "For details, see the [README](README.md)."
   ]
  },
  {
   "cell_type": "markdown",
   "id": "583c41ec",
   "metadata": {},
   "source": [
    "## Imports and setting up platform authentication\n",
    "\n",
    "Please follow the displayed instructions to authenticate."
   ]
  },
  {
   "cell_type": "code",
   "execution_count": null,
   "id": "66eae992",
   "metadata": {},
   "outputs": [],
   "source": [
    "from obi_auth import get_token\n",
    "from entitysdk.client import Client\n",
    "from entitysdk.models import ReconstructionMorphology\n",
    "import pandas as pd\n",
    "\n",
    "import neurom\n",
    "import os\n",
    "\n",
    "from ipywidgets import widgets\n",
    "from neurom.check.runner import CheckRunner\n",
    "from matplotlib import pyplot as plt\n",
    "\n",
    "token = get_token(environment=\"staging\", auth_mode=\"daf\")\n",
    "client = Client(environment=\"staging\", token_manager=token)"
   ]
  },
  {
   "cell_type": "markdown",
   "id": "effa198d",
   "metadata": {},
   "source": [
    "## Define functions for accessing the data\n",
    "Here, we define helper functions for downloading selected assets from the platform."
   ]
  },
  {
   "cell_type": "code",
   "execution_count": null,
   "id": "8bcff348",
   "metadata": {},
   "outputs": [],
   "source": [
    "def dataframe_from_entity_ids(entity_ids):\n",
    "    def pretty(m):\n",
    "        def pretty_value(v):\n",
    "            if isinstance(v, dict):\n",
    "                if 'name' in v:\n",
    "                    return v['name']\n",
    "            return v\n",
    "        ret = { p:pretty_value(v) for p,v in m.model_dump().items()}\n",
    "        ret[\"entity_type\"] = type(m)\n",
    "        return ret\n",
    "\n",
    "    entities = pd.DataFrame([\n",
    "        pretty(client.get_entity(entity_id=entity_id,\\\n",
    "                                entity_type=ReconstructionMorphology))\n",
    "        for entity_id in entity_ids\n",
    "    ])\n",
    "    return entities\n",
    "\n",
    "def get_matching_asset_types(df_in, match=\"all\"):\n",
    "    assert len(df_in) >= 1, \"At least one entity required!\"\n",
    "    per_entity_all_types = df_in[\"assets\"].apply(lambda _x: {__x[\"content_type\"] for __x in _x})\n",
    "    extensions = per_entity_all_types.iloc[0]\n",
    "    for row in per_entity_all_types.iloc[1:]:\n",
    "        if match == \"all\":\n",
    "            extensions = extensions.intersection(row)\n",
    "        elif match == \"any\":\n",
    "            extensions.update(row)\n",
    "        else:\n",
    "            raise ValueError(f\"Unknown value for {match}\")\n",
    "    if \"application/h5\" in extensions:\n",
    "        extensions.remove(\"application/h5\")\n",
    "    return list(extensions)\n",
    "\n",
    "def filter_to_asset_type(df_in, target_type):\n",
    "    def per_row(row):\n",
    "        matches = [\n",
    "            _asset for _asset in row[\"assets\"]\n",
    "            if _asset[\"content_type\"] == target_type\n",
    "            ]\n",
    "        if len(matches) == 0:\n",
    "            return pd.Series({\"has_asset\": False,\n",
    "                              \"load_asset_id\": -1,\n",
    "                              \"load_asset_extension\": os.path.split(target_type)[1]})\n",
    "        return pd.Series({\"has_asset\": True,\n",
    "                              \"load_asset_id\": matches[0][\"id\"],\n",
    "                              \"load_asset_extension\": os.path.split(target_type)[1]})\n",
    "    df_in = pd.concat([df_in, df_in.apply(per_row, axis=1)], axis=1)\n",
    "    return df_in.loc[df_in[\"has_asset\"]]\n",
    "\n",
    "def load_morphology_assets_from_df(df_in, client):\n",
    "    def per_row(row):\n",
    "        m = neurom.load_morphology(\n",
    "            client.download_content(\n",
    "                entity_id=row[\"id\"],\n",
    "                entity_type=row[\"entity_type\"],\n",
    "                asset_id=row[\"load_asset_id\"]\n",
    "            ).decode(\"UTF-8\"),\n",
    "            reader=row[\"load_asset_extension\"]\n",
    "        )\n",
    "        return m\n",
    "    df_in[\"_morphology\"] = df_in.apply(per_row, axis=1)\n",
    "    return df_in\n",
    "\n",
    "def to_pref_label(row):\n",
    "    out = row.copy()\n",
    "    for idx in out.index:\n",
    "        entry = out[idx]\n",
    "        if isinstance(entry, list):\n",
    "            if len(entry) > 0:\n",
    "                entry = entry[0]\n",
    "        if isinstance(entry, dict):\n",
    "            out[idx] = entry.get(\"pref_label\", \"None\")\n",
    "        elif not idx.startswith(\"_\"):\n",
    "            out[idx] = str(out[idx])\n",
    "    return out\n"
   ]
  },
  {
   "cell_type": "markdown",
   "id": "9cf3cd29",
   "metadata": {},
   "source": [
    "## Select entities to analyze\n",
    "\n",
    "Here, we define which morphology entities to load and analyze.\n",
    "\n",
    "Please fill in the unique IDs of the selected entities into the empty list below!"
   ]
  },
  {
   "cell_type": "code",
   "execution_count": null,
   "id": "6970e686",
   "metadata": {},
   "outputs": [],
   "source": [
    "entity_ids = [\n",
    "    # FILL IN THE IDs OF THE SELECTED MORPHOLOGY ENTITIES HERE!\n",
    "]\n",
    "if len(entity_ids) == 0: # For demonstration purposes: Take 10 random ones:\n",
    "    for _item in client.search_entity(entity_type=ReconstructionMorphology):\n",
    "        entity_ids.append(_item.id)\n",
    "        if len(entity_ids) >= 10: break\n",
    "\n",
    "entities = dataframe_from_entity_ids(entity_ids)"
   ]
  },
  {
   "cell_type": "markdown",
   "id": "21113652",
   "metadata": {},
   "source": [
    "Next, we access the data and load it into the DataFrame"
   ]
  },
  {
   "cell_type": "code",
   "execution_count": null,
   "id": "7c80f923-a55c-42ca-a1cd-5959116429da",
   "metadata": {},
   "outputs": [],
   "source": [
    "contents = load_morphology_assets_from_df(filter_to_asset_type(entities, 'application/asc'), client)\n",
    "contents = contents.apply(to_pref_label, axis=1)\n",
    "\n",
    "display(contents.head())"
   ]
  },
  {
   "cell_type": "markdown",
   "id": "39e8ba2d-7202-42dc-ba95-0326a8eae4b0",
   "metadata": {},
   "source": [
    "Helper functions for plotting"
   ]
  },
  {
   "cell_type": "code",
   "execution_count": null,
   "id": "9438de88-a0f9-4061-9b0d-29684cc86f60",
   "metadata": {},
   "outputs": [],
   "source": [
    "import pandas, numpy\n",
    "\n",
    "def lookup(tp_feature, str_feature):\n",
    "    def inner_func(obj, row, **kwargs):\n",
    "        vals = neurom.features.get(str_feature, obj)\n",
    "        if not hasattr(vals, \"__iter__\"):\n",
    "                vals = [vals]\n",
    "        ret = pandas.DataFrame({\"value\": vals})\n",
    "        for idx in row.index:\n",
    "            if not idx.startswith(\"_\"): ret[idx] = row[idx]\n",
    "        for k, v in kwargs.items(): ret[k] = v\n",
    "        return ret\n",
    "    \n",
    "    def func(row):\n",
    "        m = row[\"_morphology\"]\n",
    "        if tp_feature == 1:\n",
    "            return inner_func(m, row)\n",
    "        out = []\n",
    "        for _nrt in m.neurites:\n",
    "            out.append(inner_func(_nrt, row, neurite_type=str(_nrt.type)))\n",
    "        return pandas.concat(out, axis=0)\n",
    "    return func\n",
    "\n",
    "def histogram_series(data, **kwargs):\n",
    "    vals, bin_c = numpy.histogram(data, **kwargs)\n",
    "    return pandas.Series(vals, index=0.5 * (bin_c[:-1] + bin_c[1:]))"
   ]
  },
  {
   "cell_type": "markdown",
   "id": "6a9a5235-b610-432e-aef8-2aac8d899148",
   "metadata": {},
   "source": [
    "Select the morphology feature to display from the dropdown menu."
   ]
  },
  {
   "cell_type": "code",
   "execution_count": null,
   "id": "a99d5959-7ff4-4d98-a422-e80d28810ab0",
   "metadata": {},
   "outputs": [],
   "source": [
    "function = widgets.Dropdown(\n",
    "    options=\n",
    "    [(k, (0, k)) for k, v in neurom.features._NEURITE_FEATURES.items()] +\n",
    "    [(k, (1, k)) for k, v in neurom.features._MORPHOLOGY_FEATURES.items()], \n",
    "    description='Feature')\n",
    "display(function)"
   ]
  },
  {
   "cell_type": "markdown",
   "id": "74b8d71d-8059-412c-a47c-e5c0d541eb52",
   "metadata": {},
   "source": [
    "Select from the dropdown menus by which parameter to group the data (or \"None\" for no grouping).\n",
    "\n",
    "Select with the slider the number of bins to show."
   ]
  },
  {
   "cell_type": "code",
   "execution_count": null,
   "id": "a62f2804-06f3-48b1-aebb-8d74db7d7d72",
   "metadata": {},
   "outputs": [],
   "source": [
    "data_df = pandas.concat(contents.apply(lookup(*function.value), axis=1).values, axis=0)\n",
    "data_df[\"None\"] = \"None\"\n",
    "grouper = widgets.Dropdown(\n",
    "    options=[_col for _col in data_df.columns if _col != \"value\"],\n",
    "    description=\"Grouped by\"\n",
    ")\n",
    "nbins = widgets.IntSlider(10, 5, 100, 1)\n",
    "display(grouper)\n",
    "display(nbins)"
   ]
  },
  {
   "cell_type": "code",
   "execution_count": null,
   "id": "cae52db3-cb14-431f-9ae4-c6d5a63174b4",
   "metadata": {},
   "outputs": [],
   "source": [
    "span = data_df[\"value\"].max() - data_df[\"value\"].min()\n",
    "bins = numpy.linspace(data_df[\"value\"].min(), data_df[\"value\"].max() + 1E-9 * span, nbins.value + 1)\n",
    "w = numpy.mean(numpy.diff(bins)) * 0.8\n",
    "hist_df = data_df.groupby(grouper.value)[\"value\"].apply(histogram_series, bins=bins).unstack(grouper.value)\n",
    "\n",
    "fig = plt.figure(figsize=(6, 3))\n",
    "ax = fig.gca()\n",
    "ax.set_frame_on(False)\n",
    "\n",
    "bot = numpy.zeros(len(hist_df))\n",
    "for col in hist_df.columns:\n",
    "    ax.bar(hist_df.index, hist_df[col].values, bottom=bot, label=col, width=w)\n",
    "    bot += hist_df[col].values\n",
    "ax.set_xlabel(function.value[1])\n",
    "ax.set_ylabel(\"Count\")\n",
    "if len(hist_df.columns) < 10:\n",
    "    plt.legend()"
   ]
  }
 ],
 "metadata": {
  "kernelspec": {
   "display_name": "display_morphology_population_features",
   "language": "python",
   "name": "python3"
  },
  "language_info": {
   "codemirror_mode": {
    "name": "ipython",
    "version": 3
   },
   "file_extension": ".py",
   "mimetype": "text/x-python",
   "name": "python",
   "nbconvert_exporter": "python",
   "pygments_lexer": "ipython3",
   "version": "3.13.1"
  }
 },
 "nbformat": 4,
 "nbformat_minor": 5
}
