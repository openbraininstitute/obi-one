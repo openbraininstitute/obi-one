{
 "cells": [
  {
   "cell_type": "markdown",
   "id": "8f5ad626-90bc-4022-83d8-ccf526c64cf9",
   "metadata": {},
   "source": [
    "# Morphology Module: Part 1 for CNS tutorial\n",
    "----\n",
    "\n",
    "*Load morphologies that were downloaded, analyze them, and compare species.*\n",
    "\n",
    "For the first part of the tutorial, the user needs to create a *virtual lab* and save the URL of the lab. This will be used to authenticate the access of the user and allow access to the data. Once authentication is verified, the user will be able to access the data and search through it. We will select data by their species. We will download 20 mouse morphologies, 20 rat morphologies and 20 human morphologies from the temporal cortex. We save these neurons locally in different folders. "
   ]
  },
  {
   "cell_type": "markdown",
   "id": "84f01d26-2793-41bb-8740-90762ecf4437",
   "metadata": {
    "jp-MarkdownHeadingCollapsed": true
   },
   "source": [
    "## 1.1 Authentication process"
   ]
  },
  {
   "cell_type": "code",
   "execution_count": 1,
   "id": "a2e251ed-6ca9-41e1-b1f6-ec6fe25cbcb1",
   "metadata": {},
   "outputs": [
    {
     "name": "stdout",
     "output_type": "stream",
     "text": [
      "Please open url in a different tab:  https://www.openbraininstitute.org/auth/realms/SBO/device?user_code=UVBE-SYAS\n"
     ]
    }
   ],
   "source": [
    "from obi_auth import get_token\n",
    "\n",
    "access_token = get_token(environment=\"production\", auth_mode=\"daf\")"
   ]
  },
  {
   "cell_type": "code",
   "execution_count": 2,
   "id": "1b091eee-cf73-46bb-94ca-3012c8dcad64",
   "metadata": {},
   "outputs": [],
   "source": [
    "from uuid import UUID\n",
    "from entitysdk.client import Client\n",
    "from entitysdk.common import ProjectContext\n",
    "from entitysdk.models import (\n",
    "    BrainLocation,\n",
    "    BrainRegion,\n",
    "    ReconstructionMorphology,\n",
    "    Species,\n",
    "    Strain,\n",
    "    MTypeClass,\n",
    ")\n",
    "\n",
    "from rich import print as rprint"
   ]
  },
  {
   "cell_type": "code",
   "execution_count": 3,
   "id": "a7e8e370-7459-4d27-b16d-62fca0dc9efa",
   "metadata": {},
   "outputs": [],
   "source": [
    "# Initialize client - Save the link from your lab / project in URL variable\n",
    "\n",
    "URL = \"https://www.openbraininstitute.org/app/virtual-lab/lab/8c68ff80-c3b2-40d1-8112-0074a4de6150/project/7b622b68-c655-4b7b-8529-381197ad6ff6/home\"\n",
    "\n",
    "client = Client(project_context=ProjectContext.from_vlab_url(URL),\n",
    "    environment=\"production\", token_manager=access_token\n",
    ")"
   ]
  },
  {
   "cell_type": "markdown",
   "id": "5f044e73-c039-464e-8dbd-c54116a351f3",
   "metadata": {
    "jp-MarkdownHeadingCollapsed": true
   },
   "source": [
    "## 1.2 Explore all species, brain regions and mtypes\n",
    "\n",
    "Here we will explore the available data in the database to identify species and regions of interest. "
   ]
  },
  {
   "cell_type": "markdown",
   "id": "7ae438ac-97a5-46a9-bda2-418d88542b7f",
   "metadata": {},
   "source": [
    "**Species**"
   ]
  },
  {
   "cell_type": "code",
   "execution_count": 4,
   "id": "9bba707d-bb76-4d12-8aa4-95dc44cea5bc",
   "metadata": {
    "scrolled": true
   },
   "outputs": [
    {
     "data": {
      "text/html": [
       "<pre style=\"white-space:pre;overflow-x:auto;line-height:normal;font-family:Menlo,'DejaVu Sans Mono',consolas,'Courier New',monospace\"><span style=\"font-weight: bold\">[</span>\n",
       "    <span style=\"color: #800080; text-decoration-color: #800080; font-weight: bold\">Species</span><span style=\"font-weight: bold\">(</span>\n",
       "        <span style=\"color: #808000; text-decoration-color: #808000\">id</span>=<span style=\"color: #800080; text-decoration-color: #800080; font-weight: bold\">UUID</span><span style=\"font-weight: bold\">(</span><span style=\"color: #008000; text-decoration-color: #008000\">'d322a735-3ead-4efe-840e-2b4fda9c025a'</span><span style=\"font-weight: bold\">)</span>,\n",
       "        <span style=\"color: #808000; text-decoration-color: #808000\">update_date</span>=<span style=\"color: #800080; text-decoration-color: #800080; font-weight: bold\">datetime</span><span style=\"color: #800080; text-decoration-color: #800080; font-weight: bold\">.datetime</span><span style=\"font-weight: bold\">(</span><span style=\"color: #008080; text-decoration-color: #008080; font-weight: bold\">2025</span>, <span style=\"color: #008080; text-decoration-color: #008080; font-weight: bold\">6</span>, <span style=\"color: #008080; text-decoration-color: #008080; font-weight: bold\">27</span>, <span style=\"color: #008080; text-decoration-color: #008080; font-weight: bold\">11</span>, <span style=\"color: #008080; text-decoration-color: #008080; font-weight: bold\">10</span>, <span style=\"color: #008080; text-decoration-color: #008080; font-weight: bold\">28</span>, <span style=\"color: #008080; text-decoration-color: #008080; font-weight: bold\">715312</span>, <span style=\"color: #808000; text-decoration-color: #808000\">tzinfo</span>=<span style=\"color: #800080; text-decoration-color: #800080; font-weight: bold\">TzInfo</span><span style=\"font-weight: bold\">(</span>UTC<span style=\"font-weight: bold\">))</span>,\n",
       "        <span style=\"color: #808000; text-decoration-color: #808000\">creation_date</span>=<span style=\"color: #800080; text-decoration-color: #800080; font-weight: bold\">datetime</span><span style=\"color: #800080; text-decoration-color: #800080; font-weight: bold\">.datetime</span><span style=\"font-weight: bold\">(</span><span style=\"color: #008080; text-decoration-color: #008080; font-weight: bold\">2025</span>, <span style=\"color: #008080; text-decoration-color: #008080; font-weight: bold\">6</span>, <span style=\"color: #008080; text-decoration-color: #008080; font-weight: bold\">27</span>, <span style=\"color: #008080; text-decoration-color: #008080; font-weight: bold\">11</span>, <span style=\"color: #008080; text-decoration-color: #008080; font-weight: bold\">10</span>, <span style=\"color: #008080; text-decoration-color: #008080; font-weight: bold\">28</span>, <span style=\"color: #008080; text-decoration-color: #008080; font-weight: bold\">715311</span>, <span style=\"color: #808000; text-decoration-color: #808000\">tzinfo</span>=<span style=\"color: #800080; text-decoration-color: #800080; font-weight: bold\">TzInfo</span><span style=\"font-weight: bold\">(</span>UTC<span style=\"font-weight: bold\">))</span>,\n",
       "        <span style=\"color: #808000; text-decoration-color: #808000\">name</span>=<span style=\"color: #008000; text-decoration-color: #008000\">'Aquarana catesbeiana'</span>,\n",
       "        <span style=\"color: #808000; text-decoration-color: #808000\">taxonomy_id</span>=<span style=\"color: #008000; text-decoration-color: #008000\">'NCBITaxon:8400'</span>\n",
       "    <span style=\"font-weight: bold\">)</span>,\n",
       "    <span style=\"color: #800080; text-decoration-color: #800080; font-weight: bold\">Species</span><span style=\"font-weight: bold\">(</span>\n",
       "        <span style=\"color: #808000; text-decoration-color: #808000\">id</span>=<span style=\"color: #800080; text-decoration-color: #800080; font-weight: bold\">UUID</span><span style=\"font-weight: bold\">(</span><span style=\"color: #008000; text-decoration-color: #008000\">'9779ac1f-45e9-4d32-8c85-5fdfa7251af0'</span><span style=\"font-weight: bold\">)</span>,\n",
       "        <span style=\"color: #808000; text-decoration-color: #808000\">update_date</span>=<span style=\"color: #800080; text-decoration-color: #800080; font-weight: bold\">datetime</span><span style=\"color: #800080; text-decoration-color: #800080; font-weight: bold\">.datetime</span><span style=\"font-weight: bold\">(</span><span style=\"color: #008080; text-decoration-color: #008080; font-weight: bold\">2025</span>, <span style=\"color: #008080; text-decoration-color: #008080; font-weight: bold\">6</span>, <span style=\"color: #008080; text-decoration-color: #008080; font-weight: bold\">27</span>, <span style=\"color: #008080; text-decoration-color: #008080; font-weight: bold\">11</span>, <span style=\"color: #008080; text-decoration-color: #008080; font-weight: bold\">10</span>, <span style=\"color: #008080; text-decoration-color: #008080; font-weight: bold\">28</span>, <span style=\"color: #008080; text-decoration-color: #008080; font-weight: bold\">715308</span>, <span style=\"color: #808000; text-decoration-color: #808000\">tzinfo</span>=<span style=\"color: #800080; text-decoration-color: #800080; font-weight: bold\">TzInfo</span><span style=\"font-weight: bold\">(</span>UTC<span style=\"font-weight: bold\">))</span>,\n",
       "        <span style=\"color: #808000; text-decoration-color: #808000\">creation_date</span>=<span style=\"color: #800080; text-decoration-color: #800080; font-weight: bold\">datetime</span><span style=\"color: #800080; text-decoration-color: #800080; font-weight: bold\">.datetime</span><span style=\"font-weight: bold\">(</span><span style=\"color: #008080; text-decoration-color: #008080; font-weight: bold\">2025</span>, <span style=\"color: #008080; text-decoration-color: #008080; font-weight: bold\">6</span>, <span style=\"color: #008080; text-decoration-color: #008080; font-weight: bold\">27</span>, <span style=\"color: #008080; text-decoration-color: #008080; font-weight: bold\">11</span>, <span style=\"color: #008080; text-decoration-color: #008080; font-weight: bold\">10</span>, <span style=\"color: #008080; text-decoration-color: #008080; font-weight: bold\">28</span>, <span style=\"color: #008080; text-decoration-color: #008080; font-weight: bold\">715307</span>, <span style=\"color: #808000; text-decoration-color: #808000\">tzinfo</span>=<span style=\"color: #800080; text-decoration-color: #800080; font-weight: bold\">TzInfo</span><span style=\"font-weight: bold\">(</span>UTC<span style=\"font-weight: bold\">))</span>,\n",
       "        <span style=\"color: #808000; text-decoration-color: #808000\">name</span>=<span style=\"color: #008000; text-decoration-color: #008000\">'Cricetulus griseus'</span>,\n",
       "        <span style=\"color: #808000; text-decoration-color: #808000\">taxonomy_id</span>=<span style=\"color: #008000; text-decoration-color: #008000\">'NCBITaxon:10029'</span>\n",
       "    <span style=\"font-weight: bold\">)</span>,\n",
       "    <span style=\"color: #800080; text-decoration-color: #800080; font-weight: bold\">Species</span><span style=\"font-weight: bold\">(</span>\n",
       "        <span style=\"color: #808000; text-decoration-color: #808000\">id</span>=<span style=\"color: #800080; text-decoration-color: #800080; font-weight: bold\">UUID</span><span style=\"font-weight: bold\">(</span><span style=\"color: #008000; text-decoration-color: #008000\">'ea748db9-e020-407a-aeb6-db2c3a038a70'</span><span style=\"font-weight: bold\">)</span>,\n",
       "        <span style=\"color: #808000; text-decoration-color: #808000\">update_date</span>=<span style=\"color: #800080; text-decoration-color: #800080; font-weight: bold\">datetime</span><span style=\"color: #800080; text-decoration-color: #800080; font-weight: bold\">.datetime</span><span style=\"font-weight: bold\">(</span><span style=\"color: #008080; text-decoration-color: #008080; font-weight: bold\">2025</span>, <span style=\"color: #008080; text-decoration-color: #008080; font-weight: bold\">6</span>, <span style=\"color: #008080; text-decoration-color: #008080; font-weight: bold\">27</span>, <span style=\"color: #008080; text-decoration-color: #008080; font-weight: bold\">11</span>, <span style=\"color: #008080; text-decoration-color: #008080; font-weight: bold\">10</span>, <span style=\"color: #008080; text-decoration-color: #008080; font-weight: bold\">28</span>, <span style=\"color: #008080; text-decoration-color: #008080; font-weight: bold\">715309</span>, <span style=\"color: #808000; text-decoration-color: #808000\">tzinfo</span>=<span style=\"color: #800080; text-decoration-color: #800080; font-weight: bold\">TzInfo</span><span style=\"font-weight: bold\">(</span>UTC<span style=\"font-weight: bold\">))</span>,\n",
       "        <span style=\"color: #808000; text-decoration-color: #808000\">creation_date</span>=<span style=\"color: #800080; text-decoration-color: #800080; font-weight: bold\">datetime</span><span style=\"color: #800080; text-decoration-color: #800080; font-weight: bold\">.datetime</span><span style=\"font-weight: bold\">(</span><span style=\"color: #008080; text-decoration-color: #008080; font-weight: bold\">2025</span>, <span style=\"color: #008080; text-decoration-color: #008080; font-weight: bold\">6</span>, <span style=\"color: #008080; text-decoration-color: #008080; font-weight: bold\">27</span>, <span style=\"color: #008080; text-decoration-color: #008080; font-weight: bold\">11</span>, <span style=\"color: #008080; text-decoration-color: #008080; font-weight: bold\">10</span>, <span style=\"color: #008080; text-decoration-color: #008080; font-weight: bold\">28</span>, <span style=\"color: #008080; text-decoration-color: #008080; font-weight: bold\">715308</span>, <span style=\"color: #808000; text-decoration-color: #808000\">tzinfo</span>=<span style=\"color: #800080; text-decoration-color: #800080; font-weight: bold\">TzInfo</span><span style=\"font-weight: bold\">(</span>UTC<span style=\"font-weight: bold\">))</span>,\n",
       "        <span style=\"color: #808000; text-decoration-color: #808000\">name</span>=<span style=\"color: #008000; text-decoration-color: #008000\">'Felis catus'</span>,\n",
       "        <span style=\"color: #808000; text-decoration-color: #808000\">taxonomy_id</span>=<span style=\"color: #008000; text-decoration-color: #008000\">'NCBITaxon:9685'</span>\n",
       "    <span style=\"font-weight: bold\">)</span>,\n",
       "    <span style=\"color: #800080; text-decoration-color: #800080; font-weight: bold\">Species</span><span style=\"font-weight: bold\">(</span>\n",
       "        <span style=\"color: #808000; text-decoration-color: #808000\">id</span>=<span style=\"color: #800080; text-decoration-color: #800080; font-weight: bold\">UUID</span><span style=\"font-weight: bold\">(</span><span style=\"color: #008000; text-decoration-color: #008000\">'ff3fe32a-30ff-44ee-90a7-bd04e85bfcdd'</span><span style=\"font-weight: bold\">)</span>,\n",
       "        <span style=\"color: #808000; text-decoration-color: #808000\">update_date</span>=<span style=\"color: #800080; text-decoration-color: #800080; font-weight: bold\">datetime</span><span style=\"color: #800080; text-decoration-color: #800080; font-weight: bold\">.datetime</span><span style=\"font-weight: bold\">(</span><span style=\"color: #008080; text-decoration-color: #008080; font-weight: bold\">2025</span>, <span style=\"color: #008080; text-decoration-color: #008080; font-weight: bold\">6</span>, <span style=\"color: #008080; text-decoration-color: #008080; font-weight: bold\">27</span>, <span style=\"color: #008080; text-decoration-color: #008080; font-weight: bold\">11</span>, <span style=\"color: #008080; text-decoration-color: #008080; font-weight: bold\">10</span>, <span style=\"color: #008080; text-decoration-color: #008080; font-weight: bold\">28</span>, <span style=\"color: #008080; text-decoration-color: #008080; font-weight: bold\">715305</span>, <span style=\"color: #808000; text-decoration-color: #808000\">tzinfo</span>=<span style=\"color: #800080; text-decoration-color: #800080; font-weight: bold\">TzInfo</span><span style=\"font-weight: bold\">(</span>UTC<span style=\"font-weight: bold\">))</span>,\n",
       "        <span style=\"color: #808000; text-decoration-color: #808000\">creation_date</span>=<span style=\"color: #800080; text-decoration-color: #800080; font-weight: bold\">datetime</span><span style=\"color: #800080; text-decoration-color: #800080; font-weight: bold\">.datetime</span><span style=\"font-weight: bold\">(</span><span style=\"color: #008080; text-decoration-color: #008080; font-weight: bold\">2025</span>, <span style=\"color: #008080; text-decoration-color: #008080; font-weight: bold\">6</span>, <span style=\"color: #008080; text-decoration-color: #008080; font-weight: bold\">27</span>, <span style=\"color: #008080; text-decoration-color: #008080; font-weight: bold\">11</span>, <span style=\"color: #008080; text-decoration-color: #008080; font-weight: bold\">10</span>, <span style=\"color: #008080; text-decoration-color: #008080; font-weight: bold\">28</span>, <span style=\"color: #008080; text-decoration-color: #008080; font-weight: bold\">715304</span>, <span style=\"color: #808000; text-decoration-color: #808000\">tzinfo</span>=<span style=\"color: #800080; text-decoration-color: #800080; font-weight: bold\">TzInfo</span><span style=\"font-weight: bold\">(</span>UTC<span style=\"font-weight: bold\">))</span>,\n",
       "        <span style=\"color: #808000; text-decoration-color: #808000\">name</span>=<span style=\"color: #008000; text-decoration-color: #008000\">'Homo sapiens'</span>,\n",
       "        <span style=\"color: #808000; text-decoration-color: #808000\">taxonomy_id</span>=<span style=\"color: #008000; text-decoration-color: #008000\">'NCBITaxon:9606'</span>\n",
       "    <span style=\"font-weight: bold\">)</span>,\n",
       "    <span style=\"color: #800080; text-decoration-color: #800080; font-weight: bold\">Species</span><span style=\"font-weight: bold\">(</span>\n",
       "        <span style=\"color: #808000; text-decoration-color: #808000\">id</span>=<span style=\"color: #800080; text-decoration-color: #800080; font-weight: bold\">UUID</span><span style=\"font-weight: bold\">(</span><span style=\"color: #008000; text-decoration-color: #008000\">'0f756132-e16d-4e72-b18e-859835e1f291'</span><span style=\"font-weight: bold\">)</span>,\n",
       "        <span style=\"color: #808000; text-decoration-color: #808000\">update_date</span>=<span style=\"color: #800080; text-decoration-color: #800080; font-weight: bold\">datetime</span><span style=\"color: #800080; text-decoration-color: #800080; font-weight: bold\">.datetime</span><span style=\"font-weight: bold\">(</span><span style=\"color: #008080; text-decoration-color: #008080; font-weight: bold\">2025</span>, <span style=\"color: #008080; text-decoration-color: #008080; font-weight: bold\">6</span>, <span style=\"color: #008080; text-decoration-color: #008080; font-weight: bold\">27</span>, <span style=\"color: #008080; text-decoration-color: #008080; font-weight: bold\">11</span>, <span style=\"color: #008080; text-decoration-color: #008080; font-weight: bold\">10</span>, <span style=\"color: #008080; text-decoration-color: #008080; font-weight: bold\">28</span>, <span style=\"color: #008080; text-decoration-color: #008080; font-weight: bold\">715313</span>, <span style=\"color: #808000; text-decoration-color: #808000\">tzinfo</span>=<span style=\"color: #800080; text-decoration-color: #800080; font-weight: bold\">TzInfo</span><span style=\"font-weight: bold\">(</span>UTC<span style=\"font-weight: bold\">))</span>,\n",
       "        <span style=\"color: #808000; text-decoration-color: #808000\">creation_date</span>=<span style=\"color: #800080; text-decoration-color: #800080; font-weight: bold\">datetime</span><span style=\"color: #800080; text-decoration-color: #800080; font-weight: bold\">.datetime</span><span style=\"font-weight: bold\">(</span><span style=\"color: #008080; text-decoration-color: #008080; font-weight: bold\">2025</span>, <span style=\"color: #008080; text-decoration-color: #008080; font-weight: bold\">6</span>, <span style=\"color: #008080; text-decoration-color: #008080; font-weight: bold\">27</span>, <span style=\"color: #008080; text-decoration-color: #008080; font-weight: bold\">11</span>, <span style=\"color: #008080; text-decoration-color: #008080; font-weight: bold\">10</span>, <span style=\"color: #008080; text-decoration-color: #008080; font-weight: bold\">28</span>, <span style=\"color: #008080; text-decoration-color: #008080; font-weight: bold\">715312</span>, <span style=\"color: #808000; text-decoration-color: #808000\">tzinfo</span>=<span style=\"color: #800080; text-decoration-color: #800080; font-weight: bold\">TzInfo</span><span style=\"font-weight: bold\">(</span>UTC<span style=\"font-weight: bold\">))</span>,\n",
       "        <span style=\"color: #808000; text-decoration-color: #808000\">name</span>=<span style=\"color: #008000; text-decoration-color: #008000\">'Hybrid human-mouse'</span>,\n",
       "        <span style=\"color: #808000; text-decoration-color: #808000\">taxonomy_id</span>=<span style=\"color: #008000; text-decoration-color: #008000\">'NA'</span>\n",
       "    <span style=\"font-weight: bold\">)</span>,\n",
       "    <span style=\"color: #800080; text-decoration-color: #800080; font-weight: bold\">Species</span><span style=\"font-weight: bold\">(</span>\n",
       "        <span style=\"color: #808000; text-decoration-color: #808000\">id</span>=<span style=\"color: #800080; text-decoration-color: #800080; font-weight: bold\">UUID</span><span style=\"font-weight: bold\">(</span><span style=\"color: #008000; text-decoration-color: #008000\">'22f1a831-85b9-4f5f-811e-60de1b343f52'</span><span style=\"font-weight: bold\">)</span>,\n",
       "        <span style=\"color: #808000; text-decoration-color: #808000\">update_date</span>=<span style=\"color: #800080; text-decoration-color: #800080; font-weight: bold\">datetime</span><span style=\"color: #800080; text-decoration-color: #800080; font-weight: bold\">.datetime</span><span style=\"font-weight: bold\">(</span><span style=\"color: #008080; text-decoration-color: #008080; font-weight: bold\">2025</span>, <span style=\"color: #008080; text-decoration-color: #008080; font-weight: bold\">6</span>, <span style=\"color: #008080; text-decoration-color: #008080; font-weight: bold\">27</span>, <span style=\"color: #008080; text-decoration-color: #008080; font-weight: bold\">11</span>, <span style=\"color: #008080; text-decoration-color: #008080; font-weight: bold\">10</span>, <span style=\"color: #008080; text-decoration-color: #008080; font-weight: bold\">28</span>, <span style=\"color: #008080; text-decoration-color: #008080; font-weight: bold\">715310</span>, <span style=\"color: #808000; text-decoration-color: #808000\">tzinfo</span>=<span style=\"color: #800080; text-decoration-color: #800080; font-weight: bold\">TzInfo</span><span style=\"font-weight: bold\">(</span>UTC<span style=\"font-weight: bold\">))</span>,\n",
       "        <span style=\"color: #808000; text-decoration-color: #808000\">creation_date</span>=<span style=\"color: #800080; text-decoration-color: #800080; font-weight: bold\">datetime</span><span style=\"color: #800080; text-decoration-color: #800080; font-weight: bold\">.datetime</span><span style=\"font-weight: bold\">(</span><span style=\"color: #008080; text-decoration-color: #008080; font-weight: bold\">2025</span>, <span style=\"color: #008080; text-decoration-color: #008080; font-weight: bold\">6</span>, <span style=\"color: #008080; text-decoration-color: #008080; font-weight: bold\">27</span>, <span style=\"color: #008080; text-decoration-color: #008080; font-weight: bold\">11</span>, <span style=\"color: #008080; text-decoration-color: #008080; font-weight: bold\">10</span>, <span style=\"color: #008080; text-decoration-color: #008080; font-weight: bold\">28</span>, <span style=\"color: #008080; text-decoration-color: #008080; font-weight: bold\">715310</span>, <span style=\"color: #808000; text-decoration-color: #808000\">tzinfo</span>=<span style=\"color: #800080; text-decoration-color: #800080; font-weight: bold\">TzInfo</span><span style=\"font-weight: bold\">(</span>UTC<span style=\"font-weight: bold\">))</span>,\n",
       "        <span style=\"color: #808000; text-decoration-color: #808000\">name</span>=<span style=\"color: #008000; text-decoration-color: #008000\">'Loligo pealeii'</span>,\n",
       "        <span style=\"color: #808000; text-decoration-color: #808000\">taxonomy_id</span>=<span style=\"color: #008000; text-decoration-color: #008000\">'NCBITaxon:6619'</span>\n",
       "    <span style=\"font-weight: bold\">)</span>,\n",
       "    <span style=\"color: #800080; text-decoration-color: #800080; font-weight: bold\">Species</span><span style=\"font-weight: bold\">(</span>\n",
       "        <span style=\"color: #808000; text-decoration-color: #808000\">id</span>=<span style=\"color: #800080; text-decoration-color: #800080; font-weight: bold\">UUID</span><span style=\"font-weight: bold\">(</span><span style=\"color: #008000; text-decoration-color: #008000\">'b7ad4cca-4ac2-4095-9781-37fb68fe9ca1'</span><span style=\"font-weight: bold\">)</span>,\n",
       "        <span style=\"color: #808000; text-decoration-color: #808000\">update_date</span>=<span style=\"color: #800080; text-decoration-color: #800080; font-weight: bold\">datetime</span><span style=\"color: #800080; text-decoration-color: #800080; font-weight: bold\">.datetime</span><span style=\"font-weight: bold\">(</span><span style=\"color: #008080; text-decoration-color: #008080; font-weight: bold\">2025</span>, <span style=\"color: #008080; text-decoration-color: #008080; font-weight: bold\">6</span>, <span style=\"color: #008080; text-decoration-color: #008080; font-weight: bold\">27</span>, <span style=\"color: #008080; text-decoration-color: #008080; font-weight: bold\">11</span>, <span style=\"color: #008080; text-decoration-color: #008080; font-weight: bold\">10</span>, <span style=\"color: #008080; text-decoration-color: #008080; font-weight: bold\">53</span>, <span style=\"color: #008080; text-decoration-color: #008080; font-weight: bold\">183929</span>, <span style=\"color: #808000; text-decoration-color: #808000\">tzinfo</span>=<span style=\"color: #800080; text-decoration-color: #800080; font-weight: bold\">TzInfo</span><span style=\"font-weight: bold\">(</span>UTC<span style=\"font-weight: bold\">))</span>,\n",
       "        <span style=\"color: #808000; text-decoration-color: #808000\">creation_date</span>=<span style=\"color: #800080; text-decoration-color: #800080; font-weight: bold\">datetime</span><span style=\"color: #800080; text-decoration-color: #800080; font-weight: bold\">.datetime</span><span style=\"font-weight: bold\">(</span><span style=\"color: #008080; text-decoration-color: #008080; font-weight: bold\">2025</span>, <span style=\"color: #008080; text-decoration-color: #008080; font-weight: bold\">6</span>, <span style=\"color: #008080; text-decoration-color: #008080; font-weight: bold\">27</span>, <span style=\"color: #008080; text-decoration-color: #008080; font-weight: bold\">11</span>, <span style=\"color: #008080; text-decoration-color: #008080; font-weight: bold\">10</span>, <span style=\"color: #008080; text-decoration-color: #008080; font-weight: bold\">53</span>, <span style=\"color: #008080; text-decoration-color: #008080; font-weight: bold\">183929</span>, <span style=\"color: #808000; text-decoration-color: #808000\">tzinfo</span>=<span style=\"color: #800080; text-decoration-color: #800080; font-weight: bold\">TzInfo</span><span style=\"font-weight: bold\">(</span>UTC<span style=\"font-weight: bold\">))</span>,\n",
       "        <span style=\"color: #808000; text-decoration-color: #808000\">name</span>=<span style=\"color: #008000; text-decoration-color: #008000\">'Mus musculus'</span>,\n",
       "        <span style=\"color: #808000; text-decoration-color: #808000\">taxonomy_id</span>=<span style=\"color: #008000; text-decoration-color: #008000\">'NCBITaxon:10090'</span>\n",
       "    <span style=\"font-weight: bold\">)</span>,\n",
       "    <span style=\"color: #800080; text-decoration-color: #800080; font-weight: bold\">Species</span><span style=\"font-weight: bold\">(</span>\n",
       "        <span style=\"color: #808000; text-decoration-color: #808000\">id</span>=<span style=\"color: #800080; text-decoration-color: #800080; font-weight: bold\">UUID</span><span style=\"font-weight: bold\">(</span><span style=\"color: #008000; text-decoration-color: #008000\">'3b1c2a25-b4fb-468d-98d2-d2d431ac8b4a'</span><span style=\"font-weight: bold\">)</span>,\n",
       "        <span style=\"color: #808000; text-decoration-color: #808000\">update_date</span>=<span style=\"color: #800080; text-decoration-color: #800080; font-weight: bold\">datetime</span><span style=\"color: #800080; text-decoration-color: #800080; font-weight: bold\">.datetime</span><span style=\"font-weight: bold\">(</span><span style=\"color: #008080; text-decoration-color: #008080; font-weight: bold\">2025</span>, <span style=\"color: #008080; text-decoration-color: #008080; font-weight: bold\">6</span>, <span style=\"color: #008080; text-decoration-color: #008080; font-weight: bold\">27</span>, <span style=\"color: #008080; text-decoration-color: #008080; font-weight: bold\">11</span>, <span style=\"color: #008080; text-decoration-color: #008080; font-weight: bold\">11</span>, <span style=\"color: #008080; text-decoration-color: #008080; font-weight: bold\">57</span>, <span style=\"color: #008080; text-decoration-color: #008080; font-weight: bold\">148444</span>, <span style=\"color: #808000; text-decoration-color: #808000\">tzinfo</span>=<span style=\"color: #800080; text-decoration-color: #800080; font-weight: bold\">TzInfo</span><span style=\"font-weight: bold\">(</span>UTC<span style=\"font-weight: bold\">))</span>,\n",
       "        <span style=\"color: #808000; text-decoration-color: #808000\">creation_date</span>=<span style=\"color: #800080; text-decoration-color: #800080; font-weight: bold\">datetime</span><span style=\"color: #800080; text-decoration-color: #800080; font-weight: bold\">.datetime</span><span style=\"font-weight: bold\">(</span><span style=\"color: #008080; text-decoration-color: #008080; font-weight: bold\">2025</span>, <span style=\"color: #008080; text-decoration-color: #008080; font-weight: bold\">6</span>, <span style=\"color: #008080; text-decoration-color: #008080; font-weight: bold\">27</span>, <span style=\"color: #008080; text-decoration-color: #008080; font-weight: bold\">11</span>, <span style=\"color: #008080; text-decoration-color: #008080; font-weight: bold\">11</span>, <span style=\"color: #008080; text-decoration-color: #008080; font-weight: bold\">57</span>, <span style=\"color: #008080; text-decoration-color: #008080; font-weight: bold\">148444</span>, <span style=\"color: #808000; text-decoration-color: #808000\">tzinfo</span>=<span style=\"color: #800080; text-decoration-color: #800080; font-weight: bold\">TzInfo</span><span style=\"font-weight: bold\">(</span>UTC<span style=\"font-weight: bold\">))</span>,\n",
       "        <span style=\"color: #808000; text-decoration-color: #808000\">name</span>=<span style=\"color: #008000; text-decoration-color: #008000\">'Rattus norvegicus'</span>,\n",
       "        <span style=\"color: #808000; text-decoration-color: #808000\">taxonomy_id</span>=<span style=\"color: #008000; text-decoration-color: #008000\">'NCBITaxon:10116'</span>\n",
       "    <span style=\"font-weight: bold\">)</span>,\n",
       "    <span style=\"color: #800080; text-decoration-color: #800080; font-weight: bold\">Species</span><span style=\"font-weight: bold\">(</span>\n",
       "        <span style=\"color: #808000; text-decoration-color: #808000\">id</span>=<span style=\"color: #800080; text-decoration-color: #800080; font-weight: bold\">UUID</span><span style=\"font-weight: bold\">(</span><span style=\"color: #008000; text-decoration-color: #008000\">'930cdbd3-0f0a-42a8-9b2d-19a2beaa14a7'</span><span style=\"font-weight: bold\">)</span>,\n",
       "        <span style=\"color: #808000; text-decoration-color: #808000\">update_date</span>=<span style=\"color: #800080; text-decoration-color: #800080; font-weight: bold\">datetime</span><span style=\"color: #800080; text-decoration-color: #800080; font-weight: bold\">.datetime</span><span style=\"font-weight: bold\">(</span><span style=\"color: #008080; text-decoration-color: #008080; font-weight: bold\">2025</span>, <span style=\"color: #008080; text-decoration-color: #008080; font-weight: bold\">6</span>, <span style=\"color: #008080; text-decoration-color: #008080; font-weight: bold\">27</span>, <span style=\"color: #008080; text-decoration-color: #008080; font-weight: bold\">11</span>, <span style=\"color: #008080; text-decoration-color: #008080; font-weight: bold\">10</span>, <span style=\"color: #008080; text-decoration-color: #008080; font-weight: bold\">28</span>, <span style=\"color: #008080; text-decoration-color: #008080; font-weight: bold\">715306</span>, <span style=\"color: #808000; text-decoration-color: #808000\">tzinfo</span>=<span style=\"color: #800080; text-decoration-color: #800080; font-weight: bold\">TzInfo</span><span style=\"font-weight: bold\">(</span>UTC<span style=\"font-weight: bold\">))</span>,\n",
       "        <span style=\"color: #808000; text-decoration-color: #808000\">creation_date</span>=<span style=\"color: #800080; text-decoration-color: #800080; font-weight: bold\">datetime</span><span style=\"color: #800080; text-decoration-color: #800080; font-weight: bold\">.datetime</span><span style=\"font-weight: bold\">(</span><span style=\"color: #008080; text-decoration-color: #008080; font-weight: bold\">2025</span>, <span style=\"color: #008080; text-decoration-color: #008080; font-weight: bold\">6</span>, <span style=\"color: #008080; text-decoration-color: #008080; font-weight: bold\">27</span>, <span style=\"color: #008080; text-decoration-color: #008080; font-weight: bold\">11</span>, <span style=\"color: #008080; text-decoration-color: #008080; font-weight: bold\">10</span>, <span style=\"color: #008080; text-decoration-color: #008080; font-weight: bold\">28</span>, <span style=\"color: #008080; text-decoration-color: #008080; font-weight: bold\">715306</span>, <span style=\"color: #808000; text-decoration-color: #808000\">tzinfo</span>=<span style=\"color: #800080; text-decoration-color: #800080; font-weight: bold\">TzInfo</span><span style=\"font-weight: bold\">(</span>UTC<span style=\"font-weight: bold\">))</span>,\n",
       "        <span style=\"color: #808000; text-decoration-color: #808000\">name</span>=<span style=\"color: #008000; text-decoration-color: #008000\">'Xenopus laevis'</span>,\n",
       "        <span style=\"color: #808000; text-decoration-color: #808000\">taxonomy_id</span>=<span style=\"color: #008000; text-decoration-color: #008000\">'NCBITaxon:8355'</span>\n",
       "    <span style=\"font-weight: bold\">)</span>\n",
       "<span style=\"font-weight: bold\">]</span>\n",
       "</pre>\n"
      ],
      "text/plain": [
       "\u001b[1m[\u001b[0m\n",
       "    \u001b[1;35mSpecies\u001b[0m\u001b[1m(\u001b[0m\n",
       "        \u001b[33mid\u001b[0m=\u001b[1;35mUUID\u001b[0m\u001b[1m(\u001b[0m\u001b[32m'd322a735-3ead-4efe-840e-2b4fda9c025a'\u001b[0m\u001b[1m)\u001b[0m,\n",
       "        \u001b[33mupdate_date\u001b[0m=\u001b[1;35mdatetime\u001b[0m\u001b[1;35m.datetime\u001b[0m\u001b[1m(\u001b[0m\u001b[1;36m2025\u001b[0m, \u001b[1;36m6\u001b[0m, \u001b[1;36m27\u001b[0m, \u001b[1;36m11\u001b[0m, \u001b[1;36m10\u001b[0m, \u001b[1;36m28\u001b[0m, \u001b[1;36m715312\u001b[0m, \u001b[33mtzinfo\u001b[0m=\u001b[1;35mTzInfo\u001b[0m\u001b[1m(\u001b[0mUTC\u001b[1m)\u001b[0m\u001b[1m)\u001b[0m,\n",
       "        \u001b[33mcreation_date\u001b[0m=\u001b[1;35mdatetime\u001b[0m\u001b[1;35m.datetime\u001b[0m\u001b[1m(\u001b[0m\u001b[1;36m2025\u001b[0m, \u001b[1;36m6\u001b[0m, \u001b[1;36m27\u001b[0m, \u001b[1;36m11\u001b[0m, \u001b[1;36m10\u001b[0m, \u001b[1;36m28\u001b[0m, \u001b[1;36m715311\u001b[0m, \u001b[33mtzinfo\u001b[0m=\u001b[1;35mTzInfo\u001b[0m\u001b[1m(\u001b[0mUTC\u001b[1m)\u001b[0m\u001b[1m)\u001b[0m,\n",
       "        \u001b[33mname\u001b[0m=\u001b[32m'Aquarana catesbeiana'\u001b[0m,\n",
       "        \u001b[33mtaxonomy_id\u001b[0m=\u001b[32m'NCBITaxon:8400'\u001b[0m\n",
       "    \u001b[1m)\u001b[0m,\n",
       "    \u001b[1;35mSpecies\u001b[0m\u001b[1m(\u001b[0m\n",
       "        \u001b[33mid\u001b[0m=\u001b[1;35mUUID\u001b[0m\u001b[1m(\u001b[0m\u001b[32m'9779ac1f-45e9-4d32-8c85-5fdfa7251af0'\u001b[0m\u001b[1m)\u001b[0m,\n",
       "        \u001b[33mupdate_date\u001b[0m=\u001b[1;35mdatetime\u001b[0m\u001b[1;35m.datetime\u001b[0m\u001b[1m(\u001b[0m\u001b[1;36m2025\u001b[0m, \u001b[1;36m6\u001b[0m, \u001b[1;36m27\u001b[0m, \u001b[1;36m11\u001b[0m, \u001b[1;36m10\u001b[0m, \u001b[1;36m28\u001b[0m, \u001b[1;36m715308\u001b[0m, \u001b[33mtzinfo\u001b[0m=\u001b[1;35mTzInfo\u001b[0m\u001b[1m(\u001b[0mUTC\u001b[1m)\u001b[0m\u001b[1m)\u001b[0m,\n",
       "        \u001b[33mcreation_date\u001b[0m=\u001b[1;35mdatetime\u001b[0m\u001b[1;35m.datetime\u001b[0m\u001b[1m(\u001b[0m\u001b[1;36m2025\u001b[0m, \u001b[1;36m6\u001b[0m, \u001b[1;36m27\u001b[0m, \u001b[1;36m11\u001b[0m, \u001b[1;36m10\u001b[0m, \u001b[1;36m28\u001b[0m, \u001b[1;36m715307\u001b[0m, \u001b[33mtzinfo\u001b[0m=\u001b[1;35mTzInfo\u001b[0m\u001b[1m(\u001b[0mUTC\u001b[1m)\u001b[0m\u001b[1m)\u001b[0m,\n",
       "        \u001b[33mname\u001b[0m=\u001b[32m'Cricetulus griseus'\u001b[0m,\n",
       "        \u001b[33mtaxonomy_id\u001b[0m=\u001b[32m'NCBITaxon:10029'\u001b[0m\n",
       "    \u001b[1m)\u001b[0m,\n",
       "    \u001b[1;35mSpecies\u001b[0m\u001b[1m(\u001b[0m\n",
       "        \u001b[33mid\u001b[0m=\u001b[1;35mUUID\u001b[0m\u001b[1m(\u001b[0m\u001b[32m'ea748db9-e020-407a-aeb6-db2c3a038a70'\u001b[0m\u001b[1m)\u001b[0m,\n",
       "        \u001b[33mupdate_date\u001b[0m=\u001b[1;35mdatetime\u001b[0m\u001b[1;35m.datetime\u001b[0m\u001b[1m(\u001b[0m\u001b[1;36m2025\u001b[0m, \u001b[1;36m6\u001b[0m, \u001b[1;36m27\u001b[0m, \u001b[1;36m11\u001b[0m, \u001b[1;36m10\u001b[0m, \u001b[1;36m28\u001b[0m, \u001b[1;36m715309\u001b[0m, \u001b[33mtzinfo\u001b[0m=\u001b[1;35mTzInfo\u001b[0m\u001b[1m(\u001b[0mUTC\u001b[1m)\u001b[0m\u001b[1m)\u001b[0m,\n",
       "        \u001b[33mcreation_date\u001b[0m=\u001b[1;35mdatetime\u001b[0m\u001b[1;35m.datetime\u001b[0m\u001b[1m(\u001b[0m\u001b[1;36m2025\u001b[0m, \u001b[1;36m6\u001b[0m, \u001b[1;36m27\u001b[0m, \u001b[1;36m11\u001b[0m, \u001b[1;36m10\u001b[0m, \u001b[1;36m28\u001b[0m, \u001b[1;36m715308\u001b[0m, \u001b[33mtzinfo\u001b[0m=\u001b[1;35mTzInfo\u001b[0m\u001b[1m(\u001b[0mUTC\u001b[1m)\u001b[0m\u001b[1m)\u001b[0m,\n",
       "        \u001b[33mname\u001b[0m=\u001b[32m'Felis catus'\u001b[0m,\n",
       "        \u001b[33mtaxonomy_id\u001b[0m=\u001b[32m'NCBITaxon:9685'\u001b[0m\n",
       "    \u001b[1m)\u001b[0m,\n",
       "    \u001b[1;35mSpecies\u001b[0m\u001b[1m(\u001b[0m\n",
       "        \u001b[33mid\u001b[0m=\u001b[1;35mUUID\u001b[0m\u001b[1m(\u001b[0m\u001b[32m'ff3fe32a-30ff-44ee-90a7-bd04e85bfcdd'\u001b[0m\u001b[1m)\u001b[0m,\n",
       "        \u001b[33mupdate_date\u001b[0m=\u001b[1;35mdatetime\u001b[0m\u001b[1;35m.datetime\u001b[0m\u001b[1m(\u001b[0m\u001b[1;36m2025\u001b[0m, \u001b[1;36m6\u001b[0m, \u001b[1;36m27\u001b[0m, \u001b[1;36m11\u001b[0m, \u001b[1;36m10\u001b[0m, \u001b[1;36m28\u001b[0m, \u001b[1;36m715305\u001b[0m, \u001b[33mtzinfo\u001b[0m=\u001b[1;35mTzInfo\u001b[0m\u001b[1m(\u001b[0mUTC\u001b[1m)\u001b[0m\u001b[1m)\u001b[0m,\n",
       "        \u001b[33mcreation_date\u001b[0m=\u001b[1;35mdatetime\u001b[0m\u001b[1;35m.datetime\u001b[0m\u001b[1m(\u001b[0m\u001b[1;36m2025\u001b[0m, \u001b[1;36m6\u001b[0m, \u001b[1;36m27\u001b[0m, \u001b[1;36m11\u001b[0m, \u001b[1;36m10\u001b[0m, \u001b[1;36m28\u001b[0m, \u001b[1;36m715304\u001b[0m, \u001b[33mtzinfo\u001b[0m=\u001b[1;35mTzInfo\u001b[0m\u001b[1m(\u001b[0mUTC\u001b[1m)\u001b[0m\u001b[1m)\u001b[0m,\n",
       "        \u001b[33mname\u001b[0m=\u001b[32m'Homo sapiens'\u001b[0m,\n",
       "        \u001b[33mtaxonomy_id\u001b[0m=\u001b[32m'NCBITaxon:9606'\u001b[0m\n",
       "    \u001b[1m)\u001b[0m,\n",
       "    \u001b[1;35mSpecies\u001b[0m\u001b[1m(\u001b[0m\n",
       "        \u001b[33mid\u001b[0m=\u001b[1;35mUUID\u001b[0m\u001b[1m(\u001b[0m\u001b[32m'0f756132-e16d-4e72-b18e-859835e1f291'\u001b[0m\u001b[1m)\u001b[0m,\n",
       "        \u001b[33mupdate_date\u001b[0m=\u001b[1;35mdatetime\u001b[0m\u001b[1;35m.datetime\u001b[0m\u001b[1m(\u001b[0m\u001b[1;36m2025\u001b[0m, \u001b[1;36m6\u001b[0m, \u001b[1;36m27\u001b[0m, \u001b[1;36m11\u001b[0m, \u001b[1;36m10\u001b[0m, \u001b[1;36m28\u001b[0m, \u001b[1;36m715313\u001b[0m, \u001b[33mtzinfo\u001b[0m=\u001b[1;35mTzInfo\u001b[0m\u001b[1m(\u001b[0mUTC\u001b[1m)\u001b[0m\u001b[1m)\u001b[0m,\n",
       "        \u001b[33mcreation_date\u001b[0m=\u001b[1;35mdatetime\u001b[0m\u001b[1;35m.datetime\u001b[0m\u001b[1m(\u001b[0m\u001b[1;36m2025\u001b[0m, \u001b[1;36m6\u001b[0m, \u001b[1;36m27\u001b[0m, \u001b[1;36m11\u001b[0m, \u001b[1;36m10\u001b[0m, \u001b[1;36m28\u001b[0m, \u001b[1;36m715312\u001b[0m, \u001b[33mtzinfo\u001b[0m=\u001b[1;35mTzInfo\u001b[0m\u001b[1m(\u001b[0mUTC\u001b[1m)\u001b[0m\u001b[1m)\u001b[0m,\n",
       "        \u001b[33mname\u001b[0m=\u001b[32m'Hybrid human-mouse'\u001b[0m,\n",
       "        \u001b[33mtaxonomy_id\u001b[0m=\u001b[32m'NA'\u001b[0m\n",
       "    \u001b[1m)\u001b[0m,\n",
       "    \u001b[1;35mSpecies\u001b[0m\u001b[1m(\u001b[0m\n",
       "        \u001b[33mid\u001b[0m=\u001b[1;35mUUID\u001b[0m\u001b[1m(\u001b[0m\u001b[32m'22f1a831-85b9-4f5f-811e-60de1b343f52'\u001b[0m\u001b[1m)\u001b[0m,\n",
       "        \u001b[33mupdate_date\u001b[0m=\u001b[1;35mdatetime\u001b[0m\u001b[1;35m.datetime\u001b[0m\u001b[1m(\u001b[0m\u001b[1;36m2025\u001b[0m, \u001b[1;36m6\u001b[0m, \u001b[1;36m27\u001b[0m, \u001b[1;36m11\u001b[0m, \u001b[1;36m10\u001b[0m, \u001b[1;36m28\u001b[0m, \u001b[1;36m715310\u001b[0m, \u001b[33mtzinfo\u001b[0m=\u001b[1;35mTzInfo\u001b[0m\u001b[1m(\u001b[0mUTC\u001b[1m)\u001b[0m\u001b[1m)\u001b[0m,\n",
       "        \u001b[33mcreation_date\u001b[0m=\u001b[1;35mdatetime\u001b[0m\u001b[1;35m.datetime\u001b[0m\u001b[1m(\u001b[0m\u001b[1;36m2025\u001b[0m, \u001b[1;36m6\u001b[0m, \u001b[1;36m27\u001b[0m, \u001b[1;36m11\u001b[0m, \u001b[1;36m10\u001b[0m, \u001b[1;36m28\u001b[0m, \u001b[1;36m715310\u001b[0m, \u001b[33mtzinfo\u001b[0m=\u001b[1;35mTzInfo\u001b[0m\u001b[1m(\u001b[0mUTC\u001b[1m)\u001b[0m\u001b[1m)\u001b[0m,\n",
       "        \u001b[33mname\u001b[0m=\u001b[32m'Loligo pealeii'\u001b[0m,\n",
       "        \u001b[33mtaxonomy_id\u001b[0m=\u001b[32m'NCBITaxon:6619'\u001b[0m\n",
       "    \u001b[1m)\u001b[0m,\n",
       "    \u001b[1;35mSpecies\u001b[0m\u001b[1m(\u001b[0m\n",
       "        \u001b[33mid\u001b[0m=\u001b[1;35mUUID\u001b[0m\u001b[1m(\u001b[0m\u001b[32m'b7ad4cca-4ac2-4095-9781-37fb68fe9ca1'\u001b[0m\u001b[1m)\u001b[0m,\n",
       "        \u001b[33mupdate_date\u001b[0m=\u001b[1;35mdatetime\u001b[0m\u001b[1;35m.datetime\u001b[0m\u001b[1m(\u001b[0m\u001b[1;36m2025\u001b[0m, \u001b[1;36m6\u001b[0m, \u001b[1;36m27\u001b[0m, \u001b[1;36m11\u001b[0m, \u001b[1;36m10\u001b[0m, \u001b[1;36m53\u001b[0m, \u001b[1;36m183929\u001b[0m, \u001b[33mtzinfo\u001b[0m=\u001b[1;35mTzInfo\u001b[0m\u001b[1m(\u001b[0mUTC\u001b[1m)\u001b[0m\u001b[1m)\u001b[0m,\n",
       "        \u001b[33mcreation_date\u001b[0m=\u001b[1;35mdatetime\u001b[0m\u001b[1;35m.datetime\u001b[0m\u001b[1m(\u001b[0m\u001b[1;36m2025\u001b[0m, \u001b[1;36m6\u001b[0m, \u001b[1;36m27\u001b[0m, \u001b[1;36m11\u001b[0m, \u001b[1;36m10\u001b[0m, \u001b[1;36m53\u001b[0m, \u001b[1;36m183929\u001b[0m, \u001b[33mtzinfo\u001b[0m=\u001b[1;35mTzInfo\u001b[0m\u001b[1m(\u001b[0mUTC\u001b[1m)\u001b[0m\u001b[1m)\u001b[0m,\n",
       "        \u001b[33mname\u001b[0m=\u001b[32m'Mus musculus'\u001b[0m,\n",
       "        \u001b[33mtaxonomy_id\u001b[0m=\u001b[32m'NCBITaxon:10090'\u001b[0m\n",
       "    \u001b[1m)\u001b[0m,\n",
       "    \u001b[1;35mSpecies\u001b[0m\u001b[1m(\u001b[0m\n",
       "        \u001b[33mid\u001b[0m=\u001b[1;35mUUID\u001b[0m\u001b[1m(\u001b[0m\u001b[32m'3b1c2a25-b4fb-468d-98d2-d2d431ac8b4a'\u001b[0m\u001b[1m)\u001b[0m,\n",
       "        \u001b[33mupdate_date\u001b[0m=\u001b[1;35mdatetime\u001b[0m\u001b[1;35m.datetime\u001b[0m\u001b[1m(\u001b[0m\u001b[1;36m2025\u001b[0m, \u001b[1;36m6\u001b[0m, \u001b[1;36m27\u001b[0m, \u001b[1;36m11\u001b[0m, \u001b[1;36m11\u001b[0m, \u001b[1;36m57\u001b[0m, \u001b[1;36m148444\u001b[0m, \u001b[33mtzinfo\u001b[0m=\u001b[1;35mTzInfo\u001b[0m\u001b[1m(\u001b[0mUTC\u001b[1m)\u001b[0m\u001b[1m)\u001b[0m,\n",
       "        \u001b[33mcreation_date\u001b[0m=\u001b[1;35mdatetime\u001b[0m\u001b[1;35m.datetime\u001b[0m\u001b[1m(\u001b[0m\u001b[1;36m2025\u001b[0m, \u001b[1;36m6\u001b[0m, \u001b[1;36m27\u001b[0m, \u001b[1;36m11\u001b[0m, \u001b[1;36m11\u001b[0m, \u001b[1;36m57\u001b[0m, \u001b[1;36m148444\u001b[0m, \u001b[33mtzinfo\u001b[0m=\u001b[1;35mTzInfo\u001b[0m\u001b[1m(\u001b[0mUTC\u001b[1m)\u001b[0m\u001b[1m)\u001b[0m,\n",
       "        \u001b[33mname\u001b[0m=\u001b[32m'Rattus norvegicus'\u001b[0m,\n",
       "        \u001b[33mtaxonomy_id\u001b[0m=\u001b[32m'NCBITaxon:10116'\u001b[0m\n",
       "    \u001b[1m)\u001b[0m,\n",
       "    \u001b[1;35mSpecies\u001b[0m\u001b[1m(\u001b[0m\n",
       "        \u001b[33mid\u001b[0m=\u001b[1;35mUUID\u001b[0m\u001b[1m(\u001b[0m\u001b[32m'930cdbd3-0f0a-42a8-9b2d-19a2beaa14a7'\u001b[0m\u001b[1m)\u001b[0m,\n",
       "        \u001b[33mupdate_date\u001b[0m=\u001b[1;35mdatetime\u001b[0m\u001b[1;35m.datetime\u001b[0m\u001b[1m(\u001b[0m\u001b[1;36m2025\u001b[0m, \u001b[1;36m6\u001b[0m, \u001b[1;36m27\u001b[0m, \u001b[1;36m11\u001b[0m, \u001b[1;36m10\u001b[0m, \u001b[1;36m28\u001b[0m, \u001b[1;36m715306\u001b[0m, \u001b[33mtzinfo\u001b[0m=\u001b[1;35mTzInfo\u001b[0m\u001b[1m(\u001b[0mUTC\u001b[1m)\u001b[0m\u001b[1m)\u001b[0m,\n",
       "        \u001b[33mcreation_date\u001b[0m=\u001b[1;35mdatetime\u001b[0m\u001b[1;35m.datetime\u001b[0m\u001b[1m(\u001b[0m\u001b[1;36m2025\u001b[0m, \u001b[1;36m6\u001b[0m, \u001b[1;36m27\u001b[0m, \u001b[1;36m11\u001b[0m, \u001b[1;36m10\u001b[0m, \u001b[1;36m28\u001b[0m, \u001b[1;36m715306\u001b[0m, \u001b[33mtzinfo\u001b[0m=\u001b[1;35mTzInfo\u001b[0m\u001b[1m(\u001b[0mUTC\u001b[1m)\u001b[0m\u001b[1m)\u001b[0m,\n",
       "        \u001b[33mname\u001b[0m=\u001b[32m'Xenopus laevis'\u001b[0m,\n",
       "        \u001b[33mtaxonomy_id\u001b[0m=\u001b[32m'NCBITaxon:8355'\u001b[0m\n",
       "    \u001b[1m)\u001b[0m\n",
       "\u001b[1m]\u001b[0m\n"
      ]
     },
     "metadata": {},
     "output_type": "display_data"
    }
   ],
   "source": [
    "all_species = client.search_entity(entity_type=Species).all()\n",
    "rprint(all_species)"
   ]
  },
  {
   "cell_type": "markdown",
   "id": "f60d7775-c12b-47fc-bb14-da80f08bfbfd",
   "metadata": {},
   "source": [
    "**Brain regions**"
   ]
  },
  {
   "cell_type": "code",
   "execution_count": 5,
   "id": "caeb6e4d-143d-40f2-8f3c-f79e0e76fc93",
   "metadata": {},
   "outputs": [
    {
     "data": {
      "text/html": [
       "<pre style=\"white-space:pre;overflow-x:auto;line-height:normal;font-family:Menlo,'DejaVu Sans Mono',consolas,'Courier New',monospace\"><span style=\"font-weight: bold\">[</span>\n",
       "    <span style=\"color: #800080; text-decoration-color: #800080; font-weight: bold\">BrainRegion</span><span style=\"font-weight: bold\">(</span>\n",
       "        <span style=\"color: #808000; text-decoration-color: #808000\">id</span>=<span style=\"color: #800080; text-decoration-color: #800080; font-weight: bold\">UUID</span><span style=\"font-weight: bold\">(</span><span style=\"color: #008000; text-decoration-color: #008000\">'156eab79-e9b1-41f4-bca5-f87b447c999d'</span><span style=\"font-weight: bold\">)</span>,\n",
       "        <span style=\"color: #808000; text-decoration-color: #808000\">update_date</span>=<span style=\"color: #800080; text-decoration-color: #800080; font-weight: bold\">datetime</span><span style=\"color: #800080; text-decoration-color: #800080; font-weight: bold\">.datetime</span><span style=\"font-weight: bold\">(</span><span style=\"color: #008080; text-decoration-color: #008080; font-weight: bold\">2025</span>, <span style=\"color: #008080; text-decoration-color: #008080; font-weight: bold\">6</span>, <span style=\"color: #008080; text-decoration-color: #008080; font-weight: bold\">27</span>, <span style=\"color: #008080; text-decoration-color: #008080; font-weight: bold\">11</span>, <span style=\"color: #008080; text-decoration-color: #008080; font-weight: bold\">10</span>, <span style=\"color: #008080; text-decoration-color: #008080; font-weight: bold\">27</span>, <span style=\"color: #008080; text-decoration-color: #008080; font-weight: bold\">186088</span>, <span style=\"color: #808000; text-decoration-color: #808000\">tzinfo</span>=<span style=\"color: #800080; text-decoration-color: #800080; font-weight: bold\">TzInfo</span><span style=\"font-weight: bold\">(</span>UTC<span style=\"font-weight: bold\">))</span>,\n",
       "        <span style=\"color: #808000; text-decoration-color: #808000\">creation_date</span>=<span style=\"color: #800080; text-decoration-color: #800080; font-weight: bold\">datetime</span><span style=\"color: #800080; text-decoration-color: #800080; font-weight: bold\">.datetime</span><span style=\"font-weight: bold\">(</span><span style=\"color: #008080; text-decoration-color: #008080; font-weight: bold\">2025</span>, <span style=\"color: #008080; text-decoration-color: #008080; font-weight: bold\">6</span>, <span style=\"color: #008080; text-decoration-color: #008080; font-weight: bold\">27</span>, <span style=\"color: #008080; text-decoration-color: #008080; font-weight: bold\">11</span>, <span style=\"color: #008080; text-decoration-color: #008080; font-weight: bold\">10</span>, <span style=\"color: #008080; text-decoration-color: #008080; font-weight: bold\">27</span>, <span style=\"color: #008080; text-decoration-color: #008080; font-weight: bold\">186088</span>, <span style=\"color: #808000; text-decoration-color: #808000\">tzinfo</span>=<span style=\"color: #800080; text-decoration-color: #800080; font-weight: bold\">TzInfo</span><span style=\"font-weight: bold\">(</span>UTC<span style=\"font-weight: bold\">))</span>,\n",
       "        <span style=\"color: #808000; text-decoration-color: #808000\">name</span>=<span style=\"color: #008000; text-decoration-color: #008000\">'abducens nerve'</span>,\n",
       "        <span style=\"color: #808000; text-decoration-color: #808000\">annotation_value</span>=<span style=\"color: #008080; text-decoration-color: #008080; font-weight: bold\">710</span>,\n",
       "        <span style=\"color: #808000; text-decoration-color: #808000\">acronym</span>=<span style=\"color: #008000; text-decoration-color: #008000\">'VIn'</span>,\n",
       "        <span style=\"color: #808000; text-decoration-color: #808000\">parent_structure_id</span>=<span style=\"color: #800080; text-decoration-color: #800080; font-weight: bold\">UUID</span><span style=\"font-weight: bold\">(</span><span style=\"color: #008000; text-decoration-color: #008000\">'4e3d4d0f-51dd-4d5c-9d94-6658d2511c38'</span><span style=\"font-weight: bold\">)</span>,\n",
       "        <span style=\"color: #808000; text-decoration-color: #808000\">hierarchy_id</span>=<span style=\"color: #800080; text-decoration-color: #800080; font-weight: bold\">UUID</span><span style=\"font-weight: bold\">(</span><span style=\"color: #008000; text-decoration-color: #008000\">'e3e70682-c209-4cac-a29f-6fbed82c07cd'</span><span style=\"font-weight: bold\">)</span>,\n",
       "        <span style=\"color: #808000; text-decoration-color: #808000\">color_hex_triplet</span>=<span style=\"color: #008000; text-decoration-color: #008000\">'CCCCCC'</span>\n",
       "    <span style=\"font-weight: bold\">)</span>,\n",
       "    <span style=\"color: #800080; text-decoration-color: #800080; font-weight: bold\">BrainRegion</span><span style=\"font-weight: bold\">(</span>\n",
       "        <span style=\"color: #808000; text-decoration-color: #808000\">id</span>=<span style=\"color: #800080; text-decoration-color: #800080; font-weight: bold\">UUID</span><span style=\"font-weight: bold\">(</span><span style=\"color: #008000; text-decoration-color: #008000\">'68d52eb6-18ed-46c3-9300-1b63856558b2'</span><span style=\"font-weight: bold\">)</span>,\n",
       "        <span style=\"color: #808000; text-decoration-color: #808000\">update_date</span>=<span style=\"color: #800080; text-decoration-color: #800080; font-weight: bold\">datetime</span><span style=\"color: #800080; text-decoration-color: #800080; font-weight: bold\">.datetime</span><span style=\"font-weight: bold\">(</span><span style=\"color: #008080; text-decoration-color: #008080; font-weight: bold\">2025</span>, <span style=\"color: #008080; text-decoration-color: #008080; font-weight: bold\">6</span>, <span style=\"color: #008080; text-decoration-color: #008080; font-weight: bold\">27</span>, <span style=\"color: #008080; text-decoration-color: #008080; font-weight: bold\">11</span>, <span style=\"color: #008080; text-decoration-color: #008080; font-weight: bold\">10</span>, <span style=\"color: #008080; text-decoration-color: #008080; font-weight: bold\">27</span>, <span style=\"color: #008080; text-decoration-color: #008080; font-weight: bold\">186088</span>, <span style=\"color: #808000; text-decoration-color: #808000\">tzinfo</span>=<span style=\"color: #800080; text-decoration-color: #800080; font-weight: bold\">TzInfo</span><span style=\"font-weight: bold\">(</span>UTC<span style=\"font-weight: bold\">))</span>,\n",
       "        <span style=\"color: #808000; text-decoration-color: #808000\">creation_date</span>=<span style=\"color: #800080; text-decoration-color: #800080; font-weight: bold\">datetime</span><span style=\"color: #800080; text-decoration-color: #800080; font-weight: bold\">.datetime</span><span style=\"font-weight: bold\">(</span><span style=\"color: #008080; text-decoration-color: #008080; font-weight: bold\">2025</span>, <span style=\"color: #008080; text-decoration-color: #008080; font-weight: bold\">6</span>, <span style=\"color: #008080; text-decoration-color: #008080; font-weight: bold\">27</span>, <span style=\"color: #008080; text-decoration-color: #008080; font-weight: bold\">11</span>, <span style=\"color: #008080; text-decoration-color: #008080; font-weight: bold\">10</span>, <span style=\"color: #008080; text-decoration-color: #008080; font-weight: bold\">27</span>, <span style=\"color: #008080; text-decoration-color: #008080; font-weight: bold\">186088</span>, <span style=\"color: #808000; text-decoration-color: #808000\">tzinfo</span>=<span style=\"color: #800080; text-decoration-color: #800080; font-weight: bold\">TzInfo</span><span style=\"font-weight: bold\">(</span>UTC<span style=\"font-weight: bold\">))</span>,\n",
       "        <span style=\"color: #808000; text-decoration-color: #808000\">name</span>=<span style=\"color: #008000; text-decoration-color: #008000\">'Abducens nucleus'</span>,\n",
       "        <span style=\"color: #808000; text-decoration-color: #808000\">annotation_value</span>=<span style=\"color: #008080; text-decoration-color: #008080; font-weight: bold\">653</span>,\n",
       "        <span style=\"color: #808000; text-decoration-color: #808000\">acronym</span>=<span style=\"color: #008000; text-decoration-color: #008000\">'VI'</span>,\n",
       "        <span style=\"color: #808000; text-decoration-color: #808000\">parent_structure_id</span>=<span style=\"color: #800080; text-decoration-color: #800080; font-weight: bold\">UUID</span><span style=\"font-weight: bold\">(</span><span style=\"color: #008000; text-decoration-color: #008000\">'03b27030-e7f5-44f3-8dab-b96dd708f3a0'</span><span style=\"font-weight: bold\">)</span>,\n",
       "        <span style=\"color: #808000; text-decoration-color: #808000\">hierarchy_id</span>=<span style=\"color: #800080; text-decoration-color: #800080; font-weight: bold\">UUID</span><span style=\"font-weight: bold\">(</span><span style=\"color: #008000; text-decoration-color: #008000\">'e3e70682-c209-4cac-a29f-6fbed82c07cd'</span><span style=\"font-weight: bold\">)</span>,\n",
       "        <span style=\"color: #808000; text-decoration-color: #808000\">color_hex_triplet</span>=<span style=\"color: #008000; text-decoration-color: #008000\">'FFB3D9'</span>\n",
       "    <span style=\"font-weight: bold\">)</span>\n",
       "<span style=\"font-weight: bold\">]</span>\n",
       "</pre>\n"
      ],
      "text/plain": [
       "\u001b[1m[\u001b[0m\n",
       "    \u001b[1;35mBrainRegion\u001b[0m\u001b[1m(\u001b[0m\n",
       "        \u001b[33mid\u001b[0m=\u001b[1;35mUUID\u001b[0m\u001b[1m(\u001b[0m\u001b[32m'156eab79-e9b1-41f4-bca5-f87b447c999d'\u001b[0m\u001b[1m)\u001b[0m,\n",
       "        \u001b[33mupdate_date\u001b[0m=\u001b[1;35mdatetime\u001b[0m\u001b[1;35m.datetime\u001b[0m\u001b[1m(\u001b[0m\u001b[1;36m2025\u001b[0m, \u001b[1;36m6\u001b[0m, \u001b[1;36m27\u001b[0m, \u001b[1;36m11\u001b[0m, \u001b[1;36m10\u001b[0m, \u001b[1;36m27\u001b[0m, \u001b[1;36m186088\u001b[0m, \u001b[33mtzinfo\u001b[0m=\u001b[1;35mTzInfo\u001b[0m\u001b[1m(\u001b[0mUTC\u001b[1m)\u001b[0m\u001b[1m)\u001b[0m,\n",
       "        \u001b[33mcreation_date\u001b[0m=\u001b[1;35mdatetime\u001b[0m\u001b[1;35m.datetime\u001b[0m\u001b[1m(\u001b[0m\u001b[1;36m2025\u001b[0m, \u001b[1;36m6\u001b[0m, \u001b[1;36m27\u001b[0m, \u001b[1;36m11\u001b[0m, \u001b[1;36m10\u001b[0m, \u001b[1;36m27\u001b[0m, \u001b[1;36m186088\u001b[0m, \u001b[33mtzinfo\u001b[0m=\u001b[1;35mTzInfo\u001b[0m\u001b[1m(\u001b[0mUTC\u001b[1m)\u001b[0m\u001b[1m)\u001b[0m,\n",
       "        \u001b[33mname\u001b[0m=\u001b[32m'abducens nerve'\u001b[0m,\n",
       "        \u001b[33mannotation_value\u001b[0m=\u001b[1;36m710\u001b[0m,\n",
       "        \u001b[33macronym\u001b[0m=\u001b[32m'VIn'\u001b[0m,\n",
       "        \u001b[33mparent_structure_id\u001b[0m=\u001b[1;35mUUID\u001b[0m\u001b[1m(\u001b[0m\u001b[32m'4e3d4d0f-51dd-4d5c-9d94-6658d2511c38'\u001b[0m\u001b[1m)\u001b[0m,\n",
       "        \u001b[33mhierarchy_id\u001b[0m=\u001b[1;35mUUID\u001b[0m\u001b[1m(\u001b[0m\u001b[32m'e3e70682-c209-4cac-a29f-6fbed82c07cd'\u001b[0m\u001b[1m)\u001b[0m,\n",
       "        \u001b[33mcolor_hex_triplet\u001b[0m=\u001b[32m'CCCCCC'\u001b[0m\n",
       "    \u001b[1m)\u001b[0m,\n",
       "    \u001b[1;35mBrainRegion\u001b[0m\u001b[1m(\u001b[0m\n",
       "        \u001b[33mid\u001b[0m=\u001b[1;35mUUID\u001b[0m\u001b[1m(\u001b[0m\u001b[32m'68d52eb6-18ed-46c3-9300-1b63856558b2'\u001b[0m\u001b[1m)\u001b[0m,\n",
       "        \u001b[33mupdate_date\u001b[0m=\u001b[1;35mdatetime\u001b[0m\u001b[1;35m.datetime\u001b[0m\u001b[1m(\u001b[0m\u001b[1;36m2025\u001b[0m, \u001b[1;36m6\u001b[0m, \u001b[1;36m27\u001b[0m, \u001b[1;36m11\u001b[0m, \u001b[1;36m10\u001b[0m, \u001b[1;36m27\u001b[0m, \u001b[1;36m186088\u001b[0m, \u001b[33mtzinfo\u001b[0m=\u001b[1;35mTzInfo\u001b[0m\u001b[1m(\u001b[0mUTC\u001b[1m)\u001b[0m\u001b[1m)\u001b[0m,\n",
       "        \u001b[33mcreation_date\u001b[0m=\u001b[1;35mdatetime\u001b[0m\u001b[1;35m.datetime\u001b[0m\u001b[1m(\u001b[0m\u001b[1;36m2025\u001b[0m, \u001b[1;36m6\u001b[0m, \u001b[1;36m27\u001b[0m, \u001b[1;36m11\u001b[0m, \u001b[1;36m10\u001b[0m, \u001b[1;36m27\u001b[0m, \u001b[1;36m186088\u001b[0m, \u001b[33mtzinfo\u001b[0m=\u001b[1;35mTzInfo\u001b[0m\u001b[1m(\u001b[0mUTC\u001b[1m)\u001b[0m\u001b[1m)\u001b[0m,\n",
       "        \u001b[33mname\u001b[0m=\u001b[32m'Abducens nucleus'\u001b[0m,\n",
       "        \u001b[33mannotation_value\u001b[0m=\u001b[1;36m653\u001b[0m,\n",
       "        \u001b[33macronym\u001b[0m=\u001b[32m'VI'\u001b[0m,\n",
       "        \u001b[33mparent_structure_id\u001b[0m=\u001b[1;35mUUID\u001b[0m\u001b[1m(\u001b[0m\u001b[32m'03b27030-e7f5-44f3-8dab-b96dd708f3a0'\u001b[0m\u001b[1m)\u001b[0m,\n",
       "        \u001b[33mhierarchy_id\u001b[0m=\u001b[1;35mUUID\u001b[0m\u001b[1m(\u001b[0m\u001b[32m'e3e70682-c209-4cac-a29f-6fbed82c07cd'\u001b[0m\u001b[1m)\u001b[0m,\n",
       "        \u001b[33mcolor_hex_triplet\u001b[0m=\u001b[32m'FFB3D9'\u001b[0m\n",
       "    \u001b[1m)\u001b[0m\n",
       "\u001b[1m]\u001b[0m\n"
      ]
     },
     "metadata": {},
     "output_type": "display_data"
    }
   ],
   "source": [
    "all_regions = client.search_entity(entity_type=BrainRegion).all()\n",
    "rprint(all_regions[:2])"
   ]
  },
  {
   "cell_type": "markdown",
   "id": "7d724ed3-8a3c-46cd-bbaf-c0d52a6789e1",
   "metadata": {},
   "source": [
    "**Find regions for temporal cortex for example**"
   ]
  },
  {
   "cell_type": "code",
   "execution_count": 6,
   "id": "9598abb3-849a-413b-a1e7-b8f46a88d510",
   "metadata": {
    "scrolled": true
   },
   "outputs": [
    {
     "data": {
      "text/html": [
       "<pre style=\"white-space:pre;overflow-x:auto;line-height:normal;font-family:Menlo,'DejaVu Sans Mono',consolas,'Courier New',monospace\"><span style=\"font-weight: bold\">[</span>\n",
       "    <span style=\"color: #008000; text-decoration-color: #008000\">'Temporal association areas'</span>,\n",
       "    <span style=\"color: #008000; text-decoration-color: #008000\">'Temporal association areas, layer 1'</span>,\n",
       "    <span style=\"color: #008000; text-decoration-color: #008000\">'Temporal association areas, layer 2'</span>,\n",
       "    <span style=\"color: #008000; text-decoration-color: #008000\">'Temporal association areas, layer 2/3'</span>,\n",
       "    <span style=\"color: #008000; text-decoration-color: #008000\">'Temporal association areas, layer 3'</span>,\n",
       "    <span style=\"color: #008000; text-decoration-color: #008000\">'Temporal association areas, layer 4'</span>,\n",
       "    <span style=\"color: #008000; text-decoration-color: #008000\">'Temporal association areas, layer 5'</span>,\n",
       "    <span style=\"color: #008000; text-decoration-color: #008000\">'Temporal association areas, layer 6a'</span>,\n",
       "    <span style=\"color: #008000; text-decoration-color: #008000\">'Temporal association areas, layer 6b'</span>\n",
       "<span style=\"font-weight: bold\">]</span>\n",
       "</pre>\n"
      ],
      "text/plain": [
       "\u001b[1m[\u001b[0m\n",
       "    \u001b[32m'Temporal association areas'\u001b[0m,\n",
       "    \u001b[32m'Temporal association areas, layer 1'\u001b[0m,\n",
       "    \u001b[32m'Temporal association areas, layer 2'\u001b[0m,\n",
       "    \u001b[32m'Temporal association areas, layer 2/3'\u001b[0m,\n",
       "    \u001b[32m'Temporal association areas, layer 3'\u001b[0m,\n",
       "    \u001b[32m'Temporal association areas, layer 4'\u001b[0m,\n",
       "    \u001b[32m'Temporal association areas, layer 5'\u001b[0m,\n",
       "    \u001b[32m'Temporal association areas, layer 6a'\u001b[0m,\n",
       "    \u001b[32m'Temporal association areas, layer 6b'\u001b[0m\n",
       "\u001b[1m]\u001b[0m\n"
      ]
     },
     "metadata": {},
     "output_type": "display_data"
    }
   ],
   "source": [
    "rprint([i.name for i in all_regions if \"Temporal\" in i.name ])"
   ]
  },
  {
   "cell_type": "markdown",
   "id": "8ac85a4e-d4bd-4cee-acce-ee68b54cdb9f",
   "metadata": {},
   "source": [
    "**Mtypes**"
   ]
  },
  {
   "cell_type": "code",
   "execution_count": 7,
   "id": "164e8b52-49cc-4a08-bafa-41020ef7a5e7",
   "metadata": {},
   "outputs": [
    {
     "data": {
      "text/html": [
       "<pre style=\"white-space:pre;overflow-x:auto;line-height:normal;font-family:Menlo,'DejaVu Sans Mono',consolas,'Courier New',monospace\"><span style=\"font-weight: bold\">[</span>\n",
       "    <span style=\"color: #008000; text-decoration-color: #008000\">'A_BC'</span>,\n",
       "    <span style=\"color: #008000; text-decoration-color: #008000\">'A_BFP'</span>,\n",
       "    <span style=\"color: #008000; text-decoration-color: #008000\">'ACB_CTAN'</span>,\n",
       "    <span style=\"color: #008000; text-decoration-color: #008000\">'ACB_FS'</span>,\n",
       "    <span style=\"color: #008000; text-decoration-color: #008000\">'ACB_HFN_mtype'</span>,\n",
       "    <span style=\"color: #008000; text-decoration-color: #008000\">'ACB_LTS'</span>,\n",
       "    <span style=\"color: #008000; text-decoration-color: #008000\">'ACB_MSN1'</span>,\n",
       "    <span style=\"color: #008000; text-decoration-color: #008000\">'ACB_MSN2'</span>,\n",
       "    <span style=\"color: #008000; text-decoration-color: #008000\">'ACB_MSN3'</span>,\n",
       "    <span style=\"color: #008000; text-decoration-color: #008000\">'ACB_PN_mtype'</span>\n",
       "<span style=\"font-weight: bold\">]</span>\n",
       "</pre>\n"
      ],
      "text/plain": [
       "\u001b[1m[\u001b[0m\n",
       "    \u001b[32m'A_BC'\u001b[0m,\n",
       "    \u001b[32m'A_BFP'\u001b[0m,\n",
       "    \u001b[32m'ACB_CTAN'\u001b[0m,\n",
       "    \u001b[32m'ACB_FS'\u001b[0m,\n",
       "    \u001b[32m'ACB_HFN_mtype'\u001b[0m,\n",
       "    \u001b[32m'ACB_LTS'\u001b[0m,\n",
       "    \u001b[32m'ACB_MSN1'\u001b[0m,\n",
       "    \u001b[32m'ACB_MSN2'\u001b[0m,\n",
       "    \u001b[32m'ACB_MSN3'\u001b[0m,\n",
       "    \u001b[32m'ACB_PN_mtype'\u001b[0m\n",
       "\u001b[1m]\u001b[0m\n"
      ]
     },
     "metadata": {},
     "output_type": "display_data"
    }
   ],
   "source": [
    "all_mtypes = client.search_entity(entity_type=MTypeClass).all()\n",
    "rprint([i.pref_label for i in all_mtypes[:10]])"
   ]
  },
  {
   "cell_type": "markdown",
   "id": "6d43eafe-3a4c-441c-9ab1-2071fa607b5c",
   "metadata": {
    "jp-MarkdownHeadingCollapsed": true
   },
   "source": [
    "## 1.3 Find morphologies of a specific mtype: L3_TPC:A\n",
    "\n",
    "We select an mtype and we find a morphology based on our query. "
   ]
  },
  {
   "cell_type": "code",
   "execution_count": 8,
   "id": "194ed65a-ac86-4e23-a9cc-511f66871683",
   "metadata": {},
   "outputs": [],
   "source": [
    "iterator = client.search_entity(\n",
    "    entity_type=ReconstructionMorphology,\n",
    "    query={\"mtype__pref_label\": \"L3_TPC:A\"},\n",
    "    limit=1,\n",
    ")"
   ]
  },
  {
   "cell_type": "markdown",
   "id": "75c2a264-f442-4250-a0e0-04ec9587468c",
   "metadata": {},
   "source": [
    "Check the properties of a selected morphology (we selected only one example here)"
   ]
  },
  {
   "cell_type": "code",
   "execution_count": 9,
   "id": "4efccfda-2b4f-42fd-9a9c-10bf102dc500",
   "metadata": {},
   "outputs": [],
   "source": [
    "morphology = next(iterator)"
   ]
  },
  {
   "cell_type": "markdown",
   "id": "38517205-b333-4de2-835a-1ab12ca687e3",
   "metadata": {},
   "source": [
    "Mtype of the moprphology is the morphological cell type assigned by a classification scheme"
   ]
  },
  {
   "cell_type": "code",
   "execution_count": 20,
   "id": "d99f5052-12aa-4fcd-8637-e8bfe72d481a",
   "metadata": {
    "collapsed": true,
    "jupyter": {
     "outputs_hidden": true
    }
   },
   "outputs": [
    {
     "data": {
      "text/html": [
       "<pre style=\"white-space:pre;overflow-x:auto;line-height:normal;font-family:Menlo,'DejaVu Sans Mono',consolas,'Courier New',monospace\"><span style=\"color: #800080; text-decoration-color: #800080; font-weight: bold\">ReconstructionMorphology</span><span style=\"font-weight: bold\">(</span>\n",
       "    <span style=\"color: #808000; text-decoration-color: #808000\">assets</span>=<span style=\"font-weight: bold\">[</span>\n",
       "        <span style=\"color: #800080; text-decoration-color: #800080; font-weight: bold\">Asset</span><span style=\"font-weight: bold\">(</span>\n",
       "            <span style=\"color: #808000; text-decoration-color: #808000\">id</span>=<span style=\"color: #800080; text-decoration-color: #800080; font-weight: bold\">UUID</span><span style=\"font-weight: bold\">(</span><span style=\"color: #008000; text-decoration-color: #008000\">'9a413416-9b77-4de9-9e1f-f1e6e4285eed'</span><span style=\"font-weight: bold\">)</span>,\n",
       "            <span style=\"color: #808000; text-decoration-color: #808000\">update_date</span>=<span style=\"color: #800080; text-decoration-color: #800080; font-style: italic\">None</span>,\n",
       "            <span style=\"color: #808000; text-decoration-color: #808000\">creation_date</span>=<span style=\"color: #800080; text-decoration-color: #800080; font-style: italic\">None</span>,\n",
       "            <span style=\"color: #808000; text-decoration-color: #808000\">path</span>=<span style=\"color: #008000; text-decoration-color: #008000\">'rat_20150131_LH2_cell3.h5'</span>,\n",
       "            <span style=\"color: #808000; text-decoration-color: #808000\">full_path</span>=<span style=\"color: #008000; text-decoration-color: #008000\">'public/a98b7abc-fc46-4700-9e3d-37137812c730/0dbced5f-cc3d-488a-8c7f-cfb8ea039dc6/assets/reco</span>\n",
       "<span style=\"color: #008000; text-decoration-color: #008000\">nstruction_morphology/092004c1-33a7-4830-abe4-4b2ea832bf08/rat_20150131_LH2_cell3.h5'</span>,\n",
       "            <span style=\"color: #808000; text-decoration-color: #808000\">is_directory</span>=<span style=\"color: #ff0000; text-decoration-color: #ff0000; font-style: italic\">False</span>,\n",
       "            <span style=\"color: #808000; text-decoration-color: #808000\">content_type</span>=<span style=\"color: #008000; text-decoration-color: #008000\">'application/x-hdf5'</span>,\n",
       "            <span style=\"color: #808000; text-decoration-color: #808000\">size</span>=<span style=\"color: #008080; text-decoration-color: #008080; font-weight: bold\">1758300</span>,\n",
       "            <span style=\"color: #808000; text-decoration-color: #808000\">sha256_digest</span>=<span style=\"color: #008000; text-decoration-color: #008000\">'af476bec524d210dbeda930f8474dc8344e4525d162808f0aad4f422c1dc2490'</span>,\n",
       "            <span style=\"color: #808000; text-decoration-color: #808000\">status</span>=<span style=\"color: #008000; text-decoration-color: #008000\">'created'</span>,\n",
       "            <span style=\"color: #808000; text-decoration-color: #808000\">meta</span>=<span style=\"font-weight: bold\">{}</span>,\n",
       "            <span style=\"color: #808000; text-decoration-color: #808000\">label</span>=<span style=\"color: #008000; text-decoration-color: #008000\">'morphology'</span>\n",
       "        <span style=\"font-weight: bold\">)</span>,\n",
       "        <span style=\"color: #800080; text-decoration-color: #800080; font-weight: bold\">Asset</span><span style=\"font-weight: bold\">(</span>\n",
       "            <span style=\"color: #808000; text-decoration-color: #808000\">id</span>=<span style=\"color: #800080; text-decoration-color: #800080; font-weight: bold\">UUID</span><span style=\"font-weight: bold\">(</span><span style=\"color: #008000; text-decoration-color: #008000\">'40f965ed-af67-4c81-a4fb-4f8f052f3122'</span><span style=\"font-weight: bold\">)</span>,\n",
       "            <span style=\"color: #808000; text-decoration-color: #808000\">update_date</span>=<span style=\"color: #800080; text-decoration-color: #800080; font-style: italic\">None</span>,\n",
       "            <span style=\"color: #808000; text-decoration-color: #808000\">creation_date</span>=<span style=\"color: #800080; text-decoration-color: #800080; font-style: italic\">None</span>,\n",
       "            <span style=\"color: #808000; text-decoration-color: #808000\">path</span>=<span style=\"color: #008000; text-decoration-color: #008000\">'rat_20150131_LH2_cell3.asc'</span>,\n",
       "            <span style=\"color: #808000; text-decoration-color: #808000\">full_path</span>=<span style=\"color: #008000; text-decoration-color: #008000\">'public/a98b7abc-fc46-4700-9e3d-37137812c730/0dbced5f-cc3d-488a-8c7f-cfb8ea039dc6/assets/reco</span>\n",
       "<span style=\"color: #008000; text-decoration-color: #008000\">nstruction_morphology/092004c1-33a7-4830-abe4-4b2ea832bf08/rat_20150131_LH2_cell3.asc'</span>,\n",
       "            <span style=\"color: #808000; text-decoration-color: #808000\">is_directory</span>=<span style=\"color: #ff0000; text-decoration-color: #ff0000; font-style: italic\">False</span>,\n",
       "            <span style=\"color: #808000; text-decoration-color: #808000\">content_type</span>=<span style=\"color: #008000; text-decoration-color: #008000\">'application/asc'</span>,\n",
       "            <span style=\"color: #808000; text-decoration-color: #808000\">size</span>=<span style=\"color: #008080; text-decoration-color: #008080; font-weight: bold\">4198676</span>,\n",
       "            <span style=\"color: #808000; text-decoration-color: #808000\">sha256_digest</span>=<span style=\"color: #008000; text-decoration-color: #008000\">'f93c4b40712f007bc07e8646e16c4a4d7efe91b4ad0030c1fd2fbea03c940a74'</span>,\n",
       "            <span style=\"color: #808000; text-decoration-color: #808000\">status</span>=<span style=\"color: #008000; text-decoration-color: #008000\">'created'</span>,\n",
       "            <span style=\"color: #808000; text-decoration-color: #808000\">meta</span>=<span style=\"font-weight: bold\">{}</span>,\n",
       "            <span style=\"color: #808000; text-decoration-color: #808000\">label</span>=<span style=\"color: #008000; text-decoration-color: #008000\">'morphology'</span>\n",
       "        <span style=\"font-weight: bold\">)</span>,\n",
       "        <span style=\"color: #800080; text-decoration-color: #800080; font-weight: bold\">Asset</span><span style=\"font-weight: bold\">(</span>\n",
       "            <span style=\"color: #808000; text-decoration-color: #808000\">id</span>=<span style=\"color: #800080; text-decoration-color: #800080; font-weight: bold\">UUID</span><span style=\"font-weight: bold\">(</span><span style=\"color: #008000; text-decoration-color: #008000\">'495e1090-2bd2-4b51-aea1-689c83c04af9'</span><span style=\"font-weight: bold\">)</span>,\n",
       "            <span style=\"color: #808000; text-decoration-color: #808000\">update_date</span>=<span style=\"color: #800080; text-decoration-color: #800080; font-style: italic\">None</span>,\n",
       "            <span style=\"color: #808000; text-decoration-color: #808000\">creation_date</span>=<span style=\"color: #800080; text-decoration-color: #800080; font-style: italic\">None</span>,\n",
       "            <span style=\"color: #808000; text-decoration-color: #808000\">path</span>=<span style=\"color: #008000; text-decoration-color: #008000\">'rat_20150131_LH2_cell3.swc'</span>,\n",
       "            <span style=\"color: #808000; text-decoration-color: #808000\">full_path</span>=<span style=\"color: #008000; text-decoration-color: #008000\">'public/a98b7abc-fc46-4700-9e3d-37137812c730/0dbced5f-cc3d-488a-8c7f-cfb8ea039dc6/assets/reco</span>\n",
       "<span style=\"color: #008000; text-decoration-color: #008000\">nstruction_morphology/092004c1-33a7-4830-abe4-4b2ea832bf08/rat_20150131_LH2_cell3.swc'</span>,\n",
       "            <span style=\"color: #808000; text-decoration-color: #808000\">is_directory</span>=<span style=\"color: #ff0000; text-decoration-color: #ff0000; font-style: italic\">False</span>,\n",
       "            <span style=\"color: #808000; text-decoration-color: #808000\">content_type</span>=<span style=\"color: #008000; text-decoration-color: #008000\">'application/swc'</span>,\n",
       "            <span style=\"color: #808000; text-decoration-color: #808000\">size</span>=<span style=\"color: #008080; text-decoration-color: #008080; font-weight: bold\">4632627</span>,\n",
       "            <span style=\"color: #808000; text-decoration-color: #808000\">sha256_digest</span>=<span style=\"color: #008000; text-decoration-color: #008000\">'9e6ba198763b251f00f678db47a085f011fdeeafbc21b773232edf9b3b72eba2'</span>,\n",
       "            <span style=\"color: #808000; text-decoration-color: #808000\">status</span>=<span style=\"color: #008000; text-decoration-color: #008000\">'created'</span>,\n",
       "            <span style=\"color: #808000; text-decoration-color: #808000\">meta</span>=<span style=\"font-weight: bold\">{}</span>,\n",
       "            <span style=\"color: #808000; text-decoration-color: #808000\">label</span>=<span style=\"color: #008000; text-decoration-color: #008000\">'morphology'</span>\n",
       "        <span style=\"font-weight: bold\">)</span>\n",
       "    <span style=\"font-weight: bold\">]</span>,\n",
       "    <span style=\"color: #808000; text-decoration-color: #808000\">id</span>=<span style=\"color: #800080; text-decoration-color: #800080; font-weight: bold\">UUID</span><span style=\"font-weight: bold\">(</span><span style=\"color: #008000; text-decoration-color: #008000\">'092004c1-33a7-4830-abe4-4b2ea832bf08'</span><span style=\"font-weight: bold\">)</span>,\n",
       "    <span style=\"color: #808000; text-decoration-color: #808000\">update_date</span>=<span style=\"color: #800080; text-decoration-color: #800080; font-weight: bold\">datetime</span><span style=\"color: #800080; text-decoration-color: #800080; font-weight: bold\">.datetime</span><span style=\"font-weight: bold\">(</span><span style=\"color: #008080; text-decoration-color: #008080; font-weight: bold\">2025</span>, <span style=\"color: #008080; text-decoration-color: #008080; font-weight: bold\">4</span>, <span style=\"color: #008080; text-decoration-color: #008080; font-weight: bold\">25</span>, <span style=\"color: #008080; text-decoration-color: #008080; font-weight: bold\">7</span>, <span style=\"color: #008080; text-decoration-color: #008080; font-weight: bold\">54</span>, <span style=\"color: #008080; text-decoration-color: #008080; font-weight: bold\">47</span>, <span style=\"color: #008080; text-decoration-color: #008080; font-weight: bold\">36229</span>, <span style=\"color: #808000; text-decoration-color: #808000\">tzinfo</span>=<span style=\"color: #800080; text-decoration-color: #800080; font-weight: bold\">TzInfo</span><span style=\"font-weight: bold\">(</span>UTC<span style=\"font-weight: bold\">))</span>,\n",
       "    <span style=\"color: #808000; text-decoration-color: #808000\">creation_date</span>=<span style=\"color: #800080; text-decoration-color: #800080; font-weight: bold\">datetime</span><span style=\"color: #800080; text-decoration-color: #800080; font-weight: bold\">.datetime</span><span style=\"font-weight: bold\">(</span><span style=\"color: #008080; text-decoration-color: #008080; font-weight: bold\">2024</span>, <span style=\"color: #008080; text-decoration-color: #008080; font-weight: bold\">3</span>, <span style=\"color: #008080; text-decoration-color: #008080; font-weight: bold\">13</span>, <span style=\"color: #008080; text-decoration-color: #008080; font-weight: bold\">10</span>, <span style=\"color: #008080; text-decoration-color: #008080; font-weight: bold\">42</span>, <span style=\"color: #008080; text-decoration-color: #008080; font-weight: bold\">0</span>, <span style=\"color: #008080; text-decoration-color: #008080; font-weight: bold\">371143</span>, <span style=\"color: #808000; text-decoration-color: #808000\">tzinfo</span>=<span style=\"color: #800080; text-decoration-color: #800080; font-weight: bold\">TzInfo</span><span style=\"font-weight: bold\">(</span>UTC<span style=\"font-weight: bold\">))</span>,\n",
       "    <span style=\"color: #808000; text-decoration-color: #808000\">name</span>=<span style=\"color: #008000; text-decoration-color: #008000\">'rat_20150131_LH2_cell3'</span>,\n",
       "    <span style=\"color: #808000; text-decoration-color: #808000\">description</span>=<span style=\"color: #008000; text-decoration-color: #008000\">'Translated to mouse from rat data. This dataset is about an in vivo-filled neuron morphology from </span>\n",
       "<span style=\"color: #008000; text-decoration-color: #008000\">layer 3 with m-type L3_TPC:A. The distribution contains the neuron morphology in ASC, h5, and SWC file format.'</span>,\n",
       "    <span style=\"color: #808000; text-decoration-color: #808000\">type</span>=<span style=\"color: #008000; text-decoration-color: #008000\">'reconstruction_morphology'</span>,\n",
       "    <span style=\"color: #808000; text-decoration-color: #808000\">created_by</span>=<span style=\"color: #800080; text-decoration-color: #800080; font-weight: bold\">Person</span><span style=\"font-weight: bold\">(</span>\n",
       "        <span style=\"color: #808000; text-decoration-color: #808000\">id</span>=<span style=\"color: #800080; text-decoration-color: #800080; font-weight: bold\">UUID</span><span style=\"font-weight: bold\">(</span><span style=\"color: #008000; text-decoration-color: #008000\">'cf1822ff-bc68-4778-ab49-1044d5e34124'</span><span style=\"font-weight: bold\">)</span>,\n",
       "        <span style=\"color: #808000; text-decoration-color: #808000\">update_date</span>=<span style=\"color: #800080; text-decoration-color: #800080; font-style: italic\">None</span>,\n",
       "        <span style=\"color: #808000; text-decoration-color: #808000\">creation_date</span>=<span style=\"color: #800080; text-decoration-color: #800080; font-style: italic\">None</span>,\n",
       "        <span style=\"color: #808000; text-decoration-color: #808000\">type</span>=<span style=\"color: #008000; text-decoration-color: #008000\">'person'</span>,\n",
       "        <span style=\"color: #808000; text-decoration-color: #808000\">pref_label</span>=<span style=\"color: #008000; text-decoration-color: #008000\">'Niccolò Ricardi'</span>,\n",
       "        <span style=\"color: #808000; text-decoration-color: #808000\">given_name</span>=<span style=\"color: #008000; text-decoration-color: #008000\">'Niccolò'</span>,\n",
       "        <span style=\"color: #808000; text-decoration-color: #808000\">family_name</span>=<span style=\"color: #008000; text-decoration-color: #008000\">'Ricardi'</span>\n",
       "    <span style=\"font-weight: bold\">)</span>,\n",
       "    <span style=\"color: #808000; text-decoration-color: #808000\">updated_by</span>=<span style=\"color: #800080; text-decoration-color: #800080; font-weight: bold\">Person</span><span style=\"font-weight: bold\">(</span>\n",
       "        <span style=\"color: #808000; text-decoration-color: #808000\">id</span>=<span style=\"color: #800080; text-decoration-color: #800080; font-weight: bold\">UUID</span><span style=\"font-weight: bold\">(</span><span style=\"color: #008000; text-decoration-color: #008000\">'59cc60b1-7604-44b4-a736-95c3e652c71a'</span><span style=\"font-weight: bold\">)</span>,\n",
       "        <span style=\"color: #808000; text-decoration-color: #808000\">update_date</span>=<span style=\"color: #800080; text-decoration-color: #800080; font-style: italic\">None</span>,\n",
       "        <span style=\"color: #808000; text-decoration-color: #808000\">creation_date</span>=<span style=\"color: #800080; text-decoration-color: #800080; font-style: italic\">None</span>,\n",
       "        <span style=\"color: #808000; text-decoration-color: #808000\">type</span>=<span style=\"color: #008000; text-decoration-color: #008000\">'person'</span>,\n",
       "        <span style=\"color: #808000; text-decoration-color: #808000\">pref_label</span>=<span style=\"color: #008000; text-decoration-color: #008000\">'service-account-obp-singlecell-uploader-sa service-account-obp-singlecell-uploader-sa'</span>,\n",
       "        <span style=\"color: #808000; text-decoration-color: #808000\">given_name</span>=<span style=\"color: #008000; text-decoration-color: #008000\">'service-account-obp-singlecell-uploader-sa'</span>,\n",
       "        <span style=\"color: #808000; text-decoration-color: #808000\">family_name</span>=<span style=\"color: #008000; text-decoration-color: #008000\">'service-account-obp-singlecell-uploader-sa'</span>\n",
       "    <span style=\"font-weight: bold\">)</span>,\n",
       "    <span style=\"color: #808000; text-decoration-color: #808000\">authorized_public</span>=<span style=\"color: #00ff00; text-decoration-color: #00ff00; font-style: italic\">True</span>,\n",
       "    <span style=\"color: #808000; text-decoration-color: #808000\">authorized_project_id</span>=<span style=\"color: #800080; text-decoration-color: #800080; font-weight: bold\">UUID</span><span style=\"font-weight: bold\">(</span><span style=\"color: #008000; text-decoration-color: #008000\">'0dbced5f-cc3d-488a-8c7f-cfb8ea039dc6'</span><span style=\"font-weight: bold\">)</span>,\n",
       "    <span style=\"color: #808000; text-decoration-color: #808000\">contributions</span>=<span style=\"font-weight: bold\">[</span>\n",
       "        <span style=\"color: #800080; text-decoration-color: #800080; font-weight: bold\">Contribution</span><span style=\"font-weight: bold\">(</span>\n",
       "            <span style=\"color: #808000; text-decoration-color: #808000\">id</span>=<span style=\"color: #800080; text-decoration-color: #800080; font-weight: bold\">UUID</span><span style=\"font-weight: bold\">(</span><span style=\"color: #008000; text-decoration-color: #008000\">'25acf6d5-db4b-44f3-8051-b4ee31099c26'</span><span style=\"font-weight: bold\">)</span>,\n",
       "            <span style=\"color: #808000; text-decoration-color: #808000\">update_date</span>=<span style=\"color: #800080; text-decoration-color: #800080; font-style: italic\">None</span>,\n",
       "            <span style=\"color: #808000; text-decoration-color: #808000\">creation_date</span>=<span style=\"color: #800080; text-decoration-color: #800080; font-style: italic\">None</span>,\n",
       "            <span style=\"color: #808000; text-decoration-color: #808000\">agent</span>=<span style=\"color: #800080; text-decoration-color: #800080; font-weight: bold\">Organization</span><span style=\"font-weight: bold\">(</span>\n",
       "                <span style=\"color: #808000; text-decoration-color: #808000\">id</span>=<span style=\"color: #800080; text-decoration-color: #800080; font-weight: bold\">UUID</span><span style=\"font-weight: bold\">(</span><span style=\"color: #008000; text-decoration-color: #008000\">'f03f2d71-581d-4e83-8112-ff0f0948ecca'</span><span style=\"font-weight: bold\">)</span>,\n",
       "                <span style=\"color: #808000; text-decoration-color: #808000\">update_date</span>=<span style=\"color: #800080; text-decoration-color: #800080; font-style: italic\">None</span>,\n",
       "                <span style=\"color: #808000; text-decoration-color: #808000\">creation_date</span>=<span style=\"color: #800080; text-decoration-color: #800080; font-style: italic\">None</span>,\n",
       "                <span style=\"color: #808000; text-decoration-color: #808000\">type</span>=<span style=\"color: #008000; text-decoration-color: #008000\">'organization'</span>,\n",
       "                <span style=\"color: #808000; text-decoration-color: #808000\">pref_label</span>=<span style=\"color: #008000; text-decoration-color: #008000\">'University of Debrecen'</span>,\n",
       "                <span style=\"color: #808000; text-decoration-color: #808000\">alternative_name</span>=<span style=\"color: #008000; text-decoration-color: #008000\">''</span>\n",
       "            <span style=\"font-weight: bold\">)</span>,\n",
       "            <span style=\"color: #808000; text-decoration-color: #808000\">role</span>=<span style=\"color: #800080; text-decoration-color: #800080; font-weight: bold\">Role</span><span style=\"font-weight: bold\">(</span>\n",
       "                <span style=\"color: #808000; text-decoration-color: #808000\">id</span>=<span style=\"color: #800080; text-decoration-color: #800080; font-weight: bold\">UUID</span><span style=\"font-weight: bold\">(</span><span style=\"color: #008000; text-decoration-color: #008000\">'a48b7ff5-1284-4e47-9680-6cfb1f5c88de'</span><span style=\"font-weight: bold\">)</span>,\n",
       "                <span style=\"color: #808000; text-decoration-color: #808000\">update_date</span>=<span style=\"color: #800080; text-decoration-color: #800080; font-weight: bold\">datetime</span><span style=\"color: #800080; text-decoration-color: #800080; font-weight: bold\">.datetime</span><span style=\"font-weight: bold\">(</span><span style=\"color: #008080; text-decoration-color: #008080; font-weight: bold\">2025</span>, <span style=\"color: #008080; text-decoration-color: #008080; font-weight: bold\">6</span>, <span style=\"color: #008080; text-decoration-color: #008080; font-weight: bold\">27</span>, <span style=\"color: #008080; text-decoration-color: #008080; font-weight: bold\">11</span>, <span style=\"color: #008080; text-decoration-color: #008080; font-weight: bold\">10</span>, <span style=\"color: #008080; text-decoration-color: #008080; font-weight: bold\">53</span>, <span style=\"color: #008080; text-decoration-color: #008080; font-weight: bold\">209515</span>, <span style=\"color: #808000; text-decoration-color: #808000\">tzinfo</span>=<span style=\"color: #800080; text-decoration-color: #800080; font-weight: bold\">TzInfo</span><span style=\"font-weight: bold\">(</span>UTC<span style=\"font-weight: bold\">))</span>,\n",
       "                <span style=\"color: #808000; text-decoration-color: #808000\">creation_date</span>=<span style=\"color: #800080; text-decoration-color: #800080; font-weight: bold\">datetime</span><span style=\"color: #800080; text-decoration-color: #800080; font-weight: bold\">.datetime</span><span style=\"font-weight: bold\">(</span><span style=\"color: #008080; text-decoration-color: #008080; font-weight: bold\">2025</span>, <span style=\"color: #008080; text-decoration-color: #008080; font-weight: bold\">6</span>, <span style=\"color: #008080; text-decoration-color: #008080; font-weight: bold\">27</span>, <span style=\"color: #008080; text-decoration-color: #008080; font-weight: bold\">11</span>, <span style=\"color: #008080; text-decoration-color: #008080; font-weight: bold\">10</span>, <span style=\"color: #008080; text-decoration-color: #008080; font-weight: bold\">53</span>, <span style=\"color: #008080; text-decoration-color: #008080; font-weight: bold\">209515</span>, <span style=\"color: #808000; text-decoration-color: #808000\">tzinfo</span>=<span style=\"color: #800080; text-decoration-color: #800080; font-weight: bold\">TzInfo</span><span style=\"font-weight: bold\">(</span>UTC<span style=\"font-weight: bold\">))</span>,\n",
       "                <span style=\"color: #808000; text-decoration-color: #808000\">name</span>=<span style=\"color: #008000; text-decoration-color: #008000\">'unspecified'</span>,\n",
       "                <span style=\"color: #808000; text-decoration-color: #808000\">role_id</span>=<span style=\"color: #008000; text-decoration-color: #008000\">'unspecified'</span>\n",
       "            <span style=\"font-weight: bold\">)</span>,\n",
       "            <span style=\"color: #808000; text-decoration-color: #808000\">entity</span>=<span style=\"color: #800080; text-decoration-color: #800080; font-style: italic\">None</span>\n",
       "        <span style=\"font-weight: bold\">)</span>,\n",
       "        <span style=\"color: #800080; text-decoration-color: #800080; font-weight: bold\">Contribution</span><span style=\"font-weight: bold\">(</span>\n",
       "            <span style=\"color: #808000; text-decoration-color: #808000\">id</span>=<span style=\"color: #800080; text-decoration-color: #800080; font-weight: bold\">UUID</span><span style=\"font-weight: bold\">(</span><span style=\"color: #008000; text-decoration-color: #008000\">'9790ea2f-b8a0-4f95-aab3-097d23eba00d'</span><span style=\"font-weight: bold\">)</span>,\n",
       "            <span style=\"color: #808000; text-decoration-color: #808000\">update_date</span>=<span style=\"color: #800080; text-decoration-color: #800080; font-style: italic\">None</span>,\n",
       "            <span style=\"color: #808000; text-decoration-color: #808000\">creation_date</span>=<span style=\"color: #800080; text-decoration-color: #800080; font-style: italic\">None</span>,\n",
       "            <span style=\"color: #808000; text-decoration-color: #808000\">agent</span>=<span style=\"color: #800080; text-decoration-color: #800080; font-weight: bold\">Person</span><span style=\"font-weight: bold\">(</span>\n",
       "                <span style=\"color: #808000; text-decoration-color: #808000\">id</span>=<span style=\"color: #800080; text-decoration-color: #800080; font-weight: bold\">UUID</span><span style=\"font-weight: bold\">(</span><span style=\"color: #008000; text-decoration-color: #008000\">'1e5bfa6b-ebe4-4b82-b5ee-773384eaed1f'</span><span style=\"font-weight: bold\">)</span>,\n",
       "                <span style=\"color: #808000; text-decoration-color: #808000\">update_date</span>=<span style=\"color: #800080; text-decoration-color: #800080; font-style: italic\">None</span>,\n",
       "                <span style=\"color: #808000; text-decoration-color: #808000\">creation_date</span>=<span style=\"color: #800080; text-decoration-color: #800080; font-style: italic\">None</span>,\n",
       "                <span style=\"color: #808000; text-decoration-color: #808000\">type</span>=<span style=\"color: #008000; text-decoration-color: #008000\">'person'</span>,\n",
       "                <span style=\"color: #808000; text-decoration-color: #808000\">pref_label</span>=<span style=\"color: #008000; text-decoration-color: #008000\">'Zoltan Kisvarday'</span>,\n",
       "                <span style=\"color: #808000; text-decoration-color: #808000\">given_name</span>=<span style=\"color: #008000; text-decoration-color: #008000\">'Zoltan'</span>,\n",
       "                <span style=\"color: #808000; text-decoration-color: #808000\">family_name</span>=<span style=\"color: #008000; text-decoration-color: #008000\">'Kisvarday'</span>\n",
       "            <span style=\"font-weight: bold\">)</span>,\n",
       "            <span style=\"color: #808000; text-decoration-color: #808000\">role</span>=<span style=\"color: #800080; text-decoration-color: #800080; font-weight: bold\">Role</span><span style=\"font-weight: bold\">(</span>\n",
       "                <span style=\"color: #808000; text-decoration-color: #808000\">id</span>=<span style=\"color: #800080; text-decoration-color: #800080; font-weight: bold\">UUID</span><span style=\"font-weight: bold\">(</span><span style=\"color: #008000; text-decoration-color: #008000\">'78b53cbf-ad29-49fd-82e7-d0bc328fc581'</span><span style=\"font-weight: bold\">)</span>,\n",
       "                <span style=\"color: #808000; text-decoration-color: #808000\">update_date</span>=<span style=\"color: #800080; text-decoration-color: #800080; font-weight: bold\">datetime</span><span style=\"color: #800080; text-decoration-color: #800080; font-weight: bold\">.datetime</span><span style=\"font-weight: bold\">(</span><span style=\"color: #008080; text-decoration-color: #008080; font-weight: bold\">2025</span>, <span style=\"color: #008080; text-decoration-color: #008080; font-weight: bold\">6</span>, <span style=\"color: #008080; text-decoration-color: #008080; font-weight: bold\">27</span>, <span style=\"color: #008080; text-decoration-color: #008080; font-weight: bold\">11</span>, <span style=\"color: #008080; text-decoration-color: #008080; font-weight: bold\">11</span>, <span style=\"color: #008080; text-decoration-color: #008080; font-weight: bold\">3</span>, <span style=\"color: #008080; text-decoration-color: #008080; font-weight: bold\">556935</span>, <span style=\"color: #808000; text-decoration-color: #808000\">tzinfo</span>=<span style=\"color: #800080; text-decoration-color: #800080; font-weight: bold\">TzInfo</span><span style=\"font-weight: bold\">(</span>UTC<span style=\"font-weight: bold\">))</span>,\n",
       "                <span style=\"color: #808000; text-decoration-color: #808000\">creation_date</span>=<span style=\"color: #800080; text-decoration-color: #800080; font-weight: bold\">datetime</span><span style=\"color: #800080; text-decoration-color: #800080; font-weight: bold\">.datetime</span><span style=\"font-weight: bold\">(</span><span style=\"color: #008080; text-decoration-color: #008080; font-weight: bold\">2025</span>, <span style=\"color: #008080; text-decoration-color: #008080; font-weight: bold\">6</span>, <span style=\"color: #008080; text-decoration-color: #008080; font-weight: bold\">27</span>, <span style=\"color: #008080; text-decoration-color: #008080; font-weight: bold\">11</span>, <span style=\"color: #008080; text-decoration-color: #008080; font-weight: bold\">11</span>, <span style=\"color: #008080; text-decoration-color: #008080; font-weight: bold\">3</span>, <span style=\"color: #008080; text-decoration-color: #008080; font-weight: bold\">556935</span>, <span style=\"color: #808000; text-decoration-color: #808000\">tzinfo</span>=<span style=\"color: #800080; text-decoration-color: #800080; font-weight: bold\">TzInfo</span><span style=\"font-weight: bold\">(</span>UTC<span style=\"font-weight: bold\">))</span>,\n",
       "                <span style=\"color: #808000; text-decoration-color: #808000\">name</span>=<span style=\"color: #008000; text-decoration-color: #008000\">'neuron morphology reconstruction role'</span>,\n",
       "                <span style=\"color: #808000; text-decoration-color: #808000\">role_id</span>=<span style=\"color: #008000; text-decoration-color: #008000\">'Neuron:MorphologyReconstructionRole'</span>\n",
       "            <span style=\"font-weight: bold\">)</span>,\n",
       "            <span style=\"color: #808000; text-decoration-color: #808000\">entity</span>=<span style=\"color: #800080; text-decoration-color: #800080; font-style: italic\">None</span>\n",
       "        <span style=\"font-weight: bold\">)</span>,\n",
       "        <span style=\"color: #800080; text-decoration-color: #800080; font-weight: bold\">Contribution</span><span style=\"font-weight: bold\">(</span>\n",
       "            <span style=\"color: #808000; text-decoration-color: #808000\">id</span>=<span style=\"color: #800080; text-decoration-color: #800080; font-weight: bold\">UUID</span><span style=\"font-weight: bold\">(</span><span style=\"color: #008000; text-decoration-color: #008000\">'da62109b-d8fc-41e4-aa53-00f1b1390da9'</span><span style=\"font-weight: bold\">)</span>,\n",
       "            <span style=\"color: #808000; text-decoration-color: #808000\">update_date</span>=<span style=\"color: #800080; text-decoration-color: #800080; font-style: italic\">None</span>,\n",
       "            <span style=\"color: #808000; text-decoration-color: #808000\">creation_date</span>=<span style=\"color: #800080; text-decoration-color: #800080; font-style: italic\">None</span>,\n",
       "            <span style=\"color: #808000; text-decoration-color: #808000\">agent</span>=<span style=\"color: #800080; text-decoration-color: #800080; font-weight: bold\">Person</span><span style=\"font-weight: bold\">(</span>\n",
       "                <span style=\"color: #808000; text-decoration-color: #808000\">id</span>=<span style=\"color: #800080; text-decoration-color: #800080; font-weight: bold\">UUID</span><span style=\"font-weight: bold\">(</span><span style=\"color: #008000; text-decoration-color: #008000\">'c3aba2f4-c866-4cb3-9bca-24abfec109fb'</span><span style=\"font-weight: bold\">)</span>,\n",
       "                <span style=\"color: #808000; text-decoration-color: #808000\">update_date</span>=<span style=\"color: #800080; text-decoration-color: #800080; font-style: italic\">None</span>,\n",
       "                <span style=\"color: #808000; text-decoration-color: #808000\">creation_date</span>=<span style=\"color: #800080; text-decoration-color: #800080; font-style: italic\">None</span>,\n",
       "                <span style=\"color: #808000; text-decoration-color: #808000\">type</span>=<span style=\"color: #008000; text-decoration-color: #008000\">'person'</span>,\n",
       "                <span style=\"color: #808000; text-decoration-color: #808000\">pref_label</span>=<span style=\"color: #008000; text-decoration-color: #008000\">'Michael Gevaert'</span>,\n",
       "                <span style=\"color: #808000; text-decoration-color: #808000\">given_name</span>=<span style=\"color: #008000; text-decoration-color: #008000\">'Michael'</span>,\n",
       "                <span style=\"color: #808000; text-decoration-color: #808000\">family_name</span>=<span style=\"color: #008000; text-decoration-color: #008000\">'Gevaert'</span>\n",
       "            <span style=\"font-weight: bold\">)</span>,\n",
       "            <span style=\"color: #808000; text-decoration-color: #808000\">role</span>=<span style=\"color: #800080; text-decoration-color: #800080; font-weight: bold\">Role</span><span style=\"font-weight: bold\">(</span>\n",
       "                <span style=\"color: #808000; text-decoration-color: #808000\">id</span>=<span style=\"color: #800080; text-decoration-color: #800080; font-weight: bold\">UUID</span><span style=\"font-weight: bold\">(</span><span style=\"color: #008000; text-decoration-color: #008000\">'92bb41a0-9e3c-40eb-8b4b-8f3977231962'</span><span style=\"font-weight: bold\">)</span>,\n",
       "                <span style=\"color: #808000; text-decoration-color: #808000\">update_date</span>=<span style=\"color: #800080; text-decoration-color: #800080; font-weight: bold\">datetime</span><span style=\"color: #800080; text-decoration-color: #800080; font-weight: bold\">.datetime</span><span style=\"font-weight: bold\">(</span><span style=\"color: #008080; text-decoration-color: #008080; font-weight: bold\">2025</span>, <span style=\"color: #008080; text-decoration-color: #008080; font-weight: bold\">6</span>, <span style=\"color: #008080; text-decoration-color: #008080; font-weight: bold\">27</span>, <span style=\"color: #008080; text-decoration-color: #008080; font-weight: bold\">11</span>, <span style=\"color: #008080; text-decoration-color: #008080; font-weight: bold\">11</span>, <span style=\"color: #008080; text-decoration-color: #008080; font-weight: bold\">3</span>, <span style=\"color: #008080; text-decoration-color: #008080; font-weight: bold\">525497</span>, <span style=\"color: #808000; text-decoration-color: #808000\">tzinfo</span>=<span style=\"color: #800080; text-decoration-color: #800080; font-weight: bold\">TzInfo</span><span style=\"font-weight: bold\">(</span>UTC<span style=\"font-weight: bold\">))</span>,\n",
       "                <span style=\"color: #808000; text-decoration-color: #808000\">creation_date</span>=<span style=\"color: #800080; text-decoration-color: #800080; font-weight: bold\">datetime</span><span style=\"color: #800080; text-decoration-color: #800080; font-weight: bold\">.datetime</span><span style=\"font-weight: bold\">(</span><span style=\"color: #008080; text-decoration-color: #008080; font-weight: bold\">2025</span>, <span style=\"color: #008080; text-decoration-color: #008080; font-weight: bold\">6</span>, <span style=\"color: #008080; text-decoration-color: #008080; font-weight: bold\">27</span>, <span style=\"color: #008080; text-decoration-color: #008080; font-weight: bold\">11</span>, <span style=\"color: #008080; text-decoration-color: #008080; font-weight: bold\">11</span>, <span style=\"color: #008080; text-decoration-color: #008080; font-weight: bold\">3</span>, <span style=\"color: #008080; text-decoration-color: #008080; font-weight: bold\">525497</span>, <span style=\"color: #808000; text-decoration-color: #808000\">tzinfo</span>=<span style=\"color: #800080; text-decoration-color: #800080; font-weight: bold\">TzInfo</span><span style=\"font-weight: bold\">(</span>UTC<span style=\"font-weight: bold\">))</span>,\n",
       "                <span style=\"color: #808000; text-decoration-color: #808000\">name</span>=<span style=\"color: #008000; text-decoration-color: #008000\">'data transformation role'</span>,\n",
       "                <span style=\"color: #808000; text-decoration-color: #808000\">role_id</span>=<span style=\"color: #008000; text-decoration-color: #008000\">'obo:CRO_0000072'</span>\n",
       "            <span style=\"font-weight: bold\">)</span>,\n",
       "            <span style=\"color: #808000; text-decoration-color: #808000\">entity</span>=<span style=\"color: #800080; text-decoration-color: #800080; font-style: italic\">None</span>\n",
       "        <span style=\"font-weight: bold\">)</span>,\n",
       "        <span style=\"color: #800080; text-decoration-color: #800080; font-weight: bold\">Contribution</span><span style=\"font-weight: bold\">(</span>\n",
       "            <span style=\"color: #808000; text-decoration-color: #808000\">id</span>=<span style=\"color: #800080; text-decoration-color: #800080; font-weight: bold\">UUID</span><span style=\"font-weight: bold\">(</span><span style=\"color: #008000; text-decoration-color: #008000\">'e2b58f2d-8628-4701-a038-f478a2f36d0f'</span><span style=\"font-weight: bold\">)</span>,\n",
       "            <span style=\"color: #808000; text-decoration-color: #808000\">update_date</span>=<span style=\"color: #800080; text-decoration-color: #800080; font-style: italic\">None</span>,\n",
       "            <span style=\"color: #808000; text-decoration-color: #808000\">creation_date</span>=<span style=\"color: #800080; text-decoration-color: #800080; font-style: italic\">None</span>,\n",
       "            <span style=\"color: #808000; text-decoration-color: #808000\">agent</span>=<span style=\"color: #800080; text-decoration-color: #800080; font-weight: bold\">Person</span><span style=\"font-weight: bold\">(</span>\n",
       "                <span style=\"color: #808000; text-decoration-color: #808000\">id</span>=<span style=\"color: #800080; text-decoration-color: #800080; font-weight: bold\">UUID</span><span style=\"font-weight: bold\">(</span><span style=\"color: #008000; text-decoration-color: #008000\">'0db6eaa3-829a-4993-a492-3e422e304ca0'</span><span style=\"font-weight: bold\">)</span>,\n",
       "                <span style=\"color: #808000; text-decoration-color: #808000\">update_date</span>=<span style=\"color: #800080; text-decoration-color: #800080; font-style: italic\">None</span>,\n",
       "                <span style=\"color: #808000; text-decoration-color: #808000\">creation_date</span>=<span style=\"color: #800080; text-decoration-color: #800080; font-style: italic\">None</span>,\n",
       "                <span style=\"color: #808000; text-decoration-color: #808000\">type</span>=<span style=\"color: #008000; text-decoration-color: #008000\">'person'</span>,\n",
       "                <span style=\"color: #808000; text-decoration-color: #808000\">pref_label</span>=<span style=\"color: #008000; text-decoration-color: #008000\">'Lida Kanari'</span>,\n",
       "                <span style=\"color: #808000; text-decoration-color: #808000\">given_name</span>=<span style=\"color: #008000; text-decoration-color: #008000\">'Lida'</span>,\n",
       "                <span style=\"color: #808000; text-decoration-color: #808000\">family_name</span>=<span style=\"color: #008000; text-decoration-color: #008000\">'Kanari'</span>\n",
       "            <span style=\"font-weight: bold\">)</span>,\n",
       "            <span style=\"color: #808000; text-decoration-color: #808000\">role</span>=<span style=\"color: #800080; text-decoration-color: #800080; font-weight: bold\">Role</span><span style=\"font-weight: bold\">(</span>\n",
       "                <span style=\"color: #808000; text-decoration-color: #808000\">id</span>=<span style=\"color: #800080; text-decoration-color: #800080; font-weight: bold\">UUID</span><span style=\"font-weight: bold\">(</span><span style=\"color: #008000; text-decoration-color: #008000\">'7aea24b2-85f9-4a34-959c-977d88087204'</span><span style=\"font-weight: bold\">)</span>,\n",
       "                <span style=\"color: #808000; text-decoration-color: #808000\">update_date</span>=<span style=\"color: #800080; text-decoration-color: #800080; font-weight: bold\">datetime</span><span style=\"color: #800080; text-decoration-color: #800080; font-weight: bold\">.datetime</span><span style=\"font-weight: bold\">(</span><span style=\"color: #008080; text-decoration-color: #008080; font-weight: bold\">2025</span>, <span style=\"color: #008080; text-decoration-color: #008080; font-weight: bold\">6</span>, <span style=\"color: #008080; text-decoration-color: #008080; font-weight: bold\">27</span>, <span style=\"color: #008080; text-decoration-color: #008080; font-weight: bold\">11</span>, <span style=\"color: #008080; text-decoration-color: #008080; font-weight: bold\">11</span>, <span style=\"color: #008080; text-decoration-color: #008080; font-weight: bold\">3</span>, <span style=\"color: #008080; text-decoration-color: #008080; font-weight: bold\">566636</span>, <span style=\"color: #808000; text-decoration-color: #808000\">tzinfo</span>=<span style=\"color: #800080; text-decoration-color: #800080; font-weight: bold\">TzInfo</span><span style=\"font-weight: bold\">(</span>UTC<span style=\"font-weight: bold\">))</span>,\n",
       "                <span style=\"color: #808000; text-decoration-color: #808000\">creation_date</span>=<span style=\"color: #800080; text-decoration-color: #800080; font-weight: bold\">datetime</span><span style=\"color: #800080; text-decoration-color: #800080; font-weight: bold\">.datetime</span><span style=\"font-weight: bold\">(</span><span style=\"color: #008080; text-decoration-color: #008080; font-weight: bold\">2025</span>, <span style=\"color: #008080; text-decoration-color: #008080; font-weight: bold\">6</span>, <span style=\"color: #008080; text-decoration-color: #008080; font-weight: bold\">27</span>, <span style=\"color: #008080; text-decoration-color: #008080; font-weight: bold\">11</span>, <span style=\"color: #008080; text-decoration-color: #008080; font-weight: bold\">11</span>, <span style=\"color: #008080; text-decoration-color: #008080; font-weight: bold\">3</span>, <span style=\"color: #008080; text-decoration-color: #008080; font-weight: bold\">566636</span>, <span style=\"color: #808000; text-decoration-color: #808000\">tzinfo</span>=<span style=\"color: #800080; text-decoration-color: #800080; font-weight: bold\">TzInfo</span><span style=\"font-weight: bold\">(</span>UTC<span style=\"font-weight: bold\">))</span>,\n",
       "                <span style=\"color: #808000; text-decoration-color: #808000\">name</span>=<span style=\"color: #008000; text-decoration-color: #008000\">'data curation role'</span>,\n",
       "                <span style=\"color: #808000; text-decoration-color: #808000\">role_id</span>=<span style=\"color: #008000; text-decoration-color: #008000\">'http://purl.org/credit/ontology#CREDIT_00000002'</span>\n",
       "            <span style=\"font-weight: bold\">)</span>,\n",
       "            <span style=\"color: #808000; text-decoration-color: #808000\">entity</span>=<span style=\"color: #800080; text-decoration-color: #800080; font-style: italic\">None</span>\n",
       "        <span style=\"font-weight: bold\">)</span>,\n",
       "        <span style=\"color: #800080; text-decoration-color: #800080; font-weight: bold\">Contribution</span><span style=\"font-weight: bold\">(</span>\n",
       "            <span style=\"color: #808000; text-decoration-color: #808000\">id</span>=<span style=\"color: #800080; text-decoration-color: #800080; font-weight: bold\">UUID</span><span style=\"font-weight: bold\">(</span><span style=\"color: #008000; text-decoration-color: #008000\">'64205724-9b64-4a23-8ec0-3a6da5aacd9f'</span><span style=\"font-weight: bold\">)</span>,\n",
       "            <span style=\"color: #808000; text-decoration-color: #808000\">update_date</span>=<span style=\"color: #800080; text-decoration-color: #800080; font-style: italic\">None</span>,\n",
       "            <span style=\"color: #808000; text-decoration-color: #808000\">creation_date</span>=<span style=\"color: #800080; text-decoration-color: #800080; font-style: italic\">None</span>,\n",
       "            <span style=\"color: #808000; text-decoration-color: #808000\">agent</span>=<span style=\"color: #800080; text-decoration-color: #800080; font-weight: bold\">Person</span><span style=\"font-weight: bold\">(</span>\n",
       "                <span style=\"color: #808000; text-decoration-color: #808000\">id</span>=<span style=\"color: #800080; text-decoration-color: #800080; font-weight: bold\">UUID</span><span style=\"font-weight: bold\">(</span><span style=\"color: #008000; text-decoration-color: #008000\">'182c8eb9-d0e9-4504-ad68-0ac5a66bf90e'</span><span style=\"font-weight: bold\">)</span>,\n",
       "                <span style=\"color: #808000; text-decoration-color: #808000\">update_date</span>=<span style=\"color: #800080; text-decoration-color: #800080; font-style: italic\">None</span>,\n",
       "                <span style=\"color: #808000; text-decoration-color: #808000\">creation_date</span>=<span style=\"color: #800080; text-decoration-color: #800080; font-style: italic\">None</span>,\n",
       "                <span style=\"color: #808000; text-decoration-color: #808000\">type</span>=<span style=\"color: #008000; text-decoration-color: #008000\">'person'</span>,\n",
       "                <span style=\"color: #808000; text-decoration-color: #808000\">pref_label</span>=<span style=\"color: #008000; text-decoration-color: #008000\">'Ying Shi'</span>,\n",
       "                <span style=\"color: #808000; text-decoration-color: #808000\">given_name</span>=<span style=\"color: #008000; text-decoration-color: #008000\">'Ying'</span>,\n",
       "                <span style=\"color: #808000; text-decoration-color: #808000\">family_name</span>=<span style=\"color: #008000; text-decoration-color: #008000\">'Shi'</span>\n",
       "            <span style=\"font-weight: bold\">)</span>,\n",
       "            <span style=\"color: #808000; text-decoration-color: #808000\">role</span>=<span style=\"color: #800080; text-decoration-color: #800080; font-weight: bold\">Role</span><span style=\"font-weight: bold\">(</span>\n",
       "                <span style=\"color: #808000; text-decoration-color: #808000\">id</span>=<span style=\"color: #800080; text-decoration-color: #800080; font-weight: bold\">UUID</span><span style=\"font-weight: bold\">(</span><span style=\"color: #008000; text-decoration-color: #008000\">'a48b7ff5-1284-4e47-9680-6cfb1f5c88de'</span><span style=\"font-weight: bold\">)</span>,\n",
       "                <span style=\"color: #808000; text-decoration-color: #808000\">update_date</span>=<span style=\"color: #800080; text-decoration-color: #800080; font-weight: bold\">datetime</span><span style=\"color: #800080; text-decoration-color: #800080; font-weight: bold\">.datetime</span><span style=\"font-weight: bold\">(</span><span style=\"color: #008080; text-decoration-color: #008080; font-weight: bold\">2025</span>, <span style=\"color: #008080; text-decoration-color: #008080; font-weight: bold\">6</span>, <span style=\"color: #008080; text-decoration-color: #008080; font-weight: bold\">27</span>, <span style=\"color: #008080; text-decoration-color: #008080; font-weight: bold\">11</span>, <span style=\"color: #008080; text-decoration-color: #008080; font-weight: bold\">10</span>, <span style=\"color: #008080; text-decoration-color: #008080; font-weight: bold\">53</span>, <span style=\"color: #008080; text-decoration-color: #008080; font-weight: bold\">209515</span>, <span style=\"color: #808000; text-decoration-color: #808000\">tzinfo</span>=<span style=\"color: #800080; text-decoration-color: #800080; font-weight: bold\">TzInfo</span><span style=\"font-weight: bold\">(</span>UTC<span style=\"font-weight: bold\">))</span>,\n",
       "                <span style=\"color: #808000; text-decoration-color: #808000\">creation_date</span>=<span style=\"color: #800080; text-decoration-color: #800080; font-weight: bold\">datetime</span><span style=\"color: #800080; text-decoration-color: #800080; font-weight: bold\">.datetime</span><span style=\"font-weight: bold\">(</span><span style=\"color: #008080; text-decoration-color: #008080; font-weight: bold\">2025</span>, <span style=\"color: #008080; text-decoration-color: #008080; font-weight: bold\">6</span>, <span style=\"color: #008080; text-decoration-color: #008080; font-weight: bold\">27</span>, <span style=\"color: #008080; text-decoration-color: #008080; font-weight: bold\">11</span>, <span style=\"color: #008080; text-decoration-color: #008080; font-weight: bold\">10</span>, <span style=\"color: #008080; text-decoration-color: #008080; font-weight: bold\">53</span>, <span style=\"color: #008080; text-decoration-color: #008080; font-weight: bold\">209515</span>, <span style=\"color: #808000; text-decoration-color: #808000\">tzinfo</span>=<span style=\"color: #800080; text-decoration-color: #800080; font-weight: bold\">TzInfo</span><span style=\"font-weight: bold\">(</span>UTC<span style=\"font-weight: bold\">))</span>,\n",
       "                <span style=\"color: #808000; text-decoration-color: #808000\">name</span>=<span style=\"color: #008000; text-decoration-color: #008000\">'unspecified'</span>,\n",
       "                <span style=\"color: #808000; text-decoration-color: #808000\">role_id</span>=<span style=\"color: #008000; text-decoration-color: #008000\">'unspecified'</span>\n",
       "            <span style=\"font-weight: bold\">)</span>,\n",
       "            <span style=\"color: #808000; text-decoration-color: #808000\">entity</span>=<span style=\"color: #800080; text-decoration-color: #800080; font-style: italic\">None</span>\n",
       "        <span style=\"font-weight: bold\">)</span>,\n",
       "        <span style=\"color: #800080; text-decoration-color: #800080; font-weight: bold\">Contribution</span><span style=\"font-weight: bold\">(</span>\n",
       "            <span style=\"color: #808000; text-decoration-color: #808000\">id</span>=<span style=\"color: #800080; text-decoration-color: #800080; font-weight: bold\">UUID</span><span style=\"font-weight: bold\">(</span><span style=\"color: #008000; text-decoration-color: #008000\">'ac8ea683-c09f-416d-af27-562f9e6ad568'</span><span style=\"font-weight: bold\">)</span>,\n",
       "            <span style=\"color: #808000; text-decoration-color: #808000\">update_date</span>=<span style=\"color: #800080; text-decoration-color: #800080; font-style: italic\">None</span>,\n",
       "            <span style=\"color: #808000; text-decoration-color: #808000\">creation_date</span>=<span style=\"color: #800080; text-decoration-color: #800080; font-style: italic\">None</span>,\n",
       "            <span style=\"color: #808000; text-decoration-color: #808000\">agent</span>=<span style=\"color: #800080; text-decoration-color: #800080; font-weight: bold\">Organization</span><span style=\"font-weight: bold\">(</span>\n",
       "                <span style=\"color: #808000; text-decoration-color: #808000\">id</span>=<span style=\"color: #800080; text-decoration-color: #800080; font-weight: bold\">UUID</span><span style=\"font-weight: bold\">(</span><span style=\"color: #008000; text-decoration-color: #008000\">'36b621f5-5d56-45a2-9b49-f36261142cc4'</span><span style=\"font-weight: bold\">)</span>,\n",
       "                <span style=\"color: #808000; text-decoration-color: #808000\">update_date</span>=<span style=\"color: #800080; text-decoration-color: #800080; font-style: italic\">None</span>,\n",
       "                <span style=\"color: #808000; text-decoration-color: #808000\">creation_date</span>=<span style=\"color: #800080; text-decoration-color: #800080; font-style: italic\">None</span>,\n",
       "                <span style=\"color: #808000; text-decoration-color: #808000\">type</span>=<span style=\"color: #008000; text-decoration-color: #008000\">'organization'</span>,\n",
       "                <span style=\"color: #808000; text-decoration-color: #808000\">pref_label</span>=<span style=\"color: #008000; text-decoration-color: #008000\">'École Polytechnique Fédérale de Lausanne'</span>,\n",
       "                <span style=\"color: #808000; text-decoration-color: #808000\">alternative_name</span>=<span style=\"color: #008000; text-decoration-color: #008000\">''</span>\n",
       "            <span style=\"font-weight: bold\">)</span>,\n",
       "            <span style=\"color: #808000; text-decoration-color: #808000\">role</span>=<span style=\"color: #800080; text-decoration-color: #800080; font-weight: bold\">Role</span><span style=\"font-weight: bold\">(</span>\n",
       "                <span style=\"color: #808000; text-decoration-color: #808000\">id</span>=<span style=\"color: #800080; text-decoration-color: #800080; font-weight: bold\">UUID</span><span style=\"font-weight: bold\">(</span><span style=\"color: #008000; text-decoration-color: #008000\">'a48b7ff5-1284-4e47-9680-6cfb1f5c88de'</span><span style=\"font-weight: bold\">)</span>,\n",
       "                <span style=\"color: #808000; text-decoration-color: #808000\">update_date</span>=<span style=\"color: #800080; text-decoration-color: #800080; font-weight: bold\">datetime</span><span style=\"color: #800080; text-decoration-color: #800080; font-weight: bold\">.datetime</span><span style=\"font-weight: bold\">(</span><span style=\"color: #008080; text-decoration-color: #008080; font-weight: bold\">2025</span>, <span style=\"color: #008080; text-decoration-color: #008080; font-weight: bold\">6</span>, <span style=\"color: #008080; text-decoration-color: #008080; font-weight: bold\">27</span>, <span style=\"color: #008080; text-decoration-color: #008080; font-weight: bold\">11</span>, <span style=\"color: #008080; text-decoration-color: #008080; font-weight: bold\">10</span>, <span style=\"color: #008080; text-decoration-color: #008080; font-weight: bold\">53</span>, <span style=\"color: #008080; text-decoration-color: #008080; font-weight: bold\">209515</span>, <span style=\"color: #808000; text-decoration-color: #808000\">tzinfo</span>=<span style=\"color: #800080; text-decoration-color: #800080; font-weight: bold\">TzInfo</span><span style=\"font-weight: bold\">(</span>UTC<span style=\"font-weight: bold\">))</span>,\n",
       "                <span style=\"color: #808000; text-decoration-color: #808000\">creation_date</span>=<span style=\"color: #800080; text-decoration-color: #800080; font-weight: bold\">datetime</span><span style=\"color: #800080; text-decoration-color: #800080; font-weight: bold\">.datetime</span><span style=\"font-weight: bold\">(</span><span style=\"color: #008080; text-decoration-color: #008080; font-weight: bold\">2025</span>, <span style=\"color: #008080; text-decoration-color: #008080; font-weight: bold\">6</span>, <span style=\"color: #008080; text-decoration-color: #008080; font-weight: bold\">27</span>, <span style=\"color: #008080; text-decoration-color: #008080; font-weight: bold\">11</span>, <span style=\"color: #008080; text-decoration-color: #008080; font-weight: bold\">10</span>, <span style=\"color: #008080; text-decoration-color: #008080; font-weight: bold\">53</span>, <span style=\"color: #008080; text-decoration-color: #008080; font-weight: bold\">209515</span>, <span style=\"color: #808000; text-decoration-color: #808000\">tzinfo</span>=<span style=\"color: #800080; text-decoration-color: #800080; font-weight: bold\">TzInfo</span><span style=\"font-weight: bold\">(</span>UTC<span style=\"font-weight: bold\">))</span>,\n",
       "                <span style=\"color: #808000; text-decoration-color: #808000\">name</span>=<span style=\"color: #008000; text-decoration-color: #008000\">'unspecified'</span>,\n",
       "                <span style=\"color: #808000; text-decoration-color: #808000\">role_id</span>=<span style=\"color: #008000; text-decoration-color: #008000\">'unspecified'</span>\n",
       "            <span style=\"font-weight: bold\">)</span>,\n",
       "            <span style=\"color: #808000; text-decoration-color: #808000\">entity</span>=<span style=\"color: #800080; text-decoration-color: #800080; font-style: italic\">None</span>\n",
       "        <span style=\"font-weight: bold\">)</span>\n",
       "    <span style=\"font-weight: bold\">]</span>,\n",
       "    <span style=\"color: #808000; text-decoration-color: #808000\">legacy_id</span>=<span style=\"font-weight: bold\">[</span>\n",
       "        <span style=\"color: #008000; text-decoration-color: #008000\">'https://bbp.epfl.ch/data/bbp/mmb-point-neuron-framework-model/6cd7325b-3f45-48e7-8eee-f88c75ca99a7'</span>\n",
       "    <span style=\"font-weight: bold\">]</span>,\n",
       "    <span style=\"color: #808000; text-decoration-color: #808000\">location</span>=<span style=\"color: #800080; text-decoration-color: #800080; font-style: italic\">None</span>,\n",
       "    <span style=\"color: #808000; text-decoration-color: #808000\">brain_region</span>=<span style=\"color: #800080; text-decoration-color: #800080; font-weight: bold\">BrainRegion</span><span style=\"font-weight: bold\">(</span>\n",
       "        <span style=\"color: #808000; text-decoration-color: #808000\">id</span>=<span style=\"color: #800080; text-decoration-color: #800080; font-weight: bold\">UUID</span><span style=\"font-weight: bold\">(</span><span style=\"color: #008000; text-decoration-color: #008000\">'61d89b07-dfa0-439a-9187-7ebfe60e212b'</span><span style=\"font-weight: bold\">)</span>,\n",
       "        <span style=\"color: #808000; text-decoration-color: #808000\">update_date</span>=<span style=\"color: #800080; text-decoration-color: #800080; font-weight: bold\">datetime</span><span style=\"color: #800080; text-decoration-color: #800080; font-weight: bold\">.datetime</span><span style=\"font-weight: bold\">(</span><span style=\"color: #008080; text-decoration-color: #008080; font-weight: bold\">2025</span>, <span style=\"color: #008080; text-decoration-color: #008080; font-weight: bold\">6</span>, <span style=\"color: #008080; text-decoration-color: #008080; font-weight: bold\">27</span>, <span style=\"color: #008080; text-decoration-color: #008080; font-weight: bold\">11</span>, <span style=\"color: #008080; text-decoration-color: #008080; font-weight: bold\">10</span>, <span style=\"color: #008080; text-decoration-color: #008080; font-weight: bold\">27</span>, <span style=\"color: #008080; text-decoration-color: #008080; font-weight: bold\">186088</span>, <span style=\"color: #808000; text-decoration-color: #808000\">tzinfo</span>=<span style=\"color: #800080; text-decoration-color: #800080; font-weight: bold\">TzInfo</span><span style=\"font-weight: bold\">(</span>UTC<span style=\"font-weight: bold\">))</span>,\n",
       "        <span style=\"color: #808000; text-decoration-color: #808000\">creation_date</span>=<span style=\"color: #800080; text-decoration-color: #800080; font-weight: bold\">datetime</span><span style=\"color: #800080; text-decoration-color: #800080; font-weight: bold\">.datetime</span><span style=\"font-weight: bold\">(</span><span style=\"color: #008080; text-decoration-color: #008080; font-weight: bold\">2025</span>, <span style=\"color: #008080; text-decoration-color: #008080; font-weight: bold\">6</span>, <span style=\"color: #008080; text-decoration-color: #008080; font-weight: bold\">27</span>, <span style=\"color: #008080; text-decoration-color: #008080; font-weight: bold\">11</span>, <span style=\"color: #008080; text-decoration-color: #008080; font-weight: bold\">10</span>, <span style=\"color: #008080; text-decoration-color: #008080; font-weight: bold\">27</span>, <span style=\"color: #008080; text-decoration-color: #008080; font-weight: bold\">186088</span>, <span style=\"color: #808000; text-decoration-color: #808000\">tzinfo</span>=<span style=\"color: #800080; text-decoration-color: #800080; font-weight: bold\">TzInfo</span><span style=\"font-weight: bold\">(</span>UTC<span style=\"font-weight: bold\">))</span>,\n",
       "        <span style=\"color: #808000; text-decoration-color: #808000\">name</span>=<span style=\"color: #008000; text-decoration-color: #008000\">'Primary somatosensory area'</span>,\n",
       "        <span style=\"color: #808000; text-decoration-color: #808000\">annotation_value</span>=<span style=\"color: #008080; text-decoration-color: #008080; font-weight: bold\">322</span>,\n",
       "        <span style=\"color: #808000; text-decoration-color: #808000\">acronym</span>=<span style=\"color: #008000; text-decoration-color: #008000\">'SSp'</span>,\n",
       "        <span style=\"color: #808000; text-decoration-color: #808000\">parent_structure_id</span>=<span style=\"color: #800080; text-decoration-color: #800080; font-weight: bold\">UUID</span><span style=\"font-weight: bold\">(</span><span style=\"color: #008000; text-decoration-color: #008000\">'9680c40f-ccfe-4804-851f-1024ff0d6409'</span><span style=\"font-weight: bold\">)</span>,\n",
       "        <span style=\"color: #808000; text-decoration-color: #808000\">hierarchy_id</span>=<span style=\"color: #800080; text-decoration-color: #800080; font-weight: bold\">UUID</span><span style=\"font-weight: bold\">(</span><span style=\"color: #008000; text-decoration-color: #008000\">'e3e70682-c209-4cac-a29f-6fbed82c07cd'</span><span style=\"font-weight: bold\">)</span>,\n",
       "        <span style=\"color: #808000; text-decoration-color: #808000\">color_hex_triplet</span>=<span style=\"color: #008000; text-decoration-color: #008000\">'188064'</span>\n",
       "    <span style=\"font-weight: bold\">)</span>,\n",
       "    <span style=\"color: #808000; text-decoration-color: #808000\">species</span>=<span style=\"color: #800080; text-decoration-color: #800080; font-weight: bold\">Species</span><span style=\"font-weight: bold\">(</span>\n",
       "        <span style=\"color: #808000; text-decoration-color: #808000\">id</span>=<span style=\"color: #800080; text-decoration-color: #800080; font-weight: bold\">UUID</span><span style=\"font-weight: bold\">(</span><span style=\"color: #008000; text-decoration-color: #008000\">'b7ad4cca-4ac2-4095-9781-37fb68fe9ca1'</span><span style=\"font-weight: bold\">)</span>,\n",
       "        <span style=\"color: #808000; text-decoration-color: #808000\">update_date</span>=<span style=\"color: #800080; text-decoration-color: #800080; font-style: italic\">None</span>,\n",
       "        <span style=\"color: #808000; text-decoration-color: #808000\">creation_date</span>=<span style=\"color: #800080; text-decoration-color: #800080; font-style: italic\">None</span>,\n",
       "        <span style=\"color: #808000; text-decoration-color: #808000\">name</span>=<span style=\"color: #008000; text-decoration-color: #008000\">'Mus musculus'</span>,\n",
       "        <span style=\"color: #808000; text-decoration-color: #808000\">taxonomy_id</span>=<span style=\"color: #008000; text-decoration-color: #008000\">'NCBITaxon:10090'</span>\n",
       "    <span style=\"font-weight: bold\">)</span>,\n",
       "    <span style=\"color: #808000; text-decoration-color: #808000\">strain</span>=<span style=\"color: #800080; text-decoration-color: #800080; font-style: italic\">None</span>,\n",
       "    <span style=\"color: #808000; text-decoration-color: #808000\">license</span>=<span style=\"color: #800080; text-decoration-color: #800080; font-weight: bold\">License</span><span style=\"font-weight: bold\">(</span>\n",
       "        <span style=\"color: #808000; text-decoration-color: #808000\">id</span>=<span style=\"color: #800080; text-decoration-color: #800080; font-weight: bold\">UUID</span><span style=\"font-weight: bold\">(</span><span style=\"color: #008000; text-decoration-color: #008000\">'ad8686db-3cdd-4e3f-bcbd-812380a9eba7'</span><span style=\"font-weight: bold\">)</span>,\n",
       "        <span style=\"color: #808000; text-decoration-color: #808000\">update_date</span>=<span style=\"color: #800080; text-decoration-color: #800080; font-weight: bold\">datetime</span><span style=\"color: #800080; text-decoration-color: #800080; font-weight: bold\">.datetime</span><span style=\"font-weight: bold\">(</span><span style=\"color: #008080; text-decoration-color: #008080; font-weight: bold\">2024</span>, <span style=\"color: #008080; text-decoration-color: #008080; font-weight: bold\">1</span>, <span style=\"color: #008080; text-decoration-color: #008080; font-weight: bold\">16</span>, <span style=\"color: #008080; text-decoration-color: #008080; font-weight: bold\">14</span>, <span style=\"color: #008080; text-decoration-color: #008080; font-weight: bold\">51</span>, <span style=\"color: #008080; text-decoration-color: #008080; font-weight: bold\">5</span>, <span style=\"color: #008080; text-decoration-color: #008080; font-weight: bold\">847971</span>, <span style=\"color: #808000; text-decoration-color: #808000\">tzinfo</span>=<span style=\"color: #800080; text-decoration-color: #800080; font-weight: bold\">TzInfo</span><span style=\"font-weight: bold\">(</span>UTC<span style=\"font-weight: bold\">))</span>,\n",
       "        <span style=\"color: #808000; text-decoration-color: #808000\">creation_date</span>=<span style=\"color: #800080; text-decoration-color: #800080; font-weight: bold\">datetime</span><span style=\"color: #800080; text-decoration-color: #800080; font-weight: bold\">.datetime</span><span style=\"font-weight: bold\">(</span><span style=\"color: #008080; text-decoration-color: #008080; font-weight: bold\">2024</span>, <span style=\"color: #008080; text-decoration-color: #008080; font-weight: bold\">1</span>, <span style=\"color: #008080; text-decoration-color: #008080; font-weight: bold\">10</span>, <span style=\"color: #008080; text-decoration-color: #008080; font-weight: bold\">15</span>, <span style=\"color: #008080; text-decoration-color: #008080; font-weight: bold\">58</span>, <span style=\"color: #008080; text-decoration-color: #008080; font-weight: bold\">46</span>, <span style=\"color: #008080; text-decoration-color: #008080; font-weight: bold\">7611</span>, <span style=\"color: #808000; text-decoration-color: #808000\">tzinfo</span>=<span style=\"color: #800080; text-decoration-color: #800080; font-weight: bold\">TzInfo</span><span style=\"font-weight: bold\">(</span>UTC<span style=\"font-weight: bold\">))</span>,\n",
       "        <span style=\"color: #808000; text-decoration-color: #808000\">name</span>=<span style=\"color: #008000; text-decoration-color: #008000\">'https://creativecommons.org/licenses/by/4.0/'</span>,\n",
       "        <span style=\"color: #808000; text-decoration-color: #808000\">description</span>=<span style=\"color: #008000; text-decoration-color: #008000\">'Creative Commons Corporation (\"Creative Commons\") is not a law firm and does not provide legal</span>\n",
       "<span style=\"color: #008000; text-decoration-color: #008000\">services or legal advice. Distribution of Creative Commons public licenses does not create a lawyer-client or other</span>\n",
       "<span style=\"color: #008000; text-decoration-color: #008000\">relationship. Creative Commons makes its licenses and related information available on an \"as-is\" basis. Creative </span>\n",
       "<span style=\"color: #008000; text-decoration-color: #008000\">Commons gives no warranties regarding its licenses, any material licensed under their terms and conditions, or any </span>\n",
       "<span style=\"color: #008000; text-decoration-color: #008000\">related information. Creative Commons disclaims all liability for damages resulting from their use to the fullest </span>\n",
       "<span style=\"color: #008000; text-decoration-color: #008000\">extent possible.'</span>,\n",
       "        <span style=\"color: #808000; text-decoration-color: #808000\">label</span>=<span style=\"color: #008000; text-decoration-color: #008000\">'CC BY 4.0 Deed'</span>\n",
       "    <span style=\"font-weight: bold\">)</span>,\n",
       "    <span style=\"color: #808000; text-decoration-color: #808000\">mtypes</span>=<span style=\"font-weight: bold\">[</span>\n",
       "        <span style=\"color: #800080; text-decoration-color: #800080; font-weight: bold\">MTypeClass</span><span style=\"font-weight: bold\">(</span>\n",
       "            <span style=\"color: #808000; text-decoration-color: #808000\">id</span>=<span style=\"color: #800080; text-decoration-color: #800080; font-weight: bold\">UUID</span><span style=\"font-weight: bold\">(</span><span style=\"color: #008000; text-decoration-color: #008000\">'dd346e90-7bca-4976-bf9a-303b6a94b339'</span><span style=\"font-weight: bold\">)</span>,\n",
       "            <span style=\"color: #808000; text-decoration-color: #808000\">update_date</span>=<span style=\"color: #800080; text-decoration-color: #800080; font-weight: bold\">datetime</span><span style=\"color: #800080; text-decoration-color: #800080; font-weight: bold\">.datetime</span><span style=\"font-weight: bold\">(</span><span style=\"color: #008080; text-decoration-color: #008080; font-weight: bold\">2024</span>, <span style=\"color: #008080; text-decoration-color: #008080; font-weight: bold\">11</span>, <span style=\"color: #008080; text-decoration-color: #008080; font-weight: bold\">22</span>, <span style=\"color: #008080; text-decoration-color: #008080; font-weight: bold\">11</span>, <span style=\"color: #008080; text-decoration-color: #008080; font-weight: bold\">17</span>, <span style=\"color: #008080; text-decoration-color: #008080; font-weight: bold\">54</span>, <span style=\"color: #008080; text-decoration-color: #008080; font-weight: bold\">582443</span>, <span style=\"color: #808000; text-decoration-color: #808000\">tzinfo</span>=<span style=\"color: #800080; text-decoration-color: #800080; font-weight: bold\">TzInfo</span><span style=\"font-weight: bold\">(</span>UTC<span style=\"font-weight: bold\">))</span>,\n",
       "            <span style=\"color: #808000; text-decoration-color: #808000\">creation_date</span>=<span style=\"color: #800080; text-decoration-color: #800080; font-weight: bold\">datetime</span><span style=\"color: #800080; text-decoration-color: #800080; font-weight: bold\">.datetime</span><span style=\"font-weight: bold\">(</span><span style=\"color: #008080; text-decoration-color: #008080; font-weight: bold\">2020</span>, <span style=\"color: #008080; text-decoration-color: #008080; font-weight: bold\">3</span>, <span style=\"color: #008080; text-decoration-color: #008080; font-weight: bold\">16</span>, <span style=\"color: #008080; text-decoration-color: #008080; font-weight: bold\">10</span>, <span style=\"color: #008080; text-decoration-color: #008080; font-weight: bold\">34</span>, <span style=\"color: #008080; text-decoration-color: #008080; font-weight: bold\">23</span>, <span style=\"color: #008080; text-decoration-color: #008080; font-weight: bold\">469000</span>, <span style=\"color: #808000; text-decoration-color: #808000\">tzinfo</span>=<span style=\"color: #800080; text-decoration-color: #800080; font-weight: bold\">TzInfo</span><span style=\"font-weight: bold\">(</span>UTC<span style=\"font-weight: bold\">))</span>,\n",
       "            <span style=\"color: #808000; text-decoration-color: #808000\">pref_label</span>=<span style=\"color: #008000; text-decoration-color: #008000\">'L3_TPC:A'</span>,\n",
       "            <span style=\"color: #808000; text-decoration-color: #808000\">definition</span>=<span style=\"color: #008000; text-decoration-color: #008000\">'L3_TPC_A have a vertically projecting apical dendrite, with an often distal (occasionally </span>\n",
       "<span style=\"color: #008000; text-decoration-color: #008000\">proximal) onset of tuft formation, which forms a small tuft (occasionally extensive) and multiple oblique dendrites</span>\n",
       "<span style=\"color: #008000; text-decoration-color: #008000\">before tuft formation'</span>,\n",
       "            <span style=\"color: #808000; text-decoration-color: #808000\">alt_label</span>=<span style=\"color: #008000; text-decoration-color: #008000\">'Layer 3 Late Bifurcating Tufted Pyramidal Cell'</span>\n",
       "        <span style=\"font-weight: bold\">)</span>\n",
       "    <span style=\"font-weight: bold\">]</span>\n",
       "<span style=\"font-weight: bold\">)</span>\n",
       "</pre>\n"
      ],
      "text/plain": [
       "\u001b[1;35mReconstructionMorphology\u001b[0m\u001b[1m(\u001b[0m\n",
       "    \u001b[33massets\u001b[0m=\u001b[1m[\u001b[0m\n",
       "        \u001b[1;35mAsset\u001b[0m\u001b[1m(\u001b[0m\n",
       "            \u001b[33mid\u001b[0m=\u001b[1;35mUUID\u001b[0m\u001b[1m(\u001b[0m\u001b[32m'9a413416-9b77-4de9-9e1f-f1e6e4285eed'\u001b[0m\u001b[1m)\u001b[0m,\n",
       "            \u001b[33mupdate_date\u001b[0m=\u001b[3;35mNone\u001b[0m,\n",
       "            \u001b[33mcreation_date\u001b[0m=\u001b[3;35mNone\u001b[0m,\n",
       "            \u001b[33mpath\u001b[0m=\u001b[32m'rat_20150131_LH2_cell3.h5'\u001b[0m,\n",
       "            \u001b[33mfull_path\u001b[0m=\u001b[32m'public/a98b7abc-fc46-4700-9e3d-37137812c730/0dbced5f-cc3d-488a-8c7f-cfb8ea039dc6/assets/reco\u001b[0m\n",
       "\u001b[32mnstruction_morphology/092004c1-33a7-4830-abe4-4b2ea832bf08/rat_20150131_LH2_cell3.h5'\u001b[0m,\n",
       "            \u001b[33mis_directory\u001b[0m=\u001b[3;91mFalse\u001b[0m,\n",
       "            \u001b[33mcontent_type\u001b[0m=\u001b[32m'application/x-hdf5'\u001b[0m,\n",
       "            \u001b[33msize\u001b[0m=\u001b[1;36m1758300\u001b[0m,\n",
       "            \u001b[33msha256_digest\u001b[0m=\u001b[32m'af476bec524d210dbeda930f8474dc8344e4525d162808f0aad4f422c1dc2490'\u001b[0m,\n",
       "            \u001b[33mstatus\u001b[0m=\u001b[32m'created'\u001b[0m,\n",
       "            \u001b[33mmeta\u001b[0m=\u001b[1m{\u001b[0m\u001b[1m}\u001b[0m,\n",
       "            \u001b[33mlabel\u001b[0m=\u001b[32m'morphology'\u001b[0m\n",
       "        \u001b[1m)\u001b[0m,\n",
       "        \u001b[1;35mAsset\u001b[0m\u001b[1m(\u001b[0m\n",
       "            \u001b[33mid\u001b[0m=\u001b[1;35mUUID\u001b[0m\u001b[1m(\u001b[0m\u001b[32m'40f965ed-af67-4c81-a4fb-4f8f052f3122'\u001b[0m\u001b[1m)\u001b[0m,\n",
       "            \u001b[33mupdate_date\u001b[0m=\u001b[3;35mNone\u001b[0m,\n",
       "            \u001b[33mcreation_date\u001b[0m=\u001b[3;35mNone\u001b[0m,\n",
       "            \u001b[33mpath\u001b[0m=\u001b[32m'rat_20150131_LH2_cell3.asc'\u001b[0m,\n",
       "            \u001b[33mfull_path\u001b[0m=\u001b[32m'public/a98b7abc-fc46-4700-9e3d-37137812c730/0dbced5f-cc3d-488a-8c7f-cfb8ea039dc6/assets/reco\u001b[0m\n",
       "\u001b[32mnstruction_morphology/092004c1-33a7-4830-abe4-4b2ea832bf08/rat_20150131_LH2_cell3.asc'\u001b[0m,\n",
       "            \u001b[33mis_directory\u001b[0m=\u001b[3;91mFalse\u001b[0m,\n",
       "            \u001b[33mcontent_type\u001b[0m=\u001b[32m'application/asc'\u001b[0m,\n",
       "            \u001b[33msize\u001b[0m=\u001b[1;36m4198676\u001b[0m,\n",
       "            \u001b[33msha256_digest\u001b[0m=\u001b[32m'f93c4b40712f007bc07e8646e16c4a4d7efe91b4ad0030c1fd2fbea03c940a74'\u001b[0m,\n",
       "            \u001b[33mstatus\u001b[0m=\u001b[32m'created'\u001b[0m,\n",
       "            \u001b[33mmeta\u001b[0m=\u001b[1m{\u001b[0m\u001b[1m}\u001b[0m,\n",
       "            \u001b[33mlabel\u001b[0m=\u001b[32m'morphology'\u001b[0m\n",
       "        \u001b[1m)\u001b[0m,\n",
       "        \u001b[1;35mAsset\u001b[0m\u001b[1m(\u001b[0m\n",
       "            \u001b[33mid\u001b[0m=\u001b[1;35mUUID\u001b[0m\u001b[1m(\u001b[0m\u001b[32m'495e1090-2bd2-4b51-aea1-689c83c04af9'\u001b[0m\u001b[1m)\u001b[0m,\n",
       "            \u001b[33mupdate_date\u001b[0m=\u001b[3;35mNone\u001b[0m,\n",
       "            \u001b[33mcreation_date\u001b[0m=\u001b[3;35mNone\u001b[0m,\n",
       "            \u001b[33mpath\u001b[0m=\u001b[32m'rat_20150131_LH2_cell3.swc'\u001b[0m,\n",
       "            \u001b[33mfull_path\u001b[0m=\u001b[32m'public/a98b7abc-fc46-4700-9e3d-37137812c730/0dbced5f-cc3d-488a-8c7f-cfb8ea039dc6/assets/reco\u001b[0m\n",
       "\u001b[32mnstruction_morphology/092004c1-33a7-4830-abe4-4b2ea832bf08/rat_20150131_LH2_cell3.swc'\u001b[0m,\n",
       "            \u001b[33mis_directory\u001b[0m=\u001b[3;91mFalse\u001b[0m,\n",
       "            \u001b[33mcontent_type\u001b[0m=\u001b[32m'application/swc'\u001b[0m,\n",
       "            \u001b[33msize\u001b[0m=\u001b[1;36m4632627\u001b[0m,\n",
       "            \u001b[33msha256_digest\u001b[0m=\u001b[32m'9e6ba198763b251f00f678db47a085f011fdeeafbc21b773232edf9b3b72eba2'\u001b[0m,\n",
       "            \u001b[33mstatus\u001b[0m=\u001b[32m'created'\u001b[0m,\n",
       "            \u001b[33mmeta\u001b[0m=\u001b[1m{\u001b[0m\u001b[1m}\u001b[0m,\n",
       "            \u001b[33mlabel\u001b[0m=\u001b[32m'morphology'\u001b[0m\n",
       "        \u001b[1m)\u001b[0m\n",
       "    \u001b[1m]\u001b[0m,\n",
       "    \u001b[33mid\u001b[0m=\u001b[1;35mUUID\u001b[0m\u001b[1m(\u001b[0m\u001b[32m'092004c1-33a7-4830-abe4-4b2ea832bf08'\u001b[0m\u001b[1m)\u001b[0m,\n",
       "    \u001b[33mupdate_date\u001b[0m=\u001b[1;35mdatetime\u001b[0m\u001b[1;35m.datetime\u001b[0m\u001b[1m(\u001b[0m\u001b[1;36m2025\u001b[0m, \u001b[1;36m4\u001b[0m, \u001b[1;36m25\u001b[0m, \u001b[1;36m7\u001b[0m, \u001b[1;36m54\u001b[0m, \u001b[1;36m47\u001b[0m, \u001b[1;36m36229\u001b[0m, \u001b[33mtzinfo\u001b[0m=\u001b[1;35mTzInfo\u001b[0m\u001b[1m(\u001b[0mUTC\u001b[1m)\u001b[0m\u001b[1m)\u001b[0m,\n",
       "    \u001b[33mcreation_date\u001b[0m=\u001b[1;35mdatetime\u001b[0m\u001b[1;35m.datetime\u001b[0m\u001b[1m(\u001b[0m\u001b[1;36m2024\u001b[0m, \u001b[1;36m3\u001b[0m, \u001b[1;36m13\u001b[0m, \u001b[1;36m10\u001b[0m, \u001b[1;36m42\u001b[0m, \u001b[1;36m0\u001b[0m, \u001b[1;36m371143\u001b[0m, \u001b[33mtzinfo\u001b[0m=\u001b[1;35mTzInfo\u001b[0m\u001b[1m(\u001b[0mUTC\u001b[1m)\u001b[0m\u001b[1m)\u001b[0m,\n",
       "    \u001b[33mname\u001b[0m=\u001b[32m'rat_20150131_LH2_cell3'\u001b[0m,\n",
       "    \u001b[33mdescription\u001b[0m=\u001b[32m'Translated to mouse from rat data. This dataset is about an in vivo-filled neuron morphology from \u001b[0m\n",
       "\u001b[32mlayer 3 with m-type L3_TPC:A. The distribution contains the neuron morphology in ASC, h5, and SWC file format.'\u001b[0m,\n",
       "    \u001b[33mtype\u001b[0m=\u001b[32m'reconstruction_morphology'\u001b[0m,\n",
       "    \u001b[33mcreated_by\u001b[0m=\u001b[1;35mPerson\u001b[0m\u001b[1m(\u001b[0m\n",
       "        \u001b[33mid\u001b[0m=\u001b[1;35mUUID\u001b[0m\u001b[1m(\u001b[0m\u001b[32m'cf1822ff-bc68-4778-ab49-1044d5e34124'\u001b[0m\u001b[1m)\u001b[0m,\n",
       "        \u001b[33mupdate_date\u001b[0m=\u001b[3;35mNone\u001b[0m,\n",
       "        \u001b[33mcreation_date\u001b[0m=\u001b[3;35mNone\u001b[0m,\n",
       "        \u001b[33mtype\u001b[0m=\u001b[32m'person'\u001b[0m,\n",
       "        \u001b[33mpref_label\u001b[0m=\u001b[32m'Niccolò Ricardi'\u001b[0m,\n",
       "        \u001b[33mgiven_name\u001b[0m=\u001b[32m'Niccolò'\u001b[0m,\n",
       "        \u001b[33mfamily_name\u001b[0m=\u001b[32m'Ricardi'\u001b[0m\n",
       "    \u001b[1m)\u001b[0m,\n",
       "    \u001b[33mupdated_by\u001b[0m=\u001b[1;35mPerson\u001b[0m\u001b[1m(\u001b[0m\n",
       "        \u001b[33mid\u001b[0m=\u001b[1;35mUUID\u001b[0m\u001b[1m(\u001b[0m\u001b[32m'59cc60b1-7604-44b4-a736-95c3e652c71a'\u001b[0m\u001b[1m)\u001b[0m,\n",
       "        \u001b[33mupdate_date\u001b[0m=\u001b[3;35mNone\u001b[0m,\n",
       "        \u001b[33mcreation_date\u001b[0m=\u001b[3;35mNone\u001b[0m,\n",
       "        \u001b[33mtype\u001b[0m=\u001b[32m'person'\u001b[0m,\n",
       "        \u001b[33mpref_label\u001b[0m=\u001b[32m'service-account-obp-singlecell-uploader-sa service-account-obp-singlecell-uploader-sa'\u001b[0m,\n",
       "        \u001b[33mgiven_name\u001b[0m=\u001b[32m'service-account-obp-singlecell-uploader-sa'\u001b[0m,\n",
       "        \u001b[33mfamily_name\u001b[0m=\u001b[32m'service-account-obp-singlecell-uploader-sa'\u001b[0m\n",
       "    \u001b[1m)\u001b[0m,\n",
       "    \u001b[33mauthorized_public\u001b[0m=\u001b[3;92mTrue\u001b[0m,\n",
       "    \u001b[33mauthorized_project_id\u001b[0m=\u001b[1;35mUUID\u001b[0m\u001b[1m(\u001b[0m\u001b[32m'0dbced5f-cc3d-488a-8c7f-cfb8ea039dc6'\u001b[0m\u001b[1m)\u001b[0m,\n",
       "    \u001b[33mcontributions\u001b[0m=\u001b[1m[\u001b[0m\n",
       "        \u001b[1;35mContribution\u001b[0m\u001b[1m(\u001b[0m\n",
       "            \u001b[33mid\u001b[0m=\u001b[1;35mUUID\u001b[0m\u001b[1m(\u001b[0m\u001b[32m'25acf6d5-db4b-44f3-8051-b4ee31099c26'\u001b[0m\u001b[1m)\u001b[0m,\n",
       "            \u001b[33mupdate_date\u001b[0m=\u001b[3;35mNone\u001b[0m,\n",
       "            \u001b[33mcreation_date\u001b[0m=\u001b[3;35mNone\u001b[0m,\n",
       "            \u001b[33magent\u001b[0m=\u001b[1;35mOrganization\u001b[0m\u001b[1m(\u001b[0m\n",
       "                \u001b[33mid\u001b[0m=\u001b[1;35mUUID\u001b[0m\u001b[1m(\u001b[0m\u001b[32m'f03f2d71-581d-4e83-8112-ff0f0948ecca'\u001b[0m\u001b[1m)\u001b[0m,\n",
       "                \u001b[33mupdate_date\u001b[0m=\u001b[3;35mNone\u001b[0m,\n",
       "                \u001b[33mcreation_date\u001b[0m=\u001b[3;35mNone\u001b[0m,\n",
       "                \u001b[33mtype\u001b[0m=\u001b[32m'organization'\u001b[0m,\n",
       "                \u001b[33mpref_label\u001b[0m=\u001b[32m'University of Debrecen'\u001b[0m,\n",
       "                \u001b[33malternative_name\u001b[0m=\u001b[32m''\u001b[0m\n",
       "            \u001b[1m)\u001b[0m,\n",
       "            \u001b[33mrole\u001b[0m=\u001b[1;35mRole\u001b[0m\u001b[1m(\u001b[0m\n",
       "                \u001b[33mid\u001b[0m=\u001b[1;35mUUID\u001b[0m\u001b[1m(\u001b[0m\u001b[32m'a48b7ff5-1284-4e47-9680-6cfb1f5c88de'\u001b[0m\u001b[1m)\u001b[0m,\n",
       "                \u001b[33mupdate_date\u001b[0m=\u001b[1;35mdatetime\u001b[0m\u001b[1;35m.datetime\u001b[0m\u001b[1m(\u001b[0m\u001b[1;36m2025\u001b[0m, \u001b[1;36m6\u001b[0m, \u001b[1;36m27\u001b[0m, \u001b[1;36m11\u001b[0m, \u001b[1;36m10\u001b[0m, \u001b[1;36m53\u001b[0m, \u001b[1;36m209515\u001b[0m, \u001b[33mtzinfo\u001b[0m=\u001b[1;35mTzInfo\u001b[0m\u001b[1m(\u001b[0mUTC\u001b[1m)\u001b[0m\u001b[1m)\u001b[0m,\n",
       "                \u001b[33mcreation_date\u001b[0m=\u001b[1;35mdatetime\u001b[0m\u001b[1;35m.datetime\u001b[0m\u001b[1m(\u001b[0m\u001b[1;36m2025\u001b[0m, \u001b[1;36m6\u001b[0m, \u001b[1;36m27\u001b[0m, \u001b[1;36m11\u001b[0m, \u001b[1;36m10\u001b[0m, \u001b[1;36m53\u001b[0m, \u001b[1;36m209515\u001b[0m, \u001b[33mtzinfo\u001b[0m=\u001b[1;35mTzInfo\u001b[0m\u001b[1m(\u001b[0mUTC\u001b[1m)\u001b[0m\u001b[1m)\u001b[0m,\n",
       "                \u001b[33mname\u001b[0m=\u001b[32m'unspecified'\u001b[0m,\n",
       "                \u001b[33mrole_id\u001b[0m=\u001b[32m'unspecified'\u001b[0m\n",
       "            \u001b[1m)\u001b[0m,\n",
       "            \u001b[33mentity\u001b[0m=\u001b[3;35mNone\u001b[0m\n",
       "        \u001b[1m)\u001b[0m,\n",
       "        \u001b[1;35mContribution\u001b[0m\u001b[1m(\u001b[0m\n",
       "            \u001b[33mid\u001b[0m=\u001b[1;35mUUID\u001b[0m\u001b[1m(\u001b[0m\u001b[32m'9790ea2f-b8a0-4f95-aab3-097d23eba00d'\u001b[0m\u001b[1m)\u001b[0m,\n",
       "            \u001b[33mupdate_date\u001b[0m=\u001b[3;35mNone\u001b[0m,\n",
       "            \u001b[33mcreation_date\u001b[0m=\u001b[3;35mNone\u001b[0m,\n",
       "            \u001b[33magent\u001b[0m=\u001b[1;35mPerson\u001b[0m\u001b[1m(\u001b[0m\n",
       "                \u001b[33mid\u001b[0m=\u001b[1;35mUUID\u001b[0m\u001b[1m(\u001b[0m\u001b[32m'1e5bfa6b-ebe4-4b82-b5ee-773384eaed1f'\u001b[0m\u001b[1m)\u001b[0m,\n",
       "                \u001b[33mupdate_date\u001b[0m=\u001b[3;35mNone\u001b[0m,\n",
       "                \u001b[33mcreation_date\u001b[0m=\u001b[3;35mNone\u001b[0m,\n",
       "                \u001b[33mtype\u001b[0m=\u001b[32m'person'\u001b[0m,\n",
       "                \u001b[33mpref_label\u001b[0m=\u001b[32m'Zoltan Kisvarday'\u001b[0m,\n",
       "                \u001b[33mgiven_name\u001b[0m=\u001b[32m'Zoltan'\u001b[0m,\n",
       "                \u001b[33mfamily_name\u001b[0m=\u001b[32m'Kisvarday'\u001b[0m\n",
       "            \u001b[1m)\u001b[0m,\n",
       "            \u001b[33mrole\u001b[0m=\u001b[1;35mRole\u001b[0m\u001b[1m(\u001b[0m\n",
       "                \u001b[33mid\u001b[0m=\u001b[1;35mUUID\u001b[0m\u001b[1m(\u001b[0m\u001b[32m'78b53cbf-ad29-49fd-82e7-d0bc328fc581'\u001b[0m\u001b[1m)\u001b[0m,\n",
       "                \u001b[33mupdate_date\u001b[0m=\u001b[1;35mdatetime\u001b[0m\u001b[1;35m.datetime\u001b[0m\u001b[1m(\u001b[0m\u001b[1;36m2025\u001b[0m, \u001b[1;36m6\u001b[0m, \u001b[1;36m27\u001b[0m, \u001b[1;36m11\u001b[0m, \u001b[1;36m11\u001b[0m, \u001b[1;36m3\u001b[0m, \u001b[1;36m556935\u001b[0m, \u001b[33mtzinfo\u001b[0m=\u001b[1;35mTzInfo\u001b[0m\u001b[1m(\u001b[0mUTC\u001b[1m)\u001b[0m\u001b[1m)\u001b[0m,\n",
       "                \u001b[33mcreation_date\u001b[0m=\u001b[1;35mdatetime\u001b[0m\u001b[1;35m.datetime\u001b[0m\u001b[1m(\u001b[0m\u001b[1;36m2025\u001b[0m, \u001b[1;36m6\u001b[0m, \u001b[1;36m27\u001b[0m, \u001b[1;36m11\u001b[0m, \u001b[1;36m11\u001b[0m, \u001b[1;36m3\u001b[0m, \u001b[1;36m556935\u001b[0m, \u001b[33mtzinfo\u001b[0m=\u001b[1;35mTzInfo\u001b[0m\u001b[1m(\u001b[0mUTC\u001b[1m)\u001b[0m\u001b[1m)\u001b[0m,\n",
       "                \u001b[33mname\u001b[0m=\u001b[32m'neuron morphology reconstruction role'\u001b[0m,\n",
       "                \u001b[33mrole_id\u001b[0m=\u001b[32m'Neuron:MorphologyReconstructionRole'\u001b[0m\n",
       "            \u001b[1m)\u001b[0m,\n",
       "            \u001b[33mentity\u001b[0m=\u001b[3;35mNone\u001b[0m\n",
       "        \u001b[1m)\u001b[0m,\n",
       "        \u001b[1;35mContribution\u001b[0m\u001b[1m(\u001b[0m\n",
       "            \u001b[33mid\u001b[0m=\u001b[1;35mUUID\u001b[0m\u001b[1m(\u001b[0m\u001b[32m'da62109b-d8fc-41e4-aa53-00f1b1390da9'\u001b[0m\u001b[1m)\u001b[0m,\n",
       "            \u001b[33mupdate_date\u001b[0m=\u001b[3;35mNone\u001b[0m,\n",
       "            \u001b[33mcreation_date\u001b[0m=\u001b[3;35mNone\u001b[0m,\n",
       "            \u001b[33magent\u001b[0m=\u001b[1;35mPerson\u001b[0m\u001b[1m(\u001b[0m\n",
       "                \u001b[33mid\u001b[0m=\u001b[1;35mUUID\u001b[0m\u001b[1m(\u001b[0m\u001b[32m'c3aba2f4-c866-4cb3-9bca-24abfec109fb'\u001b[0m\u001b[1m)\u001b[0m,\n",
       "                \u001b[33mupdate_date\u001b[0m=\u001b[3;35mNone\u001b[0m,\n",
       "                \u001b[33mcreation_date\u001b[0m=\u001b[3;35mNone\u001b[0m,\n",
       "                \u001b[33mtype\u001b[0m=\u001b[32m'person'\u001b[0m,\n",
       "                \u001b[33mpref_label\u001b[0m=\u001b[32m'Michael Gevaert'\u001b[0m,\n",
       "                \u001b[33mgiven_name\u001b[0m=\u001b[32m'Michael'\u001b[0m,\n",
       "                \u001b[33mfamily_name\u001b[0m=\u001b[32m'Gevaert'\u001b[0m\n",
       "            \u001b[1m)\u001b[0m,\n",
       "            \u001b[33mrole\u001b[0m=\u001b[1;35mRole\u001b[0m\u001b[1m(\u001b[0m\n",
       "                \u001b[33mid\u001b[0m=\u001b[1;35mUUID\u001b[0m\u001b[1m(\u001b[0m\u001b[32m'92bb41a0-9e3c-40eb-8b4b-8f3977231962'\u001b[0m\u001b[1m)\u001b[0m,\n",
       "                \u001b[33mupdate_date\u001b[0m=\u001b[1;35mdatetime\u001b[0m\u001b[1;35m.datetime\u001b[0m\u001b[1m(\u001b[0m\u001b[1;36m2025\u001b[0m, \u001b[1;36m6\u001b[0m, \u001b[1;36m27\u001b[0m, \u001b[1;36m11\u001b[0m, \u001b[1;36m11\u001b[0m, \u001b[1;36m3\u001b[0m, \u001b[1;36m525497\u001b[0m, \u001b[33mtzinfo\u001b[0m=\u001b[1;35mTzInfo\u001b[0m\u001b[1m(\u001b[0mUTC\u001b[1m)\u001b[0m\u001b[1m)\u001b[0m,\n",
       "                \u001b[33mcreation_date\u001b[0m=\u001b[1;35mdatetime\u001b[0m\u001b[1;35m.datetime\u001b[0m\u001b[1m(\u001b[0m\u001b[1;36m2025\u001b[0m, \u001b[1;36m6\u001b[0m, \u001b[1;36m27\u001b[0m, \u001b[1;36m11\u001b[0m, \u001b[1;36m11\u001b[0m, \u001b[1;36m3\u001b[0m, \u001b[1;36m525497\u001b[0m, \u001b[33mtzinfo\u001b[0m=\u001b[1;35mTzInfo\u001b[0m\u001b[1m(\u001b[0mUTC\u001b[1m)\u001b[0m\u001b[1m)\u001b[0m,\n",
       "                \u001b[33mname\u001b[0m=\u001b[32m'data transformation role'\u001b[0m,\n",
       "                \u001b[33mrole_id\u001b[0m=\u001b[32m'obo:CRO_0000072'\u001b[0m\n",
       "            \u001b[1m)\u001b[0m,\n",
       "            \u001b[33mentity\u001b[0m=\u001b[3;35mNone\u001b[0m\n",
       "        \u001b[1m)\u001b[0m,\n",
       "        \u001b[1;35mContribution\u001b[0m\u001b[1m(\u001b[0m\n",
       "            \u001b[33mid\u001b[0m=\u001b[1;35mUUID\u001b[0m\u001b[1m(\u001b[0m\u001b[32m'e2b58f2d-8628-4701-a038-f478a2f36d0f'\u001b[0m\u001b[1m)\u001b[0m,\n",
       "            \u001b[33mupdate_date\u001b[0m=\u001b[3;35mNone\u001b[0m,\n",
       "            \u001b[33mcreation_date\u001b[0m=\u001b[3;35mNone\u001b[0m,\n",
       "            \u001b[33magent\u001b[0m=\u001b[1;35mPerson\u001b[0m\u001b[1m(\u001b[0m\n",
       "                \u001b[33mid\u001b[0m=\u001b[1;35mUUID\u001b[0m\u001b[1m(\u001b[0m\u001b[32m'0db6eaa3-829a-4993-a492-3e422e304ca0'\u001b[0m\u001b[1m)\u001b[0m,\n",
       "                \u001b[33mupdate_date\u001b[0m=\u001b[3;35mNone\u001b[0m,\n",
       "                \u001b[33mcreation_date\u001b[0m=\u001b[3;35mNone\u001b[0m,\n",
       "                \u001b[33mtype\u001b[0m=\u001b[32m'person'\u001b[0m,\n",
       "                \u001b[33mpref_label\u001b[0m=\u001b[32m'Lida Kanari'\u001b[0m,\n",
       "                \u001b[33mgiven_name\u001b[0m=\u001b[32m'Lida'\u001b[0m,\n",
       "                \u001b[33mfamily_name\u001b[0m=\u001b[32m'Kanari'\u001b[0m\n",
       "            \u001b[1m)\u001b[0m,\n",
       "            \u001b[33mrole\u001b[0m=\u001b[1;35mRole\u001b[0m\u001b[1m(\u001b[0m\n",
       "                \u001b[33mid\u001b[0m=\u001b[1;35mUUID\u001b[0m\u001b[1m(\u001b[0m\u001b[32m'7aea24b2-85f9-4a34-959c-977d88087204'\u001b[0m\u001b[1m)\u001b[0m,\n",
       "                \u001b[33mupdate_date\u001b[0m=\u001b[1;35mdatetime\u001b[0m\u001b[1;35m.datetime\u001b[0m\u001b[1m(\u001b[0m\u001b[1;36m2025\u001b[0m, \u001b[1;36m6\u001b[0m, \u001b[1;36m27\u001b[0m, \u001b[1;36m11\u001b[0m, \u001b[1;36m11\u001b[0m, \u001b[1;36m3\u001b[0m, \u001b[1;36m566636\u001b[0m, \u001b[33mtzinfo\u001b[0m=\u001b[1;35mTzInfo\u001b[0m\u001b[1m(\u001b[0mUTC\u001b[1m)\u001b[0m\u001b[1m)\u001b[0m,\n",
       "                \u001b[33mcreation_date\u001b[0m=\u001b[1;35mdatetime\u001b[0m\u001b[1;35m.datetime\u001b[0m\u001b[1m(\u001b[0m\u001b[1;36m2025\u001b[0m, \u001b[1;36m6\u001b[0m, \u001b[1;36m27\u001b[0m, \u001b[1;36m11\u001b[0m, \u001b[1;36m11\u001b[0m, \u001b[1;36m3\u001b[0m, \u001b[1;36m566636\u001b[0m, \u001b[33mtzinfo\u001b[0m=\u001b[1;35mTzInfo\u001b[0m\u001b[1m(\u001b[0mUTC\u001b[1m)\u001b[0m\u001b[1m)\u001b[0m,\n",
       "                \u001b[33mname\u001b[0m=\u001b[32m'data curation role'\u001b[0m,\n",
       "                \u001b[33mrole_id\u001b[0m=\u001b[32m'http://purl.org/credit/ontology#CREDIT_00000002'\u001b[0m\n",
       "            \u001b[1m)\u001b[0m,\n",
       "            \u001b[33mentity\u001b[0m=\u001b[3;35mNone\u001b[0m\n",
       "        \u001b[1m)\u001b[0m,\n",
       "        \u001b[1;35mContribution\u001b[0m\u001b[1m(\u001b[0m\n",
       "            \u001b[33mid\u001b[0m=\u001b[1;35mUUID\u001b[0m\u001b[1m(\u001b[0m\u001b[32m'64205724-9b64-4a23-8ec0-3a6da5aacd9f'\u001b[0m\u001b[1m)\u001b[0m,\n",
       "            \u001b[33mupdate_date\u001b[0m=\u001b[3;35mNone\u001b[0m,\n",
       "            \u001b[33mcreation_date\u001b[0m=\u001b[3;35mNone\u001b[0m,\n",
       "            \u001b[33magent\u001b[0m=\u001b[1;35mPerson\u001b[0m\u001b[1m(\u001b[0m\n",
       "                \u001b[33mid\u001b[0m=\u001b[1;35mUUID\u001b[0m\u001b[1m(\u001b[0m\u001b[32m'182c8eb9-d0e9-4504-ad68-0ac5a66bf90e'\u001b[0m\u001b[1m)\u001b[0m,\n",
       "                \u001b[33mupdate_date\u001b[0m=\u001b[3;35mNone\u001b[0m,\n",
       "                \u001b[33mcreation_date\u001b[0m=\u001b[3;35mNone\u001b[0m,\n",
       "                \u001b[33mtype\u001b[0m=\u001b[32m'person'\u001b[0m,\n",
       "                \u001b[33mpref_label\u001b[0m=\u001b[32m'Ying Shi'\u001b[0m,\n",
       "                \u001b[33mgiven_name\u001b[0m=\u001b[32m'Ying'\u001b[0m,\n",
       "                \u001b[33mfamily_name\u001b[0m=\u001b[32m'Shi'\u001b[0m\n",
       "            \u001b[1m)\u001b[0m,\n",
       "            \u001b[33mrole\u001b[0m=\u001b[1;35mRole\u001b[0m\u001b[1m(\u001b[0m\n",
       "                \u001b[33mid\u001b[0m=\u001b[1;35mUUID\u001b[0m\u001b[1m(\u001b[0m\u001b[32m'a48b7ff5-1284-4e47-9680-6cfb1f5c88de'\u001b[0m\u001b[1m)\u001b[0m,\n",
       "                \u001b[33mupdate_date\u001b[0m=\u001b[1;35mdatetime\u001b[0m\u001b[1;35m.datetime\u001b[0m\u001b[1m(\u001b[0m\u001b[1;36m2025\u001b[0m, \u001b[1;36m6\u001b[0m, \u001b[1;36m27\u001b[0m, \u001b[1;36m11\u001b[0m, \u001b[1;36m10\u001b[0m, \u001b[1;36m53\u001b[0m, \u001b[1;36m209515\u001b[0m, \u001b[33mtzinfo\u001b[0m=\u001b[1;35mTzInfo\u001b[0m\u001b[1m(\u001b[0mUTC\u001b[1m)\u001b[0m\u001b[1m)\u001b[0m,\n",
       "                \u001b[33mcreation_date\u001b[0m=\u001b[1;35mdatetime\u001b[0m\u001b[1;35m.datetime\u001b[0m\u001b[1m(\u001b[0m\u001b[1;36m2025\u001b[0m, \u001b[1;36m6\u001b[0m, \u001b[1;36m27\u001b[0m, \u001b[1;36m11\u001b[0m, \u001b[1;36m10\u001b[0m, \u001b[1;36m53\u001b[0m, \u001b[1;36m209515\u001b[0m, \u001b[33mtzinfo\u001b[0m=\u001b[1;35mTzInfo\u001b[0m\u001b[1m(\u001b[0mUTC\u001b[1m)\u001b[0m\u001b[1m)\u001b[0m,\n",
       "                \u001b[33mname\u001b[0m=\u001b[32m'unspecified'\u001b[0m,\n",
       "                \u001b[33mrole_id\u001b[0m=\u001b[32m'unspecified'\u001b[0m\n",
       "            \u001b[1m)\u001b[0m,\n",
       "            \u001b[33mentity\u001b[0m=\u001b[3;35mNone\u001b[0m\n",
       "        \u001b[1m)\u001b[0m,\n",
       "        \u001b[1;35mContribution\u001b[0m\u001b[1m(\u001b[0m\n",
       "            \u001b[33mid\u001b[0m=\u001b[1;35mUUID\u001b[0m\u001b[1m(\u001b[0m\u001b[32m'ac8ea683-c09f-416d-af27-562f9e6ad568'\u001b[0m\u001b[1m)\u001b[0m,\n",
       "            \u001b[33mupdate_date\u001b[0m=\u001b[3;35mNone\u001b[0m,\n",
       "            \u001b[33mcreation_date\u001b[0m=\u001b[3;35mNone\u001b[0m,\n",
       "            \u001b[33magent\u001b[0m=\u001b[1;35mOrganization\u001b[0m\u001b[1m(\u001b[0m\n",
       "                \u001b[33mid\u001b[0m=\u001b[1;35mUUID\u001b[0m\u001b[1m(\u001b[0m\u001b[32m'36b621f5-5d56-45a2-9b49-f36261142cc4'\u001b[0m\u001b[1m)\u001b[0m,\n",
       "                \u001b[33mupdate_date\u001b[0m=\u001b[3;35mNone\u001b[0m,\n",
       "                \u001b[33mcreation_date\u001b[0m=\u001b[3;35mNone\u001b[0m,\n",
       "                \u001b[33mtype\u001b[0m=\u001b[32m'organization'\u001b[0m,\n",
       "                \u001b[33mpref_label\u001b[0m=\u001b[32m'École Polytechnique Fédérale de Lausanne'\u001b[0m,\n",
       "                \u001b[33malternative_name\u001b[0m=\u001b[32m''\u001b[0m\n",
       "            \u001b[1m)\u001b[0m,\n",
       "            \u001b[33mrole\u001b[0m=\u001b[1;35mRole\u001b[0m\u001b[1m(\u001b[0m\n",
       "                \u001b[33mid\u001b[0m=\u001b[1;35mUUID\u001b[0m\u001b[1m(\u001b[0m\u001b[32m'a48b7ff5-1284-4e47-9680-6cfb1f5c88de'\u001b[0m\u001b[1m)\u001b[0m,\n",
       "                \u001b[33mupdate_date\u001b[0m=\u001b[1;35mdatetime\u001b[0m\u001b[1;35m.datetime\u001b[0m\u001b[1m(\u001b[0m\u001b[1;36m2025\u001b[0m, \u001b[1;36m6\u001b[0m, \u001b[1;36m27\u001b[0m, \u001b[1;36m11\u001b[0m, \u001b[1;36m10\u001b[0m, \u001b[1;36m53\u001b[0m, \u001b[1;36m209515\u001b[0m, \u001b[33mtzinfo\u001b[0m=\u001b[1;35mTzInfo\u001b[0m\u001b[1m(\u001b[0mUTC\u001b[1m)\u001b[0m\u001b[1m)\u001b[0m,\n",
       "                \u001b[33mcreation_date\u001b[0m=\u001b[1;35mdatetime\u001b[0m\u001b[1;35m.datetime\u001b[0m\u001b[1m(\u001b[0m\u001b[1;36m2025\u001b[0m, \u001b[1;36m6\u001b[0m, \u001b[1;36m27\u001b[0m, \u001b[1;36m11\u001b[0m, \u001b[1;36m10\u001b[0m, \u001b[1;36m53\u001b[0m, \u001b[1;36m209515\u001b[0m, \u001b[33mtzinfo\u001b[0m=\u001b[1;35mTzInfo\u001b[0m\u001b[1m(\u001b[0mUTC\u001b[1m)\u001b[0m\u001b[1m)\u001b[0m,\n",
       "                \u001b[33mname\u001b[0m=\u001b[32m'unspecified'\u001b[0m,\n",
       "                \u001b[33mrole_id\u001b[0m=\u001b[32m'unspecified'\u001b[0m\n",
       "            \u001b[1m)\u001b[0m,\n",
       "            \u001b[33mentity\u001b[0m=\u001b[3;35mNone\u001b[0m\n",
       "        \u001b[1m)\u001b[0m\n",
       "    \u001b[1m]\u001b[0m,\n",
       "    \u001b[33mlegacy_id\u001b[0m=\u001b[1m[\u001b[0m\n",
       "        \u001b[32m'https://bbp.epfl.ch/data/bbp/mmb-point-neuron-framework-model/6cd7325b-3f45-48e7-8eee-f88c75ca99a7'\u001b[0m\n",
       "    \u001b[1m]\u001b[0m,\n",
       "    \u001b[33mlocation\u001b[0m=\u001b[3;35mNone\u001b[0m,\n",
       "    \u001b[33mbrain_region\u001b[0m=\u001b[1;35mBrainRegion\u001b[0m\u001b[1m(\u001b[0m\n",
       "        \u001b[33mid\u001b[0m=\u001b[1;35mUUID\u001b[0m\u001b[1m(\u001b[0m\u001b[32m'61d89b07-dfa0-439a-9187-7ebfe60e212b'\u001b[0m\u001b[1m)\u001b[0m,\n",
       "        \u001b[33mupdate_date\u001b[0m=\u001b[1;35mdatetime\u001b[0m\u001b[1;35m.datetime\u001b[0m\u001b[1m(\u001b[0m\u001b[1;36m2025\u001b[0m, \u001b[1;36m6\u001b[0m, \u001b[1;36m27\u001b[0m, \u001b[1;36m11\u001b[0m, \u001b[1;36m10\u001b[0m, \u001b[1;36m27\u001b[0m, \u001b[1;36m186088\u001b[0m, \u001b[33mtzinfo\u001b[0m=\u001b[1;35mTzInfo\u001b[0m\u001b[1m(\u001b[0mUTC\u001b[1m)\u001b[0m\u001b[1m)\u001b[0m,\n",
       "        \u001b[33mcreation_date\u001b[0m=\u001b[1;35mdatetime\u001b[0m\u001b[1;35m.datetime\u001b[0m\u001b[1m(\u001b[0m\u001b[1;36m2025\u001b[0m, \u001b[1;36m6\u001b[0m, \u001b[1;36m27\u001b[0m, \u001b[1;36m11\u001b[0m, \u001b[1;36m10\u001b[0m, \u001b[1;36m27\u001b[0m, \u001b[1;36m186088\u001b[0m, \u001b[33mtzinfo\u001b[0m=\u001b[1;35mTzInfo\u001b[0m\u001b[1m(\u001b[0mUTC\u001b[1m)\u001b[0m\u001b[1m)\u001b[0m,\n",
       "        \u001b[33mname\u001b[0m=\u001b[32m'Primary somatosensory area'\u001b[0m,\n",
       "        \u001b[33mannotation_value\u001b[0m=\u001b[1;36m322\u001b[0m,\n",
       "        \u001b[33macronym\u001b[0m=\u001b[32m'SSp'\u001b[0m,\n",
       "        \u001b[33mparent_structure_id\u001b[0m=\u001b[1;35mUUID\u001b[0m\u001b[1m(\u001b[0m\u001b[32m'9680c40f-ccfe-4804-851f-1024ff0d6409'\u001b[0m\u001b[1m)\u001b[0m,\n",
       "        \u001b[33mhierarchy_id\u001b[0m=\u001b[1;35mUUID\u001b[0m\u001b[1m(\u001b[0m\u001b[32m'e3e70682-c209-4cac-a29f-6fbed82c07cd'\u001b[0m\u001b[1m)\u001b[0m,\n",
       "        \u001b[33mcolor_hex_triplet\u001b[0m=\u001b[32m'188064'\u001b[0m\n",
       "    \u001b[1m)\u001b[0m,\n",
       "    \u001b[33mspecies\u001b[0m=\u001b[1;35mSpecies\u001b[0m\u001b[1m(\u001b[0m\n",
       "        \u001b[33mid\u001b[0m=\u001b[1;35mUUID\u001b[0m\u001b[1m(\u001b[0m\u001b[32m'b7ad4cca-4ac2-4095-9781-37fb68fe9ca1'\u001b[0m\u001b[1m)\u001b[0m,\n",
       "        \u001b[33mupdate_date\u001b[0m=\u001b[3;35mNone\u001b[0m,\n",
       "        \u001b[33mcreation_date\u001b[0m=\u001b[3;35mNone\u001b[0m,\n",
       "        \u001b[33mname\u001b[0m=\u001b[32m'Mus musculus'\u001b[0m,\n",
       "        \u001b[33mtaxonomy_id\u001b[0m=\u001b[32m'NCBITaxon:10090'\u001b[0m\n",
       "    \u001b[1m)\u001b[0m,\n",
       "    \u001b[33mstrain\u001b[0m=\u001b[3;35mNone\u001b[0m,\n",
       "    \u001b[33mlicense\u001b[0m=\u001b[1;35mLicense\u001b[0m\u001b[1m(\u001b[0m\n",
       "        \u001b[33mid\u001b[0m=\u001b[1;35mUUID\u001b[0m\u001b[1m(\u001b[0m\u001b[32m'ad8686db-3cdd-4e3f-bcbd-812380a9eba7'\u001b[0m\u001b[1m)\u001b[0m,\n",
       "        \u001b[33mupdate_date\u001b[0m=\u001b[1;35mdatetime\u001b[0m\u001b[1;35m.datetime\u001b[0m\u001b[1m(\u001b[0m\u001b[1;36m2024\u001b[0m, \u001b[1;36m1\u001b[0m, \u001b[1;36m16\u001b[0m, \u001b[1;36m14\u001b[0m, \u001b[1;36m51\u001b[0m, \u001b[1;36m5\u001b[0m, \u001b[1;36m847971\u001b[0m, \u001b[33mtzinfo\u001b[0m=\u001b[1;35mTzInfo\u001b[0m\u001b[1m(\u001b[0mUTC\u001b[1m)\u001b[0m\u001b[1m)\u001b[0m,\n",
       "        \u001b[33mcreation_date\u001b[0m=\u001b[1;35mdatetime\u001b[0m\u001b[1;35m.datetime\u001b[0m\u001b[1m(\u001b[0m\u001b[1;36m2024\u001b[0m, \u001b[1;36m1\u001b[0m, \u001b[1;36m10\u001b[0m, \u001b[1;36m15\u001b[0m, \u001b[1;36m58\u001b[0m, \u001b[1;36m46\u001b[0m, \u001b[1;36m7611\u001b[0m, \u001b[33mtzinfo\u001b[0m=\u001b[1;35mTzInfo\u001b[0m\u001b[1m(\u001b[0mUTC\u001b[1m)\u001b[0m\u001b[1m)\u001b[0m,\n",
       "        \u001b[33mname\u001b[0m=\u001b[32m'https://creativecommons.org/licenses/by/4.0/'\u001b[0m,\n",
       "        \u001b[33mdescription\u001b[0m=\u001b[32m'Creative Commons Corporation \u001b[0m\u001b[32m(\u001b[0m\u001b[32m\"Creative Commons\"\u001b[0m\u001b[32m)\u001b[0m\u001b[32m is not a law firm and does not provide legal\u001b[0m\n",
       "\u001b[32mservices or legal advice. Distribution of Creative Commons public licenses does not create a lawyer-client or other\u001b[0m\n",
       "\u001b[32mrelationship. Creative Commons makes its licenses and related information available on an \"as-is\" basis. Creative \u001b[0m\n",
       "\u001b[32mCommons gives no warranties regarding its licenses, any material licensed under their terms and conditions, or any \u001b[0m\n",
       "\u001b[32mrelated information. Creative Commons disclaims all liability for damages resulting from their use to the fullest \u001b[0m\n",
       "\u001b[32mextent possible.'\u001b[0m,\n",
       "        \u001b[33mlabel\u001b[0m=\u001b[32m'CC BY 4.0 Deed'\u001b[0m\n",
       "    \u001b[1m)\u001b[0m,\n",
       "    \u001b[33mmtypes\u001b[0m=\u001b[1m[\u001b[0m\n",
       "        \u001b[1;35mMTypeClass\u001b[0m\u001b[1m(\u001b[0m\n",
       "            \u001b[33mid\u001b[0m=\u001b[1;35mUUID\u001b[0m\u001b[1m(\u001b[0m\u001b[32m'dd346e90-7bca-4976-bf9a-303b6a94b339'\u001b[0m\u001b[1m)\u001b[0m,\n",
       "            \u001b[33mupdate_date\u001b[0m=\u001b[1;35mdatetime\u001b[0m\u001b[1;35m.datetime\u001b[0m\u001b[1m(\u001b[0m\u001b[1;36m2024\u001b[0m, \u001b[1;36m11\u001b[0m, \u001b[1;36m22\u001b[0m, \u001b[1;36m11\u001b[0m, \u001b[1;36m17\u001b[0m, \u001b[1;36m54\u001b[0m, \u001b[1;36m582443\u001b[0m, \u001b[33mtzinfo\u001b[0m=\u001b[1;35mTzInfo\u001b[0m\u001b[1m(\u001b[0mUTC\u001b[1m)\u001b[0m\u001b[1m)\u001b[0m,\n",
       "            \u001b[33mcreation_date\u001b[0m=\u001b[1;35mdatetime\u001b[0m\u001b[1;35m.datetime\u001b[0m\u001b[1m(\u001b[0m\u001b[1;36m2020\u001b[0m, \u001b[1;36m3\u001b[0m, \u001b[1;36m16\u001b[0m, \u001b[1;36m10\u001b[0m, \u001b[1;36m34\u001b[0m, \u001b[1;36m23\u001b[0m, \u001b[1;36m469000\u001b[0m, \u001b[33mtzinfo\u001b[0m=\u001b[1;35mTzInfo\u001b[0m\u001b[1m(\u001b[0mUTC\u001b[1m)\u001b[0m\u001b[1m)\u001b[0m,\n",
       "            \u001b[33mpref_label\u001b[0m=\u001b[32m'L3_TPC:A'\u001b[0m,\n",
       "            \u001b[33mdefinition\u001b[0m=\u001b[32m'L3_TPC_A have a vertically projecting apical dendrite, with an often distal \u001b[0m\u001b[32m(\u001b[0m\u001b[32moccasionally \u001b[0m\n",
       "\u001b[32mproximal\u001b[0m\u001b[32m)\u001b[0m\u001b[32m onset of tuft formation, which forms a small tuft \u001b[0m\u001b[32m(\u001b[0m\u001b[32moccasionally extensive\u001b[0m\u001b[32m)\u001b[0m\u001b[32m and multiple oblique dendrites\u001b[0m\n",
       "\u001b[32mbefore tuft formation'\u001b[0m,\n",
       "            \u001b[33malt_label\u001b[0m=\u001b[32m'Layer 3 Late Bifurcating Tufted Pyramidal Cell'\u001b[0m\n",
       "        \u001b[1m)\u001b[0m\n",
       "    \u001b[1m]\u001b[0m\n",
       "\u001b[1m)\u001b[0m\n"
      ]
     },
     "metadata": {},
     "output_type": "display_data"
    }
   ],
   "source": [
    "rprint(morphology)"
   ]
  },
  {
   "cell_type": "markdown",
   "id": "6b39f843-13dd-4988-90a2-5bc49af27cc4",
   "metadata": {
    "jp-MarkdownHeadingCollapsed": true
   },
   "source": [
    "## 1.4 Find 10 morphologies of specific mtype, species and region\n",
    "\n",
    "An example of findinding morphologies based on a combination of filters:\n",
    "\n",
    "* Species\n",
    "* Mtype\n",
    "* Brain region"
   ]
  },
  {
   "cell_type": "code",
   "execution_count": 10,
   "id": "b6e5f2f6-0e88-4fe7-9cf1-874379de5cad",
   "metadata": {},
   "outputs": [],
   "source": [
    "iterator = client.search_entity(\n",
    "    entity_type=ReconstructionMorphology,\n",
    "    query={\"mtype__pref_label\": \"L3_TPC:A\", \"species__name\":\"Mus musculus\", \"brain_region__name\":\"Primary somatosensory area\"},\n",
    "    limit=10,\n",
    ")"
   ]
  },
  {
   "cell_type": "code",
   "execution_count": 11,
   "id": "c6680f35-b164-4144-94c8-c176a9cd802a",
   "metadata": {},
   "outputs": [],
   "source": [
    "morphology = next(iterator)"
   ]
  },
  {
   "cell_type": "markdown",
   "id": "ac6181c9-1a95-4184-995f-353cbc7cd86b",
   "metadata": {
    "jp-MarkdownHeadingCollapsed": true
   },
   "source": [
    "## 1.5 Explore the metadata of a morphology\n",
    "\n",
    "For one morphology we explore the available metadata that may be important for our analysis. "
   ]
  },
  {
   "cell_type": "code",
   "execution_count": 12,
   "id": "5d7a2571-e19d-4682-a478-78a07d0f59ea",
   "metadata": {},
   "outputs": [
    {
     "data": {
      "text/plain": [
       "'Mus musculus'"
      ]
     },
     "execution_count": 12,
     "metadata": {},
     "output_type": "execute_result"
    }
   ],
   "source": [
    "morphology.species.name"
   ]
  },
  {
   "cell_type": "code",
   "execution_count": 13,
   "id": "f1c6f2ff-f872-4156-821d-d52f4b4871b7",
   "metadata": {},
   "outputs": [
    {
     "data": {
      "text/plain": [
       "'Primary somatosensory area'"
      ]
     },
     "execution_count": 13,
     "metadata": {},
     "output_type": "execute_result"
    }
   ],
   "source": [
    "morphology.brain_region.name"
   ]
  },
  {
   "cell_type": "code",
   "execution_count": 14,
   "id": "d26de546-ff83-44a5-89c7-f9f12ee9ef03",
   "metadata": {},
   "outputs": [
    {
     "data": {
      "text/plain": [
       "UUID('092004c1-33a7-4830-abe4-4b2ea832bf08')"
      ]
     },
     "execution_count": 14,
     "metadata": {},
     "output_type": "execute_result"
    }
   ],
   "source": [
    "morphology.id"
   ]
  },
  {
   "cell_type": "code",
   "execution_count": 15,
   "id": "6b8df6ba-98e7-43ef-8729-96f530cb4235",
   "metadata": {},
   "outputs": [
    {
     "data": {
      "text/plain": [
       "'L3_TPC:A'"
      ]
     },
     "execution_count": 15,
     "metadata": {},
     "output_type": "execute_result"
    }
   ],
   "source": [
    "morphology.mtypes[0].pref_label"
   ]
  },
  {
   "cell_type": "code",
   "execution_count": 16,
   "id": "f174e9b1-0ae9-456c-bfcc-857433e7bd06",
   "metadata": {},
   "outputs": [
    {
     "name": "stdout",
     "output_type": "stream",
     "text": [
      "rat_20150131_LH2_cell3.h5\n",
      "rat_20150131_LH2_cell3.asc\n",
      "rat_20150131_LH2_cell3.swc\n"
     ]
    }
   ],
   "source": [
    "for asset in morphology.assets:\n",
    "    print(asset.path)"
   ]
  },
  {
   "cell_type": "markdown",
   "id": "7b3d293f-e7fe-43a6-84c7-89cf668dedb2",
   "metadata": {
    "jp-MarkdownHeadingCollapsed": true
   },
   "source": [
    "## 1.6 Download a morphology file\n",
    "\n",
    "Now we need to download an example morphology. Even though we access the metadata, getting the \"asset\", i.e. the file, of the morphology needs a different process."
   ]
  },
  {
   "cell_type": "code",
   "execution_count": 17,
   "id": "b977030f-c7da-47f1-b137-3b331e46579d",
   "metadata": {},
   "outputs": [],
   "source": [
    "fetched = client.get_entity(\n",
    "    entity_id=morphology.id, entity_type=ReconstructionMorphology\n",
    ")"
   ]
  },
  {
   "cell_type": "code",
   "execution_count": 18,
   "id": "94962520-8e90-41ba-be75-94e7c400238c",
   "metadata": {},
   "outputs": [],
   "source": [
    "for asset in fetched.assets:\n",
    "    if asset.content_type == \"application/swc\":\n",
    "        client.download_file(\n",
    "            entity_id=fetched.id,\n",
    "            entity_type=type(fetched),\n",
    "            asset_id=asset.id,\n",
    "            output_path=\"test_data\",\n",
    "        )\n",
    "        content = client.download_content(\n",
    "            entity_id=fetched.id, entity_type=type(fetched), asset_id=asset.id\n",
    "        )\n",
    "        break"
   ]
  },
  {
   "cell_type": "code",
   "execution_count": 19,
   "id": "81114d44-4155-4857-bf54-d88a24c9b4dc",
   "metadata": {},
   "outputs": [
    {
     "name": "stdout",
     "output_type": "stream",
     "text": [
      "rat_20150131_LH2_cell3.asc  rat_20150131_LH2_cell3.swc\n"
     ]
    }
   ],
   "source": [
    "ls test_data/"
   ]
  },
  {
   "cell_type": "markdown",
   "id": "763645d4-8aea-4bda-883b-526e87669b49",
   "metadata": {
    "jp-MarkdownHeadingCollapsed": true
   },
   "source": [
    "## 1.7 Download 20 morphologies for each species\n",
    "\n",
    "For now we perform comparison of mouse / rat from Primary somatosensory area, due to lack of appropriate data in entitycore. \n",
    "This will change to mouse / human from temporal association areas."
   ]
  },
  {
   "cell_type": "markdown",
   "id": "0d8d8b89-aea3-48e7-933d-8ae0a08b8bff",
   "metadata": {},
   "source": [
    "**Mouse**"
   ]
  },
  {
   "cell_type": "code",
   "execution_count": 29,
   "id": "384081bb-643e-4431-a6d3-04a2981884d9",
   "metadata": {},
   "outputs": [],
   "source": [
    "iterator = client.search_entity(\n",
    "    entity_type=ReconstructionMorphology,\n",
    "    query={\"mtype__pref_label\": \"L3_TPC:A\", \"species__name\":\"Mus musculus\", \"brain_region__name\":\"Primary somatosensory area\"},\n",
    "    limit=20,\n",
    ")"
   ]
  },
  {
   "cell_type": "code",
   "execution_count": 30,
   "id": "8b9200e8-317e-44aa-bd89-3a8f6709c609",
   "metadata": {},
   "outputs": [],
   "source": [
    "rm -r Mouse"
   ]
  },
  {
   "cell_type": "code",
   "execution_count": 31,
   "id": "d59cb9c6-8750-4855-8030-7f2be9d06d00",
   "metadata": {},
   "outputs": [],
   "source": [
    "mkdir Mouse"
   ]
  },
  {
   "cell_type": "code",
   "execution_count": 32,
   "id": "644e5a98-aa71-4b59-aef6-016b80c77170",
   "metadata": {},
   "outputs": [],
   "source": [
    "for morphology in iterator:\n",
    "    fetched = client.get_entity(\n",
    "        entity_id=morphology.id, entity_type=ReconstructionMorphology\n",
    "        )\n",
    "    for asset in fetched.assets:\n",
    "        if asset.content_type == \"application/swc\":\n",
    "            client.download_file(\n",
    "                entity_id=fetched.id,\n",
    "                entity_type=type(fetched),\n",
    "                asset_id=asset.id,\n",
    "                output_path=\"Mouse/\",\n",
    "            )\n",
    "            content = client.download_content(\n",
    "                entity_id=fetched.id, entity_type=type(fetched), asset_id=asset.id\n",
    "            )\n",
    "            break"
   ]
  },
  {
   "cell_type": "code",
   "execution_count": 33,
   "id": "14ef5917-ea2e-4191-a4b2-7dd8b4fb045c",
   "metadata": {},
   "outputs": [
    {
     "name": "stdout",
     "output_type": "stream",
     "text": [
      "C031000B-P3.swc     rat_20140212_RH4_cell1.swc  rp120531_P_2_idA.swc\n",
      "C170897A-P3.swc     rat_20141024_LH4_cell1.swc  rr110125B_idA.swc\n",
      "C180298A-P2.swc     rat_20150131_LH2_cell3.swc  sm100506a1-4_idE.swc\n",
      "C220797A-P3.swc     rat_20150217_LH3_cell1.swc  sm101102a1-8_INT_idA.swc\n",
      "C240797B-P3.swc     rat_20150217_LH3_cell2.swc  sm110120c1-2_INT_idD.swc\n",
      "C280199C-P1.swc     rp100426-2_idC.swc          sm110127b1-3_INT_idB.swc\n",
      "mtC221001A_idA.swc  rp120510_P-2_idA.swc\n"
     ]
    }
   ],
   "source": [
    "ls Mouse"
   ]
  },
  {
   "cell_type": "markdown",
   "id": "651846e3-1827-4714-8600-c06f6074fc47",
   "metadata": {},
   "source": [
    "**Rat**"
   ]
  },
  {
   "cell_type": "code",
   "execution_count": 34,
   "id": "60b30d66-513f-41fa-a70d-e6c9f79728e7",
   "metadata": {},
   "outputs": [],
   "source": [
    "iterator = client.search_entity(\n",
    "    entity_type=ReconstructionMorphology,\n",
    "    query={\"mtype__pref_label\": \"L3_TPC:A\", \"species__name\":\"Rattus norvegicus\"},# \"brain_region__name\":\"Primary somatosensory area\"},\n",
    "    limit=20,\n",
    ")"
   ]
  },
  {
   "cell_type": "code",
   "execution_count": 35,
   "id": "c220a885-30d9-442a-a112-c400d5c803f6",
   "metadata": {},
   "outputs": [],
   "source": [
    "rm -r Rat"
   ]
  },
  {
   "cell_type": "code",
   "execution_count": 36,
   "id": "862fc983-0786-4a3e-8875-d69262bd817e",
   "metadata": {},
   "outputs": [],
   "source": [
    "mkdir Rat"
   ]
  },
  {
   "cell_type": "code",
   "execution_count": 37,
   "id": "26d1867a-0d18-417d-9e77-d48084e70bde",
   "metadata": {},
   "outputs": [],
   "source": [
    "for morphology in iterator:\n",
    "    fetched = client.get_entity(\n",
    "        entity_id=morphology.id, entity_type=ReconstructionMorphology\n",
    "        )\n",
    "    for asset in fetched.assets:\n",
    "        if asset.content_type == \"application/swc\":\n",
    "            client.download_file(\n",
    "                entity_id=fetched.id,\n",
    "                entity_type=type(fetched),\n",
    "                asset_id=asset.id,\n",
    "                output_path=\"Rat/\",\n",
    "            )\n",
    "            content = client.download_content(\n",
    "                entity_id=fetched.id, entity_type=type(fetched), asset_id=asset.id\n",
    "            )\n",
    "            break"
   ]
  },
  {
   "cell_type": "code",
   "execution_count": 38,
   "id": "519ab74c-aad7-468e-bd91-d845c648c004",
   "metadata": {},
   "outputs": [
    {
     "name": "stdout",
     "output_type": "stream",
     "text": [
      "C031000B-P3.swc  rat_20082013.swc               rp100426-2_idC.swc\n",
      "C170897A-P2.swc  rat_20141016_LH3_cell2.swc     rp120430_P-2_idC.swc\n",
      "C170897A-P3.swc  rat_20150120_LH1_cell3.swc     rp120510_P-2_idA.swc\n",
      "C180298A-P2.swc  rat_20150131_LH2_cell2.swc     sm110120c1-2_INT_idD.swc\n",
      "C190898A-P2.swc  rat_20150217_LH3_cell1.swc     sm110127b1-3_INT_idA.swc\n",
      "C240797B-P1.swc  rat_20150323_E1_LH4_cell1.swc  sm110131a1-3_INT_idA.swc\n",
      "C260897C-P4.swc  rat_20151211_E2_LH3_cell1.swc\n"
     ]
    }
   ],
   "source": [
    "ls Rat"
   ]
  },
  {
   "cell_type": "markdown",
   "id": "d23265cf-76b7-48cc-b7dc-3fe2e686cb2a",
   "metadata": {},
   "source": [
    "**Human**"
   ]
  },
  {
   "cell_type": "code",
   "execution_count": 40,
   "id": "ffe0a250-0d68-43b6-b480-fab65adc8876",
   "metadata": {},
   "outputs": [],
   "source": [
    "iterator = client.search_entity(\n",
    "    entity_type=ReconstructionMorphology,\n",
    "    query={\"contribution__pref_label\": \"Christiaan de Kock\", \"mtype__pref_label\": \"L23_PC\", \"species__name\":\"Homo sapiens\"}, #\"brain_region__name\":\"Temporal association areas, layer 2/3\"},    \n",
    "    limit=20,\n",
    ")"
   ]
  },
  {
   "cell_type": "code",
   "execution_count": 41,
   "id": "42c13acf-ccdd-4484-a6e3-514bb0f2613f",
   "metadata": {},
   "outputs": [],
   "source": [
    "rm -r Human"
   ]
  },
  {
   "cell_type": "code",
   "execution_count": 42,
   "id": "b9502023-b5d9-4523-aac3-cf4a2c740545",
   "metadata": {},
   "outputs": [],
   "source": [
    "mkdir Human"
   ]
  },
  {
   "cell_type": "code",
   "execution_count": 43,
   "id": "9ae00441-a8ae-48e4-9a3d-49ec2423012c",
   "metadata": {},
   "outputs": [],
   "source": [
    "for morphology in iterator:\n",
    "    fetched = client.get_entity(\n",
    "        entity_id=morphology.id, entity_type=ReconstructionMorphology\n",
    "        )\n",
    "    for asset in fetched.assets:\n",
    "        if asset.content_type == \"application/swc\":\n",
    "            client.download_file(\n",
    "                entity_id=fetched.id,\n",
    "                entity_type=type(fetched),\n",
    "                asset_id=asset.id,\n",
    "                output_path=\"Human/\",\n",
    "            )\n",
    "            content = client.download_content(\n",
    "                entity_id=fetched.id, entity_type=type(fetched), asset_id=asset.id\n",
    "            )\n",
    "            break"
   ]
  },
  {
   "cell_type": "code",
   "execution_count": 44,
   "id": "9601b291-f472-4759-8952-f1967ba4c1e4",
   "metadata": {},
   "outputs": [
    {
     "name": "stdout",
     "output_type": "stream",
     "text": [
      " 0594_H53_03_.swc               1277_H42_01_.swc\n",
      " 0643_H50_02.swc                1352_AK.19.04.17.H1_Cell3.swc\n",
      " 0849_H53_03.swc                1426_AK_2017_04_19_S1_H1_N3.swc\n",
      "'0965_H42-09(p).swc'            1443_AK.19.04.17.H1_Cell2.swc\n",
      " 1067_Thijs_H40_02_cel1.swc     1490_H22.29.223.11.01.02.swc\n",
      " 1084_GH100622_I_Cell1.swc      1504_H12035TV06_nr2.swc\n",
      " 1202_H41_01.swc                1549_H12035TV01.swc\n",
      " 1204_H42_02.swc                H21.29.187.11.42.01.swc\n",
      " 1209_H22.29.209.11.92.01.swc   H21.29.187.11.44.01.swc\n",
      " 1230_H20.29.187.11.01.03.swc   H22.29.214.11.71.05.swc\n"
     ]
    }
   ],
   "source": [
    "ls Human"
   ]
  }
 ],
 "metadata": {
  "kernelspec": {
   "display_name": "Python 3 (ipykernel)",
   "language": "python",
   "name": "python3"
  },
  "language_info": {
   "codemirror_mode": {
    "name": "ipython",
    "version": 3
   },
   "file_extension": ".py",
   "mimetype": "text/x-python",
   "name": "python",
   "nbconvert_exporter": "python",
   "pygments_lexer": "ipython3",
   "version": "3.12.6"
  }
 },
 "nbformat": 4,
 "nbformat_minor": 5
}
