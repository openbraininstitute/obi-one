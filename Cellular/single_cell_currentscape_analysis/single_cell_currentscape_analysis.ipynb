{
 "cells": [
  {
   "cell_type": "markdown",
   "metadata": {},
   "source": [
    "# Single cell currentscape analysis\n",
    "\n",
    "Copyright (c) 2025 Open Brain Institute\n",
    "\n",
    "Authors: Aurélien Jaquier\n",
    "\n",
    "last modified: 01.2025\n",
    "\n",
    "## Description\n",
    "\n",
    "This notebook runs a single cell with a step stimulus, records its mechanism-related currents and voltage output, and plots them as a currentscape graph, in the style of [Alonso and Marder (2019)](https://doi.org/10.7554/eLife.42722).\n",
    "\n",
    "In order to run this notebook, you will need to download an emodel from the Open Brain Institute Platform and have it under a folder named emodel. \n",
    "\n",
    "You will also need to have Neuron, BlueCelluLab and Currentscape installed."
   ]
  },
  {
   "cell_type": "markdown",
   "metadata": {},
   "source": [
    "You will have first to compile the mechanisms. This notebook expects the hoc emodel, the morphology and the mechanisms to be in a folder named emodel. Run the following cell to compile the mechanisms:"
   ]
  },
  {
   "cell_type": "code",
   "execution_count": 1,
   "metadata": {},
   "outputs": [
    {
     "name": "stdout",
     "output_type": "stream",
     "text": [
      "/Users/aurelien/venvs/venv-py312/bin/nrnivmodl:10: DeprecationWarning: pkg_resources is deprecated as an API. See https://setuptools.pypa.io/en/latest/pkg_resources.html\n",
      "  from pkg_resources import working_set\n",
      "/usr/bin/xcrun\n",
      "/Users/aurelien/repos/obi_platform_analysis_notebooks/Cellular/single_cell_currentscape_analysis\n",
      "Mod files: \"emodel/mechanisms/emodel/mechanisms/CaDynamics_DC0.mod\" \"emodel/mechanisms/emodel/mechanisms/Ca_HVA2.mod\" \"emodel/mechanisms/emodel/mechanisms/Ca_LVAst.mod\" \"emodel/mechanisms/emodel/mechanisms/Ih.mod\" \"emodel/mechanisms/emodel/mechanisms/K_Pst.mod\" \"emodel/mechanisms/emodel/mechanisms/K_Tst.mod\" \"emodel/mechanisms/emodel/mechanisms/NaTg.mod\" \"emodel/mechanisms/emodel/mechanisms/Nap_Et2.mod\" \"emodel/mechanisms/emodel/mechanisms/SK_E2.mod\" \"emodel/mechanisms/emodel/mechanisms/SKv3_1.mod\"\n",
      "\n",
      "Creating 'arm64' directory for .o files.\n",
      "\n",
      " -> \u001b[32mNMODL\u001b[0m ../emodel/mechanisms/Ca_HVA2.mod\n",
      " -> \u001b[32mNMODL\u001b[0m ../emodel/mechanisms/CaDynamics_DC0.mod\n",
      " -> \u001b[32mNMODL\u001b[0m ../emodel/mechanisms/Ca_LVAst.mod\n",
      " -> \u001b[32mCompiling\u001b[0m mod_func.cpp\n",
      "Translating CaDynamics_DC0.mod into /Users/aurelien/repos/obi_platform_analysis_notebooks/Cellular/single_cell_currentscape_analysis/arm64/CaDynamics_DC0.c\n",
      "Translating Ca_HVA2.mod into /Users/aurelien/repos/obi_platform_analysis_notebooks/Cellular/single_cell_currentscape_analysis/arm64/Ca_HVA2.c\n",
      "Translating Ca_LVAst.mod into /Users/aurelien/repos/obi_platform_analysis_notebooks/Cellular/single_cell_currentscape_analysis/arm64/Ca_LVAst.c\n",
      "Thread Safe\n",
      "Thread Safe\n",
      "Thread Safe\n",
      " -> \u001b[32mNMODL\u001b[0m ../emodel/mechanisms/K_Pst.mod\n",
      " -> \u001b[32mNMODL\u001b[0m ../emodel/mechanisms/Ih.mod\n",
      " -> \u001b[32mNMODL\u001b[0m ../emodel/mechanisms/K_Tst.mod\n",
      "Translating Ih.mod into /Users/aurelien/repos/obi_platform_analysis_notebooks/Cellular/single_cell_currentscape_analysis/arm64/Ih.c\n",
      "Translating K_Pst.mod into /Users/aurelien/repos/obi_platform_analysis_notebooks/Cellular/single_cell_currentscape_analysis/arm64/K_Pst.c\n",
      "Translating K_Tst.mod into /Users/aurelien/repos/obi_platform_analysis_notebooks/Cellular/single_cell_currentscape_analysis/arm64/K_Tst.c\n",
      "Thread Safe\n",
      "Thread Safe\n",
      "Thread Safe\n",
      " -> \u001b[32mNMODL\u001b[0m ../emodel/mechanisms/NaTg.mod\n",
      " -> \u001b[32mNMODL\u001b[0m ../emodel/mechanisms/Nap_Et2.mod\n",
      " -> \u001b[32mNMODL\u001b[0m ../emodel/mechanisms/SK_E2.mod\n",
      "Translating NaTg.mod into /Users/aurelien/repos/obi_platform_analysis_notebooks/Cellular/single_cell_currentscape_analysis/arm64/NaTg.c\n",
      "Translating SK_E2.mod into /Users/aurelien/repos/obi_platform_analysis_notebooks/Cellular/single_cell_currentscape_analysis/arm64/SK_E2.c\n",
      "Translating Nap_Et2.mod into /Users/aurelien/repos/obi_platform_analysis_notebooks/Cellular/single_cell_currentscape_analysis/arm64/Nap_Et2.c\n",
      "Thread Safe\n",
      "Thread Safe\n",
      "Thread Safe\n",
      " -> \u001b[32mNMODL\u001b[0m ../emodel/mechanisms/SKv3_1.mod\n",
      " -> \u001b[32mCompiling\u001b[0m CaDynamics_DC0.c\n",
      " -> \u001b[32mCompiling\u001b[0m Ca_HVA2.c\n",
      "Translating SKv3_1.mod into /Users/aurelien/repos/obi_platform_analysis_notebooks/Cellular/single_cell_currentscape_analysis/arm64/SKv3_1.c\n",
      "Thread Safe\n",
      " -> \u001b[32mCompiling\u001b[0m Ca_LVAst.c\n",
      "\u001b[1m\u001b[1m\u001b[1mCa_LVAst.cCa_HVA2.c:CaDynamics_DC0.c43::4218::18 ::\u001b[0m43 :\u001b[0m18\u001b[0;1;35m:warning:  \u001b[0m\u001b[0;1;35mwarning: \u001b[0m\u001b[1ma function declaration without a prototype is deprecated in all versions of C and is treated as a zero-parameter prototype in C2x, conflicting with a previous declaration [-Wdeprecated-non-prototype]\u001b[0;1;35m\u001b[0mwarning: \n",
      "\u001b[0m\u001b[1ma function declaration without a prototype is deprecated in all versions of C and is treated as a zero-parameter prototype in C2x, conflicting with a previous declaration [-Wdeprecated-non-prototype]\u001b[0m\u001b[0m\u001b[1m\n",
      "a function declaration without a prototype is deprecated in all versions of C and is treated as a zero-parameter prototype in C2x, conflicting with a previous declaration [-Wdeprecated-non-prototype]   \u001b[0m43    | 43         |          \n",
      " exte   xterne dr42n |  oduoub        l ebelxet e*rgne  tdo*ublaeg etarrgg*((g)eta)r;g;\u001b[0m(\u001b[0m\n",
      ")\n",
      ";      \u001b[0m|       \n",
      "      | \u001b[0;1;32m|                         ^\u001b[0;1;32m\n",
      "\u001b[0m\u001b[0;1;32m                        ^\n",
      "\u001b[0m                        ^\n",
      "\u001b[0m\u001b[1m/Users/aurelien/venvs/venv-py312/lib/python3.12/site-packages/neuron/.data/include/hocdec.h\u001b[1m\u001b[1m:/Users/aurelien/venvs/venv-py312/lib/python3.12/site-packages/neuron/.data/include/hocdec.h15/Users/aurelien/venvs/venv-py312/lib/python3.12/site-packages/neuron/.data/include/hocdec.h:::1515::1717: 17\u001b[0m:\u001b[0;1;30m :note: \u001b[0m \u001b[0m\u001b[0;1;30m\u001b[0mnote: \u001b[0;1;30mnote: \u001b[0mexpanded from macro 'getarg'expanded from macro 'getarg'\u001b[0m\u001b[0m\n",
      "\n",
      "\u001b[0m      expanded from macro 'getarg'15\u001b[0m | \n",
      "#d15efi | n#def   15e | i#ndefine g etgetarg e hoc_agrg  hoc_gee ttarg\u001b[0m\n",
      "      g| arg\u001b[0m\n",
      "      | \u001b[0;1;32m\u001b[0;1;32m                ^                ^\n",
      "\n",
      "\u001b[0m\u001b[0metarg  hoc_getarg\u001b[0m\n",
      "      | \u001b[0;1;32m                ^\n",
      "\u001b[0m\u001b[1m/Users/aurelien/venvs/venv-py312/lib/python3.12/site-packages/neuron/.data/include/oc_ansi.h:49\u001b[1m:/Users/aurelien/venvs/venv-py312/lib/python3.12/site-packages/neuron/.data/include/oc_ansi.h:49:16:\u001b[1m/Users/aurelien/venvs/venv-py312/lib/python3.12/site-packages/neuron/.data/include/oc_ansi.h:49:16:16 :\u001b[0m \u001b[0;1;30m\u001b[0m \u001b[0;1;30mnote: \u001b[0mconflicting prototype is here\u001b[0m\n",
      "note:    49\u001b[0m | \u001b[0mconflicting prototype is here\u001b[0m\u001b[0;1;30m\n",
      "note: \u001b[0mconflicting prototype is heree\u001b[0mx\n",
      "t   49 | e   49 | exetrenr nd oduoxtern dble* getarg(iouubblnet);\u001b[0ml\n",
      "e* get      a| r\u001b[0;1;32mg(*i ngtetar               ^g(int);)\u001b[0m;\u001b[0m\n",
      "      | \u001b[0;1;32m               ^\n",
      "\u001b[0m\n",
      "\u001b[0m\n",
      "      | \u001b[1m\u001b[0;1;32m/Users/aurelien/venvs/venv-py312/lib/python3.12/site-packages/neuron/.data/include/hocdec.h               ^:\n",
      "\u001b[0m\u001b[1m/Users/aurelien/venvs/venv-py312/lib/python3.12/site-packages/neuron/.data/include/hocdec.h:\u001b[1m15/Users/aurelien/venvs/venv-py312/lib/python3.12/site-packages/neuron/.data/include/hocdec.h::15:17: \u001b[0m17\u001b[0;1;30m:note:  \u001b[0m\u001b[0m\u001b[0;1;30mnote: \u001b[0mexpanded from macro 'getarg'15\u001b[0m:17: expanded from macro 'getarg'\u001b[0m\u001b[0m\n",
      "\n",
      "   15 | #de\u001b[0;1;30mfnote: \u001b[0mexpanded from macro 'getarg'\u001b[0mine geta\n",
      "rg  ho   c15_ | ge   ta15 | #defin#rdee getgfine g\u001b[0met\n",
      "a      | a\u001b[0;1;32mrrgg                  ^  \n",
      "hh\u001b[0mooc_getarcg_\u001b[0mg\n",
      "e      t| a\u001b[0;1;32mr                ^g\n",
      "\u001b[0m\u001b[0m\n",
      "      | \u001b[0;1;32m                ^\n",
      "\u001b[0m\u001b[1mCa_HVA2.c:282:15: \u001b[0m\u001b[0;1;35mwarning: \u001b[0m\u001b[1mequality comparison with extraneous parentheses [-Wparentheses-equality]\u001b[0m\n",
      "  282 |     if ( ( v  == - 27.0 ) ) {\u001b[0m\n",
      "      | \u001b[0;1;32m           ~~~^~~~~~~~~\n",
      "\u001b[0m\u001b[1mCa_HVA2.c:282:15: \u001b[0m\u001b[0;1;30mnote: \u001b[0mremove extraneous parentheses around the comparison to silence this warning\u001b[0m\n",
      "  282 |     if ( ( v  == - 27.0 ) ) {\u001b[0m\n",
      "      | \u001b[0;1;32m         ~    ^         ~\n",
      "\u001b[0m\u001b[1mCa_HVA2.c:282:15: \u001b[0m\u001b[0;1;30mnote: \u001b[0muse '=' to turn this equality comparison into an assignment\u001b[0m\n",
      "  282 |     if ( ( v  == - 27.0 ) ) {\u001b[0m\n",
      "      | \u001b[0;1;32m              ^~\n",
      "\u001b[0m      | \u001b[0;32m              =\n",
      "\u001b[0m1 warning generated.\n",
      "2 warnings generated.\n",
      "1 warning generated.\n",
      " -> \u001b[32mCompiling\u001b[0m Ih.c\n",
      " -> \u001b[32mCompiling\u001b[0m K_Tst.c\n",
      " -> \u001b[32mCompiling\u001b[0m K_Pst.c\n",
      " -> \u001b[32mCompiling\u001b[0m NaTg.c\n",
      "\u001b[1mIh.c:43:18: \u001b[0m\u001b[0;1;35mwarning: \u001b[0m\u001b[1ma function declaration without a prototype is deprecated in all versions of C and is treated as a zero-parameter prototype in C2x, conflicting with a previous declaration [-Wdeprecated-non-prototype]\u001b[0m\n",
      "   43 |          extern double\u001b[1m K_Pst.c:43:18: \u001b[0m\u001b[0;1;35mwarning: \u001b[0m\u001b[1ma function declaration without a prototype is deprecated in all versions of C and is treated as a zero-parameter prototype in C2x, conflicting with a previous declaration [-Wdeprecated-non-prototype]\u001b[0m\n",
      "   43 |          extern double *getarg();\u001b[0m*getar\n",
      "      | \u001b[0;1;32m                        ^\n",
      "\u001b[0mg();\u001b[0m\n",
      "      | \u001b[0;1;32m                        ^\n",
      "\u001b[0m\u001b[1m/Users/aurelien/venvs/venv-py312/lib/python3.12/site-packages/neuron/.data/include/hocdec.h:15:17: \u001b[0m\u001b[0;1;30mnote: \u001b[0mexpanded from macro 'getarg'\u001b[0m\n",
      "   15 | #define getarg \u001b[1m /Users/aurelien/venvs/venv-py312/lib/python3.12/site-packages/neuron/.data/include/hocdec.h:15:17: \u001b[0m\u001b[0;1;30mnote: \u001b[0mexpanded from macro 'getarg'\u001b[0m\n",
      "hoc_ge   15 | #define getarg  hoc_gettarg\u001b[0ma\n",
      "rg\u001b[0m\n",
      "      |       \u001b[0;1;32m|                 ^\n",
      "\u001b[0m\u001b[0;1;32m                ^\n",
      "\u001b[0m\u001b[1m/Users/aurelien/venvs/venv-py312/lib/python3.12/site-packages/neuron/.data/include/oc_ansi.h:49:16: \u001b[0m\u001b[1m\u001b[0;1;30m/Users/aurelien/venvs/venv-py312/lib/python3.12/site-packages/neuron/.data/include/oc_ansi.hnote: :\u001b[0m49:16: \u001b[0m\u001b[0;1;30mnote: conflicting prototype is here\u001b[0m\u001b[0mconflicting prototype is here\n",
      "\u001b[0m\n",
      "   49 | e   49 | extextern double* getrn doublarg(int);e\u001b[0m* get\n",
      "      | \u001b[0;1;32m               ^\n",
      "\u001b[0m\u001b[1m/Users/aurelien/venvs/venv-py312/lib/python3.12/site-packages/neuron/.data/include/hocdec.h:15:17arg(int:) ;\u001b[0m\u001b[0m\u001b[0;1;30m\n",
      "note:       \u001b[0m| expanded from macro 'getarg'\u001b[0;1;32m\u001b[0m               ^\n",
      "\n",
      "\u001b[0m   15 | #\u001b[1m/Users/aurelien/venvs/venv-py312/lib/python3.12/site-packages/neuron/.data/include/hocdec.h:15:define ge17t: \u001b[0m\u001b[0;1;30mnote: \u001b[0mexpanded from macro 'getarg'\u001b[0m\n",
      "a   15 | #drg  hoce_fgientea rgge\u001b[0mt\n",
      "a      r| g\u001b[0;1;32m                 ^ \n",
      "h\u001b[0moc_getarg\u001b[0m\n",
      "      | \u001b[0;1;32m                ^\n",
      "\u001b[0m\u001b[1mK_Tst.c:43:18: \u001b[0m\u001b[0;1;35mwarning: \u001b[0m\u001b[1ma function declaration without a prototype is deprecated in all versions of C and is treated as a zero-parameter prototype in C2x, conflicting with a previous declaration [-Wdeprecated-non-prototype]\u001b[0m\n",
      "   43 |          extern double *getarg();\u001b[0m\n",
      "      | \u001b[0;1;32m                        ^\n",
      "\u001b[0m\u001b[1m/Users/aurelien/venvs/venv-py312/lib/python3.12/site-packages/neuron/.data/include/hocdec.h:15:17: \u001b[0m\u001b[0;1;30mnote: \u001b[0mexpanded from macro 'getarg'\u001b[0m\n",
      "   15 | #define getarg  hoc_getarg\u001b[0m\n",
      "      | \u001b[0;1;32m                ^\n",
      "\u001b[0m\u001b[1m/Users/aurelien/venvs/venv-py312/lib/python3.12/site-packages/neuron/.data/include/oc_ansi.h:49:16: \u001b[0m\u001b[0;1;30mnote: \u001b[0mconflicting prototype is here\u001b[0m\n",
      "   49 | extern double* getarg(int);\u001b[0m\n",
      "      | \u001b[0;1;32m               ^\n",
      "\u001b[0m\u001b[1m/Users/aurelien/venvs/venv-py312/lib/python3.12/site-packages/neuron/.data/include/hocdec.h:15:17: \u001b[0m\u001b[0;1;30mnote: \u001b[0mexpanded from macro 'getarg'\u001b[0m\n",
      "   15 | #define getarg  hoc_getarg\u001b[0m\n",
      "      | \u001b[0;1;32m                ^\n",
      "\u001b[0m\u001b[1mNaTg.c:43:18: \u001b[0m\u001b[0;1;35mwarning: \u001b[0m\u001b[1ma function declaration without a prototype is deprecated in all versions of C and is treated as a zero-parameter prototype in C2x, conflicting with a previous declaration [-Wdeprecated-non-prototype]\u001b[0m\n",
      "   43 |          extern double *getarg();\u001b[0m\n",
      "      | \u001b[0;1;32m                        ^\n",
      "\u001b[0m\u001b[1m/Users/aurelien/venvs/venv-py312/lib/python3.12/site-packages/neuron/.data/include/hocdec.h:15:17: \u001b[0m\u001b[0;1;30mnote: \u001b[0mexpanded from macro 'getarg'\u001b[0m\n",
      "   15 | #define getarg  hoc_getarg\u001b[0m\n",
      "      | \u001b[0;1;32m                ^\n",
      "\u001b[0m\u001b[1m/Users/aurelien/venvs/venv-py312/lib/python3.12/site-packages/neuron/.data/include/oc_ansi.h:49:16: \u001b[0m\u001b[0;1;30mnote: \u001b[0mconflicting prototype is here\u001b[0m\n",
      "   49 | extern double* getarg(int);\u001b[0m\n",
      "      | \u001b[0;1;32m               ^\n",
      "\u001b[0m\u001b[1m/Users/aurelien/venvs/venv-py312/lib/python3.12/site-packages/neuron/.data/include/hocdec.h:15:17: \u001b[0m\u001b[0;1;30mnote: \u001b[0mexpanded from macro 'getarg'\u001b[0m\n",
      "   15 | #define getarg  hoc_getarg\u001b[0m\n",
      "      | \u001b[0;1;32m                ^\n",
      "\u001b[0m1 warning generated.\n",
      "1 warning generated.\n",
      "1 warning generated.\n",
      "1 warning generated.\n",
      " -> \u001b[32mCompiling\u001b[0m SK_E2.c\n",
      " -> \u001b[32mCompiling\u001b[0m Nap_Et2.c\n",
      " -> \u001b[32mCompiling\u001b[0m SKv3_1.c\n",
      "\u001b[1mNap_Et2.c:43:18: \u001b[0m\u001b[0;1;35mwarning: \u001b[0m\u001b[1ma function declaration without a prototype is deprecated in all versions of C and is treated as a zero-parameter prototype in C2x, conflicting with a previous declaration [-Wdeprecated-non-prototype]\u001b[1mSKv3_1.c:43:18: \u001b[0m\u001b[0;1;35mwarning: \u001b[0m\u001b[0m\u001b[1m\n",
      "a function declaration without a prototype is deprecated in all versions of C and is treated as a zero-parameter prototype in C2x, conflicting with a previous declaration [-Wdeprecated-non-prototype]\u001b[0m\n",
      "      4343 |          extern dou | b        l ee x*t\u001b[1meSK_E2.cg:e43r:n doutarg()b;l\u001b[0me\n",
      "       *| \u001b[0;1;32m18                        ^\n",
      "\u001b[0m: \u001b[0mgetarg\u001b[0;1;35mwarning: \u001b[0m\u001b[1m\u001b[1m(/Users/aurelien/venvs/venv-py312/lib/python3.12/site-packages/neuron/.data/include/hocdec.h):;\u001b[0m15\n",
      "      | \u001b[0;1;32m                        ^a function declaration without a prototype is deprecated in all versions of C and is treated as a zero-parameter prototype in C2x, conflicting with a previous declaration [-Wdeprecated-non-prototype]\n",
      "\u001b[0m\n",
      ":17   :43  | \u001b[0m        \u001b[0;1;30mnote: \u001b[0m\u001b[0mexpanded from macro 'getarg'\u001b[0m\n",
      " extern double   \u001b[1m15/Users/aurelien/venvs/venv-py312/lib/python3.12/site-packages/neuron/.data/include/hocdec.h |  #*dge:f15:17: e\u001b[0m\u001b[0;1;30mtnote: a\u001b[0mrexpanded from macro 'getarg'g\u001b[0m(\n",
      ");i\u001b[0m   n\n",
      "15e |        g| \u001b[0;1;32m                        ^\n",
      "\u001b[0metarg  ho#c_gdeetfairnge getarg\u001b[1m /Users/aurelien/venvs/venv-py312/lib/python3.12/site-packages/neuron/.data/include/hocdec.h :15:17\u001b[0m:\n",
      "       \u001b[0m\u001b[0;1;30mnote: | \u001b[0m\u001b[0;1;32mhexpanded from macro 'getarg'o\u001b[0mc\n",
      "_ge                ^t\n",
      "a\u001b[0mr   15 | #defgi\u001b[0m\n",
      "      | \u001b[0;1;32m                ^\n",
      "n\u001b[0me get\u001b[1m/Users/aurelien/venvs/venv-py312/lib/python3.12/site-packages/neuron/.data/include/oc_ansi.h:49:arg  h16o: \u001b[0m\u001b[0;1;30mnote: \u001b[0mconflicting prototype is here\u001b[0m\u001b[1m\n",
      "/Users/aurelien/venvs/venv-py312/lib/python3.12/site-packages/neuron/.data/include/oc_ansi.h:c   _49 | e49xg:e16t:a rg\u001b[0m\u001b[0m\u001b[0;1;30m\n",
      "note: t\u001b[0meconflicting prototype is herer\u001b[0mn       | d\u001b[0;1;32m\n",
      "o                ^u\n",
      "   49 | exterbnl \u001b[0mdouble* getarge\u001b[1m*/Users/aurelien/venvs/venv-py312/lib/python3.12/site-packages/neuron/.data/include/oc_ansi.h :(49intg)e;:t\u001b[0m16\n",
      ":       a\u001b[0mr\u001b[0;1;30mgnote: (| i\u001b[0;1;32mn               ^t\n",
      ")\u001b[0m\u001b[0m;conflicting prototype is here\u001b[0m\n",
      "\u001b[0m\u001b[1m\n",
      "/Users/aurelien/venvs/venv-py312/lib/python3.12/site-packages/neuron/.data/include/hocdec.h:15:17:       \u001b[0m| \u001b[0;1;30m   \u001b[0;1;32m49               ^\n",
      "\u001b[0mnote: \u001b[0mexpanded from macro 'getarg'\u001b[0m\u001b[1m\n",
      "/Users/aurelien/venvs/venv-py312/lib/python3.12/site-packages/neuron/.data/include/hocdec.h:    | 15:17:15 \u001b[0m | \u001b[0;1;30me#xtenote: rd\u001b[0mneexpanded from macro 'getarg' f\u001b[0mdi\n",
      "oub   ln15ee |  #de*g egteatfrig  haorcg_(gient);\u001b[0m\n",
      "      ne ge| t\u001b[0;1;32m               ^\n",
      "\u001b[0mtarg\u001b[1m /Users/aurelien/venvs/venv-py312/lib/python3.12/site-packages/neuron/.data/include/hocdec.h :15a:17hrog\u001b[0m\n",
      "      :| \u001b[0;1;32mc_                 ^\n",
      "\u001b[0mgetarg\u001b[0m\n",
      "      | \u001b[0m\u001b[0;1;32m\u001b[0;1;30mnote: \u001b[0mexpanded from macro 'getarg'\u001b[0m\n",
      "                ^\n",
      "   15 | #d\u001b[0mefine getarg  hoc_getarg\u001b[0m\n",
      "      | \u001b[0;1;32m                ^\n",
      "\u001b[0m1 warning generated.\n",
      "1 warning generated.\n",
      "1 warning generated.\n",
      " => \u001b[32mLINKING\u001b[0m shared library ./libnrnmech.dylib\n",
      " => \u001b[32mLINKING\u001b[0m executable ./special LDFLAGS are:    \n",
      "ld: warning: ignoring duplicate libraries: '-lnrnmech'\n",
      "Successfully created arm64/special\n"
     ]
    }
   ],
   "source": [
    "!nrnivmodl emodel/mechanisms"
   ]
  },
  {
   "cell_type": "markdown",
   "metadata": {},
   "source": [
    "First, we'll have to load every module that are needed in this notebook:"
   ]
  },
  {
   "cell_type": "code",
   "execution_count": 2,
   "metadata": {},
   "outputs": [
    {
     "name": "stderr",
     "output_type": "stream",
     "text": [
      "Warning: no DISPLAY environment variable.\n",
      "--No graphics will be displayed.\n"
     ]
    }
   ],
   "source": [
    "import json\n",
    "import matplotlib.pyplot as plt\n",
    "from pathlib import Path\n",
    "\n",
    "from bluecellulab import Cell\n",
    "from bluecellulab.circuit.circuit_access import EmodelProperties\n",
    "from bluecellulab.simulation import Simulation\n",
    "from bluecellulab.stimulus import StimulusFactory\n",
    "from bluecellulab.tools import calculate_rheobase\n",
    "import currentscape\n"
   ]
  },
  {
   "cell_type": "markdown",
   "metadata": {},
   "source": [
    "We'll know open the analysis_info.json file in order to get all the files names, and be able to load them:"
   ]
  },
  {
   "cell_type": "code",
   "execution_count": 3,
   "metadata": {},
   "outputs": [],
   "source": [
    "emodel_folder = Path(\"emodel\")\n",
    "with open(emodel_folder / \"metadata.json\") as f:\n",
    "    metadata = json.load(f)\n",
    "hoc_file = emodel_folder / metadata[\"hoc_file\"]\n",
    "morph_file = emodel_folder / metadata[\"morph_file\"]\n",
    "mechanisms_folder = emodel_folder / metadata[\"mechanisms_folder\"]\n",
    "threshold_current = metadata[\"threshold_current\"]\n",
    "holding_current = metadata[\"holding_current\"]\n",
    "emodel_name = metadata[\"emodel_name\"]"
   ]
  },
  {
   "cell_type": "markdown",
   "metadata": {},
   "source": [
    "Now, we will get the holding current and the threshold current from the metadata. If they are not available, we will use default values of 0 for both for now, and compute the threshold current later on."
   ]
  },
  {
   "cell_type": "code",
   "execution_count": 4,
   "metadata": {},
   "outputs": [],
   "source": [
    "if holding_current is None:\n",
    "    print(\"No holding current provided, will set it to 0.\")\n",
    "    holding_current = 0\n",
    "compute_threshold = False\n",
    "if threshold_current is None:\n",
    "    compute_threshold = True\n",
    "    threshold_current = 0\n",
    "emodel_properties = EmodelProperties(\n",
    "    threshold_current=threshold_current,\n",
    "    holding_current=holding_current,\n",
    ")"
   ]
  },
  {
   "cell_type": "markdown",
   "metadata": {},
   "source": [
    "Now that we have the holding and threshold current (or placeholder values if they were not in the metadata), we can create our cell using BlueCelluLab:"
   ]
  },
  {
   "cell_type": "code",
   "execution_count": 5,
   "metadata": {},
   "outputs": [],
   "source": [
    "cell = Cell(hoc_file, morph_file, template_format=\"v6\", emodel_properties=emodel_properties)"
   ]
  },
  {
   "cell_type": "markdown",
   "metadata": {},
   "source": [
    "Now that we have a cell, we can compute its threshold current if it was not provided in the metadata. First, we compute its RMP (resting membrane potential) and Rin (internal resistance) to get a maximum bound for threshold current, and use a bisection search algorithm. BlueCelluLab can handle all of that:"
   ]
  },
  {
   "cell_type": "code",
   "execution_count": 6,
   "metadata": {},
   "outputs": [],
   "source": [
    "if compute_threshold:\n",
    "    print(\"No threshold current provided, will attempt to compute it. This will take a few seconds...\")\n",
    "    emodel_properties.threshold_current = calculate_rheobase(cell)"
   ]
  },
  {
   "cell_type": "markdown",
   "metadata": {},
   "source": [
    "And we can print the holding and threshold currents:"
   ]
  },
  {
   "cell_type": "code",
   "execution_count": 7,
   "metadata": {},
   "outputs": [
    {
     "name": "stdout",
     "output_type": "stream",
     "text": [
      "holding current is -0.0640625 nA.\n",
      "threshold current is 0.08304913631110189 nA.\n"
     ]
    }
   ],
   "source": [
    "print(f\"holding current is {emodel_properties.holding_current} nA.\")\n",
    "print(f\"threshold current is {emodel_properties.threshold_current} nA.\")"
   ]
  },
  {
   "cell_type": "markdown",
   "metadata": {},
   "source": [
    "We will now create a protocol with a step stimulus.\n",
    "\n",
    "For this we will use bluecellulab's idrest protocol. Its stimulus delay and duration are hardcoded. If you want to set them, you will have to directly use bluecellulab.stimulus.factory.Step. We have to set the protocol amplitude.\n",
    "\n",
    "Here, we will set it to 150% of the rheobase, but feel free to play with this number and compare the different outputs. We can also set the time step. Here, we will set to 0.1 ms. Once again, BlueCelluLab takes care of creating the stimulus for us:"
   ]
  },
  {
   "cell_type": "code",
   "execution_count": 8,
   "metadata": {},
   "outputs": [],
   "source": [
    "threshold_percentage = 150\n",
    "stim_factory = StimulusFactory(dt=0.1)\n",
    "stim = stim_factory.idrest(\n",
    "    threshold_current=emodel_properties.threshold_current,\n",
    "    threshold_percentage=threshold_percentage\n",
    ")"
   ]
  },
  {
   "cell_type": "markdown",
   "metadata": {},
   "source": [
    "Next we have to define the ion channels that we want to record. For this example, let's record all of those present in the soma.\n",
    "\n",
    "You have to give the channel suffix and the current it writes to. You can find them in the ion channel mod file (in the mechanisms folder) in the NEURON block under SUFFIX for the suffix and either under USEION WRITE or under NONSPECIFIC_CURRENT for the current, depending on whether it is an ionic current or a non-specific current.\n",
    "\n",
    "You don't have to add mechanisms that do not write ionic current, like CaDynamics_DC0. Here, we won't record Nap_Et2 either because this channel is not present in the soma. We will also add the pas channel, which mod file is taken from Neuron directly, which is why it is not present in the mechanisms folder."
   ]
  },
  {
   "cell_type": "code",
   "execution_count": 9,
   "metadata": {},
   "outputs": [],
   "source": [
    "ion_channels = {\n",
    "    \"SKv3_1\": \"ik\",\n",
    "    \"K_Pst\": \"ik\",\n",
    "    \"SK_E2\": \"ik\",\n",
    "    \"K_Tst\": \"ik\",\n",
    "    \"Ca_LVAst\": \"ica\",\n",
    "    \"Ca_HVA2\": \"ica\",\n",
    "    \"NaTg\": \"ina\",\n",
    "    # \"Nap_Et2\": \"ina\",  # mechanism not in soma\n",
    "    \"Ih\": \"ihcn\",\n",
    "    \"pas\": \"i\",\n",
    "}"
   ]
  },
  {
   "cell_type": "markdown",
   "metadata": {},
   "source": [
    "Next we have to add recordings for all of those ion channel currents:"
   ]
  },
  {
   "cell_type": "code",
   "execution_count": 10,
   "metadata": {},
   "outputs": [],
   "source": [
    "current_rec_names = [\n",
    "    f\"self.soma(0.5)._ref_{curr_name}_{ion_channel}\"\n",
    "    for ion_channel, curr_name \n",
    "    in ion_channels.items()\n",
    "]\n",
    "for current_rec in current_rec_names:\n",
    "    cell.add_recording(current_rec)"
   ]
  },
  {
   "cell_type": "markdown",
   "metadata": {},
   "source": [
    "Now, we can inject the stimulus into the cell, and run it. Note that this can take a few seconds to run."
   ]
  },
  {
   "cell_type": "code",
   "execution_count": 11,
   "metadata": {},
   "outputs": [
    {
     "name": "stdout",
     "output_type": "stream",
     "text": [
      "Running the simulation...\n",
      "Done.\n"
     ]
    }
   ],
   "source": [
    "cell.inject_current_waveform(t_content=stim.time, i_content=stim.current)\n",
    "sim = Simulation(cell)\n",
    "print(\"Running the simulation...\")\n",
    "sim.run(stim.stimulus_time, dt=0.1)\n",
    "print(\"Done.\")"
   ]
  },
  {
   "cell_type": "markdown",
   "metadata": {},
   "source": [
    "We can retrieve the time, voltage and the currents from our simulation:"
   ]
  },
  {
   "cell_type": "code",
   "execution_count": 12,
   "metadata": {},
   "outputs": [],
   "source": [
    "currents = []\n",
    "time, voltage = cell.get_time(), cell.get_soma_voltage()\n",
    "for current_rec in current_rec_names:\n",
    "    currents.append(cell.get_recording(current_rec))"
   ]
  },
  {
   "cell_type": "markdown",
   "metadata": {},
   "source": [
    "Now we have make a configuration for currentscape. The most important thing is to give the list of current names that are going to be displayed on the plot legend, in the exact same order as we have in the `currents` recording output.\n",
    "\n",
    "Here we also give a title to the figure, and set it so that the figure will be saved automatically. For a complete list of available configurations, see [this explanation](https://github.com/BlueBrain/Currentscape/blob/main/Tutorial.rst#about-the-config)."
   ]
  },
  {
   "cell_type": "code",
   "execution_count": 13,
   "metadata": {},
   "outputs": [],
   "source": [
    "currentscape_config = {\n",
    "    \"current\": {\"names\": list(ion_channels.keys())},\n",
    "    \"output\": {\n",
    "        \"savefig\": True,\n",
    "        \"dir\": \".\",\n",
    "        \"fname\": f\"currentscape-{emodel_name}-step{threshold_percentage}\",\n",
    "        \"extension\": \"pdf\",\n",
    "        \"transparent\": False\n",
    "    },\n",
    "    \"title\": f\"currentscape {threshold_percentage}% rheobase of {emodel_name}\",\n",
    "    \"titlesize\": 8,\n",
    "}"
   ]
  },
  {
   "cell_type": "markdown",
   "metadata": {},
   "source": [
    "Finally, we can plot our currentscape:"
   ]
  },
  {
   "cell_type": "code",
   "execution_count": 14,
   "metadata": {},
   "outputs": [
    {
     "data": {
      "image/png": "[encoded data removed]",
      "text/plain": [
       "<Figure size 300x400 with 5 Axes>"
      ]
     },
     "metadata": {},
     "output_type": "display_data"
    }
   ],
   "source": [
    "fig = currentscape.plot(\n",
    "    voltage,\n",
    "    currents,\n",
    "    currentscape_config,\n",
    "    ions_data=None,\n",
    "    time=time,\n",
    ")\n",
    "plt.show()"
   ]
  },
  {
   "cell_type": "markdown",
   "metadata": {},
   "source": [
    "Note that if you want to plot several plots, it is recommended to close each figure before plotting the next one:"
   ]
  },
  {
   "cell_type": "code",
   "execution_count": 13,
   "metadata": {},
   "outputs": [],
   "source": [
    "plt.close(fig)"
   ]
  },
  {
   "cell_type": "markdown",
   "metadata": {},
   "source": []
  }
 ],
 "metadata": {
  "kernelspec": {
   "display_name": "venv-py312",
   "language": "python",
   "name": "python3"
  },
  "language_info": {
   "codemirror_mode": {
    "name": "ipython",
    "version": 3
   },
   "file_extension": ".py",
   "mimetype": "text/x-python",
   "name": "python",
   "nbconvert_exporter": "python",
   "pygments_lexer": "ipython3",
   "version": "3.12.8"
  }
 },
 "nbformat": 4,
 "nbformat_minor": 2
}
