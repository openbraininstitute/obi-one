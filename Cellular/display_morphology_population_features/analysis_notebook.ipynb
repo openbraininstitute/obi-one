{
 "cells": [
  {
   "cell_type": "code",
   "execution_count": 1,
   "id": "7c80f923-a55c-42ca-a1cd-5959116429da",
   "metadata": {},
   "outputs": [
    {
     "name": "stdout",
     "output_type": "stream",
     "text": [
      "Trouble with /r160127_0101_04.asc: \n",
      "\u001b[1;31m/tmp/neurom-ebexqp_f228d96dc-1599-40d5-8b1a-e9c96ca25190.asc:432:error\u001b[0m\n",
      "A soma is already defined\n"
     ]
    },
    {
     "data": {
      "text/html": [
       "<div>\n",
       "<style scoped>\n",
       "    .dataframe tbody tr th:only-of-type {\n",
       "        vertical-align: middle;\n",
       "    }\n",
       "\n",
       "    .dataframe tbody tr th {\n",
       "        vertical-align: top;\n",
       "    }\n",
       "\n",
       "    .dataframe thead th {\n",
       "        text-align: right;\n",
       "    }\n",
       "</style>\n",
       "<table border=\"1\" class=\"dataframe\">\n",
       "  <thead>\n",
       "    <tr style=\"text-align: right;\">\n",
       "      <th></th>\n",
       "      <th>name</th>\n",
       "      <th>_filename</th>\n",
       "      <th>m-type</th>\n",
       "      <th>species</th>\n",
       "      <th>_morphology</th>\n",
       "    </tr>\n",
       "  </thead>\n",
       "  <tbody>\n",
       "    <tr>\n",
       "      <th>0</th>\n",
       "      <td>AA0052</td>\n",
       "      <td>/AA0052.asc</td>\n",
       "      <td>SO_OLM</td>\n",
       "      <td>mus musculus</td>\n",
       "      <td>Morphology &lt;soma: SomaSimpleContour(array([[8....</td>\n",
       "    </tr>\n",
       "    <tr>\n",
       "      <th>3</th>\n",
       "      <td>AA0053</td>\n",
       "      <td>/AA0053.asc</td>\n",
       "      <td>SO_OLM</td>\n",
       "      <td>mus musculus</td>\n",
       "      <td>Morphology &lt;soma: SomaSimpleContour(array([[8....</td>\n",
       "    </tr>\n",
       "    <tr>\n",
       "      <th>6</th>\n",
       "      <td>AA0123</td>\n",
       "      <td>/AA0123.asc</td>\n",
       "      <td>SP_PVBC</td>\n",
       "      <td>rattus norvegicus</td>\n",
       "      <td>Morphology &lt;soma: SomaSimpleContour(array([[8....</td>\n",
       "    </tr>\n",
       "    <tr>\n",
       "      <th>9</th>\n",
       "      <td>AA0124</td>\n",
       "      <td>/AA0124.asc</td>\n",
       "      <td>SO_OLM</td>\n",
       "      <td>rattus norvegicus</td>\n",
       "      <td>Morphology &lt;soma: SomaSimpleContour(array([[8....</td>\n",
       "    </tr>\n",
       "    <tr>\n",
       "      <th>12</th>\n",
       "      <td>AA0159</td>\n",
       "      <td>/AA0159.asc</td>\n",
       "      <td>SO_OLM</td>\n",
       "      <td>mus musculus</td>\n",
       "      <td>Morphology &lt;soma: SomaSimpleContour(array([[9....</td>\n",
       "    </tr>\n",
       "  </tbody>\n",
       "</table>\n",
       "</div>"
      ],
      "text/plain": [
       "      name    _filename   m-type            species   \n",
       "0   AA0052  /AA0052.asc   SO_OLM       mus musculus  \\\n",
       "3   AA0053  /AA0053.asc   SO_OLM       mus musculus   \n",
       "6   AA0123  /AA0123.asc  SP_PVBC  rattus norvegicus   \n",
       "9   AA0124  /AA0124.asc   SO_OLM  rattus norvegicus   \n",
       "12  AA0159  /AA0159.asc   SO_OLM       mus musculus   \n",
       "\n",
       "                                          _morphology  \n",
       "0   Morphology <soma: SomaSimpleContour(array([[8....  \n",
       "3   Morphology <soma: SomaSimpleContour(array([[8....  \n",
       "6   Morphology <soma: SomaSimpleContour(array([[8....  \n",
       "9   Morphology <soma: SomaSimpleContour(array([[8....  \n",
       "12  Morphology <soma: SomaSimpleContour(array([[9....  "
      ]
     },
     "execution_count": 1,
     "metadata": {},
     "output_type": "execute_result"
    }
   ],
   "source": [
    "import pandas\n",
    "import zipfile\n",
    "import neurom\n",
    "import numpy\n",
    "import os\n",
    "import requests\n",
    "\n",
    "from ipywidgets import widgets\n",
    "from matplotlib import pyplot as plt\n",
    "from io import BytesIO\n",
    "\n",
    "# Got this to work. But it reads the whole file at once into memory.\n",
    "lnk = \"https://drive.usercontent.google.com/download?id=1U6gTWtHvqOQo17UI00F5yqJQ_bU3mdGO&export=download&authuser=0\"\n",
    "resp = requests.get(lnk)\n",
    "try:\n",
    "    f_zip = zipfile.ZipFile(BytesIO(resp.content))\n",
    "finally:\n",
    "    resp.close()\n",
    "\n",
    "# Or just download the file and place it here.\n",
    "## f_zip = zipfile.ZipFile(\"download.zip\")\n",
    "\n",
    "# The \"metadata\" is for now just dummy data I added.\n",
    "contents = pandas.read_json(f_zip.open(\"metadata.json\"))\n",
    "\n",
    "nbins = widgets.IntSlider(10, 5, 100, 1)\n",
    "        \n",
    "def morphology_from_zip(z_obj, fn):\n",
    "    with z_obj.open(fn, \"r\") as fid:\n",
    "        m_str = fid.read().decode(\"UTF-8\")\n",
    "    try:\n",
    "        m = neurom.load_morphology(m_str, reader=\"asc\")\n",
    "    except Exception as e:\n",
    "        print(\"Trouble with \" + fn + \": \" + str(e))\n",
    "        return None\n",
    "    return m\n",
    "\n",
    "contents = contents[contents[\"_filename\"].apply(lambda _x: os.path.splitext(_x)[1] == \".asc\")]\n",
    "contents[\"_morphology\"] = contents[\"_filename\"].apply(lambda _x: morphology_from_zip(f_zip, _x))\n",
    "contents = contents[contents[\"_morphology\"].apply(lambda _x: _x is not None)]\n",
    "contents.head()"
   ]
  },
  {
   "cell_type": "markdown",
   "id": "39e8ba2d-7202-42dc-ba95-0326a8eae4b0",
   "metadata": {},
   "source": [
    "Helper functions"
   ]
  },
  {
   "cell_type": "code",
   "execution_count": 2,
   "id": "9438de88-a0f9-4061-9b0d-29684cc86f60",
   "metadata": {},
   "outputs": [],
   "source": [
    "def lookup(tp_feature, str_feature):\n",
    "    def inner_func(obj, row, **kwargs):\n",
    "        vals = neurom.features.get(str_feature, obj)\n",
    "        if not hasattr(vals, \"__iter__\"):\n",
    "                vals = [vals]\n",
    "        ret = pandas.DataFrame({\"value\": vals})\n",
    "        for idx in row.index:\n",
    "            if not idx.startswith(\"_\"): ret[idx] = row[idx]\n",
    "        for k, v in kwargs.items(): ret[k] = v\n",
    "        return ret\n",
    "    \n",
    "    def func(row):\n",
    "        m = row[\"_morphology\"]\n",
    "        if tp_feature == 1:\n",
    "            return inner_func(m, row)\n",
    "        out = []\n",
    "        for _nrt in m.neurites:\n",
    "            out.append(inner_func(_nrt, row, neurite_type=str(_nrt.type)))\n",
    "        return pandas.concat(out, axis=0)\n",
    "    return func\n",
    "\n",
    "def histogram_series(data, **kwargs):\n",
    "    vals, bin_c = numpy.histogram(data, **kwargs)\n",
    "    return pandas.Series(vals, index=0.5 * (bin_c[:-1] + bin_c[1:]))"
   ]
  },
  {
   "cell_type": "markdown",
   "id": "6a9a5235-b610-432e-aef8-2aac8d899148",
   "metadata": {},
   "source": [
    "Select the morphology feature to display from the dropdown menu."
   ]
  },
  {
   "cell_type": "code",
   "execution_count": 3,
   "id": "a99d5959-7ff4-4d98-a422-e80d28810ab0",
   "metadata": {},
   "outputs": [
    {
     "data": {
      "application/vnd.jupyter.widget-view+json": {
       "model_id": "e41eff7c5b264ea1846452310d945c07",
       "version_major": 2,
       "version_minor": 0
      },
      "text/plain": [
       "Dropdown(description='Feature', options=(('max_radial_distance', (0, 'max_radial_distance')), ('number_of_segm…"
      ]
     },
     "metadata": {},
     "output_type": "display_data"
    }
   ],
   "source": [
    "function = widgets.Dropdown(\n",
    "    options=\n",
    "    [(k, (0, k)) for k, v in neurom.features._NEURITE_FEATURES.items()] +\n",
    "    [(k, (1, k)) for k, v in neurom.features._MORPHOLOGY_FEATURES.items()], \n",
    "    description='Feature')\n",
    "display(function)"
   ]
  },
  {
   "cell_type": "markdown",
   "id": "74b8d71d-8059-412c-a47c-e5c0d541eb52",
   "metadata": {},
   "source": [
    "Select from the dropdown menus by which parameter to group the data (or \"None\" for no grouping).\n",
    "\n",
    "Select with the slider the number of bins to show."
   ]
  },
  {
   "cell_type": "code",
   "execution_count": 4,
   "id": "a62f2804-06f3-48b1-aebb-8d74db7d7d72",
   "metadata": {},
   "outputs": [
    {
     "data": {
      "application/vnd.jupyter.widget-view+json": {
       "model_id": "98d268fe04e949bebf7839f84499239a",
       "version_major": 2,
       "version_minor": 0
      },
      "text/plain": [
       "Dropdown(description='Grouped by', options=('name', 'm-type', 'species', 'neurite_type', 'None'), value='name'…"
      ]
     },
     "metadata": {},
     "output_type": "display_data"
    },
    {
     "data": {
      "application/vnd.jupyter.widget-view+json": {
       "model_id": "4781d7b1dc174c86b36fc578a0e16b4d",
       "version_major": 2,
       "version_minor": 0
      },
      "text/plain": [
       "IntSlider(value=10, min=5)"
      ]
     },
     "metadata": {},
     "output_type": "display_data"
    }
   ],
   "source": [
    "data_df = pandas.concat(contents.apply(lookup(*function.value), axis=1).values, axis=0)\n",
    "data_df[\"None\"] = \"None\"\n",
    "grouper = widgets.Dropdown(\n",
    "    options=[_col for _col in data_df.columns if _col != \"value\"],\n",
    "    description=\"Grouped by\"\n",
    ")\n",
    "display(grouper)\n",
    "display(nbins)"
   ]
  },
  {
   "cell_type": "code",
   "execution_count": 7,
   "id": "cae52db3-cb14-431f-9ae4-c6d5a63174b4",
   "metadata": {},
   "outputs": [
    {
     "data": {
      "image/png": "[encoded data removed]",
      "text/plain": [
       "<Figure size 600x300 with 1 Axes>"
      ]
     },
     "metadata": {},
     "output_type": "display_data"
    }
   ],
   "source": [
    "span = data_df[\"value\"].max() - data_df[\"value\"].min()\n",
    "bins = numpy.linspace(data_df[\"value\"].min(), data_df[\"value\"].max() + 1E-9 * span, nbins.value + 1)\n",
    "w = numpy.mean(numpy.diff(bins)) * 0.8\n",
    "hist_df = data_df.groupby(grouper.value)[\"value\"].apply(histogram_series, bins=bins).unstack(grouper.value)\n",
    "\n",
    "fig = plt.figure(figsize=(6, 3))\n",
    "ax = fig.gca()\n",
    "ax.set_frame_on(False)\n",
    "\n",
    "bot = numpy.zeros(len(hist_df))\n",
    "for col in hist_df.columns:\n",
    "    ax.bar(hist_df.index, hist_df[col].values, bottom=bot, label=col, width=w)\n",
    "    bot += hist_df[col].values\n",
    "ax.set_xlabel(function.value[1])\n",
    "ax.set_ylabel(\"Count\")\n",
    "if len(hist_df.columns) < 10:\n",
    "    plt.legend()"
   ]
  }
 ],
 "metadata": {
  "kernelspec": {
   "display_name": "Python 3 (ipykernel)",
   "language": "python",
   "name": "python3"
  },
  "language_info": {
   "codemirror_mode": {
    "name": "ipython",
    "version": 3
   },
   "file_extension": ".py",
   "mimetype": "text/x-python",
   "name": "python",
   "nbconvert_exporter": "python",
   "pygments_lexer": "ipython3",
   "version": "3.8.10"
  }
 },
 "nbformat": 4,
 "nbformat_minor": 5
}
