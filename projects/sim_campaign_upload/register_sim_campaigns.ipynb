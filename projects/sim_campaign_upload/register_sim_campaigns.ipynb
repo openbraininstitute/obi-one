{
 "cells": [
  {
   "cell_type": "markdown",
   "id": "cb07ece5-cf0a-43f2-bbbf-88eeedead391",
   "metadata": {},
   "source": [
    "# Check and register existing (BBP) simulation campaigns to entitycore"
   ]
  },
  {
   "cell_type": "code",
   "execution_count": 92,
   "id": "59fe1315-c111-43e0-ae1f-8488642a3366",
   "metadata": {},
   "outputs": [],
   "source": [
    "import h5py\n",
    "import json\n",
    "import numpy as np\n",
    "from bluepysnap import Circuit, Simulation\n",
    "from libsonata import SimulationConfig\n",
    "from pathlib import Path"
   ]
  },
  {
   "cell_type": "code",
   "execution_count": 2,
   "id": "c6412a8d-bd3f-4467-81ab-110a806835c9",
   "metadata": {},
   "outputs": [],
   "source": [
    "SIM_ROOT = Path(\"/Users/pokorny/Data/Simulations/BBP-curated\")\n",
    "CIRCUIT_ROOT = Path(\"/Users/pokorny/Data/Circuits\")\n",
    "\n",
    "SIM_CONFIG_NAME = \"simulation_config.json\"\n",
    "CIRCUIT_CONFIG_NAME = \"circuit_config.json\""
   ]
  },
  {
   "cell_type": "markdown",
   "id": "53349ace-9d02-4625-9360-c34e72ad9bc1",
   "metadata": {},
   "source": [
    "### Campaign specification\n",
    "- Campaign path assumed to be `<SIM_ROOT>/<name>`\n",
    "- Circuit path assumed to be `<CIRCUIT_ROOT>/<circuit>`"
   ]
  },
  {
   "cell_type": "code",
   "execution_count": 4,
   "id": "e7ac21df-15b0-4f0f-8805-4bec83fdec22",
   "metadata": {},
   "outputs": [],
   "source": [
    "sim_campaign = {\n",
    "    \"name\": \"SM-whisker-soma\",\n",
    "    \"gpfs_path\": \"/gpfs/bbp.cscs.ch/project/proj83/home/isbister/simulations/elife_sscx_physiology_2024/9-SchneiderMizell/2_whisker_deflections_soma/2_whisker_deflections_soma_0__19_11_24\",\n",
    "    # \"circuit\": \"nbS1-O1-SM\"  # FIXME\n",
    "    \"circuit\": \"nbS1-O1\"\n",
    "}\n",
    "\n",
    "# sim_campaign = {\n",
    "#     \"name\": \"beta-spont\",\n",
    "#     \"gpfs_path\": \"/gpfs/bbp.cscs.ch/project/proj83/home/pokorny/SimplifiedConnectomeModels/simulations_v2/SSCx-HexO1-Release-TC__Spont\",\n",
    "#     \"circuit\": \"nbS1-O1-beta\"\n",
    "# }\n",
    "\n",
    "# sim_campaign = {\n",
    "#     \"name\": \"beta-evoked\",\n",
    "#     \"gpfs_path\": \"/gpfs/bbp.cscs.ch/project/proj83/home/pokorny/SimplifiedConnectomeModels/simulations_v2/SSCx-HexO1-Release-TC__Evoked\",\n",
    "#     \"circuit\": \"nbS1-O1-beta\"\n",
    "# }"
   ]
  },
  {
   "cell_type": "markdown",
   "id": "db6601ca-f8af-49fe-86c9-d733160874c0",
   "metadata": {},
   "source": [
    "---\n",
    "### 1. Check input paths\n",
    "- Assuming individual simulation subfolders `/0`, `/1`, ... (= index)\n",
    "- Assuming `\"simulation_config.json\"` within each subfolder"
   ]
  },
  {
   "cell_type": "code",
   "execution_count": 5,
   "id": "81feb1a5-7ccb-4a92-810b-2375c74b63e7",
   "metadata": {},
   "outputs": [],
   "source": [
    "# Check folders\n",
    "campaign_path = SIM_ROOT / sim_campaign[\"name\"]\n",
    "circuit_path = CIRCUIT_ROOT / sim_campaign[\"circuit\"]\n",
    "\n",
    "assert campaign_path.is_dir(), \"ERROR: Simulation path not found!\"\n",
    "assert circuit_path.is_dir(), \"ERROR: Circuit path not found!\""
   ]
  },
  {
   "cell_type": "code",
   "execution_count": 6,
   "id": "9164689c-d203-4317-b660-40409d3384a2",
   "metadata": {},
   "outputs": [
    {
     "name": "stdout",
     "output_type": "stream",
     "text": [
      "Found 1 simulation(s) in campaign 'SM-whisker-soma'\n"
     ]
    }
   ],
   "source": [
    "# Check sub-folders\n",
    "sim_folders = list(campaign_path.glob(\"*[0-9]\"))\n",
    "sim_folder_names = [f.name for f in sim_folders]\n",
    "num_sims = len(sim_folders)\n",
    "print(f\"Found {num_sims} simulation(s) in campaign '{sim_campaign['name']}'\")\n",
    "assert all(str(idx) in sim_folder_names for idx in range(num_sims)), \"ERROR: Subfolder names do not match simulation indices!\""
   ]
  },
  {
   "cell_type": "code",
   "execution_count": 7,
   "id": "c61908c3-3220-41ac-be3d-c78bd6b1110e",
   "metadata": {},
   "outputs": [],
   "source": [
    "# Check simulation configs\n",
    "sim_configs = [_dir / SIM_CONFIG_NAME for _dir in sim_folders]\n",
    "orig_circuit = None\n",
    "for cfg in sim_configs:\n",
    "    assert cfg.is_file(), f\"ERROR: Simulation config '{sim_config}' not found!\"\n",
    "    with open(cfg, \"r\") as f:\n",
    "        cfg_dict = json.load(f)\n",
    "    if orig_circuit is None:\n",
    "        orig_circuit = cfg_dict[\"network\"]\n",
    "    else:\n",
    "        assert cfg_dict[\"network\"] == orig_circuit, \"ERROR: Circuit mismatch!\""
   ]
  },
  {
   "cell_type": "code",
   "execution_count": 8,
   "id": "b5443068-798d-42b2-97ea-b16137e52a18",
   "metadata": {},
   "outputs": [
    {
     "name": "stdout",
     "output_type": "stream",
     "text": [
      "Original circuit:     '/gpfs/bbp.cscs.ch/project/proj83/home/pokorny/InterneuronRewiringO1/circuits/SSCx-HexO1-Release__O1_Schneider_Mizell_v2/circuit_config_reparam_tc.json'\n",
      "New campaign circuit: '/Users/pokorny/Data/Circuits/nbS1-O1/circuit_config.json'\n"
     ]
    }
   ],
   "source": [
    "# Check circuit config\n",
    "circuit_config = circuit_path / CIRCUIT_CONFIG_NAME\n",
    "assert circuit_config.is_file(), f\"ERROR: Circuit config '{circuit_config}' not found!\"\n",
    "print(f\"Original circuit:     '{orig_circuit}'\")\n",
    "print(f\"New campaign circuit: '{circuit_config}'\")"
   ]
  },
  {
   "cell_type": "markdown",
   "id": "42e9accd-1cb4-4c66-9e98-df5212ab39b8",
   "metadata": {},
   "source": [
    "### 2. Check simulation contents"
   ]
  },
  {
   "cell_type": "code",
   "execution_count": 64,
   "id": "3c80a447-24dd-4ca7-a9ab-da98bec38da2",
   "metadata": {},
   "outputs": [],
   "source": [
    "def read_spikes(h5_file, population_name):\n",
    "    with h5py.File(h5_file, \"r\") as h5:\n",
    "        nids = h5[f\"spikes/{population_name}\"][\"node_ids\"][:]\n",
    "        ts = h5[f\"spikes/{population_name}\"][\"timestamps\"][:]\n",
    "    return nids, ts, np.unique(nids)"
   ]
  },
  {
   "cell_type": "code",
   "execution_count": 112,
   "id": "2889b0f8-9024-4538-aeca-278f991be305",
   "metadata": {},
   "outputs": [
    {
     "name": "stdout",
     "output_type": "stream",
     "text": [
      "SIMULATION 0\n",
      "  Simulation length: 0-12000.0ms\n",
      "  Population name: 'S1nonbarrel_neurons'\n",
      "  Node set: hex_O1 (211712 neurons)\n",
      "  Node IDs: 11-211711 (58922 spiking neurons)\n",
      "  Time stamps 44.0-12000.0ms\n",
      "  #Spikes: 514379\n",
      "  Report 'soma':\n",
      "    Node set: hex0 (30190 neurons)\n",
      "    Node IDs: 7-211708 (30190 recorded neurons)\n",
      "    Length: 1400.0-12000.0ms\n",
      "  Spike input 'Stimulus spikeReplay':\n",
      "    Source population: 'VPM'\n",
      "    Target node set: 'hex_O1'\n",
      "    Node IDs: 2609-12416 (59 spiking neurons)\n",
      "    Time stamps 1503.3-11509.4ms\n",
      "    #Spikes: 1974\n",
      "\n"
     ]
    }
   ],
   "source": [
    "c = Circuit(circuit_config)\n",
    "for idx, cfg in enumerate(sim_configs):\n",
    "    sim = Simulation(cfg)\n",
    "    output_dir = Path(sim.config[\"output\"][\"output_dir\"])\n",
    "    node_set = sim.config[\"node_set\"]\n",
    "    print(f\"SIMULATION {idx}\")\n",
    "    print(f\"  Simulation length: {sim.time_start}-{sim.time_stop}ms\")\n",
    "\n",
    "    # Check populations\n",
    "    npop = sim.spikes.population_names\n",
    "    assert len(npop) == 1, \"ERROR: Only one node population expected!\"\n",
    "    npop = npop[0]\n",
    "    assert npop in c.nodes.population_names, f\"ERROR: Node population '{npop}' not found in circuit!\"\n",
    "    print(f\"  Population name: '{npop}'\")\n",
    "    \n",
    "    # Check output spikes\n",
    "    spike_file = Path(sim.spikes.config.output_dir) / sim.spikes.config.spikes_file\n",
    "    nids, ts, unique_nids = read_spikes(spike_file, npop)\n",
    "    assert np.all(np.isin(unique_nids, c.nodes[npop].ids(node_set))), f\"ERROR: Node ID mismatch in '{spike_file}'!\"\n",
    "    print(f\"  Node set: {node_set} ({len(c.nodes[npop].ids(node_set))} neurons)\")\n",
    "    print(f\"  Node IDs: {min(nids)}-{max(nids)} ({len(unique_nids)} spiking neurons)\")\n",
    "    print(f\"  Time stamps {min(ts):.1f}-{max(ts):.1f}ms\")\n",
    "    print(f\"  #Spikes: {len(nids)}\")\n",
    "\n",
    "    # Check voltage reports (if any)\n",
    "    for report in sim.reports.values():\n",
    "        report_file = output_dir / (report.name + \".h5\")\n",
    "        report_node_set = report.node_set\n",
    "        with h5py.File(report_file, \"r\") as h5:\n",
    "            nids = h5[f\"report/{npop}/mapping\"][\"node_ids\"][:]\n",
    "        assert np.all(np.isin(nids, c.nodes[npop].ids(report_node_set))), f\"ERROR: Node ID mismatch in '{report_file}'!\"\n",
    "        print(f\"  Report '{report.name}':\")\n",
    "        print(f\"    Node set: {report_node_set} ({len(c.nodes[npop].ids(report_node_set))} neurons)\")\n",
    "        print(f\"    Node IDs: {min(nids)}-{max(nids)} ({len(np.unique(nids))} recorded neurons)\")\n",
    "        print(f\"    Length: {report.time_start}-{report.time_stop}ms\")\n",
    "\n",
    "    # Check input spikes (if any)\n",
    "    for inp_name, inp in sim.inputs.items():\n",
    "        if not inp.input_type == SimulationConfig.InputBase.InputType.spikes:\n",
    "            continue\n",
    "        inp_spike_file = inp.spike_file\n",
    "        print(f\"  Spike input '{inp_name}':\")\n",
    "        inp_pop = inp.reader.get_population_names()\n",
    "        assert len(inp_pop) == 1, \"ERROR: Only one input node population expected!\"\n",
    "        inp_pop = inp_pop[0]\n",
    "        inp_node_set = inp.node_set\n",
    "        assert inp_pop in c.nodes.population_names, f\"ERROR: Input node population '{inp_pop}' not found in circuit!\"\n",
    "        print(f\"    Source population: '{inp_pop}'\")\n",
    "        assert inp_node_set in c.node_sets.content, f\"ERROR: Input node set '{inp_node_set}' not found in circuit!\"\n",
    "        print(f\"    Target node set: '{inp_node_set}'\")\n",
    "        inp_nids, inp_ts, unique_inp_nids = read_spikes(inp_spike_file, inp_pop)\n",
    "        assert np.all(np.isin(unique_inp_nids, c.nodes[inp_pop].ids())), f\"ERROR: Input node ID mismatch in '{inp_spike_file}'!\"\n",
    "        print(f\"    Node IDs: {min(inp_nids)}-{max(inp_nids)} ({len(unique_inp_nids)} spiking neurons)\")\n",
    "        print(f\"    Time stamps {min(inp_ts):.1f}-{max(inp_ts):.1f}ms\")\n",
    "        print(f\"    #Spikes: {len(inp_nids)}\")\n",
    "\n",
    "    print()\n"
   ]
  },
  {
   "cell_type": "markdown",
   "id": "e6a01450-ce5e-4496-b2c0-90f5758ef86e",
   "metadata": {},
   "source": [
    "### 3. Create and register `Simulation`, `SimulationCampaign`, and `SimulationResult` entities"
   ]
  },
  {
   "cell_type": "code",
   "execution_count": null,
   "id": "9c880e8c-2c96-446e-82f3-6456be739cf4",
   "metadata": {},
   "outputs": [],
   "source": []
  }
 ],
 "metadata": {
  "kernelspec": {
   "display_name": "obi-one",
   "language": "python",
   "name": "obi-one"
  },
  "language_info": {
   "codemirror_mode": {
    "name": "ipython",
    "version": 3
   },
   "file_extension": ".py",
   "mimetype": "text/x-python",
   "name": "python",
   "nbconvert_exporter": "python",
   "pygments_lexer": "ipython3",
   "version": "3.12.9"
  }
 },
 "nbformat": 4,
 "nbformat_minor": 5
}
