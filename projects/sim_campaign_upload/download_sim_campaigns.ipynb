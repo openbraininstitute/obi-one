{
 "cells": [
  {
   "cell_type": "markdown",
   "id": "cb07ece5-cf0a-43f2-bbbf-88eeedead391",
   "metadata": {},
   "source": [
    "# Download existing BBP simulation campaigns from AWS to local file system"
   ]
  },
  {
   "cell_type": "code",
   "execution_count": 2,
   "id": "59fe1315-c111-43e0-ae1f-8488642a3366",
   "metadata": {},
   "outputs": [],
   "source": [
    "import json\n",
    "import subprocess\n",
    "import os"
   ]
  },
  {
   "cell_type": "code",
   "execution_count": 5,
   "id": "e7ac21df-15b0-4f0f-8805-4bec83fdec22",
   "metadata": {},
   "outputs": [],
   "source": [
    "# AWS paths\n",
    "aws_s3 = \"s3://openbluebrain\"\n",
    "aws_root_staging = os.path.join(aws_s3, \"staging/Simulation_data/Simulation_Campaigns/Rat/SSCx\")\n",
    "aws_root = os.path.join(aws_s3, \"Simulation_data/Simulation_Campaigns/Rat/SSCx\")\n",
    "\n",
    "# Download path\n",
    "output_root = \"/Users/pokorny/Data/Simulations/BBP-raw\"\n",
    "\n",
    "if not os.path.exists(output_root):\n",
    "    os.makedirs(output_root)"
   ]
  },
  {
   "cell_type": "code",
   "execution_count": 19,
   "id": "58e962db-0e0a-4023-952d-56303ad3b70d",
   "metadata": {},
   "outputs": [],
   "source": [
    "# Campaign to download\n",
    "# sim_campaign = {\"name\": \"assemblies\", \"gpfs_path\": \"/gpfs/bbp.cscs.ch/project/proj96/home/ecker/simulations/d21efd45-7740-4268-b06f-e1de35f2b6cf\", \"aws_hash\": \"0fab8d2c2d\", \"aws_staging\": True, \"circuit\": \"nbS1-O1\"}\n",
    "sim_campaign = {\"name\": \"SM-recalib\", \"gpfs_path\": \"/gpfs/bbp.cscs.ch/project/proj83/home/isbister/simulations/elife_sscx_physiology_2024/9-SchneiderMizell/0_recalibration/0_0_recalibration_6thIter_20_3_24\", \"aws_hash\": \"09151af2d2\", \"aws_staging\": False, \"circuit\": \"nbS1-O1-SM\"}\n",
    "# sim_campaign = {\"name\": \"SM-whisker-scan\", \"gpfs_path\": \"/gpfs/bbp.cscs.ch/project/proj83/home/isbister/simulations/elife_sscx_physiology_2024/9-SchneiderMizell/1_whisker_deflections/1_3_whisker_deflections_scan_16_4_24\", \"aws_hash\": \"3f6517825f\", \"aws_staging\": True, \"circuit\": \"nbS1-O1-SM\"}\n",
    "# sim_campaign = {\"name\": \"SM-whisker-soma\", \"gpfs_path\": \"/gpfs/bbp.cscs.ch/project/proj83/home/isbister/simulations/elife_sscx_physiology_2024/9-SchneiderMizell/2_whisker_deflections_soma/2_whisker_deflections_soma_0__19_11_24\", \"aws_hash\": \"f132b97aa0\", \"aws_staging\": False, \"circuit\": \"nbS1-O1-SM\"}\n",
    "# sim_campaign = {\"name\": \"spikesorting\", \"gpfs_path\": \"/gpfs/bbp.cscs.ch/project/proj83/home/isbister/simulations/spike_sorting/8_spikesorting_stimulus_test_neuropixels_13-4-24/8_spikesorting_stimulus_test_neuropixels_13-4-24__8slc_100f_72r_250t_200ms_0\", \"aws_hash\": \"359d0ebe7d\", \"aws_staging\": True, \"circuit\": \"nbS1-O1\"}\n",
    "# sim_campaign = {\"name\": \"beta-spont\", \"gpfs_path\": \"/gpfs/bbp.cscs.ch/project/proj83/home/pokorny/SimplifiedConnectomeModels/simulations_v2/SSCx-HexO1-Release-TC__Spont\", \"aws_hash\": \"eb7f4d64c3\", \"circuit\": \"nbS1-O1-beta\"}\n",
    "# sim_campaign = {\"name\": \"beta-evoked\", \"gpfs_path\": \"/gpfs/bbp.cscs.ch/project/proj83/home/pokorny/SimplifiedConnectomeModels/simulations_v2/SSCx-HexO1-Release-TC__Evoked\", \"aws_hash\": \"35a7da37a3\", \"circuit\": \"nbS1-O1-beta\"}\n"
   ]
  },
  {
   "cell_type": "code",
   "execution_count": 20,
   "id": "81feb1a5-7ccb-4a92-810b-2375c74b63e7",
   "metadata": {},
   "outputs": [
    {
     "name": "stdout",
     "output_type": "stream",
     "text": [
      "DOWNLOADING 'SM-recalib':\n",
      "aws s3 cp s3://openbluebrain/Simulation_data/Simulation_Campaigns/Rat/SSCx/09151af2d2 /Users/pokorny/Data/Simulations/BBP/SM-recalib --no-sign-request --recursive\n"
     ]
    }
   ],
   "source": [
    "print(f\"DOWNLOADING '{sim_campaign['name']}':\")\n",
    "if sim_campaign.get(\"aws_staging\"):\n",
    "    aws_path = os.path.join(aws_root_staging, sim_campaign['aws_hash'])\n",
    "else:\n",
    "    aws_path = os.path.join(aws_root, sim_campaign['aws_hash'])\n",
    "output_path = os.path.join(output_root, sim_campaign[\"name\"])\n",
    "cmd = f\"aws s3 cp {aws_path} {output_path} --no-sign-request --recursive\"\n",
    "print(cmd)\n",
    "# --> BETTER RUN IN TERMINAL TO SEE PROGRESS\n",
    "\n",
    "# output = subprocess.check_output(cmd, shell=True, text=True)\n",
    "# print(output)\n"
   ]
  },
  {
   "cell_type": "code",
   "execution_count": null,
   "id": "c61908c3-3220-41ac-be3d-c78bd6b1110e",
   "metadata": {},
   "outputs": [],
   "source": []
  }
 ],
 "metadata": {
  "kernelspec": {
   "display_name": "obi-one",
   "language": "python",
   "name": "obi-one"
  },
  "language_info": {
   "codemirror_mode": {
    "name": "ipython",
    "version": 3
   },
   "file_extension": ".py",
   "mimetype": "text/x-python",
   "name": "python",
   "nbconvert_exporter": "python",
   "pygments_lexer": "ipython3",
   "version": "3.12.9"
  }
 },
 "nbformat": 4,
 "nbformat_minor": 5
}
