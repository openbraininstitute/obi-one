{
 "cells": [
  {
   "cell_type": "code",
   "execution_count": 1,
   "metadata": {},
   "outputs": [],
   "source": [
    "import json\n",
    "import numpy as np\n",
    "import obi_one as obi\n",
    "import os\n",
    "import pandas as pd\n",
    "from conntility.connectivity import ConnectivityMatrix"
   ]
  },
  {
   "cell_type": "code",
   "execution_count": 2,
   "metadata": {},
   "outputs": [],
   "source": [
    "input_root = \"/Users/pokorny/Data/Circuits\"\n",
    "cmat_root = \"/Users/pokorny/Data/ConnectivityMatrices\"\n",
    "output_root = \"../../../obi-output/extracted_small_microcircuits_simplex\""
   ]
  },
  {
   "cell_type": "code",
   "execution_count": 3,
   "metadata": {},
   "outputs": [
    {
     "data": {
      "text/plain": [
       "<COOrdinate sparse matrix of dtype 'int64'\n",
       "\twith 87457567 stored elements and shape (211712, 211712)>"
      ]
     },
     "metadata": {},
     "output_type": "display_data"
    }
   ],
   "source": [
    "# Load nbS1-O1 circuit with connectivity matrix\n",
    "circuit = obi.Circuit(name=\"nbS1-O1\",\n",
    "                      path=os.path.join(input_root, \"nbS1-O1\", \"circuit_config_postfix2.json\"),\n",
    "                      matrix_path=os.path.join(cmat_root, \"nbS1-O1\", \"connectivity_matrix.h5\"))\n",
    "display(circuit.connectivity_matrix.matrix)"
   ]
  },
  {
   "cell_type": "code",
   "execution_count": 4,
   "metadata": {},
   "outputs": [
    {
     "data": {
      "text/html": [
       "<div>\n",
       "<style scoped>\n",
       "    .dataframe tbody tr th:only-of-type {\n",
       "        vertical-align: middle;\n",
       "    }\n",
       "\n",
       "    .dataframe tbody tr th {\n",
       "        vertical-align: top;\n",
       "    }\n",
       "\n",
       "    .dataframe thead th {\n",
       "        text-align: right;\n",
       "    }\n",
       "</style>\n",
       "<table border=\"1\" class=\"dataframe\">\n",
       "  <thead>\n",
       "    <tr style=\"text-align: right;\">\n",
       "      <th></th>\n",
       "      <th>node_ids</th>\n",
       "      <th>etype</th>\n",
       "      <th>layer</th>\n",
       "      <th>mtype</th>\n",
       "      <th>synapse_class</th>\n",
       "      <th>x</th>\n",
       "      <th>y</th>\n",
       "      <th>z</th>\n",
       "    </tr>\n",
       "  </thead>\n",
       "  <tbody>\n",
       "    <tr>\n",
       "      <th>426</th>\n",
       "      <td>426</td>\n",
       "      <td>bNAC</td>\n",
       "      <td>1</td>\n",
       "      <td>L1_DAC</td>\n",
       "      <td>INH</td>\n",
       "      <td>4471.583630</td>\n",
       "      <td>-1465.951445</td>\n",
       "      <td>-1787.636653</td>\n",
       "    </tr>\n",
       "    <tr>\n",
       "      <th>151361</th>\n",
       "      <td>151361</td>\n",
       "      <td>cNAC</td>\n",
       "      <td>2</td>\n",
       "      <td>L23_CHC</td>\n",
       "      <td>INH</td>\n",
       "      <td>4417.154568</td>\n",
       "      <td>-1455.019186</td>\n",
       "      <td>-1899.847804</td>\n",
       "    </tr>\n",
       "    <tr>\n",
       "      <th>25652</th>\n",
       "      <td>25652</td>\n",
       "      <td>cACint</td>\n",
       "      <td>3</td>\n",
       "      <td>L23_CHC</td>\n",
       "      <td>INH</td>\n",
       "      <td>4426.676668</td>\n",
       "      <td>-1365.720303</td>\n",
       "      <td>-1999.555547</td>\n",
       "    </tr>\n",
       "    <tr>\n",
       "      <th>128851</th>\n",
       "      <td>128851</td>\n",
       "      <td>cADpyr</td>\n",
       "      <td>4</td>\n",
       "      <td>L4_TPC</td>\n",
       "      <td>EXC</td>\n",
       "      <td>4190.372099</td>\n",
       "      <td>-1349.730546</td>\n",
       "      <td>-2291.566707</td>\n",
       "    </tr>\n",
       "    <tr>\n",
       "      <th>191094</th>\n",
       "      <td>191094</td>\n",
       "      <td>cADpyr</td>\n",
       "      <td>5</td>\n",
       "      <td>L5_TPC:B</td>\n",
       "      <td>EXC</td>\n",
       "      <td>3838.789927</td>\n",
       "      <td>-1299.677721</td>\n",
       "      <td>-2664.707385</td>\n",
       "    </tr>\n",
       "    <tr>\n",
       "      <th>79088</th>\n",
       "      <td>79088</td>\n",
       "      <td>cADpyr</td>\n",
       "      <td>6</td>\n",
       "      <td>L6_IPC</td>\n",
       "      <td>EXC</td>\n",
       "      <td>3592.676277</td>\n",
       "      <td>-1025.078101</td>\n",
       "      <td>-2898.148159</td>\n",
       "    </tr>\n",
       "  </tbody>\n",
       "</table>\n",
       "</div>"
      ],
      "text/plain": [
       "        node_ids   etype layer     mtype synapse_class            x  \\\n",
       "426          426    bNAC     1    L1_DAC           INH  4471.583630   \n",
       "151361    151361    cNAC     2   L23_CHC           INH  4417.154568   \n",
       "25652      25652  cACint     3   L23_CHC           INH  4426.676668   \n",
       "128851    128851  cADpyr     4    L4_TPC           EXC  4190.372099   \n",
       "191094    191094  cADpyr     5  L5_TPC:B           EXC  3838.789927   \n",
       "79088      79088  cADpyr     6    L6_IPC           EXC  3592.676277   \n",
       "\n",
       "                  y            z  \n",
       "426    -1465.951445 -1787.636653  \n",
       "151361 -1455.019186 -1899.847804  \n",
       "25652  -1365.720303 -1999.555547  \n",
       "128851 -1349.730546 -2291.566707  \n",
       "191094 -1299.677721 -2664.707385  \n",
       "79088  -1025.078101 -2898.148159  "
      ]
     },
     "metadata": {},
     "output_type": "display_data"
    }
   ],
   "source": [
    "# nbS1-O1 - Central neurons in connectivity\n",
    "df_sel = pd.read_pickle(\"Top10CentralNeurons_Layer_Hex.pkl\")  # (Contains neuron IDs relative to nbS1-HEXn)\n",
    "# df_opt = pd.read_pickle(\"Top10CentralNeurons_Layer_Hex_OptIDX.pkl\")  # Don't used here\n",
    "\n",
    "# Load HEXi connectivity matrix\n",
    "base_name = \"nbS1\"\n",
    "hex_sel = \"hex0\"\n",
    "layers = range(1, 7)\n",
    "cmat = ConnectivityMatrix.from_h5(os.path.join(cmat_root, f\"{base_name}-{hex_sel.upper()}\", \"connectivity_matrix.h5\"))\n",
    "ntab = cmat.vertices.set_index(\"node_ids\")\n",
    "\n",
    "# Load ID mapping w.r.t. parent circuit nbS1-O1\n",
    "id_map_file = os.path.join(input_root, f\"{base_name}-{hex_sel.upper()}\", \"id_mapping.json\")\n",
    "with open(id_map_file, \"r\") as f:\n",
    "    id_map = json.load(f)\n",
    "assert np.array_equal(id_map[\"S1nonbarrel_neurons\"][\"new_id\"], ntab.index.values)\n",
    "\n",
    "nid_selection = []  # Selected neuron IDs for nbS1-O1 circuit\n",
    "for _lay in layers:\n",
    "    # opt_idx = df_opt.loc[(hex_sel, _lay)][\"pos\"]\n",
    "    opt_idx = 0  # Always take first one from list, which is the most central neuron\n",
    "    node_id = df_sel[(\"hex0\", _lay)].iloc[opt_idx].tolist()\n",
    "    nid_selection.append(id_map[\"S1nonbarrel_neurons\"][\"old_id\"][node_id])\n",
    "\n",
    "# Check selection\n",
    "cmat = circuit.connectivity_matrix\n",
    "sel_tab = cmat.vertices.loc[nid_selection]\n",
    "assert np.array_equal(sel_tab[\"layer\"].astype(int), layers)\n",
    "display(sel_tab)"
   ]
  },
  {
   "cell_type": "code",
   "execution_count": 5,
   "metadata": {},
   "outputs": [],
   "source": [
    "# Set up simplex neuron sets\n",
    "N = 10  # Max. number of neurons\n",
    "dim = 10  # Top dim (may be actually 5 or 6)\n",
    "# dim = 2  # Triplets\n",
    "simplex_pos = \"source\"\n",
    "# simplex_pos = \"target\"\n",
    "simplex_neuron_sets = obi.SimplexNeuronSet(\n",
    "    central_neuron_id=nid_selection,\n",
    "    dim=dim,\n",
    "    central_neuron_simplex_position=simplex_pos,\n",
    "    subsample=True,\n",
    "    seed=0,\n",
    "    n_count_max=N,\n",
    "    simplex_type=\"directed\",\n",
    "    property_filter=obi.scientific.circuit.neuron_sets.NeuronPropertyFilter(),\n",
    ")\n",
    "\n",
    "virtual_sources_to_ignore = (\"external_S1nonbarrel_neurons__S1nonbarrel_neurons__chemical\", )\n",
    "output_path = os.path.join(output_root, f\"dim{dim}-{simplex_pos}\")"
   ]
  },
  {
   "cell_type": "code",
   "execution_count": 6,
   "metadata": {},
   "outputs": [],
   "source": [
    "circuit_extractions_form = obi.CircuitExtractions(\n",
    "                    initialize=obi.CircuitExtractions.Initialize(\n",
    "                        circuit=circuit,\n",
    "                        run_validation=False,\n",
    "                        do_virtual=True,\n",
    "                        create_external=True,\n",
    "                        virtual_sources_to_ignore=virtual_sources_to_ignore,\n",
    "                    ),\n",
    "                    neuron_set=simplex_neuron_sets,\n",
    ")\n",
    "\n",
    "coupled_scan = obi.CoupledScan(form=circuit_extractions_form, output_root=output_path, coordinate_directory_option=\"ZERO_INDEX\")"
   ]
  },
  {
   "cell_type": "code",
   "execution_count": 7,
   "metadata": {},
   "outputs": [
    {
     "name": "stdout",
     "output_type": "stream",
     "text": [
      "[2025-06-19 14:39:22,961] INFO: \n",
      "MULTIPLE VALUE PARAMETERS\n",
      "[2025-06-19 14:39:22,963] INFO: neuron_set.central_neuron_id: [426, 151361, 25652, 128851, 191094, 79088]\n",
      "[2025-06-19 14:39:22,964] INFO: \n",
      "COORDINATE PARAMETERS\n",
      "[2025-06-19 14:39:22,965] INFO: neuron_set.central_neuron_id: 426\n",
      "[2025-06-19 14:39:22,966] INFO: neuron_set.central_neuron_id: 151361\n",
      "[2025-06-19 14:39:22,966] INFO: neuron_set.central_neuron_id: 25652\n",
      "[2025-06-19 14:39:22,967] INFO: neuron_set.central_neuron_id: 128851\n",
      "[2025-06-19 14:39:22,967] INFO: neuron_set.central_neuron_id: 191094\n",
      "[2025-06-19 14:39:22,968] INFO: neuron_set.central_neuron_id: 79088\n",
      "[2025-06-19 14:39:22,969] INFO: \n",
      "COORDINATE INSTANCES\n",
      "[2025-06-19 14:39:22,970] INFO: CircuitExtraction(idx=0, scan_output_root=PosixPath('.'), coordinate_output_root=PosixPath('.'), single_coordinate_scan_params=SingleCoordinateScanParams(type='SingleCoordinateScanParams', scan_params=[SingleValueScanParam(type='SingleValueScanParam', location_list=['neuron_set', 'central_neuron_id'], value=426)], nested_coordinate_subpath_str=PosixPath('.')), type='CircuitExtraction', initialize=Initialize(type='CircuitExtractions.Initialize', circuit=Circuit(type='Circuit', name='nbS1-O1', path='/Users/pokorny/Data/Circuits/nbS1-O1/circuit_config_postfix2.json', matrix_path='/Users/pokorny/Data/ConnectivityMatrices/nbS1-O1/connectivity_matrix.h5'), run_validation=False, do_virtual=True, create_external=True, virtual_sources_to_ignore=('external_S1nonbarrel_neurons__S1nonbarrel_neurons__chemical',)), neuron_set=SimplexNeuronSet(type='SimplexNeuronSet', random_sample=None, random_seed=0, node_population=None, property_filter=NoFilter, node_sets=(), central_neuron_id=426, dim=10, central_neuron_simplex_position='source', subsample=True, n_count_max=10, simplex_type='directed', seed=0))\n",
      "[2025-06-19 14:39:22,970] INFO: CircuitExtraction(idx=1, scan_output_root=PosixPath('.'), coordinate_output_root=PosixPath('.'), single_coordinate_scan_params=SingleCoordinateScanParams(type='SingleCoordinateScanParams', scan_params=[SingleValueScanParam(type='SingleValueScanParam', location_list=['neuron_set', 'central_neuron_id'], value=151361)], nested_coordinate_subpath_str=PosixPath('.')), type='CircuitExtraction', initialize=Initialize(type='CircuitExtractions.Initialize', circuit=Circuit(type='Circuit', name='nbS1-O1', path='/Users/pokorny/Data/Circuits/nbS1-O1/circuit_config_postfix2.json', matrix_path='/Users/pokorny/Data/ConnectivityMatrices/nbS1-O1/connectivity_matrix.h5'), run_validation=False, do_virtual=True, create_external=True, virtual_sources_to_ignore=('external_S1nonbarrel_neurons__S1nonbarrel_neurons__chemical',)), neuron_set=SimplexNeuronSet(type='SimplexNeuronSet', random_sample=None, random_seed=0, node_population=None, property_filter=NoFilter, node_sets=(), central_neuron_id=151361, dim=10, central_neuron_simplex_position='source', subsample=True, n_count_max=10, simplex_type='directed', seed=0))\n",
      "[2025-06-19 14:39:22,971] INFO: CircuitExtraction(idx=2, scan_output_root=PosixPath('.'), coordinate_output_root=PosixPath('.'), single_coordinate_scan_params=SingleCoordinateScanParams(type='SingleCoordinateScanParams', scan_params=[SingleValueScanParam(type='SingleValueScanParam', location_list=['neuron_set', 'central_neuron_id'], value=25652)], nested_coordinate_subpath_str=PosixPath('.')), type='CircuitExtraction', initialize=Initialize(type='CircuitExtractions.Initialize', circuit=Circuit(type='Circuit', name='nbS1-O1', path='/Users/pokorny/Data/Circuits/nbS1-O1/circuit_config_postfix2.json', matrix_path='/Users/pokorny/Data/ConnectivityMatrices/nbS1-O1/connectivity_matrix.h5'), run_validation=False, do_virtual=True, create_external=True, virtual_sources_to_ignore=('external_S1nonbarrel_neurons__S1nonbarrel_neurons__chemical',)), neuron_set=SimplexNeuronSet(type='SimplexNeuronSet', random_sample=None, random_seed=0, node_population=None, property_filter=NoFilter, node_sets=(), central_neuron_id=25652, dim=10, central_neuron_simplex_position='source', subsample=True, n_count_max=10, simplex_type='directed', seed=0))\n",
      "[2025-06-19 14:39:22,971] INFO: CircuitExtraction(idx=3, scan_output_root=PosixPath('.'), coordinate_output_root=PosixPath('.'), single_coordinate_scan_params=SingleCoordinateScanParams(type='SingleCoordinateScanParams', scan_params=[SingleValueScanParam(type='SingleValueScanParam', location_list=['neuron_set', 'central_neuron_id'], value=128851)], nested_coordinate_subpath_str=PosixPath('.')), type='CircuitExtraction', initialize=Initialize(type='CircuitExtractions.Initialize', circuit=Circuit(type='Circuit', name='nbS1-O1', path='/Users/pokorny/Data/Circuits/nbS1-O1/circuit_config_postfix2.json', matrix_path='/Users/pokorny/Data/ConnectivityMatrices/nbS1-O1/connectivity_matrix.h5'), run_validation=False, do_virtual=True, create_external=True, virtual_sources_to_ignore=('external_S1nonbarrel_neurons__S1nonbarrel_neurons__chemical',)), neuron_set=SimplexNeuronSet(type='SimplexNeuronSet', random_sample=None, random_seed=0, node_population=None, property_filter=NoFilter, node_sets=(), central_neuron_id=128851, dim=10, central_neuron_simplex_position='source', subsample=True, n_count_max=10, simplex_type='directed', seed=0))\n",
      "[2025-06-19 14:39:22,972] INFO: CircuitExtraction(idx=4, scan_output_root=PosixPath('.'), coordinate_output_root=PosixPath('.'), single_coordinate_scan_params=SingleCoordinateScanParams(type='SingleCoordinateScanParams', scan_params=[SingleValueScanParam(type='SingleValueScanParam', location_list=['neuron_set', 'central_neuron_id'], value=191094)], nested_coordinate_subpath_str=PosixPath('.')), type='CircuitExtraction', initialize=Initialize(type='CircuitExtractions.Initialize', circuit=Circuit(type='Circuit', name='nbS1-O1', path='/Users/pokorny/Data/Circuits/nbS1-O1/circuit_config_postfix2.json', matrix_path='/Users/pokorny/Data/ConnectivityMatrices/nbS1-O1/connectivity_matrix.h5'), run_validation=False, do_virtual=True, create_external=True, virtual_sources_to_ignore=('external_S1nonbarrel_neurons__S1nonbarrel_neurons__chemical',)), neuron_set=SimplexNeuronSet(type='SimplexNeuronSet', random_sample=None, random_seed=0, node_population=None, property_filter=NoFilter, node_sets=(), central_neuron_id=191094, dim=10, central_neuron_simplex_position='source', subsample=True, n_count_max=10, simplex_type='directed', seed=0))\n",
      "[2025-06-19 14:39:22,972] INFO: CircuitExtraction(idx=5, scan_output_root=PosixPath('.'), coordinate_output_root=PosixPath('.'), single_coordinate_scan_params=SingleCoordinateScanParams(type='SingleCoordinateScanParams', scan_params=[SingleValueScanParam(type='SingleValueScanParam', location_list=['neuron_set', 'central_neuron_id'], value=79088)], nested_coordinate_subpath_str=PosixPath('.')), type='CircuitExtraction', initialize=Initialize(type='CircuitExtractions.Initialize', circuit=Circuit(type='Circuit', name='nbS1-O1', path='/Users/pokorny/Data/Circuits/nbS1-O1/circuit_config_postfix2.json', matrix_path='/Users/pokorny/Data/ConnectivityMatrices/nbS1-O1/connectivity_matrix.h5'), run_validation=False, do_virtual=True, create_external=True, virtual_sources_to_ignore=('external_S1nonbarrel_neurons__S1nonbarrel_neurons__chemical',)), neuron_set=SimplexNeuronSet(type='SimplexNeuronSet', random_sample=None, random_seed=0, node_population=None, property_filter=NoFilter, node_sets=(), central_neuron_id=79088, dim=10, central_neuron_simplex_position='source', subsample=True, n_count_max=10, simplex_type='directed', seed=0))\n"
     ]
    },
    {
     "data": {
      "text/plain": [
       "[CircuitExtraction(idx=0, scan_output_root=PosixPath('.'), coordinate_output_root=PosixPath('.'), single_coordinate_scan_params=SingleCoordinateScanParams(type='SingleCoordinateScanParams', scan_params=[SingleValueScanParam(type='SingleValueScanParam', location_list=['neuron_set', 'central_neuron_id'], value=426)], nested_coordinate_subpath_str=PosixPath('.')), type='CircuitExtraction', initialize=Initialize(type='CircuitExtractions.Initialize', circuit=Circuit(type='Circuit', name='nbS1-O1', path='/Users/pokorny/Data/Circuits/nbS1-O1/circuit_config_postfix2.json', matrix_path='/Users/pokorny/Data/ConnectivityMatrices/nbS1-O1/connectivity_matrix.h5'), run_validation=False, do_virtual=True, create_external=True, virtual_sources_to_ignore=('external_S1nonbarrel_neurons__S1nonbarrel_neurons__chemical',)), neuron_set=SimplexNeuronSet(type='SimplexNeuronSet', random_sample=None, random_seed=0, node_population=None, property_filter=NoFilter, node_sets=(), central_neuron_id=426, dim=10, central_neuron_simplex_position='source', subsample=True, n_count_max=10, simplex_type='directed', seed=0)),\n",
       " CircuitExtraction(idx=1, scan_output_root=PosixPath('.'), coordinate_output_root=PosixPath('.'), single_coordinate_scan_params=SingleCoordinateScanParams(type='SingleCoordinateScanParams', scan_params=[SingleValueScanParam(type='SingleValueScanParam', location_list=['neuron_set', 'central_neuron_id'], value=151361)], nested_coordinate_subpath_str=PosixPath('.')), type='CircuitExtraction', initialize=Initialize(type='CircuitExtractions.Initialize', circuit=Circuit(type='Circuit', name='nbS1-O1', path='/Users/pokorny/Data/Circuits/nbS1-O1/circuit_config_postfix2.json', matrix_path='/Users/pokorny/Data/ConnectivityMatrices/nbS1-O1/connectivity_matrix.h5'), run_validation=False, do_virtual=True, create_external=True, virtual_sources_to_ignore=('external_S1nonbarrel_neurons__S1nonbarrel_neurons__chemical',)), neuron_set=SimplexNeuronSet(type='SimplexNeuronSet', random_sample=None, random_seed=0, node_population=None, property_filter=NoFilter, node_sets=(), central_neuron_id=151361, dim=10, central_neuron_simplex_position='source', subsample=True, n_count_max=10, simplex_type='directed', seed=0)),\n",
       " CircuitExtraction(idx=2, scan_output_root=PosixPath('.'), coordinate_output_root=PosixPath('.'), single_coordinate_scan_params=SingleCoordinateScanParams(type='SingleCoordinateScanParams', scan_params=[SingleValueScanParam(type='SingleValueScanParam', location_list=['neuron_set', 'central_neuron_id'], value=25652)], nested_coordinate_subpath_str=PosixPath('.')), type='CircuitExtraction', initialize=Initialize(type='CircuitExtractions.Initialize', circuit=Circuit(type='Circuit', name='nbS1-O1', path='/Users/pokorny/Data/Circuits/nbS1-O1/circuit_config_postfix2.json', matrix_path='/Users/pokorny/Data/ConnectivityMatrices/nbS1-O1/connectivity_matrix.h5'), run_validation=False, do_virtual=True, create_external=True, virtual_sources_to_ignore=('external_S1nonbarrel_neurons__S1nonbarrel_neurons__chemical',)), neuron_set=SimplexNeuronSet(type='SimplexNeuronSet', random_sample=None, random_seed=0, node_population=None, property_filter=NoFilter, node_sets=(), central_neuron_id=25652, dim=10, central_neuron_simplex_position='source', subsample=True, n_count_max=10, simplex_type='directed', seed=0)),\n",
       " CircuitExtraction(idx=3, scan_output_root=PosixPath('.'), coordinate_output_root=PosixPath('.'), single_coordinate_scan_params=SingleCoordinateScanParams(type='SingleCoordinateScanParams', scan_params=[SingleValueScanParam(type='SingleValueScanParam', location_list=['neuron_set', 'central_neuron_id'], value=128851)], nested_coordinate_subpath_str=PosixPath('.')), type='CircuitExtraction', initialize=Initialize(type='CircuitExtractions.Initialize', circuit=Circuit(type='Circuit', name='nbS1-O1', path='/Users/pokorny/Data/Circuits/nbS1-O1/circuit_config_postfix2.json', matrix_path='/Users/pokorny/Data/ConnectivityMatrices/nbS1-O1/connectivity_matrix.h5'), run_validation=False, do_virtual=True, create_external=True, virtual_sources_to_ignore=('external_S1nonbarrel_neurons__S1nonbarrel_neurons__chemical',)), neuron_set=SimplexNeuronSet(type='SimplexNeuronSet', random_sample=None, random_seed=0, node_population=None, property_filter=NoFilter, node_sets=(), central_neuron_id=128851, dim=10, central_neuron_simplex_position='source', subsample=True, n_count_max=10, simplex_type='directed', seed=0)),\n",
       " CircuitExtraction(idx=4, scan_output_root=PosixPath('.'), coordinate_output_root=PosixPath('.'), single_coordinate_scan_params=SingleCoordinateScanParams(type='SingleCoordinateScanParams', scan_params=[SingleValueScanParam(type='SingleValueScanParam', location_list=['neuron_set', 'central_neuron_id'], value=191094)], nested_coordinate_subpath_str=PosixPath('.')), type='CircuitExtraction', initialize=Initialize(type='CircuitExtractions.Initialize', circuit=Circuit(type='Circuit', name='nbS1-O1', path='/Users/pokorny/Data/Circuits/nbS1-O1/circuit_config_postfix2.json', matrix_path='/Users/pokorny/Data/ConnectivityMatrices/nbS1-O1/connectivity_matrix.h5'), run_validation=False, do_virtual=True, create_external=True, virtual_sources_to_ignore=('external_S1nonbarrel_neurons__S1nonbarrel_neurons__chemical',)), neuron_set=SimplexNeuronSet(type='SimplexNeuronSet', random_sample=None, random_seed=0, node_population=None, property_filter=NoFilter, node_sets=(), central_neuron_id=191094, dim=10, central_neuron_simplex_position='source', subsample=True, n_count_max=10, simplex_type='directed', seed=0)),\n",
       " CircuitExtraction(idx=5, scan_output_root=PosixPath('.'), coordinate_output_root=PosixPath('.'), single_coordinate_scan_params=SingleCoordinateScanParams(type='SingleCoordinateScanParams', scan_params=[SingleValueScanParam(type='SingleValueScanParam', location_list=['neuron_set', 'central_neuron_id'], value=79088)], nested_coordinate_subpath_str=PosixPath('.')), type='CircuitExtraction', initialize=Initialize(type='CircuitExtractions.Initialize', circuit=Circuit(type='Circuit', name='nbS1-O1', path='/Users/pokorny/Data/Circuits/nbS1-O1/circuit_config_postfix2.json', matrix_path='/Users/pokorny/Data/ConnectivityMatrices/nbS1-O1/connectivity_matrix.h5'), run_validation=False, do_virtual=True, create_external=True, virtual_sources_to_ignore=('external_S1nonbarrel_neurons__S1nonbarrel_neurons__chemical',)), neuron_set=SimplexNeuronSet(type='SimplexNeuronSet', random_sample=None, random_seed=0, node_population=None, property_filter=NoFilter, node_sets=(), central_neuron_id=79088, dim=10, central_neuron_simplex_position='source', subsample=True, n_count_max=10, simplex_type='directed', seed=0))]"
      ]
     },
     "execution_count": 7,
     "metadata": {},
     "output_type": "execute_result"
    }
   ],
   "source": [
    "# Display the intermediary data\n",
    "coupled_scan.multiple_value_parameters(display=True)\n",
    "coupled_scan.coordinate_parameters(display=True)\n",
    "coupled_scan.coordinate_instances(display=True)"
   ]
  },
  {
   "cell_type": "code",
   "execution_count": 8,
   "metadata": {},
   "outputs": [
    {
     "name": "stdout",
     "output_type": "stream",
     "text": [
      "[2025-06-19 14:39:25,035] INFO: None\n",
      "[2025-06-19 14:40:23,869] INFO: COMPUTE list of simplices by dimension\n",
      "> Dimension not attained using dimension 5 instead.\n",
      "Extracting subcircuit from 'nbS1-O1'\n",
      "Copying morphologies for population 'S1nonbarrel_neurons' (6)\n"
     ]
    },
    {
     "name": "stderr",
     "output_type": "stream",
     "text": [
      "Copying containerized .h5 morphologies: 100%|████████████████████████████████████████████████████| 6/6 [00:00<00:00, 708.64it/s]"
     ]
    },
    {
     "name": "stdout",
     "output_type": "stream",
     "text": [
      "Copied 6 morphologies into container (0 already existed)\n",
      "Copying 3 biophysical neuron models (.hoc) for population 'S1nonbarrel_neurons' (6)\n",
      "Copying mod files\n",
      "Extraction DONE\n"
     ]
    },
    {
     "name": "stderr",
     "output_type": "stream",
     "text": [
      "\n"
     ]
    },
    {
     "name": "stdout",
     "output_type": "stream",
     "text": [
      "[2025-06-19 14:44:34,921] INFO: COMPUTE list of simplices by dimension\n",
      "> Dimension not attained using dimension 6 instead.\n",
      "Extracting subcircuit from 'nbS1-O1'\n",
      "Copying morphologies for population 'S1nonbarrel_neurons' (7)\n"
     ]
    },
    {
     "name": "stderr",
     "output_type": "stream",
     "text": [
      "Copying containerized .h5 morphologies: 100%|████████████████████████████████████████████████████| 7/7 [00:00<00:00, 838.02it/s]"
     ]
    },
    {
     "name": "stdout",
     "output_type": "stream",
     "text": [
      "Copied 7 morphologies into container (0 already existed)\n",
      "Copying 2 biophysical neuron models (.hoc) for population 'S1nonbarrel_neurons' (7)\n",
      "Copying mod files\n",
      "Extraction DONE\n"
     ]
    },
    {
     "name": "stderr",
     "output_type": "stream",
     "text": [
      "\n"
     ]
    },
    {
     "name": "stdout",
     "output_type": "stream",
     "text": [
      "[2025-06-19 14:48:30,911] INFO: COMPUTE list of simplices by dimension\n",
      "> Dimension not attained using dimension 6 instead.\n",
      "Extracting subcircuit from 'nbS1-O1'\n",
      "Copying morphologies for population 'S1nonbarrel_neurons' (7)\n"
     ]
    },
    {
     "name": "stderr",
     "output_type": "stream",
     "text": [
      "Copying containerized .h5 morphologies: 100%|████████████████████████████████████████████████████| 7/7 [00:00<00:00, 810.38it/s]"
     ]
    },
    {
     "name": "stdout",
     "output_type": "stream",
     "text": [
      "Copied 7 morphologies into container (0 already existed)\n",
      "Copying 3 biophysical neuron models (.hoc) for population 'S1nonbarrel_neurons' (7)\n",
      "Copying mod files\n",
      "Extraction DONE\n"
     ]
    },
    {
     "name": "stderr",
     "output_type": "stream",
     "text": [
      "\n"
     ]
    },
    {
     "name": "stdout",
     "output_type": "stream",
     "text": [
      "[2025-06-19 14:52:25,697] INFO: COMPUTE list of simplices by dimension\n",
      "> Dimension not attained using dimension 5 instead.\n",
      "Extracting subcircuit from 'nbS1-O1'\n",
      "Copying morphologies for population 'S1nonbarrel_neurons' (9)\n"
     ]
    },
    {
     "name": "stderr",
     "output_type": "stream",
     "text": [
      "Copying containerized .h5 morphologies: 100%|████████████████████████████████████████████████████| 9/9 [00:00<00:00, 884.60it/s]"
     ]
    },
    {
     "name": "stdout",
     "output_type": "stream",
     "text": [
      "Copied 9 morphologies into container (0 already existed)\n",
      "Copying 3 biophysical neuron models (.hoc) for population 'S1nonbarrel_neurons' (9)\n",
      "Copying mod files\n",
      "Extraction DONE\n"
     ]
    },
    {
     "name": "stderr",
     "output_type": "stream",
     "text": [
      "\n"
     ]
    },
    {
     "name": "stdout",
     "output_type": "stream",
     "text": [
      "[2025-06-19 14:56:17,965] INFO: COMPUTE list of simplices by dimension\n",
      "> Dimension not attained using dimension 5 instead.\n",
      "Extracting subcircuit from 'nbS1-O1'\n",
      "Copying morphologies for population 'S1nonbarrel_neurons' (6)\n"
     ]
    },
    {
     "name": "stderr",
     "output_type": "stream",
     "text": [
      "Copying containerized .h5 morphologies: 100%|████████████████████████████████████████████████████| 6/6 [00:00<00:00, 715.12it/s]"
     ]
    },
    {
     "name": "stdout",
     "output_type": "stream",
     "text": [
      "Copied 6 morphologies into container (0 already existed)\n",
      "Copying 2 biophysical neuron models (.hoc) for population 'S1nonbarrel_neurons' (6)\n",
      "Copying mod files\n",
      "Extraction DONE\n"
     ]
    },
    {
     "name": "stderr",
     "output_type": "stream",
     "text": [
      "\n"
     ]
    },
    {
     "name": "stdout",
     "output_type": "stream",
     "text": [
      "[2025-06-19 15:00:12,019] INFO: COMPUTE list of simplices by dimension\n",
      "> Dimension not attained using dimension 6 instead.\n",
      "Extracting subcircuit from 'nbS1-O1'\n",
      "Copying morphologies for population 'S1nonbarrel_neurons' (7)\n"
     ]
    },
    {
     "name": "stderr",
     "output_type": "stream",
     "text": [
      "Copying containerized .h5 morphologies: 100%|████████████████████████████████████████████████████| 7/7 [00:00<00:00, 850.87it/s]"
     ]
    },
    {
     "name": "stdout",
     "output_type": "stream",
     "text": [
      "Copied 7 morphologies into container (0 already existed)\n",
      "Copying 1 biophysical neuron models (.hoc) for population 'S1nonbarrel_neurons' (7)\n",
      "Copying mod files\n",
      "Extraction DONE\n",
      "[2025-06-19 15:03:14,442] INFO: create_bbp_workflow_campaign_config() not yet complete.\n"
     ]
    },
    {
     "name": "stderr",
     "output_type": "stream",
     "text": [
      "\n"
     ]
    },
    {
     "data": {
      "text/plain": [
       "{0: None, 1: None, 2: None, 3: None, 4: None, 5: None}"
      ]
     },
     "execution_count": 8,
     "metadata": {},
     "output_type": "execute_result"
    }
   ],
   "source": [
    "coupled_scan.execute(processing_method='run')"
   ]
  },
  {
   "cell_type": "code",
   "execution_count": 12,
   "metadata": {},
   "outputs": [
    {
     "name": "stdout",
     "output_type": "stream",
     "text": [
      "L1: 6 neurons, 134 synapses, m-types: 1xL1_DAC, 1xL4_TPC, 2xL5_TPC:A, 1xL5_TPC:B, 1xL5_UPC\n",
      "L2: 7 neurons, 150 synapses, m-types: 1xL23_CHC, 4xL3_TPC:A, 2xL3_TPC:C\n",
      "L3: 7 neurons, 102 synapses, m-types: 1xL23_CHC, 2xL3_TPC:A, 1xL3_TPC:C, 3xL4_TPC\n",
      "L4: 9 neurons, 166 synapses, m-types: 4xL4_TPC, 2xL4_UPC, 1xL5_TPC:A, 1xL5_TPC:C, 1xL5_UPC\n",
      "L5: 6 neurons, 90 synapses, m-types: 1xL5_TPC:A, 1xL5_TPC:B, 1xL6_BPC, 1xL6_TPC:A, 1xL6_TPC:C, 1xL6_UPC\n",
      "L6: 7 neurons, 163 synapses, m-types: 2xL6_HPC, 1xL6_IPC, 3xL6_TPC:A, 1xL6_UPC\n"
     ]
    }
   ],
   "source": [
    "# Check circuits\n",
    "from bluepysnap import Circuit\n",
    "\n",
    "for _idx, _inst in enumerate(coupled_scan.coordinate_instances()):\n",
    "    cfg = coupled_scan.output_root / str(_idx) / \"circuit_config.json\"\n",
    "    c = Circuit(cfg)\n",
    "    nodes = c.nodes['S1nonbarrel_neurons']\n",
    "    mtypes = np.unique(nodes.get(properties=['mtype']), return_counts=True)\n",
    "    mt_hist = [f\"{_c}x{_mt}\" for _mt, _c in zip(*mtypes)]\n",
    "    print(f\"L{layers[_idx]}: {nodes.size} neurons, {c.edges[\"S1nonbarrel_neurons__S1nonbarrel_neurons__chemical\"].size} synapses, m-types: {', '.join(mt_hist)}\")\n"
   ]
  },
  {
   "cell_type": "code",
   "execution_count": null,
   "metadata": {},
   "outputs": [],
   "source": []
  }
 ],
 "metadata": {
  "kernelspec": {
   "display_name": "obi-one",
   "language": "python",
   "name": "obi-one"
  },
  "language_info": {
   "codemirror_mode": {
    "name": "ipython",
    "version": 3
   },
   "file_extension": ".py",
   "mimetype": "text/x-python",
   "name": "python",
   "nbconvert_exporter": "python",
   "pygments_lexer": "ipython3",
   "version": "3.12.9"
  }
 },
 "nbformat": 4,
 "nbformat_minor": 4
}
