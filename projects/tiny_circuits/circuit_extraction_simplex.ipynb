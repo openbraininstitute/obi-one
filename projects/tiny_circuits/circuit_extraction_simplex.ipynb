{
 "cells": [
  {
   "cell_type": "code",
   "execution_count": 8,
   "metadata": {},
   "outputs": [],
   "source": [
    "import json\n",
    "import numpy as np\n",
    "import obi_one as obi\n",
    "import os\n",
    "import pandas as pd\n",
    "from conntility.connectivity import ConnectivityMatrix"
   ]
  },
  {
   "cell_type": "code",
   "execution_count": 9,
   "metadata": {},
   "outputs": [],
   "source": [
    "input_root = \"/Users/pokorny/Data/Circuits\"\n",
    "cmat_root = \"/Users/pokorny/Data/ConnectivityMatrices\"\n",
    "output_root = \"../../../obi-output/extracted_small_microcircuits_simplex\""
   ]
  },
  {
   "cell_type": "code",
   "execution_count": 10,
   "metadata": {},
   "outputs": [
    {
     "data": {
      "text/plain": [
       "<COOrdinate sparse matrix of dtype 'int64'\n",
       "\twith 87457567 stored elements and shape (211712, 211712)>"
      ]
     },
     "metadata": {},
     "output_type": "display_data"
    }
   ],
   "source": [
    "# Load nbS1-O1 circuit with connectivity matrix\n",
    "circuit = obi.Circuit(name=\"nbS1-O1\",\n",
    "                      path=os.path.join(input_root, \"nbS1-O1\", \"circuit_config_postfix2.json\"),\n",
    "                      matrix_path=os.path.join(cmat_root, \"nbS1-O1\", \"connectivity_matrix.h5\"))\n",
    "display(circuit.connectivity_matrix.matrix)"
   ]
  },
  {
   "cell_type": "code",
   "execution_count": 23,
   "metadata": {},
   "outputs": [
    {
     "data": {
      "text/html": [
       "<div>\n",
       "<style scoped>\n",
       "    .dataframe tbody tr th:only-of-type {\n",
       "        vertical-align: middle;\n",
       "    }\n",
       "\n",
       "    .dataframe tbody tr th {\n",
       "        vertical-align: top;\n",
       "    }\n",
       "\n",
       "    .dataframe thead th {\n",
       "        text-align: right;\n",
       "    }\n",
       "</style>\n",
       "<table border=\"1\" class=\"dataframe\">\n",
       "  <thead>\n",
       "    <tr style=\"text-align: right;\">\n",
       "      <th></th>\n",
       "      <th>node_ids</th>\n",
       "      <th>etype</th>\n",
       "      <th>layer</th>\n",
       "      <th>mtype</th>\n",
       "      <th>synapse_class</th>\n",
       "      <th>x</th>\n",
       "      <th>y</th>\n",
       "      <th>z</th>\n",
       "    </tr>\n",
       "  </thead>\n",
       "  <tbody>\n",
       "    <tr>\n",
       "      <th>33691</th>\n",
       "      <td>33691</td>\n",
       "      <td>cNAC</td>\n",
       "      <td>1</td>\n",
       "      <td>L1_NGC-DA</td>\n",
       "      <td>INH</td>\n",
       "      <td>4683.919729</td>\n",
       "      <td>-1387.374371</td>\n",
       "      <td>-1885.088008</td>\n",
       "    </tr>\n",
       "    <tr>\n",
       "      <th>151361</th>\n",
       "      <td>151361</td>\n",
       "      <td>cNAC</td>\n",
       "      <td>2</td>\n",
       "      <td>L23_CHC</td>\n",
       "      <td>INH</td>\n",
       "      <td>4417.154568</td>\n",
       "      <td>-1455.019186</td>\n",
       "      <td>-1899.847804</td>\n",
       "    </tr>\n",
       "    <tr>\n",
       "      <th>2625</th>\n",
       "      <td>2625</td>\n",
       "      <td>cADpyr</td>\n",
       "      <td>3</td>\n",
       "      <td>L3_TPC:A</td>\n",
       "      <td>EXC</td>\n",
       "      <td>4457.265464</td>\n",
       "      <td>-1316.485898</td>\n",
       "      <td>-2006.089937</td>\n",
       "    </tr>\n",
       "    <tr>\n",
       "      <th>116904</th>\n",
       "      <td>116904</td>\n",
       "      <td>cADpyr</td>\n",
       "      <td>4</td>\n",
       "      <td>L4_UPC</td>\n",
       "      <td>EXC</td>\n",
       "      <td>4124.450870</td>\n",
       "      <td>-1479.844101</td>\n",
       "      <td>-2191.272675</td>\n",
       "    </tr>\n",
       "    <tr>\n",
       "      <th>171462</th>\n",
       "      <td>171462</td>\n",
       "      <td>cADpyr</td>\n",
       "      <td>5</td>\n",
       "      <td>L5_TPC:C</td>\n",
       "      <td>EXC</td>\n",
       "      <td>3848.582449</td>\n",
       "      <td>-1385.443785</td>\n",
       "      <td>-2703.829151</td>\n",
       "    </tr>\n",
       "    <tr>\n",
       "      <th>79088</th>\n",
       "      <td>79088</td>\n",
       "      <td>cADpyr</td>\n",
       "      <td>6</td>\n",
       "      <td>L6_IPC</td>\n",
       "      <td>EXC</td>\n",
       "      <td>3592.676277</td>\n",
       "      <td>-1025.078101</td>\n",
       "      <td>-2898.148159</td>\n",
       "    </tr>\n",
       "  </tbody>\n",
       "</table>\n",
       "</div>"
      ],
      "text/plain": [
       "        node_ids   etype layer      mtype synapse_class            x  \\\n",
       "33691      33691    cNAC     1  L1_NGC-DA           INH  4683.919729   \n",
       "151361    151361    cNAC     2    L23_CHC           INH  4417.154568   \n",
       "2625        2625  cADpyr     3   L3_TPC:A           EXC  4457.265464   \n",
       "116904    116904  cADpyr     4     L4_UPC           EXC  4124.450870   \n",
       "171462    171462  cADpyr     5   L5_TPC:C           EXC  3848.582449   \n",
       "79088      79088  cADpyr     6     L6_IPC           EXC  3592.676277   \n",
       "\n",
       "                  y            z  \n",
       "33691  -1387.374371 -1885.088008  \n",
       "151361 -1455.019186 -1899.847804  \n",
       "2625   -1316.485898 -2006.089937  \n",
       "116904 -1479.844101 -2191.272675  \n",
       "171462 -1385.443785 -2703.829151  \n",
       "79088  -1025.078101 -2898.148159  "
      ]
     },
     "metadata": {},
     "output_type": "display_data"
    }
   ],
   "source": [
    "# nbS1-O1 - Central neurons in connectivity\n",
    "df_sel = pd.read_pickle(\"Top10CentralNeurons_Layer_Hex.pkl\")  # (Contains neuron IDs relative to nbS1-HEXn)\n",
    "df_opt = pd.read_pickle(\"Top10CentralNeurons_Layer_Hex_OptIDX.pkl\")\n",
    "\n",
    "# Load HEXi connectivity matrix\n",
    "base_name = \"nbS1\"\n",
    "hex_sel = \"hex0\"\n",
    "layers = range(1, 7)\n",
    "cmat = ConnectivityMatrix.from_h5(os.path.join(cmat_root, f\"{base_name}-{hex_sel.upper()}\", \"connectivity_matrix.h5\"))\n",
    "ntab = cmat.vertices.set_index(\"node_ids\")\n",
    "\n",
    "# Load ID mapping w.r.t. parent circuit nbS1-O1\n",
    "id_map_file = os.path.join(input_root, f\"{base_name}-{hex_sel.upper()}\", \"id_mapping.json\")\n",
    "with open(id_map_file, \"r\") as f:\n",
    "    id_map = json.load(f)\n",
    "assert np.array_equal(id_map[\"S1nonbarrel_neurons\"][\"new_id\"], ntab.index.values)\n",
    "\n",
    "nid_selection = []  # Selected neuron IDs for nbS1-O1 circuit\n",
    "for _lay in layers:\n",
    "    opt_idx = df_opt.loc[(hex_sel, _lay)][\"pos\"]\n",
    "    node_id = df_sel[(\"hex0\", _lay)].iloc[opt_idx].tolist()\n",
    "    nid_selection.append(id_map[\"S1nonbarrel_neurons\"][\"old_id\"][node_id])\n",
    "\n",
    "# Check selection\n",
    "cmat = circuit.connectivity_matrix\n",
    "sel_tab = cmat.vertices.loc[nid_selection]\n",
    "assert np.array_equal(sel_tab[\"layer\"].astype(int), layers)\n",
    "display(sel_tab)"
   ]
  },
  {
   "cell_type": "code",
   "execution_count": 24,
   "metadata": {},
   "outputs": [],
   "source": [
    "# Set up simplex neuron sets\n",
    "N = 10  # Max. number of neurons\n",
    "dim = 10\n",
    "simplex_pos = \"source\"\n",
    "simplex_neuron_sets = obi.SimplexNeuronSet(\n",
    "    central_neuron_id=nid_selection,\n",
    "    dim=dim,\n",
    "    central_neuron_simplex_position=simplex_pos,\n",
    "    subsample=True,\n",
    "    seed=0,\n",
    "    n_count_max=N,\n",
    "    simplex_type=\"directed\",\n",
    "    property_filter=obi.scientific.circuit.neuron_sets.NeuronPropertyFilter(),\n",
    ")\n",
    "\n",
    "virtual_sources_to_ignore = (\"external_S1nonbarrel_neurons__S1nonbarrel_neurons__chemical\", )\n",
    "output_path = os.path.join(output_root, f\"dim{dim}-{simplex_pos}\")"
   ]
  },
  {
   "cell_type": "code",
   "execution_count": 25,
   "metadata": {},
   "outputs": [],
   "source": [
    "circuit_extractions_form = obi.CircuitExtractions(\n",
    "                    initialize=obi.CircuitExtractions.Initialize(\n",
    "                        circuit=circuit,\n",
    "                        run_validation=False,\n",
    "                        do_virtual=True,\n",
    "                        create_external=True,\n",
    "                        virtual_sources_to_ignore=virtual_sources_to_ignore,\n",
    "                    ),\n",
    "                    neuron_set=simplex_neuron_sets,\n",
    ")\n",
    "\n",
    "coupled_scan = obi.CoupledScan(form=circuit_extractions_form, output_root=output_path, coordinate_directory_option=\"ZERO_INDEX\")"
   ]
  },
  {
   "cell_type": "code",
   "execution_count": 26,
   "metadata": {},
   "outputs": [
    {
     "name": "stdout",
     "output_type": "stream",
     "text": [
      "[2025-06-19 10:55:09,963] INFO: \n",
      "MULTIPLE VALUE PARAMETERS\n",
      "[2025-06-19 10:55:09,966] INFO: neuron_set.central_neuron_id: [33691, 151361, 2625, 116904, 171462, 79088]\n",
      "[2025-06-19 10:55:09,967] INFO: \n",
      "COORDINATE PARAMETERS\n",
      "[2025-06-19 10:55:09,968] INFO: neuron_set.central_neuron_id: 33691\n",
      "[2025-06-19 10:55:09,969] INFO: neuron_set.central_neuron_id: 151361\n",
      "[2025-06-19 10:55:09,970] INFO: neuron_set.central_neuron_id: 2625\n",
      "[2025-06-19 10:55:09,970] INFO: neuron_set.central_neuron_id: 116904\n",
      "[2025-06-19 10:55:09,971] INFO: neuron_set.central_neuron_id: 171462\n",
      "[2025-06-19 10:55:09,971] INFO: neuron_set.central_neuron_id: 79088\n",
      "[2025-06-19 10:55:09,973] INFO: \n",
      "COORDINATE INSTANCES\n",
      "[2025-06-19 10:55:09,974] INFO: CircuitExtraction(idx=0, scan_output_root=PosixPath('.'), coordinate_output_root=PosixPath('.'), single_coordinate_scan_params=SingleCoordinateScanParams(type='SingleCoordinateScanParams', scan_params=[SingleValueScanParam(type='SingleValueScanParam', location_list=['neuron_set', 'central_neuron_id'], value=33691)], nested_coordinate_subpath_str=PosixPath('.')), type='CircuitExtraction', initialize=Initialize(type='CircuitExtractions.Initialize', circuit=Circuit(type='Circuit', name='nbS1-O1', path='/Users/pokorny/Data/Circuits/nbS1-O1/circuit_config_postfix2.json', matrix_path='/Users/pokorny/Data/ConnectivityMatrices/nbS1-O1/connectivity_matrix.h5'), run_validation=False, do_virtual=True, create_external=True, virtual_sources_to_ignore=('external_S1nonbarrel_neurons__S1nonbarrel_neurons__chemical',)), neuron_set=SimplexNeuronSet(type='SimplexNeuronSet', random_sample=None, random_seed=0, node_population=None, property_filter=NoFilter, node_sets=(), central_neuron_id=33691, dim=10, central_neuron_simplex_position='source', subsample=True, n_count_max=10, simplex_type='directed', seed=0))\n",
      "[2025-06-19 10:55:09,975] INFO: CircuitExtraction(idx=1, scan_output_root=PosixPath('.'), coordinate_output_root=PosixPath('.'), single_coordinate_scan_params=SingleCoordinateScanParams(type='SingleCoordinateScanParams', scan_params=[SingleValueScanParam(type='SingleValueScanParam', location_list=['neuron_set', 'central_neuron_id'], value=151361)], nested_coordinate_subpath_str=PosixPath('.')), type='CircuitExtraction', initialize=Initialize(type='CircuitExtractions.Initialize', circuit=Circuit(type='Circuit', name='nbS1-O1', path='/Users/pokorny/Data/Circuits/nbS1-O1/circuit_config_postfix2.json', matrix_path='/Users/pokorny/Data/ConnectivityMatrices/nbS1-O1/connectivity_matrix.h5'), run_validation=False, do_virtual=True, create_external=True, virtual_sources_to_ignore=('external_S1nonbarrel_neurons__S1nonbarrel_neurons__chemical',)), neuron_set=SimplexNeuronSet(type='SimplexNeuronSet', random_sample=None, random_seed=0, node_population=None, property_filter=NoFilter, node_sets=(), central_neuron_id=151361, dim=10, central_neuron_simplex_position='source', subsample=True, n_count_max=10, simplex_type='directed', seed=0))\n",
      "[2025-06-19 10:55:09,976] INFO: CircuitExtraction(idx=2, scan_output_root=PosixPath('.'), coordinate_output_root=PosixPath('.'), single_coordinate_scan_params=SingleCoordinateScanParams(type='SingleCoordinateScanParams', scan_params=[SingleValueScanParam(type='SingleValueScanParam', location_list=['neuron_set', 'central_neuron_id'], value=2625)], nested_coordinate_subpath_str=PosixPath('.')), type='CircuitExtraction', initialize=Initialize(type='CircuitExtractions.Initialize', circuit=Circuit(type='Circuit', name='nbS1-O1', path='/Users/pokorny/Data/Circuits/nbS1-O1/circuit_config_postfix2.json', matrix_path='/Users/pokorny/Data/ConnectivityMatrices/nbS1-O1/connectivity_matrix.h5'), run_validation=False, do_virtual=True, create_external=True, virtual_sources_to_ignore=('external_S1nonbarrel_neurons__S1nonbarrel_neurons__chemical',)), neuron_set=SimplexNeuronSet(type='SimplexNeuronSet', random_sample=None, random_seed=0, node_population=None, property_filter=NoFilter, node_sets=(), central_neuron_id=2625, dim=10, central_neuron_simplex_position='source', subsample=True, n_count_max=10, simplex_type='directed', seed=0))\n",
      "[2025-06-19 10:55:09,976] INFO: CircuitExtraction(idx=3, scan_output_root=PosixPath('.'), coordinate_output_root=PosixPath('.'), single_coordinate_scan_params=SingleCoordinateScanParams(type='SingleCoordinateScanParams', scan_params=[SingleValueScanParam(type='SingleValueScanParam', location_list=['neuron_set', 'central_neuron_id'], value=116904)], nested_coordinate_subpath_str=PosixPath('.')), type='CircuitExtraction', initialize=Initialize(type='CircuitExtractions.Initialize', circuit=Circuit(type='Circuit', name='nbS1-O1', path='/Users/pokorny/Data/Circuits/nbS1-O1/circuit_config_postfix2.json', matrix_path='/Users/pokorny/Data/ConnectivityMatrices/nbS1-O1/connectivity_matrix.h5'), run_validation=False, do_virtual=True, create_external=True, virtual_sources_to_ignore=('external_S1nonbarrel_neurons__S1nonbarrel_neurons__chemical',)), neuron_set=SimplexNeuronSet(type='SimplexNeuronSet', random_sample=None, random_seed=0, node_population=None, property_filter=NoFilter, node_sets=(), central_neuron_id=116904, dim=10, central_neuron_simplex_position='source', subsample=True, n_count_max=10, simplex_type='directed', seed=0))\n",
      "[2025-06-19 10:55:09,977] INFO: CircuitExtraction(idx=4, scan_output_root=PosixPath('.'), coordinate_output_root=PosixPath('.'), single_coordinate_scan_params=SingleCoordinateScanParams(type='SingleCoordinateScanParams', scan_params=[SingleValueScanParam(type='SingleValueScanParam', location_list=['neuron_set', 'central_neuron_id'], value=171462)], nested_coordinate_subpath_str=PosixPath('.')), type='CircuitExtraction', initialize=Initialize(type='CircuitExtractions.Initialize', circuit=Circuit(type='Circuit', name='nbS1-O1', path='/Users/pokorny/Data/Circuits/nbS1-O1/circuit_config_postfix2.json', matrix_path='/Users/pokorny/Data/ConnectivityMatrices/nbS1-O1/connectivity_matrix.h5'), run_validation=False, do_virtual=True, create_external=True, virtual_sources_to_ignore=('external_S1nonbarrel_neurons__S1nonbarrel_neurons__chemical',)), neuron_set=SimplexNeuronSet(type='SimplexNeuronSet', random_sample=None, random_seed=0, node_population=None, property_filter=NoFilter, node_sets=(), central_neuron_id=171462, dim=10, central_neuron_simplex_position='source', subsample=True, n_count_max=10, simplex_type='directed', seed=0))\n",
      "[2025-06-19 10:55:09,978] INFO: CircuitExtraction(idx=5, scan_output_root=PosixPath('.'), coordinate_output_root=PosixPath('.'), single_coordinate_scan_params=SingleCoordinateScanParams(type='SingleCoordinateScanParams', scan_params=[SingleValueScanParam(type='SingleValueScanParam', location_list=['neuron_set', 'central_neuron_id'], value=79088)], nested_coordinate_subpath_str=PosixPath('.')), type='CircuitExtraction', initialize=Initialize(type='CircuitExtractions.Initialize', circuit=Circuit(type='Circuit', name='nbS1-O1', path='/Users/pokorny/Data/Circuits/nbS1-O1/circuit_config_postfix2.json', matrix_path='/Users/pokorny/Data/ConnectivityMatrices/nbS1-O1/connectivity_matrix.h5'), run_validation=False, do_virtual=True, create_external=True, virtual_sources_to_ignore=('external_S1nonbarrel_neurons__S1nonbarrel_neurons__chemical',)), neuron_set=SimplexNeuronSet(type='SimplexNeuronSet', random_sample=None, random_seed=0, node_population=None, property_filter=NoFilter, node_sets=(), central_neuron_id=79088, dim=10, central_neuron_simplex_position='source', subsample=True, n_count_max=10, simplex_type='directed', seed=0))\n"
     ]
    },
    {
     "data": {
      "text/plain": [
       "[CircuitExtraction(idx=0, scan_output_root=PosixPath('.'), coordinate_output_root=PosixPath('.'), single_coordinate_scan_params=SingleCoordinateScanParams(type='SingleCoordinateScanParams', scan_params=[SingleValueScanParam(type='SingleValueScanParam', location_list=['neuron_set', 'central_neuron_id'], value=33691)], nested_coordinate_subpath_str=PosixPath('.')), type='CircuitExtraction', initialize=Initialize(type='CircuitExtractions.Initialize', circuit=Circuit(type='Circuit', name='nbS1-O1', path='/Users/pokorny/Data/Circuits/nbS1-O1/circuit_config_postfix2.json', matrix_path='/Users/pokorny/Data/ConnectivityMatrices/nbS1-O1/connectivity_matrix.h5'), run_validation=False, do_virtual=True, create_external=True, virtual_sources_to_ignore=('external_S1nonbarrel_neurons__S1nonbarrel_neurons__chemical',)), neuron_set=SimplexNeuronSet(type='SimplexNeuronSet', random_sample=None, random_seed=0, node_population=None, property_filter=NoFilter, node_sets=(), central_neuron_id=33691, dim=10, central_neuron_simplex_position='source', subsample=True, n_count_max=10, simplex_type='directed', seed=0)),\n",
       " CircuitExtraction(idx=1, scan_output_root=PosixPath('.'), coordinate_output_root=PosixPath('.'), single_coordinate_scan_params=SingleCoordinateScanParams(type='SingleCoordinateScanParams', scan_params=[SingleValueScanParam(type='SingleValueScanParam', location_list=['neuron_set', 'central_neuron_id'], value=151361)], nested_coordinate_subpath_str=PosixPath('.')), type='CircuitExtraction', initialize=Initialize(type='CircuitExtractions.Initialize', circuit=Circuit(type='Circuit', name='nbS1-O1', path='/Users/pokorny/Data/Circuits/nbS1-O1/circuit_config_postfix2.json', matrix_path='/Users/pokorny/Data/ConnectivityMatrices/nbS1-O1/connectivity_matrix.h5'), run_validation=False, do_virtual=True, create_external=True, virtual_sources_to_ignore=('external_S1nonbarrel_neurons__S1nonbarrel_neurons__chemical',)), neuron_set=SimplexNeuronSet(type='SimplexNeuronSet', random_sample=None, random_seed=0, node_population=None, property_filter=NoFilter, node_sets=(), central_neuron_id=151361, dim=10, central_neuron_simplex_position='source', subsample=True, n_count_max=10, simplex_type='directed', seed=0)),\n",
       " CircuitExtraction(idx=2, scan_output_root=PosixPath('.'), coordinate_output_root=PosixPath('.'), single_coordinate_scan_params=SingleCoordinateScanParams(type='SingleCoordinateScanParams', scan_params=[SingleValueScanParam(type='SingleValueScanParam', location_list=['neuron_set', 'central_neuron_id'], value=2625)], nested_coordinate_subpath_str=PosixPath('.')), type='CircuitExtraction', initialize=Initialize(type='CircuitExtractions.Initialize', circuit=Circuit(type='Circuit', name='nbS1-O1', path='/Users/pokorny/Data/Circuits/nbS1-O1/circuit_config_postfix2.json', matrix_path='/Users/pokorny/Data/ConnectivityMatrices/nbS1-O1/connectivity_matrix.h5'), run_validation=False, do_virtual=True, create_external=True, virtual_sources_to_ignore=('external_S1nonbarrel_neurons__S1nonbarrel_neurons__chemical',)), neuron_set=SimplexNeuronSet(type='SimplexNeuronSet', random_sample=None, random_seed=0, node_population=None, property_filter=NoFilter, node_sets=(), central_neuron_id=2625, dim=10, central_neuron_simplex_position='source', subsample=True, n_count_max=10, simplex_type='directed', seed=0)),\n",
       " CircuitExtraction(idx=3, scan_output_root=PosixPath('.'), coordinate_output_root=PosixPath('.'), single_coordinate_scan_params=SingleCoordinateScanParams(type='SingleCoordinateScanParams', scan_params=[SingleValueScanParam(type='SingleValueScanParam', location_list=['neuron_set', 'central_neuron_id'], value=116904)], nested_coordinate_subpath_str=PosixPath('.')), type='CircuitExtraction', initialize=Initialize(type='CircuitExtractions.Initialize', circuit=Circuit(type='Circuit', name='nbS1-O1', path='/Users/pokorny/Data/Circuits/nbS1-O1/circuit_config_postfix2.json', matrix_path='/Users/pokorny/Data/ConnectivityMatrices/nbS1-O1/connectivity_matrix.h5'), run_validation=False, do_virtual=True, create_external=True, virtual_sources_to_ignore=('external_S1nonbarrel_neurons__S1nonbarrel_neurons__chemical',)), neuron_set=SimplexNeuronSet(type='SimplexNeuronSet', random_sample=None, random_seed=0, node_population=None, property_filter=NoFilter, node_sets=(), central_neuron_id=116904, dim=10, central_neuron_simplex_position='source', subsample=True, n_count_max=10, simplex_type='directed', seed=0)),\n",
       " CircuitExtraction(idx=4, scan_output_root=PosixPath('.'), coordinate_output_root=PosixPath('.'), single_coordinate_scan_params=SingleCoordinateScanParams(type='SingleCoordinateScanParams', scan_params=[SingleValueScanParam(type='SingleValueScanParam', location_list=['neuron_set', 'central_neuron_id'], value=171462)], nested_coordinate_subpath_str=PosixPath('.')), type='CircuitExtraction', initialize=Initialize(type='CircuitExtractions.Initialize', circuit=Circuit(type='Circuit', name='nbS1-O1', path='/Users/pokorny/Data/Circuits/nbS1-O1/circuit_config_postfix2.json', matrix_path='/Users/pokorny/Data/ConnectivityMatrices/nbS1-O1/connectivity_matrix.h5'), run_validation=False, do_virtual=True, create_external=True, virtual_sources_to_ignore=('external_S1nonbarrel_neurons__S1nonbarrel_neurons__chemical',)), neuron_set=SimplexNeuronSet(type='SimplexNeuronSet', random_sample=None, random_seed=0, node_population=None, property_filter=NoFilter, node_sets=(), central_neuron_id=171462, dim=10, central_neuron_simplex_position='source', subsample=True, n_count_max=10, simplex_type='directed', seed=0)),\n",
       " CircuitExtraction(idx=5, scan_output_root=PosixPath('.'), coordinate_output_root=PosixPath('.'), single_coordinate_scan_params=SingleCoordinateScanParams(type='SingleCoordinateScanParams', scan_params=[SingleValueScanParam(type='SingleValueScanParam', location_list=['neuron_set', 'central_neuron_id'], value=79088)], nested_coordinate_subpath_str=PosixPath('.')), type='CircuitExtraction', initialize=Initialize(type='CircuitExtractions.Initialize', circuit=Circuit(type='Circuit', name='nbS1-O1', path='/Users/pokorny/Data/Circuits/nbS1-O1/circuit_config_postfix2.json', matrix_path='/Users/pokorny/Data/ConnectivityMatrices/nbS1-O1/connectivity_matrix.h5'), run_validation=False, do_virtual=True, create_external=True, virtual_sources_to_ignore=('external_S1nonbarrel_neurons__S1nonbarrel_neurons__chemical',)), neuron_set=SimplexNeuronSet(type='SimplexNeuronSet', random_sample=None, random_seed=0, node_population=None, property_filter=NoFilter, node_sets=(), central_neuron_id=79088, dim=10, central_neuron_simplex_position='source', subsample=True, n_count_max=10, simplex_type='directed', seed=0))]"
      ]
     },
     "execution_count": 26,
     "metadata": {},
     "output_type": "execute_result"
    }
   ],
   "source": [
    "# Display the intermediary data\n",
    "coupled_scan.multiple_value_parameters(display=True)\n",
    "coupled_scan.coordinate_parameters(display=True)\n",
    "coupled_scan.coordinate_instances(display=True)"
   ]
  },
  {
   "cell_type": "code",
   "execution_count": 27,
   "metadata": {},
   "outputs": [
    {
     "name": "stdout",
     "output_type": "stream",
     "text": [
      "[2025-06-19 10:55:11,608] INFO: None\n",
      "[2025-06-19 10:56:03,215] INFO: COMPUTE list of simplices by dimension\n",
      "> Dimension not attained using dimension 5 instead.\n",
      "Extracting subcircuit from 'nbS1-O1'\n",
      "Copying morphologies for population 'S1nonbarrel_neurons' (6)\n"
     ]
    },
    {
     "name": "stderr",
     "output_type": "stream",
     "text": [
      "Copying containerized .h5 morphologies: 100%|████████████████████████████████████████████████████| 6/6 [00:00<00:00, 676.06it/s]"
     ]
    },
    {
     "name": "stdout",
     "output_type": "stream",
     "text": [
      "Copied 6 morphologies into container (0 already existed)\n",
      "Copying 5 biophysical neuron models (.hoc) for population 'S1nonbarrel_neurons' (6)\n",
      "Copying mod files\n",
      "Extraction DONE\n"
     ]
    },
    {
     "name": "stderr",
     "output_type": "stream",
     "text": [
      "\n"
     ]
    },
    {
     "name": "stdout",
     "output_type": "stream",
     "text": [
      "[2025-06-19 11:00:03,294] INFO: COMPUTE list of simplices by dimension\n",
      "> Dimension not attained using dimension 6 instead.\n",
      "Extracting subcircuit from 'nbS1-O1'\n",
      "Copying morphologies for population 'S1nonbarrel_neurons' (7)\n"
     ]
    },
    {
     "name": "stderr",
     "output_type": "stream",
     "text": [
      "Copying containerized .h5 morphologies: 100%|████████████████████████████████████████████████████| 7/7 [00:00<00:00, 799.98it/s]"
     ]
    },
    {
     "name": "stdout",
     "output_type": "stream",
     "text": [
      "Copied 7 morphologies into container (0 already existed)\n",
      "Copying 2 biophysical neuron models (.hoc) for population 'S1nonbarrel_neurons' (7)\n",
      "Copying mod files\n",
      "Extraction DONE\n"
     ]
    },
    {
     "name": "stderr",
     "output_type": "stream",
     "text": [
      "\n"
     ]
    },
    {
     "name": "stdout",
     "output_type": "stream",
     "text": [
      "[2025-06-19 11:03:59,446] INFO: COMPUTE list of simplices by dimension\n",
      "> Dimension not attained using dimension 5 instead.\n",
      "Extracting subcircuit from 'nbS1-O1'\n",
      "Copying morphologies for population 'S1nonbarrel_neurons' (6)\n"
     ]
    },
    {
     "name": "stderr",
     "output_type": "stream",
     "text": [
      "Copying containerized .h5 morphologies: 100%|████████████████████████████████████████████████████| 6/6 [00:00<00:00, 780.55it/s]"
     ]
    },
    {
     "name": "stdout",
     "output_type": "stream",
     "text": [
      "Copied 6 morphologies into container (0 already existed)\n",
      "Copying 5 biophysical neuron models (.hoc) for population 'S1nonbarrel_neurons' (6)\n",
      "Copying mod files\n",
      "Extraction DONE\n"
     ]
    },
    {
     "name": "stderr",
     "output_type": "stream",
     "text": [
      "\n"
     ]
    },
    {
     "name": "stdout",
     "output_type": "stream",
     "text": [
      "[2025-06-19 11:07:52,351] INFO: COMPUTE list of simplices by dimension\n",
      "> Dimension not attained using dimension 5 instead.\n",
      "Extracting subcircuit from 'nbS1-O1'\n",
      "Copying morphologies for population 'S1nonbarrel_neurons' (6)\n"
     ]
    },
    {
     "name": "stderr",
     "output_type": "stream",
     "text": [
      "Copying containerized .h5 morphologies: 100%|████████████████████████████████████████████████████| 6/6 [00:00<00:00, 738.72it/s]"
     ]
    },
    {
     "name": "stdout",
     "output_type": "stream",
     "text": [
      "Copied 6 morphologies into container (0 already existed)\n",
      "Copying 3 biophysical neuron models (.hoc) for population 'S1nonbarrel_neurons' (6)\n",
      "Copying mod files\n",
      "Extraction DONE\n"
     ]
    },
    {
     "name": "stderr",
     "output_type": "stream",
     "text": [
      "\n"
     ]
    },
    {
     "name": "stdout",
     "output_type": "stream",
     "text": [
      "[2025-06-19 11:11:45,829] INFO: COMPUTE list of simplices by dimension\n",
      "> Dimension not attained using dimension 5 instead.\n",
      "Extracting subcircuit from 'nbS1-O1'\n",
      "Copying morphologies for population 'S1nonbarrel_neurons' (10)\n"
     ]
    },
    {
     "name": "stderr",
     "output_type": "stream",
     "text": [
      "Copying containerized .h5 morphologies: 100%|██████████████████████████████████████████████████| 10/10 [00:00<00:00, 436.70it/s]"
     ]
    },
    {
     "name": "stdout",
     "output_type": "stream",
     "text": [
      "Copied 10 morphologies into container (0 already existed)\n",
      "Copying 2 biophysical neuron models (.hoc) for population 'S1nonbarrel_neurons' (10)\n",
      "Copying mod files\n",
      "Extraction DONE\n"
     ]
    },
    {
     "name": "stderr",
     "output_type": "stream",
     "text": [
      "\n"
     ]
    },
    {
     "name": "stdout",
     "output_type": "stream",
     "text": [
      "[2025-06-19 11:15:42,559] INFO: COMPUTE list of simplices by dimension\n",
      "> Dimension not attained using dimension 6 instead.\n",
      "Extracting subcircuit from 'nbS1-O1'\n",
      "Copying morphologies for population 'S1nonbarrel_neurons' (7)\n"
     ]
    },
    {
     "name": "stderr",
     "output_type": "stream",
     "text": [
      "Copying containerized .h5 morphologies: 100%|████████████████████████████████████████████████████| 7/7 [00:00<00:00, 809.15it/s]"
     ]
    },
    {
     "name": "stdout",
     "output_type": "stream",
     "text": [
      "Copied 7 morphologies into container (0 already existed)\n",
      "Copying 1 biophysical neuron models (.hoc) for population 'S1nonbarrel_neurons' (7)\n",
      "Copying mod files\n",
      "Extraction DONE\n",
      "[2025-06-19 11:18:47,017] INFO: create_bbp_workflow_campaign_config() not yet complete.\n"
     ]
    },
    {
     "name": "stderr",
     "output_type": "stream",
     "text": [
      "\n"
     ]
    },
    {
     "data": {
      "text/plain": [
       "{0: None, 1: None, 2: None, 3: None, 4: None, 5: None}"
      ]
     },
     "execution_count": 27,
     "metadata": {},
     "output_type": "execute_result"
    }
   ],
   "source": [
    "coupled_scan.execute(processing_method='run')"
   ]
  },
  {
   "cell_type": "code",
   "execution_count": 29,
   "metadata": {},
   "outputs": [
    {
     "name": "stdout",
     "output_type": "stream",
     "text": [
      "L1: 6 neurons, 107 synapses, m-types: ['1xL1_NGC-DA', '1xL3_TPC:C', '1xL4_TPC', '1xL5_TPC:A', '1xL5_TPC:B', '1xL6_TPC:A']\n",
      "L2: 7 neurons, 150 synapses, m-types: ['1xL23_CHC', '4xL3_TPC:A', '2xL3_TPC:C']\n",
      "L3: 6 neurons, 99 synapses, m-types: ['1xL2_TPC:B', '1xL3_TPC:A', '3xL4_TPC', '1xL5_TPC:B']\n",
      "L4: 6 neurons, 111 synapses, m-types: ['1xL4_UPC', '3xL5_TPC:A', '1xL5_TPC:B', '1xL6_UPC']\n",
      "L5: 10 neurons, 236 synapses, m-types: ['2xL5_TPC:A', '4xL5_TPC:B', '1xL5_TPC:C', '1xL6_IPC', '2xL6_TPC:A']\n",
      "L6: 7 neurons, 163 synapses, m-types: ['2xL6_HPC', '1xL6_IPC', '3xL6_TPC:A', '1xL6_UPC']\n"
     ]
    }
   ],
   "source": [
    "# Check circuits\n",
    "from bluepysnap import Circuit\n",
    "from connalysis.network import topology\n",
    "\n",
    "for _idx, _inst in enumerate(coupled_scan.coordinate_instances()):\n",
    "    cfg = coupled_scan.output_root / str(_idx) / \"circuit_config.json\"\n",
    "    c = Circuit(cfg)\n",
    "    nodes = c.nodes['S1nonbarrel_neurons']\n",
    "    mtypes = np.unique(nodes.get(properties=['mtype']), return_counts=True)\n",
    "    mt_hist = [f\"{_c}x{_mt}\" for _mt, _c in zip(*mtypes)]\n",
    "    print(f\"L{layers[_idx]}: {nodes.size} neurons, {c.edges[\"S1nonbarrel_neurons__S1nonbarrel_neurons__chemical\"].size} synapses, m-types: {mt_hist}\")\n"
   ]
  }
 ],
 "metadata": {
  "kernelspec": {
   "display_name": "obi-one",
   "language": "python",
   "name": "obi-one"
  },
  "language_info": {
   "codemirror_mode": {
    "name": "ipython",
    "version": 3
   },
   "file_extension": ".py",
   "mimetype": "text/x-python",
   "name": "python",
   "nbconvert_exporter": "python",
   "pygments_lexer": "ipython3",
   "version": "3.12.9"
  }
 },
 "nbformat": 4,
 "nbformat_minor": 4
}
