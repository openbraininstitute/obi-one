{
 "cells": [
  {
   "cell_type": "code",
   "execution_count": 1,
   "metadata": {},
   "outputs": [
    {
     "name": "stderr",
     "output_type": "stream",
     "text": [
      "/Users/pokorny/JupyterLab/git/obi-one/.venv/lib/python3.12/site-packages/conntility/circuit_models/input_spikes.py:22: SyntaxWarning: invalid escape sequence '\\s'\n",
      "  s = pandas.read_csv(spk[\"spike_file\"], sep=\"\\s+\").rename(columns={\"/scatter\": \"node_id\"})[\"node_id\"]\n"
     ]
    }
   ],
   "source": [
    "import obi_one as obi\n",
    "import os\n",
    "import pandas as pd"
   ]
  },
  {
   "cell_type": "code",
   "execution_count": 2,
   "metadata": {},
   "outputs": [],
   "source": [
    "input_root = \"/Users/pokorny/Data/Circuits\"\n",
    "output_root = \"../../../obi-output/extracted_tiny_circuits\""
   ]
  },
  {
   "cell_type": "code",
   "execution_count": 3,
   "metadata": {},
   "outputs": [],
   "source": [
    "# # Neuron IDs for nbS1-HEX0\n",
    "# N_ids = 10\n",
    "# node_selection_files = [\"./selection1.csv\",\n",
    "#                         \"./selection2.csv\"]\n",
    "# def sel_first_n(elements, n):\n",
    "#     assert len(elements) >= n, f\"ERROR: Less than {n} elements to select from!\"\n",
    "#     return elements[:n]\n",
    "# node_id_lists = [obi.NamedTuple(name=f\"N_{N_ids}__\" + os.path.splitext(os.path.split(_f)[1])[0], elements=tuple(sel_first_n(pd.read_csv(_f)[\"node_ids\"].to_list(), N_ids))) for _f in node_selection_files]"
   ]
  },
  {
   "cell_type": "code",
   "execution_count": 16,
   "metadata": {},
   "outputs": [],
   "source": [
    "# Neuron IDs for rCA1-CYLINDER-REF\n",
    "node_id_lists = [# obi.NamedTuple(name=\"N_3__rCA1-FFInh-Sel1\", elements=(1146, 5684)),  # + virtual 64063\n",
    "                 obi.NamedTuple(name=\"N_3__rCA1-ThetaOsc-Sel1\", elements=(3903, 5712, 6026))]"
   ]
  },
  {
   "cell_type": "code",
   "execution_count": 17,
   "metadata": {},
   "outputs": [],
   "source": [
    "circuit_extractions_form = obi.CircuitExtractions(\n",
    "                    initialize=obi.CircuitExtractions.Initialize(\n",
    "                        # circuit=obi.Circuit(name=\"ToyCircuit-S1-6k\", path=os.path.join(input_root, \"ToyCircuit-S1-6k\", \"circuit_config.json\")),\n",
    "                        # circuit=obi.Circuit(name=\"nbS1-HEX0\", path=os.path.join(input_root, \"nbS1-HEX0\", \"circuit_config.json\")),\n",
    "                        circuit=obi.Circuit(name=\"rCA1-CYLINDER-REF\", path=os.path.join(input_root, \"rCA1-CYLINDER-REF\", \"circuit_config.json\")),\n",
    "                        run_validation=False,\n",
    "                    ),\n",
    "                    # neuron_set=obi.PredefinedNeuronSet(node_set=[\"Excitatory\", \"Inhibitory\"], random_sample=[100, 500]),\n",
    "                    # neuron_set=obi.PredefinedNeuronSet(node_set=[\"Layer2\", \"Layer3\", \"Layer4\", \"Layer5\", \"Layer6\"], random_sample=10),\n",
    "                    neuron_set=obi.IDNeuronSet(neuron_ids=node_id_lists)\n",
    ")\n",
    "\n",
    "grid_scan = obi.GridScan(form=circuit_extractions_form, output_root=output_root, coordinate_directory_option=\"VALUE\")"
   ]
  },
  {
   "cell_type": "code",
   "execution_count": 18,
   "metadata": {},
   "outputs": [
    {
     "name": "stdout",
     "output_type": "stream",
     "text": [
      "[2025-06-04 11:50:24,707] INFO: \n",
      "MULTIPLE VALUE PARAMETERS\n",
      "[2025-06-04 11:50:24,709] INFO: neuron_set.neuron_ids: [N_3__rCA1-ThetaOsc-Sel1]\n",
      "[2025-06-04 11:50:24,711] INFO: \n",
      "COORDINATE PARAMETERS\n",
      "[2025-06-04 11:50:24,712] INFO: neuron_set.neuron_ids: N_3__rCA1-ThetaOsc-Sel1\n",
      "[2025-06-04 11:50:24,713] INFO: \n",
      "COORDINATE INSTANCES\n",
      "[2025-06-04 11:50:24,714] INFO: CircuitExtraction(idx=0, scan_output_root=PosixPath('.'), coordinate_output_root=PosixPath('.'), single_coordinate_scan_params=SingleCoordinateScanParams(type='SingleCoordinateScanParams', scan_params=[SingleValueScanParam(type='SingleValueScanParam', location_list=['neuron_set', 'neuron_ids'], value=N_3__rCA1-ThetaOsc-Sel1)], nested_coordinate_subpath_str=PosixPath('.')), type='CircuitExtraction', neuron_set=IDNeuronSet(type='IDNeuronSet', simulation_level_name=None, random_sample=None, random_seed=0, neuron_ids=N_3__rCA1-ThetaOsc-Sel1), initialize=Initialize(type='CircuitExtractions.Initialize', circuit=Circuit(type='Circuit', name='rCA1-CYLINDER-REF', path='/Users/pokorny/Data/Circuits/rCA1-CYLINDER-REF/circuit_config.json'), run_validation=False))\n"
     ]
    },
    {
     "data": {
      "text/plain": [
       "[CircuitExtraction(idx=0, scan_output_root=PosixPath('.'), coordinate_output_root=PosixPath('.'), single_coordinate_scan_params=SingleCoordinateScanParams(type='SingleCoordinateScanParams', scan_params=[SingleValueScanParam(type='SingleValueScanParam', location_list=['neuron_set', 'neuron_ids'], value=N_3__rCA1-ThetaOsc-Sel1)], nested_coordinate_subpath_str=PosixPath('.')), type='CircuitExtraction', neuron_set=IDNeuronSet(type='IDNeuronSet', simulation_level_name=None, random_sample=None, random_seed=0, neuron_ids=N_3__rCA1-ThetaOsc-Sel1), initialize=Initialize(type='CircuitExtractions.Initialize', circuit=Circuit(type='Circuit', name='rCA1-CYLINDER-REF', path='/Users/pokorny/Data/Circuits/rCA1-CYLINDER-REF/circuit_config.json'), run_validation=False))]"
      ]
     },
     "execution_count": 18,
     "metadata": {},
     "output_type": "execute_result"
    }
   ],
   "source": [
    "# Display the intermediary data\n",
    "grid_scan.multiple_value_parameters(display=True)\n",
    "grid_scan.coordinate_parameters(display=True)\n",
    "grid_scan.coordinate_instances(display=True)"
   ]
  },
  {
   "cell_type": "code",
   "execution_count": 19,
   "metadata": {},
   "outputs": [
    {
     "name": "stdout",
     "output_type": "stream",
     "text": [
      "Extracting subcircuit from 'rCA1-CYLINDER-REF'\n",
      "Copying morphologies for population 'hippocampus_neurons' (3)\n"
     ]
    },
    {
     "name": "stderr",
     "output_type": "stream",
     "text": [
      "Copying .swc morphologies: 100%|█████████████████████████████████████████████████████████████████| 3/3 [00:00<00:00, 289.27it/s]"
     ]
    },
    {
     "name": "stdout",
     "output_type": "stream",
     "text": [
      "Copying 3 biophysical neuron models (.hoc) for population 'hippocampus_neurons' (3)\n",
      "Extraction DONE\n",
      "[2025-06-04 11:50:40,045] INFO: create_bbp_workflow_campaign_config() not yet complete.\n"
     ]
    },
    {
     "name": "stderr",
     "output_type": "stream",
     "text": [
      "\n"
     ]
    },
    {
     "data": {
      "text/plain": [
       "{0: None}"
      ]
     },
     "execution_count": 19,
     "metadata": {},
     "output_type": "execute_result"
    }
   ],
   "source": [
    "grid_scan.execute(processing_method='run')"
   ]
  },
  {
   "cell_type": "code",
   "execution_count": 25,
   "metadata": {},
   "outputs": [
    {
     "name": "stdout",
     "output_type": "stream",
     "text": [
      "N_3__rCA1-ThetaOsc-Sel1: 3 neurons, 66 synapses\n"
     ]
    }
   ],
   "source": [
    "# Check circuits\n",
    "from bluepysnap import Circuit\n",
    "\n",
    "for _inst in grid_scan.coordinate_instances():\n",
    "    cfg = grid_scan.output_root / str(_inst.neuron_set.neuron_ids) / \"circuit_config.json\"\n",
    "    c = Circuit(cfg)\n",
    "    # print(f\"{_inst.neuron_set.neuron_ids}: {c.nodes['S1nonbarrel_neurons'].size} neurons, {c.edges[\"S1nonbarrel_neurons__S1nonbarrel_neurons__chemical\"].size} synapses\")\n",
    "    print(f\"{_inst.neuron_set.neuron_ids}: {c.nodes['hippocampus_neurons'].size} neurons, {c.edges[\"hippocampus_neurons__hippocampus_neurons__chemical_synapse\"].size} synapses\")\n"
   ]
  },
  {
   "cell_type": "code",
   "execution_count": null,
   "metadata": {},
   "outputs": [],
   "source": []
  }
 ],
 "metadata": {
  "kernelspec": {
   "display_name": "obi-one",
   "language": "python",
   "name": "obi-one"
  },
  "language_info": {
   "codemirror_mode": {
    "name": "ipython",
    "version": 3
   },
   "file_extension": ".py",
   "mimetype": "text/x-python",
   "name": "python",
   "nbconvert_exporter": "python",
   "pygments_lexer": "ipython3",
   "version": "3.12.9"
  }
 },
 "nbformat": 4,
 "nbformat_minor": 4
}
