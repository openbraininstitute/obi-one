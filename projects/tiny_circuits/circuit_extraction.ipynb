{
 "cells": [
  {
   "cell_type": "code",
   "execution_count": 1,
   "metadata": {},
   "outputs": [],
   "source": [
    "import obi_one as obi\n",
    "import os\n",
    "import pandas as pd"
   ]
  },
  {
   "cell_type": "code",
   "execution_count": 2,
   "metadata": {},
   "outputs": [],
   "source": [
    "input_root = \"/Users/pokorny/Data/Circuits\"\n",
    "output_root = \"../../../obi-output/extracted_subcircuits\""
   ]
  },
  {
   "cell_type": "code",
   "execution_count": 3,
   "metadata": {},
   "outputs": [],
   "source": [
    "node_selection_files = [\"./top_rc_nodes_dim2_rc.csv\",\n",
    "                        \"./top_nodes_dim6.csv\"]\n",
    "node_id_lists = [tuple(pd.read_csv(_f)[\"node_ids\"].to_list()) for _f in node_selection_files]"
   ]
  },
  {
   "cell_type": "code",
   "execution_count": 4,
   "metadata": {},
   "outputs": [],
   "source": [
    "circuit_extractions_form = obi.CircuitExtractions(\n",
    "                    initialize=obi.CircuitExtractions.Initialize(\n",
    "                        # circuit=obi.Circuit(name=\"ToyCircuit-S1-6k\", path=os.path.join(input_root, \"ToyCircuit-S1-6k\", \"circuit_config.json\")),\n",
    "                        circuit=obi.Circuit(name=\"nbS1-HEX0\", path=os.path.join(input_root, \"nbS1-HEX0\", \"circuit_config.json\")),\n",
    "                        run_validation=False,\n",
    "                    ),\n",
    "                    # neuron_set=obi.PredefinedNeuronSet(node_set=[\"Excitatory\", \"Inhibitory\"], random_sample=[100, 500]),\n",
    "                    # neuron_set=obi.PredefinedNeuronSet(node_set=[\"Layer2\", \"Layer3\", \"Layer4\", \"Layer5\", \"Layer6\"], random_sample=10),\n",
    "                    neuron_set=obi.IDNeuronSet(neuron_ids=node_id_lists)\n",
    ")\n",
    "\n",
    "grid_scan = obi.GridScan(form=circuit_extractions_form, output_root='../../../obi-output/circuit_extraction/grid_scan')"
   ]
  },
  {
   "cell_type": "code",
   "execution_count": 5,
   "metadata": {},
   "outputs": [
    {
     "name": "stdout",
     "output_type": "stream",
     "text": [
      "\n",
      "MULTIPLE VALUE PARAMETERS\n",
      "neuron_set.neuron_ids: [(13124, 2190, 5835, 5880, 6527, 10445, 13489, 13578, 618, 2338, 5243, 12956, 15826, 16963, 26164, 369, 1625, 1644, 2378, 5274), (11344, 13249, 10670, 12936, 10997, 3509, 5525, 6113, 12358, 13478, 13707, 5400, 5402, 6124, 6505, 8197, 11546, 11661, 13597, 14757)]\n",
      "\n",
      "COORDINATE PARAMETERS\n",
      "neuron_set.neuron_ids: (13124, 2190, 5835, 5880, 6527, 10445, 13489, 13578, 618, 2338, 5243, 12956, 15826, 16963, 26164, 369, 1625, 1644, 2378, 5274)\n",
      "neuron_set.neuron_ids: (11344, 13249, 10670, 12936, 10997, 3509, 5525, 6113, 12358, 13478, 13707, 5400, 5402, 6124, 6505, 8197, 11546, 11661, 13597, 14757)\n",
      "\n",
      "COORDINATE INSTANCES\n",
      "CircuitExtraction(idx=0, scan_output_root=PosixPath('.'), coordinate_output_root=PosixPath('.'), coordinate_directory_option='NAME_EQUALS_VALUE', single_coordinate_scan_params=SingleCoordinateScanParams(type='SingleCoordinateScanParams', scan_params=[SingleValueScanParam(type='SingleValueScanParam', location_list=['neuron_set', 'neuron_ids'], value=(13124, 2190, 5835, 5880, 6527, 10445, 13489, 13578, 618, 2338, 5243, 12956, 15826, 16963, 26164, 369, 1625, 1644, 2378, 5274))], nested_coordinate_subpath_str=PosixPath('.')), type='CircuitExtraction', neuron_set=IDNeuronSet(type='IDNeuronSet', simulation_level_name=None, random_sample=None, random_seed=0, neuron_ids=(13124, 2190, 5835, 5880, 6527, 10445, 13489, 13578, 618, 2338, 5243, 12956, 15826, 16963, 26164, 369, 1625, 1644, 2378, 5274)), initialize=Initialize(type='CircuitExtractions.Initialize', circuit=Circuit(type='Circuit', name='nbS1-HEX0', path='/Users/pokorny/Data/Circuits/nbS1-HEX0/circuit_config.json'), run_validation=False))\n",
      "CircuitExtraction(idx=1, scan_output_root=PosixPath('.'), coordinate_output_root=PosixPath('.'), coordinate_directory_option='NAME_EQUALS_VALUE', single_coordinate_scan_params=SingleCoordinateScanParams(type='SingleCoordinateScanParams', scan_params=[SingleValueScanParam(type='SingleValueScanParam', location_list=['neuron_set', 'neuron_ids'], value=(11344, 13249, 10670, 12936, 10997, 3509, 5525, 6113, 12358, 13478, 13707, 5400, 5402, 6124, 6505, 8197, 11546, 11661, 13597, 14757))], nested_coordinate_subpath_str=PosixPath('.')), type='CircuitExtraction', neuron_set=IDNeuronSet(type='IDNeuronSet', simulation_level_name=None, random_sample=None, random_seed=0, neuron_ids=(11344, 13249, 10670, 12936, 10997, 3509, 5525, 6113, 12358, 13478, 13707, 5400, 5402, 6124, 6505, 8197, 11546, 11661, 13597, 14757)), initialize=Initialize(type='CircuitExtractions.Initialize', circuit=Circuit(type='Circuit', name='nbS1-HEX0', path='/Users/pokorny/Data/Circuits/nbS1-HEX0/circuit_config.json'), run_validation=False))\n"
     ]
    },
    {
     "data": {
      "text/plain": [
       "[CircuitExtraction(idx=0, scan_output_root=PosixPath('.'), coordinate_output_root=PosixPath('.'), coordinate_directory_option='NAME_EQUALS_VALUE', single_coordinate_scan_params=SingleCoordinateScanParams(type='SingleCoordinateScanParams', scan_params=[SingleValueScanParam(type='SingleValueScanParam', location_list=['neuron_set', 'neuron_ids'], value=(13124, 2190, 5835, 5880, 6527, 10445, 13489, 13578, 618, 2338, 5243, 12956, 15826, 16963, 26164, 369, 1625, 1644, 2378, 5274))], nested_coordinate_subpath_str=PosixPath('.')), type='CircuitExtraction', neuron_set=IDNeuronSet(type='IDNeuronSet', simulation_level_name=None, random_sample=None, random_seed=0, neuron_ids=(13124, 2190, 5835, 5880, 6527, 10445, 13489, 13578, 618, 2338, 5243, 12956, 15826, 16963, 26164, 369, 1625, 1644, 2378, 5274)), initialize=Initialize(type='CircuitExtractions.Initialize', circuit=Circuit(type='Circuit', name='nbS1-HEX0', path='/Users/pokorny/Data/Circuits/nbS1-HEX0/circuit_config.json'), run_validation=False)),\n",
       " CircuitExtraction(idx=1, scan_output_root=PosixPath('.'), coordinate_output_root=PosixPath('.'), coordinate_directory_option='NAME_EQUALS_VALUE', single_coordinate_scan_params=SingleCoordinateScanParams(type='SingleCoordinateScanParams', scan_params=[SingleValueScanParam(type='SingleValueScanParam', location_list=['neuron_set', 'neuron_ids'], value=(11344, 13249, 10670, 12936, 10997, 3509, 5525, 6113, 12358, 13478, 13707, 5400, 5402, 6124, 6505, 8197, 11546, 11661, 13597, 14757))], nested_coordinate_subpath_str=PosixPath('.')), type='CircuitExtraction', neuron_set=IDNeuronSet(type='IDNeuronSet', simulation_level_name=None, random_sample=None, random_seed=0, neuron_ids=(11344, 13249, 10670, 12936, 10997, 3509, 5525, 6113, 12358, 13478, 13707, 5400, 5402, 6124, 6505, 8197, 11546, 11661, 13597, 14757)), initialize=Initialize(type='CircuitExtractions.Initialize', circuit=Circuit(type='Circuit', name='nbS1-HEX0', path='/Users/pokorny/Data/Circuits/nbS1-HEX0/circuit_config.json'), run_validation=False))]"
      ]
     },
     "execution_count": 5,
     "metadata": {},
     "output_type": "execute_result"
    }
   ],
   "source": [
    "# Display the intermediary data\n",
    "grid_scan.multiple_value_parameters(display=True)\n",
    "grid_scan.coordinate_parameters(display=True)\n",
    "grid_scan.coordinate_instances(display=True)"
   ]
  },
  {
   "cell_type": "code",
   "execution_count": 15,
   "metadata": {},
   "outputs": [
    {
     "name": "stdout",
     "output_type": "stream",
     "text": [
      "Extracting subcircuit from 'nbS1-HEX0'\n",
      "Copying morphologies for population 'S1nonbarrel_neurons' (20)\n",
      "Copying biophysical_neuron_models for population 'S1nonbarrel_neurons' (20)\n",
      "Copying mod files\n",
      "Extraction DONE\n",
      "Extracting subcircuit from 'nbS1-HEX0'\n",
      "Copying morphologies for population 'S1nonbarrel_neurons' (20)\n",
      "Copying biophysical_neuron_models for population 'S1nonbarrel_neurons' (20)\n",
      "Copying mod files\n",
      "Extraction DONE\n",
      "create_bbp_workflow_campaign_config() not yet complete.\n"
     ]
    },
    {
     "data": {
      "text/plain": [
       "{0: None, 1: None}"
      ]
     },
     "execution_count": 15,
     "metadata": {},
     "output_type": "execute_result"
    }
   ],
   "source": [
    "grid_scan.execute(processing_method='run')"
   ]
  },
  {
   "cell_type": "code",
   "execution_count": null,
   "metadata": {},
   "outputs": [],
   "source": []
  }
 ],
 "metadata": {
  "kernelspec": {
   "display_name": "obi-one",
   "language": "python",
   "name": "obi-one"
  },
  "language_info": {
   "codemirror_mode": {
    "name": "ipython",
    "version": 3
   },
   "file_extension": ".py",
   "mimetype": "text/x-python",
   "name": "python",
   "nbconvert_exporter": "python",
   "pygments_lexer": "ipython3",
   "version": "3.12.9"
  }
 },
 "nbformat": 4,
 "nbformat_minor": 4
}
