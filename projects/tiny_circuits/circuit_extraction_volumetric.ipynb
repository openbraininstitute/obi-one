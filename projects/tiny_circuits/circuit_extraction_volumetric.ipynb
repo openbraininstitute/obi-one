{
 "cells": [
  {
   "cell_type": "code",
   "execution_count": 1,
   "metadata": {},
   "outputs": [],
   "source": [
    "import numpy as np\n",
    "import obi_one as obi\n",
    "import os\n",
    "import pandas as pd\n",
    "from conntility.connectivity import ConnectivityMatrix"
   ]
  },
  {
   "cell_type": "code",
   "execution_count": 2,
   "metadata": {},
   "outputs": [],
   "source": [
    "input_root = \"/Users/pokorny/Data/Circuits\"\n",
    "cmat_root = \"/Users/pokorny/Data/ConnectivityMatrices\"\n",
    "output_root = \"../../../obi-output/extracted_small_microcircuits_volumetric\""
   ]
  },
  {
   "cell_type": "code",
   "execution_count": 3,
   "metadata": {},
   "outputs": [],
   "source": [
    "# Compute population centroid\n",
    "circuit = obi.Circuit(name=\"nbS1-O1\", path=os.path.join(input_root, \"nbS1-O1\", \"circuit_config_postfix2.json\"))\n",
    "c = circuit.sonata_circuit\n",
    "nodes = c.nodes[circuit.default_population_name]\n",
    "population_centroid = nodes.positions().mean()"
   ]
  },
  {
   "cell_type": "code",
   "execution_count": 4,
   "metadata": {},
   "outputs": [],
   "source": [
    "# nbS1-O1\n",
    "df_sel = pd.read_pickle(\"Top10CentralNeurons_Layer_Hex.pkl\")  # (Contains neuron IDs relative to nbS1-HEXn)\n",
    "df_opt = pd.read_pickle(\"Top10CentralNeurons_Layer_Hex_OptIDX.pkl\")\n",
    "\n",
    "# Load x/y/z positions from connectivity matrix and select best neuron in each layer\n",
    "base_name = \"nbS1\"\n",
    "hex_sel = \"hex0\"\n",
    "layers = range(1, 7)\n",
    "cmat = ConnectivityMatrix.from_h5(os.path.join(cmat_root, f\"{base_name}-{hex_sel.upper()}\", \"connectivity_matrix.h5\"))\n",
    "ntab = cmat.vertices.set_index(\"node_ids\")\n",
    "\n",
    "xyz_selection = []\n",
    "for _lay in layers:\n",
    "    opt_idx = df_opt.loc[(hex_sel, _lay)][\"pos\"]\n",
    "    node_id = df_sel[(\"hex0\", _lay)].iloc[opt_idx].tolist()\n",
    "    xyz_selection.append(ntab.loc[node_id][[\"x\", \"y\", \"z\"]].astype(float).to_list())\n",
    "    assert ntab.loc[node_id][\"layer\"] == str(_lay), \"ERROR: Layer mismatch!\"\n",
    "xyz_selection = pd.DataFrame(xyz_selection, columns=[\"x\", \"y\", \"z\"], index=layers) - population_centroid  # Relative to population centroid\n",
    "xyz_selection.index.name = \"layer\""
   ]
  },
  {
   "cell_type": "code",
   "execution_count": 5,
   "metadata": {},
   "outputs": [],
   "source": [
    "# Set up volumetric neuron sets\n",
    "N = 10\n",
    "volumetric_neuron_sets = obi.VolumetricCountNeuronSet(ox=xyz_selection[\"x\"].to_list(), oy=xyz_selection[\"y\"].to_list(), oz=xyz_selection[\"z\"].to_list(), n=N,\n",
    "                                                      property_filter=obi.scientific.circuit.neuron_sets.NeuronPropertyFilter(filter_dict={}))\n",
    "virtual_sources_to_ignore = [(\"external_S1nonbarrel_neurons__S1nonbarrel_neurons__chemical\", \"VPM\") if _lay == 1 else (\"external_S1nonbarrel_neurons__S1nonbarrel_neurons__chemical\", ) for _lay in layers]"
   ]
  },
  {
   "cell_type": "code",
   "execution_count": 6,
   "metadata": {},
   "outputs": [],
   "source": [
    "# # nbS1-O1 - PLOTTING\n",
    "# # cmat_O1 = ConnectivityMatrix.from_h5(os.path.join(cmat_root, f\"{base_name}-O1\", \"connectivity_matrix.h5\"))\n",
    "\n",
    "# # Load x/y/z positions from connectivity matrix\n",
    "# base_name = \"nbS1\"\n",
    "# plt.figure()\n",
    "# for hex_sel in [f\"hex{_i}\" for _i in range(7)]:\n",
    "#     cmat = ConnectivityMatrix.from_h5(os.path.join(cmat_root, f\"{base_name}-{hex_sel.upper()}\", \"connectivity_matrix.h5\"))\n",
    "#     plt.plot(cmat.vertices[\"y\"], cmat.vertices[\"z\"], '.')\n",
    "# # plt.plot(cmat_O1.vertices[\"y\"], cmat_O1.vertices[\"z\"], ',k')\n",
    "# # plt.plot(xyz_selection[\"y\"], xyz_selection[\"z\"], \"xk\")\n",
    "# plt.show()\n",
    "\n",
    "# # df_sel[(\"hex0\", 1)]"
   ]
  },
  {
   "cell_type": "code",
   "execution_count": 7,
   "metadata": {},
   "outputs": [],
   "source": [
    "circuit_extractions_form = obi.CircuitExtractions(\n",
    "                    initialize=obi.CircuitExtractions.Initialize(\n",
    "                        circuit=circuit,\n",
    "                        run_validation=False,\n",
    "                        do_virtual=True,\n",
    "                        create_external=True,\n",
    "                        virtual_sources_to_ignore=virtual_sources_to_ignore,\n",
    "                    ),\n",
    "                    # neuron_set=obi.PredefinedNeuronSet(node_set=[\"Excitatory\", \"Inhibitory\"], random_sample=[100, 500]),\n",
    "                    # neuron_set=obi.PredefinedNeuronSet(node_set=[\"Layer2\", \"Layer3\", \"Layer4\", \"Layer5\", \"Layer6\"], random_sample=10),\n",
    "                    # neuron_set=obi.IDNeuronSet(neuron_ids=node_id_lists),\n",
    "                    neuron_set=volumetric_neuron_sets\n",
    ")\n",
    "\n",
    "coupled_scan = obi.CoupledScan(form=circuit_extractions_form, output_root=output_root, coordinate_directory_option=\"ZERO_INDEX\")"
   ]
  },
  {
   "cell_type": "code",
   "execution_count": 8,
   "metadata": {},
   "outputs": [
    {
     "name": "stdout",
     "output_type": "stream",
     "text": [
      "[2025-06-11 18:00:39,975] INFO: \n",
      "MULTIPLE VALUE PARAMETERS\n",
      "[2025-06-11 18:00:39,977] INFO: neuron_set.ox: [723.5147043713164, 456.74954380015106, 496.86043927062155, 164.0458458805274, -111.82257508700832, -367.728748031805]\n",
      "[2025-06-11 18:00:39,978] INFO: neuron_set.oy: [-136.48814337810632, -204.13295856910258, -65.5996708227492, -228.95787402852488, -134.55755720016236, 225.80812622163035]\n",
      "[2025-06-11 18:00:39,979] INFO: neuron_set.oz: [559.3665277368043, 544.6067321151927, 438.3645986873328, 253.1818605500871, -259.3746148238397, -453.693623150381]\n",
      "[2025-06-11 18:00:39,980] INFO: initialize.virtual_sources_to_ignore: [('external_S1nonbarrel_neurons__S1nonbarrel_neurons__chemical', 'VPM'), ('external_S1nonbarrel_neurons__S1nonbarrel_neurons__chemical',), ('external_S1nonbarrel_neurons__S1nonbarrel_neurons__chemical',), ('external_S1nonbarrel_neurons__S1nonbarrel_neurons__chemical',), ('external_S1nonbarrel_neurons__S1nonbarrel_neurons__chemical',), ('external_S1nonbarrel_neurons__S1nonbarrel_neurons__chemical',)]\n",
      "[2025-06-11 18:00:39,981] INFO: \n",
      "COORDINATE PARAMETERS\n",
      "[2025-06-11 18:00:39,982] INFO: neuron_set.ox: 723.5147043713164, neuron_set.oy: -136.48814337810632, neuron_set.oz: 559.3665277368043, initialize.virtual_sources_to_ignore: ('external_S1nonbarrel_neurons__S1nonbarrel_neurons__chemical', 'VPM')\n",
      "[2025-06-11 18:00:39,983] INFO: neuron_set.ox: 456.74954380015106, neuron_set.oy: -204.13295856910258, neuron_set.oz: 544.6067321151927, initialize.virtual_sources_to_ignore: ('external_S1nonbarrel_neurons__S1nonbarrel_neurons__chemical',)\n",
      "[2025-06-11 18:00:39,983] INFO: neuron_set.ox: 496.86043927062155, neuron_set.oy: -65.5996708227492, neuron_set.oz: 438.3645986873328, initialize.virtual_sources_to_ignore: ('external_S1nonbarrel_neurons__S1nonbarrel_neurons__chemical',)\n",
      "[2025-06-11 18:00:39,983] INFO: neuron_set.ox: 164.0458458805274, neuron_set.oy: -228.95787402852488, neuron_set.oz: 253.1818605500871, initialize.virtual_sources_to_ignore: ('external_S1nonbarrel_neurons__S1nonbarrel_neurons__chemical',)\n",
      "[2025-06-11 18:00:39,984] INFO: neuron_set.ox: -111.82257508700832, neuron_set.oy: -134.55755720016236, neuron_set.oz: -259.3746148238397, initialize.virtual_sources_to_ignore: ('external_S1nonbarrel_neurons__S1nonbarrel_neurons__chemical',)\n",
      "[2025-06-11 18:00:39,984] INFO: neuron_set.ox: -367.728748031805, neuron_set.oy: 225.80812622163035, neuron_set.oz: -453.693623150381, initialize.virtual_sources_to_ignore: ('external_S1nonbarrel_neurons__S1nonbarrel_neurons__chemical',)\n",
      "[2025-06-11 18:00:39,986] INFO: \n",
      "COORDINATE INSTANCES\n",
      "[2025-06-11 18:00:39,987] INFO: CircuitExtraction(idx=0, scan_output_root=PosixPath('.'), coordinate_output_root=PosixPath('.'), single_coordinate_scan_params=SingleCoordinateScanParams(type='SingleCoordinateScanParams', scan_params=[SingleValueScanParam(type='SingleValueScanParam', location_list=['neuron_set', 'ox'], value=723.5147043713164), SingleValueScanParam(type='SingleValueScanParam', location_list=['neuron_set', 'oy'], value=-136.48814337810632), SingleValueScanParam(type='SingleValueScanParam', location_list=['neuron_set', 'oz'], value=559.3665277368043), SingleValueScanParam(type='SingleValueScanParam', location_list=['initialize', 'virtual_sources_to_ignore'], value=('external_S1nonbarrel_neurons__S1nonbarrel_neurons__chemical', 'VPM'))], nested_coordinate_subpath_str=PosixPath('.')), type='CircuitExtraction', neuron_set=VolumetricCountNeuronSet(type='VolumetricCountNeuronSet', simulation_level_name=None, random_sample=None, random_seed=0, property_filter=NoFilter, node_sets=(), ox=723.5147043713164, oy=-136.48814337810632, oz=559.3665277368043, n=10, columns_xyz=('x', 'y', 'z')), initialize=Initialize(type='CircuitExtractions.Initialize', circuit=Circuit(type='Circuit', name='nbS1-O1', path='/Users/pokorny/Data/Circuits/nbS1-O1/circuit_config_postfix2.json', matrix_path=None), run_validation=False, do_virtual=True, create_external=True, virtual_sources_to_ignore=('external_S1nonbarrel_neurons__S1nonbarrel_neurons__chemical', 'VPM')))\n",
      "[2025-06-11 18:00:39,988] INFO: CircuitExtraction(idx=1, scan_output_root=PosixPath('.'), coordinate_output_root=PosixPath('.'), single_coordinate_scan_params=SingleCoordinateScanParams(type='SingleCoordinateScanParams', scan_params=[SingleValueScanParam(type='SingleValueScanParam', location_list=['neuron_set', 'ox'], value=456.74954380015106), SingleValueScanParam(type='SingleValueScanParam', location_list=['neuron_set', 'oy'], value=-204.13295856910258), SingleValueScanParam(type='SingleValueScanParam', location_list=['neuron_set', 'oz'], value=544.6067321151927), SingleValueScanParam(type='SingleValueScanParam', location_list=['initialize', 'virtual_sources_to_ignore'], value=('external_S1nonbarrel_neurons__S1nonbarrel_neurons__chemical',))], nested_coordinate_subpath_str=PosixPath('.')), type='CircuitExtraction', neuron_set=VolumetricCountNeuronSet(type='VolumetricCountNeuronSet', simulation_level_name=None, random_sample=None, random_seed=0, property_filter=NoFilter, node_sets=(), ox=456.74954380015106, oy=-204.13295856910258, oz=544.6067321151927, n=10, columns_xyz=('x', 'y', 'z')), initialize=Initialize(type='CircuitExtractions.Initialize', circuit=Circuit(type='Circuit', name='nbS1-O1', path='/Users/pokorny/Data/Circuits/nbS1-O1/circuit_config_postfix2.json', matrix_path=None), run_validation=False, do_virtual=True, create_external=True, virtual_sources_to_ignore=('external_S1nonbarrel_neurons__S1nonbarrel_neurons__chemical',)))\n",
      "[2025-06-11 18:00:39,988] INFO: CircuitExtraction(idx=2, scan_output_root=PosixPath('.'), coordinate_output_root=PosixPath('.'), single_coordinate_scan_params=SingleCoordinateScanParams(type='SingleCoordinateScanParams', scan_params=[SingleValueScanParam(type='SingleValueScanParam', location_list=['neuron_set', 'ox'], value=496.86043927062155), SingleValueScanParam(type='SingleValueScanParam', location_list=['neuron_set', 'oy'], value=-65.5996708227492), SingleValueScanParam(type='SingleValueScanParam', location_list=['neuron_set', 'oz'], value=438.3645986873328), SingleValueScanParam(type='SingleValueScanParam', location_list=['initialize', 'virtual_sources_to_ignore'], value=('external_S1nonbarrel_neurons__S1nonbarrel_neurons__chemical',))], nested_coordinate_subpath_str=PosixPath('.')), type='CircuitExtraction', neuron_set=VolumetricCountNeuronSet(type='VolumetricCountNeuronSet', simulation_level_name=None, random_sample=None, random_seed=0, property_filter=NoFilter, node_sets=(), ox=496.86043927062155, oy=-65.5996708227492, oz=438.3645986873328, n=10, columns_xyz=('x', 'y', 'z')), initialize=Initialize(type='CircuitExtractions.Initialize', circuit=Circuit(type='Circuit', name='nbS1-O1', path='/Users/pokorny/Data/Circuits/nbS1-O1/circuit_config_postfix2.json', matrix_path=None), run_validation=False, do_virtual=True, create_external=True, virtual_sources_to_ignore=('external_S1nonbarrel_neurons__S1nonbarrel_neurons__chemical',)))\n",
      "[2025-06-11 18:00:39,989] INFO: CircuitExtraction(idx=3, scan_output_root=PosixPath('.'), coordinate_output_root=PosixPath('.'), single_coordinate_scan_params=SingleCoordinateScanParams(type='SingleCoordinateScanParams', scan_params=[SingleValueScanParam(type='SingleValueScanParam', location_list=['neuron_set', 'ox'], value=164.0458458805274), SingleValueScanParam(type='SingleValueScanParam', location_list=['neuron_set', 'oy'], value=-228.95787402852488), SingleValueScanParam(type='SingleValueScanParam', location_list=['neuron_set', 'oz'], value=253.1818605500871), SingleValueScanParam(type='SingleValueScanParam', location_list=['initialize', 'virtual_sources_to_ignore'], value=('external_S1nonbarrel_neurons__S1nonbarrel_neurons__chemical',))], nested_coordinate_subpath_str=PosixPath('.')), type='CircuitExtraction', neuron_set=VolumetricCountNeuronSet(type='VolumetricCountNeuronSet', simulation_level_name=None, random_sample=None, random_seed=0, property_filter=NoFilter, node_sets=(), ox=164.0458458805274, oy=-228.95787402852488, oz=253.1818605500871, n=10, columns_xyz=('x', 'y', 'z')), initialize=Initialize(type='CircuitExtractions.Initialize', circuit=Circuit(type='Circuit', name='nbS1-O1', path='/Users/pokorny/Data/Circuits/nbS1-O1/circuit_config_postfix2.json', matrix_path=None), run_validation=False, do_virtual=True, create_external=True, virtual_sources_to_ignore=('external_S1nonbarrel_neurons__S1nonbarrel_neurons__chemical',)))\n",
      "[2025-06-11 18:00:39,990] INFO: CircuitExtraction(idx=4, scan_output_root=PosixPath('.'), coordinate_output_root=PosixPath('.'), single_coordinate_scan_params=SingleCoordinateScanParams(type='SingleCoordinateScanParams', scan_params=[SingleValueScanParam(type='SingleValueScanParam', location_list=['neuron_set', 'ox'], value=-111.82257508700832), SingleValueScanParam(type='SingleValueScanParam', location_list=['neuron_set', 'oy'], value=-134.55755720016236), SingleValueScanParam(type='SingleValueScanParam', location_list=['neuron_set', 'oz'], value=-259.3746148238397), SingleValueScanParam(type='SingleValueScanParam', location_list=['initialize', 'virtual_sources_to_ignore'], value=('external_S1nonbarrel_neurons__S1nonbarrel_neurons__chemical',))], nested_coordinate_subpath_str=PosixPath('.')), type='CircuitExtraction', neuron_set=VolumetricCountNeuronSet(type='VolumetricCountNeuronSet', simulation_level_name=None, random_sample=None, random_seed=0, property_filter=NoFilter, node_sets=(), ox=-111.82257508700832, oy=-134.55755720016236, oz=-259.3746148238397, n=10, columns_xyz=('x', 'y', 'z')), initialize=Initialize(type='CircuitExtractions.Initialize', circuit=Circuit(type='Circuit', name='nbS1-O1', path='/Users/pokorny/Data/Circuits/nbS1-O1/circuit_config_postfix2.json', matrix_path=None), run_validation=False, do_virtual=True, create_external=True, virtual_sources_to_ignore=('external_S1nonbarrel_neurons__S1nonbarrel_neurons__chemical',)))\n",
      "[2025-06-11 18:00:39,990] INFO: CircuitExtraction(idx=5, scan_output_root=PosixPath('.'), coordinate_output_root=PosixPath('.'), single_coordinate_scan_params=SingleCoordinateScanParams(type='SingleCoordinateScanParams', scan_params=[SingleValueScanParam(type='SingleValueScanParam', location_list=['neuron_set', 'ox'], value=-367.728748031805), SingleValueScanParam(type='SingleValueScanParam', location_list=['neuron_set', 'oy'], value=225.80812622163035), SingleValueScanParam(type='SingleValueScanParam', location_list=['neuron_set', 'oz'], value=-453.693623150381), SingleValueScanParam(type='SingleValueScanParam', location_list=['initialize', 'virtual_sources_to_ignore'], value=('external_S1nonbarrel_neurons__S1nonbarrel_neurons__chemical',))], nested_coordinate_subpath_str=PosixPath('.')), type='CircuitExtraction', neuron_set=VolumetricCountNeuronSet(type='VolumetricCountNeuronSet', simulation_level_name=None, random_sample=None, random_seed=0, property_filter=NoFilter, node_sets=(), ox=-367.728748031805, oy=225.80812622163035, oz=-453.693623150381, n=10, columns_xyz=('x', 'y', 'z')), initialize=Initialize(type='CircuitExtractions.Initialize', circuit=Circuit(type='Circuit', name='nbS1-O1', path='/Users/pokorny/Data/Circuits/nbS1-O1/circuit_config_postfix2.json', matrix_path=None), run_validation=False, do_virtual=True, create_external=True, virtual_sources_to_ignore=('external_S1nonbarrel_neurons__S1nonbarrel_neurons__chemical',)))\n"
     ]
    },
    {
     "data": {
      "text/plain": [
       "[CircuitExtraction(idx=0, scan_output_root=PosixPath('.'), coordinate_output_root=PosixPath('.'), single_coordinate_scan_params=SingleCoordinateScanParams(type='SingleCoordinateScanParams', scan_params=[SingleValueScanParam(type='SingleValueScanParam', location_list=['neuron_set', 'ox'], value=723.5147043713164), SingleValueScanParam(type='SingleValueScanParam', location_list=['neuron_set', 'oy'], value=-136.48814337810632), SingleValueScanParam(type='SingleValueScanParam', location_list=['neuron_set', 'oz'], value=559.3665277368043), SingleValueScanParam(type='SingleValueScanParam', location_list=['initialize', 'virtual_sources_to_ignore'], value=('external_S1nonbarrel_neurons__S1nonbarrel_neurons__chemical', 'VPM'))], nested_coordinate_subpath_str=PosixPath('.')), type='CircuitExtraction', neuron_set=VolumetricCountNeuronSet(type='VolumetricCountNeuronSet', simulation_level_name=None, random_sample=None, random_seed=0, property_filter=NoFilter, node_sets=(), ox=723.5147043713164, oy=-136.48814337810632, oz=559.3665277368043, n=10, columns_xyz=('x', 'y', 'z')), initialize=Initialize(type='CircuitExtractions.Initialize', circuit=Circuit(type='Circuit', name='nbS1-O1', path='/Users/pokorny/Data/Circuits/nbS1-O1/circuit_config_postfix2.json', matrix_path=None), run_validation=False, do_virtual=True, create_external=True, virtual_sources_to_ignore=('external_S1nonbarrel_neurons__S1nonbarrel_neurons__chemical', 'VPM'))),\n",
       " CircuitExtraction(idx=1, scan_output_root=PosixPath('.'), coordinate_output_root=PosixPath('.'), single_coordinate_scan_params=SingleCoordinateScanParams(type='SingleCoordinateScanParams', scan_params=[SingleValueScanParam(type='SingleValueScanParam', location_list=['neuron_set', 'ox'], value=456.74954380015106), SingleValueScanParam(type='SingleValueScanParam', location_list=['neuron_set', 'oy'], value=-204.13295856910258), SingleValueScanParam(type='SingleValueScanParam', location_list=['neuron_set', 'oz'], value=544.6067321151927), SingleValueScanParam(type='SingleValueScanParam', location_list=['initialize', 'virtual_sources_to_ignore'], value=('external_S1nonbarrel_neurons__S1nonbarrel_neurons__chemical',))], nested_coordinate_subpath_str=PosixPath('.')), type='CircuitExtraction', neuron_set=VolumetricCountNeuronSet(type='VolumetricCountNeuronSet', simulation_level_name=None, random_sample=None, random_seed=0, property_filter=NoFilter, node_sets=(), ox=456.74954380015106, oy=-204.13295856910258, oz=544.6067321151927, n=10, columns_xyz=('x', 'y', 'z')), initialize=Initialize(type='CircuitExtractions.Initialize', circuit=Circuit(type='Circuit', name='nbS1-O1', path='/Users/pokorny/Data/Circuits/nbS1-O1/circuit_config_postfix2.json', matrix_path=None), run_validation=False, do_virtual=True, create_external=True, virtual_sources_to_ignore=('external_S1nonbarrel_neurons__S1nonbarrel_neurons__chemical',))),\n",
       " CircuitExtraction(idx=2, scan_output_root=PosixPath('.'), coordinate_output_root=PosixPath('.'), single_coordinate_scan_params=SingleCoordinateScanParams(type='SingleCoordinateScanParams', scan_params=[SingleValueScanParam(type='SingleValueScanParam', location_list=['neuron_set', 'ox'], value=496.86043927062155), SingleValueScanParam(type='SingleValueScanParam', location_list=['neuron_set', 'oy'], value=-65.5996708227492), SingleValueScanParam(type='SingleValueScanParam', location_list=['neuron_set', 'oz'], value=438.3645986873328), SingleValueScanParam(type='SingleValueScanParam', location_list=['initialize', 'virtual_sources_to_ignore'], value=('external_S1nonbarrel_neurons__S1nonbarrel_neurons__chemical',))], nested_coordinate_subpath_str=PosixPath('.')), type='CircuitExtraction', neuron_set=VolumetricCountNeuronSet(type='VolumetricCountNeuronSet', simulation_level_name=None, random_sample=None, random_seed=0, property_filter=NoFilter, node_sets=(), ox=496.86043927062155, oy=-65.5996708227492, oz=438.3645986873328, n=10, columns_xyz=('x', 'y', 'z')), initialize=Initialize(type='CircuitExtractions.Initialize', circuit=Circuit(type='Circuit', name='nbS1-O1', path='/Users/pokorny/Data/Circuits/nbS1-O1/circuit_config_postfix2.json', matrix_path=None), run_validation=False, do_virtual=True, create_external=True, virtual_sources_to_ignore=('external_S1nonbarrel_neurons__S1nonbarrel_neurons__chemical',))),\n",
       " CircuitExtraction(idx=3, scan_output_root=PosixPath('.'), coordinate_output_root=PosixPath('.'), single_coordinate_scan_params=SingleCoordinateScanParams(type='SingleCoordinateScanParams', scan_params=[SingleValueScanParam(type='SingleValueScanParam', location_list=['neuron_set', 'ox'], value=164.0458458805274), SingleValueScanParam(type='SingleValueScanParam', location_list=['neuron_set', 'oy'], value=-228.95787402852488), SingleValueScanParam(type='SingleValueScanParam', location_list=['neuron_set', 'oz'], value=253.1818605500871), SingleValueScanParam(type='SingleValueScanParam', location_list=['initialize', 'virtual_sources_to_ignore'], value=('external_S1nonbarrel_neurons__S1nonbarrel_neurons__chemical',))], nested_coordinate_subpath_str=PosixPath('.')), type='CircuitExtraction', neuron_set=VolumetricCountNeuronSet(type='VolumetricCountNeuronSet', simulation_level_name=None, random_sample=None, random_seed=0, property_filter=NoFilter, node_sets=(), ox=164.0458458805274, oy=-228.95787402852488, oz=253.1818605500871, n=10, columns_xyz=('x', 'y', 'z')), initialize=Initialize(type='CircuitExtractions.Initialize', circuit=Circuit(type='Circuit', name='nbS1-O1', path='/Users/pokorny/Data/Circuits/nbS1-O1/circuit_config_postfix2.json', matrix_path=None), run_validation=False, do_virtual=True, create_external=True, virtual_sources_to_ignore=('external_S1nonbarrel_neurons__S1nonbarrel_neurons__chemical',))),\n",
       " CircuitExtraction(idx=4, scan_output_root=PosixPath('.'), coordinate_output_root=PosixPath('.'), single_coordinate_scan_params=SingleCoordinateScanParams(type='SingleCoordinateScanParams', scan_params=[SingleValueScanParam(type='SingleValueScanParam', location_list=['neuron_set', 'ox'], value=-111.82257508700832), SingleValueScanParam(type='SingleValueScanParam', location_list=['neuron_set', 'oy'], value=-134.55755720016236), SingleValueScanParam(type='SingleValueScanParam', location_list=['neuron_set', 'oz'], value=-259.3746148238397), SingleValueScanParam(type='SingleValueScanParam', location_list=['initialize', 'virtual_sources_to_ignore'], value=('external_S1nonbarrel_neurons__S1nonbarrel_neurons__chemical',))], nested_coordinate_subpath_str=PosixPath('.')), type='CircuitExtraction', neuron_set=VolumetricCountNeuronSet(type='VolumetricCountNeuronSet', simulation_level_name=None, random_sample=None, random_seed=0, property_filter=NoFilter, node_sets=(), ox=-111.82257508700832, oy=-134.55755720016236, oz=-259.3746148238397, n=10, columns_xyz=('x', 'y', 'z')), initialize=Initialize(type='CircuitExtractions.Initialize', circuit=Circuit(type='Circuit', name='nbS1-O1', path='/Users/pokorny/Data/Circuits/nbS1-O1/circuit_config_postfix2.json', matrix_path=None), run_validation=False, do_virtual=True, create_external=True, virtual_sources_to_ignore=('external_S1nonbarrel_neurons__S1nonbarrel_neurons__chemical',))),\n",
       " CircuitExtraction(idx=5, scan_output_root=PosixPath('.'), coordinate_output_root=PosixPath('.'), single_coordinate_scan_params=SingleCoordinateScanParams(type='SingleCoordinateScanParams', scan_params=[SingleValueScanParam(type='SingleValueScanParam', location_list=['neuron_set', 'ox'], value=-367.728748031805), SingleValueScanParam(type='SingleValueScanParam', location_list=['neuron_set', 'oy'], value=225.80812622163035), SingleValueScanParam(type='SingleValueScanParam', location_list=['neuron_set', 'oz'], value=-453.693623150381), SingleValueScanParam(type='SingleValueScanParam', location_list=['initialize', 'virtual_sources_to_ignore'], value=('external_S1nonbarrel_neurons__S1nonbarrel_neurons__chemical',))], nested_coordinate_subpath_str=PosixPath('.')), type='CircuitExtraction', neuron_set=VolumetricCountNeuronSet(type='VolumetricCountNeuronSet', simulation_level_name=None, random_sample=None, random_seed=0, property_filter=NoFilter, node_sets=(), ox=-367.728748031805, oy=225.80812622163035, oz=-453.693623150381, n=10, columns_xyz=('x', 'y', 'z')), initialize=Initialize(type='CircuitExtractions.Initialize', circuit=Circuit(type='Circuit', name='nbS1-O1', path='/Users/pokorny/Data/Circuits/nbS1-O1/circuit_config_postfix2.json', matrix_path=None), run_validation=False, do_virtual=True, create_external=True, virtual_sources_to_ignore=('external_S1nonbarrel_neurons__S1nonbarrel_neurons__chemical',)))]"
      ]
     },
     "execution_count": 8,
     "metadata": {},
     "output_type": "execute_result"
    }
   ],
   "source": [
    "# Display the intermediary data\n",
    "coupled_scan.multiple_value_parameters(display=True)\n",
    "coupled_scan.coordinate_parameters(display=True)\n",
    "coupled_scan.coordinate_instances(display=True)"
   ]
  },
  {
   "cell_type": "code",
   "execution_count": 9,
   "metadata": {},
   "outputs": [
    {
     "name": "stdout",
     "output_type": "stream",
     "text": [
      "Extracting subcircuit from 'nbS1-O1'\n",
      "Copying morphologies for population 'S1nonbarrel_neurons' (10)\n"
     ]
    },
    {
     "name": "stderr",
     "output_type": "stream",
     "text": [
      "Copying containerized .h5 morphologies: 100%|██████████████████████████████████████████████████| 10/10 [00:00<00:00, 845.68it/s]"
     ]
    },
    {
     "name": "stdout",
     "output_type": "stream",
     "text": [
      "Copied 10 morphologies into container (0 already existed)\n",
      "Copying 6 biophysical neuron models (.hoc) for population 'S1nonbarrel_neurons' (10)\n",
      "Copying mod files\n",
      "Extraction DONE\n"
     ]
    },
    {
     "name": "stderr",
     "output_type": "stream",
     "text": [
      "\n"
     ]
    },
    {
     "name": "stdout",
     "output_type": "stream",
     "text": [
      "Extracting subcircuit from 'nbS1-O1'\n",
      "Copying morphologies for population 'S1nonbarrel_neurons' (10)\n"
     ]
    },
    {
     "name": "stderr",
     "output_type": "stream",
     "text": [
      "Copying containerized .h5 morphologies: 100%|██████████████████████████████████████████████████| 10/10 [00:00<00:00, 829.24it/s]"
     ]
    },
    {
     "name": "stdout",
     "output_type": "stream",
     "text": [
      "Copied 10 morphologies into container (0 already existed)\n",
      "Copying 5 biophysical neuron models (.hoc) for population 'S1nonbarrel_neurons' (10)\n",
      "Copying mod files\n",
      "Extraction DONE\n"
     ]
    },
    {
     "name": "stderr",
     "output_type": "stream",
     "text": [
      "\n"
     ]
    },
    {
     "name": "stdout",
     "output_type": "stream",
     "text": [
      "Extracting subcircuit from 'nbS1-O1'\n",
      "Copying morphologies for population 'S1nonbarrel_neurons' (10)\n"
     ]
    },
    {
     "name": "stderr",
     "output_type": "stream",
     "text": [
      "Copying containerized .h5 morphologies: 100%|██████████████████████████████████████████████████| 10/10 [00:00<00:00, 890.32it/s]"
     ]
    },
    {
     "name": "stdout",
     "output_type": "stream",
     "text": [
      "Copied 10 morphologies into container (0 already existed)\n",
      "Copying 3 biophysical neuron models (.hoc) for population 'S1nonbarrel_neurons' (10)\n",
      "Copying mod files\n",
      "Extraction DONE\n"
     ]
    },
    {
     "name": "stderr",
     "output_type": "stream",
     "text": [
      "\n"
     ]
    },
    {
     "name": "stdout",
     "output_type": "stream",
     "text": [
      "Extracting subcircuit from 'nbS1-O1'\n",
      "Copying morphologies for population 'S1nonbarrel_neurons' (10)\n"
     ]
    },
    {
     "name": "stderr",
     "output_type": "stream",
     "text": [
      "Copying containerized .h5 morphologies: 100%|██████████████████████████████████████████████████| 10/10 [00:00<00:00, 922.94it/s]"
     ]
    },
    {
     "name": "stdout",
     "output_type": "stream",
     "text": [
      "Copied 10 morphologies into container (0 already existed)\n",
      "Copying 2 biophysical neuron models (.hoc) for population 'S1nonbarrel_neurons' (10)\n",
      "Copying mod files\n",
      "Extraction DONE\n"
     ]
    },
    {
     "name": "stderr",
     "output_type": "stream",
     "text": [
      "\n"
     ]
    },
    {
     "name": "stdout",
     "output_type": "stream",
     "text": [
      "Extracting subcircuit from 'nbS1-O1'\n",
      "Copying morphologies for population 'S1nonbarrel_neurons' (10)\n"
     ]
    },
    {
     "name": "stderr",
     "output_type": "stream",
     "text": [
      "Copying containerized .h5 morphologies: 100%|██████████████████████████████████████████████████| 10/10 [00:00<00:00, 760.35it/s]"
     ]
    },
    {
     "name": "stdout",
     "output_type": "stream",
     "text": [
      "Copied 10 morphologies into container (0 already existed)\n",
      "Copying 1 biophysical neuron models (.hoc) for population 'S1nonbarrel_neurons' (10)\n",
      "Copying mod files\n",
      "Extraction DONE\n"
     ]
    },
    {
     "name": "stderr",
     "output_type": "stream",
     "text": [
      "\n"
     ]
    },
    {
     "name": "stdout",
     "output_type": "stream",
     "text": [
      "Extracting subcircuit from 'nbS1-O1'\n",
      "Copying morphologies for population 'S1nonbarrel_neurons' (10)\n"
     ]
    },
    {
     "name": "stderr",
     "output_type": "stream",
     "text": [
      "Copying containerized .h5 morphologies: 100%|██████████████████████████████████████████████████| 10/10 [00:00<00:00, 933.98it/s]"
     ]
    },
    {
     "name": "stdout",
     "output_type": "stream",
     "text": [
      "Copied 10 morphologies into container (0 already existed)\n",
      "Copying 1 biophysical neuron models (.hoc) for population 'S1nonbarrel_neurons' (10)\n",
      "Copying mod files\n",
      "Extraction DONE\n",
      "[2025-06-11 18:15:31,898] INFO: create_bbp_workflow_campaign_config() not yet complete.\n"
     ]
    },
    {
     "name": "stderr",
     "output_type": "stream",
     "text": [
      "\n"
     ]
    },
    {
     "data": {
      "text/plain": [
       "{0: None, 1: None, 2: None, 3: None, 4: None, 5: None}"
      ]
     },
     "execution_count": 9,
     "metadata": {},
     "output_type": "execute_result"
    }
   ],
   "source": [
    "coupled_scan.execute(processing_method='run')"
   ]
  },
  {
   "cell_type": "code",
   "execution_count": 24,
   "metadata": {},
   "outputs": [
    {
     "name": "stdout",
     "output_type": "stream",
     "text": [
      "L1: 10 neurons, 234 synapses, m-types: ['L1_HAC', 'L1_LAC', 'L1_NGC-DA', 'L1_NGC-SA', 'L1_SAC']\n",
      "L2: 10 neurons, 186 synapses, m-types: ['L23_CHC', 'L23_LBC', 'L23_NBC', 'L2_TPC:B', 'L3_TPC:A']\n",
      "L3: 10 neurons, 96 synapses, m-types: ['L23_NBC', 'L3_TPC:A', 'L3_TPC:C']\n",
      "L4: 10 neurons, 48 synapses, m-types: ['L4_SSC', 'L4_TPC', 'L4_UPC']\n",
      "L5: 10 neurons, 69 synapses, m-types: ['L5_TPC:A', 'L5_TPC:B', 'L5_TPC:C']\n",
      "L6: 10 neurons, 92 synapses, m-types: ['L6_BPC', 'L6_IPC', 'L6_TPC:A', 'L6_TPC:C']\n"
     ]
    }
   ],
   "source": [
    "# Check circuits\n",
    "from bluepysnap import Circuit\n",
    "\n",
    "for _idx, _inst in enumerate(coupled_scan.coordinate_instances()):\n",
    "    cfg = coupled_scan.output_root / str(_idx) / \"circuit_config.json\"\n",
    "    c = Circuit(cfg)\n",
    "    print(f\"L{layers[_idx]}: {c.nodes['S1nonbarrel_neurons'].size} neurons, {c.edges[\"S1nonbarrel_neurons__S1nonbarrel_neurons__chemical\"].size} synapses, m-types: {np.unique(c.nodes['S1nonbarrel_neurons'].get(properties=['mtype'])).tolist()}\")\n"
   ]
  },
  {
   "cell_type": "code",
   "execution_count": null,
   "metadata": {},
   "outputs": [],
   "source": []
  }
 ],
 "metadata": {
  "kernelspec": {
   "display_name": "obi-one",
   "language": "python",
   "name": "obi-one"
  },
  "language_info": {
   "codemirror_mode": {
    "name": "ipython",
    "version": 3
   },
   "file_extension": ".py",
   "mimetype": "text/x-python",
   "name": "python",
   "nbconvert_exporter": "python",
   "pygments_lexer": "ipython3",
   "version": "3.12.9"
  }
 },
 "nbformat": 4,
 "nbformat_minor": 4
}
