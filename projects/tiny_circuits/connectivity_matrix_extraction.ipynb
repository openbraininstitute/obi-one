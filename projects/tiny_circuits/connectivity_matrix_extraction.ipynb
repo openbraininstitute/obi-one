{
 "cells": [
  {
   "cell_type": "code",
   "execution_count": 1,
   "metadata": {},
   "outputs": [],
   "source": [
    "import obi_one as obi\n",
    "from pathlib import Path"
   ]
  },
  {
   "cell_type": "code",
   "execution_count": 2,
   "metadata": {},
   "outputs": [],
   "source": [
    "input_root = Path(\"../../examples/data/tiny_circuits\")\n",
    "output_root = Path(\"../../../obi-output/connectivity_matrix_extraction\")"
   ]
  },
  {
   "cell_type": "code",
   "execution_count": 3,
   "metadata": {},
   "outputs": [],
   "source": [
    "connectivity_matrix_extractions_form = obi.ConnectivityMatrixExtractions(\n",
    "                    initialize=obi.ConnectivityMatrixExtractions.Initialize(\n",
    "                        circuit_path=[\n",
    "                            obi.NamedPath(name=\"N_10__top_rc_nodes_dim2_rc\", path=str(input_root / \"N_10__top_rc_nodes_dim2_rc\" / \"circuit_config.json\")),\n",
    "                            obi.NamedPath(name=\"N_10__top_nodes_dim6\", path=str(input_root / \"N_10__top_nodes_dim6\" / \"circuit_config.json\")),\n",
    "                        ],\n",
    "                        edge_population=\"S1nonbarrel_neurons__S1nonbarrel_neurons__chemical\",\n",
    "\n",
    "                        # node_attributes=None,\n",
    "                        node_attributes=(\"synapse_class\", \"layer\", \"mtype\", \"etype\", \"x\", \"y\", \"z\"),\n",
    "                    )\n",
    ")\n",
    "\n",
    "grid_scan = obi.GridScan(form=connectivity_matrix_extractions_form, output_root=str(output_root / \"grid_scan\"), coordinate_directory_option=\"NAME_EQUALS_VALUE\")"
   ]
  },
  {
   "cell_type": "code",
   "execution_count": 4,
   "metadata": {},
   "outputs": [
    {
     "name": "stdout",
     "output_type": "stream",
     "text": [
      "Info: Running idx 0\n",
      "Info: Loading circuit 'N_10__top_rc_nodes_dim2_rc'\n",
      "Info: Node properties to extract: ('synapse_class', 'layer', 'mtype', 'etype', 'x', 'y', 'z')\n",
      "Info: Extracting connectivity from edge population 'S1nonbarrel_neurons__S1nonbarrel_neurons__chemical'\n"
     ]
    },
    {
     "name": "stderr",
     "output_type": "stream",
     "text": [
      "100%|████████████████████████████████████████████████████████████████████████████████████████████████████████████████████████████████████| 10/10 [00:00<00:00, 862.60it/s]\n"
     ]
    },
    {
     "name": "stdout",
     "output_type": "stream",
     "text": [
      "Info: Connectivity matrix successfully written to '../../../obi-output/connectivity_matrix_extraction/grid_scan/initialize.circuit_path=N_10__top_rc_nodes_dim2_rc/connectivity_matrix.h5'\n",
      "Info: Running idx 1\n",
      "Info: Loading circuit 'N_10__top_nodes_dim6'\n",
      "Info: Node properties to extract: ('synapse_class', 'layer', 'mtype', 'etype', 'x', 'y', 'z')\n",
      "Info: Extracting connectivity from edge population 'S1nonbarrel_neurons__S1nonbarrel_neurons__chemical'\n"
     ]
    },
    {
     "name": "stderr",
     "output_type": "stream",
     "text": [
      "100%|███████████████████████████████████████████████████████████████████████████████████████████████████████████████████████████████████| 10/10 [00:00<00:00, 1761.79it/s]"
     ]
    },
    {
     "name": "stdout",
     "output_type": "stream",
     "text": [
      "Info: Connectivity matrix successfully written to '../../../obi-output/connectivity_matrix_extraction/grid_scan/initialize.circuit_path=N_10__top_nodes_dim6/connectivity_matrix.h5'\n",
      "create_bbp_workflow_campaign_config() not yet complete.\n"
     ]
    },
    {
     "name": "stderr",
     "output_type": "stream",
     "text": [
      "\n"
     ]
    },
    {
     "data": {
      "text/plain": [
       "{0: None, 1: None}"
      ]
     },
     "execution_count": 4,
     "metadata": {},
     "output_type": "execute_result"
    },
    {
     "name": "stderr",
     "output_type": "stream",
     "text": [
      "=======\n"
     ]
    },
    {
     "name": "stderr",
     "output_type": "stream",
     "text": [
      ">>>>>>> remote <removed>\n"
     ]
    }
   ],
   "source": [
    "grid_scan.execute(processing_method='run')"
   ]
  },
  {
   "cell_type": "code",
   "execution_count": 5,
   "metadata": {},
   "outputs": [
    {
     "name": "stdout",
     "output_type": "stream",
     "text": [
      "N_10__top_rc_nodes_dim2_rc:\n"
     ]
    },
    {
     "data": {
      "text/plain": [
       "<COOrdinate sparse matrix of dtype 'int64'\n",
       "\twith 5 stored elements and shape (10, 10)>"
      ]
     },
     "metadata": {},
     "output_type": "display_data"
    },
    {
     "name": "stdout",
     "output_type": "stream",
     "text": [
      "19 synapses\n",
      "\n",
      "N_10__top_nodes_dim6:\n"
     ]
    },
    {
     "data": {
      "text/plain": [
       "<COOrdinate sparse matrix of dtype 'int64'\n",
       "\twith 23 stored elements and shape (10, 10)>"
      ]
     },
     "metadata": {},
     "output_type": "display_data"
    },
    {
     "name": "stdout",
     "output_type": "stream",
     "text": [
      "176 synapses\n",
      "\n"
     ]
    }
   ],
   "source": [
    "# Check matrices\n",
    "from conntility.connectivity import ConnectivityMatrix\n",
    "for _name in connectivity_matrix_extractions_form.initialize.circuit_path:\n",
    "    print(f\"{_name}:\")\n",
    "    cmat = ConnectivityMatrix.from_h5(output_root / \"grid_scan\" / f\"initialize.circuit_path={_name}\" / \"connectivity_matrix.h5\")\n",
    "    display(cmat.matrix)\n",
    "    print(f\"{cmat.matrix.sum()} synapses\\n\")"
   ]
  }
 ],
 "metadata": {
  "kernelspec": {
   "display_name": "obi-one",
   "language": "python",
   "name": "obi-one"
  },
  "language_info": {
   "codemirror_mode": {
    "name": "ipython",
    "version": 3
   },
   "file_extension": ".py",
   "mimetype": "text/x-python",
   "name": "python",
   "nbconvert_exporter": "python",
   "pygments_lexer": "ipython3",
   "version": "3.12.9"
  }
 },
 "nbformat": 4,
 "nbformat_minor": 4
}
