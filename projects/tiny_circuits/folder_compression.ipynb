{
 "cells": [
  {
   "cell_type": "code",
   "execution_count": 1,
   "metadata": {},
   "outputs": [],
   "source": [
    "import obi_one as obi\n",
    "from pathlib import Path"
   ]
  },
  {
   "cell_type": "code",
   "execution_count": 2,
   "metadata": {},
   "outputs": [],
   "source": [
    "input_root = Path(\"../../../obi-output/decontainerized_small_microcircuits_volumetric\")\n",
    "output_root = Path(\"../../../obi-output/small_microcircuits_volumetrics_compression\")"
   ]
  },
  {
   "cell_type": "code",
   "execution_count": 3,
   "metadata": {},
   "outputs": [],
   "source": [
    "folder_compressions_form = obi.FolderCompressions(\n",
    "                    initialize=obi.FolderCompressions.Initialize(\n",
    "                        folder_path=[\n",
    "                            obi.NamedPath(name=\"nbS1-O1-SmallMC-Volumetric-Central-HEX0-L1-01\", path=str(input_root / \"nbS1-O1-SmallMC-Volumetric-Central-HEX0-L1-01\")),\n",
    "                            obi.NamedPath(name=\"nbS1-O1-SmallMC-Volumetric-Central-HEX0-L2-01\", path=str(input_root / \"nbS1-O1-SmallMC-Volumetric-Central-HEX0-L2-01\")),\n",
    "                            obi.NamedPath(name=\"nbS1-O1-SmallMC-Volumetric-Central-HEX0-L3-01\", path=str(input_root / \"nbS1-O1-SmallMC-Volumetric-Central-HEX0-L3-01\")),\n",
    "                            obi.NamedPath(name=\"nbS1-O1-SmallMC-Volumetric-Central-HEX0-L4-01\", path=str(input_root / \"nbS1-O1-SmallMC-Volumetric-Central-HEX0-L4-01\")),\n",
    "                            obi.NamedPath(name=\"nbS1-O1-SmallMC-Volumetric-Central-HEX0-L5-01\", path=str(input_root / \"nbS1-O1-SmallMC-Volumetric-Central-HEX0-L5-01\")),\n",
    "                            obi.NamedPath(name=\"nbS1-O1-SmallMC-Volumetric-Central-HEX0-L6-01\", path=str(input_root / \"nbS1-O1-SmallMC-Volumetric-Central-HEX0-L6-01\")),\n",
    "                        ],\n",
    "                        file_format=\"gz\",\n",
    "                        file_name=\"circuit\"\n",
    "                    )\n",
    ")\n",
    "\n",
    "grid_scan = obi.GridScan(form=folder_compressions_form, output_root=output_root, coordinate_directory_option=\"VALUE\")"
   ]
  },
  {
   "cell_type": "code",
   "execution_count": 4,
   "metadata": {},
   "outputs": [
    {
     "name": "stdout",
     "output_type": "stream",
     "text": [
      "[2025-06-12 08:55:09,441] INFO: Info: Running gz compression on 'nbS1-O1-SmallMC-Volumetric-Central-HEX0-L1-01'...\n",
      "[2025-06-12 08:55:10,339] INFO: DONE (Duration 00h:00min:00s; File size 4.1MB)\n",
      "[2025-06-12 08:55:10,340] INFO: Info: Running gz compression on 'nbS1-O1-SmallMC-Volumetric-Central-HEX0-L2-01'...\n",
      "[2025-06-12 08:55:11,412] INFO: DONE (Duration 00h:00min:01s; File size 4.7MB)\n",
      "[2025-06-12 08:55:11,413] INFO: Info: Running gz compression on 'nbS1-O1-SmallMC-Volumetric-Central-HEX0-L3-01'...\n",
      "[2025-06-12 08:55:12,384] INFO: DONE (Duration 00h:00min:00s; File size 4.5MB)\n",
      "[2025-06-12 08:55:12,385] INFO: Info: Running gz compression on 'nbS1-O1-SmallMC-Volumetric-Central-HEX0-L4-01'...\n",
      "[2025-06-12 08:55:13,577] INFO: DONE (Duration 00h:00min:01s; File size 5.3MB)\n",
      "[2025-06-12 08:55:13,579] INFO: Info: Running gz compression on 'nbS1-O1-SmallMC-Volumetric-Central-HEX0-L5-01'...\n",
      "[2025-06-12 08:55:15,841] INFO: DONE (Duration 00h:00min:02s; File size 10.4MB)\n",
      "[2025-06-12 08:55:15,842] INFO: Info: Running gz compression on 'nbS1-O1-SmallMC-Volumetric-Central-HEX0-L6-01'...\n",
      "[2025-06-12 08:55:16,889] INFO: DONE (Duration 00h:00min:01s; File size 4.6MB)\n",
      "[2025-06-12 08:55:16,890] INFO: create_bbp_workflow_campaign_config() not yet complete.\n"
     ]
    },
    {
     "data": {
      "text/plain": [
       "{0: None, 1: None, 2: None, 3: None, 4: None, 5: None}"
      ]
     },
     "execution_count": 4,
     "metadata": {},
     "output_type": "execute_result"
    }
   ],
   "source": [
    "grid_scan.execute(processing_method='run')"
   ]
  },
  {
   "cell_type": "code",
   "execution_count": null,
   "metadata": {},
   "outputs": [],
   "source": []
  }
 ],
 "metadata": {
  "kernelspec": {
   "display_name": "obi-one",
   "language": "python",
   "name": "obi-one"
  },
  "language_info": {
   "codemirror_mode": {
    "name": "ipython",
    "version": 3
   },
   "file_extension": ".py",
   "mimetype": "text/x-python",
   "name": "python",
   "nbconvert_exporter": "python",
   "pygments_lexer": "ipython3",
   "version": "3.12.9"
  }
 },
 "nbformat": 4,
 "nbformat_minor": 4
}
