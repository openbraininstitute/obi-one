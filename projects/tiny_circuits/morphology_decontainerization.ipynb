{
 "cells": [
  {
   "cell_type": "code",
   "execution_count": 1,
   "metadata": {},
   "outputs": [],
   "source": [
    "import obi_one as obi\n",
    "import os"
   ]
  },
  {
   "cell_type": "code",
   "execution_count": 2,
   "metadata": {},
   "outputs": [],
   "source": [
    "input_root = \"../../../obi-output/extracted_tiny_circuits\"\n",
    "output_root = \"../../../obi-output/decontainerized_tiny_circuits\""
   ]
  },
  {
   "cell_type": "code",
   "execution_count": 3,
   "metadata": {},
   "outputs": [],
   "source": [
    "morphology_decontainerization_form = obi.MorphologyDecontainerizationsForm(\n",
    "                    initialize=obi.MorphologyDecontainerizationsForm.Initialize(\n",
    "                        circuit_path=[\n",
    "                            obi.NamedPath(name=\"N_10__top_rc_nodes_dim2_rc\", path=os.path.join(input_root, \"N_10__top_rc_nodes_dim2_rc\", \"circuit_config.json\")),\n",
    "                            obi.NamedPath(name=\"N_10__top_nodes_dim6\", path=os.path.join(input_root, \"N_10__top_nodes_dim6\", \"circuit_config.json\")),\n",
    "                        ],\n",
    "                        output_format = \"swc\"\n",
    "                    )\n",
    ")\n",
    "\n",
    "grid_scan = obi.GridScan(form=morphology_decontainerization_form, output_root=output_root, coordinate_directory_option=\"VALUE\")"
   ]
  },
  {
   "cell_type": "code",
   "execution_count": 4,
   "metadata": {},
   "outputs": [
    {
     "name": "stdout",
     "output_type": "stream",
     "text": [
      "Running morphology decontainerization for 'N_10__top_rc_nodes_dim2_rc'\n",
      "Copying circuit to output folder...\n",
      "...DONE\n",
      "> 10 unique morphologies in population 'S1nonbarrel_neurons' (10)\n"
     ]
    },
    {
     "name": "stderr",
     "output_type": "stream",
     "text": [
      "Extracting/converting from .h5 container: 100%|██████████████████████████████████████████████████████████████████████████████| 10/10 [00:00<00:00, 61.07it/s]\n"
     ]
    },
    {
     "name": "stdout",
     "output_type": "stream",
     "text": [
      "Extracted/converted 10 morphologies from .h5 container (0 already existed)\n",
      "Cleaning morphology container(s): ['/Users/pokorny/JupyterLab/git/obi-output/decontainerized_tiny_circuits/N_10__top_rc_nodes_dim2_rc/morphologies/merged-morphologies.h5']\n",
      "Cleaning morphology folder(s): ['/Users/pokorny/JupyterLab/git/obi-output/decontainerized_tiny_circuits/N_10__top_rc_nodes_dim2_rc/morphologies/h5']\n",
      "Morphology decontainerization DONE\n",
      "Running morphology decontainerization for 'N_10__top_nodes_dim6'\n",
      "Copying circuit to output folder...\n",
      "...DONE\n",
      "> 10 unique morphologies in population 'S1nonbarrel_neurons' (10)\n"
     ]
    },
    {
     "name": "stderr",
     "output_type": "stream",
     "text": [
      "Extracting/converting from .h5 container: 100%|██████████████████████████████████████████████████████████████████████████████| 10/10 [00:00<00:00, 71.57it/s]"
     ]
    },
    {
     "name": "stdout",
     "output_type": "stream",
     "text": [
      "Extracted/converted 10 morphologies from .h5 container (0 already existed)\n",
      "Cleaning morphology container(s): ['/Users/pokorny/JupyterLab/git/obi-output/decontainerized_tiny_circuits/N_10__top_nodes_dim6/morphologies/merged-morphologies.h5']\n",
      "Cleaning morphology folder(s): ['/Users/pokorny/JupyterLab/git/obi-output/decontainerized_tiny_circuits/N_10__top_nodes_dim6/morphologies/h5']\n",
      "Morphology decontainerization DONE\n",
      "create_bbp_workflow_campaign_config() not yet complete.\n"
     ]
    },
    {
     "name": "stderr",
     "output_type": "stream",
     "text": [
      "\n"
     ]
    },
    {
     "data": {
      "text/plain": [
       "{0: None, 1: None}"
      ]
     },
     "execution_count": 4,
     "metadata": {},
     "output_type": "execute_result"
    }
   ],
   "source": [
    "grid_scan.execute(processing_method='run')"
   ]
  },
  {
   "cell_type": "code",
   "execution_count": null,
   "metadata": {},
   "outputs": [],
   "source": []
  }
 ],
 "metadata": {
  "kernelspec": {
   "display_name": "obi-one",
   "language": "python",
   "name": "obi-one"
  },
  "language_info": {
   "codemirror_mode": {
    "name": "ipython",
    "version": 3
   },
   "file_extension": ".py",
   "mimetype": "text/x-python",
   "name": "python",
   "nbconvert_exporter": "python",
   "pygments_lexer": "ipython3",
   "version": "3.12.9"
  }
 },
 "nbformat": 4,
 "nbformat_minor": 4
}
