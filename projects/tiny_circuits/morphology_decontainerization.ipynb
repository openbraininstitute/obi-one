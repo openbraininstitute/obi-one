{
 "cells": [
  {
   "cell_type": "code",
   "execution_count": 1,
   "metadata": {},
   "outputs": [],
   "source": [
    "import obi_one as obi\n",
    "from pathlib import Path"
   ]
  },
  {
   "cell_type": "code",
   "execution_count": 2,
   "metadata": {},
   "outputs": [],
   "source": [
    "input_root = Path(\"../../../obi-output/extracted_small_microcircuits_volumetric/\")\n",
    "# input_root = Path(\"../../../obi-output/extracted_single_neuron_circuits\")\n",
    "output_root = Path(\"../../../obi-output/decontainerized_small_microcircuits_volumetric\")"
   ]
  },
  {
   "cell_type": "code",
   "execution_count": 5,
   "metadata": {},
   "outputs": [],
   "source": [
    "morphology_decontainerization_form = obi.MorphologyDecontainerizationsForm(\n",
    "                    initialize=obi.MorphologyDecontainerizationsForm.Initialize(\n",
    "                        circuit_path=[\n",
    "                            # obi.NamedPath(name=\"N_10__top_rc_nodes_dim2_rc\", path=str(input_root / \"N_10__top_rc_nodes_dim2_rc\" / \"circuit_config.json\")),\n",
    "                            # obi.NamedPath(name=\"N_10__top_nodes_dim6\", path=str(input_root / \"N_10__top_nodes_dim6\" / \"circuit_config.json\")),\n",
    "                            # obi.NamedPath(name=\"N_10__selection1\", path=str(input_root / \"N_10__selection1\" / \"circuit_config.json\")),\n",
    "                            # obi.NamedPath(name=\"N_10__selection2\", path=str(input_root / \"N_10__selection2\" / \"circuit_config.json\")),\n",
    "                            # obi.NamedPath(name=\"SingleNeuronCircuit__top_nodes_dim6__IDX0\", path=str(input_root / \"SingleNeuronCircuit__top_nodes_dim6__IDX0\" / \"circuit_config.json\")),\n",
    "                            # obi.NamedPath(name=\"SingleNeuronCircuit__top_nodes_dim6__IDX1\", path=str(input_root / \"SingleNeuronCircuit__top_nodes_dim6__IDX1\" / \"circuit_config.json\")),\n",
    "                            obi.NamedPath(name=\"nbS1-O1-SmallMC-Volumetric-Central-HEX0-L1-01\", path=str(input_root / \"0\" / \"circuit_config.json\")),\n",
    "                            obi.NamedPath(name=\"nbS1-O1-SmallMC-Volumetric-Central-HEX0-L2-01\", path=str(input_root / \"1\" / \"circuit_config.json\")),\n",
    "                            obi.NamedPath(name=\"nbS1-O1-SmallMC-Volumetric-Central-HEX0-L3-01\", path=str(input_root / \"2\" / \"circuit_config.json\")),\n",
    "                            obi.NamedPath(name=\"nbS1-O1-SmallMC-Volumetric-Central-HEX0-L4-01\", path=str(input_root / \"3\" / \"circuit_config.json\")),\n",
    "                            obi.NamedPath(name=\"nbS1-O1-SmallMC-Volumetric-Central-HEX0-L5-01\", path=str(input_root / \"4\" / \"circuit_config.json\")),\n",
    "                            obi.NamedPath(name=\"nbS1-O1-SmallMC-Volumetric-Central-HEX0-L6-01\", path=str(input_root / \"5\" / \"circuit_config.json\")),\n",
    "                        ],\n",
    "                        output_format = \"swc\"\n",
    "                    )\n",
    ")\n",
    "\n",
    "grid_scan = obi.GridScan(form=morphology_decontainerization_form, output_root=output_root, coordinate_directory_option=\"VALUE\")"
   ]
  },
  {
   "cell_type": "code",
   "execution_count": 6,
   "metadata": {},
   "outputs": [
    {
     "name": "stdout",
     "output_type": "stream",
     "text": [
      "Running morphology decontainerization for 'nbS1-O1-SmallMC-Volumetric-Central-HEX0-L1-01'\n",
      "Copying circuit to output folder...\n",
      "...DONE\n",
      "> 10 unique morphologies in population 'S1nonbarrel_neurons' (10)\n"
     ]
    },
    {
     "name": "stderr",
     "output_type": "stream",
     "text": [
      "Extracting/converting from .h5 container: 100%|█████████████████████████████████████████████████| 10/10 [00:00<00:00, 70.17it/s]"
     ]
    },
    {
     "name": "stdout",
     "output_type": "stream",
     "text": [
      "Extracted/converted 10 morphologies from .h5 container (0 already existed)\n",
      "Cleaning morphology container(s): ['/Users/pokorny/JupyterLab/git/obi-output/decontainerized_small_microcircuits_volumetrics/nbS1-O1-SmallMC-Volumetric-Central-HEX0-L1-01/morphologies/merged-morphologies.h5']\n",
      "Cleaning morphology folder(s): ['/Users/pokorny/JupyterLab/git/obi-output/decontainerized_small_microcircuits_volumetrics/nbS1-O1-SmallMC-Volumetric-Central-HEX0-L1-01/morphologies/h5']\n",
      "Checking all morphologies in population 'S1nonbarrel_neurons'\n"
     ]
    },
    {
     "name": "stderr",
     "output_type": "stream",
     "text": [
      "\n"
     ]
    },
    {
     "name": "stdout",
     "output_type": "stream",
     "text": [
      "Morphology decontainerization DONE\n",
      "Running morphology decontainerization for 'nbS1-O1-SmallMC-Volumetric-Central-HEX0-L2-01'\n",
      "Copying circuit to output folder...\n",
      "...DONE\n",
      "> 10 unique morphologies in population 'S1nonbarrel_neurons' (10)\n"
     ]
    },
    {
     "name": "stderr",
     "output_type": "stream",
     "text": [
      "Extracting/converting from .h5 container: 100%|█████████████████████████████████████████████████| 10/10 [00:00<00:00, 86.20it/s]"
     ]
    },
    {
     "name": "stdout",
     "output_type": "stream",
     "text": [
      "Extracted/converted 10 morphologies from .h5 container (0 already existed)\n",
      "Cleaning morphology container(s): ['/Users/pokorny/JupyterLab/git/obi-output/decontainerized_small_microcircuits_volumetrics/nbS1-O1-SmallMC-Volumetric-Central-HEX0-L2-01/morphologies/merged-morphologies.h5']\n",
      "Cleaning morphology folder(s): ['/Users/pokorny/JupyterLab/git/obi-output/decontainerized_small_microcircuits_volumetrics/nbS1-O1-SmallMC-Volumetric-Central-HEX0-L2-01/morphologies/h5']\n",
      "Checking all morphologies in population 'S1nonbarrel_neurons'\n"
     ]
    },
    {
     "name": "stderr",
     "output_type": "stream",
     "text": [
      "\n"
     ]
    },
    {
     "name": "stdout",
     "output_type": "stream",
     "text": [
      "Morphology decontainerization DONE\n",
      "Running morphology decontainerization for 'nbS1-O1-SmallMC-Volumetric-Central-HEX0-L3-01'\n",
      "Copying circuit to output folder...\n",
      "...DONE\n",
      "> 10 unique morphologies in population 'S1nonbarrel_neurons' (10)\n"
     ]
    },
    {
     "name": "stderr",
     "output_type": "stream",
     "text": [
      "Extracting/converting from .h5 container: 100%|████████████████████████████████████████████████| 10/10 [00:00<00:00, 100.00it/s]"
     ]
    },
    {
     "name": "stdout",
     "output_type": "stream",
     "text": [
      "Extracted/converted 10 morphologies from .h5 container (0 already existed)\n",
      "Cleaning morphology container(s): ['/Users/pokorny/JupyterLab/git/obi-output/decontainerized_small_microcircuits_volumetrics/nbS1-O1-SmallMC-Volumetric-Central-HEX0-L3-01/morphologies/merged-morphologies.h5']\n",
      "Cleaning morphology folder(s): ['/Users/pokorny/JupyterLab/git/obi-output/decontainerized_small_microcircuits_volumetrics/nbS1-O1-SmallMC-Volumetric-Central-HEX0-L3-01/morphologies/h5']\n",
      "Checking all morphologies in population 'S1nonbarrel_neurons'\n"
     ]
    },
    {
     "name": "stderr",
     "output_type": "stream",
     "text": [
      "\n"
     ]
    },
    {
     "name": "stdout",
     "output_type": "stream",
     "text": [
      "Morphology decontainerization DONE\n",
      "Running morphology decontainerization for 'nbS1-O1-SmallMC-Volumetric-Central-HEX0-L4-01'\n",
      "Copying circuit to output folder...\n",
      "...DONE\n",
      "> 10 unique morphologies in population 'S1nonbarrel_neurons' (10)\n"
     ]
    },
    {
     "name": "stderr",
     "output_type": "stream",
     "text": [
      "Extracting/converting from .h5 container: 100%|█████████████████████████████████████████████████| 10/10 [00:00<00:00, 93.15it/s]"
     ]
    },
    {
     "name": "stdout",
     "output_type": "stream",
     "text": [
      "Extracted/converted 10 morphologies from .h5 container (0 already existed)\n",
      "Cleaning morphology container(s): ['/Users/pokorny/JupyterLab/git/obi-output/decontainerized_small_microcircuits_volumetrics/nbS1-O1-SmallMC-Volumetric-Central-HEX0-L4-01/morphologies/merged-morphologies.h5']\n",
      "Cleaning morphology folder(s): ['/Users/pokorny/JupyterLab/git/obi-output/decontainerized_small_microcircuits_volumetrics/nbS1-O1-SmallMC-Volumetric-Central-HEX0-L4-01/morphologies/h5']\n",
      "Checking all morphologies in population 'S1nonbarrel_neurons'\n"
     ]
    },
    {
     "name": "stderr",
     "output_type": "stream",
     "text": [
      "\n"
     ]
    },
    {
     "name": "stdout",
     "output_type": "stream",
     "text": [
      "Morphology decontainerization DONE\n",
      "Running morphology decontainerization for 'nbS1-O1-SmallMC-Volumetric-Central-HEX0-L5-01'\n",
      "Copying circuit to output folder...\n",
      "...DONE\n",
      "> 10 unique morphologies in population 'S1nonbarrel_neurons' (10)\n"
     ]
    },
    {
     "name": "stderr",
     "output_type": "stream",
     "text": [
      "Extracting/converting from .h5 container: 100%|█████████████████████████████████████████████████| 10/10 [00:00<00:00, 68.19it/s]"
     ]
    },
    {
     "name": "stdout",
     "output_type": "stream",
     "text": [
      "Extracted/converted 10 morphologies from .h5 container (0 already existed)\n",
      "Cleaning morphology container(s): ['/Users/pokorny/JupyterLab/git/obi-output/decontainerized_small_microcircuits_volumetrics/nbS1-O1-SmallMC-Volumetric-Central-HEX0-L5-01/morphologies/merged-morphologies.h5']\n",
      "Cleaning morphology folder(s): ['/Users/pokorny/JupyterLab/git/obi-output/decontainerized_small_microcircuits_volumetrics/nbS1-O1-SmallMC-Volumetric-Central-HEX0-L5-01/morphologies/h5']\n",
      "Checking all morphologies in population 'S1nonbarrel_neurons'\n"
     ]
    },
    {
     "name": "stderr",
     "output_type": "stream",
     "text": [
      "\n"
     ]
    },
    {
     "name": "stdout",
     "output_type": "stream",
     "text": [
      "Morphology decontainerization DONE\n",
      "Running morphology decontainerization for 'nbS1-O1-SmallMC-Volumetric-Central-HEX0-L6-01'\n",
      "Copying circuit to output folder...\n",
      "...DONE\n",
      "> 10 unique morphologies in population 'S1nonbarrel_neurons' (10)\n"
     ]
    },
    {
     "name": "stderr",
     "output_type": "stream",
     "text": [
      "Extracting/converting from .h5 container: 100%|████████████████████████████████████████████████| 10/10 [00:00<00:00, 109.89it/s]"
     ]
    },
    {
     "name": "stdout",
     "output_type": "stream",
     "text": [
      "Extracted/converted 10 morphologies from .h5 container (0 already existed)\n",
      "Cleaning morphology container(s): ['/Users/pokorny/JupyterLab/git/obi-output/decontainerized_small_microcircuits_volumetrics/nbS1-O1-SmallMC-Volumetric-Central-HEX0-L6-01/morphologies/merged-morphologies.h5']\n",
      "Cleaning morphology folder(s): ['/Users/pokorny/JupyterLab/git/obi-output/decontainerized_small_microcircuits_volumetrics/nbS1-O1-SmallMC-Volumetric-Central-HEX0-L6-01/morphologies/h5']\n",
      "Checking all morphologies in population 'S1nonbarrel_neurons'\n",
      "Morphology decontainerization DONE\n",
      "[2025-06-12 08:49:51,710] INFO: create_bbp_workflow_campaign_config() not yet complete.\n"
     ]
    },
    {
     "name": "stderr",
     "output_type": "stream",
     "text": [
      "\n"
     ]
    },
    {
     "data": {
      "text/plain": [
       "{0: None, 1: None, 2: None, 3: None, 4: None, 5: None}"
      ]
     },
     "execution_count": 6,
     "metadata": {},
     "output_type": "execute_result"
    }
   ],
   "source": [
    "grid_scan.execute(processing_method='run')"
   ]
  },
  {
   "cell_type": "code",
   "execution_count": null,
   "metadata": {},
   "outputs": [],
   "source": []
  }
 ],
 "metadata": {
  "kernelspec": {
   "display_name": "obi-one",
   "language": "python",
   "name": "obi-one"
  },
  "language_info": {
   "codemirror_mode": {
    "name": "ipython",
    "version": 3
   },
   "file_extension": ".py",
   "mimetype": "text/x-python",
   "name": "python",
   "nbconvert_exporter": "python",
   "pygments_lexer": "ipython3",
   "version": "3.12.9"
  }
 },
 "nbformat": 4,
 "nbformat_minor": 4
}
