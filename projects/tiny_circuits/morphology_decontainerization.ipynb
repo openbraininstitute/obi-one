{
 "cells": [
  {
   "cell_type": "code",
   "execution_count": 5,
   "metadata": {},
   "outputs": [],
   "source": [
    "import obi_one as obi\n",
    "from pathlib import Path"
   ]
  },
  {
   "cell_type": "code",
   "execution_count": 6,
   "metadata": {},
   "outputs": [],
   "source": [
    "input_root = Path(\"../../../obi-output/extracted_tiny_circuits\")\n",
    "# input_root = Path(\"../../../obi-output/extracted_single_neuron_circuits\")\n",
    "output_root = Path(\"../../../obi-output/decontainerized_tiny_circuits\")"
   ]
  },
  {
   "cell_type": "code",
   "execution_count": 9,
   "metadata": {},
   "outputs": [],
   "source": [
    "morphology_decontainerization_form = obi.MorphologyDecontainerizationsForm(\n",
    "                    initialize=obi.MorphologyDecontainerizationsForm.Initialize(\n",
    "                        circuit_path=[\n",
    "                            # obi.NamedPath(name=\"N_10__top_rc_nodes_dim2_rc\", path=str(input_root / \"N_10__top_rc_nodes_dim2_rc\" / \"circuit_config.json\")),\n",
    "                            # obi.NamedPath(name=\"N_10__top_nodes_dim6\", path=str(input_root / \"N_10__top_nodes_dim6\" / \"circuit_config.json\")),\n",
    "                            obi.NamedPath(name=\"N_10__selection1\", path=str(input_root / \"N_10__selection1\" / \"circuit_config.json\")),\n",
    "                            obi.NamedPath(name=\"N_10__selection2\", path=str(input_root / \"N_10__selection2\" / \"circuit_config.json\")),\n",
    "                            # obi.NamedPath(name=\"SingleNeuronCircuit__top_nodes_dim6__IDX0\", path=str(input_root / \"SingleNeuronCircuit__top_nodes_dim6__IDX0\" / \"circuit_config.json\")),\n",
    "                            # obi.NamedPath(name=\"SingleNeuronCircuit__top_nodes_dim6__IDX1\", path=str(input_root / \"SingleNeuronCircuit__top_nodes_dim6__IDX1\" / \"circuit_config.json\")),\n",
    "                        ],\n",
    "                        output_format = [\"asc\", \"swc\"]\n",
    "                    )\n",
    ")\n",
    "\n",
    "grid_scan = obi.GridScan(form=morphology_decontainerization_form, output_root=output_root, coordinate_directory_option=\"VALUE\")"
   ]
  },
  {
   "cell_type": "code",
   "execution_count": null,
   "metadata": {},
   "outputs": [],
   "source": [
    "grid_scan.execute(processing_method='run')"
   ]
  }
 ],
 "metadata": {
  "kernelspec": {
   "display_name": "obi-one",
   "language": "python",
   "name": "obi-one"
  },
  "language_info": {
   "codemirror_mode": {
    "name": "ipython",
    "version": 3
   },
   "file_extension": ".py",
   "mimetype": "text/x-python",
   "name": "python",
   "nbconvert_exporter": "python",
   "pygments_lexer": "ipython3",
   "version": "3.12.9"
  }
 },
 "nbformat": 4,
 "nbformat_minor": 4
}
