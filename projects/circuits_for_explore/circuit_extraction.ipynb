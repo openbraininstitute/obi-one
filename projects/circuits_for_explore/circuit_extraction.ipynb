{
 "cells": [
  {
   "cell_type": "code",
   "execution_count": 6,
   "metadata": {},
   "outputs": [],
   "source": [
    "import obi\n",
    "\n",
    "circuit_extractions_form = obi.CircuitExtractions(\n",
    "                    initialize=obi.CircuitExtractions.Initialize(\n",
    "                        # circuit_path=obi.NamedPath(name=\"nbS1-O1\", path=\"/Volumes/4TB/SSCX O1 - release version/O1_data/circuit_config.json\"),\n",
    "                        # node_set=['nbS1-HEX0-L1']\n",
    "                        # circuit_path=obi.NamedPath(name=\"nbS1-HEX0-L1\", path=\"/Users/pokorny/JupyterLab/git_tmp/obi-output/extracted_subcircuits_test/nbS1-HEX0-L1/circuit_config.json\"),\n",
    "                        # node_set=['Layer1']\n",
    "                        # circuit_path=obi.NamedPath(name=\"nbS1-O1-beta\", path=\"/Users/pokorny/Data/nbS1-O1-beta/circuit_config_tc.json\"),\n",
    "                        # node_set=['nbS1-HEX0-beta-L1']\n",
    "                        circuit_path=obi.NamedPath(name=\"rCA1-CYLINDER-REF\", path=\"/Users/pokorny/Data/rCA1-CYLINDER-REF/circuit_config.json\"),\n",
    "                        node_set=['SP_Ivy']\n",
    "                    )\n",
    ")\n",
    "\n",
    "grid_scan = obi.GridScan(form=circuit_extractions_form, output_root='../../../obi-output/extracted_subcircuits_test', coordinate_directory_option=\"VALUE\")\n"
   ]
  },
  {
   "cell_type": "code",
   "execution_count": 7,
   "metadata": {},
   "outputs": [
    {
     "name": "stdout",
     "output_type": "stream",
     "text": [
      "Extracting subcircuit from 'rCA1-CYLINDER-REF'\n",
      "Copying morphologies for population 'hippocampus_neurons' (239)\n"
     ]
    },
    {
     "name": "stderr",
     "output_type": "stream",
     "text": [
      "Copying .swc morphologies: 100%|██████████████████████████████████████████████████████████████████████| 75/75 [00:00<00:00, 118.58it/s]\n"
     ]
    },
    {
     "name": "stdout",
     "output_type": "stream",
     "text": [
      "Copying biophysical_neuron_models for population 'hippocampus_neurons' (239)\n",
      "Extraction DONE\n"
     ]
    }
   ],
   "source": [
    "grid_scan.run()"
   ]
  },
  {
   "cell_type": "code",
   "execution_count": null,
   "metadata": {},
   "outputs": [],
   "source": []
  }
 ],
 "metadata": {
  "kernelspec": {
   "display_name": "OBISDKTmpKernel",
   "language": "python",
   "name": "obisdktmpkernel"
  },
  "language_info": {
   "codemirror_mode": {
    "name": "ipython",
    "version": 3
   },
   "file_extension": ".py",
   "mimetype": "text/x-python",
   "name": "python",
   "nbconvert_exporter": "python",
   "pygments_lexer": "ipython3",
   "version": "3.13.2"
  }
 },
 "nbformat": 4,
 "nbformat_minor": 4
}
