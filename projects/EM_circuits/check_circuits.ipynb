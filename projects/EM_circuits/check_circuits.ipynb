{
 "cells": [
  {
   "cell_type": "markdown",
   "id": "0b99541e-f51d-4d03-bf73-8f52409ff022",
   "metadata": {},
   "source": [
    "## Basic SONATA circuit check"
   ]
  },
  {
   "cell_type": "code",
   "execution_count": 1,
   "id": "4437fde3-4efe-4ea4-b0af-876dbcae01e4",
   "metadata": {},
   "outputs": [],
   "source": [
    "from obi_one import Circuit\n",
    "import warnings"
   ]
  },
  {
   "cell_type": "code",
   "execution_count": 11,
   "id": "0cd17061-f1c9-4527-b83e-4f47070f2d43",
   "metadata": {},
   "outputs": [],
   "source": [
    "c = Circuit(name=\"MICrONS\",\n",
    "            path=\"/Users/pokorny/JupyterLab/git/obi-output/containerized_EM_circuits/MICrONS/circuit_config.json\",\n",
    "            matrix_path=\"/Users/pokorny/OneDrive - Open Brain Institute/Circuits hardcoded/ConnectivityMatrices/MICrONS/connectivity_matrix.h5\")\n",
    "\n",
    "# c = Circuit(name=\"MICrONS\",\n",
    "#             path=\"/Users/pokorny/OneDrive - Open Brain Institute/Circuits hardcoded/Circuits/MICrONS/circuit_config.json\",\n",
    "#             matrix_path=\"/Users/pokorny/OneDrive - Open Brain Institute/Circuits hardcoded/ConnectivityMatrices/MICrONS/connectivity_matrix.h5\")\n",
    "\n",
    "# c = Circuit(name=\"H01\",\n",
    "#             path=\"/Users/pokorny/OneDrive - Open Brain Institute/Circuits hardcoded/Circuits/H01/circuit_config.json\",\n",
    "#             matrix_path=\"/Users/pokorny/OneDrive - Open Brain Institute/Circuits hardcoded/ConnectivityMatrices/H01/connectivity_matrix.h5\")\n"
   ]
  },
  {
   "cell_type": "code",
   "execution_count": 12,
   "id": "5287a366-c397-4a7d-9673-9dfe72148cee",
   "metadata": {},
   "outputs": [],
   "source": [
    "cc = c.sonata_circuit\n",
    "cmat = c.connectivity_matrix"
   ]
  },
  {
   "cell_type": "code",
   "execution_count": 13,
   "id": "cb03d6fa-c58b-4b3c-80f7-b669d25b431b",
   "metadata": {},
   "outputs": [
    {
     "data": {
      "text/plain": [
       "246972"
      ]
     },
     "execution_count": 13,
     "metadata": {},
     "output_type": "execute_result"
    }
   ],
   "source": [
    "# Total node size\n",
    "cc.nodes.size"
   ]
  },
  {
   "cell_type": "code",
   "execution_count": 14,
   "id": "cd07c445-ceb7-480a-8c55-3e5abe1fa3f3",
   "metadata": {},
   "outputs": [
    {
     "data": {
      "text/plain": [
       "12443630"
      ]
     },
     "execution_count": 14,
     "metadata": {},
     "output_type": "execute_result"
    }
   ],
   "source": [
    "# Total edge size\n",
    "cc.edges.size"
   ]
  },
  {
   "cell_type": "code",
   "execution_count": 15,
   "id": "65b5fa63-dd8b-421d-b924-ae539925c708",
   "metadata": {},
   "outputs": [
    {
     "data": {
      "text/plain": [
       "True"
      ]
     },
     "execution_count": 15,
     "metadata": {},
     "output_type": "execute_result"
    }
   ],
   "source": [
    "# Connectivity matrix node size matching\n",
    "nodes = cc.nodes[c.default_population_name]\n",
    "nodes.size == cmat.vertices.shape[0]"
   ]
  },
  {
   "cell_type": "code",
   "execution_count": 16,
   "id": "c6da5dc8-5df4-4d30-b141-4c7f42fd24e1",
   "metadata": {},
   "outputs": [
    {
     "data": {
      "text/plain": [
       "True"
      ]
     },
     "execution_count": 16,
     "metadata": {},
     "output_type": "execute_result"
    }
   ],
   "source": [
    "# Connectivity matrix edge size matching\n",
    "edges = cc.edges[f\"{c.default_population_name}__{c.default_population_name}__chemical\"]\n",
    "edges.size == cmat.matrix.size"
   ]
  },
  {
   "cell_type": "code",
   "execution_count": 17,
   "id": "99d3e23c-f5ec-446e-8b63-648980316d10",
   "metadata": {},
   "outputs": [
    {
     "name": "stdout",
     "output_type": "stream",
     "text": [
      "126575\n",
      "126053\n",
      "149370\n",
      "170268\n",
      "78283\n",
      "119421\n",
      "97147\n",
      "105136\n",
      "151990\n",
      "91304\n",
      "131400\n",
      "218162\n",
      "129562\n",
      "115228\n",
      "108369\n",
      "122839\n",
      "104483\n",
      "90133\n",
      "82920\n",
      "110777\n",
      "74182\n",
      "101511\n",
      "95826\n",
      "91296\n",
      "100934\n",
      "70458\n",
      "111770\n",
      "81585\n",
      "151571\n",
      "107792\n",
      "104394\n",
      "104264\n",
      "79831\n",
      "84786\n",
      "107314\n",
      "49203\n",
      "118296\n",
      "191845\n",
      "126006\n",
      "67562\n",
      "124014\n",
      "74105\n",
      "49094\n",
      "106265\n",
      "95515\n",
      "68973\n",
      "42264\n",
      "50173\n",
      "141349\n",
      "106846\n",
      "177010\n",
      "67171\n",
      "116203\n",
      "107669\n",
      "105064\n",
      "66961\n",
      "92108\n",
      "124336\n",
      "151943\n",
      "43596\n",
      "113503\n",
      "92778\n",
      "64910\n",
      "108933\n",
      "138269\n",
      "136169\n",
      "132282\n",
      "86261\n",
      "110441\n",
      "113505\n",
      "63606\n",
      "172572\n",
      "68700\n",
      "116727\n",
      "79860\n",
      "167857\n",
      "95193\n",
      "179327\n",
      "209235\n",
      "161112\n",
      "128845\n",
      "140765\n",
      "135229\n",
      "160320\n",
      "220944\n"
     ]
    }
   ],
   "source": [
    "# Load morphologies (ignore warnings)\n",
    "warnings.filterwarnings('ignore')  # Suppress all warnings\n",
    "\n",
    "node_morphs = nodes.get(properties=\"morphology\")\n",
    "node_ids = node_morphs[node_morphs != \"_NONE\"].index\n",
    "for nid in node_ids:\n",
    "    morph = nodes.morph.get(nid, transform=True, extension=\"h5\")\n",
    "    print(morph.n_points)"
   ]
  },
  {
   "cell_type": "code",
   "execution_count": 18,
   "id": "667eb462-f012-461d-9d4d-e1986d938316",
   "metadata": {},
   "outputs": [
    {
     "name": "stdout",
     "output_type": "stream",
     "text": [
      "Checking population 'em_extrinsic__microns_intrinsic__chemical'\n"
     ]
    },
    {
     "data": {
      "text/html": [
       "<div>\n",
       "<style scoped>\n",
       "    .dataframe tbody tr th:only-of-type {\n",
       "        vertical-align: middle;\n",
       "    }\n",
       "\n",
       "    .dataframe tbody tr th {\n",
       "        vertical-align: top;\n",
       "    }\n",
       "\n",
       "    .dataframe thead th {\n",
       "        text-align: right;\n",
       "    }\n",
       "</style>\n",
       "<table border=\"1\" class=\"dataframe\">\n",
       "  <thead>\n",
       "    <tr style=\"text-align: right;\">\n",
       "      <th></th>\n",
       "      <th>afferent_segment_offset</th>\n",
       "      <th>afferent_section_id</th>\n",
       "      <th>afferent_surface_y</th>\n",
       "      <th>afferent_synapse_y</th>\n",
       "      <th>afferent_synapse_z</th>\n",
       "      <th>afferent_surface_z</th>\n",
       "      <th>@target_node</th>\n",
       "      <th>source__size</th>\n",
       "      <th>@source_node</th>\n",
       "      <th>spine_id</th>\n",
       "      <th>afferent_segment_id</th>\n",
       "      <th>afferent_section_offset</th>\n",
       "      <th>afferent_synapse_x</th>\n",
       "      <th>source__id</th>\n",
       "      <th>afferent_surface_x</th>\n",
       "    </tr>\n",
       "  </thead>\n",
       "  <tbody>\n",
       "  </tbody>\n",
       "</table>\n",
       "</div>"
      ],
      "text/plain": [
       "Empty DataFrame\n",
       "Columns: [afferent_segment_offset, afferent_section_id, afferent_surface_y, afferent_synapse_y, afferent_synapse_z, afferent_surface_z, @target_node, source__size, @source_node, spine_id, afferent_segment_id, afferent_section_offset, afferent_synapse_x, source__id, afferent_surface_x]\n",
       "Index: []"
      ]
     },
     "metadata": {},
     "output_type": "display_data"
    },
    {
     "data": {
      "text/html": [
       "<div>\n",
       "<style scoped>\n",
       "    .dataframe tbody tr th:only-of-type {\n",
       "        vertical-align: middle;\n",
       "    }\n",
       "\n",
       "    .dataframe tbody tr th {\n",
       "        vertical-align: top;\n",
       "    }\n",
       "\n",
       "    .dataframe thead th {\n",
       "        text-align: right;\n",
       "    }\n",
       "</style>\n",
       "<table border=\"1\" class=\"dataframe\">\n",
       "  <thead>\n",
       "    <tr style=\"text-align: right;\">\n",
       "      <th></th>\n",
       "      <th>afferent_segment_offset</th>\n",
       "      <th>afferent_section_id</th>\n",
       "      <th>afferent_surface_y</th>\n",
       "      <th>afferent_synapse_y</th>\n",
       "      <th>afferent_synapse_z</th>\n",
       "      <th>afferent_surface_z</th>\n",
       "      <th>@target_node</th>\n",
       "      <th>source__size</th>\n",
       "      <th>@source_node</th>\n",
       "      <th>spine_id</th>\n",
       "      <th>afferent_segment_id</th>\n",
       "      <th>afferent_section_offset</th>\n",
       "      <th>afferent_synapse_x</th>\n",
       "      <th>source__id</th>\n",
       "      <th>afferent_surface_x</th>\n",
       "    </tr>\n",
       "  </thead>\n",
       "  <tbody>\n",
       "    <tr>\n",
       "      <th>0</th>\n",
       "      <td>0.104227</td>\n",
       "      <td>160</td>\n",
       "      <td>651.268188</td>\n",
       "      <td>651.8</td>\n",
       "      <td>940.8</td>\n",
       "      <td>937.889404</td>\n",
       "      <td>22951</td>\n",
       "      <td>9644</td>\n",
       "      <td>0</td>\n",
       "      <td>388</td>\n",
       "      <td>310</td>\n",
       "      <td>0.962823</td>\n",
       "      <td>630.536</td>\n",
       "      <td>124745364</td>\n",
       "      <td>631.403076</td>\n",
       "    </tr>\n",
       "  </tbody>\n",
       "</table>\n",
       "</div>"
      ],
      "text/plain": [
       "   afferent_segment_offset  afferent_section_id  afferent_surface_y  \\\n",
       "0                 0.104227                  160          651.268188   \n",
       "\n",
       "   afferent_synapse_y  afferent_synapse_z  afferent_surface_z  @target_node  \\\n",
       "0               651.8               940.8          937.889404         22951   \n",
       "\n",
       "   source__size  @source_node  spine_id  afferent_segment_id  \\\n",
       "0          9644             0       388                  310   \n",
       "\n",
       "   afferent_section_offset  afferent_synapse_x  source__id  afferent_surface_x  \n",
       "0                 0.962823             630.536   124745364          631.403076  "
      ]
     },
     "metadata": {},
     "output_type": "display_data"
    },
    {
     "name": "stdout",
     "output_type": "stream",
     "text": [
      "Checking population 'microns_intrinsic__microns_intrinsic__chemical'\n"
     ]
    },
    {
     "data": {
      "text/html": [
       "<div>\n",
       "<style scoped>\n",
       "    .dataframe tbody tr th:only-of-type {\n",
       "        vertical-align: middle;\n",
       "    }\n",
       "\n",
       "    .dataframe tbody tr th {\n",
       "        vertical-align: top;\n",
       "    }\n",
       "\n",
       "    .dataframe thead th {\n",
       "        text-align: right;\n",
       "    }\n",
       "</style>\n",
       "<table border=\"1\" class=\"dataframe\">\n",
       "  <thead>\n",
       "    <tr style=\"text-align: right;\">\n",
       "      <th></th>\n",
       "      <th>afferent_segment_offset</th>\n",
       "      <th>afferent_section_id</th>\n",
       "      <th>afferent_surface_y</th>\n",
       "      <th>afferent_synapse_y</th>\n",
       "      <th>afferent_synapse_z</th>\n",
       "      <th>afferent_surface_z</th>\n",
       "      <th>@target_node</th>\n",
       "      <th>source__size</th>\n",
       "      <th>@source_node</th>\n",
       "      <th>spine_id</th>\n",
       "      <th>afferent_segment_id</th>\n",
       "      <th>afferent_section_offset</th>\n",
       "      <th>afferent_synapse_x</th>\n",
       "      <th>source__id</th>\n",
       "      <th>afferent_surface_x</th>\n",
       "    </tr>\n",
       "  </thead>\n",
       "  <tbody>\n",
       "    <tr>\n",
       "      <th>0</th>\n",
       "      <td>0</td>\n",
       "      <td>0</td>\n",
       "      <td>-1.0</td>\n",
       "      <td>551.048</td>\n",
       "      <td>729.88</td>\n",
       "      <td>-1.0</td>\n",
       "      <td>0</td>\n",
       "      <td>22572</td>\n",
       "      <td>11</td>\n",
       "      <td>-1</td>\n",
       "      <td>0</td>\n",
       "      <td>0</td>\n",
       "      <td>1164.96</td>\n",
       "      <td>349460117</td>\n",
       "      <td>-1.0</td>\n",
       "    </tr>\n",
       "  </tbody>\n",
       "</table>\n",
       "</div>"
      ],
      "text/plain": [
       "   afferent_segment_offset  afferent_section_id  afferent_surface_y  \\\n",
       "0                        0                    0                -1.0   \n",
       "\n",
       "   afferent_synapse_y  afferent_synapse_z  afferent_surface_z  @target_node  \\\n",
       "0             551.048              729.88                -1.0             0   \n",
       "\n",
       "   source__size  @source_node  spine_id  afferent_segment_id  \\\n",
       "0         22572            11        -1                    0   \n",
       "\n",
       "   afferent_section_offset  afferent_synapse_x  source__id  afferent_surface_x  \n",
       "0                        0             1164.96   349460117                -1.0  "
      ]
     },
     "metadata": {},
     "output_type": "display_data"
    },
    {
     "data": {
      "text/html": [
       "<div>\n",
       "<style scoped>\n",
       "    .dataframe tbody tr th:only-of-type {\n",
       "        vertical-align: middle;\n",
       "    }\n",
       "\n",
       "    .dataframe tbody tr th {\n",
       "        vertical-align: top;\n",
       "    }\n",
       "\n",
       "    .dataframe thead th {\n",
       "        text-align: right;\n",
       "    }\n",
       "</style>\n",
       "<table border=\"1\" class=\"dataframe\">\n",
       "  <thead>\n",
       "    <tr style=\"text-align: right;\">\n",
       "      <th></th>\n",
       "      <th>afferent_segment_offset</th>\n",
       "      <th>afferent_section_id</th>\n",
       "      <th>afferent_surface_y</th>\n",
       "      <th>afferent_synapse_y</th>\n",
       "      <th>afferent_synapse_z</th>\n",
       "      <th>afferent_surface_z</th>\n",
       "      <th>@target_node</th>\n",
       "      <th>source__size</th>\n",
       "      <th>@source_node</th>\n",
       "      <th>spine_id</th>\n",
       "      <th>afferent_segment_id</th>\n",
       "      <th>afferent_section_offset</th>\n",
       "      <th>afferent_synapse_x</th>\n",
       "      <th>source__id</th>\n",
       "      <th>afferent_surface_x</th>\n",
       "    </tr>\n",
       "  </thead>\n",
       "  <tbody>\n",
       "    <tr>\n",
       "      <th>1600</th>\n",
       "      <td>0</td>\n",
       "      <td>0</td>\n",
       "      <td>-1.0</td>\n",
       "      <td>567.28</td>\n",
       "      <td>703.92</td>\n",
       "      <td>-1.0</td>\n",
       "      <td>8</td>\n",
       "      <td>528</td>\n",
       "      <td>0</td>\n",
       "      <td>-1</td>\n",
       "      <td>0</td>\n",
       "      <td>0</td>\n",
       "      <td>1126.52</td>\n",
       "      <td>330072669</td>\n",
       "      <td>-1.0</td>\n",
       "    </tr>\n",
       "  </tbody>\n",
       "</table>\n",
       "</div>"
      ],
      "text/plain": [
       "      afferent_segment_offset  afferent_section_id  afferent_surface_y  \\\n",
       "1600                        0                    0                -1.0   \n",
       "\n",
       "      afferent_synapse_y  afferent_synapse_z  afferent_surface_z  \\\n",
       "1600              567.28              703.92                -1.0   \n",
       "\n",
       "      @target_node  source__size  @source_node  spine_id  afferent_segment_id  \\\n",
       "1600             8           528             0        -1                    0   \n",
       "\n",
       "      afferent_section_offset  afferent_synapse_x  source__id  \\\n",
       "1600                        0             1126.52   330072669   \n",
       "\n",
       "      afferent_surface_x  \n",
       "1600                -1.0  "
      ]
     },
     "metadata": {},
     "output_type": "display_data"
    },
    {
     "name": "stdout",
     "output_type": "stream",
     "text": [
      "Checking population 'virtual_microns_intrinsic__microns_intrinsic__chemical'\n"
     ]
    },
    {
     "data": {
      "text/html": [
       "<div>\n",
       "<style scoped>\n",
       "    .dataframe tbody tr th:only-of-type {\n",
       "        vertical-align: middle;\n",
       "    }\n",
       "\n",
       "    .dataframe tbody tr th {\n",
       "        vertical-align: top;\n",
       "    }\n",
       "\n",
       "    .dataframe thead th {\n",
       "        text-align: right;\n",
       "    }\n",
       "</style>\n",
       "<table border=\"1\" class=\"dataframe\">\n",
       "  <thead>\n",
       "    <tr style=\"text-align: right;\">\n",
       "      <th></th>\n",
       "      <th>afferent_segment_offset</th>\n",
       "      <th>afferent_section_id</th>\n",
       "      <th>afferent_surface_y</th>\n",
       "      <th>afferent_synapse_y</th>\n",
       "      <th>afferent_synapse_z</th>\n",
       "      <th>afferent_surface_z</th>\n",
       "      <th>@target_node</th>\n",
       "      <th>source__size</th>\n",
       "      <th>@source_node</th>\n",
       "      <th>spine_id</th>\n",
       "      <th>afferent_segment_id</th>\n",
       "      <th>afferent_section_offset</th>\n",
       "      <th>afferent_synapse_x</th>\n",
       "      <th>source__id</th>\n",
       "      <th>afferent_surface_x</th>\n",
       "    </tr>\n",
       "  </thead>\n",
       "  <tbody>\n",
       "  </tbody>\n",
       "</table>\n",
       "</div>"
      ],
      "text/plain": [
       "Empty DataFrame\n",
       "Columns: [afferent_segment_offset, afferent_section_id, afferent_surface_y, afferent_synapse_y, afferent_synapse_z, afferent_surface_z, @target_node, source__size, @source_node, spine_id, afferent_segment_id, afferent_section_offset, afferent_synapse_x, source__id, afferent_surface_x]\n",
       "Index: []"
      ]
     },
     "metadata": {},
     "output_type": "display_data"
    },
    {
     "data": {
      "text/html": [
       "<div>\n",
       "<style scoped>\n",
       "    .dataframe tbody tr th:only-of-type {\n",
       "        vertical-align: middle;\n",
       "    }\n",
       "\n",
       "    .dataframe tbody tr th {\n",
       "        vertical-align: top;\n",
       "    }\n",
       "\n",
       "    .dataframe thead th {\n",
       "        text-align: right;\n",
       "    }\n",
       "</style>\n",
       "<table border=\"1\" class=\"dataframe\">\n",
       "  <thead>\n",
       "    <tr style=\"text-align: right;\">\n",
       "      <th></th>\n",
       "      <th>afferent_segment_offset</th>\n",
       "      <th>afferent_section_id</th>\n",
       "      <th>afferent_surface_y</th>\n",
       "      <th>afferent_synapse_y</th>\n",
       "      <th>afferent_synapse_z</th>\n",
       "      <th>afferent_surface_z</th>\n",
       "      <th>@target_node</th>\n",
       "      <th>source__size</th>\n",
       "      <th>@source_node</th>\n",
       "      <th>spine_id</th>\n",
       "      <th>afferent_segment_id</th>\n",
       "      <th>afferent_section_offset</th>\n",
       "      <th>afferent_synapse_x</th>\n",
       "      <th>source__id</th>\n",
       "      <th>afferent_surface_x</th>\n",
       "    </tr>\n",
       "  </thead>\n",
       "  <tbody>\n",
       "    <tr>\n",
       "      <th>304553</th>\n",
       "      <td>0</td>\n",
       "      <td>0</td>\n",
       "      <td>-1.0</td>\n",
       "      <td>375.488</td>\n",
       "      <td>1003.2</td>\n",
       "      <td>-1.0</td>\n",
       "      <td>24729</td>\n",
       "      <td>10236</td>\n",
       "      <td>0</td>\n",
       "      <td>-1</td>\n",
       "      <td>0</td>\n",
       "      <td>0</td>\n",
       "      <td>410.32</td>\n",
       "      <td>30586945</td>\n",
       "      <td>-1.0</td>\n",
       "    </tr>\n",
       "  </tbody>\n",
       "</table>\n",
       "</div>"
      ],
      "text/plain": [
       "        afferent_segment_offset  afferent_section_id  afferent_surface_y  \\\n",
       "304553                        0                    0                -1.0   \n",
       "\n",
       "        afferent_synapse_y  afferent_synapse_z  afferent_surface_z  \\\n",
       "304553             375.488              1003.2                -1.0   \n",
       "\n",
       "        @target_node  source__size  @source_node  spine_id  \\\n",
       "304553         24729         10236             0        -1   \n",
       "\n",
       "        afferent_segment_id  afferent_section_offset  afferent_synapse_x  \\\n",
       "304553                    0                        0              410.32   \n",
       "\n",
       "        source__id  afferent_surface_x  \n",
       "304553    30586945                -1.0  "
      ]
     },
     "metadata": {},
     "output_type": "display_data"
    }
   ],
   "source": [
    "# Check accessing afferent/efferent edges\n",
    "for epop in cc.edges.population_names:\n",
    "    print(f\"Checking population '{epop}'\")\n",
    "    edges = cc.edges[epop]\n",
    "    display(edges.afferent_edges(0, properties=list(edges.property_names)).head(1))\n",
    "    display(edges.efferent_edges(0, properties=list(edges.property_names)).head(1))"
   ]
  },
  {
   "cell_type": "code",
   "execution_count": null,
   "id": "1085d0fd-dff3-4012-aad3-cad4c75ad344",
   "metadata": {},
   "outputs": [],
   "source": []
  }
 ],
 "metadata": {
  "kernelspec": {
   "display_name": "obi-one",
   "language": "python",
   "name": "obi-one"
  },
  "language_info": {
   "codemirror_mode": {
    "name": "ipython",
    "version": 3
   },
   "file_extension": ".py",
   "mimetype": "text/x-python",
   "name": "python",
   "nbconvert_exporter": "python",
   "pygments_lexer": "ipython3",
   "version": "3.12.9"
  }
 },
 "nbformat": 4,
 "nbformat_minor": 5
}
