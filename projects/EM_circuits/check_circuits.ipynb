{
 "cells": [
  {
   "cell_type": "markdown",
   "id": "0b99541e-f51d-4d03-bf73-8f52409ff022",
   "metadata": {},
   "source": [
    "## Basic SONATA circuit check"
   ]
  },
  {
   "cell_type": "code",
   "execution_count": 1,
   "id": "4437fde3-4efe-4ea4-b0af-876dbcae01e4",
   "metadata": {},
   "outputs": [],
   "source": [
    "from obi_one import Circuit\n",
    "import warnings"
   ]
  },
  {
   "cell_type": "code",
   "execution_count": 2,
   "id": "0cd17061-f1c9-4527-b83e-4f47070f2d43",
   "metadata": {},
   "outputs": [],
   "source": [
    "# c = Circuit(name=\"MICrONS\",\n",
    "#             path=\"/Users/pokorny/JupyterLab/git/obi-output/containerized_EM_circuits/MICrONS/circuit_config.json\",\n",
    "#             matrix_path=\"/Users/pokorny/OneDrive - Open Brain Institute/Circuits hardcoded/ConnectivityMatrices/MICrONS/connectivity_matrix.h5\")\n",
    "\n",
    "c = Circuit(name=\"H01\",\n",
    "            path=\"/Users/pokorny/JupyterLab/git/obi-output/containerized_EM_circuits/H01/circuit_config.json\",\n",
    "            matrix_path=\"/Users/pokorny/OneDrive - Open Brain Institute/Circuits hardcoded/ConnectivityMatrices/H01/connectivity_matrix.h5\")\n"
   ]
  },
  {
   "cell_type": "code",
   "execution_count": 3,
   "id": "5287a366-c397-4a7d-9673-9dfe72148cee",
   "metadata": {},
   "outputs": [],
   "source": [
    "cc = c.sonata_circuit\n",
    "cmat = c.connectivity_matrix"
   ]
  },
  {
   "cell_type": "code",
   "execution_count": 4,
   "id": "cb03d6fa-c58b-4b3c-80f7-b669d25b431b",
   "metadata": {},
   "outputs": [
    {
     "data": {
      "text/plain": [
       "118666"
      ]
     },
     "execution_count": 4,
     "metadata": {},
     "output_type": "execute_result"
    }
   ],
   "source": [
    "# Total node size\n",
    "cc.nodes.size"
   ]
  },
  {
   "cell_type": "code",
   "execution_count": 5,
   "id": "cd07c445-ceb7-480a-8c55-3e5abe1fa3f3",
   "metadata": {},
   "outputs": [
    {
     "data": {
      "text/plain": [
       "131645"
      ]
     },
     "execution_count": 5,
     "metadata": {},
     "output_type": "execute_result"
    }
   ],
   "source": [
    "# Total edge size\n",
    "cc.edges.size"
   ]
  },
  {
   "cell_type": "code",
   "execution_count": 6,
   "id": "65b5fa63-dd8b-421d-b924-ae539925c708",
   "metadata": {},
   "outputs": [
    {
     "data": {
      "text/plain": [
       "True"
      ]
     },
     "execution_count": 6,
     "metadata": {},
     "output_type": "execute_result"
    }
   ],
   "source": [
    "# Connectivity matrix node size matching\n",
    "cc.nodes[c.default_population_name].size == cmat.vertices.shape[0]"
   ]
  },
  {
   "cell_type": "code",
   "execution_count": 7,
   "id": "c6da5dc8-5df4-4d30-b141-4c7f42fd24e1",
   "metadata": {},
   "outputs": [
    {
     "data": {
      "text/plain": [
       "True"
      ]
     },
     "execution_count": 7,
     "metadata": {},
     "output_type": "execute_result"
    }
   ],
   "source": [
    "# Connectivity matrix edge size matching\n",
    "cc.edges[f\"{c.default_population_name}__{c.default_population_name}__chemical\"].size == cmat.matrix.size"
   ]
  },
  {
   "cell_type": "code",
   "execution_count": 8,
   "id": "99d3e23c-f5ec-446e-8b63-648980316d10",
   "metadata": {},
   "outputs": [
    {
     "name": "stdout",
     "output_type": "stream",
     "text": [
      "44946\n",
      "47696\n",
      "54399\n",
      "58575\n",
      "28395\n",
      "55415\n",
      "38481\n",
      "52017\n",
      "50992\n",
      "102090\n",
      "69943\n",
      "21222\n",
      "39248\n",
      "51424\n",
      "40869\n",
      "13655\n",
      "25235\n",
      "9967\n",
      "53258\n",
      "31901\n",
      "94594\n",
      "48692\n",
      "43905\n",
      "60010\n",
      "72796\n",
      "92222\n",
      "85569\n",
      "36660\n",
      "40604\n",
      "35837\n",
      "30599\n",
      "145598\n",
      "31927\n",
      "24152\n",
      "61456\n",
      "66287\n",
      "90843\n",
      "35463\n",
      "24790\n",
      "36121\n",
      "20831\n",
      "21409\n",
      "39530\n",
      "42161\n",
      "79725\n",
      "31509\n",
      "22834\n",
      "46644\n",
      "132899\n",
      "14111\n",
      "23042\n",
      "40175\n",
      "8463\n",
      "54942\n",
      "49288\n",
      "76798\n",
      "40360\n",
      "21777\n",
      "11906\n",
      "53595\n",
      "34426\n",
      "17680\n",
      "65336\n",
      "57659\n",
      "33753\n",
      "4131\n",
      "45196\n",
      "18586\n",
      "43945\n",
      "25480\n",
      "32929\n",
      "148846\n",
      "95482\n",
      "32864\n",
      "56680\n",
      "170543\n",
      "57785\n",
      "123186\n",
      "48795\n",
      "16836\n",
      "30699\n",
      "43730\n",
      "59543\n",
      "122101\n",
      "33562\n",
      "33450\n",
      "28144\n",
      "73156\n"
     ]
    }
   ],
   "source": [
    "# Load morphologies (ignore warnings)\n",
    "warnings.filterwarnings('ignore')  # Suppress all warnings\n",
    "\n",
    "nodes = cc.nodes[c.default_population_name]\n",
    "node_morphs = nodes.get(properties=\"morphology\")\n",
    "node_ids = node_morphs[node_morphs != \"_NONE\"].index\n",
    "for nid in node_ids:\n",
    "    morph = nodes.morph.get(nid, transform=True, extension=\"h5\")\n",
    "    print(morph.n_points)"
   ]
  },
  {
   "cell_type": "code",
   "execution_count": null,
   "id": "3c059b63-7853-4c57-aa5a-8af3bba1f393",
   "metadata": {},
   "outputs": [],
   "source": []
  }
 ],
 "metadata": {
  "kernelspec": {
   "display_name": "obi-one",
   "language": "python",
   "name": "obi-one"
  },
  "language_info": {
   "codemirror_mode": {
    "name": "ipython",
    "version": 3
   },
   "file_extension": ".py",
   "mimetype": "text/x-python",
   "name": "python",
   "nbconvert_exporter": "python",
   "pygments_lexer": "ipython3",
   "version": "3.12.9"
  }
 },
 "nbformat": 4,
 "nbformat_minor": 5
}
