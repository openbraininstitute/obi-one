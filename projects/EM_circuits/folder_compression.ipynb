{
 "cells": [
  {
   "cell_type": "code",
   "execution_count": 2,
   "metadata": {},
   "outputs": [],
   "source": [
    "import obi_one as obi\n",
    "from pathlib import Path"
   ]
  },
  {
   "cell_type": "code",
   "execution_count": 3,
   "metadata": {},
   "outputs": [],
   "source": [
    "input_root = Path(\"../../../obi-output/containerized_EM_circuits\")\n",
    "output_root = Path(\"../../../obi-output/compressed_EM_circuits\")\n"
   ]
  },
  {
   "cell_type": "code",
   "execution_count": 6,
   "metadata": {},
   "outputs": [],
   "source": [
    "folder_compressions_form = obi.FolderCompressions(\n",
    "                    initialize=obi.FolderCompressions.Initialize(\n",
    "                        folder_path=[\n",
    "                            # obi.NamedPath(name=\"MICrONS\", path=str(input_root / \"MICrONS\")),\n",
    "                            obi.NamedPath(name=\"H01\", path=str(input_root / \"H01\")),\n",
    "                        ],\n",
    "                        file_format=\"gz\",\n",
    "                        file_name=\"circuit\"\n",
    "                    )\n",
    ")\n",
    "\n",
    "grid_scan = obi.GridScan(form=folder_compressions_form, output_root=output_root, coordinate_directory_option=\"VALUE\")"
   ]
  },
  {
   "cell_type": "code",
   "execution_count": 7,
   "metadata": {},
   "outputs": [
    {
     "name": "stdout",
     "output_type": "stream",
     "text": [
      "[2025-06-26 14:12:15,241] INFO: None\n",
      "[2025-06-26 14:12:15,242] INFO: Info: Running gz compression on 'H01'...\n",
      "[2025-06-26 14:12:28,303] INFO: DONE (Duration 00h:00min:13s; File size 77.7MB)\n",
      "[2025-06-26 14:12:28,306] INFO: create_bbp_workflow_campaign_config() not yet complete.\n"
     ]
    },
    {
     "data": {
      "text/plain": [
       "{0: None}"
      ]
     },
     "execution_count": 7,
     "metadata": {},
     "output_type": "execute_result"
    }
   ],
   "source": [
    "grid_scan.execute(processing_method='run')"
   ]
  },
  {
   "cell_type": "code",
   "execution_count": null,
   "metadata": {},
   "outputs": [],
   "source": []
  }
 ],
 "metadata": {
  "kernelspec": {
   "display_name": "obi-one",
   "language": "python",
   "name": "obi-one"
  },
  "language_info": {
   "codemirror_mode": {
    "name": "ipython",
    "version": 3
   },
   "file_extension": ".py",
   "mimetype": "text/x-python",
   "name": "python",
   "nbconvert_exporter": "python",
   "pygments_lexer": "ipython3",
   "version": "3.12.9"
  }
 },
 "nbformat": 4,
 "nbformat_minor": 4
}
