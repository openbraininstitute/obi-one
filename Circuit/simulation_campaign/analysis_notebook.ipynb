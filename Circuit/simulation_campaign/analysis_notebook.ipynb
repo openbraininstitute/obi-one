{
 "cells": [
  {
   "cell_type": "markdown",
   "metadata": {},
   "source": [
    "## Imports"
   ]
  },
  {
   "cell_type": "code",
   "execution_count": null,
   "metadata": {},
   "outputs": [],
   "source": [
    "from obi_auth import get_token\n",
    "from entitysdk.client import Client\n",
    "from entitysdk.models import Simulation, SimulationCampaign, SimulationResult, SimulationExecution\n",
    "from obi_auth import get_token\n",
    "from obi_notebook.get_projects import get_projects"
   ]
  },
  {
   "cell_type": "markdown",
   "metadata": {},
   "source": [
    "## Get authentication token and choose a project context"
   ]
  },
  {
   "cell_type": "code",
   "execution_count": null,
   "metadata": {},
   "outputs": [],
   "source": [
    "token = get_token(environment=\"production\", auth_mode=\"daf\")\n",
    "project_context = get_projects(token=token)"
   ]
  },
  {
   "cell_type": "markdown",
   "metadata": {},
   "source": [
    "## Initialize the client with the token and project context"
   ]
  },
  {
   "cell_type": "code",
   "execution_count": null,
   "metadata": {},
   "outputs": [],
   "source": [
    "client = Client(environment=\"production\", project_context=project_context, token_manager=token)"
   ]
  },
  {
   "cell_type": "markdown",
   "metadata": {},
   "source": [
    "## Select SimulationCampaigns\n",
    "Either by:\n",
    "1. Specifying SimulationCampaign IDs\n",
    "2. Selecting from the widget"
   ]
  },
  {
   "cell_type": "code",
   "execution_count": null,
   "metadata": {},
   "outputs": [],
   "source": [
    "from obi_notebook import get_entities\n",
    "\n",
    "# Optional: Download using unique ID\n",
    "entity_IDs = \"<SIMULATION-CAMPAIGN-IDs>\"  # <<< FILL IN A LIST OF UNIQUE SIMULATION CAMPAIGN IDENTIFIERS HERE\n",
    "\n",
    "\n",
    "if entity_IDs != \"<SIMULATION-CAMPAIGN-IDs>\":\n",
    "    simulation_campaign_ids = [entity_IDs]\n",
    "else:\n",
    "# Alternative: Select from a table of entities\n",
    "    simulation_campaign_ids = []\n",
    "    simulation_campaign_ids = get_entities.get_entities(\"simulation-campaign\", token, simulation_campaign_ids,\n",
    "                                          env=\"production\",\n",
    "                                          project_context=project_context,\n",
    "                                          multi_select=True,\n",
    "                                          page_size=100)"
   ]
  },
  {
   "cell_type": "markdown",
   "metadata": {},
   "source": [
    "## Print the selected IDs\n",
    "If you used the widget you might want to copy these the entity_IDs parameter so they are already selected for next time"
   ]
  },
  {
   "cell_type": "code",
   "execution_count": null,
   "metadata": {},
   "outputs": [],
   "source": [
    "print(simulation_campaign_ids)"
   ]
  },
  {
   "cell_type": "markdown",
   "metadata": {},
   "source": [
    "## Helper function for downloading a SimulationCampaign"
   ]
  },
  {
   "cell_type": "code",
   "execution_count": null,
   "metadata": {},
   "outputs": [],
   "source": [
    "from entitysdk.staging.simulation import stage_simulation\n",
    "from entitysdk.staging.simulation_result import stage_simulation_result\n",
    "\n",
    "def stage_sim_campaign(simulation_campaign_id, output_dir):\n",
    "    simulation_campaign = client.get_entity(entity_type=SimulationCampaign, entity_id=simulation_campaign_id)\n",
    "\n",
    "    simulation_config_paths = []\n",
    "\n",
    "    for id, simulation in enumerate(simulation_campaign.simulations):\n",
    "        \n",
    "        simulation_executions = client.search_entity(\n",
    "                    entity_type=SimulationExecution,\n",
    "                    query={\"used__id\": simulation.id}\n",
    "                ).all()\n",
    "        \n",
    "        if len(simulation_executions) == 0:\n",
    "            print(f\"Warning: No SimulationExecution found for Simulation ID: {simulation.id}\")\n",
    "        simulation_execution = simulation_executions[0]\n",
    "        \n",
    "        simulation_result_id = simulation_execution.generated[0].id\n",
    "        simulation_result = client.get_entity(entity_type=SimulationResult, entity_id=simulation_result_id)\n",
    "        \n",
    "        simulation_config_path = stage_simulation_result(\n",
    "            client=client,\n",
    "            model=simulation_result,\n",
    "            output_dir=output_dir + f\"/simulation_{id}\",\n",
    "            simulation_config_file=None,\n",
    "        )\n",
    "        simulation_config_paths.append(simulation_config_path)\n",
    "\n",
    "    return simulation_config_paths"
   ]
  },
  {
   "cell_type": "markdown",
   "metadata": {},
   "source": [
    "# Stage each SimulationCampaign"
   ]
  },
  {
   "cell_type": "code",
   "execution_count": null,
   "metadata": {},
   "outputs": [],
   "source": [
    "simulation_config_paths_by_campaign = []\n",
    "for i, simulation_campaign_id in enumerate(simulation_campaign_ids):\n",
    "    print(f\"Staging simulation campaign {i+1}/{len(simulation_campaign_ids)}: {simulation_campaign_id}\")\n",
    "\n",
    "    output_dir = f\"./simulation_results/{simulation_campaign_id}\"\n",
    "    simulation_config_paths = stage_sim_campaign(simulation_campaign_id, output_dir=output_dir)\n",
    "    simulation_config_paths_by_campaign.append(simulation_config_paths)"
   ]
  },
  {
   "cell_type": "markdown",
   "metadata": {},
   "source": [
    "# Plot and print the spikes"
   ]
  },
  {
   "cell_type": "code",
   "execution_count": null,
   "metadata": {},
   "outputs": [],
   "source": [
    "for simulation_config_paths in simulation_config_paths_by_campaign:\n",
    "    for simulation_config_path in simulation_config_paths:\n",
    "        print(f\"Processing simulation config path: {simulation_config_path}\")\n",
    "        \n",
    "        # Plot and print the spikes\n",
    "        import bluepysnap\n",
    "        snap_simulation = bluepysnap.Simulation(simulation_config_path)\n",
    "        spikes = snap_simulation.spikes\n",
    "        spikes.filter().raster()\n",
    "\n",
    "        print(spikes.population_names)\n",
    "        for population in spikes.population_names:\n",
    "            population_spikes = spikes[population]\n",
    "            print(population_spikes.get())"
   ]
  },
  {
   "cell_type": "code",
   "execution_count": null,
   "metadata": {},
   "outputs": [],
   "source": []
  }
 ],
 "metadata": {
  "kernelspec": {
   "display_name": "obi-one (3.12.9)",
   "language": "python",
   "name": "python3"
  },
  "language_info": {
   "codemirror_mode": {
    "name": "ipython",
    "version": 3
   },
   "file_extension": ".py",
   "mimetype": "text/x-python",
   "name": "python",
   "nbconvert_exporter": "python",
   "pygments_lexer": "ipython3",
   "version": "3.12.9"
  }
 },
 "nbformat": 4,
 "nbformat_minor": 4
}
