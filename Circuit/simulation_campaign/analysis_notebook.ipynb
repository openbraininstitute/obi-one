{
 "cells": [
  {
   "cell_type": "code",
   "execution_count": null,
   "metadata": {},
   "outputs": [],
   "source": [
    "from obi_auth import get_token\n",
    "from entitysdk.client import Client\n",
    "from entitysdk.models import Simulation, SimulationCampaign, SimulationResult, SimulationExecution\n",
    "from entitysdk.common import ProjectContext"
   ]
  },
  {
   "cell_type": "code",
   "execution_count": null,
   "metadata": {},
   "outputs": [],
   "source": [
    "virtual_lab_id = # Replace with your virtual lab ID\n",
    "project_id = # Replace with your project ID\n",
    "\n",
    "token = get_token(environment=\"staging\", auth_mode=\"daf\")\n",
    "project_context = ProjectContext(virtual_lab_id=virtual_lab_id, project_id=project_id)\n",
    "client = Client(environment=\"staging\", \n",
    "                project_context=project_context, \n",
    "                token_manager=token)"
   ]
  },
  {
   "cell_type": "code",
   "execution_count": null,
   "metadata": {},
   "outputs": [],
   "source": [
    "from entitysdk.staging.simulation import stage_simulation\n",
    "from entitysdk.staging.simulation_result import stage_simulation_result\n",
    "\n",
    "def stage_single_sim_campaign(simulation_campaign_id, output_dir):\n",
    "    simulation_campaign = client.get_entity(entity_type=SimulationCampaign, entity_id=simulation_campaign_id)\n",
    "    simulation_id = simulation_campaign.simulations[0].id\n",
    "    simulation = client.get_entity(entity_type=Simulation, entity_id=simulation_id)\n",
    "    \n",
    "    simulation_execution = client.search_entity(\n",
    "                entity_type=SimulationExecution,\n",
    "                query={\"used__id\": simulation.id}\n",
    "            ).all()[0]\n",
    "    \n",
    "    simulation_result_id = simulation_execution.generated[0].id\n",
    "    simulation_result = client.get_entity(entity_type=SimulationResult, entity_id=simulation_result_id)\n",
    "    \n",
    "    simulation_config_path = stage_simulation_result(\n",
    "        client=client,\n",
    "        model=simulation_result,\n",
    "        output_dir=output_dir,\n",
    "        simulation_config_file=None,\n",
    "    )\n",
    "\n",
    "    return simulation_config_path"
   ]
  },
  {
   "cell_type": "code",
   "execution_count": null,
   "metadata": {},
   "outputs": [],
   "source": [
    "simulation_campaign_id = # Replace with your simulation campaign ID\n",
    "output_dir = \"./simulation_result_0\"\n",
    "simulation_config_path = stage_single_sim_campaign(simulation_campaign_id, output_dir=output_dir)"
   ]
  },
  {
   "cell_type": "code",
   "execution_count": null,
   "metadata": {},
   "outputs": [],
   "source": [
    "import bluepysnap\n",
    "snap_simulation = bluepysnap.Simulation(simulation_config_path)\n",
    "spikes = snap_simulation.spikes\n",
    "pop_spikes = spikes['S1nonbarrel_neurons']\n",
    "print(pop_spikes.get())"
   ]
  },
  {
   "cell_type": "code",
   "execution_count": null,
   "metadata": {},
   "outputs": [],
   "source": [
    "spikes.filter().raster()"
   ]
  }
 ],
 "metadata": {
  "kernelspec": {
   "display_name": "obi-one",
   "language": "python",
   "name": "python3"
  },
  "language_info": {
   "codemirror_mode": {
    "name": "ipython",
    "version": 3
   },
   "file_extension": ".py",
   "mimetype": "text/x-python",
   "name": "python",
   "nbconvert_exporter": "python",
   "pygments_lexer": "ipython3",
   "version": "3.12.9"
  }
 },
 "nbformat": 4,
 "nbformat_minor": 4
}
