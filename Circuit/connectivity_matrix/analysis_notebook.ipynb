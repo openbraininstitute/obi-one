{
 "cells": [
  {
   "cell_type": "markdown",
   "id": "30723356-6a44-4e2b-8003-d72b61790129",
   "metadata": {},
   "source": [
    "# Extract and display a connectivity matrix from a SONATA circuit\n",
    "\n",
    "Copyright (c) 2025 Open Brain Institute\n",
    "\n",
    "Authors: Christoph Pokorny\n",
    "\n",
    "Last modified: 01.2025\n",
    "\n",
    "## Summary\n",
    "This analysis extracts and visualizes a matrix of connection probabilities or #synapses per connection (mean/SD/...), grouped by a selected neuron property (layer, m-type, ...).\n",
    "For details, see the [README](README.md)."
   ]
  },
  {
   "cell_type": "code",
   "execution_count": 3,
   "id": "82b4d876-ca70-4a3c-983c-02f92613ba67",
   "metadata": {},
   "outputs": [],
   "source": [
    "import matplotlib.pyplot as plt\n",
    "import numpy as np\n",
    "import os\n",
    "import pandas as pd\n",
    "\n",
    "from bluepysnap import Circuit\n",
    "from connectome_manipulator.connectome_comparison import connectivity\n",
    "from ipywidgets import widgets, interact"
   ]
  },
  {
   "cell_type": "code",
   "execution_count": null,
   "id": "ffa003da-4a31-47c1-b357-61b314061ca5",
   "metadata": {},
   "outputs": [],
   "source": []
  },
  {
   "cell_type": "markdown",
   "id": "1a993ae0-36d3-49c0-91a0-23b80dca9af0",
   "metadata": {},
   "source": [
    "## Circuit selection\n",
    "\n",
    "A SONATA circuit is assumed to be located under `./analysis_circuit/circuit_config.json`. For using an existing circuit from some other location, modify the `circuit_config = ...` path below accordingly."
   ]
  },
  {
   "cell_type": "code",
   "execution_count": 4,
   "id": "744cf88a-73c9-41d0-baf3-c4392032b693",
   "metadata": {},
   "outputs": [],
   "source": [
    "# Path to existing circuit config\n",
    "circuit_config = \"analysis_circuit/circuit_config.json\"\n",
    "\n",
    "assert os.path.exists(circuit_config), f\"ERROR: Circuit config '{os.path.split(circuit_config)[1]}' not found!\""
   ]
  },
  {
   "cell_type": "markdown",
   "id": "8f74d206-4bb6-476a-92ea-97f75f39e557",
   "metadata": {},
   "source": [
    "Loading SONATA circuit. Selections of the edge population containing the synapses, as well as pre-/post-synaptic node sets defining groups of neurons are possible."
   ]
  },
  {
   "cell_type": "code",
   "execution_count": 5,
   "id": "0a8166d3-8f8b-45bf-bc89-707e66cf216f",
   "metadata": {},
   "outputs": [
    {
     "data": {
      "application/vnd.jupyter.widget-view+json": {
       "model_id": "844201d63f8745878a077db51b7bfb95",
       "version_major": 2,
       "version_minor": 0
      },
      "text/plain": [
       "Dropdown(description='Edge population:', layout=Layout(width='max-content'), options=('nodeA__nodeA__chemical'…"
      ]
     },
     "metadata": {},
     "output_type": "display_data"
    },
    {
     "data": {
      "application/vnd.jupyter.widget-view+json": {
       "model_id": "f436ffebaaa14505b7d55b16bfa47123",
       "version_major": 2,
       "version_minor": 0
      },
      "text/plain": [
       "Dropdown(description='Pre-synaptic node set:', layout=Layout(width='max-content'), options=(None, 'LayerA', 'L…"
      ]
     },
     "metadata": {},
     "output_type": "display_data"
    },
    {
     "data": {
      "application/vnd.jupyter.widget-view+json": {
       "model_id": "f7a2a1c12e28499dbbf24a42c6031c33",
       "version_major": 2,
       "version_minor": 0
      },
      "text/plain": [
       "Dropdown(description='Post-synaptic node set:', layout=Layout(width='max-content'), options=(None, 'LayerA', '…"
      ]
     },
     "metadata": {},
     "output_type": "display_data"
    }
   ],
   "source": [
    "c = Circuit(circuit_config)\n",
    "e_populations = c.edges.population_names\n",
    "assert len(e_populations) > 0, \"ERROR: No edge population found!\"\n",
    "node_sets = list(c.node_sets.content.keys())\n",
    "e_popul_wdgt = widgets.Dropdown(options=e_populations, description=\"Edge population:\", style={\"description_width\": \"auto\"}, layout=widgets.Layout(width=\"max-content\"))\n",
    "pre_nset_wdgt = widgets.Dropdown(options=[None] + node_sets, description=\"Pre-synaptic node set:\", style={\"description_width\": \"auto\"}, layout=widgets.Layout(width=\"max-content\"))\n",
    "post_nset_wdgt = widgets.Dropdown(options=[None] + node_sets, description=\"Post-synaptic node set:\", style={\"description_width\": \"auto\"}, layout=widgets.Layout(width=\"max-content\"))\n",
    "display(e_popul_wdgt)\n",
    "display(pre_nset_wdgt)\n",
    "display(post_nset_wdgt)"
   ]
  },
  {
   "cell_type": "markdown",
   "id": "3079777f-be81-4274-a005-500ecb059714",
   "metadata": {},
   "source": [
    "The connectivity is grouped by one selected (categorical) neuron properties, like layer, m-type, etc."
   ]
  },
  {
   "cell_type": "code",
   "execution_count": 6,
   "id": "ba081fa7-bd8d-4a83-92a4-721bf6cb5d90",
   "metadata": {},
   "outputs": [
    {
     "data": {
      "application/vnd.jupyter.widget-view+json": {
       "model_id": "0944b9516ab540bba6e471873ddb9bb9",
       "version_major": 2,
       "version_minor": 0
      },
      "text/plain": [
       "Dropdown(description='Group-by:', index=1, layout=Layout(width='max-content'), options=(np.str_('etype'), np.s…"
      ]
     },
     "metadata": {},
     "output_type": "display_data"
    }
   ],
   "source": [
    "def get_props(nodes):\n",
    "    is_cat = nodes.get([]).dtypes.apply(lambda _x: isinstance(_x, pd.CategoricalDtype))\n",
    "    props = is_cat[is_cat].index.to_list()  # Select categorical properties\n",
    "    for _p in [\"layer\", \"mtype\", \"etype\", \"synapse_class\"]:\n",
    "        if _p in nodes.property_names:\n",
    "            props = props + [_p]  # Add certain properties, even if not categorical\n",
    "    return np.unique(props)\n",
    "node_props = np.intersect1d(get_props(c.edges[e_popul_wdgt.value].source), get_props(c.edges[e_popul_wdgt.value].target))\n",
    "groupby_wdgt = widgets.Dropdown(options=node_props, value=\"layer\" if \"layer\" in node_props else node_props[0], description=\"Group-by:\", style={\"description_width\": \"auto\"}, layout=widgets.Layout(width=\"max-content\"))\n",
    "display(groupby_wdgt)"
   ]
  },
  {
   "cell_type": "code",
   "execution_count": null,
   "id": "233d3c25-f90a-4ebc-84a1-11dd8a1910c4",
   "metadata": {},
   "outputs": [],
   "source": []
  },
  {
   "cell_type": "markdown",
   "id": "a4cc7a87-bffc-4158-8439-7b167cb274ae",
   "metadata": {},
   "source": [
    "Extract the adjacency/synaptome matrix using functionality from [connectome-manipulator](https://github.com/openbraininstitute/connectome-manipulator)."
   ]
  },
  {
   "cell_type": "code",
   "execution_count": 7,
   "id": "55b76f23-5b84-4373-a275-a27baf458553",
   "metadata": {},
   "outputs": [
    {
     "name": "stdout",
     "output_type": "stream",
     "text": [
      "INFO: Computing connectivity (group_by=layer, sel_src={}, sel_dest={}, N=3x3 groups)\n"
     ]
    },
    {
     "name": "stderr",
     "output_type": "stream",
     "text": [
      "100% |#########################################################################|\n"
     ]
    }
   ],
   "source": [
    "conn_dict = connectivity.compute(c, sel_src=pre_nset_wdgt.value, sel_dest=post_nset_wdgt.value, edges_popul_name=e_popul_wdgt.value, group_by=groupby_wdgt.value)"
   ]
  },
  {
   "cell_type": "code",
   "execution_count": null,
   "id": "a5b0573e-1ab5-4433-bbd6-e9933189169e",
   "metadata": {},
   "outputs": [],
   "source": []
  },
  {
   "cell_type": "markdown",
   "id": "01a99999-cc49-4c33-af9f-21007f5cfcb6",
   "metadata": {},
   "source": [
    "Interactive visualization of adjacency or synaptome matrix. Marker scaling and alpha (transparency) can be adjusted for better display of small/large matrices."
   ]
  },
  {
   "cell_type": "code",
   "execution_count": 8,
   "id": "d8082b93-df4e-4dec-aa50-9fa885831dbd",
   "metadata": {},
   "outputs": [],
   "source": [
    "# Interactive plot function\n",
    "def plot_fct(res_sel):\n",
    "    connectivity.plot(conn_dict[res_sel], conn_dict[\"common\"], vmin=0.0, group_by=groupby_wdgt.value)"
   ]
  },
  {
   "cell_type": "code",
   "execution_count": 9,
   "id": "f154b83d-1593-4e9f-b3e4-2c7f86af7885",
   "metadata": {},
   "outputs": [
    {
     "data": {
      "application/vnd.jupyter.widget-view+json": {
       "model_id": "9621a1741816441a8a2edcc7abde8963",
       "version_major": 2,
       "version_minor": 0
      },
      "text/plain": [
       "interactive(children=(Dropdown(description='Display:', layout=Layout(width='max-content'), options=(('Conn. pr…"
      ]
     },
     "metadata": {},
     "output_type": "display_data"
    }
   ],
   "source": [
    "res_sel_opt = [(_v[\"unit\"], _k) for _k, _v in sorted(conn_dict.items()) if \"unit\" in _v]\n",
    "res_sel_wdgt = widgets.Dropdown(options=res_sel_opt, description=\"Display:\", style={\"description_width\": \"auto\"}, layout=widgets.Layout(width=\"max-content\"))\n",
    "iplot = interact(plot_fct, res_sel=res_sel_wdgt)"
   ]
  },
  {
   "cell_type": "code",
   "execution_count": null,
   "id": "161195c6-8924-4f47-9d45-f06657e97894",
   "metadata": {},
   "outputs": [],
   "source": []
  }
 ],
 "metadata": {
  "kernelspec": {
   "display_name": "OBIKernel",
   "language": "python",
   "name": "obikernel"
  },
  "language_info": {
   "codemirror_mode": {
    "name": "ipython",
    "version": 3
   },
   "file_extension": ".py",
   "mimetype": "text/x-python",
   "name": "python",
   "nbconvert_exporter": "python",
   "pygments_lexer": "ipython3",
   "version": "3.13.1"
  }
 },
 "nbformat": 4,
 "nbformat_minor": 5
}
