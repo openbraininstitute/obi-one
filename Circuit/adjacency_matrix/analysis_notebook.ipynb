{
 "cells": [
  {
   "cell_type": "markdown",
   "id": "30723356-6a44-4e2b-8003-d72b61790129",
   "metadata": {},
   "source": [
    "# Extract and display an adjacency matrix from a SONATA circuit\n",
    "\n",
    "Copyright (c) 2025 Open Brain Institute\n",
    "\n",
    "Authors: Christoph Pokorny\n",
    "\n",
    "Last modified: 08.2025\n",
    "\n",
    "## Summary\n",
    "This analysis extracts and visualizes the connectivity between all pairs of pre- and post-synaptic neurons (adjacency matrix), optionally including the number of synapses per connection (synaptome matrix).\n",
    "For details, see the [README](README.md)."
   ]
  },
  {
   "cell_type": "code",
   "execution_count": null,
   "id": "82b4d876-ca70-4a3c-983c-02f92613ba67",
   "metadata": {},
   "outputs": [],
   "source": [
    "import matplotlib.pyplot as plt\n",
    "import numpy as np\n",
    "import os\n",
    "import time\n",
    "\n",
    "from bluepysnap import Circuit\n",
    "from connectome_manipulator.connectome_comparison import adjacency\n",
    "from datetime import datetime\n",
    "from entitysdk import Client, ProjectContext, models\n",
    "from ipywidgets import widgets, interact\n",
    "from obi_auth import get_token\n",
    "from obi_notebook import get_projects\n",
    "from obi_notebook import get_entities\n"
   ]
  },
  {
   "cell_type": "markdown",
   "id": "1a993ae0-36d3-49c0-91a0-23b80dca9af0",
   "metadata": {},
   "source": [
    "## Circuit selection and download\n",
    "\n",
    "A SONATA circuit unser `./analysis_circuit/circuit_config.json` will be analyzed. To place the data there, we must select \n",
    "the circuit, then download it. \n",
    "\n",
    "Should the circuit of interest already be placed at that location, you can skip ahead to the section `Circuit analysis` below.\n",
    "\n",
    "#### Project selection\n",
    "As a first step we select one of the projects we have access to that the circuit is associated with. If the circuit of interest is part of the public OBI assets, any project can be selected."
   ]
  },
  {
   "cell_type": "code",
   "execution_count": null,
   "id": "30c9b831",
   "metadata": {},
   "outputs": [],
   "source": [
    "token = get_token(environment=\"production\", auth_mode=\"daf\")\n",
    "project_context = get_projects.get_projects(token)"
   ]
  },
  {
   "cell_type": "markdown",
   "id": "0031b335",
   "metadata": {},
   "source": [
    "#### Circuit selection\n",
    "\n",
    "Next, we select the circuit. If you already know the unique identifier of the circuit of interest, paste it below into line 4 of the next cell.\n",
    "\n",
    "Otherwise, a widget for circuit selection will be created that allows you to simply mark the circuit of interest."
   ]
  },
  {
   "cell_type": "code",
   "execution_count": null,
   "id": "4c01b6fe",
   "metadata": {},
   "outputs": [],
   "source": [
    "client = Client(environment=\"production\", project_context=project_context, token_manager=token)\n",
    "\n",
    "# Optional: Download using unique ID\n",
    "entity_ID = \"<CIRCUIT-ID>\"  # <<< FILL IN UNIQUE CIRCUIT ID HERE\n",
    "\n",
    "\n",
    "if entity_ID != \"<CIRCUIT-ID>\":\n",
    "    circuit_ids = [entity_ID]\n",
    "else:\n",
    "# Alternative: Select from a table of entities\n",
    "    circuit_ids = []\n",
    "    circuit_ids = get_entities.get_entities(\"circuit\", token, circuit_ids,\n",
    "                                            project_context=project_context,\n",
    "                                            multi_select=False, exclude_scales=[\"single\"],\n",
    "                                            show_pages=True, page_size=12,\n",
    "                                            default_scale=\"small\", add_columns=[\"subject.name\"])"
   ]
  },
  {
   "cell_type": "markdown",
   "id": "fd153dc4",
   "metadata": {},
   "source": [
    "#### Fetch circuit\n",
    "The circuit is copied to the local system at the expected location."
   ]
  },
  {
   "cell_type": "code",
   "execution_count": null,
   "id": "7a090f11",
   "metadata": {},
   "outputs": [],
   "source": [
    "# Fetch circuit\n",
    "fetched = client.get_entity(entity_id=circuit_ids[0], entity_type=models.Circuit)\n",
    "print(f\"Circuit fetched: {fetched.name} (ID {fetched.id})\\n\")\n",
    "print(f\"#Neurons: {fetched.number_neurons}, #Synapses: {fetched.number_synapses}, #Connections: {fetched.number_connections}\\n\")\n",
    "print(f\"{fetched.description}\\n\")\n",
    "\n",
    "# Download SONATA circuit files\n",
    "asset = [asset for asset in fetched.assets if asset.label==\"sonata_circuit\"][0]\n",
    "asset_dir = asset.path \n",
    "circuit_dir = \"analysis_circuit_\" + datetime.now().strftime('%Y-%m-%d_%H-%M-%S_%f')\n",
    "\n",
    "t0 = time.time()\n",
    "client.download_directory(\n",
    "    entity_id=fetched.id,\n",
    "    entity_type=models.Circuit,\n",
    "    asset_id=asset.id,\n",
    "    output_path=circuit_dir,\n",
    "    max_concurrent=4,  # Parallel file download\n",
    ")\n",
    "t = time.time() - t0\n",
    "print(f\"Circuit files downloaded to '{os.path.join(circuit_dir, asset_dir)}' in {t:.1f}s\")"
   ]
  },
  {
   "cell_type": "markdown",
   "id": "01da1e02-efc7-4a85-b7ac-b9b374c6383c",
   "metadata": {},
   "source": [
    "## Circuit analysis\n",
    "\n",
    "By default, the circuit from the download location is used. If a circuit from some other location us used, please modify the `circuit_config = ...` path below accordingly."
   ]
  },
  {
   "cell_type": "code",
   "execution_count": null,
   "id": "744cf88a-73c9-41d0-baf3-c4392032b693",
   "metadata": {},
   "outputs": [],
   "source": [
    "# Path to existing circuit config\n",
    "circuit_config = os.path.join(circuit_dir, asset_dir, \"circuit_config.json\")\n",
    "\n",
    "assert os.path.exists(circuit_config), f\"ERROR: Circuit config '{os.path.split(circuit_config)[1]}' not found!\""
   ]
  },
  {
   "cell_type": "markdown",
   "id": "8f74d206-4bb6-476a-92ea-97f75f39e557",
   "metadata": {},
   "source": [
    "Loading SONATA circuit. Selections of the edge population containing the synapses, as well as pre-/post-synaptic node sets defining groups of neurons are possible."
   ]
  },
  {
   "cell_type": "code",
   "execution_count": null,
   "id": "0a8166d3-8f8b-45bf-bc89-707e66cf216f",
   "metadata": {},
   "outputs": [],
   "source": [
    "c = Circuit(circuit_config)\n",
    "e_populations = c.edges.population_names\n",
    "assert len(e_populations) > 0, \"ERROR: No edge population found!\"\n",
    "node_sets = list(c.node_sets.content.keys())\n",
    "e_popul_wdgt = widgets.Dropdown(options=e_populations, description=\"Edge population:\", style={\"description_width\": \"auto\"}, layout=widgets.Layout(width=\"max-content\"))\n",
    "pre_nset_wdgt = widgets.Dropdown(options=[None] + node_sets, description=\"Pre-synaptic node set:\", style={\"description_width\": \"auto\"}, layout=widgets.Layout(width=\"max-content\"))\n",
    "post_nset_wdgt = widgets.Dropdown(options=[None] + node_sets, description=\"Post-synaptic node set:\", style={\"description_width\": \"auto\"}, layout=widgets.Layout(width=\"max-content\"))\n",
    "display(e_popul_wdgt)\n",
    "display(pre_nset_wdgt)\n",
    "display(post_nset_wdgt)"
   ]
  },
  {
   "cell_type": "markdown",
   "id": "a4cc7a87-bffc-4158-8439-7b167cb274ae",
   "metadata": {},
   "source": [
    "## Adjacency matrix extraction\n",
    "\n",
    "Extract the adjacency/synaptome matrix using functionality from [connectome-manipulator](https://github.com/openbraininstitute/connectome-manipulator)."
   ]
  },
  {
   "cell_type": "code",
   "execution_count": null,
   "id": "55b76f23-5b84-4373-a275-a27baf458553",
   "metadata": {},
   "outputs": [],
   "source": [
    "adj_syn_dict = adjacency.compute(c, sel_src=pre_nset_wdgt.value, sel_dest=post_nset_wdgt.value, edges_popul_name=e_popul_wdgt.value)"
   ]
  },
  {
   "cell_type": "markdown",
   "id": "01a99999-cc49-4c33-af9f-21007f5cfcb6",
   "metadata": {},
   "source": [
    "## Interactive visualization\n",
    "\n",
    "Interactive visualization of adjacency or synaptome matrix. Marker scaling and alpha (transparency) can be adjusted for better display of small/large matrices."
   ]
  },
  {
   "cell_type": "code",
   "execution_count": null,
   "id": "d8082b93-df4e-4dec-aa50-9fa885831dbd",
   "metadata": {
    "jupyter": {
     "source_hidden": true
    }
   },
   "outputs": [],
   "source": [
    "# Interactive plot function\n",
    "def plot_fct(res_sel, mscale, alpha):\n",
    "    res_dict = adj_syn_dict[res_sel]\n",
    "    cmap = \"hot_r\"\n",
    "\n",
    "    mat = res_dict[\"data\"].tocoo()  # Convert to COO, for easy access to row/col and data!!\n",
    "    col_idx = mat.data\n",
    "    vmin = 0\n",
    "    vmax = max([1, *col_idx])\n",
    "    ms = mscale * 5000 / max(mat.shape),  # Adjust marker size for proper display\n",
    "\n",
    "    plt.figure()\n",
    "    plt.scatter(mat.col, mat.row, marker=\",\", s=ms, edgecolors=\"none\", alpha=alpha, c=col_idx, cmap=cmap, vmin=vmin, vmax=vmax, label=\"Conn\")\n",
    "\n",
    "    plt.xlabel(\"Post-neurons\" + (\"\" if post_nset_wdgt.value is None else f\" [{post_nset_wdgt.value}]\"))\n",
    "    plt.ylabel(\"Pre-neurons\" + (\"\" if pre_nset_wdgt.value is None else f\" [{pre_nset_wdgt.value}]\"))\n",
    "    plt.title(res_sel_wdgt.label, fontweight=\"bold\")\n",
    "\n",
    "    plt.axis(\"image\")\n",
    "    plt.xlim((-0.5, res_dict[\"data\"].shape[1] - 0.5))\n",
    "    plt.ylim((-0.5, res_dict[\"data\"].shape[0] - 0.5))\n",
    "    plt.gca().invert_yaxis()\n",
    "    if res_dict[\"data\"].dtype != bool:\n",
    "        cb = plt.colorbar(label=\"#Synapses\")\n",
    "        cb_ticks = np.unique(np.round(cb.get_ticks()))\n",
    "        cb.set_ticks(cb_ticks[(cb_ticks >= vmin) & (cb_ticks <= vmax)])\n",
    "    plt.tight_layout()\n",
    "    plt.show()"
   ]
  },
  {
   "cell_type": "code",
   "execution_count": null,
   "id": "f154b83d-1593-4e9f-b3e4-2c7f86af7885",
   "metadata": {},
   "outputs": [],
   "source": [
    "res_sel_wdgt = widgets.Dropdown(options=[(\"Adjacency matrix\", \"adj\"), (\"Synaptome matrix\", \"adj_cnt\")], description=\"Display:\", style={\"description_width\": \"auto\"}, layout=widgets.Layout(width=\"max-content\"))\n",
    "mscale_wdgt = widgets.FloatLogSlider(value=1.0, base=10, min=-2, max=1, step=0.01, description=\"Marker scale:\", style={\"description_width\": \"auto\"})\n",
    "alpha_wdgt = widgets.FloatSlider(value=1.0, min=0.01, max=1.0, step=0.01, description=\"Marker alpha:\", style={\"description_width\": \"auto\"})\n",
    "iplot = interact(plot_fct, res_sel=res_sel_wdgt, mscale=mscale_wdgt, alpha=alpha_wdgt)"
   ]
  }
 ],
 "metadata": {
  "kernelspec": {
   "display_name": ".venv (3.13.1)",
   "language": "python",
   "name": "python3"
  },
  "language_info": {
   "codemirror_mode": {
    "name": "ipython",
    "version": 3
   },
   "file_extension": ".py",
   "mimetype": "text/x-python",
   "name": "python",
   "nbconvert_exporter": "python",
   "pygments_lexer": "ipython3",
   "version": "3.13.1"
  }
 },
 "nbformat": 4,
 "nbformat_minor": 5
}
