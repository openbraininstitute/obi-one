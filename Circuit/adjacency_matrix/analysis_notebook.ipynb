{
 "cells": [
  {
   "cell_type": "markdown",
   "id": "30723356-6a44-4e2b-8003-d72b61790129",
   "metadata": {},
   "source": [
    "# Extract and display an adjacency matrix from a SONATA circuit\n",
    "\n",
    "Copyright (c) 2025 Open Brain Institute\n",
    "\n",
    "Authors: Christoph Pokorny\n",
    "\n",
    "Last modified: 06.2025\n",
    "\n",
    "## Summary\n",
    "This analysis extracts and visualizes the connectivity between all pairs of pre- and post-synaptic neurons (adjacency matrix), optionally including the number of synapses per connection (synaptome matrix).\n",
    "For details, see the [README](README.md)."
   ]
  },
  {
   "cell_type": "code",
   "execution_count": null,
   "id": "82b4d876-ca70-4a3c-983c-02f92613ba67",
   "metadata": {},
   "outputs": [],
   "source": [
    "import matplotlib.pyplot as plt\n",
    "import numpy as np\n",
    "import os\n",
    "import time\n",
    "\n",
    "from bluepysnap import Circuit\n",
    "from connectome_manipulator.connectome_comparison import adjacency\n",
    "from entitysdk import Client, ProjectContext, models\n",
    "from ipywidgets import widgets, interact\n",
    "from obi_auth import get_token"
   ]
  },
  {
   "cell_type": "markdown",
   "id": "1a993ae0-36d3-49c0-91a0-23b80dca9af0",
   "metadata": {},
   "source": [
    "## Circuit selection\n",
    "\n",
    "A SONATA circuit is assumed to be located under `./analysis_circuit/circuit_config.json`. A circuit can be downloaded using its unique circuit ID from the platform. If a circuit already exists, the authentication and downloading steps can be skipped."
   ]
  },
  {
   "cell_type": "code",
   "execution_count": null,
   "id": "cb97adca-6a44-4564-81dc-80f9c583a611",
   "metadata": {},
   "outputs": [],
   "source": [
    "# Authenticate\n",
    "proj_url = \"https://www.openbraininstitute.org/app/virtual-lab/lab/<...>/project/<...>/home\"  # <<< FILL IN PROJECT URL\n",
    "token = get_token(environment=\"production\", auth_mode=\"daf\")\n",
    "project_context = ProjectContext.from_vlab_url(proj_url)\n",
    "client = Client(environment=\"production\", project_context=project_context, token_manager=token)"
   ]
  },
  {
   "cell_type": "code",
   "execution_count": null,
   "id": "f7f87144-3d52-48cf-a711-9114a023b21d",
   "metadata": {},
   "outputs": [],
   "source": [
    "# Download using unique ID\n",
    "entity_ID = \"<CIRCUIT-ID>\"  # <<< FILL IN UNIQUE CIRCUIT ID HERE\n",
    "\n",
    "# Fetch circuit\n",
    "fetched = client.get_entity(entity_id=entity_ID, entity_type=models.Circuit)\n",
    "print(f\"Circuit fetched: {fetched.name} (ID {fetched.id})\\n\")\n",
    "print(f\"#Neurons: {fetched.number_neurons}, #Synapses: {fetched.number_synapses}, #Connections: {fetched.number_connections}\\n\")\n",
    "print(f\"{fetched.description}\\n\")\n",
    "\n",
    "# Download SONATA circuit files\n",
    "asset = [asset for asset in fetched.assets if asset.label==\"sonata_circuit\"][0]\n",
    "asset_dir = asset.path \n",
    "circuit_dir = \"analysis_circuit\"\n",
    "assert not os.path.exists(asset_dir), f\"ERROR: Circuit download folder '{asset_dir}' already exists! Please delete folder.\"\n",
    "assert not os.path.exists(circuit_dir), f\"ERROR: Circuit folder '{circuit_dir}' already exists! Delete folder or choose a different path.\"\n",
    "\n",
    "t0 = time.time()\n",
    "client.download_directory(\n",
    "    entity_id=fetched.id,\n",
    "    entity_type=models.Circuit,\n",
    "    asset_id=asset.id,\n",
    "    output_path=\".\",\n",
    "    max_concurrent=4,  # Parallel file download\n",
    ")\n",
    "t = time.time() - t0\n",
    "print(f\"Circuit files downloaded to '{asset_dir}' in {t:.1f}s\")\n",
    "os.rename(asset_dir, circuit_dir)\n",
    "print(f\"'{asset_dir}' folder renamed to '{circuit_dir}'\")"
   ]
  },
  {
   "cell_type": "markdown",
   "id": "01da1e02-efc7-4a85-b7ac-b9b374c6383c",
   "metadata": {},
   "source": [
    "By default, the circuit from `analysis_circuit/circuit_config.json` is used. If a circuit from some other location us used, modify the `circuit_config = ...` path below accordingly."
   ]
  },
  {
   "cell_type": "code",
   "execution_count": null,
   "id": "744cf88a-73c9-41d0-baf3-c4392032b693",
   "metadata": {},
   "outputs": [],
   "source": [
    "# Path to existing circuit config\n",
    "circuit_config = \"analysis_circuit/circuit_config.json\"\n",
    "\n",
    "assert os.path.exists(circuit_config), f\"ERROR: Circuit config '{os.path.split(circuit_config)[1]}' not found!\""
   ]
  },
  {
   "cell_type": "markdown",
   "id": "8f74d206-4bb6-476a-92ea-97f75f39e557",
   "metadata": {},
   "source": [
    "Loading SONATA circuit. Selections of the edge population containing the synapses, as well as pre-/post-synaptic node sets defining groups of neurons are possible."
   ]
  },
  {
   "cell_type": "code",
   "execution_count": null,
   "id": "0a8166d3-8f8b-45bf-bc89-707e66cf216f",
   "metadata": {},
   "outputs": [],
   "source": [
    "c = Circuit(circuit_config)\n",
    "e_populations = c.edges.population_names\n",
    "assert len(e_populations) > 0, \"ERROR: No edge population found!\"\n",
    "node_sets = list(c.node_sets.content.keys())\n",
    "e_popul_wdgt = widgets.Dropdown(options=e_populations, description=\"Edge population:\", style={\"description_width\": \"auto\"}, layout=widgets.Layout(width=\"max-content\"))\n",
    "pre_nset_wdgt = widgets.Dropdown(options=[None] + node_sets, description=\"Pre-synaptic node set:\", style={\"description_width\": \"auto\"}, layout=widgets.Layout(width=\"max-content\"))\n",
    "post_nset_wdgt = widgets.Dropdown(options=[None] + node_sets, description=\"Post-synaptic node set:\", style={\"description_width\": \"auto\"}, layout=widgets.Layout(width=\"max-content\"))\n",
    "display(e_popul_wdgt)\n",
    "display(pre_nset_wdgt)\n",
    "display(post_nset_wdgt)"
   ]
  },
  {
   "cell_type": "markdown",
   "id": "a4cc7a87-bffc-4158-8439-7b167cb274ae",
   "metadata": {},
   "source": [
    "## Adjacency matrix extraction\n",
    "\n",
    "Extract the adjacency/synaptome matrix using functionality from [connectome-manipulator](https://github.com/openbraininstitute/connectome-manipulator)."
   ]
  },
  {
   "cell_type": "code",
   "execution_count": null,
   "id": "55b76f23-5b84-4373-a275-a27baf458553",
   "metadata": {},
   "outputs": [],
   "source": [
    "adj_syn_dict = adjacency.compute(c, sel_src=pre_nset_wdgt.value, sel_dest=post_nset_wdgt.value, edges_popul_name=e_popul_wdgt.value)"
   ]
  },
  {
   "cell_type": "markdown",
   "id": "01a99999-cc49-4c33-af9f-21007f5cfcb6",
   "metadata": {},
   "source": [
    "## Interactive visualization\n",
    "\n",
    "Interactive visualization of adjacency or synaptome matrix. Marker scaling and alpha (transparency) can be adjusted for better display of small/large matrices."
   ]
  },
  {
   "cell_type": "code",
   "execution_count": null,
   "id": "d8082b93-df4e-4dec-aa50-9fa885831dbd",
   "metadata": {
    "jupyter": {
     "source_hidden": true
    }
   },
   "outputs": [],
   "source": [
    "# Interactive plot function\n",
    "def plot_fct(res_sel, mscale, alpha):\n",
    "    res_dict = adj_syn_dict[res_sel]\n",
    "    cmap = \"hot_r\"\n",
    "\n",
    "    mat = res_dict[\"data\"].tocoo()  # Convert to COO, for easy access to row/col and data!!\n",
    "    col_idx = mat.data\n",
    "    vmin = 0\n",
    "    vmax = max([1, *col_idx])\n",
    "    ms = mscale * 5000 / max(mat.shape),  # Adjust marker size for proper display\n",
    "\n",
    "    plt.figure()\n",
    "    plt.scatter(mat.col, mat.row, marker=\",\", s=ms, edgecolors=\"none\", alpha=alpha, c=col_idx, cmap=cmap, vmin=vmin, vmax=vmax, label=\"Conn\")\n",
    "\n",
    "    plt.xlabel(\"Post-neurons\" + (\"\" if post_nset_wdgt.value is None else f\" [{post_nset_wdgt.value}]\"))\n",
    "    plt.ylabel(\"Pre-neurons\" + (\"\" if pre_nset_wdgt.value is None else f\" [{pre_nset_wdgt.value}]\"))\n",
    "    plt.title(res_sel_wdgt.label, fontweight=\"bold\")\n",
    "\n",
    "    plt.axis(\"image\")\n",
    "    plt.xlim((-0.5, res_dict[\"data\"].shape[1] - 0.5))\n",
    "    plt.ylim((-0.5, res_dict[\"data\"].shape[0] - 0.5))\n",
    "    plt.gca().invert_yaxis()\n",
    "    if res_dict[\"data\"].dtype != bool:\n",
    "        cb = plt.colorbar(label=\"#Synapses\")\n",
    "        cb_ticks = np.unique(np.round(cb.get_ticks()))\n",
    "        cb.set_ticks(cb_ticks[(cb_ticks >= vmin) & (cb_ticks <= vmax)])\n",
    "    plt.tight_layout()\n",
    "    plt.show()"
   ]
  },
  {
   "cell_type": "code",
   "execution_count": null,
   "id": "f154b83d-1593-4e9f-b3e4-2c7f86af7885",
   "metadata": {},
   "outputs": [],
   "source": [
    "res_sel_wdgt = widgets.Dropdown(options=[(\"Adjacency matrix\", \"adj\"), (\"Synaptome matrix\", \"adj_cnt\")], description=\"Display:\", style={\"description_width\": \"auto\"}, layout=widgets.Layout(width=\"max-content\"))\n",
    "mscale_wdgt = widgets.FloatLogSlider(value=1.0, base=10, min=-2, max=1, step=0.01, description=\"Marker scale:\", style={\"description_width\": \"auto\"})\n",
    "alpha_wdgt = widgets.FloatSlider(value=1.0, min=0.01, max=1.0, step=0.01, description=\"Marker alpha:\", style={\"description_width\": \"auto\"})\n",
    "iplot = interact(plot_fct, res_sel=res_sel_wdgt, mscale=mscale_wdgt, alpha=alpha_wdgt)"
   ]
  }
 ],
 "metadata": {
  "kernelspec": {
   "display_name": "OBIKernel",
   "language": "python",
   "name": "obikernel"
  },
  "language_info": {
   "codemirror_mode": {
    "name": "ipython",
    "version": 3
   },
   "file_extension": ".py",
   "mimetype": "text/x-python",
   "name": "python",
   "nbconvert_exporter": "python",
   "pygments_lexer": "ipython3",
   "version": "3.13.1"
  }
 },
 "nbformat": 4,
 "nbformat_minor": 5
}
