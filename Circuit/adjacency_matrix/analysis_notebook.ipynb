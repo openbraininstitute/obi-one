{
 "cells": [
  {
   "cell_type": "markdown",
   "id": "30723356-6a44-4e2b-8003-d72b61790129",
   "metadata": {},
   "source": [
    "# Extract and display an adjacency matrix from a SONATA circuit\n",
    "\n",
    "Copyright (c) 2025 Open Brain Institute\n",
    "\n",
    "Authors: Christoph Pokorny\n",
    "\n",
    "Last modified: 01.2025\n",
    "\n",
    "## Summary\n",
    "This analysis extracts and visualizes the connectivity between all pairs of pre- and post-synaptic neurons (adjacency matrix), optionally including the number of synapses per connection (synaptome matrix).\n",
    "For details, see the [README](README.md)."
   ]
  },
  {
   "cell_type": "code",
   "execution_count": 1,
   "id": "82b4d876-ca70-4a3c-983c-02f92613ba67",
   "metadata": {},
   "outputs": [],
   "source": [
    "import matplotlib.pyplot as plt\n",
    "import numpy as np\n",
    "import os\n",
    "import zipfile\n",
    "\n",
    "from bluepysnap import Circuit\n",
    "from connectome_manipulator.connectome_comparison import adjacency\n",
    "from ipywidgets import widgets, interact"
   ]
  },
  {
   "cell_type": "code",
   "execution_count": null,
   "id": "ffa003da-4a31-47c1-b357-61b314061ca5",
   "metadata": {},
   "outputs": [],
   "source": []
  },
  {
   "cell_type": "markdown",
   "id": "1a993ae0-36d3-49c0-91a0-23b80dca9af0",
   "metadata": {},
   "source": [
    "Extract a SONATA circuit from a .zip file that has been downloaded as `download.zip` into the same folder as this notebook. In case of a different filename, modify `fn = \"...\"` below accordingly. For using an existing circuit from some other location, skip this step."
   ]
  },
  {
   "cell_type": "code",
   "execution_count": 2,
   "id": "b26a262f-14ad-4c9f-a055-ad41433de769",
   "metadata": {},
   "outputs": [],
   "source": [
    "fn = \"download.zip\"\n",
    "datapath = os.path.splitext(fn)[0]\n",
    "\n",
    "try:\n",
    "    f_zip = zipfile.ZipFile(fn)\n",
    "except zipfile.BadZipFile as e:\n",
    "    print(f\"Zip archive appears to be malformed: {e}\")\n",
    "    raise\n",
    "\n",
    "f_zip.extractall(path=datapath)\n",
    "f_zip.close()"
   ]
  },
  {
   "cell_type": "markdown",
   "id": "ff138298-69ff-4ee5-b125-a63abd7ab0ae",
   "metadata": {},
   "source": [
    "Specify circuit config from .zip file or use existing path."
   ]
  },
  {
   "cell_type": "code",
   "execution_count": 3,
   "id": "744cf88a-73c9-41d0-baf3-c4392032b693",
   "metadata": {},
   "outputs": [],
   "source": [
    "# Circuit config from .zip file\n",
    "circuit_config = os.path.join(datapath, \"circuit_config.json\")\n",
    "\n",
    "# OR: Full path to existing circuit config\n",
    "# circuit_config = \"path/to/existing/circuit/config.json\"\n",
    "\n",
    "assert os.path.exists(circuit_config), f\"ERROR: Circuit config '{os.path.split(circuit_config)[1]}' not found!\""
   ]
  },
  {
   "cell_type": "markdown",
   "id": "8f74d206-4bb6-476a-92ea-97f75f39e557",
   "metadata": {},
   "source": [
    "Loading SONATA circuit. Selections of the edge population containing the synapses, as well as pre-/post-synaptic node sets defining groups of neurons are possible."
   ]
  },
  {
   "cell_type": "code",
   "execution_count": 4,
   "id": "0a8166d3-8f8b-45bf-bc89-707e66cf216f",
   "metadata": {},
   "outputs": [
    {
     "data": {
      "application/vnd.jupyter.widget-view+json": {
       "model_id": "5e622e5012bb4c37a720bba667657c7b",
       "version_major": 2,
       "version_minor": 0
      },
      "text/plain": [
       "Dropdown(description='Edge population:', layout=Layout(width='max-content'), options=('nodeA__nodeA__chemical'…"
      ]
     },
     "metadata": {},
     "output_type": "display_data"
    },
    {
     "data": {
      "application/vnd.jupyter.widget-view+json": {
       "model_id": "166b20cc05e54c2d8b1f7577608a62e5",
       "version_major": 2,
       "version_minor": 0
      },
      "text/plain": [
       "Dropdown(description='Pre-synaptic node set:', layout=Layout(width='max-content'), options=(None, 'LayerA', 'L…"
      ]
     },
     "metadata": {},
     "output_type": "display_data"
    },
    {
     "data": {
      "application/vnd.jupyter.widget-view+json": {
       "model_id": "5544c0f2633c42a5834e3ef9ae680fb2",
       "version_major": 2,
       "version_minor": 0
      },
      "text/plain": [
       "Dropdown(description='Post-synaptic node set:', layout=Layout(width='max-content'), options=(None, 'LayerA', '…"
      ]
     },
     "metadata": {},
     "output_type": "display_data"
    }
   ],
   "source": [
    "c = Circuit(circuit_config)\n",
    "e_populations = c.edges.population_names\n",
    "assert len(e_populations) > 0, \"ERROR: No edge population found!\"\n",
    "node_sets = list(c.node_sets.content.keys())\n",
    "e_popul_wdgt = widgets.Dropdown(options=e_populations, description=\"Edge population:\", style={\"description_width\": \"auto\"}, layout=widgets.Layout(width=\"max-content\"))\n",
    "pre_nset_wdgt = widgets.Dropdown(options=[None] + node_sets, description=\"Pre-synaptic node set:\", style={\"description_width\": \"auto\"}, layout=widgets.Layout(width=\"max-content\"))\n",
    "post_nset_wdgt = widgets.Dropdown(options=[None] + node_sets, description=\"Post-synaptic node set:\", style={\"description_width\": \"auto\"}, layout=widgets.Layout(width=\"max-content\"))\n",
    "display(e_popul_wdgt)\n",
    "display(pre_nset_wdgt)\n",
    "display(post_nset_wdgt)"
   ]
  },
  {
   "cell_type": "code",
   "execution_count": null,
   "id": "c53478ad-75cc-4221-b726-403176098f5a",
   "metadata": {},
   "outputs": [],
   "source": []
  },
  {
   "cell_type": "markdown",
   "id": "a4cc7a87-bffc-4158-8439-7b167cb274ae",
   "metadata": {},
   "source": [
    "Extract the adjacency/synaptome matrix using functionality from [connectome-manipulator](https://github.com/openbraininstitute/connectome-manipulator)."
   ]
  },
  {
   "cell_type": "code",
   "execution_count": 5,
   "id": "55b76f23-5b84-4373-a275-a27baf458553",
   "metadata": {},
   "outputs": [
    {
     "name": "stdout",
     "output_type": "stream",
     "text": [
      "INFO: Creating 10x10 adjacency matrix (sel_src=None, sel_dest=None)\n"
     ]
    }
   ],
   "source": [
    "adj_syn_dict = adjacency.compute(c, sel_src=pre_nset_wdgt.value, sel_dest=post_nset_wdgt.value, edges_popul_name=e_popul_wdgt.value)"
   ]
  },
  {
   "cell_type": "code",
   "execution_count": null,
   "id": "a5b0573e-1ab5-4433-bbd6-e9933189169e",
   "metadata": {},
   "outputs": [],
   "source": []
  },
  {
   "cell_type": "markdown",
   "id": "01a99999-cc49-4c33-af9f-21007f5cfcb6",
   "metadata": {},
   "source": [
    "Interactive visualization of adjacency or synaptome matrix. Marker scaling and alpha (transparency) can be adjusted for better display of small/large matrices."
   ]
  },
  {
   "cell_type": "code",
   "execution_count": 6,
   "id": "d8082b93-df4e-4dec-aa50-9fa885831dbd",
   "metadata": {
    "jupyter": {
     "source_hidden": true
    }
   },
   "outputs": [],
   "source": [
    "# Interactive plot function\n",
    "def plot_fct(res_sel, mscale, alpha):\n",
    "    res_dict = adj_syn_dict[res_sel]\n",
    "    cmap = \"inferno_r\"\n",
    "\n",
    "    mat = res_dict[\"data\"].tocoo()  # Convert to COO, for easy access to row/col and data!!\n",
    "    col_idx = mat.data\n",
    "    vmin = 0\n",
    "    vmax = max(col_idx)\n",
    "    ms = mscale * 5000 / max(mat.shape),  # Adjust marker size for proper display\n",
    "\n",
    "    plt.figure()\n",
    "    plt.scatter(mat.col, mat.row, marker=\",\", s=ms, edgecolors=\"none\", alpha=alpha, c=col_idx, cmap=cmap, vmin=vmin, vmax=vmax, label=\"Conn\")\n",
    "\n",
    "    plt.xlabel(\"Post-neurons\" + (\"\" if post_nset_wdgt.value is None else f\" [{post_nset_wdgt.value}]\"))\n",
    "    plt.ylabel(\"Pre-neurons\" + (\"\" if pre_nset_wdgt.value is None else f\" [{pre_nset_wdgt.value}]\"))\n",
    "    plt.title(res_sel_wdgt.label, fontweight=\"bold\")\n",
    "\n",
    "    plt.axis(\"image\")\n",
    "    plt.xlim((-0.5, res_dict[\"data\"].shape[1] - 0.5))\n",
    "    plt.ylim((-0.5, res_dict[\"data\"].shape[0] - 0.5))\n",
    "    plt.gca().invert_yaxis()\n",
    "    if res_dict[\"data\"].dtype != bool:\n",
    "        cb = plt.colorbar(label=\"#Synapses\")\n",
    "        cb_ticks = np.unique(np.round(cb.get_ticks()))\n",
    "        cb.set_ticks(cb_ticks[(cb_ticks >= vmin) & (cb_ticks <= vmax)])\n",
    "    plt.tight_layout()\n",
    "    plt.show()"
   ]
  },
  {
   "cell_type": "code",
   "execution_count": 7,
   "id": "f154b83d-1593-4e9f-b3e4-2c7f86af7885",
   "metadata": {},
   "outputs": [
    {
     "data": {
      "application/vnd.jupyter.widget-view+json": {
       "model_id": "5bdc2f3913564a82a85f367abb89872e",
       "version_major": 2,
       "version_minor": 0
      },
      "text/plain": [
       "interactive(children=(Dropdown(description='Display:', layout=Layout(width='max-content'), options=(('Adjacenc…"
      ]
     },
     "metadata": {},
     "output_type": "display_data"
    }
   ],
   "source": [
    "res_sel_wdgt = widgets.Dropdown(options=[(\"Adjacency matrix\", \"adj\"), (\"Synaptome matrix\", \"adj_cnt\")], description=\"Display:\", style={\"description_width\": \"auto\"}, layout=widgets.Layout(width=\"max-content\"))\n",
    "mscale_wdgt = widgets.FloatLogSlider(value=1.0, base=10, min=-2, max=1, step=0.01, description=\"Scaling:\", style={\"description_width\": \"auto\"})\n",
    "alpha_wdgt = widgets.FloatSlider(value=1.0, min=0.01, max=1.0, step=0.01, description=\"Alpha:\", style={\"description_width\": \"auto\"})\n",
    "iplot = interact(plot_fct, res_sel=res_sel_wdgt, mscale=mscale_wdgt, alpha=alpha_wdgt)"
   ]
  },
  {
   "cell_type": "code",
   "execution_count": null,
   "id": "161195c6-8924-4f47-9d45-f06657e97894",
   "metadata": {},
   "outputs": [],
   "source": []
  }
 ],
 "metadata": {
  "kernelspec": {
   "display_name": "OBIKernel",
   "language": "python",
   "name": "obikernel"
  },
  "language_info": {
   "codemirror_mode": {
    "name": "ipython",
    "version": 3
   },
   "file_extension": ".py",
   "mimetype": "text/x-python",
   "name": "python",
   "nbconvert_exporter": "python",
   "pygments_lexer": "ipython3",
   "version": "3.13.1"
  }
 },
 "nbformat": 4,
 "nbformat_minor": 5
}
