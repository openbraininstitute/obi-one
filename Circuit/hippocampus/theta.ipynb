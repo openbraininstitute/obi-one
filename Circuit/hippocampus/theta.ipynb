{
 "cells": [
  {
   "cell_type": "markdown",
   "metadata": {},
   "source": [
    "# Theta oscillation"
   ]
  },
  {
   "cell_type": "markdown",
   "metadata": {},
   "source": [
    "In this _in silico_ experiment, we will analyze theta oscillation in a microcircuit consisting of one pyramidal cell (PC), sampled from the middle of the rCA1-CYLINDER-REF, and eight parvalbumin-positive (PV+) interneurons converging onto the PC.\n",
    "\n",
    "We previously ran one simulation where:\n",
    "1) the external calcium concentration was set to 1 mM to mimic _in vivo_-like conditions\n",
    "2) all the neurons were stimulationed with a depolarization of 120% (where a stimulation of 100% correspond to the voltage threshold for spike generation)\n",
    "3) we applied an ACh of 1 µM which affects both neuron excitability and synapse release probability\n",
    "4) PV+ neurons were sitmulated with an oscillatory current of amplitude 0.2 nA and frequency 8 Hz"
   ]
  },
  {
   "cell_type": "code",
   "execution_count": 1,
   "metadata": {},
   "outputs": [],
   "source": [
    "import bluepysnap\n",
    "import matplotlib.pyplot as plt"
   ]
  },
  {
   "cell_type": "markdown",
   "metadata": {},
   "source": [
    "## Loading\n",
    "In order to load the simulation data, we need the path to the file."
   ]
  },
  {
   "cell_type": "code",
   "execution_count": 2,
   "metadata": {},
   "outputs": [],
   "source": [
    "simulation_path = \"/Users/armando/Desktop/Models/simulations/N_9__rCA1-ThetaOsc-Sel1__swc/theta/simulation_config.json\"\n",
    "simulation = bluepysnap.Simulation(simulation_path)"
   ]
  },
  {
   "cell_type": "markdown",
   "metadata": {},
   "source": [
    "There are two different possible report types `'soma_report'` and `'compartment_report'`. In this tutorial, we only work with `'soma_report'` but they work exactly in the same way. Available frame reports can be shown with"
   ]
  },
  {
   "cell_type": "code",
   "execution_count": 3,
   "metadata": {
    "jupyter": {
     "source_hidden": true
    }
   },
   "outputs": [
    {
     "data": {
      "text/plain": [
       "{'SomaVoltRec': <bluepysnap.frame_report.SomaReport at 0x12b76ff70>}"
      ]
     },
     "execution_count": 3,
     "metadata": {},
     "output_type": "execute_result"
    }
   ],
   "source": [
    "simulation.reports"
   ]
  },
  {
   "cell_type": "code",
   "execution_count": 4,
   "metadata": {},
   "outputs": [],
   "source": [
    "soma_report = simulation.reports['SomaVoltRec']"
   ]
  },
  {
   "cell_type": "markdown",
   "metadata": {},
   "source": [
    "## Timing"
   ]
  },
  {
   "cell_type": "markdown",
   "metadata": {},
   "source": [
    "As with the `Simulation` instance, it's easy to access report start and end time, as well as the time step (dt) and time_units"
   ]
  },
  {
   "cell_type": "code",
   "execution_count": 5,
   "metadata": {},
   "outputs": [
    {
     "name": "stdout",
     "output_type": "stream",
     "text": [
      "0.0 2000.0 0.025 ms\n"
     ]
    }
   ],
   "source": [
    "print(\n",
    "    soma_report.time_start, \n",
    "    soma_report.time_stop, \n",
    "    soma_report.dt,\n",
    "    soma_report.time_units\n",
    ")"
   ]
  },
  {
   "cell_type": "markdown",
   "metadata": {},
   "source": [
    "## Populations\n",
    "If we are interested in the populations in frame report, they can be shown with"
   ]
  },
  {
   "cell_type": "code",
   "execution_count": 1,
   "metadata": {},
   "outputs": [
    {
     "ename": "NameError",
     "evalue": "name 'soma_report' is not defined",
     "output_type": "error",
     "traceback": [
      "\u001b[0;31m---------------------------------------------------------------------------\u001b[0m",
      "\u001b[0;31mNameError\u001b[0m                                 Traceback (most recent call last)",
      "Cell \u001b[0;32mIn[1], line 1\u001b[0m\n\u001b[0;32m----> 1\u001b[0m \u001b[43msoma_report\u001b[49m\u001b[38;5;241m.\u001b[39mpopulation_names\n",
      "\u001b[0;31mNameError\u001b[0m: name 'soma_report' is not defined"
     ]
    }
   ],
   "source": [
    "soma_report.population_names"
   ]
  },
  {
   "cell_type": "code",
   "execution_count": 7,
   "metadata": {},
   "outputs": [
    {
     "name": "stdout",
     "output_type": "stream",
     "text": [
      "<class 'bluepysnap.frame_report.PopulationSomaReport'>\n"
     ]
    }
   ],
   "source": [
    "soma_pop = soma_report['hippocampus_neurons']\n",
    "print(type(soma_pop))"
   ]
  },
  {
   "cell_type": "markdown",
   "metadata": {},
   "source": [
    "Accessing the actual NodePopulation from the report can be done with"
   ]
  },
  {
   "cell_type": "code",
   "execution_count": 8,
   "metadata": {},
   "outputs": [
    {
     "name": "stdout",
     "output_type": "stream",
     "text": [
      "hippocampus_neurons: <class 'bluepysnap.nodes.node_population.NodePopulation'>\n"
     ]
    }
   ],
   "source": [
    "node_population = soma_pop.nodes\n",
    "print(f'{node_population.name}: {type(node_population)}')"
   ]
  },
  {
   "cell_type": "markdown",
   "metadata": {},
   "source": [
    "## Node IDs\n",
    "Accessing the node_ids in the report and getting their info is the same as in the SpikeReport"
   ]
  },
  {
   "cell_type": "code",
   "execution_count": 9,
   "metadata": {},
   "outputs": [
    {
     "data": {
      "text/html": [
       "<div>\n",
       "<style scoped>\n",
       "    .dataframe tbody tr th:only-of-type {\n",
       "        vertical-align: middle;\n",
       "    }\n",
       "\n",
       "    .dataframe tbody tr th {\n",
       "        vertical-align: top;\n",
       "    }\n",
       "\n",
       "    .dataframe thead th {\n",
       "        text-align: right;\n",
       "    }\n",
       "</style>\n",
       "<table border=\"1\" class=\"dataframe\">\n",
       "  <thead>\n",
       "    <tr style=\"text-align: right;\">\n",
       "      <th></th>\n",
       "      <th>layer</th>\n",
       "      <th>synapse_class</th>\n",
       "      <th>x</th>\n",
       "      <th>y</th>\n",
       "      <th>z</th>\n",
       "    </tr>\n",
       "    <tr>\n",
       "      <th>node_ids</th>\n",
       "      <th></th>\n",
       "      <th></th>\n",
       "      <th></th>\n",
       "      <th></th>\n",
       "      <th></th>\n",
       "    </tr>\n",
       "  </thead>\n",
       "  <tbody>\n",
       "    <tr>\n",
       "      <th>0</th>\n",
       "      <td>SP</td>\n",
       "      <td>EXC</td>\n",
       "      <td>2614.981470</td>\n",
       "      <td>443.526012</td>\n",
       "      <td>4360.400973</td>\n",
       "    </tr>\n",
       "    <tr>\n",
       "      <th>1</th>\n",
       "      <td>SP</td>\n",
       "      <td>INH</td>\n",
       "      <td>2448.882424</td>\n",
       "      <td>420.070191</td>\n",
       "      <td>4545.937066</td>\n",
       "    </tr>\n",
       "    <tr>\n",
       "      <th>2</th>\n",
       "      <td>SP</td>\n",
       "      <td>INH</td>\n",
       "      <td>2383.241273</td>\n",
       "      <td>407.206940</td>\n",
       "      <td>4348.334404</td>\n",
       "    </tr>\n",
       "    <tr>\n",
       "      <th>3</th>\n",
       "      <td>SP</td>\n",
       "      <td>INH</td>\n",
       "      <td>2757.379176</td>\n",
       "      <td>528.859665</td>\n",
       "      <td>4458.257239</td>\n",
       "    </tr>\n",
       "    <tr>\n",
       "      <th>4</th>\n",
       "      <td>SP</td>\n",
       "      <td>INH</td>\n",
       "      <td>2504.818178</td>\n",
       "      <td>439.365759</td>\n",
       "      <td>4423.936844</td>\n",
       "    </tr>\n",
       "  </tbody>\n",
       "</table>\n",
       "</div>"
      ],
      "text/plain": [
       "         layer synapse_class            x           y            z\n",
       "node_ids                                                          \n",
       "0           SP           EXC  2614.981470  443.526012  4360.400973\n",
       "1           SP           INH  2448.882424  420.070191  4545.937066\n",
       "2           SP           INH  2383.241273  407.206940  4348.334404\n",
       "3           SP           INH  2757.379176  528.859665  4458.257239\n",
       "4           SP           INH  2504.818178  439.365759  4423.936844"
      ]
     },
     "execution_count": 9,
     "metadata": {},
     "output_type": "execute_result"
    }
   ],
   "source": [
    "ids = soma_pop.node_ids\n",
    "node_population.get(ids, properties=['layer','synapse_class','x','y','z']).head()"
   ]
  },
  {
   "cell_type": "markdown",
   "metadata": {},
   "source": [
    "## Filtering\n",
    "We can filter the report the same way as in SpikeReport. Just as in SpikeReport, the index are different moments of time. Please note that this time, as there is more data in the output, the columns represent the population names and the ids."
   ]
  },
  {
   "cell_type": "code",
   "execution_count": 10,
   "metadata": {},
   "outputs": [
    {
     "data": {
      "text/html": [
       "<div>\n",
       "<style scoped>\n",
       "    .dataframe tbody tr th:only-of-type {\n",
       "        vertical-align: middle;\n",
       "    }\n",
       "\n",
       "    .dataframe tbody tr th {\n",
       "        vertical-align: top;\n",
       "    }\n",
       "\n",
       "    .dataframe thead tr th {\n",
       "        text-align: left;\n",
       "    }\n",
       "</style>\n",
       "<table border=\"1\" class=\"dataframe\">\n",
       "  <thead>\n",
       "    <tr>\n",
       "      <th></th>\n",
       "      <th colspan=\"2\" halign=\"left\">hippocampus_neurons</th>\n",
       "    </tr>\n",
       "    <tr>\n",
       "      <th></th>\n",
       "      <th>0</th>\n",
       "      <th>1</th>\n",
       "    </tr>\n",
       "  </thead>\n",
       "  <tbody>\n",
       "    <tr>\n",
       "      <th>0.000</th>\n",
       "      <td>-65.000000</td>\n",
       "      <td>-65.000000</td>\n",
       "    </tr>\n",
       "    <tr>\n",
       "      <th>0.025</th>\n",
       "      <td>-64.313759</td>\n",
       "      <td>-64.692551</td>\n",
       "    </tr>\n",
       "    <tr>\n",
       "      <th>0.050</th>\n",
       "      <td>-63.954216</td>\n",
       "      <td>-64.468842</td>\n",
       "    </tr>\n",
       "    <tr>\n",
       "      <th>0.075</th>\n",
       "      <td>-63.691696</td>\n",
       "      <td>-64.278618</td>\n",
       "    </tr>\n",
       "    <tr>\n",
       "      <th>0.100</th>\n",
       "      <td>-63.475517</td>\n",
       "      <td>-64.107773</td>\n",
       "    </tr>\n",
       "  </tbody>\n",
       "</table>\n",
       "</div>"
      ],
      "text/plain": [
       "      hippocampus_neurons           \n",
       "                        0          1\n",
       "0.000          -65.000000 -65.000000\n",
       "0.025          -64.313759 -64.692551\n",
       "0.050          -63.954216 -64.468842\n",
       "0.075          -63.691696 -64.278618\n",
       "0.100          -63.475517 -64.107773"
      ]
     },
     "execution_count": 10,
     "metadata": {},
     "output_type": "execute_result"
    }
   ],
   "source": [
    "filtered = soma_report.filter(group=[0,1])\n",
    "df = filtered.report\n",
    "df.head()"
   ]
  },
  {
   "cell_type": "markdown",
   "metadata": {},
   "source": [
    "## Spike times"
   ]
  },
  {
   "cell_type": "markdown",
   "metadata": {},
   "source": [
    "We can now access the simulation spike report, filter them, and extract the values for the spike times.\n",
    "\n",
    "This is necessary only for plotting puposes."
   ]
  },
  {
   "cell_type": "code",
   "execution_count": 11,
   "metadata": {},
   "outputs": [
    {
     "data": {
      "text/plain": [
       "array([  12.575     ,  234.55      ,  468.35      ,  703.05      ,\n",
       "        994.375     , 1237.625     , 1485.8       , 1742.025     ,\n",
       "       1975.05000001])"
      ]
     },
     "execution_count": 11,
     "metadata": {},
     "output_type": "execute_result"
    }
   ],
   "source": [
    "spikes = simulation.spikes\n",
    "pc_spikes = spikes.filter(group={'synapse_class':'EXC'})\n",
    "pc_spike_times = pc_spikes.report.index.values\n",
    "pc_spike_times"
   ]
  },
  {
   "cell_type": "markdown",
   "metadata": {},
   "source": [
    "## Plotting"
   ]
  },
  {
   "cell_type": "code",
   "execution_count": 13,
   "metadata": {},
   "outputs": [
    {
     "data": {
      "image/png": "[encoded data removed]",
      "text/plain": [
       "<Figure size 640x480 with 2 Axes>"
      ]
     },
     "metadata": {},
     "output_type": "display_data"
    }
   ],
   "source": [
    "fig, axs = plt.subplots(2, sharex=True)\n",
    "\n",
    "x = df.index.values\n",
    "y0 = df['hippocampus_neurons'][0].values\n",
    "y1 = df['hippocampus_neurons'][1].values\n",
    "\n",
    "axs[0].plot(x, y0)\n",
    "axs[0].title.set_text('PC')\n",
    "axs[0].set_ylabel('Voltage (mV)')\n",
    "\n",
    "axs[1].plot(x, y1)\n",
    "axs[1].title.set_text('PV+')\n",
    "axs[1].set_xlabel('Time (ms)')\n",
    "axs[1].set_ylabel('Voltage (mV)')\n",
    "\n",
    "# Copy PC spike times into PV+ somatic voltage plot\n",
    "axs[1].vlines(pc_spike_times, ymin=y1.min(), ymax=y1.max(), colors='green', ls='--')\n",
    "\n",
    "filename = '/Users/armando/Desktop/Models/simulations/N_9__rCA1-ThetaOsc-Sel1__swc/theta/results/traces.png'\n",
    "plt.savefig(filename, bbox_inches='tight')\n",
    "plt.show()"
   ]
  },
  {
   "cell_type": "markdown",
   "metadata": {},
   "source": [
    "## Discussion\n",
    "As soon as the oscillatory input is switched on, the PV+ spikes at ~8Hz and reset the PC spiking. We reproduced in a small microcircuit a phenomen that occurs at larger scale. However, we have to notice that the proportion of the neurons is far from the reality, so it is important to mention that the interations in this test circuit can be quite different from the most complete circuit shown in Romani et al. (2024)."
   ]
  },
  {
   "cell_type": "markdown",
   "metadata": {},
   "source": [
    "## References\n",
    "Romani A, Antonietti A, Bella D, Budd J, Giacalone E, Kurban K, Sáray S, Abdellah M, Arnaudon A, Boci E, Colangelo C, Courcol JD, Delemontex T, Ecker A, Falck J, Favreau C, Gevaert M, Hernando JB, Herttuainen J, Ivaska G, Kanari L, Kaufmann AK, King JG, Kumbhar P, Lange S, Lu H, Lupascu CA, Migliore R, Petitjean F, Planas J, Rai P, Ramaswamy S, Reimann MW, Riquelme JL, Román Guerrero N, Shi Y, Sood V, Sy MF, Van Geit W, Vanherpe L, Freund TF, Mercer A, Muller E, Schürmann F, Thomson AM, Migliore M, Káli S, Markram H. Community-based reconstruction and simulation of a full-scale model of the rat hippocampus CA1 region. PLoS Biol. 2024 Nov 5;22(11):e3002861. doi: 10.1371/journal.pbio.3002861. PMID: 39499732; PMCID: PMC11537418.\n",
    "https://journals.plos.org/plosbiology/article?id=10.1371/journal.pbio.3002861"
   ]
  },
  {
   "cell_type": "code",
   "execution_count": null,
   "metadata": {},
   "outputs": [],
   "source": []
  }
 ],
 "metadata": {
  "kernelspec": {
   "display_name": "Python 3 (ipykernel)",
   "language": "python",
   "name": "python3"
  },
  "language_info": {
   "codemirror_mode": {
    "name": "ipython",
    "version": 3
   },
   "file_extension": ".py",
   "mimetype": "text/x-python",
   "name": "python",
   "nbconvert_exporter": "python",
   "pygments_lexer": "ipython3",
   "version": "3.9.6"
  }
 },
 "nbformat": 4,
 "nbformat_minor": 4
}
