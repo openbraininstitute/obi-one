{
 "cells": [
  {
   "cell_type": "markdown",
   "id": "4f71a350-b7e6-4c3e-a1a3-975ae413ac58",
   "metadata": {},
   "source": [
    "# Feedforward inhibition"
   ]
  },
  {
   "cell_type": "markdown",
   "id": "8569033c-3cbb-4d85-94af-61e686b7adcf",
   "metadata": {},
   "source": [
    "In this _in silico_ experiment, we will analyze the effect of feedforward inhibition (FFI) mediated by the Schaffer collaterals (SC)—axons from CA3 pyramidal cells that innervate neurons in the CA1 region. The microcircuit consists of one pyramidal cell (PC), sampled from the middle of the rCA1-CYLINDER-REF, and eight parvalbumin-positive (PV+) interneurons converging onto the PC. The circuit also includes SC fibers that provide input to all nine neurons.\n",
    "\n",
    "We previously ran two simulations: a control condition (with FFI) and a condition in which inhibition was blocked (without FFI). In both cases, we stimulated an increasing number of SC fibers (50, 100... 1300) with a single synchronous input (delay between stimuly of 100 ms). To estimate the spike probability of the postsynaptic PC, each simulation was repeated 10 times."
   ]
  },
  {
   "cell_type": "markdown",
   "id": "6c7d62bd-2eac-4c57-87e5-e475aa57e513",
   "metadata": {},
   "source": [
    "![SETUP](ffi_setup.png)"
   ]
  },
  {
   "cell_type": "code",
   "execution_count": 1,
   "id": "797e4b3b-ad1d-445c-bc22-d3c86c99633a",
   "metadata": {},
   "outputs": [],
   "source": [
    "import bluepysnap\n",
    "import numpy as np\n",
    "import pandas as pd\n",
    "import matplotlib.pyplot as plt\n",
    "import json"
   ]
  },
  {
   "cell_type": "markdown",
   "id": "3a07b194-ce34-470f-9871-33fbc0beffc9",
   "metadata": {},
   "source": [
    "## Loading\n",
    "In this case, we have to compare two simulations, so we need two paths."
   ]
  },
  {
   "cell_type": "code",
   "execution_count": 2,
   "id": "fab29470-76cb-4418-a354-fc23117c4a90",
   "metadata": {},
   "outputs": [],
   "source": [
    "simulation_root = \"/Users/armando/Desktop/Models/simulations/N_9__rCA1-ThetaOsc-Sel1__swc/ffi/\"\n",
    "simulation_root2 = \"/Users/armando/Desktop/Models/simulations/N_9__rCA1-ThetaOsc-Sel1__swc/ffi_no_inh/\""
   ]
  },
  {
   "cell_type": "code",
   "execution_count": 3,
   "id": "b8c38f1e-55d2-4f9a-99a6-c14bcd2324fb",
   "metadata": {},
   "outputs": [],
   "source": [
    "simulation_path = simulation_root + \"simulation_config.json\"\n",
    "simulation_path2 = simulation_root2 + \"simulation_config.json\""
   ]
  },
  {
   "cell_type": "code",
   "execution_count": 4,
   "id": "816efd53-1a90-462f-a59d-68cccfaecba3",
   "metadata": {},
   "outputs": [],
   "source": [
    "simulation = bluepysnap.Simulation(simulation_path)\n",
    "simulation2 = bluepysnap.Simulation(simulation_path2)"
   ]
  },
  {
   "cell_type": "markdown",
   "id": "409bdc8f-360b-4101-9e84-54a9720b30b6",
   "metadata": {},
   "source": [
    "Parameters of the input were previously saved in a json file. We can load it to fetch these parameters which will be useful for the analysis"
   ]
  },
  {
   "cell_type": "code",
   "execution_count": 7,
   "id": "95a4d271-f054-49e2-9a88-6391b5c8898c",
   "metadata": {},
   "outputs": [],
   "source": [
    "filename = \"./parameters.json\"\n",
    "\n",
    "with open(filename, \"r\") as file:\n",
    "    parameters = json.load(file)"
   ]
  },
  {
   "cell_type": "code",
   "execution_count": 8,
   "id": "6cbb010b-5a7d-4ade-920a-17654ab2da1d",
   "metadata": {},
   "outputs": [],
   "source": [
    "n_repetition = parameters[\"n_repetition\"]\n",
    "delay = parameters[\"delay\"]\n",
    "n_fibers = parameters[\"n_fibers\"]\n",
    "t_start = parameters[\"t_start\"]"
   ]
  },
  {
   "cell_type": "markdown",
   "id": "64bc8816-e76b-4e24-948b-89ae13b338bf",
   "metadata": {},
   "source": [
    "## Access spike times\n",
    "We can access the spike times from the two circuit simulations"
   ]
  },
  {
   "cell_type": "code",
   "execution_count": 4,
   "id": "fb699218-bb1c-493f-9d94-0ade95bc3f50",
   "metadata": {},
   "outputs": [
    {
     "ename": "NameError",
     "evalue": "name 'simulation' is not defined",
     "output_type": "error",
     "traceback": [
      "\u001b[0;31m---------------------------------------------------------------------------\u001b[0m",
      "\u001b[0;31mNameError\u001b[0m                                 Traceback (most recent call last)",
      "Cell \u001b[0;32mIn[4], line 1\u001b[0m\n\u001b[0;32m----> 1\u001b[0m spikes \u001b[38;5;241m=\u001b[39m \u001b[43msimulation\u001b[49m\u001b[38;5;241m.\u001b[39mspikes\n\u001b[1;32m      2\u001b[0m spikes2 \u001b[38;5;241m=\u001b[39m simulation2\u001b[38;5;241m.\u001b[39mspikes\n",
      "\u001b[0;31mNameError\u001b[0m: name 'simulation' is not defined"
     ]
    }
   ],
   "source": [
    "spikes = simulation.spikes\n",
    "spikes2 = simulation2.spikes"
   ]
  },
  {
   "cell_type": "markdown",
   "id": "2b039577-121a-4171-9978-b73354a81af5",
   "metadata": {},
   "source": [
    "Visualize details of the spike times"
   ]
  },
  {
   "cell_type": "code",
   "execution_count": null,
   "id": "4ef0b93e-6b64-48a4-ae1b-4bd0ef9d1bf0",
   "metadata": {},
   "outputs": [],
   "source": [
    "print(\n",
    "    spikes.time_start, \n",
    "    spikes.time_stop, \n",
    "    spikes.dt\n",
    ")"
   ]
  },
  {
   "cell_type": "code",
   "execution_count": 9,
   "id": "bd31851c-807a-4539-8e87-ec2993cb6c95",
   "metadata": {},
   "outputs": [
    {
     "data": {
      "text/plain": [
       "['hippocampus_neurons']"
      ]
     },
     "execution_count": 9,
     "metadata": {},
     "output_type": "execute_result"
    }
   ],
   "source": [
    "spikes.population_names"
   ]
  },
  {
   "cell_type": "code",
   "execution_count": 10,
   "id": "52092661-f157-49de-9413-47814a8ef69f",
   "metadata": {},
   "outputs": [],
   "source": [
    "spike_pop = spikes['hippocampus_neurons']"
   ]
  },
  {
   "cell_type": "code",
   "execution_count": 11,
   "id": "61005ba0-ed5f-4706-8f35-a9d0ed867e1f",
   "metadata": {},
   "outputs": [
    {
     "data": {
      "text/html": [
       "<div>\n",
       "<style scoped>\n",
       "    .dataframe tbody tr th:only-of-type {\n",
       "        vertical-align: middle;\n",
       "    }\n",
       "\n",
       "    .dataframe tbody tr th {\n",
       "        vertical-align: top;\n",
       "    }\n",
       "\n",
       "    .dataframe thead th {\n",
       "        text-align: right;\n",
       "    }\n",
       "</style>\n",
       "<table border=\"1\" class=\"dataframe\">\n",
       "  <thead>\n",
       "    <tr style=\"text-align: right;\">\n",
       "      <th></th>\n",
       "      <th>layer</th>\n",
       "      <th>synapse_class</th>\n",
       "      <th>x</th>\n",
       "      <th>y</th>\n",
       "      <th>z</th>\n",
       "    </tr>\n",
       "    <tr>\n",
       "      <th>node_ids</th>\n",
       "      <th></th>\n",
       "      <th></th>\n",
       "      <th></th>\n",
       "      <th></th>\n",
       "      <th></th>\n",
       "    </tr>\n",
       "  </thead>\n",
       "  <tbody>\n",
       "    <tr>\n",
       "      <th>0</th>\n",
       "      <td>SP</td>\n",
       "      <td>EXC</td>\n",
       "      <td>2614.981470</td>\n",
       "      <td>443.526012</td>\n",
       "      <td>4360.400973</td>\n",
       "    </tr>\n",
       "    <tr>\n",
       "      <th>1</th>\n",
       "      <td>SP</td>\n",
       "      <td>INH</td>\n",
       "      <td>2448.882424</td>\n",
       "      <td>420.070191</td>\n",
       "      <td>4545.937066</td>\n",
       "    </tr>\n",
       "    <tr>\n",
       "      <th>2</th>\n",
       "      <td>SP</td>\n",
       "      <td>INH</td>\n",
       "      <td>2383.241273</td>\n",
       "      <td>407.206940</td>\n",
       "      <td>4348.334404</td>\n",
       "    </tr>\n",
       "    <tr>\n",
       "      <th>3</th>\n",
       "      <td>SP</td>\n",
       "      <td>INH</td>\n",
       "      <td>2757.379176</td>\n",
       "      <td>528.859665</td>\n",
       "      <td>4458.257239</td>\n",
       "    </tr>\n",
       "    <tr>\n",
       "      <th>4</th>\n",
       "      <td>SP</td>\n",
       "      <td>INH</td>\n",
       "      <td>2504.818178</td>\n",
       "      <td>439.365759</td>\n",
       "      <td>4423.936844</td>\n",
       "    </tr>\n",
       "  </tbody>\n",
       "</table>\n",
       "</div>"
      ],
      "text/plain": [
       "         layer synapse_class            x           y            z\n",
       "node_ids                                                          \n",
       "0           SP           EXC  2614.981470  443.526012  4360.400973\n",
       "1           SP           INH  2448.882424  420.070191  4545.937066\n",
       "2           SP           INH  2383.241273  407.206940  4348.334404\n",
       "3           SP           INH  2757.379176  528.859665  4458.257239\n",
       "4           SP           INH  2504.818178  439.365759  4423.936844"
      ]
     },
     "execution_count": 11,
     "metadata": {},
     "output_type": "execute_result"
    }
   ],
   "source": [
    "ids = spike_pop.node_ids\n",
    "node_population = spike_pop.nodes\n",
    "node_population.get(ids, properties=['layer','synapse_class','x','y','z']).head()"
   ]
  },
  {
   "cell_type": "markdown",
   "id": "f1c80eb8-b48f-4081-8ea4-62fc636714fe",
   "metadata": {},
   "source": [
    "We are interested only in the excitatory cells, i.e. pyramidal cells, to compute the input-output of the small microcircuit"
   ]
  },
  {
   "cell_type": "code",
   "execution_count": 12,
   "id": "fde93c48-ab56-4738-86ad-ca5f7eaa83d5",
   "metadata": {},
   "outputs": [],
   "source": [
    "filtered = spikes.filter(group={'synapse_class':'EXC'})\n",
    "filtered2 = spikes2.filter(group={'synapse_class':'EXC'})"
   ]
  },
  {
   "cell_type": "code",
   "execution_count": 13,
   "id": "3564245d-724f-479c-9cd6-467979394bd6",
   "metadata": {},
   "outputs": [],
   "source": [
    "spike_times = filtered.report.index.values\n",
    "spike_times2 = filtered2.report.index.values"
   ]
  },
  {
   "cell_type": "markdown",
   "id": "56016714-67af-4ae7-b544-a26bf909bbf3",
   "metadata": {},
   "source": [
    "We calculate the probability of spiking given the amount of stimulated fibers. For a given number of stimulated fibers, the pyramidal cell can fire only in a subset of repetition. The ratio between the times it spikes over the number of repetition is an estimation of the spike probability."
   ]
  },
  {
   "cell_type": "code",
   "execution_count": 14,
   "id": "e8b69f8f-cd9e-4629-8b1f-5b067badb476",
   "metadata": {},
   "outputs": [],
   "source": [
    "df = pd.DataFrame(columns=['fibers', 'ffi', 'no_ffi'])"
   ]
  },
  {
   "cell_type": "code",
   "execution_count": 15,
   "id": "9c80c2e5-9f80-4123-a761-00cabeb90be4",
   "metadata": {},
   "outputs": [
    {
     "data": {
      "text/html": [
       "<div>\n",
       "<style scoped>\n",
       "    .dataframe tbody tr th:only-of-type {\n",
       "        vertical-align: middle;\n",
       "    }\n",
       "\n",
       "    .dataframe tbody tr th {\n",
       "        vertical-align: top;\n",
       "    }\n",
       "\n",
       "    .dataframe thead th {\n",
       "        text-align: right;\n",
       "    }\n",
       "</style>\n",
       "<table border=\"1\" class=\"dataframe\">\n",
       "  <thead>\n",
       "    <tr style=\"text-align: right;\">\n",
       "      <th></th>\n",
       "      <th>fibers</th>\n",
       "      <th>ffi</th>\n",
       "      <th>no_ffi</th>\n",
       "    </tr>\n",
       "  </thead>\n",
       "  <tbody>\n",
       "    <tr>\n",
       "      <th>0</th>\n",
       "      <td>50.0</td>\n",
       "      <td>0.0</td>\n",
       "      <td>0.0</td>\n",
       "    </tr>\n",
       "    <tr>\n",
       "      <th>1</th>\n",
       "      <td>100.0</td>\n",
       "      <td>0.0</td>\n",
       "      <td>0.0</td>\n",
       "    </tr>\n",
       "    <tr>\n",
       "      <th>2</th>\n",
       "      <td>150.0</td>\n",
       "      <td>0.0</td>\n",
       "      <td>0.0</td>\n",
       "    </tr>\n",
       "    <tr>\n",
       "      <th>3</th>\n",
       "      <td>200.0</td>\n",
       "      <td>0.0</td>\n",
       "      <td>0.0</td>\n",
       "    </tr>\n",
       "    <tr>\n",
       "      <th>4</th>\n",
       "      <td>250.0</td>\n",
       "      <td>0.1</td>\n",
       "      <td>0.1</td>\n",
       "    </tr>\n",
       "    <tr>\n",
       "      <th>5</th>\n",
       "      <td>300.0</td>\n",
       "      <td>0.0</td>\n",
       "      <td>0.0</td>\n",
       "    </tr>\n",
       "    <tr>\n",
       "      <th>6</th>\n",
       "      <td>350.0</td>\n",
       "      <td>0.0</td>\n",
       "      <td>0.1</td>\n",
       "    </tr>\n",
       "    <tr>\n",
       "      <th>7</th>\n",
       "      <td>500.0</td>\n",
       "      <td>0.5</td>\n",
       "      <td>0.5</td>\n",
       "    </tr>\n",
       "    <tr>\n",
       "      <th>8</th>\n",
       "      <td>700.0</td>\n",
       "      <td>0.8</td>\n",
       "      <td>0.8</td>\n",
       "    </tr>\n",
       "    <tr>\n",
       "      <th>9</th>\n",
       "      <td>900.0</td>\n",
       "      <td>1.0</td>\n",
       "      <td>1.0</td>\n",
       "    </tr>\n",
       "    <tr>\n",
       "      <th>10</th>\n",
       "      <td>1100.0</td>\n",
       "      <td>1.0</td>\n",
       "      <td>1.0</td>\n",
       "    </tr>\n",
       "    <tr>\n",
       "      <th>11</th>\n",
       "      <td>1300.0</td>\n",
       "      <td>1.0</td>\n",
       "      <td>1.0</td>\n",
       "    </tr>\n",
       "  </tbody>\n",
       "</table>\n",
       "</div>"
      ],
      "text/plain": [
       "    fibers  ffi  no_ffi\n",
       "0     50.0  0.0     0.0\n",
       "1    100.0  0.0     0.0\n",
       "2    150.0  0.0     0.0\n",
       "3    200.0  0.0     0.0\n",
       "4    250.0  0.1     0.1\n",
       "5    300.0  0.0     0.0\n",
       "6    350.0  0.0     0.1\n",
       "7    500.0  0.5     0.5\n",
       "8    700.0  0.8     0.8\n",
       "9    900.0  1.0     1.0\n",
       "10  1100.0  1.0     1.0\n",
       "11  1300.0  1.0     1.0"
      ]
     },
     "execution_count": 15,
     "metadata": {},
     "output_type": "execute_result"
    }
   ],
   "source": [
    "t = t_start\n",
    "\n",
    "for i, fibers in enumerate(n_fibers):\n",
    "    events = 0\n",
    "    events2 = 0\n",
    "    for _idx in np.arange(n_repetition):\n",
    "        if ((spike_times > t) & (spike_times < t + delay)).any():\n",
    "            events += 1\n",
    "        if ((spike_times2 > t) & (spike_times2 < t + delay)).any():\n",
    "            events2 += 1        \n",
    "        t += delay\n",
    "    prob = events / n_repetition\n",
    "    prob2 = events2 / n_repetition\n",
    "    df.loc[i] = fibers, prob, prob2\n",
    "df"
   ]
  },
  {
   "cell_type": "code",
   "execution_count": 16,
   "id": "40ee1d18-b5c4-4c39-abb9-9014dc9126ca",
   "metadata": {},
   "outputs": [
    {
     "data": {
      "image/png": "[encoded data removed]",
      "text/plain": [
       "<Figure size 640x480 with 1 Axes>"
      ]
     },
     "metadata": {},
     "output_type": "display_data"
    }
   ],
   "source": [
    "fig, ax = plt.subplots()\n",
    "\n",
    "x = df['fibers'].values\n",
    "y = df['ffi'].values\n",
    "y2 = df['no_ffi'].values\n",
    "\n",
    "ax.plot(x, y, '-ok', alpha=0.5, label='ctrl')\n",
    "ax.plot(x, y2, '-or', alpha=0.5, label='no FFI')\n",
    "\n",
    "ax.set_xlabel('Number of stimulated SC fibers')\n",
    "ax.set_ylabel('Spike probability')\n",
    "\n",
    "plt.legend(loc='best')\n",
    "\n",
    "fig.show()"
   ]
  },
  {
   "cell_type": "markdown",
   "id": "b932d068-ed7b-4de2-9604-3dae3935ea3e",
   "metadata": {},
   "source": [
    "## Discussion\n",
    "In the simulations above, we can appreciate an effect of inhibition but it is too small compared to experimental measures of FFI. While this result might be disappointing for some of you, we can be explained in two ways. First, despite all the efforts invested in Romani et al. (2024), the experimental data were not sufficient to constrained SC correctly. Second, the FFI is a phenomenon which emerges at network level when a \"critical mass\" of neurons is present."
   ]
  },
  {
   "cell_type": "markdown",
   "id": "7553eb02-f143-4519-99fe-a787d95f1b54",
   "metadata": {},
   "source": [
    "## References\n",
    "Romani A, Antonietti A, Bella D, Budd J, Giacalone E, Kurban K, Sáray S, Abdellah M, Arnaudon A, Boci E, Colangelo C, Courcol JD, Delemontex T, Ecker A, Falck J, Favreau C, Gevaert M, Hernando JB, Herttuainen J, Ivaska G, Kanari L, Kaufmann AK, King JG, Kumbhar P, Lange S, Lu H, Lupascu CA, Migliore R, Petitjean F, Planas J, Rai P, Ramaswamy S, Reimann MW, Riquelme JL, Román Guerrero N, Shi Y, Sood V, Sy MF, Van Geit W, Vanherpe L, Freund TF, Mercer A, Muller E, Schürmann F, Thomson AM, Migliore M, Káli S, Markram H. Community-based reconstruction and simulation of a full-scale model of the rat hippocampus CA1 region. PLoS Biol. 2024 Nov 5;22(11):e3002861. doi: 10.1371/journal.pbio.3002861. PMID: 39499732; PMCID: PMC11537418.\n",
    "https://journals.plos.org/plosbiology/article?id=10.1371/journal.pbio.3002861"
   ]
  },
  {
   "cell_type": "code",
   "execution_count": null,
   "id": "f791c41e-1b1f-4c3a-be28-428f851873ac",
   "metadata": {},
   "outputs": [],
   "source": []
  }
 ],
 "metadata": {
  "kernelspec": {
   "display_name": "Python 3 (ipykernel)",
   "language": "python",
   "name": "python3"
  },
  "language_info": {
   "codemirror_mode": {
    "name": "ipython",
    "version": 3
   },
   "file_extension": ".py",
   "mimetype": "text/x-python",
   "name": "python",
   "nbconvert_exporter": "python",
   "pygments_lexer": "ipython3",
   "version": "3.12.10"
  }
 },
 "nbformat": 4,
 "nbformat_minor": 5
}
