{
 "cells": [
  {
   "cell_type": "markdown",
   "id": "05694daa",
   "metadata": {},
   "source": [
    "# Accessing synapse and spine info of the MICrONS data\n",
    "\n",
    "The MICrONS initiative provided a dense reconstruction of around a cubic milimeter of mouse brain tissue.\n",
    "\n",
    "At OBI, we have converted that data into the SONATA format that is often used to represent biophysically-detailed computational models of neuronal circuitry. We believe that this is a useful resource for the community for the following reasons:\n",
    " 1. It allows direct comparison of models to the data, as both are in the same format. In the future it may even be possible to simulate the MICrONS circuitry as one simulates the computational models.\n",
    " 2. There are many useful code libraries for analyzing SONATA-formatted circuits.\n",
    " 3. It is reduced representation of the data. While this discards a lot of information, what remains is still very useful for many purposes. And the reduced data can be more easily handled and analyzed faster.\n",
    " 4. During the conversion to SONATA we added derived data. Specifically, high-quality morphology skeletons with extracted spines.\n",
    "\n",
    "\n",
    "Here, we want to expand on point (4) above. We demonstrate some example of how to access spine- and synapse-related data."
   ]
  },
  {
   "cell_type": "markdown",
   "id": "e5f0cc85",
   "metadata": {},
   "source": [
    "### Summary of the analysis\n",
    "\n",
    "This is less of an analysis and more of a demonstration of how to access spine- and synapse-related data of the MICrONS data, represented in the SONATA format. It serves to teach you the basics of structural analyses of SONATA circuits.\n",
    "\n",
    "However, as examples, we calculate the fractions and number of shaft vs. spine synapses of 100 neurons, and the propertions of pre-synaptic neuron types."
   ]
  },
  {
   "cell_type": "markdown",
   "id": "611eae46",
   "metadata": {},
   "source": [
    "## Importing code libraries and loading the data\n",
    "\n",
    "We import a number of standard packages, as well as _bluepysnap_ and _neurom_. These two packages provide (as we will see) useful functionality for accessing the data in the SONATA format."
   ]
  },
  {
   "cell_type": "code",
   "execution_count": null,
   "id": "0c881db5",
   "metadata": {},
   "outputs": [],
   "source": [
    "import numpy\n",
    "import pandas\n",
    "\n",
    "import bluepysnap as snap\n",
    "from matplotlib import pyplot as plt\n",
    "\n",
    "circ_fn = \"circuit_config.json\"\n",
    "circ = snap.Circuit(circ_fn)"
   ]
  },
  {
   "cell_type": "markdown",
   "id": "e8a5159f",
   "metadata": {},
   "source": [
    "## Node populations\n",
    "\n",
    "The neurons in a SONATA circuit can be split into different _node populations_.\n",
    "To represent the MICrONS data, we have decided to split it as follows:\n",
    "  - An \"intrinsic\" population that contains the neurons with somata inside the reconstructed volume. Except for a small fraction (~15%) of neurons in the very periphery of the volume. As these peripheral neurons are likely to be severely affected by an edge effect in terms of their connectivity and hence should be excluded from analyses.\n",
    "  - A \"virtual\" population representing the ~15% of neurons in the periphery that were excluded.\n",
    "  - An \"extrinsic\" population representing neurons outside the reconstructed volume innervating neurons inside it. As these neurons are outside the volume, we know nothing about them, except that they must exist. \n",
    "\n",
    "We displaying the names of the node populations."
   ]
  },
  {
   "cell_type": "code",
   "execution_count": null,
   "id": "f2e43161",
   "metadata": {},
   "outputs": [],
   "source": [
    "display(list(circ.nodes))"
   ]
  },
  {
   "cell_type": "markdown",
   "id": "ae740c40",
   "metadata": {},
   "source": [
    "The intrinsic node population (\"microns_inotrinsic\") is the most interesting one. Each neuron in the population is associated with a number of \"node properties\" that represent, e.g., its location, neuron type, etc.\n",
    "\n",
    "We display the available node, i.e., neuron properties."
   ]
  },
  {
   "cell_type": "code",
   "execution_count": null,
   "id": "db16f7c7",
   "metadata": {},
   "outputs": [],
   "source": [
    "node_pop = circ.nodes[\"microns_intrinsic\"]\n",
    "\n",
    "display(node_pop.property_names)"
   ]
  },
  {
   "cell_type": "markdown",
   "id": "d9622a21",
   "metadata": {},
   "source": [
    "For the intrinsic population, we load a number of available property values and display them."
   ]
  },
  {
   "cell_type": "code",
   "execution_count": null,
   "id": "9395aff7",
   "metadata": {},
   "outputs": [],
   "source": [
    "node_properties_to_load = [\"layer\", \"morphology\", \"mtype\", \"spine_info\", \"synapse_class\", \"x\", \"y\", \"z\"]\n",
    "nrn_props = node_pop.get(properties=node_properties_to_load)\n",
    "\n",
    "display(nrn_props.head())"
   ]
  },
  {
   "cell_type": "markdown",
   "id": "fd636ece",
   "metadata": {},
   "source": [
    "### Morphologies available for a fraction of neurons\n",
    "\n",
    "As we saw, above the entry for \"morphology\" is \"_NONE\" for most neurons. That indicates that we have not yet skeletonized the morphology for that neuron. At the moment, we have made available morphologies for only 85 neurons, but that number is steadily growing.\n",
    "\n",
    "Here, we create a DataFrame of neurons with available morphologies. Its index \"node_ids\" provides the identifiers of those neurons for future analyses."
   ]
  },
  {
   "cell_type": "code",
   "execution_count": null,
   "id": "5871f242",
   "metadata": {},
   "outputs": [],
   "source": [
    "nrn_props = nrn_props.loc[nrn_props[\"morphology\"] != \"_NONE\"]\n",
    "display(nrn_props.head())"
   ]
  },
  {
   "cell_type": "markdown",
   "id": "194b267a",
   "metadata": {},
   "source": [
    "Just as neurons, the synapses are also split into separate _edge populations_ that represent synapses between different pairs of node populations.\n",
    "\n",
    "Display edge populations"
   ]
  },
  {
   "cell_type": "code",
   "execution_count": null,
   "id": "a0244dd2",
   "metadata": {},
   "outputs": [],
   "source": [
    "edge_pop_names = list(circ.edges)\n",
    "display(edge_pop_names)"
   ]
  },
  {
   "cell_type": "markdown",
   "id": "89066ad3",
   "metadata": {},
   "source": [
    "Display available edge (i.e., synapse) properties"
   ]
  },
  {
   "cell_type": "code",
   "execution_count": null,
   "id": "8e35b400",
   "metadata": {},
   "outputs": [],
   "source": [
    "edge_properties_to_load = list(circ.edges[edge_pop_names[1]].property_names)\n",
    "\n",
    "display(edge_properties_to_load)"
   ]
  },
  {
   "cell_type": "markdown",
   "id": "605152da",
   "metadata": {},
   "source": [
    "We pick an exemplary neuron with available morphology.\n",
    "\n",
    "Then we load its afferent synapse properties from all available edge populations. For that purpose, we define a helper function that iterates over edge populations."
   ]
  },
  {
   "cell_type": "code",
   "execution_count": null,
   "id": "ef08e99d",
   "metadata": {},
   "outputs": [],
   "source": [
    "nrn_id = nrn_props.index[10]\n",
    "\n",
    "def synapses_from_all_edge_populations(nrn_id):\n",
    "    syns = []; keys=[]\n",
    "    for edge_pop in edge_pop_names:\n",
    "        pop_syns = circ.edges[edge_pop].afferent_edges(nrn_id, properties=edge_properties_to_load)\n",
    "        if len(pop_syns) > 0:\n",
    "            syns.append(pop_syns)\n",
    "            keys.append(edge_pop)\n",
    "    syns = pandas.concat(syns, axis=0, keys=keys, names=[\"edge_population\"])\n",
    "    return syns\n",
    "\n",
    "synapses = synapses_from_all_edge_populations(nrn_id)\n",
    "display(synapses)"
   ]
  },
  {
   "cell_type": "markdown",
   "id": "ac9e935f",
   "metadata": {},
   "source": [
    "### Extrinsic vs. intrinsic innervation\n",
    "\n",
    "With the loaded data, we can already calculate the number of extrinsic vs. intrinsic synapses. A theoretically important quantity.\n",
    "\n",
    "Note that at the moment we make \"extrinsic\" synapses only available for neurons with available morphology. In the future we will provide extrinsic info also for other neurons."
   ]
  },
  {
   "cell_type": "code",
   "execution_count": null,
   "id": "47f2af13",
   "metadata": {},
   "outputs": [],
   "source": [
    "synapses.reset_index()[\"edge_population\"].value_counts()"
   ]
  },
  {
   "cell_type": "markdown",
   "id": "6da18077",
   "metadata": {},
   "source": [
    "We saw that most synapses are, indeed extrinsic!\n",
    "\n",
    "We now write a quick widget that allows to perform that analysis for all neurons. \n",
    "Use the slider to iterate over neurons "
   ]
  },
  {
   "cell_type": "code",
   "execution_count": null,
   "id": "0adbf229",
   "metadata": {},
   "outputs": [],
   "source": [
    "from ipywidgets import widgets\n",
    "\n",
    "wgt_nrn_id = widgets.IntSlider(min=0, max=len(nrn_props)-1, step=1, value=0, description=\"Neuron index\")\n",
    "\n",
    "def display_fun(idx):\n",
    "    synapses = synapses_from_all_edge_populations(nrn_props.index[idx])\n",
    "    per_population_count = synapses.reset_index()[\"edge_population\"].value_counts().sort_index()\n",
    "\n",
    "    _ = plt.pie(per_population_count, labels=per_population_count.index)\n",
    "\n",
    "i = widgets.interactive(display_fun, idx=wgt_nrn_id)\n",
    "display(i)"
   ]
  },
  {
   "cell_type": "markdown",
   "id": "909b0147",
   "metadata": {},
   "source": [
    "### Small tangent: Presynaptic neuron types\n",
    "\n",
    "This is unrelated to spines. But we can also look up the neuron types of the presynaptic neurons.\n",
    "\n",
    "To that end, we simply use the \"get\" function of the corresponding pre-synaptic node population for the \"mtypes\" of the innervating neurons.\n",
    "\n",
    "Note that this is NOT possible for extrinsic synapses. Because the sources of extrinsic synapse are by definition outside the reconstructed volume, so we have no information about those neurons. "
   ]
  },
  {
   "cell_type": "code",
   "execution_count": null,
   "id": "73f01b5b",
   "metadata": {},
   "outputs": [],
   "source": [
    "non_extrinsics = synapses.drop(index=[\"em_extrinsic__microns_intrinsic__chemical\"], errors=\"ignore\")\n",
    "\n",
    "def lookup_presynaptic_property(df_in, property_names):\n",
    "    edge_pop = df_in.index[0][0]\n",
    "    source_name = circ.edges[edge_pop].source.name\n",
    "    lo = circ.nodes[source_name].get(df_in[\"@source_node\"], properties=property_names)\n",
    "    return lo.reindex(df_in[\"@source_node\"])\n",
    "\n",
    "pre_mtypes = non_extrinsics.groupby(\"edge_population\").apply(lookup_presynaptic_property, \"mtype\")\n",
    "pre_mtype_counts = pre_mtypes.value_counts()\n",
    "\n",
    "_ = plt.pie(pre_mtype_counts, labels=pre_mtype_counts.index)"
   ]
  },
  {
   "cell_type": "markdown",
   "id": "08c3fd88",
   "metadata": {},
   "source": [
    "The neuron type classification used above uses \"PTC\" to denote an inhibitory \"proximally targeting cell\", i.e., a Basket Cell. And \"DTC\" is an inhibitory \"distally targeting cell\", i.e. SST-positive neurons.\n",
    "\n",
    "Again, we can also do this with a little interactive widget."
   ]
  },
  {
   "cell_type": "code",
   "execution_count": null,
   "id": "70e2fbe7",
   "metadata": {},
   "outputs": [],
   "source": [
    "from ipywidgets import widgets\n",
    "\n",
    "wgt_nrn_id = widgets.IntSlider(min=0, max=node_pop.count(), step=1, value=0, description=\"Neuron index\")\n",
    "\n",
    "\n",
    "def display_fun(nrn_id):\n",
    "    synapses = synapses_from_all_edge_populations(nrn_id)\n",
    "    non_extrinsics = synapses.drop(index=[\"em_extrinsic__microns_intrinsic__chemical\"], errors=\"ignore\")\n",
    "    pre_mtypes = non_extrinsics.groupby(\"edge_population\").apply(lookup_presynaptic_property, [\"mtype\"])    \n",
    "    pre_mtype_counts = pre_mtypes[\"mtype\"].value_counts().sort_index()\n",
    "\n",
    "    ax = plt.figure().gca()\n",
    "    _ = ax.pie(pre_mtype_counts, labels=pre_mtype_counts.index)\n",
    "\n",
    "i = widgets.interactive(display_fun, nrn_id=wgt_nrn_id)\n",
    "display(i)"
   ]
  },
  {
   "cell_type": "markdown",
   "id": "b81826a3",
   "metadata": {},
   "source": [
    "## Finally: Accessing spine data"
   ]
  },
  {
   "cell_type": "markdown",
   "id": "c1c8eaf8",
   "metadata": {},
   "source": [
    "We write a small helper function to access and load the extracted spine data for a neuron.\n",
    "\n",
    "We represent spines at three levels of detail:\n",
    "  1. Surface meshes of spines\n",
    "  2. Morphology-skeletons of spines, i.e., as line-segments with diameters\n",
    "  3. As a simple line segment from the root of the spine to its tip.\n",
    "\n",
    "At the moment and in this example, we only make (3) available. In the future, also (2) and (1) will be released."
   ]
  },
  {
   "cell_type": "code",
   "execution_count": null,
   "id": "c66da562",
   "metadata": {},
   "outputs": [],
   "source": [
    "import os, json\n",
    "\n",
    "def read_spine_info(node_pop, nrn_id):\n",
    "    spines_root = os.path.split(node_pop.config[\"alternate_morphologies\"][\"h5v1\"])[0]\n",
    "    spines_root = node_pop.config[\"alternate_morphologies\"][\"h5v1\"]\n",
    "    fn = os.path.join(spines_root, nrn_props.loc[nrn_id, \"spine_info\"]) + \".json\"\n",
    "    with open(fn, \"r\") as fid:\n",
    "        spines = json.load(fid)\n",
    "    return pandas.DataFrame(spines)\n",
    "\n",
    "spine_info = read_spine_info(node_pop, nrn_id)\n",
    "display(spine_info.head())"
   ]
  },
  {
   "cell_type": "markdown",
   "id": "0a62f2f4",
   "metadata": {},
   "source": [
    "A quick explanation of the above:\n",
    "\n",
    "Each row of the DataFrame represents a spine on the morphology of the neuron. The columns are as follows:\n",
    "  - dendritic_sample_position: x,y,z coordinates of the location of the spine on the morphology skeleton, i.e., on the center line of the dendrite\n",
    "  - surface_sample_position: x,y,z coordinates of the location of the root of the spine on the dendrite surface\n",
    "  - direction_vector: The direction from surface_sample_position to dendritic_sample_position\n",
    "  - orientation_vector: A vector pointing from surface_sample_position towards the tip of the spine\n",
    "  - synaptic radius: The distance of the tip of the spine from surface_sample_position"
   ]
  },
  {
   "cell_type": "markdown",
   "id": "e54a079a",
   "metadata": {},
   "source": [
    "## Fractions of shaft- and spine-synapses\n",
    "\n",
    "We use the above to calculate for all neurons their numbers of spine- and shaft-synapses. "
   ]
  },
  {
   "cell_type": "code",
   "execution_count": null,
   "id": "f65caa74",
   "metadata": {},
   "outputs": [],
   "source": [
    "for nrn_id in nrn_props.index:\n",
    "    spines = read_spine_info(node_pop, nrn_id)\n",
    "    nrn_props.loc[nrn_id, \"spine_count\"] = len(spines)  # Each row of the DataFrame is a spine. Hence len is the spine count.\n",
    "    \n",
    "    syns = synapses_from_all_edge_populations(nrn_id)\n",
    "    count_on_spines = (syns[\"spine_id\"] > -1).sum()\n",
    "    count_on_shafts = (syns[\"spine_id\"] <= -1).sum()\n",
    "    nrn_props.loc[nrn_id, \"syn_count_on_spines\"] = count_on_spines\n",
    "    nrn_props.loc[nrn_id, \"syn_count_on_shafts\"] = count_on_shafts\n"
   ]
  },
  {
   "cell_type": "markdown",
   "id": "b7ff29b9",
   "metadata": {},
   "source": [
    "For all exemplars with spines and morphologies available, we plot the numbers of spine and shaft synapses and the total numbers of spines.\n",
    "\n",
    "We see that in this dataset the number of spines is typically higher than the number of spine synapses, indicating some spines being still unoccupied and \"looking for\" a synaptic partner.\n",
    "But there are also instances of more spine synapses than spines, indicating spines with multiple synapses."
   ]
  },
  {
   "cell_type": "code",
   "execution_count": null,
   "id": "1e602063",
   "metadata": {},
   "outputs": [],
   "source": [
    "plt.bar(range(len(nrn_props)), nrn_props[\"syn_count_on_spines\"],\n",
    "        color=\"green\", label=\"Spine syn. count\")\n",
    "plt.bar(range(len(nrn_props)), \n",
    "        nrn_props[\"syn_count_on_shafts\"],\n",
    "        bottom=nrn_props[\"syn_count_on_spines\"],\n",
    "        color=\"blue\", label=\"Shaft syn. count\")\n",
    "plt.bar(range(len(nrn_props)), -nrn_props[\"spine_count\"],\n",
    "        color=\"teal\", label=\"Spine count\")\n",
    "plt.plot(range(len(nrn_props)), -nrn_props[\"syn_count_on_spines\"],\n",
    "         ls=\"--\", color=\"black\", lw=0.5, label=\"Spine syn count (mirrored)\")\n",
    "\n",
    "ax = plt.gca()\n",
    "plt.legend()\n",
    "ax.set_frame_on(False)\n",
    "ax.set_xlabel(\"Neuron #\")\n",
    "ax.set_ylabel(\"Count\")\n",
    "ax.set_yticks(ax.get_yticks())\n",
    "ax.set_yticklabels(numpy.abs(ax.get_yticks()))"
   ]
  },
  {
   "cell_type": "markdown",
   "id": "f2f2cd0c",
   "metadata": {},
   "source": [
    "Which presynaptic types place synapses on spines vs. shafts?"
   ]
  },
  {
   "cell_type": "code",
   "execution_count": null,
   "id": "5769aaec",
   "metadata": {},
   "outputs": [],
   "source": [
    "def lookup_presynaptic_property2(df_in, property_names):\n",
    "    edge_pop = df_in.index[0][0]\n",
    "    if edge_pop == \"em_extrinsic__microns_intrinsic__chemical\":\n",
    "        return pandas.DataFrame([[\"extrinsic\"] * len(property_names)] * df_in.shape[0],\n",
    "                             index=df_in[\"@source_node\"],\n",
    "                             columns=property_names)\n",
    "    source_name = circ.edges[edge_pop].source.name\n",
    "    lo = circ.nodes[source_name].get(df_in[\"@source_node\"], properties=property_names)\n",
    "    return lo.reindex(df_in[\"@source_node\"])\n",
    "\n",
    "per_pre_mtype_fractions = []\n",
    "for nrn_id in nrn_props.index:\n",
    "    syns = synapses_from_all_edge_populations(nrn_id)\n",
    "    pre_mtypes = syns.groupby(\"edge_population\").apply(lookup_presynaptic_property2, [\"mtype\"]).set_index(syns.index)\n",
    "    mtypes_and_is_on_spine = pandas.concat([pre_mtypes, syns[\"spine_id\"] > -1], axis=1)\n",
    "    res_for_neuron = mtypes_and_is_on_spine.value_counts().unstack(\"mtype\", fill_value=0)\n",
    "    res_for_neuron = res_for_neuron.loc[True] / res_for_neuron.sum()\n",
    "    per_pre_mtype_fractions.append(res_for_neuron)\n",
    "\n",
    "per_pre_mtype_fractions = pandas.concat(per_pre_mtype_fractions, axis=1)\n",
    "mn_vals = per_pre_mtype_fractions.mean(axis=1)\n",
    "smpl_counts = (~numpy.isnan(mn_vals)).sum(axis=0)\n",
    "sem_vals = per_pre_mtype_fractions.std(axis=1) / numpy.sqrt(smpl_counts)\n",
    "\n",
    "plt.bar(range(len(mn_vals)), mn_vals)\n",
    "plt.errorbar(range(len(mn_vals)), mn_vals, yerr=sem_vals, ls=\"None\")\n",
    "plt.gca().set_xticks(range(len(mn_vals)))\n",
    "plt.gca().set_xticklabels(mn_vals.index, rotation=\"vertical\")\n",
    "plt.gca().set_ylim([0.5, 1.0])\n",
    "plt.gca().set_ylabel(\"Fraction syns. on spines\")"
   ]
  },
  {
   "cell_type": "markdown",
   "id": "cee5f915",
   "metadata": {},
   "source": [
    "## Plot exemplar morphology and its synapses\n",
    "\n",
    "We plot an examplar morphology and all its afferent synapses. \n",
    "\n",
    "Shaft synapses in blue, spine synapses in green.\n",
    "\n",
    "We see the shaft synapses are more prevalent around the soma than elsewhere. This is easier to see if you uncomment the last code line to zoom into the soma a bit more."
   ]
  },
  {
   "cell_type": "code",
   "execution_count": null,
   "id": "18e39b8c",
   "metadata": {},
   "outputs": [],
   "source": [
    "import neurom\n",
    "import neurom.view\n",
    "\n",
    "morph = neurom.load_morphology(node_pop.morph.get(nrn_id, extension=\"swc\", transform=True))\n",
    "syns = synapses_from_all_edge_populations(nrn_id)\n",
    "\n",
    "neurom.view.plot_morph(morph, diameter_scale=3)\n",
    "ax = plt.gca()\n",
    "ax.scatter(syns.afferent_synapse_x[syns.spine_id == -1],\n",
    "           syns.afferent_synapse_y[syns.spine_id == -1], s=5, alpha=0.3, color=\"blue\")\n",
    "ax.scatter(syns.afferent_synapse_x[syns.spine_id != -1],\n",
    "           syns.afferent_synapse_y[syns.spine_id != -1], s=2, alpha=0.3, color=\"green\")\n",
    "\n",
    "ax.set_ylim([600, 300]); ax.set_xlim([420, 800])\n",
    "# To zoom into the soma\n",
    "# ax.set_ylim([500, 450]); ax.set_xlim([550, 600])"
   ]
  },
  {
   "cell_type": "markdown",
   "id": "ab54717d",
   "metadata": {},
   "source": [
    "## Plot exemplar morphology, synapses -- and SPINES\n",
    "\n",
    "We plot the same exemplar again, this time also with the extracted spines.\n",
    "\n",
    "As mentioned above, at this point we only offer the very reduced representation of spines as lines. But soon more involved representations will be available. \n",
    "\n",
    "Still, we can see nicely how each spine projects outwards from its dendrite to \"catch\" its associated synapse."
   ]
  },
  {
   "cell_type": "code",
   "execution_count": null,
   "id": "3529e489",
   "metadata": {},
   "outputs": [],
   "source": [
    "import neurom\n",
    "import neurom.view\n",
    "\n",
    "morph = neurom.load_morphology(node_pop.morph.get(nrn_id, extension=\"swc\", transform=True))\n",
    "syns = synapses_from_all_edge_populations(nrn_id)\n",
    "spines = read_spine_info(node_pop, nrn_id)\n",
    "\n",
    "neurom.view.plot_morph(morph, diameter_scale=3)\n",
    "ax = plt.gca()\n",
    "ax.scatter(syns.afferent_synapse_x[syns.spine_id == -1],\n",
    "           syns.afferent_synapse_y[syns.spine_id == -1], s=5, alpha=0.3, color=\"blue\")\n",
    "ax.scatter(syns.afferent_synapse_x[syns.spine_id != -1],\n",
    "           syns.afferent_synapse_y[syns.spine_id != -1], s=2, alpha=0.3, color=\"green\")\n",
    "\n",
    "for _, spine in spines.iterrows():\n",
    "    spine_root = numpy.array(spine.surface_sample_position)\n",
    "    spine_dir = numpy.array(spine.orientation_vector)\n",
    "    spine_dir = spine.synaptic_radius * spine_dir / numpy.linalg.norm(spine_dir)\n",
    "    ax.plot([spine_root[0], spine_root[0] + spine_dir[0]],\n",
    "            [spine_root[1], spine_root[1] + spine_dir[1]],\n",
    "            color=\"black\", lw=0.5)\n",
    "\n",
    "ax.set_ylim([600, 300]); ax.set_xlim([400, 800])\n",
    "# To zoom into the soma\n",
    "ax.set_ylim([500, 450]); ax.set_xlim([550, 600])"
   ]
  },
  {
   "cell_type": "markdown",
   "id": "834f5f71",
   "metadata": {},
   "source": [
    "## Calculating synapse path distances to the soma.\n",
    "\n",
    "The synapse properties \"afferent_section_id\", \"afferent_segment_id\", \"afferent_segment_offset\" map each synapse to a location on the morphology skeleton. \n",
    "\n",
    "Hence, that information can be used to rapidly calculate path distances between pairs of synapses. Or the path distance of a synapse to the soma. This information is useful for applications in the field of dendritic clustering of synapses.\n",
    "\n",
    "**NOTE**: What is calculated is the path distance from the root of the spine of a synapse, not including the length of the spine itself.\n",
    "\n",
    "Here, we calculate for all synapses their path distance to the soma (represented by section and segment id 0) and create a histogram."
   ]
  },
  {
   "cell_type": "code",
   "execution_count": null,
   "id": "c2e98f0f",
   "metadata": {},
   "outputs": [],
   "source": [
    "from conntility.subcellular import MorphologyPathDistanceCalculator\n",
    "\n",
    "calc = MorphologyPathDistanceCalculator(morph.to_morphio())\n",
    "relevant_cols = [\"afferent_section_id\", \"afferent_segment_id\", \"afferent_segment_offset\"]\n",
    "soma = pandas.DataFrame({\n",
    "    \"afferent_section_id\": [0], \"afferent_segment_id\": [0], \"afferent_segment_offset\": [0]\n",
    "})\n",
    "\n",
    "pds = calc.path_distances(soma, syns[relevant_cols])\n",
    "\n",
    "H = numpy.histogram(pds, bins=50)\n",
    "plt.bar(H[1][:-1], H[0], width=0.8*numpy.mean(numpy.diff(H[1])))\n",
    "plt.gca().set_xlabel(\"Path distance (um)\")\n",
    "plt.gca().set_ylabel(\"Synapse count\")"
   ]
  }
 ],
 "metadata": {
  "kernelspec": {
   "display_name": "entitysdk_notebook",
   "language": "python",
   "name": "python3"
  },
  "language_info": {
   "codemirror_mode": {
    "name": "ipython",
    "version": 3
   },
   "file_extension": ".py",
   "mimetype": "text/x-python",
   "name": "python",
   "nbconvert_exporter": "python",
   "pygments_lexer": "ipython3",
   "version": "3.13.1"
  }
 },
 "nbformat": 4,
 "nbformat_minor": 5
}
