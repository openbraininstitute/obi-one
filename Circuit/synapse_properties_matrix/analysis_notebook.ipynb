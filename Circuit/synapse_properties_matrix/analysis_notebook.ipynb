{
 "cells": [
  {
   "cell_type": "markdown",
   "id": "30723356-6a44-4e2b-8003-d72b61790129",
   "metadata": {},
   "source": [
    "# Extract and display a synapse property matrix from a SONATA circuit\n",
    "\n",
    "Copyright (c) 2025 Open Brain Institute\n",
    "\n",
    "Authors: Christoph Pokorny\n",
    "\n",
    "Last modified: 08.2025\n",
    "\n",
    "## Summary\n",
    "This analysis extracts and visualizes a matrix of a selected synapse property (conductance, delay, ...), grouped by a selected neuron property (layer, m-type, ...).\n",
    "For details, see the [README](README.md)."
   ]
  },
  {
   "cell_type": "code",
   "execution_count": null,
   "id": "82b4d876-ca70-4a3c-983c-02f92613ba67",
   "metadata": {},
   "outputs": [],
   "source": [
    "import matplotlib.pyplot as plt\n",
    "import numpy as np\n",
    "import os\n",
    "import pandas as pd\n",
    "import time\n",
    "\n",
    "from bluepysnap import Circuit\n",
    "from connectome_manipulator.connectome_comparison import properties\n",
    "from datetime import datetime\n",
    "from entitysdk import Client, ProjectContext, models\n",
    "from ipywidgets import widgets, interact\n",
    "from obi_auth import get_token\n",
    "from obi_notebook import get_projects\n",
    "from obi_notebook import get_entities"
   ]
  },
  {
   "cell_type": "markdown",
   "id": "1a993ae0-36d3-49c0-91a0-23b80dca9af0",
   "metadata": {},
   "source": [
    "## Circuit selection and download\n",
    "\n",
    "A SONATA circuit will be analyzed. To download the data there, we must select \n",
    "the circuit, then download it. \n",
    "\n",
    "Should the circuit of interest already be placed on the local file system, you can skip ahead to the section `Circuit analysis` below.\n",
    "\n",
    "#### Project selection\n",
    "As a first step we select one of the projects we have access to that the circuit is associated with. If the circuit of interest is part of the public OBI assets, any project can be selected."
   ]
  },
  {
   "cell_type": "code",
   "execution_count": null,
   "id": "249e3d5d",
   "metadata": {},
   "outputs": [],
   "source": [
    "token = get_token(environment=\"production\", auth_mode=\"daf\")\n",
    "project_context = get_projects.get_projects(token)"
   ]
  },
  {
   "cell_type": "code",
   "execution_count": null,
   "id": "ccbfe74a",
   "metadata": {},
   "outputs": [],
   "source": [
    "client = Client(environment=\"production\", project_context=project_context, token_manager=token)\n",
    "\n",
    "# Optional: Download using unique ID\n",
    "entity_ID = \"<CIRCUIT-ID>\"  # <<< FILL IN UNIQUE CIRCUIT ID HERE\n",
    "\n",
    "\n",
    "if entity_ID != \"<CIRCUIT-ID>\":\n",
    "    circuit_ids = [entity_ID]\n",
    "else:\n",
    "# Alternative: Select from a table of entities\n",
    "    circuit_ids = []\n",
    "    circuit_ids = get_entities.get_entities(\"circuit\", token, circuit_ids,\n",
    "                                            project_context=project_context,\n",
    "                                            multi_select=False,\n",
    "                                            default_scale=\"small\")"
   ]
  },
  {
   "cell_type": "markdown",
   "id": "7f351020",
   "metadata": {},
   "source": [
    "#### Fetch circuit\n",
    "The circuit is copied to the local system at the expected location."
   ]
  },
  {
   "cell_type": "code",
   "execution_count": null,
   "id": "77aa3bab",
   "metadata": {},
   "outputs": [],
   "source": [
    "# Fetch circuit\n",
    "fetched = client.get_entity(entity_id=circuit_ids[0], entity_type=models.Circuit)\n",
    "print(f\"Circuit fetched: {fetched.name} (ID {fetched.id})\\n\")\n",
    "print(f\"#Neurons: {fetched.number_neurons}, #Synapses: {fetched.number_synapses}, #Connections: {fetched.number_connections}\\n\")\n",
    "print(f\"{fetched.description}\\n\")\n",
    "\n",
    "# Download SONATA circuit files\n",
    "asset = [asset for asset in fetched.assets if asset.label==\"sonata_circuit\"][0]\n",
    "asset_dir = asset.path \n",
    "circuit_dir = \"analysis_circuit_\" + datetime.now().strftime('%Y-%m-%d_%H-%M-%S_%f')\n",
    "\n",
    "t0 = time.time()\n",
    "client.download_directory(\n",
    "    entity_id=fetched.id,\n",
    "    entity_type=models.Circuit,\n",
    "    asset_id=asset.id,\n",
    "    output_path=circuit_dir,\n",
    "    max_concurrent=4,  # Parallel file download\n",
    ")\n",
    "t = time.time() - t0\n",
    "print(f\"Circuit files downloaded to '{os.path.join(circuit_dir, asset_dir)}' in {t:.1f}s\")"
   ]
  },
  {
   "cell_type": "markdown",
   "id": "7650a143",
   "metadata": {},
   "source": [
    "## Circuit analysis\n",
    "\n",
    "By default, the circuit from the download location is used. If a circuit from some other location us used, please modify the `circuit_config = ...` path below accordingly."
   ]
  },
  {
   "cell_type": "code",
   "execution_count": null,
   "id": "e6dee708",
   "metadata": {},
   "outputs": [],
   "source": [
    "# Path to existing circuit config\n",
    "circuit_config = os.path.join(circuit_dir, asset_dir, \"circuit_config.json\")\n",
    "\n",
    "assert os.path.exists(circuit_config), f\"ERROR: Circuit config '{os.path.split(circuit_config)[1]}' not found!\""
   ]
  },
  {
   "cell_type": "markdown",
   "id": "8f74d206-4bb6-476a-92ea-97f75f39e557",
   "metadata": {},
   "source": [
    "Loading SONATA circuit. Selections of the edge population containing the synapses, as well as pre-/post-synaptic node sets defining groups of neurons are possible."
   ]
  },
  {
   "cell_type": "code",
   "execution_count": null,
   "id": "0a8166d3-8f8b-45bf-bc89-707e66cf216f",
   "metadata": {},
   "outputs": [],
   "source": [
    "c = Circuit(circuit_config)\n",
    "e_populations = c.edges.population_names\n",
    "assert len(e_populations) > 0, \"ERROR: No edge population found!\"\n",
    "node_sets = list(c.node_sets.content.keys())\n",
    "e_popul_wdgt = widgets.Dropdown(options=e_populations, description=\"Edge population:\", style={\"description_width\": \"auto\"}, layout=widgets.Layout(width=\"max-content\"))\n",
    "pre_nset_wdgt = widgets.Dropdown(options=[None] + node_sets, description=\"Pre-synaptic node set:\", style={\"description_width\": \"auto\"}, layout=widgets.Layout(width=\"max-content\"))\n",
    "post_nset_wdgt = widgets.Dropdown(options=[None] + node_sets, description=\"Post-synaptic node set:\", style={\"description_width\": \"auto\"}, layout=widgets.Layout(width=\"max-content\"))\n",
    "display(e_popul_wdgt)\n",
    "display(pre_nset_wdgt)\n",
    "display(post_nset_wdgt)"
   ]
  },
  {
   "cell_type": "markdown",
   "id": "3079777f-be81-4274-a005-500ecb059714",
   "metadata": {},
   "source": [
    "## Grouping selection\n",
    "\n",
    "The synaptic connectivity is grouped by one selected (categorical) neuron property, like layer, m-type, etc."
   ]
  },
  {
   "cell_type": "code",
   "execution_count": null,
   "id": "ba081fa7-bd8d-4a83-92a4-721bf6cb5d90",
   "metadata": {},
   "outputs": [],
   "source": [
    "def get_props(nodes):\n",
    "    is_cat = nodes.get([]).dtypes.apply(lambda _x: isinstance(_x, pd.CategoricalDtype))\n",
    "    props = is_cat[is_cat].index.to_list()  # Select categorical properties\n",
    "    for _p in [\"region\", \"layer\", \"mtype\", \"etype\", \"synapse_class\"]:\n",
    "        if _p in nodes.property_names:\n",
    "            props = props + [_p]  # Add certain properties, even if not categorical\n",
    "    return np.unique(props)\n",
    "node_props = np.intersect1d(get_props(c.edges[e_popul_wdgt.value].source), get_props(c.edges[e_popul_wdgt.value].target))\n",
    "groupby_wdgt = widgets.Dropdown(options=node_props, value=\"layer\" if \"layer\" in node_props else node_props[0], description=\"Group-by:\", style={\"description_width\": \"auto\"}, layout=widgets.Layout(width=\"max-content\"))\n",
    "display(groupby_wdgt)"
   ]
  },
  {
   "cell_type": "markdown",
   "id": "6ddb757c-dbbf-4c44-ac2c-7edbb84b6177",
   "metadata": {},
   "source": [
    "## Grouping function selection (optional)\n",
    "\n",
    "A function for computing each matrix entry (i.e., a single value) from a group of values must be selected, such as mean, std (standard deviation), etc. By default, the mean is computed."
   ]
  },
  {
   "cell_type": "code",
   "execution_count": null,
   "id": "2dcf91dd-7032-4103-88f2-3588fa1d01f9",
   "metadata": {},
   "outputs": [],
   "source": [
    "fct_opt = [(\"Mean\", \"np.mean\"), (\"Std\", \"np.std\"), (\"Max\", \"np.max\"), (\"Min\", \"np.min\"), (\"Median\", \"np.median\"), (\"Sum\", \"np.sum\")]\n",
    "fct_wdgt = widgets.Dropdown(options=fct_opt, description=\"Grouping function:\", style={\"description_width\": \"auto\"}, layout=widgets.Layout(width=\"max-content\"))\n",
    "display(fct_wdgt)"
   ]
  },
  {
   "cell_type": "markdown",
   "id": "a4cc7a87-bffc-4158-8439-7b167cb274ae",
   "metadata": {},
   "source": [
    "## Synapse properties extraction\n",
    "\n",
    "Extract the mean synapse property values for all pairs of groups using functionality from [connectome-manipulator](https://github.com/openbraininstitute/connectome-manipulator)."
   ]
  },
  {
   "cell_type": "code",
   "execution_count": null,
   "id": "55b76f23-5b84-4373-a275-a27baf458553",
   "metadata": {},
   "outputs": [],
   "source": [
    "props_dict = properties.compute(c, sel_src={\"node_set\": pre_nset_wdgt.value}, sel_dest={\"node_set\": post_nset_wdgt.value}, edges_popul_name=e_popul_wdgt.value, group_by=groupby_wdgt.value, fct=fct_wdgt.value)"
   ]
  },
  {
   "cell_type": "markdown",
   "id": "01a99999-cc49-4c33-af9f-21007f5cfcb6",
   "metadata": {},
   "source": [
    "## Interactive visualization\n",
    "\n",
    "Interactive visualization of the synapse property matrix. The user can select what property to display. Also, empty groups (i.e., groups w/o any neurons or connections) can be excluded using a checkbox."
   ]
  },
  {
   "cell_type": "code",
   "execution_count": null,
   "id": "d8082b93-df4e-4dec-aa50-9fa885831dbd",
   "metadata": {},
   "outputs": [],
   "source": [
    "# Interactive plot function\n",
    "def plot_fct(res_sel, empty_sel):\n",
    "    def filter_props_dict(props_dict, res_sel):\n",
    "        out_dict = {}\n",
    "        p = props_dict[\"conductance\"][\"data\"]  # TODO: FIXME (better solution w/o using conductance hard-coded)\n",
    "        pre_sel = np.any(p > 0.0, axis=1)\n",
    "        post_sel = np.any(p > 0.0, axis=0)\n",
    "        out_dict[res_sel] = props_dict[res_sel].copy()\n",
    "        out_dict[res_sel][\"data\"] = out_dict[res_sel][\"data\"][pre_sel, :][:, post_sel]\n",
    "        out_dict[\"common\"] = props_dict[\"common\"].copy()\n",
    "        out_dict[\"common\"][\"src_group_values\"] = [_v for _v, _s in zip(out_dict[\"common\"][\"src_group_values\"], pre_sel) if _s]\n",
    "        out_dict[\"common\"][\"tgt_group_values\"] = [_v for _v, _s in zip(out_dict[\"common\"][\"tgt_group_values\"], post_sel) if _s]\n",
    "        return out_dict\n",
    "    \n",
    "    if empty_sel:\n",
    "        plot_dict = props_dict\n",
    "    else:\n",
    "        plot_dict = filter_props_dict(props_dict, res_sel)\n",
    "\n",
    "    if plot_dict[res_sel][\"data\"].size > 0:\n",
    "        vmax = np.nanmax(plot_dict[res_sel][\"data\"])\n",
    "        if vmax == 0.0:\n",
    "            vmax = 1.0\n",
    "        properties.plot(plot_dict[res_sel], plot_dict[\"common\"], vmin=0.0, vmax=vmax, group_by=groupby_wdgt.value)\n",
    "    else:\n",
    "        plt.figure()\n",
    "        plt.text(0, 0, \"Nothing to show...\")\n",
    "        plt.axis(\"off\")\n",
    "        plt.axis(\"tight\")\n",
    "        plt.show()"
   ]
  },
  {
   "cell_type": "code",
   "execution_count": null,
   "id": "f154b83d-1593-4e9f-b3e4-2c7f86af7885",
   "metadata": {},
   "outputs": [],
   "source": [
    "def prop_incl(prop):\n",
    "    \"\"\"Exclude certain (non-physiological) properties\"\"\"\n",
    "    for _p in [\"afferent_\", \"efferent_\", \"@\", \"_id\"]:\n",
    "        if _p in prop:\n",
    "            return False\n",
    "    return True\n",
    "res_sel_opt = [(_v[\"unit\"], _k) for _k, _v in sorted(props_dict.items()) if \"unit\" in _v and prop_incl(_k)]\n",
    "res_sel_wdgt = widgets.Dropdown(options=res_sel_opt, description=\"Display:\", style={\"description_width\": \"auto\"}, layout=widgets.Layout(width=\"max-content\"))\n",
    "empty_sel_wdgt = widgets.Checkbox(value=True, description=\"Show empty groups\", style={\"description_width\": \"auto\"}, layout=widgets.Layout(width=\"max-content\"))\n",
    "iplot = interact(plot_fct, res_sel=res_sel_wdgt, empty_sel=empty_sel_wdgt)"
   ]
  }
 ],
 "metadata": {
  "kernelspec": {
   "display_name": ".venv312 (3.12.8)",
   "language": "python",
   "name": "python3"
  },
  "language_info": {
   "codemirror_mode": {
    "name": "ipython",
    "version": 3
   },
   "file_extension": ".py",
   "mimetype": "text/x-python",
   "name": "python",
   "nbconvert_exporter": "python",
   "pygments_lexer": "ipython3",
   "version": "3.12.8"
  }
 },
 "nbformat": 4,
 "nbformat_minor": 5
}
