{
 "cells": [
  {
   "cell_type": "markdown",
   "id": "30723356-6a44-4e2b-8003-d72b61790129",
   "metadata": {},
   "source": [
    "# Extract and display a synapse property matrix from a SONATA circuit\n",
    "\n",
    "Copyright (c) 2025 Open Brain Institute\n",
    "\n",
    "Authors: Christoph Pokorny\n",
    "\n",
    "Last modified: 01.2025\n",
    "\n",
    "## Summary\n",
    "This analysis extracts and visualizes a matrix of a selected synapse property (conductance, delay, ...), grouped by a selected neuron property (layer, m-type, ...).\n",
    "For details, see the [README](README.md)."
   ]
  },
  {
   "cell_type": "code",
   "execution_count": 1,
   "id": "82b4d876-ca70-4a3c-983c-02f92613ba67",
   "metadata": {},
   "outputs": [],
   "source": [
    "import matplotlib.pyplot as plt\n",
    "import numpy as np\n",
    "import os\n",
    "import pandas as pd\n",
    "\n",
    "from bluepysnap import Circuit\n",
    "from connectome_manipulator.connectome_comparison import properties\n",
    "from ipywidgets import widgets, interact"
   ]
  },
  {
   "cell_type": "markdown",
   "id": "1a993ae0-36d3-49c0-91a0-23b80dca9af0",
   "metadata": {},
   "source": [
    "## Circuit selection\n",
    "\n",
    "A SONATA circuit is assumed to be located under `./analysis_circuit/circuit_config.json`. For using an existing circuit from some other location, modify the `circuit_config = ...` path below accordingly."
   ]
  },
  {
   "cell_type": "code",
   "execution_count": 2,
   "id": "744cf88a-73c9-41d0-baf3-c4392032b693",
   "metadata": {},
   "outputs": [],
   "source": [
    "# Path to existing circuit config\n",
    "circuit_config = \"analysis_circuit/circuit_config.json\"\n",
    "\n",
    "assert os.path.exists(circuit_config), f\"ERROR: Circuit config '{os.path.split(circuit_config)[1]}' not found!\""
   ]
  },
  {
   "cell_type": "markdown",
   "id": "8f74d206-4bb6-476a-92ea-97f75f39e557",
   "metadata": {},
   "source": [
    "Loading SONATA circuit. Selections of the edge population containing the synapses, as well as pre-/post-synaptic node sets defining groups of neurons are possible."
   ]
  },
  {
   "cell_type": "code",
   "execution_count": 3,
   "id": "0a8166d3-8f8b-45bf-bc89-707e66cf216f",
   "metadata": {},
   "outputs": [
    {
     "data": {
      "application/vnd.jupyter.widget-view+json": {
       "model_id": "689d05a40ed94137b3f907ea36b71b69",
       "version_major": 2,
       "version_minor": 0
      },
      "text/plain": [
       "Dropdown(description='Edge population:', layout=Layout(width='max-content'), options=('nodeA__nodeA__chemical'…"
      ]
     },
     "metadata": {},
     "output_type": "display_data"
    },
    {
     "data": {
      "application/vnd.jupyter.widget-view+json": {
       "model_id": "d5c08c9bb1294b0aa6838a36336ad8ba",
       "version_major": 2,
       "version_minor": 0
      },
      "text/plain": [
       "Dropdown(description='Pre-synaptic node set:', layout=Layout(width='max-content'), options=(None, 'LayerA', 'L…"
      ]
     },
     "metadata": {},
     "output_type": "display_data"
    },
    {
     "data": {
      "application/vnd.jupyter.widget-view+json": {
       "model_id": "376e08feafe14c82b3e282fde968038e",
       "version_major": 2,
       "version_minor": 0
      },
      "text/plain": [
       "Dropdown(description='Post-synaptic node set:', layout=Layout(width='max-content'), options=(None, 'LayerA', '…"
      ]
     },
     "metadata": {},
     "output_type": "display_data"
    }
   ],
   "source": [
    "c = Circuit(circuit_config)\n",
    "e_populations = c.edges.population_names\n",
    "assert len(e_populations) > 0, \"ERROR: No edge population found!\"\n",
    "node_sets = list(c.node_sets.content.keys())\n",
    "e_popul_wdgt = widgets.Dropdown(options=e_populations, description=\"Edge population:\", style={\"description_width\": \"auto\"}, layout=widgets.Layout(width=\"max-content\"))\n",
    "pre_nset_wdgt = widgets.Dropdown(options=[None] + node_sets, description=\"Pre-synaptic node set:\", style={\"description_width\": \"auto\"}, layout=widgets.Layout(width=\"max-content\"))\n",
    "post_nset_wdgt = widgets.Dropdown(options=[None] + node_sets, description=\"Post-synaptic node set:\", style={\"description_width\": \"auto\"}, layout=widgets.Layout(width=\"max-content\"))\n",
    "display(e_popul_wdgt)\n",
    "display(pre_nset_wdgt)\n",
    "display(post_nset_wdgt)"
   ]
  },
  {
   "cell_type": "markdown",
   "id": "3079777f-be81-4274-a005-500ecb059714",
   "metadata": {},
   "source": [
    "## Grouping selection\n",
    "\n",
    "The synaptic connectivity is grouped by one selected (categorical) neuron property, like layer, m-type, etc."
   ]
  },
  {
   "cell_type": "code",
   "execution_count": 4,
   "id": "ba081fa7-bd8d-4a83-92a4-721bf6cb5d90",
   "metadata": {},
   "outputs": [
    {
     "data": {
      "application/vnd.jupyter.widget-view+json": {
       "model_id": "1e845c803c6943a1b20393d099353264",
       "version_major": 2,
       "version_minor": 0
      },
      "text/plain": [
       "Dropdown(description='Group-by:', index=1, layout=Layout(width='max-content'), options=(np.str_('etype'), np.s…"
      ]
     },
     "metadata": {},
     "output_type": "display_data"
    }
   ],
   "source": [
    "def get_props(nodes):\n",
    "    is_cat = nodes.get([]).dtypes.apply(lambda _x: isinstance(_x, pd.CategoricalDtype))\n",
    "    props = is_cat[is_cat].index.to_list()  # Select categorical properties\n",
    "    for _p in [\"region\", \"layer\", \"mtype\", \"etype\", \"synapse_class\"]:\n",
    "        if _p in nodes.property_names:\n",
    "            props = props + [_p]  # Add certain properties, even if not categorical\n",
    "    return np.unique(props)\n",
    "node_props = np.intersect1d(get_props(c.edges[e_popul_wdgt.value].source), get_props(c.edges[e_popul_wdgt.value].target))\n",
    "groupby_wdgt = widgets.Dropdown(options=node_props, value=\"layer\" if \"layer\" in node_props else node_props[0], description=\"Group-by:\", style={\"description_width\": \"auto\"}, layout=widgets.Layout(width=\"max-content\"))\n",
    "display(groupby_wdgt)"
   ]
  },
  {
   "cell_type": "markdown",
   "id": "a4cc7a87-bffc-4158-8439-7b167cb274ae",
   "metadata": {},
   "source": [
    "## Synapse properties extraction\n",
    "\n",
    "Extract the synapse properties for all pairs of groups using functionality from [connectome-manipulator](https://github.com/openbraininstitute/connectome-manipulator)."
   ]
  },
  {
   "cell_type": "code",
   "execution_count": 5,
   "id": "55b76f23-5b84-4373-a275-a27baf458553",
   "metadata": {},
   "outputs": [
    {
     "name": "stdout",
     "output_type": "stream",
     "text": [
      "INFO: Extracting synapse properties (group_by=layer, sel_src={'node_set': None}, sel_dest={'node_set': None}, N=3x3 groups, per_conn=False)\n",
      "INFO: Available synapse properties: \n",
      "['@source_node', '@target_node', 'afferent_center_x', 'afferent_center_y', 'afferent_center_z', 'afferent_section_id', 'afferent_section_pos', 'afferent_section_type', 'afferent_segment_id', 'afferent_segment_offset', 'afferent_surface_x', 'afferent_surface_y', 'afferent_surface_z', 'conductance', 'conductance_scale_factor', 'decay_time', 'delay', 'depression_time', 'efferent_center_x', 'efferent_center_y', 'efferent_center_z', 'efferent_section_id', 'efferent_section_pos', 'efferent_section_type', 'efferent_segment_id', 'efferent_segment_offset', 'efferent_surface_x', 'efferent_surface_y', 'efferent_surface_z', 'facilitation_time', 'n_rrp_vesicles', 'spine_length', 'syn_type_id', 'u_hill_coefficient', 'u_syn']\n"
     ]
    },
    {
     "name": "stderr",
     "output_type": "stream",
     "text": [
      "100% |###############################################################################################################################|\n"
     ]
    }
   ],
   "source": [
    "props_dict = properties.compute(c, sel_src={\"node_set\": pre_nset_wdgt.value}, sel_dest={\"node_set\": post_nset_wdgt.value}, edges_popul_name=e_popul_wdgt.value, group_by=groupby_wdgt.value)\n",
    "# TODO: fct=..."
   ]
  },
  {
   "cell_type": "markdown",
   "id": "01a99999-cc49-4c33-af9f-21007f5cfcb6",
   "metadata": {},
   "source": [
    "## Interactive visualization\n",
    "\n",
    "Interactive visualization of the synapse property matrix. The user can select what property to display. Also, empty groups (i.e., groups w/o any neurons or connections) can be excluded using a checkbox."
   ]
  },
  {
   "cell_type": "code",
   "execution_count": 6,
   "id": "d8082b93-df4e-4dec-aa50-9fa885831dbd",
   "metadata": {},
   "outputs": [],
   "source": [
    "# Interactive plot function\n",
    "def plot_fct(res_sel, empty_sel):\n",
    "    def filter_props_dict(props_dict, res_sel):\n",
    "        out_dict = {}\n",
    "        p = props_dict[\"conductance\"][\"data\"]  # TODO: FIXME (better solution w/o using conductance hard-coded)\n",
    "        pre_sel = np.any(p > 0.0, axis=1)\n",
    "        post_sel = np.any(p > 0.0, axis=0)\n",
    "        out_dict[res_sel] = props_dict[res_sel].copy()\n",
    "        out_dict[res_sel][\"data\"] = out_dict[res_sel][\"data\"][pre_sel, :][:, post_sel]\n",
    "        out_dict[\"common\"] = props_dict[\"common\"].copy()\n",
    "        out_dict[\"common\"][\"src_group_values\"] = [_v for _v, _s in zip(out_dict[\"common\"][\"src_group_values\"], pre_sel) if _s]\n",
    "        out_dict[\"common\"][\"tgt_group_values\"] = [_v for _v, _s in zip(out_dict[\"common\"][\"tgt_group_values\"], post_sel) if _s]\n",
    "        return out_dict\n",
    "    \n",
    "    if empty_sel:\n",
    "        plot_dict = props_dict\n",
    "    else:\n",
    "        plot_dict = filter_props_dict(props_dict, res_sel)\n",
    "\n",
    "    if plot_dict[res_sel][\"data\"].size > 0:\n",
    "        vmax = np.nanmax(plot_dict[res_sel][\"data\"])\n",
    "        if vmax == 0.0:\n",
    "            vmax = 1.0\n",
    "        properties.plot(plot_dict[res_sel], plot_dict[\"common\"], vmin=0.0, vmax=vmax, group_by=groupby_wdgt.value)\n",
    "    else:\n",
    "        plt.figure()\n",
    "        plt.text(0, 0, \"Nothing to show...\")\n",
    "        plt.axis(\"off\")\n",
    "        plt.axis(\"tight\")\n",
    "        plt.show()"
   ]
  },
  {
   "cell_type": "code",
   "execution_count": 7,
   "id": "f154b83d-1593-4e9f-b3e4-2c7f86af7885",
   "metadata": {},
   "outputs": [
    {
     "data": {
      "application/vnd.jupyter.widget-view+json": {
       "model_id": "7473f7ee02fd4f4d915ee68f3d52424d",
       "version_major": 2,
       "version_minor": 0
      },
      "text/plain": [
       "interactive(children=(Dropdown(description='Display:', layout=Layout(width='max-content'), options=(('Mean con…"
      ]
     },
     "metadata": {},
     "output_type": "display_data"
    }
   ],
   "source": [
    "def prop_incl(prop):\n",
    "    \"\"\"Exclude certain properties\"\"\"\n",
    "    for _p in [\"afferent_\", \"efferent_\", \"@\", \"_id\"]:\n",
    "        if _p in prop:\n",
    "            return False\n",
    "    return True\n",
    "res_sel_opt = [(_v[\"unit\"], _k) for _k, _v in sorted(props_dict.items()) if \"unit\" in _v and prop_incl(_k)]\n",
    "res_sel_wdgt = widgets.Dropdown(options=res_sel_opt, description=\"Display:\", style={\"description_width\": \"auto\"}, layout=widgets.Layout(width=\"max-content\"))\n",
    "empty_sel_wdgt = widgets.Checkbox(value=True, description=\"Show empty groups\", style={\"description_width\": \"auto\"}, layout=widgets.Layout(width=\"max-content\"))\n",
    "iplot = interact(plot_fct, res_sel=res_sel_wdgt, empty_sel=empty_sel_wdgt)"
   ]
  },
  {
   "cell_type": "code",
   "execution_count": null,
   "id": "de02f129-2741-444e-8107-cd970a97c630",
   "metadata": {},
   "outputs": [],
   "source": []
  }
 ],
 "metadata": {
  "kernelspec": {
   "display_name": "OBIKernel",
   "language": "python",
   "name": "obikernel"
  },
  "language_info": {
   "codemirror_mode": {
    "name": "ipython",
    "version": 3
   },
   "file_extension": ".py",
   "mimetype": "text/x-python",
   "name": "python",
   "nbconvert_exporter": "python",
   "pygments_lexer": "ipython3",
   "version": "3.13.1"
  }
 },
 "nbformat": 4,
 "nbformat_minor": 5
}
