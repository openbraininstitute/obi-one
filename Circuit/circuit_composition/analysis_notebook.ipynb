{
 "cells": [
  {
   "cell_type": "markdown",
   "metadata": {},
   "source": [
    "# Circuit composition\n",
    "\n",
    "Copyright (c) 2025 Open Brain Institute\n",
    "\n",
    "Authors: Michael W. Reimann\n",
    "\n",
    "last modified: 07.2025\n",
    "\n",
    "## Summary\n",
    "This notebook lists the neuronal composition of a (SONATA) circuit model as a Sankey plot.\n",
    "From the first dropdown menu select the [node set](https://sonata-extension.readthedocs.io/en/latest/sonata_nodeset.html) you want to display the composition of.\n",
    "\n",
    "From the element in the next cell select at least two properties to display. \n",
    "\n",
    "For details, see the [README](README.md)."
   ]
  },
  {
   "cell_type": "markdown",
   "metadata": {},
   "source": [
    "## Circuit selection\n",
    "\n",
    "A SONATA circuit is assumed to be located under `./analysis_circuit/circuit_config.json`. A circuit can be downloaded using its unique circuit ID from the platform. If a circuit already exists, the authentication and downloading steps can be skipped."
   ]
  },
  {
   "cell_type": "code",
   "execution_count": null,
   "metadata": {},
   "outputs": [],
   "source": [
    "from entitysdk import Client, ProjectContext, models\n",
    "from obi_auth import get_token\n",
    "import os\n",
    "import time\n",
    "\n",
    "# Authenticate\n",
    "proj_url = \"https://www.openbraininstitute.org/app/virtual-lab/lab/<...>/project/<...>/home\"  # <<< FILL IN PROJECT URL\n",
    "token = get_token(environment=\"production\", auth_mode=\"daf\")\n",
    "project_context = ProjectContext.from_vlab_url(proj_url)\n",
    "client = Client(environment=\"production\", project_context=project_context, token_manager=token)"
   ]
  },
  {
   "cell_type": "code",
   "execution_count": null,
   "metadata": {},
   "outputs": [],
   "source": [
    "# Download using unique ID\n",
    "entity_ID = \"<CIRCUIT-ID>\"  # <<< FILL IN UNIQUE CIRCUIT ID HERE\n",
    "\n",
    "# Fetch circuit\n",
    "fetched = client.get_entity(entity_id=entity_ID, entity_type=models.Circuit)\n",
    "print(f\"Circuit fetched: {fetched.name} (ID {fetched.id})\\n\")\n",
    "print(f\"#Neurons: {fetched.number_neurons}, #Synapses: {fetched.number_synapses}, #Connections: {fetched.number_connections}\\n\")\n",
    "print(f\"{fetched.description}\\n\")\n",
    "\n",
    "# Download SONATA circuit files\n",
    "asset = [asset for asset in fetched.assets if asset.label==\"sonata_circuit\"][0]\n",
    "asset_dir = asset.path \n",
    "circuit_dir = \"analysis_circuit\"\n",
    "assert not os.path.exists(asset_dir), f\"ERROR: Circuit download folder '{asset_dir}' already exists! Please delete folder.\"\n",
    "assert not os.path.exists(circuit_dir), f\"ERROR: Circuit folder '{circuit_dir}' already exists! Delete folder or choose a different path.\"\n",
    "\n",
    "t0 = time.time()\n",
    "client.download_directory(\n",
    "    entity_id=fetched.id,\n",
    "    entity_type=models.Circuit,\n",
    "    asset_id=asset.id,\n",
    "    output_path=\".\",\n",
    "    max_concurrent=4,  # Parallel file download\n",
    ")\n",
    "t = time.time() - t0\n",
    "print(f\"Circuit files downloaded to '{asset_dir}' in {t:.1f}s\")\n",
    "os.rename(asset_dir, circuit_dir)\n",
    "print(f\"'{asset_dir}' folder renamed to '{circuit_dir}'\")"
   ]
  },
  {
   "cell_type": "code",
   "execution_count": null,
   "metadata": {},
   "outputs": [],
   "source": [
    "import bluepysnap as snap\n",
    "import pandas\n",
    "\n",
    "from ipywidgets import widgets\n",
    "import plotly.graph_objects as go\n",
    "\n",
    "# Path to existing circuit config\n",
    "circuit_config = \"./analysis_circuit/circuit_config.json\"\n",
    "assert os.path.exists(circuit_config), f\"ERROR: Circuit config '{os.path.split(circuit_config)[1]}' not found!\"\n",
    "\n",
    "circ = snap.Circuit(circuit_config)\n",
    "\n",
    "nodeset = widgets.Dropdown(\n",
    "    options=\n",
    "    list(circ.node_sets.content.keys()),\n",
    "    description='Node set')"
   ]
  },
  {
   "cell_type": "markdown",
   "metadata": {},
   "source": [
    "# Selection of node set\n",
    "\n",
    "Please select one of the node sets defined in the circuit model from the following menu."
   ]
  },
  {
   "cell_type": "code",
   "execution_count": 2,
   "metadata": {},
   "outputs": [
    {
     "data": {
      "application/vnd.jupyter.widget-view+json": {
       "model_id": "27c871f30c36464f938361ac2f4fb64b",
       "version_major": 2,
       "version_minor": 0
      },
      "text/plain": [
       "Dropdown(description='Node set', options=('All', 'Excitatory', 'Inhibitory', 'L1_DAC', 'L1_HAC', 'L1_LAC', 'L1…"
      ]
     },
     "metadata": {},
     "output_type": "display_data"
    }
   ],
   "source": [
    "display(nodeset)"
   ]
  },
  {
   "cell_type": "markdown",
   "metadata": {},
   "source": [
    "# Selection of properties to display\n",
    "Please select *between two and eight* properties from the following list of categorical properties defined in the circuit model."
   ]
  },
  {
   "cell_type": "code",
   "execution_count": 3,
   "metadata": {},
   "outputs": [
    {
     "data": {
      "application/vnd.jupyter.widget-view+json": {
       "model_id": "1ad363033f9b4475aff9394352832bd9",
       "version_major": 2,
       "version_minor": 0
      },
      "text/plain": [
       "SelectMultiple(description='Properties', index=(0, 1, 2, 3, 4, 5, 6), options=('etype', 'model_template', 'mod…"
      ]
     },
     "metadata": {},
     "output_type": "display_data"
    }
   ],
   "source": [
    "# Get dataframe of all properties and their values\n",
    "_, val_df = zip(*circ.nodes.get(nodeset.value))\n",
    "val_df = pandas.concat(val_df, axis=0)\n",
    "\n",
    "# This type of display only works for categorical properties. In the future, numerical properties could be binned...\n",
    "is_categorical = val_df.dtypes.apply(lambda _x: isinstance(_x, pandas.CategoricalDtype))\n",
    "categorical_props = is_categorical[is_categorical].index.values\n",
    "\n",
    "to_display = widgets.SelectMultiple(options=categorical_props,\n",
    "                                    index=tuple(range(len(categorical_props)))[:8],\n",
    "                                    description=\"Properties\") # 8 is the arbitrarily decided maximum\n",
    "\n",
    "display(to_display)"
   ]
  },
  {
   "cell_type": "code",
   "execution_count": 4,
   "metadata": {},
   "outputs": [
    {
     "data": {
      "application/vnd.plotly.v1+json": {
       "config": {
        "plotlyServerURL": "https://plot.ly"
       },
       "data": [
        {
         "link": {
          "source": [
           5,
           5,
           5,
           5,
           5,
           5,
           5,
           5,
           5,
           4,
           4,
           9,
           0,
           7,
           7,
           7,
           2,
           5,
           3,
           2,
           7,
           10,
           8,
           1,
           1,
           7,
           6,
           8,
           1,
           1,
           1,
           10,
           6,
           10,
           0,
           1,
           8,
           30,
           29,
           26,
           31,
           28,
           24,
           27,
           25,
           32,
           22,
           23,
           44,
           11,
           40,
           38,
           37,
           19,
           33,
           21,
           20,
           36,
           45,
           41,
           17,
           13,
           39,
           34,
           43,
           14,
           16,
           18,
           46,
           35,
           47,
           12,
           15,
           42,
           48,
           48,
           50,
           50,
           50,
           50,
           50,
           50,
           50,
           50,
           50,
           50,
           50,
           50,
           50,
           49,
           50,
           50,
           50,
           49,
           49,
           49,
           50,
           49,
           49,
           49,
           49,
           49,
           49,
           49,
           49,
           49,
           49,
           49,
           49,
           49,
           49,
           49,
           49,
           49,
           49,
           49,
           49,
           49,
           49,
           49,
           49,
           49,
           49,
           49,
           49,
           49,
           49,
           49,
           49,
           49,
           49,
           49,
           49,
           49,
           49,
           49,
           69,
           81,
           68,
           92,
           102,
           108,
           93,
           97,
           101,
           109,
           82,
           110,
           70,
           80,
           67,
           94,
           95,
           103,
           87,
           66,
           104,
           105,
           61,
           89,
           63,
           61,
           84,
           88,
           98,
           52,
           75,
           54,
           62,
           63,
           62,
           76,
           58,
           77,
           55,
           100,
           51,
           107,
           58,
           96,
           57,
           60,
           56,
           65,
           106,
           72,
           91,
           86,
           53,
           90,
           64,
           57,
           83,
           99,
           60,
           59,
           65,
           71,
           79,
           64,
           74,
           59,
           85,
           73,
           78,
           116,
           115,
           114,
           113,
           112,
           116,
           115,
           112,
           113,
           111,
           114
          ],
          "target": [
           30,
           29,
           26,
           31,
           28,
           24,
           27,
           25,
           32,
           22,
           23,
           44,
           11,
           40,
           38,
           37,
           19,
           33,
           21,
           20,
           36,
           45,
           41,
           17,
           13,
           39,
           34,
           43,
           14,
           16,
           18,
           46,
           35,
           47,
           12,
           15,
           42,
           48,
           48,
           48,
           48,
           48,
           48,
           48,
           48,
           48,
           48,
           48,
           48,
           48,
           48,
           48,
           48,
           48,
           48,
           48,
           48,
           48,
           48,
           48,
           48,
           48,
           48,
           48,
           48,
           48,
           48,
           48,
           48,
           48,
           48,
           48,
           48,
           48,
           50,
           49,
           69,
           81,
           68,
           92,
           102,
           108,
           93,
           97,
           101,
           109,
           82,
           110,
           70,
           80,
           67,
           94,
           95,
           61,
           103,
           87,
           66,
           63,
           104,
           105,
           89,
           62,
           88,
           84,
           58,
           98,
           52,
           75,
           54,
           76,
           57,
           55,
           77,
           60,
           100,
           107,
           65,
           51,
           96,
           106,
           72,
           56,
           64,
           53,
           91,
           86,
           83,
           90,
           99,
           59,
           71,
           79,
           74,
           73,
           78,
           85,
           113,
           114,
           112,
           115,
           116,
           116,
           115,
           116,
           116,
           116,
           114,
           116,
           113,
           114,
           112,
           115,
           115,
           116,
           115,
           112,
           116,
           116,
           112,
           115,
           112,
           113,
           115,
           115,
           116,
           111,
           114,
           111,
           113,
           113,
           112,
           114,
           112,
           114,
           111,
           116,
           111,
           116,
           113,
           116,
           112,
           112,
           111,
           113,
           116,
           114,
           115,
           115,
           111,
           115,
           112,
           113,
           115,
           116,
           113,
           112,
           112,
           114,
           114,
           113,
           114,
           113,
           115,
           114,
           114,
           117,
           117,
           117,
           117,
           117,
           118,
           118,
           118,
           118,
           118,
           118
          ],
          "value": [
           1208,
           986,
           790,
           635,
           471,
           450,
           395,
           149,
           124,
           103,
           75,
           71,
           60,
           52,
           42,
           37,
           36,
           28,
           25,
           21,
           20,
           18,
           17,
           16,
           16,
           15,
           14,
           14,
           13,
           5,
           4,
           4,
           3,
           3,
           2,
           1,
           1,
           1208,
           986,
           790,
           635,
           471,
           450,
           395,
           149,
           124,
           103,
           75,
           71,
           60,
           52,
           42,
           37,
           36,
           28,
           25,
           21,
           20,
           18,
           17,
           16,
           16,
           15,
           14,
           14,
           13,
           5,
           4,
           4,
           3,
           3,
           2,
           1,
           1,
           5157,
           767,
           616,
           556,
           474,
           471,
           452,
           389,
           381,
           360,
           329,
           259,
           231,
           206,
           174,
           79,
           75,
           68,
           66,
           62,
           58,
           54,
           50,
           41,
           41,
           39,
           37,
           31,
           23,
           23,
           21,
           20,
           19,
           18,
           16,
           13,
           13,
           12,
           12,
           11,
           11,
           10,
           10,
           10,
           8,
           7,
           7,
           7,
           7,
           6,
           6,
           6,
           5,
           5,
           5,
           4,
           3,
           2,
           2,
           1,
           1,
           1,
           616,
           556,
           474,
           471,
           452,
           389,
           381,
           360,
           329,
           259,
           231,
           206,
           174,
           79,
           75,
           68,
           66,
           58,
           54,
           50,
           41,
           39,
           39,
           37,
           26,
           23,
           23,
           23,
           20,
           19,
           18,
           16,
           16,
           15,
           15,
           13,
           13,
           12,
           12,
           11,
           10,
           10,
           8,
           8,
           8,
           7,
           7,
           7,
           7,
           7,
           6,
           6,
           6,
           5,
           5,
           5,
           5,
           5,
           4,
           3,
           3,
           3,
           2,
           2,
           2,
           1,
           1,
           1,
           1,
           1995,
           986,
           866,
           790,
           599,
           199,
           160,
           119,
           81,
           70,
           59
          ]
         },
         "node": {
          "color": "blue",
          "label": [
           "bAC",
           "bIR",
           "bNAC",
           "bSTUT",
           "cACint",
           "cADpyr",
           "cIR",
           "cNAC",
           "cSTUT",
           "dNAC",
           "dSTUT",
           "hoc:bAC_L23BTC",
           "hoc:bAC_L6BTC",
           "hoc:bIR_L23BP",
           "hoc:bIR_L23BTC",
           "hoc:bIR_L4BP",
           "hoc:bIR_L4BTC",
           "hoc:bIR_L5BP",
           "hoc:bIR_L5DBC",
           "hoc:bNAC_L23NGC",
           "hoc:bNAC_L23SBC",
           "hoc:bSTUT_L5NBC",
           "hoc:cACint_L23MC",
           "hoc:cACint_L4CHC",
           "hoc:cADpyr_L2IPC",
           "hoc:cADpyr_L2TPC",
           "hoc:cADpyr_L3TPC",
           "hoc:cADpyr_L4TPC",
           "hoc:cADpyr_L4UPC",
           "hoc:cADpyr_L5TPC",
           "hoc:cADpyr_L6BPC",
           "hoc:cADpyr_L6HPC",
           "hoc:cADpyr_L6IPC",
           "hoc:cADpyr_L6UPC",
           "hoc:cIR_L2SBC",
           "hoc:cIR_L5DBC",
           "hoc:cNAC_L23BTC",
           "hoc:cNAC_L23NGC",
           "hoc:cNAC_L4CHC",
           "hoc:cNAC_L6BTC",
           "hoc:cNAC_L6NGC",
           "hoc:cSTUT_L23NGC",
           "hoc:cSTUT_L5NBC",
           "hoc:cSTUT_L6NGC",
           "hoc:dNAC_L23SBC",
           "hoc:dSTUT_L23BP",
           "hoc:dSTUT_L2SBC",
           "hoc:dSTUT_L5BP",
           "biophysical",
           "INT",
           "PYR",
           "L1_DAC",
           "L1_HAC",
           "L1_LAC",
           "L1_NGC-DA",
           "L1_NGC-SA",
           "L1_SAC",
           "L23_BP",
           "L23_BTC",
           "L23_CHC",
           "L23_DBC",
           "L23_LBC",
           "L23_MC",
           "L23_NBC",
           "L23_NGC",
           "L23_SBC",
           "L2_IPC",
           "L2_TPC:A",
           "L2_TPC:B",
           "L3_TPC:A",
           "L3_TPC:C",
           "L4_BP",
           "L4_BTC",
           "L4_CHC",
           "L4_DBC",
           "L4_LBC",
           "L4_MC",
           "L4_NBC",
           "L4_NGC",
           "L4_SBC",
           "L4_SSC",
           "L4_TPC",
           "L4_UPC",
           "L5_BP",
           "L5_BTC",
           "L5_CHC",
           "L5_DBC",
           "L5_LBC",
           "L5_MC",
           "L5_NBC",
           "L5_NGC",
           "L5_SBC",
           "L5_TPC:A",
           "L5_TPC:B",
           "L5_TPC:C",
           "L5_UPC",
           "L6_BP",
           "L6_BPC",
           "L6_BTC",
           "L6_CHC",
           "L6_DBC",
           "L6_HPC",
           "L6_IPC",
           "L6_LBC",
           "L6_MC",
           "L6_NBC",
           "L6_NGC",
           "L6_SBC",
           "L6_TPC:A",
           "L6_TPC:C",
           "L6_UPC",
           "S1Sh;L1",
           "S1Sh;L2",
           "S1Sh;L3",
           "S1Sh;L4",
           "S1Sh;L5",
           "S1Sh;L6",
           "EXC",
           "INH"
          ],
          "line": {
           "color": "black",
           "width": 0.5
          },
          "pad": 15,
          "thickness": 20
         },
         "type": "sankey"
        }
       ],
       "layout": {
        "font": {
         "size": 10
        },
        "template": {
         "data": {
          "bar": [
           {
            "error_x": {
             "color": "#2a3f5f"
            },
            "error_y": {
             "color": "#2a3f5f"
            },
            "marker": {
             "line": {
              "color": "#E5ECF6",
              "width": 0.5
             },
             "pattern": {
              "fillmode": "overlay",
              "size": 10,
              "solidity": 0.2
             }
            },
            "type": "bar"
           }
          ],
          "barpolar": [
           {
            "marker": {
             "line": {
              "color": "#E5ECF6",
              "width": 0.5
             },
             "pattern": {
              "fillmode": "overlay",
              "size": 10,
              "solidity": 0.2
             }
            },
            "type": "barpolar"
           }
          ],
          "carpet": [
           {
            "aaxis": {
             "endlinecolor": "#2a3f5f",
             "gridcolor": "white",
             "linecolor": "white",
             "minorgridcolor": "white",
             "startlinecolor": "#2a3f5f"
            },
            "baxis": {
             "endlinecolor": "#2a3f5f",
             "gridcolor": "white",
             "linecolor": "white",
             "minorgridcolor": "white",
             "startlinecolor": "#2a3f5f"
            },
            "type": "carpet"
           }
          ],
          "choropleth": [
           {
            "colorbar": {
             "outlinewidth": 0,
             "ticks": ""
            },
            "type": "choropleth"
           }
          ],
          "contour": [
           {
            "colorbar": {
             "outlinewidth": 0,
             "ticks": ""
            },
            "colorscale": [
             [
              0,
              "#0d0887"
             ],
             [
              0.1111111111111111,
              "#46039f"
             ],
             [
              0.2222222222222222,
              "#7201a8"
             ],
             [
              0.3333333333333333,
              "#9c179e"
             ],
             [
              0.4444444444444444,
              "#bd3786"
             ],
             [
              0.5555555555555556,
              "#d8576b"
             ],
             [
              0.6666666666666666,
              "#ed7953"
             ],
             [
              0.7777777777777778,
              "#fb9f3a"
             ],
             [
              0.8888888888888888,
              "#fdca26"
             ],
             [
              1,
              "#f0f921"
             ]
            ],
            "type": "contour"
           }
          ],
          "contourcarpet": [
           {
            "colorbar": {
             "outlinewidth": 0,
             "ticks": ""
            },
            "type": "contourcarpet"
           }
          ],
          "heatmap": [
           {
            "colorbar": {
             "outlinewidth": 0,
             "ticks": ""
            },
            "colorscale": [
             [
              0,
              "#0d0887"
             ],
             [
              0.1111111111111111,
              "#46039f"
             ],
             [
              0.2222222222222222,
              "#7201a8"
             ],
             [
              0.3333333333333333,
              "#9c179e"
             ],
             [
              0.4444444444444444,
              "#bd3786"
             ],
             [
              0.5555555555555556,
              "#d8576b"
             ],
             [
              0.6666666666666666,
              "#ed7953"
             ],
             [
              0.7777777777777778,
              "#fb9f3a"
             ],
             [
              0.8888888888888888,
              "#fdca26"
             ],
             [
              1,
              "#f0f921"
             ]
            ],
            "type": "heatmap"
           }
          ],
          "heatmapgl": [
           {
            "colorbar": {
             "outlinewidth": 0,
             "ticks": ""
            },
            "colorscale": [
             [
              0,
              "#0d0887"
             ],
             [
              0.1111111111111111,
              "#46039f"
             ],
             [
              0.2222222222222222,
              "#7201a8"
             ],
             [
              0.3333333333333333,
              "#9c179e"
             ],
             [
              0.4444444444444444,
              "#bd3786"
             ],
             [
              0.5555555555555556,
              "#d8576b"
             ],
             [
              0.6666666666666666,
              "#ed7953"
             ],
             [
              0.7777777777777778,
              "#fb9f3a"
             ],
             [
              0.8888888888888888,
              "#fdca26"
             ],
             [
              1,
              "#f0f921"
             ]
            ],
            "type": "heatmapgl"
           }
          ],
          "histogram": [
           {
            "marker": {
             "pattern": {
              "fillmode": "overlay",
              "size": 10,
              "solidity": 0.2
             }
            },
            "type": "histogram"
           }
          ],
          "histogram2d": [
           {
            "colorbar": {
             "outlinewidth": 0,
             "ticks": ""
            },
            "colorscale": [
             [
              0,
              "#0d0887"
             ],
             [
              0.1111111111111111,
              "#46039f"
             ],
             [
              0.2222222222222222,
              "#7201a8"
             ],
             [
              0.3333333333333333,
              "#9c179e"
             ],
             [
              0.4444444444444444,
              "#bd3786"
             ],
             [
              0.5555555555555556,
              "#d8576b"
             ],
             [
              0.6666666666666666,
              "#ed7953"
             ],
             [
              0.7777777777777778,
              "#fb9f3a"
             ],
             [
              0.8888888888888888,
              "#fdca26"
             ],
             [
              1,
              "#f0f921"
             ]
            ],
            "type": "histogram2d"
           }
          ],
          "histogram2dcontour": [
           {
            "colorbar": {
             "outlinewidth": 0,
             "ticks": ""
            },
            "colorscale": [
             [
              0,
              "#0d0887"
             ],
             [
              0.1111111111111111,
              "#46039f"
             ],
             [
              0.2222222222222222,
              "#7201a8"
             ],
             [
              0.3333333333333333,
              "#9c179e"
             ],
             [
              0.4444444444444444,
              "#bd3786"
             ],
             [
              0.5555555555555556,
              "#d8576b"
             ],
             [
              0.6666666666666666,
              "#ed7953"
             ],
             [
              0.7777777777777778,
              "#fb9f3a"
             ],
             [
              0.8888888888888888,
              "#fdca26"
             ],
             [
              1,
              "#f0f921"
             ]
            ],
            "type": "histogram2dcontour"
           }
          ],
          "mesh3d": [
           {
            "colorbar": {
             "outlinewidth": 0,
             "ticks": ""
            },
            "type": "mesh3d"
           }
          ],
          "parcoords": [
           {
            "line": {
             "colorbar": {
              "outlinewidth": 0,
              "ticks": ""
             }
            },
            "type": "parcoords"
           }
          ],
          "pie": [
           {
            "automargin": true,
            "type": "pie"
           }
          ],
          "scatter": [
           {
            "fillpattern": {
             "fillmode": "overlay",
             "size": 10,
             "solidity": 0.2
            },
            "type": "scatter"
           }
          ],
          "scatter3d": [
           {
            "line": {
             "colorbar": {
              "outlinewidth": 0,
              "ticks": ""
             }
            },
            "marker": {
             "colorbar": {
              "outlinewidth": 0,
              "ticks": ""
             }
            },
            "type": "scatter3d"
           }
          ],
          "scattercarpet": [
           {
            "marker": {
             "colorbar": {
              "outlinewidth": 0,
              "ticks": ""
             }
            },
            "type": "scattercarpet"
           }
          ],
          "scattergeo": [
           {
            "marker": {
             "colorbar": {
              "outlinewidth": 0,
              "ticks": ""
             }
            },
            "type": "scattergeo"
           }
          ],
          "scattergl": [
           {
            "marker": {
             "colorbar": {
              "outlinewidth": 0,
              "ticks": ""
             }
            },
            "type": "scattergl"
           }
          ],
          "scattermapbox": [
           {
            "marker": {
             "colorbar": {
              "outlinewidth": 0,
              "ticks": ""
             }
            },
            "type": "scattermapbox"
           }
          ],
          "scatterpolar": [
           {
            "marker": {
             "colorbar": {
              "outlinewidth": 0,
              "ticks": ""
             }
            },
            "type": "scatterpolar"
           }
          ],
          "scatterpolargl": [
           {
            "marker": {
             "colorbar": {
              "outlinewidth": 0,
              "ticks": ""
             }
            },
            "type": "scatterpolargl"
           }
          ],
          "scatterternary": [
           {
            "marker": {
             "colorbar": {
              "outlinewidth": 0,
              "ticks": ""
             }
            },
            "type": "scatterternary"
           }
          ],
          "surface": [
           {
            "colorbar": {
             "outlinewidth": 0,
             "ticks": ""
            },
            "colorscale": [
             [
              0,
              "#0d0887"
             ],
             [
              0.1111111111111111,
              "#46039f"
             ],
             [
              0.2222222222222222,
              "#7201a8"
             ],
             [
              0.3333333333333333,
              "#9c179e"
             ],
             [
              0.4444444444444444,
              "#bd3786"
             ],
             [
              0.5555555555555556,
              "#d8576b"
             ],
             [
              0.6666666666666666,
              "#ed7953"
             ],
             [
              0.7777777777777778,
              "#fb9f3a"
             ],
             [
              0.8888888888888888,
              "#fdca26"
             ],
             [
              1,
              "#f0f921"
             ]
            ],
            "type": "surface"
           }
          ],
          "table": [
           {
            "cells": {
             "fill": {
              "color": "#EBF0F8"
             },
             "line": {
              "color": "white"
             }
            },
            "header": {
             "fill": {
              "color": "#C8D4E3"
             },
             "line": {
              "color": "white"
             }
            },
            "type": "table"
           }
          ]
         },
         "layout": {
          "annotationdefaults": {
           "arrowcolor": "#2a3f5f",
           "arrowhead": 0,
           "arrowwidth": 1
          },
          "autotypenumbers": "strict",
          "coloraxis": {
           "colorbar": {
            "outlinewidth": 0,
            "ticks": ""
           }
          },
          "colorscale": {
           "diverging": [
            [
             0,
             "#8e0152"
            ],
            [
             0.1,
             "#c51b7d"
            ],
            [
             0.2,
             "#de77ae"
            ],
            [
             0.3,
             "#f1b6da"
            ],
            [
             0.4,
             "#fde0ef"
            ],
            [
             0.5,
             "#f7f7f7"
            ],
            [
             0.6,
             "#e6f5d0"
            ],
            [
             0.7,
             "#b8e186"
            ],
            [
             0.8,
             "#7fbc41"
            ],
            [
             0.9,
             "#4d9221"
            ],
            [
             1,
             "#276419"
            ]
           ],
           "sequential": [
            [
             0,
             "#0d0887"
            ],
            [
             0.1111111111111111,
             "#46039f"
            ],
            [
             0.2222222222222222,
             "#7201a8"
            ],
            [
             0.3333333333333333,
             "#9c179e"
            ],
            [
             0.4444444444444444,
             "#bd3786"
            ],
            [
             0.5555555555555556,
             "#d8576b"
            ],
            [
             0.6666666666666666,
             "#ed7953"
            ],
            [
             0.7777777777777778,
             "#fb9f3a"
            ],
            [
             0.8888888888888888,
             "#fdca26"
            ],
            [
             1,
             "#f0f921"
            ]
           ],
           "sequentialminus": [
            [
             0,
             "#0d0887"
            ],
            [
             0.1111111111111111,
             "#46039f"
            ],
            [
             0.2222222222222222,
             "#7201a8"
            ],
            [
             0.3333333333333333,
             "#9c179e"
            ],
            [
             0.4444444444444444,
             "#bd3786"
            ],
            [
             0.5555555555555556,
             "#d8576b"
            ],
            [
             0.6666666666666666,
             "#ed7953"
            ],
            [
             0.7777777777777778,
             "#fb9f3a"
            ],
            [
             0.8888888888888888,
             "#fdca26"
            ],
            [
             1,
             "#f0f921"
            ]
           ]
          },
          "colorway": [
           "#636efa",
           "#EF553B",
           "#00cc96",
           "#ab63fa",
           "#FFA15A",
           "#19d3f3",
           "#FF6692",
           "#B6E880",
           "#FF97FF",
           "#FECB52"
          ],
          "font": {
           "color": "#2a3f5f"
          },
          "geo": {
           "bgcolor": "white",
           "lakecolor": "white",
           "landcolor": "#E5ECF6",
           "showlakes": true,
           "showland": true,
           "subunitcolor": "white"
          },
          "hoverlabel": {
           "align": "left"
          },
          "hovermode": "closest",
          "mapbox": {
           "style": "light"
          },
          "paper_bgcolor": "white",
          "plot_bgcolor": "#E5ECF6",
          "polar": {
           "angularaxis": {
            "gridcolor": "white",
            "linecolor": "white",
            "ticks": ""
           },
           "bgcolor": "#E5ECF6",
           "radialaxis": {
            "gridcolor": "white",
            "linecolor": "white",
            "ticks": ""
           }
          },
          "scene": {
           "xaxis": {
            "backgroundcolor": "#E5ECF6",
            "gridcolor": "white",
            "gridwidth": 2,
            "linecolor": "white",
            "showbackground": true,
            "ticks": "",
            "zerolinecolor": "white"
           },
           "yaxis": {
            "backgroundcolor": "#E5ECF6",
            "gridcolor": "white",
            "gridwidth": 2,
            "linecolor": "white",
            "showbackground": true,
            "ticks": "",
            "zerolinecolor": "white"
           },
           "zaxis": {
            "backgroundcolor": "#E5ECF6",
            "gridcolor": "white",
            "gridwidth": 2,
            "linecolor": "white",
            "showbackground": true,
            "ticks": "",
            "zerolinecolor": "white"
           }
          },
          "shapedefaults": {
           "line": {
            "color": "#2a3f5f"
           }
          },
          "ternary": {
           "aaxis": {
            "gridcolor": "white",
            "linecolor": "white",
            "ticks": ""
           },
           "baxis": {
            "gridcolor": "white",
            "linecolor": "white",
            "ticks": ""
           },
           "bgcolor": "#E5ECF6",
           "caxis": {
            "gridcolor": "white",
            "linecolor": "white",
            "ticks": ""
           }
          },
          "title": {
           "x": 0.05
          },
          "xaxis": {
           "automargin": true,
           "gridcolor": "white",
           "linecolor": "white",
           "ticks": "",
           "title": {
            "standoff": 15
           },
           "zerolinecolor": "white",
           "zerolinewidth": 2
          },
          "yaxis": {
           "automargin": true,
           "gridcolor": "white",
           "linecolor": "white",
           "ticks": "",
           "title": {
            "standoff": 15
           },
           "zerolinecolor": "white",
           "zerolinewidth": 2
          }
         }
        },
        "title": {
         "text": "Circuit composition"
        }
       }
      }
     },
     "metadata": {},
     "output_type": "display_data"
    }
   ],
   "source": [
    "# Test of user selection\n",
    "assert len(to_display.value) >= 2, \"Please select AT LEAST 2 properties\"\n",
    "assert len(to_display.value) <= 8, \"Please select AT MOST 8 properties\"\n",
    "# Dataframe of only the selected properties\n",
    "use_df = val_df[list(to_display.value)]\n",
    "\n",
    "# Create a dataframe for a lookup of every possible (categorical) value of the selected properties to a unique index.\n",
    "# Index: level 0: Name of the property, level 1: value of the property; values: unique index.\n",
    "label_idx_lo = pandas.concat([pandas.Series(use_df[col].values.categories.values, name=\"value\")\n",
    "                              for col in use_df.columns], keys=use_df.columns,\n",
    "                              names=[\"column\"], axis=0).reset_index(level=\"column\")\n",
    "label_idx_lo[\"index\"] = range(len(label_idx_lo))\n",
    "label_idx_lo = label_idx_lo.set_index([\"column\", \"value\"])[\"index\"]\n",
    "\n",
    "# The sankey links are built by iterating over pairs of adjacent columns.\n",
    "lnk_src = []; lnk_tgt = []; lnk_sz = []\n",
    "\n",
    "for c1, c2 in zip(use_df.columns[:-1], use_df.columns[1:]):\n",
    "    # Size of a link: Number of overlapping values.\n",
    "    counts = use_df[[c1, c2]].value_counts()\n",
    "    for row_idx, row_val in counts.items():\n",
    "        lnk_src.append(label_idx_lo[c1][row_idx[0]])\n",
    "        lnk_tgt.append(label_idx_lo[c2][row_idx[1]])\n",
    "        lnk_sz.append(row_val)\n",
    "\n",
    "# Create sankey\n",
    "fig = go.Figure(data=[go.Sankey(\n",
    "    node = dict(\n",
    "      pad = 15,\n",
    "      thickness = 20,\n",
    "      line = dict(color = \"black\", width = 0.5),\n",
    "      label = label_idx_lo.index.to_frame()[\"value\"],\n",
    "      color = \"blue\"\n",
    "    ),\n",
    "    link = dict(\n",
    "      source = lnk_src, # indices correspond to labels, eg A1, A2, A1, B1, ...\n",
    "      target = lnk_tgt,\n",
    "      value = lnk_sz\n",
    "  ))])\n",
    "\n",
    "fig.update_layout(title_text=\"Circuit composition\", font_size=10)\n",
    "fig.show()"
   ]
  }
 ],
 "metadata": {
  "kernelspec": {
   "display_name": "basic_circuit_analyses",
   "language": "python",
   "name": "python3"
  },
  "language_info": {
   "codemirror_mode": {
    "name": "ipython",
    "version": 3
   },
   "file_extension": ".py",
   "mimetype": "text/x-python",
   "name": "python",
   "nbconvert_exporter": "python",
   "pygments_lexer": "ipython3",
   "version": "3.13.1"
  }
 },
 "nbformat": 4,
 "nbformat_minor": 2
}
