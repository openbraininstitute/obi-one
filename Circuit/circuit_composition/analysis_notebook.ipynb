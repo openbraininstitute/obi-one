{
 "cells": [
  {
   "cell_type": "markdown",
   "metadata": {},
   "source": [
    "# Circuit composition\n",
    "\n",
    "Copyright (c) 2025 Open Brain Institute\n",
    "\n",
    "Authors: Michael W. Reimann\n",
    "\n",
    "last modified: 07.2025\n",
    "\n",
    "## Summary\n",
    "This notebook lists the neuronal composition of a (SONATA) circuit model as a Sankey plot.\n",
    "From the first dropdown menu select the [node set](https://sonata-extension.readthedocs.io/en/latest/sonata_nodeset.html) you want to display the composition of.\n",
    "\n",
    "From the element in the next cell select at least two properties to display. \n",
    "\n",
    "For details, see the [README](README.md)."
   ]
  },
  {
   "cell_type": "markdown",
   "metadata": {},
   "source": [
    "## Circuit selection and download\n",
    "\n",
    "A SONATA circuit unser `./analysis_circuit/circuit_config.json` will be analyzed. To place the data there, we must select \n",
    "the circuit, then download it. \n",
    "\n",
    "Should the circuit of interest already be placed at that location, you can skip ahead to the section `Circuit analysis` below.\n",
    "\n",
    "#### Project selection\n",
    "As a first step we select one of the projects we have access to that the circuit is associated with. If the circuit of interest is part of the public OBI assets, any project can be selected."
   ]
  },
  {
   "cell_type": "code",
   "execution_count": null,
   "metadata": {},
   "outputs": [],
   "source": [
    "from entitysdk import Client, ProjectContext, models\n",
    "from obi_auth import get_token\n",
    "import os\n",
    "import time\n",
    "\n",
    "from obi_notebook import get_projects\n",
    "from obi_notebook import get_entities\n",
    "\n",
    "token = get_token(environment=\"production\", auth_mode=\"daf\")\n",
    "project_context = get_projects.get_projects(token)"
   ]
  },
  {
   "cell_type": "markdown",
   "metadata": {},
   "source": [
    "#### Circuit selection\n",
    "\n",
    "Next, we select the circuit. If you already know the unique identifier of the circuit of interest, paste it below into line 4 of the next cell.\n",
    "\n",
    "Otherwise, a widget for circuit selection will be created that allows you to simply mark the circuit of interest."
   ]
  },
  {
   "cell_type": "code",
   "execution_count": null,
   "metadata": {},
   "outputs": [],
   "source": [
    "client = Client(environment=\"production\", project_context=project_context, token_manager=token)\n",
    "\n",
    "# Optional: Download using unique ID\n",
    "entity_ID = \"<CIRCUIT-ID>\"  # <<< FILL IN UNIQUE CIRCUIT ID HERE\n",
    "\n",
    "\n",
    "if entity_ID != \"<CIRCUIT-ID>\":\n",
    "    circuit_ids = [entity_ID]\n",
    "else:\n",
    "# Alternative: Select from a table of entities\n",
    "    circuit_ids = []\n",
    "    circuit_ids = get_entities.get_entities(\"circuit\", token, circuit_ids,\n",
    "                                            project_context=project_context,\n",
    "                                            multi_select=False,\n",
    "                                            default_scale=\"small\")"
   ]
  },
  {
   "cell_type": "markdown",
   "metadata": {},
   "source": [
    "#### Fetch circuit\n",
    "The circuit is copied to the local system at the expected location."
   ]
  },
  {
   "cell_type": "code",
   "execution_count": null,
   "metadata": {},
   "outputs": [],
   "source": [
    "# Fetch circuit\n",
    "fetched = client.get_entity(entity_id=circuit_ids[0], entity_type=models.Circuit)\n",
    "print(f\"Circuit fetched: {fetched.name} (ID {fetched.id})\\n\")\n",
    "print(f\"#Neurons: {fetched.number_neurons}, #Synapses: {fetched.number_synapses}, #Connections: {fetched.number_connections}\\n\")\n",
    "print(f\"{fetched.description}\\n\")\n",
    "\n",
    "# Download SONATA circuit files\n",
    "asset = [asset for asset in fetched.assets if asset.label==\"sonata_circuit\"][0]\n",
    "asset_dir = asset.path \n",
    "circuit_dir = \"analysis_circuit\"\n",
    "assert not os.path.exists(asset_dir), f\"ERROR: Circuit download folder '{asset_dir}' already exists! Please delete folder.\"\n",
    "assert not os.path.exists(circuit_dir), f\"ERROR: Circuit folder '{circuit_dir}' already exists! Delete folder or choose a different path.\"\n",
    "\n",
    "t0 = time.time()\n",
    "client.download_directory(\n",
    "    entity_id=fetched.id,\n",
    "    entity_type=models.Circuit,\n",
    "    asset_id=asset.id,\n",
    "    output_path=\".\",\n",
    "    max_concurrent=4,  # Parallel file download\n",
    ")\n",
    "t = time.time() - t0\n",
    "print(f\"Circuit files downloaded to '{asset_dir}' in {t:.1f}s\")\n",
    "os.rename(asset_dir, circuit_dir)\n",
    "print(f\"'{asset_dir}' folder renamed to '{circuit_dir}'\")"
   ]
  },
  {
   "cell_type": "markdown",
   "metadata": {},
   "source": [
    "## Circuit analysis"
   ]
  },
  {
   "cell_type": "code",
   "execution_count": null,
   "metadata": {},
   "outputs": [],
   "source": [
    "import bluepysnap as snap\n",
    "import pandas\n",
    "\n",
    "from ipywidgets import widgets\n",
    "import plotly.graph_objects as go\n",
    "\n",
    "# Path to existing circuit config\n",
    "circuit_config = \"./analysis_circuit/circuit_config.json\"\n",
    "assert os.path.exists(circuit_config), f\"ERROR: Circuit config '{os.path.split(circuit_config)[1]}' not found!\"\n",
    "\n",
    "circ = snap.Circuit(circuit_config)\n",
    "\n",
    "nodepop = widgets.Dropdown(\n",
    "    options=\n",
    "    list(circ.nodes.keys()),\n",
    "    description=\"Node population\"\n",
    ")\n",
    "nodeset = widgets.Dropdown(\n",
    "    options=\n",
    "    list(circ.node_sets.content.keys()),\n",
    "    description='Node set')"
   ]
  },
  {
   "cell_type": "markdown",
   "metadata": {},
   "source": [
    "# Selection of node set\n",
    "\n",
    "Please select one of the node populations and node sets defined in the circuit model from the following menu."
   ]
  },
  {
   "cell_type": "code",
   "execution_count": null,
   "metadata": {},
   "outputs": [],
   "source": [
    "display(nodepop)\n",
    "display(nodeset)"
   ]
  },
  {
   "cell_type": "markdown",
   "metadata": {},
   "source": [
    "# Selection of properties to display\n",
    "Please select *between two and eight* properties from the following list of categorical properties defined in the circuit model."
   ]
  },
  {
   "cell_type": "code",
   "execution_count": null,
   "metadata": {},
   "outputs": [],
   "source": [
    "# Get dataframe of all properties and their values\n",
    "val_df = circ.nodes[nodepop.value].get(nodeset.value)\n",
    "\n",
    "# This type of display only works for categorical properties. In the future, numerical properties could be binned...\n",
    "max_num_unique_vals = 25\n",
    "is_categorical = val_df.dtypes.apply(lambda _x: isinstance(_x, pandas.CategoricalDtype))\n",
    "has_few_vals = val_df.apply(lambda _x: len(_x.drop_duplicates()) <= max_num_unique_vals, axis=0)\n",
    "valid_props = is_categorical[is_categorical | has_few_vals].index.values\n",
    "\n",
    "to_display = widgets.SelectMultiple(options=valid_props,\n",
    "                                    index=tuple(range(len(valid_props)))[:8],\n",
    "                                    description=\"Properties\") # 8 is the arbitrarily decided maximum\n",
    "\n",
    "display(to_display)"
   ]
  },
  {
   "cell_type": "code",
   "execution_count": null,
   "metadata": {},
   "outputs": [],
   "source": [
    "# Test of user selection\n",
    "assert len(to_display.value) >= 2, \"Please select AT LEAST 2 properties\"\n",
    "assert len(to_display.value) <= 8, \"Please select AT MOST 8 properties\"\n",
    "# Dataframe of only the selected properties\n",
    "use_df = val_df[list(to_display.value)].apply(pandas.Categorical, axis=0)\n",
    "\n",
    "# Create a dataframe for a lookup of every possible (categorical) value of the selected properties to a unique index.\n",
    "# Index: level 0: Name of the property, level 1: value of the property; values: unique index.\n",
    "label_idx_lo = pandas.concat([pandas.Series(use_df[col].values.categories.values, name=\"value\")\n",
    "                              for col in use_df.columns], keys=use_df.columns,\n",
    "                              names=[\"column\"], axis=0).reset_index(level=\"column\")\n",
    "label_idx_lo[\"index\"] = range(len(label_idx_lo))\n",
    "label_idx_lo = label_idx_lo.set_index([\"column\", \"value\"])[\"index\"]\n",
    "\n",
    "# The sankey links are built by iterating over pairs of adjacent columns.\n",
    "lnk_src = []; lnk_tgt = []; lnk_sz = []\n",
    "\n",
    "for c1, c2 in zip(use_df.columns[:-1], use_df.columns[1:]):\n",
    "    # Size of a link: Number of overlapping values.\n",
    "    counts = use_df[[c1, c2]].value_counts()\n",
    "    for row_idx, row_val in counts.items():\n",
    "        lnk_src.append(label_idx_lo[c1][row_idx[0]])\n",
    "        lnk_tgt.append(label_idx_lo[c2][row_idx[1]])\n",
    "        lnk_sz.append(row_val)\n",
    "\n",
    "# Create sankey\n",
    "fig = go.Figure(data=[go.Sankey(\n",
    "    node = dict(\n",
    "      pad = 15,\n",
    "      thickness = 20,\n",
    "      line = dict(color = \"black\", width = 0.5),\n",
    "      label = label_idx_lo.index.to_frame()[\"value\"],\n",
    "      color = \"blue\"\n",
    "    ),\n",
    "    link = dict(\n",
    "      source = lnk_src, # indices correspond to labels, eg A1, A2, A1, B1, ...\n",
    "      target = lnk_tgt,\n",
    "      value = lnk_sz\n",
    "  ))])\n",
    "\n",
    "fig.update_layout(title_text=f\"Composition: {nodepop.value}/{nodeset.value}\", font_size=10)\n",
    "fig.show()"
   ]
  }
 ],
 "metadata": {
  "kernelspec": {
   "display_name": ".venv (3.13.1)",
   "language": "python",
   "name": "python3"
  },
  "language_info": {
   "codemirror_mode": {
    "name": "ipython",
    "version": 3
   },
   "file_extension": ".py",
   "mimetype": "text/x-python",
   "name": "python",
   "nbconvert_exporter": "python",
   "pygments_lexer": "ipython3",
   "version": "3.13.1"
  }
 },
 "nbformat": 4,
 "nbformat_minor": 2
}
