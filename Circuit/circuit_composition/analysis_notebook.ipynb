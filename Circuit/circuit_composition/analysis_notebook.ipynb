{
 "cells": [
  {
   "cell_type": "markdown",
   "metadata": {},
   "source": [
    "# Circuit composition\n",
    "\n",
    "Copyright (c) 2025 Open Brain Institute\n",
    "\n",
    "Authors: Michael W. Reimann\n",
    "\n",
    "last modified: 07.2025\n",
    "\n",
    "## Summary\n",
    "This notebook lists the neuronal composition of a (SONATA) circuit model as a Sankey plot.\n",
    "From the first dropdown menu select the [node set](https://sonata-extension.readthedocs.io/en/latest/sonata_nodeset.html) you want to display the composition of.\n",
    "\n",
    "From the element in the next cell select at least two properties to display. \n",
    "\n",
    "For details, see the [README](README.md)."
   ]
  },
  {
   "cell_type": "markdown",
   "metadata": {},
   "source": [
    "## Circuit selection\n",
    "\n",
    "A SONATA circuit is assumed to be located under `./analysis_circuit/circuit_config.json`. A circuit can be downloaded using its unique circuit ID from the platform. If a circuit already exists, the authentication and downloading steps can be skipped."
   ]
  },
  {
   "cell_type": "code",
   "execution_count": 1,
   "metadata": {},
   "outputs": [
    {
     "data": {
      "application/vnd.jupyter.widget-view+json": {
       "model_id": "02c55071b9ed4be4aca9e50ae7421da5",
       "version_major": 2,
       "version_minor": 0
      },
      "text/plain": [
       "Dropdown(description='Select:', options=(('Proximal vs. distal inhibition', {'id': '8968a860-dc39-467c-b75d-0d…"
      ]
     },
     "metadata": {},
     "output_type": "display_data"
    }
   ],
   "source": [
    "from entitysdk import Client, ProjectContext, models\n",
    "from obi_auth import get_token\n",
    "import os\n",
    "import time\n",
    "\n",
    "from obi_notebook import get_projects\n",
    "from obi_notebook import get_entities\n",
    "\n",
    "token = get_token(environment=\"production\", auth_mode=\"daf\")\n",
    "project_context = get_projects.get_projects(token)"
   ]
  },
  {
   "cell_type": "code",
   "execution_count": null,
   "metadata": {},
   "outputs": [],
   "source": [
    "client = Client(environment=\"production\", project_context=project_context, token_manager=token)\n",
    "\n",
    "\n",
    "# Optional: Download using unique ID\n",
    "entity_ID = \"<CIRCUIT-ID>\"  # <<< FILL IN UNIQUE CIRCUIT ID HERE\n",
    "\n",
    "\n",
    "if entity_ID != \"<CIRCUIT-ID>\":\n",
    "    circuit_ids = [entity_ID]\n",
    "else:\n",
    "# Alternative: Select from a table of entities\n",
    "    circuit_ids = []\n",
    "    circuit_ids = get_entities.get_entities(\"circuit\", token, circuit_ids,\n",
    "                                            project_context=project_context,\n",
    "                                            multi_select=False,\n",
    "                                            default_scale=\"small\")"
   ]
  },
  {
   "cell_type": "code",
   "execution_count": 12,
   "metadata": {},
   "outputs": [
    {
     "name": "stdout",
     "output_type": "stream",
     "text": [
      "Circuit fetched: nbS1-O1-sSub-post-dim5-nCN-HEX0-L5-01 (ID f6279a49-5d5e-4853-8778-8afd6da581e2)\n",
      "\n",
      "#Neurons: 6, #Synapses: 90, #Connections: 16\n",
      "\n",
      "A simplicial subcircuit(sSub) extracted from the nbS1-O1 circuit, around a neuron with high centrality in the network’s connectivity graph, located in layer 5 of subcolumn HEX0. The subnetwork consists of higher order post-synaptic neurons of the central one. That is, neurons belonging to simplices of dimension 5 that have the central neuron as source. The suffix “01” denotes the first instance of such a simplicial subnetwork.\n",
      "\n",
      "Circuit files downloaded to 'sonata_circuit' in 7.7s\n",
      "'sonata_circuit' folder renamed to 'analysis_circuit'\n"
     ]
    }
   ],
   "source": [
    "# Fetch circuit\n",
    "fetched = client.get_entity(entity_id=circuit_ids[0], entity_type=models.Circuit)\n",
    "print(f\"Circuit fetched: {fetched.name} (ID {fetched.id})\\n\")\n",
    "print(f\"#Neurons: {fetched.number_neurons}, #Synapses: {fetched.number_synapses}, #Connections: {fetched.number_connections}\\n\")\n",
    "print(f\"{fetched.description}\\n\")\n",
    "\n",
    "# Download SONATA circuit files\n",
    "asset = [asset for asset in fetched.assets if asset.label==\"sonata_circuit\"][0]\n",
    "asset_dir = asset.path \n",
    "circuit_dir = \"analysis_circuit\"\n",
    "assert not os.path.exists(asset_dir), f\"ERROR: Circuit download folder '{asset_dir}' already exists! Please delete folder.\"\n",
    "assert not os.path.exists(circuit_dir), f\"ERROR: Circuit folder '{circuit_dir}' already exists! Delete folder or choose a different path.\"\n",
    "\n",
    "t0 = time.time()\n",
    "client.download_directory(\n",
    "    entity_id=fetched.id,\n",
    "    entity_type=models.Circuit,\n",
    "    asset_id=asset.id,\n",
    "    output_path=\".\",\n",
    "    max_concurrent=4,  # Parallel file download\n",
    ")\n",
    "t = time.time() - t0\n",
    "print(f\"Circuit files downloaded to '{asset_dir}' in {t:.1f}s\")\n",
    "os.rename(asset_dir, circuit_dir)\n",
    "print(f\"'{asset_dir}' folder renamed to '{circuit_dir}'\")"
   ]
  },
  {
   "cell_type": "code",
   "execution_count": 22,
   "metadata": {},
   "outputs": [],
   "source": [
    "import bluepysnap as snap\n",
    "import pandas\n",
    "\n",
    "from ipywidgets import widgets\n",
    "import plotly.graph_objects as go\n",
    "\n",
    "# Path to existing circuit config\n",
    "circuit_config = \"./analysis_circuit/circuit_config.json\"\n",
    "assert os.path.exists(circuit_config), f\"ERROR: Circuit config '{os.path.split(circuit_config)[1]}' not found!\"\n",
    "\n",
    "circ = snap.Circuit(circuit_config)\n",
    "\n",
    "nodepop = widgets.Dropdown(\n",
    "    options=\n",
    "    list(circ.nodes.keys()),\n",
    "    description=\"Node population\"\n",
    ")\n",
    "nodeset = widgets.Dropdown(\n",
    "    options=\n",
    "    list(circ.node_sets.content.keys()),\n",
    "    description='Node set')"
   ]
  },
  {
   "cell_type": "markdown",
   "metadata": {},
   "source": [
    "# Selection of node set\n",
    "\n",
    "Please select one of the node sets defined in the circuit model from the following menu."
   ]
  },
  {
   "cell_type": "code",
   "execution_count": 23,
   "metadata": {},
   "outputs": [
    {
     "data": {
      "application/vnd.jupyter.widget-view+json": {
       "model_id": "1dc23e2957204852bd8ab8256612e322",
       "version_major": 2,
       "version_minor": 0
      },
      "text/plain": [
       "Dropdown(description='Node population', options=('POm', 'S1nonbarrel_neurons', 'VPM', 'external_S1nonbarrel_ne…"
      ]
     },
     "metadata": {},
     "output_type": "display_data"
    },
    {
     "data": {
      "application/vnd.jupyter.widget-view+json": {
       "model_id": "9be339d0d19f4cc289ac3060d9e31f80",
       "version_major": 2,
       "version_minor": 0
      },
      "text/plain": [
       "Dropdown(description='Node set', options=('Mosaic', 'All', 'Excitatory', 'Inhibitory', 'L1_DAC', 'L1_HAC', 'L1…"
      ]
     },
     "metadata": {},
     "output_type": "display_data"
    }
   ],
   "source": [
    "display(nodepop)\n",
    "display(nodeset)"
   ]
  },
  {
   "cell_type": "markdown",
   "metadata": {},
   "source": [
    "# Selection of properties to display\n",
    "Please select *between two and eight* properties from the following list of categorical properties defined in the circuit model."
   ]
  },
  {
   "cell_type": "code",
   "execution_count": 38,
   "metadata": {},
   "outputs": [
    {
     "data": {
      "application/vnd.jupyter.widget-view+json": {
       "model_id": "f38be92f43b840d69b1c1283e8b26481",
       "version_major": 2,
       "version_minor": 0
      },
      "text/plain": [
       "SelectMultiple(description='Properties', index=(0, 1, 2, 3, 4, 5, 6, 7), options=('etype', 'exc_mini_frequency…"
      ]
     },
     "metadata": {},
     "output_type": "display_data"
    }
   ],
   "source": [
    "# Get dataframe of all properties and their values\n",
    "val_df = circ.nodes[nodepop.value].get(nodeset.value)\n",
    "\n",
    "# This type of display only works for categorical properties. In the future, numerical properties could be binned...\n",
    "max_num_unique_vals = 25\n",
    "is_categorical = val_df.dtypes.apply(lambda _x: isinstance(_x, pandas.CategoricalDtype))\n",
    "has_few_vals = val_df.apply(lambda _x: len(_x.drop_duplicates()) <= max_num_unique_vals, axis=0)\n",
    "valid_props = is_categorical[is_categorical | has_few_vals].index.values\n",
    "\n",
    "to_display = widgets.SelectMultiple(options=valid_props,\n",
    "                                    index=tuple(range(len(valid_props)))[:8],\n",
    "                                    description=\"Properties\") # 8 is the arbitrarily decided maximum\n",
    "\n",
    "display(to_display)"
   ]
  },
  {
   "cell_type": "code",
   "execution_count": 40,
   "metadata": {},
   "outputs": [
    {
     "data": {
      "application/vnd.plotly.v1+json": {
       "config": {
        "plotlyServerURL": "https://plot.ly"
       },
       "data": [
        {
         "link": {
          "source": [
           2,
           2,
           2,
           2,
           2,
           8,
           5,
           5,
           6,
           10,
           0,
           9,
           5,
           0,
           5,
           4,
           7,
           3,
           0,
           7,
           3,
           4,
           5,
           1,
           3,
           3,
           8,
           6,
           0,
           6,
           6,
           0,
           1,
           1,
           1,
           8,
           4,
           9,
           10,
           1,
           13,
           16,
           12,
           14,
           15,
           13,
           16,
           14,
           15,
           12,
           11,
           18,
           18,
           18,
           18,
           18,
           18,
           18,
           18,
           18,
           18,
           18,
           18,
           18,
           18,
           18,
           17,
           17,
           17,
           18,
           17,
           17,
           18,
           17,
           17,
           17,
           17,
           17,
           17,
           17,
           17,
           17,
           17,
           17,
           17,
           17,
           17,
           17,
           17,
           17,
           17,
           17,
           17,
           17,
           17,
           17,
           61,
           60,
           20,
           37,
           44,
           34,
           39,
           28,
           51,
           32,
           26,
           43,
           41,
           53,
           56,
           45,
           35,
           54,
           49,
           42,
           33,
           48,
           57,
           21,
           22,
           30,
           38,
           23,
           25,
           63,
           55,
           58,
           59,
           47,
           40,
           50,
           36,
           24,
           19,
           46,
           52,
           31,
           29,
           27,
           62
          ],
          "target": [
           13,
           16,
           12,
           14,
           15,
           13,
           13,
           16,
           13,
           16,
           13,
           13,
           12,
           16,
           15,
           13,
           13,
           15,
           15,
           16,
           16,
           16,
           14,
           13,
           13,
           12,
           16,
           12,
           12,
           15,
           16,
           11,
           16,
           15,
           11,
           15,
           12,
           16,
           13,
           12,
           18,
           18,
           18,
           18,
           18,
           17,
           17,
           17,
           17,
           17,
           17,
           61,
           60,
           20,
           37,
           44,
           34,
           39,
           28,
           51,
           32,
           26,
           43,
           41,
           53,
           56,
           45,
           35,
           54,
           49,
           42,
           33,
           48,
           57,
           21,
           22,
           30,
           38,
           23,
           25,
           63,
           55,
           59,
           58,
           47,
           40,
           50,
           36,
           24,
           19,
           62,
           52,
           46,
           31,
           29,
           27,
           65,
           65,
           65,
           65,
           65,
           65,
           65,
           65,
           65,
           65,
           65,
           65,
           65,
           65,
           65,
           65,
           64,
           64,
           65,
           64,
           64,
           65,
           64,
           64,
           64,
           64,
           64,
           64,
           64,
           64,
           64,
           64,
           64,
           64,
           64,
           64,
           64,
           64,
           64,
           64,
           64,
           64,
           64,
           64,
           64
          ],
          "value": [
           1936,
           1574,
           735,
           674,
           345,
           32,
           30,
           25,
           23,
           18,
           17,
           16,
           12,
           11,
           10,
           8,
           7,
           7,
           6,
           6,
           5,
           5,
           5,
           5,
           4,
           4,
           4,
           4,
           3,
           3,
           3,
           2,
           2,
           1,
           1,
           1,
           1,
           1,
           1,
           1,
           1936,
           1574,
           735,
           609,
           345,
           143,
           80,
           70,
           28,
           25,
           3,
           676,
           671,
           520,
           446,
           422,
           363,
           360,
           338,
           287,
           258,
           215,
           187,
           171,
           126,
           101,
           65,
           58,
           37,
           34,
           28,
           27,
           24,
           19,
           16,
           14,
           12,
           11,
           10,
           9,
           7,
           5,
           5,
           5,
           4,
           3,
           2,
           2,
           2,
           2,
           1,
           1,
           1,
           1,
           1,
           1,
           676,
           671,
           520,
           446,
           422,
           363,
           360,
           338,
           287,
           258,
           215,
           187,
           171,
           126,
           101,
           65,
           58,
           37,
           34,
           28,
           27,
           24,
           19,
           16,
           14,
           12,
           11,
           10,
           9,
           7,
           5,
           5,
           5,
           4,
           3,
           2,
           2,
           2,
           2,
           1,
           1,
           1,
           1,
           1,
           1
          ]
         },
         "node": {
          "color": "blue",
          "label": [
           "cNAC",
           "bNAC",
           "cADpyr",
           "dNAC",
           "cSTUT",
           "cACint",
           "bAC",
           "cIR",
           "bIR",
           "bSTUT",
           "dSTUT",
           "1",
           "3",
           "6",
           "4",
           "2",
           "5",
           "INT",
           "PYR",
           "L1_DAC",
           "L3_TPC:A",
           "L23_LBC",
           "L23_BTC",
           "L23_NBC",
           "L23_SBC",
           "L23_MC",
           "L3_TPC:C",
           "L1_NGC-DA",
           "L6_BPC",
           "L6_BP",
           "L6_BTC",
           "L6_NGC",
           "L6_UPC",
           "L6_MC",
           "L6_HPC",
           "L6_LBC",
           "L6_SBC",
           "L6_IPC",
           "L6_CHC",
           "L6_TPC:A",
           "L6_DBC",
           "L6_TPC:C",
           "L6_NBC",
           "L4_UPC",
           "L4_TPC",
           "L4_SSC",
           "L4_BTC",
           "L4_MC",
           "L2_TPC:A",
           "L2_IPC",
           "L23_NGC",
           "L2_TPC:B",
           "L5_CHC",
           "L5_TPC:C",
           "L5_LBC",
           "L5_SBC",
           "L5_UPC",
           "L5_NBC",
           "L5_BTC",
           "L5_DBC",
           "L5_TPC:B",
           "L5_TPC:A",
           "L5_NGC",
           "L5_MC",
           "INH",
           "EXC"
          ],
          "line": {
           "color": "black",
           "width": 0.5
          },
          "pad": 15,
          "thickness": 20
         },
         "type": "sankey"
        }
       ],
       "layout": {
        "font": {
         "size": 10
        },
        "template": {
         "data": {
          "bar": [
           {
            "error_x": {
             "color": "#2a3f5f"
            },
            "error_y": {
             "color": "#2a3f5f"
            },
            "marker": {
             "line": {
              "color": "#E5ECF6",
              "width": 0.5
             },
             "pattern": {
              "fillmode": "overlay",
              "size": 10,
              "solidity": 0.2
             }
            },
            "type": "bar"
           }
          ],
          "barpolar": [
           {
            "marker": {
             "line": {
              "color": "#E5ECF6",
              "width": 0.5
             },
             "pattern": {
              "fillmode": "overlay",
              "size": 10,
              "solidity": 0.2
             }
            },
            "type": "barpolar"
           }
          ],
          "carpet": [
           {
            "aaxis": {
             "endlinecolor": "#2a3f5f",
             "gridcolor": "white",
             "linecolor": "white",
             "minorgridcolor": "white",
             "startlinecolor": "#2a3f5f"
            },
            "baxis": {
             "endlinecolor": "#2a3f5f",
             "gridcolor": "white",
             "linecolor": "white",
             "minorgridcolor": "white",
             "startlinecolor": "#2a3f5f"
            },
            "type": "carpet"
           }
          ],
          "choropleth": [
           {
            "colorbar": {
             "outlinewidth": 0,
             "ticks": ""
            },
            "type": "choropleth"
           }
          ],
          "contour": [
           {
            "colorbar": {
             "outlinewidth": 0,
             "ticks": ""
            },
            "colorscale": [
             [
              0,
              "#0d0887"
             ],
             [
              0.1111111111111111,
              "#46039f"
             ],
             [
              0.2222222222222222,
              "#7201a8"
             ],
             [
              0.3333333333333333,
              "#9c179e"
             ],
             [
              0.4444444444444444,
              "#bd3786"
             ],
             [
              0.5555555555555556,
              "#d8576b"
             ],
             [
              0.6666666666666666,
              "#ed7953"
             ],
             [
              0.7777777777777778,
              "#fb9f3a"
             ],
             [
              0.8888888888888888,
              "#fdca26"
             ],
             [
              1,
              "#f0f921"
             ]
            ],
            "type": "contour"
           }
          ],
          "contourcarpet": [
           {
            "colorbar": {
             "outlinewidth": 0,
             "ticks": ""
            },
            "type": "contourcarpet"
           }
          ],
          "heatmap": [
           {
            "colorbar": {
             "outlinewidth": 0,
             "ticks": ""
            },
            "colorscale": [
             [
              0,
              "#0d0887"
             ],
             [
              0.1111111111111111,
              "#46039f"
             ],
             [
              0.2222222222222222,
              "#7201a8"
             ],
             [
              0.3333333333333333,
              "#9c179e"
             ],
             [
              0.4444444444444444,
              "#bd3786"
             ],
             [
              0.5555555555555556,
              "#d8576b"
             ],
             [
              0.6666666666666666,
              "#ed7953"
             ],
             [
              0.7777777777777778,
              "#fb9f3a"
             ],
             [
              0.8888888888888888,
              "#fdca26"
             ],
             [
              1,
              "#f0f921"
             ]
            ],
            "type": "heatmap"
           }
          ],
          "histogram": [
           {
            "marker": {
             "pattern": {
              "fillmode": "overlay",
              "size": 10,
              "solidity": 0.2
             }
            },
            "type": "histogram"
           }
          ],
          "histogram2d": [
           {
            "colorbar": {
             "outlinewidth": 0,
             "ticks": ""
            },
            "colorscale": [
             [
              0,
              "#0d0887"
             ],
             [
              0.1111111111111111,
              "#46039f"
             ],
             [
              0.2222222222222222,
              "#7201a8"
             ],
             [
              0.3333333333333333,
              "#9c179e"
             ],
             [
              0.4444444444444444,
              "#bd3786"
             ],
             [
              0.5555555555555556,
              "#d8576b"
             ],
             [
              0.6666666666666666,
              "#ed7953"
             ],
             [
              0.7777777777777778,
              "#fb9f3a"
             ],
             [
              0.8888888888888888,
              "#fdca26"
             ],
             [
              1,
              "#f0f921"
             ]
            ],
            "type": "histogram2d"
           }
          ],
          "histogram2dcontour": [
           {
            "colorbar": {
             "outlinewidth": 0,
             "ticks": ""
            },
            "colorscale": [
             [
              0,
              "#0d0887"
             ],
             [
              0.1111111111111111,
              "#46039f"
             ],
             [
              0.2222222222222222,
              "#7201a8"
             ],
             [
              0.3333333333333333,
              "#9c179e"
             ],
             [
              0.4444444444444444,
              "#bd3786"
             ],
             [
              0.5555555555555556,
              "#d8576b"
             ],
             [
              0.6666666666666666,
              "#ed7953"
             ],
             [
              0.7777777777777778,
              "#fb9f3a"
             ],
             [
              0.8888888888888888,
              "#fdca26"
             ],
             [
              1,
              "#f0f921"
             ]
            ],
            "type": "histogram2dcontour"
           }
          ],
          "mesh3d": [
           {
            "colorbar": {
             "outlinewidth": 0,
             "ticks": ""
            },
            "type": "mesh3d"
           }
          ],
          "parcoords": [
           {
            "line": {
             "colorbar": {
              "outlinewidth": 0,
              "ticks": ""
             }
            },
            "type": "parcoords"
           }
          ],
          "pie": [
           {
            "automargin": true,
            "type": "pie"
           }
          ],
          "scatter": [
           {
            "fillpattern": {
             "fillmode": "overlay",
             "size": 10,
             "solidity": 0.2
            },
            "type": "scatter"
           }
          ],
          "scatter3d": [
           {
            "line": {
             "colorbar": {
              "outlinewidth": 0,
              "ticks": ""
             }
            },
            "marker": {
             "colorbar": {
              "outlinewidth": 0,
              "ticks": ""
             }
            },
            "type": "scatter3d"
           }
          ],
          "scattercarpet": [
           {
            "marker": {
             "colorbar": {
              "outlinewidth": 0,
              "ticks": ""
             }
            },
            "type": "scattercarpet"
           }
          ],
          "scattergeo": [
           {
            "marker": {
             "colorbar": {
              "outlinewidth": 0,
              "ticks": ""
             }
            },
            "type": "scattergeo"
           }
          ],
          "scattergl": [
           {
            "marker": {
             "colorbar": {
              "outlinewidth": 0,
              "ticks": ""
             }
            },
            "type": "scattergl"
           }
          ],
          "scattermap": [
           {
            "marker": {
             "colorbar": {
              "outlinewidth": 0,
              "ticks": ""
             }
            },
            "type": "scattermap"
           }
          ],
          "scattermapbox": [
           {
            "marker": {
             "colorbar": {
              "outlinewidth": 0,
              "ticks": ""
             }
            },
            "type": "scattermapbox"
           }
          ],
          "scatterpolar": [
           {
            "marker": {
             "colorbar": {
              "outlinewidth": 0,
              "ticks": ""
             }
            },
            "type": "scatterpolar"
           }
          ],
          "scatterpolargl": [
           {
            "marker": {
             "colorbar": {
              "outlinewidth": 0,
              "ticks": ""
             }
            },
            "type": "scatterpolargl"
           }
          ],
          "scatterternary": [
           {
            "marker": {
             "colorbar": {
              "outlinewidth": 0,
              "ticks": ""
             }
            },
            "type": "scatterternary"
           }
          ],
          "surface": [
           {
            "colorbar": {
             "outlinewidth": 0,
             "ticks": ""
            },
            "colorscale": [
             [
              0,
              "#0d0887"
             ],
             [
              0.1111111111111111,
              "#46039f"
             ],
             [
              0.2222222222222222,
              "#7201a8"
             ],
             [
              0.3333333333333333,
              "#9c179e"
             ],
             [
              0.4444444444444444,
              "#bd3786"
             ],
             [
              0.5555555555555556,
              "#d8576b"
             ],
             [
              0.6666666666666666,
              "#ed7953"
             ],
             [
              0.7777777777777778,
              "#fb9f3a"
             ],
             [
              0.8888888888888888,
              "#fdca26"
             ],
             [
              1,
              "#f0f921"
             ]
            ],
            "type": "surface"
           }
          ],
          "table": [
           {
            "cells": {
             "fill": {
              "color": "#EBF0F8"
             },
             "line": {
              "color": "white"
             }
            },
            "header": {
             "fill": {
              "color": "#C8D4E3"
             },
             "line": {
              "color": "white"
             }
            },
            "type": "table"
           }
          ]
         },
         "layout": {
          "annotationdefaults": {
           "arrowcolor": "#2a3f5f",
           "arrowhead": 0,
           "arrowwidth": 1
          },
          "autotypenumbers": "strict",
          "coloraxis": {
           "colorbar": {
            "outlinewidth": 0,
            "ticks": ""
           }
          },
          "colorscale": {
           "diverging": [
            [
             0,
             "#8e0152"
            ],
            [
             0.1,
             "#c51b7d"
            ],
            [
             0.2,
             "#de77ae"
            ],
            [
             0.3,
             "#f1b6da"
            ],
            [
             0.4,
             "#fde0ef"
            ],
            [
             0.5,
             "#f7f7f7"
            ],
            [
             0.6,
             "#e6f5d0"
            ],
            [
             0.7,
             "#b8e186"
            ],
            [
             0.8,
             "#7fbc41"
            ],
            [
             0.9,
             "#4d9221"
            ],
            [
             1,
             "#276419"
            ]
           ],
           "sequential": [
            [
             0,
             "#0d0887"
            ],
            [
             0.1111111111111111,
             "#46039f"
            ],
            [
             0.2222222222222222,
             "#7201a8"
            ],
            [
             0.3333333333333333,
             "#9c179e"
            ],
            [
             0.4444444444444444,
             "#bd3786"
            ],
            [
             0.5555555555555556,
             "#d8576b"
            ],
            [
             0.6666666666666666,
             "#ed7953"
            ],
            [
             0.7777777777777778,
             "#fb9f3a"
            ],
            [
             0.8888888888888888,
             "#fdca26"
            ],
            [
             1,
             "#f0f921"
            ]
           ],
           "sequentialminus": [
            [
             0,
             "#0d0887"
            ],
            [
             0.1111111111111111,
             "#46039f"
            ],
            [
             0.2222222222222222,
             "#7201a8"
            ],
            [
             0.3333333333333333,
             "#9c179e"
            ],
            [
             0.4444444444444444,
             "#bd3786"
            ],
            [
             0.5555555555555556,
             "#d8576b"
            ],
            [
             0.6666666666666666,
             "#ed7953"
            ],
            [
             0.7777777777777778,
             "#fb9f3a"
            ],
            [
             0.8888888888888888,
             "#fdca26"
            ],
            [
             1,
             "#f0f921"
            ]
           ]
          },
          "colorway": [
           "#636efa",
           "#EF553B",
           "#00cc96",
           "#ab63fa",
           "#FFA15A",
           "#19d3f3",
           "#FF6692",
           "#B6E880",
           "#FF97FF",
           "#FECB52"
          ],
          "font": {
           "color": "#2a3f5f"
          },
          "geo": {
           "bgcolor": "white",
           "lakecolor": "white",
           "landcolor": "#E5ECF6",
           "showlakes": true,
           "showland": true,
           "subunitcolor": "white"
          },
          "hoverlabel": {
           "align": "left"
          },
          "hovermode": "closest",
          "mapbox": {
           "style": "light"
          },
          "paper_bgcolor": "white",
          "plot_bgcolor": "#E5ECF6",
          "polar": {
           "angularaxis": {
            "gridcolor": "white",
            "linecolor": "white",
            "ticks": ""
           },
           "bgcolor": "#E5ECF6",
           "radialaxis": {
            "gridcolor": "white",
            "linecolor": "white",
            "ticks": ""
           }
          },
          "scene": {
           "xaxis": {
            "backgroundcolor": "#E5ECF6",
            "gridcolor": "white",
            "gridwidth": 2,
            "linecolor": "white",
            "showbackground": true,
            "ticks": "",
            "zerolinecolor": "white"
           },
           "yaxis": {
            "backgroundcolor": "#E5ECF6",
            "gridcolor": "white",
            "gridwidth": 2,
            "linecolor": "white",
            "showbackground": true,
            "ticks": "",
            "zerolinecolor": "white"
           },
           "zaxis": {
            "backgroundcolor": "#E5ECF6",
            "gridcolor": "white",
            "gridwidth": 2,
            "linecolor": "white",
            "showbackground": true,
            "ticks": "",
            "zerolinecolor": "white"
           }
          },
          "shapedefaults": {
           "line": {
            "color": "#2a3f5f"
           }
          },
          "ternary": {
           "aaxis": {
            "gridcolor": "white",
            "linecolor": "white",
            "ticks": ""
           },
           "baxis": {
            "gridcolor": "white",
            "linecolor": "white",
            "ticks": ""
           },
           "bgcolor": "#E5ECF6",
           "caxis": {
            "gridcolor": "white",
            "linecolor": "white",
            "ticks": ""
           }
          },
          "title": {
           "x": 0.05
          },
          "xaxis": {
           "automargin": true,
           "gridcolor": "white",
           "linecolor": "white",
           "ticks": "",
           "title": {
            "standoff": 15
           },
           "zerolinecolor": "white",
           "zerolinewidth": 2
          },
          "yaxis": {
           "automargin": true,
           "gridcolor": "white",
           "linecolor": "white",
           "ticks": "",
           "title": {
            "standoff": 15
           },
           "zerolinecolor": "white",
           "zerolinewidth": 2
          }
         }
        },
        "title": {
         "text": "Composition: external_S1nonbarrel_neurons/All"
        }
       }
      }
     },
     "metadata": {},
     "output_type": "display_data"
    }
   ],
   "source": [
    "# Test of user selection\n",
    "assert len(to_display.value) >= 2, \"Please select AT LEAST 2 properties\"\n",
    "assert len(to_display.value) <= 8, \"Please select AT MOST 8 properties\"\n",
    "# Dataframe of only the selected properties\n",
    "use_df = val_df[list(to_display.value)].apply(pandas.Categorical, axis=0)\n",
    "\n",
    "# Create a dataframe for a lookup of every possible (categorical) value of the selected properties to a unique index.\n",
    "# Index: level 0: Name of the property, level 1: value of the property; values: unique index.\n",
    "label_idx_lo = pandas.concat([pandas.Series(use_df[col].values.categories.values, name=\"value\")\n",
    "                              for col in use_df.columns], keys=use_df.columns,\n",
    "                              names=[\"column\"], axis=0).reset_index(level=\"column\")\n",
    "label_idx_lo[\"index\"] = range(len(label_idx_lo))\n",
    "label_idx_lo = label_idx_lo.set_index([\"column\", \"value\"])[\"index\"]\n",
    "\n",
    "# The sankey links are built by iterating over pairs of adjacent columns.\n",
    "lnk_src = []; lnk_tgt = []; lnk_sz = []\n",
    "\n",
    "for c1, c2 in zip(use_df.columns[:-1], use_df.columns[1:]):\n",
    "    # Size of a link: Number of overlapping values.\n",
    "    counts = use_df[[c1, c2]].value_counts()\n",
    "    for row_idx, row_val in counts.items():\n",
    "        lnk_src.append(label_idx_lo[c1][row_idx[0]])\n",
    "        lnk_tgt.append(label_idx_lo[c2][row_idx[1]])\n",
    "        lnk_sz.append(row_val)\n",
    "\n",
    "# Create sankey\n",
    "fig = go.Figure(data=[go.Sankey(\n",
    "    node = dict(\n",
    "      pad = 15,\n",
    "      thickness = 20,\n",
    "      line = dict(color = \"black\", width = 0.5),\n",
    "      label = label_idx_lo.index.to_frame()[\"value\"],\n",
    "      color = \"blue\"\n",
    "    ),\n",
    "    link = dict(\n",
    "      source = lnk_src, # indices correspond to labels, eg A1, A2, A1, B1, ...\n",
    "      target = lnk_tgt,\n",
    "      value = lnk_sz\n",
    "  ))])\n",
    "\n",
    "fig.update_layout(title_text=f\"Composition: {nodepop.value}/{nodeset.value}\", font_size=10)\n",
    "fig.show()"
   ]
  }
 ],
 "metadata": {
  "kernelspec": {
   "display_name": ".venv (3.13.1)",
   "language": "python",
   "name": "python3"
  },
  "language_info": {
   "codemirror_mode": {
    "name": "ipython",
    "version": 3
   },
   "file_extension": ".py",
   "mimetype": "text/x-python",
   "name": "python",
   "nbconvert_exporter": "python",
   "pygments_lexer": "ipython3",
   "version": "3.13.1"
  }
 },
 "nbformat": 4,
 "nbformat_minor": 2
}
