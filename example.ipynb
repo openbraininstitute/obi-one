{
 "cells": [
  {
   "cell_type": "code",
   "execution_count": 1,
   "metadata": {},
   "outputs": [],
   "source": [
    "import obi\n",
    "\n",
    "simulation_initialization = obi.Simulation.Initialization(\n",
    "    circuit=obi.Circuit(circuit_path=\"circuit_1\", node_set='hex0'),\n",
    "    simulation_length=100\n",
    ")\n",
    "neuron_circuit_grouping_1 = obi.NeuronCircuitGrouping(circuit=simulation_initialization.circuit, neuron_ids=(1, 2, 3))\n",
    "timestamps_1 = obi.RegularTimestamps(start_time=0.0, number_of_repetitions=1, interval=[1.0, 5.0])\n",
    "stimulus_1 = obi.SynchronousSingleSpikeStimulus(spike_probability=[0.5, 0.8], timestamps=timestamps_1, circuit_grouping=neuron_circuit_grouping_1)\n",
    "recording_1 = obi.Recording(start_time=0.0, end_time=1.0, circuit_grouping=neuron_circuit_grouping_1)\n",
    "\n",
    "simulation_campaign_template = obi.SimulationCampaignTemplate(\n",
    "                                    initialize=simulation_initialization,\n",
    "                                    circuit_groupings={\"neuron_circuit_grouping_1\": neuron_circuit_grouping_1},  \n",
    "                                    timestamps={\"timestamps_1\": timestamps_1}, \n",
    "                                    stimuli={\"stimulus_1\": stimulus_1}, \n",
    "                                    recordings={\"recording_1\": recording_1}\n",
    "                                    )\n",
    "\n",
    "simulation_campaign = obi.SimulationCampaign(template_instance=simulation_campaign_template)\n",
    "simulation_campaign.write_simulation_sonata_configs('../simulation_configs')\n",
    "\n",
    "# print(simulation_campaign.coord_instances)\n",
    "# print(simulation_campaign_template.multi_params)\n",
    "# print(simulation_campaign_template.generate_grid_scan_coords())\n"
   ]
  },
  {
   "cell_type": "code",
   "execution_count": null,
   "metadata": {},
   "outputs": [],
   "source": []
  }
 ],
 "metadata": {
  "kernelspec": {
   "display_name": "pydantic_test-venv-3-11--6-2-25",
   "language": "python",
   "name": "python3"
  },
  "language_info": {
   "codemirror_mode": {
    "name": "ipython",
    "version": 3
   },
   "file_extension": ".py",
   "mimetype": "text/x-python",
   "name": "python",
   "nbconvert_exporter": "python",
   "pygments_lexer": "ipython3",
   "version": "3.11.11"
  }
 },
 "nbformat": 4,
 "nbformat_minor": 2
}
