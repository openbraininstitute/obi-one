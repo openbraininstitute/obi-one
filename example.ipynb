{
 "cells": [
  {
   "cell_type": "code",
   "execution_count": null,
   "metadata": {},
   "outputs": [
    {
     "ename": "ValidationError",
     "evalue": "1 validation error for SimulationCampaignTemplate\nneuron_sets\n  Field required [type=missing, input_value={'initialize': Initializa...neuron_ids=(1, 2, 3)))}}, input_type=dict]\n    For further information visit https://errors.pydantic.dev/2.10/v/missing",
     "output_type": "error",
     "traceback": [
      "\u001b[0;31m---------------------------------------------------------------------------\u001b[0m",
      "\u001b[0;31mValidationError\u001b[0m                           Traceback (most recent call last)",
      "Cell \u001b[0;32mIn[1], line 19\u001b[0m\n\u001b[1;32m     16\u001b[0m stimulus_1 \u001b[38;5;241m=\u001b[39m obi\u001b[38;5;241m.\u001b[39mSynchronousSingleSpikeStimulus(spike_probability\u001b[38;5;241m=\u001b[39m[\u001b[38;5;241m0.5\u001b[39m, \u001b[38;5;241m0.8\u001b[39m], timestamps\u001b[38;5;241m=\u001b[39mtimestamps_1, synapse_set\u001b[38;5;241m=\u001b[39mid_synapse_set_1)\n\u001b[1;32m     17\u001b[0m recording_1 \u001b[38;5;241m=\u001b[39m obi\u001b[38;5;241m.\u001b[39mRecording(start_time\u001b[38;5;241m=\u001b[39m\u001b[38;5;241m0.0\u001b[39m, end_time\u001b[38;5;241m=\u001b[39m\u001b[38;5;241m1.0\u001b[39m, soma_intracellular_location_set\u001b[38;5;241m=\u001b[39msoma_intracellular_location_set_1)\n\u001b[0;32m---> 19\u001b[0m simulation_campaign_template \u001b[38;5;241m=\u001b[39m \u001b[43mobi\u001b[49m\u001b[38;5;241;43m.\u001b[39;49m\u001b[43mSimulationCampaignTemplate\u001b[49m\u001b[43m(\u001b[49m\n\u001b[1;32m     20\u001b[0m \u001b[43m                                    \u001b[49m\u001b[43minitialize\u001b[49m\u001b[38;5;241;43m=\u001b[39;49m\u001b[43msimulation_initialization\u001b[49m\u001b[43m,\u001b[49m\n\u001b[1;32m     21\u001b[0m \n\u001b[1;32m     22\u001b[0m \u001b[43m                                    \u001b[49m\u001b[43mintracellular_location_sets\u001b[49m\u001b[38;5;241;43m=\u001b[39;49m\u001b[43m{\u001b[49m\u001b[38;5;124;43m\"\u001b[39;49m\u001b[38;5;124;43msoma_intracellular_location_set_1\u001b[39;49m\u001b[38;5;124;43m\"\u001b[39;49m\u001b[43m:\u001b[49m\u001b[43m \u001b[49m\u001b[43msoma_intracellular_location_set_1\u001b[49m\u001b[43m}\u001b[49m\u001b[43m,\u001b[49m\n\u001b[1;32m     23\u001b[0m \u001b[43m                                    \u001b[49m\u001b[43mextracellular_location_sets\u001b[49m\u001b[38;5;241;43m=\u001b[39;49m\u001b[43m{\u001b[49m\u001b[38;5;124;43m\"\u001b[39;49m\u001b[38;5;124;43mxyz_extracellular_location_set_1\u001b[39;49m\u001b[38;5;124;43m\"\u001b[39;49m\u001b[43m:\u001b[49m\u001b[43m \u001b[49m\u001b[43mxyz_extracellular_location_set_1\u001b[49m\u001b[43m}\u001b[49m\u001b[43m,\u001b[49m\n\u001b[1;32m     24\u001b[0m \n\u001b[1;32m     25\u001b[0m \u001b[43m                                    \u001b[49m\u001b[43msynapse_sets\u001b[49m\u001b[38;5;241;43m=\u001b[39;49m\u001b[43m{\u001b[49m\u001b[38;5;124;43m\"\u001b[39;49m\u001b[38;5;124;43mid_synapse_set_1\u001b[39;49m\u001b[38;5;124;43m\"\u001b[39;49m\u001b[43m:\u001b[49m\u001b[43m \u001b[49m\u001b[43mid_synapse_set_1\u001b[49m\u001b[43m}\u001b[49m\u001b[43m,\u001b[49m\n\u001b[1;32m     26\u001b[0m \n\u001b[1;32m     27\u001b[0m \u001b[43m                                    \u001b[49m\u001b[43mtimestamps\u001b[49m\u001b[38;5;241;43m=\u001b[39;49m\u001b[43m{\u001b[49m\u001b[38;5;124;43m\"\u001b[39;49m\u001b[38;5;124;43mtimestamps_1\u001b[39;49m\u001b[38;5;124;43m\"\u001b[39;49m\u001b[43m:\u001b[49m\u001b[43m \u001b[49m\u001b[43mtimestamps_1\u001b[49m\u001b[43m}\u001b[49m\u001b[43m,\u001b[49m\u001b[43m \u001b[49m\n\u001b[1;32m     28\u001b[0m \u001b[43m                                    \u001b[49m\u001b[43mstimuli\u001b[49m\u001b[38;5;241;43m=\u001b[39;49m\u001b[43m{\u001b[49m\u001b[38;5;124;43m\"\u001b[39;49m\u001b[38;5;124;43mstimulus_1\u001b[39;49m\u001b[38;5;124;43m\"\u001b[39;49m\u001b[43m:\u001b[49m\u001b[43m \u001b[49m\u001b[43mstimulus_1\u001b[49m\u001b[43m}\u001b[49m\u001b[43m,\u001b[49m\u001b[43m \u001b[49m\n\u001b[1;32m     29\u001b[0m \u001b[43m                                    \u001b[49m\u001b[43mrecordings\u001b[49m\u001b[38;5;241;43m=\u001b[39;49m\u001b[43m{\u001b[49m\u001b[38;5;124;43m\"\u001b[39;49m\u001b[38;5;124;43mrecording_1\u001b[39;49m\u001b[38;5;124;43m\"\u001b[39;49m\u001b[43m:\u001b[49m\u001b[43m \u001b[49m\u001b[43mrecording_1\u001b[49m\u001b[43m}\u001b[49m\u001b[43m,\u001b[49m\n\u001b[1;32m     30\u001b[0m \u001b[43m                                    \u001b[49m\u001b[43m)\u001b[49m\n\u001b[1;32m     32\u001b[0m simulation_campaign \u001b[38;5;241m=\u001b[39m obi\u001b[38;5;241m.\u001b[39mSimulationCampaign(template_instance\u001b[38;5;241m=\u001b[39msimulation_campaign_template)\n",
      "File \u001b[0;32m~/Documents/obi/code/pydantic_test-venv-3-11--6-2-25/lib/python3.11/site-packages/pydantic/main.py:214\u001b[0m, in \u001b[0;36mBaseModel.__init__\u001b[0;34m(self, **data)\u001b[0m\n\u001b[1;32m    212\u001b[0m \u001b[38;5;66;03m# `__tracebackhide__` tells pytest and some other tools to omit this function from tracebacks\u001b[39;00m\n\u001b[1;32m    213\u001b[0m __tracebackhide__ \u001b[38;5;241m=\u001b[39m \u001b[38;5;28;01mTrue\u001b[39;00m\n\u001b[0;32m--> 214\u001b[0m validated_self \u001b[38;5;241m=\u001b[39m \u001b[38;5;28;43mself\u001b[39;49m\u001b[38;5;241;43m.\u001b[39;49m\u001b[43m__pydantic_validator__\u001b[49m\u001b[38;5;241;43m.\u001b[39;49m\u001b[43mvalidate_python\u001b[49m\u001b[43m(\u001b[49m\u001b[43mdata\u001b[49m\u001b[43m,\u001b[49m\u001b[43m \u001b[49m\u001b[43mself_instance\u001b[49m\u001b[38;5;241;43m=\u001b[39;49m\u001b[38;5;28;43mself\u001b[39;49m\u001b[43m)\u001b[49m\n\u001b[1;32m    215\u001b[0m \u001b[38;5;28;01mif\u001b[39;00m \u001b[38;5;28mself\u001b[39m \u001b[38;5;129;01mis\u001b[39;00m \u001b[38;5;129;01mnot\u001b[39;00m validated_self:\n\u001b[1;32m    216\u001b[0m     warnings\u001b[38;5;241m.\u001b[39mwarn(\n\u001b[1;32m    217\u001b[0m         \u001b[38;5;124m'\u001b[39m\u001b[38;5;124mA custom validator is returning a value other than `self`.\u001b[39m\u001b[38;5;130;01m\\n\u001b[39;00m\u001b[38;5;124m'\u001b[39m\n\u001b[1;32m    218\u001b[0m         \u001b[38;5;124m\"\u001b[39m\u001b[38;5;124mReturning anything other than `self` from a top level model validator isn\u001b[39m\u001b[38;5;124m'\u001b[39m\u001b[38;5;124mt supported when validating via `__init__`.\u001b[39m\u001b[38;5;130;01m\\n\u001b[39;00m\u001b[38;5;124m\"\u001b[39m\n\u001b[1;32m    219\u001b[0m         \u001b[38;5;124m'\u001b[39m\u001b[38;5;124mSee the `model_validator` docs (https://docs.pydantic.dev/latest/concepts/validators/#model-validators) for more details.\u001b[39m\u001b[38;5;124m'\u001b[39m,\n\u001b[1;32m    220\u001b[0m         stacklevel\u001b[38;5;241m=\u001b[39m\u001b[38;5;241m2\u001b[39m,\n\u001b[1;32m    221\u001b[0m     )\n",
      "\u001b[0;31mValidationError\u001b[0m: 1 validation error for SimulationCampaignTemplate\nneuron_sets\n  Field required [type=missing, input_value={'initialize': Initializa...neuron_ids=(1, 2, 3)))}}, input_type=dict]\n    For further information visit https://errors.pydantic.dev/2.10/v/missing"
     ]
    }
   ],
   "source": [
    "import obi\n",
    "\n",
    "simulation_initialization = obi.Simulation.Initialization(\n",
    "    circuit=obi.Circuit(circuit_path=\"circuit_1\", node_set='hex0'),\n",
    "    simulation_length=100\n",
    ")\n",
    "soma_intracellular_location_set_1 = obi.SomaIntracellularLocationSet(circuit=simulation_initialization.circuit, neuron_ids=(1, 2, 3))\n",
    "# xyz_extracellular_location_set_1 = obi.XYZExtracellularLocationSet(circuit=simulation_initialization.circuit, xyz_locations=[(0.9, 0.2, 0.3), (0.1, 0.1, 0.3)])\n",
    "xyz_extracellular_location_set_1 = obi.XYZExtracellularLocationSet(circuit=simulation_initialization.circuit, xyz_locations=((0.9, 0.2, 0.3), (0.1, 0.1, 0.3)))\n",
    "\n",
    "id_neuron_set_1 = obi.IDNeuronSet(circuit=simulation_initialization.circuit, neuron_ids=(1, 2, 3))\n",
    "id_synapse_set_1 = obi.IDSynapseSet(circuit=simulation_initialization.circuit, synapse_ids=(1, 2, 3))\n",
    "\n",
    "\n",
    "timestamps_1 = obi.RegularTimestamps(start_time=0.0, number_of_repetitions=1, interval=[1.0, 5.0])\n",
    "stimulus_1 = obi.SynchronousSingleSpikeStimulus(spike_probability=[0.5, 0.8], timestamps=timestamps_1, synapse_set=id_synapse_set_1)\n",
    "recording_1 = obi.Recording(start_time=0.0, end_time=1.0, soma_intracellular_location_set=soma_intracellular_location_set_1)\n",
    "\n",
    "simulation_campaign_template = obi.SimulationCampaignTemplate(\n",
    "                                    initialize=simulation_initialization,\n",
    "\n",
    "                                    intracellular_location_sets={\"soma_intracellular_location_set_1\": soma_intracellular_location_set_1},\n",
    "                                    extracellular_location_sets={\"xyz_extracellular_location_set_1\": xyz_extracellular_location_set_1},\n",
    "\n",
    "                                    neuron_sets={\"id_neuron_set_1\": id_neuron_set_1},\n",
    "                                    synapse_sets={\"id_synapse_set_1\": id_synapse_set_1},\n",
    "\n",
    "                                    timestamps={\"timestamps_1\": timestamps_1}, \n",
    "                                    stimuli={\"stimulus_1\": stimulus_1}, \n",
    "                                    recordings={\"recording_1\": recording_1},\n",
    "                                    )\n",
    "\n",
    "simulation_campaign = obi.SimulationCampaign(template_instance=simulation_campaign_template)\n",
    "\n"
   ]
  },
  {
   "cell_type": "code",
   "execution_count": null,
   "metadata": {},
   "outputs": [
    {
     "name": "stdout",
     "output_type": "stream",
     "text": [
      "{'timestamps.timestamps_1.interval': {'coord_param_keys': ['timestamps', 'timestamps_1', 'interval'], 'coord_param_values': [1.0, 5.0]}, 'stimuli.stimulus_1.spike_probability': {'coord_param_keys': ['stimuli', 'stimulus_1', 'spike_probability'], 'coord_param_values': [0.5, 0.8]}}\n"
     ]
    }
   ],
   "source": [
    "# print(simulation_campaign.coord_instances)\n",
    "# print(simulation_campaign_template.multi_params)\n",
    "# print(simulation_campaign_template.generate_grid_scan_coords())\n",
    "\n",
    "# simulation_campaign.write_simulation_sonata_configs('../simulation_configs')\n"
   ]
  },
  {
   "cell_type": "code",
   "execution_count": null,
   "metadata": {},
   "outputs": [],
   "source": []
  }
 ],
 "metadata": {
  "kernelspec": {
   "display_name": "pydantic_test-venv-3-11--6-2-25",
   "language": "python",
   "name": "python3"
  },
  "language_info": {
   "codemirror_mode": {
    "name": "ipython",
    "version": 3
   },
   "file_extension": ".py",
   "mimetype": "text/x-python",
   "name": "python",
   "nbconvert_exporter": "python",
   "pygments_lexer": "ipython3",
   "version": "3.11.11"
  }
 },
 "nbformat": 4,
 "nbformat_minor": 2
}
