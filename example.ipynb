{
 "cells": [
  {
   "cell_type": "code",
   "execution_count": 1,
   "metadata": {},
   "outputs": [
    {
     "ename": "ModuleNotFoundError",
     "evalue": "No module named 'obi.modeling.core.parameter_scan'",
     "output_type": "error",
     "traceback": [
      "\u001b[0;31m---------------------------------------------------------------------------\u001b[0m",
      "\u001b[0;31mModuleNotFoundError\u001b[0m                       Traceback (most recent call last)",
      "Cell \u001b[0;32mIn[1], line 1\u001b[0m\n\u001b[0;32m----> 1\u001b[0m \u001b[38;5;28;01mimport\u001b[39;00m\u001b[38;5;250m \u001b[39m\u001b[38;5;21;01mobi\u001b[39;00m\n\u001b[1;32m      3\u001b[0m simulation_initialization \u001b[38;5;241m=\u001b[39m obi\u001b[38;5;241m.\u001b[39mSimulationsForm\u001b[38;5;241m.\u001b[39mInitialization(\n\u001b[1;32m      4\u001b[0m     circuit\u001b[38;5;241m=\u001b[39mobi\u001b[38;5;241m.\u001b[39mCircuit(circuit_path\u001b[38;5;241m=\u001b[39m\u001b[38;5;124m\"\u001b[39m\u001b[38;5;124mcircuit_1\u001b[39m\u001b[38;5;124m\"\u001b[39m, node_set\u001b[38;5;241m=\u001b[39m\u001b[38;5;124m'\u001b[39m\u001b[38;5;124mhex0\u001b[39m\u001b[38;5;124m'\u001b[39m),\n\u001b[1;32m      5\u001b[0m     simulation_length\u001b[38;5;241m=\u001b[39m[\u001b[38;5;241m100\u001b[39m, \u001b[38;5;241m500\u001b[39m]\n\u001b[1;32m      6\u001b[0m )\n\u001b[1;32m      7\u001b[0m intracellular_location_set_1 \u001b[38;5;241m=\u001b[39m obi\u001b[38;5;241m.\u001b[39mIntracellularLocationSet(circuit\u001b[38;5;241m=\u001b[39msimulation_initialization\u001b[38;5;241m.\u001b[39mcircuit, neuron_ids\u001b[38;5;241m=\u001b[39m(\u001b[38;5;241m1\u001b[39m, \u001b[38;5;241m2\u001b[39m, \u001b[38;5;241m3\u001b[39m), section\u001b[38;5;241m=\u001b[39m\u001b[38;5;124m'\u001b[39m\u001b[38;5;124msoma\u001b[39m\u001b[38;5;124m'\u001b[39m)\n",
      "File \u001b[0;32m~/Documents/obi/code/ScientificProposal-OBISDK-RepoPlatformIntegration/obi/__init__.py:14\u001b[0m\n\u001b[1;32m     12\u001b[0m \u001b[38;5;28;01mfrom\u001b[39;00m\u001b[38;5;250m \u001b[39m\u001b[38;5;21;01m.\u001b[39;00m\u001b[38;5;21;01mmodeling\u001b[39;00m\u001b[38;5;21;01m.\u001b[39;00m\u001b[38;5;21;01msimulation\u001b[39;00m\u001b[38;5;21;01m.\u001b[39;00m\u001b[38;5;21;01mstimulus\u001b[39;00m\u001b[38;5;250m \u001b[39m\u001b[38;5;28;01mimport\u001b[39;00m Stimulus, SynchronousSingleSpikeStimulus\n\u001b[1;32m     13\u001b[0m \u001b[38;5;28;01mfrom\u001b[39;00m\u001b[38;5;250m \u001b[39m\u001b[38;5;21;01m.\u001b[39;00m\u001b[38;5;21;01mmodeling\u001b[39;00m\u001b[38;5;21;01m.\u001b[39;00m\u001b[38;5;21;01msimulation\u001b[39;00m\u001b[38;5;21;01m.\u001b[39;00m\u001b[38;5;21;01mrecording\u001b[39;00m\u001b[38;5;250m \u001b[39m\u001b[38;5;28;01mimport\u001b[39;00m Recording, SpikeRecording, IntracellularLocationSetVoltageRecording, ExtraceullarLocationSetVoltageRecording\n\u001b[0;32m---> 14\u001b[0m \u001b[38;5;28;01mfrom\u001b[39;00m\u001b[38;5;250m \u001b[39m\u001b[38;5;21;01m.\u001b[39;00m\u001b[38;5;21;01mmodeling\u001b[39;00m\u001b[38;5;21;01m.\u001b[39;00m\u001b[38;5;21;01msimulation\u001b[39;00m\u001b[38;5;21;01m.\u001b[39;00m\u001b[38;5;21;01msimulations\u001b[39;00m\u001b[38;5;250m \u001b[39m\u001b[38;5;28;01mimport\u001b[39;00m SimulationsForm, Simulation \n\u001b[1;32m     16\u001b[0m \u001b[38;5;28;01mfrom\u001b[39;00m\u001b[38;5;250m \u001b[39m\u001b[38;5;21;01m.\u001b[39;00m\u001b[38;5;21;01mmodeling\u001b[39;00m\u001b[38;5;21;01m.\u001b[39;00m\u001b[38;5;21;01mcircuit_extraction\u001b[39;00m\u001b[38;5;21;01m.\u001b[39;00m\u001b[38;5;21;01mcircuit_extraction\u001b[39;00m\u001b[38;5;250m \u001b[39m\u001b[38;5;28;01mimport\u001b[39;00m CircuitExtractions, CircuitExtraction\n",
      "File \u001b[0;32m~/Documents/obi/code/ScientificProposal-OBISDK-RepoPlatformIntegration/obi/modeling/simulation/simulations.py:2\u001b[0m\n\u001b[1;32m      1\u001b[0m \u001b[38;5;28;01mfrom\u001b[39;00m\u001b[38;5;250m \u001b[39m\u001b[38;5;21;01m.\u001b[39;00m\u001b[38;5;21;01m.\u001b[39;00m\u001b[38;5;21;01mcore\u001b[39;00m\u001b[38;5;21;01m.\u001b[39;00m\u001b[38;5;21;01mform\u001b[39;00m\u001b[38;5;250m \u001b[39m\u001b[38;5;28;01mimport\u001b[39;00m Form, Block, SingleTypeMixin\n\u001b[0;32m----> 2\u001b[0m \u001b[38;5;28;01mfrom\u001b[39;00m\u001b[38;5;250m \u001b[39m\u001b[38;5;21;01m.\u001b[39;00m\u001b[38;5;21;01m.\u001b[39;00m\u001b[38;5;21;01mcore\u001b[39;00m\u001b[38;5;21;01m.\u001b[39;00m\u001b[38;5;21;01mparameter_scan\u001b[39;00m\u001b[38;5;250m \u001b[39m\u001b[38;5;28;01mimport\u001b[39;00m Scan\n\u001b[1;32m      4\u001b[0m \u001b[38;5;28;01mfrom\u001b[39;00m\u001b[38;5;250m \u001b[39m\u001b[38;5;21;01m.\u001b[39;00m\u001b[38;5;21;01m.\u001b[39;00m\u001b[38;5;21;01mcircuit\u001b[39;00m\u001b[38;5;21;01m.\u001b[39;00m\u001b[38;5;21;01mcircuit\u001b[39;00m\u001b[38;5;250m \u001b[39m\u001b[38;5;28;01mimport\u001b[39;00m Circuit\n\u001b[1;32m      5\u001b[0m \u001b[38;5;28;01mfrom\u001b[39;00m\u001b[38;5;250m \u001b[39m\u001b[38;5;21;01m.\u001b[39;00m\u001b[38;5;21;01m.\u001b[39;00m\u001b[38;5;21;01mcircuit\u001b[39;00m\u001b[38;5;21;01m.\u001b[39;00m\u001b[38;5;21;01mneuron_sets\u001b[39;00m\u001b[38;5;250m \u001b[39m\u001b[38;5;28;01mimport\u001b[39;00m NeuronSet\n",
      "\u001b[0;31mModuleNotFoundError\u001b[0m: No module named 'obi.modeling.core.parameter_scan'"
     ]
    }
   ],
   "source": [
    "import obi\n",
    "\n",
    "simulation_initialization = obi.SimulationsForm.Initialization(\n",
    "    circuit=obi.Circuit(circuit_path=\"circuit_1\", node_set='hex0'),\n",
    "    simulation_length=[100, 500]\n",
    ")\n",
    "intracellular_location_set_1 = obi.IntracellularLocationSet(circuit=simulation_initialization.circuit, neuron_ids=(1, 2, 3), section='soma')\n",
    "xyz_extracellular_location_set_1 = obi.XYZExtracellularLocationSet(circuit=simulation_initialization.circuit, xyz_locations=((0.9, 0.2, 0.3), (0.1, 0.1, 0.3)))\n",
    "\n",
    "id_neuron_set_1 = obi.IDNeuronSet(circuit=simulation_initialization.circuit, neuron_ids=(1, 2, 3))\n",
    "id_synapse_set_1 = obi.IDSynapseSet(circuit=simulation_initialization.circuit, synapse_ids=(1, 2, 3))\n",
    "\n",
    "timestamps_1 = obi.RegularTimestamps(start_time=0.0, number_of_repetitions=1, interval=[1.0, 5.0])\n",
    "stimulus_1 = obi.SynchronousSingleSpikeStimulus(spike_probability=[0.5, 0.8], timestamps=timestamps_1, synapse_set=id_synapse_set_1)\n",
    "recording_1 = obi.IntracellularLocationSetVoltageRecording(start_time=0.0, end_time=1.0, intracellular_location_set=intracellular_location_set_1)\n",
    "\n",
    "simulations_form = obi.SimulationsForm(\n",
    "                                    initialize=simulation_initialization,\n",
    "\n",
    "                                    intracellular_location_sets={\"id_intracellular_location_set_1\": intracellular_location_set_1},\n",
    "                                    extracellular_location_sets={\"xyz_extracellular_location_set_1\": xyz_extracellular_location_set_1},\n",
    "\n",
    "                                    neuron_sets={\"id_neuron_set_1\": id_neuron_set_1},\n",
    "                                    synapse_sets={\"id_synapse_set_1\": id_synapse_set_1},\n",
    "\n",
    "                                    timestamps={\"timestamps_1\": timestamps_1}, \n",
    "                                    stimuli={\"stimulus_1\": stimulus_1}, \n",
    "                                    recordings={\"recording_1\": recording_1},\n",
    "                                    )\n",
    "\n",
    "grid_scan = obi.GridScan(form_instance=simulations_form)\n",
    "grid_scan.coord_instances\n",
    "\n",
    "# coupled_scan = obi.CoupledScan(Form_instance=simulations_form)\n"
   ]
  },
  {
   "cell_type": "code",
   "execution_count": null,
   "metadata": {},
   "outputs": [],
   "source": [
    "# print(simulation_scan_Form.recordings)\n",
    "\n",
    "# print(grid_scan.coord_instances[0].recordings)\n",
    "# print(simulation_scan_Form.multi_params)\n",
    "# print(simulation_scan_Form.generate_coupled_scan_coords())\n",
    "# print(simulation_scan_Form.generate_grid_scan_coords())\n",
    "\n",
    "# \n",
    "# print(coupled_scan.coord_instances)\n",
    "\n",
    "grid_scan.write_configs('../simulation_configs_GRID')\n",
    "# coupled_scan.write_configs('../simulation_configs_COUPLED_COORDS')\n"
   ]
  },
  {
   "cell_type": "code",
   "execution_count": null,
   "metadata": {},
   "outputs": [],
   "source": []
  }
 ],
 "metadata": {
  "kernelspec": {
   "display_name": ".venv",
   "language": "python",
   "name": "python3"
  },
  "language_info": {
   "codemirror_mode": {
    "name": "ipython",
    "version": 3
   },
   "file_extension": ".py",
   "mimetype": "text/x-python",
   "name": "python",
   "nbconvert_exporter": "python",
   "pygments_lexer": "ipython3",
   "version": "3.11.11"
  }
 },
 "nbformat": 4,
 "nbformat_minor": 2
}
