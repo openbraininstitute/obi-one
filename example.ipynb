{
 "cells": [
  {
   "cell_type": "code",
   "execution_count": 1,
   "metadata": {},
   "outputs": [],
   "source": [
    "import obi\n",
    "\n",
    "simulation_initialization = obi.Simulation.Initialization(\n",
    "    circuit=obi.Circuit(circuit_path=\"circuit_1\", node_set='hex0'),\n",
    "    simulation_length=100\n",
    ")\n",
    "intracellular_location_set_1 = obi.IntracellularLocationSet(circuit=simulation_initialization.circuit, neuron_ids=(1, 2, 3), section='soma')\n",
    "xyz_extracellular_location_set_1 = obi.XYZExtracellularLocationSet(circuit=simulation_initialization.circuit, xyz_locations=((0.9, 0.2, 0.3), (0.1, 0.1, 0.3)))\n",
    "\n",
    "id_neuron_set_1 = obi.IDNeuronSet(circuit=simulation_initialization.circuit, neuron_ids=(1, 2, 3))\n",
    "id_synapse_set_1 = obi.IDSynapseSet(circuit=simulation_initialization.circuit, synapse_ids=(1, 2, 3))\n",
    "\n",
    "timestamps_1 = obi.RegularTimestamps(start_time=0.0, number_of_repetitions=1, interval=[1.0, 5.0])\n",
    "stimulus_1 = obi.SynchronousSingleSpikeStimulus(spike_probability=[0.5, 0.8], timestamps=timestamps_1, synapse_set=id_synapse_set_1)\n",
    "recording_1 = obi.Recording(start_time=0.0, end_time=1.0, soma_intracellular_location_set=intracellular_location_set_1)\n",
    "\n",
    "simulation_parameter_scan_template = obi.SimulationParameterScanTemplate(\n",
    "                                    initialize=simulation_initialization,\n",
    "\n",
    "                                    intracellular_location_sets={\"id_intracellular_location_set_1\": intracellular_location_set_1},\n",
    "                                    extracellular_location_sets={\"xyz_extracellular_location_set_1\": xyz_extracellular_location_set_1},\n",
    "\n",
    "                                    neuron_sets={\"id_neuron_set_1\": id_neuron_set_1},\n",
    "                                    synapse_sets={\"id_synapse_set_1\": id_synapse_set_1},\n",
    "\n",
    "                                    timestamps={\"timestamps_1\": timestamps_1}, \n",
    "                                    stimuli={\"stimulus_1\": stimulus_1}, \n",
    "                                    recordings={\"recording_1\": recording_1},\n",
    "                                    )\n",
    "\n",
    "grid_parameter_scan = obi.GridParameterScan(template_instance=simulation_parameter_scan_template)\n",
    "\n"
   ]
  },
  {
   "cell_type": "code",
   "execution_count": 2,
   "metadata": {},
   "outputs": [
    {
     "name": "stdout",
     "output_type": "stream",
     "text": [
      "{'timestamps.timestamps_1.interval': {'coord_param_keys': ['timestamps', 'timestamps_1', 'interval'], 'coord_param_values': [1.0, 5.0]}, 'stimuli.stimulus_1.spike_probability': {'coord_param_keys': ['stimuli', 'stimulus_1', 'spike_probability'], 'coord_param_values': [0.5, 0.8]}}\n"
     ]
    }
   ],
   "source": [
    "# print(grid_parameter_scan.coord_instances)\n",
    "print(simulation_parameter_scan_template.multi_params)\n",
    "# print(simulation_parameter_scan_template.generate_grid_scan_coords())\n",
    "\n",
    "# grid_parameter_scan.write_simulation_sonata_configs('../simulation_configs')\n"
   ]
  },
  {
   "cell_type": "code",
   "execution_count": null,
   "metadata": {},
   "outputs": [],
   "source": []
  }
 ],
 "metadata": {
  "kernelspec": {
   "display_name": "pydantic_test-venv-3-11--6-2-25",
   "language": "python",
   "name": "python3"
  },
  "language_info": {
   "codemirror_mode": {
    "name": "ipython",
    "version": 3
   },
   "file_extension": ".py",
   "mimetype": "text/x-python",
   "name": "python",
   "nbconvert_exporter": "python",
   "pygments_lexer": "ipython3",
   "version": "3.11.11"
  }
 },
 "nbformat": 4,
 "nbformat_minor": 2
}
