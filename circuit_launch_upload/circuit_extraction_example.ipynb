{
 "cells": [
  {
   "cell_type": "code",
   "execution_count": 1,
   "metadata": {},
   "outputs": [],
   "source": [
    "import obi\n",
    "\n",
    "circuit_extractions_form = obi.CircuitExtractions(\n",
    "                    initialize=obi.CircuitExtractions.Initialize(\n",
    "                        circuit_path=\"/Users/james/Documents/obi/additional_data/O1_data/O1_data/circuit_config.json\",\n",
    "                        node_set=[\"hex0_layer1\", \"hex1_layer1\"]\n",
    "                    )\n",
    ")\n",
    "\n",
    "\n",
    "\n",
    "grid_scan = obi.GridScan(form=circuit_extractions_form, output_root='/Users/james/Documents/obi/additional_data/O1_extracted_subcircuits')\n",
    "grid_scan.run()"
   ]
  },
  {
   "cell_type": "code",
   "execution_count": null,
   "metadata": {},
   "outputs": [],
   "source": [
    "# Display the intermediary data\n",
    "grid_scan.multiple_value_parameters(display=True)\n",
    "grid_scan.coordinate_parameters(display=True)\n",
    "grid_scan.coordinate_instances(display=True)"
   ]
  },
  {
   "cell_type": "markdown",
   "metadata": {},
   "source": []
  }
 ],
 "metadata": {
  "kernelspec": {
   "display_name": ".venv",
   "language": "python",
   "name": "python3"
  },
  "language_info": {
   "codemirror_mode": {
    "name": "ipython",
    "version": 3
   },
   "file_extension": ".py",
   "mimetype": "text/x-python",
   "name": "python",
   "nbconvert_exporter": "python",
   "pygments_lexer": "ipython3",
   "version": "3.11.11"
  }
 },
 "nbformat": 4,
 "nbformat_minor": 2
}
