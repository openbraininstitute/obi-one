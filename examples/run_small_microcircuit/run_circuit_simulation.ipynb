{
 "cells": [
  {
   "cell_type": "markdown",
   "id": "67c231aa",
   "metadata": {},
   "source": [
    "\n",
    "Circuit Simulation Example with OBI-One\n",
    "======================================\n",
    "\n",
    "This script demonstrates how to run circuit simulations using the OBI-One simulation framework\n",
    "with [BlueCelluLab](https://github.com/openbraininstitute/BlueCelluLab) as the simulator. Let's get the path to the simulation configuration and circuit configuration file paths and the population name of the circuit that you want to simulate.\n",
    "\n",
    "For now, we will not use the pre-made `simulation_config.json` (simulation configuration) file instead of the one created by obi-one."
   ]
  },
  {
   "cell_type": "code",
   "execution_count": null,
   "id": "89a912e4",
   "metadata": {},
   "outputs": [],
   "source": [
    "population_name = \"S1nonbarrel_neurons\"\n",
    "circuit_config_path = \"../data/tiny_circuits/N_10__top_nodes_dim6__asc/circuit_config.json\"\n",
    "simulation_config_path = \"../data/tiny_circuits/N_10__top_nodes_dim6__asc/simulation_config.json\""
   ]
  },
  {
   "cell_type": "markdown",
   "id": "ddb7b307",
   "metadata": {},
   "source": [
    "Get the path to the mod files and compile the mod files. "
   ]
  },
  {
   "cell_type": "code",
   "execution_count": null,
   "id": "0261e76d",
   "metadata": {},
   "outputs": [],
   "source": [
    "circuit_folder = \"../data/tiny_circuits/N_10__top_nodes_dim6__asc\"\n",
    "!nrnivmodl {circuit_folder}/mod"
   ]
  },
  {
   "cell_type": "markdown",
   "id": "c3164966",
   "metadata": {},
   "source": [
    "Import required modules from obi-one"
   ]
  },
  {
   "cell_type": "code",
   "execution_count": null,
   "id": "771ae948",
   "metadata": {},
   "outputs": [],
   "source": [
    "\n",
    "from obi_one.scientific.simulation.simulations import Simulation\n",
    "# The imports below will be used when simulation config is created using obi-one\n",
    "from obi_one.scientific.simulation.stimulus import ConstantCurrentClampSomaticStimulus\n",
    "from obi_one.scientific.simulation.recording import SomaVoltageRecording\n",
    "from obi_one.scientific.simulation.timestamps import RegularTimestamps\n",
    "from obi_one.scientific.circuit.neuron_sets import IDNeuronSet\n",
    "from obi_one.core.tuple import NamedTuple\n",
    "from obi_one.scientific.unions.unions_neuron_sets import NeuronSetReference\n",
    "from obi_one.scientific.unions.unions_timestamps import TimestampsReference"
   ]
  },
  {
   "cell_type": "markdown",
   "id": "990de79b",
   "metadata": {},
   "source": [
    "Create the `Simulation` "
   ]
  },
  {
   "cell_type": "code",
   "execution_count": null,
   "id": "33366201",
   "metadata": {},
   "outputs": [],
   "source": [
    "# Create regular timestamps with start, end, and dt\n",
    "timestamps = RegularTimestamps(\n",
    "    number_of_repetitions=1, \n",
    "    interval=100.0,  # ms\n",
    "    start_time=0.0,  # ms\n",
    "    end_time=100.0,  # ms\n",
    "    dt=0.1,          # ms\n",
    "    simulation_level_name=\"timestamps_1\"\n",
    ")\n",
    "\n",
    "# Create a NamedTuple with the neuron IDs\n",
    "neuron_ids = NamedTuple(name=\"neuron_ids\", elements=[1, 2, 3])  # List of cell IDs to include\n",
    "\n",
    "# Create neuron set using IDNeuronSet\n",
    "neuron_set = IDNeuronSet(\n",
    "    population=population_name,\n",
    "    neuron_ids=neuron_ids,\n",
    "    simulation_level_name=\"neuron_set_1\"\n",
    ")\n",
    "\n",
    "# First, create the timestamps reference\n",
    "timestamps_ref = TimestampsReference(block=timestamps, block_name=\"timestamps_1\")\n",
    "\n",
    "# Then create the stimulus with the reference\n",
    "stimulus = ConstantCurrentClampSomaticStimulus(\n",
    "    timestamps=timestamps_ref,\n",
    "    delay=10.0,  # ms\n",
    "    duration=50.0,  # ms\n",
    "    amplitude=0.1,  # nA\n",
    "    neuron_set=NeuronSetReference(block=neuron_set, block_name=\"neuron_set_1\"),\n",
    "    simulation_level_name=\"stimulus_1\"\n",
    ")\n",
    "# Create recordings (example with voltage recording)\n",
    "recording = SomaVoltageRecording(\n",
    "    start_time=0.0,\n",
    "    end_time=100.0,\n",
    "    dt=0.1,\n",
    "    neuron_set=NeuronSetReference(block=neuron_set, block_name=\"neuron_set_1\"),\n",
    "    simulation_level_name=\"voltage_recording_1\"\n",
    ")\n",
    "\n",
    "from obi_one.scientific.circuit.circuit import Circuit\n",
    "\n",
    "# First create the circuit object\n",
    "circuit = Circuit(\n",
    "    name=\"N_10__top_nodes_dim6__asc\",\n",
    "    path=circuit_config_path,\n",
    "    node_population=population_name,\n",
    ")\n",
    "\n",
    "from obi_one.core.info import Info\n",
    "# Create info object\n",
    "simulation_info = Info(\n",
    "    name=\"N_10__top_nodes_dim6__asc Simulation\",\n",
    "    description=\"A test simulation with a small microcircuit\",\n",
    "    author=\"Darshan Mandge\",\n",
    "    version=\"0.0.1\"\n",
    ")\n",
    "\n",
    "# Then use it in the simulation initialization\n",
    "simulation = Simulation(\n",
    "    name=\"simulation_1\",\n",
    "    info=simulation_info,\n",
    "    timestamps={\"timestamps_1\": timestamps},  # Make sure this matches the block_name\n",
    "    stimuli={\"stimulus_1\": stimulus},\n",
    "    recordings={\"voltage_recording_1\": recording},\n",
    "    neuron_sets={\"neuron_set_1\": neuron_set},\n",
    "    initialize={\n",
    "        \"circuit\": circuit,\n",
    "        \"simulation_length\": 100.0,  # ms\n",
    "        \"node_set\": NeuronSetReference(block=neuron_set, block_name=\"neuron_set_1\"),\n",
    "        \"timestep\": 0.025  # ms\n",
    "    }\n",
    ")"
   ]
  },
  {
   "cell_type": "markdown",
   "id": "2ceaa610",
   "metadata": {},
   "source": [
    "If you want to generate configuration uncomment the cell below."
   ]
  },
  {
   "cell_type": "code",
   "execution_count": null,
   "id": "ccc178a6",
   "metadata": {},
   "outputs": [],
   "source": [
    "# 6. Generate the simulation configuration\n",
    "# simulation.generate()"
   ]
  },
  {
   "cell_type": "markdown",
   "id": "111415f5",
   "metadata": {},
   "source": [
    "Provide a list of gid (cells ids) from the circuit to simulate"
   ]
  },
  {
   "cell_type": "code",
   "execution_count": null,
   "id": "24d52af0",
   "metadata": {},
   "outputs": [],
   "source": [
    "\n",
    "gids_to_simulate = [0,1,2,3,4,5,6,7,8,9]"
   ]
  },
  {
   "cell_type": "markdown",
   "id": "d33570c2",
   "metadata": {},
   "source": [
    "We pass `cell_ids` as list of of gid `(population_name, gid)`"
   ]
  },
  {
   "cell_type": "code",
   "execution_count": null,
   "id": "5a90cbe1",
   "metadata": {},
   "outputs": [],
   "source": [
    "# create for each gid (population_name, gid)\n",
    "# cell_ids is list of these tuples\n",
    "cell_ids = []\n",
    "for gid in gids_to_simulate:\n",
    "    cell_ids.append((population_name, gid))\n",
    "    "
   ]
  },
  {
   "cell_type": "markdown",
   "id": "0208f8ce",
   "metadata": {},
   "source": [
    "Run circuit simulation using BlueCelluLab backend. In future, we will support Neurodamus backend as well. This will run a SONATA simulation and save voltage traces for the specified cells.  "
   ]
  },
  {
   "cell_type": "code",
   "execution_count": null,
   "id": "225d3e9e",
   "metadata": {},
   "outputs": [],
   "source": [
    "# Run the simulation\n",
    "simulation.run(\n",
    "    simulation_config=simulation_config_path,\n",
    "    cell_ids=cell_ids,\n",
    "    simulator=\"bluecellulab\", \n",
    "    results_dir=None, # optional. Else, will use simulation_config's manifest\n",
    "    save_nwb=True)"
   ]
  },
  {
   "cell_type": "markdown",
   "id": "9a852052",
   "metadata": {},
   "source": [
    "### Spike Report Analysis using BluePySnap\n",
    "\n",
    "We will use the example [notebook](https://github.com/openbraininstitute/snap/blob/master/doc/source/notebooks/06_spike_reports.ipynb) from BluePySnap to analyse the spike report generated by the circuit simulation."
   ]
  },
  {
   "cell_type": "code",
   "execution_count": null,
   "id": "2217d2c0",
   "metadata": {},
   "outputs": [],
   "source": [
    "import bluepysnap\n",
    "\n",
    "simulation = bluepysnap.Simulation(simulation_config_path)\n",
    "spikes = simulation.spikes\n",
    "print(\n",
    "    spikes.time_start,\n",
    "    spikes.time_stop, \n",
    "    spikes.dt\n",
    ")\n",
    "print(spikes.population_names)"
   ]
  },
  {
   "cell_type": "code",
   "execution_count": null,
   "id": "cfbf0271",
   "metadata": {},
   "outputs": [],
   "source": [
    "spike_pop = spikes['S1nonbarrel_neurons']\n",
    "print(type(spike_pop))\n",
    "\n",
    "node_population = spike_pop.nodes\n",
    "print(f'{node_population.name}: {type(node_population)}')"
   ]
  },
  {
   "cell_type": "markdown",
   "id": "bf7e057f",
   "metadata": {},
   "source": [
    "ids = spike_pop.node_ids\n",
    "node_population.get(ids, properties=['layer','synapse_class','x','y','z']).head()"
   ]
  },
  {
   "cell_type": "code",
   "execution_count": null,
   "id": "575074f4",
   "metadata": {},
   "outputs": [],
   "source": [
    "filtered = spikes.filter(group={'layer':'6'}, t_start=spikes.time_start, t_stop=spikes.time_stop)\n",
    "filtered.report.head()"
   ]
  },
  {
   "cell_type": "code",
   "execution_count": null,
   "id": "42df73fb",
   "metadata": {},
   "outputs": [],
   "source": [
    "filtered.raster();"
   ]
  },
  {
   "cell_type": "code",
   "execution_count": null,
   "id": "f9bde80d",
   "metadata": {},
   "outputs": [],
   "source": [
    "filtered.firing_rate_histogram();"
   ]
  },
  {
   "cell_type": "code",
   "execution_count": null,
   "id": "6e06a3ac",
   "metadata": {},
   "outputs": [],
   "source": [
    "import matplotlib.pyplot as plt\n",
    "import numpy as np\n",
    "\n",
    "ax = plt.gca()\n",
    "ax.set_xlabel(\"Time [ms]\")\n",
    "ax.set_ylabel(\"PSTH [Hz]\")\n",
    "ax.set_title(f\"PSTH for group: {filtered.group}\")\n",
    "\n",
    "times = filtered.report.index\n",
    "\n",
    "time_start = np.min(times)\n",
    "time_stop = np.max(times)\n",
    "\n",
    "# heuristic for a nice bin size (~100 spikes per bin on average)\n",
    "time_binsize = min(50.0, (time_stop - time_start) / ((len(times) / 100.0) + 1.0))\n",
    "\n",
    "bins = np.append(np.arange(time_start, time_stop, time_binsize), time_stop)\n",
    "hist, bin_edges = np.histogram(times, bins=bins)\n",
    "node_count = len(simulation.circuit.nodes.ids(filtered.group))  # Get length of node ids for whole `group`\n",
    "freq = 1.0 * hist / node_count / (0.001 * time_binsize)\n",
    "\n",
    "# use the middle of the bins instead of the start of the bin\n",
    "ax.plot(0.5 * (bin_edges[1:] + bin_edges[:-1]), freq, label=\"PSTH\", drawstyle=\"steps-mid\");"
   ]
  },
  {
   "cell_type": "code",
   "execution_count": null,
   "id": "7891799c",
   "metadata": {},
   "outputs": [],
   "source": [
    "spikes.filter().raster();"
   ]
  },
  {
   "cell_type": "code",
   "execution_count": null,
   "id": "97fd63f2",
   "metadata": {},
   "outputs": [],
   "source": [
    "spikes.filter().raster(y_axis='etype');"
   ]
  },
  {
   "cell_type": "code",
   "execution_count": null,
   "id": "16834d60",
   "metadata": {},
   "outputs": [],
   "source": [
    "spikes.filter().isi(binsize=100);"
   ]
  },
  {
   "cell_type": "markdown",
   "id": "f9d38e72",
   "metadata": {},
   "source": [
    "### Soma Report Analysis\n",
    "\n",
    "Let's [load](https://github.com/openbraininstitute/snap/blob/master/doc/source/notebooks/07_frame_reports.ipynb) the soma report using BluePySnap and plot it."
   ]
  },
  {
   "cell_type": "code",
   "execution_count": null,
   "id": "63b2c8f4",
   "metadata": {},
   "outputs": [],
   "source": [
    "simulation.reports"
   ]
  },
  {
   "cell_type": "code",
   "execution_count": null,
   "id": "a861746a",
   "metadata": {},
   "outputs": [],
   "source": [
    "soma_report = simulation.reports['SomaVoltRec']"
   ]
  },
  {
   "cell_type": "code",
   "execution_count": null,
   "id": "c1f20e88",
   "metadata": {},
   "outputs": [],
   "source": [
    "print(\n",
    "    soma_report.time_start, \n",
    "    soma_report.time_stop, \n",
    "    soma_report.dt,\n",
    "    soma_report.time_units\n",
    ")  # Gives a warning in case the dt differs from simulation.dt"
   ]
  },
  {
   "cell_type": "code",
   "execution_count": null,
   "id": "ac72ec47",
   "metadata": {},
   "outputs": [],
   "source": [
    "soma_report.population_names"
   ]
  },
  {
   "cell_type": "code",
   "execution_count": null,
   "id": "d62930b0",
   "metadata": {},
   "outputs": [],
   "source": [
    "soma_pop = soma_report['S1nonbarrel_neurons']\n",
    "print(type(soma_pop))"
   ]
  },
  {
   "cell_type": "code",
   "execution_count": null,
   "id": "91224e1f",
   "metadata": {},
   "outputs": [],
   "source": [
    "node_population = soma_pop.nodes\n",
    "print(f'{node_population.name}: {type(node_population)}')"
   ]
  },
  {
   "cell_type": "code",
   "execution_count": null,
   "id": "b9b2e42c",
   "metadata": {},
   "outputs": [],
   "source": [
    "ids = soma_pop.node_ids\n",
    "node_population.get(ids, properties=['layer','synapse_class','x','y','z']).head()"
   ]
  },
  {
   "cell_type": "code",
   "execution_count": null,
   "id": "a64a32e1",
   "metadata": {},
   "outputs": [],
   "source": [
    "filtered = soma_report.filter(group={'layer':'6'}, t_start= soma_report.time_start, t_stop= soma_report.time_stop)\n",
    "filtered.report.head()"
   ]
  },
  {
   "cell_type": "code",
   "execution_count": null,
   "id": "c9a4eac1",
   "metadata": {},
   "outputs": [],
   "source": [
    "filtered.trace();"
   ]
  },
  {
   "cell_type": "code",
   "execution_count": null,
   "id": "6383decd",
   "metadata": {},
   "outputs": [],
   "source": [
    "soma_report.filter().trace();"
   ]
  }
 ],
 "metadata": {
  "kernelspec": {
   "display_name": "venv",
   "language": "python",
   "name": "python3"
  },
  "language_info": {
   "codemirror_mode": {
    "name": "ipython",
    "version": 3
   },
   "file_extension": ".py",
   "mimetype": "text/x-python",
   "name": "python",
   "nbconvert_exporter": "python",
   "pygments_lexer": "ipython3",
   "version": "3.12.10"
  }
 },
 "nbformat": 4,
 "nbformat_minor": 5
}
