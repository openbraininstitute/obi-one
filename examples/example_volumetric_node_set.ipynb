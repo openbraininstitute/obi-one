{
 "cells": [
  {
   "cell_type": "code",
   "execution_count": 1,
   "id": "44026de8",
   "metadata": {},
   "outputs": [],
   "source": [
    "import bluepysnap as snap\n",
    "\n",
    "from obi_one.scientific.circuit_parameterized_neuron_sets.volumetric_neuron_set_block import (\n",
    "    VolumetricNeuronSetBlock,\n",
    "    NeuronPropertyFilterBlock\n",
    ")"
   ]
  },
  {
   "cell_type": "code",
   "execution_count": 2,
   "id": "f225d18a",
   "metadata": {},
   "outputs": [
    {
     "data": {
      "text/plain": [
       "{'population': 'S1nonbarrel_neurons',\n",
       " 'node_id': [15868,\n",
       "  5156,\n",
       "  27966,\n",
       "  13899,\n",
       "  9125,\n",
       "  14021,\n",
       "  16644,\n",
       "  17278,\n",
       "  2863,\n",
       "  17859]}"
      ]
     },
     "execution_count": 2,
     "metadata": {},
     "output_type": "execute_result"
    }
   ],
   "source": [
    "fltr_tuple = (\n",
    "        NeuronPropertyFilterBlock(property_name=\"layer\", property_values=(\"2\", \"3\")),\n",
    "        NeuronPropertyFilterBlock(property_name=\"synapse_class\", property_values=(\"EXC\", ))\n",
    ")\n",
    "blck = VolumetricNeuronSetBlock(\n",
    "    ox=0.0,\n",
    "    oy=0.0,\n",
    "    oz=0.0,\n",
    "    n=10,\n",
    "    node_population=\"S1nonbarrel_neurons\",\n",
    "    filters=fltr_tuple\n",
    ")\n",
    "blck.for_circuit(snap.Circuit(\"/Users/mwr/Documents/artefacts/SONATA/O1_data/circuit_config.json\"))"
   ]
  }
 ],
 "metadata": {
  "kernelspec": {
   "display_name": ".venv",
   "language": "python",
   "name": "python3"
  },
  "language_info": {
   "codemirror_mode": {
    "name": "ipython",
    "version": 3
   },
   "file_extension": ".py",
   "mimetype": "text/x-python",
   "name": "python",
   "nbconvert_exporter": "python",
   "pygments_lexer": "ipython3",
   "version": "3.12.8"
  }
 },
 "nbformat": 4,
 "nbformat_minor": 5
}
