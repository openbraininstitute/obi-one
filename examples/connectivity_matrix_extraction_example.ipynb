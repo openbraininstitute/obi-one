{
 "cells": [
  {
   "cell_type": "code",
   "execution_count": 1,
   "metadata": {},
   "outputs": [],
   "source": [
    "import obi\n",
    "from obi.modeling.circuit.circuit import CircuitPath\n",
    "\n",
    "connectivity_matrix_extractions_form = obi.ConnectivityMatrixExtractions(\n",
    "                    initialize=obi.ConnectivityMatrixExtractions.Initialize(\n",
    "                        # circuit_path=[CircuitPath(name=\"ToyCircuit-S1-6k\", path=\"/Users/pokorny/Data/ToyCircuit-S1-6k/circuit_config.json\"), CircuitPath(name=\"ToyCircuit-S1-6k-Duplicate\", path=\"/Users/pokorny/Data/ToyCircuit-S1-6k/circuit_config.json\")],\n",
    "                        circuit_path=CircuitPath(name=\"ToyCircuit-S1-6k\", path=\"/Users/pokorny/Data/ToyCircuit-S1-6k/circuit_config.json\"),\n",
    "                        edge_population=[None],\n",
    "                        # edge_population=[None, \"default\"],\n",
    "                        # node_attributes=None,\n",
    "                        # node_attributes=[(\"synapse_class\",) , (\"mtype\", \"layer\"), (\"x\", \"y\", \"z\")],\n",
    "                    )\n",
    ")\n",
    "\n",
    "grid_scan = obi.GridScan(form=connectivity_matrix_extractions_form, output_root='./obi_output/connectivity_matrix_extraction/grid_scan')  # , coordinate_directory_option=\"ZERO_INDEX\"\n"
   ]
  },
  {
   "cell_type": "code",
   "execution_count": 2,
   "metadata": {},
   "outputs": [
    {
     "name": "stdout",
     "output_type": "stream",
     "text": [
      "Info: Running idx 0\n",
      "Info: Loading circuit 'ToyCircuit-S1-6k'\n",
      "Info: Node properties to extract: ('x', 'y', 'z', 'mtype', 'layer', 'synapse_class')\n",
      "Info: Extracting connectivity from edge population 'default'\n"
     ]
    },
    {
     "name": "stderr",
     "output_type": "stream",
     "text": [
      "100%|███████████████████████████████████████████████████████████████████████████████████████████████████████████████████| 5924/5924 [00:02<00:00, 2273.40it/s]"
     ]
    },
    {
     "name": "stdout",
     "output_type": "stream",
     "text": [
      "Info: Connectivity matrix successfully written to './obi_output/connectivity_matrix_extraction/grid_scan/initialize.edge_population=None/connectivity_matrix.h5'\n"
     ]
    },
    {
     "name": "stderr",
     "output_type": "stream",
     "text": [
      "\n"
     ]
    }
   ],
   "source": [
    "grid_scan.run()"
   ]
  },
  {
   "cell_type": "code",
   "execution_count": 1,
   "metadata": {},
   "outputs": [
    {
     "ename": "NameError",
     "evalue": "name 'grid_scan' is not defined",
     "output_type": "error",
     "traceback": [
      "\u001b[31m---------------------------------------------------------------------------\u001b[39m",
      "\u001b[31mNameError\u001b[39m                                 Traceback (most recent call last)",
      "\u001b[36mCell\u001b[39m\u001b[36m \u001b[39m\u001b[32mIn[1]\u001b[39m\u001b[32m, line 2\u001b[39m\n\u001b[32m      1\u001b[39m \u001b[38;5;66;03m# Display the intermediary data\u001b[39;00m\n\u001b[32m----> \u001b[39m\u001b[32m2\u001b[39m \u001b[43mgrid_scan\u001b[49m.multiple_value_parameters(display=\u001b[38;5;28;01mTrue\u001b[39;00m)\n\u001b[32m      3\u001b[39m grid_scan.coordinate_parameters(display=\u001b[38;5;28;01mTrue\u001b[39;00m)\n\u001b[32m      4\u001b[39m grid_scan.coordinate_instances(display=\u001b[38;5;28;01mTrue\u001b[39;00m)\n",
      "\u001b[31mNameError\u001b[39m: name 'grid_scan' is not defined"
     ]
    }
   ],
   "source": [
    "# Display the intermediary data\n",
    "grid_scan.multiple_value_parameters(display=True)\n",
    "grid_scan.coordinate_parameters(display=True)\n",
    "grid_scan.coordinate_instances(display=True)"
   ]
  },
  {
   "cell_type": "code",
   "execution_count": 4,
   "metadata": {},
   "outputs": [],
   "source": [
    "# Deserialize\n",
    "grid_scan_ds = obi.deserialize_obi_object_from_json_file(\"./obi_output/connectivity_matrix_extraction/grid_scan/run_scan_config.json\")"
   ]
  },
  {
   "cell_type": "code",
   "execution_count": 6,
   "metadata": {},
   "outputs": [],
   "source": [
    "grid_coord_ds = obi.deserialize_obi_object_from_json_file(\"./obi_output/connectivity_matrix_extraction/grid_scan/initialize.node_attributes=('mtype', 'layer')/run_coordinate_instance.json\")"
   ]
  },
  {
   "cell_type": "code",
   "execution_count": null,
   "metadata": {},
   "outputs": [],
   "source": []
  }
 ],
 "metadata": {
  "kernelspec": {
   "display_name": "OBISDKKernel",
   "language": "python",
   "name": "obisdkkernel"
  },
  "language_info": {
   "codemirror_mode": {
    "name": "ipython",
    "version": 3
   },
   "file_extension": ".py",
   "mimetype": "text/x-python",
   "name": "python",
   "nbconvert_exporter": "python",
   "pygments_lexer": "ipython3",
   "version": "3.13.1"
  }
 },
 "nbformat": 4,
 "nbformat_minor": 4
}
