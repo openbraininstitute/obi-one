{
 "cells": [
  {
   "cell_type": "code",
   "execution_count": 1,
   "metadata": {},
   "outputs": [],
   "source": [
    "import obi\n",
    "\n",
    "connectivity_matrix_extractions_form = obi.ConnectivityMatrixExtractions(\n",
    "                    initialize=obi.ConnectivityMatrixExtractions.Initialize(\n",
    "                        circuit_path=\"/Users/pokorny/Data/ToyCircuit-S1-6k/circuit_config.json\",\n",
    "                        # edge_population=None,\n",
    "                        # edge_population=[None, \"default\"],\n",
    "                        # node_attributes=None,\n",
    "                        node_attributes=[(\"synapse_class\",) , (\"mtype\", \"layer\"), (\"x\", \"y\", \"z\")],\n",
    "                    )\n",
    ")\n",
    "\n",
    "grid_scan = obi.GridScan(form=connectivity_matrix_extractions_form, output_root='./obi_output/connectivity_matrix_extraction/grid_scan')"
   ]
  },
  {
   "cell_type": "code",
   "execution_count": 2,
   "metadata": {},
   "outputs": [
    {
     "name": "stdout",
     "output_type": "stream",
     "text": [
      "Info: Running idx 0\n",
      "Warning: *FIXME* Coordinate output root folder './obi_output/connectivity_matrix_extraction/grid_scan/initialize.node_attributes=('synapse_class',)/' does not yet exist!\n",
      "Info: Loading circuit '/Users/pokorny/Data/ToyCircuit-S1-6k/circuit_config.json'\n",
      "Info: Node properties to extract: ('synapse_class',)\n",
      "Info: Extracting connectivity from edge population 'default'\n"
     ]
    },
    {
     "name": "stderr",
     "output_type": "stream",
     "text": [
      "100%|████████████████████████████████████████████████████████████████████████████████████████████████████████████████████| 5924/5924 [00:02<00:00, 2300.09it/s]\n"
     ]
    },
    {
     "name": "stdout",
     "output_type": "stream",
     "text": [
      "Info: Connectivity matrix successfully written to './obi_output/connectivity_matrix_extraction/grid_scan/initialize.node_attributes=('synapse_class',)/connectivity_matrix.h5'\n",
      "Info: Running idx 1\n",
      "Warning: *FIXME* Coordinate output root folder './obi_output/connectivity_matrix_extraction/grid_scan/initialize.node_attributes=('mtype', 'layer')/' does not yet exist!\n",
      "Info: Loading circuit '/Users/pokorny/Data/ToyCircuit-S1-6k/circuit_config.json'\n",
      "Info: Node properties to extract: ('mtype', 'layer')\n",
      "Info: Extracting connectivity from edge population 'default'\n"
     ]
    },
    {
     "name": "stderr",
     "output_type": "stream",
     "text": [
      "100%|████████████████████████████████████████████████████████████████████████████████████████████████████████████████████| 5924/5924 [00:02<00:00, 2329.43it/s]\n"
     ]
    },
    {
     "name": "stdout",
     "output_type": "stream",
     "text": [
      "Info: Connectivity matrix successfully written to './obi_output/connectivity_matrix_extraction/grid_scan/initialize.node_attributes=('mtype', 'layer')/connectivity_matrix.h5'\n",
      "Info: Running idx 2\n",
      "Warning: *FIXME* Coordinate output root folder './obi_output/connectivity_matrix_extraction/grid_scan/initialize.node_attributes=('x', 'y', 'z')/' does not yet exist!\n",
      "Info: Loading circuit '/Users/pokorny/Data/ToyCircuit-S1-6k/circuit_config.json'\n",
      "Info: Node properties to extract: ('x', 'y', 'z')\n",
      "Info: Extracting connectivity from edge population 'default'\n"
     ]
    },
    {
     "name": "stderr",
     "output_type": "stream",
     "text": [
      "100%|████████████████████████████████████████████████████████████████████████████████████████████████████████████████████| 5924/5924 [00:02<00:00, 2316.73it/s]"
     ]
    },
    {
     "name": "stdout",
     "output_type": "stream",
     "text": [
      "Info: Connectivity matrix successfully written to './obi_output/connectivity_matrix_extraction/grid_scan/initialize.node_attributes=('x', 'y', 'z')/connectivity_matrix.h5'\n"
     ]
    },
    {
     "name": "stderr",
     "output_type": "stream",
     "text": [
      "\n"
     ]
    }
   ],
   "source": [
    "grid_scan.run()"
   ]
  },
  {
   "cell_type": "code",
   "execution_count": 3,
   "metadata": {},
   "outputs": [
    {
     "name": "stdout",
     "output_type": "stream",
     "text": [
      "\n",
      "MULTIPLE VALUE PARAMETERS\n",
      "initialize.node_attributes: [('synapse_class',), ('mtype', 'layer'), ('x', 'y', 'z')]\n",
      "\n",
      "COORDINATE PARAMETERS (Reimplement)\n",
      "initialize.node_attributes: ('synapse_class',)\n",
      "initialize.node_attributes: ('mtype', 'layer')\n",
      "initialize.node_attributes: ('x', 'y', 'z')\n",
      "\n",
      "COORDINATE INSTANCES\n",
      "ConnectivityMatrixExtraction(idx=0, scan_output_root='', single_coordinate_scan_params=SingleCoordinateScanParams(scan_params=[SingleValueScanParam(location_list=['initialize', 'node_attributes'], location_str='initialize.node_attributes', value=('synapse_class',))], nested_coordinate_subpath_str=''), initialize=Initialize(circuit_path='/Users/pokorny/Data/ToyCircuit-S1-6k/circuit_config.json', edge_population=None, node_attributes=('synapse_class',)))\n",
      "ConnectivityMatrixExtraction(idx=1, scan_output_root='', single_coordinate_scan_params=SingleCoordinateScanParams(scan_params=[SingleValueScanParam(location_list=['initialize', 'node_attributes'], location_str='initialize.node_attributes', value=('mtype', 'layer'))], nested_coordinate_subpath_str=''), initialize=Initialize(circuit_path='/Users/pokorny/Data/ToyCircuit-S1-6k/circuit_config.json', edge_population=None, node_attributes=('mtype', 'layer')))\n",
      "ConnectivityMatrixExtraction(idx=2, scan_output_root='', single_coordinate_scan_params=SingleCoordinateScanParams(scan_params=[SingleValueScanParam(location_list=['initialize', 'node_attributes'], location_str='initialize.node_attributes', value=('x', 'y', 'z'))], nested_coordinate_subpath_str=''), initialize=Initialize(circuit_path='/Users/pokorny/Data/ToyCircuit-S1-6k/circuit_config.json', edge_population=None, node_attributes=('x', 'y', 'z')))\n"
     ]
    },
    {
     "data": {
      "text/plain": [
       "[ConnectivityMatrixExtraction(idx=0, scan_output_root='', single_coordinate_scan_params=SingleCoordinateScanParams(scan_params=[SingleValueScanParam(location_list=['initialize', 'node_attributes'], location_str='initialize.node_attributes', value=('synapse_class',))], nested_coordinate_subpath_str=''), initialize=Initialize(circuit_path='/Users/pokorny/Data/ToyCircuit-S1-6k/circuit_config.json', edge_population=None, node_attributes=('synapse_class',))),\n",
       " ConnectivityMatrixExtraction(idx=1, scan_output_root='', single_coordinate_scan_params=SingleCoordinateScanParams(scan_params=[SingleValueScanParam(location_list=['initialize', 'node_attributes'], location_str='initialize.node_attributes', value=('mtype', 'layer'))], nested_coordinate_subpath_str=''), initialize=Initialize(circuit_path='/Users/pokorny/Data/ToyCircuit-S1-6k/circuit_config.json', edge_population=None, node_attributes=('mtype', 'layer'))),\n",
       " ConnectivityMatrixExtraction(idx=2, scan_output_root='', single_coordinate_scan_params=SingleCoordinateScanParams(scan_params=[SingleValueScanParam(location_list=['initialize', 'node_attributes'], location_str='initialize.node_attributes', value=('x', 'y', 'z'))], nested_coordinate_subpath_str=''), initialize=Initialize(circuit_path='/Users/pokorny/Data/ToyCircuit-S1-6k/circuit_config.json', edge_population=None, node_attributes=('x', 'y', 'z')))]"
      ]
     },
     "execution_count": 3,
     "metadata": {},
     "output_type": "execute_result"
    }
   ],
   "source": [
    "# Display the intermediary data\n",
    "grid_scan.multiple_value_parameters(display=True)\n",
    "grid_scan.coordinate_parameters(display=True)\n",
    "grid_scan.coordinate_instances(display=True)"
   ]
  },
  {
   "cell_type": "code",
   "execution_count": 4,
   "metadata": {},
   "outputs": [],
   "source": [
    "# Deserialize\n",
    "grid_scan_ds = obi.deserialize_obi_object_json(\"./obi_output/connectivity_matrix_extraction/grid_scan/run_scan_config.json\")"
   ]
  },
  {
   "cell_type": "code",
   "execution_count": 6,
   "metadata": {},
   "outputs": [],
   "source": [
    "grid_coord_ds = obi.deserialize_obi_object_json(\"./obi_output/connectivity_matrix_extraction/grid_scan/initialize.node_attributes=('mtype', 'layer')/run_coordinate_instance.json\")"
   ]
  },
  {
   "cell_type": "code",
   "execution_count": null,
   "metadata": {},
   "outputs": [],
   "source": []
  }
 ],
 "metadata": {
  "kernelspec": {
   "display_name": "OBISDKKernel",
   "language": "python",
   "name": "obisdkkernel"
  },
  "language_info": {
   "codemirror_mode": {
    "name": "ipython",
    "version": 3
   },
   "file_extension": ".py",
   "mimetype": "text/x-python",
   "name": "python",
   "nbconvert_exporter": "python",
   "pygments_lexer": "ipython3",
   "version": "3.13.1"
  }
 },
 "nbformat": 4,
 "nbformat_minor": 4
}
