{
 "cells": [
  {
   "cell_type": "code",
   "execution_count": 1,
   "id": "0c84b392",
   "metadata": {},
   "outputs": [
    {
     "ename": "NameError",
     "evalue": "name 'logging' is not defined",
     "output_type": "error",
     "traceback": [
      "\u001b[31m---------------------------------------------------------------------------\u001b[39m",
      "\u001b[31mNameError\u001b[39m                                 Traceback (most recent call last)",
      "\u001b[36mCell\u001b[39m\u001b[36m \u001b[39m\u001b[32mIn[1]\u001b[39m\u001b[32m, line 1\u001b[39m\n\u001b[32m----> \u001b[39m\u001b[32m1\u001b[39m \u001b[38;5;28;01mimport\u001b[39;00m\u001b[38;5;250m \u001b[39m\u001b[34;01mobi_one\u001b[39;00m\u001b[38;5;250m \u001b[39m\u001b[38;5;28;01mas\u001b[39;00m\u001b[38;5;250m \u001b[39m\u001b[34;01mobi\u001b[39;00m\n",
      "\u001b[36mFile \u001b[39m\u001b[32m~/Documents/obi/code/obi-one/obi_one/__init__.py:231\u001b[39m\n\u001b[32m    227\u001b[39m \u001b[38;5;28;01mfrom\u001b[39;00m\u001b[38;5;250m \u001b[39m\u001b[34;01mobi_one\u001b[39;00m\u001b[34;01m.\u001b[39;00m\u001b[34;01mscientific\u001b[39;00m\u001b[34;01m.\u001b[39;00m\u001b[34;01munions\u001b[39;00m\u001b[34;01m.\u001b[39;00m\u001b[34;01munions_synapse_set\u001b[39;00m\u001b[38;5;250m \u001b[39m\u001b[38;5;28;01mimport\u001b[39;00m SynapseSetUnion\n\u001b[32m    228\u001b[39m \u001b[38;5;28;01mfrom\u001b[39;00m\u001b[38;5;250m \u001b[39m\u001b[34;01mobi_one\u001b[39;00m\u001b[34;01m.\u001b[39;00m\u001b[34;01mscientific\u001b[39;00m\u001b[34;01m.\u001b[39;00m\u001b[34;01munions\u001b[39;00m\u001b[34;01m.\u001b[39;00m\u001b[34;01munions_timestamps\u001b[39;00m\u001b[38;5;250m \u001b[39m\u001b[38;5;28;01mimport\u001b[39;00m TimestampsUnion\n\u001b[32m--> \u001b[39m\u001b[32m231\u001b[39m \u001b[38;5;28;01mfrom\u001b[39;00m\u001b[38;5;250m \u001b[39m\u001b[34;01mobi_one\u001b[39;00m\u001b[34;01m.\u001b[39;00m\u001b[34;01mscientific\u001b[39;00m\u001b[34;01m.\u001b[39;00m\u001b[34;01mvalidations\u001b[39;00m\u001b[34;01m.\u001b[39;00m\u001b[34;01mreconstruction_morphology_validation\u001b[39;00m\u001b[38;5;250m \u001b[39m\u001b[38;5;28;01mimport\u001b[39;00m (\n\u001b[32m    232\u001b[39m     ReconstructionMorphologyValidation,\n\u001b[32m    233\u001b[39m )\n",
      "\u001b[36mFile \u001b[39m\u001b[32m~/Documents/obi/code/obi-one/obi_one/scientific/validations/reconstruction_morphology_validation.py:12\u001b[39m\n\u001b[32m      8\u001b[39m \u001b[38;5;28;01mfrom\u001b[39;00m\u001b[38;5;250m \u001b[39m\u001b[34;01mpydantic\u001b[39;00m\u001b[38;5;250m \u001b[39m\u001b[38;5;28;01mimport\u001b[39;00m BaseModel, Field\n\u001b[32m     10\u001b[39m \u001b[38;5;28;01mfrom\u001b[39;00m\u001b[38;5;250m \u001b[39m\u001b[34;01mpathlib\u001b[39;00m\u001b[38;5;250m \u001b[39m\u001b[38;5;28;01mimport\u001b[39;00m Path\n\u001b[32m---> \u001b[39m\u001b[32m12\u001b[39m L = \u001b[43mlogging\u001b[49m.getLogger(\u001b[34m__name__\u001b[39m)\n\u001b[32m     14\u001b[39m \u001b[38;5;28;01mclass\u001b[39;00m\u001b[38;5;250m \u001b[39m\u001b[34;01mReconstructionMorphologyValidationOutput\u001b[39;00m(BaseModel):\n\u001b[32m     15\u001b[39m     validation_a: Annotated[\n\u001b[32m     16\u001b[39m         \u001b[38;5;28mbool\u001b[39m,\n\u001b[32m     17\u001b[39m         Field(\n\u001b[32m   (...)\u001b[39m\u001b[32m     20\u001b[39m         ),\n\u001b[32m     21\u001b[39m     ]\n",
      "\u001b[31mNameError\u001b[39m: name 'logging' is not defined"
     ]
    }
   ],
   "source": [
    "import obi_one as obi"
   ]
  },
  {
   "cell_type": "code",
   "execution_count": null,
   "id": "4e425224",
   "metadata": {},
   "outputs": [],
   "source": [
    "reconstruction_morphology_validation = obi.ReconstructionMorphologyValidation(morphology_file_path=\"../../examples/example_data/morphologies/L5_TPC:A_MusMusculus_PrimarySomatosensory_C060114A5/C060114A5.swc\")\n",
    "reconstruction_morphology_validation.run()\n",
    "reconstruction_morphology_validation.save()"
   ]
  },
  {
   "cell_type": "code",
   "execution_count": null,
   "id": "372f5ab2",
   "metadata": {},
   "outputs": [],
   "source": []
  }
 ],
 "metadata": {
  "kernelspec": {
   "display_name": ".venv",
   "language": "python",
   "name": "python3"
  },
  "language_info": {
   "codemirror_mode": {
    "name": "ipython",
    "version": 3
   },
   "file_extension": ".py",
   "mimetype": "text/x-python",
   "name": "python",
   "nbconvert_exporter": "python",
   "pygments_lexer": "ipython3",
   "version": "3.12.9"
  }
 },
 "nbformat": 4,
 "nbformat_minor": 5
}
