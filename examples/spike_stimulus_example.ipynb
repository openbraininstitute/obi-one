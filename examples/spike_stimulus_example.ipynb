{
 "cells": [
  {
   "cell_type": "markdown",
   "metadata": {},
   "source": [
    "# Circuit simulation examples"
   ]
  },
  {
   "cell_type": "code",
   "execution_count": 1,
   "metadata": {},
   "outputs": [],
   "source": [
    "import obi_one as obi\n",
    "import numpy as np"
   ]
  },
  {
   "cell_type": "code",
   "execution_count": 2,
   "metadata": {},
   "outputs": [],
   "source": [
    "circuit_path_prefix = \"/Users/armando/Desktop/Models/microcircuits/cylinder/\""
   ]
  },
  {
   "cell_type": "markdown",
   "metadata": {},
   "source": [
    "### Loading two circuits"
   ]
  },
  {
   "cell_type": "code",
   "execution_count": 3,
   "metadata": {},
   "outputs": [
    {
     "name": "stdout",
     "output_type": "stream",
     "text": [
      "Circuit 'cylinder' with 273451 neurons and 131621230 synapses\n"
     ]
    }
   ],
   "source": [
    "circuit = obi.Circuit(name=\"cylinder\", path=circuit_path_prefix + \"circuit_config.json\")\n",
    "print(f\"Circuit '{circuit}' with {circuit.sonata_circuit.nodes.size} neurons and {circuit.sonata_circuit.edges.size} synapses\")"
   ]
  },
  {
   "cell_type": "markdown",
   "metadata": {},
   "source": [
    "### Defining the circuit simulation"
   ]
  },
  {
   "cell_type": "code",
   "execution_count": 4,
   "metadata": {},
   "outputs": [
    {
     "ename": "ValidationError",
     "evalue": "11 validation errors for SimulationsForm\nstimuli.PoissonInput.function-wrap[retrieve_type_on_deserialization()]\n  Input should be a valid dictionary or instance of SynchronousSingleSpikeStimulus [type=model_type, input_value=PoissonSpikeStimulus(type...th('.'), frequency=20.0), input_type=PoissonSpikeStimulus]\n    For further information visit https://errors.pydantic.dev/2.11/v/model_type\nstimuli.PoissonInput.function-wrap[retrieve_type_on_deserialization()]\n  Input should be a valid dictionary or instance of ConstantCurrentClampSomaticStimulus [type=model_type, input_value=PoissonSpikeStimulus(type...th('.'), frequency=20.0), input_type=PoissonSpikeStimulus]\n    For further information visit https://errors.pydantic.dev/2.11/v/model_type\nstimuli.PoissonInput.function-wrap[retrieve_type_on_deserialization()]\n  Input should be a valid dictionary or instance of LinearCurrentClampSomaticStimulus [type=model_type, input_value=PoissonSpikeStimulus(type...th('.'), frequency=20.0), input_type=PoissonSpikeStimulus]\n    For further information visit https://errors.pydantic.dev/2.11/v/model_type\nstimuli.PoissonInput.function-wrap[retrieve_type_on_deserialization()]\n  Input should be a valid dictionary or instance of RelativeConstantCurrentClampSomaticStimulus [type=model_type, input_value=PoissonSpikeStimulus(type...th('.'), frequency=20.0), input_type=PoissonSpikeStimulus]\n    For further information visit https://errors.pydantic.dev/2.11/v/model_type\nstimuli.PoissonInput.function-wrap[retrieve_type_on_deserialization()]\n  Input should be a valid dictionary or instance of MultiPulseCurrentClampSomaticStimulus [type=model_type, input_value=PoissonSpikeStimulus(type...th('.'), frequency=20.0), input_type=PoissonSpikeStimulus]\n    For further information visit https://errors.pydantic.dev/2.11/v/model_type\nstimuli.PoissonInput.function-wrap[retrieve_type_on_deserialization()]\n  Input should be a valid dictionary or instance of SinusoidalCurrentClampSomaticStimulus [type=model_type, input_value=PoissonSpikeStimulus(type...th('.'), frequency=20.0), input_type=PoissonSpikeStimulus]\n    For further information visit https://errors.pydantic.dev/2.11/v/model_type\nstimuli.PoissonInput.function-wrap[retrieve_type_on_deserialization()]\n  Input should be a valid dictionary or instance of SubthresholdCurrentClampSomaticStimulus [type=model_type, input_value=PoissonSpikeStimulus(type...th('.'), frequency=20.0), input_type=PoissonSpikeStimulus]\n    For further information visit https://errors.pydantic.dev/2.11/v/model_type\nstimuli.PoissonInput.function-wrap[retrieve_type_on_deserialization()]\n  Input should be a valid dictionary or instance of HyperpolarizingCurrentClampSomaticStimulus [type=model_type, input_value=PoissonSpikeStimulus(type...th('.'), frequency=20.0), input_type=PoissonSpikeStimulus]\n    For further information visit https://errors.pydantic.dev/2.11/v/model_type\nstimuli.PoissonInput.function-wrap[retrieve_type_on_deserialization()]\n  Input should be a valid dictionary or instance of NoiseCurrentClampSomaticStimulus [type=model_type, input_value=PoissonSpikeStimulus(type...th('.'), frequency=20.0), input_type=PoissonSpikeStimulus]\n    For further information visit https://errors.pydantic.dev/2.11/v/model_type\nstimuli.PoissonInput.function-wrap[retrieve_type_on_deserialization()]\n  Input should be a valid dictionary or instance of PercentageNoiseCurrentClampSomaticStimulus [type=model_type, input_value=PoissonSpikeStimulus(type...th('.'), frequency=20.0), input_type=PoissonSpikeStimulus]\n    For further information visit https://errors.pydantic.dev/2.11/v/model_type\nstimuli.PoissonInput.function-wrap[retrieve_type_on_deserialization()]\n  Input should be a valid dictionary or instance of RelativeLinearCurrentClampSomaticStimulus [type=model_type, input_value=PoissonSpikeStimulus(type...th('.'), frequency=20.0), input_type=PoissonSpikeStimulus]\n    For further information visit https://errors.pydantic.dev/2.11/v/model_type",
     "output_type": "error",
     "traceback": [
      "\u001b[31m---------------------------------------------------------------------------\u001b[39m",
      "\u001b[31mValidationError\u001b[39m                           Traceback (most recent call last)",
      "\u001b[36mCell\u001b[39m\u001b[36m \u001b[39m\u001b[32mIn[4]\u001b[39m\u001b[32m, line 30\u001b[39m\n\u001b[32m     25\u001b[39m v_recording = obi.SomaVoltageRecording(start_time=\u001b[32m0.0\u001b[39m, end_time=sim_duration, neuron_set=rec_neuron_set)\n\u001b[32m     27\u001b[39m \u001b[33;03m\"\"\"\u001b[39;00m\n\u001b[32m     28\u001b[39m \u001b[33;03mFill form with Blocks\u001b[39;00m\n\u001b[32m     29\u001b[39m \u001b[33;03m\"\"\"\u001b[39;00m\n\u001b[32m---> \u001b[39m\u001b[32m30\u001b[39m simulations_form = \u001b[43mobi\u001b[49m\u001b[43m.\u001b[49m\u001b[43mSimulationsForm\u001b[49m\u001b[43m(\u001b[49m\n\u001b[32m     31\u001b[39m \u001b[43m                                    \u001b[49m\u001b[43minitialize\u001b[49m\u001b[43m=\u001b[49m\u001b[43msimulations_initialize\u001b[49m\u001b[43m,\u001b[49m\n\u001b[32m     32\u001b[39m \u001b[43m                                    \u001b[49m\u001b[43mintracellular_location_sets\u001b[49m\u001b[43m=\u001b[49m\u001b[43m{\u001b[49m\u001b[43m}\u001b[49m\u001b[43m,\u001b[49m\n\u001b[32m     33\u001b[39m \u001b[43m                                    \u001b[49m\u001b[43mextracellular_location_sets\u001b[49m\u001b[43m=\u001b[49m\u001b[43m{\u001b[49m\u001b[43m}\u001b[49m\u001b[43m,\u001b[49m\n\u001b[32m     34\u001b[39m \u001b[43m                                    \u001b[49m\u001b[43mneuron_sets\u001b[49m\u001b[43m=\u001b[49m\u001b[43m{\u001b[49m\u001b[33;43m\"\u001b[39;49m\u001b[33;43mAll\u001b[39;49m\u001b[33;43m\"\u001b[39;49m\u001b[43m:\u001b[49m\u001b[43m \u001b[49m\u001b[43msim_neuron_set\u001b[49m\u001b[43m,\u001b[49m\u001b[43m \u001b[49m\u001b[33;43m\"\u001b[39;49m\u001b[33;43mAllStim\u001b[39;49m\u001b[33;43m\"\u001b[39;49m\u001b[43m:\u001b[49m\u001b[43m \u001b[49m\u001b[43mstim_neuron_set\u001b[49m\u001b[43m,\u001b[49m\u001b[43m \u001b[49m\u001b[33;43m\"\u001b[39;49m\u001b[33;43mAllRec\u001b[39;49m\u001b[33;43m\"\u001b[39;49m\u001b[43m:\u001b[49m\u001b[43m \u001b[49m\u001b[43mrec_neuron_set\u001b[49m\u001b[43m}\u001b[49m\u001b[43m,\u001b[49m\n\u001b[32m     35\u001b[39m \u001b[43m                                    \u001b[49m\u001b[43msynapse_sets\u001b[49m\u001b[43m=\u001b[49m\u001b[43m{\u001b[49m\u001b[43m}\u001b[49m\u001b[43m,\u001b[49m\n\u001b[32m     36\u001b[39m \u001b[43m                                    \u001b[49m\u001b[43mtimestamps\u001b[49m\u001b[43m=\u001b[49m\u001b[43m{\u001b[49m\u001b[33;43m\"\u001b[39;49m\u001b[33;43mStimTimes\u001b[39;49m\u001b[33;43m\"\u001b[39;49m\u001b[43m:\u001b[49m\u001b[43m \u001b[49m\u001b[43mstim_times\u001b[49m\u001b[43m}\u001b[49m\u001b[43m,\u001b[49m\n\u001b[32m     37\u001b[39m \u001b[43m                                    \u001b[49m\u001b[43mstimuli\u001b[49m\u001b[43m=\u001b[49m\u001b[43m{\u001b[49m\u001b[33;43m\"\u001b[39;49m\u001b[33;43mPoissonInput\u001b[39;49m\u001b[33;43m\"\u001b[39;49m\u001b[43m:\u001b[49m\u001b[43m \u001b[49m\u001b[43mpoisson_input\u001b[49m\u001b[43m}\u001b[49m\u001b[43m,\u001b[49m\n\u001b[32m     38\u001b[39m \u001b[43m                                    \u001b[49m\u001b[43mrecordings\u001b[49m\u001b[43m=\u001b[49m\u001b[43m{\u001b[49m\u001b[33;43m\"\u001b[39;49m\u001b[33;43mSomaVoltRec\u001b[39;49m\u001b[33;43m\"\u001b[39;49m\u001b[43m:\u001b[49m\u001b[43m \u001b[49m\u001b[43mv_recording\u001b[49m\u001b[43m}\u001b[49m\u001b[43m,\u001b[49m\n\u001b[32m     39\u001b[39m \u001b[43m                                    \u001b[49m\u001b[43m)\u001b[49m\n",
      "\u001b[36mFile \u001b[39m\u001b[32m~/Desktop/obi-one/.venv/lib/python3.12/site-packages/pydantic/main.py:253\u001b[39m, in \u001b[36mBaseModel.__init__\u001b[39m\u001b[34m(self, **data)\u001b[39m\n\u001b[32m    251\u001b[39m \u001b[38;5;66;03m# `__tracebackhide__` tells pytest and some other tools to omit this function from tracebacks\u001b[39;00m\n\u001b[32m    252\u001b[39m __tracebackhide__ = \u001b[38;5;28;01mTrue\u001b[39;00m\n\u001b[32m--> \u001b[39m\u001b[32m253\u001b[39m validated_self = \u001b[38;5;28;43mself\u001b[39;49m\u001b[43m.\u001b[49m\u001b[43m__pydantic_validator__\u001b[49m\u001b[43m.\u001b[49m\u001b[43mvalidate_python\u001b[49m\u001b[43m(\u001b[49m\u001b[43mdata\u001b[49m\u001b[43m,\u001b[49m\u001b[43m \u001b[49m\u001b[43mself_instance\u001b[49m\u001b[43m=\u001b[49m\u001b[38;5;28;43mself\u001b[39;49m\u001b[43m)\u001b[49m\n\u001b[32m    254\u001b[39m \u001b[38;5;28;01mif\u001b[39;00m \u001b[38;5;28mself\u001b[39m \u001b[38;5;129;01mis\u001b[39;00m \u001b[38;5;129;01mnot\u001b[39;00m validated_self:\n\u001b[32m    255\u001b[39m     warnings.warn(\n\u001b[32m    256\u001b[39m         \u001b[33m'\u001b[39m\u001b[33mA custom validator is returning a value other than `self`.\u001b[39m\u001b[38;5;130;01m\\n\u001b[39;00m\u001b[33m'\u001b[39m\n\u001b[32m    257\u001b[39m         \u001b[33m\"\u001b[39m\u001b[33mReturning anything other than `self` from a top level model validator isn\u001b[39m\u001b[33m'\u001b[39m\u001b[33mt supported when validating via `__init__`.\u001b[39m\u001b[38;5;130;01m\\n\u001b[39;00m\u001b[33m\"\u001b[39m\n\u001b[32m    258\u001b[39m         \u001b[33m'\u001b[39m\u001b[33mSee the `model_validator` docs (https://docs.pydantic.dev/latest/concepts/validators/#model-validators) for more details.\u001b[39m\u001b[33m'\u001b[39m,\n\u001b[32m    259\u001b[39m         stacklevel=\u001b[32m2\u001b[39m,\n\u001b[32m    260\u001b[39m     )\n",
      "\u001b[31mValidationError\u001b[39m: 11 validation errors for SimulationsForm\nstimuli.PoissonInput.function-wrap[retrieve_type_on_deserialization()]\n  Input should be a valid dictionary or instance of SynchronousSingleSpikeStimulus [type=model_type, input_value=PoissonSpikeStimulus(type...th('.'), frequency=20.0), input_type=PoissonSpikeStimulus]\n    For further information visit https://errors.pydantic.dev/2.11/v/model_type\nstimuli.PoissonInput.function-wrap[retrieve_type_on_deserialization()]\n  Input should be a valid dictionary or instance of ConstantCurrentClampSomaticStimulus [type=model_type, input_value=PoissonSpikeStimulus(type...th('.'), frequency=20.0), input_type=PoissonSpikeStimulus]\n    For further information visit https://errors.pydantic.dev/2.11/v/model_type\nstimuli.PoissonInput.function-wrap[retrieve_type_on_deserialization()]\n  Input should be a valid dictionary or instance of LinearCurrentClampSomaticStimulus [type=model_type, input_value=PoissonSpikeStimulus(type...th('.'), frequency=20.0), input_type=PoissonSpikeStimulus]\n    For further information visit https://errors.pydantic.dev/2.11/v/model_type\nstimuli.PoissonInput.function-wrap[retrieve_type_on_deserialization()]\n  Input should be a valid dictionary or instance of RelativeConstantCurrentClampSomaticStimulus [type=model_type, input_value=PoissonSpikeStimulus(type...th('.'), frequency=20.0), input_type=PoissonSpikeStimulus]\n    For further information visit https://errors.pydantic.dev/2.11/v/model_type\nstimuli.PoissonInput.function-wrap[retrieve_type_on_deserialization()]\n  Input should be a valid dictionary or instance of MultiPulseCurrentClampSomaticStimulus [type=model_type, input_value=PoissonSpikeStimulus(type...th('.'), frequency=20.0), input_type=PoissonSpikeStimulus]\n    For further information visit https://errors.pydantic.dev/2.11/v/model_type\nstimuli.PoissonInput.function-wrap[retrieve_type_on_deserialization()]\n  Input should be a valid dictionary or instance of SinusoidalCurrentClampSomaticStimulus [type=model_type, input_value=PoissonSpikeStimulus(type...th('.'), frequency=20.0), input_type=PoissonSpikeStimulus]\n    For further information visit https://errors.pydantic.dev/2.11/v/model_type\nstimuli.PoissonInput.function-wrap[retrieve_type_on_deserialization()]\n  Input should be a valid dictionary or instance of SubthresholdCurrentClampSomaticStimulus [type=model_type, input_value=PoissonSpikeStimulus(type...th('.'), frequency=20.0), input_type=PoissonSpikeStimulus]\n    For further information visit https://errors.pydantic.dev/2.11/v/model_type\nstimuli.PoissonInput.function-wrap[retrieve_type_on_deserialization()]\n  Input should be a valid dictionary or instance of HyperpolarizingCurrentClampSomaticStimulus [type=model_type, input_value=PoissonSpikeStimulus(type...th('.'), frequency=20.0), input_type=PoissonSpikeStimulus]\n    For further information visit https://errors.pydantic.dev/2.11/v/model_type\nstimuli.PoissonInput.function-wrap[retrieve_type_on_deserialization()]\n  Input should be a valid dictionary or instance of NoiseCurrentClampSomaticStimulus [type=model_type, input_value=PoissonSpikeStimulus(type...th('.'), frequency=20.0), input_type=PoissonSpikeStimulus]\n    For further information visit https://errors.pydantic.dev/2.11/v/model_type\nstimuli.PoissonInput.function-wrap[retrieve_type_on_deserialization()]\n  Input should be a valid dictionary or instance of PercentageNoiseCurrentClampSomaticStimulus [type=model_type, input_value=PoissonSpikeStimulus(type...th('.'), frequency=20.0), input_type=PoissonSpikeStimulus]\n    For further information visit https://errors.pydantic.dev/2.11/v/model_type\nstimuli.PoissonInput.function-wrap[retrieve_type_on_deserialization()]\n  Input should be a valid dictionary or instance of RelativeLinearCurrentClampSomaticStimulus [type=model_type, input_value=PoissonSpikeStimulus(type...th('.'), frequency=20.0), input_type=PoissonSpikeStimulus]\n    For further information visit https://errors.pydantic.dev/2.11/v/model_type"
     ]
    }
   ],
   "source": [
    "# Simulation init\n",
    "sim_neuron_set = obi.PredefinedNeuronSet(node_set=\"All\")\n",
    "sim_duration = 1000.0  # ms\n",
    "stim_frequency = 20 # Hz\n",
    "output_path = '.'\n",
    "gids = np.arange(1,11) # temporary before PoissonSpikeStimulus uses NodeSet\n",
    "simulations_initialize = obi.SimulationsForm.Initialize(\n",
    "    circuit=circuit,\n",
    "    node_set=sim_neuron_set,\n",
    "    simulation_length=sim_duration,\n",
    ")\n",
    "\n",
    "# Stimuli\n",
    "stim_neuron_set = obi.PredefinedNeuronSet(node_set=\"All\", random_sample=None)\n",
    "stim_times = obi.RegularTimestamps(start_time=0.0, number_of_repetitions=1, interval=1000.0)  # in ms!!\n",
    "poisson_input = obi.scientific.simulation.stimulus.PoissonSpikeStimulus(timestamps=stim_times,\n",
    "                                                                        duration=sim_duration,\n",
    "                                                                        gids=gids,\n",
    "                                                                        frequency=stim_frequency,\n",
    "                                                                        output_path=output_path\n",
    "                                                                       )\n",
    "\n",
    "# Recordings\n",
    "rec_neuron_set = obi.PredefinedNeuronSet(node_set=\"All\", random_sample=None)\n",
    "v_recording = obi.SomaVoltageRecording(start_time=0.0, end_time=sim_duration, neuron_set=rec_neuron_set)\n",
    "\n",
    "\"\"\"\n",
    "Fill form with Blocks\n",
    "\"\"\"\n",
    "simulations_form = obi.SimulationsForm(\n",
    "                                    initialize=simulations_initialize,\n",
    "                                    intracellular_location_sets={},\n",
    "                                    extracellular_location_sets={},\n",
    "                                    neuron_sets={\"All\": sim_neuron_set, \"AllStim\": stim_neuron_set, \"AllRec\": rec_neuron_set},\n",
    "                                    synapse_sets={},\n",
    "                                    timestamps={\"StimTimes\": stim_times},\n",
    "                                    stimuli={\"PoissonInput\": poisson_input},\n",
    "                                    recordings={\"SomaVoltRec\": v_recording},\n",
    "                                    )"
   ]
  },
  {
   "cell_type": "code",
   "execution_count": 6,
   "metadata": {},
   "outputs": [
    {
     "data": {
      "text/plain": [
       "{'type': 'SimulationsForm',\n",
       " 'timestamps': {'StimTimes': {'type': 'RegularTimestamps',\n",
       "   'start_time': 0.0,\n",
       "   'simulation_level_name': 'StimTimes',\n",
       "   'number_of_repetitions': 3,\n",
       "   'interval': 1000.0}},\n",
       " 'stimuli': {'CurrentStimulus': {'type': 'ConstantCurrentClampSomaticStimulus',\n",
       "   'timestamps': {'type': 'RegularTimestamps',\n",
       "    'start_time': 0.0,\n",
       "    'simulation_level_name': 'StimTimes',\n",
       "    'number_of_repetitions': 3,\n",
       "    'interval': 1000.0},\n",
       "   'simulation_level_name': 'CurrentStimulus',\n",
       "   'delay': 0.0,\n",
       "   'duration': 5.0,\n",
       "   'neuron_set': {'type': 'PredefinedNeuronSet',\n",
       "    'simulation_level_name': 'L1Stim',\n",
       "    'random_sample': [10, 20],\n",
       "    'random_seed': 0,\n",
       "    'node_set': 'Layer1'},\n",
       "   'represents_physical_electrode': False,\n",
       "   'amplitude': [0.2, 0.5]},\n",
       "  'SyncCurrentStimulus': {'type': 'ConstantCurrentClampSomaticStimulus',\n",
       "   'timestamps': {'type': 'RegularTimestamps',\n",
       "    'start_time': 0.0,\n",
       "    'simulation_level_name': 'StimTimes',\n",
       "    'number_of_repetitions': 3,\n",
       "    'interval': 1000.0},\n",
       "   'simulation_level_name': 'SyncCurrentStimulus',\n",
       "   'delay': 0.0,\n",
       "   'duration': 100.0,\n",
       "   'neuron_set': {'type': 'PredefinedNeuronSet',\n",
       "    'simulation_level_name': 'L1Stim',\n",
       "    'random_sample': [10, 20],\n",
       "    'random_seed': 0,\n",
       "    'node_set': 'Layer1'},\n",
       "   'represents_physical_electrode': False,\n",
       "   'amplitude': 0.1}},\n",
       " 'recordings': {'SomaVoltRec': {'type': 'SomaVoltageRecording',\n",
       "   'start_time': 0.0,\n",
       "   'end_time': 3000.0,\n",
       "   'dt': 0.1,\n",
       "   'simulation_level_name': 'SomaVoltRec',\n",
       "   'neuron_set': {'type': 'PredefinedNeuronSet',\n",
       "    'simulation_level_name': 'L1Rec',\n",
       "    'random_sample': 100,\n",
       "    'random_seed': 0,\n",
       "    'node_set': 'Layer1'}}},\n",
       " 'neuron_sets': {'L1All': {'type': 'PredefinedNeuronSet',\n",
       "   'simulation_level_name': 'L1All',\n",
       "   'random_sample': None,\n",
       "   'random_seed': 0,\n",
       "   'node_set': 'Layer1'},\n",
       "  'L1Stim': {'type': 'PredefinedNeuronSet',\n",
       "   'simulation_level_name': 'L1Stim',\n",
       "   'random_sample': [10, 20],\n",
       "   'random_seed': 0,\n",
       "   'node_set': 'Layer1'},\n",
       "  'L1Rec': {'type': 'PredefinedNeuronSet',\n",
       "   'simulation_level_name': 'L1Rec',\n",
       "   'random_sample': 100,\n",
       "   'random_seed': 0,\n",
       "   'node_set': 'Layer1'}},\n",
       " 'synapse_sets': {},\n",
       " 'intracellular_location_sets': {},\n",
       " 'extracellular_location_sets': {},\n",
       " 'initialize': {'type': 'SimulationsForm.Initialize',\n",
       "  'circuit': [{'type': 'Circuit',\n",
       "    'name': 'ToyCircuit-S1-6k',\n",
       "    'path': '/Users/pokorny/Data/Circuits/ToyCircuit-S1-6k/circuit_config.json'},\n",
       "   {'type': 'Circuit',\n",
       "    'name': 'nbS1-HEX0-beta',\n",
       "    'path': '/Users/pokorny/Data/Circuits/ToyCircuit-S1-6k/circuit_config.json'}],\n",
       "  'simulation_length': 3000.0,\n",
       "  'node_set': {'type': 'PredefinedNeuronSet',\n",
       "   'simulation_level_name': 'L1All',\n",
       "   'random_sample': None,\n",
       "   'random_seed': 0,\n",
       "   'node_set': 'Layer1'},\n",
       "  'random_seed': 1,\n",
       "  'extracellular_calcium_concentration': 1.1,\n",
       "  'v_init': -80.0,\n",
       "  'spike_location': 'soma',\n",
       "  'sonata_version': 1,\n",
       "  'target_simulator': 'CORENEURON',\n",
       "  'timestep': 0.025}}"
      ]
     },
     "execution_count": 6,
     "metadata": {},
     "output_type": "execute_result"
    }
   ],
   "source": [
    "simulations_form.model_dump(mode=\"json\")"
   ]
  },
  {
   "cell_type": "code",
   "execution_count": 7,
   "metadata": {},
   "outputs": [
    {
     "name": "stdout",
     "output_type": "stream",
     "text": [
      "\n",
      "MULTIPLE VALUE PARAMETERS\n",
      "stimuli.CurrentStimulus.amplitude: [0.2, 0.5]\n",
      "neuron_sets.L1Stim.random_sample: [10, 20]\n",
      "initialize.circuit: [Circuit(type='Circuit', name='ToyCircuit-S1-6k', path='/Users/pokorny/Data/Circuits/ToyCircuit-S1-6k/circuit_config.json'), Circuit(type='Circuit', name='nbS1-HEX0-beta', path='/Users/pokorny/Data/Circuits/ToyCircuit-S1-6k/circuit_config.json')]\n",
      "\n",
      "COORDINATE PARAMETERS\n",
      "stimuli.CurrentStimulus.amplitude: 0.2, neuron_sets.L1Stim.random_sample: 10, initialize.circuit: ToyCircuit-S1-6k\n",
      "stimuli.CurrentStimulus.amplitude: 0.2, neuron_sets.L1Stim.random_sample: 10, initialize.circuit: nbS1-HEX0-beta\n",
      "stimuli.CurrentStimulus.amplitude: 0.2, neuron_sets.L1Stim.random_sample: 20, initialize.circuit: ToyCircuit-S1-6k\n",
      "stimuli.CurrentStimulus.amplitude: 0.2, neuron_sets.L1Stim.random_sample: 20, initialize.circuit: nbS1-HEX0-beta\n",
      "stimuli.CurrentStimulus.amplitude: 0.5, neuron_sets.L1Stim.random_sample: 10, initialize.circuit: ToyCircuit-S1-6k\n",
      "stimuli.CurrentStimulus.amplitude: 0.5, neuron_sets.L1Stim.random_sample: 10, initialize.circuit: nbS1-HEX0-beta\n",
      "stimuli.CurrentStimulus.amplitude: 0.5, neuron_sets.L1Stim.random_sample: 20, initialize.circuit: ToyCircuit-S1-6k\n",
      "stimuli.CurrentStimulus.amplitude: 0.5, neuron_sets.L1Stim.random_sample: 20, initialize.circuit: nbS1-HEX0-beta\n"
     ]
    },
    {
     "data": {
      "text/plain": [
       "{0: None, 1: None, 2: None, 3: None, 4: None, 5: None, 6: None, 7: None}"
      ]
     },
     "execution_count": 7,
     "metadata": {},
     "output_type": "execute_result"
    }
   ],
   "source": [
    "grid_scan = obi.GridScan(form=simulations_form, output_root='../../obi-output/circuit_simulations/grid_scan')\n",
    "grid_scan.multiple_value_parameters(display=True)\n",
    "grid_scan.coordinate_parameters(display=True)\n",
    "# grid_scan.coordinate_instances(display=True)\n",
    "grid_scan.execute(processing_method='generate')"
   ]
  },
  {
   "cell_type": "code",
   "execution_count": 8,
   "metadata": {},
   "outputs": [],
   "source": [
    "# Deserialization\n",
    "# grid_scan_ds = obi.deserialize_obi_object_from_json_file(\"../../obi-output/circuit_simulations/grid_scan/run_scan_config.json\")"
   ]
  }
 ],
 "metadata": {
  "kernelspec": {
   "display_name": "obi-one",
   "language": "python",
   "name": "obi-one"
  },
  "language_info": {
   "codemirror_mode": {
    "name": "ipython",
    "version": 3
   },
   "file_extension": ".py",
   "mimetype": "text/x-python",
   "name": "python",
   "nbconvert_exporter": "python",
   "pygments_lexer": "ipython3",
   "version": "3.12.10"
  }
 },
 "nbformat": 4,
 "nbformat_minor": 4
}
