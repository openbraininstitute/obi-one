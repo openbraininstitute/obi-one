{
 "cells": [
  {
   "cell_type": "markdown",
   "metadata": {},
   "source": [
    "# Circuit simulation examples"
   ]
  },
  {
   "cell_type": "code",
   "execution_count": 1,
   "metadata": {},
   "outputs": [],
   "source": [
    "import obi_one as obi"
   ]
  },
  {
   "cell_type": "code",
   "execution_count": 2,
   "metadata": {},
   "outputs": [],
   "source": [
    "circuit_path_prefix = \"/Users/armando/Desktop/Models/microcircuits/cylinder/\""
   ]
  },
  {
   "cell_type": "markdown",
   "metadata": {},
   "source": [
    "### Loading two circuits"
   ]
  },
  {
   "cell_type": "code",
   "execution_count": 3,
   "metadata": {},
   "outputs": [
    {
     "name": "stdout",
     "output_type": "stream",
     "text": [
      "Circuit 'cylinder' with 273451 neurons and 131621230 synapses\n"
     ]
    }
   ],
   "source": [
    "circuit = obi.Circuit(name=\"cylinder\", path=circuit_path_prefix + \"circuit_config.json\")\n",
    "print(f\"Circuit '{circuit}' with {circuit.sonata_circuit.nodes.size} neurons and {circuit.sonata_circuit.edges.size} synapses\")"
   ]
  },
  {
   "cell_type": "markdown",
   "metadata": {},
   "source": [
    "### Defining the circuit simulation"
   ]
  },
  {
   "cell_type": "code",
   "execution_count": 4,
   "metadata": {},
   "outputs": [],
   "source": [
    "# Simulation init\n",
    "sim_neuron_set = obi.PredefinedNeuronSet(node_set=\"All\")\n",
    "sim_duration = 1000.0  # ms\n",
    "stim_frequency = 20 # Hz\n",
    "output_path = '.'\n",
    "simulations_initialize = obi.SimulationsForm.Initialize(\n",
    "    circuit=circuit,\n",
    "    node_set=sim_neuron_set,\n",
    "    simulation_length=sim_duration,\n",
    ")\n",
    "\n",
    "# Stimuli\n",
    "stim_neuron_set = obi.PredefinedNeuronSet(node_set=\"All\")\n",
    "stim_times = obi.RegularTimestamps(start_time=0.0, number_of_repetitions=1, interval=1000.0)  # in ms!!\n",
    "poisson_input = obi.PoissonSpikeStimulus(timestamps=stim_times,\n",
    "                                                                        duration=sim_duration,\n",
    "                                                                        frequency=stim_frequency,\n",
    "                                                                        spike_file_path=output_path,\n",
    "                                                                        neuron_set=stim_neuron_set,\n",
    "                                                                       )\n",
    "\n",
    "# Recordings\n",
    "rec_neuron_set = obi.PredefinedNeuronSet(node_set=\"All\")\n",
    "v_recording = obi.SomaVoltageRecording(start_time=0.0, end_time=sim_duration, neuron_set=rec_neuron_set)\n",
    "\n",
    "\"\"\"\n",
    "Fill form with Blocks\n",
    "\"\"\"\n",
    "simulations_form = obi.SimulationsForm(\n",
    "                                    initialize=simulations_initialize,\n",
    "                                    intracellular_location_sets={},\n",
    "                                    extracellular_location_sets={},\n",
    "                                    neuron_sets={\"AllNeurons\": sim_neuron_set, \"AllStim\": stim_neuron_set, \"AllRec\": rec_neuron_set},\n",
    "                                    synapse_sets={},\n",
    "                                    timestamps={\"StimTimes\": stim_times},\n",
    "                                    stimuli={\"PoissonInput\": poisson_input},\n",
    "                                    recordings={\"SomaVoltRec\": v_recording},\n",
    "                                    )"
   ]
  },
  {
   "cell_type": "code",
   "execution_count": 5,
   "metadata": {},
   "outputs": [
    {
     "data": {
      "text/plain": [
       "{'type': 'SimulationsForm',\n",
       " 'timestamps': {'StimTimes': {'type': 'RegularTimestamps',\n",
       "   'start_time': 0.0,\n",
       "   'simulation_level_name': 'StimTimes',\n",
       "   'number_of_repetitions': 1,\n",
       "   'interval': 1000.0}},\n",
       " 'stimuli': {'PoissonInput': {'type': 'PoissonSpikeStimulus',\n",
       "   'timestamps': {'type': 'RegularTimestamps',\n",
       "    'start_time': 0.0,\n",
       "    'simulation_level_name': 'StimTimes',\n",
       "    'number_of_repetitions': 1,\n",
       "    'interval': 1000.0},\n",
       "   'simulation_level_name': 'PoissonInput',\n",
       "   'duration': 1000.0,\n",
       "   'gid_spike_map': {},\n",
       "   'spike_file_path': '.',\n",
       "   'neuron_set': {'type': 'PredefinedNeuronSet',\n",
       "    'simulation_level_name': 'AllStim',\n",
       "    'random_sample': None,\n",
       "    'random_seed': 0,\n",
       "    'node_set': 'All'},\n",
       "   'frequency': 20.0}},\n",
       " 'recordings': {'SomaVoltRec': {'type': 'SomaVoltageRecording',\n",
       "   'start_time': 0.0,\n",
       "   'end_time': 1000.0,\n",
       "   'dt': 0.1,\n",
       "   'simulation_level_name': 'SomaVoltRec',\n",
       "   'neuron_set': {'type': 'PredefinedNeuronSet',\n",
       "    'simulation_level_name': 'AllRec',\n",
       "    'random_sample': None,\n",
       "    'random_seed': 0,\n",
       "    'node_set': 'All'}}},\n",
       " 'neuron_sets': {'AllNeurons': {'type': 'PredefinedNeuronSet',\n",
       "   'simulation_level_name': 'AllNeurons',\n",
       "   'random_sample': None,\n",
       "   'random_seed': 0,\n",
       "   'node_set': 'All'},\n",
       "  'AllStim': {'type': 'PredefinedNeuronSet',\n",
       "   'simulation_level_name': 'AllStim',\n",
       "   'random_sample': None,\n",
       "   'random_seed': 0,\n",
       "   'node_set': 'All'},\n",
       "  'AllRec': {'type': 'PredefinedNeuronSet',\n",
       "   'simulation_level_name': 'AllRec',\n",
       "   'random_sample': None,\n",
       "   'random_seed': 0,\n",
       "   'node_set': 'All'}},\n",
       " 'synapse_sets': {},\n",
       " 'intracellular_location_sets': {},\n",
       " 'extracellular_location_sets': {},\n",
       " 'initialize': {'type': 'SimulationsForm.Initialize',\n",
       "  'circuit': {'type': 'Circuit',\n",
       "   'name': 'cylinder',\n",
       "   'path': '/Users/armando/Desktop/Models/microcircuits/cylinder/circuit_config.json'},\n",
       "  'simulation_length': 1000.0,\n",
       "  'node_set': {'type': 'PredefinedNeuronSet',\n",
       "   'simulation_level_name': 'AllNeurons',\n",
       "   'random_sample': None,\n",
       "   'random_seed': 0,\n",
       "   'node_set': 'All'},\n",
       "  'random_seed': 1,\n",
       "  'extracellular_calcium_concentration': 1.1,\n",
       "  'v_init': -80.0,\n",
       "  'spike_location': 'soma',\n",
       "  'sonata_version': 1,\n",
       "  'target_simulator': 'CORENEURON',\n",
       "  'timestep': 0.025}}"
      ]
     },
     "execution_count": 5,
     "metadata": {},
     "output_type": "execute_result"
    }
   ],
   "source": [
    "simulations_form.model_dump(mode=\"json\")"
   ]
  },
  {
   "cell_type": "code",
   "execution_count": 6,
   "metadata": {},
   "outputs": [
    {
     "name": "stdout",
     "output_type": "stream",
     "text": [
      "\n",
      "MULTIPLE VALUE PARAMETERS\n",
      "No multiple value parameters found.\n",
      "\n",
      "COORDINATE PARAMETERS\n",
      "No coordinate parameters.\n"
     ]
    },
    {
     "ename": "TypeError",
     "evalue": "PoissonSpikeStimulus.generate_spikes() missing 2 required positional arguments: 'circuit' and 'population'",
     "output_type": "error",
     "traceback": [
      "\u001b[31m---------------------------------------------------------------------------\u001b[39m",
      "\u001b[31mTypeError\u001b[39m                                 Traceback (most recent call last)",
      "\u001b[36mCell\u001b[39m\u001b[36m \u001b[39m\u001b[32mIn[6]\u001b[39m\u001b[32m, line 5\u001b[39m\n\u001b[32m      3\u001b[39m grid_scan.coordinate_parameters(display=\u001b[38;5;28;01mTrue\u001b[39;00m)\n\u001b[32m      4\u001b[39m \u001b[38;5;66;03m# grid_scan.coordinate_instances(display=True)\u001b[39;00m\n\u001b[32m----> \u001b[39m\u001b[32m5\u001b[39m \u001b[43mgrid_scan\u001b[49m\u001b[43m.\u001b[49m\u001b[43mexecute\u001b[49m\u001b[43m(\u001b[49m\u001b[43mprocessing_method\u001b[49m\u001b[43m=\u001b[49m\u001b[33;43m'\u001b[39;49m\u001b[33;43mgenerate\u001b[39;49m\u001b[33;43m'\u001b[39;49m\u001b[43m)\u001b[49m\n",
      "\u001b[36mFile \u001b[39m\u001b[32m~/Desktop/obi-one/obi_one/core/scan.py:173\u001b[39m, in \u001b[36mScan.execute\u001b[39m\u001b[34m(self, processing_method, data_postprocessing_method)\u001b[39m\n\u001b[32m    170\u001b[39m os.makedirs(coordinate_instance.coordinate_output_root, exist_ok=\u001b[38;5;28;01mTrue\u001b[39;00m)\n\u001b[32m    172\u001b[39m \u001b[38;5;66;03m# Call the coordinate_instance's processing_method (i.e. run, generate)\u001b[39;00m\n\u001b[32m--> \u001b[39m\u001b[32m173\u001b[39m return_dict[coordinate_instance.idx] = \u001b[38;5;28;43mgetattr\u001b[39;49m\u001b[43m(\u001b[49m\n\u001b[32m    174\u001b[39m \u001b[43m    \u001b[49m\u001b[43mcoordinate_instance\u001b[49m\u001b[43m,\u001b[49m\u001b[43m \u001b[49m\u001b[43mprocessing_method\u001b[49m\n\u001b[32m    175\u001b[39m \u001b[43m\u001b[49m\u001b[43m)\u001b[49m\u001b[43m(\u001b[49m\u001b[43m)\u001b[49m\n\u001b[32m    177\u001b[39m \u001b[38;5;66;03m# If a data_postprocessing_method is specified, call it\u001b[39;00m\n\u001b[32m    178\u001b[39m \u001b[38;5;28;01mif\u001b[39;00m data_postprocessing_method:\n",
      "\u001b[36mFile \u001b[39m\u001b[32m~/Desktop/obi-one/obi_one/scientific/simulation/simulations.py:139\u001b[39m, in \u001b[36mSimulation.generate\u001b[39m\u001b[34m(self)\u001b[39m\n\u001b[32m    137\u001b[39m \u001b[38;5;28mself\u001b[39m._sonata_config[\u001b[33m\"\u001b[39m\u001b[33minputs\u001b[39m\u001b[33m\"\u001b[39m] = {}\n\u001b[32m    138\u001b[39m \u001b[38;5;28;01mfor\u001b[39;00m stimulus_key, stimulus \u001b[38;5;129;01min\u001b[39;00m \u001b[38;5;28mself\u001b[39m.stimuli.items():\n\u001b[32m--> \u001b[39m\u001b[32m139\u001b[39m     \u001b[38;5;28mself\u001b[39m._sonata_config[\u001b[33m\"\u001b[39m\u001b[33minputs\u001b[39m\u001b[33m\"\u001b[39m].update(\u001b[43mstimulus\u001b[49m\u001b[43m.\u001b[49m\u001b[43mconfig\u001b[49m\u001b[43m(\u001b[49m\u001b[43m)\u001b[49m)\n\u001b[32m    141\u001b[39m \u001b[38;5;66;03m# Generate recording configs\u001b[39;00m\n\u001b[32m    142\u001b[39m \u001b[38;5;28mself\u001b[39m._sonata_config[\u001b[33m\"\u001b[39m\u001b[33mreports\u001b[39m\u001b[33m\"\u001b[39m] = {}\n",
      "\u001b[36mFile \u001b[39m\u001b[32m~/Desktop/obi-one/obi_one/scientific/simulation/stimulus.py:34\u001b[39m, in \u001b[36mStimulus.config\u001b[39m\u001b[34m(self)\u001b[39m\n\u001b[32m     32\u001b[39m \u001b[38;5;28;01mdef\u001b[39;00m\u001b[38;5;250m \u001b[39m\u001b[34mconfig\u001b[39m(\u001b[38;5;28mself\u001b[39m) -> \u001b[38;5;28mdict\u001b[39m:\n\u001b[32m     33\u001b[39m     \u001b[38;5;28mself\u001b[39m.check_simulation_init()\n\u001b[32m---> \u001b[39m\u001b[32m34\u001b[39m     \u001b[38;5;28;01mreturn\u001b[39;00m \u001b[38;5;28;43mself\u001b[39;49m\u001b[43m.\u001b[49m\u001b[43m_generate_config\u001b[49m\u001b[43m(\u001b[49m\u001b[43m)\u001b[49m\n",
      "\u001b[36mFile \u001b[39m\u001b[32m~/Desktop/obi-one/obi_one/scientific/simulation/stimulus.py:430\u001b[39m, in \u001b[36mPoissonSpikeStimulus._generate_config\u001b[39m\u001b[34m(self)\u001b[39m\n\u001b[32m    421\u001b[39m sonata_config[\u001b[38;5;28mself\u001b[39m.name] = {\n\u001b[32m    422\u001b[39m         \u001b[33m\"\u001b[39m\u001b[33mdelay\u001b[39m\u001b[33m\"\u001b[39m: \u001b[38;5;28mself\u001b[39m.timestamps.timestamps(), \u001b[38;5;66;03m# If it is present, then the simulation filters out those times that are before the delay\u001b[39;00m\n\u001b[32m    423\u001b[39m         \u001b[33m\"\u001b[39m\u001b[33mduration\u001b[39m\u001b[33m\"\u001b[39m: \u001b[38;5;28mself\u001b[39m.duration,\n\u001b[32m   (...)\u001b[39m\u001b[32m    427\u001b[39m         \u001b[33m\"\u001b[39m\u001b[33mspike_file\u001b[39m\u001b[33m\"\u001b[39m: \u001b[38;5;28mstr\u001b[39m(\u001b[38;5;28mself\u001b[39m.spike_file_path)\n\u001b[32m    428\u001b[39m     }\n\u001b[32m    429\u001b[39m \u001b[38;5;66;03m# TODO: add a block for the spike reply\u001b[39;00m\n\u001b[32m--> \u001b[39m\u001b[32m430\u001b[39m \u001b[38;5;28;43mself\u001b[39;49m\u001b[43m.\u001b[49m\u001b[43mgenerate_spikes\u001b[49m\u001b[43m(\u001b[49m\u001b[43m)\u001b[49m\n\u001b[32m    432\u001b[39m \u001b[38;5;28;01mreturn\u001b[39;00m sonata_config\n",
      "\u001b[31mTypeError\u001b[39m: PoissonSpikeStimulus.generate_spikes() missing 2 required positional arguments: 'circuit' and 'population'"
     ]
    }
   ],
   "source": [
    "grid_scan = obi.GridScan(form=simulations_form, output_root='../../obi-output/circuit_simulations/grid_scan')\n",
    "grid_scan.multiple_value_parameters(display=True)\n",
    "grid_scan.coordinate_parameters(display=True)\n",
    "# grid_scan.coordinate_instances(display=True)\n",
    "grid_scan.execute(processing_method='generate')"
   ]
  },
  {
   "cell_type": "code",
   "execution_count": null,
   "metadata": {},
   "outputs": [],
   "source": [
    "# Deserialization\n",
    "# grid_scan_ds = obi.deserialize_obi_object_from_json_file(\"../../obi-output/circuit_simulations/grid_scan/run_scan_config.json\")"
   ]
  }
 ],
 "metadata": {
  "kernelspec": {
   "display_name": "obi-one",
   "language": "python",
   "name": "obi-one"
  },
  "language_info": {
   "codemirror_mode": {
    "name": "ipython",
    "version": 3
   },
   "file_extension": ".py",
   "mimetype": "text/x-python",
   "name": "python",
   "nbconvert_exporter": "python",
   "pygments_lexer": "ipython3",
   "version": "3.12.10"
  }
 },
 "nbformat": 4,
 "nbformat_minor": 4
}
