{
 "cells": [
  {
   "cell_type": "code",
   "execution_count": 1,
   "id": "42125809-00c0-4b38-be65-d27511540a6f",
   "metadata": {},
   "outputs": [],
   "source": [
    "import obi_one as obi\n",
    "import numpy as np"
   ]
  },
  {
   "cell_type": "code",
   "execution_count": 2,
   "id": "e2f9e026-bcc4-4b19-bb56-9f683b0cfdf2",
   "metadata": {},
   "outputs": [],
   "source": [
    "poisson = obi.scientific.simulation.stimulus.PoissonSpikeStimulus"
   ]
  },
  {
   "cell_type": "code",
   "execution_count": 3,
   "id": "4a4e4419-fe4e-4c06-a502-811cc39f227f",
   "metadata": {},
   "outputs": [],
   "source": [
    "gids = np.arange(0, 10)\n",
    "\n",
    "output_path = \".\"\n",
    "\n",
    "start_time = 100 # ms\n",
    "\n",
    "duration = 1000 # ms\n",
    "\n",
    "frequency = 20 # Hz"
   ]
  },
  {
   "cell_type": "code",
   "execution_count": 4,
   "id": "8b1581c1-b816-4418-93a5-84dd56ccb74c",
   "metadata": {},
   "outputs": [],
   "source": [
    "stim = poisson(gids, output_path, start_time, duration, frequency)"
   ]
  },
  {
   "cell_type": "code",
   "execution_count": null,
   "id": "0230b757-4670-4c4a-8230-69275686d5be",
   "metadata": {},
   "outputs": [],
   "source": []
  }
 ],
 "metadata": {
  "kernelspec": {
   "display_name": "obi-one",
   "language": "python",
   "name": "obi-one"
  },
  "language_info": {
   "codemirror_mode": {
    "name": "ipython",
    "version": 3
   },
   "file_extension": ".py",
   "mimetype": "text/x-python",
   "name": "python",
   "nbconvert_exporter": "python",
   "pygments_lexer": "ipython3",
   "version": "3.12.10"
  }
 },
 "nbformat": 4,
 "nbformat_minor": 5
}
