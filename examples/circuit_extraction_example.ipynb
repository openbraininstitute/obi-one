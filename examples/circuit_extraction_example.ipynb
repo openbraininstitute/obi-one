{
 "cells": [
  {
   "cell_type": "code",
   "execution_count": 1,
   "metadata": {},
   "outputs": [],
   "source": [
    "import obi_one as obi\n",
    "import os"
   ]
  },
  {
   "cell_type": "code",
   "execution_count": 2,
   "metadata": {},
   "outputs": [],
   "source": [
    "input_root = \"/Users/pokorny/Data/Circuits\"\n",
    "output_root = \"../../../obi-output/extracted_subcircuits\""
   ]
  },
  {
   "cell_type": "code",
   "execution_count": 4,
   "metadata": {},
   "outputs": [],
   "source": [
    "circuit_extractions_form = obi.CircuitExtractions(\n",
    "                    initialize=obi.CircuitExtractions.Initialize(\n",
    "                        circuit=obi.Circuit(name=\"ToyCircuit-S1-6k\", path=os.path.join(input_root, \"ToyCircuit-S1-6k\", \"circuit_config.json\")),\n",
    "                        node_set=[\"Excitatory\", \"Inhibitory\"],\n",
    "                    )\n",
    ")\n",
    "\n",
    "grid_scan = obi.GridScan(form=circuit_extractions_form, output_root='../../obi-output/circuit_extraction/grid_scan')"
   ]
  },
  {
   "cell_type": "code",
   "execution_count": 5,
   "metadata": {},
   "outputs": [
    {
     "name": "stdout",
     "output_type": "stream",
     "text": [
      "\n",
      "MULTIPLE VALUE PARAMETERS\n",
      "initialize.node_set: ['Excitatory', 'Inhibitory']\n",
      "\n",
      "COORDINATE PARAMETERS\n",
      "initialize.node_set: Excitatory\n",
      "initialize.node_set: Inhibitory\n",
      "\n",
      "COORDINATE INSTANCES\n",
      "CircuitExtraction(idx=0, scan_output_root=PosixPath('.'), coordinate_output_root=PosixPath('.'), coordinate_directory_option='NAME_EQUALS_VALUE', single_coordinate_scan_params=SingleCoordinateScanParams(type='SingleCoordinateScanParams', scan_params=[SingleValueScanParam(type='SingleValueScanParam', location_list=['initialize', 'node_set'], value='Excitatory')], nested_coordinate_subpath_str=PosixPath('.')), type='CircuitExtraction', initialize=Initialize(type='CircuitExtractions.Initialize', circuit=Circuit(type='Circuit', name='ToyCircuit-S1-6k', path='/Users/pokorny/Data/Circuits/ToyCircuit-S1-6k/circuit_config.json'), node_set='Excitatory'))\n",
      "CircuitExtraction(idx=1, scan_output_root=PosixPath('.'), coordinate_output_root=PosixPath('.'), coordinate_directory_option='NAME_EQUALS_VALUE', single_coordinate_scan_params=SingleCoordinateScanParams(type='SingleCoordinateScanParams', scan_params=[SingleValueScanParam(type='SingleValueScanParam', location_list=['initialize', 'node_set'], value='Inhibitory')], nested_coordinate_subpath_str=PosixPath('.')), type='CircuitExtraction', initialize=Initialize(type='CircuitExtractions.Initialize', circuit=Circuit(type='Circuit', name='ToyCircuit-S1-6k', path='/Users/pokorny/Data/Circuits/ToyCircuit-S1-6k/circuit_config.json'), node_set='Inhibitory'))\n"
     ]
    },
    {
     "data": {
      "text/plain": [
       "[CircuitExtraction(idx=0, scan_output_root=PosixPath('.'), coordinate_output_root=PosixPath('.'), coordinate_directory_option='NAME_EQUALS_VALUE', single_coordinate_scan_params=SingleCoordinateScanParams(type='SingleCoordinateScanParams', scan_params=[SingleValueScanParam(type='SingleValueScanParam', location_list=['initialize', 'node_set'], value='Excitatory')], nested_coordinate_subpath_str=PosixPath('.')), type='CircuitExtraction', initialize=Initialize(type='CircuitExtractions.Initialize', circuit=Circuit(type='Circuit', name='ToyCircuit-S1-6k', path='/Users/pokorny/Data/Circuits/ToyCircuit-S1-6k/circuit_config.json'), node_set='Excitatory')),\n",
       " CircuitExtraction(idx=1, scan_output_root=PosixPath('.'), coordinate_output_root=PosixPath('.'), coordinate_directory_option='NAME_EQUALS_VALUE', single_coordinate_scan_params=SingleCoordinateScanParams(type='SingleCoordinateScanParams', scan_params=[SingleValueScanParam(type='SingleValueScanParam', location_list=['initialize', 'node_set'], value='Inhibitory')], nested_coordinate_subpath_str=PosixPath('.')), type='CircuitExtraction', initialize=Initialize(type='CircuitExtractions.Initialize', circuit=Circuit(type='Circuit', name='ToyCircuit-S1-6k', path='/Users/pokorny/Data/Circuits/ToyCircuit-S1-6k/circuit_config.json'), node_set='Inhibitory'))]"
      ]
     },
     "execution_count": 5,
     "metadata": {},
     "output_type": "execute_result"
    }
   ],
   "source": [
    "# Display the intermediary data\n",
    "grid_scan.multiple_value_parameters(display=True)\n",
    "grid_scan.coordinate_parameters(display=True)\n",
    "grid_scan.coordinate_instances(display=True)"
   ]
  },
  {
   "cell_type": "code",
   "execution_count": 6,
   "metadata": {},
   "outputs": [
    {
     "name": "stdout",
     "output_type": "stream",
     "text": [
      "Extracting subcircuit from 'ToyCircuit-S1-6k'\n",
      "Copying morphologies for population 'All' (5236)\n"
     ]
    },
    {
     "name": "stderr",
     "output_type": "stream",
     "text": [
      "Copying .asc morphologies: 100%|██████████████████████████████████████████████████████| 4838/4838 [00:05<00:00, 867.19it/s]\n"
     ]
    },
    {
     "name": "stdout",
     "output_type": "stream",
     "text": [
      "Copying biophysical_neuron_models for population 'All' (5236)\n",
      "Extraction DONE\n",
      "Extracting subcircuit from 'ToyCircuit-S1-6k'\n",
      "Copying morphologies for population 'All' (688)\n"
     ]
    },
    {
     "name": "stderr",
     "output_type": "stream",
     "text": [
      "Copying .asc morphologies: 100%|████████████████████████████████████████████████████████| 636/636 [00:00<00:00, 723.99it/s]"
     ]
    },
    {
     "name": "stdout",
     "output_type": "stream",
     "text": [
      "Copying biophysical_neuron_models for population 'All' (688)\n",
      "Extraction DONE\n",
      "create_bbp_workflow_campaign_config() not yet complete.\n"
     ]
    },
    {
     "name": "stderr",
     "output_type": "stream",
     "text": [
      "\n"
     ]
    },
    {
     "data": {
      "text/plain": [
       "{0: None, 1: None}"
      ]
     },
     "execution_count": 6,
     "metadata": {},
     "output_type": "execute_result"
    }
   ],
   "source": [
    "grid_scan.execute(processing_method='run')"
   ]
  }
 ],
 "metadata": {
  "kernelspec": {
   "display_name": "obi-one",
   "language": "python",
   "name": "obi-one"
  },
  "language_info": {
   "codemirror_mode": {
    "name": "ipython",
    "version": 3
   },
   "file_extension": ".py",
   "mimetype": "text/x-python",
   "name": "python",
   "nbconvert_exporter": "python",
   "pygments_lexer": "ipython3",
   "version": "3.12.9"
  }
 },
 "nbformat": 4,
 "nbformat_minor": 4
}
