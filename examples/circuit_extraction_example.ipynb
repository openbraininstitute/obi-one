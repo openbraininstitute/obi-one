{
 "cells": [
  {
   "cell_type": "code",
   "execution_count": null,
   "metadata": {},
   "outputs": [
    {
     "name": "stdout",
     "output_type": "stream",
     "text": [
      "./obi-output/circuit_extraction/grid_scan/initialize.node_set=Excitatory/\n",
      "./obi-output/circuit_extraction/grid_scan/initialize.node_set=Inhibitory/\n"
     ]
    }
   ],
   "source": [
    "import obi_one as obi\n",
    "\n",
    "circuit_extractions_form = obi.CircuitExtractions(\n",
    "                    initialize=obi.CircuitExtractions.Initialize(\n",
    "                        circuit_path=obi.NamedPath(name=\"ToyCircuit-S1-6k\", path=\"/Users/pokorny/Data/ToyCircuit-S1-6k/circuit_config.json\"),\n",
    "                        node_set=[\"Excitatory\", \"Inhibitory\"],\n",
    "                    )\n",
    ")\n",
    "\n",
    "grid_scan = obi.GridScan(form=circuit_extractions_form, output_root='../../obi-output/circuit_extraction/grid_scan')\n",
    "grid_scan.execute(processing_method='run')"
   ]
  },
  {
   "cell_type": "code",
   "execution_count": 2,
   "metadata": {},
   "outputs": [
    {
     "name": "stdout",
     "output_type": "stream",
     "text": [
      "\n",
      "MULTIPLE VALUE PARAMETERS\n",
      "initialize.node_set: ['Excitatory', 'Inhibitory']\n",
      "\n",
      "COORDINATE PARAMETERS (Reimplement)\n",
      "initialize.node_set: Excitatory\n",
      "initialize.node_set: Inhibitory\n",
      "\n",
      "COORDINATE INSTANCES\n",
      "CircuitExtraction(idx=0, scan_output_root='', coordinate_directory_option='NAME_EQUALS_VALUE', single_coordinate_scan_params=SingleCoordinateScanParams(type='SingleCoordinateScanParams', scan_params=[SingleValueScanParam(type='SingleValueScanParam', location_list=['initialize', 'node_set'], location_str='initialize.node_set', value='Excitatory')], nested_coordinate_subpath_str=''), type='CircuitExtractions', initialize=Initialize(type='CircuitExtractions.Initialize', circuit_path=ToyCircuit-S1-6k, node_set='Excitatory'))\n",
      "CircuitExtraction(idx=1, scan_output_root='', coordinate_directory_option='NAME_EQUALS_VALUE', single_coordinate_scan_params=SingleCoordinateScanParams(type='SingleCoordinateScanParams', scan_params=[SingleValueScanParam(type='SingleValueScanParam', location_list=['initialize', 'node_set'], location_str='initialize.node_set', value='Inhibitory')], nested_coordinate_subpath_str=''), type='CircuitExtractions', initialize=Initialize(type='CircuitExtractions.Initialize', circuit_path=ToyCircuit-S1-6k, node_set='Inhibitory'))\n"
     ]
    },
    {
     "data": {
      "text/plain": [
       "[CircuitExtraction(idx=0, scan_output_root='', coordinate_directory_option='NAME_EQUALS_VALUE', single_coordinate_scan_params=SingleCoordinateScanParams(type='SingleCoordinateScanParams', scan_params=[SingleValueScanParam(type='SingleValueScanParam', location_list=['initialize', 'node_set'], location_str='initialize.node_set', value='Excitatory')], nested_coordinate_subpath_str=''), type='CircuitExtractions', initialize=Initialize(type='CircuitExtractions.Initialize', circuit_path=ToyCircuit-S1-6k, node_set='Excitatory')),\n",
       " CircuitExtraction(idx=1, scan_output_root='', coordinate_directory_option='NAME_EQUALS_VALUE', single_coordinate_scan_params=SingleCoordinateScanParams(type='SingleCoordinateScanParams', scan_params=[SingleValueScanParam(type='SingleValueScanParam', location_list=['initialize', 'node_set'], location_str='initialize.node_set', value='Inhibitory')], nested_coordinate_subpath_str=''), type='CircuitExtractions', initialize=Initialize(type='CircuitExtractions.Initialize', circuit_path=ToyCircuit-S1-6k, node_set='Inhibitory'))]"
      ]
     },
     "execution_count": 2,
     "metadata": {},
     "output_type": "execute_result"
    }
   ],
   "source": [
    "# Display the intermediary data\n",
    "grid_scan.multiple_value_parameters(display=True)\n",
    "grid_scan.coordinate_parameters(display=True)\n",
    "grid_scan.coordinate_instances(display=True)\n"
   ]
  },
  {
   "cell_type": "code",
   "execution_count": null,
   "metadata": {},
   "outputs": [],
   "source": []
  },
  {
   "cell_type": "code",
   "execution_count": null,
   "metadata": {},
   "outputs": [],
   "source": []
  }
 ],
 "metadata": {
  "kernelspec": {
   "display_name": "OBISDKKernel",
   "language": "python",
   "name": "obisdkkernel"
  },
  "language_info": {
   "codemirror_mode": {
    "name": "ipython",
    "version": 3
   },
   "file_extension": ".py",
   "mimetype": "text/x-python",
   "name": "python",
   "nbconvert_exporter": "python",
   "pygments_lexer": "ipython3",
   "version": "3.13.1"
  }
 },
 "nbformat": 4,
 "nbformat_minor": 4
}
