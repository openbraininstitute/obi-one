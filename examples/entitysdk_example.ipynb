{
 "cells": [
  {
   "cell_type": "code",
   "execution_count": 1,
   "id": "f5742b73",
   "metadata": {},
   "outputs": [
    {
     "name": "stdout",
     "output_type": "stream",
     "text": [
      "<class 'entitysdk.models.morphology.BrainLocation'>\n",
      "<class 'entitysdk.models.morphology.BrainRegion'>\n",
      "<class 'entitysdk.models.morphology.ReconstructionMorphology'>\n",
      "<class 'entitysdk.models.morphology.Species'>\n",
      "<class 'entitysdk.models.morphology.Strain'>\n"
     ]
    },
    {
     "ename": "ImportError",
     "evalue": "cannot import name 'SaveCircuitEntity' from 'obi.modeling.core.db' (/Users/james/Documents/obi/code/obi-one/obi/modeling/core/db.py)",
     "output_type": "error",
     "traceback": [
      "\u001b[31m---------------------------------------------------------------------------\u001b[39m",
      "\u001b[31mImportError\u001b[39m                               Traceback (most recent call last)",
      "\u001b[36mCell\u001b[39m\u001b[36m \u001b[39m\u001b[32mIn[1]\u001b[39m\u001b[32m, line 1\u001b[39m\n\u001b[32m----> \u001b[39m\u001b[32m1\u001b[39m \u001b[38;5;28;01mimport\u001b[39;00m\u001b[38;5;250m \u001b[39m\u001b[34;01mobi\u001b[39;00m\n",
      "\u001b[36mFile \u001b[39m\u001b[32m~/Documents/obi/code/obi-one/obi/__init__.py:6\u001b[39m\n\u001b[32m      4\u001b[39m \u001b[38;5;28;01mfrom\u001b[39;00m\u001b[38;5;250m \u001b[39m\u001b[34;01mobi\u001b[39;00m\u001b[34;01m.\u001b[39;00m\u001b[34;01mmodeling\u001b[39;00m\u001b[34;01m.\u001b[39;00m\u001b[34;01mcore\u001b[39;00m\u001b[34;01m.\u001b[39;00m\u001b[34;01msingle\u001b[39;00m\u001b[38;5;250m \u001b[39m\u001b[38;5;28;01mimport\u001b[39;00m SingleCoordinateMixin\n\u001b[32m      5\u001b[39m \u001b[38;5;28;01mfrom\u001b[39;00m\u001b[38;5;250m \u001b[39m\u001b[34;01mobi\u001b[39;00m\u001b[34;01m.\u001b[39;00m\u001b[34;01mmodeling\u001b[39;00m\u001b[34;01m.\u001b[39;00m\u001b[34;01mcore\u001b[39;00m\u001b[34;01m.\u001b[39;00m\u001b[34;01mblock\u001b[39;00m\u001b[38;5;250m \u001b[39m\u001b[38;5;28;01mimport\u001b[39;00m Block\n\u001b[32m----> \u001b[39m\u001b[32m6\u001b[39m \u001b[38;5;28;01mfrom\u001b[39;00m\u001b[38;5;250m \u001b[39m\u001b[34;01mobi\u001b[39;00m\u001b[34;01m.\u001b[39;00m\u001b[34;01mmodeling\u001b[39;00m\u001b[34;01m.\u001b[39;00m\u001b[34;01mcore\u001b[39;00m\u001b[34;01m.\u001b[39;00m\u001b[34;01mscan\u001b[39;00m\u001b[38;5;250m \u001b[39m\u001b[38;5;28;01mimport\u001b[39;00m GridScan, CoupledScan\n\u001b[32m      7\u001b[39m \u001b[38;5;28;01mfrom\u001b[39;00m\u001b[38;5;250m \u001b[39m\u001b[34;01mobi\u001b[39;00m\u001b[34;01m.\u001b[39;00m\u001b[34;01mmodeling\u001b[39;00m\u001b[34;01m.\u001b[39;00m\u001b[34;01mcore\u001b[39;00m\u001b[34;01m.\u001b[39;00m\u001b[34;01mserialization\u001b[39;00m\u001b[38;5;250m \u001b[39m\u001b[38;5;28;01mimport\u001b[39;00m deserialize_obi_object_from_json_file, deserialize_obi_object_from_json_data\n\u001b[32m      8\u001b[39m \u001b[38;5;28;01mfrom\u001b[39;00m\u001b[38;5;250m \u001b[39m\u001b[34;01mobi\u001b[39;00m\u001b[34;01m.\u001b[39;00m\u001b[34;01mmodeling\u001b[39;00m\u001b[34;01m.\u001b[39;00m\u001b[34;01mcore\u001b[39;00m\u001b[34;01m.\u001b[39;00m\u001b[34;01mfastapi\u001b[39;00m\u001b[38;5;250m \u001b[39m\u001b[38;5;28;01mimport\u001b[39;00m activate_fastapi_app\n",
      "\u001b[36mFile \u001b[39m\u001b[32m~/Documents/obi/code/obi-one/obi/modeling/core/scan.py:8\u001b[39m\n\u001b[32m      6\u001b[39m \u001b[38;5;28;01mimport\u001b[39;00m\u001b[38;5;250m \u001b[39m\u001b[34;01mos\u001b[39;00m,\u001b[38;5;250m \u001b[39m\u001b[34;01mcopy\u001b[39;00m,\u001b[38;5;250m \u001b[39m\u001b[34;01mjson\u001b[39;00m\n\u001b[32m      7\u001b[39m \u001b[38;5;28;01mfrom\u001b[39;00m\u001b[38;5;250m \u001b[39m\u001b[34;01mcollections\u001b[39;00m\u001b[38;5;250m \u001b[39m\u001b[38;5;28;01mimport\u001b[39;00m OrderedDict\n\u001b[32m----> \u001b[39m\u001b[32m8\u001b[39m \u001b[38;5;28;01mfrom\u001b[39;00m\u001b[38;5;250m \u001b[39m\u001b[34;01mobi\u001b[39;00m\u001b[34;01m.\u001b[39;00m\u001b[34;01mmodeling\u001b[39;00m\u001b[34;01m.\u001b[39;00m\u001b[34;01munions\u001b[39;00m\u001b[34;01m.\u001b[39;00m\u001b[34;01munions_form\u001b[39;00m\u001b[38;5;250m \u001b[39m\u001b[38;5;28;01mimport\u001b[39;00m FormUnion\n\u001b[32m     11\u001b[39m \u001b[38;5;28;01mclass\u001b[39;00m\u001b[38;5;250m \u001b[39m\u001b[34;01mScan\u001b[39;00m(OBIBaseModel):\n\u001b[32m     12\u001b[39m \u001b[38;5;250m    \u001b[39m\u001b[33;03m\"\"\"\u001b[39;00m\n\u001b[32m     13\u001b[39m \u001b[33;03m    - Takes a Form & output_root as input\u001b[39;00m\n\u001b[32m     14\u001b[39m \u001b[33;03m    - Creates multi-dimensional parameter scans through calls to generate and run\u001b[39;00m\n\u001b[32m     15\u001b[39m \u001b[33;03m    - Includes several intermediate functions for computing multi-dimensional parameter scans:\u001b[39;00m\n\u001b[32m     16\u001b[39m \u001b[33;03m        i.e. multiple_value_parameters, coordinate_parameters, coordinate_instances\u001b[39;00m\n\u001b[32m     17\u001b[39m \u001b[33;03m    \"\"\"\u001b[39;00m\n",
      "\u001b[36mFile \u001b[39m\u001b[32m~/Documents/obi/code/obi-one/obi/modeling/unions/unions_form.py:4\u001b[39m\n\u001b[32m      2\u001b[39m \u001b[38;5;28;01mfrom\u001b[39;00m\u001b[38;5;250m \u001b[39m\u001b[34;01mobi\u001b[39;00m\u001b[34;01m.\u001b[39;00m\u001b[34;01mmodeling\u001b[39;00m\u001b[34;01m.\u001b[39;00m\u001b[34;01mcore\u001b[39;00m\u001b[34;01m.\u001b[39;00m\u001b[34;01mform\u001b[39;00m\u001b[38;5;250m \u001b[39m\u001b[38;5;28;01mimport\u001b[39;00m Form\n\u001b[32m      3\u001b[39m \u001b[38;5;28;01mfrom\u001b[39;00m\u001b[38;5;250m \u001b[39m\u001b[34;01mobi\u001b[39;00m\u001b[34;01m.\u001b[39;00m\u001b[34;01mmodeling\u001b[39;00m\u001b[34;01m.\u001b[39;00m\u001b[34;01msimulation\u001b[39;00m\u001b[34;01m.\u001b[39;00m\u001b[34;01msimulations\u001b[39;00m\u001b[38;5;250m \u001b[39m\u001b[38;5;28;01mimport\u001b[39;00m *\n\u001b[32m----> \u001b[39m\u001b[32m4\u001b[39m \u001b[38;5;28;01mfrom\u001b[39;00m\u001b[38;5;250m \u001b[39m\u001b[34;01mobi\u001b[39;00m\u001b[34;01m.\u001b[39;00m\u001b[34;01mmodeling\u001b[39;00m\u001b[34;01m.\u001b[39;00m\u001b[34;01mcircuit_extraction\u001b[39;00m\u001b[34;01m.\u001b[39;00m\u001b[34;01mcircuit_extraction\u001b[39;00m\u001b[38;5;250m \u001b[39m\u001b[38;5;28;01mimport\u001b[39;00m *\n\u001b[32m      5\u001b[39m \u001b[38;5;28;01mfrom\u001b[39;00m\u001b[38;5;250m \u001b[39m\u001b[34;01mobi\u001b[39;00m\u001b[34;01m.\u001b[39;00m\u001b[34;01mmodeling\u001b[39;00m\u001b[34;01m.\u001b[39;00m\u001b[34;01mconnectivity_matrix_extraction\u001b[39;00m\u001b[34;01m.\u001b[39;00m\u001b[34;01mconnectivity_matrix_extraction\u001b[39;00m\u001b[38;5;250m \u001b[39m\u001b[38;5;28;01mimport\u001b[39;00m *\n\u001b[32m      6\u001b[39m \u001b[38;5;28;01mfrom\u001b[39;00m\u001b[38;5;250m \u001b[39m\u001b[34;01mobi\u001b[39;00m\u001b[34;01m.\u001b[39;00m\u001b[34;01mmodeling\u001b[39;00m\u001b[34;01m.\u001b[39;00m\u001b[34;01mbasic_connectivity_plots\u001b[39;00m\u001b[34;01m.\u001b[39;00m\u001b[34;01mbasic_connectivity_plots\u001b[39;00m\u001b[38;5;250m \u001b[39m\u001b[38;5;28;01mimport\u001b[39;00m *\n",
      "\u001b[36mFile \u001b[39m\u001b[32m~/Documents/obi/code/obi-one/obi/modeling/circuit_extraction/circuit_extraction.py:4\u001b[39m\n\u001b[32m      2\u001b[39m \u001b[38;5;28;01mfrom\u001b[39;00m\u001b[38;5;250m \u001b[39m\u001b[34;01mobi\u001b[39;00m\u001b[34;01m.\u001b[39;00m\u001b[34;01mmodeling\u001b[39;00m\u001b[34;01m.\u001b[39;00m\u001b[34;01mcore\u001b[39;00m\u001b[34;01m.\u001b[39;00m\u001b[34;01mblock\u001b[39;00m\u001b[38;5;250m \u001b[39m\u001b[38;5;28;01mimport\u001b[39;00m Block\n\u001b[32m      3\u001b[39m \u001b[38;5;28;01mfrom\u001b[39;00m\u001b[38;5;250m \u001b[39m\u001b[34;01mobi\u001b[39;00m\u001b[34;01m.\u001b[39;00m\u001b[34;01mmodeling\u001b[39;00m\u001b[34;01m.\u001b[39;00m\u001b[34;01mcore\u001b[39;00m\u001b[34;01m.\u001b[39;00m\u001b[34;01msingle\u001b[39;00m\u001b[38;5;250m \u001b[39m\u001b[38;5;28;01mimport\u001b[39;00m SingleCoordinateMixin\n\u001b[32m----> \u001b[39m\u001b[32m4\u001b[39m \u001b[38;5;28;01mfrom\u001b[39;00m\u001b[38;5;250m \u001b[39m\u001b[34;01mobi\u001b[39;00m\u001b[34;01m.\u001b[39;00m\u001b[34;01mmodeling\u001b[39;00m\u001b[34;01m.\u001b[39;00m\u001b[34;01mcore\u001b[39;00m\u001b[34;01m.\u001b[39;00m\u001b[34;01mdb\u001b[39;00m\u001b[38;5;250m \u001b[39m\u001b[38;5;28;01mimport\u001b[39;00m SaveCircuitEntity, SaveCircuitCollectionEntity\n\u001b[32m      5\u001b[39m \u001b[38;5;28;01mfrom\u001b[39;00m\u001b[38;5;250m \u001b[39m\u001b[34;01mobi\u001b[39;00m\u001b[34;01m.\u001b[39;00m\u001b[34;01mmodeling\u001b[39;00m\u001b[34;01m.\u001b[39;00m\u001b[34;01mcore\u001b[39;00m\u001b[34;01m.\u001b[39;00m\u001b[34;01mpath\u001b[39;00m\u001b[38;5;250m \u001b[39m\u001b[38;5;28;01mimport\u001b[39;00m NamedPath\n\u001b[32m      7\u001b[39m \u001b[38;5;28;01mclass\u001b[39;00m\u001b[38;5;250m \u001b[39m\u001b[34;01mCircuitExtractions\u001b[39;00m(Form):\n",
      "\u001b[31mImportError\u001b[39m: cannot import name 'SaveCircuitEntity' from 'obi.modeling.core.db' (/Users/james/Documents/obi/code/obi-one/obi/modeling/core/db.py)"
     ]
    }
   ],
   "source": [
    "import obi"
   ]
  },
  {
   "cell_type": "code",
   "execution_count": null,
   "id": "ba288458",
   "metadata": {},
   "outputs": [],
   "source": [
    "obi.init_db(virtual_lab_id=\"a98b7abc-fc46-4700-9e3d-37137812c730\", project_id=\"0dbced5f-cc3d-488a-8c7f-cfb8ea039dc6\")"
   ]
  },
  {
   "cell_type": "code",
   "execution_count": null,
   "id": "e049c67c",
   "metadata": {},
   "outputs": [
    {
     "data": {
      "text/plain": [
       "<entitysdk.result.IteratorResult at 0x13b60d1c0>"
      ]
     },
     "execution_count": 3,
     "metadata": {},
     "output_type": "execute_result"
    }
   ],
   "source": [
    "obi.Species.find(name=\"Mus musculus\")"
   ]
  },
  {
   "cell_type": "code",
   "execution_count": null,
   "id": "2ea43522",
   "metadata": {},
   "outputs": [
    {
     "ename": "NameError",
     "evalue": "name 'species' is not defined",
     "output_type": "error",
     "traceback": [
      "\u001b[31m---------------------------------------------------------------------------\u001b[39m",
      "\u001b[31mNameError\u001b[39m                                 Traceback (most recent call last)",
      "\u001b[36mCell\u001b[39m\u001b[36m \u001b[39m\u001b[32mIn[4]\u001b[39m\u001b[32m, line 17\u001b[39m\n\u001b[32m      3\u001b[39m brain_location = obi.BrainLocation(\n\u001b[32m      4\u001b[39m     x=\u001b[32m4101.52490234375\u001b[39m,\n\u001b[32m      5\u001b[39m     y=\u001b[32m1173.8499755859375\u001b[39m,\n\u001b[32m      6\u001b[39m     z=\u001b[32m4744.60009765625\u001b[39m,\n\u001b[32m      7\u001b[39m )\n\u001b[32m      8\u001b[39m brain_region = obi.BrainRegion(\n\u001b[32m      9\u001b[39m     \u001b[38;5;28mid\u001b[39m=\u001b[32m68\u001b[39m,\n\u001b[32m     10\u001b[39m     name=\u001b[33m\"\u001b[39m\u001b[33mFrontal pole, layer 1\u001b[39m\u001b[33m\"\u001b[39m,\n\u001b[32m     11\u001b[39m     acronym=\u001b[33m\"\u001b[39m\u001b[33mFRP1\u001b[39m\u001b[33m\"\u001b[39m,\n\u001b[32m     12\u001b[39m     children=[],\n\u001b[32m     13\u001b[39m )\n\u001b[32m     14\u001b[39m morphology = obi.ReconstructionMorphology(\n\u001b[32m     15\u001b[39m     name=\u001b[33m\"\u001b[39m\u001b[33mmy-morph\u001b[39m\u001b[33m\"\u001b[39m,\n\u001b[32m     16\u001b[39m     description=\u001b[33m\"\u001b[39m\u001b[33mA morphology\u001b[39m\u001b[33m\"\u001b[39m,\n\u001b[32m---> \u001b[39m\u001b[32m17\u001b[39m     species=\u001b[43mspecies\u001b[49m,\n\u001b[32m     18\u001b[39m     strain=strain,\n\u001b[32m     19\u001b[39m     brain_region=brain_region,\n\u001b[32m     20\u001b[39m     location=brain_location,\n\u001b[32m     21\u001b[39m     legacy_id=\u001b[38;5;28;01mNone\u001b[39;00m,\n\u001b[32m     22\u001b[39m )\n",
      "\u001b[31mNameError\u001b[39m: name 'species' is not defined"
     ]
    }
   ],
   "source": [
    "# # No GET endpoint yet for brain-region\n",
    "\n",
    "# brain_location = obi.BrainLocation(\n",
    "#     x=4101.52490234375,\n",
    "#     y=1173.8499755859375,\n",
    "#     z=4744.60009765625,\n",
    "# )\n",
    "# brain_region = obi.BrainRegion(\n",
    "#     id=68,\n",
    "#     name=\"Frontal pole, layer 1\",\n",
    "#     acronym=\"FRP1\",\n",
    "#     children=[],\n",
    "# )\n",
    "# morphology = obi.ReconstructionMorphology(\n",
    "#     name=\"my-morph\",\n",
    "#     description=\"A morphology\",\n",
    "#     species=species,\n",
    "#     strain=strain,\n",
    "#     brain_region=brain_region,\n",
    "#     location=brain_location,\n",
    "#     legacy_id=None,\n",
    "# )\n",
    "    "
   ]
  },
  {
   "cell_type": "code",
   "execution_count": null,
   "id": "bebb6bee",
   "metadata": {},
   "outputs": [],
   "source": []
  }
 ],
 "metadata": {
  "kernelspec": {
   "display_name": ".venv",
   "language": "python",
   "name": "python3"
  },
  "language_info": {
   "codemirror_mode": {
    "name": "ipython",
    "version": 3
   },
   "file_extension": ".py",
   "mimetype": "text/x-python",
   "name": "python",
   "nbconvert_exporter": "python",
   "pygments_lexer": "ipython3",
   "version": "3.12.9"
  }
 },
 "nbformat": 4,
 "nbformat_minor": 5
}
