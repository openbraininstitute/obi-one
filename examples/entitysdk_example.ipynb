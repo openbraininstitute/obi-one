{
 "cells": [
  {
   "cell_type": "code",
   "execution_count": null,
   "id": "f5742b73",
   "metadata": {},
   "outputs": [
    {
     "name": "stdout",
     "output_type": "stream",
     "text": [
      "[2025-04-30 14:16:09,870] INFO: HTTP Request: GET https://staging.openbraininstitute.org/api/entitycore/reconstruction-morphology/00009c20-8b2a-4b75-bc63-f28548c9caef \"HTTP/1.1 200 OK\"\n",
      "[2025-04-30 14:16:09,984] INFO: HTTP Request: GET https://staging.openbraininstitute.org/api/entitycore/reconstruction-morphology/00009c20-8b2a-4b75-bc63-f28548c9caef/assets \"HTTP/1.1 200 OK\"\n"
     ]
    },
    {
     "ename": "TypeError",
     "evalue": "Scan.execute() got an unexpected keyword argument 'data_handling_method'",
     "output_type": "error",
     "traceback": [
      "\u001b[31m---------------------------------------------------------------------------\u001b[39m",
      "\u001b[31mTypeError\u001b[39m                                 Traceback (most recent call last)",
      "\u001b[36mCell\u001b[39m\u001b[36m \u001b[39m\u001b[32mIn[3]\u001b[39m\u001b[32m, line 21\u001b[39m\n\u001b[32m     16\u001b[39m scan = obi.GridScan(form=obi.MorphologyMetricsExampleForm(initialize=initialize),\n\u001b[32m     17\u001b[39m                     coordinate_directory_option=\u001b[33m\"\u001b[39m\u001b[33mZERO_INDEX\u001b[39m\u001b[33m\"\u001b[39m,\n\u001b[32m     18\u001b[39m                     output_root=\u001b[33m'\u001b[39m\u001b[33m../../obi-output/morphology_test/grid_scan\u001b[39m\u001b[33m'\u001b[39m)\n\u001b[32m     20\u001b[39m \u001b[38;5;66;03m# Run the scan\u001b[39;00m\n\u001b[32m---> \u001b[39m\u001b[32m21\u001b[39m \u001b[43mscan\u001b[49m\u001b[43m.\u001b[49m\u001b[43mexecute\u001b[49m\u001b[43m(\u001b[49m\u001b[43mprocessing_method\u001b[49m\u001b[43m=\u001b[49m\u001b[33;43m\"\u001b[39;49m\u001b[33;43mrun\u001b[39;49m\u001b[33;43m\"\u001b[39;49m\u001b[43m,\u001b[49m\u001b[43m \u001b[49m\u001b[43mdata_handling_method\u001b[49m\u001b[43m=\u001b[49m\u001b[33;43m\"\u001b[39;49m\u001b[33;43mdata\u001b[39;49m\u001b[33;43m\"\u001b[39;49m\u001b[43m)\u001b[49m\n",
      "\u001b[31mTypeError\u001b[39m: Scan.execute() got an unexpected keyword argument 'data_handling_method'"
     ]
    }
   ],
   "source": [
    "import obi_one as obi\n",
    "\n",
    "# Initialize the database\n",
    "obi.db.initialize(virtual_lab_id=\"e6030ed8-a589-4be2-80a6-f975406eb1f6\", project_id=\"2720f785-a3a2-4472-969d-19a53891c817\", entity_file_store_root=\"../../obi-output\")\n",
    "\n",
    "# Create a morphology object (this will fetch a ReconstructionMorphology object and create attributes for every parameter of ReconstructionMorphology)\n",
    "morphology = obi.ReconstructionMorphologyFromID(id_str=\"00009c20-8b2a-4b75-bc63-f28548c9caef\")\n",
    "\n",
    "# Create a MorphologyMetricsExampleForm.initialize object\n",
    "initialize = obi.MorphologyMetricsExampleForm.Initialize(morphology=[morphology, morphology])\n",
    "\n",
    "# Create a MorphologyMetricsExampleForm object with the initialize object\n",
    "form = obi.MorphologyMetricsExampleForm(initialize=initialize)\n",
    "\n",
    "# Create the grid scan object\n",
    "scan = obi.GridScan(form=obi.MorphologyMetricsExampleForm(initialize=initialize),\n",
    "                    coordinate_directory_option=\"ZERO_INDEX\",\n",
    "                    output_root='../../obi-output/morphology_test/grid_scan')\n",
    "\n",
    "# Run the scan\n",
    "scan.execute(processing_method=\"run\", data_postprocessing_method=\"data\")"
   ]
  },
  {
   "cell_type": "code",
   "execution_count": null,
   "id": "d7068a70",
   "metadata": {},
   "outputs": [],
   "source": [
    "# morphologies = obi.ReconstructionMorphology.find()\n",
    "# morphology = morphologies[0]\n",
    "# species = obi.Species.find(name=\"Mus musculus\")"
   ]
  }
 ],
 "metadata": {
  "kernelspec": {
   "display_name": ".venv",
   "language": "python",
   "name": "python3"
  },
  "language_info": {
   "codemirror_mode": {
    "name": "ipython",
    "version": 3
   },
   "file_extension": ".py",
   "mimetype": "text/x-python",
   "name": "python",
   "nbconvert_exporter": "python",
   "pygments_lexer": "ipython3",
   "version": "3.12.9"
  }
 },
 "nbformat": 4,
 "nbformat_minor": 5
}
