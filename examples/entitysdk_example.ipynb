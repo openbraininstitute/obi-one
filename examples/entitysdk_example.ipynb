{
 "cells": [
  {
   "cell_type": "code",
   "execution_count": null,
   "id": "f5742b73",
   "metadata": {},
   "outputs": [],
   "source": [
    "import obi_one as obi\n",
    "\n",
    "# Initialize the database\n",
    "obi.init_db(virtual_lab_id=\"e6030ed8-a589-4be2-80a6-f975406eb1f6\", project_id=\"2720f785-a3a2-4472-969d-19a53891c817\", entity_file_store_root=\"../../obi-output\")\n",
    "\n",
    "# Create a morphology object (this will fetch a ReconstructionMorphology object and create attributes for every parameter of ReconstructionMorphology)\n",
    "morphology = obi.ReconstructionMorphologyFromID(id_str=\"00009c20-8b2a-4b75-bc63-f28548c9caef\")\n",
    "\n",
    "# Create a MorphologyMetricsExampleForm.initialize object\n",
    "initialize = obi.MorphologyMetricsExampleForm.Initialize(morphology=morphology)\n",
    "\n",
    "# Create a MorphologyMetricsExampleForm object with the initialize object\n",
    "form = obi.MorphologyMetricsExampleForm(initialize=initialize)\n",
    "\n",
    "# Create the grid scan object\n",
    "scan = obi.GridScan(form=obi.MorphologyMetricsExampleForm(initialize=initialize), \n",
    "                    output_root='../../obi-output/morphology_test/grid_scan')\n",
    "\n",
    "# Run the scan\n",
    "scan.run()"
   ]
  },
  {
   "cell_type": "code",
   "execution_count": null,
   "id": "d7068a70",
   "metadata": {},
   "outputs": [],
   "source": [
    "# morphologies = obi.ReconstructionMorphology.find()\n",
    "# morphology = morphologies[0]\n",
    "# species = obi.Species.find(name=\"Mus musculus\")"
   ]
  }
 ],
 "metadata": {
  "kernelspec": {
   "display_name": ".venv",
   "language": "python",
   "name": "python3"
  },
  "language_info": {
   "codemirror_mode": {
    "name": "ipython",
    "version": 3
   },
   "file_extension": ".py",
   "mimetype": "text/x-python",
   "name": "python",
   "nbconvert_exporter": "python",
   "pygments_lexer": "ipython3",
   "version": "3.12.9"
  }
 },
 "nbformat": 4,
 "nbformat_minor": 5
}
