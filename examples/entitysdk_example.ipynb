{
 "cells": [
  {
   "cell_type": "code",
   "execution_count": 1,
   "id": "f5742b73",
   "metadata": {},
   "outputs": [
    {
     "name": "stdout",
     "output_type": "stream",
     "text": [
      "<class 'entitysdk.models.morphology.BrainLocation'>\n",
      "<class 'entitysdk.models.morphology.BrainRegion'>\n",
      "<class 'entitysdk.models.morphology.ReconstructionMorphology'>\n",
      "<class 'entitysdk.models.morphology.Species'>\n",
      "<class 'entitysdk.models.morphology.Strain'>\n"
     ]
    }
   ],
   "source": [
    "import obi"
   ]
  },
  {
   "cell_type": "code",
   "execution_count": 2,
   "id": "ba288458",
   "metadata": {},
   "outputs": [],
   "source": [
    "obi.init_db(virtual_lab_id=\"a98b7abc-fc46-4700-9e3d-37137812c730\", project_id=\"0dbced5f-cc3d-488a-8c7f-cfb8ea039dc6\")"
   ]
  },
  {
   "cell_type": "code",
   "execution_count": 3,
   "id": "e049c67c",
   "metadata": {},
   "outputs": [
    {
     "data": {
      "text/plain": [
       "<entitysdk.result.IteratorResult at 0x301b0d220>"
      ]
     },
     "execution_count": 3,
     "metadata": {},
     "output_type": "execute_result"
    }
   ],
   "source": [
    "obi.Species.find(name=\"Mus musculus\")"
   ]
  },
  {
   "cell_type": "code",
   "execution_count": 4,
   "id": "2ea43522",
   "metadata": {},
   "outputs": [],
   "source": [
    "# # No GET endpoint yet for brain-region\n",
    "\n",
    "# brain_location = obi.BrainLocation(\n",
    "#     x=4101.52490234375,\n",
    "#     y=1173.8499755859375,\n",
    "#     z=4744.60009765625,\n",
    "# )\n",
    "# brain_region = obi.BrainRegion(\n",
    "#     id=68,\n",
    "#     name=\"Frontal pole, layer 1\",\n",
    "#     acronym=\"FRP1\",\n",
    "#     children=[],\n",
    "# )\n",
    "# morphology = obi.ReconstructionMorphology(\n",
    "#     name=\"my-morph\",\n",
    "#     description=\"A morphology\",\n",
    "#     species=species,\n",
    "#     strain=strain,\n",
    "#     brain_region=brain_region,\n",
    "#     location=brain_location,\n",
    "#     legacy_id=None,\n",
    "# )\n",
    "    "
   ]
  },
  {
   "cell_type": "code",
   "execution_count": null,
   "id": "bebb6bee",
   "metadata": {},
   "outputs": [],
   "source": []
  }
 ],
 "metadata": {
  "kernelspec": {
   "display_name": ".venv",
   "language": "python",
   "name": "python3"
  },
  "language_info": {
   "codemirror_mode": {
    "name": "ipython",
    "version": 3
   },
   "file_extension": ".py",
   "mimetype": "text/x-python",
   "name": "python",
   "nbconvert_exporter": "python",
   "pygments_lexer": "ipython3",
   "version": "3.12.9"
  }
 },
 "nbformat": 4,
 "nbformat_minor": 5
}
