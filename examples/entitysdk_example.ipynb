{
 "cells": [
  {
   "cell_type": "code",
   "execution_count": 5,
   "id": "f5742b73",
   "metadata": {},
   "outputs": [],
   "source": [
    "import obi"
   ]
  },
  {
   "cell_type": "code",
   "execution_count": 6,
   "id": "ba288458",
   "metadata": {},
   "outputs": [
    {
     "name": "stdout",
     "output_type": "stream",
     "text": [
      "[2025-04-12 17:34:10,617] INFO: Local server listening on http://localhost:62834\n",
      "[2025-04-12 17:34:10,618] INFO: Authentication url: https://staging.openbraininstitute.org/auth/realms/SBO/protocol/openid-connect/auth?response_type=code&client_id=obi-entitysdk-auth&redirect_uri=http%3A%2F%2Flocalhost%3A62834%2Fcallback&scope=openid&code_challenge=-YSAuW5V4q58t7IMjKWwT3IQJuTcYjNqGDStGX6yyRU&code_challenge_method=S256&kc_idp_hint=github\n",
      "[2025-04-12 17:34:11,829] INFO: HTTP Request: POST https://staging.openbraininstitute.org/auth/realms/SBO/protocol/openid-connect/token \"HTTP/1.1 200 OK\"\n"
     ]
    }
   ],
   "source": [
    "obi.init_db(virtual_lab_id=\"a98b7abc-fc46-4700-9e3d-37137812c730\", project_id=\"0dbced5f-cc3d-488a-8c7f-cfb8ea039dc6\")"
   ]
  },
  {
   "cell_type": "code",
   "execution_count": 15,
   "id": "e049c67c",
   "metadata": {},
   "outputs": [
    {
     "name": "stdout",
     "output_type": "stream",
     "text": [
      "[2025-04-14 06:52:23,045] INFO: HTTP Request: GET http://127.0.0.1:8000/species?name=Mus+musculus&page=1 \"HTTP/1.1 200 OK\"\n"
     ]
    }
   ],
   "source": [
    "species = obi.Species.find(name=\"Mus musculus\")\n",
    "for s in species:\n",
    "    print(s.one())\n",
    "    # s\n",
    "a=1"
   ]
  },
  {
   "cell_type": "code",
   "execution_count": null,
   "id": "2ea43522",
   "metadata": {},
   "outputs": [],
   "source": [
    "# No GET endpoint yet for brain-region\n",
    "\n",
    "brain_location = obi.BrainLocation(\n",
    "    x=4101.52490234375,\n",
    "    y=1173.8499755859375,\n",
    "    z=4744.60009765625,\n",
    ")\n",
    "brain_region = obi.BrainRegion(\n",
    "    id=68,\n",
    "    name=\"Frontal pole, layer 1\",\n",
    "    acronym=\"FRP1\",\n",
    "    children=[],\n",
    ")\n",
    "\n",
    "morphology = obi.ReconstructionMorphology(\n",
    "    name=\"my-morph\",\n",
    "    description=\"A morphology\",\n",
    "    species=species,\n",
    "    strain=strain,\n",
    "    brain_region=brain_region,\n",
    "    location=brain_location,\n",
    "    legacy_id=None,\n",
    ")\n",
    "    "
   ]
  },
  {
   "cell_type": "code",
   "execution_count": null,
   "id": "30ac0d5f",
   "metadata": {},
   "outputs": [
    {
     "ename": "NameError",
     "evalue": "name 'kwargs' is not defined",
     "output_type": "error",
     "traceback": [
      "\u001b[31m---------------------------------------------------------------------------\u001b[39m",
      "\u001b[31mNameError\u001b[39m                                 Traceback (most recent call last)",
      "\u001b[36mCell\u001b[39m\u001b[36m \u001b[39m\u001b[32mIn[17]\u001b[39m\u001b[32m, line 29\u001b[39m\n\u001b[32m     23\u001b[39m client = Client(api_url=entitycore_api_url, project_context=project_context)\n\u001b[32m     24\u001b[39m token = os.getenv(\u001b[33m\"\u001b[39m\u001b[33mACCESS_TOKEN\u001b[39m\u001b[33m\"\u001b[39m, \u001b[33m\"\u001b[39m\u001b[33mXXX\u001b[39m\u001b[33m\"\u001b[39m)\n\u001b[32m     28\u001b[39m client.search_entity(\n\u001b[32m---> \u001b[39m\u001b[32m29\u001b[39m                 entity_type=Species, query=\u001b[43mkwargs\u001b[49m, token=token, limit=limit\n\u001b[32m     30\u001b[39m             )\n",
      "\u001b[31mNameError\u001b[39m: name 'kwargs' is not defined"
     ]
    }
   ],
   "source": [
    "import io\n",
    "import os\n",
    "import tempfile\n",
    "from pathlib import Path\n",
    "\n",
    "# from rich import print as rprint\n",
    "\n",
    "from entitysdk.client import Client\n",
    "from entitysdk.common import ProjectContext\n",
    "from entitysdk.models.morphology import (\n",
    "    BrainLocation,\n",
    "    BrainRegion,\n",
    "    ReconstructionMorphology,\n",
    "    Species,\n",
    "    Strain,\n",
    ")\n"
   ]
  },
  {
   "cell_type": "code",
   "execution_count": null,
   "id": "bebb6bee",
   "metadata": {},
   "outputs": [],
   "source": []
  }
 ],
 "metadata": {
  "kernelspec": {
   "display_name": ".venv",
   "language": "python",
   "name": "python3"
  },
  "language_info": {
   "codemirror_mode": {
    "name": "ipython",
    "version": 3
   },
   "file_extension": ".py",
   "mimetype": "text/x-python",
   "name": "python",
   "nbconvert_exporter": "python",
   "pygments_lexer": "ipython3",
   "version": "3.12.9"
  }
 },
 "nbformat": 4,
 "nbformat_minor": 5
}
