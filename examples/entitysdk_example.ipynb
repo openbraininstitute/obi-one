{
 "cells": [
  {
   "cell_type": "code",
   "execution_count": null,
   "id": "f5742b73",
   "metadata": {},
   "outputs": [],
   "source": [
    "import obi_one as obi"
   ]
  },
  {
   "cell_type": "code",
   "execution_count": null,
   "id": "ba288458",
   "metadata": {},
   "outputs": [],
   "source": [
    "obi.init_db(virtual_lab_id=\"e6030ed8-a589-4be2-80a6-f975406eb1f6\", project_id=\"962a1cb7-31f2-49e3-8eca-ef965e49fd35\")"
   ]
  },
  {
   "cell_type": "code",
   "execution_count": null,
   "id": "d7068a70",
   "metadata": {},
   "outputs": [],
   "source": [
    "morphologies = obi.ReconstructionMorphology.find()\n",
    "# print(morphologies)\n",
    "morphology = morphologies[0]\n",
    "# print(morphology)\n",
    "# print(obi.ReconstructionMorphology.fetch(entity_id=morphology.id))\n",
    "\n",
    "obi.download_morphology_assets(morphology)\n",
    "\n",
    "# for asset in fetched.assets:\n",
    "#     if asset.content_type == \"application/swc\":\n",
    "#         client.download_file(\n",
    "#             entity_id=fetched.id,\n",
    "#             entity_type=type(fetched),\n",
    "#             asset_id=asset.id,\n",
    "#             output_path=\"./my-file.h5\",\n",
    "#             token=token,\n",
    "#         )\n",
    "#         content = client.download_content(\n",
    "#             entity_id=fetched.id, entity_type=type(fetched), asset_id=asset.id, token=token\n",
    "#         )\n",
    "#         break\n",
    "\n",
    "# print(content)\n",
    "# print(Path(\"my-file.h5\").read_text())\n"
   ]
  },
  {
   "cell_type": "code",
   "execution_count": null,
   "id": "e049c67c",
   "metadata": {},
   "outputs": [],
   "source": [
    "species = obi.Species.find(name=\"Mus musculus\")\n",
    "print(species)\n"
   ]
  }
 ],
 "metadata": {
  "kernelspec": {
   "display_name": ".venv",
   "language": "python",
   "name": "python3"
  },
  "language_info": {
   "codemirror_mode": {
    "name": "ipython",
    "version": 3
   },
   "file_extension": ".py",
   "mimetype": "text/x-python",
   "name": "python",
   "nbconvert_exporter": "python",
   "pygments_lexer": "ipython3",
   "version": "3.12.9"
  }
 },
 "nbformat": 4,
 "nbformat_minor": 5
}
