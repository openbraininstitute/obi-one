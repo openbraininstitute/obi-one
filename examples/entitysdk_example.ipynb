{
 "cells": [
  {
   "cell_type": "code",
   "execution_count": 1,
   "id": "f5742b73",
   "metadata": {},
   "outputs": [
    {
     "name": "stdout",
     "output_type": "stream",
     "text": [
      "[2025-04-25 14:15:22,549] INFO: HTTP Request: GET https://staging.openbraininstitute.org/api/entitycore/reconstruction-morphology/00009c20-8b2a-4b75-bc63-f28548c9caef \"HTTP/1.1 200 OK\"\n",
      "[2025-04-25 14:15:22,648] INFO: HTTP Request: GET https://staging.openbraininstitute.org/api/entitycore/reconstruction-morphology/00009c20-8b2a-4b75-bc63-f28548c9caef/assets \"HTTP/1.1 200 OK\"\n",
      "{'id': UUID('8508ca42-40bc-48d6-9306-c42a5aeaa598'), 'update_date': None, 'creation_date': None, 'path': 'rp160303_A_idF.asc', 'full_path': 'public/a98b7abc-fc46-4700-9e3d-37137812c730/0dbced5f-cc3d-488a-8c7f-cfb8ea039dc6/assets/reconstruction_morphology/00009c20-8b2a-4b75-bc63-f28548c9caef/rp160303_A_idF.asc', 'is_directory': False, 'content_type': 'application/asc', 'size': 501559, 'sha256_digest': '4d7f57dec75ede1a47b74287802cb68a4337656b260439637ebfe5a2c5bf0a40', 'status': 'created', 'meta': {'legacy': {'name': 'rp160303_A_idF.asc', '@type': 'DataDownload', 'digest': {'value': '4d7f57dec75ede1a47b74287802cb68a4337656b260439637ebfe5a2c5bf0a40', 'algorithm': 'SHA-256'}, 'atLocation': {'@type': 'Location', 'store': {'@id': 'https://bbp.epfl.ch/neurosciencegraph/data/4820323e-bee0-48d2-824f-9d9d404dbbee', '_rev': 1, '@type': 'RemoteDiskStorage'}, 'location': 'file:///gpfs/bbp.cscs.ch/data/project/proj109/nexus/public/sscx/e/6/9/2/7/c/4/1/rp160303_A_idF.asc'}, 'contentUrl': 'https://bbp.epfl.ch/nexus/v1/files/public/sscx/https%3A%2F%2Fbbp.epfl.ch%2Fneurosciencegraph%2Fdata%2F98d3786c-1573-45e9-8b39-c35b567961fd', 'contentSize': {'value': 501559, 'unitCode': 'bytes'}, 'encodingFormat': 'application/asc'}}}\n",
      "dict_keys(['id', 'update_date', 'creation_date', 'path', 'full_path', 'is_directory', 'content_type', 'size', 'sha256_digest', 'status', 'meta'])\n"
     ]
    },
    {
     "name": "stderr",
     "output_type": "stream",
     "text": [
      "Traceback (most recent call last):\n",
      "  File \"/Users/james/Documents/obi/code/obi-one/obi_one/modeling/morphology_metrics/morphology_metrics_example.py\", line 79, in run\n",
      "    swc_path = self.initialize.morphology.temporary_download_swc()\n",
      "               ^^^^^^^^^^^^^^^^^^^^^^^^^^^^^^^^^^^^^^^^^^^^^^^^^^^\n",
      "  File \"/Users/james/Documents/obi/code/obi-one/obi_one/core/db.py\", line 156, in temporary_download_swc\n",
      "    file_output_path = Path(entity_file_store_path) / asset.full_path\n",
      "                                                      ^^^^^^^^^^^^^^^\n",
      "AttributeError: 'dict' object has no attribute 'full_path'\n"
     ]
    }
   ],
   "source": [
    "import obi_one as obi\n",
    "obi.init_db(virtual_lab_id=\"e6030ed8-a589-4be2-80a6-f975406eb1f6\", project_id=\"2720f785-a3a2-4472-969d-19a53891c817\", entity_file_store_root=\"../../obi-output\")\n",
    "\n",
    "morphology_option = \"WITH_ASSETS\"\n",
    "\n",
    "if morphology_option == \"FETCHED\":\n",
    "    morphologies = obi.ReconstructionMorphology.find()\n",
    "    morphology = morphologies[0]\n",
    "    morphology_id = str(morphology.id)\n",
    "\n",
    "elif morphology_option == \"WITH_ASSETS\":\n",
    "    morphology_id = \"00009c20-8b2a-4b75-bc63-f28548c9caef\"\n",
    "    \n",
    "\n",
    "initialize = obi.MorphologyMetricsExampleForm.Initialize(morphology=obi.ReconstructionMorphologyFromID(id_str=morphology_id))\n",
    "scan = obi.GridScan(form=obi.MorphologyMetricsExampleForm(initialize=initialize), output_root='../../obi-output/morphology_test/grid_scan')\n",
    "scan.run()"
   ]
  },
  {
   "cell_type": "code",
   "execution_count": null,
   "id": "ba288458",
   "metadata": {},
   "outputs": [],
   "source": []
  },
  {
   "cell_type": "code",
   "execution_count": null,
   "id": "d7068a70",
   "metadata": {},
   "outputs": [],
   "source": [
    "\n",
    "\n",
    "morphology = obi.ReconstructionMorphology.fetch(entity_id=\"00009c20-8b2a-4b75-bc63-f28548c9caef\")\n",
    "morphology.temporary_download_swc()\n",
    "\n",
    "\n"
   ]
  },
  {
   "cell_type": "code",
   "execution_count": null,
   "id": "0c473798",
   "metadata": {},
   "outputs": [],
   "source": []
  },
  {
   "cell_type": "code",
   "execution_count": null,
   "id": "e049c67c",
   "metadata": {},
   "outputs": [],
   "source": [
    "\n"
   ]
  },
  {
   "cell_type": "code",
   "execution_count": null,
   "id": "7910ba75",
   "metadata": {},
   "outputs": [],
   "source": []
  },
  {
   "cell_type": "code",
   "execution_count": null,
   "id": "d3864070",
   "metadata": {},
   "outputs": [],
   "source": [
    "species = obi.Species.find(name=\"Mus musculus\")\n",
    "print(species)"
   ]
  }
 ],
 "metadata": {
  "kernelspec": {
   "display_name": ".venv",
   "language": "python",
   "name": "python3"
  },
  "language_info": {
   "codemirror_mode": {
    "name": "ipython",
    "version": 3
   },
   "file_extension": ".py",
   "mimetype": "text/x-python",
   "name": "python",
   "nbconvert_exporter": "python",
   "pygments_lexer": "ipython3",
   "version": "3.12.9"
  }
 },
 "nbformat": 4,
 "nbformat_minor": 5
}
