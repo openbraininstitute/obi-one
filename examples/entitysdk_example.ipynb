{
 "cells": [
  {
   "cell_type": "code",
   "execution_count": 1,
   "id": "f5742b73",
   "metadata": {},
   "outputs": [
    {
     "name": "stdout",
     "output_type": "stream",
     "text": [
      "[2025-05-27 14:21:58,385] INFO: Local server listening on http://localhost:50225\n",
      "[2025-05-27 14:21:58,385] INFO: Authentication url: https://staging.openbraininstitute.org/auth/realms/SBO/protocol/openid-connect/auth?response_type=code&client_id=obi-entitysdk-auth&redirect_uri=http%3A%2F%2Flocalhost%3A50225%2Fcallback&scope=openid&code_challenge=EMvMPF6Ts_ZvzkkvICvjFqG9hgL2djSEczqdFJH7BVw&code_challenge_method=S256&kc_idp_hint=github\n",
      "[2025-05-27 14:21:59,268] INFO: HTTP Request: POST https://staging.openbraininstitute.org/auth/realms/SBO/protocol/openid-connect/token \"HTTP/1.1 200 OK\"\n"
     ]
    }
   ],
   "source": [
    "import obi_one as obi\n",
    "\n",
    "# Initialize the database\n",
    "obi.db.initialize(virtual_lab_id=\"e6030ed8-a589-4be2-80a6-f975406eb1f6\", project_id=\"2720f785-a3a2-4472-969d-19a53891c817\", entity_file_store_root=\"../../obi-output\")\n",
    "\n",
    "# Create a morphology object (this will fetch a ReconstructionMorphology object and create attributes for every parameter of ReconstructionMorphology)\n",
    "morphology = obi.ReconstructionMorphologyFromID(id_str=\"00009c20-8b2a-4b75-bc63-f28548c9caef\")\n",
    "\n",
    "# # Create a MorphologyMetricsExampleForm.initialize object\n",
    "# initialize = obi.MorphologyMetricsForm.Initialize(morphology=[morphology, morphology])\n",
    "\n",
    "# # Create a MorphologyMetricsExampleForm object with the initialize object\n",
    "# form = obi.MorphologyMetricsForm(initialize=initialize)\n",
    "\n",
    "# # Create the grid scan object\n",
    "# scan = obi.GridScan(form=obi.MorphologyMetricsForm(initialize=initialize),\n",
    "#                     coordinate_directory_option=\"ZERO_INDEX\",\n",
    "#                     output_root=\"../../obi-output/morphology_test/grid_scan\")\n",
    "\n",
    "# # Run the scan\n",
    "# scan.execute(processing_method=\"run\")  # , data_postprocessing_method=\"data\""
   ]
  },
  {
   "cell_type": "code",
   "execution_count": 2,
   "id": "a4987214",
   "metadata": {},
   "outputs": [
    {
     "name": "stdout",
     "output_type": "stream",
     "text": [
      "[2025-05-27 14:22:03,337] INFO: HTTP Request: GET https://staging.openbraininstitute.org/api/entitycore/reconstruction-morphology/00009c20-8b2a-4b75-bc63-f28548c9caef \"HTTP/1.1 404 Not Found\"\n"
     ]
    },
    {
     "ename": "EntitySDKError",
     "evalue": "HTTP error 404 for GET https://staging.openbraininstitute.org/api/entitycore/reconstruction-morphology/00009c20-8b2a-4b75-bc63-f28548c9caef\njson       : null\nparams     : None\nresponse   : {\"error_code\":\"ENTITY_NOT_FOUND\",\"message\":\"ReconstructionMorphology not found\",\"details\":null}",
     "output_type": "error",
     "traceback": [
      "\u001b[31m---------------------------------------------------------------------------\u001b[39m",
      "\u001b[31mHTTPStatusError\u001b[39m                           Traceback (most recent call last)",
      "\u001b[36mFile \u001b[39m\u001b[32m~/Documents/obi/code/obi-one/.venv/lib/python3.12/site-packages/entitysdk/util.py:51\u001b[39m, in \u001b[36mmake_db_api_request\u001b[39m\u001b[34m(url, method, json, parameters, files, project_context, token, http_client)\u001b[39m\n\u001b[32m     50\u001b[39m \u001b[38;5;28;01mtry\u001b[39;00m:\n\u001b[32m---> \u001b[39m\u001b[32m51\u001b[39m     \u001b[43mresponse\u001b[49m\u001b[43m.\u001b[49m\u001b[43mraise_for_status\u001b[49m\u001b[43m(\u001b[49m\u001b[43m)\u001b[49m\n\u001b[32m     52\u001b[39m \u001b[38;5;28;01mexcept\u001b[39;00m httpx.HTTPStatusError \u001b[38;5;28;01mas\u001b[39;00m e:\n",
      "\u001b[36mFile \u001b[39m\u001b[32m~/Documents/obi/code/obi-one/.venv/lib/python3.12/site-packages/httpx/_models.py:829\u001b[39m, in \u001b[36mResponse.raise_for_status\u001b[39m\u001b[34m(self)\u001b[39m\n\u001b[32m    828\u001b[39m message = message.format(\u001b[38;5;28mself\u001b[39m, error_type=error_type)\n\u001b[32m--> \u001b[39m\u001b[32m829\u001b[39m \u001b[38;5;28;01mraise\u001b[39;00m HTTPStatusError(message, request=request, response=\u001b[38;5;28mself\u001b[39m)\n",
      "\u001b[31mHTTPStatusError\u001b[39m: Client error '404 Not Found' for url 'https://staging.openbraininstitute.org/api/entitycore/reconstruction-morphology/00009c20-8b2a-4b75-bc63-f28548c9caef'\nFor more information check: https://developer.mozilla.org/en-US/docs/Web/HTTP/Status/404",
      "\nThe above exception was the direct cause of the following exception:\n",
      "\u001b[31mEntitySDKError\u001b[39m                            Traceback (most recent call last)",
      "\u001b[36mCell\u001b[39m\u001b[36m \u001b[39m\u001b[32mIn[2]\u001b[39m\u001b[32m, line 1\u001b[39m\n\u001b[32m----> \u001b[39m\u001b[32m1\u001b[39m \u001b[43mmorphology\u001b[49m\u001b[43m.\u001b[49m\u001b[43mentity\u001b[49m\n",
      "\u001b[36mFile \u001b[39m\u001b[32m~/Documents/obi/code/obi-one/obi_one/database/db_classes.py:134\u001b[39m, in \u001b[36mcreate_from_id_class_for_entitysdk_class.<locals>.entity\u001b[39m\u001b[34m(self)\u001b[39m\n\u001b[32m    132\u001b[39m \u001b[38;5;250m\u001b[39m\u001b[33;03m\"\"\"Property to access the original entity class.\"\"\"\u001b[39;00m\n\u001b[32m    133\u001b[39m \u001b[38;5;28;01mif\u001b[39;00m \u001b[38;5;28mself\u001b[39m._entity \u001b[38;5;129;01mis\u001b[39;00m \u001b[38;5;28;01mNone\u001b[39;00m:\n\u001b[32m--> \u001b[39m\u001b[32m134\u001b[39m     \u001b[38;5;28mself\u001b[39m._entity=\u001b[38;5;28;43mcls\u001b[39;49m\u001b[43m.\u001b[49m\u001b[43mfetch\u001b[49m\u001b[43m(\u001b[49m\u001b[38;5;28;43mself\u001b[39;49m\u001b[43m.\u001b[49m\u001b[43mid_str\u001b[49m\u001b[43m)\u001b[49m\n\u001b[32m    135\u001b[39m \u001b[38;5;28;01mreturn\u001b[39;00m \u001b[38;5;28mself\u001b[39m._entity\n",
      "\u001b[36mFile \u001b[39m\u001b[32m~/Documents/obi/code/obi-one/obi_one/database/db_classes.py:165\u001b[39m, in \u001b[36mfetch\u001b[39m\u001b[34m(cls, entity_id)\u001b[39m\n\u001b[32m    164\u001b[39m \u001b[38;5;28;01mdef\u001b[39;00m\u001b[38;5;250m \u001b[39m\u001b[34mfetch\u001b[39m(\u001b[38;5;28mcls\u001b[39m, entity_id):\n\u001b[32m--> \u001b[39m\u001b[32m165\u001b[39m     \u001b[38;5;28;01mreturn\u001b[39;00m \u001b[43mdb\u001b[49m\u001b[43m.\u001b[49m\u001b[43mclient\u001b[49m\u001b[43m.\u001b[49m\u001b[43mget_entity\u001b[49m\u001b[43m(\u001b[49m\u001b[43mentity_id\u001b[49m\u001b[43m=\u001b[49m\u001b[43mentity_id\u001b[49m\u001b[43m,\u001b[49m\u001b[43m \u001b[49m\u001b[43mentity_type\u001b[49m\u001b[43m=\u001b[49m\u001b[38;5;28;43mcls\u001b[39;49m\u001b[43m,\u001b[49m\u001b[43m \u001b[49m\u001b[43mtoken\u001b[49m\u001b[43m=\u001b[49m\u001b[43mdb\u001b[49m\u001b[43m.\u001b[49m\u001b[43mtoken\u001b[49m\u001b[43m)\u001b[49m\n",
      "\u001b[36mFile \u001b[39m\u001b[32m~/Documents/obi/code/obi-one/.venv/lib/python3.12/site-packages/entitysdk/client.py:125\u001b[39m, in \u001b[36mClient.get_entity\u001b[39m\u001b[34m(self, entity_id, entity_type, with_assets, project_context, token)\u001b[39m\n\u001b[32m    123\u001b[39m token = \u001b[38;5;28mself\u001b[39m._get_token(override_token=token)\n\u001b[32m    124\u001b[39m context = \u001b[38;5;28mself\u001b[39m._optional_user_context(override_context=project_context)\n\u001b[32m--> \u001b[39m\u001b[32m125\u001b[39m entity = \u001b[43mcore\u001b[49m\u001b[43m.\u001b[49m\u001b[43mget_entity\u001b[49m\u001b[43m(\u001b[49m\n\u001b[32m    126\u001b[39m \u001b[43m    \u001b[49m\u001b[43murl\u001b[49m\u001b[43m=\u001b[49m\u001b[43murl\u001b[49m\u001b[43m,\u001b[49m\n\u001b[32m    127\u001b[39m \u001b[43m    \u001b[49m\u001b[43mtoken\u001b[49m\u001b[43m=\u001b[49m\u001b[43mtoken\u001b[49m\u001b[43m,\u001b[49m\n\u001b[32m    128\u001b[39m \u001b[43m    \u001b[49m\u001b[43mentity_type\u001b[49m\u001b[43m=\u001b[49m\u001b[43mentity_type\u001b[49m\u001b[43m,\u001b[49m\n\u001b[32m    129\u001b[39m \u001b[43m    \u001b[49m\u001b[43mproject_context\u001b[49m\u001b[43m=\u001b[49m\u001b[43mcontext\u001b[49m\u001b[43m,\u001b[49m\n\u001b[32m    130\u001b[39m \u001b[43m    \u001b[49m\u001b[43mhttp_client\u001b[49m\u001b[43m=\u001b[49m\u001b[38;5;28;43mself\u001b[39;49m\u001b[43m.\u001b[49m\u001b[43m_http_client\u001b[49m\u001b[43m,\u001b[49m\n\u001b[32m    131\u001b[39m \u001b[43m\u001b[49m\u001b[43m)\u001b[49m\n\u001b[32m    132\u001b[39m \u001b[38;5;28;01mif\u001b[39;00m with_assets \u001b[38;5;129;01mand\u001b[39;00m \u001b[33m\"\u001b[39m\u001b[33massets\u001b[39m\u001b[33m\"\u001b[39m \u001b[38;5;129;01min\u001b[39;00m entity_type.model_fields:\n\u001b[32m    133\u001b[39m     url = route.get_assets_endpoint(\n\u001b[32m    134\u001b[39m         api_url=\u001b[38;5;28mself\u001b[39m.api_url,\n\u001b[32m    135\u001b[39m         entity_type=entity_type,\n\u001b[32m    136\u001b[39m         entity_id=entity_id,\n\u001b[32m    137\u001b[39m     )\n",
      "\u001b[36mFile \u001b[39m\u001b[32m~/Documents/obi/code/obi-one/.venv/lib/python3.12/site-packages/entitysdk/core.py:64\u001b[39m, in \u001b[36mget_entity\u001b[39m\u001b[34m(url, entity_type, project_context, token, http_client)\u001b[39m\n\u001b[32m     55\u001b[39m \u001b[38;5;28;01mdef\u001b[39;00m\u001b[38;5;250m \u001b[39m\u001b[34mget_entity\u001b[39m(\n\u001b[32m     56\u001b[39m     url: \u001b[38;5;28mstr\u001b[39m,\n\u001b[32m     57\u001b[39m     *,\n\u001b[32m   (...)\u001b[39m\u001b[32m     61\u001b[39m     http_client: httpx.Client | \u001b[38;5;28;01mNone\u001b[39;00m = \u001b[38;5;28;01mNone\u001b[39;00m,\n\u001b[32m     62\u001b[39m ) -> Identifiable:\n\u001b[32m     63\u001b[39m \u001b[38;5;250m    \u001b[39m\u001b[33;03m\"\"\"Instantiate entity with model ``entity_type`` from resource id.\"\"\"\u001b[39;00m\n\u001b[32m---> \u001b[39m\u001b[32m64\u001b[39m     response = \u001b[43mmake_db_api_request\u001b[49m\u001b[43m(\u001b[49m\n\u001b[32m     65\u001b[39m \u001b[43m        \u001b[49m\u001b[43murl\u001b[49m\u001b[43m=\u001b[49m\u001b[43murl\u001b[49m\u001b[43m,\u001b[49m\n\u001b[32m     66\u001b[39m \u001b[43m        \u001b[49m\u001b[43mmethod\u001b[49m\u001b[43m=\u001b[49m\u001b[33;43m\"\u001b[39;49m\u001b[33;43mGET\u001b[39;49m\u001b[33;43m\"\u001b[39;49m\u001b[43m,\u001b[49m\n\u001b[32m     67\u001b[39m \u001b[43m        \u001b[49m\u001b[43mjson\u001b[49m\u001b[43m=\u001b[49m\u001b[38;5;28;43;01mNone\u001b[39;49;00m\u001b[43m,\u001b[49m\n\u001b[32m     68\u001b[39m \u001b[43m        \u001b[49m\u001b[43mproject_context\u001b[49m\u001b[43m=\u001b[49m\u001b[43mproject_context\u001b[49m\u001b[43m,\u001b[49m\n\u001b[32m     69\u001b[39m \u001b[43m        \u001b[49m\u001b[43mtoken\u001b[49m\u001b[43m=\u001b[49m\u001b[43mtoken\u001b[49m\u001b[43m,\u001b[49m\n\u001b[32m     70\u001b[39m \u001b[43m        \u001b[49m\u001b[43mhttp_client\u001b[49m\u001b[43m=\u001b[49m\u001b[43mhttp_client\u001b[49m\u001b[43m,\u001b[49m\n\u001b[32m     71\u001b[39m \u001b[43m    \u001b[49m\u001b[43m)\u001b[49m\n\u001b[32m     73\u001b[39m     \u001b[38;5;28;01mreturn\u001b[39;00m serdes.deserialize_entity(response.json(), entity_type)\n",
      "\u001b[36mFile \u001b[39m\u001b[32m~/Documents/obi/code/obi-one/.venv/lib/python3.12/site-packages/entitysdk/util.py:59\u001b[39m, in \u001b[36mmake_db_api_request\u001b[39m\u001b[34m(url, method, json, parameters, files, project_context, token, http_client)\u001b[39m\n\u001b[32m     52\u001b[39m \u001b[38;5;28;01mexcept\u001b[39;00m httpx.HTTPStatusError \u001b[38;5;28;01mas\u001b[39;00m e:\n\u001b[32m     53\u001b[39m     message = (\n\u001b[32m     54\u001b[39m         \u001b[33mf\u001b[39m\u001b[33m\"\u001b[39m\u001b[33mHTTP error \u001b[39m\u001b[38;5;132;01m{\u001b[39;00mresponse.status_code\u001b[38;5;132;01m}\u001b[39;00m\u001b[33m for \u001b[39m\u001b[38;5;132;01m{\u001b[39;00mmethod\u001b[38;5;132;01m}\u001b[39;00m\u001b[33m \u001b[39m\u001b[38;5;132;01m{\u001b[39;00murl\u001b[38;5;132;01m}\u001b[39;00m\u001b[38;5;130;01m\\n\u001b[39;00m\u001b[33m\"\u001b[39m\n\u001b[32m     55\u001b[39m         \u001b[33mf\u001b[39m\u001b[33m\"\u001b[39m\u001b[33mjson       : \u001b[39m\u001b[38;5;132;01m{\u001b[39;00mdumps(json,\u001b[38;5;250m \u001b[39mindent=\u001b[32m2\u001b[39m)\u001b[38;5;132;01m}\u001b[39;00m\u001b[38;5;130;01m\\n\u001b[39;00m\u001b[33m\"\u001b[39m\n\u001b[32m     56\u001b[39m         \u001b[33mf\u001b[39m\u001b[33m\"\u001b[39m\u001b[33mparams     : \u001b[39m\u001b[38;5;132;01m{\u001b[39;00mparameters\u001b[38;5;132;01m}\u001b[39;00m\u001b[38;5;130;01m\\n\u001b[39;00m\u001b[33m\"\u001b[39m\n\u001b[32m     57\u001b[39m         \u001b[33mf\u001b[39m\u001b[33m\"\u001b[39m\u001b[33mresponse   : \u001b[39m\u001b[38;5;132;01m{\u001b[39;00mresponse.text\u001b[38;5;132;01m}\u001b[39;00m\u001b[33m\"\u001b[39m\n\u001b[32m     58\u001b[39m     )\n\u001b[32m---> \u001b[39m\u001b[32m59\u001b[39m     \u001b[38;5;28;01mraise\u001b[39;00m EntitySDKError(message) \u001b[38;5;28;01mfrom\u001b[39;00m\u001b[38;5;250m \u001b[39m\u001b[34;01me\u001b[39;00m\n\u001b[32m     60\u001b[39m \u001b[38;5;28;01mreturn\u001b[39;00m response\n",
      "\u001b[31mEntitySDKError\u001b[39m: HTTP error 404 for GET https://staging.openbraininstitute.org/api/entitycore/reconstruction-morphology/00009c20-8b2a-4b75-bc63-f28548c9caef\njson       : null\nparams     : None\nresponse   : {\"error_code\":\"ENTITY_NOT_FOUND\",\"message\":\"ReconstructionMorphology not found\",\"details\":null}"
     ]
    }
   ],
   "source": [
    "morphology.entity"
   ]
  },
  {
   "cell_type": "code",
   "execution_count": 3,
   "id": "d7068a70",
   "metadata": {},
   "outputs": [
    {
     "name": "stdout",
     "output_type": "stream",
     "text": [
      "[2025-05-27 14:22:30,323] INFO: HTTP Request: GET https://staging.openbraininstitute.org/api/entitycore/reconstruction-morphology?page=1 \"HTTP/1.1 200 OK\"\n"
     ]
    },
    {
     "ename": "ValidationError",
     "evalue": "2 validation errors for ReconstructionMorphology\ncontributions.0.agent.person.givenName\n  Field required [type=missing, input_value={'id': '98ceb485-974c-414...alez', 'type': 'person'}, input_type=dict]\n    For further information visit https://errors.pydantic.dev/2.11/v/missing\ncontributions.0.agent.person.familyName\n  Field required [type=missing, input_value={'id': '98ceb485-974c-414...alez', 'type': 'person'}, input_type=dict]\n    For further information visit https://errors.pydantic.dev/2.11/v/missing",
     "output_type": "error",
     "traceback": [
      "\u001b[31m---------------------------------------------------------------------------\u001b[39m",
      "\u001b[31mValidationError\u001b[39m                           Traceback (most recent call last)",
      "\u001b[36mCell\u001b[39m\u001b[36m \u001b[39m\u001b[32mIn[3]\u001b[39m\u001b[32m, line 1\u001b[39m\n\u001b[32m----> \u001b[39m\u001b[32m1\u001b[39m morphologies = \u001b[43mobi\u001b[49m\u001b[43m.\u001b[49m\u001b[43mReconstructionMorphology\u001b[49m\u001b[43m.\u001b[49m\u001b[43mfind\u001b[49m\u001b[43m(\u001b[49m\u001b[43m)\u001b[49m\n\u001b[32m      2\u001b[39m morphology = morphologies[\u001b[32m0\u001b[39m]\n\u001b[32m      3\u001b[39m \u001b[38;5;66;03m# species = obi.Species.find(name=\"Mus musculus\")\u001b[39;00m\n",
      "\u001b[36mFile \u001b[39m\u001b[32m~/Documents/obi/code/obi-one/obi_one/database/db_classes.py:157\u001b[39m, in \u001b[36mfind\u001b[39m\u001b[34m(cls, limit, **kwargs)\u001b[39m\n\u001b[32m    154\u001b[39m \u001b[38;5;28;01mdef\u001b[39;00m\u001b[38;5;250m \u001b[39m\u001b[34mfind\u001b[39m(\u001b[38;5;28mcls\u001b[39m, limit=\u001b[32m10\u001b[39m, **kwargs):\n\u001b[32m    155\u001b[39m     \u001b[38;5;28;01mreturn\u001b[39;00m \u001b[43mdb\u001b[49m\u001b[43m.\u001b[49m\u001b[43mclient\u001b[49m\u001b[43m.\u001b[49m\u001b[43msearch_entity\u001b[49m\u001b[43m(\u001b[49m\n\u001b[32m    156\u001b[39m \u001b[43m        \u001b[49m\u001b[43mentity_type\u001b[49m\u001b[43m=\u001b[49m\u001b[38;5;28;43mcls\u001b[39;49m\u001b[43m,\u001b[49m\u001b[43m \u001b[49m\u001b[43mquery\u001b[49m\u001b[43m=\u001b[49m\u001b[43mkwargs\u001b[49m\u001b[43m,\u001b[49m\u001b[43m \u001b[49m\u001b[43mtoken\u001b[49m\u001b[43m=\u001b[49m\u001b[43mdb\u001b[49m\u001b[43m.\u001b[49m\u001b[43mtoken\u001b[49m\u001b[43m,\u001b[49m\u001b[43m \u001b[49m\u001b[43mlimit\u001b[49m\u001b[43m=\u001b[49m\u001b[43mlimit\u001b[49m\n\u001b[32m--> \u001b[39m\u001b[32m157\u001b[39m \u001b[43m    \u001b[49m\u001b[43m)\u001b[49m\u001b[43m.\u001b[49m\u001b[43mall\u001b[49m\u001b[43m(\u001b[49m\u001b[43m)\u001b[49m\n",
      "\u001b[36mFile \u001b[39m\u001b[32m~/Documents/obi/code/obi-one/.venv/lib/python3.12/site-packages/entitysdk/result.py:47\u001b[39m, in \u001b[36mIteratorResult.all\u001b[39m\u001b[34m(self)\u001b[39m\n\u001b[32m     45\u001b[39m \u001b[38;5;28;01mdef\u001b[39;00m\u001b[38;5;250m \u001b[39m\u001b[34mall\u001b[39m(\u001b[38;5;28mself\u001b[39m) -> \u001b[38;5;28mlist\u001b[39m[ResultType]:\n\u001b[32m     46\u001b[39m \u001b[38;5;250m    \u001b[39m\u001b[33;03m\"\"\"Return all items from the iterable.\"\"\"\u001b[39;00m\n\u001b[32m---> \u001b[39m\u001b[32m47\u001b[39m     \u001b[38;5;28;01mreturn\u001b[39;00m \u001b[38;5;28;43mlist\u001b[39;49m\u001b[43m(\u001b[49m\u001b[38;5;28;43mself\u001b[39;49m\u001b[43m.\u001b[49m\u001b[43m_iterable\u001b[49m\u001b[43m)\u001b[49m\n",
      "\u001b[36mFile \u001b[39m\u001b[32m~/Documents/obi/code/obi-one/.venv/lib/python3.12/site-packages/entitysdk/core.py:51\u001b[39m, in \u001b[36m<genexpr>\u001b[39m\u001b[34m(.0)\u001b[39m\n\u001b[32m     27\u001b[39m \u001b[38;5;250m\u001b[39m\u001b[33;03m\"\"\"Search for entities.\u001b[39;00m\n\u001b[32m     28\u001b[39m \n\u001b[32m     29\u001b[39m \u001b[33;03mArgs:\u001b[39;00m\n\u001b[32m   (...)\u001b[39m\u001b[32m     39\u001b[39m \u001b[33;03m    List of entities.\u001b[39;00m\n\u001b[32m     40\u001b[39m \u001b[33;03m\"\"\"\u001b[39;00m\n\u001b[32m     41\u001b[39m iterator: Iterator[\u001b[38;5;28mdict\u001b[39m] = stream_paginated_request(\n\u001b[32m     42\u001b[39m     url=url,\n\u001b[32m     43\u001b[39m     method=\u001b[33m\"\u001b[39m\u001b[33mGET\u001b[39m\u001b[33m\"\u001b[39m,\n\u001b[32m   (...)\u001b[39m\u001b[32m     48\u001b[39m     http_client=http_client,\n\u001b[32m     49\u001b[39m )\n\u001b[32m     50\u001b[39m \u001b[38;5;28;01mreturn\u001b[39;00m IteratorResult(\n\u001b[32m---> \u001b[39m\u001b[32m51\u001b[39m     \u001b[43mserdes\u001b[49m\u001b[43m.\u001b[49m\u001b[43mdeserialize_entity\u001b[49m\u001b[43m(\u001b[49m\u001b[43mjson_data\u001b[49m\u001b[43m,\u001b[49m\u001b[43m \u001b[49m\u001b[43mentity_type\u001b[49m\u001b[43m)\u001b[49m \u001b[38;5;28;01mfor\u001b[39;00m json_data \u001b[38;5;129;01min\u001b[39;00m iterator\n\u001b[32m     52\u001b[39m )\n",
      "\u001b[36mFile \u001b[39m\u001b[32m~/Documents/obi/code/obi-one/.venv/lib/python3.12/site-packages/entitysdk/serdes.py:17\u001b[39m, in \u001b[36mdeserialize_entity\u001b[39m\u001b[34m(json_data, entity_type)\u001b[39m\n\u001b[32m     15\u001b[39m \u001b[38;5;28;01mdef\u001b[39;00m\u001b[38;5;250m \u001b[39m\u001b[34mdeserialize_entity\u001b[39m(json_data: \u001b[38;5;28mdict\u001b[39m, entity_type: \u001b[38;5;28mtype\u001b[39m[BaseModel]):\n\u001b[32m     16\u001b[39m \u001b[38;5;250m    \u001b[39m\u001b[33;03m\"\"\"Deserialize json into entity.\"\"\"\u001b[39;00m\n\u001b[32m---> \u001b[39m\u001b[32m17\u001b[39m     \u001b[38;5;28;01mreturn\u001b[39;00m \u001b[43mentity_type\u001b[49m\u001b[43m.\u001b[49m\u001b[43mmodel_validate\u001b[49m\u001b[43m(\u001b[49m\u001b[43mjson_data\u001b[49m\u001b[43m)\u001b[49m\n",
      "\u001b[36mFile \u001b[39m\u001b[32m~/Documents/obi/code/obi-one/.venv/lib/python3.12/site-packages/pydantic/main.py:705\u001b[39m, in \u001b[36mBaseModel.model_validate\u001b[39m\u001b[34m(cls, obj, strict, from_attributes, context, by_alias, by_name)\u001b[39m\n\u001b[32m    699\u001b[39m \u001b[38;5;28;01mif\u001b[39;00m by_alias \u001b[38;5;129;01mis\u001b[39;00m \u001b[38;5;28;01mFalse\u001b[39;00m \u001b[38;5;129;01mand\u001b[39;00m by_name \u001b[38;5;129;01mis\u001b[39;00m \u001b[38;5;129;01mnot\u001b[39;00m \u001b[38;5;28;01mTrue\u001b[39;00m:\n\u001b[32m    700\u001b[39m     \u001b[38;5;28;01mraise\u001b[39;00m PydanticUserError(\n\u001b[32m    701\u001b[39m         \u001b[33m'\u001b[39m\u001b[33mAt least one of `by_alias` or `by_name` must be set to True.\u001b[39m\u001b[33m'\u001b[39m,\n\u001b[32m    702\u001b[39m         code=\u001b[33m'\u001b[39m\u001b[33mvalidate-by-alias-and-name-false\u001b[39m\u001b[33m'\u001b[39m,\n\u001b[32m    703\u001b[39m     )\n\u001b[32m--> \u001b[39m\u001b[32m705\u001b[39m \u001b[38;5;28;01mreturn\u001b[39;00m \u001b[38;5;28;43mcls\u001b[39;49m\u001b[43m.\u001b[49m\u001b[43m__pydantic_validator__\u001b[49m\u001b[43m.\u001b[49m\u001b[43mvalidate_python\u001b[49m\u001b[43m(\u001b[49m\n\u001b[32m    706\u001b[39m \u001b[43m    \u001b[49m\u001b[43mobj\u001b[49m\u001b[43m,\u001b[49m\u001b[43m \u001b[49m\u001b[43mstrict\u001b[49m\u001b[43m=\u001b[49m\u001b[43mstrict\u001b[49m\u001b[43m,\u001b[49m\u001b[43m \u001b[49m\u001b[43mfrom_attributes\u001b[49m\u001b[43m=\u001b[49m\u001b[43mfrom_attributes\u001b[49m\u001b[43m,\u001b[49m\u001b[43m \u001b[49m\u001b[43mcontext\u001b[49m\u001b[43m=\u001b[49m\u001b[43mcontext\u001b[49m\u001b[43m,\u001b[49m\u001b[43m \u001b[49m\u001b[43mby_alias\u001b[49m\u001b[43m=\u001b[49m\u001b[43mby_alias\u001b[49m\u001b[43m,\u001b[49m\u001b[43m \u001b[49m\u001b[43mby_name\u001b[49m\u001b[43m=\u001b[49m\u001b[43mby_name\u001b[49m\n\u001b[32m    707\u001b[39m \u001b[43m\u001b[49m\u001b[43m)\u001b[49m\n",
      "\u001b[31mValidationError\u001b[39m: 2 validation errors for ReconstructionMorphology\ncontributions.0.agent.person.givenName\n  Field required [type=missing, input_value={'id': '98ceb485-974c-414...alez', 'type': 'person'}, input_type=dict]\n    For further information visit https://errors.pydantic.dev/2.11/v/missing\ncontributions.0.agent.person.familyName\n  Field required [type=missing, input_value={'id': '98ceb485-974c-414...alez', 'type': 'person'}, input_type=dict]\n    For further information visit https://errors.pydantic.dev/2.11/v/missing"
     ]
    }
   ],
   "source": [
    "morphologies = obi.ReconstructionMorphology.find()\n",
    "morphology = morphologies[0]\n",
    "# species = obi.Species.find(name=\"Mus musculus\")"
   ]
  },
  {
   "cell_type": "code",
   "execution_count": null,
   "id": "47883b0f",
   "metadata": {},
   "outputs": [],
   "source": []
  }
 ],
 "metadata": {
  "kernelspec": {
   "display_name": ".venv",
   "language": "python",
   "name": "python3"
  },
  "language_info": {
   "codemirror_mode": {
    "name": "ipython",
    "version": 3
   },
   "file_extension": ".py",
   "mimetype": "text/x-python",
   "name": "python",
   "nbconvert_exporter": "python",
   "pygments_lexer": "ipython3",
   "version": "3.12.9"
  }
 },
 "nbformat": 4,
 "nbformat_minor": 5
}
