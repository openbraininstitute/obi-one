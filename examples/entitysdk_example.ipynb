{
 "cells": [
  {
   "cell_type": "code",
   "execution_count": null,
   "id": "f5742b73",
   "metadata": {},
   "outputs": [],
   "source": [
    "import obi_one as obi\n",
    "\n",
    "# entitycore_api_url = \"http://127.0.0.1:8000\"\n",
    "entitycore_api_url = \"https://staging.openbraininstitute.org/api/entitycore\"\n",
    "\n",
    "# Initialize the database\n",
    "obi.db.initialize(virtual_lab_id=\"e6030ed8-a589-4be2-80a6-f975406eb1f6\", \n",
    "                    project_id=\"2720f785-a3a2-4472-969d-19a53891c817\",\n",
    "                    entitycore_api_url=entitycore_api_url\n",
    "                    )\n"
   ]
  },
  {
   "cell_type": "markdown",
   "id": "934c58e6",
   "metadata": {},
   "source": [
    "## Find a morphology from entitycore"
   ]
  },
  {
   "cell_type": "code",
   "execution_count": null,
   "id": "dbb277d3",
   "metadata": {},
   "outputs": [],
   "source": [
    "client = obi.db.client\n",
    "token = obi.db.token\n",
    "\n",
    "from entitysdk.models.morphology import (\n",
    "    ReconstructionMorphology,\n",
    ")\n",
    "kwargs = {}\n",
    "reconstruction_morphologies = client.search_entity(\n",
    "    entity_type=ReconstructionMorphology, query=kwargs, token=token, limit=10\n",
    ").all()\n",
    "\n",
    "morphology = reconstruction_morphologies[0]"
   ]
  },
  {
   "cell_type": "markdown",
   "id": "b306fd85",
   "metadata": {},
   "source": [
    "## Create a ReconstructionMorphologyFromID object and pass it to the MorphologyMetricsForm for GridScan execution"
   ]
  },
  {
   "cell_type": "code",
   "execution_count": null,
   "id": "a4987214",
   "metadata": {},
   "outputs": [],
   "source": [
    "# Create a morphology object (this will fetch a ReconstructionMorphology object and create attributes for every parameter of ReconstructionMorphology)\n",
    "morphology_from_id = obi.ReconstructionMorphologyFromID(id_str=str(morphology.id))\n",
    "\n",
    "# Create a MorphologyMetricsExampleForm.initialize object\n",
    "initialize = obi.MorphologyMetricsForm.Initialize(morphology=[morphology_from_id, morphology_from_id])\n",
    "\n",
    "# Create a MorphologyMetricsExampleForm object with the initialize object\n",
    "form = obi.MorphologyMetricsForm(initialize=initialize)\n",
    "\n",
    "# Create the grid scan object\n",
    "scan = obi.GridScan(form=obi.MorphologyMetricsForm(initialize=initialize),\n",
    "                    coordinate_directory_option=\"ZERO_INDEX\",\n",
    "                    output_root=\"../../obi-output/morphology_test/grid_scan\")\n",
    "\n",
    "# Run the scan\n",
    "scan.execute(processing_method=\"run\")  # , data_postprocessing_method=\"data\"\n"
   ]
  },
  {
   "cell_type": "markdown",
   "id": "6228c631",
   "metadata": {},
   "source": [
    "## Access the properties of the ReconstructionMorphologyFromID object"
   ]
  },
  {
   "cell_type": "code",
   "execution_count": null,
   "id": "9a32f529",
   "metadata": {},
   "outputs": [],
   "source": [
    "morphology_from_id.entity\n",
    "print(morphology_from_id.swc_file)\n",
    "print(morphology_from_id.neurom_morphology)\n",
    "print(morphology_from_id.morphio_morphology)"
   ]
  },
  {
   "cell_type": "code",
   "execution_count": null,
   "id": "d7068a70",
   "metadata": {},
   "outputs": [],
   "source": [
    "morphologies = obi.ReconstructionMorphology.find()\n",
    "morphology = morphologies[0]\n",
    "# species = obi.Species.find(name=\"Mus musculus\")"
   ]
  }
 ],
 "metadata": {
  "kernelspec": {
   "display_name": ".venv",
   "language": "python",
   "name": "python3"
  },
  "language_info": {
   "codemirror_mode": {
    "name": "ipython",
    "version": 3
   },
   "file_extension": ".py",
   "mimetype": "text/x-python",
   "name": "python",
   "nbconvert_exporter": "python",
   "pygments_lexer": "ipython3",
   "version": "3.12.9"
  }
 },
 "nbformat": 4,
 "nbformat_minor": 5
}
