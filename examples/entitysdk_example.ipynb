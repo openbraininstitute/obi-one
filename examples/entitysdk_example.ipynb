{
 "cells": [
  {
   "cell_type": "code",
   "execution_count": 1,
   "id": "f5742b73",
   "metadata": {},
   "outputs": [],
   "source": [
    "import obi_one as obi\n",
    "\n",
    "\n",
    "# entitycore_api_url = \"http://127.0.0.1:8000\"\n",
    "entitycore_api_url = \"https://staging.openbraininstitute.org/api/entitycore\"\n",
    "\n",
    "# Initialize the database\n",
    "obi.db.initialize(virtual_lab_id=\"e6030ed8-a589-4be2-80a6-f975406eb1f6\", \n",
    "                    project_id=\"2720f785-a3a2-4472-969d-19a53891c817\",\n",
    "                    entitycore_api_url=entitycore_api_url,\n",
    "                    entity_file_store_root=\"../../obi-output\")\n",
    "\n",
    "\n",
    "\n",
    "# Create a morphology object (this will fetch a ReconstructionMorphology object and create attributes for every parameter of ReconstructionMorphology)\n",
    "# morphology = obi.ReconstructionMorphologyFromID(id_str=\"00009c20-8b2a-4b75-bc63-f28548c9caef\")\n",
    "\n",
    "# # Create a MorphologyMetricsExampleForm.initialize object\n",
    "# initialize = obi.MorphologyMetricsForm.Initialize(morphology=[morphology, morphology])\n",
    "\n",
    "# # Create a MorphologyMetricsExampleForm object with the initialize object\n",
    "# form = obi.MorphologyMetricsForm(initialize=initialize)\n",
    "\n",
    "# # Create the grid scan object\n",
    "# scan = obi.GridScan(form=obi.MorphologyMetricsForm(initialize=initialize),\n",
    "#                     coordinate_directory_option=\"ZERO_INDEX\",\n",
    "#                     output_root=\"../../obi-output/morphology_test/grid_scan\")\n",
    "\n",
    "# # Run the scan\n",
    "# scan.execute(processing_method=\"run\")  # , data_postprocessing_method=\"data\""
   ]
  },
  {
   "cell_type": "code",
   "execution_count": 2,
   "id": "dbb277d3",
   "metadata": {},
   "outputs": [
    {
     "name": "stdout",
     "output_type": "stream",
     "text": [
      "[2025-05-30 15:20:59,896] INFO: HTTP Request: GET https://staging.openbraininstitute.org/api/entitycore/reconstruction-morphology?page=1 \"HTTP/1.1 200 OK\"\n"
     ]
    }
   ],
   "source": [
    "client = obi.db.client\n",
    "token = obi.db.token\n",
    "\n",
    "\n",
    "from entitysdk.models.morphology import (\n",
    "    ReconstructionMorphology,\n",
    ")\n",
    "kwargs = {}\n",
    "reconstruction_morphologies = client.search_entity(\n",
    "    entity_type=ReconstructionMorphology, query=kwargs, token=token, limit=10\n",
    ").all()"
   ]
  },
  {
   "cell_type": "code",
   "execution_count": 3,
   "id": "a4987214",
   "metadata": {},
   "outputs": [],
   "source": [
    "import inspect\n",
    "\n",
    "morphology = reconstruction_morphologies[0]\n",
    "morphology.id\n",
    "\n",
    "# Print the input parameters of obi.ReconstructionMorphologyFromID\n",
    "# print(inspect.signature(obi.ReconstructionMorphologyFromID))\n",
    "# print(obi.ReconstructionMorphologyFromID)\n",
    "\n",
    "morphology_from_id = obi.ReconstructionMorphologyFromID(id_str=str(morphology.id))"
   ]
  },
  {
   "cell_type": "code",
   "execution_count": 4,
   "id": "9a32f529",
   "metadata": {},
   "outputs": [
    {
     "name": "stdout",
     "output_type": "stream",
     "text": [
      "[2025-05-30 15:21:04,910] INFO: HTTP Request: GET https://staging.openbraininstitute.org/api/entitycore/reconstruction-morphology/e380cafe-c36b-43e1-b040-5c7ee34b0e72 \"HTTP/1.1 200 OK\"\n",
      "[2025-05-30 15:21:05,012] INFO: HTTP Request: GET https://staging.openbraininstitute.org/api/entitycore/reconstruction-morphology/e380cafe-c36b-43e1-b040-5c7ee34b0e72/assets \"HTTP/1.1 200 OK\"\n"
     ]
    },
    {
     "data": {
      "text/plain": [
       "ReconstructionMorphology(assets=[Asset(id=UUID('d0597874-a57b-462b-b057-bc94ad1730c7'), update_date=None, creation_date=None, path='18864_00528.swc', full_path='public/a98b7abc-fc46-4700-9e3d-37137812c730/0dbced5f-cc3d-488a-8c7f-cfb8ea039dc6/assets/reconstruction_morphology/e380cafe-c36b-43e1-b040-5c7ee34b0e72/18864_00528.swc', is_directory=False, content_type='application/swc', size=3731439, sha256_digest='0bad607f51a1206760bfe79a43593325935a90d70de6ad593ca68c4648c0c0ee', status='created', meta={'legacy': {'name': '18864_00528.swc', '@type': 'DataDownload', 'digest': {'value': '0bad607f51a1206760bfe79a43593325935a90d70de6ad593ca68c4648c0c0ee', 'algorithm': 'SHA-256'}, 'atLocation': {'@type': 'Location', 'store': {'@id': 'https://bbp.epfl.ch/neurosciencegraph/data/storages/proj166_storage', '_rev': 1, '@type': 'RemoteDiskStorage'}, 'location': 'file:///gpfs/bbp.cscs.ch/data/project/proj166/nexus/bbp-external/seu/d/b/b/6/6/2/b/b/18864_00528.swc'}, 'contentUrl': 'https://bbp.epfl.ch/nexus/v1/files/bbp-external/seu/https%3A%2F%2Fbbp.epfl.ch%2Fdata%2Fbbp-external%2Fseu%2F34ce784a-e812-4a2e-93de-6639efeb0743', 'contentSize': {'value': 3731439, 'unitCode': 'bytes'}, 'encodingFormat': 'application/swc'}}), Asset(id=UUID('b954ee81-e971-4820-9510-e5eb0d44917d'), update_date=None, creation_date=None, path='18864_00528.asc', full_path='public/a98b7abc-fc46-4700-9e3d-37137812c730/0dbced5f-cc3d-488a-8c7f-cfb8ea039dc6/assets/reconstruction_morphology/e380cafe-c36b-43e1-b040-5c7ee34b0e72/18864_00528.asc', is_directory=False, content_type='application/asc', size=7352422, sha256_digest='0d6a28143374d7c2db11bb3461ea2eb0c7a9e99c9b38255482e2a70e94705047', status='created', meta={'legacy': {'name': '18864_00528.asc', '@type': 'DataDownload', 'digest': {'value': '0d6a28143374d7c2db11bb3461ea2eb0c7a9e99c9b38255482e2a70e94705047', 'algorithm': 'SHA-256'}, 'atLocation': {'@type': 'Location', 'store': {'@id': 'https://bbp.epfl.ch/neurosciencegraph/data/storages/proj166_storage', '_rev': 1, '@type': 'RemoteDiskStorage'}, 'location': 'file:///gpfs/bbp.cscs.ch/data/project/proj166/nexus/bbp-external/seu/a/1/8/b/2/6/a/1/18864_00528.asc'}, 'contentUrl': 'https://bbp.epfl.ch/nexus/v1/files/bbp-external/seu/https%3A%2F%2Fbbp.epfl.ch%2Fdata%2Fbbp-external%2Fseu%2F0316d5ab-0425-4b2f-bf42-f58a0d4067c0', 'contentSize': {'value': 7352422, 'unitCode': 'bytes'}, 'encodingFormat': 'application/asc'}}), Asset(id=UUID('d5cb4780-cd72-44c6-b161-d19c8d0c160b'), update_date=None, creation_date=None, path='18864_00528.h5', full_path='public/a98b7abc-fc46-4700-9e3d-37137812c730/0dbced5f-cc3d-488a-8c7f-cfb8ea039dc6/assets/reconstruction_morphology/e380cafe-c36b-43e1-b040-5c7ee34b0e72/18864_00528.h5', is_directory=False, content_type='application/h5', size=1368936, sha256_digest='d23873af216cc6a240e6f5e621c0a3b28c6557c60875c6c920cc0037a19cae12', status='created', meta={'legacy': {'name': '18864_00528.h5', '@type': 'DataDownload', 'digest': {'value': 'd23873af216cc6a240e6f5e621c0a3b28c6557c60875c6c920cc0037a19cae12', 'algorithm': 'SHA-256'}, 'atLocation': {'@type': 'Location', 'store': {'@id': 'https://bbp.epfl.ch/neurosciencegraph/data/storages/proj166_storage', '_rev': 1, '@type': 'RemoteDiskStorage'}, 'location': 'file:///gpfs/bbp.cscs.ch/data/project/proj166/nexus/bbp-external/seu/6/a/b/7/d/d/5/8/18864_00528.h5'}, 'contentUrl': 'https://bbp.epfl.ch/nexus/v1/files/bbp-external/seu/https%3A%2F%2Fbbp.epfl.ch%2Fdata%2Fbbp-external%2Fseu%2F293ab627-d622-4ccf-ab6f-a40f751daf63', 'contentSize': {'value': 1368936, 'unitCode': 'bytes'}, 'encodingFormat': 'application/h5'}})], id=UUID('e380cafe-c36b-43e1-b040-5c7ee34b0e72'), update_date=datetime.datetime(2024, 12, 4, 13, 54, 29, 266016, tzinfo=TzInfo(UTC)), creation_date=datetime.datetime(2024, 11, 25, 10, 49, 10, 183426, tzinfo=TzInfo(UTC)), name='18864_00528', description='Initial neuron morphology shared by provider', type='reconstruction_morphology', created_by=None, updated_by=None, authorized_public=True, authorized_project_id=UUID('0dbced5f-cc3d-488a-8c7f-cfb8ea039dc6'), contributions=[Contribution(id=UUID('7be1836a-db97-4da9-a762-43cc4c2a0cab'), update_date=datetime.datetime(2025, 5, 26, 11, 49, 27, 516926, tzinfo=TzInfo(UTC)), creation_date=datetime.datetime(2025, 5, 26, 11, 49, 27, 516926, tzinfo=TzInfo(UTC)), agent=Organization(id=UUID('07bf29b5-0eb9-42ef-aad3-fcf4c943be93'), update_date=datetime.datetime(2022, 4, 11, 8, 28, 4, 176000, tzinfo=TzInfo(UTC)), creation_date=datetime.datetime(2020, 8, 28, 11, 43, 59, 117000, tzinfo=TzInfo(UTC)), type='organization', pref_label='Southeast University', alternative_name=''), role=Role(id=UUID('2ded103c-fcb8-4e2c-9166-a38abb96dc96'), update_date=datetime.datetime(2025, 5, 26, 11, 49, 19, 704793, tzinfo=TzInfo(UTC)), creation_date=datetime.datetime(2025, 5, 26, 11, 49, 19, 704793, tzinfo=TzInfo(UTC)), name='unspecified', role_id='unspecified'), entity=None)], legacy_id=['https://bbp.epfl.ch/data/bbp-external/seu/95f7ce58-a1ec-43a0-baeb-776adf820af2'], location=BrainLocation(x=4185.5498046875, y=1452.9000244140625, z=7027.07568359375), brain_region=BrainRegion(id=UUID('d4c6700b-5f00-4916-bdf8-b7f044a1d4d0'), update_date=datetime.datetime(2025, 5, 26, 11, 49, 1, 828343, tzinfo=TzInfo(UTC)), creation_date=datetime.datetime(2025, 5, 26, 11, 49, 1, 828343, tzinfo=TzInfo(UTC)), name='Secondary motor area, layer 3', annotation_value=2511156654, acronym='MOs3', parent_structure_id=UUID('d6dffc21-b1c2-4d56-9ae3-237faa884965'), hierarchy_id=UUID('e3e70682-c209-4cac-a29f-6fbed82c07cd'), color_hex_triplet='1F9D5A'), species=Species(id=UUID('1882a2d3-4b2e-4ab3-9f0a-47f9b5f3e008'), update_date=datetime.datetime(2025, 5, 26, 11, 49, 19, 684020, tzinfo=TzInfo(UTC)), creation_date=datetime.datetime(2025, 5, 26, 11, 49, 19, 684020, tzinfo=TzInfo(UTC)), name='Mus musculus', taxonomy_id='NCBITaxon:10090'), strain=Strain(id=UUID('8c1119df-9b98-4f27-9f19-16b3c43e719d'), update_date=datetime.datetime(2025, 5, 26, 11, 49, 24, 854190, tzinfo=TzInfo(UTC)), creation_date=datetime.datetime(2025, 5, 26, 11, 49, 24, 854190, tzinfo=TzInfo(UTC)), name='Cux2-CreERT2', taxonomy_id='http://bbp.epfl.ch/neurosciencegraph/ontologies/speciestaxonomy/RBS4I6tyfUBSDt1i0jXLpgN', species_id=UUID('1882a2d3-4b2e-4ab3-9f0a-47f9b5f3e008')), license=None, mtypes=[])"
      ]
     },
     "execution_count": 4,
     "metadata": {},
     "output_type": "execute_result"
    }
   ],
   "source": [
    "morphology_from_id.entity"
   ]
  },
  {
   "cell_type": "code",
   "execution_count": null,
   "id": "d7068a70",
   "metadata": {},
   "outputs": [],
   "source": [
    "morphologies = obi.ReconstructionMorphology.find()\n",
    "morphology = morphologies[0]\n",
    "# species = obi.Species.find(name=\"Mus musculus\")"
   ]
  },
  {
   "cell_type": "code",
   "execution_count": null,
   "id": "47883b0f",
   "metadata": {},
   "outputs": [],
   "source": []
  }
 ],
 "metadata": {
  "kernelspec": {
   "display_name": ".venv",
   "language": "python",
   "name": "python3"
  },
  "language_info": {
   "codemirror_mode": {
    "name": "ipython",
    "version": 3
   },
   "file_extension": ".py",
   "mimetype": "text/x-python",
   "name": "python",
   "nbconvert_exporter": "python",
   "pygments_lexer": "ipython3",
   "version": "3.12.9"
  }
 },
 "nbformat": 4,
 "nbformat_minor": 5
}
