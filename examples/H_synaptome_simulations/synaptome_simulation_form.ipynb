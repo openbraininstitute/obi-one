{
 "cells": [
  {
   "cell_type": "markdown",
   "id": "853f83cd",
   "metadata": {},
   "source": [
    "# Synaptome Simulation Example with OBI-One Form Logic\n",
    "\n",
    "This notebook demonstrates how to run a synaptome simulation using the OBI-One form-based workflow, similar to the circuit simulation example."
   ]
  },
  {
   "cell_type": "code",
   "execution_count": 1,
   "id": "d3f57f39",
   "metadata": {},
   "outputs": [
    {
     "data": {
      "application/vnd.jupyter.widget-view+json": {
       "model_id": "f918a893ea3e47fa8b42370bc608e6e0",
       "version_major": 2,
       "version_minor": 0
      },
      "text/plain": [
       "Dropdown(description='Select:', options=(('Test', {'id': 'af313912-d277-4021-a612-7b3b9dfe7fef', 'name': 'Test…"
      ]
     },
     "metadata": {},
     "output_type": "display_data"
    }
   ],
   "source": [
    "from entitysdk import Client\n",
    "from obi_auth import get_token\n",
    "from pathlib import Path\n",
    "\n",
    "from obi_notebook import get_projects\n",
    "from obi_notebook import get_entities\n",
    "import obi_one as obi\n",
    "import os\n",
    "import pandas as pd\n",
    "\n",
    "token = get_token(environment=\"production\", auth_mode=\"daf\")\n",
    "project_context = get_projects.get_projects(token)\n",
    "db_client = Client(environment=\"production\", project_context=project_context, token_manager=token)"
   ]
  },
  {
   "cell_type": "code",
   "execution_count": 2,
   "id": "0fbcbc3d",
   "metadata": {},
   "outputs": [],
   "source": [
    "input_root = \"/Users/ilkankilic/Workspace/obi-one/examples/H_synaptome_simulations/outputs/synaptomes_sscx_decontainerized/initialize.circuit=cell_003162__cADpyr_3\"\n",
    "output_root = \"./obi-output/extracted_synaptome_circuits\""
   ]
  },
  {
   "cell_type": "code",
   "execution_count": 3,
   "id": "0e8eb6b3",
   "metadata": {},
   "outputs": [
    {
     "name": "stdout",
     "output_type": "stream",
     "text": [
      "Synaptome with 29 synapses\n",
      "Default node population: 'S1nonbarrel_neurons'\n"
     ]
    }
   ],
   "source": [
    "circ_path = f\"{input_root}/circuit_config.json\"\n",
    "synaptome = obi.Circuit(name=\"cell_003162__cADpyr_3\", path=circ_path)\n",
    "print(f\"Synaptome with {synaptome.sonata_circuit.edges.size} synapses\")\n",
    "print(f\"Default node population: '{synaptome.default_population_name}'\")"
   ]
  },
  {
   "cell_type": "code",
   "execution_count": 5,
   "id": "645cd4f2",
   "metadata": {},
   "outputs": [
    {
     "name": "stdout",
     "output_type": "stream",
     "text": [
      "SynaptomeSimulationScanConfig(type='SynaptomeSimulationScanConfig', timestamps={'Timestamps': RegularTimestamps(type='RegularTimestamps', start_time=0.0, interval=100.0, number_of_repetitions=1)}, recordings={'SomaVoltage': SomaVoltageRecording(type='SomaVoltageRecording', neuron_set=None, dt=0.1)}, info=Info(type='Info', campaign_name='Synaptome Simulation', campaign_description='Simulation of example synaptome'), neuron_sets={'SynaptomeCell': AllNeurons(type='AllNeurons', sample_percentage=100.0, sample_seed=1), 'AllNeurons': AllNeurons(type='AllNeurons', sample_percentage=100.0, sample_seed=1)}, initialize=Initialize(type='SynaptomeSimulationScanConfig.Initialize', circuit=Circuit(name='cell_003162__cADpyr_3', path='/Users/ilkankilic/Workspace/obi-one/examples/H_synaptome_simulations/outputs/synaptomes_sscx_decontainerized/initialize.circuit=cell_003162__cADpyr_3/circuit_config.json', matrix_path=None, type='Circuit'), simulation_length=3000.0, extracellular_calcium_concentration=1.1, v_init=-80.0, random_seed=1, node_set=None), synaptic_manipulations={}, stimuli={'PoissonInput': PoissonSpikeStimulus(type='PoissonSpikeStimulus', timestamps=TimestampsReference(block_dict_name='timestamps', block_name='Timestamps', type='TimestampsReference'), source_neuron_set=None, targeted_neuron_set=None, timestamp_offset=0.0, duration=800.0, frequency=20.0, random_seed=0), 'CurrentClampInput': ConstantCurrentClampSomaticStimulus(type='ConstantCurrentClampSomaticStimulus', timestamps=TimestampsReference(block_dict_name='timestamps', block_name='Timestamps', type='TimestampsReference'), neuron_set=None, timestamp_offset=0.0, duration=2000.0, amplitude=0.5)})\n",
      "[2025-10-17 16:43:48,273] INFO: initialize.circuit is a Circuit instance.\n",
      "[2025-10-17 16:43:48,273] INFO: initialize.node_set is None — setting default node set.\n"
     ]
    }
   ],
   "source": [
    "from pathlib import Path\n",
    "import obi_one as obi\n",
    "\n",
    "# === Parameters ===\n",
    "sim_duration = 3000.0\n",
    "\n",
    "sim_form = obi.SynaptomeSimulationScanConfig.empty_config()\n",
    "\n",
    "# Info\n",
    "info = obi.Info(\n",
    "    campaign_name=\"Synaptome Simulation\",\n",
    "    campaign_description=\"Simulation of example synaptome\"\n",
    ")\n",
    "sim_form.set(info, name=\"info\")\n",
    "\n",
    "\n",
    "# Timestamps\n",
    "timestamps = obi.RegularTimestamps(start_time=0.0, number_of_repetitions=1, interval=100)\n",
    "sim_form.add(timestamps, name=\"Timestamps\")\n",
    "\n",
    "all_neurons = obi.AllNeurons()\n",
    "sim_form.add(all_neurons, name=\"AllNeurons\")\n",
    "\n",
    "# Stimulus\n",
    "stimulus = obi.PoissonSpikeStimulus(\n",
    "    duration=800.0,\n",
    "    timestamps=timestamps.ref,\n",
    "    frequency=20,\n",
    ")\n",
    "sim_form.add(stimulus, name=\"PoissonInput\")\n",
    "\n",
    "stimulus = obi.ConstantCurrentClampSomaticStimulus(\n",
    "    timestamps=timestamps.ref, duration=2000.0, amplitude=0.5\n",
    ")\n",
    "sim_form.add(stimulus, name=\"CurrentClampInput\")\n",
    "\n",
    "# Recording\n",
    "recording = obi.SomaVoltageRecording()\n",
    "sim_form.add(recording, name=\"SomaVoltage\")\n",
    "\n",
    "# Initialization block\n",
    "init = obi.SynaptomeSimulationScanConfig.Initialize(\n",
    "    circuit=synaptome,\n",
    "    simulation_length=sim_duration,\n",
    ")\n",
    "sim_form.set(init, name=\"initialize\")\n",
    "# Validated Config\n",
    "validated_sim_conf = sim_form.validated_config()\n",
    "\n",
    "print(validated_sim_conf)\n",
    "\n",
    "# === 2. Wrap into a Simulation ===\n",
    "grid_scan = obi.GridScanGenerationTask(form=validated_sim_conf, coordinate_directory_option=\"ZERO_INDEX\", output_root='./obi-output/run_circuit_simulations/grid_scan')\n",
    "grid_scan.execute()\n",
    "obi.run_tasks_for_generated_scan(grid_scan)"
   ]
  },
  {
   "cell_type": "code",
   "execution_count": 6,
   "id": "2b45b105",
   "metadata": {},
   "outputs": [
    {
     "name": "stdout",
     "output_type": "stream",
     "text": [
      "obi-output/run_circuit_simulations/grid_scan/0/simulation_config.json\n"
     ]
    }
   ],
   "source": [
    "simulation_config_path = grid_scan.single_configs[0].coordinate_output_root / \"simulation_config.json\"\n",
    "print(simulation_config_path)\n",
    "\n",
    "circuit_folder = grid_scan.single_configs[0].coordinate_output_root / \"sonata_circuit\""
   ]
  },
  {
   "cell_type": "code",
   "execution_count": null,
   "id": "2ac8d1b0",
   "metadata": {},
   "outputs": [],
   "source": [
    "# Remove the old compiled mod files folder\n",
    "! rm -r arm64/\n",
    "# flag DISABLE_REPORTINGLIB to skip SonataReportHelper.mod and SonataReport.mod from compilation.\n",
    "!../../.venv/bin/nrnivmodl -incflags \"-DDISABLE_REPORTINGLIB\" {circuit_folder}/mod"
   ]
  },
  {
   "cell_type": "code",
   "execution_count": null,
   "id": "21c38545",
   "metadata": {},
   "outputs": [],
   "source": [
    "# === 4. Run the simulation (BlueCelluLab backend) ===\n",
    "from obi_one.scientific.library.simulation_execution import run\n",
    "\n",
    "run(\n",
    "    simulation_config=simulation_config_path,\n",
    "    simulator='bluecellulab',\n",
    "    save_nwb=False\n",
    ")"
   ]
  },
  {
   "cell_type": "markdown",
   "id": "9f6f3ee8",
   "metadata": {},
   "source": [
    "## Results\n",
    "The results are stored in the `output` directory. You can analyze the voltage traces and other outputs as needed."
   ]
  },
  {
   "cell_type": "code",
   "execution_count": 9,
   "id": "09e0ce35",
   "metadata": {},
   "outputs": [
    {
     "name": "stdout",
     "output_type": "stream",
     "text": [
      "0 3000.0 0.025\n",
      "['S1nonbarrel_neurons']\n"
     ]
    }
   ],
   "source": [
    "import bluepysnap\n",
    "snap_simulation = bluepysnap.Simulation(simulation_config_path)\n",
    "spikes = snap_simulation.spikes\n",
    "print(\n",
    "    spikes.time_start,\n",
    "    spikes.time_stop,\n",
    "    spikes.dt\n",
    ")\n",
    "print(spikes.population_names)"
   ]
  },
  {
   "cell_type": "code",
   "execution_count": 10,
   "id": "71d9f51e",
   "metadata": {},
   "outputs": [
    {
     "data": {
      "text/html": [
       "<div>\n",
       "<style scoped>\n",
       "    .dataframe tbody tr th:only-of-type {\n",
       "        vertical-align: middle;\n",
       "    }\n",
       "\n",
       "    .dataframe tbody tr th {\n",
       "        vertical-align: top;\n",
       "    }\n",
       "\n",
       "    .dataframe thead th {\n",
       "        text-align: right;\n",
       "    }\n",
       "</style>\n",
       "<table border=\"1\" class=\"dataframe\">\n",
       "  <thead>\n",
       "    <tr style=\"text-align: right;\">\n",
       "      <th></th>\n",
       "      <th>ids</th>\n",
       "      <th>population</th>\n",
       "    </tr>\n",
       "    <tr>\n",
       "      <th>times</th>\n",
       "      <th></th>\n",
       "      <th></th>\n",
       "    </tr>\n",
       "  </thead>\n",
       "  <tbody>\n",
       "    <tr>\n",
       "      <th>1.000000e-10</th>\n",
       "      <td>0</td>\n",
       "      <td>S1nonbarrel_neurons</td>\n",
       "    </tr>\n",
       "    <tr>\n",
       "      <th>1.227500e+01</th>\n",
       "      <td>0</td>\n",
       "      <td>S1nonbarrel_neurons</td>\n",
       "    </tr>\n",
       "    <tr>\n",
       "      <th>2.275000e+01</th>\n",
       "      <td>0</td>\n",
       "      <td>S1nonbarrel_neurons</td>\n",
       "    </tr>\n",
       "    <tr>\n",
       "      <th>3.327500e+01</th>\n",
       "      <td>0</td>\n",
       "      <td>S1nonbarrel_neurons</td>\n",
       "    </tr>\n",
       "    <tr>\n",
       "      <th>4.407500e+01</th>\n",
       "      <td>0</td>\n",
       "      <td>S1nonbarrel_neurons</td>\n",
       "    </tr>\n",
       "  </tbody>\n",
       "</table>\n",
       "</div>"
      ],
      "text/plain": [
       "              ids           population\n",
       "times                                 \n",
       "1.000000e-10    0  S1nonbarrel_neurons\n",
       "1.227500e+01    0  S1nonbarrel_neurons\n",
       "2.275000e+01    0  S1nonbarrel_neurons\n",
       "3.327500e+01    0  S1nonbarrel_neurons\n",
       "4.407500e+01    0  S1nonbarrel_neurons"
      ]
     },
     "execution_count": 10,
     "metadata": {},
     "output_type": "execute_result"
    }
   ],
   "source": [
    "population_name = synaptome.default_population_name\n",
    "\n",
    "spike_pop = spikes[population_name]\n",
    "node_population = spike_pop.nodes\n",
    "filtered = spikes.filter( t_start=spikes.time_start, t_stop=spikes.time_stop)\n",
    "filtered.report.head()"
   ]
  },
  {
   "cell_type": "code",
   "execution_count": 11,
   "id": "ba2c3226",
   "metadata": {},
   "outputs": [
    {
     "data": {
      "text/plain": [
       "{'SomaVoltage': <bluepysnap.frame_report.SomaReport at 0x33fb6e8a0>}"
      ]
     },
     "execution_count": 11,
     "metadata": {},
     "output_type": "execute_result"
    }
   ],
   "source": [
    "snap_simulation.reports"
   ]
  },
  {
   "cell_type": "code",
   "execution_count": 12,
   "id": "69bb8d5d",
   "metadata": {},
   "outputs": [
    {
     "name": "stdout",
     "output_type": "stream",
     "text": [
      "[2025-10-17 16:44:11,439] WARNING: dt from the report differs from the global simulation dt.\n",
      "0.0 3000.0 0.1\n"
     ]
    }
   ],
   "source": [
    "soma_report = snap_simulation.reports['SomaVoltage']\n",
    "print(\n",
    "    soma_report.time_start,\n",
    "    soma_report.time_stop,\n",
    "    soma_report.dt\n",
    ")  # Gives a warning in case the dt differs from simulation.dt"
   ]
  }
 ],
 "metadata": {
  "kernelspec": {
   "display_name": ".venv",
   "language": "python",
   "name": "python3"
  },
  "language_info": {
   "codemirror_mode": {
    "name": "ipython",
    "version": 3
   },
   "file_extension": ".py",
   "mimetype": "text/x-python",
   "name": "python",
   "nbconvert_exporter": "python",
   "pygments_lexer": "ipython3",
   "version": "3.12.10"
  }
 },
 "nbformat": 4,
 "nbformat_minor": 5
}
