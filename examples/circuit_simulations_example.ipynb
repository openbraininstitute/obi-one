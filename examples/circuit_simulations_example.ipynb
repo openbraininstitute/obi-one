{
 "cells": [
  {
   "cell_type": "markdown",
   "metadata": {},
   "source": [
    "# Circuit simulation examples"
   ]
  },
  {
   "cell_type": "code",
   "execution_count": 1,
   "metadata": {},
   "outputs": [],
   "source": [
    "import obi_one as obi"
   ]
  },
  {
   "cell_type": "markdown",
   "metadata": {},
   "source": [
    "### Loading two circuits"
   ]
  },
  {
   "cell_type": "code",
   "execution_count": 2,
   "metadata": {},
   "outputs": [
    {
     "name": "stdout",
     "output_type": "stream",
     "text": [
      "Circuit 'ToyCircuit-S1-6k' with 5924 neurons and 568717 synapses\n"
     ]
    }
   ],
   "source": [
    "circuit = obi.Circuit(name=\"ToyCircuit-S1-6k\", path=\"/Users/pokorny/Data/Circuits/ToyCircuit-S1-6k/circuit_config.json\")\n",
    "print(f\"Circuit '{circuit}' with {circuit.sonata_circuit.nodes.size} neurons and {circuit.sonata_circuit.edges.size} synapses\")"
   ]
  },
  {
   "cell_type": "code",
   "execution_count": 3,
   "metadata": {},
   "outputs": [
    {
     "name": "stdout",
     "output_type": "stream",
     "text": [
      "Circuit 'nbS1-HEX0-beta' with 39056 neurons and 48129135 synapses\n"
     ]
    }
   ],
   "source": [
    "# circuit2 = obi.Circuit(name=\"ToyCircuit-S1-6k-duplicate\", path=\"/Users/pokorny/Data/Circuits/ToyCircuit-S1-6k/circuit_config.json\")\n",
    "circuit2 = obi.Circuit(name=\"nbS1-HEX0-beta\", path=\"/Users/pokorny/Data/Circuits/nbS1-HEX0-beta/circuit_config.json\")\n",
    "print(f\"Circuit '{circuit2}' with {circuit2.sonata_circuit.nodes.size} neurons and {circuit2.sonata_circuit.edges.size} synapses\")"
   ]
  },
  {
   "cell_type": "markdown",
   "metadata": {},
   "source": [
    "### Defining the circuit simulation"
   ]
  },
  {
   "cell_type": "code",
   "execution_count": 4,
   "metadata": {},
   "outputs": [],
   "source": [
    "section_intracellular_location_set_1 = obi.SectionIntracellularLocationSet(circuit=circuit, neuron_ids=(1, 2, 3), section='soma')\n",
    "xyz_extracellular_location_set_1 = obi.XYZExtracellularLocationSet(circuit=circuit, xyz_locations=((0.9, 0.2, 0.3), (0.1, 0.1, 0.3)))\n",
    "\n",
    "neuron_set_1 = obi.PredefinedNeuronSet(name=\"L1Sample\", node_set=\"Layer1\", random_sample=[None, 10, 50])\n",
    "id_synapse_set_1 = obi.IDSynapseSet(circuit=circuit, synapse_ids=(1, 2, 3))\n",
    "\n",
    "timestamps_1 = obi.RegularTimestamps(start_time=0.0, number_of_repetitions=1, interval=1.0)\n",
    "recording_1 = obi.IntracellularLocationSetVoltageRecording(start_time=0.0, end_time=1.0, intracellular_location_set=section_intracellular_location_set_1)\n",
    "\n",
    "simulations_initialize = obi.SimulationsForm.Initialize(\n",
    "    circuit=[circuit, circuit2],\n",
    "    node_set=neuron_set_1,\n",
    "    simulation_length=100\n",
    ")\n",
    "\n",
    "\"\"\"\n",
    "Fill form with Blocks\n",
    "\"\"\"\n",
    "simulations_form = obi.SimulationsForm(\n",
    "                                    initialize=simulations_initialize,\n",
    "\n",
    "                                    intracellular_location_sets={\"section_intracellular_location_set_1\": section_intracellular_location_set_1},\n",
    "                                    extracellular_location_sets={\"xyz_extracellular_location_set_1\": xyz_extracellular_location_set_1},\n",
    "\n",
    "                                    neuron_sets={neuron_set_1.name: neuron_set_1},\n",
    "                                    synapse_sets={\"id_synapse_set_1\": id_synapse_set_1},\n",
    "\n",
    "                                    timestamps={\"timestamps_1\": timestamps_1},\n",
    "                                    stimuli={},\n",
    "                                    recordings={\"recording_1\": recording_1},\n",
    "                                    )"
   ]
  },
  {
   "cell_type": "code",
   "execution_count": 5,
   "metadata": {},
   "outputs": [
    {
     "name": "stdout",
     "output_type": "stream",
     "text": [
      "\n",
      "MULTIPLE VALUE PARAMETERS\n",
      "neuron_sets.L1Sample.random_sample: [None, 10, 50]\n",
      "initialize.circuit: [Circuit(obi_type='Circuit', name='ToyCircuit-S1-6k', path='/Users/pokorny/Data/Circuits/ToyCircuit-S1-6k/circuit_config.json'), Circuit(obi_type='Circuit', name='nbS1-HEX0-beta', path='/Users/pokorny/Data/Circuits/nbS1-HEX0-beta/circuit_config.json')]\n",
      "\n",
      "COORDINATE PARAMETERS\n",
      "neuron_sets.L1Sample.random_sample: None, initialize.circuit: ToyCircuit-S1-6k\n",
      "neuron_sets.L1Sample.random_sample: None, initialize.circuit: nbS1-HEX0-beta\n",
      "neuron_sets.L1Sample.random_sample: 10, initialize.circuit: ToyCircuit-S1-6k\n",
      "neuron_sets.L1Sample.random_sample: 10, initialize.circuit: nbS1-HEX0-beta\n",
      "neuron_sets.L1Sample.random_sample: 50, initialize.circuit: ToyCircuit-S1-6k\n",
      "neuron_sets.L1Sample.random_sample: 50, initialize.circuit: nbS1-HEX0-beta\n"
     ]
    },
    {
     "data": {
      "text/plain": [
       "{0: None, 1: None, 2: None, 3: None, 4: None, 5: None}"
      ]
     },
     "execution_count": 5,
     "metadata": {},
     "output_type": "execute_result"
    }
   ],
   "source": [
    "grid_scan = obi.GridScan(form=simulations_form, output_root='../../obi-output/circuit_simulations/grid_scan')\n",
    "grid_scan.multiple_value_parameters(display=True)\n",
    "grid_scan.coordinate_parameters(display=True)\n",
    "# grid_scan.coordinate_instances(display=True)\n",
    "grid_scan.execute(processing_method='generate')"
   ]
  },
  {
   "cell_type": "code",
   "execution_count": 10,
   "metadata": {},
   "outputs": [],
   "source": [
    "# Deserialization\n",
    "# grid_scan_ds = obi.deserialize_obi_object_from_json_file(\"../../obi-output/circuit_simulations/grid_scan/run_scan_config.json\")"
   ]
  }
 ],
 "metadata": {
  "kernelspec": {
   "display_name": "obi-one",
   "language": "python",
   "name": "obi-one"
  },
  "language_info": {
   "codemirror_mode": {
    "name": "ipython",
    "version": 3
   },
   "file_extension": ".py",
   "mimetype": "text/x-python",
   "name": "python",
   "nbconvert_exporter": "python",
   "pygments_lexer": "ipython3",
   "version": "3.12.9"
  }
 },
 "nbformat": 4,
 "nbformat_minor": 4
}
