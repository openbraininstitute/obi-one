{
 "cells": [
  {
   "cell_type": "markdown",
   "metadata": {},
   "source": [
    "# Circuit simulation examples"
   ]
  },
  {
   "cell_type": "code",
   "execution_count": null,
   "metadata": {},
   "outputs": [],
   "source": [
    "import obi_one as obi"
   ]
  },
  {
   "cell_type": "code",
   "execution_count": null,
   "metadata": {},
   "outputs": [],
   "source": [
    "circuit_path_prefix = \"/Users/james/Documents/obi/additional_data/\"\n",
    "# circuit_path_prefix = \"/Users/pokorny/Data/Circuits/\""
   ]
  },
  {
   "cell_type": "markdown",
   "metadata": {},
   "source": [
    "### Loading two circuits"
   ]
  },
  {
   "cell_type": "code",
   "execution_count": null,
   "metadata": {},
   "outputs": [],
   "source": [
    "# circuit = obi.Circuit(name=\"ToyCircuit-S1-6k\", path=circuit_path_prefix + \"ToyCircuit-S1-6k/circuit_config.json\")\n",
    "circuit = obi.Circuit(name=\"O1\", path=circuit_path_prefix + \"circuit_config.json\")\n",
    "print(f\"Circuit '{circuit}' with {circuit.sonata_circuit.nodes.size} neurons and {circuit.sonata_circuit.edges.size} synapses\")"
   ]
  },
  {
   "cell_type": "code",
   "execution_count": null,
   "metadata": {},
   "outputs": [],
   "source": [
    "# circuit2 = obi.Circuit(name=\"ToyCircuit-S1-6k-duplicate\", path=\"/Users/pokorny/Data/Circuits/ToyCircuit-S1-6k/circuit_config.json\")\n",
    "# circuit2 = obi.Circuit(name=\"nbS1-HEX0-beta\", path=circuit_path_prefix + \"ToyCircuit-S1-6k/circuit_config.json\")\n",
    "circuit2 = obi.Circuit(name=\"O1_2\", path=circuit_path_prefix + \"circuit_config.json\")\n",
    "print(f\"Circuit '{circuit2}' with {circuit2.sonata_circuit.nodes.size} neurons and {circuit2.sonata_circuit.edges.size} synapses\")"
   ]
  },
  {
   "cell_type": "markdown",
   "metadata": {},
   "source": [
    "### Defining the circuit simulation"
   ]
  },
  {
   "cell_type": "code",
   "execution_count": null,
   "metadata": {},
   "outputs": [],
   "source": [
    "# Simulation init\n",
    "sim_neuron_set = obi.PredefinedNeuronSet(node_set=\"Layer1\")\n",
    "sim_duration = 3000 # ms\n",
    "poisson_stim_duration = 800 # ms\n",
    "poisson_stim_frequency = 20 # Hz\n",
    "simulations_initialize = obi.SimulationsForm.Initialize(\n",
    "    circuit=[circuit, circuit2],\n",
    "    node_set=sim_neuron_set,\n",
    "    simulation_length=sim_duration,\n",
    ")\n",
    "\n",
    "\n",
    "\n",
    "# Stimuli\n",
    "property_neuron_set = obi.PropertyNeuronSet(\n",
    "    property_filter=[obi.scientific.circuit.neuron_sets.NeuronPropertyFilter(filter_dict={\"layer\": [2, 3], \"synapse_class\": [\"INH\"]}),\n",
    "                     obi.scientific.circuit.neuron_sets.NeuronPropertyFilter(filter_dict={\"layer\": [1, 2, 3], \"synapse_class\": [\"EXC\"]})],\n",
    ")\n",
    "stim_neuron_set = obi.PredefinedNeuronSet(node_set=\"Layer1\", random_sample=[10, 20])\n",
    "stim_times = obi.RegularTimestamps(start_time=0.0, number_of_repetitions=3, interval=1000.0)  # in ms!!\n",
    "current_stimulus = obi.ConstantCurrentClampSomaticStimulus(timestamps=stim_times, duration=5.0, neuron_set=property_neuron_set, amplitude=[0.2, 0.5])\n",
    "sync_current_stimulus = obi.ConstantCurrentClampSomaticStimulus(timestamps=stim_times, duration=100.0, neuron_set=stim_neuron_set, amplitude=0.1)\n",
    "poisson_input = obi.PoissonSpikeStimulus(timestamps=stim_times,\n",
    "                                                                        stim_duration=poisson_stim_duration,\n",
    "                                                                        frequency=poisson_stim_frequency,\n",
    "                                                                        neuron_set=stim_neuron_set,\n",
    "                                                                       )\n",
    "\n",
    "# Recordings\n",
    "rec_neuron_set = obi.PredefinedNeuronSet(node_set=\"Layer1\", random_sample=100)\n",
    "v_recording = obi.SomaVoltageRecording(start_time=0.0, end_time=sim_duration, neuron_set=rec_neuron_set)\n",
    "\n",
    "\"\"\"\n",
    "Fill form with Blocks\n",
    "\"\"\"\n",
    "simulations_form = obi.SimulationsForm(\n",
    "                                    initialize=simulations_initialize,\n",
    "                                    intracellular_location_sets={},\n",
    "                                    extracellular_location_sets={},\n",
    "                                    neuron_sets={\"L1All\": sim_neuron_set, \"L1Stim\": stim_neuron_set, \"L1Rec\": rec_neuron_set, \"PropertyNeuronSet\": property_neuron_set},\n",
    "                                    synapse_sets={},\n",
    "                                    timestamps={\"StimTimes\": stim_times},\n",
    "                                    stimuli={\"CurrentStimulus\": current_stimulus, \"SyncCurrentStimulus\": sync_current_stimulus, \"PoissonInputStimulus\": poisson_input},\n",
    "                                    recordings={\"SomaVoltRec\": v_recording},\n",
    "                                    )"
   ]
  },
  {
   "cell_type": "code",
   "execution_count": null,
   "metadata": {},
   "outputs": [],
   "source": [
    "simulations_form.model_dump(mode=\"json\")"
   ]
  },
  {
   "cell_type": "code",
   "execution_count": null,
   "metadata": {},
   "outputs": [],
   "source": [
    "grid_scan = obi.GridScan(form=simulations_form, output_root='../../obi-output/circuit_simulations/grid_scan')\n",
    "grid_scan.multiple_value_parameters(display=True)\n",
    "grid_scan.coordinate_parameters(display=True)\n",
    "# grid_scan.coordinate_instances(display=True)\n",
    "grid_scan.execute(processing_method='generate')"
   ]
  },
  {
   "cell_type": "code",
   "execution_count": null,
   "metadata": {},
   "outputs": [],
   "source": [
    "# Deserialization\n",
    "grid_scan_ds = obi.deserialize_obi_object_from_json_file(\"../../obi-output/circuit_simulations/grid_scan/run_scan_config.json\")"
   ]
  },
  {
   "cell_type": "code",
   "execution_count": null,
   "metadata": {},
   "outputs": [],
   "source": []
  }
 ],
 "metadata": {
  "kernelspec": {
   "display_name": ".venv",
   "language": "python",
   "name": "python3"
  },
  "language_info": {
   "codemirror_mode": {
    "name": "ipython",
    "version": 3
   },
   "file_extension": ".py",
   "mimetype": "text/x-python",
   "name": "python",
   "nbconvert_exporter": "python",
   "pygments_lexer": "ipython3",
   "version": "3.12.10"
  }
 },
 "nbformat": 4,
 "nbformat_minor": 4
}
