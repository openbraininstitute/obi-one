{
 "cells": [
  {
   "cell_type": "markdown",
   "metadata": {},
   "source": [
    "# Circuit simulation examples"
   ]
  },
  {
   "cell_type": "code",
   "execution_count": 1,
   "metadata": {},
   "outputs": [],
   "source": [
    "import obi_one as obi"
   ]
  },
  {
   "cell_type": "code",
   "execution_count": 2,
   "metadata": {},
   "outputs": [],
   "source": [
    "# circuit_path_prefix = \"/Users/james/Documents/obi/additional_data/O1_data/O1_data/\"\n",
    "circuit_path_prefix = \"/Users/mwr/Documents/artefacts/SONATA/O1_data/\"\n",
    "# circuit_path_prefix = \"/Users/pokorny/Data/Circuits/\""
   ]
  },
  {
   "cell_type": "markdown",
   "metadata": {},
   "source": [
    "### Loading two circuits"
   ]
  },
  {
   "cell_type": "code",
   "execution_count": 3,
   "metadata": {},
   "outputs": [
    {
     "name": "stdout",
     "output_type": "stream",
     "text": [
      "Circuit 'O1' with 785632 neurons and 560631825 synapses\n"
     ]
    }
   ],
   "source": [
    "# circuit = obi.Circuit(name=\"ToyCircuit-S1-6k\", path=circuit_path_prefix + \"ToyCircuit-S1-6k/circuit_config.json\")\n",
    "circuit = obi.Circuit(name=\"O1\", path=circuit_path_prefix + \"circuit_config_postfix.json\")\n",
    "print(f\"Circuit '{circuit}' with {circuit.sonata_circuit.nodes.size} neurons and {circuit.sonata_circuit.edges.size} synapses\")"
   ]
  },
  {
   "cell_type": "code",
   "execution_count": 4,
   "metadata": {},
   "outputs": [
    {
     "name": "stdout",
     "output_type": "stream",
     "text": [
      "Circuit 'O1_2' with 785632 neurons and 560631825 synapses\n"
     ]
    }
   ],
   "source": [
    "# circuit2 = obi.Circuit(name=\"ToyCircuit-S1-6k-duplicate\", path=\"/Users/pokorny/Data/Circuits/ToyCircuit-S1-6k/circuit_config.json\")\n",
    "# circuit2 = obi.Circuit(name=\"nbS1-HEX0-beta\", path=circuit_path_prefix + \"ToyCircuit-S1-6k/circuit_config.json\")\n",
    "circuit2 = obi.Circuit(name=\"O1_2\", path=circuit_path_prefix + \"circuit_config.json\")\n",
    "print(f\"Circuit '{circuit2}' with {circuit2.sonata_circuit.nodes.size} neurons and {circuit2.sonata_circuit.edges.size} synapses\")"
   ]
  },
  {
   "cell_type": "code",
   "execution_count": 5,
   "metadata": {},
   "outputs": [],
   "source": [
    "# Sim duration\n",
    "sim_duration = 3000.0\n",
    "\n",
    "# Empty Simulation Configuration\n",
    "sim_conf = obi.SimulationsForm.empty_config()\n",
    "\n",
    "# Info\n",
    "info = obi.Info(name=\"O1 Simulation\", description=\"Simulation of O1 circuit with predefined neuron set and constant current stimulus\")\n",
    "sim_conf.set(info, name=\"info\")\n",
    "\n",
    "# Timestamps\n",
    "regular_timesteps = obi.RegularTimestamps(start_time=0.0, number_of_repetitions=3, interval=1000.0)\n",
    "sim_conf.add(regular_timesteps, name='stim_times')\n",
    "\n",
    "# Neuron Sets\n",
    "node_pop = circuit._default_population_name(circuit.sonata_circuit)\n",
    "\n",
    "sim_neuron_set = obi.PredefinedNeuronSet(node_set=\"Layer1\", node_population=node_pop)\n",
    "stim_neuron_set = obi.PredefinedNeuronSet(node_set=\"Layer1\", random_sample=[10, 20], node_population=node_pop)\n",
    "replay_neuron_set = obi.PredefinedNeuronSet(node_set=\"proj_Thalamocortical_POM_Source\", random_sample=0.25, node_population=\"POm\")\n",
    "rec_neuron_set = obi.PredefinedNeuronSet(node_set=\"Layer1\", random_sample=100, node_population=node_pop)\n",
    "property_neuron_set = obi.PropertyNeuronSet(\n",
    "    property_filter=[obi.scientific.circuit.neuron_sets.NeuronPropertyFilter(filter_dict={\"layer\": [2, 3], \"synapse_class\": [\"INH\"]}),\n",
    "                     obi.scientific.circuit.neuron_sets.NeuronPropertyFilter(filter_dict={\"layer\": [1, 2, 3], \"synapse_class\": [\"EXC\"]})],\n",
    "    node_population=node_pop\n",
    ")\n",
    "sim_conf.add(sim_neuron_set, name='L1All')\n",
    "sim_conf.add(stim_neuron_set, name='L1Stim')\n",
    "sim_conf.add(rec_neuron_set, name='L1Rec')\n",
    "sim_conf.add(property_neuron_set, name='PropertyNeuronSet')\n",
    "sim_conf.add(replay_neuron_set, name=\"POM_input\")\n",
    "\n",
    "# Stimuli\n",
    "current_stimulus = obi.ConstantCurrentClampSomaticStimulus(timestamps=regular_timesteps.ref, duration=5.0, neuron_set=stim_neuron_set.ref, amplitude=[0.2, 0.5])\n",
    "sync_current_stimulus = obi.ConstantCurrentClampSomaticStimulus(timestamps=regular_timesteps.ref, duration=100.0, neuron_set=stim_neuron_set.ref, amplitude=0.1)\n",
    "poisson_input = obi.PoissonSpikeStimulus(timestamps=regular_timesteps.ref, stim_duration=800, frequency=20, source_neuron_set=replay_neuron_set.ref)\n",
    "sim_conf.add(current_stimulus, name='CurrentStimulus')\n",
    "sim_conf.add(sync_current_stimulus, name='SyncCurrentStimulus')\n",
    "sim_conf.add(poisson_input, name='PoissonInputStimulus')\n",
    "\n",
    "# Voltage Recordings\n",
    "voltage_recording = obi.SomaVoltageRecording(timestamps=regular_timesteps.ref, neuron_set=rec_neuron_set.ref, start_time=0.0, end_time=sim_duration)\n",
    "sim_conf.add(voltage_recording, name='SomaVoltRec')\n",
    "                                       \n",
    "# Initilization\n",
    "simulations_initialize = obi.SimulationsForm.Initialize(circuit=[circuit, circuit2], node_set=sim_neuron_set.ref, simulation_length=sim_duration)\n",
    "sim_conf.set(simulations_initialize, name='initialize')\n",
    "\n",
    "# Validated Config\n",
    "validated_sim_conf = sim_conf.validated_config()"
   ]
  },
  {
   "cell_type": "markdown",
   "metadata": {},
   "source": []
  },
  {
   "cell_type": "code",
   "execution_count": 6,
   "metadata": {},
   "outputs": [],
   "source": [
    "# simulations_form.model_dump(mode=\"json\")"
   ]
  },
  {
   "cell_type": "code",
   "execution_count": 6,
   "metadata": {},
   "outputs": [
    {
     "name": "stdout",
     "output_type": "stream",
     "text": [
      "[2025-06-13 16:20:05,066] INFO: \n",
      "MULTIPLE VALUE PARAMETERS\n",
      "[2025-06-13 16:20:05,067] INFO: stimuli.CurrentStimulus.amplitude: [0.2, 0.5]\n",
      "[2025-06-13 16:20:05,067] INFO: neuron_sets.L1Stim.random_sample: [10, 20]\n",
      "[2025-06-13 16:20:05,068] INFO: neuron_sets.PropertyNeuronSet.property_filter: [layer=2,3,synapse_class=INH, layer=1,2,3,synapse_class=EXC]\n",
      "[2025-06-13 16:20:05,068] INFO: initialize.circuit: [Circuit(type='Circuit', name='O1', path='/Users/mwr/Documents/artefacts/SONATA/O1_data/circuit_config_postfix.json', matrix_path=None), Circuit(type='Circuit', name='O1_2', path='/Users/mwr/Documents/artefacts/SONATA/O1_data/circuit_config.json', matrix_path=None)]\n",
      "[2025-06-13 16:20:05,069] INFO: \n",
      "COORDINATE PARAMETERS\n",
      "[2025-06-13 16:20:05,069] INFO: stimuli.CurrentStimulus.amplitude: 0.2, neuron_sets.L1Stim.random_sample: 10, neuron_sets.PropertyNeuronSet.property_filter: layer=2,3,synapse_class=INH, initialize.circuit: O1\n",
      "[2025-06-13 16:20:05,069] INFO: stimuli.CurrentStimulus.amplitude: 0.2, neuron_sets.L1Stim.random_sample: 10, neuron_sets.PropertyNeuronSet.property_filter: layer=2,3,synapse_class=INH, initialize.circuit: O1_2\n",
      "[2025-06-13 16:20:05,069] INFO: stimuli.CurrentStimulus.amplitude: 0.2, neuron_sets.L1Stim.random_sample: 10, neuron_sets.PropertyNeuronSet.property_filter: layer=1,2,3,synapse_class=EXC, initialize.circuit: O1\n",
      "[2025-06-13 16:20:05,070] INFO: stimuli.CurrentStimulus.amplitude: 0.2, neuron_sets.L1Stim.random_sample: 10, neuron_sets.PropertyNeuronSet.property_filter: layer=1,2,3,synapse_class=EXC, initialize.circuit: O1_2\n",
      "[2025-06-13 16:20:05,070] INFO: stimuli.CurrentStimulus.amplitude: 0.2, neuron_sets.L1Stim.random_sample: 20, neuron_sets.PropertyNeuronSet.property_filter: layer=2,3,synapse_class=INH, initialize.circuit: O1\n",
      "[2025-06-13 16:20:05,070] INFO: stimuli.CurrentStimulus.amplitude: 0.2, neuron_sets.L1Stim.random_sample: 20, neuron_sets.PropertyNeuronSet.property_filter: layer=2,3,synapse_class=INH, initialize.circuit: O1_2\n",
      "[2025-06-13 16:20:05,070] INFO: stimuli.CurrentStimulus.amplitude: 0.2, neuron_sets.L1Stim.random_sample: 20, neuron_sets.PropertyNeuronSet.property_filter: layer=1,2,3,synapse_class=EXC, initialize.circuit: O1\n",
      "[2025-06-13 16:20:05,070] INFO: stimuli.CurrentStimulus.amplitude: 0.2, neuron_sets.L1Stim.random_sample: 20, neuron_sets.PropertyNeuronSet.property_filter: layer=1,2,3,synapse_class=EXC, initialize.circuit: O1_2\n",
      "[2025-06-13 16:20:05,071] INFO: stimuli.CurrentStimulus.amplitude: 0.5, neuron_sets.L1Stim.random_sample: 10, neuron_sets.PropertyNeuronSet.property_filter: layer=2,3,synapse_class=INH, initialize.circuit: O1\n",
      "[2025-06-13 16:20:05,071] INFO: stimuli.CurrentStimulus.amplitude: 0.5, neuron_sets.L1Stim.random_sample: 10, neuron_sets.PropertyNeuronSet.property_filter: layer=2,3,synapse_class=INH, initialize.circuit: O1_2\n",
      "[2025-06-13 16:20:05,071] INFO: stimuli.CurrentStimulus.amplitude: 0.5, neuron_sets.L1Stim.random_sample: 10, neuron_sets.PropertyNeuronSet.property_filter: layer=1,2,3,synapse_class=EXC, initialize.circuit: O1\n",
      "[2025-06-13 16:20:05,071] INFO: stimuli.CurrentStimulus.amplitude: 0.5, neuron_sets.L1Stim.random_sample: 10, neuron_sets.PropertyNeuronSet.property_filter: layer=1,2,3,synapse_class=EXC, initialize.circuit: O1_2\n",
      "[2025-06-13 16:20:05,071] INFO: stimuli.CurrentStimulus.amplitude: 0.5, neuron_sets.L1Stim.random_sample: 20, neuron_sets.PropertyNeuronSet.property_filter: layer=2,3,synapse_class=INH, initialize.circuit: O1\n",
      "[2025-06-13 16:20:05,072] INFO: stimuli.CurrentStimulus.amplitude: 0.5, neuron_sets.L1Stim.random_sample: 20, neuron_sets.PropertyNeuronSet.property_filter: layer=2,3,synapse_class=INH, initialize.circuit: O1_2\n",
      "[2025-06-13 16:20:05,072] INFO: stimuli.CurrentStimulus.amplitude: 0.5, neuron_sets.L1Stim.random_sample: 20, neuron_sets.PropertyNeuronSet.property_filter: layer=1,2,3,synapse_class=EXC, initialize.circuit: O1\n",
      "[2025-06-13 16:20:05,072] INFO: stimuli.CurrentStimulus.amplitude: 0.5, neuron_sets.L1Stim.random_sample: 20, neuron_sets.PropertyNeuronSet.property_filter: layer=1,2,3,synapse_class=EXC, initialize.circuit: O1_2\n",
      "[2025-06-13 16:20:05,073] INFO: None\n",
      "['proj_Thalamocortical_POM_Source']\n",
      "['Layer1']\n",
      "['Layer1']\n",
      "['proj_Thalamocortical_POM_Source']\n",
      "['proj_Thalamocortical_POM_Source']\n",
      "['Layer1']\n",
      "['Layer1']\n",
      "['proj_Thalamocortical_POM_Source']\n",
      "['proj_Thalamocortical_POM_Source']\n",
      "['Layer1']\n",
      "['Layer1']\n",
      "['proj_Thalamocortical_POM_Source']\n",
      "['proj_Thalamocortical_POM_Source']\n",
      "['Layer1']\n",
      "['Layer1']\n",
      "['proj_Thalamocortical_POM_Source']\n",
      "['proj_Thalamocortical_POM_Source']\n",
      "['Layer1']\n",
      "['Layer1']\n",
      "['proj_Thalamocortical_POM_Source']\n",
      "['proj_Thalamocortical_POM_Source']\n",
      "['Layer1']\n",
      "['Layer1']\n",
      "['proj_Thalamocortical_POM_Source']\n",
      "['proj_Thalamocortical_POM_Source']\n",
      "['Layer1']\n",
      "['Layer1']\n",
      "['proj_Thalamocortical_POM_Source']\n",
      "['proj_Thalamocortical_POM_Source']\n",
      "['Layer1']\n",
      "['Layer1']\n",
      "['proj_Thalamocortical_POM_Source']\n",
      "['proj_Thalamocortical_POM_Source']\n",
      "['Layer1']\n",
      "['Layer1']\n",
      "['proj_Thalamocortical_POM_Source']\n",
      "['proj_Thalamocortical_POM_Source']\n",
      "['Layer1']\n",
      "['Layer1']\n",
      "['proj_Thalamocortical_POM_Source']\n",
      "['proj_Thalamocortical_POM_Source']\n",
      "['Layer1']\n",
      "['Layer1']\n",
      "['proj_Thalamocortical_POM_Source']\n",
      "['proj_Thalamocortical_POM_Source']\n",
      "['Layer1']\n",
      "['Layer1']\n",
      "['proj_Thalamocortical_POM_Source']\n",
      "['proj_Thalamocortical_POM_Source']\n",
      "['Layer1']\n",
      "['Layer1']\n",
      "['proj_Thalamocortical_POM_Source']\n",
      "['proj_Thalamocortical_POM_Source']\n",
      "['Layer1']\n",
      "['Layer1']\n",
      "['proj_Thalamocortical_POM_Source']\n",
      "['proj_Thalamocortical_POM_Source']\n",
      "['Layer1']\n",
      "['Layer1']\n",
      "['proj_Thalamocortical_POM_Source']\n",
      "['proj_Thalamocortical_POM_Source']\n",
      "['Layer1']\n",
      "['Layer1']\n",
      "['proj_Thalamocortical_POM_Source']\n",
      "[2025-06-13 16:20:19,540] INFO: create_bbp_workflow_campaign_config() not yet complete.\n"
     ]
    },
    {
     "data": {
      "text/plain": [
       "{0: None,\n",
       " 1: None,\n",
       " 2: None,\n",
       " 3: None,\n",
       " 4: None,\n",
       " 5: None,\n",
       " 6: None,\n",
       " 7: None,\n",
       " 8: None,\n",
       " 9: None,\n",
       " 10: None,\n",
       " 11: None,\n",
       " 12: None,\n",
       " 13: None,\n",
       " 14: None,\n",
       " 15: None}"
      ]
     },
     "execution_count": 6,
     "metadata": {},
     "output_type": "execute_result"
    }
   ],
   "source": [
    "grid_scan = obi.GridScan(form=validated_sim_conf, output_root='../../obi-output/circuit_simulations/grid_scan')\n",
    "grid_scan.multiple_value_parameters(display=True)\n",
    "grid_scan.coordinate_parameters(display=True)\n",
    "# grid_scan.coordinate_instances(display=True)\n",
    "grid_scan.execute(processing_method='generate')"
   ]
  },
  {
   "cell_type": "code",
   "execution_count": 15,
   "metadata": {},
   "outputs": [
    {
     "name": "stdout",
     "output_type": "stream",
     "text": [
      "<KeysViewHDF5 ['POm']>\n",
      "[3158 1312    2 ... 4712 6054 4093]\n"
     ]
    }
   ],
   "source": [
    "# Spot check of generated spikes files\n",
    "import h5py\n",
    "\n",
    "h5 = h5py.File(\"../../obi-output/circuit_simulations/grid_scan/stimuli.CurrentStimulus.amplitude=0.2/neuron_sets.L1Stim.random_sample=10/neuron_sets.PropertyNeuronSet.property_filter=layer=1,2,3,synapse_class=EXC/initialize.circuit=O1/PoissonInputStimulus_spikes.h5\", \"r\")\n",
    "\n",
    "print(h5[\"spikes\"].keys())\n",
    "print(h5[\"spikes/POm\"][\"node_ids\"][:])\n",
    "h5.close()"
   ]
  },
  {
   "cell_type": "code",
   "execution_count": 7,
   "metadata": {},
   "outputs": [],
   "source": [
    "# Deserialization\n",
    "grid_scan_ds = obi.deserialize_obi_object_from_json_file(\"../../obi-output/circuit_simulations/grid_scan/run_scan_config.json\")"
   ]
  },
  {
   "cell_type": "code",
   "execution_count": 8,
   "metadata": {},
   "outputs": [
    {
     "data": {
      "text/plain": [
       "GridScan(type='GridScan', form=SimulationsForm(type='SimulationsForm', timestamps={'stim_times': RegularTimestamps(type='RegularTimestamps', start_time=0.0, number_of_repetitions=3, interval=1000.0)}, stimuli={'CurrentStimulus': ConstantCurrentClampSomaticStimulus(type='ConstantCurrentClampSomaticStimulus', timestamps=TimestampsReference(type='TimestampsReference', block_dict_name='timestamps', block_name='stim_times'), delay=0.0, duration=5.0, neuron_set=NeuronSetReference(type='NeuronSetReference', block_dict_name='neuron_sets', block_name='L1Stim'), represents_physical_electrode=False, amplitude=[0.2, 0.5]), 'SyncCurrentStimulus': ConstantCurrentClampSomaticStimulus(type='ConstantCurrentClampSomaticStimulus', timestamps=TimestampsReference(type='TimestampsReference', block_dict_name='timestamps', block_name='stim_times'), delay=0.0, duration=100.0, neuron_set=NeuronSetReference(type='NeuronSetReference', block_dict_name='neuron_sets', block_name='L1Stim'), represents_physical_electrode=False, amplitude=0.1), 'PoissonInputStimulus': PoissonSpikeStimulus(type='PoissonSpikeStimulus', timestamps=TimestampsReference(type='TimestampsReference', block_dict_name='timestamps', block_name='stim_times'), stim_duration=800.0, source_neuron_set=NeuronSetReference(type='NeuronSetReference', block_dict_name='neuron_sets', block_name='POM_input'), targeted_neuron_set=None, random_seed=0, frequency=20.0)}, recordings={'SomaVoltRec': SomaVoltageRecording(type='SomaVoltageRecording', start_time=0.0, end_time=3000.0, dt=0.1, neuron_set=NeuronSetReference(type='NeuronSetReference', block_dict_name='neuron_sets', block_name='L1Rec'))}, neuron_sets={'L1All': PredefinedNeuronSet(type='PredefinedNeuronSet', random_sample=None, random_seed=0, node_population='S1nonbarrel_neurons', node_set='Layer1'), 'L1Stim': PredefinedNeuronSet(type='PredefinedNeuronSet', random_sample=[10, 20], random_seed=0, node_population='S1nonbarrel_neurons', node_set='Layer1'), 'L1Rec': PredefinedNeuronSet(type='PredefinedNeuronSet', random_sample=100, random_seed=0, node_population='S1nonbarrel_neurons', node_set='Layer1'), 'PropertyNeuronSet': PropertyNeuronSet(type='PropertyNeuronSet', random_sample=None, random_seed=0, node_population='S1nonbarrel_neurons', property_filter=[layer=2,3,synapse_class=INH, layer=1,2,3,synapse_class=EXC], node_sets=()), 'POM_input': PredefinedNeuronSet(type='PredefinedNeuronSet', random_sample=0.25, random_seed=0, node_population='POm', node_set='proj_Thalamocortical_POM_Source')}, initialize=Initialize(type='SimulationsForm.Initialize', circuit=[Circuit(type='Circuit', name='O1', path='/Users/mwr/Documents/artefacts/SONATA/O1_data/circuit_config_postfix.json', matrix_path=None), Circuit(type='Circuit', name='O1_2', path='/Users/mwr/Documents/artefacts/SONATA/O1_data/circuit_config.json', matrix_path=None)], simulation_length=3000.0, node_set=NeuronSetReference(type='NeuronSetReference', block_dict_name='neuron_sets', block_name='L1All'), random_seed=1, extracellular_calcium_concentration=1.1, v_init=-80.0, spike_location='soma', sonata_version=1, target_simulator='CORENEURON', timestep=0.025), info=Info(type='Info', campaign_name='No name provided', campaign_description='No description provided')), output_root=PosixPath('../../obi-output/circuit_simulations/grid_scan'), coordinate_directory_option='NAME_EQUALS_VALUE')"
      ]
     },
     "execution_count": 8,
     "metadata": {},
     "output_type": "execute_result"
    }
   ],
   "source": [
    "grid_scan_ds"
   ]
  }
 ],
 "metadata": {
  "kernelspec": {
   "display_name": ".venv",
   "language": "python",
   "name": "python3"
  },
  "language_info": {
   "codemirror_mode": {
    "name": "ipython",
    "version": 3
   },
   "file_extension": ".py",
   "mimetype": "text/x-python",
   "name": "python",
   "nbconvert_exporter": "python",
   "pygments_lexer": "ipython3",
   "version": "3.12.8"
  }
 },
 "nbformat": 4,
 "nbformat_minor": 4
}
