{
 "cells": [
  {
   "cell_type": "markdown",
   "metadata": {},
   "source": [
    "# Circuit simulation examples"
   ]
  },
  {
   "cell_type": "code",
   "execution_count": 1,
   "metadata": {},
   "outputs": [],
   "source": [
    "import obi_one as obi"
   ]
  },
  {
   "cell_type": "code",
   "execution_count": 2,
   "metadata": {},
   "outputs": [],
   "source": [
    "circuit_path_prefix = \"/Users/james/Documents/obi/additional_data/O1_data/O1_data/\"\n",
    "# circuit_path_prefix = \"/Users/pokorny/Data/Circuits/\""
   ]
  },
  {
   "cell_type": "markdown",
   "metadata": {},
   "source": [
    "### Loading two circuits"
   ]
  },
  {
   "cell_type": "code",
   "execution_count": 3,
   "metadata": {},
   "outputs": [
    {
     "name": "stdout",
     "output_type": "stream",
     "text": [
      "Circuit 'O1' with 785632 neurons and 560631825 synapses\n"
     ]
    }
   ],
   "source": [
    "# circuit = obi.Circuit(name=\"ToyCircuit-S1-6k\", path=circuit_path_prefix + \"ToyCircuit-S1-6k/circuit_config.json\")\n",
    "circuit = obi.Circuit(name=\"O1\", path=circuit_path_prefix + \"circuit_config.json\")\n",
    "print(f\"Circuit '{circuit}' with {circuit.sonata_circuit.nodes.size} neurons and {circuit.sonata_circuit.edges.size} synapses\")"
   ]
  },
  {
   "cell_type": "code",
   "execution_count": 4,
   "metadata": {},
   "outputs": [
    {
     "name": "stdout",
     "output_type": "stream",
     "text": [
      "Circuit 'O1_2' with 785632 neurons and 560631825 synapses\n"
     ]
    }
   ],
   "source": [
    "# circuit2 = obi.Circuit(name=\"ToyCircuit-S1-6k-duplicate\", path=\"/Users/pokorny/Data/Circuits/ToyCircuit-S1-6k/circuit_config.json\")\n",
    "# circuit2 = obi.Circuit(name=\"nbS1-HEX0-beta\", path=circuit_path_prefix + \"ToyCircuit-S1-6k/circuit_config.json\")\n",
    "circuit2 = obi.Circuit(name=\"O1_2\", path=circuit_path_prefix + \"circuit_config.json\")\n",
    "print(f\"Circuit '{circuit2}' with {circuit2.sonata_circuit.nodes.size} neurons and {circuit2.sonata_circuit.edges.size} synapses\")"
   ]
  },
  {
   "cell_type": "code",
   "execution_count": 5,
   "metadata": {},
   "outputs": [
    {
     "name": "stdout",
     "output_type": "stream",
     "text": [
      "SimulationsForm(timestamps={}, stimuli={}, recordings={}, neuron_sets={}, initialize=Initialize(type='SimulationsForm.Initialize', node_set=None, timestep=0.025))\n",
      "SimulationsForm(type='SimulationsForm', timestamps={'stim_times': RegularTimestamps(type='RegularTimestamps', start_time=0.0, number_of_repetitions=3, interval=1000.0)}, stimuli={'stimulus': ConstantCurrentClampSomaticStimulus(type='ConstantCurrentClampSomaticStimulus', timestamps=TimestampsReference(type='TimestampsReference', block_dict_name='timestamps', block_name='stim_times'), delay=0.0, duration=5.0, neuron_set=NeuronSetReference(type='NeuronSetReference', block_dict_name='neuron_sets', block_name='stim_neurons'), represents_physical_electrode=False, amplitude=[0.2, 0.5])}, recordings={}, neuron_sets={'stim_neurons': PredefinedNeuronSet(type='PredefinedNeuronSet', random_sample=[10, 20], random_seed=0, node_set='Layer1')}, initialize=Initialize(type='SimulationsForm.Initialize', node_set=NeuronSetReference(type='NeuronSetReference', block_dict_name='neuron_sets', block_name='stim_neurons'), timestep=0.025), info=Info(type='Info', campaign_name='No name provided', campaign_description='No description provided'))\n"
     ]
    }
   ],
   "source": [
    "simulation_config = obi.SimulationsForm.model_construct()\n",
    "print(simulation_config)\n",
    "\n",
    "info = obi.Info(name=\"O1 Simulation\", description=\"Simulation of O1 circuit with predefined neuron set and constant current stimulus\")\n",
    "simulation_config.set(info, name=\"info\")\n",
    "\n",
    "regular_timesteps = obi.RegularTimestamps(start_time=0.0, number_of_repetitions=3, interval=1000.0)\n",
    "simulation_config.add(regular_timesteps, name='stim_times', category='timestamps')\n",
    "\n",
    "predefined_neuron_set = obi.PredefinedNeuronSet(node_set=\"Layer1\", random_sample=[10, 20])\n",
    "simulation_config.add(predefined_neuron_set, name='stim_neurons', category='neuron_sets')\n",
    "\n",
    "current_stimulus = obi.ConstantCurrentClampSomaticStimulus(timestamps=regular_timesteps.ref, duration=5.0, neuron_set=predefined_neuron_set.ref, amplitude=[0.2, 0.5])\n",
    "simulation_config.add(current_stimulus, name='stimulus', category='stimuli')\n",
    "\n",
    "simulation_config.initialize.node_set = predefined_neuron_set.ref\n",
    "\n",
    "validated_simulation_config = obi.SimulationsForm.model_validate(simulation_config.model_dump()) \n",
    "print(validated_simulation_config)\n"
   ]
  },
  {
   "cell_type": "code",
   "execution_count": null,
   "metadata": {},
   "outputs": [],
   "source": []
  },
  {
   "cell_type": "markdown",
   "metadata": {},
   "source": [
    "### Defining the circuit simulation"
   ]
  },
  {
   "cell_type": "code",
   "execution_count": 6,
   "metadata": {},
   "outputs": [],
   "source": [
    "# Simulation init\n",
    "sim_neuron_set = obi.PredefinedNeuronSet(node_set=\"Layer1\")\n",
    "sim_duration = 3000 # ms\n",
    "poisson_stim_duration = 800 # ms\n",
    "poisson_stim_frequency = 20 # Hz\n",
    "simulations_initialize = obi.SimulationsForm.Initialize(\n",
    "    circuit=[circuit, circuit2],\n",
    "    node_set=obi.NeuronSetReference(block_name=\"L1All\", block_dict_name=\"neuron_sets\"),\n",
    "    simulation_length=sim_duration,\n",
    ")\n",
    "\n",
    "\n",
    "\n",
    "# Stimuli\n",
    "property_neuron_set = obi.PropertyNeuronSet(\n",
    "    property_filter=[obi.scientific.circuit.neuron_sets.NeuronPropertyFilter(filter_dict={\"layer\": [2, 3], \"synapse_class\": [\"INH\"]}),\n",
    "                     obi.scientific.circuit.neuron_sets.NeuronPropertyFilter(filter_dict={\"layer\": [1, 2, 3], \"synapse_class\": [\"EXC\"]})],\n",
    ")\n",
    "stim_neuron_set = obi.PredefinedNeuronSet(node_set=\"Layer1\", random_sample=[10, 20])\n",
    "stim_times = obi.RegularTimestamps(start_time=0.0, number_of_repetitions=3, interval=1000.0)  # in ms!!\n",
    "current_stimulus = obi.ConstantCurrentClampSomaticStimulus(timestamps=obi.TimestampsReference(block_name=\"StimTimes\", block_dict_name=\"timestamps\"),\n",
    "                                                           duration=5.0, \n",
    "                                                           neuron_set=obi.NeuronSetReference(block_name=\"L1Stim\", block_dict_name=\"neuron_sets\"), \n",
    "                                                           amplitude=[0.2, 0.5])\n",
    "sync_current_stimulus = obi.ConstantCurrentClampSomaticStimulus(timestamps=obi.TimestampsReference(block_name=\"StimTimes\", block_dict_name=\"timestamps\"), \n",
    "                                                                duration=100.0, \n",
    "                                                                neuron_set=obi.NeuronSetReference(block_name=\"L1Stim\", block_dict_name=\"neuron_sets\"), \n",
    "                                                                amplitude=0.1)\n",
    "poisson_input = obi.PoissonSpikeStimulus(timestamps=obi.TimestampsReference(block_name=\"StimTimes\", block_dict_name=\"timestamps\"),\n",
    "                                                        stim_duration=poisson_stim_duration,\n",
    "                                                        frequency=poisson_stim_frequency,\n",
    "                                                        neuron_set=obi.NeuronSetReference(block_name=\"L1Stim\", block_dict_name=\"neuron_sets\"), \n",
    "                                                        )\n",
    "\n",
    "# Recordings\n",
    "rec_neuron_set = obi.PredefinedNeuronSet(node_set=\"Layer1\", random_sample=100)\n",
    "v_recording = obi.SomaVoltageRecording(start_time=0.0, \n",
    "                                       end_time=sim_duration, \n",
    "                                       neuron_set=obi.NeuronSetReference(block_name=\"L1Rec\", block_dict_name=\"neuron_sets\")\n",
    "                                        )\n",
    "\n",
    "\"\"\"\n",
    "Fill form with Blocks\n",
    "\"\"\"\n",
    "simulations_form = obi.SimulationsForm(\n",
    "                                    initialize=simulations_initialize,\n",
    "                                    info=obi.Info(campaign_name=\"Example Simulation\", campaign_description=\"This is an example simulation.\"),\n",
    "                                    neuron_sets={\"L1All\": sim_neuron_set, \"L1Stim\": stim_neuron_set, \"L1Rec\": rec_neuron_set, \"PropertyNeuronSet\": property_neuron_set},\n",
    "                                    timestamps={\"StimTimes\": stim_times},\n",
    "                                    stimuli={\"CurrentStimulus\": current_stimulus, \"SyncCurrentStimulus\": sync_current_stimulus, \"PoissonInputStimulus\": poisson_input},\n",
    "                                    recordings={\"SomaVoltRec\": v_recording},\n",
    "                                    )"
   ]
  },
  {
   "cell_type": "code",
   "execution_count": 7,
   "metadata": {},
   "outputs": [
    {
     "data": {
      "text/plain": [
       "{'type': 'SimulationsForm',\n",
       " 'timestamps': {'StimTimes': {'type': 'RegularTimestamps',\n",
       "   'start_time': 0.0,\n",
       "   'number_of_repetitions': 3,\n",
       "   'interval': 1000.0}},\n",
       " 'stimuli': {'CurrentStimulus': {'type': 'ConstantCurrentClampSomaticStimulus',\n",
       "   'timestamps': {'type': 'TimestampsReference',\n",
       "    'block_dict_name': 'timestamps',\n",
       "    'block_name': 'StimTimes'},\n",
       "   'delay': 0.0,\n",
       "   'duration': 5.0,\n",
       "   'neuron_set': {'type': 'NeuronSetReference',\n",
       "    'block_dict_name': 'neuron_sets',\n",
       "    'block_name': 'L1Stim'},\n",
       "   'represents_physical_electrode': False,\n",
       "   'amplitude': [0.2, 0.5]},\n",
       "  'SyncCurrentStimulus': {'type': 'ConstantCurrentClampSomaticStimulus',\n",
       "   'timestamps': {'type': 'TimestampsReference',\n",
       "    'block_dict_name': 'timestamps',\n",
       "    'block_name': 'StimTimes'},\n",
       "   'delay': 0.0,\n",
       "   'duration': 100.0,\n",
       "   'neuron_set': {'type': 'NeuronSetReference',\n",
       "    'block_dict_name': 'neuron_sets',\n",
       "    'block_name': 'L1Stim'},\n",
       "   'represents_physical_electrode': False,\n",
       "   'amplitude': 0.1},\n",
       "  'PoissonInputStimulus': {'type': 'PoissonSpikeStimulus',\n",
       "   'timestamps': {'type': 'TimestampsReference',\n",
       "    'block_dict_name': 'timestamps',\n",
       "    'block_name': 'StimTimes'},\n",
       "   'stim_duration': 800.0,\n",
       "   'neuron_set': {'type': 'NeuronSetReference',\n",
       "    'block_dict_name': 'neuron_sets',\n",
       "    'block_name': 'L1Stim'},\n",
       "   'random_seed': 0,\n",
       "   'frequency': 20.0}},\n",
       " 'recordings': {'SomaVoltRec': {'type': 'SomaVoltageRecording',\n",
       "   'start_time': 0.0,\n",
       "   'end_time': 3000.0,\n",
       "   'dt': 0.1,\n",
       "   'neuron_set': {'type': 'NeuronSetReference',\n",
       "    'block_dict_name': 'neuron_sets',\n",
       "    'block_name': 'L1Rec'}}},\n",
       " 'neuron_sets': {'L1All': {'type': 'PredefinedNeuronSet',\n",
       "   'random_sample': None,\n",
       "   'random_seed': 0,\n",
       "   'node_set': 'Layer1'},\n",
       "  'L1Stim': {'type': 'PredefinedNeuronSet',\n",
       "   'random_sample': [10, 20],\n",
       "   'random_seed': 0,\n",
       "   'node_set': 'Layer1'},\n",
       "  'L1Rec': {'type': 'PredefinedNeuronSet',\n",
       "   'random_sample': 100,\n",
       "   'random_seed': 0,\n",
       "   'node_set': 'Layer1'},\n",
       "  'PropertyNeuronSet': {'type': 'PropertyNeuronSet',\n",
       "   'random_sample': None,\n",
       "   'random_seed': 0,\n",
       "   'property_filter': [{'type': 'NeuronPropertyFilter',\n",
       "     'filter_dict': {'layer': [2, 3], 'synapse_class': ['INH']}},\n",
       "    {'type': 'NeuronPropertyFilter',\n",
       "     'filter_dict': {'layer': [1, 2, 3], 'synapse_class': ['EXC']}}],\n",
       "   'node_sets': []}},\n",
       " 'initialize': {'type': 'SimulationsForm.Initialize',\n",
       "  'node_set': {'type': 'NeuronSetReference',\n",
       "   'block_dict_name': 'neuron_sets',\n",
       "   'block_name': 'L1All'},\n",
       "  'timestep': 0.025},\n",
       " 'info': {'type': 'Info',\n",
       "  'campaign_name': 'Example Simulation',\n",
       "  'campaign_description': 'This is an example simulation.'}}"
      ]
     },
     "execution_count": 7,
     "metadata": {},
     "output_type": "execute_result"
    }
   ],
   "source": [
    "simulations_form.model_dump(mode=\"json\")"
   ]
  },
  {
   "cell_type": "code",
   "execution_count": 8,
   "metadata": {},
   "outputs": [
    {
     "name": "stdout",
     "output_type": "stream",
     "text": [
      "[2025-06-11 23:27:12,363] INFO: \n",
      "MULTIPLE VALUE PARAMETERS\n",
      "[2025-06-11 23:27:12,365] INFO: stimuli.CurrentStimulus.amplitude: [0.2, 0.5]\n",
      "[2025-06-11 23:27:12,366] INFO: neuron_sets.L1Stim.random_sample: [10, 20]\n",
      "[2025-06-11 23:27:12,366] INFO: neuron_sets.PropertyNeuronSet.property_filter: [layer=2,3,synapse_class=INH, layer=1,2,3,synapse_class=EXC]\n",
      "[2025-06-11 23:27:12,367] INFO: \n",
      "COORDINATE PARAMETERS\n",
      "[2025-06-11 23:27:12,367] INFO: stimuli.CurrentStimulus.amplitude: 0.2, neuron_sets.L1Stim.random_sample: 10, neuron_sets.PropertyNeuronSet.property_filter: layer=2,3,synapse_class=INH\n",
      "[2025-06-11 23:27:12,368] INFO: stimuli.CurrentStimulus.amplitude: 0.2, neuron_sets.L1Stim.random_sample: 10, neuron_sets.PropertyNeuronSet.property_filter: layer=1,2,3,synapse_class=EXC\n",
      "[2025-06-11 23:27:12,368] INFO: stimuli.CurrentStimulus.amplitude: 0.2, neuron_sets.L1Stim.random_sample: 20, neuron_sets.PropertyNeuronSet.property_filter: layer=2,3,synapse_class=INH\n",
      "[2025-06-11 23:27:12,368] INFO: stimuli.CurrentStimulus.amplitude: 0.2, neuron_sets.L1Stim.random_sample: 20, neuron_sets.PropertyNeuronSet.property_filter: layer=1,2,3,synapse_class=EXC\n",
      "[2025-06-11 23:27:12,368] INFO: stimuli.CurrentStimulus.amplitude: 0.5, neuron_sets.L1Stim.random_sample: 10, neuron_sets.PropertyNeuronSet.property_filter: layer=2,3,synapse_class=INH\n",
      "[2025-06-11 23:27:12,369] INFO: stimuli.CurrentStimulus.amplitude: 0.5, neuron_sets.L1Stim.random_sample: 10, neuron_sets.PropertyNeuronSet.property_filter: layer=1,2,3,synapse_class=EXC\n",
      "[2025-06-11 23:27:12,369] INFO: stimuli.CurrentStimulus.amplitude: 0.5, neuron_sets.L1Stim.random_sample: 20, neuron_sets.PropertyNeuronSet.property_filter: layer=2,3,synapse_class=INH\n",
      "[2025-06-11 23:27:12,369] INFO: stimuli.CurrentStimulus.amplitude: 0.5, neuron_sets.L1Stim.random_sample: 20, neuron_sets.PropertyNeuronSet.property_filter: layer=1,2,3,synapse_class=EXC\n"
     ]
    },
    {
     "ename": "AttributeError",
     "evalue": "'Initialize' object has no attribute 'sonata_version'",
     "output_type": "error",
     "traceback": [
      "\u001b[31m---------------------------------------------------------------------------\u001b[39m",
      "\u001b[31mAttributeError\u001b[39m                            Traceback (most recent call last)",
      "\u001b[36mCell\u001b[39m\u001b[36m \u001b[39m\u001b[32mIn[8]\u001b[39m\u001b[32m, line 5\u001b[39m\n\u001b[32m      3\u001b[39m grid_scan.coordinate_parameters(display=\u001b[38;5;28;01mTrue\u001b[39;00m)\n\u001b[32m      4\u001b[39m \u001b[38;5;66;03m# grid_scan.coordinate_instances(display=True)\u001b[39;00m\n\u001b[32m----> \u001b[39m\u001b[32m5\u001b[39m \u001b[43mgrid_scan\u001b[49m\u001b[43m.\u001b[49m\u001b[43mexecute\u001b[49m\u001b[43m(\u001b[49m\u001b[43mprocessing_method\u001b[49m\u001b[43m=\u001b[49m\u001b[33;43m'\u001b[39;49m\u001b[33;43mgenerate\u001b[39;49m\u001b[33;43m'\u001b[39;49m\u001b[43m)\u001b[49m\n",
      "\u001b[36mFile \u001b[39m\u001b[32m~/Documents/obi/code/obi-one/obi_one/core/scan.py:173\u001b[39m, in \u001b[36mScan.execute\u001b[39m\u001b[34m(self, processing_method, data_postprocessing_method)\u001b[39m\n\u001b[32m    168\u001b[39m coordinate_instance.initialize_coordinate_output_root(\n\u001b[32m    169\u001b[39m     \u001b[38;5;28mself\u001b[39m.output_root, \u001b[38;5;28mself\u001b[39m.coordinate_directory_option\n\u001b[32m    170\u001b[39m )\n\u001b[32m    172\u001b[39m \u001b[38;5;66;03m# Call the coordinate_instance's processing_method (i.e. run, generate)\u001b[39;00m\n\u001b[32m--> \u001b[39m\u001b[32m173\u001b[39m return_dict[coordinate_instance.idx] = \u001b[38;5;28;43mgetattr\u001b[39;49m\u001b[43m(\u001b[49m\n\u001b[32m    174\u001b[39m \u001b[43m    \u001b[49m\u001b[43mcoordinate_instance\u001b[49m\u001b[43m,\u001b[49m\u001b[43m \u001b[49m\u001b[43mprocessing_method\u001b[49m\n\u001b[32m    175\u001b[39m \u001b[43m\u001b[49m\u001b[43m)\u001b[49m\u001b[43m(\u001b[49m\u001b[43m)\u001b[49m\n\u001b[32m    177\u001b[39m \u001b[38;5;66;03m# If a data_postprocessing_method is specified, call it\u001b[39;00m\n\u001b[32m    178\u001b[39m \u001b[38;5;28;01mif\u001b[39;00m data_postprocessing_method:\n",
      "\u001b[36mFile \u001b[39m\u001b[32m~/Documents/obi/code/obi-one/obi_one/scientific/simulation/simulations.py:132\u001b[39m, in \u001b[36mSimulation.generate\u001b[39m\u001b[34m(self)\u001b[39m\n\u001b[32m    130\u001b[39m \u001b[38;5;250m\u001b[39m\u001b[33;03m\"\"\"Generates SONATA simulation config .json file.\"\"\"\u001b[39;00m\n\u001b[32m    131\u001b[39m \u001b[38;5;28mself\u001b[39m._sonata_config = {}\n\u001b[32m--> \u001b[39m\u001b[32m132\u001b[39m \u001b[38;5;28mself\u001b[39m._sonata_config[\u001b[33m\"\u001b[39m\u001b[33mversion\u001b[39m\u001b[33m\"\u001b[39m] = \u001b[38;5;28;43mself\u001b[39;49m\u001b[43m.\u001b[49m\u001b[43minitialize\u001b[49m\u001b[43m.\u001b[49m\u001b[43msonata_version\u001b[49m\n\u001b[32m    133\u001b[39m \u001b[38;5;28mself\u001b[39m._sonata_config[\u001b[33m\"\u001b[39m\u001b[33mtarget_simulator\u001b[39m\u001b[33m\"\u001b[39m] = \u001b[38;5;28mself\u001b[39m.initialize.target_simulator\n\u001b[32m    135\u001b[39m \u001b[38;5;28mself\u001b[39m._sonata_config[\u001b[33m\"\u001b[39m\u001b[33mnetwork\u001b[39m\u001b[33m\"\u001b[39m] = \u001b[38;5;28mself\u001b[39m.initialize.circuit.path\n",
      "\u001b[36mFile \u001b[39m\u001b[32m~/Documents/obi/code/obi-one/.venv/lib/python3.12/site-packages/pydantic/main.py:991\u001b[39m, in \u001b[36mBaseModel.__getattr__\u001b[39m\u001b[34m(self, item)\u001b[39m\n\u001b[32m    988\u001b[39m     \u001b[38;5;28;01mreturn\u001b[39;00m \u001b[38;5;28msuper\u001b[39m().\u001b[34m__getattribute__\u001b[39m(item)  \u001b[38;5;66;03m# Raises AttributeError if appropriate\u001b[39;00m\n\u001b[32m    989\u001b[39m \u001b[38;5;28;01melse\u001b[39;00m:\n\u001b[32m    990\u001b[39m     \u001b[38;5;66;03m# this is the current error\u001b[39;00m\n\u001b[32m--> \u001b[39m\u001b[32m991\u001b[39m     \u001b[38;5;28;01mraise\u001b[39;00m \u001b[38;5;167;01mAttributeError\u001b[39;00m(\u001b[33mf\u001b[39m\u001b[33m'\u001b[39m\u001b[38;5;132;01m{\u001b[39;00m\u001b[38;5;28mtype\u001b[39m(\u001b[38;5;28mself\u001b[39m).\u001b[34m__name__\u001b[39m\u001b[38;5;132;01m!r}\u001b[39;00m\u001b[33m object has no attribute \u001b[39m\u001b[38;5;132;01m{\u001b[39;00mitem\u001b[38;5;132;01m!r}\u001b[39;00m\u001b[33m'\u001b[39m)\n",
      "\u001b[31mAttributeError\u001b[39m: 'Initialize' object has no attribute 'sonata_version'"
     ]
    }
   ],
   "source": [
    "grid_scan = obi.GridScan(form=simulations_form, output_root='../../obi-output/circuit_simulations/grid_scan')\n",
    "grid_scan.multiple_value_parameters(display=True)\n",
    "grid_scan.coordinate_parameters(display=True)\n",
    "# grid_scan.coordinate_instances(display=True)\n",
    "grid_scan.execute(processing_method='generate')"
   ]
  },
  {
   "cell_type": "code",
   "execution_count": null,
   "metadata": {},
   "outputs": [],
   "source": [
    "# Deserialization\n",
    "grid_scan_ds = obi.deserialize_obi_object_from_json_file(\"../../obi-output/circuit_simulations/grid_scan/run_scan_config.json\")"
   ]
  },
  {
   "cell_type": "code",
   "execution_count": null,
   "metadata": {},
   "outputs": [],
   "source": []
  }
 ],
 "metadata": {
  "kernelspec": {
   "display_name": ".venv",
   "language": "python",
   "name": "python3"
  },
  "language_info": {
   "codemirror_mode": {
    "name": "ipython",
    "version": 3
   },
   "file_extension": ".py",
   "mimetype": "text/x-python",
   "name": "python",
   "nbconvert_exporter": "python",
   "pygments_lexer": "ipython3",
   "version": "3.12.9"
  }
 },
 "nbformat": 4,
 "nbformat_minor": 4
}
