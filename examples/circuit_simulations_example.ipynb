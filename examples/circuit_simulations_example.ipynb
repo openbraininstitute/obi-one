{
 "cells": [
  {
   "cell_type": "markdown",
   "metadata": {},
   "source": [
    "# Circuit simulation examples"
   ]
  },
  {
   "cell_type": "code",
   "execution_count": 1,
   "metadata": {},
   "outputs": [],
   "source": [
    "import obi_one as obi"
   ]
  },
  {
   "cell_type": "code",
   "execution_count": 2,
   "metadata": {},
   "outputs": [],
   "source": [
    "# circuit_path_prefix = \"/Users/james/Documents/obi/additional_data/\"\n",
    "circuit_path_prefix = \"/Users/armando/Desktop/Models/SSCx/O1_data/\"\n",
    "# circuit_path_prefix = \"/Users/pokorny/Data/Circuits/\""
   ]
  },
  {
   "cell_type": "markdown",
   "metadata": {},
   "source": [
    "### Loading two circuits"
   ]
  },
  {
   "cell_type": "code",
   "execution_count": 3,
   "metadata": {},
   "outputs": [
    {
     "name": "stdout",
     "output_type": "stream",
     "text": [
      "Circuit 'O1' with 785632 neurons and 560631825 synapses\n"
     ]
    }
   ],
   "source": [
    "# circuit = obi.Circuit(name=\"ToyCircuit-S1-6k\", path=circuit_path_prefix + \"ToyCircuit-S1-6k/circuit_config.json\")\n",
    "circuit = obi.Circuit(name=\"O1\", path=circuit_path_prefix + \"circuit_config.json\")\n",
    "print(f\"Circuit '{circuit}' with {circuit.sonata_circuit.nodes.size} neurons and {circuit.sonata_circuit.edges.size} synapses\")"
   ]
  },
  {
   "cell_type": "code",
   "execution_count": 4,
   "metadata": {},
   "outputs": [
    {
     "name": "stdout",
     "output_type": "stream",
     "text": [
      "Circuit 'O1_2' with 785632 neurons and 560631825 synapses\n"
     ]
    }
   ],
   "source": [
    "# circuit2 = obi.Circuit(name=\"ToyCircuit-S1-6k-duplicate\", path=\"/Users/pokorny/Data/Circuits/ToyCircuit-S1-6k/circuit_config.json\")\n",
    "# circuit2 = obi.Circuit(name=\"nbS1-HEX0-beta\", path=circuit_path_prefix + \"ToyCircuit-S1-6k/circuit_config.json\")\n",
    "circuit2 = obi.Circuit(name=\"O1_2\", path=circuit_path_prefix + \"circuit_config.json\")\n",
    "print(f\"Circuit '{circuit2}' with {circuit2.sonata_circuit.nodes.size} neurons and {circuit2.sonata_circuit.edges.size} synapses\")"
   ]
  },
  {
   "cell_type": "markdown",
   "metadata": {},
   "source": [
    "### Defining the circuit simulation"
   ]
  },
  {
   "cell_type": "code",
   "execution_count": 5,
   "metadata": {},
   "outputs": [],
   "source": [
    "# Simulation init\n",
    "sim_neuron_set = obi.PredefinedNeuronSet(node_set=\"Layer1\")\n",
    "sim_duration = 3000 # ms\n",
    "poisson_stim_duration = 800 # ms\n",
    "poisson_stim_frequency = 20 # Hz\n",
    "simulations_initialize = obi.SimulationsForm.Initialize(\n",
    "    circuit=[circuit, circuit2],\n",
    "    node_set=sim_neuron_set,\n",
    "    simulation_length=sim_duration,\n",
    ")\n",
    "\n",
    "# Stimuli\n",
    "stim_neuron_set = obi.PredefinedNeuronSet(node_set=\"Layer1\", random_sample=[10, 20])\n",
    "stim_times = obi.RegularTimestamps(start_time=0.0, number_of_repetitions=3, interval=1000.0)  # in ms!!\n",
    "current_stimulus = obi.ConstantCurrentClampSomaticStimulus(timestamps=stim_times, duration=5.0, neuron_set=stim_neuron_set, amplitude=[0.2, 0.5])\n",
    "sync_current_stimulus = obi.ConstantCurrentClampSomaticStimulus(timestamps=stim_times, duration=100.0, neuron_set=stim_neuron_set, amplitude=0.1)\n",
    "poisson_input = obi.PoissonSpikeStimulus(timestamps=stim_times,\n",
    "                                                                        stim_duration=poisson_stim_duration,\n",
    "                                                                        frequency=poisson_stim_frequency,\n",
    "                                                                        neuron_set=stim_neuron_set,\n",
    "                                                                       )\n",
    "\n",
    "# Recordings\n",
    "rec_neuron_set = obi.PredefinedNeuronSet(node_set=\"Layer1\", random_sample=100)\n",
    "v_recording = obi.SomaVoltageRecording(start_time=0.0, end_time=sim_duration, neuron_set=rec_neuron_set)\n",
    "\n",
    "\"\"\"\n",
    "Fill form with Blocks\n",
    "\"\"\"\n",
    "simulations_form = obi.SimulationsForm(\n",
    "                                    initialize=simulations_initialize,\n",
    "                                    intracellular_location_sets={},\n",
    "                                    extracellular_location_sets={},\n",
    "                                    neuron_sets={\"L1All\": sim_neuron_set, \"L1Stim\": stim_neuron_set, \"L1Rec\": rec_neuron_set},\n",
    "                                    synapse_sets={},\n",
    "                                    timestamps={\"StimTimes\": stim_times},\n",
    "                                    stimuli={\"CurrentStimulus\": current_stimulus, \"SyncCurrentStimulus\": sync_current_stimulus, \"PoissonInputStimulus\": poisson_input},\n",
    "                                    recordings={\"SomaVoltRec\": v_recording},\n",
    "                                    )"
   ]
  },
  {
   "cell_type": "code",
   "execution_count": 6,
   "metadata": {},
   "outputs": [
    {
     "data": {
      "text/plain": [
       "{'type': 'SimulationsForm',\n",
       " 'timestamps': {'StimTimes': {'type': 'RegularTimestamps',\n",
       "   'start_time': 0.0,\n",
       "   'simulation_level_name': 'StimTimes',\n",
       "   'number_of_repetitions': 3,\n",
       "   'interval': 1000.0}},\n",
       " 'stimuli': {'CurrentStimulus': {'type': 'ConstantCurrentClampSomaticStimulus',\n",
       "   'timestamps': {'type': 'RegularTimestamps',\n",
       "    'start_time': 0.0,\n",
       "    'simulation_level_name': 'StimTimes',\n",
       "    'number_of_repetitions': 3,\n",
       "    'interval': 1000.0},\n",
       "   'simulation_level_name': 'CurrentStimulus',\n",
       "   'delay': 0.0,\n",
       "   'duration': 5.0,\n",
       "   'neuron_set': {'type': 'PredefinedNeuronSet',\n",
       "    'simulation_level_name': 'L1Stim',\n",
       "    'random_sample': [10, 20],\n",
       "    'random_seed': 0,\n",
       "    'node_set': 'Layer1'},\n",
       "   'represents_physical_electrode': False,\n",
       "   'amplitude': [0.2, 0.5]},\n",
       "  'SyncCurrentStimulus': {'type': 'ConstantCurrentClampSomaticStimulus',\n",
       "   'timestamps': {'type': 'RegularTimestamps',\n",
       "    'start_time': 0.0,\n",
       "    'simulation_level_name': 'StimTimes',\n",
       "    'number_of_repetitions': 3,\n",
       "    'interval': 1000.0},\n",
       "   'simulation_level_name': 'SyncCurrentStimulus',\n",
       "   'delay': 0.0,\n",
       "   'duration': 100.0,\n",
       "   'neuron_set': {'type': 'PredefinedNeuronSet',\n",
       "    'simulation_level_name': 'L1Stim',\n",
       "    'random_sample': [10, 20],\n",
       "    'random_seed': 0,\n",
       "    'node_set': 'Layer1'},\n",
       "   'represents_physical_electrode': False,\n",
       "   'amplitude': 0.1},\n",
       "  'PoissonInputStimulus': {'type': 'PoissonSpikeStimulus',\n",
       "   'timestamps': {'type': 'RegularTimestamps',\n",
       "    'start_time': 0.0,\n",
       "    'simulation_level_name': 'StimTimes',\n",
       "    'number_of_repetitions': 3,\n",
       "    'interval': 1000.0},\n",
       "   'simulation_level_name': 'PoissonInputStimulus',\n",
       "   'stim_duration': 800.0,\n",
       "   'neuron_set': {'type': 'PredefinedNeuronSet',\n",
       "    'simulation_level_name': 'L1Stim',\n",
       "    'random_sample': [10, 20],\n",
       "    'random_seed': 0,\n",
       "    'node_set': 'Layer1'},\n",
       "   'random_seed': 0,\n",
       "   'frequency': 20.0}},\n",
       " 'recordings': {'SomaVoltRec': {'type': 'SomaVoltageRecording',\n",
       "   'start_time': 0.0,\n",
       "   'end_time': 3000.0,\n",
       "   'dt': 0.1,\n",
       "   'simulation_level_name': 'SomaVoltRec',\n",
       "   'neuron_set': {'type': 'PredefinedNeuronSet',\n",
       "    'simulation_level_name': 'L1Rec',\n",
       "    'random_sample': 100,\n",
       "    'random_seed': 0,\n",
       "    'node_set': 'Layer1'}}},\n",
       " 'neuron_sets': {'L1All': {'type': 'PredefinedNeuronSet',\n",
       "   'simulation_level_name': 'L1All',\n",
       "   'random_sample': None,\n",
       "   'random_seed': 0,\n",
       "   'node_set': 'Layer1'},\n",
       "  'L1Stim': {'type': 'PredefinedNeuronSet',\n",
       "   'simulation_level_name': 'L1Stim',\n",
       "   'random_sample': [10, 20],\n",
       "   'random_seed': 0,\n",
       "   'node_set': 'Layer1'},\n",
       "  'L1Rec': {'type': 'PredefinedNeuronSet',\n",
       "   'simulation_level_name': 'L1Rec',\n",
       "   'random_sample': 100,\n",
       "   'random_seed': 0,\n",
       "   'node_set': 'Layer1'}},\n",
       " 'synapse_sets': {},\n",
       " 'intracellular_location_sets': {},\n",
       " 'extracellular_location_sets': {},\n",
       " 'initialize': {'type': 'SimulationsForm.Initialize',\n",
       "  'circuit': [{'type': 'Circuit',\n",
       "    'name': 'O1',\n",
       "    'path': '/Users/armando/Desktop/Models/SSCx/O1_data/circuit_config.json'},\n",
       "   {'type': 'Circuit',\n",
       "    'name': 'O1_2',\n",
       "    'path': '/Users/armando/Desktop/Models/SSCx/O1_data/circuit_config.json'}],\n",
       "  'simulation_length': 3000.0,\n",
       "  'node_set': {'type': 'PredefinedNeuronSet',\n",
       "   'simulation_level_name': 'L1All',\n",
       "   'random_sample': None,\n",
       "   'random_seed': 0,\n",
       "   'node_set': 'Layer1'},\n",
       "  'random_seed': 1,\n",
       "  'extracellular_calcium_concentration': 1.1,\n",
       "  'v_init': -80.0,\n",
       "  'spike_location': 'soma',\n",
       "  'sonata_version': 1,\n",
       "  'target_simulator': 'CORENEURON',\n",
       "  'timestep': 0.025}}"
      ]
     },
     "execution_count": 6,
     "metadata": {},
     "output_type": "execute_result"
    }
   ],
   "source": [
    "simulations_form.model_dump(mode=\"json\")"
   ]
  },
  {
   "cell_type": "code",
   "execution_count": 7,
   "metadata": {},
   "outputs": [
    {
     "name": "stdout",
     "output_type": "stream",
     "text": [
      "\n",
      "MULTIPLE VALUE PARAMETERS\n",
      "stimuli.CurrentStimulus.amplitude: [0.2, 0.5]\n",
      "neuron_sets.L1Stim.random_sample: [10, 20]\n",
      "initialize.circuit: [Circuit(type='Circuit', name='O1', path='/Users/armando/Desktop/Models/SSCx/O1_data/circuit_config.json'), Circuit(type='Circuit', name='O1_2', path='/Users/armando/Desktop/Models/SSCx/O1_data/circuit_config.json')]\n",
      "\n",
      "COORDINATE PARAMETERS\n",
      "stimuli.CurrentStimulus.amplitude: 0.2, neuron_sets.L1Stim.random_sample: 10, initialize.circuit: O1\n",
      "stimuli.CurrentStimulus.amplitude: 0.2, neuron_sets.L1Stim.random_sample: 10, initialize.circuit: O1_2\n",
      "stimuli.CurrentStimulus.amplitude: 0.2, neuron_sets.L1Stim.random_sample: 20, initialize.circuit: O1\n",
      "stimuli.CurrentStimulus.amplitude: 0.2, neuron_sets.L1Stim.random_sample: 20, initialize.circuit: O1_2\n",
      "stimuli.CurrentStimulus.amplitude: 0.5, neuron_sets.L1Stim.random_sample: 10, initialize.circuit: O1\n",
      "stimuli.CurrentStimulus.amplitude: 0.5, neuron_sets.L1Stim.random_sample: 10, initialize.circuit: O1_2\n",
      "stimuli.CurrentStimulus.amplitude: 0.5, neuron_sets.L1Stim.random_sample: 20, initialize.circuit: O1\n",
      "stimuli.CurrentStimulus.amplitude: 0.5, neuron_sets.L1Stim.random_sample: 20, initialize.circuit: O1_2\n"
     ]
    },
    {
     "ename": "AssertionError",
     "evalue": "Output file '../../obi-output/circuit_simulations/grid_scan/stimuli.CurrentStimulus.amplitude=0.2/neuron_sets.L1Stim.random_sample=10/initialize.circuit=O1/node_sets.json' already exists! Delete file or choose to overwrite.",
     "output_type": "error",
     "traceback": [
      "\u001b[31m---------------------------------------------------------------------------\u001b[39m",
      "\u001b[31mAssertionError\u001b[39m                            Traceback (most recent call last)",
      "\u001b[36mCell\u001b[39m\u001b[36m \u001b[39m\u001b[32mIn[7]\u001b[39m\u001b[32m, line 5\u001b[39m\n\u001b[32m      3\u001b[39m grid_scan.coordinate_parameters(display=\u001b[38;5;28;01mTrue\u001b[39;00m)\n\u001b[32m      4\u001b[39m \u001b[38;5;66;03m# grid_scan.coordinate_instances(display=True)\u001b[39;00m\n\u001b[32m----> \u001b[39m\u001b[32m5\u001b[39m \u001b[43mgrid_scan\u001b[49m\u001b[43m.\u001b[49m\u001b[43mexecute\u001b[49m\u001b[43m(\u001b[49m\u001b[43mprocessing_method\u001b[49m\u001b[43m=\u001b[49m\u001b[33;43m'\u001b[39;49m\u001b[33;43mgenerate\u001b[39;49m\u001b[33;43m'\u001b[39;49m\u001b[43m)\u001b[49m\n",
      "\u001b[36mFile \u001b[39m\u001b[32m~/Desktop/obi-one/obi_one/core/scan.py:173\u001b[39m, in \u001b[36mScan.execute\u001b[39m\u001b[34m(self, processing_method, data_postprocessing_method)\u001b[39m\n\u001b[32m    170\u001b[39m os.makedirs(coordinate_instance.coordinate_output_root, exist_ok=\u001b[38;5;28;01mTrue\u001b[39;00m)\n\u001b[32m    172\u001b[39m \u001b[38;5;66;03m# Call the coordinate_instance's processing_method (i.e. run, generate)\u001b[39;00m\n\u001b[32m--> \u001b[39m\u001b[32m173\u001b[39m return_dict[coordinate_instance.idx] = \u001b[38;5;28;43mgetattr\u001b[39;49m\u001b[43m(\u001b[49m\n\u001b[32m    174\u001b[39m \u001b[43m    \u001b[49m\u001b[43mcoordinate_instance\u001b[49m\u001b[43m,\u001b[49m\u001b[43m \u001b[49m\u001b[43mprocessing_method\u001b[49m\n\u001b[32m    175\u001b[39m \u001b[43m\u001b[49m\u001b[43m)\u001b[49m\u001b[43m(\u001b[49m\u001b[43m)\u001b[49m\n\u001b[32m    177\u001b[39m \u001b[38;5;66;03m# If a data_postprocessing_method is specified, call it\u001b[39;00m\n\u001b[32m    178\u001b[39m \u001b[38;5;28;01mif\u001b[39;00m data_postprocessing_method:\n",
      "\u001b[36mFile \u001b[39m\u001b[32m~/Desktop/obi-one/obi_one/scientific/simulation/simulations.py:181\u001b[39m, in \u001b[36mSimulation.generate\u001b[39m\u001b[34m(self)\u001b[39m\n\u001b[32m    177\u001b[39m     NeuronSet.add_node_set_to_circuit(c, {_name: nset_def}, overwrite_if_exists=\u001b[38;5;28;01mFalse\u001b[39;00m)\n\u001b[32m    179\u001b[39m \u001b[38;5;66;03m# Write node sets from SONATA circuit object to .json file\u001b[39;00m\n\u001b[32m    180\u001b[39m \u001b[38;5;66;03m# (will raise an error if file already exists)\u001b[39;00m\n\u001b[32m--> \u001b[39m\u001b[32m181\u001b[39m \u001b[43mNeuronSet\u001b[49m\u001b[43m.\u001b[49m\u001b[43mwrite_circuit_node_set_file\u001b[49m\u001b[43m(\u001b[49m\n\u001b[32m    182\u001b[39m \u001b[43m    \u001b[49m\u001b[43mc\u001b[49m\u001b[43m,\u001b[49m\n\u001b[32m    183\u001b[39m \u001b[43m    \u001b[49m\u001b[38;5;28;43mself\u001b[39;49m\u001b[43m.\u001b[49m\u001b[43mcoordinate_output_root\u001b[49m\u001b[43m,\u001b[49m\n\u001b[32m    184\u001b[39m \u001b[43m    \u001b[49m\u001b[43mfile_name\u001b[49m\u001b[43m=\u001b[49m\u001b[38;5;28;43mself\u001b[39;49m\u001b[43m.\u001b[49m\u001b[43mNODE_SETS_FILE_NAME\u001b[49m\u001b[43m,\u001b[49m\n\u001b[32m    185\u001b[39m \u001b[43m    \u001b[49m\u001b[43moverwrite_if_exists\u001b[49m\u001b[43m=\u001b[49m\u001b[38;5;28;43;01mFalse\u001b[39;49;00m\u001b[43m,\u001b[49m\n\u001b[32m    186\u001b[39m \u001b[43m\u001b[49m\u001b[43m)\u001b[49m\n\u001b[32m    187\u001b[39m \u001b[38;5;28mself\u001b[39m._sonata_config[\u001b[33m\"\u001b[39m\u001b[33mnode_sets_file\u001b[39m\u001b[33m\"\u001b[39m] = \u001b[38;5;28mself\u001b[39m.NODE_SETS_FILE_NAME\n\u001b[32m    189\u001b[39m \u001b[38;5;66;03m# Write simulation config file (.json)\u001b[39;00m\n",
      "\u001b[36mFile \u001b[39m\u001b[32m~/Desktop/obi-one/obi_one/scientific/circuit/neuron_sets.py:90\u001b[39m, in \u001b[36mNeuronSet.write_circuit_node_set_file\u001b[39m\u001b[34m(sonata_circuit, output_path, file_name, overwrite_if_exists)\u001b[39m\n\u001b[32m     87\u001b[39m output_file = os.path.join(output_path, file_name)\n\u001b[32m     89\u001b[39m \u001b[38;5;28;01mif\u001b[39;00m \u001b[38;5;129;01mnot\u001b[39;00m overwrite_if_exists:\n\u001b[32m---> \u001b[39m\u001b[32m90\u001b[39m     \u001b[38;5;28;01massert\u001b[39;00m \u001b[38;5;129;01mnot\u001b[39;00m os.path.exists(output_file), (\n\u001b[32m     91\u001b[39m         \u001b[33mf\u001b[39m\u001b[33m\"\u001b[39m\u001b[33mOutput file \u001b[39m\u001b[33m'\u001b[39m\u001b[38;5;132;01m{\u001b[39;00moutput_file\u001b[38;5;132;01m}\u001b[39;00m\u001b[33m'\u001b[39m\u001b[33m already exists! Delete file or choose to overwrite.\u001b[39m\u001b[33m\"\u001b[39m\n\u001b[32m     92\u001b[39m     )\n\u001b[32m     94\u001b[39m \u001b[38;5;28;01mwith\u001b[39;00m \u001b[38;5;28mopen\u001b[39m(output_file, \u001b[33m\"\u001b[39m\u001b[33mw\u001b[39m\u001b[33m\"\u001b[39m) \u001b[38;5;28;01mas\u001b[39;00m f:\n\u001b[32m     95\u001b[39m     json.dump(sonata_circuit.node_sets.content, f, indent=\u001b[32m2\u001b[39m)\n",
      "\u001b[31mAssertionError\u001b[39m: Output file '../../obi-output/circuit_simulations/grid_scan/stimuli.CurrentStimulus.amplitude=0.2/neuron_sets.L1Stim.random_sample=10/initialize.circuit=O1/node_sets.json' already exists! Delete file or choose to overwrite."
     ]
    }
   ],
   "source": [
    "grid_scan = obi.GridScan(form=simulations_form, output_root='../../obi-output/circuit_simulations/grid_scan')\n",
    "grid_scan.multiple_value_parameters(display=True)\n",
    "grid_scan.coordinate_parameters(display=True)\n",
    "# grid_scan.coordinate_instances(display=True)\n",
    "grid_scan.execute(processing_method='generate')"
   ]
  },
  {
   "cell_type": "code",
   "execution_count": null,
   "metadata": {},
   "outputs": [],
   "source": [
    "# Deserialization\n",
    "# grid_scan_ds = obi.deserialize_obi_object_from_json_file(\"../../obi-output/circuit_simulations/grid_scan/run_scan_config.json\")"
   ]
  }
 ],
 "metadata": {
  "kernelspec": {
   "display_name": "obi-one",
   "language": "python",
   "name": "obi-one"
  },
  "language_info": {
   "codemirror_mode": {
    "name": "ipython",
    "version": 3
   },
   "file_extension": ".py",
   "mimetype": "text/x-python",
   "name": "python",
   "nbconvert_exporter": "python",
   "pygments_lexer": "ipython3",
   "version": "3.12.10"
  }
 },
 "nbformat": 4,
 "nbformat_minor": 4
}
