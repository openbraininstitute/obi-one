{
 "cells": [
  {
   "cell_type": "markdown",
   "metadata": {},
   "source": [
    "# Circuit simulation examples"
   ]
  },
  {
   "cell_type": "code",
   "execution_count": 1,
   "metadata": {},
   "outputs": [],
   "source": [
    "import obi_one as obi"
   ]
  },
  {
   "cell_type": "code",
   "execution_count": 2,
   "metadata": {},
   "outputs": [],
   "source": [
    "circuit_path_prefix = \"/Users/james/Documents/obi/additional_data/\"\n",
    "# circuit_path_prefix = \"/Users/pokorny/Data/Circuits/\""
   ]
  },
  {
   "cell_type": "markdown",
   "metadata": {},
   "source": [
    "### Loading two circuits"
   ]
  },
  {
   "cell_type": "code",
   "execution_count": 3,
   "metadata": {},
   "outputs": [
    {
     "name": "stdout",
     "output_type": "stream",
     "text": [
      "Circuit 'ToyCircuit-S1-6k' with 5924 neurons and 568717 synapses\n"
     ]
    }
   ],
   "source": [
    "circuit = obi.Circuit(name=\"ToyCircuit-S1-6k\", path=circuit_path_prefix + \"ToyCircuit-S1-6k/circuit_config.json\")\n",
    "print(f\"Circuit '{circuit}' with {circuit.sonata_circuit.nodes.size} neurons and {circuit.sonata_circuit.edges.size} synapses\")"
   ]
  },
  {
   "cell_type": "code",
   "execution_count": 4,
   "metadata": {},
   "outputs": [
    {
     "name": "stdout",
     "output_type": "stream",
     "text": [
      "Circuit 'nbS1-HEX0-beta' with 5924 neurons and 568717 synapses\n"
     ]
    }
   ],
   "source": [
    "# circuit2 = obi.Circuit(name=\"ToyCircuit-S1-6k-duplicate\", path=\"/Users/pokorny/Data/Circuits/ToyCircuit-S1-6k/circuit_config.json\")\n",
    "circuit2 = obi.Circuit(name=\"nbS1-HEX0-beta\", path=circuit_path_prefix + \"ToyCircuit-S1-6k/circuit_config.json\")\n",
    "print(f\"Circuit '{circuit2}' with {circuit2.sonata_circuit.nodes.size} neurons and {circuit2.sonata_circuit.edges.size} synapses\")"
   ]
  },
  {
   "cell_type": "markdown",
   "metadata": {},
   "source": [
    "### Defining the circuit simulation"
   ]
  },
  {
   "cell_type": "code",
   "execution_count": 5,
   "metadata": {},
   "outputs": [],
   "source": [
    "# Simulation init\n",
    "sim_neuron_set = obi.PredefinedNeuronSet(node_set=\"Layer1\")\n",
    "sim_duration = 3000.0  # ms\n",
    "simulations_initialize = obi.SimulationsForm.Initialize(\n",
    "    circuit=[circuit, circuit2],\n",
    "    node_set=sim_neuron_set,\n",
    "    simulation_length=sim_duration,\n",
    ")\n",
    "\n",
    "# Stimuli\n",
    "stim_neuron_set = obi.PredefinedNeuronSet(node_set=\"Layer1\", random_sample=[10, 20])\n",
    "stim_times = obi.RegularTimestamps(start_time=0.0, number_of_repetitions=3, interval=1000.0)  # in ms!!\n",
    "current_stimulus = obi.ConstantCurrentClampSomaticStimulus(timestamps=stim_times, duration=5.0, neuron_set=stim_neuron_set, amplitude=[0.2, 0.5])\n",
    "sync_current_stimulus = obi.ConstantCurrentClampSomaticStimulus(timestamps=stim_times, duration=100.0, neuron_set=stim_neuron_set, amplitude=0.1)\n",
    "\n",
    "# Recordings\n",
    "rec_neuron_set = obi.PredefinedNeuronSet(node_set=\"Layer1\", random_sample=100)\n",
    "v_recording = obi.SomaVoltageRecording(start_time=0.0, end_time=sim_duration, neuron_set=rec_neuron_set)\n",
    "\n",
    "\"\"\"\n",
    "Fill form with Blocks\n",
    "\"\"\"\n",
    "simulations_form = obi.SimulationsForm(\n",
    "                                    initialize=simulations_initialize,\n",
    "                                    intracellular_location_sets={},\n",
    "                                    extracellular_location_sets={},\n",
    "                                    neuron_sets={\"L1All\": sim_neuron_set, \"L1Stim\": stim_neuron_set, \"L1Rec\": rec_neuron_set},\n",
    "                                    synapse_sets={},\n",
    "                                    timestamps={\"StimTimes\": stim_times},\n",
    "                                    stimuli={\"CurrentStimulus\": current_stimulus, \"SyncCurrentStimulus\": sync_current_stimulus},\n",
    "                                    recordings={\"SomaVoltRec\": v_recording},\n",
    "                                    )"
   ]
  },
  {
   "cell_type": "code",
   "execution_count": 6,
   "metadata": {},
   "outputs": [
    {
     "data": {
      "text/plain": [
       "{'type': 'SimulationsForm',\n",
       " 'timestamps': {'StimTimes': {'type': 'RegularTimestamps',\n",
       "   'start_time': 0.0,\n",
       "   'simulation_level_name': 'StimTimes',\n",
       "   'number_of_repetitions': 3,\n",
       "   'interval': 1000.0}},\n",
       " 'stimuli': {'CurrentStimulus': {'type': 'ConstantCurrentClampSomaticStimulus',\n",
       "   'timestamps': {'type': 'RegularTimestamps',\n",
       "    'start_time': 0.0,\n",
       "    'simulation_level_name': 'StimTimes',\n",
       "    'number_of_repetitions': 3,\n",
       "    'interval': 1000.0},\n",
       "   'simulation_level_name': 'CurrentStimulus',\n",
       "   'delay': 0.0,\n",
       "   'duration': 5.0,\n",
       "   'neuron_set': {'type': 'PredefinedNeuronSet',\n",
       "    'simulation_level_name': 'L1Stim',\n",
       "    'random_sample': [10, 20],\n",
       "    'random_seed': 0,\n",
       "    'node_set': 'Layer1'},\n",
       "   'represents_physical_electrode': False,\n",
       "   'amplitude': [0.2, 0.5]},\n",
       "  'SyncCurrentStimulus': {'type': 'ConstantCurrentClampSomaticStimulus',\n",
       "   'timestamps': {'type': 'RegularTimestamps',\n",
       "    'start_time': 0.0,\n",
       "    'simulation_level_name': 'StimTimes',\n",
       "    'number_of_repetitions': 3,\n",
       "    'interval': 1000.0},\n",
       "   'simulation_level_name': 'SyncCurrentStimulus',\n",
       "   'delay': 0.0,\n",
       "   'duration': 100.0,\n",
       "   'neuron_set': {'type': 'PredefinedNeuronSet',\n",
       "    'simulation_level_name': 'L1Stim',\n",
       "    'random_sample': [10, 20],\n",
       "    'random_seed': 0,\n",
       "    'node_set': 'Layer1'},\n",
       "   'represents_physical_electrode': False,\n",
       "   'amplitude': 0.1}},\n",
       " 'recordings': {'SomaVoltRec': {'type': 'SomaVoltageRecording',\n",
       "   'start_time': 0.0,\n",
       "   'end_time': 3000.0,\n",
       "   'dt': 0.1,\n",
       "   'simulation_level_name': 'SomaVoltRec',\n",
       "   'neuron_set': {'type': 'PredefinedNeuronSet',\n",
       "    'simulation_level_name': 'L1Rec',\n",
       "    'random_sample': 100,\n",
       "    'random_seed': 0,\n",
       "    'node_set': 'Layer1'}}},\n",
       " 'neuron_sets': {'L1All': {'type': 'PredefinedNeuronSet',\n",
       "   'simulation_level_name': 'L1All',\n",
       "   'random_sample': None,\n",
       "   'random_seed': 0,\n",
       "   'node_set': 'Layer1'},\n",
       "  'L1Stim': {'type': 'PredefinedNeuronSet',\n",
       "   'simulation_level_name': 'L1Stim',\n",
       "   'random_sample': [10, 20],\n",
       "   'random_seed': 0,\n",
       "   'node_set': 'Layer1'},\n",
       "  'L1Rec': {'type': 'PredefinedNeuronSet',\n",
       "   'simulation_level_name': 'L1Rec',\n",
       "   'random_sample': 100,\n",
       "   'random_seed': 0,\n",
       "   'node_set': 'Layer1'}},\n",
       " 'synapse_sets': {},\n",
       " 'intracellular_location_sets': {},\n",
       " 'extracellular_location_sets': {},\n",
       " 'initialize': {'type': 'SimulationsForm.Initialize',\n",
       "  'circuit': [{'type': 'Circuit',\n",
       "    'name': 'ToyCircuit-S1-6k',\n",
       "    'path': '/Users/james/Documents/obi/additional_data/ToyCircuit-S1-6k/circuit_config.json'},\n",
       "   {'type': 'Circuit',\n",
       "    'name': 'nbS1-HEX0-beta',\n",
       "    'path': '/Users/james/Documents/obi/additional_data/ToyCircuit-S1-6k/circuit_config.json'}],\n",
       "  'simulation_length': 3000.0,\n",
       "  'node_set': {'type': 'PredefinedNeuronSet',\n",
       "   'simulation_level_name': 'L1All',\n",
       "   'random_sample': None,\n",
       "   'random_seed': 0,\n",
       "   'node_set': 'Layer1'},\n",
       "  'random_seed': 1,\n",
       "  'extracellular_calcium_concentration': 1.1,\n",
       "  'v_init': -80.0,\n",
       "  'spike_location': 'soma',\n",
       "  'sonata_version': 1,\n",
       "  'target_simulator': 'CORENEURON',\n",
       "  'timestep': 0.025}}"
      ]
     },
     "execution_count": 6,
     "metadata": {},
     "output_type": "execute_result"
    }
   ],
   "source": [
    "simulations_form.model_dump(mode=\"json\")"
   ]
  },
  {
   "cell_type": "code",
   "execution_count": null,
   "metadata": {},
   "outputs": [
    {
     "name": "stdout",
     "output_type": "stream",
     "text": [
      "\n",
      "MULTIPLE VALUE PARAMETERS\n",
      "stimuli.CurrentStimulus.amplitude: [0.2, 0.5]\n",
      "neuron_sets.L1Stim.random_sample: [10, 20]\n",
      "initialize.circuit: [Circuit(type='Circuit', name='ToyCircuit-S1-6k', path='/Users/james/Documents/obi/additional_data/ToyCircuit-S1-6k/circuit_config.json'), Circuit(type='Circuit', name='nbS1-HEX0-beta', path='/Users/james/Documents/obi/additional_data/ToyCircuit-S1-6k/circuit_config.json')]\n",
      "\n",
      "COORDINATE PARAMETERS\n",
      "stimuli.CurrentStimulus.amplitude: 0.2, neuron_sets.L1Stim.random_sample: 10, initialize.circuit: ToyCircuit-S1-6k\n",
      "stimuli.CurrentStimulus.amplitude: 0.2, neuron_sets.L1Stim.random_sample: 10, initialize.circuit: nbS1-HEX0-beta\n",
      "stimuli.CurrentStimulus.amplitude: 0.2, neuron_sets.L1Stim.random_sample: 20, initialize.circuit: ToyCircuit-S1-6k\n",
      "stimuli.CurrentStimulus.amplitude: 0.2, neuron_sets.L1Stim.random_sample: 20, initialize.circuit: nbS1-HEX0-beta\n",
      "stimuli.CurrentStimulus.amplitude: 0.5, neuron_sets.L1Stim.random_sample: 10, initialize.circuit: ToyCircuit-S1-6k\n",
      "stimuli.CurrentStimulus.amplitude: 0.5, neuron_sets.L1Stim.random_sample: 10, initialize.circuit: nbS1-HEX0-beta\n",
      "stimuli.CurrentStimulus.amplitude: 0.5, neuron_sets.L1Stim.random_sample: 20, initialize.circuit: ToyCircuit-S1-6k\n",
      "stimuli.CurrentStimulus.amplitude: 0.5, neuron_sets.L1Stim.random_sample: 20, initialize.circuit: nbS1-HEX0-beta\n",
      "create_bbp_workflow_campaign_config() not yet complete.\n"
     ]
    },
    {
     "data": {
      "text/plain": [
       "{0: None, 1: None, 2: None, 3: None, 4: None, 5: None, 6: None, 7: None}"
      ]
     },
     "execution_count": 7,
     "metadata": {},
     "output_type": "execute_result"
    }
   ],
   "source": [
    "grid_scan = obi.GridScan(form=simulations_form, output_root='../../obi-output/circuit_simulations/grid_scan')\n",
    "grid_scan.multiple_value_parameters(display=True)\n",
    "grid_scan.coordinate_parameters(display=True)\n",
    "# grid_scan.coordinate_instances(display=True)\n",
    "grid_scan.execute(processing_method='generate')"
   ]
  },
  {
   "cell_type": "code",
   "execution_count": 8,
   "metadata": {},
   "outputs": [],
   "source": [
    "# Deserialization\n",
    "# grid_scan_ds = obi.deserialize_obi_object_from_json_file(\"../../obi-output/circuit_simulations/grid_scan/run_scan_config.json\")"
   ]
  }
 ],
 "metadata": {
  "kernelspec": {
   "display_name": ".venv",
   "language": "python",
   "name": "python3"
  },
  "language_info": {
   "codemirror_mode": {
    "name": "ipython",
    "version": 3
   },
   "file_extension": ".py",
   "mimetype": "text/x-python",
   "name": "python",
   "nbconvert_exporter": "python",
   "pygments_lexer": "ipython3",
   "version": "3.12.9"
  }
 },
 "nbformat": 4,
 "nbformat_minor": 4
}
