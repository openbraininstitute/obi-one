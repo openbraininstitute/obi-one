{
 "cells": [
  {
   "cell_type": "code",
   "execution_count": 5,
   "metadata": {},
   "outputs": [
    {
     "ename": "ModuleNotFoundError",
     "evalue": "No module named 'obi.modeling'",
     "output_type": "error",
     "traceback": [
      "\u001b[0;31m---------------------------------------------------------------------------\u001b[0m",
      "\u001b[0;31mModuleNotFoundError\u001b[0m                       Traceback (most recent call last)",
      "Cell \u001b[0;32mIn[5], line 1\u001b[0m\n\u001b[0;32m----> 1\u001b[0m \u001b[38;5;28;01mimport\u001b[39;00m\u001b[38;5;250m \u001b[39m\u001b[38;5;21;01mobi\u001b[39;00m\n\u001b[1;32m      3\u001b[0m \u001b[38;5;124;03m\"\"\"\u001b[39;00m\n\u001b[1;32m      4\u001b[0m \u001b[38;5;124;03mDefine Blocks\u001b[39;00m\n\u001b[1;32m      5\u001b[0m \u001b[38;5;124;03m\"\"\"\u001b[39;00m\n\u001b[1;32m      6\u001b[0m simulations_initialize \u001b[38;5;241m=\u001b[39m obi\u001b[38;5;241m.\u001b[39mSimulationsForm\u001b[38;5;241m.\u001b[39mInitialize(\n\u001b[1;32m      7\u001b[0m     circuit\u001b[38;5;241m=\u001b[39mobi\u001b[38;5;241m.\u001b[39mCircuit(circuit_path\u001b[38;5;241m=\u001b[39m\u001b[38;5;124m\"\u001b[39m\u001b[38;5;124mcircuit_1\u001b[39m\u001b[38;5;124m\"\u001b[39m, node_set\u001b[38;5;241m=\u001b[39m\u001b[38;5;124m'\u001b[39m\u001b[38;5;124mhex0\u001b[39m\u001b[38;5;124m'\u001b[39m),\n\u001b[1;32m      8\u001b[0m     simulation_length\u001b[38;5;241m=\u001b[39m[\u001b[38;5;241m100\u001b[39m, \u001b[38;5;241m500\u001b[39m]\n\u001b[1;32m      9\u001b[0m )\n",
      "File \u001b[0;32m~/Documents/obi/code/ScientificProposal-OBISDK-RepoPlatformIntegration/.venv/lib/python3.11/site-packages/obi/__init__.py:1\u001b[0m\n\u001b[0;32m----> 1\u001b[0m \u001b[38;5;28;01mfrom\u001b[39;00m\u001b[38;5;250m \u001b[39m\u001b[38;5;21;01m.\u001b[39;00m\u001b[38;5;21;01mmodeling\u001b[39;00m\u001b[38;5;21;01m.\u001b[39;00m\u001b[38;5;21;01mcore\u001b[39;00m\u001b[38;5;21;01m.\u001b[39;00m\u001b[38;5;21;01mtemplate\u001b[39;00m\u001b[38;5;250m \u001b[39m\u001b[38;5;28;01mimport\u001b[39;00m Template, SubTemplate\n\u001b[1;32m      2\u001b[0m \u001b[38;5;28;01mfrom\u001b[39;00m\u001b[38;5;250m \u001b[39m\u001b[38;5;21;01m.\u001b[39;00m\u001b[38;5;21;01mmodeling\u001b[39;00m\u001b[38;5;21;01m.\u001b[39;00m\u001b[38;5;21;01mcore\u001b[39;00m\u001b[38;5;21;01m.\u001b[39;00m\u001b[38;5;21;01mparameter_scan\u001b[39;00m\u001b[38;5;250m \u001b[39m\u001b[38;5;28;01mimport\u001b[39;00m GridParameterScan, CoupledCoordsParameterScan\n\u001b[1;32m      4\u001b[0m \u001b[38;5;28;01mfrom\u001b[39;00m\u001b[38;5;250m \u001b[39m\u001b[38;5;21;01m.\u001b[39;00m\u001b[38;5;21;01mmodeling\u001b[39;00m\u001b[38;5;21;01m.\u001b[39;00m\u001b[38;5;21;01mcircuit\u001b[39;00m\u001b[38;5;21;01m.\u001b[39;00m\u001b[38;5;21;01mcircuit\u001b[39;00m\u001b[38;5;250m \u001b[39m\u001b[38;5;28;01mimport\u001b[39;00m Circuit\n",
      "\u001b[0;31mModuleNotFoundError\u001b[0m: No module named 'obi.modeling'"
     ]
    }
   ],
   "source": [
    "import obi\n",
    "\n",
    "\"\"\"\n",
    "Define Blocks\n",
    "\"\"\"\n",
    "simulations_initialize = obi.SimulationsForm.Initialize(\n",
    "    circuit=obi.Circuit(circuit_path=\"circuit_1\", node_set='hex0'),\n",
    "    simulation_length=[100, 500]\n",
    ")\n",
    "intracellular_location_set_1 = obi.IntracellularLocationSet(circuit=simulations_initialize.circuit, neuron_ids=(1, 2, 3), section='soma')\n",
    "xyz_extracellular_location_set_1 = obi.XYZExtracellularLocationSet(circuit=simulations_initialize.circuit, xyz_locations=((0.9, 0.2, 0.3), (0.1, 0.1, 0.3)))\n",
    "\n",
    "id_neuron_set_1 = obi.IDNeuronSet(circuit=simulations_initialize.circuit, neuron_ids=(1, 2, 3))\n",
    "id_synapse_set_1 = obi.IDSynapseSet(circuit=simulations_initialize.circuit, synapse_ids=(1, 2, 3))\n",
    "\n",
    "timestamps_1 = obi.RegularTimestamps(start_time=0.0, number_of_repetitions=1, interval=[1.0, 5.0])\n",
    "stimulus_1 = obi.SynchronousSingleSpikeStimulus(spike_probability=[0.5, 0.8], timestamps=timestamps_1, synapse_set=id_synapse_set_1)\n",
    "recording_1 = obi.IntracellularLocationSetVoltageRecording(start_time=0.0, end_time=1.0, intracellular_location_set=intracellular_location_set_1)\n",
    "\n",
    "\"\"\"\n",
    "Fill form with Blocks\n",
    "\"\"\"\n",
    "simulations_form = obi.SimulationsForm(\n",
    "                                    initialize=simulations_initialize,\n",
    "\n",
    "                                    intracellular_location_sets={\"id_intracellular_location_set_1\": intracellular_location_set_1},\n",
    "                                    extracellular_location_sets={\"xyz_extracellular_location_set_1\": xyz_extracellular_location_set_1},\n",
    "\n",
    "                                    neuron_sets={\"id_neuron_set_1\": id_neuron_set_1},\n",
    "                                    synapse_sets={\"id_synapse_set_1\": id_synapse_set_1},\n",
    "\n",
    "                                    timestamps={\"timestamps_1\": timestamps_1}, \n",
    "                                    stimuli={\"stimulus_1\": stimulus_1}, \n",
    "                                    recordings={\"recording_1\": recording_1},\n",
    "                                    )\n",
    "\n",
    "\"\"\"\n",
    "Create Scans\n",
    "\"\"\"\n",
    "grid_scan = obi.GridScan(form=simulations_form, output_root='../obi_output/circuit_simulations/grid_scan')\n",
    "grid_scan.multiple_value_parameters(display=True)\n",
    "grid_scan.coordinate_parameters(display=True)\n",
    "grid_scan.coordinate_instances(display=True)\n",
    "grid_scan.generate()\n",
    "\n",
    "print(\"END\")\n",
    "coupled_scan = obi.CoupledScan(form=simulations_form, output_root='../obi_output/circuit_simulations/coupled_scan')\n",
    "# # coupled_scan.multiple_value_parameters(display=True)\n",
    "# # coupled_scan.coordinate_parameters(display=True)\n",
    "# # coupled_scan.coordinate_instances(display=True)\n",
    "coupled_scan.generate()"
   ]
  },
  {
   "cell_type": "code",
   "execution_count": null,
   "metadata": {},
   "outputs": [],
   "source": []
  }
 ],
 "metadata": {
  "kernelspec": {
   "display_name": ".venv",
   "language": "python",
   "name": "python3"
  },
  "language_info": {
   "codemirror_mode": {
    "name": "ipython",
    "version": 3
   },
   "file_extension": ".py",
   "mimetype": "text/x-python",
   "name": "python",
   "nbconvert_exporter": "python",
   "pygments_lexer": "ipython3",
   "version": "3.11.11"
  }
 },
 "nbformat": 4,
 "nbformat_minor": 2
}
