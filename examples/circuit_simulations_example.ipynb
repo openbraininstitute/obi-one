{
 "cells": [
  {
   "cell_type": "markdown",
   "metadata": {},
   "source": [
    "# Circuit simulation examples"
   ]
  },
  {
   "cell_type": "code",
   "execution_count": 1,
   "metadata": {},
   "outputs": [],
   "source": [
    "import obi_one as obi"
   ]
  },
  {
   "cell_type": "code",
   "execution_count": 2,
   "metadata": {},
   "outputs": [],
   "source": [
    "circuit_path_prefix = \"/Users/james/Documents/obi/additional_data/O1_data/O1_data/\"\n",
    "# circuit_path_prefix = \"/Users/pokorny/Data/Circuits/\""
   ]
  },
  {
   "cell_type": "markdown",
   "metadata": {},
   "source": [
    "### Loading two circuits"
   ]
  },
  {
   "cell_type": "code",
   "execution_count": 3,
   "metadata": {},
   "outputs": [
    {
     "name": "stdout",
     "output_type": "stream",
     "text": [
      "Circuit 'O1' with 785632 neurons and 560631825 synapses\n"
     ]
    }
   ],
   "source": [
    "# circuit = obi.Circuit(name=\"ToyCircuit-S1-6k\", path=circuit_path_prefix + \"ToyCircuit-S1-6k/circuit_config.json\")\n",
    "circuit = obi.Circuit(name=\"O1\", path=circuit_path_prefix + \"circuit_config.json\")\n",
    "print(f\"Circuit '{circuit}' with {circuit.sonata_circuit.nodes.size} neurons and {circuit.sonata_circuit.edges.size} synapses\")"
   ]
  },
  {
   "cell_type": "code",
   "execution_count": 4,
   "metadata": {},
   "outputs": [
    {
     "name": "stdout",
     "output_type": "stream",
     "text": [
      "Circuit 'O1_2' with 785632 neurons and 560631825 synapses\n"
     ]
    }
   ],
   "source": [
    "# circuit2 = obi.Circuit(name=\"ToyCircuit-S1-6k-duplicate\", path=\"/Users/pokorny/Data/Circuits/ToyCircuit-S1-6k/circuit_config.json\")\n",
    "# circuit2 = obi.Circuit(name=\"nbS1-HEX0-beta\", path=circuit_path_prefix + \"ToyCircuit-S1-6k/circuit_config.json\")\n",
    "circuit2 = obi.Circuit(name=\"O1_2\", path=circuit_path_prefix + \"circuit_config.json\")\n",
    "print(f\"Circuit '{circuit2}' with {circuit2.sonata_circuit.nodes.size} neurons and {circuit2.sonata_circuit.edges.size} synapses\")"
   ]
  },
  {
   "cell_type": "code",
   "execution_count": 5,
   "metadata": {},
   "outputs": [
    {
     "name": "stdout",
     "output_type": "stream",
     "text": [
      "<class 'obi_one.scientific.simulation.simulations.SimulationsForm'>\n"
     ]
    }
   ],
   "source": [
    "# Sim duration\n",
    "sim_duration = 3000.0\n",
    "\n",
    "# Empty Simulation Configuration\n",
    "sim_conf = obi.SimulationsForm.empty_config()\n",
    "\n",
    "# Info\n",
    "info = obi.Info(name=\"O1 Simulation\", description=\"Simulation of O1 circuit with predefined neuron set and constant current stimulus\")\n",
    "sim_conf.set(info, name=\"info\")\n",
    "\n",
    "# Timestamps\n",
    "regular_timesteps = obi.RegularTimestamps(start_time=0.0, number_of_repetitions=3, interval=1000.0)\n",
    "sim_conf.add(regular_timesteps, name='stim_times')\n",
    "\n",
    "# Neuron Sets\n",
    "sim_neuron_set = obi.PredefinedNeuronSet(node_set=\"Layer1\")\n",
    "stim_neuron_set = obi.PredefinedNeuronSet(node_set=\"Layer1\", random_sample=[10, 20])\n",
    "rec_neuron_set = obi.PredefinedNeuronSet(node_set=\"Layer1\", random_sample=100)\n",
    "property_neuron_set = obi.PropertyNeuronSet(\n",
    "    property_filter=[obi.scientific.circuit.neuron_sets.NeuronPropertyFilter(filter_dict={\"layer\": [2, 3], \"synapse_class\": [\"INH\"]}),\n",
    "                     obi.scientific.circuit.neuron_sets.NeuronPropertyFilter(filter_dict={\"layer\": [1, 2, 3], \"synapse_class\": [\"EXC\"]})],\n",
    ")\n",
    "sim_conf.add(sim_neuron_set, name='L1All')\n",
    "sim_conf.add(stim_neuron_set, name='L1Stim')\n",
    "sim_conf.add(rec_neuron_set, name='L1Rec')\n",
    "sim_conf.add(property_neuron_set, name='PropertyNeuronSet')\n",
    "\n",
    "# Stimuli\n",
    "current_stimulus = obi.ConstantCurrentClampSomaticStimulus(timestamps=regular_timesteps.ref, duration=5.0, neuron_set=stim_neuron_set.ref, amplitude=[0.2, 0.5])\n",
    "sync_current_stimulus = obi.ConstantCurrentClampSomaticStimulus(timestamps=regular_timesteps.ref, duration=100.0, neuron_set=stim_neuron_set.ref, amplitude=0.1)\n",
    "poisson_input = obi.PoissonSpikeStimulus(timestamps=regular_timesteps.ref, stim_duration=800, frequency=20, neuron_set=stim_neuron_set.ref)\n",
    "sim_conf.add(current_stimulus, name='CurrentStimulus')\n",
    "sim_conf.add(sync_current_stimulus, name='SyncCurrentStimulus')\n",
    "sim_conf.add(poisson_input, name='PoissonInputStimulus')\n",
    "\n",
    "# Voltage Recordings\n",
    "voltage_recording = obi.SomaVoltageRecording(timestamps=regular_timesteps.ref, neuron_set=rec_neuron_set.ref, start_time=0.0, end_time=sim_duration)\n",
    "sim_conf.add(voltage_recording, name='SomaVoltRec')\n",
    "                                       \n",
    "# Initilization\n",
    "simulations_initialize = obi.SimulationsForm.Initialize(circuit=[circuit, circuit2], node_set=sim_neuron_set.ref, simulation_length=sim_duration)\n",
    "sim_conf.set(simulations_initialize, name='initialize')\n",
    "\n",
    "# Validated Config\n",
    "validated_sim_conf = sim_conf.validated_config()"
   ]
  },
  {
   "cell_type": "markdown",
   "metadata": {},
   "source": []
  },
  {
   "cell_type": "code",
   "execution_count": 6,
   "metadata": {},
   "outputs": [],
   "source": [
    "# simulations_form.model_dump(mode=\"json\")"
   ]
  },
  {
   "cell_type": "code",
   "execution_count": 7,
   "metadata": {},
   "outputs": [
    {
     "name": "stdout",
     "output_type": "stream",
     "text": [
      "[2025-06-13 10:44:19,703] INFO: \n",
      "MULTIPLE VALUE PARAMETERS\n",
      "[2025-06-13 10:44:19,704] INFO: stimuli.CurrentStimulus.amplitude: [0.2, 0.5]\n",
      "[2025-06-13 10:44:19,705] INFO: neuron_sets.L1Stim.random_sample: [10, 20]\n",
      "[2025-06-13 10:44:19,705] INFO: neuron_sets.PropertyNeuronSet.property_filter: [layer=2,3,synapse_class=INH, layer=1,2,3,synapse_class=EXC]\n",
      "[2025-06-13 10:44:19,706] INFO: initialize.circuit: [Circuit(type='Circuit', name='O1', path='/Users/james/Documents/obi/additional_data/O1_data/O1_data/circuit_config.json', matrix_path=None), Circuit(type='Circuit', name='O1_2', path='/Users/james/Documents/obi/additional_data/O1_data/O1_data/circuit_config.json', matrix_path=None)]\n",
      "[2025-06-13 10:44:19,707] INFO: \n",
      "COORDINATE PARAMETERS\n",
      "[2025-06-13 10:44:19,707] INFO: stimuli.CurrentStimulus.amplitude: 0.2, neuron_sets.L1Stim.random_sample: 10, neuron_sets.PropertyNeuronSet.property_filter: layer=2,3,synapse_class=INH, initialize.circuit: O1\n",
      "[2025-06-13 10:44:19,708] INFO: stimuli.CurrentStimulus.amplitude: 0.2, neuron_sets.L1Stim.random_sample: 10, neuron_sets.PropertyNeuronSet.property_filter: layer=2,3,synapse_class=INH, initialize.circuit: O1_2\n",
      "[2025-06-13 10:44:19,708] INFO: stimuli.CurrentStimulus.amplitude: 0.2, neuron_sets.L1Stim.random_sample: 10, neuron_sets.PropertyNeuronSet.property_filter: layer=1,2,3,synapse_class=EXC, initialize.circuit: O1\n",
      "[2025-06-13 10:44:19,708] INFO: stimuli.CurrentStimulus.amplitude: 0.2, neuron_sets.L1Stim.random_sample: 10, neuron_sets.PropertyNeuronSet.property_filter: layer=1,2,3,synapse_class=EXC, initialize.circuit: O1_2\n",
      "[2025-06-13 10:44:19,709] INFO: stimuli.CurrentStimulus.amplitude: 0.2, neuron_sets.L1Stim.random_sample: 20, neuron_sets.PropertyNeuronSet.property_filter: layer=2,3,synapse_class=INH, initialize.circuit: O1\n",
      "[2025-06-13 10:44:19,709] INFO: stimuli.CurrentStimulus.amplitude: 0.2, neuron_sets.L1Stim.random_sample: 20, neuron_sets.PropertyNeuronSet.property_filter: layer=2,3,synapse_class=INH, initialize.circuit: O1_2\n",
      "[2025-06-13 10:44:19,709] INFO: stimuli.CurrentStimulus.amplitude: 0.2, neuron_sets.L1Stim.random_sample: 20, neuron_sets.PropertyNeuronSet.property_filter: layer=1,2,3,synapse_class=EXC, initialize.circuit: O1\n",
      "[2025-06-13 10:44:19,709] INFO: stimuli.CurrentStimulus.amplitude: 0.2, neuron_sets.L1Stim.random_sample: 20, neuron_sets.PropertyNeuronSet.property_filter: layer=1,2,3,synapse_class=EXC, initialize.circuit: O1_2\n",
      "[2025-06-13 10:44:19,710] INFO: stimuli.CurrentStimulus.amplitude: 0.5, neuron_sets.L1Stim.random_sample: 10, neuron_sets.PropertyNeuronSet.property_filter: layer=2,3,synapse_class=INH, initialize.circuit: O1\n",
      "[2025-06-13 10:44:19,710] INFO: stimuli.CurrentStimulus.amplitude: 0.5, neuron_sets.L1Stim.random_sample: 10, neuron_sets.PropertyNeuronSet.property_filter: layer=2,3,synapse_class=INH, initialize.circuit: O1_2\n",
      "[2025-06-13 10:44:19,710] INFO: stimuli.CurrentStimulus.amplitude: 0.5, neuron_sets.L1Stim.random_sample: 10, neuron_sets.PropertyNeuronSet.property_filter: layer=1,2,3,synapse_class=EXC, initialize.circuit: O1\n",
      "[2025-06-13 10:44:19,710] INFO: stimuli.CurrentStimulus.amplitude: 0.5, neuron_sets.L1Stim.random_sample: 10, neuron_sets.PropertyNeuronSet.property_filter: layer=1,2,3,synapse_class=EXC, initialize.circuit: O1_2\n",
      "[2025-06-13 10:44:19,710] INFO: stimuli.CurrentStimulus.amplitude: 0.5, neuron_sets.L1Stim.random_sample: 20, neuron_sets.PropertyNeuronSet.property_filter: layer=2,3,synapse_class=INH, initialize.circuit: O1\n",
      "[2025-06-13 10:44:19,710] INFO: stimuli.CurrentStimulus.amplitude: 0.5, neuron_sets.L1Stim.random_sample: 20, neuron_sets.PropertyNeuronSet.property_filter: layer=2,3,synapse_class=INH, initialize.circuit: O1_2\n",
      "[2025-06-13 10:44:19,710] INFO: stimuli.CurrentStimulus.amplitude: 0.5, neuron_sets.L1Stim.random_sample: 20, neuron_sets.PropertyNeuronSet.property_filter: layer=1,2,3,synapse_class=EXC, initialize.circuit: O1\n",
      "[2025-06-13 10:44:19,710] INFO: stimuli.CurrentStimulus.amplitude: 0.5, neuron_sets.L1Stim.random_sample: 20, neuron_sets.PropertyNeuronSet.property_filter: layer=1,2,3,synapse_class=EXC, initialize.circuit: O1_2\n",
      "[2025-06-13 10:44:19,711] INFO: None\n",
      "[2025-06-13 10:45:29,709] INFO: create_bbp_workflow_campaign_config() not yet complete.\n"
     ]
    },
    {
     "data": {
      "text/plain": [
       "{0: None,\n",
       " 1: None,\n",
       " 2: None,\n",
       " 3: None,\n",
       " 4: None,\n",
       " 5: None,\n",
       " 6: None,\n",
       " 7: None,\n",
       " 8: None,\n",
       " 9: None,\n",
       " 10: None,\n",
       " 11: None,\n",
       " 12: None,\n",
       " 13: None,\n",
       " 14: None,\n",
       " 15: None}"
      ]
     },
     "execution_count": 7,
     "metadata": {},
     "output_type": "execute_result"
    }
   ],
   "source": [
    "grid_scan = obi.GridScan(form=validated_sim_conf, output_root='../../obi-output/circuit_simulations/grid_scan')\n",
    "grid_scan.multiple_value_parameters(display=True)\n",
    "grid_scan.coordinate_parameters(display=True)\n",
    "# grid_scan.coordinate_instances(display=True)\n",
    "grid_scan.execute(processing_method='generate')"
   ]
  },
  {
   "cell_type": "code",
   "execution_count": 8,
   "metadata": {},
   "outputs": [],
   "source": [
    "# Deserialization\n",
    "grid_scan_ds = obi.deserialize_obi_object_from_json_file(\"../../obi-output/circuit_simulations/grid_scan/run_scan_config.json\")"
   ]
  },
  {
   "cell_type": "code",
   "execution_count": null,
   "metadata": {},
   "outputs": [],
   "source": []
  }
 ],
 "metadata": {
  "kernelspec": {
   "display_name": ".venv",
   "language": "python",
   "name": "python3"
  },
  "language_info": {
   "codemirror_mode": {
    "name": "ipython",
    "version": 3
   },
   "file_extension": ".py",
   "mimetype": "text/x-python",
   "name": "python",
   "nbconvert_exporter": "python",
   "pygments_lexer": "ipython3",
   "version": "3.12.9"
  }
 },
 "nbformat": 4,
 "nbformat_minor": 4
}
