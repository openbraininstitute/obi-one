{
 "cells": [
  {
   "cell_type": "markdown",
   "metadata": {},
   "source": [
    "# Circuit simulation examples"
   ]
  },
  {
   "cell_type": "code",
   "execution_count": 1,
   "metadata": {},
   "outputs": [
    {
     "name": "stdout",
     "output_type": "stream",
     "text": [
      "<class 'entitysdk.models.morphology.BrainLocation'>\n",
      "\n",
      "MULTIPLE VALUE PARAMETERS\n",
      "timestamps.timestamps_1.interval: [1.0, 5.0]\n",
      "stimuli.stimulus_1.spike_probability: [0.5, 0.8]\n",
      "initialize.simulation_length: [100.0, 500.0]\n",
      "\n",
      "COORDINATE PARAMETERS\n",
      "timestamps.timestamps_1.interval: 1.0, stimuli.stimulus_1.spike_probability: 0.5, initialize.simulation_length: 100.0\n",
      "timestamps.timestamps_1.interval: 1.0, stimuli.stimulus_1.spike_probability: 0.5, initialize.simulation_length: 500.0\n",
      "timestamps.timestamps_1.interval: 1.0, stimuli.stimulus_1.spike_probability: 0.8, initialize.simulation_length: 100.0\n",
      "timestamps.timestamps_1.interval: 1.0, stimuli.stimulus_1.spike_probability: 0.8, initialize.simulation_length: 500.0\n",
      "timestamps.timestamps_1.interval: 5.0, stimuli.stimulus_1.spike_probability: 0.5, initialize.simulation_length: 100.0\n",
      "timestamps.timestamps_1.interval: 5.0, stimuli.stimulus_1.spike_probability: 0.5, initialize.simulation_length: 500.0\n",
      "timestamps.timestamps_1.interval: 5.0, stimuli.stimulus_1.spike_probability: 0.8, initialize.simulation_length: 100.0\n",
      "timestamps.timestamps_1.interval: 5.0, stimuli.stimulus_1.spike_probability: 0.8, initialize.simulation_length: 500.0\n",
      "\n",
      "COORDINATE INSTANCES\n",
      "Simulation(idx=0, scan_output_root='', coordinate_directory_option='NAME_EQUALS_VALUE', single_coordinate_scan_params=SingleCoordinateScanParams(type='SingleCoordinateScanParams', scan_params=[SingleValueScanParam(type='SingleValueScanParam', location_list=['timestamps', 'timestamps_1', 'interval'], value=1.0), SingleValueScanParam(type='SingleValueScanParam', location_list=['stimuli', 'stimulus_1', 'spike_probability'], value=0.5), SingleValueScanParam(type='SingleValueScanParam', location_list=['initialize', 'simulation_length'], value=100.0)], nested_coordinate_subpath_str=''), type='SimulationsForm', timestamps={'timestamps_1': RegularTimestamps(type='RegularTimestamps', start_time=0.0, number_of_repetitions=1, interval=1.0)}, stimuli={'stimulus_1': SynchronousSingleSpikeStimulus(type='SynchronousSingleSpikeStimulus', synapse_set=IDSynapseSet(type='IDSynapseSet', circuit=Circuit(type='Circuit', circuit_path='circuit_1', node_set='hex0'), synapse_ids=(1, 2, 3)), timestamps=RegularTimestamps(type='RegularTimestamps', start_time=0.0, number_of_repetitions=1, interval=1.0), spike_probability=0.5)}, recordings={'recording_1': IntracellularLocationSetVoltageRecording(type='IntracellularLocationSetVoltageRecording', start_time=0.0, end_time=1.0, recording_type='voltage', dt=0.1, intracellular_location_set=SectionIntracellularLocationSet(type='SectionIntracellularLocationSet', neuron_ids=(1, 2, 3), section='soma'))}, neuron_sets={'id_neuron_set_1': IDNeuronSet(type='IDNeuronSet', circuit=Circuit(type='Circuit', circuit_path='circuit_1', node_set='hex0'), neuron_ids=(1, 2, 3))}, synapse_sets={'id_synapse_set_1': IDSynapseSet(type='IDSynapseSet', circuit=Circuit(type='Circuit', circuit_path='circuit_1', node_set='hex0'), synapse_ids=(1, 2, 3))}, intracellular_location_sets={'section_intracellular_location_set_1': SectionIntracellularLocationSet(type='SectionIntracellularLocationSet', neuron_ids=(1, 2, 3), section='soma')}, extracellular_location_sets={'xyz_extracellular_location_set_1': XYZExtracellularLocationSet(type='XYZExtracellularLocationSet', xyz_locations=((0.9, 0.2, 0.3), (0.1, 0.1, 0.3)))}, initialize=Initialize(type='SimulationsForm.Initialize', circuit=Circuit(type='Circuit', circuit_path='circuit_1', node_set='hex0'), simulation_length=100.0, random_seed=1, extracellular_calcium_concentration=1.1, v_init=-80.0, sonata_version=1, target_simulator='CORENEURON', timestep=0.025))\n",
      "Simulation(idx=1, scan_output_root='', coordinate_directory_option='NAME_EQUALS_VALUE', single_coordinate_scan_params=SingleCoordinateScanParams(type='SingleCoordinateScanParams', scan_params=[SingleValueScanParam(type='SingleValueScanParam', location_list=['timestamps', 'timestamps_1', 'interval'], value=1.0), SingleValueScanParam(type='SingleValueScanParam', location_list=['stimuli', 'stimulus_1', 'spike_probability'], value=0.5), SingleValueScanParam(type='SingleValueScanParam', location_list=['initialize', 'simulation_length'], value=500.0)], nested_coordinate_subpath_str=''), type='SimulationsForm', timestamps={'timestamps_1': RegularTimestamps(type='RegularTimestamps', start_time=0.0, number_of_repetitions=1, interval=1.0)}, stimuli={'stimulus_1': SynchronousSingleSpikeStimulus(type='SynchronousSingleSpikeStimulus', synapse_set=IDSynapseSet(type='IDSynapseSet', circuit=Circuit(type='Circuit', circuit_path='circuit_1', node_set='hex0'), synapse_ids=(1, 2, 3)), timestamps=RegularTimestamps(type='RegularTimestamps', start_time=0.0, number_of_repetitions=1, interval=1.0), spike_probability=0.5)}, recordings={'recording_1': IntracellularLocationSetVoltageRecording(type='IntracellularLocationSetVoltageRecording', start_time=0.0, end_time=1.0, recording_type='voltage', dt=0.1, intracellular_location_set=SectionIntracellularLocationSet(type='SectionIntracellularLocationSet', neuron_ids=(1, 2, 3), section='soma'))}, neuron_sets={'id_neuron_set_1': IDNeuronSet(type='IDNeuronSet', circuit=Circuit(type='Circuit', circuit_path='circuit_1', node_set='hex0'), neuron_ids=(1, 2, 3))}, synapse_sets={'id_synapse_set_1': IDSynapseSet(type='IDSynapseSet', circuit=Circuit(type='Circuit', circuit_path='circuit_1', node_set='hex0'), synapse_ids=(1, 2, 3))}, intracellular_location_sets={'section_intracellular_location_set_1': SectionIntracellularLocationSet(type='SectionIntracellularLocationSet', neuron_ids=(1, 2, 3), section='soma')}, extracellular_location_sets={'xyz_extracellular_location_set_1': XYZExtracellularLocationSet(type='XYZExtracellularLocationSet', xyz_locations=((0.9, 0.2, 0.3), (0.1, 0.1, 0.3)))}, initialize=Initialize(type='SimulationsForm.Initialize', circuit=Circuit(type='Circuit', circuit_path='circuit_1', node_set='hex0'), simulation_length=500.0, random_seed=1, extracellular_calcium_concentration=1.1, v_init=-80.0, sonata_version=1, target_simulator='CORENEURON', timestep=0.025))\n",
      "Simulation(idx=2, scan_output_root='', coordinate_directory_option='NAME_EQUALS_VALUE', single_coordinate_scan_params=SingleCoordinateScanParams(type='SingleCoordinateScanParams', scan_params=[SingleValueScanParam(type='SingleValueScanParam', location_list=['timestamps', 'timestamps_1', 'interval'], value=1.0), SingleValueScanParam(type='SingleValueScanParam', location_list=['stimuli', 'stimulus_1', 'spike_probability'], value=0.8), SingleValueScanParam(type='SingleValueScanParam', location_list=['initialize', 'simulation_length'], value=100.0)], nested_coordinate_subpath_str=''), type='SimulationsForm', timestamps={'timestamps_1': RegularTimestamps(type='RegularTimestamps', start_time=0.0, number_of_repetitions=1, interval=1.0)}, stimuli={'stimulus_1': SynchronousSingleSpikeStimulus(type='SynchronousSingleSpikeStimulus', synapse_set=IDSynapseSet(type='IDSynapseSet', circuit=Circuit(type='Circuit', circuit_path='circuit_1', node_set='hex0'), synapse_ids=(1, 2, 3)), timestamps=RegularTimestamps(type='RegularTimestamps', start_time=0.0, number_of_repetitions=1, interval=1.0), spike_probability=0.8)}, recordings={'recording_1': IntracellularLocationSetVoltageRecording(type='IntracellularLocationSetVoltageRecording', start_time=0.0, end_time=1.0, recording_type='voltage', dt=0.1, intracellular_location_set=SectionIntracellularLocationSet(type='SectionIntracellularLocationSet', neuron_ids=(1, 2, 3), section='soma'))}, neuron_sets={'id_neuron_set_1': IDNeuronSet(type='IDNeuronSet', circuit=Circuit(type='Circuit', circuit_path='circuit_1', node_set='hex0'), neuron_ids=(1, 2, 3))}, synapse_sets={'id_synapse_set_1': IDSynapseSet(type='IDSynapseSet', circuit=Circuit(type='Circuit', circuit_path='circuit_1', node_set='hex0'), synapse_ids=(1, 2, 3))}, intracellular_location_sets={'section_intracellular_location_set_1': SectionIntracellularLocationSet(type='SectionIntracellularLocationSet', neuron_ids=(1, 2, 3), section='soma')}, extracellular_location_sets={'xyz_extracellular_location_set_1': XYZExtracellularLocationSet(type='XYZExtracellularLocationSet', xyz_locations=((0.9, 0.2, 0.3), (0.1, 0.1, 0.3)))}, initialize=Initialize(type='SimulationsForm.Initialize', circuit=Circuit(type='Circuit', circuit_path='circuit_1', node_set='hex0'), simulation_length=100.0, random_seed=1, extracellular_calcium_concentration=1.1, v_init=-80.0, sonata_version=1, target_simulator='CORENEURON', timestep=0.025))\n",
      "Simulation(idx=3, scan_output_root='', coordinate_directory_option='NAME_EQUALS_VALUE', single_coordinate_scan_params=SingleCoordinateScanParams(type='SingleCoordinateScanParams', scan_params=[SingleValueScanParam(type='SingleValueScanParam', location_list=['timestamps', 'timestamps_1', 'interval'], value=1.0), SingleValueScanParam(type='SingleValueScanParam', location_list=['stimuli', 'stimulus_1', 'spike_probability'], value=0.8), SingleValueScanParam(type='SingleValueScanParam', location_list=['initialize', 'simulation_length'], value=500.0)], nested_coordinate_subpath_str=''), type='SimulationsForm', timestamps={'timestamps_1': RegularTimestamps(type='RegularTimestamps', start_time=0.0, number_of_repetitions=1, interval=1.0)}, stimuli={'stimulus_1': SynchronousSingleSpikeStimulus(type='SynchronousSingleSpikeStimulus', synapse_set=IDSynapseSet(type='IDSynapseSet', circuit=Circuit(type='Circuit', circuit_path='circuit_1', node_set='hex0'), synapse_ids=(1, 2, 3)), timestamps=RegularTimestamps(type='RegularTimestamps', start_time=0.0, number_of_repetitions=1, interval=1.0), spike_probability=0.8)}, recordings={'recording_1': IntracellularLocationSetVoltageRecording(type='IntracellularLocationSetVoltageRecording', start_time=0.0, end_time=1.0, recording_type='voltage', dt=0.1, intracellular_location_set=SectionIntracellularLocationSet(type='SectionIntracellularLocationSet', neuron_ids=(1, 2, 3), section='soma'))}, neuron_sets={'id_neuron_set_1': IDNeuronSet(type='IDNeuronSet', circuit=Circuit(type='Circuit', circuit_path='circuit_1', node_set='hex0'), neuron_ids=(1, 2, 3))}, synapse_sets={'id_synapse_set_1': IDSynapseSet(type='IDSynapseSet', circuit=Circuit(type='Circuit', circuit_path='circuit_1', node_set='hex0'), synapse_ids=(1, 2, 3))}, intracellular_location_sets={'section_intracellular_location_set_1': SectionIntracellularLocationSet(type='SectionIntracellularLocationSet', neuron_ids=(1, 2, 3), section='soma')}, extracellular_location_sets={'xyz_extracellular_location_set_1': XYZExtracellularLocationSet(type='XYZExtracellularLocationSet', xyz_locations=((0.9, 0.2, 0.3), (0.1, 0.1, 0.3)))}, initialize=Initialize(type='SimulationsForm.Initialize', circuit=Circuit(type='Circuit', circuit_path='circuit_1', node_set='hex0'), simulation_length=500.0, random_seed=1, extracellular_calcium_concentration=1.1, v_init=-80.0, sonata_version=1, target_simulator='CORENEURON', timestep=0.025))\n",
      "Simulation(idx=4, scan_output_root='', coordinate_directory_option='NAME_EQUALS_VALUE', single_coordinate_scan_params=SingleCoordinateScanParams(type='SingleCoordinateScanParams', scan_params=[SingleValueScanParam(type='SingleValueScanParam', location_list=['timestamps', 'timestamps_1', 'interval'], value=5.0), SingleValueScanParam(type='SingleValueScanParam', location_list=['stimuli', 'stimulus_1', 'spike_probability'], value=0.5), SingleValueScanParam(type='SingleValueScanParam', location_list=['initialize', 'simulation_length'], value=100.0)], nested_coordinate_subpath_str=''), type='SimulationsForm', timestamps={'timestamps_1': RegularTimestamps(type='RegularTimestamps', start_time=0.0, number_of_repetitions=1, interval=5.0)}, stimuli={'stimulus_1': SynchronousSingleSpikeStimulus(type='SynchronousSingleSpikeStimulus', synapse_set=IDSynapseSet(type='IDSynapseSet', circuit=Circuit(type='Circuit', circuit_path='circuit_1', node_set='hex0'), synapse_ids=(1, 2, 3)), timestamps=RegularTimestamps(type='RegularTimestamps', start_time=0.0, number_of_repetitions=1, interval=5.0), spike_probability=0.5)}, recordings={'recording_1': IntracellularLocationSetVoltageRecording(type='IntracellularLocationSetVoltageRecording', start_time=0.0, end_time=1.0, recording_type='voltage', dt=0.1, intracellular_location_set=SectionIntracellularLocationSet(type='SectionIntracellularLocationSet', neuron_ids=(1, 2, 3), section='soma'))}, neuron_sets={'id_neuron_set_1': IDNeuronSet(type='IDNeuronSet', circuit=Circuit(type='Circuit', circuit_path='circuit_1', node_set='hex0'), neuron_ids=(1, 2, 3))}, synapse_sets={'id_synapse_set_1': IDSynapseSet(type='IDSynapseSet', circuit=Circuit(type='Circuit', circuit_path='circuit_1', node_set='hex0'), synapse_ids=(1, 2, 3))}, intracellular_location_sets={'section_intracellular_location_set_1': SectionIntracellularLocationSet(type='SectionIntracellularLocationSet', neuron_ids=(1, 2, 3), section='soma')}, extracellular_location_sets={'xyz_extracellular_location_set_1': XYZExtracellularLocationSet(type='XYZExtracellularLocationSet', xyz_locations=((0.9, 0.2, 0.3), (0.1, 0.1, 0.3)))}, initialize=Initialize(type='SimulationsForm.Initialize', circuit=Circuit(type='Circuit', circuit_path='circuit_1', node_set='hex0'), simulation_length=100.0, random_seed=1, extracellular_calcium_concentration=1.1, v_init=-80.0, sonata_version=1, target_simulator='CORENEURON', timestep=0.025))\n",
      "Simulation(idx=5, scan_output_root='', coordinate_directory_option='NAME_EQUALS_VALUE', single_coordinate_scan_params=SingleCoordinateScanParams(type='SingleCoordinateScanParams', scan_params=[SingleValueScanParam(type='SingleValueScanParam', location_list=['timestamps', 'timestamps_1', 'interval'], value=5.0), SingleValueScanParam(type='SingleValueScanParam', location_list=['stimuli', 'stimulus_1', 'spike_probability'], value=0.5), SingleValueScanParam(type='SingleValueScanParam', location_list=['initialize', 'simulation_length'], value=500.0)], nested_coordinate_subpath_str=''), type='SimulationsForm', timestamps={'timestamps_1': RegularTimestamps(type='RegularTimestamps', start_time=0.0, number_of_repetitions=1, interval=5.0)}, stimuli={'stimulus_1': SynchronousSingleSpikeStimulus(type='SynchronousSingleSpikeStimulus', synapse_set=IDSynapseSet(type='IDSynapseSet', circuit=Circuit(type='Circuit', circuit_path='circuit_1', node_set='hex0'), synapse_ids=(1, 2, 3)), timestamps=RegularTimestamps(type='RegularTimestamps', start_time=0.0, number_of_repetitions=1, interval=5.0), spike_probability=0.5)}, recordings={'recording_1': IntracellularLocationSetVoltageRecording(type='IntracellularLocationSetVoltageRecording', start_time=0.0, end_time=1.0, recording_type='voltage', dt=0.1, intracellular_location_set=SectionIntracellularLocationSet(type='SectionIntracellularLocationSet', neuron_ids=(1, 2, 3), section='soma'))}, neuron_sets={'id_neuron_set_1': IDNeuronSet(type='IDNeuronSet', circuit=Circuit(type='Circuit', circuit_path='circuit_1', node_set='hex0'), neuron_ids=(1, 2, 3))}, synapse_sets={'id_synapse_set_1': IDSynapseSet(type='IDSynapseSet', circuit=Circuit(type='Circuit', circuit_path='circuit_1', node_set='hex0'), synapse_ids=(1, 2, 3))}, intracellular_location_sets={'section_intracellular_location_set_1': SectionIntracellularLocationSet(type='SectionIntracellularLocationSet', neuron_ids=(1, 2, 3), section='soma')}, extracellular_location_sets={'xyz_extracellular_location_set_1': XYZExtracellularLocationSet(type='XYZExtracellularLocationSet', xyz_locations=((0.9, 0.2, 0.3), (0.1, 0.1, 0.3)))}, initialize=Initialize(type='SimulationsForm.Initialize', circuit=Circuit(type='Circuit', circuit_path='circuit_1', node_set='hex0'), simulation_length=500.0, random_seed=1, extracellular_calcium_concentration=1.1, v_init=-80.0, sonata_version=1, target_simulator='CORENEURON', timestep=0.025))\n",
      "Simulation(idx=6, scan_output_root='', coordinate_directory_option='NAME_EQUALS_VALUE', single_coordinate_scan_params=SingleCoordinateScanParams(type='SingleCoordinateScanParams', scan_params=[SingleValueScanParam(type='SingleValueScanParam', location_list=['timestamps', 'timestamps_1', 'interval'], value=5.0), SingleValueScanParam(type='SingleValueScanParam', location_list=['stimuli', 'stimulus_1', 'spike_probability'], value=0.8), SingleValueScanParam(type='SingleValueScanParam', location_list=['initialize', 'simulation_length'], value=100.0)], nested_coordinate_subpath_str=''), type='SimulationsForm', timestamps={'timestamps_1': RegularTimestamps(type='RegularTimestamps', start_time=0.0, number_of_repetitions=1, interval=5.0)}, stimuli={'stimulus_1': SynchronousSingleSpikeStimulus(type='SynchronousSingleSpikeStimulus', synapse_set=IDSynapseSet(type='IDSynapseSet', circuit=Circuit(type='Circuit', circuit_path='circuit_1', node_set='hex0'), synapse_ids=(1, 2, 3)), timestamps=RegularTimestamps(type='RegularTimestamps', start_time=0.0, number_of_repetitions=1, interval=5.0), spike_probability=0.8)}, recordings={'recording_1': IntracellularLocationSetVoltageRecording(type='IntracellularLocationSetVoltageRecording', start_time=0.0, end_time=1.0, recording_type='voltage', dt=0.1, intracellular_location_set=SectionIntracellularLocationSet(type='SectionIntracellularLocationSet', neuron_ids=(1, 2, 3), section='soma'))}, neuron_sets={'id_neuron_set_1': IDNeuronSet(type='IDNeuronSet', circuit=Circuit(type='Circuit', circuit_path='circuit_1', node_set='hex0'), neuron_ids=(1, 2, 3))}, synapse_sets={'id_synapse_set_1': IDSynapseSet(type='IDSynapseSet', circuit=Circuit(type='Circuit', circuit_path='circuit_1', node_set='hex0'), synapse_ids=(1, 2, 3))}, intracellular_location_sets={'section_intracellular_location_set_1': SectionIntracellularLocationSet(type='SectionIntracellularLocationSet', neuron_ids=(1, 2, 3), section='soma')}, extracellular_location_sets={'xyz_extracellular_location_set_1': XYZExtracellularLocationSet(type='XYZExtracellularLocationSet', xyz_locations=((0.9, 0.2, 0.3), (0.1, 0.1, 0.3)))}, initialize=Initialize(type='SimulationsForm.Initialize', circuit=Circuit(type='Circuit', circuit_path='circuit_1', node_set='hex0'), simulation_length=100.0, random_seed=1, extracellular_calcium_concentration=1.1, v_init=-80.0, sonata_version=1, target_simulator='CORENEURON', timestep=0.025))\n",
      "Simulation(idx=7, scan_output_root='', coordinate_directory_option='NAME_EQUALS_VALUE', single_coordinate_scan_params=SingleCoordinateScanParams(type='SingleCoordinateScanParams', scan_params=[SingleValueScanParam(type='SingleValueScanParam', location_list=['timestamps', 'timestamps_1', 'interval'], value=5.0), SingleValueScanParam(type='SingleValueScanParam', location_list=['stimuli', 'stimulus_1', 'spike_probability'], value=0.8), SingleValueScanParam(type='SingleValueScanParam', location_list=['initialize', 'simulation_length'], value=500.0)], nested_coordinate_subpath_str=''), type='SimulationsForm', timestamps={'timestamps_1': RegularTimestamps(type='RegularTimestamps', start_time=0.0, number_of_repetitions=1, interval=5.0)}, stimuli={'stimulus_1': SynchronousSingleSpikeStimulus(type='SynchronousSingleSpikeStimulus', synapse_set=IDSynapseSet(type='IDSynapseSet', circuit=Circuit(type='Circuit', circuit_path='circuit_1', node_set='hex0'), synapse_ids=(1, 2, 3)), timestamps=RegularTimestamps(type='RegularTimestamps', start_time=0.0, number_of_repetitions=1, interval=5.0), spike_probability=0.8)}, recordings={'recording_1': IntracellularLocationSetVoltageRecording(type='IntracellularLocationSetVoltageRecording', start_time=0.0, end_time=1.0, recording_type='voltage', dt=0.1, intracellular_location_set=SectionIntracellularLocationSet(type='SectionIntracellularLocationSet', neuron_ids=(1, 2, 3), section='soma'))}, neuron_sets={'id_neuron_set_1': IDNeuronSet(type='IDNeuronSet', circuit=Circuit(type='Circuit', circuit_path='circuit_1', node_set='hex0'), neuron_ids=(1, 2, 3))}, synapse_sets={'id_synapse_set_1': IDSynapseSet(type='IDSynapseSet', circuit=Circuit(type='Circuit', circuit_path='circuit_1', node_set='hex0'), synapse_ids=(1, 2, 3))}, intracellular_location_sets={'section_intracellular_location_set_1': SectionIntracellularLocationSet(type='SectionIntracellularLocationSet', neuron_ids=(1, 2, 3), section='soma')}, extracellular_location_sets={'xyz_extracellular_location_set_1': XYZExtracellularLocationSet(type='XYZExtracellularLocationSet', xyz_locations=((0.9, 0.2, 0.3), (0.1, 0.1, 0.3)))}, initialize=Initialize(type='SimulationsForm.Initialize', circuit=Circuit(type='Circuit', circuit_path='circuit_1', node_set='hex0'), simulation_length=500.0, random_seed=1, extracellular_calcium_concentration=1.1, v_init=-80.0, sonata_version=1, target_simulator='CORENEURON', timestep=0.025))\n",
      "\n",
      "MULTIPLE VALUE PARAMETERS\n",
      "timestamps.timestamps_1.interval: [1.0, 5.0]\n",
      "stimuli.stimulus_1.spike_probability: [0.5, 0.8]\n",
      "initialize.simulation_length: [100.0, 500.0]\n",
      "\n",
      "COORDINATE PARAMETERS\n",
      "timestamps.timestamps_1.interval: 1.0, stimuli.stimulus_1.spike_probability: 0.5, initialize.simulation_length: 100.0\n",
      "timestamps.timestamps_1.interval: 5.0, stimuli.stimulus_1.spike_probability: 0.8, initialize.simulation_length: 500.0\n",
      "\n",
      "COORDINATE INSTANCES\n",
      "Simulation(idx=0, scan_output_root='', coordinate_directory_option='NAME_EQUALS_VALUE', single_coordinate_scan_params=SingleCoordinateScanParams(type='SingleCoordinateScanParams', scan_params=[SingleValueScanParam(type='SingleValueScanParam', location_list=['timestamps', 'timestamps_1', 'interval'], value=1.0), SingleValueScanParam(type='SingleValueScanParam', location_list=['stimuli', 'stimulus_1', 'spike_probability'], value=0.5), SingleValueScanParam(type='SingleValueScanParam', location_list=['initialize', 'simulation_length'], value=100.0)], nested_coordinate_subpath_str=''), type='SimulationsForm', timestamps={'timestamps_1': RegularTimestamps(type='RegularTimestamps', start_time=0.0, number_of_repetitions=1, interval=1.0)}, stimuli={'stimulus_1': SynchronousSingleSpikeStimulus(type='SynchronousSingleSpikeStimulus', synapse_set=IDSynapseSet(type='IDSynapseSet', circuit=Circuit(type='Circuit', circuit_path='circuit_1', node_set='hex0'), synapse_ids=(1, 2, 3)), timestamps=RegularTimestamps(type='RegularTimestamps', start_time=0.0, number_of_repetitions=1, interval=1.0), spike_probability=0.5)}, recordings={'recording_1': IntracellularLocationSetVoltageRecording(type='IntracellularLocationSetVoltageRecording', start_time=0.0, end_time=1.0, recording_type='voltage', dt=0.1, intracellular_location_set=SectionIntracellularLocationSet(type='SectionIntracellularLocationSet', neuron_ids=(1, 2, 3), section='soma'))}, neuron_sets={'id_neuron_set_1': IDNeuronSet(type='IDNeuronSet', circuit=Circuit(type='Circuit', circuit_path='circuit_1', node_set='hex0'), neuron_ids=(1, 2, 3))}, synapse_sets={'id_synapse_set_1': IDSynapseSet(type='IDSynapseSet', circuit=Circuit(type='Circuit', circuit_path='circuit_1', node_set='hex0'), synapse_ids=(1, 2, 3))}, intracellular_location_sets={'section_intracellular_location_set_1': SectionIntracellularLocationSet(type='SectionIntracellularLocationSet', neuron_ids=(1, 2, 3), section='soma')}, extracellular_location_sets={'xyz_extracellular_location_set_1': XYZExtracellularLocationSet(type='XYZExtracellularLocationSet', xyz_locations=((0.9, 0.2, 0.3), (0.1, 0.1, 0.3)))}, initialize=Initialize(type='SimulationsForm.Initialize', circuit=Circuit(type='Circuit', circuit_path='circuit_1', node_set='hex0'), simulation_length=100.0, random_seed=1, extracellular_calcium_concentration=1.1, v_init=-80.0, sonata_version=1, target_simulator='CORENEURON', timestep=0.025))\n",
      "Simulation(idx=1, scan_output_root='', coordinate_directory_option='NAME_EQUALS_VALUE', single_coordinate_scan_params=SingleCoordinateScanParams(type='SingleCoordinateScanParams', scan_params=[SingleValueScanParam(type='SingleValueScanParam', location_list=['timestamps', 'timestamps_1', 'interval'], value=5.0), SingleValueScanParam(type='SingleValueScanParam', location_list=['stimuli', 'stimulus_1', 'spike_probability'], value=0.8), SingleValueScanParam(type='SingleValueScanParam', location_list=['initialize', 'simulation_length'], value=500.0)], nested_coordinate_subpath_str=''), type='SimulationsForm', timestamps={'timestamps_1': RegularTimestamps(type='RegularTimestamps', start_time=0.0, number_of_repetitions=1, interval=5.0)}, stimuli={'stimulus_1': SynchronousSingleSpikeStimulus(type='SynchronousSingleSpikeStimulus', synapse_set=IDSynapseSet(type='IDSynapseSet', circuit=Circuit(type='Circuit', circuit_path='circuit_1', node_set='hex0'), synapse_ids=(1, 2, 3)), timestamps=RegularTimestamps(type='RegularTimestamps', start_time=0.0, number_of_repetitions=1, interval=5.0), spike_probability=0.8)}, recordings={'recording_1': IntracellularLocationSetVoltageRecording(type='IntracellularLocationSetVoltageRecording', start_time=0.0, end_time=1.0, recording_type='voltage', dt=0.1, intracellular_location_set=SectionIntracellularLocationSet(type='SectionIntracellularLocationSet', neuron_ids=(1, 2, 3), section='soma'))}, neuron_sets={'id_neuron_set_1': IDNeuronSet(type='IDNeuronSet', circuit=Circuit(type='Circuit', circuit_path='circuit_1', node_set='hex0'), neuron_ids=(1, 2, 3))}, synapse_sets={'id_synapse_set_1': IDSynapseSet(type='IDSynapseSet', circuit=Circuit(type='Circuit', circuit_path='circuit_1', node_set='hex0'), synapse_ids=(1, 2, 3))}, intracellular_location_sets={'section_intracellular_location_set_1': SectionIntracellularLocationSet(type='SectionIntracellularLocationSet', neuron_ids=(1, 2, 3), section='soma')}, extracellular_location_sets={'xyz_extracellular_location_set_1': XYZExtracellularLocationSet(type='XYZExtracellularLocationSet', xyz_locations=((0.9, 0.2, 0.3), (0.1, 0.1, 0.3)))}, initialize=Initialize(type='SimulationsForm.Initialize', circuit=Circuit(type='Circuit', circuit_path='circuit_1', node_set='hex0'), simulation_length=500.0, random_seed=1, extracellular_calcium_concentration=1.1, v_init=-80.0, sonata_version=1, target_simulator='CORENEURON', timestep=0.025))\n",
      ".\n"
     ]
    }
   ],
   "source": [
    "import obi_one as obi"
   ]
  },
  {
   "cell_type": "markdown",
   "metadata": {},
   "source": [
    "### Loading two circuits"
   ]
  },
  {
   "cell_type": "code",
   "execution_count": 2,
   "metadata": {},
   "outputs": [
    {
     "name": "stdout",
     "output_type": "stream",
     "text": [
      "Circuit 'ToyCircuit-S1-6k' with 5924 neurons and 568717 synapses\n"
     ]
    }
   ],
   "source": [
    "circuit = obi.Circuit(name=\"ToyCircuit-S1-6k\", path=\"/Users/pokorny/Data/Circuits/ToyCircuit-S1-6k/circuit_config.json\")\n",
    "print(f\"Circuit '{circuit}' with {circuit.sonata_circuit.nodes.size} neurons and {circuit.sonata_circuit.edges.size} synapses\")"
   ]
  },
  {
   "cell_type": "code",
   "execution_count": 3,
   "metadata": {},
   "outputs": [
    {
     "name": "stdout",
     "output_type": "stream",
     "text": [
      "Circuit 'nbS1-HEX0-beta' with 39056 neurons and 48129135 synapses\n"
     ]
    }
   ],
   "source": [
    "# circuit2 = obi.Circuit(name=\"ToyCircuit-S1-6k-duplicate\", path=\"/Users/pokorny/Data/Circuits/ToyCircuit-S1-6k/circuit_config.json\")\n",
    "circuit2 = obi.Circuit(name=\"nbS1-HEX0-beta\", path=\"/Users/pokorny/Data/Circuits/nbS1-HEX0-beta/circuit_config.json\")\n",
    "print(f\"Circuit '{circuit2}' with {circuit2.sonata_circuit.nodes.size} neurons and {circuit2.sonata_circuit.edges.size} synapses\")"
   ]
  },
  {
   "cell_type": "markdown",
   "metadata": {},
   "source": [
    "### Defining the circuit simulation"
   ]
  },
  {
   "cell_type": "code",
   "execution_count": 4,
   "metadata": {},
   "outputs": [],
   "source": [
    "intracellular_location_set_1 = obi.SectionIntracellularLocationSet(circuit=circuit, neuron_ids=(1, 2, 3), section='soma')\n",
    "xyz_extracellular_location_set_1 = obi.XYZExtracellularLocationSet(circuit=circuit, xyz_locations=((0.9, 0.2, 0.3), (0.1, 0.1, 0.3)))\n",
    "\n",
    "neuron_set_1 = obi.ExistingNeuronSet(name=\"L1Sample\", node_set=\"Layer1\", random_sample=[None, 10, 50])\n",
    "id_synapse_set_1 = obi.IDSynapseSet(circuit=circuit, synapse_ids=(1, 2, 3))\n",
    "\n",
    "timestamps_1 = obi.RegularTimestamps(start_time=0.0, number_of_repetitions=1, interval=1.0)\n",
    "stimulus_1 = obi.SynchronousSingleSpikeStimulus(spike_probability=0.5, timestamps=timestamps_1, synapse_set=id_synapse_set_1)\n",
    "recording_1 = obi.IntracellularLocationSetVoltageRecording(start_time=0.0, end_time=1.0, intracellular_location_set=intracellular_location_set_1)\n",
    "\n",
    "simulations_initialize = obi.SimulationsForm.Initialize(\n",
    "    circuit=[circuit, circuit2],\n",
    "    node_set=neuron_set_1,\n",
    "    simulation_length=100\n",
    ")\n",
    "\n",
    "\"\"\"\n",
    "Fill form with Blocks\n",
    "\"\"\"\n",
    "simulations_form = obi.SimulationsForm(\n",
    "                                    initialize=simulations_initialize,\n",
    "\n",
    "                                    intracellular_location_sets={\"section_intracellular_location_set_1\": section_intracellular_location_set_1},\n",
    "                                    extracellular_location_sets={\"xyz_extracellular_location_set_1\": xyz_extracellular_location_set_1},\n",
    "\n",
    "                                    neuron_sets={neuron_set_1.name: neuron_set_1},\n",
    "                                    synapse_sets={\"id_synapse_set_1\": id_synapse_set_1},\n",
    "\n",
    "                                    timestamps={\"timestamps_1\": timestamps_1}, \n",
    "                                    stimuli={\"stimulus_1\": stimulus_1}, \n",
    "                                    recordings={\"recording_1\": recording_1},\n",
    "                                    )"
   ]
  },
  {
   "cell_type": "code",
   "execution_count": 5,
   "metadata": {},
   "outputs": [],
   "source": [
    "grid_scan = obi.GridScan(form=simulations_form, output_root='../../obi-output/circuit_simulations/grid_scan')\n",
    "grid_scan.multiple_value_parameters(display=True)\n",
    "grid_scan.coordinate_parameters(display=True)\n",
    "grid_scan.coordinate_instances(display=True)\n",
    "grid_scan.generate()"
   ]
  },
  {
   "cell_type": "code",
   "execution_count": 6,
   "metadata": {},
   "outputs": [],
   "source": [
    "# Deserialization\n",
    "# grid_scan_ds = obi.deserialize_obi_object_from_json_file(\"../../obi-output/circuit_simulations/grid_scan/generate_scan_config.json\")"
   ]
  },
  {
   "cell_type": "code",
   "execution_count": null,
   "metadata": {},
   "outputs": [],
   "source": []
  }
 ],
 "metadata": {
  "kernelspec": {
   "display_name": "OBIONEKernel",
   "language": "python",
   "name": "obionekernel"
  },
  "language_info": {
   "codemirror_mode": {
    "name": "ipython",
    "version": 3
   },
   "file_extension": ".py",
   "mimetype": "text/x-python",
   "name": "python",
   "nbconvert_exporter": "python",
   "pygments_lexer": "ipython3",
   "version": "3.12.9"
  }
 },
 "nbformat": 4,
 "nbformat_minor": 4
}
