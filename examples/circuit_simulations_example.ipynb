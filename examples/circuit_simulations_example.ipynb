{
 "cells": [
  {
   "cell_type": "markdown",
   "metadata": {},
   "source": [
    "# Circuit simulation examples"
   ]
  },
  {
   "cell_type": "code",
   "execution_count": 1,
   "metadata": {},
   "outputs": [],
   "source": [
    "import obi_one as obi"
   ]
  },
  {
   "cell_type": "code",
   "execution_count": 2,
   "metadata": {},
   "outputs": [],
   "source": [
    "# circuit_path_prefix = \"/Users/james/Documents/obi/additional_data/\"\n",
    "circuit_path_prefix = \"/Users/pokorny/Data/Circuits/\""
   ]
  },
  {
   "cell_type": "markdown",
   "metadata": {},
   "source": [
    "### Loading two circuits"
   ]
  },
  {
   "cell_type": "code",
   "execution_count": 3,
   "metadata": {},
   "outputs": [
    {
     "name": "stdout",
     "output_type": "stream",
     "text": [
      "Circuit 'ToyCircuit-S1-6k' with 5924 neurons and 568717 synapses\n"
     ]
    }
   ],
   "source": [
    "circuit = obi.Circuit(name=\"ToyCircuit-S1-6k\", path=circuit_path_prefix + \"ToyCircuit-S1-6k/circuit_config.json\")\n",
    "print(f\"Circuit '{circuit}' with {circuit.sonata_circuit.nodes.size} neurons and {circuit.sonata_circuit.edges.size} synapses\")"
   ]
  },
  {
   "cell_type": "code",
   "execution_count": 4,
   "metadata": {},
   "outputs": [
    {
     "name": "stdout",
     "output_type": "stream",
     "text": [
      "Circuit 'nbS1-HEX0-beta' with 5924 neurons and 568717 synapses\n"
     ]
    }
   ],
   "source": [
    "# circuit2 = obi.Circuit(name=\"ToyCircuit-S1-6k-duplicate\", path=\"/Users/pokorny/Data/Circuits/ToyCircuit-S1-6k/circuit_config.json\")\n",
    "circuit2 = obi.Circuit(name=\"nbS1-HEX0-beta\", path=circuit_path_prefix + \"ToyCircuit-S1-6k/circuit_config.json\")\n",
    "print(f\"Circuit '{circuit2}' with {circuit2.sonata_circuit.nodes.size} neurons and {circuit2.sonata_circuit.edges.size} synapses\")"
   ]
  },
  {
   "cell_type": "markdown",
   "metadata": {},
   "source": [
    "### Defining the circuit simulation"
   ]
  },
  {
   "cell_type": "code",
   "execution_count": 5,
   "metadata": {},
   "outputs": [],
   "source": [
    "sim_neuron_set = obi.PredefinedNeuronSet(node_set=\"Layer1\")\n",
    "\n",
    "stim_neuron_set = obi.PredefinedNeuronSet(node_set=\"Layer1\", random_sample=[10, 20])\n",
    "stim_times = obi.RegularTimestamps(start_time=0.0, number_of_repetitions=3, interval=1000.0)  # in ms!!\n",
    "current_stimulus = obi.ConstantCurrentClampSomaticStimulus(timestamps=stim_times, duration=5.0, neuron_set=stim_neuron_set, amplitude=[0.2, 0.5])\n",
    "sync_current_stimulus = obi.ConstantCurrentClampSomaticStimulus(timestamps=stim_times, duration=100.0, neuron_set=stim_neuron_set, amplitude=0.1)\n",
    "\n",
    "simulations_initialize = obi.SimulationsForm.Initialize(\n",
    "    circuit=[circuit, circuit2],\n",
    "    node_set=sim_neuron_set,\n",
    "    simulation_length=100\n",
    ")\n",
    "\n",
    "\"\"\"\n",
    "Fill form with Blocks\n",
    "\"\"\"\n",
    "simulations_form = obi.SimulationsForm(\n",
    "                                    initialize=simulations_initialize,\n",
    "                                    intracellular_location_sets={},\n",
    "                                    extracellular_location_sets={},\n",
    "                                    neuron_sets={\"L1All\": sim_neuron_set, \"L1Sample\": stim_neuron_set},\n",
    "                                    synapse_sets={},\n",
    "                                    timestamps={\"StimTimes\": stim_times},\n",
    "                                    stimuli={\"CurrentStimulus\": current_stimulus, \"SyncCurrentStimulus\": sync_current_stimulus},\n",
    "                                    recordings={},\n",
    "                                    )"
   ]
  },
  {
   "cell_type": "code",
   "execution_count": 6,
   "metadata": {},
   "outputs": [
    {
     "data": {
      "text/plain": [
       "{'type': 'SimulationsForm',\n",
       " 'timestamps': {'StimTimes': {'type': 'RegularTimestamps',\n",
       "   'start_time': 0.0,\n",
       "   'sim_init_name': 'StimTimes',\n",
       "   'number_of_repetitions': 3,\n",
       "   'interval': 1000.0}},\n",
       " 'stimuli': {'CurrentStimulus': {'type': 'ConstantCurrentClampSomaticStimulus',\n",
       "   'timestamps': {'type': 'RegularTimestamps',\n",
       "    'start_time': 0.0,\n",
       "    'sim_init_name': 'StimTimes',\n",
       "    'number_of_repetitions': 3,\n",
       "    'interval': 1000.0},\n",
       "   'sim_init_name': 'CurrentStimulus',\n",
       "   'delay': 0.0,\n",
       "   'duration': 5.0,\n",
       "   'neuron_set': {'type': 'PredefinedNeuronSet',\n",
       "    'sim_init_name': 'L1Sample',\n",
       "    'random_sample': [10, 20],\n",
       "    'random_seed': 0,\n",
       "    'node_set': 'Layer1'},\n",
       "   'represents_physical_electrode': False,\n",
       "   'amplitude': [0.2, 0.5]},\n",
       "  'SyncCurrentStimulus': {'type': 'ConstantCurrentClampSomaticStimulus',\n",
       "   'timestamps': {'type': 'RegularTimestamps',\n",
       "    'start_time': 0.0,\n",
       "    'sim_init_name': 'StimTimes',\n",
       "    'number_of_repetitions': 3,\n",
       "    'interval': 1000.0},\n",
       "   'sim_init_name': 'SyncCurrentStimulus',\n",
       "   'delay': 0.0,\n",
       "   'duration': 100.0,\n",
       "   'neuron_set': {'type': 'PredefinedNeuronSet',\n",
       "    'sim_init_name': 'L1Sample',\n",
       "    'random_sample': [10, 20],\n",
       "    'random_seed': 0,\n",
       "    'node_set': 'Layer1'},\n",
       "   'represents_physical_electrode': False,\n",
       "   'amplitude': 0.1}},\n",
       " 'recordings': {},\n",
       " 'neuron_sets': {'L1All': {'type': 'PredefinedNeuronSet',\n",
       "   'sim_init_name': 'L1All',\n",
       "   'random_sample': None,\n",
       "   'random_seed': 0,\n",
       "   'node_set': 'Layer1'},\n",
       "  'L1Sample': {'type': 'PredefinedNeuronSet',\n",
       "   'sim_init_name': 'L1Sample',\n",
       "   'random_sample': [10, 20],\n",
       "   'random_seed': 0,\n",
       "   'node_set': 'Layer1'}},\n",
       " 'synapse_sets': {},\n",
       " 'intracellular_location_sets': {},\n",
       " 'extracellular_location_sets': {},\n",
       " 'initialize': {'type': 'SimulationsForm.Initialize',\n",
       "  'circuit': [{'type': 'Circuit',\n",
       "    'name': 'ToyCircuit-S1-6k',\n",
       "    'path': '/Users/pokorny/Data/Circuits/ToyCircuit-S1-6k/circuit_config.json'},\n",
       "   {'type': 'Circuit',\n",
       "    'name': 'nbS1-HEX0-beta',\n",
       "    'path': '/Users/pokorny/Data/Circuits/ToyCircuit-S1-6k/circuit_config.json'}],\n",
       "  'simulation_length': 100.0,\n",
       "  'node_set': {'type': 'PredefinedNeuronSet',\n",
       "   'sim_init_name': 'L1All',\n",
       "   'random_sample': None,\n",
       "   'random_seed': 0,\n",
       "   'node_set': 'Layer1'},\n",
       "  'random_seed': 1,\n",
       "  'extracellular_calcium_concentration': 1.1,\n",
       "  'v_init': -80.0,\n",
       "  'sonata_version': 1,\n",
       "  'target_simulator': 'CORENEURON',\n",
       "  'timestep': 0.025}}"
      ]
     },
     "execution_count": 6,
     "metadata": {},
     "output_type": "execute_result"
    }
   ],
   "source": [
    "simulations_form.model_dump(mode=\"json\")"
   ]
  },
  {
   "cell_type": "code",
   "execution_count": 7,
   "metadata": {},
   "outputs": [
    {
     "name": "stdout",
     "output_type": "stream",
     "text": [
      "\n",
      "MULTIPLE VALUE PARAMETERS\n",
      "stimuli.CurrentStimulus.amplitude: [0.2, 0.5]\n",
      "neuron_sets.L1Sample.random_sample: [10, 20]\n",
      "initialize.circuit: [Circuit(type='Circuit', name='ToyCircuit-S1-6k', path='/Users/pokorny/Data/Circuits/ToyCircuit-S1-6k/circuit_config.json'), Circuit(type='Circuit', name='nbS1-HEX0-beta', path='/Users/pokorny/Data/Circuits/ToyCircuit-S1-6k/circuit_config.json')]\n",
      "\n",
      "COORDINATE PARAMETERS\n",
      "stimuli.CurrentStimulus.amplitude: 0.2, neuron_sets.L1Sample.random_sample: 10, initialize.circuit: ToyCircuit-S1-6k\n",
      "stimuli.CurrentStimulus.amplitude: 0.2, neuron_sets.L1Sample.random_sample: 10, initialize.circuit: nbS1-HEX0-beta\n",
      "stimuli.CurrentStimulus.amplitude: 0.2, neuron_sets.L1Sample.random_sample: 20, initialize.circuit: ToyCircuit-S1-6k\n",
      "stimuli.CurrentStimulus.amplitude: 0.2, neuron_sets.L1Sample.random_sample: 20, initialize.circuit: nbS1-HEX0-beta\n",
      "stimuli.CurrentStimulus.amplitude: 0.5, neuron_sets.L1Sample.random_sample: 10, initialize.circuit: ToyCircuit-S1-6k\n",
      "stimuli.CurrentStimulus.amplitude: 0.5, neuron_sets.L1Sample.random_sample: 10, initialize.circuit: nbS1-HEX0-beta\n",
      "stimuli.CurrentStimulus.amplitude: 0.5, neuron_sets.L1Sample.random_sample: 20, initialize.circuit: ToyCircuit-S1-6k\n",
      "stimuli.CurrentStimulus.amplitude: 0.5, neuron_sets.L1Sample.random_sample: 20, initialize.circuit: nbS1-HEX0-beta\n"
     ]
    },
    {
     "data": {
      "text/plain": [
       "{0: None, 1: None, 2: None, 3: None, 4: None, 5: None, 6: None, 7: None}"
      ]
     },
     "execution_count": 7,
     "metadata": {},
     "output_type": "execute_result"
    }
   ],
   "source": [
    "grid_scan = obi.GridScan(form=simulations_form, output_root='../../obi-output/circuit_simulations/grid_scan')\n",
    "grid_scan.multiple_value_parameters(display=True)\n",
    "grid_scan.coordinate_parameters(display=True)\n",
    "# grid_scan.coordinate_instances(display=True)\n",
    "grid_scan.execute(processing_method='generate')"
   ]
  },
  {
   "cell_type": "code",
   "execution_count": 8,
   "metadata": {},
   "outputs": [],
   "source": [
    "# Deserialization\n",
    "# grid_scan_ds = obi.deserialize_obi_object_from_json_file(\"../../obi-output/circuit_simulations/grid_scan/run_scan_config.json\")"
   ]
  }
 ],
 "metadata": {
  "kernelspec": {
   "display_name": "obi-one",
   "language": "python",
   "name": "obi-one"
  },
  "language_info": {
   "codemirror_mode": {
    "name": "ipython",
    "version": 3
   },
   "file_extension": ".py",
   "mimetype": "text/x-python",
   "name": "python",
   "nbconvert_exporter": "python",
   "pygments_lexer": "ipython3",
   "version": "3.12.9"
  }
 },
 "nbformat": 4,
 "nbformat_minor": 4
}
