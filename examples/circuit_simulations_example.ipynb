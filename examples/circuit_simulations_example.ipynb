{
 "cells": [
  {
   "cell_type": "markdown",
   "metadata": {},
   "source": [
    "# Circuit simulation examples"
   ]
  },
  {
   "cell_type": "code",
   "execution_count": 1,
   "metadata": {},
   "outputs": [],
   "source": [
    "import obi_one as obi"
   ]
  },
  {
   "cell_type": "code",
   "execution_count": 2,
   "metadata": {},
   "outputs": [],
   "source": [
    "circuit_path_prefix = \"/Users/james/Documents/obi/additional_data/O1_data/O1_data/\"\n",
    "# circuit_path_prefix = \"/Users/pokorny/Data/Circuits/\""
   ]
  },
  {
   "cell_type": "markdown",
   "metadata": {},
   "source": [
    "### Loading two circuits"
   ]
  },
  {
   "cell_type": "code",
   "execution_count": 3,
   "metadata": {},
   "outputs": [
    {
     "name": "stdout",
     "output_type": "stream",
     "text": [
      "Circuit 'O1' with 785632 neurons and 560631825 synapses\n"
     ]
    }
   ],
   "source": [
    "# circuit = obi.Circuit(name=\"ToyCircuit-S1-6k\", path=circuit_path_prefix + \"ToyCircuit-S1-6k/circuit_config.json\")\n",
    "circuit = obi.Circuit(name=\"O1\", path=circuit_path_prefix + \"circuit_config.json\")\n",
    "print(f\"Circuit '{circuit}' with {circuit.sonata_circuit.nodes.size} neurons and {circuit.sonata_circuit.edges.size} synapses\")"
   ]
  },
  {
   "cell_type": "code",
   "execution_count": 4,
   "metadata": {},
   "outputs": [
    {
     "name": "stdout",
     "output_type": "stream",
     "text": [
      "Circuit 'O1_2' with 785632 neurons and 560631825 synapses\n"
     ]
    }
   ],
   "source": [
    "# circuit2 = obi.Circuit(name=\"ToyCircuit-S1-6k-duplicate\", path=\"/Users/pokorny/Data/Circuits/ToyCircuit-S1-6k/circuit_config.json\")\n",
    "# circuit2 = obi.Circuit(name=\"nbS1-HEX0-beta\", path=circuit_path_prefix + \"ToyCircuit-S1-6k/circuit_config.json\")\n",
    "circuit2 = obi.Circuit(name=\"O1_2\", path=circuit_path_prefix + \"circuit_config.json\")\n",
    "print(f\"Circuit '{circuit2}' with {circuit2.sonata_circuit.nodes.size} neurons and {circuit2.sonata_circuit.edges.size} synapses\")"
   ]
  },
  {
   "cell_type": "markdown",
   "metadata": {},
   "source": [
    "### Defining the circuit simulation"
   ]
  },
  {
   "cell_type": "code",
   "execution_count": 5,
   "metadata": {},
   "outputs": [],
   "source": [
    "# Simulation init\n",
    "sim_neuron_set = obi.PredefinedNeuronSet(node_set=\"Layer1\")\n",
    "sim_duration = 3000 # ms\n",
    "poisson_stim_duration = 800 # ms\n",
    "poisson_stim_frequency = 20 # Hz\n",
    "simulations_initialize = obi.SimulationsForm.Initialize(\n",
    "    circuit=[circuit, circuit2],\n",
    "    node_set=obi.NeuronSetReference(block_name=\"L1All\", block_dict_name=\"neuron_sets\"),\n",
    "    simulation_length=sim_duration,\n",
    ")\n",
    "\n",
    "\n",
    "\n",
    "# Stimuli\n",
    "property_neuron_set = obi.PropertyNeuronSet(\n",
    "    property_filter=[obi.scientific.circuit.neuron_sets.NeuronPropertyFilter(filter_dict={\"layer\": [2, 3], \"synapse_class\": [\"INH\"]}),\n",
    "                     obi.scientific.circuit.neuron_sets.NeuronPropertyFilter(filter_dict={\"layer\": [1, 2, 3], \"synapse_class\": [\"EXC\"]})],\n",
    ")\n",
    "stim_neuron_set = obi.PredefinedNeuronSet(node_set=\"Layer1\", random_sample=[10, 20])\n",
    "stim_times = obi.RegularTimestamps(start_time=0.0, number_of_repetitions=3, interval=1000.0)  # in ms!!\n",
    "current_stimulus = obi.ConstantCurrentClampSomaticStimulus(timestamps=obi.TimestampsReference(block_name=\"StimTimes\", block_dict_name=\"timestamps\"),\n",
    "                                                           duration=5.0, \n",
    "                                                           neuron_set=obi.NeuronSetReference(block_name=\"L1Stim\", block_dict_name=\"neuron_sets\"), \n",
    "                                                           amplitude=[0.2, 0.5])\n",
    "sync_current_stimulus = obi.ConstantCurrentClampSomaticStimulus(timestamps=obi.TimestampsReference(block_name=\"StimTimes\", block_dict_name=\"timestamps\"), \n",
    "                                                                duration=100.0, \n",
    "                                                                neuron_set=obi.NeuronSetReference(block_name=\"L1Stim\", block_dict_name=\"neuron_sets\"), \n",
    "                                                                amplitude=0.1)\n",
    "poisson_input = obi.PoissonSpikeStimulus(timestamps=obi.TimestampsReference(block_name=\"StimTimes\", block_dict_name=\"timestamps\"),\n",
    "                                                        stim_duration=poisson_stim_duration,\n",
    "                                                        frequency=poisson_stim_frequency,\n",
    "                                                        neuron_set=obi.NeuronSetReference(block_name=\"L1Stim\", block_dict_name=\"neuron_sets\"), \n",
    "                                                        )\n",
    "\n",
    "# Recordings\n",
    "rec_neuron_set = obi.PredefinedNeuronSet(node_set=\"Layer1\", random_sample=100)\n",
    "v_recording = obi.SomaVoltageRecording(start_time=0.0, \n",
    "                                       end_time=sim_duration, \n",
    "                                       neuron_set=obi.NeuronSetReference(block_name=\"L1Rec\", block_dict_name=\"neuron_sets\")\n",
    "                                        )\n",
    "\n",
    "\"\"\"\n",
    "Fill form with Blocks\n",
    "\"\"\"\n",
    "simulations_form = obi.SimulationsForm(\n",
    "                                    initialize=simulations_initialize,\n",
    "                                    info=obi.Info(campaign_name=\"Example Simulation\", campaign_description=\"This is an example simulation.\"),\n",
    "                                    neuron_sets={\"L1All\": sim_neuron_set, \"L1Stim\": stim_neuron_set, \"L1Rec\": rec_neuron_set, \"PropertyNeuronSet\": property_neuron_set},\n",
    "                                    timestamps={\"StimTimes\": stim_times},\n",
    "                                    stimuli={\"CurrentStimulus\": current_stimulus, \"SyncCurrentStimulus\": sync_current_stimulus, \"PoissonInputStimulus\": poisson_input},\n",
    "                                    recordings={\"SomaVoltRec\": v_recording},\n",
    "                                    )"
   ]
  },
  {
   "cell_type": "code",
   "execution_count": 6,
   "metadata": {},
   "outputs": [
    {
     "data": {
      "text/plain": [
       "{'type': 'SimulationsForm',\n",
       " 'timestamps': {'StimTimes': {'type': 'RegularTimestamps',\n",
       "   'start_time': 0.0,\n",
       "   'number_of_repetitions': 3,\n",
       "   'interval': 1000.0}},\n",
       " 'stimuli': {'CurrentStimulus': {'type': 'ConstantCurrentClampSomaticStimulus',\n",
       "   'timestamps': {'type': 'TimestampsReference',\n",
       "    'block_dict_name': 'timestamps',\n",
       "    'block_name': 'StimTimes'},\n",
       "   'delay': 0.0,\n",
       "   'duration': 5.0,\n",
       "   'neuron_set': {'type': 'NeuronSetReference',\n",
       "    'block_dict_name': 'neuron_sets',\n",
       "    'block_name': 'L1Stim'},\n",
       "   'represents_physical_electrode': False,\n",
       "   'amplitude': [0.2, 0.5]},\n",
       "  'SyncCurrentStimulus': {'type': 'ConstantCurrentClampSomaticStimulus',\n",
       "   'timestamps': {'type': 'TimestampsReference',\n",
       "    'block_dict_name': 'timestamps',\n",
       "    'block_name': 'StimTimes'},\n",
       "   'delay': 0.0,\n",
       "   'duration': 100.0,\n",
       "   'neuron_set': {'type': 'NeuronSetReference',\n",
       "    'block_dict_name': 'neuron_sets',\n",
       "    'block_name': 'L1Stim'},\n",
       "   'represents_physical_electrode': False,\n",
       "   'amplitude': 0.1},\n",
       "  'PoissonInputStimulus': {'type': 'PoissonSpikeStimulus',\n",
       "   'timestamps': {'type': 'TimestampsReference',\n",
       "    'block_dict_name': 'timestamps',\n",
       "    'block_name': 'StimTimes'},\n",
       "   'stim_duration': 800.0,\n",
       "   'neuron_set': {'type': 'NeuronSetReference',\n",
       "    'block_dict_name': 'neuron_sets',\n",
       "    'block_name': 'L1Stim'},\n",
       "   'random_seed': 0,\n",
       "   'frequency': 20.0}},\n",
       " 'recordings': {'SomaVoltRec': {'type': 'SomaVoltageRecording',\n",
       "   'start_time': 0.0,\n",
       "   'end_time': 3000.0,\n",
       "   'dt': 0.1,\n",
       "   'neuron_set': {'type': 'NeuronSetReference',\n",
       "    'block_dict_name': 'neuron_sets',\n",
       "    'block_name': 'L1Rec'}}},\n",
       " 'neuron_sets': {'L1All': {'type': 'PredefinedNeuronSet',\n",
       "   'random_sample': None,\n",
       "   'random_seed': 0,\n",
       "   'node_set': 'Layer1'},\n",
       "  'L1Stim': {'type': 'PredefinedNeuronSet',\n",
       "   'random_sample': [10, 20],\n",
       "   'random_seed': 0,\n",
       "   'node_set': 'Layer1'},\n",
       "  'L1Rec': {'type': 'PredefinedNeuronSet',\n",
       "   'random_sample': 100,\n",
       "   'random_seed': 0,\n",
       "   'node_set': 'Layer1'},\n",
       "  'PropertyNeuronSet': {'type': 'PropertyNeuronSet',\n",
       "   'random_sample': None,\n",
       "   'random_seed': 0,\n",
       "   'property_filter': [{'type': 'NeuronPropertyFilter',\n",
       "     'filter_dict': {'layer': [2, 3], 'synapse_class': ['INH']}},\n",
       "    {'type': 'NeuronPropertyFilter',\n",
       "     'filter_dict': {'layer': [1, 2, 3], 'synapse_class': ['EXC']}}],\n",
       "   'node_sets': []}},\n",
       " 'initialize': {'type': 'SimulationsForm.Initialize',\n",
       "  'circuit': [{'type': 'Circuit',\n",
       "    'name': 'O1',\n",
       "    'path': '/Users/james/Documents/obi/additional_data/O1_data/O1_data/circuit_config.json',\n",
       "    'matrix_path': None},\n",
       "   {'type': 'Circuit',\n",
       "    'name': 'O1_2',\n",
       "    'path': '/Users/james/Documents/obi/additional_data/O1_data/O1_data/circuit_config.json',\n",
       "    'matrix_path': None}],\n",
       "  'simulation_length': 3000.0,\n",
       "  'node_set': {'type': 'NeuronSetReference',\n",
       "   'block_dict_name': 'neuron_sets',\n",
       "   'block_name': 'L1All'},\n",
       "  'random_seed': 1,\n",
       "  'extracellular_calcium_concentration': 1.1,\n",
       "  'v_init': -80.0,\n",
       "  'spike_location': 'soma',\n",
       "  'sonata_version': 1,\n",
       "  'target_simulator': 'CORENEURON',\n",
       "  'timestep': 0.025},\n",
       " 'info': {'type': 'Info',\n",
       "  'campaign_name': 'Example Simulation',\n",
       "  'campaign_description': 'This is an example simulation.'}}"
      ]
     },
     "execution_count": 6,
     "metadata": {},
     "output_type": "execute_result"
    }
   ],
   "source": [
    "simulations_form.model_dump(mode=\"json\")"
   ]
  },
  {
   "cell_type": "code",
   "execution_count": 7,
   "metadata": {},
   "outputs": [
    {
     "name": "stdout",
     "output_type": "stream",
     "text": [
      "[2025-06-11 20:49:14,250] INFO: \n",
      "MULTIPLE VALUE PARAMETERS\n",
      "[2025-06-11 20:49:14,250] INFO: stimuli.CurrentStimulus.amplitude: [0.2, 0.5]\n",
      "[2025-06-11 20:49:14,251] INFO: neuron_sets.L1Stim.random_sample: [10, 20]\n",
      "[2025-06-11 20:49:14,251] INFO: neuron_sets.PropertyNeuronSet.property_filter: [layer=2,3,synapse_class=INH, layer=1,2,3,synapse_class=EXC]\n",
      "[2025-06-11 20:49:14,251] INFO: initialize.circuit: [Circuit(type='Circuit', name='O1', path='/Users/james/Documents/obi/additional_data/O1_data/O1_data/circuit_config.json', matrix_path=None), Circuit(type='Circuit', name='O1_2', path='/Users/james/Documents/obi/additional_data/O1_data/O1_data/circuit_config.json', matrix_path=None)]\n",
      "[2025-06-11 20:49:14,251] INFO: \n",
      "COORDINATE PARAMETERS\n",
      "[2025-06-11 20:49:14,252] INFO: stimuli.CurrentStimulus.amplitude: 0.2, neuron_sets.L1Stim.random_sample: 10, neuron_sets.PropertyNeuronSet.property_filter: layer=2,3,synapse_class=INH, initialize.circuit: O1\n",
      "[2025-06-11 20:49:14,252] INFO: stimuli.CurrentStimulus.amplitude: 0.2, neuron_sets.L1Stim.random_sample: 10, neuron_sets.PropertyNeuronSet.property_filter: layer=2,3,synapse_class=INH, initialize.circuit: O1_2\n",
      "[2025-06-11 20:49:14,252] INFO: stimuli.CurrentStimulus.amplitude: 0.2, neuron_sets.L1Stim.random_sample: 10, neuron_sets.PropertyNeuronSet.property_filter: layer=1,2,3,synapse_class=EXC, initialize.circuit: O1\n",
      "[2025-06-11 20:49:14,252] INFO: stimuli.CurrentStimulus.amplitude: 0.2, neuron_sets.L1Stim.random_sample: 10, neuron_sets.PropertyNeuronSet.property_filter: layer=1,2,3,synapse_class=EXC, initialize.circuit: O1_2\n",
      "[2025-06-11 20:49:14,252] INFO: stimuli.CurrentStimulus.amplitude: 0.2, neuron_sets.L1Stim.random_sample: 20, neuron_sets.PropertyNeuronSet.property_filter: layer=2,3,synapse_class=INH, initialize.circuit: O1\n",
      "[2025-06-11 20:49:14,252] INFO: stimuli.CurrentStimulus.amplitude: 0.2, neuron_sets.L1Stim.random_sample: 20, neuron_sets.PropertyNeuronSet.property_filter: layer=2,3,synapse_class=INH, initialize.circuit: O1_2\n",
      "[2025-06-11 20:49:14,253] INFO: stimuli.CurrentStimulus.amplitude: 0.2, neuron_sets.L1Stim.random_sample: 20, neuron_sets.PropertyNeuronSet.property_filter: layer=1,2,3,synapse_class=EXC, initialize.circuit: O1\n",
      "[2025-06-11 20:49:14,253] INFO: stimuli.CurrentStimulus.amplitude: 0.2, neuron_sets.L1Stim.random_sample: 20, neuron_sets.PropertyNeuronSet.property_filter: layer=1,2,3,synapse_class=EXC, initialize.circuit: O1_2\n",
      "[2025-06-11 20:49:14,253] INFO: stimuli.CurrentStimulus.amplitude: 0.5, neuron_sets.L1Stim.random_sample: 10, neuron_sets.PropertyNeuronSet.property_filter: layer=2,3,synapse_class=INH, initialize.circuit: O1\n",
      "[2025-06-11 20:49:14,253] INFO: stimuli.CurrentStimulus.amplitude: 0.5, neuron_sets.L1Stim.random_sample: 10, neuron_sets.PropertyNeuronSet.property_filter: layer=2,3,synapse_class=INH, initialize.circuit: O1_2\n",
      "[2025-06-11 20:49:14,253] INFO: stimuli.CurrentStimulus.amplitude: 0.5, neuron_sets.L1Stim.random_sample: 10, neuron_sets.PropertyNeuronSet.property_filter: layer=1,2,3,synapse_class=EXC, initialize.circuit: O1\n",
      "[2025-06-11 20:49:14,253] INFO: stimuli.CurrentStimulus.amplitude: 0.5, neuron_sets.L1Stim.random_sample: 10, neuron_sets.PropertyNeuronSet.property_filter: layer=1,2,3,synapse_class=EXC, initialize.circuit: O1_2\n",
      "[2025-06-11 20:49:14,253] INFO: stimuli.CurrentStimulus.amplitude: 0.5, neuron_sets.L1Stim.random_sample: 20, neuron_sets.PropertyNeuronSet.property_filter: layer=2,3,synapse_class=INH, initialize.circuit: O1\n",
      "[2025-06-11 20:49:14,254] INFO: stimuli.CurrentStimulus.amplitude: 0.5, neuron_sets.L1Stim.random_sample: 20, neuron_sets.PropertyNeuronSet.property_filter: layer=2,3,synapse_class=INH, initialize.circuit: O1_2\n",
      "[2025-06-11 20:49:14,254] INFO: stimuli.CurrentStimulus.amplitude: 0.5, neuron_sets.L1Stim.random_sample: 20, neuron_sets.PropertyNeuronSet.property_filter: layer=1,2,3,synapse_class=EXC, initialize.circuit: O1\n",
      "[2025-06-11 20:49:14,254] INFO: stimuli.CurrentStimulus.amplitude: 0.5, neuron_sets.L1Stim.random_sample: 20, neuron_sets.PropertyNeuronSet.property_filter: layer=1,2,3,synapse_class=EXC, initialize.circuit: O1_2\n",
      "[2025-06-11 20:50:24,825] INFO: create_bbp_workflow_campaign_config() not yet complete.\n"
     ]
    },
    {
     "data": {
      "text/plain": [
       "{0: None,\n",
       " 1: None,\n",
       " 2: None,\n",
       " 3: None,\n",
       " 4: None,\n",
       " 5: None,\n",
       " 6: None,\n",
       " 7: None,\n",
       " 8: None,\n",
       " 9: None,\n",
       " 10: None,\n",
       " 11: None,\n",
       " 12: None,\n",
       " 13: None,\n",
       " 14: None,\n",
       " 15: None}"
      ]
     },
     "execution_count": 7,
     "metadata": {},
     "output_type": "execute_result"
    }
   ],
   "source": [
    "grid_scan = obi.GridScan(form=simulations_form, output_root='../../obi-output/circuit_simulations/grid_scan')\n",
    "grid_scan.multiple_value_parameters(display=True)\n",
    "grid_scan.coordinate_parameters(display=True)\n",
    "# grid_scan.coordinate_instances(display=True)\n",
    "grid_scan.execute(processing_method='generate')"
   ]
  },
  {
   "cell_type": "code",
   "execution_count": 8,
   "metadata": {},
   "outputs": [],
   "source": [
    "# Deserialization\n",
    "grid_scan_ds = obi.deserialize_obi_object_from_json_file(\"../../obi-output/circuit_simulations/grid_scan/run_scan_config.json\")"
   ]
  },
  {
   "cell_type": "code",
   "execution_count": null,
   "metadata": {},
   "outputs": [],
   "source": []
  }
 ],
 "metadata": {
  "kernelspec": {
   "display_name": ".venv",
   "language": "python",
   "name": "python3"
  },
  "language_info": {
   "codemirror_mode": {
    "name": "ipython",
    "version": 3
   },
   "file_extension": ".py",
   "mimetype": "text/x-python",
   "name": "python",
   "nbconvert_exporter": "python",
   "pygments_lexer": "ipython3",
   "version": "3.12.9"
  }
 },
 "nbformat": 4,
 "nbformat_minor": 4
}
