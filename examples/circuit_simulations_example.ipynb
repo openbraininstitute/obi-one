{
 "cells": [
  {
   "cell_type": "code",
   "execution_count": 1,
   "metadata": {},
   "outputs": [],
   "source": [
    "import obi"
   ]
  },
  {
   "cell_type": "code",
   "execution_count": 19,
   "metadata": {},
   "outputs": [
    {
     "name": "stdout",
     "output_type": "stream",
     "text": [
      "Circuit 'ToyCircuit-S1-6k' with 5924 neurons and 568717 synapses\n"
     ]
    }
   ],
   "source": [
    "circuit = obi.Circuit(name=\"ToyCircuit-S1-6k\", path=\"/Users/pokorny/Data/Circuits/ToyCircuit-S1-6k/circuit_config.json\")\n",
    "print(f\"Circuit '{circuit}' with {circuit.sonata_circuit.nodes.size} neurons and {circuit.sonata_circuit.edges.size} synapses\")"
   ]
  },
  {
   "cell_type": "code",
   "execution_count": 20,
   "metadata": {},
   "outputs": [
    {
     "name": "stdout",
     "output_type": "stream",
     "text": [
      "...}, 'Layer5': {'layer': 5}, 'Layer6': {'layer': 6}}\n",
      "...yer6': {'layer': 6}, 'Layer23': {'layer': [2, 3]}}\n",
      "...6': {'layer': 6}, 'Layer23': ['Layer2', 'Layer3']}\n"
     ]
    }
   ],
   "source": [
    "# Add node set to existing circuit object\n",
    "c = circuit.sonata_circuit\n",
    "print(\"...\" + str(c.node_sets.content)[-50:])\n",
    "obi.NeuronSet.add_node_set_to_circuit(c, {\"Layer23\": {\"layer\": [2, 3]}})\n",
    "print(\"...\" + str(c.node_sets.content)[-50:])\n",
    "# obi.NeuronSet.add_node_set_to_circuit(c, {\"Layer23\": {\"layer\": [2, 3]}})  # AssertionError: ERROR: Node set 'Layer23' already exists!\n",
    "obi.NeuronSet.add_node_set_to_circuit(c, {\"Layer23\": [\"Layer2\", \"Layer3\"]}, overwrite_if_exists=True)  # Update/overwrite\n",
    "print(\"...\" + str(c.node_sets.content)[-50:])"
   ]
  },
  {
   "cell_type": "code",
   "execution_count": null,
   "metadata": {},
   "outputs": [],
   "source": []
  },
  {
   "cell_type": "code",
   "execution_count": null,
   "metadata": {},
   "outputs": [],
   "source": [
    "# Write node set to a node set file"
   ]
  },
  {
   "cell_type": "code",
   "execution_count": 11,
   "metadata": {},
   "outputs": [
    {
     "name": "stdout",
     "output_type": "stream",
     "text": [
      "Neuron set of population 'All' with 100 neurons\n",
      "{'Basic': {'node_id': [25, 42, 54, 55, 66, 115, 116, 122, 136, 139, 145, 152, 158, 159, 161, 168, 171, 215, 238, 259, 326, 328, 331, 342, 355, 370, 378, 383, 403, 465, 477, 496, 498, 518, 527, 528, 557, 559, 568, 619, 627, 649, 652, 658, 683, 694, 696, 728, 729, 740, 756, 769, 818, 851, 865, 867, 871, 900, 929, 953, 956, 979, 1004, 1007, 1023, 1026, 1046, 1048, 1058, 1080, 1109, 1194, 1214, 1219, 1235, 1252, 1287, 1357, 1361, 1374, 1401, 1405, 1419, 1444, 1445, 1457, 1473, 1498, 1512, 1516, 1519, 1535, 1538, 1576, 1581, 1587, 1604, 1626, 1634, 1640]}}\n",
      "[  25   42   54   55   66  115  116  122  136  139  145  152  158  159\n",
      "  161  168  171  215  238  259  326  328  331  342  355  370  378  383\n",
      "  403  465  477  496  498  518  527  528  557  559  568  619  627  649\n",
      "  652  658  683  694  696  728  729  740  756  769  818  851  865  867\n",
      "  871  900  929  953  956  979 1004 1007 1023 1026 1046 1048 1058 1080\n",
      " 1109 1194 1214 1219 1235 1252 1287 1357 1361 1374 1401 1405 1419 1444\n",
      " 1445 1457 1473 1498 1512 1516 1519 1535 1538 1576 1581 1587 1604 1626\n",
      " 1634 1640]\n"
     ]
    }
   ],
   "source": [
    "neuron_set1 = obi.BasicNeuronSet(name=\"Basic\", circuit=circuit, population=\"All\", node_sets=[\"Layer1\", \"Layer2\", \"Layer3\"], random_sample=100)\n",
    "print(f\"Neuron set of population '{neuron_set1.population}' with {neuron_set1.size} neurons\")\n",
    "print(neuron_set1.get_node_set_dict())\n",
    "print(neuron_set1.get_ids())\n",
    "neuron_set1.write_node_set_file(output_path=\"./\", overwrite_if_exists=True)"
   ]
  },
  {
   "cell_type": "code",
   "execution_count": 3,
   "metadata": {},
   "outputs": [
    {
     "name": "stdout",
     "output_type": "stream",
     "text": [
      "Neuron set of population 'All' with 3 neurons\n"
     ]
    },
    {
     "data": {
      "text/plain": [
       "array([1, 2, 3])"
      ]
     },
     "execution_count": 3,
     "metadata": {},
     "output_type": "execute_result"
    }
   ],
   "source": [
    "neuron_set1 = obi.IDNeuronSet(circuit=circuit, population=\"All\", neuron_ids=[1, 2, 3])\n",
    "print(f\"Neuron set of population '{neuron_set1.population}' with {neuron_set1.size} neurons\")\n",
    "neuron_set1.ids"
   ]
  },
  {
   "cell_type": "code",
   "execution_count": 4,
   "metadata": {},
   "outputs": [
    {
     "name": "stdout",
     "output_type": "stream",
     "text": [
      "Neuron set of population 'All' with 0 neurons\n"
     ]
    },
    {
     "data": {
      "text/plain": [
       "array([], dtype=int64)"
      ]
     },
     "execution_count": 4,
     "metadata": {},
     "output_type": "execute_result"
    }
   ],
   "source": [
    "neuron_set2 = obi.PropertyNeuronSet(circuit=circuit, population=\"All\", property_specs={\"layer\": [1], \"synapse_class\": \"EXC\"})\n",
    "print(f\"Neuron set of population '{neuron_set2.population}' with {neuron_set2.size} neurons\")\n",
    "neuron_set2.ids"
   ]
  },
  {
   "cell_type": "code",
   "execution_count": 5,
   "metadata": {},
   "outputs": [
    {
     "name": "stdout",
     "output_type": "stream",
     "text": [
      "Neuron set of population 'All' with 5 neurons\n"
     ]
    },
    {
     "data": {
      "text/plain": [
       "array([0, 2, 4, 7, 8])"
      ]
     },
     "execution_count": 5,
     "metadata": {},
     "output_type": "execute_result"
    }
   ],
   "source": [
    "neuron_set3 = obi.IDNeuronSet(circuit=circuit, population=\"All\", neuron_ids=range(10), random_sample=0.5)\n",
    "print(f\"Neuron set of population '{neuron_set3.population}' with {neuron_set3.size} neurons\")\n",
    "neuron_set3.ids"
   ]
  },
  {
   "cell_type": "code",
   "execution_count": null,
   "metadata": {},
   "outputs": [],
   "source": [
    "# NOTES:\n",
    "# Circuit is not a Block (but will be a Class from entitycore in the end) and will represent one circuit ... OK\n",
    "# Use decorators for type checks (not __init__())\n",
    "# NeuronSet should handle multiple populations (output format: dict with population names as keys and lists of IDs as values) ... TO COME LATER\n",
    "#           should have a name ... OK\n",
    "#           should work with (existing) named node sets (without passing lists of IDs) ... OK\n",
    "#           should add the new node set to the node_sets.json (if not existing) ... OK\n",
    "# How to deal with adding multiple node sets to the same circuit?\n",
    "\n"
   ]
  },
  {
   "cell_type": "code",
   "execution_count": 6,
   "metadata": {},
   "outputs": [],
   "source": [
    "simulations_initialize = obi.SimulationsForm.Initialize(\n",
    "    circuit=obi.Circuit(name=\"ToyCircuit-S1-6k\", path=\"/Users/pokorny/Data/Circuits/ToyCircuit-S1-6k/circuit_config.json\"),\n",
    "    simulation_length=[100, 500]\n",
    ")\n",
    "intracellular_location_set_1 = obi.SectionIntracellularLocationSet(circuit=simulations_initialize.circuit, neuron_ids=(1, 2, 3), section='soma')\n",
    "xyz_extracellular_location_set_1 = obi.XYZExtracellularLocationSet(circuit=simulations_initialize.circuit, xyz_locations=((0.9, 0.2, 0.3), (0.1, 0.1, 0.3)))\n",
    "\n",
    "id_neuron_set_1 = obi.IDNeuronSet(circuit=simulations_initialize.circuit, population=\"All\", neuron_ids=(1, 2, 3))\n",
    "id_synapse_set_1 = obi.IDSynapseSet(circuit=simulations_initialize.circuit, synapse_ids=(1, 2, 3))\n",
    "\n",
    "timestamps_1 = obi.RegularTimestamps(start_time=0.0, number_of_repetitions=1, interval=[1.0, 5.0])\n",
    "stimulus_1 = obi.SynchronousSingleSpikeStimulus(spike_probability=[0.5, 0.8], timestamps=timestamps_1, synapse_set=id_synapse_set_1)\n",
    "recording_1 = obi.IntracellularLocationSetVoltageRecording(start_time=0.0, end_time=1.0, intracellular_location_set=intracellular_location_set_1)\n",
    "\n",
    "\"\"\"\n",
    "Fill form with Blocks\n",
    "\"\"\"\n",
    "simulations_form = obi.SimulationsForm(\n",
    "                                    initialize=simulations_initialize,\n",
    "\n",
    "                                    intracellular_location_sets={\"id_intracellular_location_set_1\": intracellular_location_set_1},\n",
    "                                    extracellular_location_sets={\"xyz_extracellular_location_set_1\": xyz_extracellular_location_set_1},\n",
    "\n",
    "                                    neuron_sets={\"id_neuron_set_1\": id_neuron_set_1},\n",
    "                                    synapse_sets={\"id_synapse_set_1\": id_synapse_set_1},\n",
    "\n",
    "                                    timestamps={\"timestamps_1\": timestamps_1}, \n",
    "                                    stimuli={\"stimulus_1\": stimulus_1}, \n",
    "                                    recordings={\"recording_1\": recording_1},\n",
    "                                    )"
   ]
  },
  {
   "cell_type": "code",
   "execution_count": 7,
   "metadata": {},
   "outputs": [
    {
     "name": "stderr",
     "output_type": "stream",
     "text": [
      "/Users/pokorny/JupyterLab/git/obi-one/.venv/lib/python3.12/site-packages/pydantic/main.py:453: UserWarning: Pydantic serializer warnings:\n",
      "  PydanticSerializationUnexpectedValue(Expected `BasicNeuronSet` - serialized value may not be as expected [input_value=IDNeuronSet(type='IDNeuro...om_seed=0, neuron_ids=1), input_type=IDNeuronSet])\n",
      "  PydanticSerializationUnexpectedValue(Expected `list[int]` - serialized value may not be as expected [input_value=1, input_type=int])\n",
      "  PydanticSerializationUnexpectedValue(Expected `PropertyNeuronSet` - serialized value may not be as expected [input_value=IDNeuronSet(type='IDNeuro...om_seed=0, neuron_ids=1), input_type=IDNeuronSet])\n",
      "  PydanticSerializationUnexpectedValue(Expected `list[int]` - serialized value may not be as expected [input_value=1, input_type=int])\n",
      "  return self.__pydantic_serializer__.to_python(\n",
      "/Users/pokorny/JupyterLab/git/obi-one/.venv/lib/python3.12/site-packages/pydantic/main.py:453: UserWarning: Pydantic serializer warnings:\n",
      "  PydanticSerializationUnexpectedValue(Expected `BasicNeuronSet` - serialized value may not be as expected [input_value=IDNeuronSet(type='IDNeuro...om_seed=0, neuron_ids=2), input_type=IDNeuronSet])\n",
      "  PydanticSerializationUnexpectedValue(Expected `list[int]` - serialized value may not be as expected [input_value=2, input_type=int])\n",
      "  PydanticSerializationUnexpectedValue(Expected `PropertyNeuronSet` - serialized value may not be as expected [input_value=IDNeuronSet(type='IDNeuro...om_seed=0, neuron_ids=2), input_type=IDNeuronSet])\n",
      "  PydanticSerializationUnexpectedValue(Expected `list[int]` - serialized value may not be as expected [input_value=2, input_type=int])\n",
      "  return self.__pydantic_serializer__.to_python(\n",
      "/Users/pokorny/JupyterLab/git/obi-one/.venv/lib/python3.12/site-packages/pydantic/main.py:453: UserWarning: Pydantic serializer warnings:\n",
      "  PydanticSerializationUnexpectedValue(Expected `BasicNeuronSet` - serialized value may not be as expected [input_value=IDNeuronSet(type='IDNeuro...om_seed=0, neuron_ids=3), input_type=IDNeuronSet])\n",
      "  PydanticSerializationUnexpectedValue(Expected `list[int]` - serialized value may not be as expected [input_value=3, input_type=int])\n",
      "  PydanticSerializationUnexpectedValue(Expected `PropertyNeuronSet` - serialized value may not be as expected [input_value=IDNeuronSet(type='IDNeuro...om_seed=0, neuron_ids=3), input_type=IDNeuronSet])\n",
      "  PydanticSerializationUnexpectedValue(Expected `list[int]` - serialized value may not be as expected [input_value=3, input_type=int])\n",
      "  return self.__pydantic_serializer__.to_python(\n"
     ]
    }
   ],
   "source": [
    "grid_scan = obi.GridScan(form=simulations_form, output_root='../../obi-output-test/circuit_simulations/grid_scan')\n",
    "grid_scan.generate()"
   ]
  },
  {
   "cell_type": "code",
   "execution_count": null,
   "metadata": {},
   "outputs": [],
   "source": []
  },
  {
   "cell_type": "code",
   "execution_count": null,
   "metadata": {},
   "outputs": [],
   "source": []
  },
  {
   "cell_type": "code",
   "execution_count": null,
   "metadata": {},
   "outputs": [],
   "source": [
    "import obi\n",
    "\n",
    "\"\"\"\n",
    "Define Blocks\n",
    "\"\"\"\n",
    "simulations_initialize = obi.SimulationsForm.Initialize(\n",
    "    circuit=obi.Circuit(circuit_path=\"circuit_1\", node_set='hex0'),\n",
    "    simulation_length=[100, 500]\n",
    ")\n",
    "intracellular_location_set_1 = obi.IntracellularLocationSet(circuit=simulations_initialize.circuit, neuron_ids=(1, 2, 3), section='soma')\n",
    "xyz_extracellular_location_set_1 = obi.XYZExtracellularLocationSet(circuit=simulations_initialize.circuit, xyz_locations=((0.9, 0.2, 0.3), (0.1, 0.1, 0.3)))\n",
    "\n",
    "id_neuron_set_1 = obi.IDNeuronSet(circuit=simulations_initialize.circuit, neuron_ids=(1, 2, 3))\n",
    "id_synapse_set_1 = obi.IDSynapseSet(circuit=simulations_initialize.circuit, synapse_ids=(1, 2, 3))\n",
    "\n",
    "timestamps_1 = obi.RegularTimestamps(start_time=0.0, number_of_repetitions=1, interval=[1.0, 5.0])\n",
    "stimulus_1 = obi.SynchronousSingleSpikeStimulus(spike_probability=[0.5, 0.8], timestamps=timestamps_1, synapse_set=id_synapse_set_1)\n",
    "recording_1 = obi.IntracellularLocationSetVoltageRecording(start_time=0.0, end_time=1.0, intracellular_location_set=intracellular_location_set_1)\n",
    "\n",
    "\"\"\"\n",
    "Fill form with Blocks\n",
    "\"\"\"\n",
    "simulations_form = obi.SimulationsForm(\n",
    "                                    initialize=simulations_initialize,\n",
    "\n",
    "                                    intracellular_location_sets={\"id_intracellular_location_set_1\": intracellular_location_set_1},\n",
    "                                    extracellular_location_sets={\"xyz_extracellular_location_set_1\": xyz_extracellular_location_set_1},\n",
    "\n",
    "                                    neuron_sets={\"id_neuron_set_1\": id_neuron_set_1},\n",
    "                                    synapse_sets={\"id_synapse_set_1\": id_synapse_set_1},\n",
    "\n",
    "                                    timestamps={\"timestamps_1\": timestamps_1}, \n",
    "                                    stimuli={\"stimulus_1\": stimulus_1}, \n",
    "                                    recordings={\"recording_1\": recording_1},\n",
    "                                    )\n",
    "\n",
    "\"\"\"\n",
    "Create Scans\n",
    "\"\"\"\n",
    "grid_scan = obi.GridScan(form=simulations_form, output_root='../../obi-output/circuit_simulations/grid_scan')\n",
    "grid_scan.multiple_value_parameters(display=True)\n",
    "grid_scan.coordinate_parameters(display=True)\n",
    "grid_scan.coordinate_instances(display=True)\n",
    "grid_scan.generate()\n",
    "\n",
    "coupled_scan = obi.CoupledScan(form=simulations_form, output_root='../../obi-output/circuit_simulations/coupled_scan')\n",
    "coupled_scan.multiple_value_parameters(display=True)\n",
    "coupled_scan.coordinate_parameters(display=False)\n",
    "coupled_scan.coordinate_instances(display=True)\n",
    "coupled_scan.generate()\n",
    "\n",
    "print('.')"
   ]
  }
 ],
 "metadata": {
  "kernelspec": {
   "display_name": "OBIONEKernel",
   "language": "python",
   "name": "obionekernel"
  },
  "language_info": {
   "codemirror_mode": {
    "name": "ipython",
    "version": 3
   },
   "file_extension": ".py",
   "mimetype": "text/x-python",
   "name": "python",
   "nbconvert_exporter": "python",
   "pygments_lexer": "ipython3",
   "version": "3.12.9"
  }
 },
 "nbformat": 4,
 "nbformat_minor": 4
}
