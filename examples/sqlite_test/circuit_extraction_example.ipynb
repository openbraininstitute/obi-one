{
 "cells": [
  {
   "cell_type": "code",
   "execution_count": 1,
   "metadata": {},
   "outputs": [
    {
     "name": "stderr",
     "output_type": "stream",
     "text": [
      "/Users/james/Documents/obi/code/obi-one/.venv/lib/python3.12/site-packages/conntility/circuit_models/input_spikes.py:22: SyntaxWarning: invalid escape sequence '\\s'\n",
      "  s = pandas.read_csv(spk[\"spike_file\"], sep=\"\\s+\").rename(columns={\"/scatter\": \"node_id\"})[\"node_id\"]\n"
     ]
    },
    {
     "ename": "NameError",
     "evalue": "name 'CircuitExtractions' is not defined",
     "output_type": "error",
     "traceback": [
      "\u001b[31m---------------------------------------------------------------------------\u001b[39m",
      "\u001b[31mNameError\u001b[39m                                 Traceback (most recent call last)",
      "\u001b[36mCell\u001b[39m\u001b[36m \u001b[39m\u001b[32mIn[1]\u001b[39m\u001b[32m, line 1\u001b[39m\n\u001b[32m----> \u001b[39m\u001b[32m1\u001b[39m \u001b[38;5;28;01mimport\u001b[39;00m\u001b[38;5;250m \u001b[39m\u001b[34;01mobi\u001b[39;00m\n\u001b[32m      3\u001b[39m \u001b[38;5;66;03m# obi.database('sqlite:///obi.db')\u001b[39;00m\n\u001b[32m      5\u001b[39m circuit_extractions_form = obi.CircuitExtractions(\n\u001b[32m      6\u001b[39m                     initialize=obi.CircuitExtractions.Initialize(\n\u001b[32m      7\u001b[39m                         circuit_path=\u001b[33m\"\u001b[39m\u001b[33m/Users/james/Documents/obi/additional_data/O1_data/O1_data/circuit_config.json\u001b[39m\u001b[33m\"\u001b[39m,\n\u001b[32m      8\u001b[39m                         node_set=[\u001b[33m'\u001b[39m\u001b[33mnbS1-HEX0-L1\u001b[39m\u001b[33m'\u001b[39m, \u001b[33m'\u001b[39m\u001b[33mnbS1-HEX1-L1\u001b[39m\u001b[33m'\u001b[39m]\n\u001b[32m      9\u001b[39m                     )\n\u001b[32m     10\u001b[39m )\n",
      "\u001b[36mFile \u001b[39m\u001b[32m~/Documents/obi/code/obi-one/obi/__init__.py:28\u001b[39m\n\u001b[32m     25\u001b[39m \u001b[38;5;28;01mfrom\u001b[39;00m\u001b[38;5;250m \u001b[39m\u001b[34;01mobi\u001b[39;00m\u001b[34;01m.\u001b[39;00m\u001b[34;01mmodeling\u001b[39;00m\u001b[34;01m.\u001b[39;00m\u001b[34;01mfolder_compression\u001b[39;00m\u001b[34;01m.\u001b[39;00m\u001b[34;01mfolder_compression\u001b[39;00m\u001b[38;5;250m \u001b[39m\u001b[38;5;28;01mimport\u001b[39;00m FolderCompressions, FolderCompression\n\u001b[32m     26\u001b[39m \u001b[38;5;28;01mfrom\u001b[39;00m\u001b[38;5;250m \u001b[39m\u001b[34;01mobi\u001b[39;00m\u001b[34;01m.\u001b[39;00m\u001b[34;01mmodeling\u001b[39;00m\u001b[34;01m.\u001b[39;00m\u001b[34;01mmorphology_containerization\u001b[39;00m\u001b[34;01m.\u001b[39;00m\u001b[34;01mmorphology_containerization\u001b[39;00m\u001b[38;5;250m \u001b[39m\u001b[38;5;28;01mimport\u001b[39;00m MorphologyContainerizationsForm, MorphologyContainerization\n\u001b[32m---> \u001b[39m\u001b[32m28\u001b[39m \u001b[38;5;28;01mfrom\u001b[39;00m\u001b[38;5;250m \u001b[39m\u001b[34;01mobi\u001b[39;00m\u001b[34;01m.\u001b[39;00m\u001b[34;01mmodeling\u001b[39;00m\u001b[34;01m.\u001b[39;00m\u001b[34;01mmorphology_metrics\u001b[39;00m\u001b[34;01m.\u001b[39;00m\u001b[34;01mmorphology_metrics\u001b[39;00m\u001b[38;5;250m \u001b[39m\u001b[38;5;28;01mimport\u001b[39;00m MorphologyMetricsForm, MorphologyMetrics\n\u001b[32m     30\u001b[39m \u001b[38;5;28;01mfrom\u001b[39;00m\u001b[38;5;250m \u001b[39m\u001b[34;01mobi\u001b[39;00m\u001b[34;01m.\u001b[39;00m\u001b[34;01mmodeling\u001b[39;00m\u001b[34;01m.\u001b[39;00m\u001b[34;01munions\u001b[39;00m\u001b[34;01m.\u001b[39;00m\u001b[34;01munions_form\u001b[39;00m\u001b[38;5;250m \u001b[39m\u001b[38;5;28;01mimport\u001b[39;00m FormUnion\n\u001b[32m     31\u001b[39m \u001b[38;5;28;01mfrom\u001b[39;00m\u001b[38;5;250m \u001b[39m\u001b[34;01mobi\u001b[39;00m\u001b[34;01m.\u001b[39;00m\u001b[34;01mmodeling\u001b[39;00m\u001b[34;01m.\u001b[39;00m\u001b[34;01munions\u001b[39;00m\u001b[34;01m.\u001b[39;00m\u001b[34;01munions_timestamps\u001b[39;00m\u001b[38;5;250m \u001b[39m\u001b[38;5;28;01mimport\u001b[39;00m TimestampsUnion\n",
      "\u001b[36mFile \u001b[39m\u001b[32m~/Documents/obi/code/obi-one/obi/modeling/morphology_metrics/morphology_metrics.py:25\u001b[39m\n\u001b[32m     19\u001b[39m     \u001b[38;5;66;03m# def save_collection(self, circuit_entities):\u001b[39;00m\n\u001b[32m     20\u001b[39m     \u001b[38;5;66;03m#     SaveCircuitCollectionEntity(circuits=circuit_entities)\u001b[39;00m\n\u001b[32m     24\u001b[39m \u001b[38;5;28;01mimport\u001b[39;00m\u001b[38;5;250m \u001b[39m\u001b[34;01mtraceback\u001b[39;00m\n\u001b[32m---> \u001b[39m\u001b[32m25\u001b[39m \u001b[38;5;28;01mclass\u001b[39;00m\u001b[38;5;250m \u001b[39m\u001b[34;01mMorphologyMetrics\u001b[39;00m(\u001b[43mCircuitExtractions\u001b[49m, SingleCoordinateMixin):\n\u001b[32m     26\u001b[39m \u001b[38;5;250m    \u001b[39m\u001b[33;03m\"\"\"\u001b[39;00m\n\u001b[32m     27\u001b[39m \u001b[33;03m    \"\"\"\u001b[39;00m\n\u001b[32m     29\u001b[39m     \u001b[38;5;28;01mdef\u001b[39;00m\u001b[38;5;250m \u001b[39m\u001b[34mrun\u001b[39m(\u001b[38;5;28mself\u001b[39m) -> \u001b[38;5;28mstr\u001b[39m:\n",
      "\u001b[31mNameError\u001b[39m: name 'CircuitExtractions' is not defined"
     ]
    }
   ],
   "source": [
    "import obi_one as obi\n",
    "\n",
    "# obi.database('sqlite:///obi.db')\n",
    "\n",
    "circuit_extractions_form = obi.CircuitExtractions(\n",
    "                    initialize=obi.CircuitExtractions.Initialize(\n",
    "                        circuit_path=\"/Users/james/Documents/obi/additional_data/O1_data/O1_data/circuit_config.json\",\n",
    "                        node_set=['nbS1-HEX0-L1', 'nbS1-HEX1-L1']\n",
    "                    )\n",
    ")\n",
    "\n",
    "grid_scan = obi.GridScan(form=circuit_extractions_form, output_root='/Users/james/Documents/obi/additional_data/O1_extracted_subcircuits', coordinate_directory_option=\"VALUE\")\n",
    "grid_scan.execute(processing_method='run')\n",
    "grid_scan.save()"
   ]
  },
  {
   "cell_type": "code",
   "execution_count": null,
   "metadata": {},
   "outputs": [],
   "source": [
    "# Display the intermediary data\n",
    "grid_scan.multiple_value_parameters(display=True)\n",
    "grid_scan.coordinate_parameters(display=True)\n",
    "grid_scan.coordinate_instances(display=True)"
   ]
  },
  {
   "cell_type": "markdown",
   "metadata": {},
   "source": []
  },
  {
   "cell_type": "code",
   "execution_count": null,
   "metadata": {},
   "outputs": [],
   "source": [
    "print(obi.circuit_collections())\n",
    "print(obi.circuits())"
   ]
  },
  {
   "cell_type": "code",
   "execution_count": null,
   "metadata": {},
   "outputs": [],
   "source": []
  }
 ],
 "metadata": {
  "kernelspec": {
   "display_name": ".venv",
   "language": "python",
   "name": "python3"
  },
  "language_info": {
   "codemirror_mode": {
    "name": "ipython",
    "version": 3
   },
   "file_extension": ".py",
   "mimetype": "text/x-python",
   "name": "python",
   "nbconvert_exporter": "python",
   "pygments_lexer": "ipython3",
   "version": "3.12.9"
  }
 },
 "nbformat": 4,
 "nbformat_minor": 2
}
