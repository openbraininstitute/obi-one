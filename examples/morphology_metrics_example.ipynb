{
 "cells": [
  {
   "cell_type": "code",
   "execution_count": 1,
   "metadata": {},
   "outputs": [
    {
     "name": "stdout",
     "output_type": "stream",
     "text": [
      "Metrics for morphology 'L5_TPC:A_MusMusculus_PrimarySomatosensory_C060114A5'\n",
      "{'soma_radius [µm]': 8.054900169372559, 'soma_surface_area [µm^2]': 815.323974609375, 'Number of neurites (axon)': 1, 'Number of sections (axon)': 180, 'Number of sections per neurite (axon)': [180], 'Number of neurites (apical_dendrite)': 1, 'Number of sections (apical_dendrite)': 121, 'Number of sections per neurite (apical_dendrite)': [121], 'Number of neurites (basal_dendrite)': 9, 'Number of sections (basal_dendrite)': 74, 'Number of sections per neurite (basal_dendrite)': [8, 19, 3, 11, 3, 7, 11, 1, 11], 'Section lengths [µm] (axon)': {'len': 180, 'mean': np.float64(68.81260218222936), 'sum': np.float64(12386.268392801285), 'std': np.float64(78.14544385310312), 'min': np.float64(3.3210198879241943), 'max': np.float64(463.9226989746094)}, 'Segment lengths [µm] (axon)': {'len': 6310, 'mean': np.float64(1.9629585424883855), 'sum': np.float64(12386.268403101712), 'std': np.float64(1.1847362933697252), 'min': np.float64(0.0), 'max': np.float64(28.46282196044922)}, 'Section radial distance [µm] (axon)': {'len': 180, 'mean': np.float64(209.19941529168022), 'sum': np.float64(37655.89475250244), 'std': np.float64(107.6144179868334), 'min': np.float64(33.23208236694336), 'max': np.float64(615.16552734375)}, 'Section path distance [µm] (axon)': {'len': 180, 'mean': np.float64(338.1249977535672), 'sum': np.float64(60862.49959564209), 'std': np.float64(150.8027944453026), 'min': np.float64(110.09100341796875), 'max': np.float64(882.8658447265625)}, 'Local bifurcation angles [˚] (axon)': {'len': 85, 'mean': np.float64(1.3749035031755308), 'sum': np.float64(116.86679776992011), 'std': np.float64(0.5546093530660283), 'min': np.float64(0.3265424078692702), 'max': np.float64(2.724646449317676)}, 'Remote bifurcation angles [˚] (axon)': {'len': 85, 'mean': np.float64(1.2254507987989627), 'sum': np.float64(104.16331789791182), 'std': np.float64(0.5862625519855631), 'min': np.float64(0.07119972474568968), 'max': np.float64(2.961244456023444)}, 'Section lengths [µm] (apical_dendrite)': {'len': 121, 'mean': np.float64(50.65561881932345), 'sum': np.float64(6129.329877138138), 'std': np.float64(43.05511659430043), 'min': np.float64(1.1545276641845703), 'max': np.float64(197.90771484375)}, 'Segment lengths [µm] (apical_dendrite)': {'len': 3461, 'mean': np.float64(1.770970767928458), 'sum': np.float64(6129.329827800393), 'std': np.float64(1.0723992506305489), 'min': np.float64(0.0), 'max': np.float64(5.113907337188721)}, 'Section radial distance [µm] (apical_dendrite)': {'len': 121, 'mean': np.float64(350.1855776132631), 'sum': np.float64(42372.454891204834), 'std': np.float64(257.2916291749578), 'min': np.float64(10.331045150756836), 'max': np.float64(700.4854736328125)}, 'Section path distance [µm] (apical_dendrite)': {'len': 121, 'mean': np.float64(391.7779091212375), 'sum': np.float64(47405.12700366974), 'std': np.float64(277.6769308434534), 'min': np.float64(1.1545276641845703), 'max': np.float64(782.093505859375)}, 'Local bifurcation angles [˚] (apical_dendrite)': {'len': 57, 'mean': np.float64(1.135185328764288), 'sum': np.float64(64.70556373956441), 'std': np.float64(0.4240286041089125), 'min': np.float64(0.2508334408441063), 'max': np.float64(2.17550058582503)}, 'Remote bifurcation angles [˚] (apical_dendrite)': {'len': 57, 'mean': np.float64(0.9215521739594529), 'sum': np.float64(52.528473915688814), 'std': np.float64(0.45183536018445725), 'min': np.float64(0.08633280050357815), 'max': np.float64(2.273995388175031)}, 'Section lengths [µm] (basal_dendrite)': {'len': 74, 'mean': np.float64(43.4205626056001), 'sum': np.float64(3213.1216328144073), 'std': np.float64(36.289166657373464), 'min': np.float64(1.8528928756713867), 'max': np.float64(147.68087768554688)}, 'Segment lengths [µm] (basal_dendrite)': {'len': 2124, 'mean': np.float64(1.512769120181481), 'sum': np.float64(3213.1216112654656), 'std': np.float64(1.0787142841138264), 'min': np.float64(0.0), 'max': np.float64(5.998444080352783)}, 'Section radial distance [µm] (basal_dendrite)': {'len': 74, 'mean': np.float64(65.58532977748561), 'sum': np.float64(4853.314403533936), 'std': np.float64(37.26192036121444), 'min': np.float64(15.303476333618164), 'max': np.float64(162.12506103515625)}, 'Section path distance [µm] (basal_dendrite)': {'len': 74, 'mean': np.float64(71.88895231324273), 'sum': np.float64(5319.782471179962), 'std': np.float64(45.56840748448816), 'min': np.float64(7.36171817779541), 'max': np.float64(177.277587890625)}, 'Local bifurcation angles [˚] (basal_dendrite)': {'len': 31, 'mean': np.float64(1.2218935485558844), 'sum': np.float64(37.87870000523242), 'std': np.float64(0.5744300530129167), 'min': np.float64(0.27843127345460195), 'max': np.float64(2.898767705469026)}, 'Remote bifurcation angles [˚] (basal_dendrite)': {'len': 31, 'mean': np.float64(0.9441788406755937), 'sum': np.float64(29.269544060943403), 'std': np.float64(0.43276740833117816), 'min': np.float64(0.2976943023119327), 'max': np.float64(1.9841837900233528)}}\n",
      "Metrics calculated\n"
     ]
    }
   ],
   "source": [
    "import obi\n",
    "\n",
    "morphology_metrics_form = obi.MorphologyMetricsForm(\n",
    "                    initialize=obi.MorphologyMetricsForm.Initialize(\n",
    "                        morphology_path=obi.NamedPath(name=\"L5_TPC:A_MusMusculus_PrimarySomatosensory_C060114A5\", path=\"example_data/morphologies/L5_TPC:A_MusMusculus_PrimarySomatosensory_C060114A5/C060114A5.asc\")\n",
    "                    )\n",
    ")\n",
    "\n",
    "\n",
    "\n",
    "grid_scan = obi.GridScan(form=morphology_metrics_form, output_root='../../obi-output/morphology_metrics/grid_scan')\n",
    "grid_scan.run()"
   ]
  },
  {
   "cell_type": "code",
   "execution_count": 2,
   "metadata": {},
   "outputs": [
    {
     "name": "stdout",
     "output_type": "stream",
     "text": [
      "\n",
      "MULTIPLE VALUE PARAMETERS\n",
      "\n",
      "COORDINATE PARAMETERS (Reimplement)\n",
      "\n",
      "\n",
      "COORDINATE INSTANCES\n",
      "MorphologyMetrics(idx=0, scan_output_root='', coordinate_directory_option='NAME_EQUALS_VALUE', single_coordinate_scan_params=SingleCoordinateScanParams(type='SingleCoordinateScanParams', scan_params=[], nested_coordinate_subpath_str='MorphologyMetrics/'), type='MorphologyMetricsForm', initialize=Initialize(type='MorphologyMetricsForm.Initialize', morphology_path=L5_TPC:A_MusMusculus_PrimarySomatosensory_C060114A5))\n"
     ]
    },
    {
     "data": {
      "text/plain": [
       "[MorphologyMetrics(idx=0, scan_output_root='', coordinate_directory_option='NAME_EQUALS_VALUE', single_coordinate_scan_params=SingleCoordinateScanParams(type='SingleCoordinateScanParams', scan_params=[], nested_coordinate_subpath_str='MorphologyMetrics/'), type='MorphologyMetricsForm', initialize=Initialize(type='MorphologyMetricsForm.Initialize', morphology_path=L5_TPC:A_MusMusculus_PrimarySomatosensory_C060114A5))]"
      ]
     },
     "execution_count": 2,
     "metadata": {},
     "output_type": "execute_result"
    }
   ],
   "source": [
    "# Display the intermediary data\n",
    "grid_scan.multiple_value_parameters(display=True)\n",
    "grid_scan.coordinate_parameters(display=True)\n",
    "grid_scan.coordinate_instances(display=True)\n"
   ]
  },
  {
   "cell_type": "code",
   "execution_count": null,
   "metadata": {},
   "outputs": [],
   "source": []
  },
  {
   "cell_type": "code",
   "execution_count": null,
   "metadata": {},
   "outputs": [],
   "source": []
  }
 ],
 "metadata": {
  "kernelspec": {
   "display_name": ".venv",
   "language": "python",
   "name": "python3"
  },
  "language_info": {
   "codemirror_mode": {
    "name": "ipython",
    "version": 3
   },
   "file_extension": ".py",
   "mimetype": "text/x-python",
   "name": "python",
   "nbconvert_exporter": "python",
   "pygments_lexer": "ipython3",
   "version": "3.12.9"
  }
 },
 "nbformat": 4,
 "nbformat_minor": 4
}
