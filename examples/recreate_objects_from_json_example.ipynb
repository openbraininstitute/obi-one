{
 "cells": [
  {
   "cell_type": "code",
   "execution_count": 1,
   "metadata": {},
   "outputs": [
    {
     "name": "stdout",
     "output_type": "stream",
     "text": [
      "GridScan(form=SimulationsForm(timestamps={'timestamps_1': RegularTimestamps(start_time=0.0, number_of_repetitions=1, interval=[1.0, 5.0])}, stimuli={'stimulus_1': SynchronousSingleSpikeStimulus(synapse_set=IDSynapseSet(circuit=Circuit(circuit_path='circuit_1', node_set='hex0'), synapse_ids=(1, 2, 3)), timestamps=RegularTimestamps(start_time=0.0, number_of_repetitions=1, interval=[1.0, 5.0]), spike_probability=[0.5, 0.8])}, recordings={'recording_1': IntracellularLocationSetVoltageRecording(start_time=0.0, end_time=1.0, recording_type='voltage', dt=0.1, intracellular_location_set=IntracellularLocationSet(neuron_ids=(1, 2, 3), section='soma'))}, neuron_sets={'id_neuron_set_1': IDNeuronSet(circuit=Circuit(circuit_path='circuit_1', node_set='hex0'), neuron_ids=(1, 2, 3))}, synapse_sets={'id_synapse_set_1': IDSynapseSet(circuit=Circuit(circuit_path='circuit_1', node_set='hex0'), synapse_ids=(1, 2, 3))}, intracellular_location_sets={'id_intracellular_location_set_1': IntracellularLocationSet(neuron_ids=(1, 2, 3), section='soma')}, extracellular_location_sets={'xyz_extracellular_location_set_1': XYZExtracellularLocationSet(xyz_locations=((0.9, 0.2, 0.3), (0.1, 0.1, 0.3)))}, initialize=Initialize(circuit=Circuit(circuit_path='circuit_1', node_set='hex0'), simulation_length=[100.0, 500.0], random_seed=1, extracellular_calcium_concentration=1.1, v_init=-80.0, sonata_version=1, target_simulator='CORENEURON', timestep=0.025)), output_root='../obi_output/circuit_simulations/grid_scan')\n",
      "\n",
      "\n",
      "{'id_synapse_set_1': IDSynapseSet(circuit=Circuit(circuit_path='circuit_1', node_set='hex0'), synapse_ids=(1, 2, 3))}\n",
      "{'recording_1': IntracellularLocationSetVoltageRecording(start_time=0.0, end_time=1.0, recording_type='voltage', dt=0.1, intracellular_location_set=IntracellularLocationSet(neuron_ids=(1, 2, 3), section='soma'))}\n",
      "{'id_neuron_set_1': IDNeuronSet(circuit=Circuit(circuit_path='circuit_1', node_set='hex0'), neuron_ids=(1, 2, 3))}\n",
      "{'stimulus_1': SynchronousSingleSpikeStimulus(synapse_set=IDSynapseSet(circuit=Circuit(circuit_path='circuit_1', node_set='hex0'), synapse_ids=(1, 2, 3)), timestamps=RegularTimestamps(start_time=0.0, number_of_repetitions=1, interval=5.0), spike_probability=0.5)}\n",
      "{'timestamps_1': RegularTimestamps(start_time=0.0, number_of_repetitions=1, interval=5.0)}\n"
     ]
    },
    {
     "data": {
      "text/plain": [
       "'\\nStill to do:\\nMake function which automatically detects the type and creates the object\\n'"
      ]
     },
     "execution_count": 1,
     "metadata": {},
     "output_type": "execute_result"
    }
   ],
   "source": [
    "import obi\n",
    "import json\n",
    "\n",
    "with open(\"/Users/james/Documents/obi/code/obi_output/circuit_simulations/grid_scan/generate_scan_config.json\", \"r\") as file:\n",
    "    data = json.load(file)\n",
    "    grid_scan = obi.GridScan.model_validate(data)\n",
    "    print(grid_scan)\n",
    "\n",
    "print(\"\\n\")\n",
    "\n",
    "with open(\"/Users/james/Documents/obi/code/obi_output/circuit_simulations/grid_scan/5/generate_coordinate_instance.json\", \"r\") as file:\n",
    "    data = json.load(file)\n",
    "    simulation = obi.Simulation.model_validate(data)\n",
    "\n",
    "    print(simulation.synapse_sets)\n",
    "    print(simulation.recordings)\n",
    "    print(simulation.neuron_sets)\n",
    "    print(simulation.stimuli)\n",
    "    print(simulation.timestamps)\n",
    "\n",
    "\n",
    "\"\"\"\n",
    "Still to do:\n",
    "Make function which automatically detects the type and creates the object\n",
    "\"\"\"\n"
   ]
  },
  {
   "cell_type": "code",
   "execution_count": null,
   "metadata": {},
   "outputs": [],
   "source": []
  }
 ],
 "metadata": {
  "kernelspec": {
   "display_name": ".venv",
   "language": "python",
   "name": "python3"
  },
  "language_info": {
   "codemirror_mode": {
    "name": "ipython",
    "version": 3
   },
   "file_extension": ".py",
   "mimetype": "text/x-python",
   "name": "python",
   "nbconvert_exporter": "python",
   "pygments_lexer": "ipython3",
   "version": "3.11.11"
  }
 },
 "nbformat": 4,
 "nbformat_minor": 2
}
