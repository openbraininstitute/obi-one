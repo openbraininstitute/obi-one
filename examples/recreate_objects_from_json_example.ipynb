{
 "cells": [
  {
   "cell_type": "code",
   "execution_count": null,
   "metadata": {},
   "outputs": [],
   "source": [
    "import obi\n",
    "import json\n",
    "\n",
    "with open(\"/Users/james/Documents/obi/code/obi_output/circuit_simulations/grid_scan/generate_scan_config.json\", \"r\") as file:\n",
    "    data = json.load(file)\n",
    "    grid_scan = obi.GridScan.model_validate(data)\n",
    "    print(grid_scan)\n",
    "\n",
    "print(\"\\n\")\n",
    "\n",
    "with open(\"/Users/james/Documents/obi/code/obi_output/circuit_simulations/grid_scan/5/generate_coordinate_instance.json\", \"r\") as file:\n",
    "    data = json.load(file)\n",
    "    simulation = obi.Simulation.model_validate(data)\n",
    "\n",
    "    print(simulation.synapse_sets)\n",
    "    print(simulation.recordings)\n",
    "    print(simulation.neuron_sets)\n",
    "    print(simulation.stimuli)\n",
    "    print(simulation.timestamps)\n",
    "\n",
    "\n",
    "\"\"\"\n",
    "Still to do:\n",
    "Make function which automatically detects the type and creates the object\n",
    "\"\"\"\n"
   ]
  },
  {
   "cell_type": "code",
   "execution_count": null,
   "metadata": {},
   "outputs": [],
   "source": []
  }
 ],
 "metadata": {
  "kernelspec": {
   "display_name": ".venv",
   "language": "python",
   "name": "python3"
  },
  "language_info": {
   "codemirror_mode": {
    "name": "ipython",
    "version": 3
   },
   "file_extension": ".py",
   "mimetype": "text/x-python",
   "name": "python",
   "nbconvert_exporter": "python",
   "pygments_lexer": "ipython3",
   "version": "3.11.11"
  }
 },
 "nbformat": 4,
 "nbformat_minor": 2
}
