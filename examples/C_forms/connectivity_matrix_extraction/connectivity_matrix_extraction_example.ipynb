{
 "cells": [
  {
   "cell_type": "code",
   "execution_count": null,
   "metadata": {},
   "outputs": [],
   "source": [
    "import obi_one as obi\n",
    "\n",
    "circuit_path_prefix = \"/Users/james/Documents/obi/additional_data/ToyCircuit-S1-6k/\"\n",
    "# circuit_path_prefix = \"/Users/pokorny/Data/ToyCircuit-S1-6k/\"\n",
    "\n",
    "connectivity_matrix_extractions_form = obi.ConnectivityMatrixExtractions(\n",
    "                    initialize=obi.ConnectivityMatrixExtractions.Initialize(\n",
    "                        circuit_path=[obi.NamedPath(name=\"ToyCircuit-S1-6k\", path=circuit_path_prefix + \"circuit_config.json\"),\n",
    "                                      obi.NamedPath(name=\"ToyCircuit-S1-6k-Duplicate\", path=circuit_path_prefix + \"circuit_config.json\")],\n",
    "                        # edge_population=None,\n",
    "                        # node_attributes=None,\n",
    "                        node_attributes=(\"synapse_class\", \"layer\", \"mtype\", \"etype\", \"x\", \"y\", \"z\"),\n",
    "                    )\n",
    ")\n",
    "\n",
    "# grid_scan = obi.GridScan(form=connectivity_matrix_extractions_form, output_root='../../obi-output/connectivity_matrix_extraction/grid_scan')\n",
    "# grid_scan = obi.GridScan(form=connectivity_matrix_extractions_form, output_root='../../obi-output/connectivity_matrix_extraction/grid_scan', coordinate_directory_option=\"ZERO_INDEX\")\n",
    "grid_scan = obi.GridScan(form=connectivity_matrix_extractions_form, output_root=\"../../../../obi-output/connectivity_matrix_extraction/grid_scan\", coordinate_directory_option=\"VALUE\")\n"
   ]
  },
  {
   "cell_type": "code",
   "execution_count": 4,
   "metadata": {},
   "outputs": [
    {
     "name": "stdout",
     "output_type": "stream",
     "text": [
      "[2025-09-02 12:47:49,617] INFO: None\n",
      "[2025-09-02 12:47:49,619] INFO: create_bbp_workflow_campaign_config() not yet complete.\n",
      "[2025-09-02 12:47:49,621] INFO: Info: Running idx 0\n",
      "[2025-09-02 12:47:49,621] INFO: Info: Loading circuit 'ToyCircuit-S1-6k'\n",
      "[2025-09-02 12:47:49,624] INFO: Node properties to extract: ('synapse_class', 'layer', 'mtype', 'etype', 'x', 'y', 'z')\n",
      "[2025-09-02 12:47:49,624] INFO: Extracting connectivity from edge population 'default'\n"
     ]
    },
    {
     "name": "stderr",
     "output_type": "stream",
     "text": [
      "100%|██████████| 5924/5924 [00:02<00:00, 2239.53it/s]\n"
     ]
    },
    {
     "name": "stdout",
     "output_type": "stream",
     "text": [
      "[2025-09-02 12:47:55,205] INFO: Connectivity matrix successfully written to '../../../obi-output/connectivity_matrix_extraction/grid_scan/ToyCircuit-S1-6k/connectivity_matrix.h5'\n",
      "[2025-09-02 12:47:55,206] INFO: Info: Running idx 1\n",
      "[2025-09-02 12:47:55,206] INFO: Info: Loading circuit 'ToyCircuit-S1-6k-Duplicate'\n",
      "[2025-09-02 12:47:55,208] INFO: Node properties to extract: ('synapse_class', 'layer', 'mtype', 'etype', 'x', 'y', 'z')\n",
      "[2025-09-02 12:47:55,208] INFO: Extracting connectivity from edge population 'default'\n"
     ]
    },
    {
     "name": "stderr",
     "output_type": "stream",
     "text": [
      "100%|██████████| 5924/5924 [00:02<00:00, 2282.91it/s]\n"
     ]
    },
    {
     "name": "stdout",
     "output_type": "stream",
     "text": [
      "[2025-09-02 12:47:57,838] INFO: Connectivity matrix successfully written to '../../../obi-output/connectivity_matrix_extraction/grid_scan/ToyCircuit-S1-6k-Duplicate/connectivity_matrix.h5'\n"
     ]
    }
   ],
   "source": [
    "grid_scan.execute(processing_method=\"run\")"
   ]
  },
  {
   "cell_type": "code",
   "execution_count": 5,
   "metadata": {},
   "outputs": [
    {
     "name": "stdout",
     "output_type": "stream",
     "text": [
      "[2025-09-02 12:47:59,702] INFO: \n",
      "MULTIPLE VALUE PARAMETERS\n",
      "[2025-09-02 12:47:59,703] INFO: initialize.circuit_path: [ToyCircuit-S1-6k, ToyCircuit-S1-6k-Duplicate]\n",
      "[2025-09-02 12:47:59,703] INFO: \n",
      "COORDINATE PARAMETERS\n",
      "[2025-09-02 12:47:59,704] INFO: initialize.circuit_path: ToyCircuit-S1-6k\n",
      "[2025-09-02 12:47:59,704] INFO: initialize.circuit_path: ToyCircuit-S1-6k-Duplicate\n",
      "[2025-09-02 12:47:59,705] INFO: \n",
      "COORDINATE INSTANCES\n",
      "[2025-09-02 12:47:59,705] INFO: ConnectivityMatrixExtraction(idx=0, scan_output_root=PosixPath('.'), coordinate_output_root=PosixPath('.'), single_coordinate_scan_params=SingleCoordinateScanParams(scan_params=[SingleValueScanParam(location_list=['initialize', 'circuit_path'], type='SingleValueScanParam', value=ToyCircuit-S1-6k)], nested_coordinate_subpath_str=PosixPath('.'), type='SingleCoordinateScanParams'), type='ConnectivityMatrixExtraction', initialize=Initialize(type='ConnectivityMatrixExtractions.Initialize', circuit_path=ToyCircuit-S1-6k, edge_population=None, node_attributes=('synapse_class', 'layer', 'mtype', 'etype', 'x', 'y', 'z')))\n",
      "[2025-09-02 12:47:59,705] INFO: ConnectivityMatrixExtraction(idx=1, scan_output_root=PosixPath('.'), coordinate_output_root=PosixPath('.'), single_coordinate_scan_params=SingleCoordinateScanParams(scan_params=[SingleValueScanParam(location_list=['initialize', 'circuit_path'], type='SingleValueScanParam', value=ToyCircuit-S1-6k-Duplicate)], nested_coordinate_subpath_str=PosixPath('.'), type='SingleCoordinateScanParams'), type='ConnectivityMatrixExtraction', initialize=Initialize(type='ConnectivityMatrixExtractions.Initialize', circuit_path=ToyCircuit-S1-6k-Duplicate, edge_population=None, node_attributes=('synapse_class', 'layer', 'mtype', 'etype', 'x', 'y', 'z')))\n"
     ]
    },
    {
     "data": {
      "text/plain": [
       "[ConnectivityMatrixExtraction(idx=0, scan_output_root=PosixPath('.'), coordinate_output_root=PosixPath('.'), single_coordinate_scan_params=SingleCoordinateScanParams(scan_params=[SingleValueScanParam(location_list=['initialize', 'circuit_path'], type='SingleValueScanParam', value=ToyCircuit-S1-6k)], nested_coordinate_subpath_str=PosixPath('.'), type='SingleCoordinateScanParams'), type='ConnectivityMatrixExtraction', initialize=Initialize(type='ConnectivityMatrixExtractions.Initialize', circuit_path=ToyCircuit-S1-6k, edge_population=None, node_attributes=('synapse_class', 'layer', 'mtype', 'etype', 'x', 'y', 'z'))),\n",
       " ConnectivityMatrixExtraction(idx=1, scan_output_root=PosixPath('.'), coordinate_output_root=PosixPath('.'), single_coordinate_scan_params=SingleCoordinateScanParams(scan_params=[SingleValueScanParam(location_list=['initialize', 'circuit_path'], type='SingleValueScanParam', value=ToyCircuit-S1-6k-Duplicate)], nested_coordinate_subpath_str=PosixPath('.'), type='SingleCoordinateScanParams'), type='ConnectivityMatrixExtraction', initialize=Initialize(type='ConnectivityMatrixExtractions.Initialize', circuit_path=ToyCircuit-S1-6k-Duplicate, edge_population=None, node_attributes=('synapse_class', 'layer', 'mtype', 'etype', 'x', 'y', 'z')))]"
      ]
     },
     "execution_count": 5,
     "metadata": {},
     "output_type": "execute_result"
    }
   ],
   "source": [
    "# Display the intermediary data\n",
    "grid_scan.multiple_value_parameters(display=True)\n",
    "grid_scan.coordinate_parameters(display=True)\n",
    "grid_scan.coordinate_instances(display=True)"
   ]
  },
  {
   "cell_type": "code",
   "execution_count": null,
   "metadata": {},
   "outputs": [],
   "source": [
    "# Deserialize\n",
    "grid_scan_ds = obi.deserialize_obi_object_from_json_file(\"./obi-output/connectivity_matrix_extraction/grid_scan/run_scan_config.json\")"
   ]
  },
  {
   "cell_type": "code",
   "execution_count": null,
   "metadata": {},
   "outputs": [],
   "source": [
    "grid_coord_ds_single = obi.deserialize_obi_object_from_json_file(\"./obi-output/connectivity_matrix_extraction/grid_scan/ToyCircuit-S1-6k/run_coordinate_instance.json\")"
   ]
  },
  {
   "cell_type": "code",
   "execution_count": null,
   "metadata": {},
   "outputs": [],
   "source": []
  }
 ],
 "metadata": {
  "kernelspec": {
   "display_name": "obi-one (3.12.9)",
   "language": "python",
   "name": "python3"
  },
  "language_info": {
   "codemirror_mode": {
    "name": "ipython",
    "version": 3
   },
   "file_extension": ".py",
   "mimetype": "text/x-python",
   "name": "python",
   "nbconvert_exporter": "python",
   "pygments_lexer": "ipython3",
   "version": "3.12.9"
  }
 },
 "nbformat": 4,
 "nbformat_minor": 4
}
