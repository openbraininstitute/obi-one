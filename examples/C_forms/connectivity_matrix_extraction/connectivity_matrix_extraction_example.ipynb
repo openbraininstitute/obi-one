{
 "cells": [
  {
   "cell_type": "markdown",
   "metadata": {},
   "source": [
    "# Connectivity matrix extraction example"
   ]
  },
  {
   "cell_type": "code",
   "execution_count": null,
   "metadata": {},
   "outputs": [],
   "source": [
    "import obi_one as obi\n",
    "from pathlib import Path"
   ]
  },
  {
   "cell_type": "code",
   "execution_count": null,
   "metadata": {},
   "outputs": [],
   "source": [
    "input_root = Path(\"../../data/tiny_circuits\")\n",
    "output_root = Path(\"../../../../obi-output/connectivity_matrix_extraction\")"
   ]
  },
  {
   "cell_type": "markdown",
   "metadata": {},
   "source": [
    "### Run connectivity matrix extraction"
   ]
  },
  {
   "cell_type": "code",
   "execution_count": null,
   "metadata": {},
   "outputs": [],
   "source": [
    "connectivity_matrix_extractions_scan_config = obi.ConnectivityMatrixExtractionScanConfig(\n",
    "                    initialize=obi.ConnectivityMatrixExtractionScanConfig.Initialize(\n",
    "                        circuit=[obi.Circuit(name=\"N_10__top_nodes_dim6\", path=str(input_root / \"N_10__top_nodes_dim6\" / \"circuit_config.json\")),\n",
    "                                 obi.Circuit(name=\"N_10__top_rc_nodes_dim2_rc\", path=str(input_root / \"N_10__top_rc_nodes_dim2_rc\" / \"circuit_config.json\"))],\n",
    "                        edge_population=\"S1nonbarrel_neurons__S1nonbarrel_neurons__chemical\",\n",
    "                        # node_attributes=None,\n",
    "                        node_attributes=(\"synapse_class\", \"layer\", \"mtype\", \"etype\", \"x\", \"y\", \"z\"),\n",
    "                    )\n",
    ")\n",
    "\n",
    "grid_scan = obi.GridScan(form=connectivity_matrix_extractions_scan_config, output_root=str(output_root), coordinate_directory_option=\"VALUE\")"
   ]
  },
  {
   "cell_type": "code",
   "execution_count": null,
   "metadata": {},
   "outputs": [],
   "source": [
    "grid_scan.execute()\n",
    "obi.run_task_for_single_configs_of_generated_scan(grid_scan)"
   ]
  },
  {
   "cell_type": "code",
   "execution_count": null,
   "metadata": {},
   "outputs": [],
   "source": [
    "# Display the intermediary data\n",
    "grid_scan.multiple_value_parameters(display=True)\n",
    "grid_scan.coordinate_parameters(display=True)\n",
    "# grid_scan.coordinate_instances(display=True)"
   ]
  },
  {
   "cell_type": "markdown",
   "metadata": {},
   "source": [
    "### Check & plot extracted connectivity matrices"
   ]
  },
  {
   "cell_type": "code",
   "execution_count": null,
   "metadata": {},
   "outputs": [],
   "source": [
    "# Check matrices\n",
    "from conntility.connectivity import ConnectivityMatrix\n",
    "import matplotlib.pyplot as plt\n",
    "\n",
    "for circuit in connectivity_matrix_extractions_scan_config.initialize.circuit:\n",
    "    cmat = ConnectivityMatrix.from_h5(output_root / circuit.name / \"connectivity_matrix.h5\")\n",
    "    print(f\"Connectivity matrix extracted from '{circuit.name}': {cmat.vertices.shape[0]} neurons, {cmat.matrix.size} connections, {cmat.matrix.sum()} synapses\")\n",
    "\n",
    "    plt.figure(figsize=(4, 3))\n",
    "    plt.imshow(cmat.dense_matrix, interpolation=\"nearest\")\n",
    "    plt.xlabel(\"Post-synaptic neurons\")\n",
    "    plt.ylabel(\"Pre-synaptic neurons\")\n",
    "    plt.title(circuit.name, fontweight=\"bold\")\n",
    "    plt.colorbar(label=\"#Synapses\")\n",
    "    plt.tight_layout()\n",
    "    plt.show()"
   ]
  }
 ],
 "metadata": {
  "kernelspec": {
   "display_name": "obi-one (3.12.9)",
   "language": "python",
   "name": "python3"
  },
  "language_info": {
   "codemirror_mode": {
    "name": "ipython",
    "version": 3
   },
   "file_extension": ".py",
   "mimetype": "text/x-python",
   "name": "python",
   "nbconvert_exporter": "python",
   "pygments_lexer": "ipython3",
   "version": "3.12.9"
  }
 },
 "nbformat": 4,
 "nbformat_minor": 4
}
