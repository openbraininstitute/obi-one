{
 "cells": [
  {
   "cell_type": "code",
   "execution_count": 1,
   "metadata": {},
   "outputs": [
    {
     "name": "stderr",
     "output_type": "stream",
     "text": [
      "/Users/james/Documents/obi/code/obi-one/.venv/lib/python3.12/site-packages/pydantic/_internal/_fields.py:198: UserWarning: Field name \"name\" in \"Publication\" shadows an attribute in parent \"Block\"\n",
      "  warnings.warn(\n",
      "/Users/james/Documents/obi/code/obi-one/.venv/lib/python3.12/site-packages/pydantic/_internal/_fields.py:198: UserWarning: Field name \"name\" in \"ReconstructionMorphology\" shadows an attribute in parent \"Block\"\n",
      "  warnings.warn(\n",
      "/Users/james/Documents/obi/code/obi-one/.venv/lib/python3.12/site-packages/pydantic/_internal/_fields.py:198: UserWarning: Field name \"name\" in \"Subject\" shadows an attribute in parent \"Block\"\n",
      "  warnings.warn(\n"
     ]
    }
   ],
   "source": [
    "import obi_one as obi\n",
    "import os"
   ]
  },
  {
   "cell_type": "code",
   "execution_count": 2,
   "metadata": {},
   "outputs": [],
   "source": [
    "# input_root = \"/Users/pokorny/Data/Circuits\"\n",
    "input_root = \"/Users/james/Documents/obi/additional_data\"\n",
    "output_root = \"../../../../../obi-output/extracted_subcircuits\""
   ]
  },
  {
   "cell_type": "code",
   "execution_count": 3,
   "metadata": {},
   "outputs": [],
   "source": [
    "circuit_extractions_form = obi.CircuitExtractions(\n",
    "                    initialize=obi.CircuitExtractions.Initialize(\n",
    "                        circuit=obi.Circuit(name=\"ToyCircuit-S1-6k\", path=os.path.join(input_root, \"ToyCircuit-S1-6k\", \"circuit_config.json\")),\n",
    "                        run_validation=False,\n",
    "                    ),\n",
    "                    neuron_set=obi.PredefinedNeuronSet(node_set=[\"Excitatory\", \"Inhibitory\"], sample_percentage=[50, 100]),\n",
    ")\n",
    "\n",
    "grid_scan = obi.GridScan(form=circuit_extractions_form, output_root='../../obi-output/circuit_extraction/grid_scan')"
   ]
  },
  {
   "cell_type": "code",
   "execution_count": 4,
   "metadata": {},
   "outputs": [
    {
     "name": "stdout",
     "output_type": "stream",
     "text": [
      "[2025-09-02 09:34:34,804] INFO: \n",
      "MULTIPLE VALUE PARAMETERS\n",
      "[2025-09-02 09:34:34,804] INFO: neuron_set.sample_percentage: [50.0, 100.0]\n",
      "[2025-09-02 09:34:34,805] INFO: neuron_set.node_set: ['Excitatory', 'Inhibitory']\n",
      "[2025-09-02 09:34:34,805] INFO: \n",
      "COORDINATE PARAMETERS\n",
      "[2025-09-02 09:34:34,805] INFO: neuron_set.sample_percentage: 50.0, neuron_set.node_set: Excitatory\n",
      "[2025-09-02 09:34:34,805] INFO: neuron_set.sample_percentage: 50.0, neuron_set.node_set: Inhibitory\n",
      "[2025-09-02 09:34:34,806] INFO: neuron_set.sample_percentage: 100.0, neuron_set.node_set: Excitatory\n",
      "[2025-09-02 09:34:34,806] INFO: neuron_set.sample_percentage: 100.0, neuron_set.node_set: Inhibitory\n",
      "[2025-09-02 09:34:34,806] INFO: \n",
      "COORDINATE INSTANCES\n",
      "[2025-09-02 09:34:34,806] INFO: CircuitExtraction(idx=0, scan_output_root=PosixPath('.'), coordinate_output_root=PosixPath('.'), single_coordinate_scan_params=SingleCoordinateScanParams(scan_params=[SingleValueScanParam(location_list=['neuron_set', 'sample_percentage'], type='SingleValueScanParam', value=50.0), SingleValueScanParam(location_list=['neuron_set', 'node_set'], type='SingleValueScanParam', value='Excitatory')], nested_coordinate_subpath_str=PosixPath('.'), type='SingleCoordinateScanParams'), type='CircuitExtraction', initialize=Initialize(type='CircuitExtractions.Initialize', circuit=Circuit(name='ToyCircuit-S1-6k', path='/Users/james/Documents/obi/additional_data/ToyCircuit-S1-6k/circuit_config.json', matrix_path=None, type='Circuit'), run_validation=False, do_virtual=True, create_external=True, virtual_sources_to_ignore=()), neuron_set=PredefinedNeuronSet(type='PredefinedNeuronSet', sample_percentage=50.0, sample_seed=1, node_population=None, node_set='Excitatory'))\n",
      "[2025-09-02 09:34:34,807] INFO: CircuitExtraction(idx=1, scan_output_root=PosixPath('.'), coordinate_output_root=PosixPath('.'), single_coordinate_scan_params=SingleCoordinateScanParams(scan_params=[SingleValueScanParam(location_list=['neuron_set', 'sample_percentage'], type='SingleValueScanParam', value=50.0), SingleValueScanParam(location_list=['neuron_set', 'node_set'], type='SingleValueScanParam', value='Inhibitory')], nested_coordinate_subpath_str=PosixPath('.'), type='SingleCoordinateScanParams'), type='CircuitExtraction', initialize=Initialize(type='CircuitExtractions.Initialize', circuit=Circuit(name='ToyCircuit-S1-6k', path='/Users/james/Documents/obi/additional_data/ToyCircuit-S1-6k/circuit_config.json', matrix_path=None, type='Circuit'), run_validation=False, do_virtual=True, create_external=True, virtual_sources_to_ignore=()), neuron_set=PredefinedNeuronSet(type='PredefinedNeuronSet', sample_percentage=50.0, sample_seed=1, node_population=None, node_set='Inhibitory'))\n",
      "[2025-09-02 09:34:34,807] INFO: CircuitExtraction(idx=2, scan_output_root=PosixPath('.'), coordinate_output_root=PosixPath('.'), single_coordinate_scan_params=SingleCoordinateScanParams(scan_params=[SingleValueScanParam(location_list=['neuron_set', 'sample_percentage'], type='SingleValueScanParam', value=100.0), SingleValueScanParam(location_list=['neuron_set', 'node_set'], type='SingleValueScanParam', value='Excitatory')], nested_coordinate_subpath_str=PosixPath('.'), type='SingleCoordinateScanParams'), type='CircuitExtraction', initialize=Initialize(type='CircuitExtractions.Initialize', circuit=Circuit(name='ToyCircuit-S1-6k', path='/Users/james/Documents/obi/additional_data/ToyCircuit-S1-6k/circuit_config.json', matrix_path=None, type='Circuit'), run_validation=False, do_virtual=True, create_external=True, virtual_sources_to_ignore=()), neuron_set=PredefinedNeuronSet(type='PredefinedNeuronSet', sample_percentage=100.0, sample_seed=1, node_population=None, node_set='Excitatory'))\n",
      "[2025-09-02 09:34:34,807] INFO: CircuitExtraction(idx=3, scan_output_root=PosixPath('.'), coordinate_output_root=PosixPath('.'), single_coordinate_scan_params=SingleCoordinateScanParams(scan_params=[SingleValueScanParam(location_list=['neuron_set', 'sample_percentage'], type='SingleValueScanParam', value=100.0), SingleValueScanParam(location_list=['neuron_set', 'node_set'], type='SingleValueScanParam', value='Inhibitory')], nested_coordinate_subpath_str=PosixPath('.'), type='SingleCoordinateScanParams'), type='CircuitExtraction', initialize=Initialize(type='CircuitExtractions.Initialize', circuit=Circuit(name='ToyCircuit-S1-6k', path='/Users/james/Documents/obi/additional_data/ToyCircuit-S1-6k/circuit_config.json', matrix_path=None, type='Circuit'), run_validation=False, do_virtual=True, create_external=True, virtual_sources_to_ignore=()), neuron_set=PredefinedNeuronSet(type='PredefinedNeuronSet', sample_percentage=100.0, sample_seed=1, node_population=None, node_set='Inhibitory'))\n"
     ]
    },
    {
     "data": {
      "text/plain": [
       "[CircuitExtraction(idx=0, scan_output_root=PosixPath('.'), coordinate_output_root=PosixPath('.'), single_coordinate_scan_params=SingleCoordinateScanParams(scan_params=[SingleValueScanParam(location_list=['neuron_set', 'sample_percentage'], type='SingleValueScanParam', value=50.0), SingleValueScanParam(location_list=['neuron_set', 'node_set'], type='SingleValueScanParam', value='Excitatory')], nested_coordinate_subpath_str=PosixPath('.'), type='SingleCoordinateScanParams'), type='CircuitExtraction', initialize=Initialize(type='CircuitExtractions.Initialize', circuit=Circuit(name='ToyCircuit-S1-6k', path='/Users/james/Documents/obi/additional_data/ToyCircuit-S1-6k/circuit_config.json', matrix_path=None, type='Circuit'), run_validation=False, do_virtual=True, create_external=True, virtual_sources_to_ignore=()), neuron_set=PredefinedNeuronSet(type='PredefinedNeuronSet', sample_percentage=50.0, sample_seed=1, node_population=None, node_set='Excitatory')),\n",
       " CircuitExtraction(idx=1, scan_output_root=PosixPath('.'), coordinate_output_root=PosixPath('.'), single_coordinate_scan_params=SingleCoordinateScanParams(scan_params=[SingleValueScanParam(location_list=['neuron_set', 'sample_percentage'], type='SingleValueScanParam', value=50.0), SingleValueScanParam(location_list=['neuron_set', 'node_set'], type='SingleValueScanParam', value='Inhibitory')], nested_coordinate_subpath_str=PosixPath('.'), type='SingleCoordinateScanParams'), type='CircuitExtraction', initialize=Initialize(type='CircuitExtractions.Initialize', circuit=Circuit(name='ToyCircuit-S1-6k', path='/Users/james/Documents/obi/additional_data/ToyCircuit-S1-6k/circuit_config.json', matrix_path=None, type='Circuit'), run_validation=False, do_virtual=True, create_external=True, virtual_sources_to_ignore=()), neuron_set=PredefinedNeuronSet(type='PredefinedNeuronSet', sample_percentage=50.0, sample_seed=1, node_population=None, node_set='Inhibitory')),\n",
       " CircuitExtraction(idx=2, scan_output_root=PosixPath('.'), coordinate_output_root=PosixPath('.'), single_coordinate_scan_params=SingleCoordinateScanParams(scan_params=[SingleValueScanParam(location_list=['neuron_set', 'sample_percentage'], type='SingleValueScanParam', value=100.0), SingleValueScanParam(location_list=['neuron_set', 'node_set'], type='SingleValueScanParam', value='Excitatory')], nested_coordinate_subpath_str=PosixPath('.'), type='SingleCoordinateScanParams'), type='CircuitExtraction', initialize=Initialize(type='CircuitExtractions.Initialize', circuit=Circuit(name='ToyCircuit-S1-6k', path='/Users/james/Documents/obi/additional_data/ToyCircuit-S1-6k/circuit_config.json', matrix_path=None, type='Circuit'), run_validation=False, do_virtual=True, create_external=True, virtual_sources_to_ignore=()), neuron_set=PredefinedNeuronSet(type='PredefinedNeuronSet', sample_percentage=100.0, sample_seed=1, node_population=None, node_set='Excitatory')),\n",
       " CircuitExtraction(idx=3, scan_output_root=PosixPath('.'), coordinate_output_root=PosixPath('.'), single_coordinate_scan_params=SingleCoordinateScanParams(scan_params=[SingleValueScanParam(location_list=['neuron_set', 'sample_percentage'], type='SingleValueScanParam', value=100.0), SingleValueScanParam(location_list=['neuron_set', 'node_set'], type='SingleValueScanParam', value='Inhibitory')], nested_coordinate_subpath_str=PosixPath('.'), type='SingleCoordinateScanParams'), type='CircuitExtraction', initialize=Initialize(type='CircuitExtractions.Initialize', circuit=Circuit(name='ToyCircuit-S1-6k', path='/Users/james/Documents/obi/additional_data/ToyCircuit-S1-6k/circuit_config.json', matrix_path=None, type='Circuit'), run_validation=False, do_virtual=True, create_external=True, virtual_sources_to_ignore=()), neuron_set=PredefinedNeuronSet(type='PredefinedNeuronSet', sample_percentage=100.0, sample_seed=1, node_population=None, node_set='Inhibitory'))]"
      ]
     },
     "execution_count": 4,
     "metadata": {},
     "output_type": "execute_result"
    }
   ],
   "source": [
    "# Display the intermediary data\n",
    "grid_scan.multiple_value_parameters(display=True)\n",
    "grid_scan.coordinate_parameters(display=True)\n",
    "grid_scan.coordinate_instances(display=True)"
   ]
  },
  {
   "cell_type": "code",
   "execution_count": 5,
   "metadata": {},
   "outputs": [
    {
     "name": "stdout",
     "output_type": "stream",
     "text": [
      "[2025-09-02 09:34:34,811] INFO: None\n",
      "[2025-09-02 09:34:34,813] INFO: create_bbp_workflow_campaign_config() not yet complete.\n",
      "[2025-09-02 09:34:34,820] INFO: Extracting subcircuit from 'ToyCircuit-S1-6k'\n"
     ]
    },
    {
     "ename": "ValueError",
     "evalue": "Unable to synchronously create group (name already exists)",
     "output_type": "error",
     "traceback": [
      "\u001b[31m---------------------------------------------------------------------------\u001b[39m",
      "\u001b[31mValueError\u001b[39m                                Traceback (most recent call last)",
      "\u001b[36mCell\u001b[39m\u001b[36m \u001b[39m\u001b[32mIn[5]\u001b[39m\u001b[32m, line 1\u001b[39m\n\u001b[32m----> \u001b[39m\u001b[32m1\u001b[39m \u001b[43mgrid_scan\u001b[49m\u001b[43m.\u001b[49m\u001b[43mexecute\u001b[49m\u001b[43m(\u001b[49m\u001b[43mprocessing_method\u001b[49m\u001b[43m=\u001b[49m\u001b[33;43m'\u001b[39;49m\u001b[33;43mrun\u001b[39;49m\u001b[33;43m'\u001b[39;49m\u001b[43m)\u001b[49m\n",
      "\u001b[36mFile \u001b[39m\u001b[32m~/Documents/obi/code/obi-one/obi_one/core/scan.py:219\u001b[39m, in \u001b[36mScan.execute\u001b[39m\u001b[34m(self, processing_method, data_postprocessing_method, db_client)\u001b[39m\n\u001b[32m    214\u001b[39m coordinate_instance.serialize(\n\u001b[32m    215\u001b[39m     coordinate_instance.coordinate_output_root / \u001b[33m\"\u001b[39m\u001b[33mrun_coordinate_instance.json\u001b[39m\u001b[33m\"\u001b[39m\n\u001b[32m    216\u001b[39m )\n\u001b[32m    218\u001b[39m \u001b[38;5;66;03m# Call the coordinate_instance's processing_method (i.e. run, generate)\u001b[39;00m\n\u001b[32m--> \u001b[39m\u001b[32m219\u001b[39m return_dict[coordinate_instance.idx] = \u001b[38;5;28;43mgetattr\u001b[39;49m\u001b[43m(\u001b[49m\n\u001b[32m    220\u001b[39m \u001b[43m    \u001b[49m\u001b[43mcoordinate_instance\u001b[49m\u001b[43m,\u001b[49m\u001b[43m \u001b[49m\u001b[43mprocessing_method\u001b[49m\n\u001b[32m    221\u001b[39m \u001b[43m\u001b[49m\u001b[43m)\u001b[49m\u001b[43m(\u001b[49m\u001b[43mdb_client\u001b[49m\u001b[43m)\u001b[49m\n\u001b[32m    223\u001b[39m \u001b[38;5;66;03m# If a data_postprocessing_method is specified, call it\u001b[39;00m\n\u001b[32m    224\u001b[39m \u001b[38;5;28;01mif\u001b[39;00m data_postprocessing_method:\n",
      "\u001b[36mFile \u001b[39m\u001b[32m~/Documents/obi/code/obi-one/obi_one/scientific/circuit_extraction/circuit_extraction.py:234\u001b[39m, in \u001b[36mCircuitExtraction.run\u001b[39m\u001b[34m(self, db_client)\u001b[39m\n\u001b[32m    232\u001b[39m \u001b[38;5;66;03m# Create subcircuit using \"brainbuilder\"\u001b[39;00m\n\u001b[32m    233\u001b[39m L.info(\u001b[33mf\u001b[39m\u001b[33m\"\u001b[39m\u001b[33mExtracting subcircuit from \u001b[39m\u001b[33m'\u001b[39m\u001b[38;5;132;01m{\u001b[39;00m\u001b[38;5;28mself\u001b[39m.initialize.circuit.name\u001b[38;5;132;01m}\u001b[39;00m\u001b[33m'\u001b[39m\u001b[33m\"\u001b[39m)\n\u001b[32m--> \u001b[39m\u001b[32m234\u001b[39m \u001b[43msplit_population\u001b[49m\u001b[43m.\u001b[49m\u001b[43msplit_subcircuit\u001b[49m\u001b[43m(\u001b[49m\n\u001b[32m    235\u001b[39m \u001b[43m    \u001b[49m\u001b[38;5;28;43mself\u001b[39;49m\u001b[43m.\u001b[49m\u001b[43mcoordinate_output_root\u001b[49m\u001b[43m,\u001b[49m\n\u001b[32m    236\u001b[39m \u001b[43m    \u001b[49m\u001b[43mnset_name\u001b[49m\u001b[43m,\u001b[49m\n\u001b[32m    237\u001b[39m \u001b[43m    \u001b[49m\u001b[43msonata_circuit\u001b[49m\u001b[43m,\u001b[49m\n\u001b[32m    238\u001b[39m \u001b[43m    \u001b[49m\u001b[38;5;28;43mself\u001b[39;49m\u001b[43m.\u001b[49m\u001b[43minitialize\u001b[49m\u001b[43m.\u001b[49m\u001b[43mdo_virtual\u001b[49m\u001b[43m,\u001b[49m\n\u001b[32m    239\u001b[39m \u001b[43m    \u001b[49m\u001b[38;5;28;43mself\u001b[39;49m\u001b[43m.\u001b[49m\u001b[43minitialize\u001b[49m\u001b[43m.\u001b[49m\u001b[43mcreate_external\u001b[49m\u001b[43m,\u001b[49m\n\u001b[32m    240\u001b[39m \u001b[43m    \u001b[49m\u001b[38;5;28;43mself\u001b[39;49m\u001b[43m.\u001b[49m\u001b[43minitialize\u001b[49m\u001b[43m.\u001b[49m\u001b[43mvirtual_sources_to_ignore\u001b[49m\u001b[43m,\u001b[49m\n\u001b[32m    241\u001b[39m \u001b[43m\u001b[49m\u001b[43m)\u001b[49m\n\u001b[32m    243\u001b[39m \u001b[38;5;66;03m# Custom edit of the circuit config so that all paths are relative to the new base directory\u001b[39;00m\n\u001b[32m    244\u001b[39m \u001b[38;5;66;03m# (in case there were absolute paths in the original config)\u001b[39;00m\n\u001b[32m    246\u001b[39m old_base = os.path.split(\u001b[38;5;28mself\u001b[39m.initialize.circuit.path)[\u001b[32m0\u001b[39m]\n",
      "\u001b[36mFile \u001b[39m\u001b[32m~/Documents/obi/code/obi-one/.venv/lib/python3.12/site-packages/brainbuilder/utils/sonata/split_population.py:1031\u001b[39m, in \u001b[36msplit_subcircuit\u001b[39m\u001b[34m(output, node_set_name, circuit, do_virtual, create_external, list_of_virtual_sources_to_ignore)\u001b[39m\n\u001b[32m   1025\u001b[39m node_pop_name_mapping = {pop_name: pop_name \u001b[38;5;28;01mfor\u001b[39;00m pop_name \u001b[38;5;129;01min\u001b[39;00m split_populations.keys()}\n\u001b[32m   1027\u001b[39m \u001b[38;5;66;03m# TODO: should function `_write_subcircuit_biological`,\u001b[39;00m\n\u001b[32m   1028\u001b[39m \u001b[38;5;66;03m# `_write_subcircuit_external`, `_write_subcircuit_virtual`\u001b[39;00m\n\u001b[32m   1029\u001b[39m \u001b[38;5;66;03m# handle node updates and config updates?\u001b[39;00m\n\u001b[32m-> \u001b[39m\u001b[32m1031\u001b[39m new_node_files, new_edge_files = \u001b[43m_write_subcircuit_biological\u001b[49m\u001b[43m(\u001b[49m\n\u001b[32m   1032\u001b[39m \u001b[43m    \u001b[49m\u001b[43moutput\u001b[49m\u001b[43m,\u001b[49m\u001b[43m \u001b[49m\u001b[43mcircuit\u001b[49m\u001b[43m,\u001b[49m\u001b[43m \u001b[49m\u001b[43mnode_pop_to_paths\u001b[49m\u001b[43m,\u001b[49m\u001b[43m \u001b[49m\u001b[43medge_pop_to_paths\u001b[49m\u001b[43m,\u001b[49m\u001b[43m \u001b[49m\u001b[43msplit_populations\u001b[49m\u001b[43m,\u001b[49m\u001b[43m \u001b[49m\u001b[43mid_mapping\u001b[49m\n\u001b[32m   1033\u001b[39m \u001b[43m\u001b[49m\u001b[43m)\u001b[49m\n\u001b[32m   1035\u001b[39m \u001b[38;5;28;01mif\u001b[39;00m do_virtual:\n\u001b[32m   1036\u001b[39m     new_virtual_node_files, new_virtual_edge_files = _write_subcircuit_virtual(\n\u001b[32m   1037\u001b[39m         output,\n\u001b[32m   1038\u001b[39m         circuit,\n\u001b[32m   (...)\u001b[39m\u001b[32m   1042\u001b[39m         list_of_virtual_sources_to_ignore,\n\u001b[32m   1043\u001b[39m     )\n",
      "\u001b[36mFile \u001b[39m\u001b[32m~/Documents/obi/code/obi-one/.venv/lib/python3.12/site-packages/brainbuilder/utils/sonata/split_population.py:570\u001b[39m, in \u001b[36m_write_subcircuit_biological\u001b[39m\u001b[34m(output, circuit, node_pop_to_paths, edge_pop_to_paths, split_populations, id_mapping)\u001b[39m\n\u001b[32m    550\u001b[39m \u001b[38;5;28;01mdef\u001b[39;00m\u001b[38;5;250m \u001b[39m\u001b[34m_write_subcircuit_biological\u001b[39m(\n\u001b[32m    551\u001b[39m     output,\n\u001b[32m    552\u001b[39m     circuit,\n\u001b[32m   (...)\u001b[39m\u001b[32m    556\u001b[39m     id_mapping,\n\u001b[32m    557\u001b[39m ):\n\u001b[32m    558\u001b[39m \u001b[38;5;250m    \u001b[39m\u001b[33;03m\"\"\"write node and edge population that belong in a subcircuit\u001b[39;00m\n\u001b[32m    559\u001b[39m \n\u001b[32m    560\u001b[39m \u001b[33;03m    Args:\u001b[39;00m\n\u001b[32m   (...)\u001b[39m\u001b[32m    568\u001b[39m \u001b[33;03m    returns `new_node_files`, `new_edges_files`: the paths to node & edges files that were created\u001b[39;00m\n\u001b[32m    569\u001b[39m \u001b[33;03m    \"\"\"\u001b[39;00m\n\u001b[32m--> \u001b[39m\u001b[32m570\u001b[39m     new_node_files = \u001b[43m_write_nodes\u001b[49m\u001b[43m(\u001b[49m\u001b[43moutput\u001b[49m\u001b[43m,\u001b[49m\u001b[43m \u001b[49m\u001b[43msplit_populations\u001b[49m\u001b[43m,\u001b[49m\u001b[43m \u001b[49m\u001b[43mnode_pop_to_paths\u001b[49m\u001b[43m)\u001b[49m\n\u001b[32m    572\u001b[39m     new_edges_files = {}\n\u001b[32m    573\u001b[39m     \u001b[38;5;28;01mfor\u001b[39;00m edge_pop_name, edge \u001b[38;5;129;01min\u001b[39;00m circuit.edges.items():\n",
      "\u001b[36mFile \u001b[39m\u001b[32m~/Documents/obi/code/obi-one/.venv/lib/python3.12/site-packages/brainbuilder/utils/sonata/split_population.py:336\u001b[39m, in \u001b[36m_write_nodes\u001b[39m\u001b[34m(output, split_nodes, population_to_path)\u001b[39m\n\u001b[32m    334\u001b[39m     nodes_path = os.path.join(output, nodes_path)\n\u001b[32m    335\u001b[39m     Path(nodes_path).parent.mkdir(parents=\u001b[38;5;28;01mTrue\u001b[39;00m, exist_ok=\u001b[38;5;28;01mTrue\u001b[39;00m)\n\u001b[32m--> \u001b[39m\u001b[32m336\u001b[39m     ret[new_population] = \u001b[43m_save_sonata_nodes\u001b[49m\u001b[43m(\u001b[49m\u001b[43mnodes_path\u001b[49m\u001b[43m,\u001b[49m\u001b[43m \u001b[49m\u001b[43mdf\u001b[49m\u001b[43m,\u001b[49m\u001b[43m \u001b[49m\u001b[43mpopulation_name\u001b[49m\u001b[43m=\u001b[49m\u001b[43mnew_population\u001b[49m\u001b[43m)\u001b[49m\n\u001b[32m    337\u001b[39m     L.debug(\u001b[33m\"\u001b[39m\u001b[33mWrote \u001b[39m\u001b[38;5;132;01m%s\u001b[39;00m\u001b[33m nodes to \u001b[39m\u001b[38;5;132;01m%s\u001b[39;00m\u001b[33m\"\u001b[39m, \u001b[38;5;28mlen\u001b[39m(df), nodes_path)\n\u001b[32m    339\u001b[39m \u001b[38;5;28;01mreturn\u001b[39;00m ret\n",
      "\u001b[36mFile \u001b[39m\u001b[32m~/Documents/obi/code/obi-one/.venv/lib/python3.12/site-packages/brainbuilder/utils/sonata/split_population.py:131\u001b[39m, in \u001b[36m_save_sonata_nodes\u001b[39m\u001b[34m(nodes_path, df, population_name)\u001b[39m\n\u001b[32m    129\u001b[39m cell_collection = voxcell.CellCollection.from_dataframe(df)\n\u001b[32m    130\u001b[39m cell_collection.population_name = population_name\n\u001b[32m--> \u001b[39m\u001b[32m131\u001b[39m \u001b[43mcell_collection\u001b[49m\u001b[43m.\u001b[49m\u001b[43msave_sonata\u001b[49m\u001b[43m(\u001b[49m\u001b[43mnodes_path\u001b[49m\u001b[43m,\u001b[49m\u001b[43m \u001b[49m\u001b[43mmode\u001b[49m\u001b[43m=\u001b[49m\u001b[33;43m\"\u001b[39;49m\u001b[33;43ma\u001b[39;49m\u001b[33;43m\"\u001b[39;49m\u001b[43m)\u001b[49m\n\u001b[32m    132\u001b[39m \u001b[38;5;66;03m# restore the original index\u001b[39;00m\n\u001b[32m    133\u001b[39m df.index -= \u001b[32m1\u001b[39m\n",
      "\u001b[36mFile \u001b[39m\u001b[32m~/Documents/obi/code/obi-one/.venv/lib/python3.12/site-packages/voxcell/cell_collection.py:370\u001b[39m, in \u001b[36mCellCollection.save_sonata\u001b[39m\u001b[34m(self, filename, forced_library, mode)\u001b[39m\n\u001b[32m    368\u001b[39m \u001b[38;5;28mself\u001b[39m._check_sizes()\n\u001b[32m    369\u001b[39m \u001b[38;5;28;01mwith\u001b[39;00m h5py.File(filename, mode) \u001b[38;5;28;01mas\u001b[39;00m h5f:\n\u001b[32m--> \u001b[39m\u001b[32m370\u001b[39m     population = \u001b[43mh5f\u001b[49m\u001b[43m.\u001b[49m\u001b[43mcreate_group\u001b[49m\u001b[43m(\u001b[49m\u001b[33;43mf\u001b[39;49m\u001b[33;43m'\u001b[39;49m\u001b[33;43m/nodes/\u001b[39;49m\u001b[38;5;132;43;01m{\u001b[39;49;00m\u001b[38;5;28;43mself\u001b[39;49m\u001b[43m.\u001b[49m\u001b[43mpopulation_name\u001b[49m\u001b[38;5;132;43;01m}\u001b[39;49;00m\u001b[33;43m'\u001b[39;49m\u001b[43m)\u001b[49m\n\u001b[32m    371\u001b[39m     population.create_dataset(\u001b[33m'\u001b[39m\u001b[33mnode_type_id\u001b[39m\u001b[33m'\u001b[39m, data=np.full(\u001b[38;5;28mlen\u001b[39m(\u001b[38;5;28mself\u001b[39m.properties), -\u001b[32m1\u001b[39m))\n\u001b[32m    372\u001b[39m     group = population.create_group(\u001b[33m'\u001b[39m\u001b[33m0\u001b[39m\u001b[33m'\u001b[39m)\n",
      "\u001b[36mFile \u001b[39m\u001b[32m~/Documents/obi/code/obi-one/.venv/lib/python3.12/site-packages/h5py/_hl/group.py:64\u001b[39m, in \u001b[36mGroup.create_group\u001b[39m\u001b[34m(self, name, track_order)\u001b[39m\n\u001b[32m     62\u001b[39m name, lcpl = \u001b[38;5;28mself\u001b[39m._e(name, lcpl=\u001b[38;5;28;01mTrue\u001b[39;00m)\n\u001b[32m     63\u001b[39m gcpl = Group._gcpl_crt_order \u001b[38;5;28;01mif\u001b[39;00m track_order \u001b[38;5;28;01melse\u001b[39;00m \u001b[38;5;28;01mNone\u001b[39;00m\n\u001b[32m---> \u001b[39m\u001b[32m64\u001b[39m gid = \u001b[43mh5g\u001b[49m\u001b[43m.\u001b[49m\u001b[43mcreate\u001b[49m\u001b[43m(\u001b[49m\u001b[38;5;28;43mself\u001b[39;49m\u001b[43m.\u001b[49m\u001b[43mid\u001b[49m\u001b[43m,\u001b[49m\u001b[43m \u001b[49m\u001b[43mname\u001b[49m\u001b[43m,\u001b[49m\u001b[43m \u001b[49m\u001b[43mlcpl\u001b[49m\u001b[43m=\u001b[49m\u001b[43mlcpl\u001b[49m\u001b[43m,\u001b[49m\u001b[43m \u001b[49m\u001b[43mgcpl\u001b[49m\u001b[43m=\u001b[49m\u001b[43mgcpl\u001b[49m\u001b[43m)\u001b[49m\n\u001b[32m     65\u001b[39m \u001b[38;5;28;01mreturn\u001b[39;00m Group(gid)\n",
      "\u001b[36mFile \u001b[39m\u001b[32mh5py/_objects.pyx:56\u001b[39m, in \u001b[36mh5py._objects.with_phil.wrapper\u001b[39m\u001b[34m()\u001b[39m\n",
      "\u001b[36mFile \u001b[39m\u001b[32mh5py/_objects.pyx:57\u001b[39m, in \u001b[36mh5py._objects.with_phil.wrapper\u001b[39m\u001b[34m()\u001b[39m\n",
      "\u001b[36mFile \u001b[39m\u001b[32mh5py/h5g.pyx:176\u001b[39m, in \u001b[36mh5py.h5g.create\u001b[39m\u001b[34m()\u001b[39m\n",
      "\u001b[31mValueError\u001b[39m: Unable to synchronously create group (name already exists)"
     ]
    }
   ],
   "source": [
    "grid_scan.execute(processing_method='run')"
   ]
  }
 ],
 "metadata": {
  "kernelspec": {
   "display_name": "obi-one (3.12.9)",
   "language": "python",
   "name": "python3"
  },
  "language_info": {
   "codemirror_mode": {
    "name": "ipython",
    "version": 3
   },
   "file_extension": ".py",
   "mimetype": "text/x-python",
   "name": "python",
   "nbconvert_exporter": "python",
   "pygments_lexer": "ipython3",
   "version": "3.12.9"
  }
 },
 "nbformat": 4,
 "nbformat_minor": 4
}
