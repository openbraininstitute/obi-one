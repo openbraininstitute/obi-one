{
 "cells": [
  {
   "cell_type": "markdown",
   "metadata": {},
   "source": [
    "# Sub-circuit extraction example"
   ]
  },
  {
   "cell_type": "code",
   "execution_count": 1,
   "metadata": {},
   "outputs": [],
   "source": [
    "import obi_one as obi\n",
    "from pathlib import Path"
   ]
  },
  {
   "cell_type": "code",
   "execution_count": 2,
   "metadata": {},
   "outputs": [],
   "source": [
    "input_root = Path(\"../../data/tiny_circuits\")\n",
    "output_root = Path(\"../../../../obi-output/extracted_subcircuits\")"
   ]
  },
  {
   "cell_type": "markdown",
   "metadata": {},
   "source": [
    "### Run circuit extraction\n",
    "\n",
    "Extracting sub-circuits consisting of 50% or 100% excitatory neurons of two small example circuits each."
   ]
  },
  {
   "cell_type": "code",
   "execution_count": 3,
   "metadata": {},
   "outputs": [
    {
     "data": {
      "text/plain": [
       "([CircuitExtraction(idx=0, scan_output_root=PosixPath('../../../../obi-output/extracted_subcircuits'), coordinate_output_root=PosixPath('../../../../obi-output/extracted_subcircuits/initialize.circuit=N_10__top_nodes_dim6/neuron_set.sample_percentage=50.0'), obi_one_version=None, single_coordinate_scan_params=SingleCoordinateScanParams(scan_params=[SingleValueScanParam(location_list=['initialize', 'circuit'], type='SingleValueScanParam', value=Circuit(name='N_10__top_nodes_dim6', path='../../data/tiny_circuits/N_10__top_nodes_dim6/circuit_config.json', matrix_path=None, type='Circuit')), SingleValueScanParam(location_list=['neuron_set', 'sample_percentage'], type='SingleValueScanParam', value=50.0)], nested_coordinate_subpath_str='initialize.circuit=N_10__top_nodes_dim6/neuron_set.sample_percentage=50.0/', type='SingleCoordinateScanParams'), type='CircuitExtraction', initialize=Initialize(type='CircuitExtractions.Initialize', circuit=Circuit(name='N_10__top_nodes_dim6', path='../../data/tiny_circuits/N_10__top_nodes_dim6/circuit_config.json', matrix_path=None, type='Circuit'), run_validation=False, do_virtual=False, create_external=False, virtual_sources_to_ignore=()), neuron_set=PredefinedNeuronSet(type='PredefinedNeuronSet', sample_percentage=50.0, sample_seed=1, node_population=None, node_set='Excitatory')),\n",
       "  CircuitExtraction(idx=1, scan_output_root=PosixPath('../../../../obi-output/extracted_subcircuits'), coordinate_output_root=PosixPath('../../../../obi-output/extracted_subcircuits/initialize.circuit=N_10__top_nodes_dim6/neuron_set.sample_percentage=100.0'), obi_one_version=None, single_coordinate_scan_params=SingleCoordinateScanParams(scan_params=[SingleValueScanParam(location_list=['initialize', 'circuit'], type='SingleValueScanParam', value=Circuit(name='N_10__top_nodes_dim6', path='../../data/tiny_circuits/N_10__top_nodes_dim6/circuit_config.json', matrix_path=None, type='Circuit')), SingleValueScanParam(location_list=['neuron_set', 'sample_percentage'], type='SingleValueScanParam', value=100.0)], nested_coordinate_subpath_str='initialize.circuit=N_10__top_nodes_dim6/neuron_set.sample_percentage=100.0/', type='SingleCoordinateScanParams'), type='CircuitExtraction', initialize=Initialize(type='CircuitExtractions.Initialize', circuit=Circuit(name='N_10__top_nodes_dim6', path='../../data/tiny_circuits/N_10__top_nodes_dim6/circuit_config.json', matrix_path=None, type='Circuit'), run_validation=False, do_virtual=False, create_external=False, virtual_sources_to_ignore=()), neuron_set=PredefinedNeuronSet(type='PredefinedNeuronSet', sample_percentage=100.0, sample_seed=1, node_population=None, node_set='Excitatory')),\n",
       "  CircuitExtraction(idx=2, scan_output_root=PosixPath('../../../../obi-output/extracted_subcircuits'), coordinate_output_root=PosixPath('../../../../obi-output/extracted_subcircuits/initialize.circuit=N_10__top_rc_nodes_dim2_rc/neuron_set.sample_percentage=50.0'), obi_one_version=None, single_coordinate_scan_params=SingleCoordinateScanParams(scan_params=[SingleValueScanParam(location_list=['initialize', 'circuit'], type='SingleValueScanParam', value=Circuit(name='N_10__top_rc_nodes_dim2_rc', path='../../data/tiny_circuits/N_10__top_rc_nodes_dim2_rc/circuit_config.json', matrix_path=None, type='Circuit')), SingleValueScanParam(location_list=['neuron_set', 'sample_percentage'], type='SingleValueScanParam', value=50.0)], nested_coordinate_subpath_str='initialize.circuit=N_10__top_rc_nodes_dim2_rc/neuron_set.sample_percentage=50.0/', type='SingleCoordinateScanParams'), type='CircuitExtraction', initialize=Initialize(type='CircuitExtractions.Initialize', circuit=Circuit(name='N_10__top_rc_nodes_dim2_rc', path='../../data/tiny_circuits/N_10__top_rc_nodes_dim2_rc/circuit_config.json', matrix_path=None, type='Circuit'), run_validation=False, do_virtual=False, create_external=False, virtual_sources_to_ignore=()), neuron_set=PredefinedNeuronSet(type='PredefinedNeuronSet', sample_percentage=50.0, sample_seed=1, node_population=None, node_set='Excitatory')),\n",
       "  CircuitExtraction(idx=3, scan_output_root=PosixPath('../../../../obi-output/extracted_subcircuits'), coordinate_output_root=PosixPath('../../../../obi-output/extracted_subcircuits/initialize.circuit=N_10__top_rc_nodes_dim2_rc/neuron_set.sample_percentage=100.0'), obi_one_version=None, single_coordinate_scan_params=SingleCoordinateScanParams(scan_params=[SingleValueScanParam(location_list=['initialize', 'circuit'], type='SingleValueScanParam', value=Circuit(name='N_10__top_rc_nodes_dim2_rc', path='../../data/tiny_circuits/N_10__top_rc_nodes_dim2_rc/circuit_config.json', matrix_path=None, type='Circuit')), SingleValueScanParam(location_list=['neuron_set', 'sample_percentage'], type='SingleValueScanParam', value=100.0)], nested_coordinate_subpath_str='initialize.circuit=N_10__top_rc_nodes_dim2_rc/neuron_set.sample_percentage=100.0/', type='SingleCoordinateScanParams'), type='CircuitExtraction', initialize=Initialize(type='CircuitExtractions.Initialize', circuit=Circuit(name='N_10__top_rc_nodes_dim2_rc', path='../../data/tiny_circuits/N_10__top_rc_nodes_dim2_rc/circuit_config.json', matrix_path=None, type='Circuit'), run_validation=False, do_virtual=False, create_external=False, virtual_sources_to_ignore=()), neuron_set=PredefinedNeuronSet(type='PredefinedNeuronSet', sample_percentage=100.0, sample_seed=1, node_population=None, node_set='Excitatory'))],\n",
       " None)"
      ]
     },
     "execution_count": 3,
     "metadata": {},
     "output_type": "execute_result"
    }
   ],
   "source": [
    "circuit_extractions_form = obi.CircuitExtractions(\n",
    "                    initialize=obi.CircuitExtractions.Initialize(\n",
    "                        circuit=[obi.Circuit(name=\"N_10__top_nodes_dim6\", path=str(input_root / \"N_10__top_nodes_dim6\" / \"circuit_config.json\")),\n",
    "                                 obi.Circuit(name=\"N_10__top_rc_nodes_dim2_rc\", path=str(input_root / \"N_10__top_rc_nodes_dim2_rc\" / \"circuit_config.json\"))],\n",
    "                        do_virtual=False,\n",
    "                        create_external=False,\n",
    "                        run_validation=False,\n",
    "                    ),\n",
    "                    neuron_set=obi.PredefinedNeuronSet(node_set=\"Excitatory\", sample_percentage=[50, 100]),\n",
    ")\n",
    "\n",
    "grid_scan = obi.GridScan(form=circuit_extractions_form, output_root=str(output_root))\n",
    "grid_scan.execute()"
   ]
  },
  {
   "cell_type": "code",
   "execution_count": 4,
   "metadata": {},
   "outputs": [
    {
     "data": {
      "text/plain": [
       "[SingleCoordinateScanParams(scan_params=[SingleValueScanParam(location_list=['initialize', 'circuit'], type='SingleValueScanParam', value=Circuit(name='N_10__top_nodes_dim6', path='../../data/tiny_circuits/N_10__top_nodes_dim6/circuit_config.json', matrix_path=None, type='Circuit')), SingleValueScanParam(location_list=['neuron_set', 'sample_percentage'], type='SingleValueScanParam', value=50.0)], nested_coordinate_subpath_str=PosixPath('.'), type='SingleCoordinateScanParams'),\n",
       " SingleCoordinateScanParams(scan_params=[SingleValueScanParam(location_list=['initialize', 'circuit'], type='SingleValueScanParam', value=Circuit(name='N_10__top_nodes_dim6', path='../../data/tiny_circuits/N_10__top_nodes_dim6/circuit_config.json', matrix_path=None, type='Circuit')), SingleValueScanParam(location_list=['neuron_set', 'sample_percentage'], type='SingleValueScanParam', value=100.0)], nested_coordinate_subpath_str=PosixPath('.'), type='SingleCoordinateScanParams'),\n",
       " SingleCoordinateScanParams(scan_params=[SingleValueScanParam(location_list=['initialize', 'circuit'], type='SingleValueScanParam', value=Circuit(name='N_10__top_rc_nodes_dim2_rc', path='../../data/tiny_circuits/N_10__top_rc_nodes_dim2_rc/circuit_config.json', matrix_path=None, type='Circuit')), SingleValueScanParam(location_list=['neuron_set', 'sample_percentage'], type='SingleValueScanParam', value=50.0)], nested_coordinate_subpath_str=PosixPath('.'), type='SingleCoordinateScanParams'),\n",
       " SingleCoordinateScanParams(scan_params=[SingleValueScanParam(location_list=['initialize', 'circuit'], type='SingleValueScanParam', value=Circuit(name='N_10__top_rc_nodes_dim2_rc', path='../../data/tiny_circuits/N_10__top_rc_nodes_dim2_rc/circuit_config.json', matrix_path=None, type='Circuit')), SingleValueScanParam(location_list=['neuron_set', 'sample_percentage'], type='SingleValueScanParam', value=100.0)], nested_coordinate_subpath_str=PosixPath('.'), type='SingleCoordinateScanParams')]"
      ]
     },
     "execution_count": 4,
     "metadata": {},
     "output_type": "execute_result"
    }
   ],
   "source": [
    "# Display the intermediary data\n",
    "grid_scan.multiple_value_parameters()\n",
    "grid_scan.coordinate_parameters()\n",
    "# grid_scan.coordinate_instances(display=True)"
   ]
  },
  {
   "cell_type": "code",
   "execution_count": 5,
   "metadata": {},
   "outputs": [
    {
     "name": "stdout",
     "output_type": "stream",
     "text": [
      "[2025-09-24 16:22:23,918] INFO: Extracting subcircuit from 'N_10__top_nodes_dim6'\n",
      "[2025-09-24 16:22:23,989] INFO: Copying morphologies for population 'S1nonbarrel_neurons' (4)\n"
     ]
    },
    {
     "name": "stderr",
     "output_type": "stream",
     "text": [
      "Copying containerized .h5 morphologies: 100%|██████████| 4/4 [00:00<00:00, 636.25it/s]"
     ]
    },
    {
     "name": "stdout",
     "output_type": "stream",
     "text": [
      "[2025-09-24 16:22:24,007] INFO: Copied 4 morphologies into container (0 already existed)\n",
      "[2025-09-24 16:22:24,008] INFO: Copying 1 biophysical neuron models (.hoc) for population 'S1nonbarrel_neurons' (4)\n",
      "[2025-09-24 16:22:24,010] INFO: Copying mod files\n",
      "[2025-09-24 16:22:24,015] INFO: Extraction DONE\n",
      "[2025-09-24 16:22:24,021] INFO: Extracting subcircuit from 'N_10__top_nodes_dim6'\n",
      "[2025-09-24 16:22:24,043] INFO: Copying morphologies for population 'S1nonbarrel_neurons' (9)\n"
     ]
    },
    {
     "name": "stderr",
     "output_type": "stream",
     "text": [
      "\n",
      "Copying containerized .h5 morphologies: 100%|██████████| 9/9 [00:00<00:00, 2155.84it/s]"
     ]
    },
    {
     "name": "stdout",
     "output_type": "stream",
     "text": [
      "[2025-09-24 16:22:24,050] INFO: Copied 9 morphologies into container (0 already existed)\n",
      "[2025-09-24 16:22:24,051] INFO: Copying 1 biophysical neuron models (.hoc) for population 'S1nonbarrel_neurons' (9)\n",
      "[2025-09-24 16:22:24,052] INFO: Copying mod files\n",
      "[2025-09-24 16:22:24,056] INFO: Extraction DONE\n",
      "[2025-09-24 16:22:24,064] INFO: Extracting subcircuit from 'N_10__top_rc_nodes_dim2_rc'\n",
      "[2025-09-24 16:22:24,083] INFO: Copying morphologies for population 'S1nonbarrel_neurons' (5)\n"
     ]
    },
    {
     "name": "stderr",
     "output_type": "stream",
     "text": [
      "\n",
      "Copying containerized .h5 morphologies: 100%|██████████| 5/5 [00:00<00:00, 771.01it/s]"
     ]
    },
    {
     "name": "stdout",
     "output_type": "stream",
     "text": [
      "[2025-09-24 16:22:24,093] INFO: Copied 5 morphologies into container (0 already existed)\n",
      "[2025-09-24 16:22:24,094] INFO: Copying 2 biophysical neuron models (.hoc) for population 'S1nonbarrel_neurons' (5)\n",
      "[2025-09-24 16:22:24,095] INFO: Copying mod files\n",
      "[2025-09-24 16:22:24,101] INFO: Extraction DONE\n",
      "[2025-09-24 16:22:24,105] INFO: Extracting subcircuit from 'N_10__top_rc_nodes_dim2_rc'\n",
      "[2025-09-24 16:22:24,126] INFO: Copying morphologies for population 'S1nonbarrel_neurons' (10)\n"
     ]
    },
    {
     "name": "stderr",
     "output_type": "stream",
     "text": [
      "\n",
      "Copying containerized .h5 morphologies: 100%|██████████| 10/10 [00:00<00:00, 2183.85it/s]"
     ]
    },
    {
     "name": "stdout",
     "output_type": "stream",
     "text": [
      "[2025-09-24 16:22:24,134] INFO: Copied 10 morphologies into container (0 already existed)\n",
      "[2025-09-24 16:22:24,134] INFO: Copying 2 biophysical neuron models (.hoc) for population 'S1nonbarrel_neurons' (10)\n",
      "[2025-09-24 16:22:24,135] INFO: Copying mod files\n",
      "[2025-09-24 16:22:24,138] INFO: Extraction DONE\n"
     ]
    },
    {
     "name": "stderr",
     "output_type": "stream",
     "text": [
      "\n"
     ]
    }
   ],
   "source": [
    "obi.run_task_for_single_configs_of_generated_scan(grid_scan)"
   ]
  },
  {
   "cell_type": "markdown",
   "metadata": {},
   "source": [
    "### Check original circuits vs. extracted sub-circuits"
   ]
  },
  {
   "cell_type": "code",
   "execution_count": 6,
   "metadata": {},
   "outputs": [
    {
     "name": "stdout",
     "output_type": "stream",
     "text": [
      "Circuit 'N_10__top_nodes_dim6': 10 neurons (9 EXC, 1 INH) and 176 synapses\n",
      "Circuit 'N_10__top_rc_nodes_dim2_rc': 10 neurons (10 EXC, 0 INH) and 19 synapses\n"
     ]
    }
   ],
   "source": [
    "# Input circuits\n",
    "for circuit in circuit_extractions_form.initialize.circuit:\n",
    "    n_exc = len(circuit.sonata_circuit.nodes[circuit.default_population_name].ids(\"Excitatory\"))\n",
    "    n_inh = len(circuit.sonata_circuit.nodes[circuit.default_population_name].ids(\"Inhibitory\"))\n",
    "    print(f\"Circuit '{circuit}': {n_exc + n_inh} neurons ({n_exc} EXC, {n_inh} INH) and {circuit.sonata_circuit.edges[circuit.default_edge_population_name].size} synapses\")"
   ]
  },
  {
   "cell_type": "code",
   "execution_count": 7,
   "metadata": {},
   "outputs": [
    {
     "name": "stdout",
     "output_type": "stream",
     "text": [
      "Extracted sub-circuit 'initialize.circuit=N_10__top_nodes_dim6/neuron_set.sample_percentage=50.0': 4 neurons (4 EXC, 0 INH) and 7 synapses\n",
      "Extracted sub-circuit 'initialize.circuit=N_10__top_nodes_dim6/neuron_set.sample_percentage=100.0': 9 neurons (9 EXC, 0 INH) and 176 synapses\n",
      "Extracted sub-circuit 'initialize.circuit=N_10__top_rc_nodes_dim2_rc/neuron_set.sample_percentage=50.0': 5 neurons (5 EXC, 0 INH) and 0 synapses\n",
      "Extracted sub-circuit 'initialize.circuit=N_10__top_rc_nodes_dim2_rc/neuron_set.sample_percentage=100.0': 10 neurons (10 EXC, 0 INH) and 19 synapses\n"
     ]
    }
   ],
   "source": [
    "# Extracted sub-circuits\n",
    "for _idx, _inst in enumerate(grid_scan.single_configs):\n",
    "    _inst.initialize_coordinate_output_root(output_root)\n",
    "    cfg = _inst.coordinate_output_root / \"circuit_config.json\"\n",
    "    circuit = obi.Circuit(name=\"\", path=str(cfg))\n",
    "    n_exc = len(circuit.sonata_circuit.nodes[circuit.default_population_name].ids(\"Excitatory\"))\n",
    "    n_inh = len(circuit.sonata_circuit.nodes[circuit.default_population_name].ids(\"Inhibitory\"))\n",
    "    print(f\"Extracted sub-circuit '{_inst.coordinate_output_root.relative_to(output_root)}': {n_exc + n_inh} neurons ({n_exc} EXC, {n_inh} INH) and {circuit.sonata_circuit.edges[circuit.default_edge_population_name].size if circuit.default_edge_population_name else 0} synapses\")"
   ]
  }
 ],
 "metadata": {
  "kernelspec": {
   "display_name": "obi-one (3.12.9)",
   "language": "python",
   "name": "python3"
  },
  "language_info": {
   "codemirror_mode": {
    "name": "ipython",
    "version": 3
   },
   "file_extension": ".py",
   "mimetype": "text/x-python",
   "name": "python",
   "nbconvert_exporter": "python",
   "pygments_lexer": "ipython3",
   "version": "3.12.9"
  }
 },
 "nbformat": 4,
 "nbformat_minor": 4
}
