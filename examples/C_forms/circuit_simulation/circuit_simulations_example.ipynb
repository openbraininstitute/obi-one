{
 "cells": [
  {
   "cell_type": "markdown",
   "metadata": {},
   "source": [
    "# Circuit simulation examples"
   ]
  },
  {
   "cell_type": "code",
   "execution_count": 1,
   "metadata": {},
   "outputs": [],
   "source": [
    "import obi_one as obi\n",
    "from pathlib import Path"
   ]
  },
  {
   "cell_type": "code",
   "execution_count": 2,
   "metadata": {},
   "outputs": [],
   "source": [
    "circuit_path_prefix = Path(\"../../data/tiny_circuits\")"
   ]
  },
  {
   "cell_type": "markdown",
   "metadata": {},
   "source": [
    "### Loading two circuits"
   ]
  },
  {
   "cell_type": "code",
   "execution_count": 3,
   "metadata": {},
   "outputs": [
    {
     "name": "stdout",
     "output_type": "stream",
     "text": [
      "Circuit 'N_10__top_nodes_dim6' with 10 neurons and 176 synapses\n"
     ]
    }
   ],
   "source": [
    "circuit_name = \"N_10__top_nodes_dim6\"\n",
    "circuit = obi.Circuit(name=circuit_name, path=str(circuit_path_prefix / circuit_name / \"circuit_config.json\"))\n",
    "print(f\"Circuit '{circuit}' with {circuit.sonata_circuit.nodes[circuit.default_population_name].size} neurons and {circuit.sonata_circuit.edges[circuit.default_edge_population_name].size} synapses\")"
   ]
  },
  {
   "cell_type": "code",
   "execution_count": 4,
   "metadata": {},
   "outputs": [
    {
     "name": "stdout",
     "output_type": "stream",
     "text": [
      "Circuit 'N_10__top_rc_nodes_dim2_rc' with 10 neurons and 19 synapses\n"
     ]
    }
   ],
   "source": [
    "circuit2_name = \"N_10__top_rc_nodes_dim2_rc\"\n",
    "circuit2 = obi.Circuit(name=circuit2_name, path=str(circuit_path_prefix / circuit2_name / \"circuit_config.json\"))\n",
    "print(f\"Circuit '{circuit2}' with {circuit2.sonata_circuit.nodes[circuit2.default_population_name].size} neurons and {circuit2.sonata_circuit.edges[circuit2.default_edge_population_name].size} synapses\")"
   ]
  },
  {
   "cell_type": "markdown",
   "metadata": {},
   "source": [
    "### Example with two circuits and explicit node populations.\n",
    "\n",
    "Spike replay will use POm."
   ]
  },
  {
   "cell_type": "code",
   "execution_count": 5,
   "metadata": {},
   "outputs": [],
   "source": [
    "# Sim duration\n",
    "sim_duration = 3000.0\n",
    "\n",
    "# Empty Simulation Configuration\n",
    "sim_conf = obi.SimulationsForm.empty_config()\n",
    "\n",
    "# Info\n",
    "info = obi.Info(campaign_name=\"Small microcircuit simulation\", campaign_description=\"Simulation of two small microcircuits with predefined neuron set and constant current stimulus\")\n",
    "sim_conf.set(info, name=\"info\")\n",
    "\n",
    "# Timestamps\n",
    "regular_timesteps = obi.RegularTimestamps(start_time=0.0, number_of_repetitions=3, interval=1000.0)\n",
    "sim_conf.add(regular_timesteps, name='stim_times')\n",
    "\n",
    "# Neuron Sets\n",
    "node_pop = circuit._default_population_name(circuit.sonata_circuit)\n",
    "\n",
    "sim_neuron_set = obi.AllNeurons()\n",
    "stim_neuron_set = sim_neuron_set\n",
    "replay_neuron_set = sim_neuron_set\n",
    "rec_neuron_set = sim_neuron_set\n",
    "property_neuron_set = sim_neuron_set\n",
    "\n",
    "# sim_neuron_set = obi.PredefinedNeuronSet(node_set=\"All\", node_population=node_pop)\n",
    "# stim_neuron_set = obi.PredefinedNeuronSet(node_set=\"Layer6\", sample_percentage=[50, 100], node_population=node_pop)\n",
    "# replay_neuron_set = obi.PredefinedNeuronSet(node_set=\"proj_Thalamocortical_POM_Source\", sample_percentage=25, node_population=\"POm\")\n",
    "# rec_neuron_set = obi.PredefinedNeuronSet(node_set=\"Layer6\", sample_percentage=100, node_population=node_pop)\n",
    "# property_neuron_set = obi.PropertyNeuronSet(\n",
    "#     property_filter=[obi.scientific.circuit.neuron_sets.NeuronPropertyFilter(filter_dict={\"layer\": [\"1\", \"2\", \"3\"], \"synapse_class\": [\"INH\"]}),\n",
    "#                      obi.scientific.circuit.neuron_sets.NeuronPropertyFilter(filter_dict={\"layer\": [\"4\", \"5\", \"6\"], \"synapse_class\": [\"EXC\"]})],\n",
    "#     node_population=node_pop\n",
    "# )\n",
    "sim_conf.add(sim_neuron_set, name='SimNeurons')\n",
    "sim_conf.add(stim_neuron_set, name='StimNeurons')\n",
    "sim_conf.add(rec_neuron_set, name='RecNeurons')\n",
    "sim_conf.add(property_neuron_set, name='PropertyNeuronSet')\n",
    "sim_conf.add(replay_neuron_set, name=\"POM_input\")\n",
    "\n",
    "# Stimuli\n",
    "current_stimulus = obi.ConstantCurrentClampSomaticStimulus(timestamps=regular_timesteps.ref, duration=5.0, neuron_set=stim_neuron_set.ref, amplitude=[0.2, 0.5])\n",
    "sync_current_stimulus = obi.ConstantCurrentClampSomaticStimulus(timestamps=regular_timesteps.ref, duration=100.0, neuron_set=stim_neuron_set.ref, amplitude=0.1)\n",
    "poisson_input = obi.PoissonSpikeStimulus(timestamps=regular_timesteps.ref, duration=800, frequency=20,\n",
    "                                         source_neuron_set=replay_neuron_set.ref,\n",
    "                                         targeted_neuron_set=stim_neuron_set.ref)\n",
    "sim_conf.add(current_stimulus, name='CurrentStimulus')\n",
    "sim_conf.add(sync_current_stimulus, name='SyncCurrentStimulus')\n",
    "sim_conf.add(poisson_input, name='PoissonInputStimulus')\n",
    "\n",
    "# Voltage Recordings\n",
    "voltage_recording = obi.SomaVoltageRecording(timestamps=regular_timesteps.ref, neuron_set=rec_neuron_set.ref, start_time=0.0, end_time=sim_duration)\n",
    "sim_conf.add(voltage_recording, name='SomaVoltRec')\n",
    "                                       \n",
    "# Initilization\n",
    "simulations_initialize = obi.SimulationsForm.Initialize(circuit=[circuit, circuit2], node_set=sim_neuron_set.ref, simulation_length=sim_duration)\n",
    "sim_conf.set(simulations_initialize, name='initialize')\n",
    "\n",
    "# Validated Config\n",
    "validated_sim_conf = sim_conf.validated_config()"
   ]
  },
  {
   "cell_type": "code",
   "execution_count": 6,
   "metadata": {},
   "outputs": [],
   "source": [
    "# simulations_form.model_dump(mode=\"json\")"
   ]
  },
  {
   "cell_type": "code",
   "execution_count": 7,
   "metadata": {},
   "outputs": [
    {
     "name": "stdout",
     "output_type": "stream",
     "text": [
      "[2025-09-24 12:23:24,983] INFO: \n",
      "MULTIPLE VALUE PARAMETERS\n",
      "[2025-09-24 12:23:24,983] INFO: stimuli.CurrentStimulus.amplitude: [0.2, 0.5]\n",
      "[2025-09-24 12:23:24,983] INFO: initialize.circuit: [Circuit(name='N_10__top_nodes_dim6', path='../../data/tiny_circuits/N_10__top_nodes_dim6/circuit_config.json', matrix_path=None, type='Circuit'), Circuit(name='N_10__top_rc_nodes_dim2_rc', path='../../data/tiny_circuits/N_10__top_rc_nodes_dim2_rc/circuit_config.json', matrix_path=None, type='Circuit')]\n",
      "[2025-09-24 12:23:24,989] INFO: initialize.circuit is a Circuit instance.\n",
      "[2025-09-24 12:23:25,025] INFO: initialize.circuit is a Circuit instance.\n",
      "[2025-09-24 12:23:25,060] INFO: initialize.circuit is a Circuit instance.\n",
      "[2025-09-24 12:23:25,095] INFO: initialize.circuit is a Circuit instance.\n"
     ]
    }
   ],
   "source": [
    "grid_scan = obi.GridScan(form=validated_sim_conf, output_root='../../../../obi-output/circuit_simulations/grid_scan_explicit')\n",
    "grid_scan.multiple_value_parameters(display=True)\n",
    "# grid_scan.coordinate_parameters(display=True)\n",
    "# grid_scan.coordinate_instances(display=True)\n",
    "grid_scan.execute()\n",
    "for single_config in grid_scan.single_configs:\n",
    "    task_type = obi.get_configs_task_type(single_config)\n",
    "    task = task_type(config=single_config)\n",
    "    task.execute()"
   ]
  },
  {
   "cell_type": "code",
   "execution_count": 8,
   "metadata": {},
   "outputs": [
    {
     "ename": "FileNotFoundError",
     "evalue": "[Errno 2] Unable to synchronously open file (unable to open file: name = '../../../../obi-output/circuit_simulations/grid_scan_explicit/stimuli.CurrentStimulus.amplitude=0.2/neuron_sets.StimNeurons.sample_percentage=50.0/neuron_sets.PropertyNeuronSet.property_filter=layer=1,2,3,synapse_class=INH/initialize.circuit=N_10__top_nodes_dim6/PoissonInputStimulus_spikes.h5', errno = 2, error message = 'No such file or directory', flags = 0, o_flags = 0)",
     "output_type": "error",
     "traceback": [
      "\u001b[31m---------------------------------------------------------------------------\u001b[39m",
      "\u001b[31mFileNotFoundError\u001b[39m                         Traceback (most recent call last)",
      "\u001b[36mCell\u001b[39m\u001b[36m \u001b[39m\u001b[32mIn[8]\u001b[39m\u001b[32m, line 4\u001b[39m\n\u001b[32m      1\u001b[39m \u001b[38;5;66;03m# Spot check of generated spikes files\u001b[39;00m\n\u001b[32m      2\u001b[39m \u001b[38;5;28;01mimport\u001b[39;00m\u001b[38;5;250m \u001b[39m\u001b[34;01mh5py\u001b[39;00m\n\u001b[32m----> \u001b[39m\u001b[32m4\u001b[39m h5 = \u001b[43mh5py\u001b[49m\u001b[43m.\u001b[49m\u001b[43mFile\u001b[49m\u001b[43m(\u001b[49m\u001b[33;43m\"\u001b[39;49m\u001b[33;43m../../../../obi-output/circuit_simulations/grid_scan_explicit/stimuli.CurrentStimulus.amplitude=0.2/neuron_sets.StimNeurons.sample_percentage=50.0/neuron_sets.PropertyNeuronSet.property_filter=layer=1,2,3,synapse_class=INH/initialize.circuit=N_10__top_nodes_dim6/PoissonInputStimulus_spikes.h5\u001b[39;49m\u001b[33;43m\"\u001b[39;49m\u001b[43m,\u001b[49m\u001b[43m \u001b[49m\u001b[33;43m\"\u001b[39;49m\u001b[33;43mr\u001b[39;49m\u001b[33;43m\"\u001b[39;49m\u001b[43m)\u001b[49m\n\u001b[32m      6\u001b[39m \u001b[38;5;28mprint\u001b[39m(h5[\u001b[33m\"\u001b[39m\u001b[33mspikes\u001b[39m\u001b[33m\"\u001b[39m].keys())\n\u001b[32m      7\u001b[39m \u001b[38;5;28mprint\u001b[39m(h5[\u001b[33m\"\u001b[39m\u001b[33mspikes/POm\u001b[39m\u001b[33m\"\u001b[39m][\u001b[33m\"\u001b[39m\u001b[33mnode_ids\u001b[39m\u001b[33m\"\u001b[39m][:])\n",
      "\u001b[36mFile \u001b[39m\u001b[32m~/Documents/obi/code/obi-one/.venv/lib/python3.12/site-packages/h5py/_hl/files.py:564\u001b[39m, in \u001b[36mFile.__init__\u001b[39m\u001b[34m(self, name, mode, driver, libver, userblock_size, swmr, rdcc_nslots, rdcc_nbytes, rdcc_w0, track_order, fs_strategy, fs_persist, fs_threshold, fs_page_size, page_buf_size, min_meta_keep, min_raw_keep, locking, alignment_threshold, alignment_interval, meta_block_size, **kwds)\u001b[39m\n\u001b[32m    555\u001b[39m     fapl = make_fapl(driver, libver, rdcc_nslots, rdcc_nbytes, rdcc_w0,\n\u001b[32m    556\u001b[39m                      locking, page_buf_size, min_meta_keep, min_raw_keep,\n\u001b[32m    557\u001b[39m                      alignment_threshold=alignment_threshold,\n\u001b[32m    558\u001b[39m                      alignment_interval=alignment_interval,\n\u001b[32m    559\u001b[39m                      meta_block_size=meta_block_size,\n\u001b[32m    560\u001b[39m                      **kwds)\n\u001b[32m    561\u001b[39m     fcpl = make_fcpl(track_order=track_order, fs_strategy=fs_strategy,\n\u001b[32m    562\u001b[39m                      fs_persist=fs_persist, fs_threshold=fs_threshold,\n\u001b[32m    563\u001b[39m                      fs_page_size=fs_page_size)\n\u001b[32m--> \u001b[39m\u001b[32m564\u001b[39m     fid = \u001b[43mmake_fid\u001b[49m\u001b[43m(\u001b[49m\u001b[43mname\u001b[49m\u001b[43m,\u001b[49m\u001b[43m \u001b[49m\u001b[43mmode\u001b[49m\u001b[43m,\u001b[49m\u001b[43m \u001b[49m\u001b[43muserblock_size\u001b[49m\u001b[43m,\u001b[49m\u001b[43m \u001b[49m\u001b[43mfapl\u001b[49m\u001b[43m,\u001b[49m\u001b[43m \u001b[49m\u001b[43mfcpl\u001b[49m\u001b[43m,\u001b[49m\u001b[43m \u001b[49m\u001b[43mswmr\u001b[49m\u001b[43m=\u001b[49m\u001b[43mswmr\u001b[49m\u001b[43m)\u001b[49m\n\u001b[32m    566\u001b[39m \u001b[38;5;28;01mif\u001b[39;00m \u001b[38;5;28misinstance\u001b[39m(libver, \u001b[38;5;28mtuple\u001b[39m):\n\u001b[32m    567\u001b[39m     \u001b[38;5;28mself\u001b[39m._libver = libver\n",
      "\u001b[36mFile \u001b[39m\u001b[32m~/Documents/obi/code/obi-one/.venv/lib/python3.12/site-packages/h5py/_hl/files.py:238\u001b[39m, in \u001b[36mmake_fid\u001b[39m\u001b[34m(name, mode, userblock_size, fapl, fcpl, swmr)\u001b[39m\n\u001b[32m    236\u001b[39m     \u001b[38;5;28;01mif\u001b[39;00m swmr \u001b[38;5;129;01mand\u001b[39;00m swmr_support:\n\u001b[32m    237\u001b[39m         flags |= h5f.ACC_SWMR_READ\n\u001b[32m--> \u001b[39m\u001b[32m238\u001b[39m     fid = \u001b[43mh5f\u001b[49m\u001b[43m.\u001b[49m\u001b[43mopen\u001b[49m\u001b[43m(\u001b[49m\u001b[43mname\u001b[49m\u001b[43m,\u001b[49m\u001b[43m \u001b[49m\u001b[43mflags\u001b[49m\u001b[43m,\u001b[49m\u001b[43m \u001b[49m\u001b[43mfapl\u001b[49m\u001b[43m=\u001b[49m\u001b[43mfapl\u001b[49m\u001b[43m)\u001b[49m\n\u001b[32m    239\u001b[39m \u001b[38;5;28;01melif\u001b[39;00m mode == \u001b[33m'\u001b[39m\u001b[33mr+\u001b[39m\u001b[33m'\u001b[39m:\n\u001b[32m    240\u001b[39m     fid = h5f.open(name, h5f.ACC_RDWR, fapl=fapl)\n",
      "\u001b[36mFile \u001b[39m\u001b[32mh5py/_objects.pyx:56\u001b[39m, in \u001b[36mh5py._objects.with_phil.wrapper\u001b[39m\u001b[34m()\u001b[39m\n",
      "\u001b[36mFile \u001b[39m\u001b[32mh5py/_objects.pyx:57\u001b[39m, in \u001b[36mh5py._objects.with_phil.wrapper\u001b[39m\u001b[34m()\u001b[39m\n",
      "\u001b[36mFile \u001b[39m\u001b[32mh5py/h5f.pyx:102\u001b[39m, in \u001b[36mh5py.h5f.open\u001b[39m\u001b[34m()\u001b[39m\n",
      "\u001b[31mFileNotFoundError\u001b[39m: [Errno 2] Unable to synchronously open file (unable to open file: name = '../../../../obi-output/circuit_simulations/grid_scan_explicit/stimuli.CurrentStimulus.amplitude=0.2/neuron_sets.StimNeurons.sample_percentage=50.0/neuron_sets.PropertyNeuronSet.property_filter=layer=1,2,3,synapse_class=INH/initialize.circuit=N_10__top_nodes_dim6/PoissonInputStimulus_spikes.h5', errno = 2, error message = 'No such file or directory', flags = 0, o_flags = 0)"
     ]
    }
   ],
   "source": [
    "# Spot check of generated spikes files\n",
    "import h5py\n",
    "\n",
    "h5 = h5py.File(\"../../../../obi-output/circuit_simulations/grid_scan_explicit/stimuli.CurrentStimulus.amplitude=0.2/neuron_sets.StimNeurons.sample_percentage=50.0/neuron_sets.PropertyNeuronSet.property_filter=layer=1,2,3,synapse_class=INH/initialize.circuit=N_10__top_nodes_dim6/PoissonInputStimulus_spikes.h5\", \"r\")\n",
    "\n",
    "print(h5[\"spikes\"].keys())\n",
    "print(h5[\"spikes/POm\"][\"node_ids\"][:])\n",
    "h5.close()"
   ]
  },
  {
   "cell_type": "markdown",
   "metadata": {},
   "source": [
    "### Implicit node populations, i.e. using the default.\n",
    "\n",
    "Spike replay will use a subset of the default population, in this case: Layer2"
   ]
  },
  {
   "cell_type": "code",
   "execution_count": null,
   "metadata": {},
   "outputs": [],
   "source": [
    "# Sim duration\n",
    "sim_duration = 3000.0\n",
    "\n",
    "# Empty Simulation Configuration\n",
    "sim_conf = obi.SimulationsForm.empty_config()\n",
    "\n",
    "# Info\n",
    "info = obi.Info(campaign_name=\"Small microcircuit simulation\", campaign_description=\"Simulation of two small microcircuits with predefined neuron set and constant current stimulus\")\n",
    "sim_conf.set(info, name=\"info\")\n",
    "\n",
    "# Timestamps\n",
    "regular_timesteps = obi.RegularTimestamps(start_time=0.0, number_of_repetitions=3, interval=1000.0)\n",
    "sim_conf.add(regular_timesteps, name='stim_times')\n",
    "\n",
    "# Neuron Sets\n",
    "sim_neuron_set = obi.PredefinedNeuronSet(node_set=\"All\")\n",
    "stim_neuron_set = obi.PredefinedNeuronSet(node_set=\"Layer6\", sample_percentage=[50, 100])\n",
    "replay_neuron_set = obi.PredefinedNeuronSet(node_set=\"Layer6\", sample_percentage=25)\n",
    "rec_neuron_set = obi.PredefinedNeuronSet(node_set=\"Layer6\", sample_percentage=100)\n",
    "property_neuron_set = obi.PropertyNeuronSet(\n",
    "    property_filter=[obi.scientific.circuit.neuron_sets.NeuronPropertyFilter(filter_dict={\"layer\": [\"1\", \"2\", \"3\"], \"synapse_class\": [\"INH\"]}),\n",
    "                     obi.scientific.circuit.neuron_sets.NeuronPropertyFilter(filter_dict={\"layer\": [\"4\", \"5\", \"6\"], \"synapse_class\": [\"EXC\"]})]\n",
    ")\n",
    "sim_conf.add(sim_neuron_set, name='SimNeurons')\n",
    "sim_conf.add(stim_neuron_set, name='StimNeurons')\n",
    "sim_conf.add(rec_neuron_set, name='RecNeurons')\n",
    "sim_conf.add(property_neuron_set, name='PropertyNeuronSet')\n",
    "sim_conf.add(replay_neuron_set, name=\"L6_input\")\n",
    "\n",
    "# Stimuli\n",
    "current_stimulus = obi.ConstantCurrentClampSomaticStimulus(timestamps=regular_timesteps.ref, duration=5.0, neuron_set=stim_neuron_set.ref, amplitude=[0.2, 0.5])\n",
    "sync_current_stimulus = obi.ConstantCurrentClampSomaticStimulus(timestamps=regular_timesteps.ref, duration=100.0, neuron_set=stim_neuron_set.ref, amplitude=0.1)\n",
    "poisson_input = obi.PoissonSpikeStimulus(timestamps=regular_timesteps.ref, duration=800, frequency=20,\n",
    "                                         source_neuron_set=replay_neuron_set.ref,\n",
    "                                         targeted_neuron_set=stim_neuron_set.ref)\n",
    "sim_conf.add(current_stimulus, name='CurrentStimulus')\n",
    "sim_conf.add(sync_current_stimulus, name='SyncCurrentStimulus')\n",
    "sim_conf.add(poisson_input, name='PoissonInputStimulus')\n",
    "\n",
    "# Voltage Recordings\n",
    "voltage_recording = obi.SomaVoltageRecording(timestamps=regular_timesteps.ref, neuron_set=rec_neuron_set.ref, start_time=0.0, end_time=sim_duration)\n",
    "sim_conf.add(voltage_recording, name='SomaVoltRec')\n",
    "                                       \n",
    "# Initilization\n",
    "simulations_initialize = obi.SimulationsForm.Initialize(circuit=[circuit, circuit2], node_set=sim_neuron_set.ref, simulation_length=sim_duration)\n",
    "sim_conf.set(simulations_initialize, name='initialize')\n",
    "\n",
    "# Validated Config\n",
    "validated_sim_conf = sim_conf.validated_config()"
   ]
  },
  {
   "cell_type": "code",
   "execution_count": null,
   "metadata": {},
   "outputs": [],
   "source": [
    "grid_scan = obi.GridScan(form=validated_sim_conf, output_root='../../../../obi-output/circuit_simulations/grid_scan_implicit')\n",
    "grid_scan.multiple_value_parameters(display=True)\n",
    "grid_scan.coordinate_parameters(display=True)\n",
    "# grid_scan.coordinate_instances(display=True)\n",
    "grid_scan.execute(processing_method='generate')"
   ]
  },
  {
   "cell_type": "code",
   "execution_count": null,
   "metadata": {},
   "outputs": [],
   "source": [
    "# Spot check of generated spikes files\n",
    "import h5py\n",
    "\n",
    "h5 = h5py.File(\"../../../../obi-output/circuit_simulations/grid_scan_implicit/stimuli.CurrentStimulus.amplitude=0.2/neuron_sets.StimNeurons.sample_percentage=50.0/neuron_sets.PropertyNeuronSet.property_filter=layer=1,2,3,synapse_class=INH/initialize.circuit=N_10__top_nodes_dim6/PoissonInputStimulus_spikes.h5\", \"r\")\n",
    "\n",
    "print(h5[\"spikes\"].keys())\n",
    "print(h5[\"spikes/S1nonbarrel_neurons\"][\"node_ids\"][:])\n",
    "h5.close()"
   ]
  },
  {
   "cell_type": "markdown",
   "metadata": {},
   "source": [
    "### Implicit node populations, but still using an extrinsic population for replay.\n",
    "\n",
    "This is achieved using a hard coded VPM neuron set."
   ]
  },
  {
   "cell_type": "code",
   "execution_count": null,
   "metadata": {},
   "outputs": [],
   "source": [
    "# Sim duration\n",
    "sim_duration = 3000.0\n",
    "\n",
    "# Empty Simulation Configuration\n",
    "sim_conf = obi.SimulationsForm.empty_config()\n",
    "\n",
    "# Info\n",
    "info = obi.Info(campaign_name=\"Small microcircuit simulation\", campaign_description=\"Simulation of two small microcircuits with predefined neuron set and constant current stimulus\")\n",
    "sim_conf.set(info, name=\"info\")\n",
    "\n",
    "# Timestamps\n",
    "regular_timesteps = obi.RegularTimestamps(start_time=0.0, number_of_repetitions=3, interval=1000.0)\n",
    "sim_conf.add(regular_timesteps, name='stim_times')\n",
    "\n",
    "# Neuron Sets\n",
    "sim_neuron_set = obi.PredefinedNeuronSet(node_set=\"All\")\n",
    "stim_neuron_set = obi.PredefinedNeuronSet(node_set=\"Layer6\", sample_percentage=[50, 100])\n",
    "replay_neuron_set = obi.nbS1VPMInputs(sample_percentage=25)\n",
    "rec_neuron_set = obi.PredefinedNeuronSet(node_set=\"Layer6\", sample_percentage=100)\n",
    "property_neuron_set = obi.PropertyNeuronSet(\n",
    "    property_filter=[obi.scientific.circuit.neuron_sets.NeuronPropertyFilter(filter_dict={\"layer\": [\"1\", \"2\", \"3\"], \"synapse_class\": [\"INH\"]}),\n",
    "                     obi.scientific.circuit.neuron_sets.NeuronPropertyFilter(filter_dict={\"layer\": [\"4\", \"5\", \"6\"], \"synapse_class\": [\"EXC\"]})]\n",
    ")\n",
    "sim_conf.add(sim_neuron_set, name='SimNeurons')\n",
    "sim_conf.add(stim_neuron_set, name='StimNeurons')\n",
    "sim_conf.add(rec_neuron_set, name='RecNeurons')\n",
    "sim_conf.add(property_neuron_set, name='PropertyNeuronSet')\n",
    "sim_conf.add(replay_neuron_set, name=\"VPM_input\")\n",
    "\n",
    "# Stimuli\n",
    "current_stimulus = obi.ConstantCurrentClampSomaticStimulus(timestamps=regular_timesteps.ref, duration=5.0, neuron_set=stim_neuron_set.ref, amplitude=[0.2, 0.5])\n",
    "sync_current_stimulus = obi.ConstantCurrentClampSomaticStimulus(timestamps=regular_timesteps.ref, duration=100.0, neuron_set=stim_neuron_set.ref, amplitude=0.1)\n",
    "poisson_input = obi.PoissonSpikeStimulus(timestamps=regular_timesteps.ref, duration=800, frequency=20,\n",
    "                                         source_neuron_set=replay_neuron_set.ref,\n",
    "                                         targeted_neuron_set=stim_neuron_set.ref)\n",
    "sim_conf.add(current_stimulus, name='CurrentStimulus')\n",
    "sim_conf.add(sync_current_stimulus, name='SyncCurrentStimulus')\n",
    "sim_conf.add(poisson_input, name='PoissonInputStimulus')\n",
    "\n",
    "# Voltage Recordings\n",
    "voltage_recording = obi.SomaVoltageRecording(timestamps=regular_timesteps.ref, neuron_set=rec_neuron_set.ref, start_time=0.0, end_time=sim_duration)\n",
    "sim_conf.add(voltage_recording, name='SomaVoltRec')\n",
    "                                       \n",
    "# Initilization\n",
    "simulations_initialize = obi.SimulationsForm.Initialize(circuit=[circuit, circuit2], node_set=sim_neuron_set.ref, simulation_length=sim_duration)\n",
    "sim_conf.set(simulations_initialize, name='initialize')\n",
    "\n",
    "# Validated Config\n",
    "validated_sim_conf = sim_conf.validated_config()"
   ]
  },
  {
   "cell_type": "code",
   "execution_count": null,
   "metadata": {},
   "outputs": [],
   "source": [
    "grid_scan = obi.GridScan(form=validated_sim_conf, output_root='../../../../obi-output/circuit_simulations/grid_scan_vpm_hardcoded')\n",
    "grid_scan.multiple_value_parameters(display=True)\n",
    "grid_scan.coordinate_parameters(display=True)\n",
    "# grid_scan.coordinate_instances(display=True)\n",
    "grid_scan.execute(processing_method='generate')"
   ]
  },
  {
   "cell_type": "code",
   "execution_count": null,
   "metadata": {},
   "outputs": [],
   "source": [
    "# Spot check of generated spikes files\n",
    "import h5py\n",
    "\n",
    "h5 = h5py.File(\"../../../../obi-output/circuit_simulations/grid_scan_vpm_hardcoded/stimuli.CurrentStimulus.amplitude=0.2/neuron_sets.StimNeurons.sample_percentage=50.0/neuron_sets.PropertyNeuronSet.property_filter=layer=1,2,3,synapse_class=INH/initialize.circuit=N_10__top_nodes_dim6/PoissonInputStimulus_spikes.h5\", \"r\")\n",
    "\n",
    "print(h5[\"spikes\"].keys())\n",
    "print(h5[\"spikes/VPM\"][\"node_ids\"][:])\n",
    "h5.close()"
   ]
  },
  {
   "cell_type": "code",
   "execution_count": null,
   "metadata": {},
   "outputs": [],
   "source": [
    "# Deserialization\n",
    "grid_scan_ds = obi.deserialize_obi_object_from_json_file(\"../../../../obi-output/circuit_simulations/grid_scan_vpm_hardcoded/run_scan_config.json\")"
   ]
  },
  {
   "cell_type": "code",
   "execution_count": null,
   "metadata": {},
   "outputs": [],
   "source": [
    "grid_scan_ds"
   ]
  }
 ],
 "metadata": {
  "kernelspec": {
   "display_name": "obi-one (3.12.9)",
   "language": "python",
   "name": "python3"
  },
  "language_info": {
   "codemirror_mode": {
    "name": "ipython",
    "version": 3
   },
   "file_extension": ".py",
   "mimetype": "text/x-python",
   "name": "python",
   "nbconvert_exporter": "python",
   "pygments_lexer": "ipython3",
   "version": "3.12.9"
  }
 },
 "nbformat": 4,
 "nbformat_minor": 4
}
