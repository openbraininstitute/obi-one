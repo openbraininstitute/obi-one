{
 "cells": [
  {
   "cell_type": "markdown",
   "metadata": {},
   "source": [
    "# Circuit simulation examples"
   ]
  },
  {
   "cell_type": "code",
   "execution_count": 1,
   "metadata": {},
   "outputs": [],
   "source": [
    "import obi_one as obi\n",
    "from pathlib import Path"
   ]
  },
  {
   "cell_type": "code",
   "execution_count": 2,
   "metadata": {},
   "outputs": [],
   "source": [
    "circuit_path_prefix = Path(\"../../data/tiny_circuits\")"
   ]
  },
  {
   "cell_type": "markdown",
   "metadata": {},
   "source": [
    "### Loading two circuits"
   ]
  },
  {
   "cell_type": "code",
   "execution_count": 3,
   "metadata": {},
   "outputs": [
    {
     "name": "stdout",
     "output_type": "stream",
     "text": [
      "Circuit 'N_10__top_nodes_dim6' with 10 neurons and 176 synapses\n"
     ]
    }
   ],
   "source": [
    "circuit_name = \"N_10__top_nodes_dim6\"\n",
    "circuit = obi.Circuit(name=circuit_name, path=str(circuit_path_prefix / circuit_name / \"circuit_config.json\"))\n",
    "print(f\"Circuit '{circuit}' with {circuit.sonata_circuit.nodes[circuit.default_population_name].size} neurons and {circuit.sonata_circuit.edges[circuit.default_edge_population_name].size} synapses\")"
   ]
  },
  {
   "cell_type": "code",
   "execution_count": 4,
   "metadata": {},
   "outputs": [
    {
     "name": "stdout",
     "output_type": "stream",
     "text": [
      "Circuit 'N_10__top_rc_nodes_dim2_rc' with 10 neurons and 19 synapses\n"
     ]
    }
   ],
   "source": [
    "circuit2_name = \"N_10__top_rc_nodes_dim2_rc\"\n",
    "circuit2 = obi.Circuit(name=circuit2_name, path=str(circuit_path_prefix / circuit2_name / \"circuit_config.json\"))\n",
    "print(f\"Circuit '{circuit2}' with {circuit2.sonata_circuit.nodes[circuit2.default_population_name].size} neurons and {circuit2.sonata_circuit.edges[circuit2.default_edge_population_name].size} synapses\")"
   ]
  },
  {
   "cell_type": "markdown",
   "metadata": {},
   "source": [
    "### Example with two circuits and explicit node populations.\n",
    "\n",
    "Spike replay will use POm."
   ]
  },
  {
   "cell_type": "code",
   "execution_count": 5,
   "metadata": {},
   "outputs": [],
   "source": [
    "# Sim duration\n",
    "sim_duration = 3000.0\n",
    "\n",
    "# Empty Simulation Configuration\n",
    "sim_conf = obi.SimulationsForm.empty_config()\n",
    "\n",
    "# Info\n",
    "info = obi.Info(campaign_name=\"Small microcircuit simulation\", campaign_description=\"Simulation of two small microcircuits with predefined neuron set and constant current stimulus\")\n",
    "sim_conf.set(info, name=\"info\")\n",
    "\n",
    "# Timestamps\n",
    "regular_timesteps = obi.RegularTimestamps(start_time=0.0, number_of_repetitions=3, interval=1000.0)\n",
    "sim_conf.add(regular_timesteps, name='stim_times')\n",
    "\n",
    "# Neuron Sets\n",
    "node_pop = circuit._default_population_name(circuit.sonata_circuit)\n",
    "\n",
    "sim_neuron_set = obi.AllNeurons(node_population=node_pop)\n",
    "stim_neuron_set = sim_neuron_set\n",
    "replay_neuron_set = sim_neuron_set\n",
    "rec_neuron_set = sim_neuron_set\n",
    "property_neuron_set = sim_neuron_set\n",
    "\n",
    "# sim_neuron_set = obi.PredefinedNeuronSet(node_set=\"All\", node_population=node_pop)\n",
    "# stim_neuron_set = obi.PredefinedNeuronSet(node_set=\"Layer6\", sample_percentage=[50, 100], node_population=node_pop)\n",
    "# replay_neuron_set = obi.PredefinedNeuronSet(node_set=\"proj_Thalamocortical_POM_Source\", sample_percentage=25, node_population=\"POm\")\n",
    "# rec_neuron_set = obi.PredefinedNeuronSet(node_set=\"Layer6\", sample_percentage=100, node_population=node_pop)\n",
    "# property_neuron_set = obi.PropertyNeuronSet(\n",
    "#     property_filter=[obi.scientific.circuit.neuron_sets.NeuronPropertyFilter(filter_dict={\"layer\": [\"1\", \"2\", \"3\"], \"synapse_class\": [\"INH\"]}),\n",
    "#                      obi.scientific.circuit.neuron_sets.NeuronPropertyFilter(filter_dict={\"layer\": [\"4\", \"5\", \"6\"], \"synapse_class\": [\"EXC\"]})],\n",
    "#     node_population=node_pop\n",
    "# )\n",
    "sim_conf.add(sim_neuron_set, name='SimNeurons')\n",
    "sim_conf.add(stim_neuron_set, name='StimNeurons')\n",
    "sim_conf.add(rec_neuron_set, name='RecNeurons')\n",
    "sim_conf.add(property_neuron_set, name='PropertyNeuronSet')\n",
    "sim_conf.add(replay_neuron_set, name=\"POM_input\")\n",
    "\n",
    "# Stimuli\n",
    "current_stimulus = obi.ConstantCurrentClampSomaticStimulus(timestamps=regular_timesteps.ref, duration=5.0, neuron_set=stim_neuron_set.ref, amplitude=[0.2, 0.5])\n",
    "sync_current_stimulus = obi.ConstantCurrentClampSomaticStimulus(timestamps=regular_timesteps.ref, duration=100.0, neuron_set=stim_neuron_set.ref, amplitude=0.1)\n",
    "poisson_input = obi.PoissonSpikeStimulus(timestamps=regular_timesteps.ref, duration=800, frequency=20,\n",
    "                                         source_neuron_set=replay_neuron_set.ref,\n",
    "                                         targeted_neuron_set=stim_neuron_set.ref)\n",
    "sim_conf.add(current_stimulus, name='CurrentStimulus')\n",
    "sim_conf.add(sync_current_stimulus, name='SyncCurrentStimulus')\n",
    "sim_conf.add(poisson_input, name='PoissonInputStimulus')\n",
    "\n",
    "# Voltage Recordings\n",
    "voltage_recording = obi.SomaVoltageRecording(timestamps=regular_timesteps.ref, neuron_set=rec_neuron_set.ref, start_time=0.0, end_time=sim_duration)\n",
    "sim_conf.add(voltage_recording, name='SomaVoltRec')\n",
    "                                       \n",
    "# Initilization\n",
    "simulations_initialize = obi.SimulationsForm.Initialize(circuit=[circuit, circuit2], node_set=sim_neuron_set.ref, simulation_length=sim_duration)\n",
    "sim_conf.set(simulations_initialize, name='initialize')\n",
    "\n",
    "# Validated Config\n",
    "validated_sim_conf = sim_conf.validated_config()"
   ]
  },
  {
   "cell_type": "code",
   "execution_count": 6,
   "metadata": {},
   "outputs": [],
   "source": [
    "# simulations_form.model_dump(mode=\"json\")"
   ]
  },
  {
   "cell_type": "code",
   "execution_count": 7,
   "metadata": {},
   "outputs": [
    {
     "name": "stdout",
     "output_type": "stream",
     "text": [
      "[2025-09-24 17:12:33,213] INFO: \n",
      "MULTIPLE VALUE PARAMETERS\n",
      "[2025-09-24 17:12:33,213] INFO: stimuli.CurrentStimulus.amplitude: [0.2, 0.5]\n",
      "[2025-09-24 17:12:33,213] INFO: initialize.circuit: [Circuit(name='N_10__top_nodes_dim6', path='../../data/tiny_circuits/N_10__top_nodes_dim6/circuit_config.json', matrix_path=None, type='Circuit'), Circuit(name='N_10__top_rc_nodes_dim2_rc', path='../../data/tiny_circuits/N_10__top_rc_nodes_dim2_rc/circuit_config.json', matrix_path=None, type='Circuit')]\n",
      "[2025-09-24 17:12:33,218] INFO: initialize.circuit is a Circuit instance.\n",
      "[2025-09-24 17:12:33,248] INFO: initialize.circuit is a Circuit instance.\n",
      "[2025-09-24 17:12:33,278] INFO: initialize.circuit is a Circuit instance.\n",
      "[2025-09-24 17:12:33,307] INFO: initialize.circuit is a Circuit instance.\n"
     ]
    }
   ],
   "source": [
    "grid_scan = obi.GridScan(form=validated_sim_conf, output_root='../../../../obi-output/circuit_simulations/grid_scan_explicit')\n",
    "grid_scan.multiple_value_parameters(display=True)\n",
    "# grid_scan.coordinate_parameters(display=True)\n",
    "# grid_scan.coordinate_instances(display=True)\n",
    "grid_scan.execute()\n",
    "obi.run_task_for_single_configs(single_configs=grid_scan.single_configs)"
   ]
  },
  {
   "cell_type": "code",
   "execution_count": 8,
   "metadata": {},
   "outputs": [
    {
     "name": "stdout",
     "output_type": "stream",
     "text": [
      "<KeysViewHDF5 ['S1nonbarrel_neurons']>\n"
     ]
    }
   ],
   "source": [
    "# Spot check of generated spikes files\n",
    "import h5py\n",
    "\n",
    "h5 = h5py.File(\"../../../../obi-output/circuit_simulations/grid_scan_explicit/stimuli.CurrentStimulus.amplitude=0.2/initialize.circuit=N_10__top_nodes_dim6/PoissonInputStimulus_spikes.h5\", \"r\")\n",
    "\n",
    "print(h5[\"spikes\"].keys())\n",
    "# print(h5[\"spikes/POm\"][\"node_ids\"][:])\n",
    "h5.close()"
   ]
  },
  {
   "cell_type": "markdown",
   "metadata": {},
   "source": [
    "### Implicit node populations, i.e. using the default.\n",
    "\n",
    "Spike replay will use a subset of the default population, in this case: Layer2"
   ]
  },
  {
   "cell_type": "code",
   "execution_count": 9,
   "metadata": {},
   "outputs": [],
   "source": [
    "# Sim duration\n",
    "sim_duration = 3000.0\n",
    "\n",
    "# Empty Simulation Configuration\n",
    "sim_conf = obi.SimulationsForm.empty_config()\n",
    "\n",
    "# Info\n",
    "info = obi.Info(campaign_name=\"Small microcircuit simulation\", campaign_description=\"Simulation of two small microcircuits with predefined neuron set and constant current stimulus\")\n",
    "sim_conf.set(info, name=\"info\")\n",
    "\n",
    "# Timestamps\n",
    "regular_timesteps = obi.RegularTimestamps(start_time=0.0, number_of_repetitions=3, interval=1000.0)\n",
    "sim_conf.add(regular_timesteps, name='stim_times')\n",
    "\n",
    "# Neuron Sets\n",
    "sim_neuron_set = obi.AllNeurons()\n",
    "stim_neuron_set = sim_neuron_set\n",
    "replay_neuron_set = sim_neuron_set\n",
    "rec_neuron_set = sim_neuron_set\n",
    "property_neuron_set = sim_neuron_set\n",
    "# sim_neuron_set = obi.PredefinedNeuronSet(node_set=\"All\")\n",
    "# stim_neuron_set = obi.PredefinedNeuronSet(node_set=\"Layer6\", sample_percentage=[50, 100])\n",
    "# replay_neuron_set = obi.PredefinedNeuronSet(node_set=\"Layer6\", sample_percentage=25)\n",
    "# rec_neuron_set = obi.PredefinedNeuronSet(node_set=\"Layer6\", sample_percentage=100)\n",
    "# property_neuron_set = obi.PropertyNeuronSet(\n",
    "#     property_filter=[obi.scientific.circuit.neuron_sets.NeuronPropertyFilter(filter_dict={\"layer\": [\"1\", \"2\", \"3\"], \"synapse_class\": [\"INH\"]}),\n",
    "#                      obi.scientific.circuit.neuron_sets.NeuronPropertyFilter(filter_dict={\"layer\": [\"4\", \"5\", \"6\"], \"synapse_class\": [\"EXC\"]})]\n",
    "# )\n",
    "sim_conf.add(sim_neuron_set, name='SimNeurons')\n",
    "sim_conf.add(stim_neuron_set, name='StimNeurons')\n",
    "sim_conf.add(rec_neuron_set, name='RecNeurons')\n",
    "sim_conf.add(property_neuron_set, name='PropertyNeuronSet')\n",
    "sim_conf.add(replay_neuron_set, name=\"L6_input\")\n",
    "\n",
    "# Stimuli\n",
    "current_stimulus = obi.ConstantCurrentClampSomaticStimulus(timestamps=regular_timesteps.ref, duration=5.0, neuron_set=stim_neuron_set.ref, amplitude=[0.2, 0.5])\n",
    "sync_current_stimulus = obi.ConstantCurrentClampSomaticStimulus(timestamps=regular_timesteps.ref, duration=100.0, neuron_set=stim_neuron_set.ref, amplitude=0.1)\n",
    "poisson_input = obi.PoissonSpikeStimulus(timestamps=regular_timesteps.ref, duration=800, frequency=20,\n",
    "                                         source_neuron_set=replay_neuron_set.ref,\n",
    "                                         targeted_neuron_set=stim_neuron_set.ref)\n",
    "sim_conf.add(current_stimulus, name='CurrentStimulus')\n",
    "sim_conf.add(sync_current_stimulus, name='SyncCurrentStimulus')\n",
    "sim_conf.add(poisson_input, name='PoissonInputStimulus')\n",
    "\n",
    "# Voltage Recordings\n",
    "voltage_recording = obi.SomaVoltageRecording(timestamps=regular_timesteps.ref, neuron_set=rec_neuron_set.ref, start_time=0.0, end_time=sim_duration)\n",
    "sim_conf.add(voltage_recording, name='SomaVoltRec')\n",
    "                                       \n",
    "# Initilization\n",
    "simulations_initialize = obi.SimulationsForm.Initialize(circuit=[circuit, circuit2], node_set=sim_neuron_set.ref, simulation_length=sim_duration)\n",
    "sim_conf.set(simulations_initialize, name='initialize')\n",
    "\n",
    "# Validated Config\n",
    "validated_sim_conf = sim_conf.validated_config()"
   ]
  },
  {
   "cell_type": "code",
   "execution_count": 10,
   "metadata": {},
   "outputs": [
    {
     "name": "stdout",
     "output_type": "stream",
     "text": [
      "[2025-09-24 17:12:33,345] INFO: \n",
      "MULTIPLE VALUE PARAMETERS\n",
      "[2025-09-24 17:12:33,345] INFO: stimuli.CurrentStimulus.amplitude: [0.2, 0.5]\n",
      "[2025-09-24 17:12:33,345] INFO: initialize.circuit: [Circuit(name='N_10__top_nodes_dim6', path='../../data/tiny_circuits/N_10__top_nodes_dim6/circuit_config.json', matrix_path=None, type='Circuit'), Circuit(name='N_10__top_rc_nodes_dim2_rc', path='../../data/tiny_circuits/N_10__top_rc_nodes_dim2_rc/circuit_config.json', matrix_path=None, type='Circuit')]\n",
      "[2025-09-24 17:12:33,345] INFO: \n",
      "COORDINATE PARAMETERS\n",
      "[2025-09-24 17:12:33,345] INFO: stimuli.CurrentStimulus.amplitude: 0.2, initialize.circuit: N_10__top_nodes_dim6\n",
      "[2025-09-24 17:12:33,346] INFO: stimuli.CurrentStimulus.amplitude: 0.2, initialize.circuit: N_10__top_rc_nodes_dim2_rc\n",
      "[2025-09-24 17:12:33,346] INFO: stimuli.CurrentStimulus.amplitude: 0.5, initialize.circuit: N_10__top_nodes_dim6\n",
      "[2025-09-24 17:12:33,346] INFO: stimuli.CurrentStimulus.amplitude: 0.5, initialize.circuit: N_10__top_rc_nodes_dim2_rc\n",
      "[2025-09-24 17:12:33,350] INFO: initialize.circuit is a Circuit instance.\n",
      "[2025-09-24 17:12:33,381] INFO: initialize.circuit is a Circuit instance.\n",
      "[2025-09-24 17:12:33,412] INFO: initialize.circuit is a Circuit instance.\n",
      "[2025-09-24 17:12:33,441] INFO: initialize.circuit is a Circuit instance.\n"
     ]
    }
   ],
   "source": [
    "grid_scan = obi.GridScan(form=validated_sim_conf, output_root='../../../../obi-output/circuit_simulations/grid_scan_implicit')\n",
    "grid_scan.multiple_value_parameters(display=True)\n",
    "grid_scan.coordinate_parameters(display=True)\n",
    "# grid_scan.coordinate_instances(display=True)\n",
    "grid_scan.execute()\n",
    "obi.run_task_for_single_configs(single_configs=grid_scan.single_configs)"
   ]
  },
  {
   "cell_type": "code",
   "execution_count": 11,
   "metadata": {},
   "outputs": [
    {
     "name": "stdout",
     "output_type": "stream",
     "text": [
      "<KeysViewHDF5 ['S1nonbarrel_neurons']>\n",
      "[ 2 10  7  5  3  3  1  8  5  9  4  6  1  8  1  1  3  8  6 10  2  1  3  2\n",
      "  9  8  7  3 10  2  1  4  6  5  3  2  9  4  1  9  6  6  5  9  1 10 10  3\n",
      "  7  9  8  6  8 10 10  2  4  4  6  2 10  8  8  4  2  1  6  6  4  3  9  3\n",
      "  5  7  9  4  5  2  2  8  2  3  4 10  8  5  4  4  9  2  7  6  3 10  7  8\n",
      "  8  2  9  9  8  5  8  4  9  3  9  6  4  2  8  4  9  5  3  7  2  4  3  5\n",
      "  2  7  8  1  4  9  8  5  7  4  5  8 10  3  4 10  3  8  4  8  8  3  2  1\n",
      "  8  4  7  5  7  5  2  5  3 10  4  5  9  5  3  8  6  5  4  1  3  9  2  3\n",
      "  4  5  1 10  7  3  5  1  6  5  4  7  1  4  2  7  5  1  9  5  4  8  2  4\n",
      "  4  3  2  9  9  5 10  2  6 10  8 10  4  5  3  3  9  4 10  1  3  4  6  6\n",
      "  2 10  1  5  8  3  5  9  9  1  1  1 10  9  3  8  6  9  2  2  5  6  9  2\n",
      "  3  9  7  4  7  8  6 10 10  3  7  7  1  9  7  3  4  4  4  7  3  6  4  8\n",
      "  3  9  7  7  7  9  1  2  5  4  3  8  1  9 10  4 10  3  5  2  9  3  9  2\n",
      "  3  2  6  1  8  5  4  6  6  4  3  9  7 10  1  2  8 10  4  4 10  4  2  6\n",
      "  1  9  8  3  7  9  5  9  7  2  1 10  7  9  5  1  9  1  3  9  4  9  4  6\n",
      "  5  5  8  3  6  6  8  2  1  2  8  3  2  8  9  5  8 10  4  1  8  3  8  1\n",
      "  1  9  9 10  9  3 10  4  3  3  3 10  1  2  4  2  5  5  9  7  8  4  1  7\n",
      "  6  1  3  3  4  1  7  2  9  1  7  6 10  4  8  1  3  3  7 10  3  8  3  5\n",
      "  5  5  6  7 10  4  9  7  2  8  1  1  9  2  3  1  9  1  5  8 10  7  3  1\n",
      "  9  3  7 10]\n"
     ]
    }
   ],
   "source": [
    "# Spot check of generated spikes files\n",
    "import h5py\n",
    "\n",
    "h5 = h5py.File(\"../../../../obi-output/circuit_simulations/grid_scan_explicit/stimuli.CurrentStimulus.amplitude=0.2/initialize.circuit=N_10__top_nodes_dim6/PoissonInputStimulus_spikes.h5\", \"r\")\n",
    "\n",
    "print(h5[\"spikes\"].keys())\n",
    "print(h5[\"spikes/S1nonbarrel_neurons\"][\"node_ids\"][:])\n",
    "h5.close()"
   ]
  },
  {
   "cell_type": "markdown",
   "metadata": {},
   "source": [
    "### Implicit node populations, but still using an extrinsic population for replay.\n",
    "\n",
    "This is achieved using a hard coded VPM neuron set."
   ]
  },
  {
   "cell_type": "code",
   "execution_count": 12,
   "metadata": {},
   "outputs": [],
   "source": [
    "# Sim duration\n",
    "sim_duration = 3000.0\n",
    "\n",
    "# Empty Simulation Configuration\n",
    "sim_conf = obi.SimulationsForm.empty_config()\n",
    "\n",
    "# Info\n",
    "info = obi.Info(campaign_name=\"Small microcircuit simulation\", campaign_description=\"Simulation of two small microcircuits with predefined neuron set and constant current stimulus\")\n",
    "sim_conf.set(info, name=\"info\")\n",
    "\n",
    "# Timestamps\n",
    "regular_timesteps = obi.RegularTimestamps(start_time=0.0, number_of_repetitions=3, interval=1000.0)\n",
    "sim_conf.add(regular_timesteps, name='stim_times')\n",
    "\n",
    "# Neuron Sets\n",
    "sim_neuron_set = obi.AllNeurons()\n",
    "stim_neuron_set = sim_neuron_set\n",
    "rec_neuron_set = sim_neuron_set\n",
    "property_neuron_set = sim_neuron_set\n",
    "# sim_neuron_set = obi.PredefinedNeuronSet(node_set=\"All\")\n",
    "# stim_neuron_set = obi.PredefinedNeuronSet(node_set=\"Layer6\", sample_percentage=[50, 100])\n",
    "replay_neuron_set = obi.nbS1VPMInputs(sample_percentage=25)\n",
    "# rec_neuron_set = obi.PredefinedNeuronSet(node_set=\"Layer6\", sample_percentage=100)\n",
    "# property_neuron_set = obi.PropertyNeuronSet(\n",
    "#     property_filter=[obi.scientific.circuit.neuron_sets.NeuronPropertyFilter(filter_dict={\"layer\": [\"1\", \"2\", \"3\"], \"synapse_class\": [\"INH\"]}),\n",
    "#                      obi.scientific.circuit.neuron_sets.NeuronPropertyFilter(filter_dict={\"layer\": [\"4\", \"5\", \"6\"], \"synapse_class\": [\"EXC\"]})]\n",
    "# )\n",
    "sim_conf.add(sim_neuron_set, name='SimNeurons')\n",
    "sim_conf.add(stim_neuron_set, name='StimNeurons')\n",
    "sim_conf.add(rec_neuron_set, name='RecNeurons')\n",
    "sim_conf.add(property_neuron_set, name='PropertyNeuronSet')\n",
    "sim_conf.add(replay_neuron_set, name=\"VPM_input\")\n",
    "\n",
    "# Stimuli\n",
    "current_stimulus = obi.ConstantCurrentClampSomaticStimulus(timestamps=regular_timesteps.ref, duration=5.0, neuron_set=stim_neuron_set.ref, amplitude=[0.2, 0.5])\n",
    "sync_current_stimulus = obi.ConstantCurrentClampSomaticStimulus(timestamps=regular_timesteps.ref, duration=100.0, neuron_set=stim_neuron_set.ref, amplitude=0.1)\n",
    "poisson_input = obi.PoissonSpikeStimulus(timestamps=regular_timesteps.ref, duration=800, frequency=20,\n",
    "                                         source_neuron_set=replay_neuron_set.ref,\n",
    "                                         targeted_neuron_set=stim_neuron_set.ref)\n",
    "sim_conf.add(current_stimulus, name='CurrentStimulus')\n",
    "sim_conf.add(sync_current_stimulus, name='SyncCurrentStimulus')\n",
    "sim_conf.add(poisson_input, name='PoissonInputStimulus')\n",
    "\n",
    "# Voltage Recordings\n",
    "voltage_recording = obi.SomaVoltageRecording(timestamps=regular_timesteps.ref, neuron_set=rec_neuron_set.ref, start_time=0.0, end_time=sim_duration)\n",
    "sim_conf.add(voltage_recording, name='SomaVoltRec')\n",
    "                                       \n",
    "# Initilization\n",
    "simulations_initialize = obi.SimulationsForm.Initialize(circuit=[circuit, circuit2], node_set=sim_neuron_set.ref, simulation_length=sim_duration)\n",
    "sim_conf.set(simulations_initialize, name='initialize')\n",
    "\n",
    "# Validated Config\n",
    "validated_sim_conf = sim_conf.validated_config()"
   ]
  },
  {
   "cell_type": "code",
   "execution_count": 13,
   "metadata": {},
   "outputs": [
    {
     "name": "stdout",
     "output_type": "stream",
     "text": [
      "[2025-09-24 17:12:33,480] INFO: \n",
      "MULTIPLE VALUE PARAMETERS\n",
      "[2025-09-24 17:12:33,480] INFO: stimuli.CurrentStimulus.amplitude: [0.2, 0.5]\n",
      "[2025-09-24 17:12:33,480] INFO: initialize.circuit: [Circuit(name='N_10__top_nodes_dim6', path='../../data/tiny_circuits/N_10__top_nodes_dim6/circuit_config.json', matrix_path=None, type='Circuit'), Circuit(name='N_10__top_rc_nodes_dim2_rc', path='../../data/tiny_circuits/N_10__top_rc_nodes_dim2_rc/circuit_config.json', matrix_path=None, type='Circuit')]\n",
      "[2025-09-24 17:12:33,480] INFO: \n",
      "COORDINATE PARAMETERS\n",
      "[2025-09-24 17:12:33,481] INFO: stimuli.CurrentStimulus.amplitude: 0.2, initialize.circuit: N_10__top_nodes_dim6\n",
      "[2025-09-24 17:12:33,481] INFO: stimuli.CurrentStimulus.amplitude: 0.2, initialize.circuit: N_10__top_rc_nodes_dim2_rc\n",
      "[2025-09-24 17:12:33,481] INFO: stimuli.CurrentStimulus.amplitude: 0.5, initialize.circuit: N_10__top_nodes_dim6\n",
      "[2025-09-24 17:12:33,481] INFO: stimuli.CurrentStimulus.amplitude: 0.5, initialize.circuit: N_10__top_rc_nodes_dim2_rc\n",
      "[2025-09-24 17:12:33,486] INFO: initialize.circuit is a Circuit instance.\n",
      "[2025-09-24 17:12:33,517] INFO: initialize.circuit is a Circuit instance.\n",
      "[2025-09-24 17:12:33,550] INFO: initialize.circuit is a Circuit instance.\n",
      "[2025-09-24 17:12:33,581] INFO: initialize.circuit is a Circuit instance.\n"
     ]
    }
   ],
   "source": [
    "grid_scan = obi.GridScan(form=validated_sim_conf, output_root='../../../../obi-output/circuit_simulations/grid_scan_vpm_hardcoded')\n",
    "grid_scan.multiple_value_parameters(display=True)\n",
    "grid_scan.coordinate_parameters(display=True)\n",
    "# grid_scan.coordinate_instances(display=True)\n",
    "grid_scan.execute()\n",
    "obi.run_task_for_single_configs(single_configs=grid_scan.single_configs)"
   ]
  },
  {
   "cell_type": "code",
   "execution_count": 14,
   "metadata": {},
   "outputs": [
    {
     "name": "stdout",
     "output_type": "stream",
     "text": [
      "<KeysViewHDF5 ['VPM']>\n",
      "[  8 191  29 ... 160 106  29]\n"
     ]
    }
   ],
   "source": [
    "# Spot check of generated spikes files\n",
    "import h5py\n",
    "\n",
    "h5 = h5py.File(\"../../../../obi-output/circuit_simulations/grid_scan_vpm_hardcoded/stimuli.CurrentStimulus.amplitude=0.2/initialize.circuit=N_10__top_nodes_dim6/PoissonInputStimulus_spikes.h5\", \"r\")\n",
    "\n",
    "print(h5[\"spikes\"].keys())\n",
    "print(h5[\"spikes/VPM\"][\"node_ids\"][:])\n",
    "h5.close()"
   ]
  },
  {
   "cell_type": "code",
   "execution_count": 15,
   "metadata": {},
   "outputs": [],
   "source": [
    "# Deserialization\n",
    "# grid_scan_ds = obi.deserialize_obi_object_from_json_file(\"../../../../obi-output/circuit_simulations/grid_scan_vpm_hardcoded/run_scan_config.json\")"
   ]
  },
  {
   "cell_type": "code",
   "execution_count": 16,
   "metadata": {},
   "outputs": [],
   "source": [
    "# grid_scan_ds"
   ]
  }
 ],
 "metadata": {
  "kernelspec": {
   "display_name": "obi-one",
   "language": "python",
   "name": "obi-one"
  },
  "language_info": {
   "codemirror_mode": {
    "name": "ipython",
    "version": 3
   },
   "file_extension": ".py",
   "mimetype": "text/x-python",
   "name": "python",
   "nbconvert_exporter": "python",
   "pygments_lexer": "ipython3",
   "version": "3.12.9"
  }
 },
 "nbformat": 4,
 "nbformat_minor": 4
}
