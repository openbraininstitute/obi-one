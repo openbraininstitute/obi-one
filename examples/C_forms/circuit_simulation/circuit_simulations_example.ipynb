{
 "cells": [
  {
   "cell_type": "markdown",
   "metadata": {},
   "source": [
    "# Circuit simulation examples"
   ]
  },
  {
   "cell_type": "code",
   "execution_count": 1,
   "metadata": {},
   "outputs": [
    {
     "name": "stderr",
     "output_type": "stream",
     "text": [
      "/Users/james/Documents/obi/code/obi-one/.venv/lib/python3.12/site-packages/pydantic/_internal/_fields.py:198: UserWarning: Field name \"name\" in \"Publication\" shadows an attribute in parent \"Block\"\n",
      "  warnings.warn(\n",
      "/Users/james/Documents/obi/code/obi-one/.venv/lib/python3.12/site-packages/pydantic/_internal/_fields.py:198: UserWarning: Field name \"name\" in \"ReconstructionMorphology\" shadows an attribute in parent \"Block\"\n",
      "  warnings.warn(\n",
      "/Users/james/Documents/obi/code/obi-one/.venv/lib/python3.12/site-packages/pydantic/_internal/_fields.py:198: UserWarning: Field name \"name\" in \"Subject\" shadows an attribute in parent \"Block\"\n",
      "  warnings.warn(\n"
     ]
    }
   ],
   "source": [
    "import obi_one as obi"
   ]
  },
  {
   "cell_type": "code",
   "execution_count": 2,
   "metadata": {},
   "outputs": [],
   "source": [
    "circuit_path_prefix = \"/Users/james/Documents/obi/additional_data/O1_data/O1_data/\"\n",
    "# circuit_path_prefix = \"/Users/mwr/Documents/artefacts/SONATA/O1_data/\"\n",
    "# circuit_path_prefix = \"/Users/pokorny/Data/Circuits/\""
   ]
  },
  {
   "cell_type": "markdown",
   "metadata": {},
   "source": [
    "### Loading two circuits"
   ]
  },
  {
   "cell_type": "code",
   "execution_count": 3,
   "metadata": {},
   "outputs": [
    {
     "ename": "RuntimeError",
     "evalue": "Path `/Users/james/Documents/obi/additional_data/O1_data/O1_data/circuit_config_postfix.json` is not a file",
     "output_type": "error",
     "traceback": [
      "\u001b[31m---------------------------------------------------------------------------\u001b[39m",
      "\u001b[31mRuntimeError\u001b[39m                              Traceback (most recent call last)",
      "\u001b[36mCell\u001b[39m\u001b[36m \u001b[39m\u001b[32mIn[3]\u001b[39m\u001b[32m, line 2\u001b[39m\n\u001b[32m      1\u001b[39m \u001b[38;5;66;03m# circuit = obi.Circuit(name=\"ToyCircuit-S1-6k\", path=circuit_path_prefix + \"ToyCircuit-S1-6k/circuit_config.json\")\u001b[39;00m\n\u001b[32m----> \u001b[39m\u001b[32m2\u001b[39m circuit = \u001b[43mobi\u001b[49m\u001b[43m.\u001b[49m\u001b[43mCircuit\u001b[49m\u001b[43m(\u001b[49m\u001b[43mname\u001b[49m\u001b[43m=\u001b[49m\u001b[33;43m\"\u001b[39;49m\u001b[33;43mO1\u001b[39;49m\u001b[33;43m\"\u001b[39;49m\u001b[43m,\u001b[49m\u001b[43m \u001b[49m\u001b[43mpath\u001b[49m\u001b[43m=\u001b[49m\u001b[43mcircuit_path_prefix\u001b[49m\u001b[43m \u001b[49m\u001b[43m+\u001b[49m\u001b[43m \u001b[49m\u001b[33;43m\"\u001b[39;49m\u001b[33;43mcircuit_config_postfix.json\u001b[39;49m\u001b[33;43m\"\u001b[39;49m\u001b[43m)\u001b[49m\n\u001b[32m      3\u001b[39m \u001b[38;5;28mprint\u001b[39m(\u001b[33mf\u001b[39m\u001b[33m\"\u001b[39m\u001b[33mCircuit \u001b[39m\u001b[33m'\u001b[39m\u001b[38;5;132;01m{\u001b[39;00mcircuit\u001b[38;5;132;01m}\u001b[39;00m\u001b[33m'\u001b[39m\u001b[33m with \u001b[39m\u001b[38;5;132;01m{\u001b[39;00mcircuit.sonata_circuit.nodes.size\u001b[38;5;132;01m}\u001b[39;00m\u001b[33m neurons and \u001b[39m\u001b[38;5;132;01m{\u001b[39;00mcircuit.sonata_circuit.edges.size\u001b[38;5;132;01m}\u001b[39;00m\u001b[33m synapses\u001b[39m\u001b[33m\"\u001b[39m)\n",
      "\u001b[36mFile \u001b[39m\u001b[32m~/Documents/obi/code/obi-one/obi_one/scientific/circuit/circuit.py:21\u001b[39m, in \u001b[36mCircuit.__init__\u001b[39m\u001b[34m(self, name, path, **kwargs)\u001b[39m\n\u001b[32m     19\u001b[39m \u001b[38;5;250m\u001b[39m\u001b[33;03m\"\"\"Initialize object.\"\"\"\u001b[39;00m\n\u001b[32m     20\u001b[39m \u001b[38;5;28msuper\u001b[39m().\u001b[34m__init__\u001b[39m(name=name, path=path, **kwargs)\n\u001b[32m---> \u001b[39m\u001b[32m21\u001b[39m c = \u001b[43msnap\u001b[49m\u001b[43m.\u001b[49m\u001b[43mCircuit\u001b[49m\u001b[43m(\u001b[49m\u001b[38;5;28;43mself\u001b[39;49m\u001b[43m.\u001b[49m\u001b[43mpath\u001b[49m\u001b[43m)\u001b[49m  \u001b[38;5;66;03m# Basic check: Try to load the SONATA circuit w/o error\u001b[39;00m\n\u001b[32m     23\u001b[39m \u001b[38;5;28;01mif\u001b[39;00m \u001b[38;5;28mself\u001b[39m.matrix_path \u001b[38;5;129;01mis\u001b[39;00m \u001b[38;5;129;01mnot\u001b[39;00m \u001b[38;5;28;01mNone\u001b[39;00m:\n\u001b[32m     24\u001b[39m     cmat = ConnectivityMatrix.from_h5(\n\u001b[32m     25\u001b[39m         \u001b[38;5;28mself\u001b[39m.matrix_path\n\u001b[32m     26\u001b[39m     )  \u001b[38;5;66;03m# Basic check: Try to load the connectivity matrix w/o error\u001b[39;00m\n",
      "\u001b[36mFile \u001b[39m\u001b[32m~/Documents/obi/code/obi-one/.venv/lib/python3.12/site-packages/bluepysnap/circuit.py:46\u001b[39m, in \u001b[36mCircuit.__init__\u001b[39m\u001b[34m(self, config)\u001b[39m\n\u001b[32m     37\u001b[39m \u001b[38;5;250m\u001b[39m\u001b[33;03m\"\"\"Initializes a circuit object from a SONATA config file.\u001b[39;00m\n\u001b[32m     38\u001b[39m \n\u001b[32m     39\u001b[39m \u001b[33;03mArgs:\u001b[39;00m\n\u001b[32m   (...)\u001b[39m\u001b[32m     43\u001b[39m \u001b[33;03m    Circuit: A Circuit object.\u001b[39;00m\n\u001b[32m     44\u001b[39m \u001b[33;03m\"\"\"\u001b[39;00m\n\u001b[32m     45\u001b[39m \u001b[38;5;28mself\u001b[39m._circuit_config_path = \u001b[38;5;28mstr\u001b[39m(Path(config).absolute())\n\u001b[32m---> \u001b[39m\u001b[32m46\u001b[39m \u001b[38;5;28mself\u001b[39m._config = \u001b[43mCircuitConfig\u001b[49m\u001b[43m.\u001b[49m\u001b[43mfrom_config\u001b[49m\u001b[43m(\u001b[49m\u001b[43mconfig\u001b[49m\u001b[43m)\u001b[49m\n\u001b[32m     48\u001b[39m \u001b[38;5;28;01mif\u001b[39;00m \u001b[38;5;28mself\u001b[39m.partial_config:\n\u001b[32m     49\u001b[39m     L.info(\n\u001b[32m     50\u001b[39m         \u001b[33m\"\u001b[39m\u001b[33mLoaded PARTIAL circuit config. Functionality may be limited. \u001b[39m\u001b[33m\"\u001b[39m\n\u001b[32m     51\u001b[39m         \u001b[33m\"\u001b[39m\u001b[33mIt is up to the user to be diligent when accessing properties.\u001b[39m\u001b[33m\"\u001b[39m\n\u001b[32m     52\u001b[39m     )\n",
      "\u001b[36mFile \u001b[39m\u001b[32m~/Documents/obi/code/obi-one/.venv/lib/python3.12/site-packages/bluepysnap/config.py:176\u001b[39m, in \u001b[36mCircuitConfig.from_config\u001b[39m\u001b[34m(cls, config_path)\u001b[39m\n\u001b[32m    173\u001b[39m \u001b[38;5;129m@classmethod\u001b[39m\n\u001b[32m    174\u001b[39m \u001b[38;5;28;01mdef\u001b[39;00m\u001b[38;5;250m \u001b[39m\u001b[34mfrom_config\u001b[39m(\u001b[38;5;28mcls\u001b[39m, config_path):\n\u001b[32m    175\u001b[39m \u001b[38;5;250m    \u001b[39m\u001b[33;03m\"\"\"Instantiate the config class from circuit configuration.\"\"\"\u001b[39;00m\n\u001b[32m--> \u001b[39m\u001b[32m176\u001b[39m     \u001b[38;5;28;01mreturn\u001b[39;00m \u001b[38;5;28;43mcls\u001b[39;49m\u001b[43m(\u001b[49m\u001b[43mconfig_path\u001b[49m\u001b[43m,\u001b[49m\u001b[43m \u001b[49m\u001b[43mlibsonata\u001b[49m\u001b[43m.\u001b[49m\u001b[43mCircuitConfig\u001b[49m\u001b[43m)\u001b[49m\n",
      "\u001b[36mFile \u001b[39m\u001b[32m~/Documents/obi/code/obi-one/.venv/lib/python3.12/site-packages/bluepysnap/config.py:170\u001b[39m, in \u001b[36mCircuitConfig.__init__\u001b[39m\u001b[34m(self, *args)\u001b[39m\n\u001b[32m    168\u001b[39m \u001b[38;5;28;01mdef\u001b[39;00m\u001b[38;5;250m \u001b[39m\u001b[34m__init__\u001b[39m(\u001b[38;5;28mself\u001b[39m, *args):\n\u001b[32m    169\u001b[39m \u001b[38;5;250m    \u001b[39m\u001b[33;03m\"\"\"Initializes circuit config.\"\"\"\u001b[39;00m\n\u001b[32m--> \u001b[39m\u001b[32m170\u001b[39m     \u001b[38;5;28;43msuper\u001b[39;49m\u001b[43m(\u001b[49m\u001b[43m)\u001b[49m\u001b[43m.\u001b[49m\u001b[34;43m__init__\u001b[39;49m\u001b[43m(\u001b[49m\u001b[43m*\u001b[49m\u001b[43margs\u001b[49m\u001b[43m)\u001b[49m\n\u001b[32m    171\u001b[39m     \u001b[38;5;28mself\u001b[39m._populations = \u001b[38;5;28mself\u001b[39m._resolve_population_configs(\u001b[38;5;28mself\u001b[39m.to_dict())\n",
      "\u001b[36mFile \u001b[39m\u001b[32m~/Documents/obi/code/obi-one/.venv/lib/python3.12/site-packages/bluepysnap/config.py:153\u001b[39m, in \u001b[36mConfig.__init__\u001b[39m\u001b[34m(self, config, config_class)\u001b[39m\n\u001b[32m    145\u001b[39m \u001b[38;5;250m\u001b[39m\u001b[33;03m\"\"\"Initializes the Config class.\u001b[39;00m\n\u001b[32m    146\u001b[39m \n\u001b[32m    147\u001b[39m \u001b[33;03mArgs:\u001b[39;00m\n\u001b[32m   (...)\u001b[39m\u001b[32m    150\u001b[39m \u001b[33;03m        libsonata.CircuitConfig or libsonata.SimulationConfig\u001b[39;00m\n\u001b[32m    151\u001b[39m \u001b[33;03m\"\"\"\u001b[39;00m\n\u001b[32m    152\u001b[39m \u001b[38;5;28mself\u001b[39m._config_dir = \u001b[38;5;28mstr\u001b[39m(Path(config).parent.absolute())\n\u001b[32m--> \u001b[39m\u001b[32m153\u001b[39m \u001b[38;5;28mself\u001b[39m._libsonata = \u001b[43mconfig_class\u001b[49m\u001b[43m.\u001b[49m\u001b[43mfrom_file\u001b[49m\u001b[43m(\u001b[49m\u001b[43mconfig\u001b[49m\u001b[43m)\u001b[49m\n",
      "\u001b[31mRuntimeError\u001b[39m: Path `/Users/james/Documents/obi/additional_data/O1_data/O1_data/circuit_config_postfix.json` is not a file"
     ]
    }
   ],
   "source": [
    "# circuit = obi.Circuit(name=\"ToyCircuit-S1-6k\", path=circuit_path_prefix + \"ToyCircuit-S1-6k/circuit_config.json\")\n",
    "circuit = obi.Circuit(name=\"O1\", path=circuit_path_prefix + \"circuit_config_postfix.json\")\n",
    "print(f\"Circuit '{circuit}' with {circuit.sonata_circuit.nodes.size} neurons and {circuit.sonata_circuit.edges.size} synapses\")"
   ]
  },
  {
   "cell_type": "code",
   "execution_count": null,
   "metadata": {},
   "outputs": [],
   "source": [
    "# circuit2 = obi.Circuit(name=\"ToyCircuit-S1-6k-duplicate\", path=\"/Users/pokorny/Data/Circuits/ToyCircuit-S1-6k/circuit_config.json\")\n",
    "# circuit2 = obi.Circuit(name=\"nbS1-HEX0-beta\", path=circuit_path_prefix + \"ToyCircuit-S1-6k/circuit_config.json\")\n",
    "circuit2 = obi.Circuit(name=\"O1_2\", path=circuit_path_prefix + \"circuit_config.json\")\n",
    "print(f\"Circuit '{circuit2}' with {circuit2.sonata_circuit.nodes.size} neurons and {circuit2.sonata_circuit.edges.size} synapses\")"
   ]
  },
  {
   "cell_type": "markdown",
   "metadata": {},
   "source": [
    "Example with explicit node populations.\n",
    "\n",
    "Spike replay will use POm."
   ]
  },
  {
   "cell_type": "code",
   "execution_count": null,
   "metadata": {},
   "outputs": [],
   "source": [
    "# Sim duration\n",
    "sim_duration = 3000.0\n",
    "\n",
    "# Empty Simulation Configuration\n",
    "sim_conf = obi.SimulationsForm.empty_config()\n",
    "\n",
    "# Info\n",
    "info = obi.Info(name=\"O1 Simulation\", description=\"Simulation of O1 circuit with predefined neuron set and constant current stimulus\")\n",
    "sim_conf.set(info, name=\"info\")\n",
    "\n",
    "# Timestamps\n",
    "regular_timesteps = obi.RegularTimestamps(start_time=0.0, number_of_repetitions=3, interval=1000.0)\n",
    "sim_conf.add(regular_timesteps, name='stim_times')\n",
    "\n",
    "# Neuron Sets\n",
    "node_pop = circuit._default_population_name(circuit.sonata_circuit)\n",
    "\n",
    "sim_neuron_set = obi.PredefinedNeuronSet(node_set=\"Layer1\", node_population=node_pop)\n",
    "stim_neuron_set = obi.PredefinedNeuronSet(node_set=\"Layer1\", sample_percentage=[10, 20], node_population=node_pop)\n",
    "replay_neuron_set = obi.PredefinedNeuronSet(node_set=\"proj_Thalamocortical_POM_Source\", sample_percentage=25, node_population=\"POm\")\n",
    "rec_neuron_set = obi.PredefinedNeuronSet(node_set=\"Layer1\", sample_percentage=100, node_population=node_pop)\n",
    "property_neuron_set = obi.PropertyNeuronSet(\n",
    "    property_filter=[obi.scientific.circuit.neuron_sets.NeuronPropertyFilter(filter_dict={\"layer\": [2, 3], \"synapse_class\": [\"INH\"]}),\n",
    "                     obi.scientific.circuit.neuron_sets.NeuronPropertyFilter(filter_dict={\"layer\": [1, 2, 3], \"synapse_class\": [\"EXC\"]})],\n",
    "    node_population=node_pop\n",
    ")\n",
    "sim_conf.add(sim_neuron_set, name='L1All')\n",
    "sim_conf.add(stim_neuron_set, name='L1Stim')\n",
    "sim_conf.add(rec_neuron_set, name='L1Rec')\n",
    "sim_conf.add(property_neuron_set, name='PropertyNeuronSet')\n",
    "sim_conf.add(replay_neuron_set, name=\"POM_input\")\n",
    "\n",
    "# Stimuli\n",
    "current_stimulus = obi.ConstantCurrentClampSomaticStimulus(timestamps=regular_timesteps.ref, duration=5.0, neuron_set=stim_neuron_set.ref, amplitude=[0.2, 0.5])\n",
    "sync_current_stimulus = obi.ConstantCurrentClampSomaticStimulus(timestamps=regular_timesteps.ref, duration=100.0, neuron_set=stim_neuron_set.ref, amplitude=0.1)\n",
    "poisson_input = obi.PoissonSpikeStimulus(timestamps=regular_timesteps.ref, stim_duration=800, frequency=20,\n",
    "                                         source_neuron_set=replay_neuron_set.ref,\n",
    "                                         targeted_neuron_set=stim_neuron_set.ref)\n",
    "sim_conf.add(current_stimulus, name='CurrentStimulus')\n",
    "sim_conf.add(sync_current_stimulus, name='SyncCurrentStimulus')\n",
    "sim_conf.add(poisson_input, name='PoissonInputStimulus')\n",
    "\n",
    "# Voltage Recordings\n",
    "voltage_recording = obi.SomaVoltageRecording(timestamps=regular_timesteps.ref, neuron_set=rec_neuron_set.ref, start_time=0.0, end_time=sim_duration)\n",
    "sim_conf.add(voltage_recording, name='SomaVoltRec')\n",
    "                                       \n",
    "# Initilization\n",
    "simulations_initialize = obi.SimulationsForm.Initialize(circuit=[circuit, circuit2], node_set=sim_neuron_set.ref, simulation_length=sim_duration)\n",
    "sim_conf.set(simulations_initialize, name='initialize')\n",
    "\n",
    "# Validated Config\n",
    "validated_sim_conf = sim_conf.validated_config()"
   ]
  },
  {
   "cell_type": "code",
   "execution_count": null,
   "metadata": {},
   "outputs": [],
   "source": [
    "# simulations_form.model_dump(mode=\"json\")"
   ]
  },
  {
   "cell_type": "code",
   "execution_count": null,
   "metadata": {},
   "outputs": [],
   "source": [
    "grid_scan = obi.GridScan(form=validated_sim_conf, output_root='../../obi-output/circuit_simulations/grid_scan_explicit')\n",
    "grid_scan.multiple_value_parameters(display=True)\n",
    "grid_scan.coordinate_parameters(display=True)\n",
    "# grid_scan.coordinate_instances(display=True)\n",
    "grid_scan.execute(processing_method='generate')"
   ]
  },
  {
   "cell_type": "code",
   "execution_count": null,
   "metadata": {},
   "outputs": [],
   "source": [
    "# Spot check of generated spikes files\n",
    "import h5py\n",
    "\n",
    "h5 = h5py.File(\"../../obi-output/circuit_simulations/grid_scan_explicit/stimuli.CurrentStimulus.amplitude=0.2/neuron_sets.L1Stim.sample_percentage=10/neuron_sets.PropertyNeuronSet.property_filter=layer=1,2,3,synapse_class=EXC/initialize.circuit=O1/PoissonInputStimulus_spikes.h5\", \"r\")\n",
    "\n",
    "print(h5[\"spikes\"].keys())\n",
    "print(h5[\"spikes/POm\"][\"node_ids\"][:])\n",
    "h5.close()"
   ]
  },
  {
   "cell_type": "markdown",
   "metadata": {},
   "source": [
    "Implicit node populations, i.e. using the default.\n",
    "\n",
    "Spike replay will use a subset of the default population, in this case: Layer2"
   ]
  },
  {
   "cell_type": "code",
   "execution_count": null,
   "metadata": {},
   "outputs": [],
   "source": [
    "# Sim duration\n",
    "sim_duration = 3000.0\n",
    "\n",
    "# Empty Simulation Configuration\n",
    "sim_conf = obi.SimulationsForm.empty_config()\n",
    "\n",
    "# Info\n",
    "info = obi.Info(name=\"O1 Simulation\", description=\"Simulation of O1 circuit with predefined neuron set and constant current stimulus\")\n",
    "sim_conf.set(info, name=\"info\")\n",
    "\n",
    "# Timestamps\n",
    "regular_timesteps = obi.RegularTimestamps(start_time=0.0, number_of_repetitions=3, interval=1000.0)\n",
    "sim_conf.add(regular_timesteps, name='stim_times')\n",
    "\n",
    "# Neuron Sets\n",
    "sim_neuron_set = obi.PredefinedNeuronSet(node_set=\"Layer1\")\n",
    "stim_neuron_set = obi.PredefinedNeuronSet(node_set=\"Layer1\", sample_percentage=[10, 20])\n",
    "replay_neuron_set = obi.PredefinedNeuronSet(node_set=\"Layer2\", sample_percentage=0.25)\n",
    "rec_neuron_set = obi.PredefinedNeuronSet(node_set=\"Layer1\", sample_percentage=100)\n",
    "property_neuron_set = obi.PropertyNeuronSet(\n",
    "    property_filter=[obi.scientific.circuit.neuron_sets.NeuronPropertyFilter(filter_dict={\"layer\": [2, 3], \"synapse_class\": [\"INH\"]}),\n",
    "                     obi.scientific.circuit.neuron_sets.NeuronPropertyFilter(filter_dict={\"layer\": [1, 2, 3], \"synapse_class\": [\"EXC\"]})]\n",
    ")\n",
    "sim_conf.add(sim_neuron_set, name='L1All')\n",
    "sim_conf.add(stim_neuron_set, name='L1Stim')\n",
    "sim_conf.add(rec_neuron_set, name='L1Rec')\n",
    "sim_conf.add(property_neuron_set, name='PropertyNeuronSet')\n",
    "sim_conf.add(replay_neuron_set, name=\"L2_input\")\n",
    "\n",
    "# Stimuli\n",
    "current_stimulus = obi.ConstantCurrentClampSomaticStimulus(timestamps=regular_timesteps.ref, duration=5.0, neuron_set=stim_neuron_set.ref, amplitude=[0.2, 0.5])\n",
    "sync_current_stimulus = obi.ConstantCurrentClampSomaticStimulus(timestamps=regular_timesteps.ref, duration=100.0, neuron_set=stim_neuron_set.ref, amplitude=0.1)\n",
    "poisson_input = obi.PoissonSpikeStimulus(timestamps=regular_timesteps.ref, stim_duration=800, frequency=20,\n",
    "                                         source_neuron_set=replay_neuron_set.ref,\n",
    "                                         targeted_neuron_set=stim_neuron_set.ref)\n",
    "sim_conf.add(current_stimulus, name='CurrentStimulus')\n",
    "sim_conf.add(sync_current_stimulus, name='SyncCurrentStimulus')\n",
    "sim_conf.add(poisson_input, name='PoissonInputStimulus')\n",
    "\n",
    "# Voltage Recordings\n",
    "voltage_recording = obi.SomaVoltageRecording(timestamps=regular_timesteps.ref, neuron_set=rec_neuron_set.ref, start_time=0.0, end_time=sim_duration)\n",
    "sim_conf.add(voltage_recording, name='SomaVoltRec')\n",
    "                                       \n",
    "# Initilization\n",
    "simulations_initialize = obi.SimulationsForm.Initialize(circuit=[circuit, circuit2], node_set=sim_neuron_set.ref, simulation_length=sim_duration)\n",
    "sim_conf.set(simulations_initialize, name='initialize')\n",
    "\n",
    "# Validated Config\n",
    "validated_sim_conf = sim_conf.validated_config()"
   ]
  },
  {
   "cell_type": "code",
   "execution_count": null,
   "metadata": {},
   "outputs": [],
   "source": [
    "grid_scan = obi.GridScan(form=validated_sim_conf, output_root='../../obi-output/circuit_simulations/grid_scan_implicit')\n",
    "grid_scan.multiple_value_parameters(display=True)\n",
    "grid_scan.coordinate_parameters(display=True)\n",
    "# grid_scan.coordinate_instances(display=True)\n",
    "grid_scan.execute(processing_method='generate')"
   ]
  },
  {
   "cell_type": "code",
   "execution_count": null,
   "metadata": {},
   "outputs": [],
   "source": [
    "# Spot check of generated spikes files\n",
    "import h5py\n",
    "\n",
    "h5 = h5py.File(\"../../obi-output/circuit_simulations/grid_scan_implicit/stimuli.CurrentStimulus.amplitude=0.2/neuron_sets.L1Stim.sample_percentage=10/neuron_sets.PropertyNeuronSet.property_filter=layer=1,2,3,synapse_class=EXC/initialize.circuit=O1/PoissonInputStimulus_spikes.h5\", \"r\")\n",
    "\n",
    "print(h5[\"spikes\"].keys())\n",
    "print(h5[\"spikes/S1nonbarrel_neurons\"][\"node_ids\"][:])\n",
    "h5.close()"
   ]
  },
  {
   "cell_type": "markdown",
   "metadata": {},
   "source": [
    "Implicit node populations, but still using an extrinsic population for replay.\n",
    "\n",
    "This is achieved using a hard coded VPM neuron set."
   ]
  },
  {
   "cell_type": "code",
   "execution_count": null,
   "metadata": {},
   "outputs": [],
   "source": [
    "# Sim duration\n",
    "sim_duration = 3000.0\n",
    "\n",
    "# Empty Simulation Configuration\n",
    "sim_conf = obi.SimulationsForm.empty_config()\n",
    "\n",
    "# Info\n",
    "info = obi.Info(name=\"O1 Simulation\", description=\"Simulation of O1 circuit with predefined neuron set and constant current stimulus\")\n",
    "sim_conf.set(info, name=\"info\")\n",
    "\n",
    "# Timestamps\n",
    "regular_timesteps = obi.RegularTimestamps(start_time=0.0, number_of_repetitions=3, interval=1000.0)\n",
    "sim_conf.add(regular_timesteps, name='stim_times')\n",
    "\n",
    "# Neuron Sets\n",
    "sim_neuron_set = obi.PredefinedNeuronSet(node_set=\"Layer1\")\n",
    "stim_neuron_set = obi.PredefinedNeuronSet(node_set=\"Layer1\", sample_percentage=[10, 20])\n",
    "replay_neuron_set = obi.nbS1VPMInputs(sample_percentage=0.25)\n",
    "rec_neuron_set = obi.PredefinedNeuronSet(node_set=\"Layer1\", sample_percentage=100)\n",
    "property_neuron_set = obi.PropertyNeuronSet(\n",
    "    property_filter=[obi.scientific.circuit.neuron_sets.NeuronPropertyFilter(filter_dict={\"layer\": [2, 3], \"synapse_class\": [\"INH\"]}),\n",
    "                     obi.scientific.circuit.neuron_sets.NeuronPropertyFilter(filter_dict={\"layer\": [1, 2, 3], \"synapse_class\": [\"EXC\"]})]\n",
    ")\n",
    "sim_conf.add(sim_neuron_set, name='L1All')\n",
    "sim_conf.add(stim_neuron_set, name='L1Stim')\n",
    "sim_conf.add(rec_neuron_set, name='L1Rec')\n",
    "sim_conf.add(property_neuron_set, name='PropertyNeuronSet')\n",
    "sim_conf.add(replay_neuron_set, name=\"VPM_input\")\n",
    "\n",
    "# Stimuli\n",
    "current_stimulus = obi.ConstantCurrentClampSomaticStimulus(timestamps=regular_timesteps.ref, duration=5.0, neuron_set=stim_neuron_set.ref, amplitude=[0.2, 0.5])\n",
    "sync_current_stimulus = obi.ConstantCurrentClampSomaticStimulus(timestamps=regular_timesteps.ref, duration=100.0, neuron_set=stim_neuron_set.ref, amplitude=0.1)\n",
    "poisson_input = obi.PoissonSpikeStimulus(timestamps=regular_timesteps.ref, stim_duration=800, frequency=20,\n",
    "                                         source_neuron_set=replay_neuron_set.ref,\n",
    "                                         targeted_neuron_set=stim_neuron_set.ref)\n",
    "sim_conf.add(current_stimulus, name='CurrentStimulus')\n",
    "sim_conf.add(sync_current_stimulus, name='SyncCurrentStimulus')\n",
    "sim_conf.add(poisson_input, name='PoissonInputStimulus')\n",
    "\n",
    "# Voltage Recordings\n",
    "voltage_recording = obi.SomaVoltageRecording(timestamps=regular_timesteps.ref, neuron_set=rec_neuron_set.ref, start_time=0.0, end_time=sim_duration)\n",
    "sim_conf.add(voltage_recording, name='SomaVoltRec')\n",
    "                                       \n",
    "# Initilization\n",
    "simulations_initialize = obi.SimulationsForm.Initialize(circuit=[circuit, circuit2], node_set=sim_neuron_set.ref, simulation_length=sim_duration)\n",
    "sim_conf.set(simulations_initialize, name='initialize')\n",
    "\n",
    "# Validated Config\n",
    "validated_sim_conf = sim_conf.validated_config()"
   ]
  },
  {
   "cell_type": "code",
   "execution_count": null,
   "metadata": {},
   "outputs": [],
   "source": [
    "grid_scan = obi.GridScan(form=validated_sim_conf, output_root='../../obi-output/circuit_simulations/grid_scan_vpm_hardcoded')\n",
    "grid_scan.multiple_value_parameters(display=True)\n",
    "grid_scan.coordinate_parameters(display=True)\n",
    "# grid_scan.coordinate_instances(display=True)\n",
    "grid_scan.execute(processing_method='generate')"
   ]
  },
  {
   "cell_type": "code",
   "execution_count": null,
   "metadata": {},
   "outputs": [],
   "source": [
    "# Spot check of generated spikes files\n",
    "import h5py\n",
    "\n",
    "h5 = h5py.File(\"../../obi-output/circuit_simulations/grid_scan_vpm_hardcoded/stimuli.CurrentStimulus.amplitude=0.2/neuron_sets.L1Stim.sample_percentage=10/neuron_sets.PropertyNeuronSet.property_filter=layer=1,2,3,synapse_class=EXC/initialize.circuit=O1/PoissonInputStimulus_spikes.h5\", \"r\")\n",
    "\n",
    "print(h5[\"spikes\"].keys())\n",
    "print(h5[\"spikes/VPM\"][\"node_ids\"][:])\n",
    "h5.close()"
   ]
  },
  {
   "cell_type": "code",
   "execution_count": null,
   "metadata": {},
   "outputs": [],
   "source": [
    "# Deserialization\n",
    "grid_scan_ds = obi.deserialize_obi_object_from_json_file(\"../../obi-output/circuit_simulations/grid_scan_vpm_hardcoded/run_scan_config.json\")"
   ]
  },
  {
   "cell_type": "code",
   "execution_count": null,
   "metadata": {},
   "outputs": [],
   "source": [
    "grid_scan_ds"
   ]
  }
 ],
 "metadata": {
  "kernelspec": {
   "display_name": "obi-one (3.12.9)",
   "language": "python",
   "name": "python3"
  },
  "language_info": {
   "codemirror_mode": {
    "name": "ipython",
    "version": 3
   },
   "file_extension": ".py",
   "mimetype": "text/x-python",
   "name": "python",
   "nbconvert_exporter": "python",
   "pygments_lexer": "ipython3",
   "version": "3.12.9"
  }
 },
 "nbformat": 4,
 "nbformat_minor": 4
}
