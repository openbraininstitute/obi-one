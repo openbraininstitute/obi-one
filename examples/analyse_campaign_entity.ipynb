{
 "cells": [
  {
   "cell_type": "code",
   "execution_count": 1,
   "id": "caf49355",
   "metadata": {},
   "outputs": [],
   "source": [
    "import requests\n",
    "from obi_auth import get_token\n",
    "from entitysdk import Client, ProjectContext, models\n",
    "from enum import Enum\n",
    "\n",
    "class DatabaseEnvironment(Enum):\n",
    "    STAGING_DATABASE = \"staging\"\n",
    "    # PRODUCTION_DATABASE = \"production\"\n",
    "    # LOCAL_UNAUTHENTICATED = \"local_unauthenticated\"\n",
    "    # Note: LOCAL_AUTHENTICATED is not supported by entitycore because the project/vlab ids do not exist in your keycloak groups\n",
    "\n",
    "obi_one_api_url = \"http://127.0.0.1:8100\"\n",
    "# obi_one_api_url = \"https://staging.openbraininstitute.org/api/obi-one\"\n",
    "\n",
    "add_morphology_asset = False\n",
    "\n",
    "database_environment = DatabaseEnvironment.STAGING_DATABASE\n",
    "# database_environment = DatabaseEnvironment.PRODUCTION_DATABASE\n",
    "# database_environment = DatabaseEnvironment.LOCAL_UNAUTHENTICATED\n",
    "\n",
    "if database_environment == DatabaseEnvironment.STAGING_DATABASE:\n",
    "    \"\"\"\n",
    "    - Uncomment in obi-one/.env.run-local before \"make run-local\": \n",
    "        export ENTITYCORE_URL=https://staging.openbraininstitute.org/api/entitycore\n",
    "    \"\"\"\n",
    "    entitycore_api_url = \"https://staging.openbraininstitute.org/api/entitycore\"\n",
    "    virtual_lab_id=\"d6182f2e-ca09-4293-91d4-592b9e764ef7\"\n",
    "    project_id=\"b5484454-1c42-49e6-89fb-36e89109a2e1\"\n",
    "\n",
    "# elif database_environment == DatabaseEnvironment.PRODUCTION_DATABASE:\n",
    "#     \"\"\"\n",
    "#     For future: EntityCore not currently in production.\n",
    "#     - Uncomment in obi-one/.env.run-local before \"make run-local\": \n",
    "#         export ENTITYCORE_URL=https://www.openbraininstitute.org/api/entitycore\n",
    "#     \"\"\"\n",
    "#     entitycore_api_url = \"https://www.openbraininstitute.org/api/entitycore\"\n",
    "\n",
    "elif database_environment == DatabaseEnvironment.LOCAL_UNAUTHENTICATED:\n",
    "    \"\"\"\n",
    "    Not yet tested.\n",
    "    - Launch entitycore locally (make run-local)\n",
    "    - Add a morphology with a project name (see entitysdk)\n",
    "    \"\"\"\n",
    "    entitycore_api_url = \"http://127.0.0.1:8000\"\n",
    "    add_morphology_asset = True\n",
    "    virtual_lab_id=\"a98b7abc-fc46-4700-9e3d-37137812c730\"\n",
    "    project_id=\"0dbced5f-cc3d-488a-8c7f-cfb8ea039dc6\"\n",
    "    # virtual_lab_id=\"e6030ed8-a589-4be2-80a6-f975406eb1f6\"\n",
    "    # project_id=\"2720f785-a3a2-4472-969d-19a53891c817\"\n",
    "    \n",
    "else:\n",
    "    raise ValueError(f\"Unsupported environment: {database_environment}\")\n",
    "\n",
    "\n",
    "token = get_token(environment=\"staging\")\n",
    "project_context = ProjectContext(virtual_lab_id=virtual_lab_id, project_id=project_id)\n",
    "client = Client(api_url=entitycore_api_url, project_context=project_context, token_manager=token)"
   ]
  },
  {
   "cell_type": "code",
   "execution_count": null,
   "id": "1957860a",
   "metadata": {},
   "outputs": [],
   "source": []
  }
 ],
 "metadata": {
  "kernelspec": {
   "display_name": "obi-one",
   "language": "python",
   "name": "python3"
  },
  "language_info": {
   "codemirror_mode": {
    "name": "ipython",
    "version": 3
   },
   "file_extension": ".py",
   "mimetype": "text/x-python",
   "name": "python",
   "nbconvert_exporter": "python",
   "pygments_lexer": "ipython3",
   "version": "3.12.9"
  }
 },
 "nbformat": 4,
 "nbformat_minor": 5
}
