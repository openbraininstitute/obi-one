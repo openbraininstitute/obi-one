{
 "cells": [
  {
   "cell_type": "markdown",
   "id": "67c231aa",
   "metadata": {},
   "source": [
    "\n",
    "Circuit Simulation Example with OBI-One\n",
    "======================================\n",
    "\n",
    "This notebook demonstrates how to run circuit simulations using the obi-one simulation framework\n",
    "with [BlueCelluLab](https://github.com/openbraininstitute/BlueCelluLab) as the simulator."
   ]
  },
  {
   "cell_type": "code",
   "execution_count": null,
   "id": "fb4f3552",
   "metadata": {},
   "outputs": [],
   "source": [
    "import requests\n",
    "import obi_one as obi\n",
    "virtual_lab_id=obi.LAB_ID_STAGING_TEST\n",
    "project_id=obi.PROJECT_ID_STAGING_TEST\n",
    "from entitysdk import Client, ProjectContext\n",
    "\n",
    "from obi_auth import get_token\n",
    "from obi_notebook import get_projects\n",
    "\n",
    "obi_one_api_url = \"http://127.0.0.1:8100\"\n",
    "\n",
    "token = get_token(environment=\"staging\")\n",
    "project_context = ProjectContext(virtual_lab_id=obi.LAB_ID_STAGING_TEST, project_id=obi.PROJECT_ID_STAGING_TEST)\n",
    "db_client = Client(api_url=\"https://staging.openbraininstitute.org/api/entitycore\", project_context=project_context, token_manager=token)"
   ]
  },
  {
   "cell_type": "markdown",
   "id": "c22ef685",
   "metadata": {},
   "source": [
    "Now, let's generate the Simulation Config"
   ]
  },
  {
   "cell_type": "code",
   "execution_count": null,
   "id": "48fcc963",
   "metadata": {},
   "outputs": [],
   "source": [
    "from pathlib import Path\n",
    "import obi_one as obi\n",
    "\n",
    "# === Parameters ===\n",
    "sim_duration = 3000.0\n",
    "\n",
    "# === 1. Build Form (CircuitSimulationScanConfig) ===\n",
    "sim_form = obi.CircuitSimulationScanConfig.empty_config()\n",
    "\n",
    "# Info\n",
    "info = obi.Info(\n",
    "    campaign_name=\"Small Microcircuit Simulation\",\n",
    "    campaign_description=\"Simulation of circuit with predefined neuron set and constant current stimulus\"\n",
    ")\n",
    "sim_form.set(info, name=\"info\")\n",
    "\n",
    "# Neuron Sets\n",
    "sim_nset = obi.AllNeurons()\n",
    "sim_form.add(sim_nset, name=\"All Biophys\")\n",
    "\n",
    "# Timestamps\n",
    "timestamps = obi.RegularTimestamps(start_time=0.0, number_of_repetitions=1, interval=100)\n",
    "sim_form.add(timestamps, name=\"Timestamps\")\n",
    "\n",
    "# Stimulus\n",
    "stimulus = obi.PoissonSpikeStimulus(\n",
    "    duration=800.0,\n",
    "    timestamps=timestamps.ref,\n",
    "    frequency=20,\n",
    "    source_neuron_set=sim_nset.ref,\n",
    "    targeted_neuron_set=sim_nset.ref\n",
    ")\n",
    "sim_form.add(stimulus, name=\"PoissonInput\")\n",
    "\n",
    "stimulus = obi.ConstantCurrentClampSomaticStimulus(\n",
    "    timestamps=timestamps.ref, duration=2000.0, neuron_set=sim_nset.ref, amplitude=0.5\n",
    ")\n",
    "sim_form.add(stimulus, name=\"CurrentClampInput\")\n",
    "\n",
    "# Recording\n",
    "recording = obi.SomaVoltageRecording(neuron_set=sim_nset.ref)\n",
    "sim_form.add(recording, name=\"SomaVoltage\")\n",
    "\n",
    "# Initialization block\n",
    "init = obi.CircuitSimulationScanConfig.Initialize(\n",
    "    circuit=obi.CircuitFromID(id_str=\"13a54362-0c99-43fd-94e4-58bdb5b79466\"),\n",
    "    node_set=sim_nset.ref,\n",
    "    simulation_length=sim_duration,\n",
    ")\n",
    "sim_form.set(init, name=\"initialize\")\n",
    "# Validated Config\n",
    "validated_sim_conf = sim_form.validated_config()\n",
    "\n",
    "print(validated_sim_conf)\n",
    "\n",
    "# === 2. Wrap into a Simulation ===\n",
    "grid_scan = obi.GridScanGenerationTask(form=validated_sim_conf, coordinate_directory_option=\"ZERO_INDEX\", output_root='../../../obi-output/run_circuit_simulations/grid_scan')\n",
    "grid_scan.execute(db_client=db_client)\n",
    "obi.run_tasks_for_generated_scan(grid_scan, db_client=db_client)"
   ]
  },
  {
   "cell_type": "code",
   "execution_count": null,
   "id": "89a912e4",
   "metadata": {},
   "outputs": [],
   "source": [
    "# population_name = circuit.default_population_name\n",
    "simulation_config_path = grid_scan.single_configs[0].coordinate_output_root / \"simulation_config.json\"\n",
    "print(simulation_config_path)\n",
    "\n",
    "circuit_folder = grid_scan.single_configs[0].coordinate_output_root / \"sonata_circuit\""
   ]
  },
  {
   "cell_type": "markdown",
   "id": "ddb7b307",
   "metadata": {},
   "source": [
    "Get the path to the mod files and compile the mod files. "
   ]
  },
  {
   "cell_type": "code",
   "execution_count": null,
   "id": "0261e76d",
   "metadata": {},
   "outputs": [],
   "source": [
    "# Remove the old compiled mod files folder\n",
    "! rm -r arm64/\n",
    "# flag DISABLE_REPORTINGLIB to skip SonataReportHelper.mod and SonataReport.mod from compilation.\n",
    "!../../.venv/bin/nrnivmodl -incflags \"-DDISABLE_REPORTINGLIB\" {circuit_folder}/mod"
   ]
  },
  {
   "cell_type": "markdown",
   "id": "0208f8ce",
   "metadata": {},
   "source": [
    "Run circuit simulation using BlueCelluLab backend. In future, we will support Neurodamus backend as well. This will run a SONATA simulation.  "
   ]
  },
  {
   "cell_type": "code",
   "execution_count": null,
   "id": "dc875930",
   "metadata": {},
   "outputs": [],
   "source": [
    "# Run the simulation\n",
    "from obi_one.scientific.library.simulation_execution import run\n",
    "run(\n",
    "    simulation_config=simulation_config_path,\n",
    "    simulator=\"bluecellulab\", # Optional: bluecellulab or neurodamus. Default: bluecellulab\n",
    "    save_nwb=False            # Optional: Save results in NWB format. Default: False\n",
    ")"
   ]
  },
  {
   "cell_type": "markdown",
   "id": "22ea1a5d",
   "metadata": {},
   "source": [
    "The results are stored in the `output` directory. The logs are also stored in the `logs` in notebooks folder."
   ]
  },
  {
   "cell_type": "markdown",
   "id": "9a852052",
   "metadata": {},
   "source": [
    "### Spike Report Analysis using BluePySnap\n",
    "\n",
    "We will use the example [notebook](https://github.com/openbraininstitute/snap/blob/master/doc/source/notebooks/06_spike_reports.ipynb) from BluePySnap to analyse the spike report generated by the circuit simulation."
   ]
  },
  {
   "cell_type": "code",
   "execution_count": null,
   "id": "2217d2c0",
   "metadata": {},
   "outputs": [],
   "source": [
    "import bluepysnap\n",
    "\n",
    "snap_simulation = bluepysnap.Simulation(simulation_config_path)\n",
    "spikes = snap_simulation.spikes\n",
    "print(\n",
    "    spikes.time_start,\n",
    "    spikes.time_stop,\n",
    "    spikes.dt\n",
    ")\n",
    "print(spikes.population_names)"
   ]
  },
  {
   "cell_type": "code",
   "execution_count": null,
   "id": "cfbf0271",
   "metadata": {},
   "outputs": [],
   "source": [
    "spike_pop = spikes[population_name]\n",
    "node_population = spike_pop.nodes"
   ]
  },
  {
   "cell_type": "code",
   "execution_count": null,
   "id": "575074f4",
   "metadata": {},
   "outputs": [],
   "source": [
    "filtered = spikes.filter(group={'layer':'5'}, t_start=spikes.time_start, t_stop=spikes.time_stop)\n",
    "filtered.report.head()"
   ]
  },
  {
   "cell_type": "code",
   "execution_count": null,
   "id": "42df73fb",
   "metadata": {},
   "outputs": [],
   "source": [
    "filtered.raster();"
   ]
  },
  {
   "cell_type": "code",
   "execution_count": null,
   "id": "f9bde80d",
   "metadata": {},
   "outputs": [],
   "source": [
    "filtered.firing_rate_histogram();"
   ]
  },
  {
   "cell_type": "code",
   "execution_count": null,
   "id": "6e06a3ac",
   "metadata": {},
   "outputs": [],
   "source": [
    "import matplotlib.pyplot as plt\n",
    "import numpy as np\n",
    "\n",
    "ax = plt.gca()\n",
    "ax.set_xlabel(\"Time [ms]\")\n",
    "ax.set_ylabel(\"PSTH [Hz]\")\n",
    "ax.set_title(f\"PSTH for group: {filtered.group}\")\n",
    "\n",
    "times = filtered.report.index\n",
    "\n",
    "time_start = np.min(times)\n",
    "time_stop = np.max(times)\n",
    "\n",
    "# heuristic for a nice bin size (~100 spikes per bin on average)\n",
    "time_binsize = min(50.0, (time_stop - time_start) / ((len(times) / 100.0) + 1.0))\n",
    "\n",
    "bins = np.append(np.arange(time_start, time_stop, time_binsize), time_stop)\n",
    "hist, bin_edges = np.histogram(times, bins=bins)\n",
    "node_count = len(snap_simulation.circuit.nodes.ids(filtered.group))  # Get length of node ids for whole `group`\n",
    "freq = 1.0 * hist / node_count / (0.001 * time_binsize)\n",
    "\n",
    "# use the middle of the bins instead of the start of the bin\n",
    "ax.plot(0.5 * (bin_edges[1:] + bin_edges[:-1]), freq, label=\"PSTH\", drawstyle=\"steps-mid\");"
   ]
  },
  {
   "cell_type": "code",
   "execution_count": null,
   "id": "7891799c",
   "metadata": {},
   "outputs": [],
   "source": [
    "spikes.filter().raster();"
   ]
  },
  {
   "cell_type": "code",
   "execution_count": null,
   "id": "97fd63f2",
   "metadata": {},
   "outputs": [],
   "source": [
    "spikes.filter().raster(y_axis='etype');"
   ]
  },
  {
   "cell_type": "code",
   "execution_count": null,
   "id": "16834d60",
   "metadata": {},
   "outputs": [],
   "source": [
    "spikes.filter().isi(binsize=20);"
   ]
  },
  {
   "cell_type": "markdown",
   "id": "f9d38e72",
   "metadata": {},
   "source": [
    "### Soma Report Analysis\n",
    "\n",
    "Let's [load](https://github.com/openbraininstitute/snap/blob/master/doc/source/notebooks/07_frame_reports.ipynb) the soma report using BluePySnap and plot it."
   ]
  },
  {
   "cell_type": "code",
   "execution_count": null,
   "id": "63b2c8f4",
   "metadata": {},
   "outputs": [],
   "source": [
    "snap_simulation.reports"
   ]
  },
  {
   "cell_type": "code",
   "execution_count": null,
   "id": "a861746a",
   "metadata": {},
   "outputs": [],
   "source": [
    "soma_report = snap_simulation.reports['SomaVoltage']"
   ]
  },
  {
   "cell_type": "code",
   "execution_count": null,
   "id": "c1f20e88",
   "metadata": {},
   "outputs": [],
   "source": [
    "print(\n",
    "    soma_report.time_start,\n",
    "    soma_report.time_stop,\n",
    "    soma_report.dt\n",
    ")  # Gives a warning in case the dt differs from simulation.dt"
   ]
  },
  {
   "cell_type": "code",
   "execution_count": null,
   "id": "ac72ec47",
   "metadata": {},
   "outputs": [],
   "source": [
    "soma_report.population_names"
   ]
  },
  {
   "cell_type": "code",
   "execution_count": null,
   "id": "d62930b0",
   "metadata": {},
   "outputs": [],
   "source": [
    "soma_pop = soma_report[population_name]"
   ]
  },
  {
   "cell_type": "code",
   "execution_count": null,
   "id": "91224e1f",
   "metadata": {},
   "outputs": [],
   "source": [
    "node_population = soma_pop.nodes"
   ]
  },
  {
   "cell_type": "code",
   "execution_count": null,
   "id": "b9b2e42c",
   "metadata": {},
   "outputs": [],
   "source": [
    "ids = soma_pop.node_ids\n",
    "node_population.get(ids, properties=['layer','synapse_class','x','y','z']).head()"
   ]
  },
  {
   "cell_type": "code",
   "execution_count": null,
   "id": "a64a32e1",
   "metadata": {},
   "outputs": [],
   "source": [
    "filtered = soma_report.filter(group={'layer':'5'}, t_start= soma_report.time_start, t_stop= soma_report.time_stop)\n",
    "filtered.report.head()"
   ]
  }
 ],
 "metadata": {
  "kernelspec": {
   "display_name": "obi-one (3.12.9)",
   "language": "python",
   "name": "python3"
  },
  "language_info": {
   "codemirror_mode": {
    "name": "ipython",
    "version": 3
   },
   "file_extension": ".py",
   "mimetype": "text/x-python",
   "name": "python",
   "nbconvert_exporter": "python",
   "pygments_lexer": "ipython3",
   "version": "3.12.9"
  }
 },
 "nbformat": 4,
 "nbformat_minor": 5
}
