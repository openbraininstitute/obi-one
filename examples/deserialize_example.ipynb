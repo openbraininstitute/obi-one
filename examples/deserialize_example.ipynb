{
 "cells": [
  {
   "cell_type": "code",
   "execution_count": null,
   "metadata": {},
   "outputs": [],
   "source": [
    "import obi\n",
    "\n",
    "grid_scan = obi.deserialize_obi_object_json(\"/Users/james/Documents/obi/code/obi_output/circuit_simulations/grid_scan/generate_scan_config.json\")\n",
    "simulation = obi.deserialize_obi_object_json(\"/Users/james/Documents/obi/code/obi_output/circuit_simulations/grid_scan/5/generate_coordinate_instance.json\")"
   ]
  }
 ],
 "metadata": {
  "kernelspec": {
   "display_name": ".venv",
   "language": "python",
   "name": "python3"
  },
  "language_info": {
   "codemirror_mode": {
    "name": "ipython",
    "version": 3
   },
   "file_extension": ".py",
   "mimetype": "text/x-python",
   "name": "python",
   "nbconvert_exporter": "python",
   "pygments_lexer": "ipython3",
   "version": "3.11.11"
  }
 },
 "nbformat": 4,
 "nbformat_minor": 2
}
