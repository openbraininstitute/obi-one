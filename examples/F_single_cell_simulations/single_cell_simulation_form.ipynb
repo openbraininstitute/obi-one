{
 "cells": [
  {
   "cell_type": "markdown",
   "id": "853f83cd",
   "metadata": {},
   "source": [
    "# Single Cell Simulation Example with OBI-One Form Logic\n",
    "\n",
    "This notebook demonstrates how to run a single cell simulation using the OBI-One form-based workflow, similar to the circuit simulation example."
   ]
  },
  {
   "cell_type": "code",
   "execution_count": null,
   "id": "d3f57f39",
   "metadata": {},
   "outputs": [],
   "source": [
    "from entitysdk import Client\n",
    "from obi_auth import get_token\n",
    "from pathlib import Path\n",
    "\n",
    "from obi_notebook import get_projects\n",
    "from obi_notebook import get_entities\n",
    "import obi_one as obi\n",
    "\n",
    "token = get_token(environment=\"production\", auth_mode=\"daf\")\n",
    "project_context = get_projects.get_projects(token)"
   ]
  },
  {
   "cell_type": "code",
   "execution_count": null,
   "id": "4a98616d",
   "metadata": {},
   "outputs": [],
   "source": [
    "client = Client(environment=\"production\", project_context=project_context, token_manager=token)\n",
    "\n",
    "# Optional: Download using unique ID\n",
    "entity_ID = \"<MEMODEL-ID>\"  # <<< FILL IN UNIQUE MEModel ID HERE\n",
    "\n",
    "if entity_ID != \"<MEMODEL-ID>\":\n",
    "    mmemodel_ids = [entity_ID]\n",
    "else:\n",
    "# Alternative: Select from a table of entities\n",
    "    mmemodel_ids = []\n",
    "    mmemodel_ids = get_entities.get_entities(\"memodel\", token, mmemodel_ids,\n",
    "                                            project_context=project_context,\n",
    "                                            multi_select=False,\n",
    "                                            default_scale=\"small\")"
   ]
  },
  {
   "cell_type": "code",
   "execution_count": null,
   "id": "f2a0705c",
   "metadata": {},
   "outputs": [],
   "source": [
    "sonata_dir=Path('./sonata')\n",
    "memodel = obi.MEModelFromID(id_str=str(mmemodel_ids[0]))\n",
    "circuit = memodel.stage_as_form_circuit(db_client=client, dest_dir=Path(sonata_dir))"
   ]
  },
  {
   "cell_type": "code",
   "execution_count": 6,
   "id": "645cd4f2",
   "metadata": {},
   "outputs": [],
   "source": [
    "import obi_one as obi\n",
    "from pathlib import Path\n",
    "\n",
    "# === Parameters ===\n",
    "sim_duration = 1000.0  # ms\n",
    "cell_id = 0  # Change as needed\n",
    "\n",
    "# === 1. Build Form (SimulationsForm) ===\n",
    "sim_form = obi.SimulationsForm.empty_config()\n",
    "\n",
    "# Info\n",
    "info = obi.Info(\n",
    "    campaign_name=\"Single Cell Simulation\",\n",
    "    campaign_description=\"Simulation of a single cell with constant current stimulus\"\n",
    ")\n",
    "sim_form.set(info, name=\"info\")\n",
    "\n",
    "# Timestamps\n",
    "timestamps = obi.RegularTimestamps(start_time=0.0, number_of_repetitions=1, interval=100)\n",
    "sim_form.add(timestamps, name=\"Timestamps\")\n",
    "\n",
    "# Stimulus\n",
    "stimulus = obi.ConstantCurrentClampSomaticStimulus(\n",
    "    timestamps=timestamps.ref, duration=800.0, amplitude=0.5\n",
    ")\n",
    "sim_form.add(stimulus, name=\"CurrentClampInput\")\n",
    "\n",
    "# Recording\n",
    "recording = obi.SomaVoltageRecording()\n",
    "sim_form.add(recording, name=\"SomaVoltage\")\n",
    "\n",
    "\n",
    "init = obi.SimulationsForm.Initialize(\n",
    "    circuit=circuit,\n",
    "    simulation_length=sim_duration,\n",
    ")\n",
    "sim_form.set(init, name=\"initialize\")"
   ]
  },
  {
   "cell_type": "code",
   "execution_count": 10,
   "id": "2b45b105",
   "metadata": {},
   "outputs": [],
   "source": [
    "# === 2. Wrap into a Simulation ===\n",
    "simulation = obi.Simulation(**sim_form.model_dump())\n",
    "simulation.coordinate_output_root = \".\"\n",
    "\n",
    "# === 3. Generate simulation_config.json + node_sets.json ===\n",
    "simulation.generate()  # Add db_client if needed"
   ]
  },
  {
   "cell_type": "code",
   "execution_count": null,
   "id": "2ac8d1b0",
   "metadata": {},
   "outputs": [],
   "source": [
    "# Remove the old compiled mod files folder\n",
    "! rm -r arm64/\n",
    "# flag DISABLE_REPORTINGLIB to skip SonataReportHelper.mod and SonataReport.mod from compilation.\n",
    "!../../.venv/bin/nrnivmodl -incflags \"-DDISABLE_REPORTINGLIB\" {sonata_dir}/mechanisms"
   ]
  },
  {
   "cell_type": "code",
   "execution_count": null,
   "id": "21c38545",
   "metadata": {},
   "outputs": [],
   "source": [
    "# === 4. Run the simulation (BlueCelluLab backend) ===\n",
    "from obi_one.scientific.simulation.execution import run\n",
    "\n",
    "run(\n",
    "    simulation_config='simulation_config.json',\n",
    "    simulator='bluecellulab',\n",
    "    save_nwb=False\n",
    ")"
   ]
  },
  {
   "cell_type": "markdown",
   "id": "9f6f3ee8",
   "metadata": {},
   "source": [
    "## Results\n",
    "The results are stored in the `output` directory. You can analyze the voltage traces and other outputs as needed."
   ]
  },
  {
   "cell_type": "code",
   "execution_count": 13,
   "id": "09e0ce35",
   "metadata": {},
   "outputs": [
    {
     "name": "stdout",
     "output_type": "stream",
     "text": [
      "0 1000.0 0.025\n",
      "['All']\n"
     ]
    }
   ],
   "source": [
    "import bluepysnap\n",
    "simulation_config_path = Path(\".\") / \"simulation_config.json\"\n",
    "snap_simulation = bluepysnap.Simulation(simulation_config_path)\n",
    "spikes = snap_simulation.spikes\n",
    "print(\n",
    "    spikes.time_start,\n",
    "    spikes.time_stop,\n",
    "    spikes.dt\n",
    ")\n",
    "print(spikes.population_names)"
   ]
  },
  {
   "cell_type": "code",
   "execution_count": 14,
   "id": "71d9f51e",
   "metadata": {},
   "outputs": [
    {
     "data": {
      "text/html": [
       "<div>\n",
       "<style scoped>\n",
       "    .dataframe tbody tr th:only-of-type {\n",
       "        vertical-align: middle;\n",
       "    }\n",
       "\n",
       "    .dataframe tbody tr th {\n",
       "        vertical-align: top;\n",
       "    }\n",
       "\n",
       "    .dataframe thead th {\n",
       "        text-align: right;\n",
       "    }\n",
       "</style>\n",
       "<table border=\"1\" class=\"dataframe\">\n",
       "  <thead>\n",
       "    <tr style=\"text-align: right;\">\n",
       "      <th></th>\n",
       "      <th>ids</th>\n",
       "      <th>population</th>\n",
       "    </tr>\n",
       "    <tr>\n",
       "      <th>times</th>\n",
       "      <th></th>\n",
       "      <th></th>\n",
       "    </tr>\n",
       "  </thead>\n",
       "  <tbody>\n",
       "    <tr>\n",
       "      <th>1.000000e-10</th>\n",
       "      <td>0</td>\n",
       "      <td>All</td>\n",
       "    </tr>\n",
       "    <tr>\n",
       "      <th>1.570000e+01</th>\n",
       "      <td>0</td>\n",
       "      <td>All</td>\n",
       "    </tr>\n",
       "    <tr>\n",
       "      <th>3.242500e+01</th>\n",
       "      <td>0</td>\n",
       "      <td>All</td>\n",
       "    </tr>\n",
       "    <tr>\n",
       "      <th>4.920000e+01</th>\n",
       "      <td>0</td>\n",
       "      <td>All</td>\n",
       "    </tr>\n",
       "    <tr>\n",
       "      <th>6.595000e+01</th>\n",
       "      <td>0</td>\n",
       "      <td>All</td>\n",
       "    </tr>\n",
       "  </tbody>\n",
       "</table>\n",
       "</div>"
      ],
      "text/plain": [
       "              ids population\n",
       "times                       \n",
       "1.000000e-10    0        All\n",
       "1.570000e+01    0        All\n",
       "3.242500e+01    0        All\n",
       "4.920000e+01    0        All\n",
       "6.595000e+01    0        All"
      ]
     },
     "execution_count": 14,
     "metadata": {},
     "output_type": "execute_result"
    }
   ],
   "source": [
    "population_name = circuit.default_population_name\n",
    "\n",
    "spike_pop = spikes[population_name]\n",
    "node_population = spike_pop.nodes\n",
    "filtered = spikes.filter( t_start=spikes.time_start, t_stop=spikes.time_stop)\n",
    "filtered.report.head()"
   ]
  },
  {
   "cell_type": "code",
   "execution_count": 15,
   "id": "ba2c3226",
   "metadata": {},
   "outputs": [
    {
     "data": {
      "text/plain": [
       "{'SomaVoltage': <bluepysnap.frame_report.SomaReport at 0x34230fb90>}"
      ]
     },
     "execution_count": 15,
     "metadata": {},
     "output_type": "execute_result"
    }
   ],
   "source": [
    "snap_simulation.reports"
   ]
  },
  {
   "cell_type": "code",
   "execution_count": 16,
   "id": "69bb8d5d",
   "metadata": {},
   "outputs": [
    {
     "name": "stderr",
     "output_type": "stream",
     "text": [
      "WARNING:bluepysnap.frame_report:dt from the report differs from the global simulation dt.\n"
     ]
    },
    {
     "name": "stdout",
     "output_type": "stream",
     "text": [
      "0.0 1000.0 0.1\n"
     ]
    }
   ],
   "source": [
    "soma_report = snap_simulation.reports['SomaVoltage']\n",
    "print(\n",
    "    soma_report.time_start,\n",
    "    soma_report.time_stop,\n",
    "    soma_report.dt\n",
    ")  # Gives a warning in case the dt differs from simulation.dt"
   ]
  }
 ],
 "metadata": {
  "kernelspec": {
   "display_name": ".venv",
   "language": "python",
   "name": "python3"
  },
  "language_info": {
   "codemirror_mode": {
    "name": "ipython",
    "version": 3
   },
   "file_extension": ".py",
   "mimetype": "text/x-python",
   "name": "python",
   "nbconvert_exporter": "python",
   "pygments_lexer": "ipython3",
   "version": "3.12.10"
  }
 },
 "nbformat": 4,
 "nbformat_minor": 5
}
