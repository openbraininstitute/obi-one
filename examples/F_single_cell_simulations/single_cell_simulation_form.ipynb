{
 "cells": [
  {
   "cell_type": "markdown",
   "id": "853f83cd",
   "metadata": {},
   "source": [
    "# Single Cell Simulation Example with OBI-One Form Logic\n",
    "\n",
    "This notebook demonstrates how to run a single cell simulation using the OBI-One form-based workflow, similar to the circuit simulation example."
   ]
  },
  {
   "cell_type": "code",
   "execution_count": null,
   "id": "645cd4f2",
   "metadata": {},
   "outputs": [],
   "source": [
    "import obi_one as obi\n",
    "from pathlib import Path\n",
    "import json\n",
    "\n",
    "# === Parameters ===\n",
    "output_path = Path('.')\n",
    "sim_duration = 1000.0  # ms\n",
    "cell_id = 0  # Change as needed\n",
    "single_cell_path = 'components/'\n",
    "config_path =  f'{single_cell_path}circuit_config.json'\n",
    "\n",
    "# === 1. Build Form (SimulationsForm) ===\n",
    "sim_form = obi.SimulationsForm.empty_config()\n",
    "\n",
    "# Info\n",
    "info = obi.Info(\n",
    "    campaign_name=\"Single Cell Simulation\",\n",
    "    campaign_description=\"Simulation of a single cell with constant current stimulus\"\n",
    ")\n",
    "sim_form.set(info, name=\"info\")\n",
    "\n",
    "# Timestamps\n",
    "timestamps = obi.RegularTimestamps(start_time=0.0, number_of_repetitions=1, interval=100)\n",
    "sim_form.add(timestamps, name=\"Timestamps\")\n",
    "\n",
    "# Stimulus\n",
    "stimulus = obi.ConstantCurrentClampSomaticStimulus(\n",
    "    timestamps=timestamps.ref, duration=800.0, amplitude=0.5\n",
    ")\n",
    "sim_form.add(stimulus, name=\"CurrentClampInput\")\n",
    "\n",
    "# Recording\n",
    "recording = obi.SomaVoltageRecording()\n",
    "sim_form.add(recording, name=\"SomaVoltage\")\n",
    "\n",
    "# Initialization block\n",
    "with open(config_path) as f:\n",
    "    cell_config = json.load(f)\n",
    "\n",
    "# init = obi.SimulationsForm.Initialize(\n",
    "#     circuit=obi.SingleCell(name=\"test\", path=config_path),\n",
    "#     simulation_length=sim_duration,\n",
    "# )\n",
    "init = obi.SimulationsForm.Initialize(\n",
    "    circuit=obi.Circuit(name=\"test\", path=config_path),\n",
    "    simulation_length=sim_duration,\n",
    ")\n",
    "sim_form.set(init, name=\"initialize\")"
   ]
  },
  {
   "cell_type": "code",
   "execution_count": 2,
   "id": "2b45b105",
   "metadata": {},
   "outputs": [],
   "source": [
    "# === 2. Wrap into a Simulation ===\n",
    "simulation = obi.Simulation(**sim_form.model_dump())\n",
    "simulation.coordinate_output_root = output_path\n",
    "\n",
    "# === 3. Generate simulation_config.json + node_sets.json ===\n",
    "simulation.generate()  # Add db_client if needed"
   ]
  },
  {
   "cell_type": "code",
   "execution_count": null,
   "id": "2ac8d1b0",
   "metadata": {},
   "outputs": [],
   "source": [
    "# Remove the old compiled mod files folder\n",
    "! rm -r arm64/\n",
    "# flag DISABLE_REPORTINGLIB to skip SonataReportHelper.mod and SonataReport.mod from compilation.\n",
    "!../../.venv/bin/nrnivmodl -incflags \"-DDISABLE_REPORTINGLIB\" {single_cell_path}/mechanisms"
   ]
  },
  {
   "cell_type": "code",
   "execution_count": null,
   "id": "21c38545",
   "metadata": {},
   "outputs": [],
   "source": [
    "# === 4. Run the simulation (BlueCelluLab backend) ===\n",
    "from obi_one.scientific.simulation.execution import run\n",
    "\n",
    "run(\n",
    "    simulation_config='simulation_config.json',\n",
    "    simulator='bluecellulab',\n",
    "    save_nwb=False\n",
    ")"
   ]
  },
  {
   "cell_type": "markdown",
   "id": "9f6f3ee8",
   "metadata": {},
   "source": [
    "## Results\n",
    "The results are stored in the `output` directory. You can analyze the voltage traces and other outputs as needed."
   ]
  }
 ],
 "metadata": {
  "kernelspec": {
   "display_name": ".venv",
   "language": "python",
   "name": "python3"
  },
  "language_info": {
   "codemirror_mode": {
    "name": "ipython",
    "version": 3
   },
   "file_extension": ".py",
   "mimetype": "text/x-python",
   "name": "python",
   "nbconvert_exporter": "python",
   "pygments_lexer": "ipython3",
   "version": "3.12.10"
  }
 },
 "nbformat": 4,
 "nbformat_minor": 5
}
