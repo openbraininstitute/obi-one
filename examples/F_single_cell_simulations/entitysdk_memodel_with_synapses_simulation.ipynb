{
 "cells": [
  {
   "cell_type": "markdown",
   "id": "853f83cd",
   "metadata": {},
   "source": [
    "# MEModel With Synapses Simulation Example with OBI-One Form Logic\n",
    "\n",
    "This notebook demonstrates how to run a MEModel With Synapses simulation using the OBI-One form-based workflow, similar to the circuit simulation example."
   ]
  },
  {
   "cell_type": "code",
   "execution_count": null,
   "id": "d3f57f39",
   "metadata": {},
   "outputs": [],
   "source": [
    "from entitysdk import Client\n",
    "from obi_auth import get_token\n",
    "\n",
    "import obi_one as obi\n",
    "from entitysdk import Client, ProjectContext\n",
    "\n",
    "\n",
    "obi_one_api_url = \"http://127.0.0.1:8100\"\n",
    "\n",
    "token = get_token(environment=\"staging\")\n",
    "project_context = ProjectContext(virtual_lab_id=obi.LAB_ID_STAGING_TEST, project_id=obi.PROJECT_ID_STAGING_TEST)\n",
    "db_client = Client(api_url=\"https://staging.openbraininstitute.org/api/entitycore\", project_context=project_context, token_manager=token)"
   ]
  },
  {
   "cell_type": "code",
   "execution_count": null,
   "id": "3d53d7c1",
   "metadata": {},
   "outputs": [],
   "source": [
    "entity_ID = \"5c43e35b-7e44-4705-a2a1-2e5ac24af536\""
   ]
  },
  {
   "cell_type": "code",
   "execution_count": null,
   "id": "645cd4f2",
   "metadata": {},
   "outputs": [],
   "source": [
    "from pathlib import Path\n",
    "import obi_one as obi\n",
    "\n",
    "# === Parameters ===\n",
    "sim_duration = 3000.0\n",
    "\n",
    "sim_form = obi.MEModelWithSynapsesCircuitSimulationScanConfig.empty_config()\n",
    "\n",
    "# Info\n",
    "info = obi.Info(\n",
    "    campaign_name=\"MEModel With Synapses Simulation\",\n",
    "    campaign_description=\"Simulation of example MEModel With Synapses\"\n",
    ")\n",
    "sim_form.set(info, name=\"info\")\n",
    "\n",
    "\n",
    "# Timestamps\n",
    "timestamps = obi.RegularTimestamps(start_time=0.0, number_of_repetitions=1, interval=100)\n",
    "sim_form.add(timestamps, name=\"Timestamps\")\n",
    "\n",
    "# Stimulus\n",
    "stimulus = obi.PoissonSpikeStimulus(\n",
    "    duration=800.0,\n",
    "    timestamps=timestamps.ref,\n",
    "    frequency=20,\n",
    ")\n",
    "sim_form.add(stimulus, name=\"PoissonInput\")\n",
    "\n",
    "stimulus = obi.ConstantCurrentClampSomaticStimulus(\n",
    "    timestamps=timestamps.ref, duration=2000.0, amplitude=0.5\n",
    ")\n",
    "sim_form.add(stimulus, name=\"CurrentClampInput\")\n",
    "\n",
    "# Recording\n",
    "recording = obi.SomaVoltageRecording()\n",
    "sim_form.add(recording, name=\"SomaVoltage\")\n",
    "\n",
    "# Initialization block\n",
    "init = obi.MEModelWithSynapsesCircuitSimulationScanConfig.Initialize(\n",
    "    circuit=obi.MEModelWithSynapsesCircuitFromID(id_str=entity_ID),\n",
    "    simulation_length=sim_duration,\n",
    ")\n",
    "sim_form.set(init, name=\"initialize\")\n",
    "# Validated Config\n",
    "validated_sim_conf = sim_form.validated_config()\n",
    "\n",
    "print(validated_sim_conf)\n",
    "\n",
    "# === 2. Wrap into a Simulation ===\n",
    "grid_scan = obi.GridScanGenerationTask(form=validated_sim_conf, coordinate_directory_option=\"ZERO_INDEX\", output_root='../../../obi-output/run_circuit_simulations/grid_scan')\n",
    "grid_scan.execute(db_client=db_client)\n",
    "obi.run_tasks_for_generated_scan(grid_scan, db_client=db_client)"
   ]
  },
  {
   "cell_type": "code",
   "execution_count": null,
   "id": "2b45b105",
   "metadata": {},
   "outputs": [],
   "source": [
    "simulation_config_path = grid_scan.single_configs[0].coordinate_output_root / \"simulation_config.json\"\n",
    "print(simulation_config_path)\n",
    "\n",
    "circuit_folder = grid_scan.single_configs[0].coordinate_output_root / \"sonata_circuit\""
   ]
  },
  {
   "cell_type": "code",
   "execution_count": null,
   "id": "2ac8d1b0",
   "metadata": {},
   "outputs": [],
   "source": [
    "# Remove the old compiled mod files folder\n",
    "! rm -r arm64/\n",
    "# flag DISABLE_REPORTINGLIB to skip SonataReportHelper.mod and SonataReport.mod from compilation.\n",
    "!../../.venv/bin/nrnivmodl -incflags \"-DDISABLE_REPORTINGLIB\" {circuit_folder}/mod"
   ]
  },
  {
   "cell_type": "code",
   "execution_count": null,
   "id": "21c38545",
   "metadata": {},
   "outputs": [],
   "source": [
    "# === 4. Run the simulation (BlueCelluLab backend) ===\n",
    "from obi_one.scientific.library.simulation_execution import run\n",
    "\n",
    "run(\n",
    "    simulation_config=simulation_config_path,\n",
    "    simulator='bluecellulab',\n",
    "    save_nwb=False\n",
    ")"
   ]
  },
  {
   "cell_type": "markdown",
   "id": "9f6f3ee8",
   "metadata": {},
   "source": [
    "## Results\n",
    "The results are stored in the `output` directory. You can analyze the voltage traces and other outputs as needed."
   ]
  },
  {
   "cell_type": "code",
   "execution_count": null,
   "id": "09e0ce35",
   "metadata": {},
   "outputs": [],
   "source": [
    "import bluepysnap\n",
    "snap_simulation = bluepysnap.Simulation(simulation_config_path)\n",
    "spikes = snap_simulation.spikes\n",
    "print(\n",
    "    spikes.time_start,\n",
    "    spikes.time_stop,\n",
    "    spikes.dt\n",
    ")\n",
    "print(spikes.population_names)"
   ]
  },
  {
   "cell_type": "code",
   "execution_count": null,
   "id": "71d9f51e",
   "metadata": {},
   "outputs": [],
   "source": [
    "spike_pop = spikes[spikes.population_names[0]]\n",
    "node_population = spike_pop.nodes\n",
    "filtered = spikes.filter( t_start=spikes.time_start, t_stop=spikes.time_stop)\n",
    "filtered.report.head()"
   ]
  },
  {
   "cell_type": "code",
   "execution_count": null,
   "id": "ba2c3226",
   "metadata": {},
   "outputs": [],
   "source": [
    "snap_simulation.reports"
   ]
  },
  {
   "cell_type": "code",
   "execution_count": null,
   "id": "69bb8d5d",
   "metadata": {},
   "outputs": [],
   "source": [
    "soma_report = snap_simulation.reports['SomaVoltage']\n",
    "print(\n",
    "    soma_report.time_start,\n",
    "    soma_report.time_stop,\n",
    "    soma_report.dt\n",
    ")  # Gives a warning in case the dt differs from simulation.dt"
   ]
  }
 ],
 "metadata": {
  "kernelspec": {
   "display_name": "obi-one (3.12.9)",
   "language": "python",
   "name": "python3"
  },
  "language_info": {
   "codemirror_mode": {
    "name": "ipython",
    "version": 3
   },
   "file_extension": ".py",
   "mimetype": "text/x-python",
   "name": "python",
   "nbconvert_exporter": "python",
   "pygments_lexer": "ipython3",
   "version": "3.12.9"
  }
 },
 "nbformat": 4,
 "nbformat_minor": 5
}
