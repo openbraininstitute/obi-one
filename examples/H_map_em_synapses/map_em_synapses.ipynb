{
 "cells": [
  {
   "cell_type": "code",
   "execution_count": null,
   "id": "816e26b3",
   "metadata": {},
   "outputs": [],
   "source": [
    "import obi_auth\n",
    "\n",
    "from obi_notebook.get_projects import get_projects\n",
    "from obi_notebook.get_entities import get_entities\n",
    "\n",
    "from entitysdk.models import CellMorphology, EMCellMesh, EMDenseReconstructionDataset, Circuit\n",
    "from entitysdk import Client\n",
    "from entitysdk._server_schemas import AssetLabel\n",
    "\n",
    "token = obi_auth.get_token(environment=\"staging\", auth_mode=\"daf\")\n",
    "project_context = get_projects(token, env=\"staging\")"
   ]
  },
  {
   "cell_type": "code",
   "execution_count": null,
   "id": "ce6c1505",
   "metadata": {},
   "outputs": [],
   "source": [
    "entity_client = Client(token_manager=token, project_context=project_context, environment=\"staging\")\n",
    "morphology_ids = []\n",
    "\n",
    "get_entities(entity_type=\"cell-morphology\", token=token,\n",
    "             project_context=project_context, env=\"staging\",\n",
    "             result=morphology_ids)"
   ]
  },
  {
   "cell_type": "code",
   "execution_count": null,
   "id": "9cb24cc9",
   "metadata": {},
   "outputs": [],
   "source": [
    "from obi_one.scientific.tasks.em_synapse_mapping import EMSynapseMappingTask, EMSynapseMappingSingleConfig\n",
    "from obi_one.scientific.from_id import cell_morphology_from_id\n",
    "\n",
    "m = cell_morphology_from_id.CellMorphologyFromID(id_str=morphology_ids[0])\n",
    "task_config = EMSynapseMappingSingleConfig(initialize=EMSynapseMappingSingleConfig.Initialize(\n",
    "    spiny_neuron=m,\n",
    "), coordinate_output_root=\"obi-one-test\")\n",
    "\n",
    "task = EMSynapseMappingTask(config=task_config)"
   ]
  },
  {
   "cell_type": "code",
   "execution_count": null,
   "id": "55cc5764",
   "metadata": {},
   "outputs": [],
   "source": [
    "pt_root_id = int(m.entity(entity_client).name.split(\"-\")[-1])\n",
    "found_circuits = entity_client.search_entity(entity_type=Circuit, query={\n",
    "    \"name__ilike\": f\"{pt_root_id}\"\n",
    "}, limit=10).all()\n",
    "if len(found_circuits) > 0:\n",
    "    print(f\"Found the following already existing entities that may built from the selected morphology with identifier {pt_root_id}:\")\n",
    "    print([_circ.name for _circ in found_circuits])\n",
    "    print(\"Are you sure you want to continue?\")\n",
    "else:\n",
    "    task.execute(entity_client)"
   ]
  },
  {
   "cell_type": "markdown",
   "id": "28fde857",
   "metadata": {},
   "source": [
    "# OLD, MANUAL VERSION BELOW"
   ]
  },
  {
   "cell_type": "code",
   "execution_count": null,
   "id": "7fb20594",
   "metadata": {},
   "outputs": [],
   "source": [
    "import os \n",
    "from pathlib import Path\n",
    "from neurom.io.utils import load_morphology_with_spines\n",
    "\n",
    "db_client = entity_client\n",
    "out_root = Path(\"obi-one-test\")\n",
    "os.makedirs(out_root / \"morphologies/morphology\", exist_ok=True)\n",
    "morph_entity = m.entity(db_client)\n",
    "\n",
    "fn_morphology_out_h5 = os.path.join(\"morphologies\", morph_entity.name + \".h5\")\n",
    "fn_morphology_out_swc = os.path.join(\"morphologies/morphology\", morph_entity.name + \".swc\")\n",
    "m.write_spiny_neuron_h5(out_root / fn_morphology_out_h5, db_client=db_client)\n",
    "smooth_morph = m.neurom_morphology(db_client)\n",
    "smooth_morph.to_morphio().as_mutable().write(out_root / fn_morphology_out_swc)\n",
    "spiny_morph = load_morphology_with_spines(str(out_root / fn_morphology_out_h5))\n",
    "\n"
   ]
  },
  {
   "cell_type": "code",
   "execution_count": null,
   "id": "af7072e3",
   "metadata": {},
   "outputs": [],
   "source": [
    "morphology_entity = entity_client.get_entity(entity_id=morphology_ids[0], entity_type=CellMorphology,\n",
    "                                      project_context=project_context)\n",
    "pt_root_id = int(morphology_entity.name.split(\"-\")[1])\n",
    "source_mesh_entity = list(entity_client.search_entity(entity_type=EMCellMesh, query={\n",
    "    \"dense_reconstruction_cell_id\": pt_root_id\n",
    "}))[0]\n",
    "source_dataset = entity_client.get_entity(entity_id=source_mesh_entity.em_dense_reconstruction_dataset.id,\n",
    "                                   entity_type=EMDenseReconstructionDataset)\n",
    "spiny_morph_assets = [asset for asset in morphology_entity.assets if asset.label == AssetLabel.morphology_with_spines]\n",
    "\n",
    "if len(spiny_morph_assets) == 0:\n",
    "    print(\"This morphology has no representation with spines. Please select a morphology with spines!\")\n",
    "\n",
    "fn = entity_client.download_file(entity_id=morphology_entity.id, entity_type=CellMorphology, asset_id=spiny_morph_assets[0].id,\n",
    "                          project_context=project_context, output_path=morphology_entity.name+\".h5\")"
   ]
  },
  {
   "cell_type": "code",
   "execution_count": null,
   "id": "83dc7ece",
   "metadata": {},
   "outputs": [],
   "source": [
    "found_circuits = entity_client.search_entity(entity_type=Circuit, query={\n",
    "    \"name__ilike\": f\"{pt_root_id}\"\n",
    "}, limit=10).all()\n",
    "if len(found_circuits) > 0:\n",
    "    print(f\"Found the following already existing entities that may built from the selected morphology with identifier {pt_root_id}:\")\n",
    "    print([_circ.name for _circ in found_circuits])\n",
    "    print(\"Are you sure you want to continue?\")"
   ]
  },
  {
   "cell_type": "code",
   "execution_count": null,
   "id": "cc4016f6",
   "metadata": {},
   "outputs": [],
   "source": [
    "import os, shutil\n",
    "import numpy\n",
    "\n",
    "from obi_one.scientific.library.map_em_synapses import map_afferents_to_spiny_morphology, write_edges, write_nodes\n",
    "from obi_one.scientific.library.map_em_synapses.map_synapse_locations import synapse_info_df\n",
    "from obi_one.scientific.library.map_em_synapses.write_sonata_edge_file import _STR_PRE_NODE, _STR_POST_NODE\n",
    "from obi_one.scientific.library.map_em_synapses.write_sonata_nodes_file import assemble_collection_from_specs\n",
    "\n",
    "from neurom import load_morphology_with_spines\n",
    "\n",
    "\n",
    "# START: USER CONFIGURATION\n",
    "#  SONATA\n",
    "out_root = \"./output/sonata\"\n",
    "edge_population_name = \"synaptome_afferents\"\n",
    "node_population_pre = \"synaptome_afferent_neurons\"\n",
    "node_population_post = \"biophysical_neuron\"\n",
    "\n",
    "# OUTPUTS\n",
    "fn_edges_out = f\"{pt_root_id}-sonata_edges.h5\"\n",
    "fn_nodes_out = f\"{pt_root_id}-sonata_nodes.h5\"\n",
    "# END: USER CONFIGURATION\n",
    "\n",
    "# MORE OUTPUTS\n",
    "fn_morphology_out_h5 = os.path.join(\"morphologies\", morphology_entity.name + \".h5\")\n",
    "fn_morphology_out_swc = os.path.join(\"morphologies/morphology\", morphology_entity.name + \".swc\")\n",
    "\n",
    "# FROM PROVENANCE\n",
    "#  CAVECLIENT\n",
    "_version = source_mesh_entity.release_version\n",
    "_datastack_name = source_dataset.cave_datastack\n",
    "_cave_client_url = source_dataset.cave_client_url\n",
    "\n",
    "# LOAD DATA\n",
    "m = load_morphology_with_spines(fn, spines_are_centered=True)\n",
    "os.makedirs(os.path.join(out_root, \"morphologies/morphology\"), exist_ok=True)\n",
    "shutil.copy(fn, os.path.join(out_root, \"morphologies\"))\n",
    "morphio_morph = m.to_morphio().as_mutable()\n",
    "morphio_morph.soma.diameters += 1E-3\n",
    "morphio_morph.write(os.path.join(out_root, fn_morphology_out_swc))\n"
   ]
  },
  {
   "cell_type": "markdown",
   "id": "1f628f09",
   "metadata": {},
   "source": [
    "## Load afferent synapses using CAVEclient"
   ]
  },
  {
   "cell_type": "code",
   "execution_count": null,
   "id": "fc695615",
   "metadata": {},
   "outputs": [],
   "source": [
    "from caveclient import CAVEclient\n",
    "\n",
    "client = CAVEclient(_datastack_name, server_address=_cave_client_url)\n",
    "client.version = _version\n",
    "info = client._info.get_datastack_info()\n",
    "\n",
    "syns = synapse_info_df(client, pt_root_id, client.info.viewer_resolution(),\n",
    "                       col_location=\"post_pt_position\")\n",
    "print(f\"Loaded {len(syns)} synapses.\")"
   ]
  },
  {
   "cell_type": "markdown",
   "id": "87f1f165",
   "metadata": {},
   "source": [
    "## Find locations of synapses on the morphology"
   ]
  },
  {
   "cell_type": "code",
   "execution_count": null,
   "id": "a962bc4f",
   "metadata": {},
   "outputs": [],
   "source": [
    "mapped_synapses_df, mesh_res = map_afferents_to_spiny_morphology(m, syns, add_quality_info=True)"
   ]
  },
  {
   "cell_type": "code",
   "execution_count": null,
   "id": "be7ed073",
   "metadata": {},
   "outputs": [],
   "source": [
    "def plot_mapping_stats(mapped_synapses_df, mesh_res,\n",
    "                       plt_max_dist=3.0, nbins=99):\n",
    "    from matplotlib import pyplot as plt\n",
    "\n",
    "    dbins = numpy.linspace(0, plt_max_dist, nbins)\n",
    "    w = numpy.mean(numpy.diff(dbins))\n",
    "\n",
    "    frst_dist = numpy.maximum(mapped_synapses_df[\"distance\"], 0.0)\n",
    "    sec_dist = mapped_synapses_df[\"competing_distance\"]\n",
    "\n",
    "    fig = plt.figure(figsize=(2.5, 4))\n",
    "    ax = fig.add_subplot(2, 1, 1)\n",
    "\n",
    "    ax.bar(dbins[1:], numpy.histogram(frst_dist, bins=dbins)[0], width=w, label=\"Dist.: Nearest structure\")\n",
    "    ax.bar(dbins[1:], numpy.histogram(sec_dist, bins=dbins)[0], width=w, label=\"Dist.: Second nearest structure\")\n",
    "    ymx = ax.get_ylim()[1] * 0.85\n",
    "    ax.plot([mesh_res, mesh_res], [0, ymx], color=\"black\", label=\"Mesh resolution\")\n",
    "    ax.set_ylabel(\"Synapse count\")\n",
    "    ax.set_frame_on(False)\n",
    "    plt.legend()\n",
    "\n",
    "    ax = fig.add_subplot(2, 1, 2)\n",
    "\n",
    "    ax.bar(dbins[1:], numpy.histogram(sec_dist - frst_dist, bins=dbins)[0],\n",
    "           facecolor=\"grey\", width=w, label=\"Difference\")\n",
    "    ymx = ax.get_ylim()[1] * 0.85\n",
    "    ax.plot([mesh_res, mesh_res], [0, ymx], color=\"black\", label=\"Mesh resolution\")\n",
    "    ax.set_xlabel(\"um\")\n",
    "    ax.set_ylabel(\"Synapse count\")\n",
    "    ax.set_frame_on(False)\n",
    "    plt.legend()\n",
    "    print(((sec_dist - frst_dist) >= mesh_res).mean())\n",
    "\n",
    "    return fig\n",
    "\n",
    "plot_mapping_stats(mapped_synapses_df, mesh_res)"
   ]
  },
  {
   "cell_type": "markdown",
   "id": "e756bd5e",
   "metadata": {},
   "source": [
    "## Write mapped synapses to SONATA edges"
   ]
  },
  {
   "cell_type": "code",
   "execution_count": null,
   "id": "9a74bd0a",
   "metadata": {},
   "outputs": [],
   "source": [
    "pre_pt_root_to_sonata = syns[\"pre_pt_root_id\"].drop_duplicates().reset_index(drop=True).reset_index().set_index(\"pre_pt_root_id\")\n",
    "post_pt_root_to_sonata = syns[\"post_pt_root_id\"].drop_duplicates().reset_index(drop=True).reset_index().set_index(\"post_pt_root_id\")\n",
    "\n",
    "syn_pre_post_df = pre_pt_root_to_sonata.loc[syns[\"pre_pt_root_id\"]].rename(columns={\"index\": _STR_PRE_NODE})\n",
    "syn_pre_post_df[_STR_POST_NODE] = 0\n",
    "syn_pre_post_df = syn_pre_post_df.reset_index(drop=True)\n",
    "\n",
    "write_edges(os.path.join(out_root, fn_edges_out), edge_population_name, syn_pre_post_df,\n",
    "            mapped_synapses_df, node_population_pre, node_population_post)"
   ]
  },
  {
   "cell_type": "markdown",
   "id": "e55bb215",
   "metadata": {},
   "source": [
    "## Load neuron info using CAVEclient\n",
    "### Specify which information is needed and how it's formatted"
   ]
  },
  {
   "cell_type": "code",
   "execution_count": null,
   "id": "59f7e70a",
   "metadata": {},
   "outputs": [],
   "source": [
    "specs = {\n",
    "    \"synapse_class\": {\n",
    "        \"table\": 'aibs_metamodel_mtypes_v661_v2',\n",
    "        \"column\": 'classification_system',\n",
    "        \"default\": \"extrinsic_neuron\"\n",
    "    },\n",
    "    \"cell_type\": {\n",
    "        \"table\": 'aibs_metamodel_mtypes_v661_v2',\n",
    "        \"column\": 'cell_type',\n",
    "        \"default\": \"extrinsic_neuron\"\n",
    "    },\n",
    "    \"volume\": {\n",
    "        \"table\": 'aibs_metamodel_mtypes_v661_v2',\n",
    "        \"column\": 'volume',\n",
    "        \"default\": -1\n",
    "    },\n",
    "    \"status_axon\": {\n",
    "        \"table\": 'proofreading_status_and_strategy',\n",
    "        \"column\": 'status_axon',\n",
    "        \"default\": \"unknown\"\n",
    "    },\n",
    "    \"status_dendrite\": {\n",
    "        \"table\": 'proofreading_status_and_strategy',\n",
    "        \"column\": 'status_dendrite',\n",
    "        \"default\": \"unknown\"\n",
    "    },\n",
    "    \"__position\": {\n",
    "        \"table\": 'aibs_metamodel_mtypes_v661_v2',\n",
    "        \"column\": \"pt_position\",\n",
    "        \"resolution\": {\n",
    "            \"x\": info[\"viewer_resolution_x\"] * 1E-3,\n",
    "            \"y\": info[\"viewer_resolution_y\"] * 1E-3,\n",
    "            \"z\": info[\"viewer_resolution_z\"] * 1E-3\n",
    "        }\n",
    "    }\n",
    "}"
   ]
  },
  {
   "cell_type": "markdown",
   "id": "f04ca165",
   "metadata": {},
   "source": [
    "### Assemble specified neuron information and write to nodes file"
   ]
  },
  {
   "cell_type": "code",
   "execution_count": null,
   "id": "aca938f8",
   "metadata": {},
   "outputs": [],
   "source": [
    "coll_pre = assemble_collection_from_specs(client, specs, pre_pt_root_to_sonata)\n",
    "coll_post = assemble_collection_from_specs(client, specs, post_pt_root_to_sonata)\n",
    "\n",
    "coll_post.properties[\"morphology\"] = f\"morphology/{m.name}\"\n",
    "write_nodes(os.path.join(out_root, fn_nodes_out), node_population_pre, coll_pre, write_mode=\"w\")\n",
    "write_nodes(os.path.join(out_root, fn_nodes_out), node_population_post, coll_post, write_mode=\"a\")"
   ]
  },
  {
   "cell_type": "code",
   "execution_count": null,
   "id": "95a34e1b",
   "metadata": {},
   "outputs": [],
   "source": [
    "sonata_cfg = {\n",
    "  \"components\": {\n",
    "    \"biophysical_neuron_models_dir\": \"\",\n",
    "    \"mechanisms_dir\": \"\",\n",
    "    \"morphologies_dir\": \"\",\n",
    "    \"point_neuron_models_dir\": \"\",\n",
    "    \"synaptic_models_dir\": \"\",\n",
    "    \"templates_dir\": \"\"\n",
    "  },\n",
    "  \"networks\": {\n",
    "    \"edges\": [\n",
    "      {\n",
    "        \"edges_file\": \"$BASE_DIR/\" + fn_edges_out,\n",
    "        \"populations\": {\n",
    "          edge_population_name: {\n",
    "            \"type\": \"chemical\"\n",
    "          }\n",
    "        }\n",
    "      }\n",
    "    ],\n",
    "    \"nodes\": [\n",
    "      {\n",
    "        \"nodes_file\": \"$BASE_DIR/\" + fn_nodes_out,\n",
    "        \"populations\": {\n",
    "          node_population_post: {\n",
    "            \"alternate_morphologies\": {\n",
    "              \"h5v1\": \"$BASE_DIR/\" + fn_morphology_out_h5\n",
    "            },\n",
    "            \"biophysical_neuron_models_dir\": \"$BASE_DIR/emodels_hoc\",\n",
    "            \"morphologies_dir\": \"$BASE_DIR/morphologies\",\n",
    "            \"type\": \"biophysical\"\n",
    "          }\n",
    "        }\n",
    "      },\n",
    "      {\n",
    "        \"nodes_file\": \"$BASE_DIR/\" + fn_nodes_out,\n",
    "        \"populations\": {\n",
    "          node_population_pre: {\n",
    "            \"type\": \"virtual\"\n",
    "          }\n",
    "        }\n",
    "      }\n",
    "    ]\n",
    "  },\n",
    "  \"node_sets_file\": \"$BASE_DIR/node_sets.json\",\n",
    "  \"version\": 2.3,\n",
    "  \"manifest\": {\n",
    "    \"$BASE_DIR\": \"./\"\n",
    "  }\n",
    "}\n",
    "with open(os.path.join(out_root, \"circuit_config.json\"), \"w\") as fid:\n",
    "    import json\n",
    "    json.dump(sonata_cfg, fid, indent=2)"
   ]
  },
  {
   "cell_type": "markdown",
   "id": "1be22e9b",
   "metadata": {},
   "source": [
    "## Compress circuit"
   ]
  },
  {
   "cell_type": "code",
   "execution_count": null,
   "id": "084a781b",
   "metadata": {},
   "outputs": [],
   "source": [
    "import subprocess\n",
    "\n",
    "with open(\"output/sonata.tar\", \"wb\") as fid:\n",
    "    fid.write(\n",
    "        subprocess.check_output([\n",
    "            \"tar\",\n",
    "            \"-c\",\n",
    "            \"output/sonata\"\n",
    "            ]\n",
    "        )\n",
    "    )\n",
    "subprocess.check_call([\n",
    "    \"gzip\",\n",
    "     \"-1\",\n",
    "    \"output/sonata.tar\"\n",
    "])"
   ]
  },
  {
   "cell_type": "markdown",
   "id": "6a5d5c7c",
   "metadata": {},
   "source": [
    "# Register new Circuit entity and upload assets"
   ]
  },
  {
   "cell_type": "code",
   "execution_count": null,
   "id": "f77154ee",
   "metadata": {},
   "outputs": [],
   "source": [
    "from entitysdk.models import Circuit\n",
    "from entitysdk._server_schemas import CircuitBuildCategory, CircuitScale\n",
    "\n",
    "circ_entity = Circuit(\n",
    "    name=f\"Afferent-synaptome-{pt_root_id}\",\n",
    "    description=f\"Morphology skeleton with isolated spines and afferent synapses (Synaptome) of the neuron with pt_root_id {pt_root_id} in dataset {source_dataset.name}\",\n",
    "    number_neurons=1,\n",
    "    number_synapses=len(mapped_synapses_df),\n",
    "    number_connections=len(syn_pre_post_df[\"pre_node_id\"].drop_duplicates()),\n",
    "    scale=CircuitScale.single,\n",
    "    build_category=CircuitBuildCategory.em_reconstruction,\n",
    "    subject=source_dataset.subject,\n",
    "    has_morphologies=True,\n",
    "    has_electrical_cell_models=False,\n",
    "    has_spines=True,\n",
    "    brain_region=source_dataset.brain_region,\n",
    "    experiment_date=source_dataset.experiment_date\n",
    ")\n",
    "existing_circuit = entity_client.register_entity(circ_entity,\n",
    "                                          project_context=project_context)"
   ]
  },
  {
   "cell_type": "code",
   "execution_count": null,
   "id": "f13eb3fa",
   "metadata": {},
   "outputs": [],
   "source": [
    "entity_client.upload_directory(\n",
    "    entity_id=existing_circuit.id,\n",
    "    entity_type=Circuit,\n",
    "    name=\"sonata_synaptome\",\n",
    "    paths={\n",
    "        \"circuit_config.json\": os.path.join(out_root, \"circuit_config.json\"),\n",
    "        fn_nodes_out : os.path.join(out_root, fn_nodes_out),\n",
    "        fn_edges_out: os.path.join(out_root, fn_edges_out),\n",
    "        fn_morphology_out_h5: os.path.join(out_root, fn_morphology_out_h5),\n",
    "        fn_morphology_out_swc: os.path.join(out_root, fn_morphology_out_swc)\n",
    "        },\n",
    "    label=AssetLabel.sonata_circuit,\n",
    "    project_context=project_context\n",
    ")"
   ]
  },
  {
   "cell_type": "code",
   "execution_count": null,
   "id": "06897b98",
   "metadata": {},
   "outputs": [],
   "source": [
    "from entitysdk._server_schemas import ContentType, AssetLabel\n",
    "\n",
    "entity_client.upload_file(entity_id=existing_circuit.id,\n",
    "                   entity_type=Circuit,\n",
    "                   file_path=\"output/sonata.tar.gz\",\n",
    "                   file_content_type=ContentType.application_gzip,\n",
    "                   asset_label=AssetLabel.compressed_sonata_circuit)"
   ]
  },
  {
   "cell_type": "code",
   "execution_count": null,
   "id": "c11a0a65",
   "metadata": {},
   "outputs": [],
   "source": [
    "entity_client.get_entity(existing_circuit.id, entity_type=Circuit).assets"
   ]
  }
 ],
 "metadata": {
  "kernelspec": {
   "display_name": "obi-one (3.12.8)",
   "language": "python",
   "name": "python3"
  },
  "language_info": {
   "codemirror_mode": {
    "name": "ipython",
    "version": 3
   },
   "file_extension": ".py",
   "mimetype": "text/x-python",
   "name": "python",
   "nbconvert_exporter": "python",
   "pygments_lexer": "ipython3",
   "version": "3.12.8"
  }
 },
 "nbformat": 4,
 "nbformat_minor": 5
}
