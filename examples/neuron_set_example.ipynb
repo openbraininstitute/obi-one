{
 "cells": [
  {
   "cell_type": "markdown",
   "metadata": {},
   "source": [
    "# Neuron set examples"
   ]
  },
  {
   "cell_type": "code",
   "execution_count": null,
   "metadata": {},
   "outputs": [],
   "source": [
    "import os\n",
    "\n",
    "import obi_one as obi"
   ]
  },
  {
   "cell_type": "markdown",
   "metadata": {},
   "source": [
    "### __Initialization:__ Loading a circuit"
   ]
  },
  {
   "cell_type": "code",
   "execution_count": null,
   "metadata": {},
   "outputs": [],
   "source": [
    "circuit_path_prefix = \"/Users/james/Documents/obi/additional_data/O1_data/\"\n",
    "circ_path = circuit_path_prefix + \"O1_data/circuit_config.json\"\n",
    "circuit = obi.Circuit(name=\"SSCX_O1\", path=circ_path)\n",
    "print(f\"Circuit '{circuit}' with {circuit.sonata_circuit.nodes.size} neurons and {circuit.sonata_circuit.edges.size} synapses\")\n",
    "print(f\"Default node population: '{circuit.default_population_name}'\")"
   ]
  },
  {
   "cell_type": "markdown",
   "metadata": {},
   "source": [
    "### __Example 1:__ Adding node set dict to an existing SONATA circuit object + writing new node set .json file"
   ]
  },
  {
   "cell_type": "code",
   "execution_count": null,
   "metadata": {},
   "outputs": [],
   "source": [
    "# Get SONATA circuit object\n",
    "c = circuit.sonata_circuit\n",
    "print(\"...\" + str(c.node_sets.content)[-25:])\n",
    "\n",
    "# Adding a node set to the circuit\n",
    "obi.NeuronSet.add_node_set_to_circuit(c, {\"Layer23\": {\"layer\": [2, 3]}})\n",
    "print(\"...\" + str(c.node_sets.content)[-55:])\n",
    "\n",
    "# Adding a node set with an exising name => NOT POSSIBLE\n",
    "# obi.NeuronSet.add_node_set_to_circuit(c, {\"Layer23\": {\"layer\": [2, 3]}})  # AssertionError: Node set 'Layer23' already exists!\n",
    "\n",
    "# Update/overwrite an existing node set\n",
    "obi.NeuronSet.add_node_set_to_circuit(c, {\"Layer23\": [\"Layer2\", \"Layer3\"]}, overwrite_if_exists=True)  # Update/overwrite\n",
    "print(\"...\" + str(c.node_sets.content)[-58:])\n",
    "\n",
    "# Adding multiple node sets\n",
    "obi.NeuronSet.add_node_set_to_circuit(c, {\"Layer45\": [\"Layer4\", \"Layer5\"], \"Layer56\": [\"Layer5\", \"Layer6\"]})\n",
    "print(\"...\" + str(c.node_sets.content)[-124:])\n",
    "\n",
    "# Add node set from NeuronSet object, resolved in circuit's default node population\n",
    "neuron_set = obi.CombinedNeuronSet(node_sets=(\"Layer1\", \"Layer2\", \"Layer3\"))\n",
    "obi.NeuronSet.add_node_set_to_circuit(c, {\"Layer123\": neuron_set.get_node_set_definition(circuit, circuit.default_population_name)})\n",
    "print(\"...\" + str(c.node_sets.content)[-168:])\n",
    "\n",
    "# Adding a node sets based on previously added node sets\n",
    "obi.NeuronSet.add_node_set_to_circuit(c, {\"AllLayers\": [\"Layer123\", \"Layer4\", \"Layer56\"]})\n",
    "print(\"...\" + str(c.node_sets.content)[-216:])\n",
    "\n",
    "# Write new circuit's node set file\n",
    "obi.NeuronSet.write_circuit_node_set_file(c, output_path=\"./\", file_name=\"new_node_sets.json\", overwrite_if_exists=True)"
   ]
  },
  {
   "cell_type": "markdown",
   "metadata": {},
   "source": [
    "### __Example 2:__ Use of different NeuronSet types\n",
    "\n",
    "<u>Important</u>: In general, the validity of neuron set definitions is not checked during initialization, but when resolved within a specific circuit's node population"
   ]
  },
  {
   "cell_type": "markdown",
   "metadata": {},
   "source": [
    "#### (a) __ExistingNeuronSet__, wrapper for an existing node set\n",
    "<u>Note:</u> This neuron set does not resolve to a dict, since the underlying node set is already existing by definition"
   ]
  },
  {
   "cell_type": "code",
   "execution_count": null,
   "metadata": {},
   "outputs": [],
   "source": [
    "neuron_set = obi.PredefinedNeuronSet(node_set=\"Layer1\", random_sample=None)\n",
    "neuron_ids = neuron_set.get_neuron_ids(circuit, circuit.default_population_name)\n",
    "print(f\"{neuron_set.__class__.__name__} resolved in population '{circuit.default_population_name}' of circuit '{circuit}':\")\n",
    "print(f\"> Neuron IDs ({len(neuron_ids)}): {neuron_ids}\")\n",
    "print(f\"> Node set dict: {neuron_set.get_node_set_definition(circuit, circuit.default_population_name)}\")"
   ]
  },
  {
   "cell_type": "markdown",
   "metadata": {},
   "source": [
    "#### (b) __ExistingNeuronSet__, with random sub-sampling\n",
    "<u>Note</u>: `random_sample` can be an absolute number or fraction\n",
    "\n",
    "<u>Note 2</u>: Random sub-sampling will enforce resolving into a new node set"
   ]
  },
  {
   "cell_type": "code",
   "execution_count": null,
   "metadata": {},
   "outputs": [],
   "source": [
    "neuron_set = obi.PredefinedNeuronSet(node_set=\"Layer1\", random_sample=10, random_seed=1)\n",
    "neuron_ids = neuron_set.get_neuron_ids(circuit, circuit.default_population_name)\n",
    "print(f\"{neuron_set.__class__.__name__} resolved in population '{circuit.default_population_name}' of circuit '{circuit}':\")\n",
    "print(f\"> Neuron IDs ({len(neuron_ids)}): {neuron_ids}\")\n",
    "print(f\"> Node set dict: {neuron_set.get_node_set_definition(circuit, circuit.default_population_name)}\")"
   ]
  },
  {
   "cell_type": "markdown",
   "metadata": {},
   "source": [
    "#### (c) __CombinedNeuronSet__, based on combining existing (named) node sets"
   ]
  },
  {
   "cell_type": "code",
   "execution_count": null,
   "metadata": {},
   "outputs": [],
   "source": [
    "neuron_set = obi.CombinedNeuronSet(circuit=circuit, population=\"All\", node_sets=(\"Layer1\", \"Layer2\", \"Layer3\"), random_sample=None)\n",
    "neuron_ids = neuron_set.get_neuron_ids(circuit, circuit.default_population_name)\n",
    "print(f\"{neuron_set.__class__.__name__} resolved in population '{circuit.default_population_name}' of circuit '{circuit}':\")\n",
    "print(f\"> Neuron IDs ({len(neuron_ids)}): {neuron_ids}\")\n",
    "print(f\"> Node set dict: {neuron_set.get_node_set_definition(circuit, circuit.default_population_name)}\")"
   ]
  },
  {
   "cell_type": "markdown",
   "metadata": {},
   "source": [
    "#### (d) __CombinedNeuronSet__, based on combining existing (named) node sets, with random sub-sampling\n",
    "<u>Note</u>: `random_sample` can be an absolute number or fraction"
   ]
  },
  {
   "cell_type": "code",
   "execution_count": null,
   "metadata": {},
   "outputs": [],
   "source": [
    "neuron_set = obi.CombinedNeuronSet(node_sets=(\"Layer1\", \"Layer2\", \"Layer3\"), random_sample=10, random_seed=0)\n",
    "neuron_ids = neuron_set.get_neuron_ids(circuit, circuit.default_population_name)\n",
    "print(f\"{neuron_set.__class__.__name__} resolved in population '{circuit.default_population_name}' of circuit '{circuit}':\")\n",
    "print(f\"> Neuron IDs ({len(neuron_ids)}): {neuron_ids}\")\n",
    "print(f\"> Node set dict: {neuron_set.get_node_set_definition(circuit, circuit.default_population_name)}\")"
   ]
  },
  {
   "cell_type": "markdown",
   "metadata": {},
   "source": [
    "#### (e) __IDNeuronSet__, based on individual neuron IDs"
   ]
  },
  {
   "cell_type": "code",
   "execution_count": null,
   "metadata": {},
   "outputs": [],
   "source": [
    "neuron_set = obi.IDNeuronSet(neuron_ids=obi.NamedTuple(name=\"IDNeuronSet1\", elements=(1, 2, 3)))\n",
    "neuron_ids = neuron_set.get_neuron_ids(circuit, circuit.default_population_name)\n",
    "print(f\"{neuron_set.__class__.__name__} resolved in population '{circuit.default_population_name}' of circuit '{circuit}':\")\n",
    "print(f\"> Neuron IDs ({len(neuron_ids)}): {neuron_ids}\")\n",
    "print(f\"> Node set dict: {neuron_set.get_node_set_definition(circuit, circuit.default_population_name)}\")"
   ]
  },
  {
   "cell_type": "markdown",
   "metadata": {},
   "source": [
    "#### (f) __IDNeuronSet__, based on individual neuron IDs, with random sub-sampling\n",
    "<u>Note</u>: `random_sample` can be an absolute number or fraction"
   ]
  },
  {
   "cell_type": "code",
   "execution_count": null,
   "metadata": {},
   "outputs": [],
   "source": [
    "neuron_set = obi.IDNeuronSet(neuron_ids=obi.NamedTuple(name=\"IDNeuronSet1\", elements=range(10)), random_sample=0.5, random_seed=999)\n",
    "neuron_ids = neuron_set.get_neuron_ids(circuit, circuit.default_population_name)\n",
    "print(f\"{neuron_set.__class__.__name__} resolved in population '{circuit.default_population_name}' of circuit '{circuit}':\")\n",
    "print(f\"> Neuron IDs ({len(neuron_ids)}): {neuron_ids}\")\n",
    "print(f\"> Node set dict: {neuron_set.get_node_set_definition(circuit, circuit.default_population_name)}\")"
   ]
  },
  {
   "cell_type": "markdown",
   "metadata": {},
   "source": [
    "#### (g) __PropertyNeuronSet__, based on neuron properties\n",
    "<u>Note</u>: Optionally, instead of keeping the synbolic notation, neuron IDs can be resolved to individual IDs by `force_resolve_ids=True`."
   ]
  },
  {
   "cell_type": "code",
   "execution_count": null,
   "metadata": {},
   "outputs": [],
   "source": [
    "neuron_set = obi.PropertyNeuronSet(\n",
    "    property_filter=obi.scientific.circuit.neuron_sets.NeuronPropertyFilter(filter_dict={\"layer\": [\"2\", \"3\"], \"synapse_class\": [\"INH\"]}),\n",
    ")\n",
    "neuron_ids = neuron_set.get_neuron_ids(circuit, circuit.default_population_name)\n",
    "print(f\"{neuron_set.__class__.__name__} resolved in population '{circuit.default_population_name}' of circuit '{circuit}':\")\n",
    "print(f\"> Neuron IDs ({len(neuron_ids)}): {neuron_ids}\")\n",
    "print(f\"> Node set dict: {neuron_set.get_node_set_definition(circuit, circuit.default_population_name)}\")\n",
    "\n",
    "# # Optional: Individual neuron IDs resolved\n",
    "print(f\"> Node set dict with IDs resolved [OPTIONAL]: {neuron_set.get_node_set_definition(circuit, circuit.default_population_name, force_resolve_ids=True)}\")"
   ]
  },
  {
   "cell_type": "markdown",
   "metadata": {},
   "source": [
    "#### (h) __PropertyNeuronSet__, based on neuron properties, combined with exising (named) node sets\n",
    "<u>Note</u>: In this case, individual neuron IDs will always be resolved since a combination of properties and node sets is not possible in SONATA node sets otherwise!"
   ]
  },
  {
   "cell_type": "code",
   "execution_count": null,
   "metadata": {},
   "outputs": [],
   "source": [
    "neuron_set = obi.PropertyNeuronSet(\n",
    "    property_filter=obi.scientific.circuit.neuron_sets.NeuronPropertyFilter(filter_dict={\"synapse_class\": [\"INH\"]}),\n",
    "    node_sets=(\"Layer2\", \"Layer3\")\n",
    ")\n",
    "neuron_ids = neuron_set.get_neuron_ids(circuit, circuit.default_population_name)\n",
    "print(f\"{neuron_set.__class__.__name__} resolved in population '{circuit.default_population_name}' of circuit '{circuit}':\")\n",
    "print(f\"> Neuron IDs ({len(neuron_ids)}): {neuron_ids}\")\n",
    "print(f\"> Node set dict: {neuron_set.get_node_set_definition(circuit, circuit.default_population_name)}\")"
   ]
  },
  {
   "cell_type": "markdown",
   "metadata": {},
   "source": [
    "#### (i) __VolumetricCountNeuronSet__, sample a spatial neighborhood\n"
   ]
  },
  {
   "cell_type": "code",
   "execution_count": null,
   "metadata": {},
   "outputs": [],
   "source": [
    "neuron_set = obi.VolumetricCountNeuronSet(\n",
    "    ox=10.0,\n",
    "    oy=25.0,\n",
    "    oz=100.0,\n",
    "    n=10,\n",
    "    property_filter=obi.scientific.circuit.neuron_sets.NeuronPropertyFilter(filter_dict={\"layer\": [\"2\", \"3\"], \"synapse_class\": [\"INH\"]}),\n",
    ")\n",
    "\n",
    "neuron_ids = neuron_set.get_neuron_ids(circuit, circuit.default_population_name)\n",
    "print(f\"{neuron_set.__class__.__name__} resolved in population '{circuit.default_population_name}' of circuit '{circuit}':\")\n",
    "print(f\"> Neuron IDs ({len(neuron_ids)}): {neuron_ids}\")\n",
    "print(f\"> Node set dict: {neuron_set.get_node_set_definition(circuit, circuit.default_population_name)}\")\n",
    "\n",
    "print(\"Printing neuron locations to prove spatial compactness:\")\n",
    "circuit.sonata_circuit.nodes[circuit.default_population_name].get(neuron_ids, properties=[\"x\", \"y\", \"z\"])"
   ]
  },
  {
   "cell_type": "markdown",
   "metadata": {},
   "source": [
    "#### (j) __VolmetricRadiusNeuronSet__, also neigborhood, but fixed radius\n",
    "<u>Note</u>: Can be combined with randm subsampling"
   ]
  },
  {
   "cell_type": "code",
   "execution_count": null,
   "metadata": {},
   "outputs": [],
   "source": [
    "neuron_set = obi.VolumetricRadiusNeuronSet(\n",
    "    ox=10.0,\n",
    "    oy=25.0,\n",
    "    oz=100.0,\n",
    "    radius=75.0,\n",
    "    property_filter=obi.scientific.circuit.neuron_sets.NeuronPropertyFilter(filter_dict={\"layer\": [\"2\", \"3\"], \"synapse_class\": [\"INH\"]}),\n",
    "    random_sample=5\n",
    ")\n",
    "\n",
    "neuron_ids = neuron_set.get_neuron_ids(circuit, circuit.default_population_name)\n",
    "print(f\"{neuron_set.__class__.__name__} resolved in population '{circuit.default_population_name}' of circuit '{circuit}':\")\n",
    "print(f\"> Neuron IDs ({len(neuron_ids)}): {neuron_ids}\")\n",
    "print(f\"> Node set dict: {neuron_set.get_node_set_definition(circuit, circuit.default_population_name)}\")\n",
    "\n",
    "print(\"Printing neuron locations to prove spatial compactness:\")\n",
    "circuit.sonata_circuit.nodes[circuit.default_population_name].get(neuron_ids, properties=[\"x\", \"y\", \"z\"])"
   ]
  },
  {
   "cell_type": "markdown",
   "metadata": {},
   "source": [
    "### __Example 3:__ Writing a NeuronSet to a SONATA node set file\n",
    "<u>Note</u>: A NeuronSet name must be set, which will be the name of the SONATA node set. The name must not exist!\n",
    "\n",
    "<u>Note 2</u>: The node sets file name is by default taken from the original circuit. An alternative name can optionally be provided.\n",
    "\n",
    "<u>Note 3</u>: Overwrite (`overwrite_if_exists`) and append (`append_if_exists`) options exist."
   ]
  },
  {
   "cell_type": "code",
   "execution_count": null,
   "metadata": {},
   "outputs": [],
   "source": [
    "output_path = \"./\"\n",
    "\n",
    "# Write new file, overwrite if existing\n",
    "neuron_set = obi.CombinedNeuronSet(simulation_level_name=\"L123\", node_sets=(\"Layer1\", \"Layer2\", \"Layer3\"))\n",
    "nset_file = neuron_set.to_node_set_file(circuit, circuit.default_population_name, output_path=output_path, overwrite_if_exists=True)\n",
    "\n",
    "# Append to existing file, but name already exists => NOT POSSIBLE\n",
    "# nset_file = neuron_set.to_node_set_file(circuit, circuit.default_population_name, output_path=\"./\", append_if_exists=True)  # AssertionError: Appending not possible, node set 'Basic' already exists!\n",
    "\n",
    "# Append to existing file\n",
    "neuron_set = obi.CombinedNeuronSet(simulation_level_name=\"L456\", node_sets=(\"Layer4\", \"Layer5\", \"Layer6\"))\n",
    "nset_file = neuron_set.to_node_set_file(circuit, circuit.default_population_name, output_path=output_path, append_if_exists=True)\n",
    "\n",
    "if os.path.exists(nset_file):\n",
    "    print(f\"Node set file: {nset_file}\")"
   ]
  },
  {
   "cell_type": "code",
   "execution_count": null,
   "metadata": {},
   "outputs": [],
   "source": []
  }
 ],
 "metadata": {
  "kernelspec": {
   "display_name": "obi-one",
   "language": "python",
   "name": "obi-one"
  },
  "language_info": {
   "codemirror_mode": {
    "name": "ipython",
    "version": 3
   },
   "file_extension": ".py",
   "mimetype": "text/x-python",
   "name": "python",
   "nbconvert_exporter": "python",
   "pygments_lexer": "ipython3",
   "version": "3.12.9"
  }
 },
 "nbformat": 4,
 "nbformat_minor": 4
}
