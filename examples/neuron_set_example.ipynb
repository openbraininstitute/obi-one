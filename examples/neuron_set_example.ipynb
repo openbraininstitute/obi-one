{
 "cells": [
  {
   "cell_type": "markdown",
   "metadata": {},
   "source": [
    "# Neuron set examples"
   ]
  },
  {
   "cell_type": "code",
   "execution_count": 1,
   "metadata": {},
   "outputs": [],
   "source": [
    "import os\n",
    "\n",
    "import obi_one as obi"
   ]
  },
  {
   "cell_type": "markdown",
   "metadata": {},
   "source": [
    "### __Initialization:__ Loading a circuit"
   ]
  },
  {
   "cell_type": "code",
   "execution_count": 2,
   "metadata": {},
   "outputs": [
    {
     "name": "stdout",
     "output_type": "stream",
     "text": [
      "Circuit 'SSCX_O1' with 785632 neurons and 560631825 synapses\n",
      "Default node population: 'S1nonbarrel_neurons'\n"
     ]
    }
   ],
   "source": [
    "circuit_path_prefix = \"/Users/james/Documents/obi/additional_data/O1_data/\"\n",
    "circ_path = circuit_path_prefix + \"O1_data/circuit_config.json\"\n",
    "circuit = obi.Circuit(name=\"SSCX_O1\", path=circ_path)\n",
    "print(f\"Circuit '{circuit}' with {circuit.sonata_circuit.nodes.size} neurons and {circuit.sonata_circuit.edges.size} synapses\")\n",
    "print(f\"Default node population: '{circuit.default_population_name}'\")"
   ]
  },
  {
   "cell_type": "markdown",
   "metadata": {},
   "source": [
    "### __Example 1:__ Adding node set dict to an existing SONATA circuit object + writing new node set .json file"
   ]
  },
  {
   "cell_type": "code",
   "execution_count": 3,
   "metadata": {},
   "outputs": [
    {
     "name": "stdout",
     "output_type": "stream",
     "text": [
      "...211709], 'layer': ['6']}}\n",
      "...211709], 'layer': ['6']}, 'Layer23': {'layer': [2, 3]}}\n",
      "...211709], 'layer': ['6']}, 'Layer23': ['Layer2', 'Layer3']}\n",
      "...211709], 'layer': ['6']}, 'Layer23': ['Layer2', 'Layer3'], 'Layer45': ['Layer4', 'Layer5'], 'Layer56': ['Layer5', 'Layer6']}\n",
      "...211709], 'layer': ['6']}, 'Layer23': ['Layer2', 'Layer3'], 'Layer45': ['Layer4', 'Layer5'], 'Layer56': ['Layer5', 'Layer6'], 'Layer123': ['Layer1', 'Layer2', 'Layer3']}\n",
      "...211709], 'layer': ['6']}, 'Layer23': ['Layer2', 'Layer3'], 'Layer45': ['Layer4', 'Layer5'], 'Layer56': ['Layer5', 'Layer6'], 'Layer123': ['Layer1', 'Layer2', 'Layer3'], 'AllLayers': ['Layer123', 'Layer4', 'Layer56']}\n"
     ]
    }
   ],
   "source": [
    "# Get SONATA circuit object\n",
    "c = circuit.sonata_circuit\n",
    "print(\"...\" + str(c.node_sets.content)[-25:])\n",
    "\n",
    "# Adding a node set to the circuit\n",
    "obi.NeuronSet.add_node_set_to_circuit(c, {\"Layer23\": {\"layer\": [2, 3]}})\n",
    "print(\"...\" + str(c.node_sets.content)[-55:])\n",
    "\n",
    "# Adding a node set with an exising name => NOT POSSIBLE\n",
    "# obi.NeuronSet.add_node_set_to_circuit(c, {\"Layer23\": {\"layer\": [2, 3]}})  # AssertionError: Node set 'Layer23' already exists!\n",
    "\n",
    "# Update/overwrite an existing node set\n",
    "obi.NeuronSet.add_node_set_to_circuit(c, {\"Layer23\": [\"Layer2\", \"Layer3\"]}, overwrite_if_exists=True)  # Update/overwrite\n",
    "print(\"...\" + str(c.node_sets.content)[-58:])\n",
    "\n",
    "# Adding multiple node sets\n",
    "obi.NeuronSet.add_node_set_to_circuit(c, {\"Layer45\": [\"Layer4\", \"Layer5\"], \"Layer56\": [\"Layer5\", \"Layer6\"]})\n",
    "print(\"...\" + str(c.node_sets.content)[-124:])\n",
    "\n",
    "# Add node set from NeuronSet object, resolved in circuit's default node population\n",
    "neuron_set = obi.CombinedNeuronSet(node_sets=(\"Layer1\", \"Layer2\", \"Layer3\"))\n",
    "obi.NeuronSet.add_node_set_to_circuit(c, {\"Layer123\": neuron_set.get_node_set_definition(circuit, circuit.default_population_name)})\n",
    "print(\"...\" + str(c.node_sets.content)[-168:])\n",
    "\n",
    "# Adding a node sets based on previously added node sets\n",
    "obi.NeuronSet.add_node_set_to_circuit(c, {\"AllLayers\": [\"Layer123\", \"Layer4\", \"Layer56\"]})\n",
    "print(\"...\" + str(c.node_sets.content)[-216:])\n",
    "\n",
    "# Write new circuit's node set file\n",
    "obi.NeuronSet.write_circuit_node_set_file(c, output_path=\"./\", file_name=\"new_node_sets.json\", overwrite_if_exists=True)"
   ]
  },
  {
   "cell_type": "markdown",
   "metadata": {},
   "source": [
    "### __Example 2:__ Use of different NeuronSet types\n",
    "\n",
    "<u>Important</u>: In general, the validity of neuron set definitions is not checked during initialization, but when resolved within a specific circuit's node population"
   ]
  },
  {
   "cell_type": "markdown",
   "metadata": {},
   "source": [
    "#### (a) __ExistingNeuronSet__, wrapper for an existing node set\n",
    "<u>Note:</u> This neuron set does not resolve to a dict, since the underlying node set is already existing by definition"
   ]
  },
  {
   "cell_type": "code",
   "execution_count": 4,
   "metadata": {},
   "outputs": [
    {
     "name": "stdout",
     "output_type": "stream",
     "text": [
      "PredefinedNeuronSet resolved in population 'S1nonbarrel_neurons' of circuit 'SSCX_O1':\n",
      "> Neuron IDs (2695): [    0     1     2 ... 35663 35664 35665]\n",
      "> Node set dict: ['Layer1']\n"
     ]
    }
   ],
   "source": [
    "neuron_set = obi.PredefinedNeuronSet(node_set=\"Layer1\", random_sample=None)\n",
    "neuron_ids = neuron_set.get_neuron_ids(circuit, circuit.default_population_name)\n",
    "print(f\"{neuron_set.__class__.__name__} resolved in population '{circuit.default_population_name}' of circuit '{circuit}':\")\n",
    "print(f\"> Neuron IDs ({len(neuron_ids)}): {neuron_ids}\")\n",
    "print(f\"> Node set dict: {neuron_set.get_node_set_definition(circuit, circuit.default_population_name)}\")"
   ]
  },
  {
   "cell_type": "markdown",
   "metadata": {},
   "source": [
    "#### (b) __ExistingNeuronSet__, with random sub-sampling\n",
    "<u>Note</u>: `random_sample` can be an absolute number or fraction\n",
    "\n",
    "<u>Note 2</u>: Random sub-sampling will enforce resolving into a new node set"
   ]
  },
  {
   "cell_type": "code",
   "execution_count": 5,
   "metadata": {},
   "outputs": [
    {
     "name": "stdout",
     "output_type": "stream",
     "text": [
      "PredefinedNeuronSet resolved in population 'S1nonbarrel_neurons' of circuit 'SSCX_O1':\n",
      "> Neuron IDs (10): [   41    54 33735 33794 33870 34176 34777 34870 34916 35004]\n",
      "> Node set dict: {'population': 'S1nonbarrel_neurons', 'node_id': [41, 54, 33735, 33794, 33870, 34176, 34777, 34870, 34916, 35004]}\n"
     ]
    }
   ],
   "source": [
    "neuron_set = obi.PredefinedNeuronSet(node_set=\"Layer1\", random_sample=10, random_seed=1)\n",
    "neuron_ids = neuron_set.get_neuron_ids(circuit, circuit.default_population_name)\n",
    "print(f\"{neuron_set.__class__.__name__} resolved in population '{circuit.default_population_name}' of circuit '{circuit}':\")\n",
    "print(f\"> Neuron IDs ({len(neuron_ids)}): {neuron_ids}\")\n",
    "print(f\"> Node set dict: {neuron_set.get_node_set_definition(circuit, circuit.default_population_name)}\")"
   ]
  },
  {
   "cell_type": "markdown",
   "metadata": {},
   "source": [
    "#### (c) __CombinedNeuronSet__, based on combining existing (named) node sets"
   ]
  },
  {
   "cell_type": "code",
   "execution_count": 6,
   "metadata": {},
   "outputs": [
    {
     "name": "stdout",
     "output_type": "stream",
     "text": [
      "CombinedNeuronSet resolved in population 'S1nonbarrel_neurons' of circuit 'SSCX_O1':\n",
      "> Neuron IDs (63530): [     0      1      2 ... 170851 170852 170853]\n",
      "> Node set dict: ['Layer1', 'Layer2', 'Layer3']\n"
     ]
    }
   ],
   "source": [
    "neuron_set = obi.CombinedNeuronSet(circuit=circuit, population=\"All\", node_sets=(\"Layer1\", \"Layer2\", \"Layer3\"), random_sample=None)\n",
    "neuron_ids = neuron_set.get_neuron_ids(circuit, circuit.default_population_name)\n",
    "print(f\"{neuron_set.__class__.__name__} resolved in population '{circuit.default_population_name}' of circuit '{circuit}':\")\n",
    "print(f\"> Neuron IDs ({len(neuron_ids)}): {neuron_ids}\")\n",
    "print(f\"> Node set dict: {neuron_set.get_node_set_definition(circuit, circuit.default_population_name)}\")"
   ]
  },
  {
   "cell_type": "markdown",
   "metadata": {},
   "source": [
    "#### (d) __CombinedNeuronSet__, based on combining existing (named) node sets, with random sub-sampling\n",
    "<u>Note</u>: `random_sample` can be an absolute number or fraction"
   ]
  },
  {
   "cell_type": "code",
   "execution_count": 7,
   "metadata": {},
   "outputs": [
    {
     "name": "stdout",
     "output_type": "stream",
     "text": [
      "CombinedNeuronSet resolved in population 'S1nonbarrel_neurons' of circuit 'SSCX_O1':\n",
      "> Neuron IDs (10): [  1118  13098  13437  18214  30537  31342  34865 146702 151954 155457]\n",
      "> Node set dict: {'population': 'S1nonbarrel_neurons', 'node_id': [1118, 13098, 13437, 18214, 30537, 31342, 34865, 146702, 151954, 155457]}\n"
     ]
    }
   ],
   "source": [
    "neuron_set = obi.CombinedNeuronSet(node_sets=(\"Layer1\", \"Layer2\", \"Layer3\"), random_sample=10, random_seed=0)\n",
    "neuron_ids = neuron_set.get_neuron_ids(circuit, circuit.default_population_name)\n",
    "print(f\"{neuron_set.__class__.__name__} resolved in population '{circuit.default_population_name}' of circuit '{circuit}':\")\n",
    "print(f\"> Neuron IDs ({len(neuron_ids)}): {neuron_ids}\")\n",
    "print(f\"> Node set dict: {neuron_set.get_node_set_definition(circuit, circuit.default_population_name)}\")"
   ]
  },
  {
   "cell_type": "markdown",
   "metadata": {},
   "source": [
    "#### (e) __IDNeuronSet__, based on individual neuron IDs"
   ]
  },
  {
   "cell_type": "code",
   "execution_count": 8,
   "metadata": {},
   "outputs": [
    {
     "name": "stdout",
     "output_type": "stream",
     "text": [
      "IDNeuronSet resolved in population 'S1nonbarrel_neurons' of circuit 'SSCX_O1':\n",
      "> Neuron IDs (3): [1 2 3]\n",
      "> Node set dict: {'population': 'S1nonbarrel_neurons', 'node_id': [1, 2, 3]}\n"
     ]
    }
   ],
   "source": [
    "neuron_set = obi.IDNeuronSet(neuron_ids=(1, 2, 3))\n",
    "neuron_ids = neuron_set.get_neuron_ids(circuit, circuit.default_population_name)\n",
    "print(f\"{neuron_set.__class__.__name__} resolved in population '{circuit.default_population_name}' of circuit '{circuit}':\")\n",
    "print(f\"> Neuron IDs ({len(neuron_ids)}): {neuron_ids}\")\n",
    "print(f\"> Node set dict: {neuron_set.get_node_set_definition(circuit, circuit.default_population_name)}\")"
   ]
  },
  {
   "cell_type": "markdown",
   "metadata": {},
   "source": [
    "#### (f) __IDNeuronSet__, based on individual neuron IDs, with random sub-sampling\n",
    "<u>Note</u>: `random_sample` can be an absolute number or fraction"
   ]
  },
  {
   "cell_type": "code",
   "execution_count": 9,
   "metadata": {},
   "outputs": [
    {
     "name": "stdout",
     "output_type": "stream",
     "text": [
      "IDNeuronSet resolved in population 'S1nonbarrel_neurons' of circuit 'SSCX_O1':\n",
      "> Neuron IDs (5): [1 3 4 7 9]\n",
      "> Node set dict: {'population': 'S1nonbarrel_neurons', 'node_id': [1, 3, 4, 7, 9]}\n"
     ]
    }
   ],
   "source": [
    "neuron_set = obi.IDNeuronSet(neuron_ids=range(10), random_sample=0.5, random_seed=999)\n",
    "neuron_ids = neuron_set.get_neuron_ids(circuit, circuit.default_population_name)\n",
    "print(f\"{neuron_set.__class__.__name__} resolved in population '{circuit.default_population_name}' of circuit '{circuit}':\")\n",
    "print(f\"> Neuron IDs ({len(neuron_ids)}): {neuron_ids}\")\n",
    "print(f\"> Node set dict: {neuron_set.get_node_set_definition(circuit, circuit.default_population_name)}\")"
   ]
  },
  {
   "cell_type": "markdown",
   "metadata": {},
   "source": [
    "#### (g) __PropertyNeuronSet__, based on neuron properties\n",
    "<u>Note</u>: Optionally, instead of keeping the synbolic notation, neuron IDs can be resolved to individual IDs by `force_resolve_ids=True`."
   ]
  },
  {
   "cell_type": "code",
   "execution_count": 10,
   "metadata": {},
   "outputs": [
    {
     "ename": "AttributeError",
     "evalue": "'NeuronPropertyFilter' object has no attribute 'enforce_no_lists'",
     "output_type": "error",
     "traceback": [
      "\u001b[31m---------------------------------------------------------------------------\u001b[39m",
      "\u001b[31mAttributeError\u001b[39m                            Traceback (most recent call last)",
      "\u001b[36mCell\u001b[39m\u001b[36m \u001b[39m\u001b[32mIn[10]\u001b[39m\u001b[32m, line 4\u001b[39m\n\u001b[32m      1\u001b[39m neuron_set = obi.PropertyNeuronSet(\n\u001b[32m      2\u001b[39m     property_filter=obi.scientific.circuit.neuron_sets.NeuronPropertyFilter(filter_dict={\u001b[33m\"\u001b[39m\u001b[33mlayer\u001b[39m\u001b[33m\"\u001b[39m: [\u001b[33m\"\u001b[39m\u001b[33m2\u001b[39m\u001b[33m\"\u001b[39m, \u001b[33m\"\u001b[39m\u001b[33m3\u001b[39m\u001b[33m\"\u001b[39m], \u001b[33m\"\u001b[39m\u001b[33msynapse_class\u001b[39m\u001b[33m\"\u001b[39m: [\u001b[33m\"\u001b[39m\u001b[33mINH\u001b[39m\u001b[33m\"\u001b[39m]}),\n\u001b[32m      3\u001b[39m )\n\u001b[32m----> \u001b[39m\u001b[32m4\u001b[39m neuron_ids = \u001b[43mneuron_set\u001b[49m\u001b[43m.\u001b[49m\u001b[43mget_neuron_ids\u001b[49m\u001b[43m(\u001b[49m\u001b[43mcircuit\u001b[49m\u001b[43m,\u001b[49m\u001b[43m \u001b[49m\u001b[43mcircuit\u001b[49m\u001b[43m.\u001b[49m\u001b[43mdefault_population_name\u001b[49m\u001b[43m)\u001b[49m\n\u001b[32m      5\u001b[39m \u001b[38;5;28mprint\u001b[39m(\u001b[33mf\u001b[39m\u001b[33m\"\u001b[39m\u001b[38;5;132;01m{\u001b[39;00mneuron_set.\u001b[34m__class__\u001b[39m.\u001b[34m__name__\u001b[39m\u001b[38;5;132;01m}\u001b[39;00m\u001b[33m resolved in population \u001b[39m\u001b[33m'\u001b[39m\u001b[38;5;132;01m{\u001b[39;00mcircuit.default_population_name\u001b[38;5;132;01m}\u001b[39;00m\u001b[33m'\u001b[39m\u001b[33m of circuit \u001b[39m\u001b[33m'\u001b[39m\u001b[38;5;132;01m{\u001b[39;00mcircuit\u001b[38;5;132;01m}\u001b[39;00m\u001b[33m'\u001b[39m\u001b[33m:\u001b[39m\u001b[33m\"\u001b[39m)\n\u001b[32m      6\u001b[39m \u001b[38;5;28mprint\u001b[39m(\u001b[33mf\u001b[39m\u001b[33m\"\u001b[39m\u001b[33m> Neuron IDs (\u001b[39m\u001b[38;5;132;01m{\u001b[39;00m\u001b[38;5;28mlen\u001b[39m(neuron_ids)\u001b[38;5;132;01m}\u001b[39;00m\u001b[33m): \u001b[39m\u001b[38;5;132;01m{\u001b[39;00mneuron_ids\u001b[38;5;132;01m}\u001b[39;00m\u001b[33m\"\u001b[39m)\n",
      "\u001b[36mFile \u001b[39m\u001b[32m~/Documents/obi/code/obi-one/obi_one/scientific/circuit/neuron_sets.py:147\u001b[39m, in \u001b[36mNeuronSet.get_neuron_ids\u001b[39m\u001b[34m(self, circuit, population)\u001b[39m\n\u001b[32m    145\u001b[39m \u001b[38;5;28mself\u001b[39m.enforce_no_lists()\n\u001b[32m    146\u001b[39m \u001b[38;5;28mself\u001b[39m.check_population(circuit, population)\n\u001b[32m--> \u001b[39m\u001b[32m147\u001b[39m ids = np.array(\u001b[38;5;28;43mself\u001b[39;49m\u001b[43m.\u001b[49m\u001b[43m_resolve_ids\u001b[49m\u001b[43m(\u001b[49m\u001b[43mcircuit\u001b[49m\u001b[43m,\u001b[49m\u001b[43m \u001b[49m\u001b[43mpopulation\u001b[49m\u001b[43m)\u001b[49m)\n\u001b[32m    148\u001b[39m \u001b[38;5;28;01mif\u001b[39;00m \u001b[38;5;28mself\u001b[39m.random_sample \u001b[38;5;129;01mis\u001b[39;00m \u001b[38;5;129;01mnot\u001b[39;00m \u001b[38;5;28;01mNone\u001b[39;00m:\n\u001b[32m    149\u001b[39m     np.random.seed(\u001b[38;5;28mself\u001b[39m.random_seed)\n",
      "\u001b[36mFile \u001b[39m\u001b[32m~/Documents/obi/code/obi-one/obi_one/scientific/circuit/neuron_sets.py:138\u001b[39m, in \u001b[36mNeuronSet._resolve_ids\u001b[39m\u001b[34m(self, circuit, population)\u001b[39m\n\u001b[32m    136\u001b[39m \u001b[38;5;250m\u001b[39m\u001b[33;03m\"\"\"Returns the full list of neuron IDs (w/o subsampling).\"\"\"\u001b[39;00m\n\u001b[32m    137\u001b[39m c = circuit.sonata_circuit\n\u001b[32m--> \u001b[39m\u001b[32m138\u001b[39m expression = \u001b[38;5;28;43mself\u001b[39;49m\u001b[43m.\u001b[49m\u001b[43m_get_expression\u001b[49m\u001b[43m(\u001b[49m\u001b[43mcircuit\u001b[49m\u001b[43m,\u001b[49m\u001b[43m \u001b[49m\u001b[43mpopulation\u001b[49m\u001b[43m)\u001b[49m\n\u001b[32m    139\u001b[39m name = \u001b[33m\"\u001b[39m\u001b[33m__TMP_NODE_SET__\u001b[39m\u001b[33m\"\u001b[39m\n\u001b[32m    140\u001b[39m \u001b[38;5;28mself\u001b[39m.add_node_set_to_circuit(c, {name: expression})\n",
      "\u001b[36mFile \u001b[39m\u001b[32m~/Documents/obi/code/obi-one/obi_one/scientific/circuit/neuron_sets.py:347\u001b[39m, in \u001b[36mPropertyNeuronSet._get_expression\u001b[39m\u001b[34m(self, circuit, population)\u001b[39m\n\u001b[32m    345\u001b[39m \u001b[38;5;28;01mdef\u001b[39;00m\u001b[38;5;250m \u001b[39m\u001b[34m_get_expression\u001b[39m(\u001b[38;5;28mself\u001b[39m, circuit, population):\n\u001b[32m    346\u001b[39m \u001b[38;5;250m    \u001b[39m\u001b[33;03m\"\"\"Returns the SONATA node set expression (w/o subsampling).\"\"\"\u001b[39;00m\n\u001b[32m--> \u001b[39m\u001b[32m347\u001b[39m     \u001b[38;5;28;43mself\u001b[39;49m\u001b[43m.\u001b[49m\u001b[43mcheck_properties\u001b[49m\u001b[43m(\u001b[49m\u001b[43mcircuit\u001b[49m\u001b[43m,\u001b[49m\u001b[43m \u001b[49m\u001b[43mpopulation\u001b[49m\u001b[43m)\u001b[49m\n\u001b[32m    348\u001b[39m     \u001b[38;5;28mself\u001b[39m.check_node_sets(circuit, population)\n\u001b[32m    349\u001b[39m     \u001b[38;5;28;01mdef\u001b[39;00m\u001b[38;5;250m \u001b[39m\u001b[34m__resolve_sngl\u001b[39m(prop_vals):\n",
      "\u001b[36mFile \u001b[39m\u001b[32m~/Documents/obi/code/obi-one/obi_one/scientific/circuit/neuron_sets.py:321\u001b[39m, in \u001b[36mPropertyNeuronSet.check_properties\u001b[39m\u001b[34m(self, circuit, population)\u001b[39m\n\u001b[32m    320\u001b[39m \u001b[38;5;28;01mdef\u001b[39;00m\u001b[38;5;250m \u001b[39m\u001b[34mcheck_properties\u001b[39m(\u001b[38;5;28mself\u001b[39m, circuit, population):\n\u001b[32m--> \u001b[39m\u001b[32m321\u001b[39m     \u001b[38;5;28;43mself\u001b[39;49m\u001b[43m.\u001b[49m\u001b[43mproperty_filter\u001b[49m\u001b[43m.\u001b[49m\u001b[43mtest_validity\u001b[49m\u001b[43m(\u001b[49m\u001b[43mcircuit\u001b[49m\u001b[43m,\u001b[49m\u001b[43m \u001b[49m\u001b[43mpopulation\u001b[49m\u001b[43m)\u001b[49m\n",
      "\u001b[36mFile \u001b[39m\u001b[32m~/Documents/obi/code/obi-one/obi_one/scientific/circuit/neuron_sets.py:41\u001b[39m, in \u001b[36mNeuronPropertyFilter.test_validity\u001b[39m\u001b[34m(self, circuit, node_population)\u001b[39m\n\u001b[32m     40\u001b[39m \u001b[38;5;28;01mdef\u001b[39;00m\u001b[38;5;250m \u001b[39m\u001b[34mtest_validity\u001b[39m(\u001b[38;5;28mself\u001b[39m, circuit, node_population):\n\u001b[32m---> \u001b[39m\u001b[32m41\u001b[39m     \u001b[38;5;28;43mself\u001b[39;49m\u001b[43m.\u001b[49m\u001b[43menforce_no_lists\u001b[49m()\n\u001b[32m     42\u001b[39m     circuit_prop_names = circuit.sonata_circuit.nodes[node_population].property_names\n\u001b[32m     43\u001b[39m     filter_keys = \u001b[38;5;28mlist\u001b[39m(\u001b[38;5;28mself\u001b[39m.filter_dict.keys())\n",
      "\u001b[36mFile \u001b[39m\u001b[32m~/Documents/obi/code/obi-one/.venv/lib/python3.12/site-packages/pydantic/main.py:989\u001b[39m, in \u001b[36mBaseModel.__getattr__\u001b[39m\u001b[34m(self, item)\u001b[39m\n\u001b[32m    986\u001b[39m     \u001b[38;5;28;01mreturn\u001b[39;00m \u001b[38;5;28msuper\u001b[39m().\u001b[34m__getattribute__\u001b[39m(item)  \u001b[38;5;66;03m# Raises AttributeError if appropriate\u001b[39;00m\n\u001b[32m    987\u001b[39m \u001b[38;5;28;01melse\u001b[39;00m:\n\u001b[32m    988\u001b[39m     \u001b[38;5;66;03m# this is the current error\u001b[39;00m\n\u001b[32m--> \u001b[39m\u001b[32m989\u001b[39m     \u001b[38;5;28;01mraise\u001b[39;00m \u001b[38;5;167;01mAttributeError\u001b[39;00m(\u001b[33mf\u001b[39m\u001b[33m'\u001b[39m\u001b[38;5;132;01m{\u001b[39;00m\u001b[38;5;28mtype\u001b[39m(\u001b[38;5;28mself\u001b[39m).\u001b[34m__name__\u001b[39m\u001b[38;5;132;01m!r}\u001b[39;00m\u001b[33m object has no attribute \u001b[39m\u001b[38;5;132;01m{\u001b[39;00mitem\u001b[38;5;132;01m!r}\u001b[39;00m\u001b[33m'\u001b[39m)\n",
      "\u001b[31mAttributeError\u001b[39m: 'NeuronPropertyFilter' object has no attribute 'enforce_no_lists'"
     ]
    }
   ],
   "source": [
    "neuron_set = obi.PropertyNeuronSet(\n",
    "    property_filter=obi.scientific.circuit.neuron_sets.NeuronPropertyFilter(filter_dict={\"layer\": [\"2\", \"3\"], \"synapse_class\": [\"INH\"]}),\n",
    ")\n",
    "neuron_ids = neuron_set.get_neuron_ids(circuit, circuit.default_population_name)\n",
    "print(f\"{neuron_set.__class__.__name__} resolved in population '{circuit.default_population_name}' of circuit '{circuit}':\")\n",
    "print(f\"> Neuron IDs ({len(neuron_ids)}): {neuron_ids}\")\n",
    "print(f\"> Node set dict: {neuron_set.get_node_set_definition(circuit, circuit.default_population_name)}\")\n",
    "\n",
    "# # Optional: Individual neuron IDs resolved\n",
    "print(f\"> Node set dict with IDs resolved [OPTIONAL]: {neuron_set.get_node_set_definition(circuit, circuit.default_population_name, force_resolve_ids=True)}\")"
   ]
  },
  {
   "cell_type": "markdown",
   "metadata": {},
   "source": [
    "#### (h) __PropertyNeuronSet__, based on neuron properties, combined with exising (named) node sets\n",
    "<u>Note</u>: In this case, individual neuron IDs will always be resolved since a combination of properties and node sets is not possible in SONATA node sets otherwise!"
   ]
  },
  {
   "cell_type": "code",
   "execution_count": null,
   "metadata": {},
   "outputs": [],
   "source": [
    "neuron_set = obi.PropertyNeuronSet(\n",
    "    property_filter=obi.scientific.circuit.neuron_sets.NeuronPropertyFilter(filter_dict={\"layer\": [\"2\", \"3\"], \"synapse_class\": [\"INH\"]}),\n",
    ")\n",
    "neuron_ids = neuron_set.get_neuron_ids(circuit, circuit.default_population_name)\n",
    "print(f\"{neuron_set.__class__.__name__} resolved in population '{circuit.default_population_name}' of circuit '{circuit}':\")\n",
    "print(f\"> Neuron IDs ({len(neuron_ids)}): {neuron_ids}\")\n",
    "print(f\"> Node set dict: {neuron_set.get_node_set_definition(circuit, circuit.default_population_name)}\")"
   ]
  },
  {
   "cell_type": "markdown",
   "metadata": {},
   "source": [
    "#### (i) __VolumetricCountNeuronSet__, sample a spatial neighborhood\n"
   ]
  },
  {
   "cell_type": "code",
   "execution_count": null,
   "metadata": {},
   "outputs": [],
   "source": [
    "neuron_set = obi.VolumetricCountNeuronSet(\n",
    "    ox=10.0,\n",
    "    oy=25.0,\n",
    "    oz=100.0,\n",
    "    n=10,\n",
    "    property_filter=obi.scientific.circuit.neuron_sets.NeuronPropertyFilter(filter_dict={\"layer\": [\"2\", \"3\"], \"synapse_class\": [\"INH\"]}),\n",
    ")\n",
    "\n",
    "neuron_ids = neuron_set.get_neuron_ids(circuit, circuit.default_population_name)\n",
    "print(f\"{neuron_set.__class__.__name__} resolved in population '{circuit.default_population_name}' of circuit '{circuit}':\")\n",
    "print(f\"> Neuron IDs ({len(neuron_ids)}): {neuron_ids}\")\n",
    "print(f\"> Node set dict: {neuron_set.get_node_set_definition(circuit, circuit.default_population_name)}\")\n",
    "\n",
    "print(\"Printing neuron locations to prove spatial compactness:\")\n",
    "circuit.sonata_circuit.nodes[circuit.default_population_name].get(neuron_ids, properties=[\"x\", \"y\", \"z\"])"
   ]
  },
  {
   "cell_type": "markdown",
   "metadata": {},
   "source": [
    "#### (j) __VolmetricRadiusNeuronSet__, also neigborhood, but fixed radius\n",
    "<u>Note</u>: Can be combined with randm subsampling"
   ]
  },
  {
   "cell_type": "code",
   "execution_count": null,
   "metadata": {},
   "outputs": [],
   "source": [
    "neuron_set = obi.VolumetricRadiusNeuronSet(\n",
    "    ox=10.0,\n",
    "    oy=25.0,\n",
    "    oz=100.0,\n",
    "    radius=75.0,\n",
    "    property_filter=obi.scientific.circuit.neuron_sets.NeuronPropertyFilter(filter_dict={\"layer\": [\"2\", \"3\"], \"synapse_class\": [\"INH\"]}),\n",
    "    random_sample=5\n",
    ")\n",
    "\n",
    "neuron_ids = neuron_set.get_neuron_ids(circuit, circuit.default_population_name)\n",
    "print(f\"{neuron_set.__class__.__name__} resolved in population '{circuit.default_population_name}' of circuit '{circuit}':\")\n",
    "print(f\"> Neuron IDs ({len(neuron_ids)}): {neuron_ids}\")\n",
    "print(f\"> Node set dict: {neuron_set.get_node_set_definition(circuit, circuit.default_population_name)}\")\n",
    "\n",
    "print(\"Printing neuron locations to prove spatial compactness:\")\n",
    "circuit.sonata_circuit.nodes[circuit.default_population_name].get(neuron_ids, properties=[\"x\", \"y\", \"z\"])"
   ]
  },
  {
   "cell_type": "markdown",
   "metadata": {},
   "source": [
    "### __Example 3:__ Writing a NeuronSet to a SONATA node set file\n",
    "<u>Note</u>: A NeuronSet name must be set, which will be the name of the SONATA node set. The name must not exist!\n",
    "\n",
    "<u>Note 2</u>: The node sets file name is by default taken from the original circuit. An alternative name can optionally be provided.\n",
    "\n",
    "<u>Note 3</u>: Overwrite (`overwrite_if_exists`) and append (`append_if_exists`) options exist."
   ]
  },
  {
   "cell_type": "code",
   "execution_count": null,
   "metadata": {},
   "outputs": [],
   "source": [
    "output_path = \"./\"\n",
    "\n",
    "# Write new file, overwrite if existing\n",
    "neuron_set = obi.CombinedNeuronSet(name=\"L123\", node_sets=(\"Layer1\", \"Layer2\", \"Layer3\"))\n",
    "nset_file = neuron_set.to_node_set_file(circuit, circuit.default_population_name, output_path=output_path, overwrite_if_exists=True)\n",
    "\n",
    "# Append to existing file, but name already exists => NOT POSSIBLE\n",
    "# nset_file = neuron_set.to_node_set_file(circuit, circuit.default_population_name, output_path=\"./\", append_if_exists=True)  # AssertionError: Appending not possible, node set 'Basic' already exists!\n",
    "\n",
    "# Append to existing file\n",
    "neuron_set = obi.CombinedNeuronSet(name=\"L456\", node_sets=(\"Layer4\", \"Layer5\", \"Layer6\"))\n",
    "nset_file = neuron_set.to_node_set_file(circuit, circuit.default_population_name, output_path=output_path, append_if_exists=True)\n",
    "\n",
    "if os.path.exists(nset_file):\n",
    "    print(f\"Node set file: {nset_file}\")"
   ]
  },
  {
   "cell_type": "code",
   "execution_count": null,
   "metadata": {},
   "outputs": [],
   "source": []
  }
 ],
 "metadata": {
  "kernelspec": {
   "display_name": ".venv",
   "language": "python",
   "name": "python3"
  },
  "language_info": {
   "codemirror_mode": {
    "name": "ipython",
    "version": 3
   },
   "file_extension": ".py",
   "mimetype": "text/x-python",
   "name": "python",
   "nbconvert_exporter": "python",
   "pygments_lexer": "ipython3",
   "version": "3.12.9"
  }
 },
 "nbformat": 4,
 "nbformat_minor": 4
}
