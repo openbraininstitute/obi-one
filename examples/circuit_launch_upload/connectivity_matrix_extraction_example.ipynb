{
 "cells": [
  {
   "cell_type": "code",
   "execution_count": 1,
   "metadata": {},
   "outputs": [],
   "source": [
    "import obi\n",
    "\n",
    "connectivity_matrix_extractions_form = obi.ConnectivityMatrixExtractions(\n",
    "                    initialize=obi.ConnectivityMatrixExtractions.Initialize(\n",
    "                        # TOY CIRCUIT\n",
    "                        # circuit_path=[obi.NamedPath(name=\"ToyCircuit-S1-6k\", path=\"/Users/pokorny/Data/ToyCircuit-S1-6k/circuit_config.json\"),\n",
    "                        #               obi.NamedPath(name=\"ToyCircuit-S1-6k-Duplicate\", path=\"/Users/pokorny/Data/ToyCircuit-S1-6k/circuit_config.json\")],\n",
    "                        # circuit_path=[obi.NamedPath(name=\"ToyCircuit-S1-6k\", path=\"/Users/james/Documents/obi/additional_data/circuit_config.json\"),\n",
    "                                        # obi.NamedPath(name=\"ToyCircuit-S1-6k-Duplicate\", path=\"/Users/james/Documents/obi/additional_data/ToyCircuit-S1-6k/circuit_config.json\")],\n",
    "                        # edge_population=None,\n",
    "                        \n",
    "                        # O1 SUBCIRCUITS\n",
    "                        # circuit_path=[obi.NamedPath(name=\"nbS1-HEX0-L1\", path=\"/Users/james/Documents/obi/additional_data/O1_extracted_subcircuits/nbS1-HEX0-L1/circuit_config.json\"),\n",
    "                        #                 obi.NamedPath(name=\"nbS1-HEX1-L1\", path=\"/Users/james/Documents/obi/additional_data/O1_extracted_subcircuits/nbS1-HEX1-L1/circuit_config.json\")],\n",
    "\n",
    "                        # edge_population=\"S1nonbarrel_neurons__S1nonbarrel_neurons__chemical\",\n",
    "\n",
    "                        # nbS1-beta-O1 (SUB)CIRCUITS\n",
    "                        circuit_path=[obi.NamedPath(name=\"nbS1-HEX0-beta\", path=\"/Users/pokorny/JupyterLab/git_tmp/obi-output/extracted_subcircuits/nbS1-HEX0-beta/circuit_config.json\"),\n",
    "                                      obi.NamedPath(name=\"nbS1-HEX0-beta-ER\", path=\"/Users/pokorny/JupyterLab/git_tmp/obi-output/extracted_subcircuits/nbS1-HEX0-beta-ER/circuit_config.json\"),\n",
    "                                      obi.NamedPath(name=\"nbS1-HEX0-beta-DD\", path=\"/Users/pokorny/JupyterLab/git_tmp/obi-output/extracted_subcircuits/nbS1-HEX0-beta-DD/circuit_config.json\"),\n",
    "                                      obi.NamedPath(name=\"nbS1-HEX0-beta-BIP\", path=\"/Users/pokorny/JupyterLab/git_tmp/obi-output/extracted_subcircuits/nbS1-HEX0-beta-BIP/circuit_config.json\"),\n",
    "                                      obi.NamedPath(name=\"nbS1-HEX0-beta-OFF\", path=\"/Users/pokorny/JupyterLab/git_tmp/obi-output/extracted_subcircuits/nbS1-HEX0-beta-OFF/circuit_config.json\"),\n",
    "                                      obi.NamedPath(name=\"nbS1-HEX0-beta-POS\", path=\"/Users/pokorny/JupyterLab/git_tmp/obi-output/extracted_subcircuits/nbS1-HEX0-beta-POS/circuit_config.json\")],\n",
    "                        # circuit_path=[obi.NamedPath(name=\"nbS1-O1-beta\", path=\"/Users/pokorny/Data/nbS1-O1-beta/circuit_config_tc.json\"),\n",
    "                        #               obi.NamedPath(name=\"nbS1-O1-beta-ER\", path=\"/Users/pokorny/Data/nbS1-O1-beta-ER/circuit_config_tc.json\"),\n",
    "                        #               obi.NamedPath(name=\"nbS1-O1-beta-DD\", path=\"/Users/pokorny/Data/nbS1-O1-beta-DD/circuit_config_tc.json\"),\n",
    "                        #               obi.NamedPath(name=\"nbS1-O1-beta-BIP\", path=\"/Users/pokorny/Data/nbS1-O1-beta-BIP/circuit_config_tc.json\"),\n",
    "                        #               obi.NamedPath(name=\"nbS1-O1-beta-OFF\", path=\"/Users/pokorny/Data/nbS1-O1-beta-OFF/circuit_config_tc.json\"),\n",
    "                        #               obi.NamedPath(name=\"nbS1-O1-beta-POS\", path=\"/Users/pokorny/Data/nbS1-O1-beta-POS/circuit_config_tc.json\")],\n",
    "                        edge_population=\"S1nonbarrel_neurons__S1nonbarrel_neurons__chemical\",\n",
    "\n",
    "                        # HIPPOCAMPUS (SUB)CIRCUITS\n",
    "                        # circuit_path=[obi.NamedPath(name=\"rCA1-SLICE-REF\", path=\"/Users/pokorny/Data/rCA1-SLICE-REF/circuit_config.json\")],\n",
    "                        # circuit_path=[obi.NamedPath(name=\"rCA1-CYLINDER-REF\", path=\"/Users/pokorny/Data/rCA1-CYLINDER-REF/circuit_config.json\")],\n",
    "                        # circuit_path=[obi.NamedPath(name=\"rCA1\", path=\"/Users/pokorny/Data/rCA1-CYLINDER-REF/circuit_config.json\")],\n",
    "                        # edge_population=\"hippocampus_neurons__hippocampus_neurons__chemical_synapse\",\n",
    "\n",
    "                        # node_attributes=None,\n",
    "                        node_attributes=(\"synapse_class\", \"layer\", \"mtype\", \"etype\", \"x\", \"y\", \"z\"),\n",
    "                    )\n",
    ")\n",
    "\n",
    "# grid_scan = obi.GridScan(form=connectivity_matrix_extractions_form, output_root='./obi_output/connectivity_matrix_extraction/grid_scan')\n",
    "# grid_scan = obi.GridScan(form=connectivity_matrix_extractions_form, output_root='./obi_output/connectivity_matrix_extraction/grid_scan', coordinate_directory_option=\"ZERO_INDEX\")\n",
    "grid_scan = obi.GridScan(form=connectivity_matrix_extractions_form, output_root='../../../obi-output/connectivity_matrix_extraction/grid_scan', coordinate_directory_option=\"VALUE\")\n"
   ]
  },
  {
   "cell_type": "code",
   "execution_count": null,
   "metadata": {},
   "outputs": [],
   "source": [
    "import obi\n",
    "\n",
    "connectivity_matrix_extractions_form = obi.ConnectivityMatrixExtractions(\n",
    "                    initialize=obi.ConnectivityMatrixExtractions.Initialize(\n",
    "                        # TOY CIRCUIT\n",
    "                        # circuit_path=[obi.NamedPath(name=\"ToyCircuit-S1-6k\", path=\"/Users/pokorny/Data/ToyCircuit-S1-6k/circuit_config.json\"),\n",
    "                        #               obi.NamedPath(name=\"ToyCircuit-S1-6k-Duplicate\", path=\"/Users/pokorny/Data/ToyCircuit-S1-6k/circuit_config.json\")],\n",
    "                        # circuit_path=[obi.NamedPath(name=\"ToyCircuit-S1-6k\", path=\"/Users/james/Documents/obi/additional_data/circuit_config.json\"),\n",
    "                                        # obi.NamedPath(name=\"ToyCircuit-S1-6k-Duplicate\", path=\"/Users/james/Documents/obi/additional_data/ToyCircuit-S1-6k/circuit_config.json\")],\n",
    "                        # edge_population=None,\n",
    "                        \n",
    "                        # O1 SUBCIRCUITS\n",
    "                        circuit_path=[\n",
    "                            \n",
    "                                    obi.NamedPath(name=\"nbS1-O1\", path=\"/Users/james/Documents/obi/additional_data/O1_data/O1_data/circuit_config.json\"),\n",
    "\n",
    "                                    # obi.NamedPath(name=\"nbS1-HEX0\", path=\"../../../obi-output/O1_extracted_subcircuits/nbS1-HEX0/circuit_config.json\"),\n",
    "                                    # obi.NamedPath(name=\"nbS1-HEX1\", path=\"../../../obi-output/O1_extracted_subcircuits/nbS1-HEX1/circuit_config.json\"),\n",
    "                                    # obi.NamedPath(name=\"nbS1-HEX2\", path=\"../../../obi-output/O1_extracted_subcircuits/nbS1-HEX2/circuit_config.json\"),\n",
    "                                    # obi.NamedPath(name=\"nbS1-HEX3\", path=\"../../../obi-output/O1_extracted_subcircuits/nbS1-HEX3/circuit_config.json\"),\n",
    "                                    # obi.NamedPath(name=\"nbS1-HEX4\", path=\"../../../obi-output/O1_extracted_subcircuits/nbS1-HEX4/circuit_config.json\"),\n",
    "                                    # obi.NamedPath(name=\"nbS1-HEX5\", path=\"../../../obi-output/O1_extracted_subcircuits/nbS1-HEX5/circuit_config.json\"),\n",
    "                                    # obi.NamedPath(name=\"nbS1-HEX6\", path=\"../../../obi-output/O1_extracted_subcircuits/nbS1-HEX6/circuit_config.json\"),\n",
    "\n",
    "                                    # obi.NamedPath(name=\"nbS1-HEX0-L1\", path=\"../../../obi-output/O1_extracted_subcircuits/nbS1-HEX0-L1/circuit_config.json\"),\n",
    "                                    # obi.NamedPath(name=\"nbS1-HEX1-L1\", path=\"../../../obi-output/O1_extracted_subcircuits/nbS1-HEX1-L1/circuit_config.json\"),\n",
    "                                    # obi.NamedPath(name=\"nbS1-HEX2-L1\", path=\"../../../obi-output/O1_extracted_subcircuits/nbS1-HEX2-L1/circuit_config.json\"),\n",
    "                                    # obi.NamedPath(name=\"nbS1-HEX3-L1\", path=\"../../../obi-output/O1_extracted_subcircuits/nbS1-HEX3-L1/circuit_config.json\"),\n",
    "                                    # obi.NamedPath(name=\"nbS1-HEX4-L1\", path=\"../../../obi-output/O1_extracted_subcircuits/nbS1-HEX4-L1/circuit_config.json\"),\n",
    "                                    # obi.NamedPath(name=\"nbS1-HEX5-L1\", path=\"../../../obi-output/O1_extracted_subcircuits/nbS1-HEX5-L1/circuit_config.json\"),\n",
    "                                    # obi.NamedPath(name=\"nbS1-HEX6-L1\", path=\"../../../obi-output/O1_extracted_subcircuits/nbS1-HEX6-L1/circuit_config.json\"),\n",
    "\n",
    "                                    # obi.NamedPath(name=\"nbS1-HEX0-L23\", path=\"../../../obi-output/O1_extracted_subcircuits/nbS1-HEX0-L23/circuit_config.json\"),\n",
    "                                    # obi.NamedPath(name=\"nbS1-HEX1-L23\", path=\"../../../obi-output/O1_extracted_subcircuits/nbS1-HEX1-L23/circuit_config.json\"),\n",
    "                                    # obi.NamedPath(name=\"nbS1-HEX2-L23\", path=\"../../../obi-output/O1_extracted_subcircuits/nbS1-HEX2-L23/circuit_config.json\"),\n",
    "                                    # obi.NamedPath(name=\"nbS1-HEX3-L23\", path=\"../../../obi-output/O1_extracted_subcircuits/nbS1-HEX3-L23/circuit_config.json\"),\n",
    "                                    # obi.NamedPath(name=\"nbS1-HEX4-L23\", path=\"../../../obi-output/O1_extracted_subcircuits/nbS1-HEX4-L23/circuit_config.json\"),\n",
    "                                    # obi.NamedPath(name=\"nbS1-HEX5-L23\", path=\"../../../obi-output/O1_extracted_subcircuits/nbS1-HEX5-L23/circuit_config.json\"),\n",
    "                                    # obi.NamedPath(name=\"nbS1-HEX6-L23\", path=\"../../../obi-output/O1_extracted_subcircuits/nbS1-HEX6-L23/circuit_config.json\"),\n",
    "\n",
    "                                    # obi.NamedPath(name=\"nbS1-HEX0-L4\", path=\"../../../obi-output/O1_extracted_subcircuits/nbS1-HEX0-L4/circuit_config.json\"),\n",
    "                                    # obi.NamedPath(name=\"nbS1-HEX1-L4\", path=\"../../../obi-output/O1_extracted_subcircuits/nbS1-HEX1-L4/circuit_config.json\"),\n",
    "                                    # obi.NamedPath(name=\"nbS1-HEX2-L4\", path=\"../../../obi-output/O1_extracted_subcircuits/nbS1-HEX2-L4/circuit_config.json\"),\n",
    "                                    # obi.NamedPath(name=\"nbS1-HEX3-L4\", path=\"../../../obi-output/O1_extracted_subcircuits/nbS1-HEX3-L4/circuit_config.json\"),\n",
    "                                    # obi.NamedPath(name=\"nbS1-HEX4-L4\", path=\"../../../obi-output/O1_extracted_subcircuits/nbS1-HEX4-L4/circuit_config.json\"),\n",
    "                                    # obi.NamedPath(name=\"nbS1-HEX5-L4\", path=\"../../../obi-output/O1_extracted_subcircuits/nbS1-HEX5-L4/circuit_config.json\"),\n",
    "                                    # obi.NamedPath(name=\"nbS1-HEX6-L4\", path=\"../../../obi-output/O1_extracted_subcircuits/nbS1-HEX6-L4/circuit_config.json\"),\n",
    "\n",
    "                                    # obi.NamedPath(name=\"nbS1-HEX0-L5\", path=\"../../../obi-output/O1_extracted_subcircuits/nbS1-HEX0-L5/circuit_config.json\"),\n",
    "                                    # obi.NamedPath(name=\"nbS1-HEX1-L5\", path=\"../../../obi-output/O1_extracted_subcircuits/nbS1-HEX1-L5/circuit_config.json\"),\n",
    "                                    # obi.NamedPath(name=\"nbS1-HEX2-L5\", path=\"../../../obi-output/O1_extracted_subcircuits/nbS1-HEX2-L5/circuit_config.json\"),\n",
    "                                    # obi.NamedPath(name=\"nbS1-HEX3-L5\", path=\"../../../obi-output/O1_extracted_subcircuits/nbS1-HEX3-L5/circuit_config.json\"),\n",
    "                                    # obi.NamedPath(name=\"nbS1-HEX4-L5\", path=\"../../../obi-output/O1_extracted_subcircuits/nbS1-HEX4-L5/circuit_config.json\"),\n",
    "                                    # obi.NamedPath(name=\"nbS1-HEX5-L5\", path=\"../../../obi-output/O1_extracted_subcircuits/nbS1-HEX5-L5/circuit_config.json\"),\n",
    "                                    # obi.NamedPath(name=\"nbS1-HEX6-L5\", path=\"../../../obi-output/O1_extracted_subcircuits/nbS1-HEX6-L5/circuit_config.json\"),\n",
    "\n",
    "                                    # obi.NamedPath(name=\"nbS1-HEX0-L6\", path=\"../../../obi-output/O1_extracted_subcircuits/nbS1-HEX0-L6/circuit_config.json\"),\n",
    "                                    # obi.NamedPath(name=\"nbS1-HEX1-L6\", path=\"../../../obi-output/O1_extracted_subcircuits/nbS1-HEX1-L6/circuit_config.json\"),\n",
    "                                    # obi.NamedPath(name=\"nbS1-HEX2-L6\", path=\"../../../obi-output/O1_extracted_subcircuits/nbS1-HEX2-L6/circuit_config.json\"),\n",
    "                                    # obi.NamedPath(name=\"nbS1-HEX3-L6\", path=\"../../../obi-output/O1_extracted_subcircuits/nbS1-HEX3-L6/circuit_config.json\"),\n",
    "                                    # obi.NamedPath(name=\"nbS1-HEX4-L6\", path=\"../../../obi-output/O1_extracted_subcircuits/nbS1-HEX4-L6/circuit_config.json\"),\n",
    "                                    # obi.NamedPath(name=\"nbS1-HEX5-L6\", path=\"../../../obi-output/O1_extracted_subcircuits/nbS1-HEX5-L6/circuit_config.json\"),\n",
    "                                    # obi.NamedPath(name=\"nbS1-HEX6-L6\", path=\"../../../obi-output/O1_extracted_subcircuits/nbS1-HEX6-L6/circuit_config.json\")\n",
    "                                    ],\n",
    "\n",
    "                        edge_population=\"S1nonbarrel_neurons__S1nonbarrel_neurons__chemical\",\n",
    "\n",
    "\n",
    "                        # node_attributes=None,\n",
    "                        node_attributes=(\"synapse_class\", \"layer\", \"mtype\", \"etype\", \"x\", \"y\", \"z\"),\n",
    "                    )\n",
    ")\n",
    "\n",
    "# grid_scan = obi.GridScan(form=connectivity_matrix_extractions_form, output_root='./obi_output/connectivity_matrix_extraction/grid_scan')\n",
    "# grid_scan = obi.GridScan(form=connectivity_matrix_extractions_form, output_root='./obi_output/connectivity_matrix_extraction/grid_scan', coordinate_directory_option=\"ZERO_INDEX\")\n",
    "grid_scan = obi.GridScan(form=connectivity_matrix_extractions_form, output_root='../../../obi-output/O1_connectivity_matrix_extraction', coordinate_directory_option=\"VALUE\")\n"
   ]
  },
  {
   "cell_type": "code",
   "execution_count": null,
   "metadata": {},
   "outputs": [
    {
     "name": "stderr",
     "output_type": "stream",
     "text": [
      "<<<<<<< local\n"
     ]
    },
    {
     "name": "stdout",
     "output_type": "stream",
     "text": [
      "Info: Running idx 0\n",
      "Info: Loading circuit 'nbS1-HEX0-beta'\n",
      "Info: Node properties to extract: ('synapse_class', 'layer', 'mtype', 'etype', 'x', 'y', 'z')\n",
      "Info: Extracting connectivity from edge population 'S1nonbarrel_neurons__S1nonbarrel_neurons__chemical'\n"
     ]
    },
    {
     "name": "stderr",
     "output_type": "stream",
     "text": [
      "100%|███████████████████████████████████████████████████████████████████████████████████████████████| 30190/30190 [02:25<00:00, 206.96it/s]\n"
     ]
    },
    {
     "name": "stdout",
     "output_type": "stream",
     "text": [
      "Info: Connectivity matrix successfully written to '../../../obi-output/connectivity_matrix_extraction/grid_scan/nbS1-HEX0-beta/connectivity_matrix.h5'\n",
      "Info: Running idx 1\n",
      "Info: Loading circuit 'nbS1-HEX0-beta-ER'\n",
      "Info: Node properties to extract: ('synapse_class', 'layer', 'mtype', 'etype', 'x', 'y', 'z')\n",
      "Info: Extracting connectivity from edge population 'S1nonbarrel_neurons__S1nonbarrel_neurons__chemical'\n"
     ]
    },
    {
     "name": "stderr",
     "output_type": "stream",
     "text": [
      "100%|███████████████████████████████████████████████████████████████████████████████████████████████| 30190/30190 [02:18<00:00, 218.02it/s]\n"
     ]
    },
    {
     "name": "stdout",
     "output_type": "stream",
     "text": [
      "Info: Connectivity matrix successfully written to '../../../obi-output/connectivity_matrix_extraction/grid_scan/nbS1-HEX0-beta-ER/connectivity_matrix.h5'\n",
      "Info: Running idx 2\n",
      "Info: Loading circuit 'nbS1-HEX0-beta-DD'\n",
      "Info: Node properties to extract: ('synapse_class', 'layer', 'mtype', 'etype', 'x', 'y', 'z')\n",
      "Info: Extracting connectivity from edge population 'S1nonbarrel_neurons__S1nonbarrel_neurons__chemical'\n"
     ]
    },
    {
     "name": "stderr",
     "output_type": "stream",
     "text": [
      "100%|███████████████████████████████████████████████████████████████████████████████████████████████| 30190/30190 [02:19<00:00, 216.59it/s]\n"
     ]
    },
    {
     "name": "stdout",
     "output_type": "stream",
     "text": [
      "Info: Connectivity matrix successfully written to '../../../obi-output/connectivity_matrix_extraction/grid_scan/nbS1-HEX0-beta-DD/connectivity_matrix.h5'\n",
      "Info: Running idx 3\n",
      "Info: Loading circuit 'nbS1-HEX0-beta-BIP'\n",
      "Info: Node properties to extract: ('synapse_class', 'layer', 'mtype', 'etype', 'x', 'y', 'z')\n",
      "Info: Extracting connectivity from edge population 'S1nonbarrel_neurons__S1nonbarrel_neurons__chemical'\n"
     ]
    },
    {
     "name": "stderr",
     "output_type": "stream",
     "text": [
      "100%|███████████████████████████████████████████████████████████████████████████████████████████████| 30190/30190 [02:20<00:00, 214.83it/s]\n"
     ]
    },
    {
     "name": "stderr",
     "output_type": "stream",
     "text": [
      "=======\n"
     ]
    },
    {
     "name": "stderr",
     "output_type": "stream",
     "text": [
      ">>>>>>> remote\n"
     ]
    },
    {
     "name": "stderr",
     "output_type": "stream",
     "text": [
      "<<<<<<< local <modified: >\n"
     ]
    },
    {
     "name": "stdout",
     "output_type": "stream",
     "text": [
      "Info: Connectivity matrix successfully written to '../../../obi-output/connectivity_matrix_extraction/grid_scan/nbS1-HEX0-beta-BIP/connectivity_matrix.h5'\n",
      "Info: Running idx 4\n",
      "Info: Loading circuit 'nbS1-HEX0-beta-OFF'\n",
      "Info: Node properties to extract: ('synapse_class', 'layer', 'mtype', 'etype', 'x', 'y', 'z')\n",
      "Info: Extracting connectivity from edge population 'S1nonbarrel_neurons__S1nonbarrel_neurons__chemical'\n"
     ]
    },
    {
     "name": "stderr",
     "output_type": "stream",
     "text": [
      "=======\n"
     ]
    },
    {
     "name": "stderr",
     "output_type": "stream",
     "text": [
      ">>>>>>> remote <removed>\n"
     ]
    },
    {
     "name": "stderr",
     "output_type": "stream",
     "text": [
      "100%|███████████████████████████████████████████████████████████████████████████████████████████████| 30190/30190 [02:19<00:00, 215.65it/s]\n"
     ]
    },
    {
     "name": "stderr",
     "output_type": "stream",
     "text": [
      "<<<<<<< local <modified: >\n"
     ]
    },
    {
     "name": "stdout",
     "output_type": "stream",
     "text": [
      "Info: Connectivity matrix successfully written to '../../../obi-output/connectivity_matrix_extraction/grid_scan/nbS1-HEX0-beta-OFF/connectivity_matrix.h5'\n",
      "Info: Running idx 5\n",
      "Info: Loading circuit 'nbS1-HEX0-beta-POS'\n",
      "Info: Node properties to extract: ('synapse_class', 'layer', 'mtype', 'etype', 'x', 'y', 'z')\n",
      "Info: Extracting connectivity from edge population 'S1nonbarrel_neurons__S1nonbarrel_neurons__chemical'\n"
     ]
    },
    {
     "name": "stderr",
     "output_type": "stream",
     "text": [
      "=======\n"
     ]
    },
    {
     "name": "stderr",
     "output_type": "stream",
     "text": [
      ">>>>>>> remote <removed>\n"
     ]
    },
    {
     "name": "stderr",
     "output_type": "stream",
     "text": [
      "100%|███████████████████████████████████████████████████████████████████████████████████████████████| 30190/30190 [02:20<00:00, 215.40it/s]\n"
     ]
    },
    {
     "name": "stderr",
     "output_type": "stream",
     "text": [
      "<<<<<<< local <modified: >\n"
     ]
    },
    {
     "name": "stdout",
     "output_type": "stream",
     "text": [
      "Info: Connectivity matrix successfully written to '../../../obi-output/connectivity_matrix_extraction/grid_scan/nbS1-HEX0-beta-POS/connectivity_matrix.h5'\n"
     ]
    },
    {
     "name": "stderr",
     "output_type": "stream",
     "text": [
      "=======\n"
     ]
    },
    {
     "name": "stderr",
     "output_type": "stream",
     "text": [
      ">>>>>>> remote <removed>\n"
     ]
    }
   ],
   "source": [
    "grid_scan.run()"
   ]
  },
  {
   "cell_type": "code",
   "execution_count": null,
   "metadata": {},
   "outputs": [],
   "source": [
    "# Display the intermediary data\n",
    "grid_scan.multiple_value_parameters(display=True)\n",
    "grid_scan.coordinate_parameters(display=True)\n",
    "grid_scan.coordinate_instances(display=True)"
   ]
  },
  {
   "cell_type": "code",
   "execution_count": null,
   "metadata": {},
   "outputs": [],
   "source": [
    "# Deserialize\n",
    "grid_scan_ds = obi.deserialize_obi_object_from_json_file(\"./obi_output/connectivity_matrix_extraction/grid_scan/run_scan_config.json\")"
   ]
  },
  {
   "cell_type": "code",
   "execution_count": null,
   "metadata": {},
   "outputs": [],
   "source": [
    "grid_coord_ds_single = obi.deserialize_obi_object_from_json_file(\"./obi_output/connectivity_matrix_extraction/grid_scan/ToyCircuit-S1-6k/run_coordinate_instance.json\")"
   ]
  }
 ],
 "metadata": {
  "kernelspec": {
   "display_name": "OBISDKTmpKernel",
   "language": "python",
   "name": "obisdktmpkernel"
  },
  "language_info": {
   "codemirror_mode": {
    "name": "ipython",
    "version": 3
   },
   "file_extension": ".py",
   "mimetype": "text/x-python",
   "name": "python",
   "nbconvert_exporter": "python",
   "pygments_lexer": "ipython3",
   "version": "3.13.2"
  }
 },
 "nbformat": 4,
 "nbformat_minor": 4
}
