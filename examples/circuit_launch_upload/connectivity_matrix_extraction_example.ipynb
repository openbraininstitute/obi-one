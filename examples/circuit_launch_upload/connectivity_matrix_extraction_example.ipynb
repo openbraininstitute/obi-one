{
 "cells": [
  {
   "cell_type": "code",
   "execution_count": 1,
   "metadata": {},
   "outputs": [],
   "source": [
    "import obi\n",
    "\n",
    "connectivity_matrix_extractions_form = obi.ConnectivityMatrixExtractions(\n",
    "                    initialize=obi.ConnectivityMatrixExtractions.Initialize(\n",
    "                        # TOY CIRCUIT\n",
    "                        # circuit_path=[obi.NamedPath(name=\"ToyCircuit-S1-6k\", path=\"/Users/pokorny/Data/ToyCircuit-S1-6k/circuit_config.json\"),\n",
    "                        #               obi.NamedPath(name=\"ToyCircuit-S1-6k-Duplicate\", path=\"/Users/pokorny/Data/ToyCircuit-S1-6k/circuit_config.json\")],\n",
    "                        # circuit_path=[obi.NamedPath(name=\"ToyCircuit-S1-6k\", path=\"/Users/james/Documents/obi/additional_data/circuit_config.json\"),\n",
    "                                        # obi.NamedPath(name=\"ToyCircuit-S1-6k-Duplicate\", path=\"/Users/james/Documents/obi/additional_data/ToyCircuit-S1-6k/circuit_config.json\")],\n",
    "                        # edge_population=None,\n",
    "                        \n",
    "                        # O1 SUBCIRCUITS\n",
    "                        circuit_path=[obi.NamedPath(name=\"nbS1-HEX0-L1\", path=\"/Users/james/Documents/obi/additional_data/O1_extracted_subcircuits/nbS1-HEX0-L1/circuit_config.json\"),\n",
    "                                        obi.NamedPath(name=\"nbS1-HEX1-L1\", path=\"/Users/james/Documents/obi/additional_data/O1_extracted_subcircuits/nbS1-HEX1-L1/circuit_config.json\")],\n",
    "\n",
    "                        edge_population=\"S1nonbarrel_neurons__S1nonbarrel_neurons__chemical\",\n",
    "\n",
    "\n",
    "                        # node_attributes=None,\n",
    "                        node_attributes=(\"synapse_class\", \"layer\", \"mtype\", \"etype\", \"x\", \"y\", \"z\"),\n",
    "                    )\n",
    ")\n",
    "\n",
    "# grid_scan = obi.GridScan(form=connectivity_matrix_extractions_form, output_root='./obi_output/connectivity_matrix_extraction/grid_scan')\n",
    "# grid_scan = obi.GridScan(form=connectivity_matrix_extractions_form, output_root='./obi_output/connectivity_matrix_extraction/grid_scan', coordinate_directory_option=\"ZERO_INDEX\")\n",
    "grid_scan = obi.GridScan(form=connectivity_matrix_extractions_form, output_root='../../../obi-output/O1_connectivity_matrix_extraction/grid_scan', coordinate_directory_option=\"VALUE\")\n"
   ]
  },
  {
   "cell_type": "code",
   "execution_count": 2,
   "metadata": {},
   "outputs": [
    {
     "name": "stdout",
     "output_type": "stream",
     "text": [
      "Info: Running idx 0\n",
      "Info: Loading circuit 'nbS1-HEX0-L1'\n",
      "Info: Node properties to extract: ('synapse_class', 'layer', 'mtype', 'etype', 'x', 'y', 'z')\n",
      "Info: Extracting connectivity from edge population 'S1nonbarrel_neurons__S1nonbarrel_neurons__chemical'\n"
     ]
    },
    {
     "name": "stderr",
     "output_type": "stream",
     "text": [
      "100%|██████████| 291/291 [00:00<00:00, 2009.08it/s]\n"
     ]
    },
    {
     "name": "stdout",
     "output_type": "stream",
     "text": [
      "Info: Connectivity matrix successfully written to '../../../obi-output/O1_connectivity_matrix_extraction/grid_scan/nbS1-HEX0-L1/connectivity_matrix.h5'\n",
      "Info: Running idx 1\n",
      "Info: Loading circuit 'nbS1-HEX1-L1'\n",
      "Info: Node properties to extract: ('synapse_class', 'layer', 'mtype', 'etype', 'x', 'y', 'z')\n",
      "Info: Extracting connectivity from edge population 'S1nonbarrel_neurons__S1nonbarrel_neurons__chemical'\n"
     ]
    },
    {
     "name": "stderr",
     "output_type": "stream",
     "text": [
      "100%|██████████| 419/419 [00:00<00:00, 2122.06it/s]\n"
     ]
    },
    {
     "name": "stdout",
     "output_type": "stream",
     "text": [
      "Info: Connectivity matrix successfully written to '../../../obi-output/O1_connectivity_matrix_extraction/grid_scan/nbS1-HEX1-L1/connectivity_matrix.h5'\n"
     ]
    }
   ],
   "source": [
    "grid_scan.run()"
   ]
  },
  {
   "cell_type": "code",
   "execution_count": null,
   "metadata": {},
   "outputs": [],
   "source": [
    "# Display the intermediary data\n",
    "grid_scan.multiple_value_parameters(display=True)\n",
    "grid_scan.coordinate_parameters(display=True)\n",
    "grid_scan.coordinate_instances(display=True)"
   ]
  },
  {
   "cell_type": "code",
   "execution_count": null,
   "metadata": {},
   "outputs": [],
   "source": [
    "# Deserialize\n",
    "grid_scan_ds = obi.deserialize_obi_object_from_json_file(\"./obi_output/connectivity_matrix_extraction/grid_scan/run_scan_config.json\")"
   ]
  },
  {
   "cell_type": "code",
   "execution_count": null,
   "metadata": {},
   "outputs": [],
   "source": [
    "grid_coord_ds_single = obi.deserialize_obi_object_from_json_file(\"./obi_output/connectivity_matrix_extraction/grid_scan/ToyCircuit-S1-6k/run_coordinate_instance.json\")"
   ]
  }
 ],
 "metadata": {
  "kernelspec": {
   "display_name": ".venv",
   "language": "python",
   "name": "python3"
  },
  "language_info": {
   "codemirror_mode": {
    "name": "ipython",
    "version": 3
   },
   "file_extension": ".py",
   "mimetype": "text/x-python",
   "name": "python",
   "nbconvert_exporter": "python",
   "pygments_lexer": "ipython3",
   "version": "3.11.11"
  }
 },
 "nbformat": 4,
 "nbformat_minor": 4
}
