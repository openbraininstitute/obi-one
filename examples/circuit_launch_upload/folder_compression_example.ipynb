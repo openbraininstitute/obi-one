{
 "cells": [
  {
   "cell_type": "code",
   "execution_count": 7,
   "metadata": {},
   "outputs": [],
   "source": [
    "import obi\n",
    "\n",
    "folder_compressions_form = obi.FolderCompressions(\n",
    "                    initialize=obi.FolderCompressions.Initialize(\n",
    "                        folder_path=[obi.NamedPath(name=\"rCA1-CYLINDER-REF\", path=\"../../../obi-output/circuit_extraction/grid_scan/rCA1-CYLINDER-REF\"),\n",
    "                                     obi.NamedPath(name=\"rCA1-SLICE-REF\", path=\"../../../obi-output/circuit_extraction/grid_scan/rCA1-SLICE-REF\")],\n",
    "                        file_format=\"xz\",\n",
    "                        file_name=\"circuit\"\n",
    "                    )\n",
    ")\n",
    "\n",
    "# grid_scan = obi.GridScan(form=folder_compressions_form, output_root='./obi_output/circuit_compression/grid_scan')\n",
    "# grid_scan = obi.GridScan(form=folder_compressions_form, output_root='./obi_output/circuit_compression/grid_scan', coordinate_directory_option=\"ZERO_INDEX\")\n",
    "grid_scan = obi.GridScan(form=folder_compressions_form, output_root='../../../obi-output/circuit_compression/grid_scan', coordinate_directory_option=\"VALUE\")\n"
   ]
  },
  {
   "cell_type": "code",
   "execution_count": 8,
   "metadata": {},
   "outputs": [
    {
     "name": "stdout",
     "output_type": "stream",
     "text": [
      "Info: Running xz compression on rCA1-CYLINDER-REF...DONE\n",
      "Info: Running xz compression on rCA1-SLICE-REF...DONE\n"
     ]
    }
   ],
   "source": [
    "grid_scan.run()"
   ]
  },
  {
   "cell_type": "code",
   "execution_count": null,
   "metadata": {},
   "outputs": [],
   "source": []
  }
 ],
 "metadata": {
  "kernelspec": {
   "display_name": "OBISDKTmpKernel",
   "language": "python",
   "name": "obisdktmpkernel"
  },
  "language_info": {
   "codemirror_mode": {
    "name": "ipython",
    "version": 3
   },
   "file_extension": ".py",
   "mimetype": "text/x-python",
   "name": "python",
   "nbconvert_exporter": "python",
   "pygments_lexer": "ipython3",
   "version": "3.13.2"
  }
 },
 "nbformat": 4,
 "nbformat_minor": 4
}
