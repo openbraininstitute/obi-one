{
 "cells": [
  {
   "cell_type": "code",
   "execution_count": 1,
   "metadata": {},
   "outputs": [],
   "source": [
    "import obi\n",
    "\n",
    "folder_compressions_form = obi.FolderCompressions(\n",
    "                    initialize=obi.FolderCompressions.Initialize(\n",
    "                        folder_path=[obi.NamedPath(name=\"nbS1-HEX0-L1\", path=\"../../../obi-output/morphology_containerization_test/nbS1-HEX0-L1\"),\n",
    "                                     obi.NamedPath(name=\"nbS1-HEX0-beta-L1\", path=\"../../../obi-output/morphology_containerization_test/nbS1-HEX0-beta-L1\")],\n",
    "\n",
    "                        file_format=\"gz\",\n",
    "                        file_name=\"circuit\"\n",
    "                    )\n",
    ")\n",
    "\n",
    "grid_scan = obi.GridScan(form=folder_compressions_form, output_root='../../../obi-output/circuit_compression_test', coordinate_directory_option=\"VALUE\")\n",
    ""
   ]
  },
  {
   "cell_type": "code",
   "execution_count": null,
   "metadata": {},
   "outputs": [
    {
     "name": "stdout",
     "output_type": "stream",
     "text": [
      "Info: Running gz compression on nbS1-HEX0-L1...DONE (Duration 00h:00min:04s; File size 31.0MB)\n",
      "Info: Running gz compression on nbS1-HEX0-beta-L1...DONE (Duration 00h:00min:04s; File size 31.0MB)\n"
     ]
    }
   ],
   "source": [
    "grid_scan.run()"
   ]
  },
  {
   "cell_type": "code",
   "execution_count": null,
   "metadata": {},
   "outputs": [],
   "source": []
  }
 ],
 "metadata": {
  "kernelspec": {
   "display_name": ".venv",
   "language": "python",
   "name": "python3"
  },
  "language_info": {
   "codemirror_mode": {
    "name": "ipython",
    "version": 3
   },
   "file_extension": ".py",
   "mimetype": "text/x-python",
   "name": "python",
   "nbconvert_exporter": "python",
   "pygments_lexer": "ipython3",
   "version": "3.11.11"
  }
 },
 "nbformat": 4,
 "nbformat_minor": 4
}
