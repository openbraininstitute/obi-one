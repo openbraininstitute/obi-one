{
 "cells": [
  {
   "cell_type": "code",
   "execution_count": null,
   "metadata": {},
   "outputs": [],
   "source": [
    "import obi\n",
    "\n",
    "folder_compressions_form = obi.FolderCompressions(\n",
    "                    initialize=obi.FolderCompressions.Initialize(\n",
    "                        folder_path=[\n",
    "\n",
    "                                    obi.NamedPath(name=\"nbS1-HEX0\", path=\"../../../obi-output/O1_extracted_subcircuits/nbS1-HEX0\"),\n",
    "                                    # obi.NamedPath(name=\"nbS1-HEX1\", path=\"../../../obi-output/O1_extracted_subcircuits/nbS1-HEX1\"),\n",
    "                                    # obi.NamedPath(name=\"nbS1-HEX2\", path=\"../../../obi-output/O1_extracted_subcircuits/nbS1-HEX2\"),\n",
    "                                    # obi.NamedPath(name=\"nbS1-HEX3\", path=\"../../../obi-output/O1_extracted_subcircuits/nbS1-HEX3\"),\n",
    "                                    # obi.NamedPath(name=\"nbS1-HEX4\", path=\"../../../obi-output/O1_extracted_subcircuits/nbS1-HEX4\"),\n",
    "                                    # obi.NamedPath(name=\"nbS1-HEX5\", path=\"../../../obi-output/O1_extracted_subcircuits/nbS1-HEX5\"),\n",
    "                                    # obi.NamedPath(name=\"nbS1-HEX6\", path=\"../../../obi-output/O1_extracted_subcircuits/nbS1-HEX6\"),\n",
    "\n",
    "                                    obi.NamedPath(name=\"nbS1-HEX0-L1\", path=\"../../../obi-output/O1_extracted_subcircuits/nbS1-HEX0-L1\"),\n",
    "                                    # obi.NamedPath(name=\"nbS1-HEX1-L1\", path=\"../../../obi-output/O1_extracted_subcircuits/nbS1-HEX1-L1\"),\n",
    "                                    # obi.NamedPath(name=\"nbS1-HEX2-L1\", path=\"../../../obi-output/O1_extracted_subcircuits/nbS1-HEX2-L1\"),\n",
    "                                    # obi.NamedPath(name=\"nbS1-HEX3-L1\", path=\"../../../obi-output/O1_extracted_subcircuits/nbS1-HEX3-L1\"),\n",
    "                                    # obi.NamedPath(name=\"nbS1-HEX4-L1\", path=\"../../../obi-output/O1_extracted_subcircuits/nbS1-HEX4-L1\"),\n",
    "                                    # obi.NamedPath(name=\"nbS1-HEX5-L1\", path=\"../../../obi-output/O1_extracted_subcircuits/nbS1-HEX5-L1\"),\n",
    "                                    # obi.NamedPath(name=\"nbS1-HEX6-L1\", path=\"../../../obi-output/O1_extracted_subcircuits/nbS1-HEX6-L1\"),\n",
    "\n",
    "                                    obi.NamedPath(name=\"nbS1-HEX0-L23\", path=\"../../../obi-output/O1_extracted_subcircuits/nbS1-HEX0-L23\"),\n",
    "                                    # obi.NamedPath(name=\"nbS1-HEX1-L23\", path=\"../../../obi-output/O1_extracted_subcircuits/nbS1-HEX1-L23\"),\n",
    "                                    # obi.NamedPath(name=\"nbS1-HEX2-L23\", path=\"../../../obi-output/O1_extracted_subcircuits/nbS1-HEX2-L23\"),\n",
    "                                    # obi.NamedPath(name=\"nbS1-HEX3-L23\", path=\"../../../obi-output/O1_extracted_subcircuits/nbS1-HEX3-L23\"),\n",
    "                                    # obi.NamedPath(name=\"nbS1-HEX4-L23\", path=\"../../../obi-output/O1_extracted_subcircuits/nbS1-HEX4-L23\"),\n",
    "                                    # obi.NamedPath(name=\"nbS1-HEX5-L23\", path=\"../../../obi-output/O1_extracted_subcircuits/nbS1-HEX5-L23\"),\n",
    "                                    # obi.NamedPath(name=\"nbS1-HEX6-L23\", path=\"../../../obi-output/O1_extracted_subcircuits/nbS1-HEX6-L23\"),\n",
    "\n",
    "                                    obi.NamedPath(name=\"nbS1-HEX0-L4\", path=\"../../../obi-output/O1_extracted_subcircuits/nbS1-HEX0-L4\"),\n",
    "                                    # obi.NamedPath(name=\"nbS1-HEX1-L4\", path=\"../../../obi-output/O1_extracted_subcircuits/nbS1-HEX1-L4\"),\n",
    "                                    # obi.NamedPath(name=\"nbS1-HEX2-L4\", path=\"../../../obi-output/O1_extracted_subcircuits/nbS1-HEX2-L4\"),\n",
    "                                    # obi.NamedPath(name=\"nbS1-HEX3-L4\", path=\"../../../obi-output/O1_extracted_subcircuits/nbS1-HEX3-L4\"),\n",
    "                                    # obi.NamedPath(name=\"nbS1-HEX4-L4\", path=\"../../../obi-output/O1_extracted_subcircuits/nbS1-HEX4-L4\"),\n",
    "                                    # obi.NamedPath(name=\"nbS1-HEX5-L4\", path=\"../../../obi-output/O1_extracted_subcircuits/nbS1-HEX5-L4\"),\n",
    "                                    # obi.NamedPath(name=\"nbS1-HEX6-L4\", path=\"../../../obi-output/O1_extracted_subcircuits/nbS1-HEX6-L4\"),\n",
    "\n",
    "                                    obi.NamedPath(name=\"nbS1-HEX0-L5\", path=\"../../../obi-output/O1_extracted_subcircuits/nbS1-HEX0-L5\"),\n",
    "                                    # obi.NamedPath(name=\"nbS1-HEX1-L5\", path=\"../../../obi-output/O1_extracted_subcircuits/nbS1-HEX1-L5\"),\n",
    "                                    # obi.NamedPath(name=\"nbS1-HEX2-L5\", path=\"../../../obi-output/O1_extracted_subcircuits/nbS1-HEX2-L5\"),\n",
    "                                    # obi.NamedPath(name=\"nbS1-HEX3-L5\", path=\"../../../obi-output/O1_extracted_subcircuits/nbS1-HEX3-L5\"),\n",
    "                                    # obi.NamedPath(name=\"nbS1-HEX4-L5\", path=\"../../../obi-output/O1_extracted_subcircuits/nbS1-HEX4-L5\"),\n",
    "                                    # obi.NamedPath(name=\"nbS1-HEX5-L5\", path=\"../../../obi-output/O1_extracted_subcircuits/nbS1-HEX5-L5\"),\n",
    "                                    # obi.NamedPath(name=\"nbS1-HEX6-L5\", path=\"../../../obi-output/O1_extracted_subcircuits/nbS1-HEX6-L5\"),\n",
    "\n",
    "                                    obi.NamedPath(name=\"nbS1-HEX0-L6\", path=\"../../../obi-output/O1_extracted_subcircuits/nbS1-HEX0-L6\"),\n",
    "                                    # obi.NamedPath(name=\"nbS1-HEX1-L6\", path=\"../../../obi-output/O1_extracted_subcircuits/nbS1-HEX1-L6\"),\n",
    "                                    # obi.NamedPath(name=\"nbS1-HEX2-L6\", path=\"../../../obi-output/O1_extracted_subcircuits/nbS1-HEX2-L6\"),\n",
    "                                    # obi.NamedPath(name=\"nbS1-HEX3-L6\", path=\"../../../obi-output/O1_extracted_subcircuits/nbS1-HEX3-L6\"),\n",
    "                                    # obi.NamedPath(name=\"nbS1-HEX4-L6\", path=\"../../../obi-output/O1_extracted_subcircuits/nbS1-HEX4-L6\"),\n",
    "                                    # obi.NamedPath(name=\"nbS1-HEX5-L6\", path=\"../../../obi-output/O1_extracted_subcircuits/nbS1-HEX5-L6\"),\n",
    "                                    # obi.NamedPath(name=\"nbS1-HEX6-L6\", path=\"../../../obi-output/O1_extracted_subcircuits/nbS1-HEX6-L6\"),\n",
    "\n",
    "                                    # obi.NamedPath(name=\"rCA1-CYLINDER-REF\", path=\"../../../obi-output/circuit_extraction/grid_scan/rCA1-CYLINDER-REF\"),\n",
    "                                    # obi.NamedPath(name=\"rCA1-SLICE-REF\", path=\"../../../obi-output/circuit_extraction/grid_scan/rCA1-SLICE-REF\")\n",
    "                                    \n",
    "                                    ],\n",
    "                        file_format=\"xz\",\n",
    "                        file_name=\"circuit\"\n",
    "                    )\n",
    ")\n",
    "\n",
    "# grid_scan = obi.GridScan(form=folder_compressions_form, output_root='./obi_output/circuit_compression/grid_scan')\n",
    "# grid_scan = obi.GridScan(form=folder_compressions_form, output_root='./obi_output/circuit_compression/grid_scan', coordinate_directory_option=\"ZERO_INDEX\")\n",
    "grid_scan = obi.GridScan(form=folder_compressions_form, output_root='../../../obi-output/circuit_compression/grid_scan', coordinate_directory_option=\"VALUE\")\n"
   ]
  },
  {
   "cell_type": "code",
   "execution_count": null,
   "metadata": {},
   "outputs": [],
   "source": [
    "grid_scan.run()"
   ]
  },
  {
   "cell_type": "code",
   "execution_count": null,
   "metadata": {},
   "outputs": [],
   "source": []
  }
 ],
 "metadata": {
  "kernelspec": {
   "display_name": ".venv",
   "language": "python",
   "name": "python3"
  },
  "language_info": {
   "codemirror_mode": {
    "name": "ipython",
    "version": 3
   },
   "file_extension": ".py",
   "mimetype": "text/x-python",
   "name": "python",
   "nbconvert_exporter": "python",
   "pygments_lexer": "ipython3",
   "version": "3.11.11"
  }
 },
 "nbformat": 4,
 "nbformat_minor": 4
}
