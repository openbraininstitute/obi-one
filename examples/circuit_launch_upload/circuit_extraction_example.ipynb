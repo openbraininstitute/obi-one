{
 "cells": [
  {
   "cell_type": "code",
   "execution_count": null,
   "metadata": {},
   "outputs": [],
   "source": [
    "import obi\n",
    "\n",
    "circuit_extractions_form = obi.CircuitExtractions(\n",
    "                    initialize=obi.CircuitExtractions.Initialize(\n",
    "                        circuit_path=obi.NamedPath(name=\"O1_data\", path=\"/Users/james/Documents/obi/additional_data/O1_data/O1_data/circuit_config.json\"),\n",
    "                        node_set=[\n",
    "                                    'nbS1-HEX0', \n",
    "                                    # 'nbS1-HEX1', \n",
    "                                    # 'nbS1-HEX2', \n",
    "                                    # 'nbS1-HEX3', \n",
    "                                    # 'nbS1-HEX4', \n",
    "                                    # 'nbS1-HEX5', \n",
    "                                    # 'nbS1-HEX6', \n",
    "\n",
    "                                    'nbS1-HEX0-L1', \n",
    "                                    # 'nbS1-HEX1-L1', \n",
    "                                    # 'nbS1-HEX2-L1', \n",
    "                                    # 'nbS1-HEX3-L1', \n",
    "                                    # 'nbS1-HEX4-L1', \n",
    "                                    # 'nbS1-HEX5-L1', \n",
    "                                    # 'nbS1-HEX6-L1', \n",
    "\n",
    "                                    'nbS1-HEX0-L23', \n",
    "                                    # 'nbS1-HEX1-L23', \n",
    "                                    # 'nbS1-HEX2-L23', \n",
    "                                    # 'nbS1-HEX3-L23', \n",
    "                                    # 'nbS1-HEX4-L23', \n",
    "                                    # 'nbS1-HEX5-L23', \n",
    "                                    # 'nbS1-HEX6-L23', \n",
    "\n",
    "                                    'nbS1-HEX0-L4', \n",
    "                                    # 'nbS1-HEX1-L4', \n",
    "                                    # 'nbS1-HEX2-L4', \n",
    "                                    # 'nbS1-HEX3-L4', \n",
    "                                    # 'nbS1-HEX4-L4',\n",
    "                                    #  'nbS1-HEX5-L4', \n",
    "                                    #  'nbS1-HEX6-L4', \n",
    "\n",
    "                                     'nbS1-HEX0-L5', \n",
    "                                    #  'nbS1-HEX1-L5', \n",
    "                                    #  'nbS1-HEX2-L5', \n",
    "                                    #  'nbS1-HEX3-L5', \n",
    "                                    #  'nbS1-HEX4-L5', \n",
    "                                    #  'nbS1-HEX5-L5', \n",
    "                                    #  'nbS1-HEX6-L5', \n",
    "\n",
    "                                     'nbS1-HEX0-L6', \n",
    "                                    #  'nbS1-HEX1-L6', \n",
    "                                    #  'nbS1-HEX2-L6', \n",
    "                                    #  'nbS1-HEX3-L6', \n",
    "                                    #  'nbS1-HEX4-L6', \n",
    "                                    #  'nbS1-HEX5-L6', \n",
    "                                    #  'nbS1-HEX6-L6'\n",
    "                                ]\n",
    "                    )\n",
    ")\n",
    "\n",
    "grid_scan = obi.GridScan(form=circuit_extractions_form, output_root='../../../obi-output/O1_extracted_subcircuits', coordinate_directory_option=\"VALUE\")\n",
    "grid_scan.run()"
   ]
  },
  {
   "cell_type": "code",
   "execution_count": null,
   "metadata": {},
   "outputs": [],
   "source": [
    "# Display the intermediary data\n",
    "grid_scan.multiple_value_parameters(display=True)\n",
    "grid_scan.coordinate_parameters(display=True)\n",
    "grid_scan.coordinate_instances(display=True)"
   ]
  },
  {
   "cell_type": "markdown",
   "metadata": {},
   "source": []
  },
  {
   "cell_type": "code",
   "execution_count": null,
   "metadata": {},
   "outputs": [],
   "source": []
  },
  {
   "cell_type": "code",
   "execution_count": null,
   "metadata": {},
   "outputs": [],
   "source": []
  },
  {
   "cell_type": "code",
   "execution_count": null,
   "metadata": {},
   "outputs": [],
   "source": []
  }
 ],
 "metadata": {
  "kernelspec": {
   "display_name": ".venv",
   "language": "python",
   "name": "python3"
  },
  "language_info": {
   "codemirror_mode": {
    "name": "ipython",
    "version": 3
   },
   "file_extension": ".py",
   "mimetype": "text/x-python",
   "name": "python",
   "nbconvert_exporter": "python",
   "pygments_lexer": "ipython3",
   "version": "3.11.11"
  }
 },
 "nbformat": 4,
 "nbformat_minor": 4
}
