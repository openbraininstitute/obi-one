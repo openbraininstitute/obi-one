{
 "cells": [
  {
   "cell_type": "code",
   "execution_count": null,
   "metadata": {},
   "outputs": [],
   "source": [
    "import obi\n",
    "\n",
    "obi.database('sqlite:///obi.db')\n",
    "\n",
    "circuit_extractions_form = obi.CircuitExtractions(\n",
    "                    initialize=obi.CircuitExtractions.Initialize(\n",
    "                        circuit_path=\"/Users/james/Documents/obi/additional_data/O1_data/O1_data/circuit_config.json\",\n",
    "                        node_set=[\"hex0_layer1\", \"hex1_layer1\"]\n",
    "                    )\n",
    ")\n",
    "\n",
    "grid_scan = obi.GridScan(form=circuit_extractions_form, output_root='/Users/james/Documents/obi/additional_data/O1_extracted_subcircuits', coordinate_directory_option=\"VALUE\")\n",
    "grid_scan.run()\n",
    "grid_scan.save()"
   ]
  },
  {
   "cell_type": "code",
   "execution_count": null,
   "metadata": {},
   "outputs": [],
   "source": [
    "# Display the intermediary data\n",
    "grid_scan.multiple_value_parameters(display=True)\n",
    "grid_scan.coordinate_parameters(display=True)\n",
    "grid_scan.coordinate_instances(display=True)"
   ]
  },
  {
   "cell_type": "markdown",
   "metadata": {},
   "source": []
  },
  {
   "cell_type": "code",
   "execution_count": 2,
   "metadata": {},
   "outputs": [
    {
     "name": "stdout",
     "output_type": "stream",
     "text": [
      "2025-03-18 13:01:25,188 INFO sqlalchemy.engine.Engine BEGIN (implicit)\n"
     ]
    },
    {
     "name": "stderr",
     "output_type": "stream",
     "text": [
      " 2025-03-18 13:01:25,188: BEGIN (implicit)\n"
     ]
    },
    {
     "name": "stdout",
     "output_type": "stream",
     "text": [
      "2025-03-18 13:01:25,193 INFO sqlalchemy.engine.Engine SELECT circuit_collections.id AS circuit_collections_id \n",
      "FROM circuit_collections\n"
     ]
    },
    {
     "name": "stderr",
     "output_type": "stream",
     "text": [
      " 2025-03-18 13:01:25,193: SELECT circuit_collections.id AS circuit_collections_id \n",
      "FROM circuit_collections\n"
     ]
    },
    {
     "name": "stdout",
     "output_type": "stream",
     "text": [
      "2025-03-18 13:01:25,193 INFO sqlalchemy.engine.Engine [generated in 0.00115s] ()\n"
     ]
    },
    {
     "name": "stderr",
     "output_type": "stream",
     "text": [
      " 2025-03-18 13:01:25,193: [generated in 0.00115s] ()\n"
     ]
    },
    {
     "name": "stdout",
     "output_type": "stream",
     "text": [
      "[<CircuitCollectionEntity(id=1')>]\n",
      "None\n",
      "2025-03-18 13:01:25,195 INFO sqlalchemy.engine.Engine SELECT circuits.id AS circuits_id, circuits.config_path AS circuits_config_path \n",
      "FROM circuits\n"
     ]
    },
    {
     "name": "stderr",
     "output_type": "stream",
     "text": [
      " 2025-03-18 13:01:25,195: SELECT circuits.id AS circuits_id, circuits.config_path AS circuits_config_path \n",
      "FROM circuits\n"
     ]
    },
    {
     "name": "stdout",
     "output_type": "stream",
     "text": [
      "2025-03-18 13:01:25,196 INFO sqlalchemy.engine.Engine [generated in 0.00040s] ()\n"
     ]
    },
    {
     "name": "stderr",
     "output_type": "stream",
     "text": [
      " 2025-03-18 13:01:25,196: [generated in 0.00040s] ()\n"
     ]
    },
    {
     "name": "stdout",
     "output_type": "stream",
     "text": [
      "[<CircuitEntity(id=1, config_path='initialize.node_set=hex0_layer1/circuit_config.json')>, <CircuitEntity(id=2, config_path='initialize.node_set=hex1_layer1/circuit_config.json')>]\n",
      "None\n"
     ]
    }
   ],
   "source": [
    "print(obi.circuit_collections())\n",
    "print(obi.circuits())"
   ]
  },
  {
   "cell_type": "code",
   "execution_count": null,
   "metadata": {},
   "outputs": [],
   "source": []
  }
 ],
 "metadata": {
  "kernelspec": {
   "display_name": ".venv",
   "language": "python",
   "name": "python3"
  },
  "language_info": {
   "codemirror_mode": {
    "name": "ipython",
    "version": 3
   },
   "file_extension": ".py",
   "mimetype": "text/x-python",
   "name": "python",
   "nbconvert_exporter": "python",
   "pygments_lexer": "ipython3",
   "version": "3.11.11"
  }
 },
 "nbformat": 4,
 "nbformat_minor": 2
}
