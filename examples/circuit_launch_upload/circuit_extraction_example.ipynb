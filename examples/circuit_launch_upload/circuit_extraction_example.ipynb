{
 "cells": [
  {
   "cell_type": "code",
   "execution_count": 1,
   "metadata": {},
   "outputs": [],
   "source": [
    "import obi\n",
    "\n",
    "circuit_extractions_form = obi.CircuitExtractions(\n",
    "                    initialize=obi.CircuitExtractions.Initialize(\n",
    "                        circuit_path=[obi.NamedPath(name=\"nbS1-HEX0-beta\", path=\"/Users/pokorny/Data/nbS1-O1-beta/circuit_config_tc.json\"),\n",
    "                                      obi.NamedPath(name=\"nbS1-HEX0-beta-ER\", path=\"/Users/pokorny/Data/nbS1-O1-beta-ER/circuit_config_tc.json\"),\n",
    "                                      obi.NamedPath(name=\"nbS1-HEX0-beta-DD\", path=\"/Users/pokorny/Data/nbS1-O1-beta-DD/circuit_config_tc.json\"),\n",
    "                                      obi.NamedPath(name=\"nbS1-HEX0-beta-BIP\", path=\"/Users/pokorny/Data/nbS1-O1-beta-BIP/circuit_config_tc.json\"),\n",
    "                                      obi.NamedPath(name=\"nbS1-HEX0-beta-OFF\", path=\"/Users/pokorny/Data/nbS1-O1-beta-OFF/circuit_config_tc.json\"),\n",
    "                                      obi.NamedPath(name=\"nbS1-HEX0-beta-POS\", path=\"/Users/pokorny/Data/nbS1-O1-beta-POS/circuit_config_tc.json\")],\n",
    "                        node_set='hex0'\n",
    "                    )\n",
    ")\n",
    "\n",
    "grid_scan = obi.GridScan(form=circuit_extractions_form, output_root='../../../obi-output/extracted_subcircuits', coordinate_directory_option=\"VALUE\")"
   ]
  },
  {
   "cell_type": "code",
   "execution_count": 2,
   "metadata": {},
   "outputs": [
    {
     "name": "stdout",
     "output_type": "stream",
     "text": [
      "Extracting subcircuit 'nbS1-HEX0-beta'\n",
      "Copying morphologies for population 'S1nonbarrel_neurons' (30190)\n"
     ]
    },
    {
     "name": "stderr",
     "output_type": "stream",
     "text": [
      "100%|███████████████████████████████████████████████████████████████████████████████████████████████| 23444/23444 [00:27<00:00, 840.55it/s]\n"
     ]
    },
    {
     "name": "stdout",
     "output_type": "stream",
     "text": [
      "Copying biophysical_neuron_models for population 'S1nonbarrel_neurons' (30190)\n",
      "Copying mod files\n",
      "Extraction DONE\n",
      "Extracting subcircuit 'nbS1-HEX0-beta-ER'\n",
      "Copying morphologies for population 'S1nonbarrel_neurons' (30190)\n"
     ]
    },
    {
     "name": "stderr",
     "output_type": "stream",
     "text": [
      "100%|███████████████████████████████████████████████████████████████████████████████████████████████| 23444/23444 [00:28<00:00, 832.73it/s]\n"
     ]
    },
    {
     "name": "stdout",
     "output_type": "stream",
     "text": [
      "Copying biophysical_neuron_models for population 'S1nonbarrel_neurons' (30190)\n",
      "Copying mod files\n",
      "Extraction DONE\n",
      "Extracting subcircuit 'nbS1-HEX0-beta-DD'\n",
      "Copying morphologies for population 'S1nonbarrel_neurons' (30190)\n"
     ]
    },
    {
     "name": "stderr",
     "output_type": "stream",
     "text": [
      "100%|███████████████████████████████████████████████████████████████████████████████████████████████| 23444/23444 [00:28<00:00, 829.15it/s]\n"
     ]
    },
    {
     "name": "stdout",
     "output_type": "stream",
     "text": [
      "Copying biophysical_neuron_models for population 'S1nonbarrel_neurons' (30190)\n",
      "Copying mod files\n",
      "Extraction DONE\n",
      "Extracting subcircuit 'nbS1-HEX0-beta-BIP'\n",
      "Copying morphologies for population 'S1nonbarrel_neurons' (30190)\n"
     ]
    },
    {
     "name": "stderr",
     "output_type": "stream",
     "text": [
      "100%|███████████████████████████████████████████████████████████████████████████████████████████████| 23444/23444 [00:28<00:00, 818.48it/s]\n"
     ]
    },
    {
     "name": "stdout",
     "output_type": "stream",
     "text": [
      "Copying biophysical_neuron_models for population 'S1nonbarrel_neurons' (30190)\n",
      "Copying mod files\n",
      "Extraction DONE\n",
      "Extracting subcircuit 'nbS1-HEX0-beta-OFF'\n",
      "Copying morphologies for population 'S1nonbarrel_neurons' (30190)\n"
     ]
    },
    {
     "name": "stderr",
     "output_type": "stream",
     "text": [
      "100%|███████████████████████████████████████████████████████████████████████████████████████████████| 23444/23444 [00:28<00:00, 836.47it/s]\n"
     ]
    },
    {
     "name": "stdout",
     "output_type": "stream",
     "text": [
      "Copying biophysical_neuron_models for population 'S1nonbarrel_neurons' (30190)\n",
      "Copying mod files\n",
      "Extraction DONE\n",
      "Extracting subcircuit 'nbS1-HEX0-beta-POS'\n",
      "Copying morphologies for population 'S1nonbarrel_neurons' (30190)\n"
     ]
    },
    {
     "name": "stderr",
     "output_type": "stream",
     "text": [
      "100%|███████████████████████████████████████████████████████████████████████████████████████████████| 23444/23444 [00:27<00:00, 839.93it/s]"
     ]
    },
    {
     "name": "stdout",
     "output_type": "stream",
     "text": [
      "Copying biophysical_neuron_models for population 'S1nonbarrel_neurons' (30190)\n",
      "Copying mod files\n",
      "Extraction DONE\n"
     ]
    },
    {
     "name": "stderr",
     "output_type": "stream",
     "text": [
      "\n"
     ]
    }
   ],
   "source": [
    "grid_scan.run()"
   ]
  },
  {
   "cell_type": "code",
   "execution_count": null,
   "metadata": {},
   "outputs": [],
   "source": [
    "import obi\n",
    "\n",
    "circuit_extractions_form = obi.CircuitExtractions(\n",
    "                    initialize=obi.CircuitExtractions.Initialize(\n",
    "                        circuit_path=obi.NamedPath(name=\"O1_data\", path=\"/Users/james/Documents/obi/additional_data/O1_data/O1_data/circuit_config.json\"),\n",
    "                        node_set=[\n",
    "                                    # 'nbS1-HEX0', \n",
    "                                    # 'nbS1-HEX1', \n",
    "                                    # 'nbS1-HEX2', \n",
    "                                    # 'nbS1-HEX3', \n",
    "                                    # 'nbS1-HEX4', \n",
    "                                    # 'nbS1-HEX5', \n",
    "                                    # 'nbS1-HEX6', \n",
    "\n",
    "                                    # 'nbS1-HEX0-L1', \n",
    "                                    # 'nbS1-HEX1-L1', \n",
    "                                    # 'nbS1-HEX2-L1', \n",
    "                                    # 'nbS1-HEX3-L1', \n",
    "                                    # 'nbS1-HEX4-L1', \n",
    "                                    # 'nbS1-HEX5-L1', \n",
    "                                    # 'nbS1-HEX6-L1', \n",
    "\n",
    "                                    # 'nbS1-HEX0-L23', \n",
    "                                    # 'nbS1-HEX1-L23', \n",
    "                                    # 'nbS1-HEX2-L23', \n",
    "                                    # 'nbS1-HEX3-L23', \n",
    "                                    # 'nbS1-HEX4-L23', \n",
    "                                    # 'nbS1-HEX5-L23', \n",
    "                                    # 'nbS1-HEX6-L23', \n",
    "\n",
    "                                    # 'nbS1-HEX0-L4', \n",
    "                                    # 'nbS1-HEX1-L4', \n",
    "                                    # 'nbS1-HEX2-L4', \n",
    "                                    # 'nbS1-HEX3-L4', \n",
    "                                    # 'nbS1-HEX4-L4',\n",
    "                                    #  'nbS1-HEX5-L4', \n",
    "                                    #  'nbS1-HEX6-L4', \n",
    "\n",
    "                                    #  'nbS1-HEX0-L5', \n",
    "                                    #  'nbS1-HEX1-L5', \n",
    "                                    #  'nbS1-HEX2-L5', \n",
    "                                    #  'nbS1-HEX3-L5', \n",
    "                                    #  'nbS1-HEX4-L5', \n",
    "                                    #  'nbS1-HEX5-L5', \n",
    "                                    #  'nbS1-HEX6-L5', \n",
    "\n",
    "                                    #  'nbS1-HEX0-L6', \n",
    "                                     'nbS1-HEX1-L6', \n",
    "                                     'nbS1-HEX2-L6', \n",
    "                                     'nbS1-HEX3-L6', \n",
    "                                     'nbS1-HEX4-L6', \n",
    "                                     'nbS1-HEX5-L6', \n",
    "                                     'nbS1-HEX6-L6'\n",
    "                                ]\n",
    "                    )\n",
    ")\n",
    "\n",
    "grid_scan = obi.GridScan(form=circuit_extractions_form, output_root='../../../obi-output/O1_extracted_subcircuits', coordinate_directory_option=\"VALUE\")\n",
    "grid_scan.run()"
   ]
  },
  {
   "cell_type": "code",
   "execution_count": null,
   "metadata": {},
   "outputs": [],
   "source": []
  }
 ],
 "metadata": {
  "kernelspec": {
   "display_name": "OBISDKTmpKernel",
   "language": "python",
   "name": "obisdktmpkernel"
  },
  "language_info": {
   "codemirror_mode": {
    "name": "ipython",
    "version": 3
   },
   "file_extension": ".py",
   "mimetype": "text/x-python",
   "name": "python",
   "nbconvert_exporter": "python",
   "pygments_lexer": "ipython3",
   "version": "3.13.2"
  }
 },
 "nbformat": 4,
 "nbformat_minor": 4
}
