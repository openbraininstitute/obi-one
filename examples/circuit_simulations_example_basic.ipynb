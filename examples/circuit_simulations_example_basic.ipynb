{
 "cells": [
  {
   "cell_type": "code",
   "execution_count": null,
   "metadata": {},
   "outputs": [],
   "source": [
    "import obi_one as obi\n",
    "\n",
    "\"\"\"\n",
    "Define Blocks\n",
    "\"\"\"\n",
    "simulations_initialize = obi.SimulationsForm.Initialize(\n",
    "    circuit=obi.Circuit(circuit_path=\"circuit_1\", node_set='hex0'),\n",
    "    simulation_length=[100, 500]\n",
    ")\n",
    "\n",
    "# 1st\n",
    "neuron_set_1 = \n",
    "timestamps_1 = obi.RegularTimestamps(start_time=0.0, number_of_repetitions=1, interval=[1.0, 5.0])\n",
    "stimulus_1 = \n",
    "\n",
    "# 2nd\n",
    "# somatic_spike_recording_1 = \n",
    "# somatic_voltage_recording_1 =\n",
    "\n",
    "\"\"\"\n",
    "Fill form with Blocks\n",
    "\"\"\"\n",
    "simulations_form = obi.SimulationsForm(\n",
    "                                    initialize=simulations_initialize,\n",
    "\n",
    "                                    neuron_sets={\"neuron_set_1\": neuron_set_1},\n",
    "\n",
    "                                    timestamps={\"timestamps_1\": timestamps_1}, \n",
    "                                    stimuli={\"stimulus_1\": stimulus_1}, \n",
    "                                    recordings={\"recording_1\": recording_1},\n",
    "                                    )\n",
    "\n",
    "\"\"\"\n",
    "Create Scans\n",
    "\"\"\"\n",
    "grid_scan = obi.GridScan(form=simulations_form, output_root='../../obi-output/circuit_simulations/grid_scan')\n",
    "grid_scan.multiple_value_parameters(display=True)\n",
    "grid_scan.coordinate_parameters(display=True)\n",
    "grid_scan.coordinate_instances(display=True)\n",
    "grid_scan.execute(processing_method='generate')\n",
    "\n",
    "coupled_scan = obi.CoupledScan(form=simulations_form, output_root='../../obi-output/circuit_simulations/coupled_scan')\n",
    "coupled_scan.multiple_value_parameters(display=True)\n",
    "coupled_scan.coordinate_parameters(display=True)\n",
    "coupled_scan.coordinate_instances(display=True)\n",
    "coupled_scan.execute(processing_method='generate')\n",
    "\n",
    "print('.')"
   ]
  },
  {
   "cell_type": "code",
   "execution_count": null,
   "metadata": {},
   "outputs": [],
   "source": []
  }
 ],
 "metadata": {
  "kernelspec": {
   "display_name": ".venv",
   "language": "python",
   "name": "python3"
  },
  "language_info": {
   "codemirror_mode": {
    "name": "ipython",
    "version": 3
   },
   "file_extension": ".py",
   "mimetype": "text/x-python",
   "name": "python",
   "nbconvert_exporter": "python",
   "pygments_lexer": "ipython3",
   "version": "3.12.9"
  }
 },
 "nbformat": 4,
 "nbformat_minor": 2
}
