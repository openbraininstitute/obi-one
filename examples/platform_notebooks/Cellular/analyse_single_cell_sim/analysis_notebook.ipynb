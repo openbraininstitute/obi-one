{
 "cells": [
  {
   "cell_type": "code",
   "execution_count": 1,
   "metadata": {},
   "outputs": [],
   "source": [
    "import numpy\n",
    "import pandas\n",
    "import json\n",
    "\n",
    "from ipywidgets import widgets, interact\n",
    "from matplotlib import pyplot as plt\n",
    "\n",
    "from obi_auth import get_token\n",
    "from entitysdk.client import Client\n",
    "from entitysdk.models import SingleNeuronSimulation\n",
    "from obi_notebook import get_projects\n",
    "from obi_notebook import get_entities"
   ]
  },
  {
   "cell_type": "markdown",
   "metadata": {},
   "source": [
    "## Reading in data\n",
    "\n",
    "You will first have to authenticate to the platform. To do that, just click on the link after running the python cell below and follow instructions. Then, you will have to select in the drop-dow menu the project that was used to produce the single cell simulations you want to analyse."
   ]
  },
  {
   "cell_type": "code",
   "execution_count": 2,
   "metadata": {},
   "outputs": [
    {
     "name": "stdout",
     "output_type": "stream",
     "text": [
      "Please open url in a different tab:  https://www.openbraininstitute.org/auth/realms/SBO/device?user_code=CURI-UUOA\n"
     ]
    },
    {
     "data": {
      "application/vnd.jupyter.widget-view+json": {
       "model_id": "d1f6797c5e674794a206d89cfe67af4f",
       "version_major": 2,
       "version_minor": 0
      },
      "text/plain": [
       "Dropdown(description='Select:', options=(('Single Cell Project', {'id': '50280a36-44b9-45e7-8b7d-db220a203ce5'…"
      ]
     },
     "metadata": {},
     "output_type": "display_data"
    }
   ],
   "source": [
    "token = get_token(environment=\"production\", auth_mode=\"daf\")\n",
    "project_context = get_projects.get_projects(token)"
   ]
  },
  {
   "cell_type": "markdown",
   "metadata": {},
   "source": [
    "Then you can add the IDs of the single neuron simulations you want to analyse. Alternatively, you can select them from the drop-down menu after running the python cell below.\n",
    "\n",
    "Once this is done, we'll be able to fetch the data from the database."
   ]
  },
  {
   "cell_type": "code",
   "execution_count": 15,
   "metadata": {},
   "outputs": [
    {
     "data": {
      "application/vnd.jupyter.widget-view+json": {
       "model_id": "8559b140b5d3441f85790a43022c05c9",
       "version_major": 2,
       "version_minor": 0
      },
      "text/plain": [
       "HBox(children=(Text(value='', description='Name:'), Dropdown(description='Results page:', layout=Layout(width=…"
      ]
     },
     "metadata": {},
     "output_type": "display_data"
    },
    {
     "data": {
      "application/vnd.jupyter.widget-view+json": {
       "model_id": "c6f465b246d8404590a929179a171b8f",
       "version_major": 2,
       "version_minor": 0
      },
      "text/plain": [
       "Output()"
      ]
     },
     "metadata": {},
     "output_type": "display_data"
    }
   ],
   "source": [
    "\n",
    "client = Client(\n",
    "    project_context=project_context,\n",
    "    environment=\"production\",\n",
    "    token_manager=token,\n",
    ")\n",
    "\n",
    "simulation_ids = [\n",
    "    # put here the id you want to use as a string\n",
    "    # you can add as many simulation IDs as you want\n",
    "]\n",
    "# Alternative: Select from a table of entities\n",
    "if not simulation_ids:\n",
    "    simulation_ids = get_entities.get_entities(\"single-neuron-simulation\", token, simulation_ids,\n",
    "                                            project_context=project_context,\n",
    "                                            multi_select=True,\n",
    "                                            page_size=100)"
   ]
  },
  {
   "cell_type": "markdown",
   "metadata": {},
   "source": [
    "This will download the simulations:"
   ]
  },
  {
   "cell_type": "code",
   "execution_count": 16,
   "metadata": {},
   "outputs": [],
   "source": [
    "simulation_paths = []\n",
    "for sim_id in simulation_ids:\n",
    "    simulation = client.get_entity(\n",
    "        entity_type=SingleNeuronSimulation,\n",
    "        entity_id=sim_id,\n",
    "    )\n",
    "    asset = client.download_assets(\n",
    "        simulation,\n",
    "        output_path=\"./\",  # here you can put a repo for downloading the simulation\n",
    "    ).one()\n",
    "    simulation_paths.append(asset.path)"
   ]
  },
  {
   "cell_type": "markdown",
   "metadata": {},
   "source": [
    "ANd this will read the data:"
   ]
  },
  {
   "cell_type": "code",
   "execution_count": 17,
   "metadata": {},
   "outputs": [],
   "source": [
    "data_keys = [\"x\", \"y\"]\n",
    "\n",
    "def entries_to_df(entries):\n",
    "    data = []    \n",
    "    for entry in entries:\n",
    "        df = pandas.DataFrame(dict([(k, entry.pop(k)) for k in data_keys]))\n",
    "        for k, v in entry.items():\n",
    "            df[k] = v\n",
    "        data.append(df)\n",
    "    ret = pandas.concat(data, axis=0)\n",
    "    cols = [_c for _c in ret.columns if _c not in data_keys]\n",
    "    ret = ret.fillna(\"_NONE\").set_index(cols)\n",
    "    return ret\n",
    "\n",
    "def read_list_of_entries(lst):\n",
    "    data = pandas.concat([entries_to_df(_v) for _v in lst.values()], axis=0)\n",
    "    return data\n",
    "\n",
    "def read_sim_config_data(fid):\n",
    "    cfg = json.load(fid)\n",
    "    data_out = read_list_of_entries(cfg[\"simulation\"])\n",
    "    stim_out = entries_to_df(cfg[\"stimulus\"])\n",
    "    return data_out, stim_out\n",
    "\n",
    "all_data = []; all_stim = []\n",
    "for sim_path in simulation_paths:\n",
    "    with open(sim_path) as fid:\n",
    "        data, stim = read_sim_config_data(fid)\n",
    "        all_data.append(data); all_stim.append(stim)\n"
   ]
  },
  {
   "cell_type": "markdown",
   "metadata": {},
   "source": [
    "## Plot traces\n",
    "\n",
    "This plots all traces contained in the simulation output file.\n",
    "A single property / value pair can be selected and only the traces matching the value of the property will be plotted."
   ]
  },
  {
   "cell_type": "code",
   "execution_count": 18,
   "metadata": {},
   "outputs": [
    {
     "data": {
      "application/vnd.jupyter.widget-view+json": {
       "model_id": "deb8310ff574482c866d82b7feff5d62",
       "version_major": 2,
       "version_minor": 0
      },
      "text/plain": [
       "interactive(children=(Dropdown(description='Sim. run #', options=(0, 1, 2, 3, 4, 5, 6, 7, 8, 9, 10), value=0),…"
      ]
     },
     "metadata": {},
     "output_type": "display_data"
    }
   ],
   "source": [
    "sim_count = widgets.Dropdown(\n",
    "    options=numpy.arange(len(all_data)),\n",
    "    description='Sim. run #')\n",
    "\n",
    "fltr_sel = widgets.Dropdown(\n",
    "    options=all_data[sim_count.value].index.names,\n",
    "    description=\"Property\"\n",
    ")\n",
    "\n",
    "fltr_val = widgets.Dropdown(\n",
    "    options=all_data[sim_count.value].index.to_frame()[fltr_sel.value].drop_duplicates().values,\n",
    "    description=\"Value\"\n",
    ")\n",
    "\n",
    "def update_func(sim_count_val, fltr_sel_val, fltr_val_val):\n",
    "    data = all_data[sim_count_val]\n",
    "    counts = data.index.to_frame().apply(lambda _x: len(_x.drop_duplicates()), axis=0)\n",
    "    if (counts > 1).sum() >= 1:\n",
    "        for lvl in counts.index[counts <= 1]:\n",
    "            data = data.droplevel(lvl)\n",
    "    fltr_sel.options = data.index.names\n",
    "    if fltr_sel_val not in fltr_sel.options:\n",
    "        return\n",
    "    fltr_val.options = data.index.to_frame()[fltr_sel_val].drop_duplicates().values\n",
    "    if fltr_val_val not in fltr_val.options:\n",
    "        return\n",
    "\n",
    "    def _plot_func(df):\n",
    "        if len(df) > 0:\n",
    "            lbl = \",\".join([\"=\".join(map(str, _v)) for _v in zip(df.index.names, df.index[0])])\n",
    "            plt.plot(df[\"x\"], df[\"y\"], lw=0.5, label=lbl)\n",
    "\n",
    "    idx = data.index.names.index(fltr_sel_val)\n",
    "    id_order = [idx] + list(numpy.setdiff1d(range(len(data.index.names)), idx))\n",
    "    data = data.reorder_levels(id_order)\n",
    "    data = data.loc[fltr_val_val]\n",
    "    data.groupby(list(data.index.names)).apply(_plot_func)\n",
    "    plt.legend()\n",
    "\n",
    "    plt.gca().set_xlabel(\"time (ms)\")\n",
    "    plt.gca().set_ylabel(\"mV\")\n",
    "    \n",
    "\n",
    "ii = interact(update_func, sim_count_val=sim_count, fltr_sel_val=fltr_sel, fltr_val_val=fltr_val)"
   ]
  },
  {
   "cell_type": "markdown",
   "metadata": {},
   "source": [
    "## Plot spike counts\n",
    "\n",
    "This applies a primitive spike detector and counts the numbers of spikes in each traces.\n",
    "The spike count is then plotted. It is indicated by the size and color of a circular marker. The x- and y-coordinates of the marker are determined by the values of user-selectable properties."
   ]
  },
  {
   "cell_type": "code",
   "execution_count": 19,
   "metadata": {},
   "outputs": [
    {
     "data": {
      "application/vnd.jupyter.widget-view+json": {
       "model_id": "d7244de051934b779599278fd16d5ef3",
       "version_major": 2,
       "version_minor": 0
      },
      "text/plain": [
       "interactive(children=(Dropdown(description='Sim. run #', options=(0, 1, 2, 3, 4, 5, 6, 7, 8, 9, 10), value=0),…"
      ]
     },
     "metadata": {},
     "output_type": "display_data"
    }
   ],
   "source": [
    "_str_spk_count = \"__spike_count\"\n",
    "def simple_spike_counter(df, thresh=0):\n",
    "    v = df[\"y\"].values > thresh\n",
    "    return pandas.Series([numpy.sum(~v[:-1] & v[1:])], index=[_str_spk_count])\n",
    "\n",
    "all_spks = [data.groupby(list(data.index.names)).apply(simple_spike_counter) for data in all_data]\n",
    "\n",
    "sim_count = widgets.Dropdown(\n",
    "    options=numpy.arange(len(all_spks)),\n",
    "    description='Sim. run #')\n",
    "\n",
    "prop_x = widgets.Dropdown(\n",
    "    options=all_spks[sim_count.value].index.names,\n",
    "    description=\"x\"\n",
    ")\n",
    "\n",
    "prop_y = widgets.Dropdown(\n",
    "    options=all_spks[sim_count.value].index.names,\n",
    "    description=\"y\"\n",
    ")\n",
    "\n",
    "def column_to_ordinates(s_in):\n",
    "    if s_in.dtype == object:\n",
    "        categorical = pandas.Categorical(s_in)\n",
    "        ordinates = categorical.codes + 0.2 * (numpy.random.rand(len(categorical)) - 0.5)\n",
    "        ticks = numpy.arange(len(categorical.categories))\n",
    "        ticklabels = list(categorical.categories)\n",
    "        return ordinates, ticks, ticklabels\n",
    "    return s_in.values, numpy.unique(s_in.values), numpy.unique(s_in.values)\n",
    "\n",
    "def update_func(sim_count_val, x_val, y_val):\n",
    "    spks = all_spks[sim_count_val]\n",
    "    counts = spks.index.to_frame().apply(lambda _x: len(_x.drop_duplicates()), axis=0)\n",
    "    if (counts > 1).sum() >= 2:\n",
    "        for lvl in counts.index[counts <= 1]:\n",
    "            spks = spks.droplevel(lvl)\n",
    "    prop_x.options = spks.index.names\n",
    "    if x_val not in prop_x.options:\n",
    "        return\n",
    "    prop_y.options = spks.index.names\n",
    "    if y_val not in prop_y.options:\n",
    "        return\n",
    "    \n",
    "    spks = spks.reset_index()\n",
    "    x, xticks, xticklabels = column_to_ordinates(spks[x_val])\n",
    "    y, yticks, yticklabels = column_to_ordinates(spks[y_val])\n",
    "    z = spks[_str_spk_count]\n",
    "\n",
    "    plt.colorbar(plt.scatter(x, y, c=z, s=z+1), label=\"Spike count\")\n",
    "    plt.gca().set_xticks(xticks); plt.gca().set_xticklabels(xticklabels)\n",
    "    plt.gca().set_yticks(yticks); plt.gca().set_yticklabels(yticklabels)\n",
    "    plt.gca().set_xlabel(x_val)\n",
    "    plt.gca().set_ylabel(y_val)\n",
    "    \n",
    "\n",
    "\n",
    "ii = interact(update_func, sim_count_val=sim_count, x_val=prop_x, y_val=prop_y)"
   ]
  },
  {
   "cell_type": "code",
   "execution_count": null,
   "metadata": {},
   "outputs": [],
   "source": []
  }
 ],
 "metadata": {
  "kernelspec": {
   "display_name": "venv-py312",
   "language": "python",
   "name": "python3"
  },
  "language_info": {
   "codemirror_mode": {
    "name": "ipython",
    "version": 3
   },
   "file_extension": ".py",
   "mimetype": "text/x-python",
   "name": "python",
   "nbconvert_exporter": "python",
   "pygments_lexer": "ipython3",
   "version": "3.12.8"
  }
 },
 "nbformat": 4,
 "nbformat_minor": 2
}
