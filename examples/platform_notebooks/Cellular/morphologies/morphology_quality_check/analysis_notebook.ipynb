{
 "cells": [
  {
   "cell_type": "markdown",
   "id": "82455450",
   "metadata": {},
   "source": [
    "# Morphology quality checks\n",
    "Copyright (c) 2025 Open Brain Institute\n",
    "\n",
    "Authors: Michael W. Reimann\n",
    "\n",
    "last modified: 08.2025\n",
    "\n",
    "## Summary\n",
    "This notebook runs a barrage of standard quality tests on selected reconstructed morphology files.\n",
    "It then displays the results, i.e., how many and which morphologies fail tests.\n",
    "For details, see the [README](README.md)."
   ]
  },
  {
   "cell_type": "markdown",
   "id": "70aa7b6e",
   "metadata": {},
   "source": [
    "## Imports and setting up platform authentication\n",
    "\n",
    "Please follow the displayed instructions to authenticate."
   ]
  },
  {
   "cell_type": "code",
   "execution_count": null,
   "id": "7f19c615",
   "metadata": {},
   "outputs": [],
   "source": [
    "from obi_auth import get_token\n",
    "from entitysdk.client import Client\n",
    "try:\n",
    "    from entitysdk.models import ReconstructionMorphology\n",
    "    entity_tp_str = \"reconstruction-morphology\"\n",
    "except ImportError:\n",
    "    from entitysdk.models import CellMorphology as ReconstructionMorphology\n",
    "    entity_tp_str = \"cell-morphology\"\n",
    "import pandas as pd\n",
    "\n",
    "import neurom\n",
    "import os\n",
    "import tqdm\n",
    "\n",
    "from ipywidgets import widgets\n",
    "from neurom.check.runner import CheckRunner\n",
    "from matplotlib import pyplot as plt\n",
    "from obi_notebook import get_projects\n",
    "from obi_notebook import get_entities\n"
   ]
  },
  {
   "cell_type": "markdown",
   "id": "1b0d833c",
   "metadata": {},
   "source": [
    "## Selection of morphologies and download\n",
    "\n",
    "Morphologies will be downloaded to `analysis_morphologies`, then loaded and analyzed\n",
    "\n",
    "#### Project selection\n",
    "As a first step we select one of the projects we have access to that the morphologies are associated with. If the morphologies of interest are part of the public OBI assets, any project can be selected."
   ]
  },
  {
   "cell_type": "code",
   "execution_count": null,
   "id": "5e8bcd60",
   "metadata": {},
   "outputs": [],
   "source": [
    "token = get_token(environment=\"production\", auth_mode=\"daf\")\n",
    "project_context = get_projects.get_projects(token)"
   ]
  },
  {
   "cell_type": "markdown",
   "id": "fb6097b3",
   "metadata": {},
   "source": [
    "#### Morphology selection\n",
    "\n",
    "Next, we select the morphologies. If you already know the unique identifiers of the morphologies of interest, paste them below as a list (!) into line 4 of the next cell.\n",
    "\n",
    "Otherwise, a widget for morphology selection will be created that allows you to filter and select multipe morphologies."
   ]
  },
  {
   "cell_type": "code",
   "execution_count": null,
   "id": "6d246052",
   "metadata": {},
   "outputs": [],
   "source": [
    "client = Client(environment=\"production\", project_context=project_context, token_manager=token)\n",
    "\n",
    "# Optional: Download using unique ID\n",
    "entity_IDs = \"<MORPHOLOGY-IDs>\"  # <<< FILL IN A LIST OF UNIQUE MORPHOLOGY IDENTIFIERS HERE\n",
    "\n",
    "\n",
    "if entity_IDs != \"<MORPHOLOGY-IDs>\":\n",
    "    morph_ids = [entity_IDs]\n",
    "else:\n",
    "# Alternative: Select from a table of entities\n",
    "    morph_ids = []\n",
    "    morph_ids = get_entities.get_entities(entity_tp_str, token, morph_ids,\n",
    "                                            project_context=project_context,\n",
    "                                            multi_select=True,\n",
    "                                            page_size=100)"
   ]
  },
  {
   "cell_type": "markdown",
   "id": "a7370f96",
   "metadata": {},
   "source": [
    "#### Selection of morphology file type\n",
    "\n",
    "Moprphologies can be stored in different file formats. While in principle conversion between the formats can be done with no (or minimal) loss, in some cases differences can still occur. Therefore, we have to explicitly select which of the available formats to use in the widget below.\n",
    "\n",
    "The numbers after the file format indicate how many of the selected neuron morphologies are available in each format. If a format is not available for a selected morphology, it will be skipped."
   ]
  },
  {
   "cell_type": "code",
   "execution_count": null,
   "id": "a95c4668",
   "metadata": {},
   "outputs": [],
   "source": [
    "fetched = [client.get_entity(entity_id=morph_id_, entity_type=ReconstructionMorphology) for morph_id_ in morph_ids]\n",
    "\n",
    "asset_types = {}\n",
    "for fetched_ in fetched:\n",
    "    for asset in fetched_.assets:\n",
    "        tp_name = str(asset.content_type)\n",
    "        asset_types[tp_name] = asset_types.setdefault(tp_name, 0) + 1\n",
    "\n",
    "asset_type_str = [(f\"{k}: {v} / {len(fetched)}\", k) for k, v, in asset_types.items()]\n",
    "\n",
    "asset_type_sel = widgets.Dropdown(options=asset_type_str)\n",
    "display(asset_type_sel)"
   ]
  },
  {
   "cell_type": "markdown",
   "id": "7aef8544",
   "metadata": {},
   "source": [
    "#### Fetch morphologies\n",
    "The selected morphology files are copied to the local system and loaded."
   ]
  },
  {
   "cell_type": "code",
   "execution_count": null,
   "id": "fcd97f37",
   "metadata": {},
   "outputs": [],
   "source": [
    "all_assets = [[asset for asset in fetched_.assets if str(asset.content_type)==asset_type_sel.value]\n",
    "              for fetched_ in fetched]\n",
    "\n",
    "morphologies_root = \"analysis_morphologies\"\n",
    "if not os.path.exists(morphologies_root):\n",
    "    os.makedirs(morphologies_root)\n",
    "\n",
    "nm_morphs = {}\n",
    "for asset_, morph_id_, fetched_ in tqdm.tqdm(list(zip(all_assets, morph_ids, fetched))):\n",
    "    if len(asset_) >= 1:\n",
    "        out_fn = client.download_file(\n",
    "            entity_id=morph_id_,\n",
    "            entity_type=ReconstructionMorphology,\n",
    "            asset_id=asset_[0],\n",
    "            output_path=morphologies_root,\n",
    "            project_context=project_context\n",
    "        )\n",
    "        nm_morphs.setdefault(\"_morphology\", []).append(neurom.load_morphology(out_fn))\n",
    "        nm_morphs.setdefault(\"Region\", []).append(fetched_.brain_region.acronym)\n",
    "        nm_morphs.setdefault(\"Morphology type\", []).append(fetched_.mtypes[0].pref_label)\n",
    "        nm_morphs.setdefault(\"Created by\", []).append(fetched_.created_by.pref_label)\n",
    "        nm_morphs.setdefault(\"Name\", []).append(fetched_.name)\n",
    "nm_morphs = pd.DataFrame(nm_morphs)\n"
   ]
  },
  {
   "cell_type": "markdown",
   "id": "b0593f1e",
   "metadata": {},
   "source": [
    "#### Execute tests"
   ]
  },
  {
   "cell_type": "code",
   "execution_count": null,
   "id": "0f4251e0",
   "metadata": {},
   "outputs": [],
   "source": [
    "# morphology_checks: concern the valid structure of a morphology\n",
    "# options: set the tolerance parameters for the checks\n",
    "\n",
    "config = {\n",
    "    \"checks\": {\n",
    "        \"morphology_checks\": [\n",
    "            \"has_axon\",\n",
    "            \"has_basal_dendrite\",\n",
    "            \"has_apical_dendrite\",\n",
    "            \"has_no_jumps\",\n",
    "            \"has_no_fat_ends\",\n",
    "            \"has_nonzero_soma_radius\",\n",
    "            \"has_all_nonzero_neurite_radii\",\n",
    "            \"has_all_nonzero_section_lengths\",\n",
    "            \"has_all_nonzero_segment_lengths\",\n",
    "            \"has_no_flat_neurites\",\n",
    "            \"has_nonzero_soma_radius\",\n",
    "            \"has_no_narrow_start\",\n",
    "            \"has_no_dangling_branch\",\n",
    "        ]\n",
    "    },\n",
    "    \"options\": {\n",
    "        \"has_nonzero_soma_radius\": 0.0,\n",
    "        \"has_all_nonzero_neurite_radii\": 0.007,\n",
    "        \"has_all_nonzero_segment_lengths\": 0.01,\n",
    "        \"has_all_nonzero_section_lengths\": 0.01,\n",
    "    },\n",
    "}\n",
    "# create a CheckRunner object by providing the configuration dict\n",
    "check_runner = CheckRunner(config)\n",
    "\n",
    "def run_wrapper(_morph):\n",
    "    try:\n",
    "        res = check_runner._check_loop(_morph, \"morphology_checks\")\n",
    "        res = pd.Series(res[1])\n",
    "        res[\"Test ran to completion\"] = True\n",
    "    except:\n",
    "        res = pd.Series({\"Test ran to completion\": False})\n",
    "    return res\n",
    "\n",
    "res = nm_morphs[\"_morphology\"].apply(run_wrapper).fillna(False)"
   ]
  },
  {
   "cell_type": "markdown",
   "id": "288c3bdb",
   "metadata": {},
   "source": [
    "#### Display results statistics"
   ]
  },
  {
   "cell_type": "code",
   "execution_count": null,
   "id": "63a32973",
   "metadata": {},
   "outputs": [],
   "source": [
    "fig = plt.figure(figsize=(5, 3))\n",
    "ax = fig.add_axes([0.3, 0.1, 0.65, 0.9])\n",
    "ttl = len(res) - res.isna().sum(axis=0)\n",
    "passed = res.astype(int).sum(axis=0)\n",
    "ax.barh(range(len(ttl)), ttl, height=0.9, color=[0.8, 0.8, 0.8], label=\"Run\")\n",
    "ax.barh(range(len(passed)), passed, height=0.5, color=[0.1, 0.6, 0.1], label=\"Passed\")\n",
    "ax.barh(range(len(passed)), ttl - passed, height=0.5, left=passed, color=[0.8, 0.3, 0.3], label=\"Failed\")\n",
    "ax.set_yticks(range(len(passed)))\n",
    "ax.set_yticklabels(passed.index)\n",
    "ax.set_xlabel(\"# Morphologies\")\n",
    "ax.set_frame_on(False)\n",
    "plt.legend()\n",
    "plt.show()\n",
    "\n",
    "pick_test_wdgt = widgets.Dropdown(options=res.columns)\n",
    "pick_col_wdgt = widgets.Dropdown(options=nm_morphs.drop(columns=\"_morphology\").columns,\n",
    "                                 value=\"Name\")\n",
    "output = widgets.HTML()\n",
    "display(widgets.HTML(\n",
    "    value=\"<b>Pick a test to list morphologies failing it</b>\"\n",
    "))\n",
    "display(pick_test_wdgt)\n",
    "display(pick_col_wdgt)\n",
    "display(output)\n",
    "\n",
    "def display_func(sel_test_name, sel_col):\n",
    "    col = res[sel_test_name]\n",
    "    morphs = nm_morphs[sel_col][col == False].values\n",
    "    output.value=\", \".join(list(morphs))\n",
    "    print(output.value)\n",
    "_ = widgets.interactive(display_func, sel_test_name=pick_test_wdgt, sel_col=pick_col_wdgt)\n",
    "\n"
   ]
  }
 ],
 "metadata": {
  "kernelspec": {
   "display_name": ".venv312 (3.12.8)",
   "language": "python",
   "name": "python3"
  },
  "language_info": {
   "codemirror_mode": {
    "name": "ipython",
    "version": 3
   },
   "file_extension": ".py",
   "mimetype": "text/x-python",
   "name": "python",
   "nbconvert_exporter": "python",
   "pygments_lexer": "ipython3",
   "version": "3.12.8"
  }
 },
 "nbformat": 4,
 "nbformat_minor": 5
}
