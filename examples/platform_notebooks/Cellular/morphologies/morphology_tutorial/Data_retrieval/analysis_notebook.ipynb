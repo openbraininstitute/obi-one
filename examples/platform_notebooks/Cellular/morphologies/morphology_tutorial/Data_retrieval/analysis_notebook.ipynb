{
 "cells": [
  {
   "cell_type": "markdown",
   "id": "8f5ad626-90bc-4022-83d8-ccf526c64cf9",
   "metadata": {},
   "source": [
    "# Morphology Module: Part 1 for CNS tutorial\n",
    "----\n",
    "\n",
    "*Load morphologies that were downloaded, analyze them, and compare species.*\n",
    "\n",
    "For the first part of the tutorial, the user needs to create a *virtual lab* and save the URL of the lab. This will be used to authenticate the access of the user and allow access to the data. Once authentication is verified, the user will be able to access the data and search through it. We will select data by their species. We will download 20 mouse morphologies, 20 rat morphologies and 20 human morphologies from the temporal cortex. We save these neurons locally in different folders. "
   ]
  },
  {
   "cell_type": "markdown",
   "id": "84f01d26-2793-41bb-8740-90762ecf4437",
   "metadata": {
    "jp-MarkdownHeadingCollapsed": true
   },
   "source": [
    "## 1.1 Authentication process"
   ]
  },
  {
   "cell_type": "code",
   "execution_count": null,
   "id": "a2e251ed-6ca9-41e1-b1f6-ec6fe25cbcb1",
   "metadata": {},
   "outputs": [],
   "source": [
    "from obi_auth import get_token\n",
    "from obi_notebook.get_projects import get_projects\n",
    "\n",
    "access_token = get_token(environment=\"production\", auth_mode=\"daf\")"
   ]
  },
  {
   "cell_type": "code",
   "execution_count": null,
   "id": "1b091eee-cf73-46bb-94ca-3012c8dcad64",
   "metadata": {},
   "outputs": [],
   "source": [
    "from uuid import UUID\n",
    "from entitysdk.client import Client\n",
    "from entitysdk.common import ProjectContext\n",
    "from entitysdk.models import (\n",
    "    BrainLocation,\n",
    "    BrainRegion,\n",
    "    Species,\n",
    "    Strain,\n",
    "    MTypeClass,\n",
    ")\n",
    "try:\n",
    "    from entitysdk.models import ReconstructionMorphology\n",
    "except:\n",
    "    from entitysdk.models import CellMorphology as ReconstructionMorphology\n",
    "\n",
    "from rich import print as rprint"
   ]
  },
  {
   "cell_type": "code",
   "execution_count": null,
   "id": "a7e8e370-7459-4d27-b16d-62fca0dc9efa",
   "metadata": {},
   "outputs": [],
   "source": [
    "from obi_notebook.get_projects import get_projects\n",
    "\n",
    "project_context = get_projects(token=access_token)"
   ]
  },
  {
   "cell_type": "code",
   "execution_count": null,
   "id": "8a53036c",
   "metadata": {},
   "outputs": [],
   "source": [
    "client = Client(project_context=project_context,\n",
    "                environment=\"production\",\n",
    "                token_manager=access_token)"
   ]
  },
  {
   "cell_type": "markdown",
   "id": "5f044e73-c039-464e-8dbd-c54116a351f3",
   "metadata": {
    "jp-MarkdownHeadingCollapsed": true
   },
   "source": [
    "## 1.2 Explore all species, brain regions and mtypes\n",
    "\n",
    "Here we will explore the available data in the database to identify species and regions of interest. "
   ]
  },
  {
   "cell_type": "markdown",
   "id": "7ae438ac-97a5-46a9-bda2-418d88542b7f",
   "metadata": {},
   "source": [
    "**Species**"
   ]
  },
  {
   "cell_type": "code",
   "execution_count": null,
   "id": "9bba707d-bb76-4d12-8aa4-95dc44cea5bc",
   "metadata": {
    "scrolled": true
   },
   "outputs": [],
   "source": [
    "all_species = client.search_entity(entity_type=Species).all()\n",
    "rprint(all_species)"
   ]
  },
  {
   "cell_type": "markdown",
   "id": "f60d7775-c12b-47fc-bb14-da80f08bfbfd",
   "metadata": {},
   "source": [
    "**Brain regions**"
   ]
  },
  {
   "cell_type": "code",
   "execution_count": null,
   "id": "caeb6e4d-143d-40f2-8f3c-f79e0e76fc93",
   "metadata": {},
   "outputs": [],
   "source": [
    "all_regions = client.search_entity(entity_type=BrainRegion).all()\n",
    "rprint(all_regions[:2])"
   ]
  },
  {
   "cell_type": "markdown",
   "id": "7d724ed3-8a3c-46cd-bbaf-c0d52a6789e1",
   "metadata": {},
   "source": [
    "**Find regions for temporal cortex for example**"
   ]
  },
  {
   "cell_type": "code",
   "execution_count": null,
   "id": "9598abb3-849a-413b-a1e7-b8f46a88d510",
   "metadata": {
    "scrolled": true
   },
   "outputs": [],
   "source": [
    "rprint([i.name for i in all_regions if \"Temporal\" in i.name ])"
   ]
  },
  {
   "cell_type": "markdown",
   "id": "8ac85a4e-d4bd-4cee-acce-ee68b54cdb9f",
   "metadata": {},
   "source": [
    "**Mtypes**"
   ]
  },
  {
   "cell_type": "code",
   "execution_count": null,
   "id": "164e8b52-49cc-4a08-bafa-41020ef7a5e7",
   "metadata": {},
   "outputs": [],
   "source": [
    "all_mtypes = client.search_entity(entity_type=MTypeClass).all()\n",
    "rprint([i.pref_label for i in all_mtypes[:10]])"
   ]
  },
  {
   "cell_type": "markdown",
   "id": "6d43eafe-3a4c-441c-9ab1-2071fa607b5c",
   "metadata": {
    "jp-MarkdownHeadingCollapsed": true
   },
   "source": [
    "## 1.3 Find morphologies of a specific mtype: L3_TPC:A\n",
    "\n",
    "We select an mtype and we find a morphology based on our query. "
   ]
  },
  {
   "cell_type": "code",
   "execution_count": null,
   "id": "194ed65a-ac86-4e23-a9cc-511f66871683",
   "metadata": {},
   "outputs": [],
   "source": [
    "iterator = client.search_entity(\n",
    "    entity_type=ReconstructionMorphology,\n",
    "    query={\"mtype__pref_label\": \"L3_TPC:A\"},\n",
    "    limit=1,\n",
    ")"
   ]
  },
  {
   "cell_type": "markdown",
   "id": "75c2a264-f442-4250-a0e0-04ec9587468c",
   "metadata": {},
   "source": [
    "Check the properties of a selected morphology (we selected only one example here)"
   ]
  },
  {
   "cell_type": "code",
   "execution_count": null,
   "id": "4efccfda-2b4f-42fd-9a9c-10bf102dc500",
   "metadata": {},
   "outputs": [],
   "source": [
    "morphology = next(iterator)"
   ]
  },
  {
   "cell_type": "markdown",
   "id": "38517205-b333-4de2-835a-1ab12ca687e3",
   "metadata": {},
   "source": [
    "Mtype of the moprphology is the morphological cell type assigned by a classification scheme"
   ]
  },
  {
   "cell_type": "code",
   "execution_count": null,
   "id": "d99f5052-12aa-4fcd-8637-e8bfe72d481a",
   "metadata": {
    "collapsed": true,
    "jupyter": {
     "outputs_hidden": true
    }
   },
   "outputs": [],
   "source": [
    "rprint(morphology)"
   ]
  },
  {
   "cell_type": "markdown",
   "id": "6b39f843-13dd-4988-90a2-5bc49af27cc4",
   "metadata": {
    "jp-MarkdownHeadingCollapsed": true
   },
   "source": [
    "## 1.4 Find 10 morphologies of specific mtype, species and region\n",
    "\n",
    "An example of findinding morphologies based on a combination of filters:\n",
    "\n",
    "* Species\n",
    "* Mtype\n",
    "* Brain region"
   ]
  },
  {
   "cell_type": "code",
   "execution_count": null,
   "id": "b6e5f2f6-0e88-4fe7-9cf1-874379de5cad",
   "metadata": {},
   "outputs": [],
   "source": [
    "iterator = client.search_entity(\n",
    "    entity_type=ReconstructionMorphology,\n",
    "    query={\"mtype__pref_label\": \"L3_TPC:A\", \"species__name\":\"Mus musculus\", \"brain_region__name\":\"Primary somatosensory area\"},\n",
    "    limit=10,\n",
    ")"
   ]
  },
  {
   "cell_type": "code",
   "execution_count": null,
   "id": "c6680f35-b164-4144-94c8-c176a9cd802a",
   "metadata": {},
   "outputs": [],
   "source": [
    "morphology = next(iterator)"
   ]
  },
  {
   "cell_type": "markdown",
   "id": "ac6181c9-1a95-4184-995f-353cbc7cd86b",
   "metadata": {
    "jp-MarkdownHeadingCollapsed": true
   },
   "source": [
    "## 1.5 Explore the metadata of a morphology\n",
    "\n",
    "For one morphology we explore the available metadata that may be important for our analysis. "
   ]
  },
  {
   "cell_type": "code",
   "execution_count": null,
   "id": "5d7a2571-e19d-4682-a478-78a07d0f59ea",
   "metadata": {},
   "outputs": [],
   "source": [
    "morphology.species.name"
   ]
  },
  {
   "cell_type": "code",
   "execution_count": null,
   "id": "f1c6f2ff-f872-4156-821d-d52f4b4871b7",
   "metadata": {},
   "outputs": [],
   "source": [
    "morphology.brain_region.name"
   ]
  },
  {
   "cell_type": "code",
   "execution_count": null,
   "id": "d26de546-ff83-44a5-89c7-f9f12ee9ef03",
   "metadata": {},
   "outputs": [],
   "source": [
    "morphology.id"
   ]
  },
  {
   "cell_type": "code",
   "execution_count": null,
   "id": "6b8df6ba-98e7-43ef-8729-96f530cb4235",
   "metadata": {},
   "outputs": [],
   "source": [
    "morphology.mtypes[0].pref_label"
   ]
  },
  {
   "cell_type": "code",
   "execution_count": null,
   "id": "f174e9b1-0ae9-456c-bfcc-857433e7bd06",
   "metadata": {},
   "outputs": [],
   "source": [
    "for asset in morphology.assets:\n",
    "    print(asset.path)"
   ]
  },
  {
   "cell_type": "markdown",
   "id": "7b3d293f-e7fe-43a6-84c7-89cf668dedb2",
   "metadata": {
    "jp-MarkdownHeadingCollapsed": true
   },
   "source": [
    "## 1.6 Download a morphology file\n",
    "\n",
    "Now we need to download an example morphology. Even though we access the metadata, getting the \"asset\", i.e. the file, of the morphology needs a different process."
   ]
  },
  {
   "cell_type": "code",
   "execution_count": null,
   "id": "b977030f-c7da-47f1-b137-3b331e46579d",
   "metadata": {},
   "outputs": [],
   "source": [
    "fetched = client.get_entity(\n",
    "    entity_id=morphology.id, entity_type=ReconstructionMorphology\n",
    ")"
   ]
  },
  {
   "cell_type": "code",
   "execution_count": null,
   "id": "94962520-8e90-41ba-be75-94e7c400238c",
   "metadata": {},
   "outputs": [],
   "source": [
    "for asset in fetched.assets:\n",
    "    if asset.content_type == \"application/swc\":\n",
    "        client.download_file(\n",
    "            entity_id=fetched.id,\n",
    "            entity_type=type(fetched),\n",
    "            asset_id=asset.id,\n",
    "            output_path=\"test_data\",\n",
    "        )\n",
    "        content = client.download_content(\n",
    "            entity_id=fetched.id, entity_type=type(fetched), asset_id=asset.id\n",
    "        )\n",
    "        break"
   ]
  },
  {
   "cell_type": "code",
   "execution_count": null,
   "id": "81114d44-4155-4857-bf54-d88a24c9b4dc",
   "metadata": {},
   "outputs": [],
   "source": [
    "ls test_data/"
   ]
  },
  {
   "cell_type": "markdown",
   "id": "763645d4-8aea-4bda-883b-526e87669b49",
   "metadata": {
    "jp-MarkdownHeadingCollapsed": true
   },
   "source": [
    "## 1.7 Download 20 morphologies for each species\n",
    "\n",
    "For now we perform comparison of mouse / rat from Primary somatosensory area, due to lack of appropriate data in entitycore. \n",
    "This will change to mouse / human from temporal association areas."
   ]
  },
  {
   "cell_type": "markdown",
   "id": "0d8d8b89-aea3-48e7-933d-8ae0a08b8bff",
   "metadata": {},
   "source": [
    "**Mouse**"
   ]
  },
  {
   "cell_type": "code",
   "execution_count": null,
   "id": "384081bb-643e-4431-a6d3-04a2981884d9",
   "metadata": {},
   "outputs": [],
   "source": [
    "iterator = client.search_entity(\n",
    "    entity_type=ReconstructionMorphology,\n",
    "    query={\"mtype__pref_label\": \"L3_TPC:A\", \"species__name\":\"Mus musculus\", \"brain_region__name\":\"Primary somatosensory area\"},\n",
    "    limit=20,\n",
    ")"
   ]
  },
  {
   "cell_type": "code",
   "execution_count": null,
   "id": "8b9200e8-317e-44aa-bd89-3a8f6709c609",
   "metadata": {},
   "outputs": [],
   "source": [
    "rm -r Mouse"
   ]
  },
  {
   "cell_type": "code",
   "execution_count": null,
   "id": "d59cb9c6-8750-4855-8030-7f2be9d06d00",
   "metadata": {},
   "outputs": [],
   "source": [
    "mkdir Mouse"
   ]
  },
  {
   "cell_type": "code",
   "execution_count": null,
   "id": "644e5a98-aa71-4b59-aef6-016b80c77170",
   "metadata": {},
   "outputs": [],
   "source": [
    "for morphology in iterator:\n",
    "    fetched = client.get_entity(\n",
    "        entity_id=morphology.id, entity_type=ReconstructionMorphology\n",
    "        )\n",
    "    for asset in fetched.assets:\n",
    "        if asset.content_type == \"application/swc\":\n",
    "            client.download_file(\n",
    "                entity_id=fetched.id,\n",
    "                entity_type=type(fetched),\n",
    "                asset_id=asset.id,\n",
    "                output_path=\"Mouse/\",\n",
    "            )\n",
    "            content = client.download_content(\n",
    "                entity_id=fetched.id, entity_type=type(fetched), asset_id=asset.id\n",
    "            )\n",
    "            break"
   ]
  },
  {
   "cell_type": "code",
   "execution_count": null,
   "id": "14ef5917-ea2e-4191-a4b2-7dd8b4fb045c",
   "metadata": {},
   "outputs": [],
   "source": [
    "ls Mouse"
   ]
  },
  {
   "cell_type": "markdown",
   "id": "651846e3-1827-4714-8600-c06f6074fc47",
   "metadata": {},
   "source": [
    "**Rat**"
   ]
  },
  {
   "cell_type": "code",
   "execution_count": null,
   "id": "60b30d66-513f-41fa-a70d-e6c9f79728e7",
   "metadata": {},
   "outputs": [],
   "source": [
    "iterator = client.search_entity(\n",
    "    entity_type=ReconstructionMorphology,\n",
    "    query={\"mtype__pref_label\": \"L3_TPC:A\", \"species__name\":\"Rattus norvegicus\"},# \"brain_region__name\":\"Primary somatosensory area\"},\n",
    "    limit=20,\n",
    ")"
   ]
  },
  {
   "cell_type": "code",
   "execution_count": null,
   "id": "c220a885-30d9-442a-a112-c400d5c803f6",
   "metadata": {},
   "outputs": [],
   "source": [
    "rm -r Rat"
   ]
  },
  {
   "cell_type": "code",
   "execution_count": null,
   "id": "862fc983-0786-4a3e-8875-d69262bd817e",
   "metadata": {},
   "outputs": [],
   "source": [
    "mkdir Rat"
   ]
  },
  {
   "cell_type": "code",
   "execution_count": null,
   "id": "26d1867a-0d18-417d-9e77-d48084e70bde",
   "metadata": {},
   "outputs": [],
   "source": [
    "for morphology in iterator:\n",
    "    fetched = client.get_entity(\n",
    "        entity_id=morphology.id, entity_type=ReconstructionMorphology\n",
    "        )\n",
    "    for asset in fetched.assets:\n",
    "        if asset.content_type == \"application/swc\":\n",
    "            client.download_file(\n",
    "                entity_id=fetched.id,\n",
    "                entity_type=type(fetched),\n",
    "                asset_id=asset.id,\n",
    "                output_path=\"Rat/\",\n",
    "            )\n",
    "            content = client.download_content(\n",
    "                entity_id=fetched.id, entity_type=type(fetched), asset_id=asset.id\n",
    "            )\n",
    "            break"
   ]
  },
  {
   "cell_type": "code",
   "execution_count": null,
   "id": "519ab74c-aad7-468e-bd91-d845c648c004",
   "metadata": {},
   "outputs": [],
   "source": [
    "ls Rat"
   ]
  },
  {
   "cell_type": "markdown",
   "id": "d23265cf-76b7-48cc-b7dc-3fe2e686cb2a",
   "metadata": {},
   "source": [
    "**Human**"
   ]
  },
  {
   "cell_type": "code",
   "execution_count": null,
   "id": "ffe0a250-0d68-43b6-b480-fab65adc8876",
   "metadata": {},
   "outputs": [],
   "source": [
    "iterator = client.search_entity(\n",
    "    entity_type=ReconstructionMorphology,\n",
    "    query={\"contribution__pref_label\": \"Christiaan de Kock\", \"mtype__pref_label\": \"L23_PC\", \"species__name\":\"Homo sapiens\"}, #\"brain_region__name\":\"Temporal association areas, layer 2/3\"},    \n",
    "    limit=20,\n",
    ")"
   ]
  },
  {
   "cell_type": "code",
   "execution_count": null,
   "id": "42c13acf-ccdd-4484-a6e3-514bb0f2613f",
   "metadata": {},
   "outputs": [],
   "source": [
    "rm -r Human"
   ]
  },
  {
   "cell_type": "code",
   "execution_count": null,
   "id": "b9502023-b5d9-4523-aac3-cf4a2c740545",
   "metadata": {},
   "outputs": [],
   "source": [
    "mkdir Human"
   ]
  },
  {
   "cell_type": "code",
   "execution_count": null,
   "id": "9ae00441-a8ae-48e4-9a3d-49ec2423012c",
   "metadata": {},
   "outputs": [],
   "source": [
    "for morphology in iterator:\n",
    "    fetched = client.get_entity(\n",
    "        entity_id=morphology.id, entity_type=ReconstructionMorphology\n",
    "        )\n",
    "    for asset in fetched.assets:\n",
    "        if asset.content_type == \"application/swc\":\n",
    "            client.download_file(\n",
    "                entity_id=fetched.id,\n",
    "                entity_type=type(fetched),\n",
    "                asset_id=asset.id,\n",
    "                output_path=\"Human/\",\n",
    "            )\n",
    "            content = client.download_content(\n",
    "                entity_id=fetched.id, entity_type=type(fetched), asset_id=asset.id\n",
    "            )\n",
    "            break"
   ]
  },
  {
   "cell_type": "code",
   "execution_count": null,
   "id": "9601b291-f472-4759-8952-f1967ba4c1e4",
   "metadata": {},
   "outputs": [],
   "source": [
    "ls Human"
   ]
  }
 ],
 "metadata": {
  "kernelspec": {
   "display_name": ".venv (3.13.1)",
   "language": "python",
   "name": "python3"
  },
  "language_info": {
   "codemirror_mode": {
    "name": "ipython",
    "version": 3
   },
   "file_extension": ".py",
   "mimetype": "text/x-python",
   "name": "python",
   "nbconvert_exporter": "python",
   "pygments_lexer": "ipython3",
   "version": "3.13.1"
  }
 },
 "nbformat": 4,
 "nbformat_minor": 5
}
