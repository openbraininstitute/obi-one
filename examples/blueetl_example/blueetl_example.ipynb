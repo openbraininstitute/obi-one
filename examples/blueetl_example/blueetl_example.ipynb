{
 "cells": [
  {
   "cell_type": "code",
   "execution_count": null,
   "metadata": {},
   "outputs": [],
   "source": [
    "from blueetl.analysis import run_from_file\n",
    "analysis_config_file = \"data/analysis/analysis_config_01_relative.yaml\"\n",
    "loglevel = \"INFO\"\n",
    "ma = run_from_file(analysis_config_file, loglevel=loglevel)\n",
    "# ma = ma.apply_filter()"
   ]
  },
  {
   "cell_type": "code",
   "execution_count": null,
   "metadata": {},
   "outputs": [],
   "source": [
    "a = ma.analyzers[\"spikes\"]\n",
    "\n",
    "print(a.repo.report.df)\n",
    "print(a.repo.neuron_classes.df)\n",
    "print(a.repo.simulations.df)\n",
    "print(a.repo.neurons.df)\n",
    "print(a.repo.windows.df)\n",
    "\n",
    "print(a.features.by_gid.df)\n",
    "print(a.features.by_gid_and_trial.df)\n",
    "print(a.features.by_neuron_class.df)\n",
    "print(a.features.by_neuron_class_and_trial.df)\n",
    "print(a.features.histograms.df)"
   ]
  },
  {
   "cell_type": "code",
   "execution_count": null,
   "metadata": {},
   "outputs": [],
   "source": [
    "# for feature_name in a.features.names:\n",
    "#     print(feature_name)\n",
    "#     print(a.features._data[feature_name].df)"
   ]
  }
 ],
 "metadata": {
  "kernelspec": {
   "display_name": ".venv",
   "language": "python",
   "name": "python3"
  },
  "language_info": {
   "codemirror_mode": {
    "name": "ipython",
    "version": 3
   },
   "file_extension": ".py",
   "mimetype": "text/x-python",
   "name": "python",
   "nbconvert_exporter": "python",
   "pygments_lexer": "ipython3",
   "version": "3.11.11"
  }
 },
 "nbformat": 4,
 "nbformat_minor": 2
}
