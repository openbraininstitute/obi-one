{
 "cells": [
  {
   "cell_type": "code",
   "execution_count": 5,
   "metadata": {},
   "outputs": [],
   "source": [
    "from blueetl.analysis import run_from_file"
   ]
  },
  {
   "cell_type": "code",
   "execution_count": 6,
   "metadata": {},
   "outputs": [
    {
     "name": "stderr",
     "output_type": "stream",
     "text": [
      "2025-04-01 18:17:57,518 INFO blueetl.analysis: MultiAnalyzer configuration: data/analysis/analysis_config_01_relative.yaml\n",
      "2025-04-01 18:17:57,562 INFO blueetl.cache: Initialize cache\n",
      "2025-04-01 18:17:57,563 INFO blueetl.cache: Invalid cache: ['simulations', 'neurons', 'neuron_classes', 'windows', 'report', 'features']\n",
      "2025-04-01 18:17:57,563 INFO blueetl.cache: Deleting cached repo neuron_classes\n",
      "2025-04-01 18:17:57,563 INFO blueetl.cache: Deleting cached repo report\n",
      "2025-04-01 18:17:57,563 INFO blueetl.cache: Deleting cached repo simulations\n",
      "2025-04-01 18:17:57,564 INFO blueetl.cache: Deleting cached repo windows\n",
      "2025-04-01 18:17:57,564 INFO blueetl.cache: Deleting cached repo neurons\n",
      "2025-04-01 18:17:57,596 INFO blueetl.extract.simulations: Simulations ignored because missing: 1\n",
      "2025-04-01 18:17:57,596 INFO blueetl.extract.simulations: Simulations filtered out: 0, with query: {'seed': [334630, 174404]}\n",
      "2025-04-01 18:17:57,596 INFO blueetl.extract.simulations: Simulations extracted: 1/2, ids: [0]\n",
      "2025-04-01 18:17:57,597 INFO blueetl.repository: Writing cached simulations...\n",
      "2025-04-01 18:17:57,622 INFO blueetl.repository: Writing cached simulations [DONE in 0.02 seconds]\n",
      "2025-04-01 18:17:57,623 INFO blueetl.extract.neurons: Loading nodes using population='default', node_set=None, node_sets_file=None...\n",
      "2025-04-01 18:17:57,627 INFO blueetl.extract.neurons: Loading nodes using population='default', node_set=None, node_sets_file=None [DONE in 0.00 seconds]\n",
      "2025-04-01 18:17:57,627 INFO blueetl.extract.neurons: Selected gids for All: 3/3 (limit=1000, population=default, node_set=None)\n",
      "2025-04-01 18:17:57,628 INFO blueetl.extract.neurons: Selected gids for L2_X: 1/1 (limit=1000, population=default, node_set=None)\n",
      "2025-04-01 18:17:57,628 INFO blueetl.extract.neurons: Selected gids for L6_Y: 2/2 (limit=1000, population=default, node_set=None)\n",
      "2025-04-01 18:17:57,631 INFO blueetl.repository: Writing cached neurons...\n",
      "2025-04-01 18:17:57,635 INFO blueetl.repository: Writing cached neurons [DONE in 0.00 seconds]\n",
      "2025-04-01 18:17:57,637 INFO blueetl.repository: Writing cached neuron_classes...\n",
      "2025-04-01 18:17:57,639 INFO blueetl.repository: Writing cached neuron_classes [DONE in 0.00 seconds]\n",
      "2025-04-01 18:17:57,639 INFO blueetl.extract.windows: Processing simulation_id=0, circuit_id=0, window=w1\n",
      "2025-04-01 18:17:57,640 INFO blueetl.extract.windows: Using window=w1, initial_offset=0.0, dynamic_offset=0.0, step_offsets=[0.0], t_start=0.0, t_stop=1.0, t_step=0.0, duration=1.0\n",
      "2025-04-01 18:17:57,640 INFO blueetl.extract.windows: Processing simulation_id=0, circuit_id=0, window=w2\n",
      "2025-04-01 18:17:57,640 INFO blueetl.extract.windows: Using window=w2, initial_offset=0.5, dynamic_offset=0.0, step_offsets=[0.0, 0.1], t_start=0.0, t_stop=1.0, t_step=0.0, duration=1.0\n",
      "2025-04-01 18:17:57,643 INFO blueetl.repository: Writing cached windows...\n",
      "2025-04-01 18:17:57,646 INFO blueetl.repository: Writing cached windows [DONE in 0.00 seconds]\n",
      "2025-04-01 18:17:57,646 WARNING blueetl.utils: SHMDIR should be set to the shared memory directory, or the process may be slower, or even fail because of insufficient space. The variable is automatically set when running on an allocated node, but it's not set when connecting via SSH to a pre-allocated node.\n",
      "2025-04-01 18:17:57,646 INFO blueetl.extract.report: Executing merge_filter ...\n",
      "[Parallel(n_jobs=7)]: Using backend LokyBackend with 7 concurrent workers.\n",
      "2025-04-01 18:17:57,658 INFO blueetl.parallel: Considering 1 rows for columns ['simulation_id', 'circuit_id']\n",
      "2025-04-01 18:17:57,659 INFO blueetl.parallel: Tasks to be executed: 1\n",
      "[Parallel(n_jobs=7)]: Done   1 tasks      | elapsed:    0.8s\n",
      "2025-04-01 18:17:58,533 INFO blueetl.extract.report: Executing merge_filter  [DONE in 0.89 seconds]\n",
      "2025-04-01 18:17:58,533 INFO blueetl.extract.report: Executing concatenation...\n",
      "2025-04-01 18:17:59,505 INFO blueetl.extract.report: Executing concatenation [DONE in 0.97 seconds]\n",
      "2025-04-01 18:17:59,506 INFO blueetl.repository: Writing cached report...\n",
      "2025-04-01 18:17:59,509 INFO blueetl.repository: Writing cached report [DONE in 0.00 seconds]\n",
      "2025-04-01 18:17:59,509 INFO blueetl.features: Step 1: grouping features by attributes...\n",
      "2025-04-01 18:17:59,510 INFO blueetl.features: Preprocessing features 1/1 [id=0]\n",
      "2025-04-01 18:17:59,510 INFO blueetl.features: Step 1: grouping features by attributes [DONE in 0.00 seconds]\n",
      "2025-04-01 18:17:59,510 INFO blueetl.features: Step 2: processing cached features...\n",
      "2025-04-01 18:17:59,511 INFO blueetl.features: Step 2: processing cached features [DONE in 0.00 seconds]\n",
      "2025-04-01 18:17:59,511 INFO blueetl.features: Step 3: processing new features...\n",
      "2025-04-01 18:17:59,512 INFO blueetl.features: Considering group: 1/1, key: FeaturesConfigKey(groupby=['simulation_id', 'circuit_id', 'neuron_class', 'window'], neuron_classes=[], windows=[])\n",
      "2025-04-01 18:17:59,512 WARNING blueetl.utils: SHMDIR should be set to the shared memory directory, or the process may be slower, or even fail because of insufficient space. The variable is automatically set when running on an allocated node, but it's not set when connecting via SSH to a pre-allocated node.\n",
      "2025-04-01 18:17:59,513 INFO blueetl.features: Executing merge_filter...\n",
      "[Parallel(n_jobs=7)]: Using backend LokyBackend with 7 concurrent workers.\n",
      "2025-04-01 18:18:00,161 INFO blueetl.parallel [task=0]: Considering 3 rows for columns ['circuit_id', 'neuron_class']\n",
      "2025-04-01 18:18:00,162 INFO blueetl.parallel [task=0]: Considering 2 rows for columns ['simulation_id', 'circuit_id', 'window']\n",
      "2025-04-01 18:18:00,164 INFO blueetl.parallel [task=0]: Tasks to be executed: 6\n",
      "2025-04-01 18:18:00,886 INFO blueetl.features [task=0]: Calculating features for Values(simulation_id=0, circuit_id=0, neuron_class='All', window='w1')\n",
      "2025-04-01 18:18:00,895 INFO blueetl.features [task=2]: Calculating features for Values(simulation_id=0, circuit_id=0, neuron_class='L2_X', window='w1')\n",
      "2025-04-01 18:18:00,895 INFO blueetl.features [task=1]: Calculating features for Values(simulation_id=0, circuit_id=0, neuron_class='All', window='w2')\n",
      "2025-04-01 18:18:00,931 INFO blueetl.features [task=3]: Calculating features for Values(simulation_id=0, circuit_id=0, neuron_class='L2_X', window='w2')\n",
      "2025-04-01 18:18:00,935 INFO blueetl.features [task=4]: Calculating features for Values(simulation_id=0, circuit_id=0, neuron_class='L6_Y', window='w1')\n",
      "2025-04-01 18:18:00,938 INFO blueetl.features [task=5]: Calculating features for Values(simulation_id=0, circuit_id=0, neuron_class='L6_Y', window='w2')\n",
      "[Parallel(n_jobs=7)]: Done   2 out of   6 | elapsed:    0.9s remaining:    1.7s\n",
      "[Parallel(n_jobs=7)]: Done   3 out of   6 | elapsed:    0.9s remaining:    0.9s\n",
      "[Parallel(n_jobs=7)]: Done   4 out of   6 | elapsed:    0.9s remaining:    0.4s\n",
      "[Parallel(n_jobs=7)]: Done   6 out of   6 | elapsed:    0.9s finished\n",
      "2025-04-01 18:18:01,212 INFO blueetl.features: Executing merge_filter [DONE in 1.70 seconds]\n",
      "2025-04-01 18:18:01,212 INFO blueetl.features: Executing concatenation...\n",
      "2025-04-01 18:18:01,228 INFO blueetl.features: Executing concatenation [DONE in 0.02 seconds]\n",
      "2025-04-01 18:18:01,230 INFO blueetl.features: Writing cached features...\n",
      "2025-04-01 18:18:01,236 INFO blueetl.features: Writing cached features [DONE in 0.01 seconds]\n",
      "2025-04-01 18:18:01,236 INFO blueetl.features: Calculated features 1/1 [id=0]\n",
      "- by_gid: cached=False, filtered=False\n",
      "- by_gid_and_trial: cached=False, filtered=False\n",
      "- by_neuron_class: cached=False, filtered=False\n",
      "- by_neuron_class_and_trial: cached=False, filtered=False\n",
      "- histograms: cached=False, filtered=False\n",
      "2025-04-01 18:18:01,237 INFO blueetl.features: Step 3: processing new features [DONE in 1.72 seconds]\n",
      "2025-04-01 18:18:01,237 INFO blueetl.features: Features calculation completed\n"
     ]
    }
   ],
   "source": [
    "analysis_config_file = \"data/analysis/analysis_config_01_relative.yaml\"\n",
    "\n",
    "loglevel = \"INFO\"\n",
    "ma = run_from_file(analysis_config_file, loglevel=loglevel)\n",
    "# ma = ma.apply_filter()\n",
    "\n",
    "# for a in ma.analyzers.values():\n",
    "#     a.repo...df\n",
    "#     a.features...df"
   ]
  },
  {
   "cell_type": "code",
   "execution_count": null,
   "metadata": {},
   "outputs": [],
   "source": []
  }
 ],
 "metadata": {
  "kernelspec": {
   "display_name": ".venv",
   "language": "python",
   "name": "python3"
  },
  "language_info": {
   "codemirror_mode": {
    "name": "ipython",
    "version": 3
   },
   "file_extension": ".py",
   "mimetype": "text/x-python",
   "name": "python",
   "nbconvert_exporter": "python",
   "pygments_lexer": "ipython3",
   "version": "3.11.11"
  }
 },
 "nbformat": 4,
 "nbformat_minor": 2
}
