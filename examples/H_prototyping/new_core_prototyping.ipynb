{
 "cells": [
  {
   "cell_type": "code",
   "execution_count": 1,
   "id": "8f46cbb7",
   "metadata": {},
   "outputs": [],
   "source": [
    "from pathlib import Path"
   ]
  },
  {
   "cell_type": "markdown",
   "id": "8d158e55",
   "metadata": {},
   "source": [
    "# Make an ExampleScanConfig instance and use it in a GridScanGeneration Task"
   ]
  },
  {
   "cell_type": "code",
   "execution_count": 2,
   "id": "3034c25b",
   "metadata": {},
   "outputs": [],
   "source": [
    "import obi_one as obi\n",
    "\n",
    "initialize = obi.ExampleScanConfig.Initialize(morphology_path=obi.NamedPath(name='test', path='test'), param_a=1)\n",
    "example_scan_config = obi.ExampleScanConfig(initialize=initialize)\n",
    "grid_scan_generation = obi.GridScanGeneration(scan_config=example_scan_config, output_root=Path(\"output\"))\n",
    "single_configs, _ = grid_scan_generation.execute()"
   ]
  },
  {
   "cell_type": "markdown",
   "id": "92e8d7f7",
   "metadata": {},
   "source": [
    "# Execute the ExampleTask for each of the generated single configs"
   ]
  },
  {
   "cell_type": "code",
   "execution_count": 3,
   "id": "f2f0c085",
   "metadata": {},
   "outputs": [],
   "source": [
    "for single_config in single_configs:\n",
    "    example_task = obi.ExampleTask(config=single_config)\n",
    "    example_task.execute()"
   ]
  },
  {
   "cell_type": "markdown",
   "id": "682cd06e",
   "metadata": {},
   "source": [
    "Scan wrapper"
   ]
  },
  {
   "cell_type": "code",
   "execution_count": 4,
   "id": "623ce033",
   "metadata": {},
   "outputs": [],
   "source": [
    "scan_wrapper = obi.ScanWrapper(scan_config=example_scan_config, \n",
    "            scan_generation_type=obi.GridScanGeneration)\n",
    "\n",
    "# scan_wrapper.generate_scan()\n",
    "\n",
    "\n"
   ]
  }
 ],
 "metadata": {
  "kernelspec": {
   "display_name": "obi-one (3.12.9)",
   "language": "python",
   "name": "python3"
  },
  "language_info": {
   "codemirror_mode": {
    "name": "ipython",
    "version": 3
   },
   "file_extension": ".py",
   "mimetype": "text/x-python",
   "name": "python",
   "nbconvert_exporter": "python",
   "pygments_lexer": "ipython3",
   "version": "3.12.9"
  }
 },
 "nbformat": 4,
 "nbformat_minor": 5
}
