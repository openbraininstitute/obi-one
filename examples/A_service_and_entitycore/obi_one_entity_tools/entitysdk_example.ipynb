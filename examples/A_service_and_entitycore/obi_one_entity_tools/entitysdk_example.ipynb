{
 "cells": [
  {
   "cell_type": "markdown",
   "id": "f0de68ed",
   "metadata": {},
   "source": [
    "# Initialize database"
   ]
  },
  {
   "cell_type": "code",
   "execution_count": 1,
   "id": "d5ad32a0",
   "metadata": {},
   "outputs": [],
   "source": [
    "import obi_one as obi\n",
    "virtual_lab_id=obi.LAB_ID_STAGING_TEST\n",
    "project_id=obi.PROJECT_ID_STAGING_TEST\n",
    "from entitysdk import Client, ProjectContext\n",
    "\n",
    "from obi_auth import get_token\n",
    "from obi_notebook import get_projects\n",
    "\n",
    "token = get_token(environment=\"staging\")\n",
    "project_context = ProjectContext(virtual_lab_id=obi.LAB_ID_STAGING_TEST, project_id=obi.PROJECT_ID_STAGING_TEST)\n",
    "db_client = Client(api_url=\"https://staging.openbraininstitute.org/api/entitycore\", project_context=project_context, token_manager=token)"
   ]
  },
  {
   "cell_type": "markdown",
   "id": "646a9c8b",
   "metadata": {},
   "source": [
    "# Create a CellMorphologyFromID + access its properties"
   ]
  },
  {
   "cell_type": "code",
   "execution_count": null,
   "id": "7c0e585b",
   "metadata": {},
   "outputs": [],
   "source": [
    "morphology_id = \"575a84d9-c591-4dda-9789-45ab859047b6\"\n",
    "\n",
    "morphology_from_id = obi.CellMorphologyFromID(id_str=morphology_id)\n",
    "\n",
    "morphology_from_id.entity(db_client=db_client)\n",
    "morphology_from_id.swc_file_content(db_client=db_client)\n",
    "morphology_from_id.neurom_morphology(db_client=db_client)"
   ]
  },
  {
   "cell_type": "markdown",
   "id": "b306fd85",
   "metadata": {},
   "source": [
    "## Create a CellMorphologyFromID object and pass it to the MorphologyMetricsScanConfig for GridScanGenerationTask execution"
   ]
  },
  {
   "cell_type": "code",
   "execution_count": null,
   "id": "a4987214",
   "metadata": {},
   "outputs": [],
   "source": [
    "# Create a morphology object (this will fetch a CellMorphology object and create attributes for every parameter of CellMorphology)\n",
    "morphology_from_id = obi.CellMorphologyFromID(id_str=morphology_id)\n",
    "\n",
    "# Create a MorphologyMetricsExampleForm.initialize object\n",
    "initialize = obi.MorphologyMetricsScanConfig.Initialize(morphology=[morphology_from_id, morphology_from_id])\n",
    "\n",
    "# Create a MorphologyMetricsExampleForm object with the initialize object\n",
    "scan_config = obi.MorphologyMetricsScanConfig(initialize=initialize)\n",
    "\n",
    "# Create the grid scan object\n",
    "scan = obi.GridScanGenerationTask(form=scan_config,\n",
    "                    coordinate_directory_option=\"ZERO_INDEX\",\n",
    "                    output_root=\"../../../../obi-output/morphology_test/grid_scan\")\n",
    "\n",
    "# Run the scan\n",
    "scan.execute(db_client=db_client)\n",
    "obi.run_tasks_for_generated_scan(scan, db_client=db_client)\n"
   ]
  },
  {
   "cell_type": "markdown",
   "id": "aae1dacf-3cb8-43b4-afa1-fa2bdb4e9f32",
   "metadata": {},
   "source": [
    "# Create a CircuitFromID + access its properties"
   ]
  },
  {
   "cell_type": "code",
   "execution_count": 2,
   "id": "fbc4658d-ee8d-4af9-bfe2-66f770307e26",
   "metadata": {},
   "outputs": [
    {
     "name": "stdout",
     "output_type": "stream",
     "text": [
      "[2025-10-27 10:24:33,207] INFO: HTTP Request: GET https://staging.openbraininstitute.org/api/entitycore/circuit/0182b55e-2f38-4e06-bbd0-b11e70449804 \"HTTP/1.1 200 OK\"\n",
      "\n",
      "nbS1-O1-vSub-sCN-HEX0-L2-01\n",
      "A volumetric subcircuit (vSub) extracted from the nbS1-O1 circuit, centered on a neuron positioned centrally within the spatial volume of layer 2 in subcolumn HEX0. The subcircuit consists of the central neuron and its nine nearest neighbors, capturing the local connectivity within the parent circuit. The suffix “01” denotes the first instance of such a subnetwork.\n",
      "#Neurons: 10, #Synapses: 51, #Connections: 10\n"
     ]
    }
   ],
   "source": [
    "circuit_id = \"0182b55e-2f38-4e06-bbd0-b11e70449804\"\n",
    "\n",
    "circuit_from_id = obi.CircuitFromID(id_str=circuit_id)\n",
    "circuit_entity = circuit_from_id.entity(db_client=db_client)\n",
    "\n",
    "print()\n",
    "print(circuit_entity.name)\n",
    "print(circuit_entity.description)\n",
    "print(f\"#Neurons: {circuit_entity.number_neurons}, #Synapses: {circuit_entity.number_synapses}, #Connections: {circuit_entity.number_connections}\")"
   ]
  },
  {
   "cell_type": "markdown",
   "id": "3aca14bc-8ae8-457a-b7bd-1485edafcea4",
   "metadata": {},
   "source": [
    "## Create CircuitFromID objects and pass them to the CircuitExtractionScanConfig for GridScanGenerationTask execution"
   ]
  },
  {
   "cell_type": "code",
   "execution_count": null,
   "id": "001ef89e-7722-4e11-b8ef-f9da1c88df9d",
   "metadata": {},
   "outputs": [],
   "source": [
    "# Create a circuit object\n",
    "circuit_from_id1 = obi.CircuitFromID(id_str=\"0182b55e-2f38-4e06-bbd0-b11e70449804\")\n",
    "circuit_from_id2 = obi.CircuitFromID(id_str=\"18ae1ca7-1adc-45c4-a475-635f93446c0e\")\n",
    "\n",
    "# Create a CircuitExtractionScanConfig.initialize object\n",
    "initialize = obi.CircuitExtractionScanConfig.Initialize(circuit=[circuit_from_id1, circuit_from_id2])\n",
    "\n",
    "# Create a CircuitExtractionScanConfig object with the initialize object\n",
    "neuron_set=obi.PredefinedNeuronSet(node_set=\"Excitatory\", sample_percentage=[50, 100])\n",
    "info = obi.Info(campaign_name=\"EXC-Extraction\", campaign_description=\"Extraction of percentages of EXC neurons\")\n",
    "scan_config = obi.CircuitExtractionScanConfig(initialize=initialize, neuron_set=neuron_set, info=info)\n",
    "\n",
    "# Create the grid scan object\n",
    "scan = obi.GridScanGenerationTask(\n",
    "    form=scan_config,\n",
    "    coordinate_directory_option=\"ZERO_INDEX\",\n",
    "    output_root=\"../../../../obi-output-v2/circuit_extraction_test/grid_scan\"\n",
    ")\n",
    "\n",
    "# Run the scan\n",
    "# use_cache = False  # W/o cache, each circuit will be downloaded separatly for every scan coordinate (and deleted afterwards)\n",
    "use_cache = True  # With cache, each circuit will only be downloaded once (and kept in the root folder of the scan)\n",
    "scan.execute(db_client=db_client)\n",
    "obi.run_tasks_for_generated_scan(scan, db_client=db_client, entity_cache=use_cache)"
   ]
  }
 ],
 "metadata": {
  "kernelspec": {
   "display_name": "obi-one",
   "language": "python",
   "name": "obi-one"
  },
  "language_info": {
   "codemirror_mode": {
    "name": "ipython",
    "version": 3
   },
   "file_extension": ".py",
   "mimetype": "text/x-python",
   "name": "python",
   "nbconvert_exporter": "python",
   "pygments_lexer": "ipython3",
   "version": "3.12.9"
  }
 },
 "nbformat": 4,
 "nbformat_minor": 5
}
