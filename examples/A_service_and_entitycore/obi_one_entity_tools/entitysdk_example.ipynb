{
 "cells": [
  {
   "cell_type": "markdown",
   "id": "f0de68ed",
   "metadata": {},
   "source": [
    "# Initialize database"
   ]
  },
  {
   "cell_type": "code",
   "execution_count": null,
   "id": "d5ad32a0",
   "metadata": {},
   "outputs": [],
   "source": [
    "import obi_one as obi\n",
    "virtual_lab_id=obi.LAB_ID_STAGING_TEST\n",
    "project_id=obi.PROJECT_ID_STAGING_TEST\n",
    "\n",
    "# entitycore_api_url = \"http://127.0.0.1:8000\"\n",
    "entitycore_api_url = \"https://staging.openbraininstitute.org/api/entitycore\"\n",
    "\n",
    "# # Initialize the database\n",
    "# obi.db.initialize(virtual_lab_id=virtual_lab_id, \n",
    "#                     project_id=project_id,\n",
    "#                     entitycore_api_url=entitycore_api_url\n",
    "#                     )\n",
    "\n",
    "# db_client = obi.db.client\n",
    "\n",
    "## REPLACE WITH PROPER DB CLIENT INITIALIZATION"
   ]
  },
  {
   "cell_type": "markdown",
   "id": "934c58e6",
   "metadata": {},
   "source": [
    "# Find a morphology using entitysdk"
   ]
  },
  {
   "cell_type": "code",
   "execution_count": 2,
   "id": "dbb277d3",
   "metadata": {},
   "outputs": [
    {
     "ename": "EntitySDKError",
     "evalue": "HTTP error 403 for GET https://staging.openbraininstitute.org/api/entitycore/cell-morphology\ndata       : None\njson       : null\nparams     : {'page': 1}\nresponse   : {\"error_code\":\"NOT_AUTHORIZED\",\"message\":\"User not authorized for the given virtual-lab-id or project-id\",\"details\":null}",
     "output_type": "error",
     "traceback": [
      "\u001b[31m---------------------------------------------------------------------------\u001b[39m",
      "\u001b[31mHTTPStatusError\u001b[39m                           Traceback (most recent call last)",
      "\u001b[36mFile \u001b[39m\u001b[32m~/Documents/obi/code/obi-one/.venv/lib/python3.12/site-packages/entitysdk/util.py:54\u001b[39m, in \u001b[36mmake_db_api_request\u001b[39m\u001b[34m(url, method, json, data, parameters, files, project_context, token, http_client)\u001b[39m\n\u001b[32m     53\u001b[39m \u001b[38;5;28;01mtry\u001b[39;00m:\n\u001b[32m---> \u001b[39m\u001b[32m54\u001b[39m     \u001b[43mresponse\u001b[49m\u001b[43m.\u001b[49m\u001b[43mraise_for_status\u001b[49m\u001b[43m(\u001b[49m\u001b[43m)\u001b[49m\n\u001b[32m     55\u001b[39m \u001b[38;5;28;01mexcept\u001b[39;00m httpx.HTTPStatusError \u001b[38;5;28;01mas\u001b[39;00m e:\n",
      "\u001b[36mFile \u001b[39m\u001b[32m~/Documents/obi/code/obi-one/.venv/lib/python3.12/site-packages/httpx/_models.py:829\u001b[39m, in \u001b[36mResponse.raise_for_status\u001b[39m\u001b[34m(self)\u001b[39m\n\u001b[32m    828\u001b[39m message = message.format(\u001b[38;5;28mself\u001b[39m, error_type=error_type)\n\u001b[32m--> \u001b[39m\u001b[32m829\u001b[39m \u001b[38;5;28;01mraise\u001b[39;00m HTTPStatusError(message, request=request, response=\u001b[38;5;28mself\u001b[39m)\n",
      "\u001b[31mHTTPStatusError\u001b[39m: Client error '403 Forbidden' for url 'https://staging.openbraininstitute.org/api/entitycore/cell-morphology?page=1'\nFor more information check: https://developer.mozilla.org/en-US/docs/Web/HTTP/Status/403",
      "\nThe above exception was the direct cause of the following exception:\n",
      "\u001b[31mEntitySDKError\u001b[39m                            Traceback (most recent call last)",
      "\u001b[36mCell\u001b[39m\u001b[36m \u001b[39m\u001b[32mIn[2]\u001b[39m\u001b[32m, line 6\u001b[39m\n\u001b[32m      1\u001b[39m \u001b[38;5;28;01mfrom\u001b[39;00m\u001b[38;5;250m \u001b[39m\u001b[34;01mentitysdk\u001b[39;00m\u001b[34;01m.\u001b[39;00m\u001b[34;01mmodels\u001b[39;00m\u001b[34;01m.\u001b[39;00m\u001b[34;01mcell_morphology\u001b[39;00m\u001b[38;5;250m \u001b[39m\u001b[38;5;28;01mimport\u001b[39;00m (\n\u001b[32m      2\u001b[39m     CellMorphology,\n\u001b[32m      3\u001b[39m )\n\u001b[32m      4\u001b[39m morphologies = \u001b[43mdb_client\u001b[49m\u001b[43m.\u001b[49m\u001b[43msearch_entity\u001b[49m\u001b[43m(\u001b[49m\n\u001b[32m      5\u001b[39m \u001b[43m    \u001b[49m\u001b[43mentity_type\u001b[49m\u001b[43m=\u001b[49m\u001b[43mCellMorphology\u001b[49m\u001b[43m,\u001b[49m\u001b[43m \u001b[49m\u001b[43mquery\u001b[49m\u001b[43m=\u001b[49m\u001b[43m{\u001b[49m\u001b[43m}\u001b[49m\u001b[43m,\u001b[49m\u001b[43m \u001b[49m\u001b[43mlimit\u001b[49m\u001b[43m=\u001b[49m\u001b[32;43m10\u001b[39;49m\n\u001b[32m----> \u001b[39m\u001b[32m6\u001b[39m \u001b[43m)\u001b[49m\u001b[43m.\u001b[49m\u001b[43mall\u001b[49m\u001b[43m(\u001b[49m\u001b[43m)\u001b[49m\n\u001b[32m      8\u001b[39m morphology = morphologies[\u001b[32m0\u001b[39m]\n",
      "\u001b[36mFile \u001b[39m\u001b[32m~/Documents/obi/code/obi-one/.venv/lib/python3.12/site-packages/entitysdk/result.py:53\u001b[39m, in \u001b[36mIteratorResult.all\u001b[39m\u001b[34m(self)\u001b[39m\n\u001b[32m     51\u001b[39m \u001b[38;5;28;01mdef\u001b[39;00m\u001b[38;5;250m \u001b[39m\u001b[34mall\u001b[39m(\u001b[38;5;28mself\u001b[39m) -> \u001b[38;5;28mlist\u001b[39m[ResultType]:\n\u001b[32m     52\u001b[39m \u001b[38;5;250m    \u001b[39m\u001b[33;03m\"\"\"Return all items from the iterable.\"\"\"\u001b[39;00m\n\u001b[32m---> \u001b[39m\u001b[32m53\u001b[39m     \u001b[38;5;28;01mreturn\u001b[39;00m \u001b[38;5;28;43mlist\u001b[39;49m\u001b[43m(\u001b[49m\u001b[38;5;28;43mself\u001b[39;49m\u001b[43m.\u001b[49m\u001b[43m_iterable\u001b[49m\u001b[43m)\u001b[49m\n",
      "\u001b[36mFile \u001b[39m\u001b[32m~/Documents/obi/code/obi-one/.venv/lib/python3.12/site-packages/entitysdk/core.py:67\u001b[39m, in \u001b[36m<genexpr>\u001b[39m\u001b[34m(.0)\u001b[39m\n\u001b[32m     43\u001b[39m \u001b[38;5;250m\u001b[39m\u001b[33;03m\"\"\"Search for entities.\u001b[39;00m\n\u001b[32m     44\u001b[39m \n\u001b[32m     45\u001b[39m \u001b[33;03mArgs:\u001b[39;00m\n\u001b[32m   (...)\u001b[39m\u001b[32m     55\u001b[39m \u001b[33;03m    List of entities.\u001b[39;00m\n\u001b[32m     56\u001b[39m \u001b[33;03m\"\"\"\u001b[39;00m\n\u001b[32m     57\u001b[39m iterator: Iterator[\u001b[38;5;28mdict\u001b[39m] = stream_paginated_request(\n\u001b[32m     58\u001b[39m     url=url,\n\u001b[32m     59\u001b[39m     method=\u001b[33m\"\u001b[39m\u001b[33mGET\u001b[39m\u001b[33m\"\u001b[39m,\n\u001b[32m   (...)\u001b[39m\u001b[32m     64\u001b[39m     http_client=http_client,\n\u001b[32m     65\u001b[39m )\n\u001b[32m     66\u001b[39m \u001b[38;5;28;01mreturn\u001b[39;00m IteratorResult\u001b[43m(\u001b[49m\n\u001b[32m---> \u001b[39m\u001b[32m67\u001b[39m \u001b[43m    \u001b[49m\u001b[43mserdes\u001b[49m\u001b[43m.\u001b[49m\u001b[43mdeserialize_model\u001b[49m\u001b[43m(\u001b[49m\u001b[43mjson_data\u001b[49m\u001b[43m,\u001b[49m\u001b[43m \u001b[49m\u001b[43mentity_type\u001b[49m\u001b[43m)\u001b[49m\u001b[43m \u001b[49m\u001b[38;5;28;43;01mfor\u001b[39;49;00m\u001b[43m \u001b[49m\u001b[43mjson_data\u001b[49m\u001b[43m \u001b[49m\u001b[38;5;129;43;01min\u001b[39;49;00m\u001b[43m \u001b[49m\u001b[43miterator\u001b[49m\n\u001b[32m     68\u001b[39m \u001b[43m\u001b[49m\u001b[43m)\u001b[49m\n",
      "\u001b[36mFile \u001b[39m\u001b[32m~/Documents/obi/code/obi-one/.venv/lib/python3.12/site-packages/entitysdk/util.py:107\u001b[39m, in \u001b[36mstream_paginated_request\u001b[39m\u001b[34m(url, method, json, parameters, project_context, http_client, page_size, limit, token)\u001b[39m\n\u001b[32m    105\u001b[39m     parameters = parameters | {\u001b[33m\"\u001b[39m\u001b[33mpage_size\u001b[39m\u001b[33m\"\u001b[39m: page_size}\n\u001b[32m    106\u001b[39m \u001b[38;5;28;01mwhile\u001b[39;00m \u001b[38;5;28;01mTrue\u001b[39;00m:\n\u001b[32m--> \u001b[39m\u001b[32m107\u001b[39m     response = \u001b[43mmake_db_api_request\u001b[49m\u001b[43m(\u001b[49m\n\u001b[32m    108\u001b[39m \u001b[43m        \u001b[49m\u001b[43murl\u001b[49m\u001b[43m=\u001b[49m\u001b[43murl\u001b[49m\u001b[43m,\u001b[49m\n\u001b[32m    109\u001b[39m \u001b[43m        \u001b[49m\u001b[43mmethod\u001b[49m\u001b[43m=\u001b[49m\u001b[43mmethod\u001b[49m\u001b[43m,\u001b[49m\n\u001b[32m    110\u001b[39m \u001b[43m        \u001b[49m\u001b[43mjson\u001b[49m\u001b[43m=\u001b[49m\u001b[43mjson\u001b[49m\u001b[43m,\u001b[49m\n\u001b[32m    111\u001b[39m \u001b[43m        \u001b[49m\u001b[43mparameters\u001b[49m\u001b[43m=\u001b[49m\u001b[43mparameters\u001b[49m\u001b[43m \u001b[49m\u001b[43m|\u001b[49m\u001b[43m \u001b[49m\u001b[43m{\u001b[49m\u001b[33;43m\"\u001b[39;49m\u001b[33;43mpage\u001b[39;49m\u001b[33;43m\"\u001b[39;49m\u001b[43m:\u001b[49m\u001b[43m \u001b[49m\u001b[43mpage\u001b[49m\u001b[43m}\u001b[49m\u001b[43m,\u001b[49m\n\u001b[32m    112\u001b[39m \u001b[43m        \u001b[49m\u001b[43mproject_context\u001b[49m\u001b[43m=\u001b[49m\u001b[43mproject_context\u001b[49m\u001b[43m,\u001b[49m\n\u001b[32m    113\u001b[39m \u001b[43m        \u001b[49m\u001b[43mtoken\u001b[49m\u001b[43m=\u001b[49m\u001b[43mtoken\u001b[49m\u001b[43m,\u001b[49m\n\u001b[32m    114\u001b[39m \u001b[43m        \u001b[49m\u001b[43mhttp_client\u001b[49m\u001b[43m=\u001b[49m\u001b[43mhttp_client\u001b[49m\u001b[43m,\u001b[49m\n\u001b[32m    115\u001b[39m \u001b[43m    \u001b[49m\u001b[43m)\u001b[49m\n\u001b[32m    116\u001b[39m     payload = ListResponse.model_validate_json(response.text)\n\u001b[32m    117\u001b[39m     \u001b[38;5;28;01mif\u001b[39;00m payload.pagination.page != page:\n",
      "\u001b[36mFile \u001b[39m\u001b[32m~/Documents/obi/code/obi-one/.venv/lib/python3.12/site-packages/entitysdk/util.py:63\u001b[39m, in \u001b[36mmake_db_api_request\u001b[39m\u001b[34m(url, method, json, data, parameters, files, project_context, token, http_client)\u001b[39m\n\u001b[32m     55\u001b[39m \u001b[38;5;28;01mexcept\u001b[39;00m httpx.HTTPStatusError \u001b[38;5;28;01mas\u001b[39;00m e:\n\u001b[32m     56\u001b[39m     message = (\n\u001b[32m     57\u001b[39m         \u001b[33mf\u001b[39m\u001b[33m\"\u001b[39m\u001b[33mHTTP error \u001b[39m\u001b[38;5;132;01m{\u001b[39;00mresponse.status_code\u001b[38;5;132;01m}\u001b[39;00m\u001b[33m for \u001b[39m\u001b[38;5;132;01m{\u001b[39;00mmethod\u001b[38;5;132;01m}\u001b[39;00m\u001b[33m \u001b[39m\u001b[38;5;132;01m{\u001b[39;00murl\u001b[38;5;132;01m}\u001b[39;00m\u001b[38;5;130;01m\\n\u001b[39;00m\u001b[33m\"\u001b[39m\n\u001b[32m     58\u001b[39m         \u001b[33mf\u001b[39m\u001b[33m\"\u001b[39m\u001b[33mdata       : \u001b[39m\u001b[38;5;132;01m{\u001b[39;00mdata\u001b[38;5;132;01m}\u001b[39;00m\u001b[38;5;130;01m\\n\u001b[39;00m\u001b[33m\"\u001b[39m\n\u001b[32m   (...)\u001b[39m\u001b[32m     61\u001b[39m         \u001b[33mf\u001b[39m\u001b[33m\"\u001b[39m\u001b[33mresponse   : \u001b[39m\u001b[38;5;132;01m{\u001b[39;00mresponse.text\u001b[38;5;132;01m}\u001b[39;00m\u001b[33m\"\u001b[39m\n\u001b[32m     62\u001b[39m     )\n\u001b[32m---> \u001b[39m\u001b[32m63\u001b[39m     \u001b[38;5;28;01mraise\u001b[39;00m EntitySDKError(message) \u001b[38;5;28;01mfrom\u001b[39;00m\u001b[38;5;250m \u001b[39m\u001b[34;01me\u001b[39;00m\n\u001b[32m     64\u001b[39m \u001b[38;5;28;01mreturn\u001b[39;00m response\n",
      "\u001b[31mEntitySDKError\u001b[39m: HTTP error 403 for GET https://staging.openbraininstitute.org/api/entitycore/cell-morphology\ndata       : None\njson       : null\nparams     : {'page': 1}\nresponse   : {\"error_code\":\"NOT_AUTHORIZED\",\"message\":\"User not authorized for the given virtual-lab-id or project-id\",\"details\":null}"
     ]
    }
   ],
   "source": [
    "from entitysdk.models.cell_morphology import (\n",
    "    CellMorphology,\n",
    ")\n",
    "morphologies = db_client.search_entity(\n",
    "    entity_type=CellMorphology, query={}, limit=10\n",
    ").all()\n",
    "\n",
    "morphology = morphologies[0]"
   ]
  },
  {
   "cell_type": "markdown",
   "id": "685d02e1",
   "metadata": {},
   "source": [
    "# Find a morphology using obi-one"
   ]
  },
  {
   "cell_type": "code",
   "execution_count": null,
   "id": "9f3c849e",
   "metadata": {},
   "outputs": [],
   "source": [
    "morphologies = obi.CellMorphologyFromID.find(db_client=db_client)\n",
    "for morphology in morphologies:\n",
    "    if morphology.assets:\n",
    "        if len(morphology.assets):\n",
    "            break"
   ]
  },
  {
   "cell_type": "markdown",
   "id": "93242b4a",
   "metadata": {},
   "source": [
    "# Fetch a morphology using obi-one"
   ]
  },
  {
   "cell_type": "code",
   "execution_count": null,
   "id": "0c8774e2",
   "metadata": {},
   "outputs": [],
   "source": [
    "obi.CellMorphologyFromID.fetch(entity_id=morphology.id, db_client=db_client)"
   ]
  },
  {
   "cell_type": "markdown",
   "id": "646a9c8b",
   "metadata": {},
   "source": [
    "# Create a CellMorphologyFromID + access its properties"
   ]
  },
  {
   "cell_type": "code",
   "execution_count": null,
   "id": "7c0e585b",
   "metadata": {},
   "outputs": [],
   "source": [
    "morphology_from_id = obi.CellMorphologyFromID(id_str=str(morphology.id))\n",
    "\n",
    "morphology_from_id.entity(db_client=db_client)\n",
    "morphology_from_id.swc_file_content(db_client=db_client)\n",
    "morphology_from_id.neurom_morphology(db_client=db_client)\n",
    "# morphology_from_id.morphio_morphology(db_client=db_client)"
   ]
  },
  {
   "cell_type": "markdown",
   "id": "b306fd85",
   "metadata": {},
   "source": [
    "## Create a CellMorphologyFromID object and pass it to the MorphologyMetricsScanConfig for GridScanGenerationTask execution"
   ]
  },
  {
   "cell_type": "code",
   "execution_count": null,
   "id": "a4987214",
   "metadata": {},
   "outputs": [],
   "source": [
    "# Create a morphology object (this will fetch a CellMorphology object and create attributes for every parameter of CellMorphology)\n",
    "morphology_from_id = obi.CellMorphologyFromID(id_str=str(morphology.id))\n",
    "\n",
    "# Create a MorphologyMetricsExampleForm.initialize object\n",
    "initialize = obi.MorphologyMetricsScanConfig.Initialize(morphology=[morphology_from_id, morphology_from_id])\n",
    "\n",
    "# Create a MorphologyMetricsExampleForm object with the initialize object\n",
    "scan_config = obi.MorphologyMetricsScanConfig(initialize=initialize)\n",
    "\n",
    "# Create the grid scan object\n",
    "scan = obi.GridScanGenerationTask(form=scan_config,\n",
    "                    coordinate_directory_option=\"ZERO_INDEX\",\n",
    "                    output_root=\"../../../../obi-output/morphology_test/grid_scan\")\n",
    "\n",
    "# Run the scan\n",
    "scan.execute(processing_method=\"run\", db_client=db_client)  # , data_postprocessing_method=\"data\"\n"
   ]
  },
  {
   "cell_type": "code",
   "execution_count": null,
   "id": "73f81ca6",
   "metadata": {},
   "outputs": [],
   "source": [
    "obi.Circuit"
   ]
  }
 ],
 "metadata": {
  "kernelspec": {
   "display_name": "obi-one (3.12.9)",
   "language": "python",
   "name": "python3"
  },
  "language_info": {
   "codemirror_mode": {
    "name": "ipython",
    "version": 3
   },
   "file_extension": ".py",
   "mimetype": "text/x-python",
   "name": "python",
   "nbconvert_exporter": "python",
   "pygments_lexer": "ipython3",
   "version": "3.12.9"
  }
 },
 "nbformat": 4,
 "nbformat_minor": 5
}
