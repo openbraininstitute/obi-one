{
 "cells": [
  {
   "cell_type": "markdown",
   "id": "f0de68ed",
   "metadata": {},
   "source": [
    "# Initialize database"
   ]
  },
  {
   "cell_type": "code",
   "execution_count": null,
   "id": "d5ad32a0",
   "metadata": {},
   "outputs": [],
   "source": [
    "import obi_one as obi\n",
    "virtual_lab_id=obi.LAB_ID_STAGING_TEST\n",
    "project_id=obi.PROJECT_ID_STAGING_TEST\n",
    "\n",
    "# entitycore_api_url = \"http://127.0.0.1:8000\"\n",
    "entitycore_api_url = \"https://staging.openbraininstitute.org/api/entitycore\"\n",
    "\n",
    "# Initialize the database\n",
    "obi.db.initialize(virtual_lab_id=virtual_lab_id, \n",
    "                    project_id=project_id,\n",
    "                    entitycore_api_url=entitycore_api_url\n",
    "                    )\n",
    "\n",
    "db_client = obi.db.client"
   ]
  },
  {
   "cell_type": "markdown",
   "id": "934c58e6",
   "metadata": {},
   "source": [
    "# Find a morphology using entitysdk"
   ]
  },
  {
   "cell_type": "code",
   "execution_count": null,
   "id": "dbb277d3",
   "metadata": {},
   "outputs": [],
   "source": [
    "from entitysdk.models.cell_morphology import (\n",
    "    CellMorphology,\n",
    ")\n",
    "morphologies = db_client.search_entity(\n",
    "    entity_type=CellMorphology, query={}, limit=10\n",
    ").all()\n",
    "\n",
    "morphology = morphologies[0]"
   ]
  },
  {
   "cell_type": "markdown",
   "id": "685d02e1",
   "metadata": {},
   "source": [
    "# Find a morphology using obi-one"
   ]
  },
  {
   "cell_type": "code",
   "execution_count": null,
   "id": "9f3c849e",
   "metadata": {},
   "outputs": [],
   "source": [
    "morphologies = obi.CellMorphologyFromID.find(db_client=db_client)\n",
    "for morphology in morphologies:\n",
    "    if morphology.assets:\n",
    "        if len(morphology.assets):\n",
    "            break"
   ]
  },
  {
   "cell_type": "markdown",
   "id": "93242b4a",
   "metadata": {},
   "source": [
    "# Fetch a morphology using obi-one"
   ]
  },
  {
   "cell_type": "code",
   "execution_count": null,
   "id": "0c8774e2",
   "metadata": {},
   "outputs": [],
   "source": [
    "obi.CellMorphologyFromID.fetch(entity_id=morphology.id, db_client=db_client)"
   ]
  },
  {
   "cell_type": "markdown",
   "id": "646a9c8b",
   "metadata": {},
   "source": [
    "# Create a CellMorphologyFromID + access its properties"
   ]
  },
  {
   "cell_type": "code",
   "execution_count": null,
   "id": "7c0e585b",
   "metadata": {},
   "outputs": [],
   "source": [
    "morphology_from_id = obi.CellMorphologyFromID(id_str=str(morphology.id))\n",
    "\n",
    "morphology_from_id.entity(db_client=db_client)\n",
    "morphology_from_id.swc_file_content(db_client=db_client)\n",
    "morphology_from_id.neurom_morphology(db_client=db_client)\n",
    "# morphology_from_id.morphio_morphology(db_client=db_client)"
   ]
  },
  {
   "cell_type": "markdown",
   "id": "b306fd85",
   "metadata": {},
   "source": [
    "## Create a CellMorphologyFromID object and pass it to the MorphologyMetricsScanConfig for GridScan execution"
   ]
  },
  {
   "cell_type": "code",
   "execution_count": null,
   "id": "a4987214",
   "metadata": {},
   "outputs": [],
   "source": [
    "# Create a morphology object (this will fetch a CellMorphology object and create attributes for every parameter of CellMorphology)\n",
    "morphology_from_id = obi.CellMorphologyFromID(id_str=str(morphology.id))\n",
    "\n",
    "# Create a MorphologyMetricsExampleForm.initialize object\n",
    "initialize = obi.MorphologyMetricsScanConfig.Initialize(morphology=[morphology_from_id, morphology_from_id])\n",
    "\n",
    "# Create a MorphologyMetricsExampleForm object with the initialize object\n",
    "scan_config = obi.MorphologyMetricsScanConfig(initialize=initialize)\n",
    "\n",
    "# Create the grid scan object\n",
    "scan = obi.GridScan(form=scan_config,\n",
    "                    coordinate_directory_option=\"ZERO_INDEX\",\n",
    "                    output_root=\"../../../../obi-output/morphology_test/grid_scan\")\n",
    "\n",
    "# Run the scan\n",
    "scan.execute(processing_method=\"run\", db_client=db_client)  # , data_postprocessing_method=\"data\"\n"
   ]
  },
  {
   "cell_type": "code",
   "execution_count": null,
   "id": "73f81ca6",
   "metadata": {},
   "outputs": [],
   "source": [
    "obi.Circuit"
   ]
  }
 ],
 "metadata": {
  "kernelspec": {
   "display_name": "obi-one (3.12.9)",
   "language": "python",
   "name": "python3"
  },
  "language_info": {
   "codemirror_mode": {
    "name": "ipython",
    "version": 3
   },
   "file_extension": ".py",
   "mimetype": "text/x-python",
   "name": "python",
   "nbconvert_exporter": "python",
   "pygments_lexer": "ipython3",
   "version": "3.12.9"
  }
 },
 "nbformat": 4,
 "nbformat_minor": 5
}
