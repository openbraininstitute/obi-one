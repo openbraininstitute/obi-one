{
 "cells": [
  {
   "cell_type": "code",
   "execution_count": 1,
   "id": "b4d17d2e",
   "metadata": {},
   "outputs": [
    {
     "name": "stdout",
     "output_type": "stream",
     "text": [
      "entitysdk version: 0.2.5\n"
     ]
    }
   ],
   "source": [
    "from obi_auth import get_token\n",
    "from entitysdk.client import Client\n",
    "from entitysdk.common import ProjectContext\n",
    "\n",
    "import importlib.metadata\n",
    "package_name = 'entitysdk'  # Example\n",
    "version = importlib.metadata.version(package_name)\n",
    "print(f\"{package_name} version: {version}\")\n",
    "\n",
    "virtual_lab_id=\"e6030ed8-a589-4be2-80a6-f975406eb1f6\"\n",
    "project_id=\"2720f785-a3a2-4472-969d-19a53891c817\"\n",
    "\n",
    "entitycore_api_url = \"https://staging.openbraininstitute.org/api/entitycore\"\n",
    "\n",
    "token = get_token(environment=\"staging\")\n",
    "project_context = ProjectContext(virtual_lab_id=virtual_lab_id, project_id=project_id)\n",
    "client = Client(api_url=entitycore_api_url, project_context=project_context)\n",
    "\n",
    "from entitysdk.models.morphology import (\n",
    "    ReconstructionMorphology,\n",
    ")\n",
    "kwargs = {}\n",
    "reconstruction_morphologies = client.search_entity(\n",
    "    entity_type=ReconstructionMorphology, query=kwargs, token=token, limit=10\n",
    ").all()\n",
    "\n",
    "reconstruction_morphology_id = reconstruction_morphologies[0].id"
   ]
  },
  {
   "cell_type": "code",
   "execution_count": null,
   "id": "d02860fc",
   "metadata": {},
   "outputs": [],
   "source": []
  }
 ],
 "metadata": {
  "kernelspec": {
   "display_name": ".venv",
   "language": "python",
   "name": "python3"
  },
  "language_info": {
   "codemirror_mode": {
    "name": "ipython",
    "version": 3
   },
   "file_extension": ".py",
   "mimetype": "text/x-python",
   "name": "python",
   "nbconvert_exporter": "python",
   "pygments_lexer": "ipython3",
   "version": "3.12.9"
  }
 },
 "nbformat": 4,
 "nbformat_minor": 5
}
