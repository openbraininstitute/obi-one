{
 "cells": [
  {
   "cell_type": "code",
   "execution_count": 1,
   "id": "7cebdc29",
   "metadata": {},
   "outputs": [],
   "source": [
    "import requests\n",
    "from obi_auth import get_token\n",
    "from entitysdk import Client, ProjectContext, models\n",
    "from enum import Enum\n",
    "\n",
    "class DatabaseEnvironment(Enum):\n",
    "    STAGING_DATABASE = \"staging\"\n",
    "    # PRODUCTION_DATABASE = \"production\"\n",
    "    # LOCAL_UNAUTHENTICATED = \"local_unauthenticated\"\n",
    "    # Note: LOCAL_AUTHENTICATED is not supported by entitycore because the project/vlab ids do not exist in your keycloak groups\n",
    "\n",
    "obi_one_api_url = \"http://127.0.0.1:8100\"\n",
    "\n",
    "add_morphology_asset = False\n",
    "\n",
    "database_environment = DatabaseEnvironment.STAGING_DATABASE\n",
    "# database_environment = DatabaseEnvironment.PRODUCTION_DATABASE\n",
    "# database_environment = DatabaseEnvironment.LOCAL_UNAUTHENTICATED\n",
    "\n",
    "if database_environment == DatabaseEnvironment.STAGING_DATABASE:\n",
    "    \"\"\"\n",
    "    - Uncomment in obi-one/.env.run-local before \"make run-local\": \n",
    "        export ENTITYCORE_URL=https://staging.openbraininstitute.org/api/entitycore\n",
    "    \"\"\"\n",
    "    entitycore_api_url = \"https://staging.openbraininstitute.org/api/entitycore\"\n",
    "    virtual_lab_id=\"e6030ed8-a589-4be2-80a6-f975406eb1f6\"\n",
    "    project_id=\"2720f785-a3a2-4472-969d-19a53891c817\"\n",
    "\n",
    "# elif database_environment == DatabaseEnvironment.PRODUCTION_DATABASE:\n",
    "#     \"\"\"\n",
    "#     For future: EntityCore not currently in production.\n",
    "#     - Uncomment in obi-one/.env.run-local before \"make run-local\": \n",
    "#         export ENTITYCORE_URL=https://www.openbraininstitute.org/api/entitycore\n",
    "#     \"\"\"\n",
    "#     entitycore_api_url = \"https://www.openbraininstitute.org/api/entitycore\"\n",
    "\n",
    "elif DatabaseEnvironment.LOCAL_UNAUTHENTICATED:\n",
    "    \"\"\"\n",
    "    Not yet tested.\n",
    "    - Launch entitycore locally (make run-local)\n",
    "    - Add a morphology with a project name (see entitysdk)\n",
    "    \"\"\"\n",
    "    entitycore_api_url = \"http://127.0.0.1:8000\"\n",
    "    add_morphology_asset = True\n",
    "    virtual_lab_id=\"a98b7abc-fc46-4700-9e3d-37137812c730\"\n",
    "    project_id=\"0dbced5f-cc3d-488a-8c7f-cfb8ea039dc6\"\n",
    "    # virtual_lab_id=\"e6030ed8-a589-4be2-80a6-f975406eb1f6\"\n",
    "    # project_id=\"2720f785-a3a2-4472-969d-19a53891c817\"\n",
    "    \n",
    "else:\n",
    "    raise ValueError(f\"Unsupported environment: {database_environment}\")\n",
    "\n",
    "\n",
    "token = get_token(environment=\"staging\")\n",
    "project_context = ProjectContext(virtual_lab_id=virtual_lab_id, project_id=project_id)\n",
    "client = Client(api_url=entitycore_api_url, project_context=project_context, token_manager=token)"
   ]
  },
  {
   "cell_type": "markdown",
   "id": "70f58b60",
   "metadata": {},
   "source": [
    "# Register circuit"
   ]
  },
  {
   "cell_type": "code",
   "execution_count": 2,
   "id": "f98a9dfc",
   "metadata": {},
   "outputs": [],
   "source": [
    "# species = client.search_entity(\n",
    "#     entity_type=models.Species, query={\"name__ilike\": \"Homo sapiens\"}\n",
    "# ).one()\n",
    "\n",
    "# subject = models.Subject(\n",
    "#     name=\"my-subject\", description=\"my-subject-description\", sex=\"male\", species=species\n",
    "# )\n",
    "# subject = client.register_entity(subject)\n",
    "\n",
    "# brain_region = client.search_entity(entity_type=models.BrainRegion, query={\"acronym\": \"CB\"}).first()\n",
    "\n",
    "\n",
    "# circuit = models.Circuit(\n",
    "#     name=\"my-circuit\",\n",
    "#     description=\"my-circuit\",\n",
    "#     subject=subject,\n",
    "#     brain_region=brain_region,\n",
    "#     number_synapses=2,\n",
    "#     number_neurons=5,\n",
    "#     number_connections=10,\n",
    "#     scale=\"microcircuit\",\n",
    "#     build_category=\"em_reconstruction\",\n",
    "# )\n",
    "\n",
    "# circuit = client.register_entity(circuit)\n",
    "\n",
    "# print(circuit)\n",
    "# # 5b2368ce-f632-47a5-9d5d-3c1c4159a232"
   ]
  },
  {
   "cell_type": "markdown",
   "id": "f4bd00a1",
   "metadata": {},
   "source": [
    "# Create SimulationForm using Cirucit"
   ]
  },
  {
   "cell_type": "code",
   "execution_count": 3,
   "id": "8e26f8b0",
   "metadata": {},
   "outputs": [],
   "source": [
    "import obi_one as obi\n",
    "\n",
    "# Sim duration\n",
    "sim_duration = 3000.0\n",
    "\n",
    "# Empty Simulation Configuration\n",
    "sim_conf = obi.SimulationsForm.empty_config()\n",
    "\n",
    "# Info\n",
    "info = obi.Info(name=\"O1 Simulation\", description=\"Simulation of O1 circuit with predefined neuron set and constant current stimulus\")\n",
    "sim_conf.set(info, name=\"info\")\n",
    "\n",
    "# Neuron Sets\n",
    "sim_neuron_set = obi.IDNeuronSet(neuron_ids=obi.NamedTuple(name=\"IDNeuronSet1\", elements=range(10)))\n",
    "sim_conf.add(sim_neuron_set, name='L1All')\n",
    "\n",
    "# Regular Timesteps\n",
    "regular_timestamps = obi.RegularTimestamps(start_time=0.0, number_of_repetitions=3, interval=sim_duration)\n",
    "sim_conf.add(regular_timestamps, name='RegularTimestamps')\n",
    "\n",
    "# Stimulus\n",
    "poisson_input = obi.PoissonSpikeStimulus(timestamps=regular_timestamps.ref, stim_duration=800, frequency=20, neuron_set=sim_neuron_set.ref)\n",
    "sim_conf.add(poisson_input, name='PoissonInputStimulus')\n",
    "\n",
    "# Recordings\n",
    "voltage_recording = obi.SomaVoltageRecording(neuron_set=sim_neuron_set.ref, start_time=0.0, end_time=sim_duration)\n",
    "sim_conf.add(voltage_recording, name='VoltageRecording')\n",
    "\n",
    "# Initialization\n",
    "simulations_initialize = obi.SimulationsForm.Initialize(circuit=obi.CircuitFromID(id_str=\"5b2368ce-f632-47a5-9d5d-3c1c4159a232\"), \n",
    "                                                        node_set=sim_neuron_set.ref, \n",
    "                                                        simulation_length=sim_duration)\n",
    "sim_conf.set(simulations_initialize, name='initialize')\n",
    "\n",
    "# Validated Config\n",
    "validated_sim_conf = sim_conf.validated_config()"
   ]
  },
  {
   "cell_type": "markdown",
   "id": "d710be17",
   "metadata": {},
   "source": [
    "# Generate GridScan"
   ]
  },
  {
   "cell_type": "code",
   "execution_count": 4,
   "id": "32853aaf",
   "metadata": {},
   "outputs": [
    {
     "name": "stdout",
     "output_type": "stream",
     "text": [
      "Temporary directory created at: /var/folders/pp/r2gyck8j4n9dfb_x9vjslq740000gn/T/tmpdlqakeb3\n",
      "[2025-06-19 17:23:32,104] INFO: \n",
      "MULTIPLE VALUE PARAMETERS\n",
      "[2025-06-19 17:23:32,104] INFO: No multiple value parameters found.\n",
      "[2025-06-19 17:23:32,105] INFO: \n",
      "COORDINATE PARAMETERS\n",
      "[2025-06-19 17:23:32,105] INFO: No coordinate parameters.\n",
      "[2025-06-19 17:23:32,105] INFO: <entitysdk.client.Client object at 0x111e1a5a0>\n",
      "[2025-06-19 17:23:32,105] INFO: 1. Initializing simulation campaign in the database...\n",
      "[2025-06-19 17:23:32,105] INFO: -- Register SimulationCampaign Entity\n",
      "[2025-06-19 17:23:32,106] INFO: -- Upload campaign_generation_config\n",
      "[2025-06-19 17:23:32,106] INFO: -- Upload campaign_summary\n",
      "initialize.circuit is a CircuitFromID instance.\n"
     ]
    },
    {
     "ename": "AttributeError",
     "evalue": "'Simulation' object has no attribute 'index'",
     "output_type": "error",
     "traceback": [
      "\u001b[31m---------------------------------------------------------------------------\u001b[39m",
      "\u001b[31mAttributeError\u001b[39m                            Traceback (most recent call last)",
      "\u001b[36mCell\u001b[39m\u001b[36m \u001b[39m\u001b[32mIn[4]\u001b[39m\u001b[32m, line 12\u001b[39m\n\u001b[32m     10\u001b[39m grid_scan.coordinate_parameters(display=\u001b[38;5;28;01mTrue\u001b[39;00m)\n\u001b[32m     11\u001b[39m \u001b[38;5;66;03m# grid_scan.coordinate_instances(display=True)\u001b[39;00m\n\u001b[32m---> \u001b[39m\u001b[32m12\u001b[39m \u001b[43mgrid_scan\u001b[49m\u001b[43m.\u001b[49m\u001b[43mexecute\u001b[49m\u001b[43m(\u001b[49m\u001b[43mprocessing_method\u001b[49m\u001b[43m=\u001b[49m\u001b[33;43m'\u001b[39;49m\u001b[33;43mgenerate\u001b[39;49m\u001b[33;43m'\u001b[39;49m\u001b[43m,\u001b[49m\u001b[43m \u001b[49m\u001b[43mdata_postprocessing_method\u001b[49m\u001b[43m=\u001b[49m\u001b[33;43m'\u001b[39;49m\u001b[33;43msave\u001b[39;49m\u001b[33;43m'\u001b[39;49m\u001b[43m,\u001b[49m\u001b[43m \u001b[49m\u001b[43mdb_client\u001b[49m\u001b[43m=\u001b[49m\u001b[43mclient\u001b[49m\u001b[43m)\u001b[49m\n",
      "\u001b[36mFile \u001b[39m\u001b[32m~/Documents/obi/code/obi-one/obi_one/core/scan.py:190\u001b[39m, in \u001b[36mScan.execute\u001b[39m\u001b[34m(self, processing_method, data_postprocessing_method, db_client)\u001b[39m\n\u001b[32m    188\u001b[39m \u001b[38;5;66;03m# If a data_postprocessing_method is specified, call it\u001b[39;00m\n\u001b[32m    189\u001b[39m \u001b[38;5;28;01mif\u001b[39;00m data_postprocessing_method:\n\u001b[32m--> \u001b[39m\u001b[32m190\u001b[39m     single_entity = return_dict[coordinate_instance.idx] = \u001b[38;5;28;43mgetattr\u001b[39;49m\u001b[43m(\u001b[49m\n\u001b[32m    191\u001b[39m \u001b[43m        \u001b[49m\u001b[43mcoordinate_instance\u001b[49m\u001b[43m,\u001b[49m\u001b[43m \u001b[49m\u001b[43mdata_postprocessing_method\u001b[49m\n\u001b[32m    192\u001b[39m \u001b[43m    \u001b[49m\u001b[43m)\u001b[49m\u001b[43m(\u001b[49m\u001b[43mcampaign\u001b[49m\u001b[43m,\u001b[49m\u001b[43m \u001b[49m\u001b[43mdb_client\u001b[49m\u001b[43m)\u001b[49m\n\u001b[32m    193\u001b[39m     single_entities.append(single_entity)\n\u001b[32m    195\u001b[39m \u001b[38;5;66;03m# Serialize the coordinate instance\u001b[39;00m\n",
      "\u001b[36mFile \u001b[39m\u001b[32m~/Documents/obi/code/obi-one/obi_one/scientific/simulation/simulations.py:299\u001b[39m, in \u001b[36mSimulation.save\u001b[39m\u001b[34m(self, campaign, db_client)\u001b[39m\n\u001b[32m    296\u001b[39m \u001b[38;5;28;01mdef\u001b[39;00m\u001b[38;5;250m \u001b[39m\u001b[34msave\u001b[39m(\u001b[38;5;28mself\u001b[39m, campaign: entitysdk.models.SimulationCampaign, db_client: entitysdk.client.Client) -> \u001b[38;5;28;01mNone\u001b[39;00m:\n\u001b[32m    297\u001b[39m \u001b[38;5;250m    \u001b[39m\u001b[33;03m\"\"\"Saves the simulation to the database.\"\"\"\u001b[39;00m\n\u001b[32m--> \u001b[39m\u001b[32m299\u001b[39m     L.info(\u001b[33mf\u001b[39m\u001b[33m\"\u001b[39m\u001b[33m2.\u001b[39m\u001b[38;5;132;01m{\u001b[39;00m\u001b[38;5;28;43mself\u001b[39;49m\u001b[43m.\u001b[49m\u001b[43mindex\u001b[49m\u001b[38;5;132;01m}\u001b[39;00m\u001b[33m Saving simulation \u001b[39m\u001b[38;5;132;01m{\u001b[39;00m\u001b[38;5;28mself\u001b[39m.idx\u001b[38;5;132;01m}\u001b[39;00m\u001b[33m to database...\u001b[39m\u001b[33m\"\u001b[39m)\n\u001b[32m    301\u001b[39m     L.info(\u001b[33mf\u001b[39m\u001b[33m\"\u001b[39m\u001b[33m-- Register Simulation Entity\u001b[39m\u001b[33m\"\u001b[39m)\n\u001b[32m    302\u001b[39m     \u001b[38;5;66;03m# simulation = db_client.register_entity(\u001b[39;00m\n\u001b[32m    303\u001b[39m     \u001b[38;5;66;03m#     entitysdk.models.Simulation(\u001b[39;00m\n\u001b[32m    304\u001b[39m     \u001b[38;5;66;03m#         name=f\"sim-{self.idx}\",\u001b[39;00m\n\u001b[32m   (...)\u001b[39m\u001b[32m    309\u001b[39m     \u001b[38;5;66;03m#     )\u001b[39;00m\n\u001b[32m    310\u001b[39m     \u001b[38;5;66;03m# )\u001b[39;00m\n",
      "\u001b[36mFile \u001b[39m\u001b[32m~/Documents/obi/code/obi-one/.venv/lib/python3.12/site-packages/pydantic/main.py:991\u001b[39m, in \u001b[36mBaseModel.__getattr__\u001b[39m\u001b[34m(self, item)\u001b[39m\n\u001b[32m    988\u001b[39m     \u001b[38;5;28;01mreturn\u001b[39;00m \u001b[38;5;28msuper\u001b[39m().\u001b[34m__getattribute__\u001b[39m(item)  \u001b[38;5;66;03m# Raises AttributeError if appropriate\u001b[39;00m\n\u001b[32m    989\u001b[39m \u001b[38;5;28;01melse\u001b[39;00m:\n\u001b[32m    990\u001b[39m     \u001b[38;5;66;03m# this is the current error\u001b[39;00m\n\u001b[32m--> \u001b[39m\u001b[32m991\u001b[39m     \u001b[38;5;28;01mraise\u001b[39;00m \u001b[38;5;167;01mAttributeError\u001b[39;00m(\u001b[33mf\u001b[39m\u001b[33m'\u001b[39m\u001b[38;5;132;01m{\u001b[39;00m\u001b[38;5;28mtype\u001b[39m(\u001b[38;5;28mself\u001b[39m).\u001b[34m__name__\u001b[39m\u001b[38;5;132;01m!r}\u001b[39;00m\u001b[33m object has no attribute \u001b[39m\u001b[38;5;132;01m{\u001b[39;00mitem\u001b[38;5;132;01m!r}\u001b[39;00m\u001b[33m'\u001b[39m)\n",
      "\u001b[31mAttributeError\u001b[39m: 'Simulation' object has no attribute 'index'"
     ]
    }
   ],
   "source": [
    "import tempfile\n",
    "import os\n",
    "\n",
    "# Create a temporary directory\n",
    "with tempfile.TemporaryDirectory() as temp_dir:\n",
    "    print(f\"Temporary directory created at: {temp_dir}\")\n",
    "    grid_scan = obi.GridScan(form=validated_sim_conf, coordinate_directory_option=\"ZERO_INDEX\", output_root='../../obi-output/circuit_simulations/grid_scan')\n",
    "    # grid_scan = obi.GridScan(form=validated_sim_conf, coordinate_directory_option=\"ZERO_INDEX\", output_root=temp_dir)\n",
    "    grid_scan.multiple_value_parameters(display=True)\n",
    "    grid_scan.coordinate_parameters(display=True)\n",
    "    # grid_scan.coordinate_instances(display=True)\n",
    "    grid_scan.execute(processing_method='generate', data_postprocessing_method='save', db_client=client)"
   ]
  },
  {
   "cell_type": "code",
   "execution_count": null,
   "id": "d80c4c51",
   "metadata": {},
   "outputs": [],
   "source": []
  }
 ],
 "metadata": {
  "kernelspec": {
   "display_name": "obi-one",
   "language": "python",
   "name": "python3"
  },
  "language_info": {
   "codemirror_mode": {
    "name": "ipython",
    "version": 3
   },
   "file_extension": ".py",
   "mimetype": "text/x-python",
   "name": "python",
   "nbconvert_exporter": "python",
   "pygments_lexer": "ipython3",
   "version": "3.12.9"
  }
 },
 "nbformat": 4,
 "nbformat_minor": 5
}
