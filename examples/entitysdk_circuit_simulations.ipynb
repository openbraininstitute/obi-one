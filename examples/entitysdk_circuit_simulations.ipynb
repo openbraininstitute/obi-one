{
 "cells": [
  {
   "cell_type": "code",
   "execution_count": 1,
   "id": "7cebdc29",
   "metadata": {},
   "outputs": [],
   "source": [
    "import requests\n",
    "from obi_auth import get_token\n",
    "from entitysdk import Client, ProjectContext, models\n",
    "from enum import Enum\n",
    "\n",
    "class DatabaseEnvironment(Enum):\n",
    "    STAGING_DATABASE = \"staging\"\n",
    "    # PRODUCTION_DATABASE = \"production\"\n",
    "    # LOCAL_UNAUTHENTICATED = \"local_unauthenticated\"\n",
    "    # Note: LOCAL_AUTHENTICATED is not supported by entitycore because the project/vlab ids do not exist in your keycloak groups\n",
    "\n",
    "obi_one_api_url = \"http://127.0.0.1:8100\"\n",
    "\n",
    "add_morphology_asset = False\n",
    "\n",
    "database_environment = DatabaseEnvironment.STAGING_DATABASE\n",
    "# database_environment = DatabaseEnvironment.PRODUCTION_DATABASE\n",
    "# database_environment = DatabaseEnvironment.LOCAL_UNAUTHENTICATED\n",
    "\n",
    "if database_environment == DatabaseEnvironment.STAGING_DATABASE:\n",
    "    \"\"\"\n",
    "    - Uncomment in obi-one/.env.run-local before \"make run-local\": \n",
    "        export ENTITYCORE_URL=https://staging.openbraininstitute.org/api/entitycore\n",
    "    \"\"\"\n",
    "    entitycore_api_url = \"https://staging.openbraininstitute.org/api/entitycore\"\n",
    "    virtual_lab_id=\"e6030ed8-a589-4be2-80a6-f975406eb1f6\"\n",
    "    project_id=\"2720f785-a3a2-4472-969d-19a53891c817\"\n",
    "\n",
    "# elif database_environment == DatabaseEnvironment.PRODUCTION_DATABASE:\n",
    "#     \"\"\"\n",
    "#     For future: EntityCore not currently in production.\n",
    "#     - Uncomment in obi-one/.env.run-local before \"make run-local\": \n",
    "#         export ENTITYCORE_URL=https://www.openbraininstitute.org/api/entitycore\n",
    "#     \"\"\"\n",
    "#     entitycore_api_url = \"https://www.openbraininstitute.org/api/entitycore\"\n",
    "\n",
    "elif DatabaseEnvironment.LOCAL_UNAUTHENTICATED:\n",
    "    \"\"\"\n",
    "    Not yet tested.\n",
    "    - Launch entitycore locally (make run-local)\n",
    "    - Add a morphology with a project name (see entitysdk)\n",
    "    \"\"\"\n",
    "    entitycore_api_url = \"http://127.0.0.1:8000\"\n",
    "    add_morphology_asset = True\n",
    "    virtual_lab_id=\"a98b7abc-fc46-4700-9e3d-37137812c730\"\n",
    "    project_id=\"0dbced5f-cc3d-488a-8c7f-cfb8ea039dc6\"\n",
    "    # virtual_lab_id=\"e6030ed8-a589-4be2-80a6-f975406eb1f6\"\n",
    "    # project_id=\"2720f785-a3a2-4472-969d-19a53891c817\"\n",
    "    \n",
    "else:\n",
    "    raise ValueError(f\"Unsupported environment: {database_environment}\")\n",
    "\n",
    "\n",
    "token = get_token(environment=\"staging\")\n",
    "project_context = ProjectContext(virtual_lab_id=virtual_lab_id, project_id=project_id)\n",
    "client = Client(api_url=entitycore_api_url, project_context=project_context, token_manager=token)"
   ]
  },
  {
   "cell_type": "markdown",
   "id": "70f58b60",
   "metadata": {},
   "source": [
    "# Register circuit"
   ]
  },
  {
   "cell_type": "code",
   "execution_count": 2,
   "id": "f98a9dfc",
   "metadata": {},
   "outputs": [],
   "source": [
    "# species = client.search_entity(\n",
    "#     entity_type=models.Species, query={\"name__ilike\": \"Homo sapiens\"}\n",
    "# ).one()\n",
    "\n",
    "# subject = models.Subject(\n",
    "#     name=\"my-subject\", description=\"my-subject-description\", sex=\"male\", species=species\n",
    "# )\n",
    "# subject = client.register_entity(subject)\n",
    "\n",
    "# brain_region = client.search_entity(entity_type=models.BrainRegion, query={\"acronym\": \"CB\"}).first()\n",
    "\n",
    "\n",
    "# circuit = models.Circuit(\n",
    "#     name=\"my-circuit\",\n",
    "#     description=\"my-circuit\",\n",
    "#     subject=subject,\n",
    "#     brain_region=brain_region,\n",
    "#     number_synapses=2,\n",
    "#     number_neurons=5,\n",
    "#     number_connections=10,\n",
    "#     scale=\"microcircuit\",\n",
    "#     build_category=\"em_reconstruction\",\n",
    "# )\n",
    "\n",
    "# circuit = client.register_entity(circuit)\n",
    "\n",
    "# print(circuit)\n",
    "# # 5b2368ce-f632-47a5-9d5d-3c1c4159a232"
   ]
  },
  {
   "cell_type": "markdown",
   "id": "f4bd00a1",
   "metadata": {},
   "source": [
    "# Create SimulationForm using Cirucit"
   ]
  },
  {
   "cell_type": "code",
   "execution_count": 3,
   "id": "8e26f8b0",
   "metadata": {},
   "outputs": [],
   "source": [
    "import obi_one as obi\n",
    "\n",
    "# Sim duration\n",
    "sim_duration = 3000.0\n",
    "\n",
    "# Empty Simulation Configuration\n",
    "sim_conf = obi.SimulationsForm.empty_config()\n",
    "\n",
    "# Info\n",
    "info = obi.Info(name=\"O1 Simulation\", description=\"Simulation of O1 circuit with predefined neuron set and constant current stimulus\")\n",
    "sim_conf.set(info, name=\"info\")\n",
    "\n",
    "# Neuron Sets\n",
    "sim_neuron_set = obi.IDNeuronSet(neuron_ids=obi.NamedTuple(name=\"IDNeuronSet1\", elements=range(10)))\n",
    "sim_conf.add(sim_neuron_set, name='L1All')\n",
    "\n",
    "# Initialization\n",
    "simulations_initialize = obi.SimulationsForm.Initialize(circuit=obi.CircuitFromID(id_str=\"5b2368ce-f632-47a5-9d5d-3c1c4159a232\"), \n",
    "                                                        node_set=sim_neuron_set.ref, \n",
    "                                                        simulation_length=sim_duration)\n",
    "sim_conf.set(simulations_initialize, name='initialize')\n",
    "\n",
    "# Validated Config\n",
    "validated_sim_conf = sim_conf.validated_config()"
   ]
  },
  {
   "cell_type": "markdown",
   "id": "d710be17",
   "metadata": {},
   "source": [
    "# Generate GridScan"
   ]
  },
  {
   "cell_type": "code",
   "execution_count": 4,
   "id": "32853aaf",
   "metadata": {},
   "outputs": [
    {
     "name": "stdout",
     "output_type": "stream",
     "text": [
      "[2025-06-18 12:42:09,598] INFO: \n",
      "MULTIPLE VALUE PARAMETERS\n",
      "[2025-06-18 12:42:09,598] INFO: No multiple value parameters found.\n",
      "[2025-06-18 12:42:09,598] INFO: \n",
      "COORDINATE PARAMETERS\n",
      "[2025-06-18 12:42:09,599] INFO: No coordinate parameters.\n",
      "[2025-06-18 12:42:09,599] INFO: <entitysdk.client.Client object at 0x119da3b30>\n",
      "[2025-06-18 12:42:10,195] INFO: HTTP Request: POST https://staging.openbraininstitute.org/api/entitycore/simulation-campaign \"HTTP/1.1 200 OK\"\n",
      "initialize.circuit is a CircuitFromID instance.\n",
      "Saving simulation to database...\n",
      "[2025-06-18 12:42:11,224] INFO: HTTP Request: POST https://staging.openbraininstitute.org/api/entitycore/simulation \"HTTP/1.1 200 OK\"\n",
      "[2025-06-18 12:42:11,229] INFO: create_bbp_workflow_campaign_config() not yet complete.\n"
     ]
    },
    {
     "ename": "ValidationError",
     "evalue": "1 validation error for SimulationGeneration\ngenerated.0\n  Input should be a valid dictionary or object to extract fields from [type=model_attributes_type, input_value=[Simulation(assets=[], id...ameters={'foo': 'bar'})], input_type=list]\n    For further information visit https://errors.pydantic.dev/2.11/v/model_attributes_type",
     "output_type": "error",
     "traceback": [
      "\u001b[31m---------------------------------------------------------------------------\u001b[39m",
      "\u001b[31mValidationError\u001b[39m                           Traceback (most recent call last)",
      "\u001b[36mCell\u001b[39m\u001b[36m \u001b[39m\u001b[32mIn[4]\u001b[39m\u001b[32m, line 5\u001b[39m\n\u001b[32m      3\u001b[39m grid_scan.coordinate_parameters(display=\u001b[38;5;28;01mTrue\u001b[39;00m)\n\u001b[32m      4\u001b[39m \u001b[38;5;66;03m# grid_scan.coordinate_instances(display=True)\u001b[39;00m\n\u001b[32m----> \u001b[39m\u001b[32m5\u001b[39m \u001b[43mgrid_scan\u001b[49m\u001b[43m.\u001b[49m\u001b[43mexecute\u001b[49m\u001b[43m(\u001b[49m\u001b[43mprocessing_method\u001b[49m\u001b[43m=\u001b[49m\u001b[33;43m'\u001b[39;49m\u001b[33;43mgenerate\u001b[39;49m\u001b[33;43m'\u001b[39;49m\u001b[43m,\u001b[49m\u001b[43m \u001b[49m\u001b[43mdata_postprocessing_method\u001b[49m\u001b[43m=\u001b[49m\u001b[33;43m'\u001b[39;49m\u001b[33;43msave\u001b[39;49m\u001b[33;43m'\u001b[39;49m\u001b[43m,\u001b[49m\u001b[43m \u001b[49m\u001b[43mdb_client\u001b[49m\u001b[43m=\u001b[49m\u001b[43mclient\u001b[49m\u001b[43m)\u001b[49m\n",
      "\u001b[36mFile \u001b[39m\u001b[32m~/Documents/obi/code/obi-one/obi_one/core/scan.py:217\u001b[39m, in \u001b[36mScan.execute\u001b[39m\u001b[34m(self, processing_method, data_postprocessing_method, db_client)\u001b[39m\n\u001b[32m    212\u001b[39m \u001b[38;5;28mself\u001b[39m.create_bbp_workflow_campaign_config(\n\u001b[32m    213\u001b[39m     \u001b[38;5;28mself\u001b[39m.output_root / \u001b[33m\"\u001b[39m\u001b[33mbbp_workflow_campaign_config.json\u001b[39m\u001b[33m\"\u001b[39m\n\u001b[32m    214\u001b[39m )\n\u001b[32m    216\u001b[39m \u001b[38;5;28;01mif\u001b[39;00m data_postprocessing_method:\n\u001b[32m--> \u001b[39m\u001b[32m217\u001b[39m     \u001b[38;5;28;43mgetattr\u001b[39;49m\u001b[43m(\u001b[49m\n\u001b[32m    218\u001b[39m \u001b[43m        \u001b[49m\u001b[38;5;28;43mself\u001b[39;49m\u001b[43m.\u001b[49m\u001b[43mform\u001b[49m\u001b[43m,\u001b[49m\u001b[43m \u001b[49m\u001b[43mdata_postprocessing_method\u001b[49m\n\u001b[32m    219\u001b[39m \u001b[43m    \u001b[49m\u001b[43m)\u001b[49m\u001b[43m(\u001b[49m\u001b[43msingle_entities\u001b[49m\u001b[43m,\u001b[49m\u001b[43m \u001b[49m\u001b[43mdb_client\u001b[49m\u001b[43m)\u001b[49m\n\u001b[32m    221\u001b[39m \u001b[38;5;28;01mreturn\u001b[39;00m return_dict\n",
      "\u001b[36mFile \u001b[39m\u001b[32m~/Documents/obi/code/obi-one/obi_one/scientific/simulation/simulations.py:92\u001b[39m, in \u001b[36mSimulationsForm.save\u001b[39m\u001b[34m(self, simulations, db_client)\u001b[39m\n\u001b[32m     89\u001b[39m \u001b[38;5;28;01mdef\u001b[39;00m\u001b[38;5;250m \u001b[39m\u001b[34msave\u001b[39m(\u001b[38;5;28mself\u001b[39m, simulations, db_client: entitysdk.client.Client) -> \u001b[38;5;28;01mNone\u001b[39;00m:\n\u001b[32m     91\u001b[39m     db_client.register_entity(\n\u001b[32m---> \u001b[39m\u001b[32m92\u001b[39m         \u001b[43mentitysdk\u001b[49m\u001b[43m.\u001b[49m\u001b[43mmodels\u001b[49m\u001b[43m.\u001b[49m\u001b[43mSimulationGeneration\u001b[49m\u001b[43m(\u001b[49m\n\u001b[32m     93\u001b[39m \u001b[43m            \u001b[49m\u001b[43mstart_time\u001b[49m\u001b[43m=\u001b[49m\u001b[43mdatetime\u001b[49m\u001b[43m.\u001b[49m\u001b[43mnow\u001b[49m\u001b[43m(\u001b[49m\u001b[43mUTC\u001b[49m\u001b[43m)\u001b[49m\u001b[43m,\u001b[49m\n\u001b[32m     94\u001b[39m \u001b[43m            \u001b[49m\u001b[43mused\u001b[49m\u001b[43m=\u001b[49m\u001b[43m[\u001b[49m\u001b[38;5;28;43mself\u001b[39;49m\u001b[43m.\u001b[49m\u001b[43m_campaign\u001b[49m\u001b[43m]\u001b[49m\u001b[43m,\u001b[49m\n\u001b[32m     95\u001b[39m \u001b[43m            \u001b[49m\u001b[38;5;66;43;03m# generated=[s.id for s in simulations],\u001b[39;49;00m\n\u001b[32m     96\u001b[39m \u001b[43m            \u001b[49m\u001b[43mgenerated\u001b[49m\u001b[43m=\u001b[49m\u001b[43m[\u001b[49m\u001b[43msimulations\u001b[49m\u001b[43m]\u001b[49m\u001b[43m,\u001b[49m\n\u001b[32m     97\u001b[39m \u001b[43m        \u001b[49m\u001b[43m)\u001b[49m\n\u001b[32m     98\u001b[39m     )\n",
      "\u001b[36mFile \u001b[39m\u001b[32m~/Documents/obi/code/obi-one/.venv/lib/python3.12/site-packages/pydantic/main.py:253\u001b[39m, in \u001b[36mBaseModel.__init__\u001b[39m\u001b[34m(self, **data)\u001b[39m\n\u001b[32m    251\u001b[39m \u001b[38;5;66;03m# `__tracebackhide__` tells pytest and some other tools to omit this function from tracebacks\u001b[39;00m\n\u001b[32m    252\u001b[39m __tracebackhide__ = \u001b[38;5;28;01mTrue\u001b[39;00m\n\u001b[32m--> \u001b[39m\u001b[32m253\u001b[39m validated_self = \u001b[38;5;28;43mself\u001b[39;49m\u001b[43m.\u001b[49m\u001b[43m__pydantic_validator__\u001b[49m\u001b[43m.\u001b[49m\u001b[43mvalidate_python\u001b[49m\u001b[43m(\u001b[49m\u001b[43mdata\u001b[49m\u001b[43m,\u001b[49m\u001b[43m \u001b[49m\u001b[43mself_instance\u001b[49m\u001b[43m=\u001b[49m\u001b[38;5;28;43mself\u001b[39;49m\u001b[43m)\u001b[49m\n\u001b[32m    254\u001b[39m \u001b[38;5;28;01mif\u001b[39;00m \u001b[38;5;28mself\u001b[39m \u001b[38;5;129;01mis\u001b[39;00m \u001b[38;5;129;01mnot\u001b[39;00m validated_self:\n\u001b[32m    255\u001b[39m     warnings.warn(\n\u001b[32m    256\u001b[39m         \u001b[33m'\u001b[39m\u001b[33mA custom validator is returning a value other than `self`.\u001b[39m\u001b[38;5;130;01m\\n\u001b[39;00m\u001b[33m'\u001b[39m\n\u001b[32m    257\u001b[39m         \u001b[33m\"\u001b[39m\u001b[33mReturning anything other than `self` from a top level model validator isn\u001b[39m\u001b[33m'\u001b[39m\u001b[33mt supported when validating via `__init__`.\u001b[39m\u001b[38;5;130;01m\\n\u001b[39;00m\u001b[33m\"\u001b[39m\n\u001b[32m    258\u001b[39m         \u001b[33m'\u001b[39m\u001b[33mSee the `model_validator` docs (https://docs.pydantic.dev/latest/concepts/validators/#model-validators) for more details.\u001b[39m\u001b[33m'\u001b[39m,\n\u001b[32m    259\u001b[39m         stacklevel=\u001b[32m2\u001b[39m,\n\u001b[32m    260\u001b[39m     )\n",
      "\u001b[31mValidationError\u001b[39m: 1 validation error for SimulationGeneration\ngenerated.0\n  Input should be a valid dictionary or object to extract fields from [type=model_attributes_type, input_value=[Simulation(assets=[], id...ameters={'foo': 'bar'})], input_type=list]\n    For further information visit https://errors.pydantic.dev/2.11/v/model_attributes_type"
     ]
    }
   ],
   "source": [
    "grid_scan = obi.GridScan(form=validated_sim_conf, coordinate_directory_option=\"ZERO_INDEX\", output_root='../../obi-output/circuit_simulations/grid_scan')\n",
    "grid_scan.multiple_value_parameters(display=True)\n",
    "grid_scan.coordinate_parameters(display=True)\n",
    "# grid_scan.coordinate_instances(display=True)\n",
    "grid_scan.execute(processing_method='generate', data_postprocessing_method='save', db_client=client)"
   ]
  },
  {
   "cell_type": "markdown",
   "id": "2917710d",
   "metadata": {},
   "source": [
    "# Register SimulationCampaign\n",
    "Notice how the circuit is associated"
   ]
  },
  {
   "cell_type": "code",
   "execution_count": null,
   "id": "adb81a07",
   "metadata": {},
   "outputs": [],
   "source": [
    "# campaign = client.register_entity(\n",
    "#     models.SimulationCampaign(\n",
    "#         name=\"my-campaign\",\n",
    "#         description=\"my-campaign-description\",\n",
    "#         entity_id=circuit.id,\n",
    "#         scan_parameters={\"foo\": \"bar\"},\n",
    "#     )\n",
    "# )\n",
    "\n",
    "# print(campaign)\n",
    "# # a2aac501-1b42-4bf5-a0f5-7826279c0276"
   ]
  },
  {
   "cell_type": "markdown",
   "id": "469da729",
   "metadata": {},
   "source": [
    "# Register 2 Simulations\n",
    "Notice how the circuit and campaign are associated"
   ]
  },
  {
   "cell_type": "code",
   "execution_count": null,
   "id": "8348eac2",
   "metadata": {},
   "outputs": [],
   "source": [
    "# simulations = [\n",
    "#     client.register_entity(\n",
    "#         models.Simulation(\n",
    "#             name=f\"sim-{i}\",\n",
    "#             description=f\"sim-{i}\",\n",
    "#             scan_parameters={\"foo\": \"bar\"},\n",
    "#             entity_id=circuit.id,\n",
    "#             simulation_campaign_id=campaign.id,\n",
    "#         )\n",
    "#     )\n",
    "#     for i in range(2)\n",
    "# ]\n",
    "\n",
    "# print(simulations[0])\n",
    "# # 7fef488a-0fcc-4ca4-980d-1de2bb76eeb\n",
    "\n",
    "# print(simulations[1])\n",
    "# # 51a0a1ba-333a-45ef-9c22-56f538ac8729"
   ]
  },
  {
   "cell_type": "markdown",
   "id": "9cd53509",
   "metadata": {},
   "source": [
    "# Register 2 Simulation Results"
   ]
  },
  {
   "cell_type": "code",
   "execution_count": null,
   "id": "d30e41df",
   "metadata": {},
   "outputs": [],
   "source": [
    "# simulation_results = [\n",
    "#     client.register_entity(models.SimulationResult(name=f\"result-{i}\", description=f\"result-{i}\"))\n",
    "#     for i in range(2)\n",
    "# ]"
   ]
  },
  {
   "cell_type": "code",
   "execution_count": null,
   "id": "06f75cb2",
   "metadata": {},
   "outputs": [],
   "source": []
  }
 ],
 "metadata": {
  "kernelspec": {
   "display_name": "obi-one",
   "language": "python",
   "name": "python3"
  },
  "language_info": {
   "codemirror_mode": {
    "name": "ipython",
    "version": 3
   },
   "file_extension": ".py",
   "mimetype": "text/x-python",
   "name": "python",
   "nbconvert_exporter": "python",
   "pygments_lexer": "ipython3",
   "version": "3.12.9"
  }
 },
 "nbformat": 4,
 "nbformat_minor": 5
}
