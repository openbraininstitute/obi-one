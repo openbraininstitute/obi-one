{
 "cells": [
  {
   "cell_type": "code",
   "execution_count": 1,
   "id": "7cebdc29",
   "metadata": {},
   "outputs": [],
   "source": [
    "import requests\n",
    "from obi_auth import get_token\n",
    "from entitysdk import Client, ProjectContext, models\n",
    "from enum import Enum\n",
    "\n",
    "class DatabaseEnvironment(Enum):\n",
    "    STAGING_DATABASE = \"staging\"\n",
    "    # PRODUCTION_DATABASE = \"production\"\n",
    "    # LOCAL_UNAUTHENTICATED = \"local_unauthenticated\"\n",
    "    # Note: LOCAL_AUTHENTICATED is not supported by entitycore because the project/vlab ids do not exist in your keycloak groups\n",
    "\n",
    "obi_one_api_url = \"http://127.0.0.1:8100\"\n",
    "\n",
    "add_morphology_asset = False\n",
    "\n",
    "database_environment = DatabaseEnvironment.STAGING_DATABASE\n",
    "# database_environment = DatabaseEnvironment.PRODUCTION_DATABASE\n",
    "# database_environment = DatabaseEnvironment.LOCAL_UNAUTHENTICATED\n",
    "\n",
    "if database_environment == DatabaseEnvironment.STAGING_DATABASE:\n",
    "    \"\"\"\n",
    "    - Uncomment in obi-one/.env.run-local before \"make run-local\": \n",
    "        export ENTITYCORE_URL=https://staging.openbraininstitute.org/api/entitycore\n",
    "    \"\"\"\n",
    "    entitycore_api_url = \"https://staging.openbraininstitute.org/api/entitycore\"\n",
    "    virtual_lab_id=\"e6030ed8-a589-4be2-80a6-f975406eb1f6\"\n",
    "    project_id=\"2720f785-a3a2-4472-969d-19a53891c817\"\n",
    "\n",
    "# elif database_environment == DatabaseEnvironment.PRODUCTION_DATABASE:\n",
    "#     \"\"\"\n",
    "#     For future: EntityCore not currently in production.\n",
    "#     - Uncomment in obi-one/.env.run-local before \"make run-local\": \n",
    "#         export ENTITYCORE_URL=https://www.openbraininstitute.org/api/entitycore\n",
    "#     \"\"\"\n",
    "#     entitycore_api_url = \"https://www.openbraininstitute.org/api/entitycore\"\n",
    "\n",
    "elif DatabaseEnvironment.LOCAL_UNAUTHENTICATED:\n",
    "    \"\"\"\n",
    "    Not yet tested.\n",
    "    - Launch entitycore locally (make run-local)\n",
    "    - Add a morphology with a project name (see entitysdk)\n",
    "    \"\"\"\n",
    "    entitycore_api_url = \"http://127.0.0.1:8000\"\n",
    "    add_morphology_asset = True\n",
    "    virtual_lab_id=\"a98b7abc-fc46-4700-9e3d-37137812c730\"\n",
    "    project_id=\"0dbced5f-cc3d-488a-8c7f-cfb8ea039dc6\"\n",
    "    # virtual_lab_id=\"e6030ed8-a589-4be2-80a6-f975406eb1f6\"\n",
    "    # project_id=\"2720f785-a3a2-4472-969d-19a53891c817\"\n",
    "    \n",
    "else:\n",
    "    raise ValueError(f\"Unsupported environment: {database_environment}\")\n",
    "\n",
    "\n",
    "token = get_token(environment=\"staging\")\n",
    "project_context = ProjectContext(virtual_lab_id=virtual_lab_id, project_id=project_id)\n",
    "client = Client(api_url=entitycore_api_url, project_context=project_context, token_manager=token)"
   ]
  },
  {
   "cell_type": "code",
   "execution_count": 2,
   "id": "88b83a67",
   "metadata": {},
   "outputs": [
    {
     "data": {
      "text/plain": [
       "Circuit(assets=[Asset(id=UUID('87df605e-0bd7-401a-a917-f5eb2380ff49'), update_date=None, creation_date=None, path='circuit', full_path='public/1f91f30e-1489-4e2a-8eb7-1217257c8e19/7a411785-6895-4839-aaa2-d9f76e09875a/assets/circuit/662dce5c-306d-4737-acd6-a3af985aad7f/circuit', is_directory=True, content_type='application/vnd.directory', size=-1, sha256_digest=None, status='created', meta={}, label=None)], id=UUID('662dce5c-306d-4737-acd6-a3af985aad7f'), update_date=datetime.datetime(2025, 6, 23, 12, 35, 7, 820955, tzinfo=TzInfo(UTC)), creation_date=datetime.datetime(2025, 6, 23, 12, 35, 7, 820955, tzinfo=TzInfo(UTC)), name='nbS1-O1-vSub-nCN-HEX0-L1-01', description='A volumetric subcircuit (vSub) extracted from the nbS1-O1 circuit, around a neuron with high centrality in the network’s connectivity graph, located in layer 1 of subcolumn HEX0. The subcircuit consists of the central neuron and its nine nearest neighbors, capturing the local connectivity within the parent circuit. The suffix “01” denotes the first instance of such a subnetwork.', type='circuit', created_by=Person(id=UUID('281c8cba-89fe-455d-9901-15b7d558fd72'), update_date=None, creation_date=None, type='person', pref_label='Christoph Pokorny', given_name='Christoph', family_name='Pokorny'), updated_by=Person(id=UUID('281c8cba-89fe-455d-9901-15b7d558fd72'), update_date=None, creation_date=None, type='person', pref_label='Christoph Pokorny', given_name='Christoph', family_name='Pokorny'), authorized_public=True, authorized_project_id=UUID('7a411785-6895-4839-aaa2-d9f76e09875a'), contributions=None, legacy_id=None, experiment_date=None, contact_id=None, atlas_id=None, subject=Subject(assets=[], id=UUID('83cba0ca-0e5e-4efc-9cba-965ae358e99a'), update_date=None, creation_date=None, name='Average rat P14', description='Abstract representation of a P14 rat model built from average statistical metrics across individual rats', type=None, created_by=None, updated_by=None, authorized_public=False, authorized_project_id=None, contributions=None, legacy_id=None, sex='unknown', weight=None, age_value=datetime.timedelta(days=14), age_min=None, age_max=None, age_period='postnatal', species=Species(id=UUID('803d002f-155e-4b43-b73a-b14648afad6b'), update_date=None, creation_date=None, name='Rattus norvegicus', taxonomy_id='NCBITaxon:10116')), brain_region=BrainRegion(id=UUID('61d89b07-dfa0-439a-9187-7ebfe60e212b'), update_date=datetime.datetime(2025, 6, 20, 9, 21, 0, 697718, tzinfo=TzInfo(UTC)), creation_date=datetime.datetime(2025, 6, 20, 9, 21, 0, 697718, tzinfo=TzInfo(UTC)), name='Primary somatosensory area', annotation_value=322, acronym='SSp', parent_structure_id=UUID('9680c40f-ccfe-4804-851f-1024ff0d6409'), hierarchy_id=UUID('e3e70682-c209-4cac-a29f-6fbed82c07cd'), color_hex_triplet='188064'), license=None, has_morphologies=True, has_point_neurons=False, has_electrical_cell_models=True, has_spines=False, number_neurons=10, number_synapses=234, number_connections=11, scale=<CircuitScale.small: 'small'>, build_category=<CircuitBuildCategory.computational_model: 'computational_model'>, root_circuit_id=None)"
      ]
     },
     "execution_count": 2,
     "metadata": {},
     "output_type": "execute_result"
    }
   ],
   "source": [
    "from entitysdk.models import Circuit\n",
    "client.get_entity(entity_id=\"662dce5c-306d-4737-acd6-a3af985aad7f\", entity_type=Circuit)"
   ]
  },
  {
   "cell_type": "markdown",
   "id": "f4bd00a1",
   "metadata": {},
   "source": [
    "# Create SimulationForm using Cirucit"
   ]
  },
  {
   "cell_type": "code",
   "execution_count": 3,
   "id": "8e26f8b0",
   "metadata": {},
   "outputs": [
    {
     "name": "stderr",
     "output_type": "stream",
     "text": [
      "/Users/james/Documents/obi/code/obi-one/obi_one/scientific/basic_connectivity_plots/helpers.py:20: UserWarning: Connectome functionalities not available\n",
      "  warnings.warn(\"Connectome functionalities not available\", UserWarning, stacklevel=1)\n",
      "/Users/james/Documents/obi/code/obi-one/obi_one/scientific/basic_connectivity_plots/basic_connectivity_plots.py:31: UserWarning: Connectome functionalities not available\n",
      "  warnings.warn(\"Connectome functionalities not available\", UserWarning, stacklevel=1)\n"
     ]
    }
   ],
   "source": [
    "import obi_one as obi\n",
    "\n",
    "# Sim duration\n",
    "sim_duration = 3000.0\n",
    "\n",
    "# Empty Simulation Configuration\n",
    "sim_conf = obi.SimulationsForm.empty_config()\n",
    "\n",
    "# Info\n",
    "info = obi.Info(name=\"O1 Simulation\", description=\"Simulation of O1 circuit with predefined neuron set and constant current stimulus\")\n",
    "sim_conf.set(info, name=\"info\")\n",
    "\n",
    "# Neuron Sets\n",
    "sim_neuron_set = obi.IDNeuronSet(neuron_ids=obi.NamedTuple(name=\"IDNeuronSet1\", elements=range(10)))\n",
    "sim_conf.add(sim_neuron_set, name='L1All')\n",
    "\n",
    "# Regular Timesteps\n",
    "regular_timestamps = obi.RegularTimestamps(start_time=0.0, number_of_repetitions=3, interval=sim_duration)\n",
    "sim_conf.add(regular_timestamps, name='RegularTimestamps')\n",
    "\n",
    "# Stimulus\n",
    "poisson_input = obi.PoissonSpikeStimulus(timestamps=regular_timestamps.ref, stim_duration=800, frequency=20, neuron_set=sim_neuron_set.ref)\n",
    "sim_conf.add(poisson_input, name='PoissonInputStimulus')\n",
    "\n",
    "# Recordings\n",
    "voltage_recording = obi.SomaVoltageRecording(neuron_set=sim_neuron_set.ref, start_time=0.0, end_time=sim_duration)\n",
    "sim_conf.add(voltage_recording, name='VoltageRecording')\n",
    "\n",
    "# Initialization\n",
    "simulations_initialize = obi.SimulationsForm.Initialize(circuit=obi.CircuitFromID(id_str=\"662dce5c-306d-4737-acd6-a3af985aad7f\"), \n",
    "                                                        node_set=sim_neuron_set.ref, \n",
    "                                                        simulation_length=sim_duration)\n",
    "sim_conf.set(simulations_initialize, name='initialize')\n",
    "\n",
    "# Validated Config\n",
    "validated_sim_conf = sim_conf.validated_config()"
   ]
  },
  {
   "cell_type": "markdown",
   "id": "d710be17",
   "metadata": {},
   "source": [
    "# Generate GridScan"
   ]
  },
  {
   "cell_type": "code",
   "execution_count": 4,
   "id": "32853aaf",
   "metadata": {},
   "outputs": [
    {
     "name": "stdout",
     "output_type": "stream",
     "text": [
      "Temporary directory created at: /var/folders/pp/r2gyck8j4n9dfb_x9vjslq740000gn/T/tmpwdadxy77\n",
      "initialize.circuit is a CircuitFromID instance.\n"
     ]
    },
    {
     "ename": "EntitySDKError",
     "evalue": "HTTP error 403 for POST https://staging.openbraininstitute.org/api/entitycore/simulation/13005206-8e16-441b-a0c2-3ada96b24f2a/assets\njson       : null\nparams     : {'label': 'simulation_generation_config'}\nresponse   : <html>\r\n<head><title>403 Forbidden</title></head>\r\n<body>\r\n<center><h1>403 Forbidden</h1></center>\r\n</body>\r\n</html>\r\n",
     "output_type": "error",
     "traceback": [
      "\u001b[31m---------------------------------------------------------------------------\u001b[39m",
      "\u001b[31mHTTPStatusError\u001b[39m                           Traceback (most recent call last)",
      "\u001b[36mFile \u001b[39m\u001b[32m~/Documents/obi/code/obi-one/.venv/lib/python3.12/site-packages/entitysdk/util.py:52\u001b[39m, in \u001b[36mmake_db_api_request\u001b[39m\u001b[34m(url, method, json, parameters, files, project_context, token, http_client)\u001b[39m\n\u001b[32m     51\u001b[39m \u001b[38;5;28;01mtry\u001b[39;00m:\n\u001b[32m---> \u001b[39m\u001b[32m52\u001b[39m     \u001b[43mresponse\u001b[49m\u001b[43m.\u001b[49m\u001b[43mraise_for_status\u001b[49m\u001b[43m(\u001b[49m\u001b[43m)\u001b[49m\n\u001b[32m     53\u001b[39m \u001b[38;5;28;01mexcept\u001b[39;00m httpx.HTTPStatusError \u001b[38;5;28;01mas\u001b[39;00m e:\n",
      "\u001b[36mFile \u001b[39m\u001b[32m~/Documents/obi/code/obi-one/.venv/lib/python3.12/site-packages/httpx/_models.py:829\u001b[39m, in \u001b[36mResponse.raise_for_status\u001b[39m\u001b[34m(self)\u001b[39m\n\u001b[32m    828\u001b[39m message = message.format(\u001b[38;5;28mself\u001b[39m, error_type=error_type)\n\u001b[32m--> \u001b[39m\u001b[32m829\u001b[39m \u001b[38;5;28;01mraise\u001b[39;00m HTTPStatusError(message, request=request, response=\u001b[38;5;28mself\u001b[39m)\n",
      "\u001b[31mHTTPStatusError\u001b[39m: Client error '403 Forbidden' for url 'https://staging.openbraininstitute.org/api/entitycore/simulation/13005206-8e16-441b-a0c2-3ada96b24f2a/assets?label=simulation_generation_config'\nFor more information check: https://developer.mozilla.org/en-US/docs/Web/HTTP/Status/403",
      "\nThe above exception was the direct cause of the following exception:\n",
      "\u001b[31mEntitySDKError\u001b[39m                            Traceback (most recent call last)",
      "\u001b[36mCell\u001b[39m\u001b[36m \u001b[39m\u001b[32mIn[4]\u001b[39m\u001b[32m, line 12\u001b[39m\n\u001b[32m     10\u001b[39m grid_scan.coordinate_parameters(display=\u001b[38;5;28;01mTrue\u001b[39;00m)\n\u001b[32m     11\u001b[39m \u001b[38;5;66;03m# grid_scan.coordinate_instances(display=True)\u001b[39;00m\n\u001b[32m---> \u001b[39m\u001b[32m12\u001b[39m \u001b[43mgrid_scan\u001b[49m\u001b[43m.\u001b[49m\u001b[43mexecute\u001b[49m\u001b[43m(\u001b[49m\u001b[43mprocessing_method\u001b[49m\u001b[43m=\u001b[49m\u001b[33;43m'\u001b[39;49m\u001b[33;43mgenerate\u001b[39;49m\u001b[33;43m'\u001b[39;49m\u001b[43m,\u001b[49m\u001b[43m \u001b[49m\u001b[43mdata_postprocessing_method\u001b[49m\u001b[43m=\u001b[49m\u001b[33;43m'\u001b[39;49m\u001b[33;43msave\u001b[39;49m\u001b[33;43m'\u001b[39;49m\u001b[43m,\u001b[49m\u001b[43m \u001b[49m\u001b[43mdb_client\u001b[49m\u001b[43m=\u001b[49m\u001b[43mclient\u001b[49m\u001b[43m)\u001b[49m\n",
      "\u001b[36mFile \u001b[39m\u001b[32m~/Documents/obi/code/obi-one/obi_one/core/scan.py:203\u001b[39m, in \u001b[36mScan.execute\u001b[39m\u001b[34m(self, processing_method, data_postprocessing_method, db_client)\u001b[39m\n\u001b[32m    201\u001b[39m     \u001b[38;5;66;03m# If a data_postprocessing_method is specified, call it\u001b[39;00m\n\u001b[32m    202\u001b[39m     \u001b[38;5;28;01mif\u001b[39;00m data_postprocessing_method:\n\u001b[32m--> \u001b[39m\u001b[32m203\u001b[39m         single_entity = return_dict[coordinate_instance.idx] = \u001b[38;5;28;43mgetattr\u001b[39;49m\u001b[43m(\u001b[49m\n\u001b[32m    204\u001b[39m \u001b[43m            \u001b[49m\u001b[43mcoordinate_instance\u001b[49m\u001b[43m,\u001b[49m\u001b[43m \u001b[49m\u001b[43mdata_postprocessing_method\u001b[49m\n\u001b[32m    205\u001b[39m \u001b[43m        \u001b[49m\u001b[43m)\u001b[49m\u001b[43m(\u001b[49m\u001b[43mcampaign\u001b[49m\u001b[43m,\u001b[49m\u001b[43m \u001b[49m\u001b[43mdb_client\u001b[49m\u001b[43m)\u001b[49m\n\u001b[32m    206\u001b[39m         single_entities.append(single_entity)\n\u001b[32m    210\u001b[39m \u001b[38;5;28;01melse\u001b[39;00m:\n\u001b[32m    211\u001b[39m     \u001b[38;5;66;03m# Raise an error if run() not implemented for the coordinate instance\u001b[39;00m\n",
      "\u001b[36mFile \u001b[39m\u001b[32m~/Documents/obi/code/obi-one/obi_one/scientific/simulation/simulations.py:326\u001b[39m, in \u001b[36mSimulation.save\u001b[39m\u001b[34m(self, campaign, db_client)\u001b[39m\n\u001b[32m    314\u001b[39m simulation = db_client.register_entity(\n\u001b[32m    315\u001b[39m     entitysdk.models.Simulation(\n\u001b[32m    316\u001b[39m         name=\u001b[33mf\u001b[39m\u001b[33m\"\u001b[39m\u001b[33msim-\u001b[39m\u001b[38;5;132;01m{\u001b[39;00m\u001b[38;5;28mself\u001b[39m.idx\u001b[38;5;132;01m}\u001b[39;00m\u001b[33m\"\u001b[39m,\n\u001b[32m   (...)\u001b[39m\u001b[32m    322\u001b[39m     )\n\u001b[32m    323\u001b[39m )\n\u001b[32m    325\u001b[39m L.info(\u001b[33mf\u001b[39m\u001b[33m\"\u001b[39m\u001b[33m-- Upload simulation_generation_config\u001b[39m\u001b[33m\"\u001b[39m)\n\u001b[32m--> \u001b[39m\u001b[32m326\u001b[39m _ = \u001b[43mdb_client\u001b[49m\u001b[43m.\u001b[49m\u001b[43mupload_file\u001b[49m\u001b[43m(\u001b[49m\n\u001b[32m    327\u001b[39m \u001b[43m    \u001b[49m\u001b[43mentity_id\u001b[49m\u001b[43m=\u001b[49m\u001b[43msimulation\u001b[49m\u001b[43m.\u001b[49m\u001b[43mid\u001b[49m\u001b[43m,\u001b[49m\n\u001b[32m    328\u001b[39m \u001b[43m    \u001b[49m\u001b[43mentity_type\u001b[49m\u001b[43m=\u001b[49m\u001b[43mentitysdk\u001b[49m\u001b[43m.\u001b[49m\u001b[43mmodels\u001b[49m\u001b[43m.\u001b[49m\u001b[43mSimulation\u001b[49m\u001b[43m,\u001b[49m\n\u001b[32m    329\u001b[39m \u001b[43m    \u001b[49m\u001b[43mfile_path\u001b[49m\u001b[43m=\u001b[49m\u001b[43mPath\u001b[49m\u001b[43m(\u001b[49m\u001b[38;5;28;43mself\u001b[39;49m\u001b[43m.\u001b[49m\u001b[43mcoordinate_output_root\u001b[49m\u001b[43m,\u001b[49m\u001b[43m \u001b[49m\u001b[33;43m\"\u001b[39;49m\u001b[33;43mrun_coordinate_instance.json\u001b[39;49m\u001b[33;43m\"\u001b[39;49m\u001b[43m)\u001b[49m\u001b[43m,\u001b[49m\n\u001b[32m    330\u001b[39m \u001b[43m    \u001b[49m\u001b[43mfile_content_type\u001b[49m\u001b[43m=\u001b[49m\u001b[33;43m\"\u001b[39;49m\u001b[33;43mapplication/json\u001b[39;49m\u001b[33;43m\"\u001b[39;49m\u001b[43m,\u001b[49m\n\u001b[32m    331\u001b[39m \u001b[43m    \u001b[49m\u001b[43masset_label\u001b[49m\u001b[43m=\u001b[49m\u001b[33;43m'\u001b[39;49m\u001b[33;43msimulation_generation_config\u001b[39;49m\u001b[33;43m'\u001b[39;49m\n\u001b[32m    332\u001b[39m \u001b[43m\u001b[49m\u001b[43m)\u001b[49m\n\u001b[32m    334\u001b[39m \u001b[38;5;66;03m# L.info(f\"-- Upload sonata_simulation_config\")\u001b[39;00m\n\u001b[32m    335\u001b[39m \u001b[38;5;66;03m# _ = db_client.upload_file(\u001b[39;00m\n\u001b[32m    336\u001b[39m \u001b[38;5;66;03m#     entity_id=simulation.id,\u001b[39;00m\n\u001b[32m   (...)\u001b[39m\u001b[32m    359\u001b[39m \u001b[38;5;66;03m#                 file_content_type=\"application/h5\",\u001b[39;00m\n\u001b[32m    360\u001b[39m \u001b[38;5;66;03m#             )\u001b[39;00m\n\u001b[32m    362\u001b[39m \u001b[38;5;28;01mreturn\u001b[39;00m simulation\n",
      "\u001b[36mFile \u001b[39m\u001b[32m~/Documents/obi/code/obi-one/.venv/lib/python3.12/site-packages/entitysdk/client.py:235\u001b[39m, in \u001b[36mClient.upload_file\u001b[39m\u001b[34m(self, entity_id, entity_type, file_path, file_content_type, file_name, file_metadata, asset_label, project_context)\u001b[39m\n\u001b[32m    228\u001b[39m context = \u001b[38;5;28mself\u001b[39m._required_user_context(override_context=project_context)\n\u001b[32m    229\u001b[39m asset_metadata = LocalAssetMetadata(\n\u001b[32m    230\u001b[39m     file_name=file_name \u001b[38;5;129;01mor\u001b[39;00m path.name,\n\u001b[32m    231\u001b[39m     content_type=file_content_type,\n\u001b[32m    232\u001b[39m     metadata=file_metadata,\n\u001b[32m    233\u001b[39m     label=asset_label,\n\u001b[32m    234\u001b[39m )\n\u001b[32m--> \u001b[39m\u001b[32m235\u001b[39m \u001b[38;5;28;01mreturn\u001b[39;00m \u001b[43mcore\u001b[49m\u001b[43m.\u001b[49m\u001b[43mupload_asset_file\u001b[49m\u001b[43m(\u001b[49m\n\u001b[32m    236\u001b[39m \u001b[43m    \u001b[49m\u001b[43murl\u001b[49m\u001b[43m=\u001b[49m\u001b[43murl\u001b[49m\u001b[43m,\u001b[49m\n\u001b[32m    237\u001b[39m \u001b[43m    \u001b[49m\u001b[43masset_path\u001b[49m\u001b[43m=\u001b[49m\u001b[43mpath\u001b[49m\u001b[43m,\u001b[49m\n\u001b[32m    238\u001b[39m \u001b[43m    \u001b[49m\u001b[43mproject_context\u001b[49m\u001b[43m=\u001b[49m\u001b[43mcontext\u001b[49m\u001b[43m,\u001b[49m\n\u001b[32m    239\u001b[39m \u001b[43m    \u001b[49m\u001b[43masset_metadata\u001b[49m\u001b[43m=\u001b[49m\u001b[43masset_metadata\u001b[49m\u001b[43m,\u001b[49m\n\u001b[32m    240\u001b[39m \u001b[43m    \u001b[49m\u001b[43mhttp_client\u001b[49m\u001b[43m=\u001b[49m\u001b[38;5;28;43mself\u001b[39;49m\u001b[43m.\u001b[49m\u001b[43m_http_client\u001b[49m\u001b[43m,\u001b[49m\n\u001b[32m    241\u001b[39m \u001b[43m    \u001b[49m\u001b[43mtoken\u001b[49m\u001b[43m=\u001b[49m\u001b[38;5;28;43mself\u001b[39;49m\u001b[43m.\u001b[49m\u001b[43m_token_manager\u001b[49m\u001b[43m.\u001b[49m\u001b[43mget_token\u001b[49m\u001b[43m(\u001b[49m\u001b[43m)\u001b[49m\u001b[43m,\u001b[49m\n\u001b[32m    242\u001b[39m \u001b[43m\u001b[49m\u001b[43m)\u001b[49m\n",
      "\u001b[36mFile \u001b[39m\u001b[32m~/Documents/obi/code/obi-one/.venv/lib/python3.12/site-packages/entitysdk/core.py:142\u001b[39m, in \u001b[36mupload_asset_file\u001b[39m\u001b[34m(url, asset_path, asset_metadata, project_context, token, http_client)\u001b[39m\n\u001b[32m    140\u001b[39m \u001b[38;5;250m\u001b[39m\u001b[33;03m\"\"\"Upload asset to an existing entity's endpoint from a file path.\"\"\"\u001b[39;00m\n\u001b[32m    141\u001b[39m \u001b[38;5;28;01mwith\u001b[39;00m \u001b[38;5;28mopen\u001b[39m(asset_path, \u001b[33m\"\u001b[39m\u001b[33mrb\u001b[39m\u001b[33m\"\u001b[39m) \u001b[38;5;28;01mas\u001b[39;00m file_content:\n\u001b[32m--> \u001b[39m\u001b[32m142\u001b[39m     \u001b[38;5;28;01mreturn\u001b[39;00m \u001b[43mupload_asset_content\u001b[49m\u001b[43m(\u001b[49m\n\u001b[32m    143\u001b[39m \u001b[43m        \u001b[49m\u001b[43murl\u001b[49m\u001b[43m=\u001b[49m\u001b[43murl\u001b[49m\u001b[43m,\u001b[49m\n\u001b[32m    144\u001b[39m \u001b[43m        \u001b[49m\u001b[43masset_content\u001b[49m\u001b[43m=\u001b[49m\u001b[43mfile_content\u001b[49m\u001b[43m,\u001b[49m\n\u001b[32m    145\u001b[39m \u001b[43m        \u001b[49m\u001b[43masset_metadata\u001b[49m\u001b[43m=\u001b[49m\u001b[43masset_metadata\u001b[49m\u001b[43m,\u001b[49m\n\u001b[32m    146\u001b[39m \u001b[43m        \u001b[49m\u001b[43mproject_context\u001b[49m\u001b[43m=\u001b[49m\u001b[43mproject_context\u001b[49m\u001b[43m,\u001b[49m\n\u001b[32m    147\u001b[39m \u001b[43m        \u001b[49m\u001b[43mtoken\u001b[49m\u001b[43m=\u001b[49m\u001b[43mtoken\u001b[49m\u001b[43m,\u001b[49m\n\u001b[32m    148\u001b[39m \u001b[43m        \u001b[49m\u001b[43mhttp_client\u001b[49m\u001b[43m=\u001b[49m\u001b[43mhttp_client\u001b[49m\u001b[43m,\u001b[49m\n\u001b[32m    149\u001b[39m \u001b[43m    \u001b[49m\u001b[43m)\u001b[49m\n",
      "\u001b[36mFile \u001b[39m\u001b[32m~/Documents/obi/code/obi-one/.venv/lib/python3.12/site-packages/entitysdk/core.py:169\u001b[39m, in \u001b[36mupload_asset_content\u001b[39m\u001b[34m(url, asset_content, asset_metadata, project_context, token, http_client)\u001b[39m\n\u001b[32m    161\u001b[39m \u001b[38;5;250m\u001b[39m\u001b[33;03m\"\"\"Upload asset to an existing entity's endpoint from a file-like object.\"\"\"\u001b[39;00m\n\u001b[32m    162\u001b[39m files = {\n\u001b[32m    163\u001b[39m     \u001b[33m\"\u001b[39m\u001b[33mfile\u001b[39m\u001b[33m\"\u001b[39m: (\n\u001b[32m    164\u001b[39m         asset_metadata.file_name,\n\u001b[32m   (...)\u001b[39m\u001b[32m    167\u001b[39m     )\n\u001b[32m    168\u001b[39m }\n\u001b[32m--> \u001b[39m\u001b[32m169\u001b[39m response = \u001b[43mmake_db_api_request\u001b[49m\u001b[43m(\u001b[49m\n\u001b[32m    170\u001b[39m \u001b[43m    \u001b[49m\u001b[43murl\u001b[49m\u001b[43m=\u001b[49m\u001b[43murl\u001b[49m\u001b[43m,\u001b[49m\n\u001b[32m    171\u001b[39m \u001b[43m    \u001b[49m\u001b[43mmethod\u001b[49m\u001b[43m=\u001b[49m\u001b[33;43m\"\u001b[39;49m\u001b[33;43mPOST\u001b[39;49m\u001b[33;43m\"\u001b[39;49m\u001b[43m,\u001b[49m\n\u001b[32m    172\u001b[39m \u001b[43m    \u001b[49m\u001b[43mfiles\u001b[49m\u001b[43m=\u001b[49m\u001b[43mfiles\u001b[49m\u001b[43m,\u001b[49m\n\u001b[32m    173\u001b[39m \u001b[43m    \u001b[49m\u001b[43mparameters\u001b[49m\u001b[43m=\u001b[49m\u001b[43m{\u001b[49m\u001b[33;43m\"\u001b[39;49m\u001b[33;43mlabel\u001b[39;49m\u001b[33;43m\"\u001b[39;49m\u001b[43m:\u001b[49m\u001b[43m \u001b[49m\u001b[43masset_metadata\u001b[49m\u001b[43m.\u001b[49m\u001b[43mlabel\u001b[49m\u001b[43m}\u001b[49m\u001b[43m \u001b[49m\u001b[38;5;28;43;01mif\u001b[39;49;00m\u001b[43m \u001b[49m\u001b[43masset_metadata\u001b[49m\u001b[43m.\u001b[49m\u001b[43mlabel\u001b[49m\u001b[43m \u001b[49m\u001b[38;5;28;43;01melse\u001b[39;49;00m\u001b[43m \u001b[49m\u001b[38;5;28;43;01mNone\u001b[39;49;00m\u001b[43m,\u001b[49m\n\u001b[32m    174\u001b[39m \u001b[43m    \u001b[49m\u001b[43mproject_context\u001b[49m\u001b[43m=\u001b[49m\u001b[43mproject_context\u001b[49m\u001b[43m,\u001b[49m\n\u001b[32m    175\u001b[39m \u001b[43m    \u001b[49m\u001b[43mtoken\u001b[49m\u001b[43m=\u001b[49m\u001b[43mtoken\u001b[49m\u001b[43m,\u001b[49m\n\u001b[32m    176\u001b[39m \u001b[43m    \u001b[49m\u001b[43mhttp_client\u001b[49m\u001b[43m=\u001b[49m\u001b[43mhttp_client\u001b[49m\u001b[43m,\u001b[49m\n\u001b[32m    177\u001b[39m \u001b[43m\u001b[49m\u001b[43m)\u001b[49m\n\u001b[32m    178\u001b[39m \u001b[38;5;28;01mreturn\u001b[39;00m serdes.deserialize_model(response.json(), Asset)\n",
      "\u001b[36mFile \u001b[39m\u001b[32m~/Documents/obi/code/obi-one/.venv/lib/python3.12/site-packages/entitysdk/util.py:60\u001b[39m, in \u001b[36mmake_db_api_request\u001b[39m\u001b[34m(url, method, json, parameters, files, project_context, token, http_client)\u001b[39m\n\u001b[32m     53\u001b[39m \u001b[38;5;28;01mexcept\u001b[39;00m httpx.HTTPStatusError \u001b[38;5;28;01mas\u001b[39;00m e:\n\u001b[32m     54\u001b[39m     message = (\n\u001b[32m     55\u001b[39m         \u001b[33mf\u001b[39m\u001b[33m\"\u001b[39m\u001b[33mHTTP error \u001b[39m\u001b[38;5;132;01m{\u001b[39;00mresponse.status_code\u001b[38;5;132;01m}\u001b[39;00m\u001b[33m for \u001b[39m\u001b[38;5;132;01m{\u001b[39;00mmethod\u001b[38;5;132;01m}\u001b[39;00m\u001b[33m \u001b[39m\u001b[38;5;132;01m{\u001b[39;00murl\u001b[38;5;132;01m}\u001b[39;00m\u001b[38;5;130;01m\\n\u001b[39;00m\u001b[33m\"\u001b[39m\n\u001b[32m     56\u001b[39m         \u001b[33mf\u001b[39m\u001b[33m\"\u001b[39m\u001b[33mjson       : \u001b[39m\u001b[38;5;132;01m{\u001b[39;00mdumps(json,\u001b[38;5;250m \u001b[39mindent=\u001b[32m2\u001b[39m)\u001b[38;5;132;01m}\u001b[39;00m\u001b[38;5;130;01m\\n\u001b[39;00m\u001b[33m\"\u001b[39m\n\u001b[32m     57\u001b[39m         \u001b[33mf\u001b[39m\u001b[33m\"\u001b[39m\u001b[33mparams     : \u001b[39m\u001b[38;5;132;01m{\u001b[39;00mparameters\u001b[38;5;132;01m}\u001b[39;00m\u001b[38;5;130;01m\\n\u001b[39;00m\u001b[33m\"\u001b[39m\n\u001b[32m     58\u001b[39m         \u001b[33mf\u001b[39m\u001b[33m\"\u001b[39m\u001b[33mresponse   : \u001b[39m\u001b[38;5;132;01m{\u001b[39;00mresponse.text\u001b[38;5;132;01m}\u001b[39;00m\u001b[33m\"\u001b[39m\n\u001b[32m     59\u001b[39m     )\n\u001b[32m---> \u001b[39m\u001b[32m60\u001b[39m     \u001b[38;5;28;01mraise\u001b[39;00m EntitySDKError(message) \u001b[38;5;28;01mfrom\u001b[39;00m\u001b[38;5;250m \u001b[39m\u001b[34;01me\u001b[39;00m\n\u001b[32m     61\u001b[39m \u001b[38;5;28;01mreturn\u001b[39;00m response\n",
      "\u001b[31mEntitySDKError\u001b[39m: HTTP error 403 for POST https://staging.openbraininstitute.org/api/entitycore/simulation/13005206-8e16-441b-a0c2-3ada96b24f2a/assets\njson       : null\nparams     : {'label': 'simulation_generation_config'}\nresponse   : <html>\r\n<head><title>403 Forbidden</title></head>\r\n<body>\r\n<center><h1>403 Forbidden</h1></center>\r\n</body>\r\n</html>\r\n"
     ]
    }
   ],
   "source": [
    "import tempfile\n",
    "import os\n",
    "\n",
    "# Create a temporary directory\n",
    "with tempfile.TemporaryDirectory() as temp_dir:\n",
    "    print(f\"Temporary directory created at: {temp_dir}\")\n",
    "    grid_scan = obi.GridScan(form=validated_sim_conf, coordinate_directory_option=\"ZERO_INDEX\", output_root='../../obi-output/circuit_simulations/grid_scan')\n",
    "    # grid_scan = obi.GridScan(form=validated_sim_conf, coordinate_directory_option=\"ZERO_INDEX\", output_root=temp_dir)\n",
    "    grid_scan.multiple_value_parameters(display=True)\n",
    "    grid_scan.coordinate_parameters(display=True)\n",
    "    # grid_scan.coordinate_instances(display=True)\n",
    "    grid_scan.execute(processing_method='generate', data_postprocessing_method='save', db_client=client)"
   ]
  },
  {
   "cell_type": "code",
   "execution_count": null,
   "id": "d80c4c51",
   "metadata": {},
   "outputs": [],
   "source": []
  }
 ],
 "metadata": {
  "kernelspec": {
   "display_name": ".venv",
   "language": "python",
   "name": "python3"
  },
  "language_info": {
   "codemirror_mode": {
    "name": "ipython",
    "version": 3
   },
   "file_extension": ".py",
   "mimetype": "text/x-python",
   "name": "python",
   "nbconvert_exporter": "python",
   "pygments_lexer": "ipython3",
   "version": "3.12.9"
  }
 },
 "nbformat": 4,
 "nbformat_minor": 5
}
