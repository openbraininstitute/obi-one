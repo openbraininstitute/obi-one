{
 "cells": [
  {
   "cell_type": "markdown",
   "id": "77b0147b",
   "metadata": {},
   "source": [
    "# Select database (i.e. staging, production, local authenticated, local unauthenticated)"
   ]
  },
  {
   "cell_type": "code",
   "execution_count": null,
   "id": "8b41bab3",
   "metadata": {},
   "outputs": [],
   "source": [
    "import requests\n",
    "from obi_auth import get_token\n",
    "from entitysdk import Client, ProjectContext, models\n",
    "from enum import Enum\n",
    "\n",
    "class DatabaseEnvironment(Enum):\n",
    "    STAGING_DATABASE = \"staging\"\n",
    "    # PRODUCTION_DATABASE = \"production\"\n",
    "    # LOCAL_UNAUTHENTICATED = \"local_unauthenticated\"\n",
    "    # Note: LOCAL_AUTHENTICATED is not supported by entitycore because the project/vlab ids do not exist in your keycloak groups\n",
    "\n",
    "obi_one_api_url = \"http://127.0.0.1:8100\"\n",
    "\n",
    "add_morphology_asset = False\n",
    "\n",
    "database_environment = DatabaseEnvironment.STAGING_DATABASE\n",
    "# database_environment = DatabaseEnvironment.PRODUCTION_DATABASE\n",
    "# database_environment = DatabaseEnvironment.LOCAL_UNAUTHENTICATED\n",
    "\n",
    "if database_environment == DatabaseEnvironment.STAGING_DATABASE:\n",
    "    \"\"\"\n",
    "    - Uncomment in obi-one/.env.run-local before \"make run-local\": \n",
    "        export ENTITYCORE_URL=https://staging.openbraininstitute.org/api/entitycore\n",
    "    \"\"\"\n",
    "    entitycore_api_url = \"https://staging.openbraininstitute.org/api/entitycore\"\n",
    "    virtual_lab_id=\"e6030ed8-a589-4be2-80a6-f975406eb1f6\"\n",
    "    project_id=\"2720f785-a3a2-4472-969d-19a53891c817\"\n",
    "\n",
    "# elif database_environment == DatabaseEnvironment.PRODUCTION_DATABASE:\n",
    "#     \"\"\"\n",
    "#     For future: EntityCore not currently in production.\n",
    "#     - Uncomment in obi-one/.env.run-local before \"make run-local\": \n",
    "#         export ENTITYCORE_URL=https://www.openbraininstitute.org/api/entitycore\n",
    "#     \"\"\"\n",
    "#     entitycore_api_url = \"https://www.openbraininstitute.org/api/entitycore\"\n",
    "\n",
    "elif DatabaseEnvironment.LOCAL_UNAUTHENTICATED:\n",
    "    \"\"\"\n",
    "    Not yet tested.\n",
    "    - Launch entitycore locally (make run-local)\n",
    "    - Add a morphology with a project name (see entitysdk)\n",
    "    \"\"\"\n",
    "    entitycore_api_url = \"http://127.0.0.1:8000\"\n",
    "    add_morphology_asset = True\n",
    "    virtual_lab_id=\"a98b7abc-fc46-4700-9e3d-37137812c730\"\n",
    "    project_id=\"0dbced5f-cc3d-488a-8c7f-cfb8ea039dc6\"\n",
    "    # virtual_lab_id=\"e6030ed8-a589-4be2-80a6-f975406eb1f6\"\n",
    "    # project_id=\"2720f785-a3a2-4472-969d-19a53891c817\"\n",
    "    \n",
    "else:\n",
    "    raise ValueError(f\"Unsupported environment: {database_environment}\")\n",
    "\n",
    "\n",
    "token = get_token(environment=\"staging\")\n",
    "project_context = ProjectContext(virtual_lab_id=virtual_lab_id, project_id=project_id)\n",
    "client = Client(api_url=entitycore_api_url, project_context=project_context, token_manager=token)"
   ]
  },
  {
   "cell_type": "markdown",
   "id": "8133b3c7",
   "metadata": {},
   "source": [
    "# Find a morphology"
   ]
  },
  {
   "cell_type": "code",
   "execution_count": 13,
   "id": "156f19a0",
   "metadata": {},
   "outputs": [
    {
     "name": "stdout",
     "output_type": "stream",
     "text": [
      "02604cdb-e008-45c4-87a1-d61d5df88b06\n"
     ]
    }
   ],
   "source": [
    "from entitysdk.models.morphology import (\n",
    "    ReconstructionMorphology,\n",
    ")\n",
    "kwargs = {}\n",
    "reconstruction_morphologies = client.search_entity(\n",
    "    entity_type=ReconstructionMorphology, query=kwargs, limit=10\n",
    ").all()\n",
    "\n",
    "reconstruction_morphology_id = reconstruction_morphologies[4].id\n",
    "print(reconstruction_morphology_id)"
   ]
  },
  {
   "cell_type": "markdown",
   "id": "4bef1b3a",
   "metadata": {},
   "source": [
    "# Fetch a morphology"
   ]
  },
  {
   "cell_type": "code",
   "execution_count": 8,
   "id": "19d58ecc",
   "metadata": {},
   "outputs": [
    {
     "name": "stdout",
     "output_type": "stream",
     "text": [
      "assets=[Asset(id=UUID('4eea423a-16a5-4412-8e53-89c288458675'), update_date=None, creation_date=None, path='737158657.asc', full_path='public/a98b7abc-fc46-4700-9e3d-37137812c730/0dbced5f-cc3d-488a-8c7f-cfb8ea039dc6/assets/reconstruction_morphology/02604cdb-e008-45c4-87a1-d61d5df88b06/737158657.asc', is_directory=False, content_type='application/asc', size=1040738, sha256_digest='5dbd34b8d0816d3ab345b63791a91a104e7c66a43cb0534ec4dc7c5e973b8c77', status='created', meta={}), Asset(id=UUID('0cc8cb57-774b-4fb5-b95e-d0b99e317d48'), update_date=None, creation_date=None, path='737158657.swc', full_path='public/a98b7abc-fc46-4700-9e3d-37137812c730/0dbced5f-cc3d-488a-8c7f-cfb8ea039dc6/assets/reconstruction_morphology/02604cdb-e008-45c4-87a1-d61d5df88b06/737158657.swc', is_directory=False, content_type='application/swc', size=1285804, sha256_digest='aadc2f4679696da1612afd94ee96c14b268a67b44a0b7d2acbea0e954393a188', status='created', meta={}), Asset(id=UUID('a1762c14-130a-4498-b44d-8a60a0447f31'), update_date=None, creation_date=None, path='737158657.h5', full_path='public/a98b7abc-fc46-4700-9e3d-37137812c730/0dbced5f-cc3d-488a-8c7f-cfb8ea039dc6/assets/reconstruction_morphology/02604cdb-e008-45c4-87a1-d61d5df88b06/737158657.h5', is_directory=False, content_type='application/h5', size=259104, sha256_digest='221caebe0efd413ba6db402f80e26464dfb48c6bf5ca7c39a9d87cc31a2349fc', status='created', meta={})] id=UUID('02604cdb-e008-45c4-87a1-d61d5df88b06') update_date=datetime.datetime(2025, 5, 13, 0, 1, 17, 682725, tzinfo=TzInfo(UTC)) creation_date=datetime.datetime(2025, 5, 13, 0, 1, 17, 682725, tzinfo=TzInfo(UTC)) name='737158657' description='Morphological reconstrcution of an excitatotry cell of the human temporal lobe. ' type='reconstruction_morphology' created_by=Person(id=UUID('cd613e30-d8f1-4adf-91b7-584a2265b1f5'), update_date=None, creation_date=None, type='person', pref_label='Admin', given_name=None, family_name=None) updated_by=Person(id=UUID('cd613e30-d8f1-4adf-91b7-584a2265b1f5'), update_date=None, creation_date=None, type='person', pref_label='Admin', given_name=None, family_name=None) authorized_public=True authorized_project_id=UUID('0dbced5f-cc3d-488a-8c7f-cfb8ea039dc6') contributions=[Contribution(id=UUID('4e35338b-6d13-4e7a-985c-0fc3fb8e41b5'), update_date=None, creation_date=None, agent=Organization(id=UUID('556dd378-4dde-4a31-9025-ee4cd309f0de'), update_date=None, creation_date=None, type='organization', pref_label='Allen Institute for Brain Science', alternative_name=''), role=Role(id=UUID('334a96c2-b866-4e3c-97b0-799b1766f835'), update_date=datetime.datetime(2025, 6, 17, 10, 4, 9, 452204, tzinfo=TzInfo(UTC)), creation_date=datetime.datetime(2025, 6, 17, 10, 4, 9, 452204, tzinfo=TzInfo(UTC)), name='unspecified', role_id='unspecified'), entity=None)] legacy_id=['https://www.openbraininstitute.org/data/81f845db-1ab3-4e94-87eb-05d52c254c87/3846fe8f-63f9-410e-868b-a7fe6a2aed9f/dec29d96-8838-45df-89c7-df4e731e4fa3'] location=None brain_region=BrainRegion(id=UUID('9ea18ae9-e7c1-4d53-9229-4e6cc7d757d7'), update_date=datetime.datetime(2025, 6, 17, 10, 3, 37, 245079, tzinfo=TzInfo(UTC)), creation_date=datetime.datetime(2025, 6, 17, 10, 3, 37, 245079, tzinfo=TzInfo(UTC)), name='Temporal association areas', annotation_value=541, acronym='TEa', parent_structure_id=UUID('f007ec1f-5257-4c2d-8f6b-444c5fe14e06'), hierarchy_id=UUID('e3e70682-c209-4cac-a29f-6fbed82c07cd'), color_hex_triplet='15B0B3') species=Species(id=UUID('74667bff-e202-449d-a964-3a295a9ac6de'), update_date=None, creation_date=None, name='Homo sapiens', taxonomy_id='NCBITaxon:9606') strain=None license=None mtypes=[MTypeClass(id=UUID('73a695f2-7da5-4266-bff7-03ce8613b181'), update_date=datetime.datetime(2024, 11, 22, 11, 20, 49, 693171, tzinfo=TzInfo(UTC)), creation_date=datetime.datetime(2020, 9, 23, 9, 25, 28, 774000, tzinfo=TzInfo(UTC)), pref_label='Pyramidal Neuron', definition='A neuron with a pyramidal shaped soma and two distinct dendritic trees. The basal dendrites emerge from the base and the apical dendrites from the apex of the pyramidal cell body.', alt_label='Pyramidal neuron')]\n"
     ]
    }
   ],
   "source": [
    "from entitysdk.models.morphology import (\n",
    "    ReconstructionMorphology,\n",
    ")\n",
    "kwargs = {}\n",
    "reconstruction_morphology = client.get_entity(\n",
    "    entity_id=reconstruction_morphology_id, entity_type=ReconstructionMorphology\n",
    "    # entity_type=ReconstructionMorphology, query=kwargs, limit=10\n",
    ")\n",
    "\n",
    "# reconstruction_morphology_id = reconstruction_morphologies[1].id\n",
    "print(reconstruction_morphology)"
   ]
  },
  {
   "cell_type": "code",
   "execution_count": null,
   "id": "396e4586",
   "metadata": {},
   "outputs": [],
   "source": [
    "reconstruction_morphology_id = reconstruction_morphology.id\n",
    "print(reconstruction_morphology_id)"
   ]
  },
  {
   "cell_type": "code",
   "execution_count": null,
   "id": "6bc6b6e5",
   "metadata": {},
   "outputs": [],
   "source": [
    "import tempfile\n",
    "from pathlib import Path\n",
    "import io\n",
    "\n",
    "if add_morphology_asset:\n",
    "    with tempfile.TemporaryDirectory() as tdir:\n",
    "\n",
    "        src = Path(\"single_cell_simulations/components/morphologies/C060114A5.swc\")\n",
    "        file2 = Path(tdir, \"morphology.swc\")\n",
    "        # print(src.read_text())\n",
    "        file2.write_text(src.read_text())\n",
    "\n",
    "        # use an in-memory buffer to upload second asset\n",
    "        buffer = io.BytesIO(b\"morph bytes buffer\")\n",
    "\n",
    "        asset2 = client.upload_content(\n",
    "            entity_id=reconstruction_morphology_id,\n",
    "            entity_type=ReconstructionMorphology,\n",
    "            file_content=buffer,\n",
    "            file_name=\"morphology.swc\",\n",
    "            file_content_type=\"application/swc\",\n",
    "        )\n",
    "\n",
    "        print(asset2)\n"
   ]
  },
  {
   "cell_type": "markdown",
   "id": "71444d78",
   "metadata": {},
   "source": [
    "# Call the declared morphology metrics endpoint"
   ]
  },
  {
   "cell_type": "code",
   "execution_count": 9,
   "id": "2d1cf069",
   "metadata": {},
   "outputs": [
    {
     "name": "stdout",
     "output_type": "stream",
     "text": [
      "Success: {'aspect_ratio': 0.46938310712331804, 'circularity': 0.6764430614289079, 'length_fraction_above_soma': 0.5866567492485046, 'max_radial_distance': 984.980224609375, 'number_of_neurites': 8, 'soma_radius': 5.548399925231934, 'soma_surface_area': 386.85247802734375}\n"
     ]
    }
   ],
   "source": [
    "# Construct the full endpoint URL\n",
    "url = f\"{obi_one_api_url}/declared/neuron-morphology-metrics/{reconstruction_morphology_id}\"\n",
    "\n",
    "# Set headers\n",
    "headers = {\n",
    "    \"Authorization\": f\"Bearer {token}\",\n",
    "    \"Accept\": \"application/json\"\n",
    "}\n",
    "\n",
    "# Optionally include optional headers if they are set\n",
    "if virtual_lab_id:\n",
    "    headers[\"virtual-lab-id\"] = virtual_lab_id\n",
    "if project_id:\n",
    "    headers[\"project-id\"] = project_id\n",
    "\n",
    "# Make the GET request\n",
    "response = requests.get(url, headers=headers)\n",
    "\n",
    "# Check the response\n",
    "if response.status_code == 200:\n",
    "    data = response.json()\n",
    "    print(\"Success:\", data)\n",
    "else:\n",
    "    print(f\"Error {response.status_code}: {response.text}\")\n"
   ]
  },
  {
   "cell_type": "markdown",
   "id": "4a55fb1b",
   "metadata": {},
   "source": [
    "# Call the generated morphology metrics endpoint"
   ]
  },
  {
   "cell_type": "code",
   "execution_count": null,
   "id": "131dd952",
   "metadata": {},
   "outputs": [],
   "source": [
    "import requests\n",
    "\n",
    "# Construct the full endpoint URL\n",
    "url = f\"{obi_one_api_url}/generated/morphology-metrics-run-grid\"\n",
    "\n",
    "# Prepare headers\n",
    "headers = {\n",
    "    \"Authorization\": f\"Bearer {token}\",\n",
    "    \"Accept\": \"application/json\",\n",
    "    \"Content-Type\": \"application/json\"\n",
    "}\n",
    "\n",
    "# Optionally include optional headers if they are set\n",
    "if virtual_lab_id:\n",
    "    headers[\"virtual-lab-id\"] = virtual_lab_id\n",
    "if project_id:\n",
    "    headers[\"project-id\"] = project_id\n",
    "\n",
    "# Construct request body — adjust this with the actual morphology metrics form data!\n",
    "# Placeholder example:\n",
    "request_body = {\n",
    "  \"type\": \"MorphologyMetricsForm\",\n",
    "  \"initialize\": {\n",
    "    \"type\": \"MorphologyMetricsForm.Initialize\",\n",
    "    \"morphology\": {\n",
    "      \"id_str\": str(reconstruction_morphology_id),\n",
    "    }\n",
    "  }\n",
    "}\n",
    "\n",
    "# Make the POST request\n",
    "response = requests.post(url, headers=headers, json=request_body)\n",
    "\n",
    "# Check the response\n",
    "if response.status_code == 200:\n",
    "    data = response.json()\n",
    "    print(\"Success:\", data)\n",
    "else:\n",
    "    print(f\"Error {response.status_code}: {response.text}\")"
   ]
  },
  {
   "cell_type": "code",
   "execution_count": null,
   "id": "55838717",
   "metadata": {},
   "outputs": [],
   "source": []
  }
 ],
 "metadata": {
  "kernelspec": {
   "display_name": "obi-one",
   "language": "python",
   "name": "python3"
  },
  "language_info": {
   "codemirror_mode": {
    "name": "ipython",
    "version": 3
   },
   "file_extension": ".py",
   "mimetype": "text/x-python",
   "name": "python",
   "nbconvert_exporter": "python",
   "pygments_lexer": "ipython3",
   "version": "3.12.9"
  }
 },
 "nbformat": 4,
 "nbformat_minor": 5
}
