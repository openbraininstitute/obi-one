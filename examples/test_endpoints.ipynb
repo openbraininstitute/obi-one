{
 "cells": [
  {
   "cell_type": "markdown",
   "id": "77b0147b",
   "metadata": {},
   "source": [
    "# Select database (i.e. staging, production, local authenticated, local unauthenticated)"
   ]
  },
  {
   "cell_type": "code",
   "execution_count": 1,
   "id": "8b41bab3",
   "metadata": {},
   "outputs": [],
   "source": [
    "import requests\n",
    "from obi_auth import get_token\n",
    "from entitysdk.client import Client\n",
    "from entitysdk.common import ProjectContext\n",
    "from enum import Enum\n",
    "\n",
    "class DatabaseEnvironment(Enum):\n",
    "    STAGING_DATABASE = \"staging\"\n",
    "    # PRODUCTION_DATABASE = \"production\"\n",
    "    LOCAL_UNAUTHENTICATED = \"local_unauthenticated\"\n",
    "    LOCAL_AUTHENTICATED = \"local_authenticated\"\n",
    "\n",
    "obi_one_api_url = \"http://127.0.0.1:8100\"\n",
    "virtual_lab_id=\"edb1fb49-660b-477b-af7b-12913b2df7d9\"\n",
    "project_id=\"d4d004bc-44c5-4f15-94a7-1e4478e82b1d\"\n",
    "\n",
    "database_environment = DatabaseEnvironment.STAGING_DATABASE\n",
    "# database_environment = DatabaseEnvironment.PRODUCTION_DATABASE\n",
    "# database_environment = DatabaseEnvironment.LOCAL_UNAUTHENTICATED\n",
    "# database_environment = DatabaseEnvironment.LOCAL_AUTHENTICATED\n",
    "\n",
    "if database_environment == DatabaseEnvironment.STAGING_DATABASE:\n",
    "    \"\"\"\n",
    "    - Uncomment in obi-one/.env.run-local before \"make run-local\":\n",
    "        export ENTITYCORE_URL=https://staging.openbraininstitute.org/api/entitycore\n",
    "    \"\"\"\n",
    "    entitycore_api_url = \"https://staging.openbraininstitute.org/api/entitycore\"\n",
    "\n",
    "# elif database_environment == DatabaseEnvironment.PRODUCTION_DATABASE:\n",
    "#     \"\"\"\n",
    "#     For future: EntityCore not currently in production.\n",
    "#     - Uncomment in obi-one/.env.run-local before \"make run-local\":\n",
    "#         export ENTITYCORE_URL=https://www.openbraininstitute.org/api/entitycore\n",
    "#     \"\"\"\n",
    "#     entitycore_api_url = \"https://www.openbraininstitute.org/api/entitycore\"\n",
    "\n",
    "elif DatabaseEnvironment.LOCAL_UNAUTHENTICATED:\n",
    "    \"\"\"\n",
    "    Not yet tested.\n",
    "    - Launch entitycore locally (make run-local)\n",
    "    - Add a morphology with a project name (see entitysdk)\n",
    "    \"\"\"\n",
    "    entitycore_api_url = \"https://127.0.1:8000/api/entitycore\"\n",
    "\n",
    "elif DatabaseEnvironment.LOCAL_AUTHENTICATED:\n",
    "    \"\"\"\n",
    "    Not yet tested.\n",
    "    - Change APP_DISABLE_AUTH to False in entitycore/.env.run-local\n",
    "    - Launch entitycore locally (make run-local)\n",
    "    - Add a morphology with a project name (see entitysdk morphology.ipynb example)\n",
    "    \"\"\"\n",
    "    entitycore_api_url = \"https://127.0.1:8000/api/entitycore\"\n",
    "\n",
    "else:\n",
    "    raise ValueError(f\"Unsupported environment: {database_environment}\")\n",
    "\n",
    "\n",
    "token = get_token(environment=\"staging\")\n",
    "project_context = ProjectContext(virtual_lab_id=virtual_lab_id, project_id=project_id)\n",
    "client = Client(api_url=entitycore_api_url, project_context=project_context, token_manager=token)"
   ]
  },
  {
   "cell_type": "markdown",
   "id": "8133b3c7",
   "metadata": {},
   "source": [
    "# Fetch a morphology"
   ]
  },
  {
   "cell_type": "code",
   "execution_count": 2,
   "id": "156f19a0",
   "metadata": {},
   "outputs": [
    {
     "name": "stdout",
     "output_type": "stream",
     "text": [
      "2cd84e81-87ab-401f-9baf-86abd786aa76\n"
     ]
    }
   ],
   "source": [
    "from entitysdk.models.morphology import (\n",
    "    ReconstructionMorphology,\n",
    ")\n",
    "kwargs = {}\n",
    "reconstruction_morphologies = client.search_entity(\n",
    "    entity_type=ReconstructionMorphology, query=kwargs, limit=10\n",
    ").all()\n",
    "\n",
    "reconstruction_morphology_id = reconstruction_morphologies[0].id\n",
    "print(reconstruction_morphology_id)"
   ]
  },
  {
   "cell_type": "markdown",
   "id": "71444d78",
   "metadata": {},
   "source": [
    "# Call the declared morphology metrics endpoint"
   ]
  },
  {
   "cell_type": "code",
   "execution_count": 3,
   "id": "2d1cf069",
   "metadata": {},
   "outputs": [
    {
     "name": "stdout",
     "output_type": "stream",
     "text": [
      "Success: {'aspect_ratio': 0.8852763978166994, 'circularity': 0.8403189319730738, 'length_fraction_above_soma': 0.7324050068855286, 'max_radial_distance': 3919.52734375, 'number_of_neurites': 9, 'soma_radius': 2.759981632232666, 'soma_surface_area': 95.72431182861328}\n"
     ]
    }
   ],
   "source": [
    "# Construct the full endpoint URL\n",
    "url = f\"{obi_one_api_url}/declared/neuron-morphology-metrics/{reconstruction_morphology_id}\"\n",
    "\n",
    "# Set headers\n",
    "headers = {\n",
    "    \"Authorization\": f\"Bearer {token}\",\n",
    "    \"Accept\": \"application/json\"\n",
    "}\n",
    "\n",
    "# Optionally include optional headers if they are set\n",
    "if virtual_lab_id:\n",
    "    headers[\"virtual-lab-id\"] = virtual_lab_id\n",
    "if project_id:\n",
    "    headers[\"project-id\"] = project_id\n",
    "\n",
    "# Make the GET request\n",
    "response = requests.get(url, headers=headers)\n",
    "\n",
    "# Check the response\n",
    "if response.status_code == 200:\n",
    "    data = response.json()\n",
    "    print(\"Success:\", data)\n",
    "else:\n",
    "    print(f\"Error {response.status_code}: {response.text}\")\n"
   ]
  },
  {
   "cell_type": "markdown",
   "id": "4a55fb1b",
   "metadata": {},
   "source": [
    "# Call the generated morphology metrics endpoint"
   ]
  },
  {
   "cell_type": "code",
   "execution_count": 4,
   "id": "131dd952",
   "metadata": {},
   "outputs": [
    {
     "name": "stdout",
     "output_type": "stream",
     "text": [
      "Success: {'0': {'aspect_ratio': 0.8852763978166994, 'circularity': 0.8403189319730738, 'length_fraction_above_soma': 0.7324050068855286, 'max_radial_distance': 3919.52734375, 'number_of_neurites': 9, 'soma_radius': 2.759981632232666, 'soma_surface_area': 95.72431182861328}}\n"
     ]
    }
   ],
   "source": [
    "import requests\n",
    "\n",
    "# Construct the full endpoint URL\n",
    "url = f\"{obi_one_api_url}/generated/morphology-metrics-run-grid\"\n",
    "\n",
    "# Prepare headers\n",
    "headers = {\n",
    "    \"Authorization\": f\"Bearer {token}\",\n",
    "    \"Accept\": \"application/json\",\n",
    "    \"Content-Type\": \"application/json\"\n",
    "}\n",
    "\n",
    "# Optionally include optional headers if they are set\n",
    "if virtual_lab_id:\n",
    "    headers[\"virtual-lab-id\"] = virtual_lab_id\n",
    "if project_id:\n",
    "    headers[\"project-id\"] = project_id\n",
    "\n",
    "# Construct request body — adjust this with the actual morphology metrics form data!\n",
    "# Placeholder example:\n",
    "request_body = {\n",
    "  \"type\": \"MorphologyMetricsForm\",\n",
    "  \"initialize\": {\n",
    "    \"type\": \"MorphologyMetricsForm.Initialize\",\n",
    "    \"morphology\": {\n",
    "      \"id_str\": str(reconstruction_morphology_id),\n",
    "    }\n",
    "  }\n",
    "}\n",
    "\n",
    "# Make the POST request\n",
    "response = requests.post(url, headers=headers, json=request_body)\n",
    "\n",
    "# Check the response\n",
    "if response.status_code == 200:\n",
    "    data = response.json()\n",
    "    print(\"Success:\", data)\n",
    "else:\n",
    "    print(f\"Error {response.status_code}: {response.text}\")"
   ]
  },
  {
   "cell_type": "code",
   "execution_count": 5,
   "id": "fcea93e4",
   "metadata": {},
   "outputs": [
    {
     "name": "stdout",
     "output_type": "stream",
     "text": [
      "2cd84e81-87ab-401f-9baf-86abd786aa76\n"
     ]
    }
   ],
   "source": [
    "from entitysdk.models.electrical_cell_recording import (\n",
    "    ElectricalCellRecording,\n",
    ")\n",
    "kwargs = {}\n",
    "Electrical_cell_recording = client.search_entity(\n",
    "    entity_type=ElectricalCellRecording, query=kwargs, limit=10\n",
    ").all()\n",
    "\n",
    "Electrical_cell_recording_id = Electrical_cell_recording[0].id\n",
    "print(reconstruction_morphology_id)"
   ]
  },
  {
   "cell_type": "markdown",
   "id": "68f90cc2",
   "metadata": {},
   "source": [
    "# Call the declared electrophysiology recording metrics endpoint"
   ]
  },
  {
   "cell_type": "code",
   "execution_count": 6,
   "id": "5cb89e06",
   "metadata": {},
   "outputs": [
    {
     "name": "stdout",
     "output_type": "stream",
     "text": [
      "Success: {'brain_region': 'Ventral posteromedial nucleus of the thalamus', 'feature_dict': {'idrest_0': {'spike_count': {'avg': 6.068181818181818, 'num_traces': 88, 'unit': None}, 'time_to_first_spike': {'avg': 74.30350877190865, 'num_traces': 57, 'unit': 'ms'}, 'time_to_last_spike': {'avg': 654.6052631584205, 'num_traces': 57, 'unit': 'ms'}, 'inv_time_to_first_spike': {'avg': 20.44689903535069, 'num_traces': 57, 'unit': 'Hz'}, 'doublet_ISI': {'avg': 51.29490740738937, 'num_traces': 54, 'unit': 'ms'}, 'inv_first_ISI': {'avg': 156.90276701096153, 'num_traces': 54, 'unit': 'Hz'}, 'ISI_log_slope': {'avg': 0.3224772679888807, 'num_traces': 40, 'unit': 'ms'}, 'ISI_CV': {'avg': 0.20563869223058812, 'num_traces': 40, 'unit': None}, 'irregularity_index': {'avg': 16.44670153420433, 'num_traces': 40, 'unit': 'ms'}, 'adaptation_index': {'avg': 0.06856575054792706, 'num_traces': 40, 'unit': None}, 'mean_frequency': {'avg': 39.787800436805405, 'num_traces': 57, 'unit': 'Hz'}, 'strict_burst_number': {'avg': 0.5454545454545454, 'num_traces': 88, 'unit': None}, 'strict_burst_mean_freq': {'avg': 179.17876325355473, 'num_traces': 48, 'unit': 'Hz'}, 'spikes_per_burst': {'avg': 9.791666666666666, 'num_traces': 48, 'unit': None}, 'AP_height': {'avg': 5.026468414478389, 'num_traces': 57, 'unit': 'mV'}, 'AP_amplitude': {'avg': 42.563661228519294, 'num_traces': 57, 'unit': 'mV'}, 'AP1_amp': {'avg': 41.912774238211135, 'num_traces': 57, 'unit': 'mV'}, 'APlast_amp': {'avg': 42.91055356922513, 'num_traces': 57, 'unit': 'mV'}, 'AP_duration_half_width': {'avg': 0.9979042345765611, 'num_traces': 57, 'unit': 'ms'}, 'AHP_depth': {'avg': 14.329990321200837, 'num_traces': 57, 'unit': 'mV'}, 'AHP_time_from_peak': {'avg': 1.932643495472643, 'num_traces': 57, 'unit': 'ms'}, 'AP_peak_upstroke': {'avg': 81.76836342929468, 'num_traces': 57, 'unit': 'V/s'}, 'AP_peak_downstroke': {'avg': -56.82750005822503, 'num_traces': 57, 'unit': 'V/s'}, 'voltage_base': {'avg': -61.83908476870585, 'num_traces': 88, 'unit': 'mV'}, 'voltage_after_stim': {'avg': -63.243846358517345, 'num_traces': 88, 'unit': 'mV'}, 'ohmic_input_resistance_vb_ssse': {'avg': 82.23053409942584, 'num_traces': 88, 'unit': 'MΩ'}, 'steady_state_voltage_stimend': {'avg': -51.359492074808344, 'num_traces': 88, 'unit': 'mV'}, 'decay_time_constant_after_stim': {'avg': 14.314547511582315, 'num_traces': 88, 'unit': 'ms'}, 'depol_block_bool': {'avg': 0.0, 'num_traces': 88, 'unit': None}, 'stimulus_current': '0.13061257303210863 nA'}, 'iv_0': {'spike_count': {'avg': 0.03409090909090909, 'num_traces': 88, 'unit': None}, 'time_to_first_spike': {'avg': 627.3999999994758, 'num_traces': 1, 'unit': 'ms'}, 'time_to_last_spike': {'avg': 633.8999999994699, 'num_traces': 1, 'unit': 'ms'}, 'inv_time_to_first_spike': {'avg': 1.593879502710927, 'num_traces': 1, 'unit': 'Hz'}, 'doublet_ISI': {'avg': 2.8999999999973625, 'num_traces': 1, 'unit': 'ms'}, 'inv_first_ISI': {'avg': 344.8275862072102, 'num_traces': 1, 'unit': 'Hz'}, 'mean_frequency': {'avg': 4.732607666828378, 'num_traces': 1, 'unit': 'Hz'}, 'strict_burst_number': {'avg': 0.011363636363636364, 'num_traces': 88, 'unit': None}, 'strict_burst_mean_freq': {'avg': 555.5555555560609, 'num_traces': 1, 'unit': 'Hz'}, 'spikes_per_burst': {'avg': 2.0, 'num_traces': 1, 'unit': None}, 'AP_height': {'avg': 5.804166788993697, 'num_traces': 1, 'unit': 'mV'}, 'AP_amplitude': {'avg': 48.93697929426719, 'num_traces': 1, 'unit': 'mV'}, 'AP1_amp': {'avg': 45.868749143358265, 'num_traces': 1, 'unit': 'mV'}, 'APlast_amp': {'avg': 47.88750076071169, 'num_traces': 1, 'unit': 'mV'}, 'AP_duration_half_width': {'avg': 0.8249999999992497, 'num_traces': 1, 'unit': 'ms'}, 'AHP_depth': {'avg': 19.89972254763738, 'num_traces': 1, 'unit': 'mV'}, 'AHP_time_from_peak': {'avg': 1.2666666666655146, 'num_traces': 1, 'unit': 'ms'}, 'AP_peak_upstroke': {'avg': 102.37499872844687, 'num_traces': 1, 'unit': 'V/s'}, 'AP_peak_downstroke': {'avg': -77.27083365120721, 'num_traces': 1, 'unit': 'V/s'}, 'voltage_base': {'avg': -61.326585993281306, 'num_traces': 88, 'unit': 'mV'}, 'voltage_after_stim': {'avg': -60.84305488788873, 'num_traces': 88, 'unit': 'mV'}, 'ohmic_input_resistance_vb_ssse': {'avg': 66.06685560654219, 'num_traces': 87, 'unit': 'MΩ'}, 'steady_state_voltage_stimend': {'avg': -63.66760640133368, 'num_traces': 88, 'unit': 'mV'}, 'sag_amplitude': {'avg': 1.6340656826784996, 'num_traces': 59, 'unit': 'mV'}, 'decay_time_constant_after_stim': {'avg': 32.88301175296291, 'num_traces': 88, 'unit': 'ms'}, 'depol_block_bool': {'avg': 0.0, 'num_traces': 88, 'unit': None}, 'stimulus_current': '-0.02967506850307638 nA'}, 'apwaveform_0': {'spike_count': {'avg': 1.75, 'num_traces': 48, 'unit': None}, 'time_to_first_spike': {'avg': 65.6414814814682, 'num_traces': 27, 'unit': 'ms'}, 'time_to_last_spike': {'avg': 130.15722222215027, 'num_traces': 27, 'unit': 'ms'}, 'inv_time_to_first_spike': {'avg': 20.508273044153764, 'num_traces': 27, 'unit': 'Hz'}, 'doublet_ISI': {'avg': 29.152173913016963, 'num_traces': 23, 'unit': 'ms'}, 'inv_first_ISI': {'avg': 151.0977939839186, 'num_traces': 23, 'unit': 'Hz'}, 'ISI_log_slope': {'avg': 0.29058378515117644, 'num_traces': 9, 'unit': 'ms'}, 'ISI_CV': {'avg': 0.16193519921396662, 'num_traces': 9, 'unit': None}, 'irregularity_index': {'avg': 4.719907407403115, 'num_traces': 9, 'unit': 'ms'}, 'adaptation_index': {'avg': 0.08010865855926944, 'num_traces': 9, 'unit': None}, 'mean_frequency': {'avg': 36.928351876262134, 'num_traces': 27, 'unit': 'Hz'}, 'strict_burst_number': {'avg': 0.375, 'num_traces': 48, 'unit': None}, 'strict_burst_mean_freq': {'avg': 232.093776170915, 'num_traces': 18, 'unit': 'Hz'}, 'spikes_per_burst': {'avg': 2.888888888888889, 'num_traces': 18, 'unit': None}, 'AP_height': {'avg': 6.875434000093056, 'num_traces': 27, 'unit': 'mV'}, 'AP_amplitude': {'avg': 44.97870482148139, 'num_traces': 27, 'unit': 'mV'}, 'AP1_amp': {'avg': 44.78686379585421, 'num_traces': 27, 'unit': 'mV'}, 'APlast_amp': {'avg': 45.24739615390958, 'num_traces': 27, 'unit': 'mV'}, 'AP_duration_half_width': {'avg': 0.9260185185176764, 'num_traces': 27, 'unit': 'ms'}, 'AHP_depth': {'avg': 10.985198922615512, 'num_traces': 27, 'unit': 'mV'}, 'AHP_time_from_peak': {'avg': 1.780030864195912, 'num_traces': 27, 'unit': 'ms'}, 'AP_peak_upstroke': {'avg': 93.74969057082082, 'num_traces': 27, 'unit': 'V/s'}, 'AP_peak_downstroke': {'avg': -66.66699298055015, 'num_traces': 27, 'unit': 'V/s'}, 'voltage_base': {'avg': -60.29733039614422, 'num_traces': 48, 'unit': 'mV'}, 'voltage_after_stim': {'avg': -60.836727339227444, 'num_traces': 48, 'unit': 'mV'}, 'ohmic_input_resistance_vb_ssse': {'avg': 81.5960644605198, 'num_traces': 48, 'unit': 'MΩ'}, 'steady_state_voltage_stimend': {'avg': -50.65992626698043, 'num_traces': 48, 'unit': 'mV'}, 'decay_time_constant_after_stim': {'avg': 15.004184970942935, 'num_traces': 48, 'unit': 'ms'}, 'depol_block_bool': {'avg': 0.0, 'num_traces': 48, 'unit': None}, 'stimulus_current': '0.11942708521382883 nA'}, 'spontaneous_0': {'spike_count': {'avg': 0.0, 'num_traces': 34, 'unit': None}, 'strict_burst_number': {'avg': 0.0, 'num_traces': 34, 'unit': None}, 'voltage_base': {'avg': -58.6074674059363, 'num_traces': 34, 'unit': 'mV'}, 'voltage_after_stim': {'avg': -58.19638388494164, 'num_traces': 34, 'unit': 'mV'}, 'ohmic_input_resistance_vb_ssse': {'avg': 702.1186152262303, 'num_traces': 24, 'unit': 'MΩ'}, 'steady_state_voltage_stimend': {'avg': -58.23402378875899, 'num_traces': 34, 'unit': 'mV'}, 'sag_amplitude': {'avg': 1.1124554849352588, 'num_traces': 12, 'unit': 'mV'}, 'decay_time_constant_after_stim': {'avg': 91.04933926344917, 'num_traces': 34, 'unit': 'ms'}, 'depol_block_bool': {'avg': 0.0, 'num_traces': 34, 'unit': None}, 'stimulus_current': '-0.00015165612978093764 nA'}, 'firepattern_0': {'spike_count': {'avg': 10.5625, 'num_traces': 16, 'unit': None}, 'time_to_first_spike': {'avg': 95.04999999995995, 'num_traces': 12, 'unit': 'ms'}, 'time_to_last_spike': {'avg': 1733.5500000041884, 'num_traces': 12, 'unit': 'ms'}, 'inv_time_to_first_spike': {'avg': 15.86271161849571, 'num_traces': 12, 'unit': 'Hz'}, 'doublet_ISI': {'avg': 91.13333333325045, 'num_traces': 12, 'unit': 'ms'}, 'inv_first_ISI': {'avg': 119.01853549479699, 'num_traces': 12, 'unit': 'Hz'}, 'ISI_log_slope': {'avg': -0.22751881400244778, 'num_traces': 5, 'unit': 'ms'}, 'ISI_CV': {'avg': 0.2524943220859043, 'num_traces': 5, 'unit': None}, 'irregularity_index': {'avg': 240.3003251144783, 'num_traces': 5, 'unit': 'ms'}, 'adaptation_index': {'avg': 0.033782086570548195, 'num_traces': 5, 'unit': None}, 'mean_frequency': {'avg': 24.859030729067825, 'num_traces': 12, 'unit': 'Hz'}, 'strict_burst_number': {'avg': 0.625, 'num_traces': 16, 'unit': None}, 'strict_burst_mean_freq': {'avg': 142.25309173572447, 'num_traces': 10, 'unit': 'Hz'}, 'spikes_per_burst': {'avg': 15.4, 'num_traces': 10, 'unit': None}, 'AP_height': {'avg': 6.000831261804447, 'num_traces': 12, 'unit': 'mV'}, 'AP_amplitude': {'avg': 43.58287055758169, 'num_traces': 12, 'unit': 'mV'}, 'AP1_amp': {'avg': 43.511589069800976, 'num_traces': 12, 'unit': 'mV'}, 'APlast_amp': {'avg': 43.96835793715959, 'num_traces': 12, 'unit': 'mV'}, 'AP_duration_half_width': {'avg': 0.9483218029083703, 'num_traces': 12, 'unit': 'ms'}, 'AHP_depth': {'avg': 10.366688063800973, 'num_traces': 12, 'unit': 'mV'}, 'AHP_time_from_peak': {'avg': 1.8730101141657383, 'num_traces': 12, 'unit': 'ms'}, 'AP_peak_upstroke': {'avg': 87.62305570994779, 'num_traces': 12, 'unit': 'V/s'}, 'AP_peak_downstroke': {'avg': -62.22451678229127, 'num_traces': 12, 'unit': 'V/s'}, 'voltage_base': {'avg': -60.427613381024756, 'num_traces': 16, 'unit': 'mV'}, 'voltage_after_stim': {'avg': -63.268511698228224, 'num_traces': 16, 'unit': 'mV'}, 'ohmic_input_resistance_vb_ssse': {'avg': 73.39777471235017, 'num_traces': 16, 'unit': 'MΩ'}, 'steady_state_voltage_stimend': {'avg': -51.77860398529981, 'num_traces': 16, 'unit': 'mV'}, 'decay_time_constant_after_stim': {'avg': 11.337794053268162, 'num_traces': 16, 'unit': 'ms'}, 'depol_block_bool': {'avg': 0.0, 'num_traces': 16, 'unit': None}, 'stimulus_current': '0.1196093715261668 nA'}, 'starthold_0': {'spike_count': {'avg': 0.0, 'num_traces': 8, 'unit': None}, 'strict_burst_number': {'avg': 0.0, 'num_traces': 8, 'unit': None}, 'voltage_base': {'avg': -59.793554067611694, 'num_traces': 8, 'unit': 'mV'}, 'voltage_after_stim': {'avg': -59.83200253509895, 'num_traces': 8, 'unit': 'mV'}, 'ohmic_input_resistance_vb_ssse': {'avg': -870.9135119066316, 'num_traces': 4, 'unit': 'MΩ'}, 'steady_state_voltage_stimend': {'avg': -59.841020605271545, 'num_traces': 8, 'unit': 'mV'}, 'sag_amplitude': {'avg': 0.10575864209176444, 'num_traces': 3, 'unit': 'mV'}, 'decay_time_constant_after_stim': {'avg': 12.675778639566346, 'num_traces': 8, 'unit': 'ms'}, 'depol_block_bool': {'avg': 0.0, 'num_traces': 8, 'unit': None}, 'stimulus_current': '-7.812399417161942e-05 nA'}, 'startnohold_0': {'spike_count': {'avg': 0.0, 'num_traces': 1, 'unit': None}, 'strict_burst_number': {'avg': 0.0, 'num_traces': 1, 'unit': None}, 'voltage_base': {'avg': -56.269532203674316, 'num_traces': 1, 'unit': 'mV'}, 'voltage_after_stim': {'avg': -56.22347645643272, 'num_traces': 1, 'unit': 'mV'}, 'ohmic_input_resistance_vb_ssse': {'avg': -215.218158125704, 'num_traces': 1, 'unit': 'MΩ'}, 'steady_state_voltage_stimend': {'avg': -56.20227659340004, 'num_traces': 1, 'unit': 'mV'}, 'decay_time_constant_after_stim': {'avg': 1.7349075581348663, 'num_traces': 1, 'unit': 'ms'}, 'depol_block_bool': {'avg': 0.0, 'num_traces': 1, 'unit': None}, 'stimulus_current': '-0.0003124997019767761 nA'}, 'sahp_0': {'spike_count': {'avg': 3.40625, 'num_traces': 32, 'unit': None}, 'time_to_first_spike': {'avg': 294.721428571207, 'num_traces': 28, 'unit': 'ms'}, 'time_to_last_spike': {'avg': 375.9571428568474, 'num_traces': 28, 'unit': 'ms'}, 'inv_time_to_first_spike': {'avg': 3.4235219532576524, 'num_traces': 28, 'unit': 'Hz'}, 'doublet_ISI': {'avg': 27.17999999997528, 'num_traces': 25, 'unit': 'ms'}, 'inv_first_ISI': {'avg': 145.32929852949633, 'num_traces': 25, 'unit': 'Hz'}, 'ISI_log_slope': {'avg': 0.3113163163449481, 'num_traces': 14, 'unit': 'ms'}, 'ISI_CV': {'avg': 0.17427533323346675, 'num_traces': 14, 'unit': None}, 'irregularity_index': {'avg': 3.3327380952350643, 'num_traces': 14, 'unit': 'ms'}, 'adaptation_index': {'avg': 0.07575020042372664, 'num_traces': 14, 'unit': None}, 'mean_frequency': {'avg': 10.257965923360384, 'num_traces': 28, 'unit': 'Hz'}, 'strict_burst_number': {'avg': 0.65625, 'num_traces': 32, 'unit': None}, 'strict_burst_mean_freq': {'avg': 188.17825605427655, 'num_traces': 21, 'unit': 'Hz'}, 'spikes_per_burst': {'avg': 3.6666666666666665, 'num_traces': 21, 'unit': None}, 'AP_height': {'avg': 5.643264096702907, 'num_traces': 28, 'unit': 'mV'}, 'AP_amplitude': {'avg': 43.00319503998548, 'num_traces': 28, 'unit': 'mV'}, 'AP1_amp': {'avg': 42.20452065631009, 'num_traces': 28, 'unit': 'mV'}, 'APlast_amp': {'avg': 43.51037904981863, 'num_traces': 28, 'unit': 'mV'}, 'AP_duration_half_width': {'avg': 0.9762804705206539, 'num_traces': 28, 'unit': 'ms'}, 'AHP_depth': {'avg': 12.181973427792704, 'num_traces': 28, 'unit': 'mV'}, 'AHP_time_from_peak': {'avg': 1.8924128401343334, 'num_traces': 28, 'unit': 'ms'}, 'AP_peak_upstroke': {'avg': 85.61878489505489, 'num_traces': 28, 'unit': 'V/s'}, 'AP_peak_downstroke': {'avg': -59.6682547023351, 'num_traces': 28, 'unit': 'V/s'}, 'voltage_base': {'avg': -61.41873755494349, 'num_traces': 32, 'unit': 'mV'}, 'voltage_after_stim': {'avg': -62.12817450267376, 'num_traces': 32, 'unit': 'mV'}, 'ohmic_input_resistance_vb_ssse': {'avg': 71.82042911097551, 'num_traces': 32, 'unit': 'MΩ'}, 'steady_state_voltage_stimend': {'avg': -59.43315941286039, 'num_traces': 32, 'unit': 'mV'}, 'decay_time_constant_after_stim': {'avg': 12.198086705986562, 'num_traces': 32, 'unit': 'ms'}, 'depol_block_bool': {'avg': 0.0, 'num_traces': 32, 'unit': None}, 'stimulus_current': '0.16782714950750233 nA'}, 'hyperdepol_0': {'spike_count': {'avg': 0.9375, 'num_traces': 32, 'unit': None}, 'time_to_first_spike': {'avg': 529.2899999995652, 'num_traces': 10, 'unit': 'ms'}, 'time_to_last_spike': {'avg': 537.169999999558, 'num_traces': 10, 'unit': 'ms'}, 'inv_time_to_first_spike': {'avg': 1.8951907562669887, 'num_traces': 10, 'unit': 'Hz'}, 'doublet_ISI': {'avg': 3.369999999996935, 'num_traces': 10, 'unit': 'ms'}, 'inv_first_ISI': {'avg': 300.8383289246516, 'num_traces': 10, 'unit': 'Hz'}, 'ISI_log_slope': {'avg': 0.6869473202810298, 'num_traces': 3, 'unit': 'ms'}, 'ISI_CV': {'avg': 0.3301322488423974, 'num_traces': 3, 'unit': None}, 'irregularity_index': {'avg': 2.199999999997999, 'num_traces': 3, 'unit': 'ms'}, 'adaptation_index': {'avg': 0.1627058056849328, 'num_traces': 3, 'unit': None}, 'mean_frequency': {'avg': 5.624413782415126, 'num_traces': 10, 'unit': 'Hz'}, 'strict_burst_number': {'avg': 0.21875, 'num_traces': 32, 'unit': None}, 'strict_burst_mean_freq': {'avg': 407.78904877767184, 'num_traces': 7, 'unit': 'Hz'}, 'spikes_per_burst': {'avg': 2.4285714285714284, 'num_traces': 7, 'unit': None}, 'AP_height': {'avg': 1.5328124933385154, 'num_traces': 10, 'unit': 'mV'}, 'AP_amplitude': {'avg': 44.61239591163408, 'num_traces': 10, 'unit': 'mV'}, 'AP1_amp': {'avg': 43.876875040167526, 'num_traces': 10, 'unit': 'mV'}, 'APlast_amp': {'avg': 45.30140635591899, 'num_traces': 10, 'unit': 'mV'}, 'AP_duration_half_width': {'avg': 0.899374999999182, 'num_traces': 10, 'unit': 'ms'}, 'AHP_depth': {'avg': 22.026304601527812, 'num_traces': 10, 'unit': 'mV'}, 'AHP_time_from_peak': {'avg': 1.4914583333319769, 'num_traces': 10, 'unit': 'ms'}, 'AP_peak_upstroke': {'avg': 91.81562034291815, 'num_traces': 10, 'unit': 'V/s'}, 'AP_peak_downstroke': {'avg': -65.95155866941863, 'num_traces': 10, 'unit': 'V/s'}, 'voltage_base': {'avg': -60.84846796665519, 'num_traces': 32, 'unit': 'mV'}, 'voltage_after_stim': {'avg': -60.889917312095065, 'num_traces': 32, 'unit': 'mV'}, 'ohmic_input_resistance_vb_ssse': {'avg': -121.3209946552509, 'num_traces': 32, 'unit': 'MΩ'}, 'steady_state_voltage_stimend': {'avg': -53.80264801258595, 'num_traces': 32, 'unit': 'mV'}, 'decay_time_constant_after_stim': {'avg': 17.242708097199795, 'num_traces': 32, 'unit': 'ms'}, 'depol_block_bool': {'avg': 0.28125, 'num_traces': 32, 'unit': None}, 'stimulus_current': '-0.07496093260124326 nA'}, 'poscheops_0': {'spike_count': {'avg': 34.375, 'num_traces': 8, 'unit': None}, 'time_to_first_spike': {'avg': 4966.399999975811, 'num_traces': 5, 'unit': 'ms'}, 'time_to_last_spike': {'avg': 17386.824999904627, 'num_traces': 5, 'unit': 'ms'}, 'inv_time_to_first_spike': {'avg': 0.40550947955835176, 'num_traces': 5, 'unit': 'Hz'}, 'doublet_ISI': {'avg': 246.3750000008963, 'num_traces': 4, 'unit': 'ms'}, 'inv_first_ISI': {'avg': 4.151026337961316, 'num_traces': 4, 'unit': 'Hz'}, 'ISI_log_slope': {'avg': 0.005019591740854407, 'num_traces': 4, 'unit': 'ms'}, 'ISI_CV': {'avg': 3.781070805804516, 'num_traces': 4, 'unit': None}, 'irregularity_index': {'avg': 318.80092524826324, 'num_traces': 4, 'unit': 'ms'}, 'adaptation_index': {'avg': 0.003153054821899145, 'num_traces': 4, 'unit': None}, 'mean_frequency': {'avg': 3.1295472708813974, 'num_traces': 5, 'unit': 'Hz'}, 'strict_burst_number': {'avg': 1.5, 'num_traces': 8, 'unit': None}, 'strict_burst_mean_freq': {'avg': 14.522834455552157, 'num_traces': 4, 'unit': 'Hz'}, 'spikes_per_burst': {'avg': 21.583333333333332, 'num_traces': 4, 'unit': None}, 'AP_height': {'avg': 5.0227481717297175, 'num_traces': 5, 'unit': 'mV'}, 'AP_amplitude': {'avg': 39.84386888206647, 'num_traces': 5, 'unit': 'mV'}, 'AP1_amp': {'avg': 40.26218617235936, 'num_traces': 5, 'unit': 'mV'}, 'APlast_amp': {'avg': 39.18187520371222, 'num_traces': 5, 'unit': 'mV'}, 'AP_duration_half_width': {'avg': 1.046079916242799, 'num_traces': 5, 'unit': 'ms'}, 'AHP_depth': {'avg': 10.534684568010451, 'num_traces': 5, 'unit': 'mV'}, 'AHP_time_from_peak': {'avg': 2.187982077589426, 'num_traces': 5, 'unit': 'ms'}, 'AP_peak_upstroke': {'avg': 74.42365320574602, 'num_traces': 5, 'unit': 'V/s'}, 'AP_peak_downstroke': {'avg': -50.27412065365087, 'num_traces': 5, 'unit': 'V/s'}, 'voltage_base': {'avg': -63.307690676394685, 'num_traces': 8, 'unit': 'mV'}, 'voltage_after_stim': {'avg': -65.40850889079913, 'num_traces': 8, 'unit': 'mV'}, 'ohmic_input_resistance_vb_ssse': {'avg': 44.25397351288868, 'num_traces': 8, 'unit': 'MΩ'}, 'steady_state_voltage_stimend': {'avg': -53.317718389116166, 'num_traces': 8, 'unit': 'mV'}, 'decay_time_constant_after_stim': {'avg': 249.0456066968947, 'num_traces': 8, 'unit': 'ms'}, 'depol_block_bool': {'avg': 0.125, 'num_traces': 8, 'unit': None}, 'stimulus_current': '0.22500000474974513 nA'}, 'spikerec_0': {'spike_count': {'avg': 2.081081081081081, 'num_traces': 37, 'unit': None}, 'time_to_first_spike': {'avg': 14.359459459459597, 'num_traces': 37, 'unit': 'ms'}, 'time_to_last_spike': {'avg': 600.8945945945028, 'num_traces': 37, 'unit': 'ms'}, 'inv_time_to_first_spike': {'avg': 69.65277967276832, 'num_traces': 37, 'unit': 'Hz'}, 'doublet_ISI': {'avg': 586.3885135134219, 'num_traces': 37, 'unit': 'ms'}, 'inv_first_ISI': {'avg': 10.866425363577623, 'num_traces': 37, 'unit': 'Hz'}, 'mean_frequency': {'avg': 12.436794869711584, 'num_traces': 37, 'unit': 'Hz'}, 'strict_burst_number': {'avg': 0.08108108108108109, 'num_traces': 37, 'unit': None}, 'strict_burst_mean_freq': {'avg': 1133.855965499476, 'num_traces': 3, 'unit': 'Hz'}, 'spikes_per_burst': {'avg': 2.0, 'num_traces': 3, 'unit': None}, 'AP_height': {'avg': 5.064111826499266, 'num_traces': 37, 'unit': 'mV'}, 'AP_amplitude': {'avg': 14.646734282066497, 'num_traces': 37, 'unit': 'mV'}, 'AP1_amp': {'avg': 19.66613181861502, 'num_traces': 37, 'unit': 'mV'}, 'APlast_amp': {'avg': 9.880658804495626, 'num_traces': 37, 'unit': 'mV'}, 'AP_duration_half_width': {'avg': 0.7690315315315776, 'num_traces': 37, 'unit': 'ms'}, 'AHP_time_from_peak': {'avg': 4.089864864866699, 'num_traces': 37, 'unit': 'ms'}, 'AP_peak_upstroke': {'avg': 43.33220800833391, 'num_traces': 37, 'unit': 'V/s'}, 'AP_peak_downstroke': {'avg': -34.299691032430715, 'num_traces': 37, 'unit': 'V/s'}, 'voltage_after_stim': {'avg': -45.49594569850613, 'num_traces': 37, 'unit': 'mV'}, 'steady_state_voltage_stimend': {'avg': -45.46314247072392, 'num_traces': 37, 'unit': 'mV'}, 'depol_block_bool': {'avg': 0.0, 'num_traces': 37, 'unit': None}, 'stimulus_current': '0.8587162124144064 nA'}, 'sinespec_0': {'spike_count': {'avg': 0.0, 'num_traces': 24, 'unit': None}, 'strict_burst_number': {'avg': 0.0, 'num_traces': 24, 'unit': None}, 'voltage_base': {'avg': -62.87989224892496, 'num_traces': 24, 'unit': 'mV'}, 'voltage_after_stim': {'avg': -62.2051647169039, 'num_traces': 24, 'unit': 'mV'}, 'ohmic_input_resistance_vb_ssse': {'avg': 33.52860424978764, 'num_traces': 24, 'unit': 'MΩ'}, 'steady_state_voltage_stimend': {'avg': -61.31838505135132, 'num_traces': 24, 'unit': 'mV'}, 'decay_time_constant_after_stim': {'avg': 26.424994586322622, 'num_traces': 24, 'unit': 'ms'}, 'depol_block_bool': {'avg': 0.0, 'num_traces': 24, 'unit': None}, 'stimulus_current': '0.046542972326278687 nA'}}}\n"
     ]
    }
   ],
   "source": [
    "# Construct the full endpoint URL\n",
    "url = f\"{obi_one_api_url}/declared/electrophysiologyrecording-metrics/{Electrical_cell_recording_id}\"\n",
    "\n",
    "# Set headers\n",
    "headers = {\n",
    "    \"Authorization\": f\"Bearer {token}\",\n",
    "    \"Accept\": \"application/json\"\n",
    "}\n",
    "\n",
    "# Optionally include optional headers if they are set\n",
    "if virtual_lab_id:\n",
    "    headers[\"virtual-lab-id\"] = virtual_lab_id\n",
    "if project_id:\n",
    "    headers[\"project-id\"] = project_id\n",
    "\n",
    "# Make the GET request\n",
    "response = requests.get(url, headers=headers)\n",
    "\n",
    "# Check the response\n",
    "if response.status_code == 200:\n",
    "    data = response.json()\n",
    "    print(\"Success:\", data)\n",
    "else:\n",
    "    print(f\"Error {response.status_code}: {response.text}\")\n"
   ]
  }
 ],
 "metadata": {
  "kernelspec": {
   "display_name": ".venv",
   "language": "python",
   "name": "python3"
  },
  "language_info": {
   "codemirror_mode": {
    "name": "ipython",
    "version": 3
   },
   "file_extension": ".py",
   "mimetype": "text/x-python",
   "name": "python",
   "nbconvert_exporter": "python",
   "pygments_lexer": "ipython3",
   "version": "3.12.10"
  }
 },
 "nbformat": 4,
 "nbformat_minor": 5
}
