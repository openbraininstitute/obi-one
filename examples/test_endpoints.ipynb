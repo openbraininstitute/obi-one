{
 "cells": [
  {
   "cell_type": "markdown",
   "id": "77b0147b",
   "metadata": {},
   "source": [
    "# Select database (i.e. staging, production, local authenticated, local unauthenticated)"
   ]
  },
  {
   "cell_type": "code",
   "execution_count": 12,
   "id": "8b41bab3",
   "metadata": {},
   "outputs": [],
   "source": [
    "import requests\n",
    "from obi_auth import get_token\n",
    "from entitysdk import Client, ProjectContext, models\n",
    "from enum import Enum\n",
    "\n",
    "class DatabaseEnvironment(Enum):\n",
    "    STAGING_DATABASE = \"staging\"\n",
    "    # PRODUCTION_DATABASE = \"production\"\n",
    "    # LOCAL_UNAUTHENTICATED = \"local_unauthenticated\"\n",
    "    # Note: LOCAL_AUTHENTICATED is not supported by entitycore because the project/vlab ids do not exist in your keycloak groups\n",
    "\n",
    "obi_one_api_url = \"http://127.0.0.1:8100\"\n",
    "\n",
    "add_morphology_asset = False\n",
    "\n",
    "database_environment = DatabaseEnvironment.STAGING_DATABASE\n",
    "# database_environment = DatabaseEnvironment.PRODUCTION_DATABASE\n",
    "# database_environment = DatabaseEnvironment.LOCAL_UNAUTHENTICATED\n",
    "\n",
    "if database_environment == DatabaseEnvironment.STAGING_DATABASE:\n",
    "    \"\"\"\n",
    "    - Uncomment in obi-one/.env.run-local before \"make run-local\": \n",
    "        export ENTITYCORE_URL=https://staging.openbraininstitute.org/api/entitycore\n",
    "    \"\"\"\n",
    "    entitycore_api_url = \"https://staging.openbraininstitute.org/api/entitycore\"\n",
    "    virtual_lab_id=\"e6030ed8-a589-4be2-80a6-f975406eb1f6\"\n",
    "    project_id=\"2720f785-a3a2-4472-969d-19a53891c817\"\n",
    "\n",
    "# elif database_environment == DatabaseEnvironment.PRODUCTION_DATABASE:\n",
    "#     \"\"\"\n",
    "#     For future: EntityCore not currently in production.\n",
    "#     - Uncomment in obi-one/.env.run-local before \"make run-local\": \n",
    "#         export ENTITYCORE_URL=https://www.openbraininstitute.org/api/entitycore\n",
    "#     \"\"\"\n",
    "#     entitycore_api_url = \"https://www.openbraininstitute.org/api/entitycore\"\n",
    "\n",
    "elif database_environment == DatabaseEnvironment.LOCAL_UNAUTHENTICATED:\n",
    "    \"\"\"\n",
    "    Not yet tested.\n",
    "    - Launch entitycore locally (make run-local)\n",
    "    - Add a morphology with a project name (see entitysdk)\n",
    "    \"\"\"\n",
    "    entitycore_api_url = \"http://127.0.0.1:8000\"\n",
    "    add_morphology_asset = True\n",
    "    virtual_lab_id=\"a98b7abc-fc46-4700-9e3d-37137812c730\"\n",
    "    project_id=\"0dbced5f-cc3d-488a-8c7f-cfb8ea039dc6\"\n",
    "    # virtual_lab_id=\"e6030ed8-a589-4be2-80a6-f975406eb1f6\"\n",
    "    # project_id=\"2720f785-a3a2-4472-969d-19a53891c817\"\n",
    "    \n",
    "else:\n",
    "    raise ValueError(f\"Unsupported environment: {database_environment}\")\n",
    "\n",
    "\n",
    "token = get_token(environment=\"staging\")\n",
    "project_context = ProjectContext(virtual_lab_id=virtual_lab_id, project_id=project_id)\n",
    "client = Client(api_url=entitycore_api_url, project_context=project_context, token_manager=token)"
   ]
  },
  {
   "cell_type": "markdown",
   "id": "8133b3c7",
   "metadata": {},
   "source": [
    "# Find a morphology"
   ]
  },
  {
   "cell_type": "code",
   "execution_count": 13,
   "id": "156f19a0",
   "metadata": {},
   "outputs": [
    {
     "name": "stdout",
     "output_type": "stream",
     "text": [
      "0fa285f5-7989-45f8-ab6d-9ff5128b15e0\n"
     ]
    }
   ],
   "source": [
    "from entitysdk.models.morphology import (\n",
    "    ReconstructionMorphology,\n",
    ")\n",
    "kwargs = {}\n",
    "reconstruction_morphologies = client.search_entity(\n",
    "    entity_type=ReconstructionMorphology, query=kwargs, limit=10\n",
    ").all()\n",
    "\n",
    "reconstruction_morphology_id = reconstruction_morphologies[4].id\n",
    "print(reconstruction_morphology_id)"
   ]
  },
  {
   "cell_type": "markdown",
   "id": "4bef1b3a",
   "metadata": {},
   "source": [
    "# Fetch a morphology"
   ]
  },
  {
   "cell_type": "code",
   "execution_count": 14,
   "id": "19d58ecc",
   "metadata": {},
   "outputs": [
    {
     "name": "stdout",
     "output_type": "stream",
     "text": [
      "assets=[Asset(id=UUID('595ecfc0-69a5-4abe-abe1-d69343664f19'), update_date=None, creation_date=None, path='481_171205S1C1N3_with_contour.asc', full_path='public/c16be625-0049-49ff-bcb9-b83833057e12/3459ba2a-148f-4027-bb22-8c7202d81276/assets/reconstruction_morphology/0fa285f5-7989-45f8-ab6d-9ff5128b15e0/481_171205S1C1N3_with_contour.asc', is_directory=False, content_type='application/asc', size=1371591, sha256_digest='848c5b28d17e2ed2aadc5d0c648462747c6220540c152b6b59062b8142287333', status='created', meta={}, label=None), Asset(id=UUID('e4059bbb-6539-45eb-a71c-e02f4559eeda'), update_date=None, creation_date=None, path='481_171205S1C1N3_with_contour.swc', full_path='public/c16be625-0049-49ff-bcb9-b83833057e12/3459ba2a-148f-4027-bb22-8c7202d81276/assets/reconstruction_morphology/0fa285f5-7989-45f8-ab6d-9ff5128b15e0/481_171205S1C1N3_with_contour.swc', is_directory=False, content_type='application/swc', size=1726522, sha256_digest='ee726e934a427b7a823885f5e7f4968be9c1407a696c27088643bf0645a8554a', status='created', meta={}, label=None), Asset(id=UUID('b58453bf-b5f6-4a2f-9c74-1260976b6866'), update_date=None, creation_date=None, path='481_171205S1C1N3_with_contour.h5', full_path='public/c16be625-0049-49ff-bcb9-b83833057e12/3459ba2a-148f-4027-bb22-8c7202d81276/assets/reconstruction_morphology/0fa285f5-7989-45f8-ab6d-9ff5128b15e0/481_171205S1C1N3_with_contour.h5', is_directory=False, content_type='application/x-hdf5', size=343636, sha256_digest='c645d26d6f7f41efbbbb6b7b0819c9cb1eecb1049b1b5ac3588fed5ab5a60c6f', status='created', meta={}, label=None)] id=UUID('0fa285f5-7989-45f8-ab6d-9ff5128b15e0') update_date=datetime.datetime(2025, 6, 23, 9, 48, 14, 964788, tzinfo=TzInfo(UTC)) creation_date=datetime.datetime(2025, 6, 23, 9, 48, 14, 964788, tzinfo=TzInfo(UTC)) name='481_171205S1C1N3_with_contour' description='Morphological reconstrcution of the mouse temporal lobe. Part of the dataset published in Kanari et al., 2025.' type='reconstruction_morphology' created_by=Person(id=UUID('a9d19f1e-bafb-4e80-a53d-11dd983cd783'), update_date=None, creation_date=None, type='person', pref_label='ilkan kilic', given_name='ilkan', family_name='kilic') updated_by=Person(id=UUID('a9d19f1e-bafb-4e80-a53d-11dd983cd783'), update_date=None, creation_date=None, type='person', pref_label='ilkan kilic', given_name='ilkan', family_name='kilic') authorized_public=True authorized_project_id=UUID('3459ba2a-148f-4027-bb22-8c7202d81276') contributions=[Contribution(id=UUID('0e69d603-3803-4ea3-a9bc-c87bb5d017dc'), update_date=None, creation_date=None, agent=Person(id=UUID('f8877acf-26c3-47c1-bf71-9726fd70bdda'), update_date=None, creation_date=None, type='person', pref_label='Christiaan de Kock', given_name='Christiaan', family_name='de Kock'), role=Role(id=UUID('15fdf2be-ac61-43d8-9243-095d24f9679f'), update_date=datetime.datetime(2025, 6, 20, 9, 21, 39, 298184, tzinfo=TzInfo(UTC)), creation_date=datetime.datetime(2025, 6, 20, 9, 21, 39, 298184, tzinfo=TzInfo(UTC)), name='neuron morphology reconstruction role', role_id='Neuron:MorphologyReconstructionRole'), entity=None)] legacy_id=None location=None brain_region=BrainRegion(id=UUID('9ea18ae9-e7c1-4d53-9229-4e6cc7d757d7'), update_date=datetime.datetime(2025, 6, 20, 9, 21, 0, 697718, tzinfo=TzInfo(UTC)), creation_date=datetime.datetime(2025, 6, 20, 9, 21, 0, 697718, tzinfo=TzInfo(UTC)), name='Temporal association areas', annotation_value=541, acronym='TEa', parent_structure_id=UUID('f007ec1f-5257-4c2d-8f6b-444c5fe14e06'), hierarchy_id=UUID('e3e70682-c209-4cac-a29f-6fbed82c07cd'), color_hex_triplet='15B0B3') species=Species(id=UUID('5d67fde6-51a4-4c04-a0e9-3e953bb584e3'), update_date=None, creation_date=None, name='Mus musculus', taxonomy_id='NCBITaxon:10090') strain=None license=License(id=UUID('dce17831-a822-40f6-9e1a-2e93f4bca0cf'), update_date=datetime.datetime(2024, 1, 16, 14, 51, 5, 847971, tzinfo=TzInfo(UTC)), creation_date=datetime.datetime(2024, 1, 10, 15, 58, 46, 7611, tzinfo=TzInfo(UTC)), name='https://creativecommons.org/licenses/by/4.0/', description='Creative Commons Corporation (\"Creative Commons\") is not a law firm and does not provide legal services or legal advice. Distribution of Creative Commons public licenses does not create a lawyer-client or other relationship. Creative Commons makes its licenses and related information available on an \"as-is\" basis. Creative Commons gives no warranties regarding its licenses, any material licensed under their terms and conditions, or any related information. Creative Commons disclaims all liability for damages resulting from their use to the fullest extent possible.', label='CC BY 4.0 Deed') mtypes=[MTypeClass(id=UUID('c3dfb3e3-0adf-4c34-a9a0-88e4ffe61673'), update_date=datetime.datetime(2024, 11, 22, 11, 10, 30, 512256, tzinfo=TzInfo(UTC)), creation_date=datetime.datetime(2021, 9, 6, 15, 47, 36, 611000, tzinfo=TzInfo(UTC)), pref_label='L23_PC', definition='A layer 2/3 pyramidal cell', alt_label='Layer 2/3 Pyramidal Cell')]\n"
     ]
    }
   ],
   "source": [
    "from entitysdk.models.morphology import (\n",
    "    ReconstructionMorphology,\n",
    ")\n",
    "kwargs = {}\n",
    "reconstruction_morphology = client.get_entity(\n",
    "    entity_id=reconstruction_morphology_id, entity_type=ReconstructionMorphology\n",
    "    # entity_type=ReconstructionMorphology, query=kwargs, limit=10\n",
    ")\n",
    "\n",
    "# reconstruction_morphology_id = reconstruction_morphologies[1].id\n",
    "print(reconstruction_morphology)"
   ]
  },
  {
   "cell_type": "code",
   "execution_count": 15,
   "id": "396e4586",
   "metadata": {},
   "outputs": [
    {
     "name": "stdout",
     "output_type": "stream",
     "text": [
      "0fa285f5-7989-45f8-ab6d-9ff5128b15e0\n"
     ]
    }
   ],
   "source": [
    "reconstruction_morphology_id = reconstruction_morphology.id\n",
    "print(reconstruction_morphology_id)"
   ]
  },
  {
   "cell_type": "code",
   "execution_count": 16,
   "id": "6bc6b6e5",
   "metadata": {},
   "outputs": [],
   "source": [
    "import tempfile\n",
    "from pathlib import Path\n",
    "import io\n",
    "\n",
    "if add_morphology_asset:\n",
    "    with tempfile.TemporaryDirectory() as tdir:\n",
    "\n",
    "        src = Path(\"single_cell_simulations/components/morphologies/C060114A5.swc\")\n",
    "        file2 = Path(tdir, \"morphology.swc\")\n",
    "        # print(src.read_text())\n",
    "        file2.write_text(src.read_text())\n",
    "\n",
    "        # use an in-memory buffer to upload second asset\n",
    "        buffer = io.BytesIO(b\"morph bytes buffer\")\n",
    "\n",
    "        asset2 = client.upload_content(\n",
    "            entity_id=reconstruction_morphology_id,\n",
    "            entity_type=ReconstructionMorphology,\n",
    "            file_content=buffer,\n",
    "            file_name=\"morphology.swc\",\n",
    "            file_content_type=\"application/swc\",\n",
    "        )\n",
    "\n",
    "        print(asset2)\n"
   ]
  },
  {
   "cell_type": "markdown",
   "id": "71444d78",
   "metadata": {},
   "source": [
    "# Call the declared morphology metrics endpoint"
   ]
  },
  {
   "cell_type": "code",
   "execution_count": 21,
   "id": "2d1cf069",
   "metadata": {},
   "outputs": [
    {
     "name": "stdout",
     "output_type": "stream",
     "text": [
      "Success: {'aspect_ratio': 0.4648461807482674, 'circularity': 0.6599072772975014, 'length_fraction_above_soma': 0.5042385458946228, 'max_radial_distance': 682.55810546875, 'number_of_neurites': 12, 'soma_radius': 6.802358936219697, 'soma_surface_area': 581.4722290039062}\n"
     ]
    }
   ],
   "source": [
    "# Construct the full endpoint URL\n",
    "url = f\"{obi_one_api_url}/declared/neuron-morphology-metrics/{reconstruction_morphology_id}\"\n",
    "\n",
    "# Set headers\n",
    "headers = {\n",
    "    \"Authorization\": f\"Bearer {token}\",\n",
    "    \"Accept\": \"application/json\"\n",
    "}\n",
    "\n",
    "# Optionally include optional headers if they are set\n",
    "if virtual_lab_id:\n",
    "    headers[\"virtual-lab-id\"] = virtual_lab_id\n",
    "if project_id:\n",
    "    headers[\"project-id\"] = project_id\n",
    "\n",
    "# Make the GET request\n",
    "response = requests.get(url, headers=headers)\n",
    "\n",
    "# Check the response\n",
    "if response.status_code == 200:\n",
    "    data = response.json()\n",
    "    print(\"Success:\", data)\n",
    "else:\n",
    "    print(f\"Error {response.status_code}: {response.text}\")\n"
   ]
  },
  {
   "cell_type": "markdown",
   "id": "4a55fb1b",
   "metadata": {},
   "source": [
    "# Call the generated morphology metrics endpoint\n",
    "# ERROR WITH THE MORPHOLOGY (AS USING SWC UNLIKE THE DECLARED). TO LOOK INTO!"
   ]
  },
  {
   "cell_type": "code",
   "execution_count": 20,
   "id": "131dd952",
   "metadata": {},
   "outputs": [
    {
     "name": "stdout",
     "output_type": "stream",
     "text": [
      "Error 500: Traceback (most recent call last):\n",
      "  File \"/Users/james/Documents/obi/code/obi-one/.venv/lib/python3.12/site-packages/starlette/middleware/errors.py\", line 165, in __call__\n",
      "    await self.app(scope, receive, _send)\n",
      "  File \"/Users/james/Documents/obi/code/obi-one/.venv/lib/python3.12/site-packages/starlette/middleware/cors.py\", line 85, in __call__\n",
      "    await self.app(scope, receive, send)\n",
      "  File \"/Users/james/Documents/obi/code/obi-one/.venv/lib/python3.12/site-packages/starlette/middleware/exceptions.py\", line 62, in __call__\n",
      "    await wrap_app_handling_exceptions(self.app, conn)(scope, receive, send)\n",
      "  File \"/Users/james/Documents/obi/code/obi-one/.venv/lib/python3.12/site-packages/starlette/_exception_handler.py\", line 53, in wrapped_app\n",
      "    raise exc\n",
      "  File \"/Users/james/Documents/obi/code/obi-one/.venv/lib/python3.12/site-packages/starlette/_exception_handler.py\", line 42, in wrapped_app\n",
      "    await app(scope, receive, sender)\n",
      "  File \"/Users/james/Documents/obi/code/obi-one/.venv/lib/python3.12/site-packages/starlette/routing.py\", line 714, in __call__\n",
      "    await self.middleware_stack(scope, receive, send)\n",
      "  File \"/Users/james/Documents/obi/code/obi-one/.venv/lib/python3.12/site-packages/starlette/routing.py\", line 734, in app\n",
      "    await route.handle(scope, receive, send)\n",
      "  File \"/Users/james/Documents/obi/code/obi-one/.venv/lib/python3.12/site-packages/starlette/routing.py\", line 288, in handle\n",
      "    await self.app(scope, receive, send)\n",
      "  File \"/Users/james/Documents/obi/code/obi-one/.venv/lib/python3.12/site-packages/starlette/routing.py\", line 76, in app\n",
      "    await wrap_app_handling_exceptions(app, request)(scope, receive, send)\n",
      "  File \"/Users/james/Documents/obi/code/obi-one/.venv/lib/python3.12/site-packages/starlette/_exception_handler.py\", line 53, in wrapped_app\n",
      "    raise exc\n",
      "  File \"/Users/james/Documents/obi/code/obi-one/.venv/lib/python3.12/site-packages/starlette/_exception_handler.py\", line 42, in wrapped_app\n",
      "    await app(scope, receive, sender)\n",
      "  File \"/Users/james/Documents/obi/code/obi-one/.venv/lib/python3.12/site-packages/starlette/routing.py\", line 73, in app\n",
      "    response = await f(request)\n",
      "               ^^^^^^^^^^^^^^^^\n",
      "  File \"/Users/james/Documents/obi/code/obi-one/.venv/lib/python3.12/site-packages/fastapi/routing.py\", line 327, in app\n",
      "    content = await serialize_response(\n",
      "              ^^^^^^^^^^^^^^^^^^^^^^^^^\n",
      "  File \"/Users/james/Documents/obi/code/obi-one/.venv/lib/python3.12/site-packages/fastapi/routing.py\", line 176, in serialize_response\n",
      "    raise ResponseValidationError(\n",
      "fastapi.exceptions.ResponseValidationError: 1 validation errors:\n",
      "  {'type': 'string_type', 'loc': ('response',), 'msg': 'Input should be a valid string', 'input': None}\n",
      "\n",
      "\n"
     ]
    }
   ],
   "source": [
    "import requests\n",
    "\n",
    "# Construct the full endpoint URL\n",
    "url = f\"{obi_one_api_url}/generated/morphology-metrics-run-grid\"\n",
    "\n",
    "# Prepare headers\n",
    "headers = {\n",
    "    \"Authorization\": f\"Bearer {token}\",\n",
    "    \"Accept\": \"application/json\",\n",
    "    \"Content-Type\": \"application/json\"\n",
    "}\n",
    "\n",
    "# Optionally include optional headers if they are set\n",
    "if virtual_lab_id:\n",
    "    headers[\"virtual-lab-id\"] = virtual_lab_id\n",
    "if project_id:\n",
    "    headers[\"project-id\"] = project_id\n",
    "\n",
    "# Construct request body — adjust this with the actual morphology metrics form data!\n",
    "# Placeholder example:\n",
    "request_body = {\n",
    "  \"type\": \"MorphologyMetricsForm\",\n",
    "  \"initialize\": {\n",
    "    \"type\": \"MorphologyMetricsForm.Initialize\",\n",
    "    \"morphology\": {\n",
    "      \"id_str\": str(reconstruction_morphology_id),\n",
    "    }\n",
    "  }\n",
    "}\n",
    "\n",
    "# Make the POST request\n",
    "response = requests.post(url, headers=headers, json=request_body)\n",
    "\n",
    "# Check the response\n",
    "if response.status_code == 200:\n",
    "    data = response.json()\n",
    "    print(\"Success:\", data)\n",
    "else:\n",
    "    print(f\"Error {response.status_code}: {response.text}\")"
   ]
  },
  {
   "cell_type": "code",
   "execution_count": null,
   "id": "55838717",
   "metadata": {},
   "outputs": [],
   "source": []
  }
 ],
 "metadata": {
  "kernelspec": {
   "display_name": ".venv",
   "language": "python",
   "name": "python3"
  },
  "language_info": {
   "codemirror_mode": {
    "name": "ipython",
    "version": 3
   },
   "file_extension": ".py",
   "mimetype": "text/x-python",
   "name": "python",
   "nbconvert_exporter": "python",
   "pygments_lexer": "ipython3",
   "version": "3.12.9"
  }
 },
 "nbformat": 4,
 "nbformat_minor": 5
}
