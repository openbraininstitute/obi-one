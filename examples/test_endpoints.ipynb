{
 "cells": [
  {
   "cell_type": "markdown",
   "id": "77b0147b",
   "metadata": {},
   "source": [
    "# Select database (i.e. staging, production, local authenticated, local unauthenticated)"
   ]
  },
  {
   "cell_type": "code",
   "execution_count": 1,
   "id": "8b41bab3",
   "metadata": {},
   "outputs": [],
   "source": [
    "import requests\n",
    "from obi_auth import get_token\n",
    "from entitysdk.client import Client\n",
    "from entitysdk.common import ProjectContext\n",
    "from enum import Enum\n",
    "\n",
    "class DatabaseEnvironment(Enum):\n",
    "    STAGING_DATABASE = \"staging\"\n",
    "    # PRODUCTION_DATABASE = \"production\"\n",
    "    LOCAL_UNAUTHENTICATED = \"local_unauthenticated\"\n",
    "    LOCAL_AUTHENTICATED = \"local_authenticated\"\n",
    "\n",
    "obi_one_api_url = \"http://127.0.0.1:8100\"\n",
    "virtual_lab_id=\"edb1fb49-660b-477b-af7b-12913b2df7d9\"\n",
    "project_id=\"d4d004bc-44c5-4f15-94a7-1e4478e82b1d\"\n",
    "\n",
    "database_environment = DatabaseEnvironment.STAGING_DATABASE\n",
    "# database_environment = DatabaseEnvironment.PRODUCTION_DATABASE\n",
    "# database_environment = DatabaseEnvironment.LOCAL_UNAUTHENTICATED\n",
    "# database_environment = DatabaseEnvironment.LOCAL_AUTHENTICATED\n",
    "\n",
    "if database_environment == DatabaseEnvironment.STAGING_DATABASE:\n",
    "    \"\"\"\n",
    "    - Uncomment in obi-one/.env.run-local before \"make run-local\":\n",
    "        export ENTITYCORE_URL=https://staging.openbraininstitute.org/api/entitycore\n",
    "    \"\"\"\n",
    "    entitycore_api_url = \"https://staging.openbraininstitute.org/api/entitycore\"\n",
    "\n",
    "# elif database_environment == DatabaseEnvironment.PRODUCTION_DATABASE:\n",
    "#     \"\"\"\n",
    "#     For future: EntityCore not currently in production.\n",
    "#     - Uncomment in obi-one/.env.run-local before \"make run-local\":\n",
    "#         export ENTITYCORE_URL=https://www.openbraininstitute.org/api/entitycore\n",
    "#     \"\"\"\n",
    "#     entitycore_api_url = \"https://www.openbraininstitute.org/api/entitycore\"\n",
    "\n",
    "elif DatabaseEnvironment.LOCAL_UNAUTHENTICATED:\n",
    "    \"\"\"\n",
    "    Not yet tested.\n",
    "    - Launch entitycore locally (make run-local)\n",
    "    - Add a morphology with a project name (see entitysdk)\n",
    "    \"\"\"\n",
    "    entitycore_api_url = \"https://127.0.1:8000/api/entitycore\"\n",
    "\n",
    "elif DatabaseEnvironment.LOCAL_AUTHENTICATED:\n",
    "    \"\"\"\n",
    "    Not yet tested.\n",
    "    - Change APP_DISABLE_AUTH to False in entitycore/.env.run-local\n",
    "    - Launch entitycore locally (make run-local)\n",
    "    - Add a morphology with a project name (see entitysdk morphology.ipynb example)\n",
    "    \"\"\"\n",
    "    entitycore_api_url = \"https://127.0.1:8000/api/entitycore\"\n",
    "\n",
    "else:\n",
    "    raise ValueError(f\"Unsupported environment: {database_environment}\")\n",
    "\n",
    "\n",
    "token = get_token(environment=\"staging\")\n",
    "project_context = ProjectContext(virtual_lab_id=virtual_lab_id, project_id=project_id)\n",
    "client = Client(api_url=entitycore_api_url, project_context=project_context, token_manager=token)"
   ]
  },
  {
   "cell_type": "markdown",
   "id": "8133b3c7",
   "metadata": {},
   "source": [
    "# Fetch a morphology"
   ]
  },
  {
   "cell_type": "code",
   "execution_count": 2,
   "id": "156f19a0",
   "metadata": {},
   "outputs": [
    {
     "name": "stdout",
     "output_type": "stream",
     "text": [
      "393b267f-7bd8-4569-be1c-968544e52729\n"
     ]
    }
   ],
   "source": [
    "from entitysdk.models.morphology import (\n",
    "    ReconstructionMorphology,\n",
    ")\n",
    "kwargs = {}\n",
    "reconstruction_morphologies = client.search_entity(\n",
    "    entity_type=ReconstructionMorphology, query=kwargs, limit=10\n",
    ").all()\n",
    "\n",
    "reconstruction_morphology_id = reconstruction_morphologies[0].id\n",
    "print(reconstruction_morphology_id)"
   ]
  },
  {
   "cell_type": "markdown",
   "id": "71444d78",
   "metadata": {},
   "source": [
    "# Call the declared morphology metrics endpoint"
   ]
  },
  {
   "cell_type": "code",
   "execution_count": 3,
   "id": "2d1cf069",
   "metadata": {},
   "outputs": [
    {
     "name": "stdout",
     "output_type": "stream",
     "text": [
      "Success: {'aspect_ratio': 0.4873803958856252, 'circularity': 0.6788194705016894, 'length_fraction_above_soma': 0.4292110204696655, 'max_radial_distance': 930.7633666992188, 'number_of_neurites': 5, 'soma_radius': 10.585715293884277, 'soma_surface_area': 1408.1544189453125}\n"
     ]
    }
   ],
   "source": [
    "# Construct the full endpoint URL\n",
    "url = f\"{obi_one_api_url}/declared/neuron-morphology-metrics/{reconstruction_morphology_id}\"\n",
    "\n",
    "# Set headers\n",
    "headers = {\n",
    "    \"Authorization\": f\"Bearer {token}\",\n",
    "    \"Accept\": \"application/json\"\n",
    "}\n",
    "\n",
    "# Optionally include optional headers if they are set\n",
    "if virtual_lab_id:\n",
    "    headers[\"virtual-lab-id\"] = virtual_lab_id\n",
    "if project_id:\n",
    "    headers[\"project-id\"] = project_id\n",
    "\n",
    "# Make the GET request\n",
    "response = requests.get(url, headers=headers)\n",
    "\n",
    "# Check the response\n",
    "if response.status_code == 200:\n",
    "    data = response.json()\n",
    "    print(\"Success:\", data)\n",
    "else:\n",
    "    print(f\"Error {response.status_code}: {response.text}\")\n"
   ]
  },
  {
   "cell_type": "markdown",
   "id": "4a55fb1b",
   "metadata": {},
   "source": [
    "# Call the generated morphology metrics endpoint"
   ]
  },
  {
   "cell_type": "code",
   "execution_count": 4,
   "id": "131dd952",
   "metadata": {},
   "outputs": [
    {
     "name": "stdout",
     "output_type": "stream",
     "text": [
      "Success: {'0': {'aspect_ratio': 0.4873803958856252, 'circularity': 0.6788194705016894, 'length_fraction_above_soma': 0.4292110204696655, 'max_radial_distance': 930.7633666992188, 'number_of_neurites': 5, 'soma_radius': 10.585715293884277, 'soma_surface_area': 1408.1544189453125}}\n"
     ]
    }
   ],
   "source": [
    "import requests\n",
    "\n",
    "# Construct the full endpoint URL\n",
    "url = f\"{obi_one_api_url}/generated/morphology-metrics-run-grid\"\n",
    "\n",
    "# Prepare headers\n",
    "headers = {\n",
    "    \"Authorization\": f\"Bearer {token}\",\n",
    "    \"Accept\": \"application/json\",\n",
    "    \"Content-Type\": \"application/json\"\n",
    "}\n",
    "\n",
    "# Optionally include optional headers if they are set\n",
    "if virtual_lab_id:\n",
    "    headers[\"virtual-lab-id\"] = virtual_lab_id\n",
    "if project_id:\n",
    "    headers[\"project-id\"] = project_id\n",
    "\n",
    "# Construct request body — adjust this with the actual morphology metrics form data!\n",
    "# Placeholder example:\n",
    "request_body = {\n",
    "  \"type\": \"MorphologyMetricsForm\",\n",
    "  \"initialize\": {\n",
    "    \"type\": \"MorphologyMetricsForm.Initialize\",\n",
    "    \"morphology\": {\n",
    "      \"id_str\": str(reconstruction_morphology_id),\n",
    "    }\n",
    "  }\n",
    "}\n",
    "\n",
    "# Make the POST request\n",
    "response = requests.post(url, headers=headers, json=request_body)\n",
    "\n",
    "# Check the response\n",
    "if response.status_code == 200:\n",
    "    data = response.json()\n",
    "    print(\"Success:\", data)\n",
    "else:\n",
    "    print(f\"Error {response.status_code}: {response.text}\")"
   ]
  },
  {
   "cell_type": "code",
   "execution_count": 7,
   "id": "fcea93e4",
   "metadata": {},
   "outputs": [
    {
     "name": "stdout",
     "output_type": "stream",
     "text": [
      "f3948959-9d55-4fef-840d-b6b7e36e92e1\n"
     ]
    }
   ],
   "source": [
    "from entitysdk.models.electrical_cell_recording import (\n",
    "    ElectricalCellRecording,\n",
    ")\n",
    "kwargs = {\"name\": \"S1FL_L5_DBC_cIR_4\"}\n",
    "Electrical_cell_recording = client.search_entity(\n",
    "    entity_type=ElectricalCellRecording, query=kwargs, limit=1\n",
    ").one()\n",
    "\n",
    "Electrical_cell_recording_id = Electrical_cell_recording.id\n",
    "print(Electrical_cell_recording_id)"
   ]
  },
  {
   "cell_type": "markdown",
   "id": "68f90cc2",
   "metadata": {},
   "source": [
    "# Call the declared electrophysiology recording metrics endpoint"
   ]
  },
  {
   "cell_type": "code",
   "execution_count": 8,
   "id": "5cb89e06",
   "metadata": {},
   "outputs": [
    {
     "name": "stdout",
     "output_type": "stream",
     "text": [
      "Success: {'feature_dict': {'step_0': {'spike_count': {'avg': 1.6666666666666667, 'num_traces': 3, 'unit': None}, 'time_to_first_spike': {'avg': 6.62500000002413, 'num_traces': 3, 'unit': 'ms'}, 'time_to_last_spike': {'avg': 19.400000000027035, 'num_traces': 3, 'unit': 'ms'}, 'inv_time_to_first_spike': {'avg': 303.1065437050581, 'num_traces': 3, 'unit': 'Hz'}, 'doublet_ISI': {'avg': 19.162500000004357, 'num_traces': 2, 'unit': 'ms'}, 'inv_first_ISI': {'avg': 72.74608153443701, 'num_traces': 2, 'unit': 'Hz'}, 'mean_frequency': {'avg': 228.74223751569082, 'num_traces': 3, 'unit': 'Hz'}, 'strict_burst_number': {'avg': 0.0, 'num_traces': 3, 'unit': None}, 'AP_height': {'avg': -12.364847343260458, 'num_traces': 3, 'unit': 'mV'}, 'AP_amplitude': {'avg': 50.82487408104208, 'num_traces': 3, 'unit': 'mV'}, 'AP1_amp': {'avg': 52.47725295811486, 'num_traces': 3, 'unit': 'mV'}, 'APlast_amp': {'avg': 49.1724952039693, 'num_traces': 3, 'unit': 'mV'}, 'AP_duration_half_width': {'avg': 0.30833333333340346, 'num_traces': 3, 'unit': 'ms'}, 'AHP_depth': {'avg': 20.406671862343615, 'num_traces': 3, 'unit': 'mV'}, 'AHP_time_from_peak': {'avg': 4.0458333333342535, 'num_traces': 3, 'unit': 'ms'}, 'AP_peak_upstroke': {'avg': 308.75729239209045, 'num_traces': 3, 'unit': 'V/s'}, 'AP_peak_downstroke': {'avg': -187.83831913656505, 'num_traces': 3, 'unit': 'V/s'}, 'voltage_base': {'avg': -84.99950124873655, 'num_traces': 3, 'unit': 'mV'}, 'voltage_after_stim': {'avg': -86.35750426839668, 'num_traces': 3, 'unit': 'mV'}, 'ohmic_input_resistance_vb_ssse': {'avg': 98.15062867785197, 'num_traces': 3, 'unit': 'MΩ'}, 'steady_state_voltage_stimend': {'avg': -48.9862517948066, 'num_traces': 3, 'unit': 'mV'}, 'decay_time_constant_after_stim': {'avg': 2.369212177409029, 'num_traces': 3, 'unit': 'ms'}, 'depol_block_bool': {'avg': 0.0, 'num_traces': 3, 'unit': None}, 'stimulus_current': '0.37648126234610874 nA'}}}\n"
     ]
    }
   ],
   "source": [
    "# Construct the full endpoint URL\n",
    "url = f\"{obi_one_api_url}/declared/electrophysiologyrecording-metrics/{Electrical_cell_recording_id}\"\n",
    "\n",
    "# Set headers\n",
    "headers = {\n",
    "    \"Authorization\": f\"Bearer {token}\",\n",
    "    \"Accept\": \"application/json\"\n",
    "}\n",
    "\n",
    "# Optionally include optional headers if they are set\n",
    "if virtual_lab_id:\n",
    "    headers[\"virtual-lab-id\"] = virtual_lab_id\n",
    "if project_id:\n",
    "    headers[\"project-id\"] = project_id\n",
    "\n",
    "# Make the GET request\n",
    "response = requests.get(url, headers=headers)\n",
    "\n",
    "# Check the response\n",
    "if response.status_code == 200:\n",
    "    data = response.json()\n",
    "    print(\"Success:\", data)\n",
    "else:\n",
    "    print(f\"Error {response.status_code}: {response.text}\")\n"
   ]
  }
 ],
 "metadata": {
  "kernelspec": {
   "display_name": ".venv",
   "language": "python",
   "name": "python3"
  },
  "language_info": {
   "codemirror_mode": {
    "name": "ipython",
    "version": 3
   },
   "file_extension": ".py",
   "mimetype": "text/x-python",
   "name": "python",
   "nbconvert_exporter": "python",
   "pygments_lexer": "ipython3",
   "version": "3.12.10"
  }
 },
 "nbformat": 4,
 "nbformat_minor": 5
}
