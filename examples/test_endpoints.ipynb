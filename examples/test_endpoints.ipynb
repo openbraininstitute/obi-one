{
 "cells": [
  {
   "cell_type": "markdown",
   "id": "77b0147b",
   "metadata": {},
   "source": [
    "# Select database (i.e. staging, production, local authenticated, local unauthenticated)"
   ]
  },
  {
   "cell_type": "code",
   "execution_count": 1,
   "id": "8b41bab3",
   "metadata": {},
   "outputs": [],
   "source": [
    "import requests\n",
    "from obi_auth import get_token\n",
    "from entitysdk.client import Client\n",
    "from entitysdk.common import ProjectContext\n",
    "from enum import Enum\n",
    "\n",
    "class DatabaseEnvironment(Enum):\n",
    "    STAGING_DATABASE = \"staging\"\n",
    "    # PRODUCTION_DATABASE = \"production\"\n",
    "    LOCAL_UNAUTHENTICATED = \"local_unauthenticated\"\n",
    "    LOCAL_AUTHENTICATED = \"local_authenticated\"\n",
    "\n",
    "obi_one_api_url = \"http://127.0.0.1:8100\"\n",
    "virtual_lab_id=\"edb1fb49-660b-477b-af7b-12913b2df7d9\"\n",
    "project_id=\"d4d004bc-44c5-4f15-94a7-1e4478e82b1d\"\n",
    "\n",
    "database_environment = DatabaseEnvironment.STAGING_DATABASE\n",
    "# database_environment = DatabaseEnvironment.PRODUCTION_DATABASE\n",
    "# database_environment = DatabaseEnvironment.LOCAL_UNAUTHENTICATED\n",
    "# database_environment = DatabaseEnvironment.LOCAL_AUTHENTICATED\n",
    "\n",
    "if database_environment == DatabaseEnvironment.STAGING_DATABASE:\n",
    "    \"\"\"\n",
    "    - Uncomment in obi-one/.env.run-local before \"make run-local\":\n",
    "        export ENTITYCORE_URL=https://staging.openbraininstitute.org/api/entitycore\n",
    "    \"\"\"\n",
    "    entitycore_api_url = \"https://staging.openbraininstitute.org/api/entitycore\"\n",
    "\n",
    "# elif database_environment == DatabaseEnvironment.PRODUCTION_DATABASE:\n",
    "#     \"\"\"\n",
    "#     For future: EntityCore not currently in production.\n",
    "#     - Uncomment in obi-one/.env.run-local before \"make run-local\":\n",
    "#         export ENTITYCORE_URL=https://www.openbraininstitute.org/api/entitycore\n",
    "#     \"\"\"\n",
    "#     entitycore_api_url = \"https://www.openbraininstitute.org/api/entitycore\"\n",
    "\n",
    "elif DatabaseEnvironment.LOCAL_UNAUTHENTICATED:\n",
    "    \"\"\"\n",
    "    Not yet tested.\n",
    "    - Launch entitycore locally (make run-local)\n",
    "    - Add a morphology with a project name (see entitysdk)\n",
    "    \"\"\"\n",
    "    entitycore_api_url = \"https://127.0.1:8000/api/entitycore\"\n",
    "\n",
    "elif DatabaseEnvironment.LOCAL_AUTHENTICATED:\n",
    "    \"\"\"\n",
    "    Not yet tested.\n",
    "    - Change APP_DISABLE_AUTH to False in entitycore/.env.run-local\n",
    "    - Launch entitycore locally (make run-local)\n",
    "    - Add a morphology with a project name (see entitysdk morphology.ipynb example)\n",
    "    \"\"\"\n",
    "    entitycore_api_url = \"https://127.0.1:8000/api/entitycore\"\n",
    "\n",
    "else:\n",
    "    raise ValueError(f\"Unsupported environment: {database_environment}\")\n",
    "\n",
    "\n",
    "token = get_token(environment=\"staging\")\n",
    "project_context = ProjectContext(virtual_lab_id=virtual_lab_id, project_id=project_id)\n",
    "client = Client(api_url=entitycore_api_url, project_context=project_context, token_manager=token)"
   ]
  },
  {
   "cell_type": "markdown",
   "id": "8133b3c7",
   "metadata": {},
   "source": [
    "# Fetch a morphology"
   ]
  },
  {
   "cell_type": "code",
   "execution_count": 2,
   "id": "156f19a0",
   "metadata": {},
   "outputs": [
    {
     "name": "stdout",
     "output_type": "stream",
     "text": [
      "2cd84e81-87ab-401f-9baf-86abd786aa76\n"
     ]
    }
   ],
   "source": [
    "from entitysdk.models.morphology import (\n",
    "    ReconstructionMorphology,\n",
    ")\n",
    "kwargs = {}\n",
    "reconstruction_morphologies = client.search_entity(\n",
    "    entity_type=ReconstructionMorphology, query=kwargs, limit=10\n",
    ").all()\n",
    "\n",
    "reconstruction_morphology_id = reconstruction_morphologies[0].id\n",
    "print(reconstruction_morphology_id)\n",
    "reconstruction_morphology_id = \"2cd84e81-87ab-401f-9baf-86abd786aa76\""
   ]
  },
  {
   "cell_type": "markdown",
   "id": "71444d78",
   "metadata": {},
   "source": [
    "# Call the declared morphology metrics endpoint"
   ]
  },
  {
   "cell_type": "code",
   "execution_count": 3,
   "id": "2d1cf069",
   "metadata": {},
   "outputs": [
    {
     "name": "stdout",
     "output_type": "stream",
     "text": [
      "Success: {'aspect_ratio': 0.8852763978166994, 'circularity': 0.8403189319730738, 'length_fraction_above_soma': 0.7324050068855286, 'max_radial_distance': 3919.52734375, 'number_of_neurites': 9, 'soma_radius': 2.759981632232666, 'soma_surface_area': 95.72431182861328}\n"
     ]
    }
   ],
   "source": [
    "# Construct the full endpoint URL\n",
    "url = f\"{obi_one_api_url}/declared/neuron-morphology-metrics/{reconstruction_morphology_id}\"\n",
    "\n",
    "# Set headers\n",
    "headers = {\n",
    "    \"Authorization\": f\"Bearer {token}\",\n",
    "    \"Accept\": \"application/json\"\n",
    "}\n",
    "\n",
    "# Optionally include optional headers if they are set\n",
    "if virtual_lab_id:\n",
    "    headers[\"virtual-lab-id\"] = virtual_lab_id\n",
    "if project_id:\n",
    "    headers[\"project-id\"] = project_id\n",
    "\n",
    "# Make the GET request\n",
    "response = requests.get(url, headers=headers)\n",
    "\n",
    "# Check the response\n",
    "if response.status_code == 200:\n",
    "    data = response.json()\n",
    "    print(\"Success:\", data)\n",
    "else:\n",
    "    print(f\"Error {response.status_code}: {response.text}\")\n"
   ]
  },
  {
   "cell_type": "markdown",
   "id": "4a55fb1b",
   "metadata": {},
   "source": [
    "# Call the generated morphology metrics endpoint"
   ]
  },
  {
   "cell_type": "code",
   "execution_count": 4,
   "id": "131dd952",
   "metadata": {},
   "outputs": [
    {
     "name": "stdout",
     "output_type": "stream",
     "text": [
      "Success: {'0': {'aspect_ratio': 0.8852763978166994, 'circularity': 0.8403189319730738, 'length_fraction_above_soma': 0.7324050068855286, 'max_radial_distance': 3919.52734375, 'number_of_neurites': 9, 'soma_radius': 2.759981632232666, 'soma_surface_area': 95.72431182861328}}\n"
     ]
    }
   ],
   "source": [
    "import requests\n",
    "\n",
    "# Construct the full endpoint URL\n",
    "url = f\"{obi_one_api_url}/generated/morphology-metrics-run-grid\"\n",
    "\n",
    "# Prepare headers\n",
    "headers = {\n",
    "    \"Authorization\": f\"Bearer {token}\",\n",
    "    \"Accept\": \"application/json\",\n",
    "    \"Content-Type\": \"application/json\"\n",
    "}\n",
    "\n",
    "# Optionally include optional headers if they are set\n",
    "if virtual_lab_id:\n",
    "    headers[\"virtual-lab-id\"] = virtual_lab_id\n",
    "if project_id:\n",
    "    headers[\"project-id\"] = project_id\n",
    "\n",
    "# Construct request body — adjust this with the actual morphology metrics form data!\n",
    "# Placeholder example:\n",
    "request_body = {\n",
    "  \"type\": \"MorphologyMetricsForm\",\n",
    "  \"initialize\": {\n",
    "    \"type\": \"MorphologyMetricsForm.Initialize\",\n",
    "    \"morphology\": {\n",
    "      \"id_str\": str(reconstruction_morphology_id),\n",
    "    }\n",
    "  }\n",
    "}\n",
    "\n",
    "# Make the POST request\n",
    "response = requests.post(url, headers=headers, json=request_body)\n",
    "\n",
    "# Check the response\n",
    "if response.status_code == 200:\n",
    "    data = response.json()\n",
    "    print(\"Success:\", data)\n",
    "else:\n",
    "    print(f\"Error {response.status_code}: {response.text}\")"
   ]
  },
  {
   "cell_type": "code",
   "execution_count": 5,
   "id": "fcea93e4",
   "metadata": {},
   "outputs": [],
   "source": [
    "from entitysdk.models.electrical_cell_recording import (\n",
    "    ElectricalCellRecording,\n",
    ")\n",
    "kwargs = {}\n",
    "Electrical_cell_recording = client.search_entity(\n",
    "    entity_type=ElectricalCellRecording, query=kwargs, limit=10\n",
    ").all()\n",
    "\n",
    "Electrical_cell_recording_id = Electrical_cell_recording[0].id"
   ]
  },
  {
   "cell_type": "markdown",
   "id": "68f90cc2",
   "metadata": {},
   "source": [
    "# Call the declared electrophysiology recording metrics endpoint"
   ]
  },
  {
   "cell_type": "code",
   "execution_count": 6,
   "id": "5cb89e06",
   "metadata": {},
   "outputs": [
    {
     "name": "stdout",
     "output_type": "stream",
     "text": [
      "Success: {'brain_region': 'Ventral posteromedial nucleus of the thalamus', 'feature_dict': {'idrest_0': {'spike_count (avg on n=88 trace(s))': '6.068181818181818', 'time_to_first_spike (avg on n=57 trace(s))': '74.30350877190865 ms', 'time_to_last_spike (avg on n=57 trace(s))': '654.6052631584205 ms', 'inv_time_to_first_spike (avg on n=57 trace(s))': '20.44689903535069 Hz', 'doublet_ISI (avg on n=54 trace(s))': '51.29490740738937 ms', 'inv_first_ISI (avg on n=54 trace(s))': '156.90276701096153 Hz', 'ISI_log_slope (avg on n=40 trace(s))': '0.3224772679888807 ms', 'ISI_CV (avg on n=40 trace(s))': '0.20563869223058812', 'irregularity_index (avg on n=40 trace(s))': '16.44670153420433 ms', 'adaptation_index (avg on n=40 trace(s))': '0.06856575054792706', 'mean_frequency (avg on n=57 trace(s))': '39.787800436805405 Hz', 'strict_burst_number (avg on n=88 trace(s))': '0.5454545454545454', 'strict_burst_mean_freq (avg on n=48 trace(s))': '179.17876325355473 Hz', 'spikes_per_burst (avg on n=48 trace(s))': '9.791666666666666', 'AP_height (avg on n=57 trace(s))': '5.026468414478389 mV', 'AP_amplitude (avg on n=57 trace(s))': '42.563661228519294 mV', 'AP1_amp (avg on n=57 trace(s))': '41.912774238211135 mV', 'APlast_amp (avg on n=57 trace(s))': '42.91055356922513 mV', 'AP_duration_half_width (avg on n=57 trace(s))': '0.9979042345765611 ms', 'AHP_depth (avg on n=57 trace(s))': '14.329990321200837 mV', 'AHP_time_from_peak (avg on n=57 trace(s))': '1.932643495472643 ms', 'AP_peak_upstroke (avg on n=57 trace(s))': '81.76836342929468 V/s', 'AP_peak_downstroke (avg on n=57 trace(s))': '-56.82750005822503 V/s', 'voltage_base (avg on n=88 trace(s))': '-61.83908476870585 mV', 'voltage_after_stim (avg on n=88 trace(s))': '-63.243846358517345 mV', 'ohmic_input_resistance_vb_ssse (avg on n=88 trace(s))': '82.23053409942584 MΩ', 'steady_state_voltage_stimend (avg on n=88 trace(s))': '-51.359492074808344 mV', 'decay_time_constant_after_stim (avg on n=88 trace(s))': '14.314547511582315 ms', 'depol_block_bool (avg on n=88 trace(s))': '0.0', 'stimulus_current': '0.13061257303210863 nA'}, 'iv_0': {'spike_count (avg on n=88 trace(s))': '0.03409090909090909', 'time_to_first_spike (avg on n=1 trace(s))': '627.3999999994758 ms', 'time_to_last_spike (avg on n=1 trace(s))': '633.8999999994699 ms', 'inv_time_to_first_spike (avg on n=1 trace(s))': '1.593879502710927 Hz', 'doublet_ISI (avg on n=1 trace(s))': '2.8999999999973625 ms', 'inv_first_ISI (avg on n=1 trace(s))': '344.8275862072102 Hz', 'mean_frequency (avg on n=1 trace(s))': '4.732607666828378 Hz', 'strict_burst_number (avg on n=88 trace(s))': '0.011363636363636364', 'strict_burst_mean_freq (avg on n=1 trace(s))': '555.5555555560609 Hz', 'spikes_per_burst (avg on n=1 trace(s))': '2.0', 'AP_height (avg on n=1 trace(s))': '5.804166788993697 mV', 'AP_amplitude (avg on n=1 trace(s))': '48.93697929426719 mV', 'AP1_amp (avg on n=1 trace(s))': '45.868749143358265 mV', 'APlast_amp (avg on n=1 trace(s))': '47.88750076071169 mV', 'AP_duration_half_width (avg on n=1 trace(s))': '0.8249999999992497 ms', 'AHP_depth (avg on n=1 trace(s))': '19.89972254763738 mV', 'AHP_time_from_peak (avg on n=1 trace(s))': '1.2666666666655146 ms', 'AP_peak_upstroke (avg on n=1 trace(s))': '102.37499872844687 V/s', 'AP_peak_downstroke (avg on n=1 trace(s))': '-77.27083365120721 V/s', 'voltage_base (avg on n=88 trace(s))': '-61.326585993281306 mV', 'voltage_after_stim (avg on n=88 trace(s))': '-60.84305488788873 mV', 'ohmic_input_resistance_vb_ssse (avg on n=87 trace(s))': '66.06685560654219 MΩ', 'steady_state_voltage_stimend (avg on n=88 trace(s))': '-63.66760640133368 mV', 'sag_amplitude (avg on n=59 trace(s))': '1.6340656826784996 mV', 'decay_time_constant_after_stim (avg on n=88 trace(s))': '32.88301175296291 ms', 'depol_block_bool (avg on n=88 trace(s))': '0.0', 'stimulus_current': '-0.02967506850307638 nA'}, 'apwaveform_0': {'spike_count (avg on n=48 trace(s))': '1.75', 'time_to_first_spike (avg on n=27 trace(s))': '65.6414814814682 ms', 'time_to_last_spike (avg on n=27 trace(s))': '130.15722222215027 ms', 'inv_time_to_first_spike (avg on n=27 trace(s))': '20.508273044153764 Hz', 'doublet_ISI (avg on n=23 trace(s))': '29.152173913016963 ms', 'inv_first_ISI (avg on n=23 trace(s))': '151.0977939839186 Hz', 'ISI_log_slope (avg on n=9 trace(s))': '0.29058378515117644 ms', 'ISI_CV (avg on n=9 trace(s))': '0.16193519921396662', 'irregularity_index (avg on n=9 trace(s))': '4.719907407403115 ms', 'adaptation_index (avg on n=9 trace(s))': '0.08010865855926944', 'mean_frequency (avg on n=27 trace(s))': '36.928351876262134 Hz', 'strict_burst_number (avg on n=48 trace(s))': '0.375', 'strict_burst_mean_freq (avg on n=18 trace(s))': '232.093776170915 Hz', 'spikes_per_burst (avg on n=18 trace(s))': '2.888888888888889', 'AP_height (avg on n=27 trace(s))': '6.875434000093056 mV', 'AP_amplitude (avg on n=27 trace(s))': '44.97870482148139 mV', 'AP1_amp (avg on n=27 trace(s))': '44.78686379585421 mV', 'APlast_amp (avg on n=27 trace(s))': '45.24739615390958 mV', 'AP_duration_half_width (avg on n=27 trace(s))': '0.9260185185176764 ms', 'AHP_depth (avg on n=27 trace(s))': '10.985198922615512 mV', 'AHP_time_from_peak (avg on n=27 trace(s))': '1.780030864195912 ms', 'AP_peak_upstroke (avg on n=27 trace(s))': '93.74969057082082 V/s', 'AP_peak_downstroke (avg on n=27 trace(s))': '-66.66699298055015 V/s', 'voltage_base (avg on n=48 trace(s))': '-60.29733039614422 mV', 'voltage_after_stim (avg on n=48 trace(s))': '-60.836727339227444 mV', 'ohmic_input_resistance_vb_ssse (avg on n=48 trace(s))': '81.5960644605198 MΩ', 'steady_state_voltage_stimend (avg on n=48 trace(s))': '-50.65992626698043 mV', 'decay_time_constant_after_stim (avg on n=48 trace(s))': '15.004184970942935 ms', 'depol_block_bool (avg on n=48 trace(s))': '0.0', 'stimulus_current': '0.11942708521382883 nA'}, 'spontaneous_0': {'spike_count (avg on n=34 trace(s))': '0.0', 'strict_burst_number (avg on n=34 trace(s))': '0.0', 'voltage_base (avg on n=34 trace(s))': '-58.6074674059363 mV', 'voltage_after_stim (avg on n=34 trace(s))': '-58.19638388494164 mV', 'ohmic_input_resistance_vb_ssse (avg on n=24 trace(s))': '702.1186152262303 MΩ', 'steady_state_voltage_stimend (avg on n=34 trace(s))': '-58.23402378875899 mV', 'sag_amplitude (avg on n=12 trace(s))': '1.1124554849352588 mV', 'decay_time_constant_after_stim (avg on n=34 trace(s))': '91.04933926344917 ms', 'depol_block_bool (avg on n=34 trace(s))': '0.0', 'stimulus_current': '-0.00015165612978093764 nA'}, 'firepattern_0': {'spike_count (avg on n=16 trace(s))': '10.5625', 'time_to_first_spike (avg on n=12 trace(s))': '95.04999999995995 ms', 'time_to_last_spike (avg on n=12 trace(s))': '1733.5500000041884 ms', 'inv_time_to_first_spike (avg on n=12 trace(s))': '15.86271161849571 Hz', 'doublet_ISI (avg on n=12 trace(s))': '91.13333333325045 ms', 'inv_first_ISI (avg on n=12 trace(s))': '119.01853549479699 Hz', 'ISI_log_slope (avg on n=5 trace(s))': '-0.22751881400244778 ms', 'ISI_CV (avg on n=5 trace(s))': '0.2524943220859043', 'irregularity_index (avg on n=5 trace(s))': '240.3003251144783 ms', 'adaptation_index (avg on n=5 trace(s))': '0.033782086570548195', 'mean_frequency (avg on n=12 trace(s))': '24.859030729067825 Hz', 'strict_burst_number (avg on n=16 trace(s))': '0.625', 'strict_burst_mean_freq (avg on n=10 trace(s))': '142.25309173572447 Hz', 'spikes_per_burst (avg on n=10 trace(s))': '15.4', 'AP_height (avg on n=12 trace(s))': '6.000831261804447 mV', 'AP_amplitude (avg on n=12 trace(s))': '43.58287055758169 mV', 'AP1_amp (avg on n=12 trace(s))': '43.511589069800976 mV', 'APlast_amp (avg on n=12 trace(s))': '43.96835793715959 mV', 'AP_duration_half_width (avg on n=12 trace(s))': '0.9483218029083703 ms', 'AHP_depth (avg on n=12 trace(s))': '10.366688063800973 mV', 'AHP_time_from_peak (avg on n=12 trace(s))': '1.8730101141657383 ms', 'AP_peak_upstroke (avg on n=12 trace(s))': '87.62305570994779 V/s', 'AP_peak_downstroke (avg on n=12 trace(s))': '-62.22451678229127 V/s', 'voltage_base (avg on n=16 trace(s))': '-60.427613381024756 mV', 'voltage_after_stim (avg on n=16 trace(s))': '-63.268511698228224 mV', 'ohmic_input_resistance_vb_ssse (avg on n=16 trace(s))': '73.39777471235017 MΩ', 'steady_state_voltage_stimend (avg on n=16 trace(s))': '-51.77860398529981 mV', 'decay_time_constant_after_stim (avg on n=16 trace(s))': '11.337794053268162 ms', 'depol_block_bool (avg on n=16 trace(s))': '0.0', 'stimulus_current': '0.1196093715261668 nA'}, 'starthold_0': {'spike_count (avg on n=8 trace(s))': '0.0', 'strict_burst_number (avg on n=8 trace(s))': '0.0', 'voltage_base (avg on n=8 trace(s))': '-59.793554067611694 mV', 'voltage_after_stim (avg on n=8 trace(s))': '-59.83200253509895 mV', 'ohmic_input_resistance_vb_ssse (avg on n=4 trace(s))': '-870.9135119066316 MΩ', 'steady_state_voltage_stimend (avg on n=8 trace(s))': '-59.841020605271545 mV', 'sag_amplitude (avg on n=3 trace(s))': '0.10575864209176444 mV', 'decay_time_constant_after_stim (avg on n=8 trace(s))': '12.675778639566346 ms', 'depol_block_bool (avg on n=8 trace(s))': '0.0', 'stimulus_current': '-7.812399417161942e-05 nA'}, 'startnohold_0': {'spike_count (avg on n=1 trace(s))': '0.0', 'strict_burst_number (avg on n=1 trace(s))': '0.0', 'voltage_base (avg on n=1 trace(s))': '-56.269532203674316 mV', 'voltage_after_stim (avg on n=1 trace(s))': '-56.22347645643272 mV', 'ohmic_input_resistance_vb_ssse (avg on n=1 trace(s))': '-215.218158125704 MΩ', 'steady_state_voltage_stimend (avg on n=1 trace(s))': '-56.20227659340004 mV', 'decay_time_constant_after_stim (avg on n=1 trace(s))': '1.7349075581348663 ms', 'depol_block_bool (avg on n=1 trace(s))': '0.0', 'stimulus_current': '-0.0003124997019767761 nA'}, 'sahp_0': {'spike_count (avg on n=32 trace(s))': '3.40625', 'time_to_first_spike (avg on n=28 trace(s))': '294.721428571207 ms', 'time_to_last_spike (avg on n=28 trace(s))': '375.9571428568474 ms', 'inv_time_to_first_spike (avg on n=28 trace(s))': '3.4235219532576524 Hz', 'doublet_ISI (avg on n=25 trace(s))': '27.17999999997528 ms', 'inv_first_ISI (avg on n=25 trace(s))': '145.32929852949633 Hz', 'ISI_log_slope (avg on n=14 trace(s))': '0.3113163163449481 ms', 'ISI_CV (avg on n=14 trace(s))': '0.17427533323346675', 'irregularity_index (avg on n=14 trace(s))': '3.3327380952350643 ms', 'adaptation_index (avg on n=14 trace(s))': '0.07575020042372664', 'mean_frequency (avg on n=28 trace(s))': '10.257965923360384 Hz', 'strict_burst_number (avg on n=32 trace(s))': '0.65625', 'strict_burst_mean_freq (avg on n=21 trace(s))': '188.17825605427655 Hz', 'spikes_per_burst (avg on n=21 trace(s))': '3.6666666666666665', 'AP_height (avg on n=28 trace(s))': '5.643264096702907 mV', 'AP_amplitude (avg on n=28 trace(s))': '43.00319503998548 mV', 'AP1_amp (avg on n=28 trace(s))': '42.20452065631009 mV', 'APlast_amp (avg on n=28 trace(s))': '43.51037904981863 mV', 'AP_duration_half_width (avg on n=28 trace(s))': '0.9762804705206539 ms', 'AHP_depth (avg on n=28 trace(s))': '12.181973427792704 mV', 'AHP_time_from_peak (avg on n=28 trace(s))': '1.8924128401343334 ms', 'AP_peak_upstroke (avg on n=28 trace(s))': '85.61878489505489 V/s', 'AP_peak_downstroke (avg on n=28 trace(s))': '-59.6682547023351 V/s', 'voltage_base (avg on n=32 trace(s))': '-61.41873755494349 mV', 'voltage_after_stim (avg on n=32 trace(s))': '-62.12817450267376 mV', 'ohmic_input_resistance_vb_ssse (avg on n=32 trace(s))': '71.82042911097551 MΩ', 'steady_state_voltage_stimend (avg on n=32 trace(s))': '-59.43315941286039 mV', 'decay_time_constant_after_stim (avg on n=32 trace(s))': '12.198086705986562 ms', 'depol_block_bool (avg on n=32 trace(s))': '0.0', 'stimulus_current': '0.16782714950750233 nA'}, 'hyperdepol_0': {'spike_count (avg on n=32 trace(s))': '0.9375', 'time_to_first_spike (avg on n=10 trace(s))': '529.2899999995652 ms', 'time_to_last_spike (avg on n=10 trace(s))': '537.169999999558 ms', 'inv_time_to_first_spike (avg on n=10 trace(s))': '1.8951907562669887 Hz', 'doublet_ISI (avg on n=10 trace(s))': '3.369999999996935 ms', 'inv_first_ISI (avg on n=10 trace(s))': '300.8383289246516 Hz', 'ISI_log_slope (avg on n=3 trace(s))': '0.6869473202810298 ms', 'ISI_CV (avg on n=3 trace(s))': '0.3301322488423974', 'irregularity_index (avg on n=3 trace(s))': '2.199999999997999 ms', 'adaptation_index (avg on n=3 trace(s))': '0.1627058056849328', 'mean_frequency (avg on n=10 trace(s))': '5.624413782415126 Hz', 'strict_burst_number (avg on n=32 trace(s))': '0.21875', 'strict_burst_mean_freq (avg on n=7 trace(s))': '407.78904877767184 Hz', 'spikes_per_burst (avg on n=7 trace(s))': '2.4285714285714284', 'AP_height (avg on n=10 trace(s))': '1.5328124933385154 mV', 'AP_amplitude (avg on n=10 trace(s))': '44.61239591163408 mV', 'AP1_amp (avg on n=10 trace(s))': '43.876875040167526 mV', 'APlast_amp (avg on n=10 trace(s))': '45.30140635591899 mV', 'AP_duration_half_width (avg on n=10 trace(s))': '0.899374999999182 ms', 'AHP_depth (avg on n=10 trace(s))': '22.026304601527812 mV', 'AHP_time_from_peak (avg on n=10 trace(s))': '1.4914583333319769 ms', 'AP_peak_upstroke (avg on n=10 trace(s))': '91.81562034291815 V/s', 'AP_peak_downstroke (avg on n=10 trace(s))': '-65.95155866941863 V/s', 'voltage_base (avg on n=32 trace(s))': '-60.84846796665519 mV', 'voltage_after_stim (avg on n=32 trace(s))': '-60.889917312095065 mV', 'ohmic_input_resistance_vb_ssse (avg on n=32 trace(s))': '-121.3209946552509 MΩ', 'steady_state_voltage_stimend (avg on n=32 trace(s))': '-53.80264801258595 mV', 'decay_time_constant_after_stim (avg on n=32 trace(s))': '17.242708097199795 ms', 'depol_block_bool (avg on n=32 trace(s))': '0.28125', 'stimulus_current': '-0.07496093260124326 nA'}, 'poscheops_0': {'spike_count (avg on n=8 trace(s))': '34.375', 'time_to_first_spike (avg on n=5 trace(s))': '4966.399999975811 ms', 'time_to_last_spike (avg on n=5 trace(s))': '17386.824999904627 ms', 'inv_time_to_first_spike (avg on n=5 trace(s))': '0.40550947955835176 Hz', 'doublet_ISI (avg on n=4 trace(s))': '246.3750000008963 ms', 'inv_first_ISI (avg on n=4 trace(s))': '4.151026337961316 Hz', 'ISI_log_slope (avg on n=4 trace(s))': '0.005019591740854407 ms', 'ISI_CV (avg on n=4 trace(s))': '3.781070805804516', 'irregularity_index (avg on n=4 trace(s))': '318.80092524826324 ms', 'adaptation_index (avg on n=4 trace(s))': '0.003153054821899145', 'mean_frequency (avg on n=5 trace(s))': '3.1295472708813974 Hz', 'strict_burst_number (avg on n=8 trace(s))': '1.5', 'strict_burst_mean_freq (avg on n=4 trace(s))': '14.522834455552157 Hz', 'spikes_per_burst (avg on n=4 trace(s))': '21.583333333333332', 'AP_height (avg on n=5 trace(s))': '5.0227481717297175 mV', 'AP_amplitude (avg on n=5 trace(s))': '39.84386888206647 mV', 'AP1_amp (avg on n=5 trace(s))': '40.26218617235936 mV', 'APlast_amp (avg on n=5 trace(s))': '39.18187520371222 mV', 'AP_duration_half_width (avg on n=5 trace(s))': '1.046079916242799 ms', 'AHP_depth (avg on n=5 trace(s))': '10.534684568010451 mV', 'AHP_time_from_peak (avg on n=5 trace(s))': '2.187982077589426 ms', 'AP_peak_upstroke (avg on n=5 trace(s))': '74.42365320574602 V/s', 'AP_peak_downstroke (avg on n=5 trace(s))': '-50.27412065365087 V/s', 'voltage_base (avg on n=8 trace(s))': '-63.307690676394685 mV', 'voltage_after_stim (avg on n=8 trace(s))': '-65.40850889079913 mV', 'ohmic_input_resistance_vb_ssse (avg on n=8 trace(s))': '44.25397351288868 MΩ', 'steady_state_voltage_stimend (avg on n=8 trace(s))': '-53.317718389116166 mV', 'decay_time_constant_after_stim (avg on n=8 trace(s))': '249.0456066968947 ms', 'depol_block_bool (avg on n=8 trace(s))': '0.125', 'stimulus_current': '0.22500000474974513 nA'}, 'spikerec_0': {'spike_count (avg on n=37 trace(s))': '2.081081081081081', 'time_to_first_spike (avg on n=37 trace(s))': '14.359459459459597 ms', 'time_to_last_spike (avg on n=37 trace(s))': '600.8945945945028 ms', 'inv_time_to_first_spike (avg on n=37 trace(s))': '69.65277967276832 Hz', 'doublet_ISI (avg on n=37 trace(s))': '586.3885135134219 ms', 'inv_first_ISI (avg on n=37 trace(s))': '10.866425363577623 Hz', 'mean_frequency (avg on n=37 trace(s))': '12.436794869711584 Hz', 'strict_burst_number (avg on n=37 trace(s))': '0.08108108108108109', 'strict_burst_mean_freq (avg on n=3 trace(s))': '1133.855965499476 Hz', 'spikes_per_burst (avg on n=3 trace(s))': '2.0', 'AP_height (avg on n=37 trace(s))': '5.064111826499266 mV', 'AP_amplitude (avg on n=37 trace(s))': '14.646734282066497 mV', 'AP1_amp (avg on n=37 trace(s))': '19.66613181861502 mV', 'APlast_amp (avg on n=37 trace(s))': '9.880658804495626 mV', 'AP_duration_half_width (avg on n=37 trace(s))': '0.7690315315315776 ms', 'AHP_time_from_peak (avg on n=37 trace(s))': '4.089864864866699 ms', 'AP_peak_upstroke (avg on n=37 trace(s))': '43.33220800833391 V/s', 'AP_peak_downstroke (avg on n=37 trace(s))': '-34.299691032430715 V/s', 'voltage_after_stim (avg on n=37 trace(s))': '-45.49594569850613 mV', 'steady_state_voltage_stimend (avg on n=37 trace(s))': '-45.46314247072392 mV', 'depol_block_bool (avg on n=37 trace(s))': '0.0', 'stimulus_current': '0.8587162124144064 nA'}, 'sinespec_0': {'spike_count (avg on n=24 trace(s))': '0.0', 'strict_burst_number (avg on n=24 trace(s))': '0.0', 'voltage_base (avg on n=24 trace(s))': '-62.87989224892496 mV', 'voltage_after_stim (avg on n=24 trace(s))': '-62.2051647169039 mV', 'ohmic_input_resistance_vb_ssse (avg on n=24 trace(s))': '33.52860424978764 MΩ', 'steady_state_voltage_stimend (avg on n=24 trace(s))': '-61.31838505135132 mV', 'decay_time_constant_after_stim (avg on n=24 trace(s))': '26.424994586322622 ms', 'depol_block_bool (avg on n=24 trace(s))': '0.0', 'stimulus_current': '0.046542972326278687 nA'}}}\n"
     ]
    }
   ],
   "source": [
    "# Construct the full endpoint URL\n",
    "url = f\"{obi_one_api_url}/declared/electrophysiologyrecording-metrics/{Electrical_cell_recording_id}\"\n",
    "\n",
    "# Set headers\n",
    "headers = {\n",
    "    \"Authorization\": f\"Bearer {token}\",\n",
    "    \"Accept\": \"application/json\"\n",
    "}\n",
    "\n",
    "# Optionally include optional headers if they are set\n",
    "if virtual_lab_id:\n",
    "    headers[\"virtual-lab-id\"] = virtual_lab_id\n",
    "if project_id:\n",
    "    headers[\"project-id\"] = project_id\n",
    "\n",
    "# Make the GET request\n",
    "response = requests.get(url, headers=headers)\n",
    "\n",
    "# Check the response\n",
    "if response.status_code == 200:\n",
    "    data = response.json()\n",
    "    print(\"Success:\", data)\n",
    "else:\n",
    "    print(f\"Error {response.status_code}: {response.text}\")\n"
   ]
  }
 ],
 "metadata": {
  "kernelspec": {
   "display_name": ".venv",
   "language": "python",
   "name": "python3"
  },
  "language_info": {
   "codemirror_mode": {
    "name": "ipython",
    "version": 3
   },
   "file_extension": ".py",
   "mimetype": "text/x-python",
   "name": "python",
   "nbconvert_exporter": "python",
   "pygments_lexer": "ipython3",
   "version": "3.12.10"
  }
 },
 "nbformat": 4,
 "nbformat_minor": 5
}
