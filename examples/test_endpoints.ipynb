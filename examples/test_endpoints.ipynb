{
 "cells": [
  {
   "cell_type": "markdown",
   "id": "77b0147b",
   "metadata": {},
   "source": [
    "# Select database (i.e. staging, production, local authenticated, local unauthenticated)"
   ]
  },
  {
   "cell_type": "code",
   "execution_count": 1,
   "id": "8b41bab3",
   "metadata": {},
   "outputs": [
    {
     "name": "stdout",
     "output_type": "stream",
     "text": [
      "eyJhbGciOiJSUzI1NiIsInR5cCIgOiAiSldUIiwia2lkIiA6ICJZVTEyTEoyNG1sRFRieURlWXgyaGU5RkQzbldkWlBSV2piSVVpa2hocVFVIn0.eyJleHAiOjE3NDk4MTExNzksImlhdCI6MTc0OTgwNzU3OSwiYXV0aF90aW1lIjoxNzQ5ODAxMjIwLCJqdGkiOiJvbnJ0YWM6NTBiMDMzZjQtMDMyNi00MDdjLTkyNjktZTRmY2U0ZjA4ZTk2IiwiaXNzIjoiaHR0cHM6Ly9zdGFnaW5nLm9wZW5icmFpbmluc3RpdHV0ZS5vcmcvYXV0aC9yZWFsbXMvU0JPIiwiYXVkIjoiYWNjb3VudCIsInN1YiI6ImY5YzNlYmNkLTQ1NWQtNGFlNi1hZDRjLWY4M2Y0MTc0ZDMwNiIsInR5cCI6IkJlYXJlciIsImF6cCI6Im9iaS1lbnRpdHlzZGstYXV0aCIsInNpZCI6Ijk3NzQxYTY5LWJmYTItNDAyOS04MjQwLWNiNDU1YmJlMjg2MyIsImFjciI6IjAiLCJhbGxvd2VkLW9yaWdpbnMiOlsiaHR0cDovL2xvY2FsaG9zdCoiXSwicmVhbG1fYWNjZXNzIjp7InJvbGVzIjpbIm9mZmxpbmVfYWNjZXNzIiwidW1hX2F1dGhvcml6YXRpb24iLCJkZWZhdWx0LXJvbGVzLXNibyJdfSwicmVzb3VyY2VfYWNjZXNzIjp7ImFjY291bnQiOnsicm9sZXMiOlsibWFuYWdlLWFjY291bnQiLCJtYW5hZ2UtYWNjb3VudC1saW5rcyIsInZpZXctcHJvZmlsZSJdfX0sInNjb3BlIjoib3BlbmlkIHByb2ZpbGUgZW1haWwiLCJlbWFpbF92ZXJpZmllZCI6ZmFsc2UsIm5hbWUiOiJpbGthbiBraWxpYyIsInByZWZlcnJlZF91c2VybmFtZSI6Imlsa2lsaWMiLCJnaXZlbl9uYW1lIjoiaWxrYW4iLCJmYW1pbHlfbmFtZSI6ImtpbGljIiwiZW1haWwiOiJpbGthbi5raWxpY0BvcGVuYnJhaW5pbnN0aXR1dGUub3JnIn0.R5VP880qYpSONwYP7JkambzUocsb9oxU5Xy-1SA62Mp3zZDYa2zeqJGpdVYh3XYMn3K-Y-NIk_fffvstWwb5uue4zOV9T1JD2a9GYU-wPXmhyNnSrPjZBtrAUGDy1aJ7U51Wf4HX06d4mt2M11rMFu5GF9ddNg7oiacO6bxj76P17FekKzbC2kdiu4WqDIfONtPFNBcRGzCIKdHnQY1v3VrMJLOultdsOq1Kp1GCADjMAsBf6W1UEY_1h0AsZ32HYL_3DrOMOc7WYXXJ17RB63eIPBP48ziYyMU_BocdO5N_9_9pLIu1g6JAfWQhmolQI3F_LOq8h2LwqVf3r1ZjEw\n"
     ]
    }
   ],
   "source": [
    "import requests\n",
    "from obi_auth import get_token\n",
    "from entitysdk.client import Client\n",
    "from entitysdk.common import ProjectContext\n",
    "from enum import Enum\n",
    "\n",
    "class DatabaseEnvironment(Enum):\n",
    "    STAGING_DATABASE = \"staging\"\n",
    "    # PRODUCTION_DATABASE = \"production\"\n",
    "    LOCAL_UNAUTHENTICATED = \"local_unauthenticated\"\n",
    "    LOCAL_AUTHENTICATED = \"local_authenticated\"\n",
    "\n",
    "obi_one_api_url = \"http://127.0.0.1:8100\"\n",
    "virtual_lab_id=\"edb1fb49-660b-477b-af7b-12913b2df7d9\"\n",
    "project_id=\"d4d004bc-44c5-4f15-94a7-1e4478e82b1d\"\n",
    "\n",
    "database_environment = DatabaseEnvironment.STAGING_DATABASE\n",
    "# database_environment = DatabaseEnvironment.PRODUCTION_DATABASE\n",
    "# database_environment = DatabaseEnvironment.LOCAL_UNAUTHENTICATED\n",
    "# database_environment = DatabaseEnvironment.LOCAL_AUTHENTICATED\n",
    "\n",
    "if database_environment == DatabaseEnvironment.STAGING_DATABASE:\n",
    "    \"\"\"\n",
    "    - Uncomment in obi-one/.env.run-local before \"make run-local\":\n",
    "        export ENTITYCORE_URL=https://staging.openbraininstitute.org/api/entitycore\n",
    "    \"\"\"\n",
    "    entitycore_api_url = \"https://staging.openbraininstitute.org/api/entitycore\"\n",
    "\n",
    "# elif database_environment == DatabaseEnvironment.PRODUCTION_DATABASE:\n",
    "#     \"\"\"\n",
    "#     For future: EntityCore not currently in production.\n",
    "#     - Uncomment in obi-one/.env.run-local before \"make run-local\":\n",
    "#         export ENTITYCORE_URL=https://www.openbraininstitute.org/api/entitycore\n",
    "#     \"\"\"\n",
    "#     entitycore_api_url = \"https://www.openbraininstitute.org/api/entitycore\"\n",
    "\n",
    "elif DatabaseEnvironment.LOCAL_UNAUTHENTICATED:\n",
    "    \"\"\"\n",
    "    Not yet tested.\n",
    "    - Launch entitycore locally (make run-local)\n",
    "    - Add a morphology with a project name (see entitysdk)\n",
    "    \"\"\"\n",
    "    entitycore_api_url = \"https://127.0.1:8000/api/entitycore\"\n",
    "\n",
    "elif DatabaseEnvironment.LOCAL_AUTHENTICATED:\n",
    "    \"\"\"\n",
    "    Not yet tested.\n",
    "    - Change APP_DISABLE_AUTH to False in entitycore/.env.run-local\n",
    "    - Launch entitycore locally (make run-local)\n",
    "    - Add a morphology with a project name (see entitysdk morphology.ipynb example)\n",
    "    \"\"\"\n",
    "    entitycore_api_url = \"https://127.0.1:8000/api/entitycore\"\n",
    "\n",
    "else:\n",
    "    raise ValueError(f\"Unsupported environment: {database_environment}\")\n",
    "\n",
    "\n",
    "token = get_token(environment=\"staging\")\n",
    "print(token)\n",
    "project_context = ProjectContext(virtual_lab_id=virtual_lab_id, project_id=project_id)\n",
    "client = Client(api_url=entitycore_api_url, project_context=project_context, token_manager=token)"
   ]
  },
  {
   "cell_type": "markdown",
   "id": "8133b3c7",
   "metadata": {},
   "source": [
    "# Fetch a morphology"
   ]
  },
  {
   "cell_type": "code",
   "execution_count": 2,
   "id": "156f19a0",
   "metadata": {},
   "outputs": [
    {
     "name": "stdout",
     "output_type": "stream",
     "text": [
      "2cd84e81-87ab-401f-9baf-86abd786aa76\n"
     ]
    }
   ],
   "source": [
    "from entitysdk.models.morphology import (\n",
    "    ReconstructionMorphology,\n",
    ")\n",
    "kwargs = {}\n",
    "reconstruction_morphologies = client.search_entity(\n",
    "    entity_type=ReconstructionMorphology, query=kwargs, limit=10\n",
    ").all()\n",
    "\n",
    "reconstruction_morphology_id = reconstruction_morphologies[0].id\n",
    "print(reconstruction_morphology_id)\n",
    "reconstruction_morphology_id = \"2cd84e81-87ab-401f-9baf-86abd786aa76\""
   ]
  },
  {
   "cell_type": "markdown",
   "id": "71444d78",
   "metadata": {},
   "source": [
    "# Call the declared morphology metrics endpoint"
   ]
  },
  {
   "cell_type": "code",
   "execution_count": 3,
   "id": "2d1cf069",
   "metadata": {},
   "outputs": [
    {
     "name": "stdout",
     "output_type": "stream",
     "text": [
      "Success: {'aspect_ratio': 0.8852763978166994, 'circularity': 0.8403189319730738, 'length_fraction_above_soma': 0.7324050068855286, 'max_radial_distance': 3919.52734375, 'number_of_neurites': 9, 'soma_radius': 2.759981632232666, 'soma_surface_area': 95.72431182861328}\n"
     ]
    }
   ],
   "source": [
    "# Construct the full endpoint URL\n",
    "url = f\"{obi_one_api_url}/declared/neuron-morphology-metrics/{reconstruction_morphology_id}\"\n",
    "\n",
    "# Set headers\n",
    "headers = {\n",
    "    \"Authorization\": f\"Bearer {token}\",\n",
    "    \"Accept\": \"application/json\"\n",
    "}\n",
    "\n",
    "# Optionally include optional headers if they are set\n",
    "if virtual_lab_id:\n",
    "    headers[\"virtual-lab-id\"] = virtual_lab_id\n",
    "if project_id:\n",
    "    headers[\"project-id\"] = project_id\n",
    "\n",
    "# Make the GET request\n",
    "response = requests.get(url, headers=headers)\n",
    "\n",
    "# Check the response\n",
    "if response.status_code == 200:\n",
    "    data = response.json()\n",
    "    print(\"Success:\", data)\n",
    "else:\n",
    "    print(f\"Error {response.status_code}: {response.text}\")\n"
   ]
  },
  {
   "cell_type": "markdown",
   "id": "4a55fb1b",
   "metadata": {},
   "source": [
    "# Call the generated morphology metrics endpoint"
   ]
  },
  {
   "cell_type": "code",
   "execution_count": 4,
   "id": "131dd952",
   "metadata": {},
   "outputs": [
    {
     "name": "stdout",
     "output_type": "stream",
     "text": [
      "Success: {'0': {'aspect_ratio': 0.8852763978166994, 'circularity': 0.8403189319730738, 'length_fraction_above_soma': 0.7324050068855286, 'max_radial_distance': 3919.52734375, 'number_of_neurites': 9, 'soma_radius': 2.759981632232666, 'soma_surface_area': 95.72431182861328}}\n"
     ]
    }
   ],
   "source": [
    "import requests\n",
    "\n",
    "# Construct the full endpoint URL\n",
    "url = f\"{obi_one_api_url}/generated/morphology-metrics-run-grid\"\n",
    "\n",
    "# Prepare headers\n",
    "headers = {\n",
    "    \"Authorization\": f\"Bearer {token}\",\n",
    "    \"Accept\": \"application/json\",\n",
    "    \"Content-Type\": \"application/json\"\n",
    "}\n",
    "\n",
    "# Optionally include optional headers if they are set\n",
    "if virtual_lab_id:\n",
    "    headers[\"virtual-lab-id\"] = virtual_lab_id\n",
    "if project_id:\n",
    "    headers[\"project-id\"] = project_id\n",
    "\n",
    "# Construct request body — adjust this with the actual morphology metrics form data!\n",
    "# Placeholder example:\n",
    "request_body = {\n",
    "  \"type\": \"MorphologyMetricsForm\",\n",
    "  \"initialize\": {\n",
    "    \"type\": \"MorphologyMetricsForm.Initialize\",\n",
    "    \"morphology\": {\n",
    "      \"id_str\": str(reconstruction_morphology_id),\n",
    "    }\n",
    "  }\n",
    "}\n",
    "\n",
    "# Make the POST request\n",
    "response = requests.post(url, headers=headers, json=request_body)\n",
    "\n",
    "# Check the response\n",
    "if response.status_code == 200:\n",
    "    data = response.json()\n",
    "    print(\"Success:\", data)\n",
    "else:\n",
    "    print(f\"Error {response.status_code}: {response.text}\")"
   ]
  },
  {
   "cell_type": "code",
   "execution_count": 5,
   "id": "fcea93e4",
   "metadata": {},
   "outputs": [],
   "source": [
    "from entitysdk.models.electrical_cell_recording import (\n",
    "    ElectricalCellRecording,\n",
    ")\n",
    "kwargs = {}\n",
    "Electrical_cell_recording = client.search_entity(\n",
    "    entity_type=ElectricalCellRecording, query=kwargs, limit=10\n",
    ").all()\n",
    "\n",
    "Electrical_cell_recording_id = Electrical_cell_recording[0].id"
   ]
  },
  {
   "cell_type": "markdown",
   "id": "68f90cc2",
   "metadata": {},
   "source": [
    "# Call the declared electrophysiology recording metrics endpoint"
   ]
  },
  {
   "cell_type": "code",
   "execution_count": 6,
   "id": "5cb89e06",
   "metadata": {},
   "outputs": [
    {
     "name": "stdout",
     "output_type": "stream",
     "text": [
      "Success: {'brain_region': 'Ventral posteromedial nucleus of the thalamus', 'feature_dict': {'idrest_0': {'spike_count (avg on n=88 trace(s))': '6.068181818181818', 'time_to_first_spike (avg on n=57 trace(s))': '74.30350877190865 ms', 'time_to_last_spike (avg on n=57 trace(s))': '654.6052631584205 ms', 'inv_time_to_first_spike (avg on n=57 trace(s))': '20.44689903535069 Hz', 'doublet_ISI (avg on n=54 trace(s))': '51.29490740738937 ms', 'inv_first_ISI (avg on n=54 trace(s))': '156.90276701096153 Hz', 'ISI_log_slope (avg on n=40 trace(s))': '0.3224772679888807 ms', 'ISI_CV (avg on n=40 trace(s))': '0.20563869223058812', 'irregularity_index (avg on n=40 trace(s))': '16.44670153420433 ms', 'adaptation_index (avg on n=40 trace(s))': '0.06856575054792706', 'mean_frequency (avg on n=57 trace(s))': '39.787800436805405 Hz', 'strict_burst_number (avg on n=88 trace(s))': '0.5454545454545454', 'strict_burst_mean_freq (avg on n=48 trace(s))': '179.17876325355473 Hz', 'spikes_per_burst (avg on n=48 trace(s))': '9.791666666666666', 'AP_height (avg on n=57 trace(s))': '5.026468414478389 mV', 'AP_amplitude (avg on n=57 trace(s))': '42.563661228519294 mV', 'AP1_amp (avg on n=57 trace(s))': '41.912774238211135 mV', 'APlast_amp (avg on n=57 trace(s))': '42.91055356922513 mV', 'AP_duration_half_width (avg on n=57 trace(s))': '0.9979042345765611 ms', 'AHP_depth (avg on n=57 trace(s))': '14.329990321200837 mV', 'AHP_time_from_peak (avg on n=57 trace(s))': '1.932643495472643 ms', 'AP_peak_upstroke (avg on n=57 trace(s))': '81.76836342929468 V/s', 'AP_peak_downstroke (avg on n=57 trace(s))': '-56.82750005822503 V/s', 'voltage_base (avg on n=88 trace(s))': '-61.83908476870585 mV', 'voltage_after_stim (avg on n=88 trace(s))': '-63.243846358517345 mV', 'ohmic_input_resistance_vb_ssse (avg on n=88 trace(s))': '82.23053409942584 MΩ', 'steady_state_voltage_stimend (avg on n=88 trace(s))': '-51.359492074808344 mV', 'decay_time_constant_after_stim (avg on n=88 trace(s))': '14.314547511582315 ms', 'depol_block_bool (avg on n=88 trace(s))': '0.0', 'stimulus_current': '0.13061257303210863 nA'}}}\n"
     ]
    }
   ],
   "source": [
    "# Construct the full endpoint URL\n",
    "url = f\"{obi_one_api_url}/declared/electrophysiologyrecording-metrics/{Electrical_cell_recording_id}\"\n",
    "\n",
    "# Set headers\n",
    "headers = {\n",
    "    \"Authorization\": f\"Bearer {token}\",\n",
    "    \"Accept\": \"application/json\"\n",
    "}\n",
    "\n",
    "# Optionally include optional headers if they are set\n",
    "if virtual_lab_id:\n",
    "    headers[\"virtual-lab-id\"] = virtual_lab_id\n",
    "if project_id:\n",
    "    headers[\"project-id\"] = project_id\n",
    "\n",
    "# Make the GET request\n",
    "response = requests.get(url, headers=headers)\n",
    "\n",
    "# Check the response\n",
    "if response.status_code == 200:\n",
    "    data = response.json()\n",
    "    print(\"Success:\", data)\n",
    "else:\n",
    "    print(f\"Error {response.status_code}: {response.text}\")\n"
   ]
  }
 ],
 "metadata": {
  "kernelspec": {
   "display_name": ".venv",
   "language": "python",
   "name": "python3"
  },
  "language_info": {
   "codemirror_mode": {
    "name": "ipython",
    "version": 3
   },
   "file_extension": ".py",
   "mimetype": "text/x-python",
   "name": "python",
   "nbconvert_exporter": "python",
   "pygments_lexer": "ipython3",
   "version": "3.12.10"
  }
 },
 "nbformat": 4,
 "nbformat_minor": 5
}
