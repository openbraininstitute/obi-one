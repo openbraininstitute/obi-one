{
 "cells": [
  {
   "cell_type": "markdown",
   "id": "77b0147b",
   "metadata": {},
   "source": [
    "# Select database (i.e. staging, production, local authenticated, local unauthenticated)"
   ]
  },
  {
   "cell_type": "code",
   "execution_count": 1,
   "id": "8b41bab3",
   "metadata": {},
   "outputs": [
    {
     "name": "stdout",
     "output_type": "stream",
     "text": [
      "eyJhbGciOiJSUzI1NiIsInR5cCIgOiAiSldUIiwia2lkIiA6ICJZVTEyTEoyNG1sRFRieURlWXgyaGU5RkQzbldkWlBSV2piSVVpa2hocVFVIn0.eyJleHAiOjE3NDk1NzI3MzQsImlhdCI6MTc0OTU2OTEzNCwiYXV0aF90aW1lIjoxNzQ5NTQxNTMwLCJqdGkiOiJvbnJ0YWM6NDA0M2UzNjAtNGYxMS00MDAwLTg2NjktMzY1MDQzODRhZjBhIiwiaXNzIjoiaHR0cHM6Ly9zdGFnaW5nLm9wZW5icmFpbmluc3RpdHV0ZS5vcmcvYXV0aC9yZWFsbXMvU0JPIiwiYXVkIjoiYWNjb3VudCIsInN1YiI6ImRkZDIzOTM3LWRkYmEtNDI2ZC1hZTUwLThhNjEyNWMwM2ViNyIsInR5cCI6IkJlYXJlciIsImF6cCI6Im9iaS1lbnRpdHlzZGstYXV0aCIsInNpZCI6ImY2Y2ZmZmI4LTEwMWYtNGRiOC05NTFhLWIxMjI3NGM1ZWY0YiIsImFjciI6IjAiLCJhbGxvd2VkLW9yaWdpbnMiOlsiaHR0cDovL2xvY2FsaG9zdCoiXSwicmVhbG1fYWNjZXNzIjp7InJvbGVzIjpbIm9mZmxpbmVfYWNjZXNzIiwidW1hX2F1dGhvcml6YXRpb24iLCJkZWZhdWx0LXJvbGVzLXNibyJdfSwicmVzb3VyY2VfYWNjZXNzIjp7ImFjY291bnQiOnsicm9sZXMiOlsibWFuYWdlLWFjY291bnQiLCJtYW5hZ2UtYWNjb3VudC1saW5rcyIsInZpZXctcHJvZmlsZSJdfX0sInNjb3BlIjoib3BlbmlkIHByb2ZpbGUgZW1haWwiLCJlbWFpbF92ZXJpZmllZCI6ZmFsc2UsIm5hbWUiOiJKYW1lcyBJc2Jpc3RlciIsInByZWZlcnJlZF91c2VybmFtZSI6ImphbWVzLWlzYmlzdGVyIiwiZ2l2ZW5fbmFtZSI6IkphbWVzIiwiZmFtaWx5X25hbWUiOiJJc2Jpc3RlciIsImVtYWlsIjoiamFtZXMuaXNiaXN0ZXJAb3BlbmJyYWluaW5zdGl0dXRlLm9yZyJ9.iDaIe9L62Gw0Tj9SWdB-BMbxRg8ybfYj2PMhvjzoZ35j3TEPrC67i3xeBMGPbJZJ2Y7Uj9XigAAsLaLeKlM6J-EnLiwP-LcMsPDGE9VqKZLbD-hGiQ2NIy-aQyO7Gt7pgtNs6AOE-s9fc8r5cRL--gl6YDhA0Ib9dLmglHSpu412j6PY8QsSP2yspx2xK7KWi7DbM9rd5Oq-6UMDJDduptcQJ_Mn8r8pNgoTRWQXdpIHumtc-d15cYnQlp9pe131Jqy1wQ9C5B-8BoQ0bc_F73CRGVKK6zfsljQ5CXS0OP6lysZUPwuTrnLsBTxcOAwyB2y2AVKhrHOvlGklkd06mA\n"
     ]
    }
   ],
   "source": [
    "import requests\n",
    "from obi_auth import get_token\n",
    "from entitysdk.client import Client\n",
    "from entitysdk.common import ProjectContext\n",
    "from enum import Enum\n",
    "\n",
    "class DatabaseEnvironment(Enum):\n",
    "    STAGING_DATABASE = \"staging\"\n",
    "    # PRODUCTION_DATABASE = \"production\"\n",
    "    LOCAL_UNAUTHENTICATED = \"local_unauthenticated\"\n",
    "    LOCAL_AUTHENTICATED = \"local_authenticated\"\n",
    "\n",
    "obi_one_api_url = \"http://127.0.0.1:8100\"\n",
    "virtual_lab_id=\"e6030ed8-a589-4be2-80a6-f975406eb1f6\"\n",
    "project_id=\"2720f785-a3a2-4472-969d-19a53891c817\"\n",
    "\n",
    "database_environment = DatabaseEnvironment.STAGING_DATABASE\n",
    "# database_environment = DatabaseEnvironment.PRODUCTION_DATABASE\n",
    "# database_environment = DatabaseEnvironment.LOCAL_UNAUTHENTICATED\n",
    "# database_environment = DatabaseEnvironment.LOCAL_AUTHENTICATED\n",
    "\n",
    "if database_environment == DatabaseEnvironment.STAGING_DATABASE:\n",
    "    \"\"\"\n",
    "    - Uncomment in obi-one/.env.run-local before \"make run-local\": \n",
    "        export ENTITYCORE_URL=https://staging.openbraininstitute.org/api/entitycore\n",
    "    \"\"\"\n",
    "    entitycore_api_url = \"https://staging.openbraininstitute.org/api/entitycore\"\n",
    "\n",
    "# elif database_environment == DatabaseEnvironment.PRODUCTION_DATABASE:\n",
    "#     \"\"\"\n",
    "#     For future: EntityCore not currently in production.\n",
    "#     - Uncomment in obi-one/.env.run-local before \"make run-local\": \n",
    "#         export ENTITYCORE_URL=https://www.openbraininstitute.org/api/entitycore\n",
    "#     \"\"\"\n",
    "#     entitycore_api_url = \"https://www.openbraininstitute.org/api/entitycore\"\n",
    "\n",
    "elif DatabaseEnvironment.LOCAL_UNAUTHENTICATED:\n",
    "    \"\"\"\n",
    "    Not yet tested.\n",
    "    - Launch entitycore locally (make run-local)\n",
    "    - Add a morphology with a project name (see entitysdk)\n",
    "    \"\"\"\n",
    "    entitycore_api_url = \"https://127.0.1:8000/api/entitycore\"\n",
    "\n",
    "elif DatabaseEnvironment.LOCAL_AUTHENTICATED:\n",
    "    \"\"\"\n",
    "    Not yet tested.\n",
    "    - Change APP_DISABLE_AUTH to False in entitycore/.env.run-local\n",
    "    - Launch entitycore locally (make run-local)\n",
    "    - Add a morphology with a project name (see entitysdk morphology.ipynb example)\n",
    "    \"\"\"\n",
    "    entitycore_api_url = \"https://127.0.1:8000/api/entitycore\"\n",
    "    \n",
    "else:\n",
    "    raise ValueError(f\"Unsupported environment: {database_environment}\")\n",
    "\n",
    "\n",
    "token = get_token(environment=\"staging\")\n",
    "print(token)\n",
    "project_context = ProjectContext(virtual_lab_id=virtual_lab_id, project_id=project_id)\n",
    "client = Client(api_url=entitycore_api_url, project_context=project_context)"
   ]
  },
  {
   "cell_type": "markdown",
   "id": "8133b3c7",
   "metadata": {},
   "source": [
    "# Fetch a morphology"
   ]
  },
  {
   "cell_type": "code",
   "execution_count": 2,
   "id": "156f19a0",
   "metadata": {},
   "outputs": [],
   "source": [
    "from entitysdk.models.morphology import (\n",
    "    ReconstructionMorphology,\n",
    ")\n",
    "kwargs = {}\n",
    "reconstruction_morphologies = client.search_entity(\n",
    "    entity_type=ReconstructionMorphology, query=kwargs, token=token, limit=10\n",
    ").all()\n",
    "\n",
    "reconstruction_morphology_id = reconstruction_morphologies[0].id"
   ]
  },
  {
   "cell_type": "markdown",
   "id": "71444d78",
   "metadata": {},
   "source": [
    "# Call the declared morphology metrics endpoint"
   ]
  },
  {
   "cell_type": "code",
   "execution_count": 3,
   "id": "2d1cf069",
   "metadata": {},
   "outputs": [
    {
     "name": "stdout",
     "output_type": "stream",
     "text": [
      "Success: {'aspect_ratio': 0.8852763978166994, 'circularity': 0.8403189319730738, 'length_fraction_above_soma': 0.7324050068855286, 'max_radial_distance': 3919.52734375, 'number_of_neurites': 9, 'soma_radius': 2.759981632232666, 'soma_surface_area': 95.72431182861328}\n"
     ]
    }
   ],
   "source": [
    "# Construct the full endpoint URL\n",
    "url = f\"{obi_one_api_url}/declared/neuron-morphology-metrics/{reconstruction_morphology_id}\"\n",
    "\n",
    "# Set headers\n",
    "headers = {\n",
    "    \"Authorization\": f\"Bearer {token}\",\n",
    "    \"Accept\": \"application/json\"\n",
    "}\n",
    "\n",
    "# Optionally include optional headers if they are set\n",
    "if virtual_lab_id:\n",
    "    headers[\"virtual-lab-id\"] = virtual_lab_id\n",
    "if project_id:\n",
    "    headers[\"project-id\"] = project_id\n",
    "\n",
    "# Make the GET request\n",
    "response = requests.get(url, headers=headers)\n",
    "\n",
    "# Check the response\n",
    "if response.status_code == 200:\n",
    "    data = response.json()\n",
    "    print(\"Success:\", data)\n",
    "else:\n",
    "    print(f\"Error {response.status_code}: {response.text}\")\n"
   ]
  },
  {
   "cell_type": "markdown",
   "id": "4a55fb1b",
   "metadata": {},
   "source": [
    "# Call the generated morphology metrics endpoint"
   ]
  },
  {
   "cell_type": "code",
   "execution_count": 4,
   "id": "131dd952",
   "metadata": {},
   "outputs": [
    {
     "name": "stdout",
     "output_type": "stream",
     "text": [
      "Success: None\n"
     ]
    }
   ],
   "source": [
    "import requests\n",
    "\n",
    "# Construct the full endpoint URL\n",
    "url = f\"{obi_one_api_url}/generated/morphology-metrics-run-grid\"\n",
    "\n",
    "# Prepare headers\n",
    "headers = {\n",
    "    \"Authorization\": f\"Bearer {token}\",\n",
    "    \"Accept\": \"application/json\",\n",
    "    \"Content-Type\": \"application/json\"\n",
    "}\n",
    "\n",
    "# Optionally include optional headers if they are set\n",
    "if virtual_lab_id:\n",
    "    headers[\"virtual-lab-id\"] = virtual_lab_id\n",
    "if project_id:\n",
    "    headers[\"project-id\"] = project_id\n",
    "\n",
    "# Construct request body — adjust this with the actual morphology metrics form data!\n",
    "# Placeholder example:\n",
    "request_body = {\n",
    "  \"type\": \"MorphologyMetricsForm\",\n",
    "  \"initialize\": {\n",
    "    \"type\": \"MorphologyMetricsForm.Initialize\",\n",
    "    \"morphology\": {\n",
    "      \"id_str\": str(reconstruction_morphology_id),\n",
    "      \"additionalProp1\": {}\n",
    "    }\n",
    "  }\n",
    "}\n",
    "\n",
    "# Make the POST request\n",
    "response = requests.post(url, headers=headers, json=request_body)\n",
    "\n",
    "# Check the response\n",
    "if response.status_code == 200:\n",
    "    data = response.json()\n",
    "    print(\"Success:\", data)\n",
    "else:\n",
    "    print(f\"Error {response.status_code}: {response.text}\")"
   ]
  },
  {
   "cell_type": "code",
   "execution_count": null,
   "id": "0e792362",
   "metadata": {},
   "outputs": [
    {
     "name": "stderr",
     "output_type": "stream",
     "text": [
      "/Users/james/Documents/obi/code/obi-one/obi_one/scientific/basic_connectivity_plots/helpers.py:20: UserWarning: Connectome functionalities not available\n",
      "  warnings.warn(\"Connectome functionalities not available\", UserWarning, stacklevel=1)\n",
      "/Users/james/Documents/obi/code/obi-one/obi_one/scientific/basic_connectivity_plots/basic_connectivity_plots.py:31: UserWarning: Connectome functionalities not available\n",
      "  warnings.warn(\"Connectome functionalities not available\", UserWarning, stacklevel=1)\n"
     ]
    },
    {
     "ename": "TypeError",
     "evalue": "EntityFromID.entity() got an unexpected keyword argument 'entity_client'",
     "output_type": "error",
     "traceback": [
      "\u001b[31m---------------------------------------------------------------------------\u001b[39m",
      "\u001b[31mTypeError\u001b[39m                                 Traceback (most recent call last)",
      "\u001b[36mCell\u001b[39m\u001b[36m \u001b[39m\u001b[32mIn[5]\u001b[39m\u001b[32m, line 12\u001b[39m\n\u001b[32m      6\u001b[39m \u001b[38;5;66;03m# Initialize the database\u001b[39;00m\n\u001b[32m      7\u001b[39m obi.db.initialize(virtual_lab_id=\u001b[33m\"\u001b[39m\u001b[33me6030ed8-a589-4be2-80a6-f975406eb1f6\u001b[39m\u001b[33m\"\u001b[39m, \n\u001b[32m      8\u001b[39m                     project_id=\u001b[33m\"\u001b[39m\u001b[33m2720f785-a3a2-4472-969d-19a53891c817\u001b[39m\u001b[33m\"\u001b[39m,\n\u001b[32m      9\u001b[39m                     entitycore_api_url=entitycore_api_url\n\u001b[32m     10\u001b[39m                     )\n\u001b[32m---> \u001b[39m\u001b[32m12\u001b[39m \u001b[43mobi\u001b[49m\u001b[43m.\u001b[49m\u001b[43mReconstructionMorphologyFromID\u001b[49m\u001b[43m(\u001b[49m\u001b[43mid_str\u001b[49m\u001b[43m=\u001b[49m\u001b[38;5;28;43mstr\u001b[39;49m\u001b[43m(\u001b[49m\u001b[43mreconstruction_morphology_id\u001b[49m\u001b[43m)\u001b[49m\u001b[43m)\u001b[49m\u001b[43m.\u001b[49m\u001b[43mentity\u001b[49m\u001b[43m(\u001b[49m\u001b[43mentity_client\u001b[49m\u001b[43m=\u001b[49m\u001b[43mobi\u001b[49m\u001b[43m.\u001b[49m\u001b[43mdb\u001b[49m\u001b[43m.\u001b[49m\u001b[43mclient\u001b[49m\u001b[43m)\u001b[49m\n\u001b[32m     13\u001b[39m obi.ReconstructionMorphologyFromID(id_str=\u001b[38;5;28mstr\u001b[39m(reconstruction_morphology_id)).neurom_morphology(client=obi.db.client)\n",
      "\u001b[31mTypeError\u001b[39m: EntityFromID.entity() got an unexpected keyword argument 'entity_client'"
     ]
    }
   ],
   "source": [
    "import obi_one as obi\n",
    "\n",
    "# entitycore_api_url = \"http://127.0.0.1:8000\"\n",
    "entitycore_api_url = \"https://staging.openbraininstitute.org/api/entitycore\"\n",
    "\n",
    "# Initialize the database\n",
    "obi.db.initialize(virtual_lab_id=\"e6030ed8-a589-4be2-80a6-f975406eb1f6\", \n",
    "                    project_id=\"2720f785-a3a2-4472-969d-19a53891c817\",\n",
    "                    entitycore_api_url=entitycore_api_url\n",
    "                    )\n",
    "\n",
    "obi.ReconstructionMorphologyFromID(id_str=str(reconstruction_morphology_id)).entity(db_client=obi.db.client)\n",
    "obi.ReconstructionMorphologyFromID(id_str=str(reconstruction_morphology_id)).neurom_morphology(db_client=obi.db.client)"
   ]
  },
  {
   "cell_type": "code",
   "execution_count": null,
   "id": "5cb89e06",
   "metadata": {},
   "outputs": [],
   "source": []
  }
 ],
 "metadata": {
  "kernelspec": {
   "display_name": ".venv",
   "language": "python",
   "name": "python3"
  },
  "language_info": {
   "codemirror_mode": {
    "name": "ipython",
    "version": 3
   },
   "file_extension": ".py",
   "mimetype": "text/x-python",
   "name": "python",
   "nbconvert_exporter": "python",
   "pygments_lexer": "ipython3",
   "version": "3.12.9"
  }
 },
 "nbformat": 4,
 "nbformat_minor": 5
}
