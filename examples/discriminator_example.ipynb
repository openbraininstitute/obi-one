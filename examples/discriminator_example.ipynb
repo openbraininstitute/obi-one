{
 "cells": [
  {
   "cell_type": "code",
   "execution_count": null,
   "id": "a1156470",
   "metadata": {},
   "outputs": [
    {
     "name": "stdout",
     "output_type": "stream",
     "text": [
      "ANIMAL\n",
      "Dog(name='Buddy', dog_type=SecondDogType(breed='Poodle', type='SecondDogType'), type='Dog')\n",
      "<class '__main__.SecondDogType'>\n",
      "\n",
      "\n",
      "DOG\n",
      "Dog(name='Buddy', dog_type=SecondDogType(breed='Poodle', type='SecondDogType'), type='Dog')\n",
      "<class '__main__.SecondDogType'>\n",
      "\n",
      "\n",
      "{'name': 'Buddy', 'dog_type': {'breed': 'Poodle', 'type': 'SecondDogType'}, 'type': 'Dog'}\n"
     ]
    }
   ],
   "source": [
    "from pydantic import BaseModel, ConfigDict, Discriminator\n",
    "from typing import Annotated, Union\n",
    "\n",
    "\n",
    "class OBIBaseModel(BaseModel):\n",
    "    model_config = ConfigDict(extra=\"forbid\")\n",
    "    type: str\n",
    "\n",
    "    def __init_subclass__(cls, **kwargs) -> None:\n",
    "        \"\"\"Dynamically set the `type` field to the class name.\"\"\"\n",
    "        super().__init_subclass__(**kwargs)\n",
    "        cls.__annotations__[\"type\"] = Literal[cls.__qualname__]\n",
    "\n",
    "    def __str__(self) -> str:\n",
    "        \"\"\"Return a string representation of the OBIBaseModel object.\"\"\"\n",
    "        return self.__repr__()\n",
    "\n",
    "\n",
    "\n",
    "class Cat(OBIBaseModel):\n",
    "    name: str\n",
    "\n",
    "\n",
    "class DogType(OBIBaseModel):\n",
    "    breed: str\n",
    "\n",
    "\n",
    "class FirstDogType(DogType):\n",
    "    breed: str = \"Golden Retriever\"\n",
    "\n",
    "\n",
    "class SecondDogType(DogType):\n",
    "    breed: str = \"Poodle\"\n",
    "\n",
    "\n",
    "class Dog(OBIBaseModel):\n",
    "    name: str\n",
    "    dog_type: Annotated[Union[FirstDogType, SecondDogType], Discriminator('type')]\n",
    "\n",
    "\n",
    "# Discriminated Union\n",
    "Animal = Annotated[Union[Cat, Dog], Discriminator('type')]\n",
    "from pydantic import TypeAdapter\n",
    "adapter = TypeAdapter(Animal)\n",
    "\n",
    "# Example input\n",
    "json_data = {\n",
    "    \"type\": \"Dog\",\n",
    "    \"name\": \"Buddy\",\n",
    "    \"dog_type\": {\n",
    "        \"type\": \"SecondDogType\"\n",
    "    }\n",
    "}\n",
    "\n",
    "# Deserialize\n",
    "animal = adapter.validate_python(json_data)\n",
    "print(\"ANIMAL\")\n",
    "print(animal)\n",
    "print(type(animal.dog_type))\n",
    "print(\"\\n\")\n",
    "\n",
    "print(\"DOG\")\n",
    "dog = Dog.model_validate(json_data)\n",
    "print(dog)\n",
    "print(type(dog.dog_type))\n",
    "print(\"\\n\")\n",
    "\n",
    "# Serialize\n",
    "print(animal.model_dump())"
   ]
  },
  {
   "cell_type": "code",
   "execution_count": null,
   "id": "69a97b2a",
   "metadata": {},
   "outputs": [],
   "source": []
  }
 ],
 "metadata": {
  "kernelspec": {
   "display_name": "obi-one (3.12.9)",
   "language": "python",
   "name": "python3"
  },
  "language_info": {
   "codemirror_mode": {
    "name": "ipython",
    "version": 3
   },
   "file_extension": ".py",
   "mimetype": "text/x-python",
   "name": "python",
   "nbconvert_exporter": "python",
   "pygments_lexer": "ipython3",
   "version": "3.12.9"
  }
 },
 "nbformat": 4,
 "nbformat_minor": 5
}
