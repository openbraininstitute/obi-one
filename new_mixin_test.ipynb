{
 "cells": [
  {
   "cell_type": "code",
   "execution_count": 3,
   "metadata": {},
   "outputs": [
    {
     "ename": "ValidationError",
     "evalue": "2 validation errors for SynchronousSingleSpikeStimulus\nnested_param1\n  Field required [type=missing, input_value={'spike_probability': [0...., neuron_ids=(1, 2, 3))}, input_type=dict]\n    For further information visit https://errors.pydantic.dev/2.10/v/missing\nnested_param2\n  Field required [type=missing, input_value={'spike_probability': [0...., neuron_ids=(1, 2, 3))}, input_type=dict]\n    For further information visit https://errors.pydantic.dev/2.10/v/missing",
     "output_type": "error",
     "traceback": [
      "\u001b[0;31m---------------------------------------------------------------------------\u001b[0m",
      "\u001b[0;31mValidationError\u001b[0m                           Traceback (most recent call last)",
      "Cell \u001b[0;32mIn[3], line 9\u001b[0m\n\u001b[1;32m      7\u001b[0m neuron_circuit_grouping_1 \u001b[38;5;241m=\u001b[39m obi2\u001b[38;5;241m.\u001b[39mNeuronCircuitGrouping(circuit\u001b[38;5;241m=\u001b[39msimulation_initialization\u001b[38;5;241m.\u001b[39mcircuit, neuron_ids\u001b[38;5;241m=\u001b[39m(\u001b[38;5;241m1\u001b[39m, \u001b[38;5;241m2\u001b[39m, \u001b[38;5;241m3\u001b[39m))\n\u001b[1;32m      8\u001b[0m timestamps_1 \u001b[38;5;241m=\u001b[39m obi2\u001b[38;5;241m.\u001b[39mRegularTimestamps(start_time\u001b[38;5;241m=\u001b[39m\u001b[38;5;241m0.0\u001b[39m, number_of_repetitions\u001b[38;5;241m=\u001b[39m\u001b[38;5;241m1\u001b[39m, interval\u001b[38;5;241m=\u001b[39m[\u001b[38;5;241m1.0\u001b[39m, \u001b[38;5;241m5.0\u001b[39m])\n\u001b[0;32m----> 9\u001b[0m stimulus_1 \u001b[38;5;241m=\u001b[39m \u001b[43mobi2\u001b[49m\u001b[38;5;241;43m.\u001b[39;49m\u001b[43mSynchronousSingleSpikeStimulus\u001b[49m\u001b[43m(\u001b[49m\u001b[43mspike_probability\u001b[49m\u001b[38;5;241;43m=\u001b[39;49m\u001b[43m[\u001b[49m\u001b[38;5;241;43m0.5\u001b[39;49m\u001b[43m,\u001b[49m\u001b[43m \u001b[49m\u001b[38;5;241;43m0.8\u001b[39;49m\u001b[43m]\u001b[49m\u001b[43m,\u001b[49m\u001b[43m \u001b[49m\u001b[43mtimestamps\u001b[49m\u001b[38;5;241;43m=\u001b[39;49m\u001b[43mtimestamps_1\u001b[49m\u001b[43m,\u001b[49m\u001b[43m \u001b[49m\u001b[43mcircuit_grouping\u001b[49m\u001b[38;5;241;43m=\u001b[39;49m\u001b[43mneuron_circuit_grouping_1\u001b[49m\u001b[43m)\u001b[49m\n\u001b[1;32m     10\u001b[0m recording_1 \u001b[38;5;241m=\u001b[39m obi2\u001b[38;5;241m.\u001b[39mRecording(start_time\u001b[38;5;241m=\u001b[39m\u001b[38;5;241m0.0\u001b[39m, end_time\u001b[38;5;241m=\u001b[39m\u001b[38;5;241m1.0\u001b[39m, circuit_grouping\u001b[38;5;241m=\u001b[39mneuron_circuit_grouping_1)\n\u001b[1;32m     14\u001b[0m simulation_campaign_template \u001b[38;5;241m=\u001b[39m obi2\u001b[38;5;241m.\u001b[39mSimulationCampaignTemplate(initialize\u001b[38;5;241m=\u001b[39msimulation_initialization,\n\u001b[1;32m     15\u001b[0m                                     circuit_groupings\u001b[38;5;241m=\u001b[39m{\u001b[38;5;124m\"\u001b[39m\u001b[38;5;124mneuron_circuit_grouping_1\u001b[39m\u001b[38;5;124m\"\u001b[39m: neuron_circuit_grouping_1},  \n\u001b[1;32m     16\u001b[0m                                     timestamps\u001b[38;5;241m=\u001b[39m{\u001b[38;5;124m\"\u001b[39m\u001b[38;5;124mtimestamps_1\u001b[39m\u001b[38;5;124m\"\u001b[39m: timestamps_1}, \n\u001b[1;32m     17\u001b[0m                                     stimuli\u001b[38;5;241m=\u001b[39m{\u001b[38;5;124m\"\u001b[39m\u001b[38;5;124mstimulus_1\u001b[39m\u001b[38;5;124m\"\u001b[39m: stimulus_1}, \n\u001b[1;32m     18\u001b[0m                                     recordings\u001b[38;5;241m=\u001b[39m{\u001b[38;5;124m\"\u001b[39m\u001b[38;5;124mrecording_1\u001b[39m\u001b[38;5;124m\"\u001b[39m: recording_1}\n\u001b[1;32m     19\u001b[0m                                     )\n",
      "File \u001b[0;32m~/Documents/obi/code/pydantic_test-venv-3-11--6-2-25/lib/python3.11/site-packages/pydantic/main.py:214\u001b[0m, in \u001b[0;36mBaseModel.__init__\u001b[0;34m(self, **data)\u001b[0m\n\u001b[1;32m    212\u001b[0m \u001b[38;5;66;03m# `__tracebackhide__` tells pytest and some other tools to omit this function from tracebacks\u001b[39;00m\n\u001b[1;32m    213\u001b[0m __tracebackhide__ \u001b[38;5;241m=\u001b[39m \u001b[38;5;28;01mTrue\u001b[39;00m\n\u001b[0;32m--> 214\u001b[0m validated_self \u001b[38;5;241m=\u001b[39m \u001b[38;5;28;43mself\u001b[39;49m\u001b[38;5;241;43m.\u001b[39;49m\u001b[43m__pydantic_validator__\u001b[49m\u001b[38;5;241;43m.\u001b[39;49m\u001b[43mvalidate_python\u001b[49m\u001b[43m(\u001b[49m\u001b[43mdata\u001b[49m\u001b[43m,\u001b[49m\u001b[43m \u001b[49m\u001b[43mself_instance\u001b[49m\u001b[38;5;241;43m=\u001b[39;49m\u001b[38;5;28;43mself\u001b[39;49m\u001b[43m)\u001b[49m\n\u001b[1;32m    215\u001b[0m \u001b[38;5;28;01mif\u001b[39;00m \u001b[38;5;28mself\u001b[39m \u001b[38;5;129;01mis\u001b[39;00m \u001b[38;5;129;01mnot\u001b[39;00m validated_self:\n\u001b[1;32m    216\u001b[0m     warnings\u001b[38;5;241m.\u001b[39mwarn(\n\u001b[1;32m    217\u001b[0m         \u001b[38;5;124m'\u001b[39m\u001b[38;5;124mA custom validator is returning a value other than `self`.\u001b[39m\u001b[38;5;130;01m\\n\u001b[39;00m\u001b[38;5;124m'\u001b[39m\n\u001b[1;32m    218\u001b[0m         \u001b[38;5;124m\"\u001b[39m\u001b[38;5;124mReturning anything other than `self` from a top level model validator isn\u001b[39m\u001b[38;5;124m'\u001b[39m\u001b[38;5;124mt supported when validating via `__init__`.\u001b[39m\u001b[38;5;130;01m\\n\u001b[39;00m\u001b[38;5;124m\"\u001b[39m\n\u001b[1;32m    219\u001b[0m         \u001b[38;5;124m'\u001b[39m\u001b[38;5;124mSee the `model_validator` docs (https://docs.pydantic.dev/latest/concepts/validators/#model-validators) for more details.\u001b[39m\u001b[38;5;124m'\u001b[39m,\n\u001b[1;32m    220\u001b[0m         stacklevel\u001b[38;5;241m=\u001b[39m\u001b[38;5;241m2\u001b[39m,\n\u001b[1;32m    221\u001b[0m     )\n",
      "\u001b[0;31mValidationError\u001b[0m: 2 validation errors for SynchronousSingleSpikeStimulus\nnested_param1\n  Field required [type=missing, input_value={'spike_probability': [0...., neuron_ids=(1, 2, 3))}, input_type=dict]\n    For further information visit https://errors.pydantic.dev/2.10/v/missing\nnested_param2\n  Field required [type=missing, input_value={'spike_probability': [0...., neuron_ids=(1, 2, 3))}, input_type=dict]\n    For further information visit https://errors.pydantic.dev/2.10/v/missing"
     ]
    }
   ],
   "source": [
    "import obi2\n",
    "\n",
    "simulation_initialization = obi2.Simulation.Initialization(\n",
    "    circuit=obi2.Circuit(circuit_path=\"circuit_1\", node_set='hex0'),\n",
    "    simulation_length=100\n",
    ")\n",
    "neuron_circuit_grouping_1 = obi2.NeuronCircuitGrouping(circuit=simulation_initialization.circuit, neuron_ids=(1, 2, 3))\n",
    "timestamps_1 = obi2.RegularTimestamps(start_time=0.0, number_of_repetitions=1, interval=[1.0, 5.0])\n",
    "stimulus_1 = obi2.SynchronousSingleSpikeStimulus(spike_probability=[0.5, 0.8], timestamps=timestamps_1, circuit_grouping=neuron_circuit_grouping_1)\n",
    "recording_1 = obi2.Recording(start_time=0.0, end_time=1.0, circuit_grouping=neuron_circuit_grouping_1)\n",
    "\n",
    "\n",
    "\n",
    "simulation_campaign_template = obi2.SimulationCampaignTemplate(initialize=simulation_initialization,\n",
    "                                    circuit_groupings={\"neuron_circuit_grouping_1\": neuron_circuit_grouping_1},  \n",
    "                                    timestamps={\"timestamps_1\": timestamps_1}, \n",
    "                                    stimuli={\"stimulus_1\": stimulus_1}, \n",
    "                                    recordings={\"recording_1\": recording_1}\n",
    "                                    )\n",
    "\n",
    "campaign = obi2.Campaign(template_instance=simulation_campaign_template)\n",
    "\n",
    "print(campaign.coord_instances)\n",
    "# print(simulation_campaign_template.multi_params)\n",
    "# print(simulation_campaign_template.generate_grid_scan_coords())\n"
   ]
  },
  {
   "cell_type": "code",
   "execution_count": null,
   "metadata": {},
   "outputs": [],
   "source": []
  }
 ],
 "metadata": {
  "kernelspec": {
   "display_name": "pydantic_test-venv-3-11--6-2-25",
   "language": "python",
   "name": "python3"
  },
  "language_info": {
   "codemirror_mode": {
    "name": "ipython",
    "version": 3
   },
   "file_extension": ".py",
   "mimetype": "text/x-python",
   "name": "python",
   "nbconvert_exporter": "python",
   "pygments_lexer": "ipython3",
   "version": "3.11.11"
  }
 },
 "nbformat": 4,
 "nbformat_minor": 2
}
