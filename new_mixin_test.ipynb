{
 "cells": [
  {
   "cell_type": "code",
   "execution_count": 1,
   "metadata": {},
   "outputs": [
    {
     "name": "stdout",
     "output_type": "stream",
     "text": [
      "[Simulation(nested={'config': Stimulus(nested_param1=1.5, nested_param2=3.5)}), Simulation(nested={'config': Stimulus(nested_param1=1.5, nested_param2=7.0)}), Simulation(nested={'config': Stimulus(nested_param1=2.5, nested_param2=3.5)}), Simulation(nested={'config': Stimulus(nested_param1=2.5, nested_param2=7.0)})]\n"
     ]
    }
   ],
   "source": [
    "# from typing import Any, List, Union, Dict\n",
    "# from pydantic import BaseModel, field_validator, ValidationError, PrivateAttr\n",
    "\n",
    "\n",
    "import obi2\n",
    "\n",
    "\n",
    "nested_multi = obi2.Stimulus(nested_param1=[1.5, 2.5], nested_param2=[3.5, 7.0])\n",
    "simulation_campaign_template = obi2.SimulationCampaignTemplate(nested={\"config\": nested_multi})\n",
    "campaign = obi2.Campaign(template_instance=simulation_campaign_template)\n",
    "print(campaign.coord_instances)\n",
    "\n",
    "# print(simulation_campaign_template.multi_params)\n",
    "# print(simulation_campaign_template.generate_grid_scan_coords())\n",
    "\n",
    "\n",
    "\n",
    "\n",
    "\n",
    "\n",
    "\n",
    "\n",
    "\n",
    "\n"
   ]
  },
  {
   "cell_type": "code",
   "execution_count": null,
   "metadata": {},
   "outputs": [],
   "source": [
    "# # Valid Simulation instance (SingleType) with direct nested object\n",
    "# nested_single = Stimulus(nested_param1=1.5, nested_param2=2.5)  # ✅ Must be single floats\n",
    "# print(nested_single)\n",
    "# simulation = Simulation(param1=2.0, param2=3.0, nested={\"config\": nested_single})\n",
    "# print(simulation)\n",
    "\n",
    "# Valid SimulationCampaignTemplate instance (MultiType) with direct nested object\n",
    "\n",
    "# # Valid Simulation with nested dictionary containing BaseModel\n",
    "# simulation_with_dict = Simulation(\n",
    "#     param1=2.0, \n",
    "#     param2=3.0, \n",
    "#     nested={\"config\": Stimulus(nested_param1=2.2, nested_param2=4.4)}\n",
    "# )\n",
    "# print(simulation_with_dict)\n",
    "\n",
    "# # Valid SimulationCampaignTemplate with nested dictionary containing BaseModel\n",
    "# simulation_campaign_template_with_dict = SimulationCampaignTemplate(\n",
    "#     param1=[2.0, 4.0], \n",
    "#     param2=3.0, \n",
    "#     nested={\"config\": Stimulus(nested_param1=[1.1, 2.2], nested_param2=3.3)}\n",
    "# )\n",
    "# print(simulation_campaign_template_with_dict)\n",
    "\n",
    "# print(\"\\nNew Test\\n\")\n",
    "\n",
    "\n",
    "\n",
    "# ❌ Nested dictionary contains a BaseModel with a list (not allowed in Simulation)\n",
    "try:\n",
    "    invalid_simulation_dict = Simulation(\n",
    "        param1=2.0, \n",
    "        param2=3.0, \n",
    "        nested={\"config\": Stimulus(nested_param1=[1.5, 2.5], nested_param2=3.5)}\n",
    "    )\n",
    "except ValueError as e:\n",
    "    print(e)\n",
    "\n",
    "# ❌ Nested dictionary contains a BaseModel with a string (not allowed in SimulationCampaignTemplate)\n",
    "try:\n",
    "    invalid_simulation_campaign_template_dict = SimulationCampaignTemplate(\n",
    "        param1=[2.0, 4.0], \n",
    "        param2=3.0, \n",
    "        nested={\"config\": Stimulus(nested_param1=\"invalid\", nested_param2=3.5)}\n",
    "    )\n",
    "except ValueError as e:\n",
    "    print(e)"
   ]
  }
 ],
 "metadata": {
  "kernelspec": {
   "display_name": "pydantic_test-venv-3-11--6-2-25",
   "language": "python",
   "name": "python3"
  },
  "language_info": {
   "codemirror_mode": {
    "name": "ipython",
    "version": 3
   },
   "file_extension": ".py",
   "mimetype": "text/x-python",
   "name": "python",
   "nbconvert_exporter": "python",
   "pygments_lexer": "ipython3",
   "version": "3.11.11"
  }
 },
 "nbformat": 4,
 "nbformat_minor": 2
}
